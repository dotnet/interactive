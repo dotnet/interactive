{
 "cells": [
  {
   "cell_type": "markdown",
   "metadata": {},
   "source": [
    "# Question answering using fusion retriever architecture\n",
    "This notebook builds ontop of [Question answering using embeddings-based search](Question_answering_using_embeddings.ipynb) but the data will be loaded from wikipedia using [llamaindex](https://www.llamaindex.ai/)"
   ]
  },
  {
   "cell_type": "markdown",
   "metadata": {},
   "source": [
    "## Installation\n",
    "Install the Azure Open AI SDK using the below command."
   ]
  },
  {
   "cell_type": "code",
   "execution_count": 1,
   "metadata": {
    "dotnet_interactive": {
     "language": "csharp"
    },
    "polyglot_notebook": {
     "kernelName": "csharp"
    }
   },
   "outputs": [
    {
     "data": {
      "text/html": [
       "<div><div></div><div></div><div><strong>Installed Packages</strong><ul><li><span>Azure.AI.OpenAI, 1.0.0-beta.12</span></li></ul></div></div>"
      ]
     },
     "metadata": {},
     "output_type": "display_data"
    }
   ],
   "source": [
    "#r \"nuget: Azure.AI.OpenAI, 1.0.0-beta.12\""
   ]
  },
  {
   "cell_type": "code",
   "execution_count": null,
   "metadata": {
    "dotnet_interactive": {
     "language": "csharp"
    },
    "polyglot_notebook": {
     "kernelName": "csharp"
    }
   },
   "outputs": [],
   "source": [
    "#r \"nuget:Microsoft.DotNet.Interactive.AIUtilities, 1.0.0-beta.24054.2\"\n",
    "\n",
    "using Microsoft.DotNet.Interactive;\n",
    "using Microsoft.DotNet.Interactive.AIUtilities;"
   ]
  },
  {
   "cell_type": "markdown",
   "metadata": {},
   "source": [
    "## Run this cell, it will prompt you for the apiKey, endPoint, and chatDeployment"
   ]
  },
  {
   "cell_type": "code",
   "execution_count": 3,
   "metadata": {
    "dotnet_interactive": {
     "language": "csharp"
    },
    "polyglot_notebook": {
     "kernelName": "csharp"
    }
   },
   "outputs": [],
   "source": [
    "var azureOpenAIKey = await Kernel.GetPasswordAsync(\"Provide your OPEN_AI_KEY\");\n",
    "\n",
    "// Your endpoint should look like the following https://YOUR_OPEN_AI_RESOURCE_NAME.openai.azure.com/\n",
    "var azureOpenAIEndpoint = await Kernel.GetInputAsync(\"Provide the OPEN_AI_ENDPOINT\");\n",
    "\n",
    "// Enter the deployment name you chose when you deployed the model.\n",
    "var chatDeployment = await Kernel.GetInputAsync(\"Provide chat deployment name\");"
   ]
  },
  {
   "cell_type": "markdown",
   "metadata": {},
   "source": [
    "### Import namesapaces and create an instance of `OpenAiClient` using the `azureOpenAIEndpoint` and the `azureOpenAIKey`"
   ]
  },
  {
   "cell_type": "code",
   "execution_count": 4,
   "metadata": {
    "dotnet_interactive": {
     "language": "csharp"
    },
    "polyglot_notebook": {
     "kernelName": "csharp"
    }
   },
   "outputs": [],
   "source": [
    "using Azure;\n",
    "using Azure.AI.OpenAI;"
   ]
  },
  {
   "cell_type": "code",
   "execution_count": 5,
   "metadata": {
    "dotnet_interactive": {
     "language": "csharp"
    },
    "polyglot_notebook": {
     "kernelName": "csharp"
    }
   },
   "outputs": [],
   "source": [
    "OpenAIClient client = new (new Uri(azureOpenAIEndpoint), new AzureKeyCredential(azureOpenAIKey.GetClearTextPassword()));"
   ]
  },
  {
   "cell_type": "markdown",
   "metadata": {},
   "source": [
    "## 1. Prepare search data\n",
    "We need to use python to load and index data. Read the [guide](https://github.com/dotnet/interactive/blob/main/docs/jupyter-in-polyglot-notebooks.md) to get started with python in Polyglot Notebooks and this [doc](https://github.com/dotnet/interactive/blob/main/docs/adding-jupyter-kernels.md) on how to connect.\n",
    "First we need to connect a Python Kernel, in this example we are using [Anaconda](https://www.anaconda.com/) based deployment and a conda environment called `AI`.\n",
    "The environment retuires the following packages:\n",
    "- [LlamaIndex](https://docs.llamaindex.ai/en/stable/getting_started/installation.html)\n",
    "- [HuggingFace](https://huggingface.co/docs/huggingface_hub/installation)\n",
    "- [wikipedia](https://github.com/goldsmith/Wikipedia)"
   ]
  },
  {
   "cell_type": "code",
   "execution_count": 6,
   "metadata": {
    "dotnet_interactive": {
     "language": "csharp"
    },
    "polyglot_notebook": {
     "kernelName": "csharp"
    }
   },
   "outputs": [
    {
     "data": {
      "text/markdown": [
       "The `#!connect jupyter` feature is in preview. Please report any feedback or issues at https://github.com/dotnet/interactive/issues/new/choose."
      ]
     },
     "metadata": {},
     "output_type": "display_data"
    },
    {
     "data": {
      "text/plain": [
       "Kernel added: #!python3"
      ]
     },
     "metadata": {},
     "output_type": "display_data"
    }
   ],
   "source": [
    "#!connect jupyter --kernel-name python3 --kernel-spec python3 --conda-env AI"
   ]
  },
  {
   "cell_type": "code",
   "execution_count": 17,
   "metadata": {
    "dotnet_interactive": {
     "language": "csharp"
    },
    "polyglot_notebook": {
     "kernelName": "csharp"
    }
   },
   "outputs": [],
   "source": [
    "using System.Linq;\n",
    "using System.Text.Json;\n",
    "using Microsoft.DotNet.Interactive;\n",
    "using Microsoft.DotNet.Interactive.Commands;\n",
    "using Microsoft.DotNet.Interactive.Events;\n",
    "using Microsoft.DotNet.Interactive.Formatting;"
   ]
  },
  {
   "cell_type": "code",
   "execution_count": 18,
   "metadata": {
    "dotnet_interactive": {
     "language": "csharp"
    },
    "polyglot_notebook": {
     "kernelName": "csharp"
    }
   },
   "outputs": [],
   "source": [
    "var pythonKernel = Kernel.Root.FindKernelByName(\"python3\");"
   ]
  },
  {
   "cell_type": "markdown",
   "metadata": {},
   "source": [
    "Exporting values to `python3` kernel"
   ]
  },
  {
   "cell_type": "code",
   "execution_count": 7,
   "metadata": {
    "dotnet_interactive": {
     "language": "csharp"
    },
    "polyglot_notebook": {
     "kernelName": "csharp"
    }
   },
   "outputs": [],
   "source": [
    "var azureOpenAIKeyAsString = azureOpenAIKey.GetClearTextPassword();"
   ]
  },
  {
   "cell_type": "code",
   "execution_count": 8,
   "metadata": {
    "dotnet_interactive": {
     "language": "python3"
    },
    "polyglot_notebook": {
     "kernelName": "python3"
    }
   },
   "outputs": [],
   "source": [
    "#!set --value @csharp:azureOpenAIKeyAsString --name azureOpenAIKey\n",
    "#!set --value @csharp:chatDeployment --name chatDeployment\n",
    "#!set --value @csharp:azureOpenAIEndpoint --name azureOpenAIEndpoint\n"
   ]
  },
  {
   "cell_type": "markdown",
   "metadata": {},
   "source": [
    "Now we need to setup the python kernel.\n",
    "1. import llama_index\n",
    "2. use [llamahub](https://llamahub.ai/) to load \n",
    "    1. [Wikipedia Reader](https://llamahub.ai/l/wikipedia?from=loaders)\n",
    "    2. [QueryRewritingRetrieverPack](https://llamahub.ai/l/llama_packs-fusion_retriever-query_rewrite)"
   ]
  },
  {
   "cell_type": "code",
   "execution_count": 9,
   "metadata": {
    "dotnet_interactive": {
     "language": "python3"
    },
    "polyglot_notebook": {
     "kernelName": "python3"
    }
   },
   "outputs": [],
   "source": [
    "from llama_index import download_loader\n",
    "from llama_index import Document\n",
    "from llama_index import ServiceContext\n",
    "from llama_index.embeddings import OpenAIEmbedding\n",
    "from llama_index.text_splitter import SentenceSplitter\n",
    "from llama_index.extractors import TitleExtractor\n",
    "from llama_index.ingestion import IngestionPipeline, IngestionCache\n",
    "from llama_index.llama_pack import download_llama_pack\n",
    "from llama_index.embeddings import HuggingFaceEmbedding\n",
    "from llama_index.llms import AzureOpenAI\n",
    "from typing import Any, Dict, List\n",
    "from llama_index.readers.base import BaseReader\n",
    "from llama_index.readers.schema.base import Document\n",
    "import wikipedia\n",
    "from llama_index.node_parser import ( SentenceSplitter, SemanticSplitterNodeParser)\n",
    "from llama_index.ingestion import IngestionPipeline, IngestionCache\n",
    "from llama_index import VectorStoreIndex\n",
    "from llama_index.indices.vector_store import VectorStoreIndex\n",
    "from llama_index.llama_pack.base import BaseLlamaPack\n",
    "from llama_index.schema import TextNode\n",
    "from llama_index.query_engine import RetrieverQueryEngine\n",
    "from llama_index.indices.service_context import ServiceContext\n",
    "from llama_index.retrievers import QueryFusionRetriever\n",
    "import nest_asyncio\n",
    "\n",
    "nest_asyncio.apply()\n",
    "\n",
    "llm = AzureOpenAI(\n",
    "    engine= chatDeployment,\n",
    "    model= chatDeployment,\n",
    "    temperature=0.0,\n",
    "    azure_endpoint= azureOpenAIEndpoint,\n",
    "    api_key= azureOpenAIKey,\n",
    "    api_version=\"2023-07-01-preview\"\n",
    ")\n",
    "embed_model = HuggingFaceEmbedding(model_name=\"BAAI/bge-small-en-v1.5\") \n",
    "service_context = ServiceContext.from_defaults(llm=llm, embed_model=embed_model)    \n",
    "QueryRewritingRetrieverPack = download_llama_pack(\"QueryRewritingRetrieverPack\", \"./query_rewriting_pack\")\n"
   ]
  },
  {
   "cell_type": "markdown",
   "metadata": {},
   "source": [
    "Loading documents from wikipedia using [LlamaIndex loading](https://docs.llamaindex.ai/en/stable/understanding/loading/loading.html)"
   ]
  },
  {
   "cell_type": "code",
   "execution_count": 10,
   "metadata": {
    "dotnet_interactive": {
     "language": "python3"
    },
    "polyglot_notebook": {
     "kernelName": "python3"
    }
   },
   "outputs": [],
   "source": [
    "pages = wikipedia.search(\"2022 winter olympics\")\n",
    "documents = []\n",
    "for page in pages:\n",
    "    try:\n",
    "        wikipedia.set_lang(\"en\")\n",
    "        page_content = wikipedia.page(page).content\n",
    "        documents.append(Document(text=page_content))\n",
    "    except:\n",
    "        pages.remove(page)"
   ]
  },
  {
   "cell_type": "markdown",
   "metadata": {},
   "source": [
    "Now we use a pipeline to create a set of nodes and compute embeddings. "
   ]
  },
  {
   "cell_type": "code",
   "execution_count": 11,
   "metadata": {
    "dotnet_interactive": {
     "language": "python3"
    },
    "polyglot_notebook": {
     "kernelName": "python3"
    }
   },
   "outputs": [],
   "source": [
    "splitter = SemanticSplitterNodeParser(buffer_size=1, breakpoint_percentile_threshold=95, embed_model=embed_model)       \n",
    "# create the pipeline with transformations\n",
    "pipeline = IngestionPipeline( transformations=[ splitter, embed_model ])\n",
    "# run the pipeline\n",
    "nodes = pipeline.run(documents=documents)"
   ]
  },
  {
   "cell_type": "code",
   "execution_count": 12,
   "metadata": {
    "dotnet_interactive": {
     "language": "python3"
    },
    "polyglot_notebook": {
     "kernelName": "python3"
    }
   },
   "outputs": [],
   "source": [
    "index = VectorStoreIndex(nodes, service_context=service_context)\n",
    "vector_retriever = index.as_retriever(similarity_top_k=10)\n",
    "fusion_retriever = QueryFusionRetriever(\n",
    "        [vector_retriever],\n",
    "        llm = service_context.llm,\n",
    "        similarity_top_k=10,\n",
    "        num_queries=16,  # set this to 1 to disable query generation\n",
    "        mode=\"reciprocal_rerank\",\n",
    "        # query_gen_prompt=\"...\",  # we could override the query generation prompt here\n",
    "        verbose = True\n",
    "        )"
   ]
  },
  {
   "cell_type": "code",
   "execution_count": 19,
   "metadata": {
    "dotnet_interactive": {
     "language": "csharp"
    },
    "polyglot_notebook": {
     "kernelName": "csharp"
    }
   },
   "outputs": [],
   "source": [
    "public async Task<string[]> Search(string query){\n",
    "    await pythonKernel.SendAsync(new SubmitCode(\n",
    "        $\"\"\"    \n",
    "        retrievedNodes = fusion_retriever.retrieve(\"{query}\")\n",
    "        articles = []\n",
    "        for node in retrievedNodes:\n",
    "            articles.append(node.text)\n",
    "        \"\"\"));\n",
    "    \n",
    "    var getValue = new RequestValue(\"articles\", JsonFormatter.MimeType);\n",
    "    var result = await pythonKernel.SendAsync(getValue);\n",
    "    var returnValueProduced = result.Events.OfType<ValueProduced>().LastOrDefault();\n",
    "    var json = returnValueProduced.FormattedValue.Value;\n",
    "\n",
    "    var searchResults =  JsonSerializer.Deserialize<string[]>(json);\n",
    "    return searchResults;\n",
    "}"
   ]
  },
  {
   "cell_type": "code",
   "execution_count": 20,
   "metadata": {
    "dotnet_interactive": {
     "language": "csharp"
    },
    "polyglot_notebook": {
     "kernelName": "csharp"
    }
   },
   "outputs": [],
   "source": [
    "var tokenizer = await Tokenizer.CreateAsync(TokenizerModel.gpt35);\n",
    "\n",
    "public async Task<string> AskAsync(string question){\n",
    "\n",
    "    var searchResults = await Search(question);\n",
    "\n",
    "    var articles = string.Join(\"\\n\", searchResults.Select(s => $\"\"\"\n",
    "    Wikipedia article section:\n",
    "    {s}\n",
    "\n",
    "    \"\"\"));\n",
    "\n",
    "    var userQuestion = $\"\"\"\"\"\n",
    "                Use the below articles on the 2022 Winter Olympics to answer the subsequent question. If the answer cannot be found in the articles, write \"I could not find an answer.\"\n",
    "                                \n",
    "                {articles}\n",
    "                \n",
    "                Question: {question}\n",
    "                \"\"\"\"\";\n",
    "\n",
    "    var options= new ChatCompletionsOptions{\n",
    "        Messages =\n",
    "            {\n",
    "                new ChatRequestSystemMessage(@\"You answer questions about the 2022 Winter Olympics.\"),\n",
    "                new ChatRequestUserMessage(userQuestion)\n",
    "            },\n",
    "        Temperature = 0f,\n",
    "        MaxTokens = 3500,\n",
    "        DeploymentName = chatDeployment\n",
    "    };\n",
    "\n",
    "    var response = await client.GetChatCompletionsAsync(options);\n",
    "\n",
    "    var answer = response.Value.Choices.FirstOrDefault()?.Message?.Content;  \n",
    "    return answer;\n",
    "}"
   ]
  },
  {
   "cell_type": "code",
   "execution_count": 21,
   "metadata": {
    "dotnet_interactive": {
     "language": "csharp"
    },
    "polyglot_notebook": {
     "kernelName": "csharp"
    }
   },
   "outputs": [
    {
     "name": "stdout",
     "output_type": "stream",
     "text": [
      "Generated queries:\n",
      "1. Location of 2022 Winter Olympics\n",
      "2. City that hosted 2022 Winter Olympics\n",
      "3. Country where 2022 Winter Olympics were held\n",
      "4. Venues of 2022 Winter Olympics\n",
      "5. 2022 Winter Olympics host city details\n",
      "6. Information about the place where 2022 Winter Olympics took place\n",
      "7. 2022 Winter Olympics location history\n",
      "8. Details about the 2022 Winter Olympics location\n",
      "9. Where were the 2022 Winter Olympics held?\n",
      "10. Host city of the 2022 Winter Olympics\n",
      "11. 2022 Winter Olympics host country\n",
      "12. Location and venues of 2022 Winter Olympics\n",
      "13. Information on 2022 Winter Olympics host city\n",
      "14. 2022 Winter Olympics location and details\n",
      "15. Which city hosted the 2022 Winter Olympics?\n"
     ]
    },
    {
     "data": {
      "text/plain": [
       "The 2022 Winter Olympics took place in Beijing, China."
      ]
     },
     "metadata": {},
     "output_type": "display_data"
    }
   ],
   "source": [
    "await AskAsync(\"Where did the 2022 winter Olympics took place?\")"
   ]
  },
  {
   "cell_type": "code",
   "execution_count": 22,
   "metadata": {
    "dotnet_interactive": {
     "language": "csharp"
    },
    "polyglot_notebook": {
     "kernelName": "csharp"
    }
   },
   "outputs": [
    {
     "name": "stdout",
     "output_type": "stream",
     "text": [
      "Generated queries:\n",
      "1. List of all countries that participated in the 2022 Winter Olympics\n",
      "2. Which nations competed in the 2022 Winter Olympics?\n",
      "3. Full list of countries in the 2022 Winter Olympics\n",
      "4. Names of countries that took part in the 2022 Winter Olympics\n",
      "5. How many countries participated in the 2022 Winter Olympics?\n",
      "6. Participating nations in the 2022 Winter Olympics\n",
      "7. Countries that competed in the 2022 Winter Olympics\n",
      "8. Complete list of 2022 Winter Olympics participating countries\n",
      "9. All countries that were in the 2022 Winter Olympics\n",
      "10. 2022 Winter Olympics participants by country\n",
      "11. Countries that sent athletes to the 2022 Winter Olympics\n",
      "12. Which countries were represented in the 2022 Winter Olympics?\n",
      "13. List of nations that competed in the 2022 Winter Olympics\n",
      "14. Countries that took part in the 2022 Winter Olympics\n",
      "15. Full roster of countries in the 2022 Winter Olympics.\n"
     ]
    },
    {
     "data": {
      "text/plain": [
       "I could not find an answer."
      ]
     },
     "metadata": {},
     "output_type": "display_data"
    }
   ],
   "source": [
    "await AskAsync(\"What countries did take part in the 2022 winter Olympics? Write me the complete list of the countries.\")"
   ]
  },
  {
   "cell_type": "code",
   "execution_count": 147,
   "metadata": {
    "dotnet_interactive": {
     "language": "csharp"
    },
    "polyglot_notebook": {
     "kernelName": "csharp"
    }
   },
   "outputs": [
    {
     "name": "stdout",
     "output_type": "stream",
     "text": [
      "Generated queries:\n",
      "1. List of countries participating in the 2022 winter Olympics\n",
      "2. Winter Olympic countries in 2022\n",
      "3. Which nations competed in the 2022 winter Olympics?\n",
      "4. Countries involved in the 2022 winter Olympics\n",
      "5. 2022 winter Olympics participants by country\n",
      "6. What countries were represented in the 2022 winter Olympics?\n",
      "7. Nations that took part in the 2022 winter Olympics\n",
      "8. 2022 winter Olympics: participating countries\n",
      "9. Countries that competed in the 2022 winter Olympics\n",
      "10. Winter Olympic nations in 2022\n",
      "11. List of countries and months for the 2022 winter Olympics\n"
     ]
    },
    {
     "data": {
      "text/plain": [
       "The countries that took part in the 2022 Winter Olympics were not mentioned in the provided articles. However, it is mentioned that Norway led the total medal standings with 39 medals, Germany had 31 medals, Canada had 29 medals, and South Korea won 17 medals. The Winter Olympics were held between 4 and 20 February 2022."
      ]
     },
     "metadata": {},
     "output_type": "display_data"
    }
   ],
   "source": [
    "await AskAsync(\"What countries did take part in the 2022 winter Olympics, what months where they held?\")"
   ]
  }
 ],
 "metadata": {
  "kernelspec": {
   "display_name": ".NET (C#)",
   "language": "C#",
   "name": ".net-csharp"
  },
  "language_info": {
   "name": "polyglot-notebook"
  },
  "orig_nbformat": 4,
  "polyglot_notebook": {
   "kernelInfo": {
    "defaultKernelName": "csharp",
    "items": [
     {
      "aliases": [],
      "name": "csharp"
     },
     {
      "aliases": [],
      "languageName": "python",
      "name": "python3"
     }
    ]
   }
  }
 },
 "nbformat": 4,
 "nbformat_minor": 2
}
