{
 "cells": [
  {
   "cell_type": "markdown",
   "metadata": {},
   "source": [
    "[this doc on github](https://github.com/dotnet/interactive/tree/main/samples/notebooks/csharp/Samples)\n",
    "\n",
    "# Github repository report\n",
    "\n",
    "project report for your repository"
   ]
  },
  {
   "cell_type": "markdown",
   "metadata": {},
   "source": [
    "[Generate a user token](https://help.github.com/en/github/authenticating-to-github/creating-a-personal-access-token-for-the-command-line) to get rid of public [api](https://github.com/octokit/octokit.net/blob/master/docs/getting-started.md) throttling policies for anonymous users "
   ]
  },
  {
   "cell_type": "markdown",
   "metadata": {},
   "source": [
    "# The goal is\n",
    " * display milestones\n",
    " * show milestone burndown\n",
    " * what are possible completion dates for milestone\n",
    " * milestone work broken down by area\n"
   ]
  },
  {
   "cell_type": "code",
   "execution_count": 1,
   "metadata": {
    "dotnet_interactive": {
     "language": "mermaid"
    },
    "vscode": {
     "languageId": "dotnet-interactive.mermaid"
    }
   },
   "outputs": [
    {
     "data": {
      "text/html": [
       "<div class=\"mermaidMarkdownContainer\" style=\"background-color:white\">\r\n",
       "<link rel=\"stylesheet\" href=\"https://cdnjs.cloudflare.com/ajax/libs/font-awesome/6.2.0/css/all.min.css\">\r\n",
       "<script type=\"text/javascript\">\r\n",
       "\r\n",
       "loadMermaid_056f1d299e9441efae7bb6c089412450 = () => {\r\n",
       " \r\n",
       "        (require.config({ 'paths': { 'context': '9.1.7', 'mermaidUri' : 'https://cdn.jsdelivr.net/npm/mermaid@9.1.7/dist/mermaid.min', 'urlArgs': 'cacheBuster=e641979df1134b37931efaa15aa9ca65' }}) || require)(['mermaidUri'], (mermaid) => {\r\n",
       "\r\n",
       "            let renderTarget = document.getElementById('056f1d299e9441efae7bb6c089412450');\r\n",
       "            mermaid.mermaidAPI.render( \r\n",
       "                'mermaid_056f1d299e9441efae7bb6c089412450', \r\n",
       "                `flowchart \n",
       "    parameters[Gather org and repo ids] --> creategithubclient[create github client] \n",
       "    creategithubclient[create github client]  --> collect[(collect milestones)]\n",
       "    collect[(collect milestones)] --> collectissues[(collect milestone issues)]\n",
       "    collectissues[(collect milestone issues)] --> process[process milestone issues]\n",
       "    process[process milestone issues] --> derive[calculate burndown]\n",
       "    derive[calculate burndown] --> output[display burndown and milestone work by tag]`, \r\n",
       "                g => {\r\n",
       "                    renderTarget.innerHTML = g \r\n",
       "                });\r\n",
       "        },\r\n",
       "        (error) => {\r\n",
       "            console.log(error);\r\n",
       "        });\r\n",
       "}\r\n",
       "// ensure `require` is available globally\r\n",
       "if ((typeof(require) !==  typeof(Function)) || (typeof(require.config) !== typeof(Function))) {\r\n",
       "    let require_script = document.createElement('script');\r\n",
       "    require_script.setAttribute('src', 'https://cdnjs.cloudflare.com/ajax/libs/require.js/2.3.6/require.min.js');\r\n",
       "    require_script.setAttribute('type', 'text/javascript');\r\n",
       "    \r\n",
       "    \r\n",
       "    require_script.onload = function() {\r\n",
       "        loadMermaid_056f1d299e9441efae7bb6c089412450();\r\n",
       "    };\r\n",
       "\r\n",
       "    document.getElementsByTagName('head')[0].appendChild(require_script);\r\n",
       "}\r\n",
       "else {\r\n",
       "    loadMermaid_056f1d299e9441efae7bb6c089412450();\r\n",
       "}\r\n",
       "\r\n",
       "</script>\r\n",
       "<div id=\"056f1d299e9441efae7bb6c089412450\"></div>\r\n",
       "</div>\r\n"
      ]
     },
     "metadata": {},
     "output_type": "display_data"
    }
   ],
   "source": [
    "flowchart \n",
    "    parameters[Gather org and repo ids] --> creategithubclient[create github client] \n",
    "    creategithubclient[create github client]  --> collect[(collect milestones)]\n",
    "    collect[(collect milestones)] --> collectissues[(collect milestone issues)]\n",
    "    collectissues[(collect milestone issues)] --> process[process milestone issues]\n",
    "    process[process milestone issues] --> derive[calculate burndown]\n",
    "    derive[calculate burndown] --> output[display burndown and milestone work by tag]"
   ]
  },
  {
   "cell_type": "code",
   "execution_count": 2,
   "metadata": {
    "dotnet_interactive": {
     "language": "csharp"
    },
    "vscode": {
     "languageId": "dotnet-interactive.csharp"
    }
   },
   "outputs": [],
   "source": [
    "#!value --name organization --from-value @input:organization"
   ]
  },
  {
   "cell_type": "code",
   "execution_count": 3,
   "metadata": {
    "dotnet_interactive": {
     "language": "csharp"
    },
    "vscode": {
     "languageId": "dotnet-interactive.csharp"
    }
   },
   "outputs": [],
   "source": [
    "#!share --from value organization"
   ]
  },
  {
   "cell_type": "code",
   "execution_count": 4,
   "metadata": {
    "dotnet_interactive": {
     "language": "csharp"
    },
    "vscode": {
     "languageId": "dotnet-interactive.csharp"
    }
   },
   "outputs": [],
   "source": [
    "#!value --name repositoryName --from-value @input:repositoryName"
   ]
  },
  {
   "cell_type": "code",
   "execution_count": 5,
   "metadata": {
    "dotnet_interactive": {
     "language": "csharp"
    },
    "vscode": {
     "languageId": "dotnet-interactive.csharp"
    }
   },
   "outputs": [],
   "source": [
    "#!share --from value repositoryName "
   ]
  },
  {
   "cell_type": "code",
   "execution_count": 6,
   "metadata": {
    "dotnet_interactive": {
     "language": "csharp"
    },
    "vscode": {
     "languageId": "dotnet-interactive.csharp"
    }
   },
   "outputs": [],
   "source": [
    "#!value --name token --from-value @password:github-api-token"
   ]
  },
  {
   "cell_type": "code",
   "execution_count": 7,
   "metadata": {
    "dotnet_interactive": {
     "language": "csharp"
    },
    "vscode": {
     "languageId": "dotnet-interactive.csharp"
    }
   },
   "outputs": [],
   "source": [
    "#!share --from value token"
   ]
  },
  {
   "cell_type": "markdown",
   "metadata": {},
   "source": [
    "## Setup\n",
    "Importing pacakges and setting up connection"
   ]
  },
  {
   "cell_type": "code",
   "execution_count": 8,
   "metadata": {
    "dotnet_interactive": {
     "language": "csharp"
    },
    "vscode": {
     "languageId": "dotnet-interactive.csharp"
    }
   },
   "outputs": [
    {
     "data": {
      "text/html": [
       "<div><div></div><div></div><div><strong>Installed Packages</strong><ul><li><span>Octokit, 4.0.0</span></li></ul></div></div>"
      ]
     },
     "metadata": {},
     "output_type": "display_data"
    }
   ],
   "source": [
    "#r \"nuget: Octokit, 4.0.0\""
   ]
  },
  {
   "cell_type": "code",
   "execution_count": 9,
   "metadata": {
    "dotnet_interactive": {
     "language": "csharp"
    },
    "vscode": {
     "languageId": "dotnet-interactive.csharp"
    }
   },
   "outputs": [],
   "source": [
    "using Octokit;\n",
    "using Microsoft.DotNet.Interactive.Formatting;\n",
    "using Microsoft.DotNet.Interactive.Formatting.TabularData;\n",
    "using Microsoft.DotNet.Interactive;\n",
    "using Microsoft.DotNet.Interactive.Commands;\n",
    "using System.Collections.Generic;"
   ]
  },
  {
   "cell_type": "code",
   "execution_count": 10,
   "metadata": {
    "dotnet_interactive": {
     "language": "javascript"
    },
    "vscode": {
     "languageId": "dotnet-interactive.javascript"
    }
   },
   "outputs": [],
   "source": [
    "plotlyloader = (require.config({\n",
    "    paths: {\n",
    "        d3: 'https://cdn.jsdelivr.net/npm/d3@7.4.4/dist/d3.min',\n",
    "        jquery: 'https://cdn.jsdelivr.net/npm/jquery@3.6.0/dist/jquery.min',\n",
    "        plotly: 'https://cdn.plot.ly/plotly-2.14.0.min'\n",
    "    },\n",
    "\n",
    "    shim: {\n",
    "        plotly: {\n",
    "            deps: ['d3', 'jquery'],\n",
    "            exports: 'plotly'\n",
    "        }\n",
    "    }\n",
    "}) || require);\n",
    "\n",
    "delay = (delayAmount) => new Promise(resolve => setTimeout(resolve, delayAmount));"
   ]
  },
  {
   "cell_type": "code",
   "execution_count": 11,
   "metadata": {
    "dotnet_interactive": {
     "language": "csharp"
    },
    "vscode": {
     "languageId": "dotnet-interactive.csharp"
    }
   },
   "outputs": [
    {
     "name": "stdout",
     "output_type": "stream",
     "text": [
      "Using github api token\r\n"
     ]
    }
   ],
   "source": [
    "var options = new ApiOptions();\n",
    "var gitHubClient = new GitHubClient(new ProductHeaderValue(\"notebook\"));\n",
    "\n",
    "if (!string.IsNullOrEmpty(token)) {\n",
    "    Console.WriteLine(\"Using github api token\");\n",
    "    var tokenAuth = new Credentials(token);\n",
    "    gitHubClient.Credentials = tokenAuth;\n",
    "} else {\n",
    "    Console.WriteLine(\"Using anonymous github api\");\n",
    "}"
   ]
  },
  {
   "cell_type": "code",
   "execution_count": 12,
   "metadata": {
    "dotnet_interactive": {
     "language": "csharp"
    },
    "vscode": {
     "languageId": "dotnet-interactive.csharp"
    }
   },
   "outputs": [],
   "source": [
    "var milestones = (await gitHubClient.Issue.Milestone.GetAllForRepository(organization, repositoryName, options)).Select(m => new{\n",
    "    Milestone = m,\n",
    "    Issues = (gitHubClient.Issue.GetAllForRepository(organization, repositoryName, new RepositoryIssueRequest {\n",
    "        Milestone= m.Number.ToString(),\n",
    "        State = ItemStateFilter.All\n",
    "    }, options)).Result.ToArray()\n",
    "}).ToArray();"
   ]
  },
  {
   "cell_type": "code",
   "execution_count": 13,
   "metadata": {
    "dotnet_interactive": {
     "language": "csharp"
    },
    "vscode": {
     "languageId": "dotnet-interactive.csharp"
    }
   },
   "outputs": [
    {
     "name": "stdout",
     "output_type": "stream",
     "text": [
      "Milestone VS Code Extension GA is open. Closing speed is 0.8558 issues per day at 11/10/2022 21:40:38.\r\n",
      "Milestone VS Code Extension GA is open and has 17 extrapolated points. Closing speed is 0 issues per day.\r\n",
      "Milestone VS Code Extension GA will not be closed anytime soon.\r\n",
      "Milestone API Stabilization is open. Closing speed is 0 issues per day at 03/08/2022 15:55:09.\r\n",
      "Milestone API Stabilization is open and has 86 extrapolated points. Closing speed is 0 issues per day.\r\n",
      "Milestone API Stabilization will not be closed anytime soon.\r\n"
     ]
    }
   ],
   "source": [
    "var milestoneData = milestones.Select(m =>{\n",
    "    var lastCountOpen = -1;\n",
    "    var startDate = m.Milestone.CreatedAt.DateTime;\n",
    "    var endDate = DateTime.Now.Date;\n",
    "    var ClosedEveryDay = m.Issues.Where(i => i.ClosedAt.HasValue).GroupBy(i => i.ClosedAt.Value.Date).Select(g => new {Date = g.Key, Count = g.Count()}).OrderBy(e => e.Date).ToArray();\n",
    "    \n",
    "    //var OpenedEveryDay = m.Issues.GroupBy(i => i.CreatedAt.Date).Select(g => new {Date = g.Key, Count = g.Count()}).OrderBy(e => e.Date).ToArray();\n",
    "\n",
    "    //var dates = ClosedEveryDay.Select(e => e.Date).Union(OpenedEveryDay.Select(e => e.Date)).Distinct().OrderBy(d => d).ToArray();\n",
    "    \n",
    "    var RollingClosedIssues = ClosedEveryDay.Select(e => new {e.Date, Count = ClosedEveryDay.Where(d => d.Date <= e.Date).Select(d => d.Count).Sum()}).ToArray();\n",
    "    var RollingOpenIssues = Enumerable.Range(0, (int)(endDate - startDate).TotalDays).Select( i => {\n",
    "        var date = startDate.AddDays(i);\n",
    "        var openedCount =  m.Issues.Where(i => (i.ClosedAt.HasValue == false) || (i.ClosedAt > date)).Count();\n",
    "        return new {Date = date, Count = openedCount};\n",
    "    }).Where(e => {\n",
    "        if(e.Count == lastCountOpen){\n",
    "            return false;\n",
    "        }else{\n",
    "            lastCountOpen = e.Count;\n",
    "            return true;\n",
    "        }\n",
    "    }).ToArray();\n",
    "   \n",
    "    // OpenedEveryDay.Select(e => new {e.Date, Count = OpenedEveryDay.Where(d => d.Date <= e.Date).Select(d => d.Count).Sum() - ClosedEveryDay.Where(d => d.Date <= e.Date).Select(d => d.Count).Sum()}).ToArray();\n",
    "\n",
    "    var isClosed = m.Milestone.State.ToString().ToLowerInvariant() == \"closed\";\n",
    "    var extrapolations = new List<(DateTime Date, int Count)>();\n",
    "    var AtRisk = false;\n",
    "    if(!isClosed){\n",
    "        var closingIssueSpeed = 0.0;\n",
    "        var alpha = 0.40;\n",
    "        for(var i = 0; i < RollingClosedIssues.Length - 1; i++){\n",
    "            var current = RollingClosedIssues[i];\n",
    "            var next = RollingClosedIssues[i + 1];\n",
    "            var days = (next.Date - current.Date).TotalDays;\n",
    "            if(days > 0){\n",
    "                var currentSpeed = (double)(next.Count - current.Count) / days;\n",
    "                closingIssueSpeed = ((1.0-alpha)*currentSpeed) + (alpha*closingIssueSpeed) ;\n",
    "            }\n",
    "        }\n",
    "        closingIssueSpeed = Math.Round(closingIssueSpeed,4, MidpointRounding.AwayFromZero);\n",
    "        var lastSample = RollingOpenIssues.Last();\n",
    "        Console.WriteLine($\"Milestone {m.Milestone.Title} is {m.Milestone.State}. Closing speed is {closingIssueSpeed} issues per day at {lastSample.Date}.\");\n",
    "\n",
    "        extrapolations = new List<(DateTime Date, int Count)>{\n",
    "            (lastSample.Date, lastSample.Count)\n",
    "        };\n",
    "\n",
    "        // take into account any pause to today\n",
    "\n",
    "        for(var i = 0; i < (int)((endDate - lastSample.Date).TotalDays); i++){\n",
    "            var nextCount = lastSample.Count;\n",
    "            extrapolations.Add((lastSample.Date.AddDays(i), nextCount));\n",
    "        }\n",
    "\n",
    "        for(var i = 0; i < extrapolations.Count - 1; i++){\n",
    "            var current = extrapolations[i];\n",
    "            var next = extrapolations[i + 1];\n",
    "            var days = (next.Date - current.Date).TotalDays;\n",
    "            if(days > 0){\n",
    "                closingIssueSpeed = alpha*closingIssueSpeed ;\n",
    " \n",
    "            }\n",
    "        }\n",
    "\n",
    "        closingIssueSpeed = Math.Round(closingIssueSpeed,2, MidpointRounding.AwayFromZero);\n",
    "        Console.WriteLine($\"Milestone {m.Milestone.Title} is {m.Milestone.State} and has {extrapolations.Count} extrapolated points. Closing speed is {closingIssueSpeed} issues per day.\");\n",
    "         \n",
    "        var lastExtrapolatedSample = extrapolations.Last();\n",
    "        var nextSample = lastExtrapolatedSample.Date.AddDays(1);\n",
    "        var closeDate = lastExtrapolatedSample.Date.AddMonths(1);\n",
    "        \n",
    "        if(closingIssueSpeed > 0){\n",
    "            var daysToClose = lastExtrapolatedSample.Count / closingIssueSpeed;\n",
    "            closeDate = lastExtrapolatedSample.Date.AddDays(daysToClose);\n",
    "            Console.WriteLine($\"Milestone {m.Milestone.Title} is {m.Milestone.State} will be closed by {closeDate}.\");\n",
    "        }else{\n",
    "            AtRisk = true;\n",
    "            Console.WriteLine($\"Milestone {m.Milestone.Title} will not be closed anytime soon.\");\n",
    "        }\n",
    "\n",
    "        var lastCount = lastExtrapolatedSample.Count;\n",
    "        while(nextSample < closeDate){\n",
    "            lastCount -= (int)(closingIssueSpeed);\n",
    "            extrapolations.Add((nextSample, lastCount));\n",
    "            nextSample = nextSample.AddDays(1);            \n",
    "        }\n",
    "    }\n",
    "\n",
    "    return new {\n",
    "        m.Milestone,\n",
    "        m.Issues,\n",
    "        ClosedEveryDay,\n",
    "       // OpenedEveryDay,\n",
    "        RollingClosedIssues,\n",
    "        RollingOpenIssues,\n",
    "        AtRisk,\n",
    "        ToComplete = extrapolations.Select(e => new {e.Date, e.Count}).ToArray()\n",
    "    };\n",
    "    }).ToArray();"
   ]
  },
  {
   "cell_type": "code",
   "execution_count": null,
   "metadata": {
    "dotnet_interactive": {
     "language": "csharp"
    },
    "vscode": {
     "languageId": "dotnet-interactive.csharp"
    }
   },
   "outputs": [],
   "source": [
    "milestoneData.Select(m => new {m.Milestone.Title, m.Milestone.Description, m.Milestone.DueOn, m.Milestone.ClosedAt, m.Milestone.State,m.Milestone.OpenIssues, m.Milestone.ClosedIssues, m.Milestone.CreatedAt, m.AtRisk}).ToTabularDataResource().Display();"
   ]
  },
  {
   "cell_type": "code",
   "execution_count": 14,
   "metadata": {
    "dotnet_interactive": {
     "language": "csharp"
    },
    "vscode": {
     "languageId": "dotnet-interactive.csharp"
    }
   },
   "outputs": [],
   "source": [
    "var milestoneBurndown =  milestoneData.Where(m => m.Milestone.State == \"Open\")\n",
    ".OrderByDescending(m => m.Milestone.CreatedAt)\n",
    ".Select(m => new { Title = m.Milestone.Title, OpenIssues = m.RollingOpenIssues.ToArray(), ToComplete = m.ToComplete.ToArray(), m.AtRisk}).ToArray();"
   ]
  },
  {
   "cell_type": "code",
   "execution_count": 15,
   "metadata": {
    "dotnet_interactive": {
     "language": "javascript"
    },
    "vscode": {
     "languageId": "dotnet-interactive.javascript"
    }
   },
   "outputs": [],
   "source": [
    "#!share --from csharp milestoneBurndown"
   ]
  },
  {
   "cell_type": "code",
   "execution_count": 16,
   "metadata": {
    "dotnet_interactive": {
     "language": "html"
    },
    "vscode": {
     "languageId": "dotnet-interactive.html"
    }
   },
   "outputs": [
    {
     "data": {
      "text/html": [
       "<div id=\"target\"></div>"
      ]
     },
     "metadata": {},
     "output_type": "display_data"
    }
   ],
   "source": [
    "<div id=\"target\"></div>"
   ]
  },
  {
   "cell_type": "code",
   "execution_count": 17,
   "metadata": {
    "dotnet_interactive": {
     "language": "javascript"
    },
    "tags": [
     "parameters"
    ],
    "vscode": {
     "languageId": "dotnet-interactive.javascript"
    }
   },
   "outputs": [],
   "source": [
    "  const traces = [];\n",
    "\n",
    "  const layout = {\n",
    "      title: 'Milestone Burndown',\n",
    "      grid: { rows: milestoneBurndown.length, columns: 1, pattern: 'independent' },\n",
    "      annotations: []\n",
    "    };\n",
    "\n",
    "    for(let i = 0; i < milestoneBurndown.length; i++) {       \n",
    "        layout[`xaxis${i+1}}`] = {};\n",
    "        layout[`yaxis${i+1}`] = { title: \"Open items\" };\n",
    "        const milestone = milestoneBurndown[i];        \n",
    "        const done = {\n",
    "            y: Array.from(milestone.OpenIssues.map(x => x.Count)),\n",
    "            x: Array.from(milestone.OpenIssues.map(x => x.Date)),\n",
    "            mode: 'lines',\n",
    "            //name: `Done [${milestone.Title}]`,\n",
    "            line: {\n",
    "              dash: 'solid',\n",
    "              width: 4\n",
    "            },\n",
    "            xaxis: `x${i+1}`,\n",
    "            yaxis: `y${i+1}`,\n",
    "            //hovertemplate: `<b>${milestone.Title}</b><br><i>Issue count</i>: %{y}<br><b>Date</b>: %{x}<extra></extra>`,\n",
    "            type: 'scattergl'\n",
    "        };\n",
    "\n",
    "        const toDo = {\n",
    "            y: Array.from(milestone.ToComplete.map(x => x.Count)),\n",
    "            x: Array.from(milestone.ToComplete.map(x => x.Date)),\n",
    "            mode: 'lines',\n",
    "            //name: `To Do [${milestone.Title}]`,\n",
    "            line: {\n",
    "              dash: 'dashdot',\n",
    "              width: 4\n",
    "            },\n",
    "            xaxis: `x${i+1}`,\n",
    "            yaxis: `y${i+1}`,\n",
    "            //hovertemplate: `<b>${milestone.Title} Projection</b>}<br><i>Issue count</i>: %{y}<br><b>Date</b>: %{x}<extra></extra>`,\n",
    "            type: 'scattergl'\n",
    "        };\n",
    "\n",
    "        layout.annotations.push({\n",
    "          x: done.x[0],\n",
    "          y: done.y.reduce((max, value) => {return Math.max(max, value)}),\n",
    "          yshift: 10 + done.line.width,\n",
    "          xanchor: 'left',\n",
    "          xref: `x${i+1}`,\n",
    "          yref: `y${i+1}`,\n",
    "          text: milestone.Title,\n",
    "          showarrow: false\n",
    "        });\n",
    "        \n",
    "        if(milestone.AtRisk) {\n",
    "          layout.annotations.push({\n",
    "            x: done.x[done.x.length - 1],\n",
    "            y: done.y[done.y.length - 1],\n",
    "            xanchor: 'center',\n",
    "            yanchor: 'bottom',\n",
    "            align: 'center',\n",
    "            xref: `x${i+1}`,\n",
    "            yref: `y${i+1}`,\n",
    "            text: \"\\u26A0\",\n",
    "            showarrow: true,\n",
    "            ax: 0,\n",
    "            ay: -(20 + done.line.width),\n",
    "            font: {\n",
    "              color: \"red\",\n",
    "              size: 30\n",
    "            }\n",
    "          });\n",
    "        }\n",
    "\n",
    "        traces.push(done);\n",
    "        traces.push(toDo);\n",
    "    }\n",
    "    \n",
    "exportData = { traces, layout };\n",
    "\n",
    "plotlyloader(['d3', 'plotly'], function (d3, plotly) {\n",
    "  console.log(\"Plotly loaded\"); \n",
    "  plotly.newPlot('target', exportData.traces, exportData.layout, {responsive: true});\n",
    "});\n"
   ]
  },
  {
   "cell_type": "code",
   "execution_count": null,
   "metadata": {
    "dotnet_interactive": {
     "language": "csharp"
    },
    "vscode": {
     "languageId": "dotnet-interactive.csharp"
    }
   },
   "outputs": [],
   "source": [
    "using Microsoft.DotNet.Interactive;\n",
    "using Microsoft.DotNet.Interactive.Commands;\n",
    "\n",
    "void PieWithMermaid(IEnumerable<(string area,int doneCount)> data, string label){\n",
    "    double total = data.Select(d => d.doneCount).Sum();\n",
    "    var slices = data.Select(d => $\"    \\\"{d.area}\\\" : {Math.Round((d.doneCount/total)*100.0, 2)}\").ToArray();\n",
    "\n",
    "    var mermaidPieMarkdown = new StringBuilder();\n",
    "    mermaidPieMarkdown.AppendLine(\"pie\");\n",
    "    mermaidPieMarkdown.AppendLine($@\"    title {label}\");\n",
    "\n",
    "    foreach(var slice in slices){\n",
    "        mermaidPieMarkdown.AppendLine(slice);\n",
    "    }\n",
    "    Kernel.Root.SendAsync(new SendEditableCode(\"mermaid\",mermaidPieMarkdown.ToString()));\n",
    "}"
   ]
  },
  {
   "cell_type": "code",
   "execution_count": null,
   "metadata": {
    "dotnet_interactive": {
     "language": "csharp"
    },
    "vscode": {
     "languageId": "dotnet-interactive.csharp"
    }
   },
   "outputs": [],
   "source": [
    "\n",
    "foreach(var milestone in milestoneData.OrderBy(m => m.Milestone.CreatedAt)){\n",
    "    var doneIssues = milestone.Issues.Where(i => i.ClosedAt.HasValue).ToArray();\n",
    "    if(doneIssues.Length > 0) {\n",
    "        var doneData = doneIssues.SelectMany( i => i.Labels.Select(l => l.Name)).Where(l => l.StartsWith(\"Area-\")).GroupBy(l => l).Select(l => (l.Key,l.Count()));\n",
    "        PieWithMermaid(doneData, $\"Milestone: {milestone.Milestone.Title} work done by tag ({doneIssues.Length} of { milestone.Issues.Count()} items)\");\n",
    "    }\n",
    "   \n",
    "    var toDoIssues = milestone.Issues.Where(i => i.ClosedAt.HasValue == false).ToArray();\n",
    "    if(toDoIssues.Length > 0) {\n",
    "        var toDoData = toDoIssues.SelectMany( i => i.Labels.Select(l => l.Name)).Where(l => l.StartsWith(\"Area-\")).GroupBy(l => l).Select(l => (l.Key,l.Count()));\n",
    "        PieWithMermaid(toDoData, $\"Milestone: {milestone.Milestone.Title} work to do  by tag({toDoIssues.Length} of { milestone.Issues.Count()} items)\");\n",
    "    }\n",
    "}"
   ]
  },
  {
   "cell_type": "code",
   "execution_count": null,
   "metadata": {
    "dotnet_interactive": {
     "language": "mermaid"
    },
    "vscode": {
     "languageId": "dotnet-interactive.mermaid"
    }
   },
   "outputs": [],
   "source": [
    "pie\n",
    "    title Milestone: VS Code Extension GA work to do  by tag(15 of 38 items)\n",
    "    \"Area-VS Code Extension\" : 66.67\n",
    "    \"Area-VS Code Jupyter Extension Interop\" : 5.56\n",
    "    \"Area-Documentation\" : 5.56\n",
    "    \"Area-Getting Started\" : 16.67\n",
    "    \"Area-Formatting\" : 5.56\n"
   ]
  },
  {
   "cell_type": "code",
   "execution_count": null,
   "metadata": {
    "dotnet_interactive": {
     "language": "mermaid"
    },
    "vscode": {
     "languageId": "dotnet-interactive.mermaid"
    }
   },
   "outputs": [],
   "source": [
    "pie\n",
    "    title Milestone: API Stabilization work to do  by tag(8 of 8 items)\n",
    "    \"Area-Documentation\" : 10\n",
    "    \"Area-Getting Started\" : 10\n",
    "    \"Area-VS Code Extension\" : 10\n",
    "    \"Area-Messaging and Comms\" : 10\n",
    "    \"Area-Packages and Extensions\" : 10\n",
    "    \"Area-SQL / data querying\" : 20\n",
    "    \"Area-F#\" : 10\n",
    "    \"Area-Language Services\" : 20\n"
   ]
  },
  {
   "cell_type": "code",
   "execution_count": null,
   "metadata": {
    "vscode": {
     "languageId": "dotnet-interactive.mermaid"
    }
   },
   "outputs": [],
   "source": [
    "pie\n",
    "    title Milestone: VS Code Extension GA work done by tag (23 of 38 items)\n",
    "    \"Area-Formatting\" : 4.76\n",
    "    \"Area-Language Services\" : 4.76\n",
    "    \"Area-Packages and Extensions\" : 4.76\n",
    "    \"Area-Telemetry\" : 9.52\n",
    "    \"Area-Messaging and Comms\" : 9.52\n",
    "    \"Area-VS Code Extension\" : 42.86\n",
    "    \"Area-Variable sharing\" : 14.29\n",
    "    \"Area-Performance\" : 4.76\n",
    "    \"Area-JavaScript HTML CSS\" : 4.76\n"
   ]
  },
  {
   "cell_type": "code",
   "execution_count": null,
   "metadata": {
    "dotnet_interactive": {
     "language": "csharp"
    },
    "vscode": {
     "languageId": "dotnet-interactive.csharp"
    }
   },
   "outputs": [],
   "source": [
    "#!share --from javascript exportData\n",
    "System.IO.File.WriteAllText(\"c:\\\\temp\\\\traces.json\", exportData.RootElement.ToDisplayString());"
   ]
  },
  {
   "cell_type": "code",
   "execution_count": 103,
   "metadata": {
    "dotnet_interactive": {
     "language": "javascript"
    },
    "vscode": {
     "languageId": "dotnet-interactive.javascript"
    }
   },
   "outputs": [],
   "source": [
    "const d = {\n",
    "    \"traces\": [\n",
    "        {\n",
    "            \"y\": [\n",
    "                8\n",
    "            ],\n",
    "            \"x\": [\n",
    "                \"2022-08-03T15:55:09\"\n",
    "            ],\n",
    "            \"mode\": \"lines\",\n",
    "            \"name\": \"Done [API Stabilization]\",\n",
    "            \"line\": {\n",
    "                \"dash\": \"solid\",\n",
    "                \"width\": 4\n",
    "            },\n",
    "            \"xaxis\": \"x1\",\n",
    "            \"yaxis\": \"y1\",\n",
    "            \"hovertemplate\": \"<b>API Stabilization</b><br><i>Issue count</i>: %{y}<br><b>Date</b>: %{x}<extra></extra>\",\n",
    "            \"type\": \"scattergl\"\n",
    "        },\n",
    "        {\n",
    "            \"y\": [\n",
    "                8,\n",
    "                8,\n",
    "                8,\n",
    "                8,\n",
    "                8,\n",
    "                8,\n",
    "                8,\n",
    "                8,\n",
    "                8,\n",
    "                8,\n",
    "                8,\n",
    "                8,\n",
    "                8,\n",
    "                8,\n",
    "                8,\n",
    "                8,\n",
    "                8,\n",
    "                8,\n",
    "                8,\n",
    "                8,\n",
    "                8,\n",
    "                8,\n",
    "                8,\n",
    "                8,\n",
    "                8,\n",
    "                8,\n",
    "                8,\n",
    "                8,\n",
    "                8,\n",
    "                8,\n",
    "                8,\n",
    "                8,\n",
    "                8,\n",
    "                8,\n",
    "                8,\n",
    "                8,\n",
    "                8,\n",
    "                8,\n",
    "                8,\n",
    "                8,\n",
    "                8,\n",
    "                8,\n",
    "                8,\n",
    "                8,\n",
    "                8,\n",
    "                8,\n",
    "                8,\n",
    "                8,\n",
    "                8,\n",
    "                8,\n",
    "                8,\n",
    "                8,\n",
    "                8,\n",
    "                8,\n",
    "                8,\n",
    "                8,\n",
    "                8,\n",
    "                8,\n",
    "                8,\n",
    "                8,\n",
    "                8,\n",
    "                8,\n",
    "                8,\n",
    "                8,\n",
    "                8,\n",
    "                8,\n",
    "                8,\n",
    "                8,\n",
    "                8,\n",
    "                8,\n",
    "                8,\n",
    "                8,\n",
    "                8,\n",
    "                8,\n",
    "                8,\n",
    "                8,\n",
    "                8,\n",
    "                8,\n",
    "                8,\n",
    "                8,\n",
    "                8,\n",
    "                8,\n",
    "                8,\n",
    "                8,\n",
    "                8,\n",
    "                8,\n",
    "                8,\n",
    "                8,\n",
    "                8,\n",
    "                8,\n",
    "                8,\n",
    "                8,\n",
    "                8,\n",
    "                8,\n",
    "                8,\n",
    "                8,\n",
    "                8,\n",
    "                8,\n",
    "                8,\n",
    "                8,\n",
    "                8,\n",
    "                8,\n",
    "                8,\n",
    "                8,\n",
    "                8,\n",
    "                8,\n",
    "                8,\n",
    "                8,\n",
    "                8,\n",
    "                8,\n",
    "                8,\n",
    "                8,\n",
    "                8,\n",
    "                8,\n",
    "                8,\n",
    "                8\n",
    "            ],\n",
    "            \"x\": [\n",
    "                \"2022-08-03T15:55:09\",\n",
    "                \"2022-08-03T15:55:09\",\n",
    "                \"2022-08-04T15:55:09\",\n",
    "                \"2022-08-05T15:55:09\",\n",
    "                \"2022-08-06T15:55:09\",\n",
    "                \"2022-08-07T15:55:09\",\n",
    "                \"2022-08-08T15:55:09\",\n",
    "                \"2022-08-09T15:55:09\",\n",
    "                \"2022-08-10T15:55:09\",\n",
    "                \"2022-08-11T15:55:09\",\n",
    "                \"2022-08-12T15:55:09\",\n",
    "                \"2022-08-13T15:55:09\",\n",
    "                \"2022-08-14T15:55:09\",\n",
    "                \"2022-08-15T15:55:09\",\n",
    "                \"2022-08-16T15:55:09\",\n",
    "                \"2022-08-17T15:55:09\",\n",
    "                \"2022-08-18T15:55:09\",\n",
    "                \"2022-08-19T15:55:09\",\n",
    "                \"2022-08-20T15:55:09\",\n",
    "                \"2022-08-21T15:55:09\",\n",
    "                \"2022-08-22T15:55:09\",\n",
    "                \"2022-08-23T15:55:09\",\n",
    "                \"2022-08-24T15:55:09\",\n",
    "                \"2022-08-25T15:55:09\",\n",
    "                \"2022-08-26T15:55:09\",\n",
    "                \"2022-08-27T15:55:09\",\n",
    "                \"2022-08-28T15:55:09\",\n",
    "                \"2022-08-29T15:55:09\",\n",
    "                \"2022-08-30T15:55:09\",\n",
    "                \"2022-08-31T15:55:09\",\n",
    "                \"2022-09-01T15:55:09\",\n",
    "                \"2022-09-02T15:55:09\",\n",
    "                \"2022-09-03T15:55:09\",\n",
    "                \"2022-09-04T15:55:09\",\n",
    "                \"2022-09-05T15:55:09\",\n",
    "                \"2022-09-06T15:55:09\",\n",
    "                \"2022-09-07T15:55:09\",\n",
    "                \"2022-09-08T15:55:09\",\n",
    "                \"2022-09-09T15:55:09\",\n",
    "                \"2022-09-10T15:55:09\",\n",
    "                \"2022-09-11T15:55:09\",\n",
    "                \"2022-09-12T15:55:09\",\n",
    "                \"2022-09-13T15:55:09\",\n",
    "                \"2022-09-14T15:55:09\",\n",
    "                \"2022-09-15T15:55:09\",\n",
    "                \"2022-09-16T15:55:09\",\n",
    "                \"2022-09-17T15:55:09\",\n",
    "                \"2022-09-18T15:55:09\",\n",
    "                \"2022-09-19T15:55:09\",\n",
    "                \"2022-09-20T15:55:09\",\n",
    "                \"2022-09-21T15:55:09\",\n",
    "                \"2022-09-22T15:55:09\",\n",
    "                \"2022-09-23T15:55:09\",\n",
    "                \"2022-09-24T15:55:09\",\n",
    "                \"2022-09-25T15:55:09\",\n",
    "                \"2022-09-26T15:55:09\",\n",
    "                \"2022-09-27T15:55:09\",\n",
    "                \"2022-09-28T15:55:09\",\n",
    "                \"2022-09-29T15:55:09\",\n",
    "                \"2022-09-30T15:55:09\",\n",
    "                \"2022-10-01T15:55:09\",\n",
    "                \"2022-10-02T15:55:09\",\n",
    "                \"2022-10-03T15:55:09\",\n",
    "                \"2022-10-04T15:55:09\",\n",
    "                \"2022-10-05T15:55:09\",\n",
    "                \"2022-10-06T15:55:09\",\n",
    "                \"2022-10-07T15:55:09\",\n",
    "                \"2022-10-08T15:55:09\",\n",
    "                \"2022-10-09T15:55:09\",\n",
    "                \"2022-10-10T15:55:09\",\n",
    "                \"2022-10-11T15:55:09\",\n",
    "                \"2022-10-12T15:55:09\",\n",
    "                \"2022-10-13T15:55:09\",\n",
    "                \"2022-10-14T15:55:09\",\n",
    "                \"2022-10-15T15:55:09\",\n",
    "                \"2022-10-16T15:55:09\",\n",
    "                \"2022-10-17T15:55:09\",\n",
    "                \"2022-10-18T15:55:09\",\n",
    "                \"2022-10-19T15:55:09\",\n",
    "                \"2022-10-20T15:55:09\",\n",
    "                \"2022-10-21T15:55:09\",\n",
    "                \"2022-10-22T15:55:09\",\n",
    "                \"2022-10-23T15:55:09\",\n",
    "                \"2022-10-24T15:55:09\",\n",
    "                \"2022-10-25T15:55:09\",\n",
    "                \"2022-10-26T15:55:09\",\n",
    "                \"2022-10-27T15:55:09\",\n",
    "                \"2022-10-28T15:55:09\",\n",
    "                \"2022-10-29T15:55:09\",\n",
    "                \"2022-10-30T15:55:09\",\n",
    "                \"2022-10-31T15:55:09\",\n",
    "                \"2022-11-01T15:55:09\",\n",
    "                \"2022-11-02T15:55:09\",\n",
    "                \"2022-11-03T15:55:09\",\n",
    "                \"2022-11-04T15:55:09\",\n",
    "                \"2022-11-05T15:55:09\",\n",
    "                \"2022-11-06T15:55:09\",\n",
    "                \"2022-11-07T15:55:09\",\n",
    "                \"2022-11-08T15:55:09\",\n",
    "                \"2022-11-09T15:55:09\",\n",
    "                \"2022-11-10T15:55:09\",\n",
    "                \"2022-11-11T15:55:09\",\n",
    "                \"2022-11-12T15:55:09\",\n",
    "                \"2022-11-13T15:55:09\",\n",
    "                \"2022-11-14T15:55:09\",\n",
    "                \"2022-11-15T15:55:09\",\n",
    "                \"2022-11-16T15:55:09\",\n",
    "                \"2022-11-17T15:55:09\",\n",
    "                \"2022-11-18T15:55:09\",\n",
    "                \"2022-11-19T15:55:09\",\n",
    "                \"2022-11-20T15:55:09\",\n",
    "                \"2022-11-21T15:55:09\",\n",
    "                \"2022-11-22T15:55:09\",\n",
    "                \"2022-11-23T15:55:09\",\n",
    "                \"2022-11-24T15:55:09\",\n",
    "                \"2022-11-25T15:55:09\"\n",
    "            ],\n",
    "            \"mode\": \"lines\",\n",
    "            \"name\": \"To Do [API Stabilization]\",\n",
    "            \"line\": {\n",
    "                \"dash\": \"dashdot\",\n",
    "                \"width\": 4\n",
    "            },\n",
    "            \"xaxis\": \"x1\",\n",
    "            \"yaxis\": \"y1\",\n",
    "            \"hovertemplate\": \"<b>API Stabilization Projection</b>}<br><i>Issue count</i>: %{y}<br><b>Date</b>: %{x}<extra></extra>\",\n",
    "            \"type\": \"scattergl\"\n",
    "        },\n",
    "        {\n",
    "            \"y\": [\n",
    "                38,\n",
    "                36,\n",
    "                35,\n",
    "                34,\n",
    "                33,\n",
    "                32,\n",
    "                31,\n",
    "                30,\n",
    "                29,\n",
    "                28,\n",
    "                27,\n",
    "                26,\n",
    "                25,\n",
    "                24,\n",
    "                23,\n",
    "                21,\n",
    "                20,\n",
    "                18,\n",
    "                17,\n",
    "                16,\n",
    "                15\n",
    "            ],\n",
    "            \"x\": [\n",
    "                \"2021-10-05T21:40:38\",\n",
    "                \"2021-11-15T21:40:38\",\n",
    "                \"2022-03-15T21:40:38\",\n",
    "                \"2022-05-18T21:40:38\",\n",
    "                \"2022-06-07T21:40:38\",\n",
    "                \"2022-06-09T21:40:38\",\n",
    "                \"2022-06-14T21:40:38\",\n",
    "                \"2022-06-27T21:40:38\",\n",
    "                \"2022-07-08T21:40:38\",\n",
    "                \"2022-07-15T21:40:38\",\n",
    "                \"2022-07-26T21:40:38\",\n",
    "                \"2022-07-27T21:40:38\",\n",
    "                \"2022-09-06T21:40:38\",\n",
    "                \"2022-09-15T21:40:38\",\n",
    "                \"2022-09-21T21:40:38\",\n",
    "                \"2022-10-04T21:40:38\",\n",
    "                \"2022-10-05T21:40:38\",\n",
    "                \"2022-10-06T21:40:38\",\n",
    "                \"2022-10-07T21:40:38\",\n",
    "                \"2022-10-08T21:40:38\",\n",
    "                \"2022-10-11T21:40:38\"\n",
    "            ],\n",
    "            \"mode\": \"lines\",\n",
    "            \"name\": \"Done [VS Code Extension GA]\",\n",
    "            \"line\": {\n",
    "                \"dash\": \"solid\",\n",
    "                \"width\": 4\n",
    "            },\n",
    "            \"xaxis\": \"x2\",\n",
    "            \"yaxis\": \"y2\",\n",
    "            \"hovertemplate\": \"<b>VS Code Extension GA</b><br><i>Issue count</i>: %{y}<br><b>Date</b>: %{x}<extra></extra>\",\n",
    "            \"type\": \"scattergl\"\n",
    "        },\n",
    "        {\n",
    "            \"y\": [\n",
    "                15,\n",
    "                15,\n",
    "                15,\n",
    "                15,\n",
    "                15,\n",
    "                15,\n",
    "                15,\n",
    "                15,\n",
    "                15,\n",
    "                15,\n",
    "                15,\n",
    "                15,\n",
    "                15,\n",
    "                15,\n",
    "                15,\n",
    "                15,\n",
    "                15,\n",
    "                15,\n",
    "                15,\n",
    "                15,\n",
    "                15,\n",
    "                15,\n",
    "                15,\n",
    "                15,\n",
    "                15,\n",
    "                15,\n",
    "                15,\n",
    "                15,\n",
    "                15,\n",
    "                15,\n",
    "                15,\n",
    "                15,\n",
    "                15,\n",
    "                15,\n",
    "                15,\n",
    "                15,\n",
    "                15,\n",
    "                15,\n",
    "                15,\n",
    "                15,\n",
    "                15,\n",
    "                15,\n",
    "                15,\n",
    "                15,\n",
    "                15,\n",
    "                15,\n",
    "                15\n",
    "            ],\n",
    "            \"x\": [\n",
    "                \"2022-10-11T21:40:38\",\n",
    "                \"2022-10-11T21:40:38\",\n",
    "                \"2022-10-12T21:40:38\",\n",
    "                \"2022-10-13T21:40:38\",\n",
    "                \"2022-10-14T21:40:38\",\n",
    "                \"2022-10-15T21:40:38\",\n",
    "                \"2022-10-16T21:40:38\",\n",
    "                \"2022-10-17T21:40:38\",\n",
    "                \"2022-10-18T21:40:38\",\n",
    "                \"2022-10-19T21:40:38\",\n",
    "                \"2022-10-20T21:40:38\",\n",
    "                \"2022-10-21T21:40:38\",\n",
    "                \"2022-10-22T21:40:38\",\n",
    "                \"2022-10-23T21:40:38\",\n",
    "                \"2022-10-24T21:40:38\",\n",
    "                \"2022-10-25T21:40:38\",\n",
    "                \"2022-10-26T21:40:38\",\n",
    "                \"2022-10-27T21:40:38\",\n",
    "                \"2022-10-28T21:40:38\",\n",
    "                \"2022-10-29T21:40:38\",\n",
    "                \"2022-10-30T21:40:38\",\n",
    "                \"2022-10-31T21:40:38\",\n",
    "                \"2022-11-01T21:40:38\",\n",
    "                \"2022-11-02T21:40:38\",\n",
    "                \"2022-11-03T21:40:38\",\n",
    "                \"2022-11-04T21:40:38\",\n",
    "                \"2022-11-05T21:40:38\",\n",
    "                \"2022-11-06T21:40:38\",\n",
    "                \"2022-11-07T21:40:38\",\n",
    "                \"2022-11-08T21:40:38\",\n",
    "                \"2022-11-09T21:40:38\",\n",
    "                \"2022-11-10T21:40:38\",\n",
    "                \"2022-11-11T21:40:38\",\n",
    "                \"2022-11-12T21:40:38\",\n",
    "                \"2022-11-13T21:40:38\",\n",
    "                \"2022-11-14T21:40:38\",\n",
    "                \"2022-11-15T21:40:38\",\n",
    "                \"2022-11-16T21:40:38\",\n",
    "                \"2022-11-17T21:40:38\",\n",
    "                \"2022-11-18T21:40:38\",\n",
    "                \"2022-11-19T21:40:38\",\n",
    "                \"2022-11-20T21:40:38\",\n",
    "                \"2022-11-21T21:40:38\",\n",
    "                \"2022-11-22T21:40:38\",\n",
    "                \"2022-11-23T21:40:38\",\n",
    "                \"2022-11-24T21:40:38\",\n",
    "                \"2022-11-25T21:40:38\"\n",
    "            ],\n",
    "            \"mode\": \"lines\",\n",
    "            \"name\": \"To Do [VS Code Extension GA]\",\n",
    "            \"line\": {\n",
    "                \"dash\": \"dashdot\",\n",
    "                \"width\": 4\n",
    "            },\n",
    "            \"xaxis\": \"x2\",\n",
    "            \"yaxis\": \"y2\",\n",
    "            \"hovertemplate\": \"<b>VS Code Extension GA Projection</b>}<br><i>Issue count</i>: %{y}<br><b>Date</b>: %{x}<extra></extra>\",\n",
    "            \"type\": \"scattergl\"\n",
    "        }\n",
    "    ],\n",
    "    \"layout\": {\n",
    "        \"title\": \"Milestone Burndown\",\n",
    "        \"grid\": {\n",
    "            \"rows\": 2,\n",
    "            \"columns\": 1,\n",
    "            \"pattern\": \"independent\"\n",
    "        },\n",
    "        \"annotations\": [\n",
    "            {\n",
    "                \"x\": \"2022-08-03T15:55:09\",\n",
    "                \"y\": 8,\n",
    "                \"yshift\": 14,\n",
    "                \"xanchor\": \"left\",\n",
    "                \"xref\": \"x1\",\n",
    "                \"yref\": \"y1\",\n",
    "                \"text\": \"API Stabilization\",\n",
    "                \"showarrow\": false\n",
    "            },\n",
    "            {\n",
    "                \"x\": \"2022-08-03T15:55:09\",\n",
    "                \"y\": 8,\n",
    "                \"xanchor\": \"center\",\n",
    "                \"yanchor\": \"bottom\",\n",
    "                \"align\": \"center\",\n",
    "                \"xref\": \"x1\",\n",
    "                \"yref\": \"y1\",\n",
    "                \"text\": \"⚠\",\n",
    "                \"showarrow\": true,\n",
    "                \"ax\": 0,\n",
    "                \"ay\": -24,\n",
    "                \"font\": {\n",
    "                    \"color\": \"red\",\n",
    "                    \"size\": 30\n",
    "                }\n",
    "            },\n",
    "            {\n",
    "                \"x\": \"2021-10-05T21:40:38\",\n",
    "                \"y\": 38,\n",
    "                \"yshift\": 14,\n",
    "                \"xanchor\": \"left\",\n",
    "                \"xref\": \"x2\",\n",
    "                \"yref\": \"y2\",\n",
    "                \"text\": \"VS Code Extension GA\",\n",
    "                \"showarrow\": false\n",
    "            },\n",
    "            {\n",
    "                \"x\": \"2022-10-11T21:40:38\",\n",
    "                \"y\": 15,\n",
    "                \"xanchor\": \"center\",\n",
    "                \"yanchor\": \"bottom\",\n",
    "                \"align\": \"center\",\n",
    "                \"xref\": \"x2\",\n",
    "                \"yref\": \"y2\",\n",
    "                \"text\": \"⚠\",\n",
    "                \"showarrow\": true,\n",
    "                \"ax\": 0,\n",
    "                \"ay\": -24,\n",
    "                \"font\": {\n",
    "                    \"color\": \"red\",\n",
    "                    \"size\": 30\n",
    "                }\n",
    "            }\n",
    "        ],\n",
    "        \"xaxis1}\": {},\n",
    "        \"yaxis1\": {\n",
    "            \"title\": \"Open items\"\n",
    "        },\n",
    "        \"xaxis2}\": {},\n",
    "        \"yaxis2\": {\n",
    "            \"title\": \"Open items\"\n",
    "        }\n",
    "    }\n",
    "};\n",
    "\n",
    "plotlyloader(['d3', 'plotly'], function (d3, plotly) {\n",
    "    console.log(\"Plotly loaded\"); \n",
    "    plotly.newPlot('target', d.traces, d.layout, {responsive: true});\n",
    "});"
   ]
  }
 ],
 "metadata": {
  "kernelspec": {
   "display_name": ".NET (C#)",
   "language": "C#",
   "name": ".net-csharp"
  },
  "language_info": {
   "file_extension": ".cs",
   "mimetype": "text/x-csharp",
   "name": "C#",
   "pygments_lexer": "csharp",
   "version": "10.0"
  }
 },
 "nbformat": 4,
 "nbformat_minor": 4
}
