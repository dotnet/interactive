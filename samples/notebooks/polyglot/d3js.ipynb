{
 "cells": [
  {
   "cell_type": "markdown",
   "metadata": {},
   "source": [
    "[this doc on github](https://github.com/dotnet/interactive/tree/master/samples/notebooks/polyglot)\n",
    "\n",
    "# Visualizing data using d3js\n",
    "\n",
    "**This is a work in progress.** It doesn't work yet in [Binder](https://mybinder.org/v2/gh/dotnet/interactive/master?urlpath=lab) because it relies on HTTP communication between the kernel and the Jupyter frontend.\n",
    "\n",
    "This notebooks uses directly [d3.js](https://d3js.org/) library to perform custom data visualisation."
   ]
  },
  {
   "cell_type": "code",
   "execution_count": null,
   "metadata": {},
   "outputs": [],
   "source": [
    "var rnd = new Random();\n",
    "var a = Enumerable.Range(1,rnd.Next(4,12)).Select( t => rnd.Next(t, t*10)).ToArray();"
   ]
  },
  {
   "cell_type": "markdown",
   "metadata": {},
   "source": [
    "Using [RequireJS](https://requirejs.org/) we import [d3.js](https://d3js.org/). We setup the rendering code, some SVG filter inspiredy by [Visual Cinnamon](https://www.visualcinnamon.com/) article on [gooey effect](https://www.visualcinnamon.com/2016/06/fun-data-visualizations-svg-gooey-effect).\n",
    "\n",
    "Using `interactive.csharp.getVariable` we fetch the variable `a` value."
   ]
  },
  {
   "cell_type": "code",
   "execution_count": null,
   "metadata": {},
   "outputs": [],
   "source": [
    "#!js\n",
    "\n",
    "if (typeof (notebookScope.interval) !== 'undefined') {\n",
    "    clearInterval(notebookScope.interval);\n",
    "}\n",
    "\n",
    "notebookScope.plot = (sgvSelector, variableName) => {\n",
    "    let dtreeLoader = interactive.configureRequire({\n",
    "        paths: {\n",
    "            d3: \"https://d3js.org/d3.v6.min\"\n",
    "        }\n",
    "    });\n",
    "    dtreeLoader([\"d3\"], function (d3) {\n",
    "        let svg = d3.\n",
    "            select(sgvSelector);\n",
    "        svg.selectAll(\"defs\").remove();\n",
    "        svg.selectAll(\"g\").remove();\n",
    "\n",
    "        let defs = svg.append(\"defs\");\n",
    "\n",
    "        let filter = defs.append(\"filter\").attr(\"id\", \"gooeyCodeFilter\");\n",
    "\n",
    "        filter.append(\"feGaussianBlur\")\n",
    "            .attr(\"in\", \"SourceGraphic\")\n",
    "            .attr(\"stdDeviation\", \"10\")\n",
    "            .attr(\"color-interpolation-filters\", \"sRGB\")\n",
    "            .attr(\"result\", \"blur\");\n",
    "\n",
    "        filter.append(\"feColorMatrix\")\n",
    "            .attr(\"in\", \"blur\")\n",
    "            .attr(\"mode\", \"matrix\")\n",
    "            .attr(\"values\", \"1 0 0 0 0  0 1 0 0 0  0 0 1 0 0  0 0 0 19 -9\")\n",
    "            .attr(\"result\", \"gooey\");\n",
    "\n",
    "        let container = d3\n",
    "            .select(sgvSelector)\n",
    "            .append(\"g\")\n",
    "            .style(\"filter\", \"url(#gooeyCodeFilter)\");\n",
    "\n",
    "\n",
    "        console.log(container);\n",
    "\n",
    "        let updateD3Rendering = () => interactive.csharp.getVariable(variableName)\n",
    "            .then(data => {\n",
    "                var i = 0;\n",
    "                var p = container\n",
    "                    .selectAll(\".points\")\n",
    "                    .data(data, (d, i) => i);\n",
    "\n",
    "                p.transition()\n",
    "                    .duration(2000)\n",
    "                    .style(\"fill\", d => d3.interpolateTurbo(d / 80))\n",
    "                    .attr(\"r\", d => Math.max(0, d));\n",
    "\n",
    "                p.enter()\n",
    "                    .append(\"circle\")\n",
    "                    .attr(\"class\", \"points\")\n",
    "                    .attr(\"cy\", 80)\n",
    "                    .attr(\"cx\", (d,i) => ((i) + 1) * 60)\n",
    "                    .transition()\n",
    "                    .duration(2000)\n",
    "                    .style(\"fill\", d => d3.interpolateTurbo(d / 80))\n",
    "                    .ease(d3.easeElasticOut.period(1.00))\n",
    "                    .attr(\"r\", d => Math.max(0, d)),\n",
    "\n",
    "                    p.exit()\n",
    "                        .transition()\n",
    "                        .duration(1000)\n",
    "                        .attr(\"r\", 0)\n",
    "                        .remove();\n",
    "            });\n",
    "        notebookScope.interval = setInterval(() => updateD3Rendering(), 3000);\n",
    "    });\n",
    "}"
   ]
  },
  {
   "cell_type": "markdown",
   "metadata": {},
   "source": [
    "Notice the `setInterval` call near the end of the previous cell. This rechecks the data in the kernel and updates the plot.\n",
    "\n",
    "Back on the kernel, we can now update the data so that the kernel can see it.\n",
    "\n",
    "Yes, this is a contrived example, and we're planning to support true streaming data, but it's a start."
   ]
  },
  {
   "cell_type": "code",
   "execution_count": null,
   "metadata": {},
   "outputs": [],
   "source": [
    "#!html\n",
    "<svg id=\"dataPlot1\" width=\"100%\" height=200></svg>\n",
    "\n",
    "#!js\n",
    "notebookScope.plot(\"svg#dataPlot1\", \"a\");\n"
   ]
  },
  {
   "cell_type": "code",
   "execution_count": null,
   "metadata": {},
   "outputs": [],
   "source": [
    "#!csharp\n",
    "for(var i = 0; i < 10; i++){\n",
    "    await Task.Delay(1000);\n",
    "    var limit = rnd.Next(4,12);\n",
    "    a = Enumerable.Range(1,limit).Select( t => rnd.Next(30, 80)).ToArray();\n",
    "}"
   ]
  },
  {
   "cell_type": "code",
   "execution_count": null,
   "metadata": {},
   "outputs": [],
   "source": []
  }
 ],
 "metadata": {
  "kernelspec": {
   "display_name": ".NET (C#)",
   "language": "C#",
   "name": ".net-csharp"
  },
  "language_info": {
   "file_extension": ".cs",
   "mimetype": "text/x-csharp",
   "name": "C#",
   "pygments_lexer": "csharp",
   "version": "8.0"
  }
 },
 "nbformat": 4,
 "nbformat_minor": 4
}
