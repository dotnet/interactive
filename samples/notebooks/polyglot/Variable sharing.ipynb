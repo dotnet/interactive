{
 "cells": [
  {
   "cell_type": "markdown",
   "metadata": {},
   "source": [
    "[this doc on github](https://github.com/dotnet/interactive/tree/master/samples/notebooks/csharp/Docs)\n",
    "\n",
    "# Variable Sharing\n",
    "\n",
    ".NET Interactive enables you to write code in multiple languages within a single notebook and in order to take advantage of those languages' different strengths, you might find it useful to share data between them. By default, .NET Interactive provides [subkernels](https://github.com/dotnet/interactive/blob/master/docs/kernels-overview.md) for three different languages within the same process. You can share variables between .NET subkernels using the `#!share` magic command."
   ]
  },
  {
   "cell_type": "code",
   "execution_count": 6,
   "metadata": {},
   "outputs": [
    {
     "data": {
      "text/plain": [
       "C# subkernel value"
      ]
     },
     "execution_count": 6,
     "metadata": {},
     "output_type": "execute_result"
    }
   ],
   "source": [
    "#!csharp\n",
    "var x = \"C# subkernel value\";\n",
    "x"
   ]
  },
  {
   "cell_type": "code",
   "execution_count": 7,
   "metadata": {},
   "outputs": [
    {
     "data": {
      "text/plain": [
       "C# subkernel value, accessed from F# subkernel"
      ]
     },
     "execution_count": 7,
     "metadata": {},
     "output_type": "execute_result"
    }
   ],
   "source": [
    "#!fsharp\n",
    "#!share --from csharp x\n",
    "sprintf \"%s, accessed from F# subkernel\" x"
   ]
  },
  {
   "cell_type": "markdown",
   "metadata": {},
   "source": [
    "Variables are shared by reference for reference types. A consequence of this is that if you share a mutable object, changes to its state will be visible across subkernels:"
   ]
  },
  {
   "cell_type": "code",
   "execution_count": 8,
   "metadata": {},
   "outputs": [
    {
     "data": {
      "text/html": [
       "<table><thead><tr><th><i>index</i></th><th>value</th></tr></thead><tbody><tr><td>0</td><td>Added by F#</td></tr></tbody></table>"
      ]
     },
     "execution_count": 8,
     "metadata": {},
     "output_type": "execute_result"
    }
   ],
   "source": [
    "#!fsharp\n",
    "open System.Collections.Generic\n",
    "\n",
    "let list = List<string>()\n",
    "list.Add \"Added by F#\"\n",
    "list    "
   ]
  },
  {
   "cell_type": "code",
   "execution_count": 9,
   "metadata": {},
   "outputs": [
    {
     "data": {
      "text/html": [
       "<table><thead><tr><th><i>index</i></th><th>value</th></tr></thead><tbody><tr><td>0</td><td>Added by F#</td></tr><tr><td>1</td><td>Added by C#</td></tr></tbody></table>"
      ]
     },
     "execution_count": 9,
     "metadata": {},
     "output_type": "execute_result"
    }
   ],
   "source": [
    "#!csharp\n",
    "#!share --from fsharp list\n",
    "\n",
    "list.Add(\"Added by C#\");\n",
    "\n",
    "list"
   ]
  },
  {
   "cell_type": "code",
   "execution_count": 10,
   "metadata": {},
   "outputs": [
    {
     "data": {
      "text/html": [
       "<table><thead><tr><th><i>index</i></th><th>value</th></tr></thead><tbody><tr><td>0</td><td>Added by F#</td></tr><tr><td>1</td><td>Added by C#</td></tr></tbody></table>"
      ]
     },
     "execution_count": 10,
     "metadata": {},
     "output_type": "execute_result"
    }
   ],
   "source": [
    "#!fsharp\n",
    "\n",
    "list"
   ]
  },
  {
   "cell_type": "markdown",
   "metadata": {},
   "source": [
    "# Direct data entry with `#!value`\n",
    "\n",
    "It's common to have text that you'd like to use in a notebook. It might be JSON, CSV, XML, or some other format. It might be in a file, in your clipboard, or on the web. The `#!value` magic command is available to make it as easy as possible to get that text into a variable in your notebook. An important thing to know is that `#!value` is an alias to a  subkernel designed just to hold values. This means that once you store something in it, you can access it from another subkernel using `#!share`.\n",
    "\n",
    "There are three ways to use `#!value` to get data into your notebook session:\n",
    "\n",
    "### 1. From the clipboard\n",
    "\n",
    " The simplest way to use `#!value` is to paste some text into the cell. The text will be stored as a string, but unlike using a `string` literal in C#, F#, or PowerShell, there's no need to escape anything.\n"
   ]
  },
  {
   "cell_type": "code",
   "execution_count": 11,
   "metadata": {},
   "outputs": [],
   "source": [
    "#!value --name someJson\n",
    "    \n",
    "{ \n",
    "    \"what\": \"some JSON\", \n",
    "    \"why\": \"to share it with another subkernel\"\n",
    "}"
   ]
  },
  {
   "cell_type": "code",
   "execution_count": 12,
   "metadata": {},
   "outputs": [
    {
     "data": {
      "text/plain": [
       "{\r\n",
       "  \"what\": \"some JSON\",\r\n",
       "  \"why\": \"to share it with another subkernel\"\r\n",
       "}"
      ]
     },
     "execution_count": 12,
     "metadata": {},
     "output_type": "execute_result"
    }
   ],
   "source": [
    "#!share someJson --from value\n",
    "    \n",
    "using Newtonsoft.Json.Linq;\n",
    "var jObject = JObject.Parse(someJson);\n",
    "jObject.ToString()"
   ]
  },
  {
   "cell_type": "markdown",
   "metadata": {},
   "source": [
    "\n",
    "### 2. From a file\n",
    "\n",
    "If the data you want to read into your notebook is stored in a file, you can use `#!value` with the `--from-file` option:"
   ]
  },
  {
   "cell_type": "code",
   "execution_count": 13,
   "metadata": {},
   "outputs": [],
   "source": [
    "#!value --from-file data.json --name someJson"
   ]
  },
  {
   "cell_type": "code",
   "execution_count": 14,
   "metadata": {},
   "outputs": [
    {
     "data": {
      "text/plain": [
       "{\r\n",
       "    \"what\": \"widget\",\r\n",
       "    \"howMany\": 123\r\n",
       "}"
      ]
     },
     "execution_count": 14,
     "metadata": {},
     "output_type": "execute_result"
    }
   ],
   "source": [
    "#!share someJson --from value\n",
    "someJson"
   ]
  },
  {
   "cell_type": "markdown",
   "metadata": {},
   "source": [
    "\n",
    "### 3. From a URL\n",
    "\n",
    "You can pull data into your notebook from a URL as well, using the `--from-url` option. \n"
   ]
  },
  {
   "cell_type": "code",
   "execution_count": 15,
   "metadata": {},
   "outputs": [],
   "source": [
    "#!value --from-url https://dot.net --name dn"
   ]
  },
  {
   "cell_type": "code",
   "execution_count": null,
   "metadata": {},
   "outputs": [],
   "source": [
    "#!share --from value dn\n",
    "display(dn, \"text/html\");"
   ]
  },
  {
   "cell_type": "markdown",
   "metadata": {},
   "source": [
    "## Specifying a MIME type\n",
    "\n",
    "Regardless of which of these approaches you use, you can additionally choose to display the value in the notebook at the time of submission by using the `--mime-type` option. This accomplishes a few things. If your notebook frontend knows how to display that mime type, you can see it appropriately formatted:"
   ]
  },
  {
   "cell_type": "code",
   "execution_count": 17,
   "metadata": {},
   "outputs": [
    {
     "data": {
      "application/json": {
       "what": "some JSON",
       "why": [
        "to share it with another subkernel",
        "to see it in a treeview"
       ]
      }
     },
     "metadata": {},
     "output_type": "display_data"
    }
   ],
   "source": [
    "#!value --name someJson --mime-type application/json\n",
    "    \n",
    "{ \n",
    "    \"what\": \"some JSON\", \n",
    "    \"why\": \n",
    "        [\n",
    "            \"to share it with another subkernel\",\n",
    "            \"to see it in a treeview\"\n",
    "        ]\n",
    "}"
   ]
  },
  {
   "cell_type": "markdown",
   "metadata": {},
   "source": [
    "This also causes the value to be saved in your `.ipynb` file, something that would not otherwise happen.\n"
   ]
  },
  {
   "cell_type": "markdown",
   "metadata": {},
   "source": [
    "\n",
    "This also effectively stores the value in your `.ipynb` file, something that would not otherwise happen.\n"
   ]
  },
  {
   "cell_type": "markdown",
   "metadata": {},
   "source": [
    "## Limitations\n",
    "\n",
    "Variable sharing has some limitations to be aware of. When sharing a variable with a subkernel where its compilation requirements aren't met, for example due to a missing `using` (C#) or `open` (F#) declaration, a custom type defined in the notebook, or a missing assembly reference, `#!share` will fail. This limitation may be lifted in the future but for now, if you want to share variables of types that aren't imported by default, you will have to explicitly run the necessary import code in the destination kernel.\n"
   ]
  },
  {
   "cell_type": "code",
   "execution_count": 18,
   "metadata": {},
   "outputs": [],
   "source": [
    "#!csharp \n",
    "public class DefinedInCSharp { }\n",
    "\n",
    "var csharpInstance = new DefinedInCSharp();"
   ]
  },
  {
   "cell_type": "code",
   "execution_count": 19,
   "metadata": {},
   "outputs": [
    {
     "ename": "Unhandled exception",
     "evalue": "System.InvalidOperationException: Unable to import type, Submission#17+DefinedInCSharp.\r\n ---> System.InvalidOperationException: Unable to import type, Submission#17+DefinedInCSharp.\r\n   at FSharp.Compiler.Interactive.Shell.FsiDynamicCompiler.importReflectionType(FsiDynamicCompilerState istate, Type reflectionTy) in F:\\workspace\\_work\\1\\s\\src\\fsharp\\fsi\\fsi.fs:line 1340\r\n   at FSharp.Compiler.Interactive.Shell.FsiDynamicCompiler.AddBoundValue(CompilationThreadToken ctok, ErrorLogger errorLogger, FsiDynamicCompilerState istate, String name, Object value) in F:\\workspace\\_work\\1\\s\\src\\fsharp\\fsi\\fsi.fs:line 1595\r\n   --- End of inner exception stack trace ---\r\n   at FSharp.Compiler.Interactive.Shell.FsiEvaluationSession.commitResult[a,b](FSharpChoice`2 res) in F:\\workspace\\_work\\1\\s\\src\\fsharp\\fsi\\fsi.fs:line 2831\r\n   at FSharp.Compiler.Interactive.Shell.FsiEvaluationSession.AddBoundValue(String name, Object value) in F:\\workspace\\_work\\1\\s\\src\\fsharp\\fsi\\fsi.fs:line 3032\r\n   at Microsoft.DotNet.Interactive.FSharp.FSharpKernelBase.SetVariableAsync(String name, Object value) in C:\\dev\\interactive\\src\\Microsoft.DotNet.Interactive.FSharp\\FSharpKernel.fs:line 175\r\n   at Microsoft.DotNet.Interactive.KernelExtensions.<>c__DisplayClass4_0`1.<<UseDotNetVariableSharing>b__2>d.MoveNext() in C:\\dev\\interactive\\src\\Microsoft.DotNet.Interactive\\KernelExtensions.cs:line 177\r\n--- End of stack trace from previous location where exception was thrown ---\r\n   at System.CommandLine.Invocation.CommandHandler.GetResultCodeAsync(Object value, InvocationContext context)\r\n   at System.CommandLine.Invocation.ModelBindingCommandHandler.InvokeAsync(InvocationContext context)\r\n   at System.CommandLine.Invocation.InvocationPipeline.<>c__DisplayClass4_0.<<BuildInvocationChain>b__0>d.MoveNext()\r\n--- End of stack trace from previous location where exception was thrown ---\r\n   at System.CommandLine.Builder.CommandLineBuilderExtensions.<>c__DisplayClass19_0.<<UseMiddleware>b__0>d.MoveNext()\r\n--- End of stack trace from previous location where exception was thrown ---\r\n   at System.CommandLine.Builder.CommandLineBuilderExtensions.<>c__DisplayClass16_0.<<UseHelp>b__0>d.MoveNext()\r\n--- End of stack trace from previous location where exception was thrown ---\r\n   at System.CommandLine.Builder.CommandLineBuilderExtensions.<>c__DisplayClass23_0.<<UseTypoCorrections>b__0>d.MoveNext()\r\n--- End of stack trace from previous location where exception was thrown ---\r\n   at System.CommandLine.Invocation.InvocationPipeline.InvokeAsync(IConsole console)\r\n   at System.CommandLine.Parsing.ParseResultExtensions.InvokeAsync(ParseResult parseResult, IConsole console)\r\n   at Microsoft.DotNet.Interactive.Commands.DirectiveCommand.InvokeAsync(KernelInvocationContext context) in C:\\dev\\interactive\\src\\Microsoft.DotNet.Interactive\\Commands\\DirectiveCommand.cs:line 34\r\n   at Microsoft.DotNet.Interactive.Kernel.<AddDirectiveMiddlewareAndCommonCommandHandlers>b__21_0(KernelCommand originalCommand, KernelInvocationContext context, KernelPipelineContinuation next) in C:\\dev\\interactive\\src\\Microsoft.DotNet.Interactive\\Kernel.cs:line 134\r\n   at Microsoft.DotNet.Interactive.KernelCommandPipeline.<>c__DisplayClass6_1.<<BuildPipeline>b__3>d.MoveNext() in C:\\dev\\interactive\\src\\Microsoft.DotNet.Interactive\\KernelCommandPipeline.cs:line 74\r\n--- End of stack trace from previous location where exception was thrown ---\r\n   at Microsoft.DotNet.Interactive.Kernel.SetKernel(KernelCommand command, KernelInvocationContext context, KernelPipelineContinuation next) in C:\\dev\\interactive\\src\\Microsoft.DotNet.Interactive\\Kernel.cs:line 218\r\n   at Microsoft.DotNet.Interactive.KernelCommandPipeline.<>c__DisplayClass6_1.<<BuildPipeline>b__3>d.MoveNext() in C:\\dev\\interactive\\src\\Microsoft.DotNet.Interactive\\KernelCommandPipeline.cs:line 74\r\n--- End of stack trace from previous location where exception was thrown ---\r\n   at Microsoft.DotNet.Interactive.Kernel.<>c.<<AddCaptureConsoleMiddleware>b__20_0>d.MoveNext() in C:\\dev\\interactive\\src\\Microsoft.DotNet.Interactive\\Kernel.cs:line 100\r\n--- End of stack trace from previous location where exception was thrown ---\r\n   at Microsoft.DotNet.Interactive.KernelCommandPipeline.<>c__DisplayClass6_0.<<BuildPipeline>g__Combine|2>d.MoveNext() in C:\\dev\\interactive\\src\\Microsoft.DotNet.Interactive\\KernelCommandPipeline.cs:line 70\r\n--- End of stack trace from previous location where exception was thrown ---\r\n   at Microsoft.DotNet.Interactive.KernelCommandPipeline.<>c__DisplayClass6_0.<<BuildPipeline>g__Combine|2>d.MoveNext() in C:\\dev\\interactive\\src\\Microsoft.DotNet.Interactive\\KernelCommandPipeline.cs:line 70\r\n--- End of stack trace from previous location where exception was thrown ---\r\n   at Microsoft.DotNet.Interactive.KernelCommandPipeline.<>c__DisplayClass6_0.<<BuildPipeline>g__Combine|2>d.MoveNext() in C:\\dev\\interactive\\src\\Microsoft.DotNet.Interactive\\KernelCommandPipeline.cs:line 70\r\n--- End of stack trace from previous location where exception was thrown ---\r\n   at Microsoft.DotNet.Interactive.KernelCommandPipeline.SendAsync(KernelCommand command, KernelInvocationContext context) in C:\\dev\\interactive\\src\\Microsoft.DotNet.Interactive\\KernelCommandPipeline.cs:line 42",
     "output_type": "error",
     "traceback": [
      "System.InvalidOperationException: Unable to import type, Submission#17+DefinedInCSharp.\r\n ---> System.InvalidOperationException: Unable to import type, Submission#17+DefinedInCSharp.\r\n   at FSharp.Compiler.Interactive.Shell.FsiDynamicCompiler.importReflectionType(FsiDynamicCompilerState istate, Type reflectionTy) in F:\\workspace\\_work\\1\\s\\src\\fsharp\\fsi\\fsi.fs:line 1340\r\n   at FSharp.Compiler.Interactive.Shell.FsiDynamicCompiler.AddBoundValue(CompilationThreadToken ctok, ErrorLogger errorLogger, FsiDynamicCompilerState istate, String name, Object value) in F:\\workspace\\_work\\1\\s\\src\\fsharp\\fsi\\fsi.fs:line 1595\r\n   --- End of inner exception stack trace ---\r\n   at FSharp.Compiler.Interactive.Shell.FsiEvaluationSession.commitResult[a,b](FSharpChoice`2 res) in F:\\workspace\\_work\\1\\s\\src\\fsharp\\fsi\\fsi.fs:line 2831\r\n   at FSharp.Compiler.Interactive.Shell.FsiEvaluationSession.AddBoundValue(String name, Object value) in F:\\workspace\\_work\\1\\s\\src\\fsharp\\fsi\\fsi.fs:line 3032\r\n   at Microsoft.DotNet.Interactive.FSharp.FSharpKernelBase.SetVariableAsync(String name, Object value) in C:\\dev\\interactive\\src\\Microsoft.DotNet.Interactive.FSharp\\FSharpKernel.fs:line 175\r\n   at Microsoft.DotNet.Interactive.KernelExtensions.<>c__DisplayClass4_0`1.<<UseDotNetVariableSharing>b__2>d.MoveNext() in C:\\dev\\interactive\\src\\Microsoft.DotNet.Interactive\\KernelExtensions.cs:line 177\r\n--- End of stack trace from previous location where exception was thrown ---\r\n   at System.CommandLine.Invocation.CommandHandler.GetResultCodeAsync(Object value, InvocationContext context)\r\n   at System.CommandLine.Invocation.ModelBindingCommandHandler.InvokeAsync(InvocationContext context)\r\n   at System.CommandLine.Invocation.InvocationPipeline.<>c__DisplayClass4_0.<<BuildInvocationChain>b__0>d.MoveNext()\r\n--- End of stack trace from previous location where exception was thrown ---\r\n   at System.CommandLine.Builder.CommandLineBuilderExtensions.<>c__DisplayClass19_0.<<UseMiddleware>b__0>d.MoveNext()\r\n--- End of stack trace from previous location where exception was thrown ---\r\n   at System.CommandLine.Builder.CommandLineBuilderExtensions.<>c__DisplayClass16_0.<<UseHelp>b__0>d.MoveNext()\r\n--- End of stack trace from previous location where exception was thrown ---\r\n   at System.CommandLine.Builder.CommandLineBuilderExtensions.<>c__DisplayClass23_0.<<UseTypoCorrections>b__0>d.MoveNext()\r\n--- End of stack trace from previous location where exception was thrown ---\r\n   at System.CommandLine.Invocation.InvocationPipeline.InvokeAsync(IConsole console)\r\n   at System.CommandLine.Parsing.ParseResultExtensions.InvokeAsync(ParseResult parseResult, IConsole console)\r\n   at Microsoft.DotNet.Interactive.Commands.DirectiveCommand.InvokeAsync(KernelInvocationContext context) in C:\\dev\\interactive\\src\\Microsoft.DotNet.Interactive\\Commands\\DirectiveCommand.cs:line 34\r\n   at Microsoft.DotNet.Interactive.Kernel.<AddDirectiveMiddlewareAndCommonCommandHandlers>b__21_0(KernelCommand originalCommand, KernelInvocationContext context, KernelPipelineContinuation next) in C:\\dev\\interactive\\src\\Microsoft.DotNet.Interactive\\Kernel.cs:line 134\r\n   at Microsoft.DotNet.Interactive.KernelCommandPipeline.<>c__DisplayClass6_1.<<BuildPipeline>b__3>d.MoveNext() in C:\\dev\\interactive\\src\\Microsoft.DotNet.Interactive\\KernelCommandPipeline.cs:line 74\r\n--- End of stack trace from previous location where exception was thrown ---\r\n   at Microsoft.DotNet.Interactive.Kernel.SetKernel(KernelCommand command, KernelInvocationContext context, KernelPipelineContinuation next) in C:\\dev\\interactive\\src\\Microsoft.DotNet.Interactive\\Kernel.cs:line 218\r\n   at Microsoft.DotNet.Interactive.KernelCommandPipeline.<>c__DisplayClass6_1.<<BuildPipeline>b__3>d.MoveNext() in C:\\dev\\interactive\\src\\Microsoft.DotNet.Interactive\\KernelCommandPipeline.cs:line 74\r\n--- End of stack trace from previous location where exception was thrown ---\r\n   at Microsoft.DotNet.Interactive.Kernel.<>c.<<AddCaptureConsoleMiddleware>b__20_0>d.MoveNext() in C:\\dev\\interactive\\src\\Microsoft.DotNet.Interactive\\Kernel.cs:line 100\r\n--- End of stack trace from previous location where exception was thrown ---\r\n   at Microsoft.DotNet.Interactive.KernelCommandPipeline.<>c__DisplayClass6_0.<<BuildPipeline>g__Combine|2>d.MoveNext() in C:\\dev\\interactive\\src\\Microsoft.DotNet.Interactive\\KernelCommandPipeline.cs:line 70\r\n--- End of stack trace from previous location where exception was thrown ---\r\n   at Microsoft.DotNet.Interactive.KernelCommandPipeline.<>c__DisplayClass6_0.<<BuildPipeline>g__Combine|2>d.MoveNext() in C:\\dev\\interactive\\src\\Microsoft.DotNet.Interactive\\KernelCommandPipeline.cs:line 70\r\n--- End of stack trace from previous location where exception was thrown ---\r\n   at Microsoft.DotNet.Interactive.KernelCommandPipeline.<>c__DisplayClass6_0.<<BuildPipeline>g__Combine|2>d.MoveNext() in C:\\dev\\interactive\\src\\Microsoft.DotNet.Interactive\\KernelCommandPipeline.cs:line 70\r\n--- End of stack trace from previous location where exception was thrown ---\r\n   at Microsoft.DotNet.Interactive.KernelCommandPipeline.SendAsync(KernelCommand command, KernelInvocationContext context) in C:\\dev\\interactive\\src\\Microsoft.DotNet.Interactive\\KernelCommandPipeline.cs:line 42",
      "   at FSharp.Compiler.Interactive.Shell.FsiEvaluationSession.commitResult[a,b](FSharpChoice`2 res) in F:\\workspace\\_work\\1\\s\\src\\fsharp\\fsi\\fsi.fs:line 2831",
      "   at FSharp.Compiler.Interactive.Shell.FsiEvaluationSession.AddBoundValue(String name, Object value) in F:\\workspace\\_work\\1\\s\\src\\fsharp\\fsi\\fsi.fs:line 3032",
      "   at Microsoft.DotNet.Interactive.FSharp.FSharpKernelBase.SetVariableAsync(String name, Object value) in C:\\dev\\interactive\\src\\Microsoft.DotNet.Interactive.FSharp\\FSharpKernel.fs:line 175",
      "   at Microsoft.DotNet.Interactive.KernelExtensions.<>c__DisplayClass4_0`1.<<UseDotNetVariableSharing>b__2>d.MoveNext() in C:\\dev\\interactive\\src\\Microsoft.DotNet.Interactive\\KernelExtensions.cs:line 177",
      "--- End of stack trace from previous location where exception was thrown ---",
      "   at System.CommandLine.Invocation.CommandHandler.GetResultCodeAsync(Object value, InvocationContext context)",
      "   at System.CommandLine.Invocation.ModelBindingCommandHandler.InvokeAsync(InvocationContext context)",
      "   at System.CommandLine.Invocation.InvocationPipeline.<>c__DisplayClass4_0.<<BuildInvocationChain>b__0>d.MoveNext()",
      "--- End of stack trace from previous location where exception was thrown ---",
      "   at System.CommandLine.Builder.CommandLineBuilderExtensions.<>c__DisplayClass19_0.<<UseMiddleware>b__0>d.MoveNext()",
      "--- End of stack trace from previous location where exception was thrown ---",
      "   at System.CommandLine.Builder.CommandLineBuilderExtensions.<>c__DisplayClass16_0.<<UseHelp>b__0>d.MoveNext()",
      "--- End of stack trace from previous location where exception was thrown ---",
      "   at System.CommandLine.Builder.CommandLineBuilderExtensions.<>c__DisplayClass23_0.<<UseTypoCorrections>b__0>d.MoveNext()",
      "--- End of stack trace from previous location where exception was thrown ---",
      "   at System.CommandLine.Invocation.InvocationPipeline.InvokeAsync(IConsole console)",
      "   at System.CommandLine.Parsing.ParseResultExtensions.InvokeAsync(ParseResult parseResult, IConsole console)",
      "   at Microsoft.DotNet.Interactive.Commands.DirectiveCommand.InvokeAsync(KernelInvocationContext context) in C:\\dev\\interactive\\src\\Microsoft.DotNet.Interactive\\Commands\\DirectiveCommand.cs:line 34",
      "   at Microsoft.DotNet.Interactive.Kernel.<AddDirectiveMiddlewareAndCommonCommandHandlers>b__21_0(KernelCommand originalCommand, KernelInvocationContext context, KernelPipelineContinuation next) in C:\\dev\\interactive\\src\\Microsoft.DotNet.Interactive\\Kernel.cs:line 134",
      "   at Microsoft.DotNet.Interactive.KernelCommandPipeline.<>c__DisplayClass6_1.<<BuildPipeline>b__3>d.MoveNext() in C:\\dev\\interactive\\src\\Microsoft.DotNet.Interactive\\KernelCommandPipeline.cs:line 74",
      "--- End of stack trace from previous location where exception was thrown ---",
      "   at Microsoft.DotNet.Interactive.Kernel.SetKernel(KernelCommand command, KernelInvocationContext context, KernelPipelineContinuation next) in C:\\dev\\interactive\\src\\Microsoft.DotNet.Interactive\\Kernel.cs:line 218",
      "   at Microsoft.DotNet.Interactive.KernelCommandPipeline.<>c__DisplayClass6_1.<<BuildPipeline>b__3>d.MoveNext() in C:\\dev\\interactive\\src\\Microsoft.DotNet.Interactive\\KernelCommandPipeline.cs:line 74",
      "--- End of stack trace from previous location where exception was thrown ---",
      "   at Microsoft.DotNet.Interactive.Kernel.<>c.<<AddCaptureConsoleMiddleware>b__20_0>d.MoveNext() in C:\\dev\\interactive\\src\\Microsoft.DotNet.Interactive\\Kernel.cs:line 100",
      "--- End of stack trace from previous location where exception was thrown ---",
      "   at Microsoft.DotNet.Interactive.KernelCommandPipeline.<>c__DisplayClass6_0.<<BuildPipeline>g__Combine|2>d.MoveNext() in C:\\dev\\interactive\\src\\Microsoft.DotNet.Interactive\\KernelCommandPipeline.cs:line 70",
      "--- End of stack trace from previous location where exception was thrown ---",
      "   at Microsoft.DotNet.Interactive.KernelCommandPipeline.<>c__DisplayClass6_0.<<BuildPipeline>g__Combine|2>d.MoveNext() in C:\\dev\\interactive\\src\\Microsoft.DotNet.Interactive\\KernelCommandPipeline.cs:line 70",
      "--- End of stack trace from previous location where exception was thrown ---",
      "   at Microsoft.DotNet.Interactive.KernelCommandPipeline.<>c__DisplayClass6_0.<<BuildPipeline>g__Combine|2>d.MoveNext() in C:\\dev\\interactive\\src\\Microsoft.DotNet.Interactive\\KernelCommandPipeline.cs:line 70",
      "--- End of stack trace from previous location where exception was thrown ---",
      "   at Microsoft.DotNet.Interactive.KernelCommandPipeline.SendAsync(KernelCommand command, KernelInvocationContext context) in C:\\dev\\interactive\\src\\Microsoft.DotNet.Interactive\\KernelCommandPipeline.cs:line 42"
     ]
    }
   ],
   "source": [
    "#!fsharp\n",
    "#!share --from csharp csharpInstance\n",
    "csharpInstance"
   ]
  },
  {
   "cell_type": "code",
   "execution_count": null,
   "metadata": {},
   "outputs": [],
   "source": []
  }
 ],
 "metadata": {
  "kernelspec": {
   "display_name": ".NET (C#)",
   "language": "C#",
   "name": ".net-csharp"
  },
  "language_info": {
   "file_extension": ".cs",
   "mimetype": "text/x-csharp",
   "name": "C#",
   "pygments_lexer": "csharp",
   "version": "8.0"
  }
 },
 "nbformat": 4,
 "nbformat_minor": 2
}
