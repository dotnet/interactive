{
 "cells": [
  {
   "cell_type": "markdown",
   "id": "91ee47dc",
   "metadata": {
    "polyglot_notebook": {
     "kernelName": "pwsh"
    }
   },
   "source": [
    "# Overview\n",
    "\n",
    "This is an example of using [DataFrame](https://github.com/nightroman/DataFrame) module in .NET Ineractive notebooks using PowerShell"
   ]
  },
  {
   "cell_type": "markdown",
   "id": "4359abf4",
   "metadata": {},
   "source": [
    "First we need to load the correct version of the `Microsoft.Data.Analysis` package, along with `Microsoft.DotNet.Interactive.ExtensionLab` which performs formatting"
   ]
  },
  {
   "cell_type": "code",
   "execution_count": null,
   "id": "2e425e3a",
   "metadata": {
    "polyglot_notebook": {
     "kernelName": "csharp"
    }
   },
   "outputs": [],
   "source": [
    "#r \"nuget: Microsoft.Data.Analysis, 0.22.2\"\n",
    "#r \"nuget: Microsoft.DotNet.Interactive.ExtensionLab, 1.0.0-beta.25177.1"
   ]
  },
  {
   "cell_type": "markdown",
   "id": "fece74ec",
   "metadata": {},
   "source": [
    "Now we install the module"
   ]
  },
  {
   "cell_type": "code",
   "execution_count": null,
   "id": "befbe206",
   "metadata": {
    "polyglot_notebook": {
     "kernelName": "pwsh"
    }
   },
   "outputs": [],
   "source": [
    "Install-Module DataFrame -Scope CurrentUser -Force -AllowClobber"
   ]
  },
  {
   "cell_type": "markdown",
   "id": "d5961bfe",
   "metadata": {},
   "source": [
    "Import it"
   ]
  },
  {
   "cell_type": "code",
   "execution_count": null,
   "id": "a96b2b45",
   "metadata": {
    "polyglot_notebook": {
     "kernelName": "pwsh"
    }
   },
   "outputs": [],
   "source": [
    "Import-Module DataFrame"
   ]
  },
  {
   "cell_type": "markdown",
   "id": "427802d1",
   "metadata": {},
   "source": [
    "Now generate a DataFrame objects"
   ]
  },
  {
   "cell_type": "code",
   "execution_count": null,
   "id": "b51a0c45",
   "metadata": {
    "polyglot_notebook": {
     "kernelName": "pwsh"
    }
   },
   "outputs": [],
   "source": [
    "$df = New-DataFrame @(\n",
    "    New-StringColumn Name\n",
    "    New-Int64Column WS\n",
    "    New-Int32Column Handles\n",
    "    New-BooleanColumn Responding\n",
    ")\n",
    "\n",
    "foreach($_ in Get-Process) {\n",
    "    Add-DataFrameRow $df @(\n",
    "        $_.Name\n",
    "        $_.WS\n",
    "        $_.Handles\n",
    "        $_.Responding\n",
    "    )\n",
    "}"
   ]
  },
  {
   "cell_type": "markdown",
   "id": "25d87f99",
   "metadata": {},
   "source": [
    "And display it"
   ]
  },
  {
   "cell_type": "code",
   "execution_count": null,
   "id": "d04e8d1c",
   "metadata": {
    "polyglot_notebook": {
     "kernelName": "pwsh"
    }
   },
   "outputs": [],
   "source": [
    "$df"
   ]
  },
  {
   "cell_type": "markdown",
   "id": "29c77aab",
   "metadata": {},
   "source": [
    "We can also use Parquet files as follows"
   ]
  },
  {
   "cell_type": "code",
   "execution_count": null,
   "id": "f46a2cec",
   "metadata": {
    "polyglot_notebook": {
     "kernelName": "pwsh"
    }
   },
   "outputs": [],
   "source": [
    "Export-DataFrame $df -ParquetPath z.process.parquet\n",
    "$df2 = Import-DataFrame -ParquetPath 'z.process.parquet'\n",
    "$df2"
   ]
  },
  {
   "cell_type": "code",
   "execution_count": null,
   "metadata": {
    "polyglot_notebook": {
     "kernelName": "pwsh"
    }
   },
   "outputs": [],
   "source": [
    "$PID"
   ]
  },
  {
   "cell_type": "code",
   "execution_count": null,
   "metadata": {
    "polyglot_notebook": {
     "kernelName": "pwsh"
    }
   },
   "outputs": [],
   "source": [
    "ls -la"
   ]
  },
  {
   "cell_type": "code",
   "execution_count": null,
   "metadata": {
    "polyglot_notebook": {
     "kernelName": "pwsh"
    }
   },
   "outputs": [],
   "source": [
    "(Get-Process | ConvertTo-Csv) -join \"`n\""
   ]
  },
  {
   "cell_type": "code",
   "execution_count": null,
   "metadata": {
    "polyglot_notebook": {
     "kernelName": "pwsh"
    }
   },
   "outputs": [],
   "source": [
    "Import-DataFrame -String ((Get-Process | ConvertTo-Csv -NoTypeInformation) -join \"`n\")"
   ]
  },
  {
   "cell_type": "code",
   "execution_count": null,
   "metadata": {
    "polyglot_notebook": {
     "kernelName": "pwsh"
    }
   },
   "outputs": [],
   "source": [
    "Get-Error"
   ]
  }
 ],
 "metadata": {
  "kernelspec": {
   "display_name": ".NET (C#)",
   "language": "C#",
   "name": ".net-csharp"
  },
  "language_info": {
   "name": "polyglot-notebook"
  },
  "polyglot_notebook": {
   "kernelInfo": {
    "defaultKernelName": "csharp",
    "items": [
     {
      "aliases": [],
      "name": "csharp"
     },
     {
      "aliases": [],
      "languageName": "pwsh",
      "name": "pwsh"
     }
    ]
   }
  }
 },
 "nbformat": 4,
 "nbformat_minor": 5
}
