{
 "cells": [
  {
   "cell_type": "markdown",
   "metadata": {},
   "source": [
    "# Load Plotly up using `require`"
   ]
  },
  {
   "cell_type": "code",
   "execution_count": 1,
   "metadata": {
    "dotnet_interactive": {
     "language": "javascript"
    },
    "polyglot_notebook": {
     "kernelName": "javascript"
    }
   },
   "outputs": [],
   "source": [
    "plotlyloader = (require.config({\n",
    "    paths: {\n",
    "        d3: 'https://cdn.jsdelivr.net/npm/d3@7.4.4/dist/d3.min',\n",
    "        jquery: 'https://cdn.jsdelivr.net/npm/jquery@3.6.0/dist/jquery.min',\n",
    "        plotly: 'https://cdn.plot.ly/plotly-2.14.0.min'\n",
    "    },\n",
    "\n",
    "    shim: {\n",
    "        plotly: {\n",
    "            deps: ['d3', 'jquery'],\n",
    "            exports: 'plotly'\n",
    "        }\n",
    "    }\n",
    "}) || require);"
   ]
  },
  {
   "cell_type": "markdown",
   "metadata": {},
   "source": [
    "# Add a placeholder into the DOM\n",
    "\n",
    "A plot can be rendered here afterward."
   ]
  },
  {
   "cell_type": "code",
   "execution_count": 2,
   "metadata": {
    "dotnet_interactive": {
     "language": "html"
    },
    "polyglot_notebook": {
     "kernelName": "html"
    }
   },
   "outputs": [],
   "source": [
    "<div id=\"target\" style=\"height:400px\">placeholder</div>"
   ]
  },
  {
   "cell_type": "markdown",
   "metadata": {},
   "source": [
    "# Finally, render a plot."
   ]
  },
  {
   "cell_type": "code",
   "execution_count": 3,
   "metadata": {
    "dotnet_interactive": {
     "language": "javascript"
    },
    "polyglot_notebook": {
     "kernelName": "javascript"
    }
   },
   "outputs": [],
   "source": [
    "plotlyloader(['d3', 'plotly'], function (d3, plotly) {\n",
    "    var trace1 = {\n",
    "        x: [1, 2, 3, 4],\n",
    "        y: [10, 15, 13, 17],\n",
    "        mode: 'markers',\n",
    "        type: 'scatter'\n",
    "      };\n",
    "      \n",
    "      var trace2 = {\n",
    "        x: [2, 3, 4, 5],\n",
    "        y: [16, 5, 11, 9],\n",
    "        mode: 'lines',\n",
    "        type: 'scatter'\n",
    "      };\n",
    "      \n",
    "      var trace3 = {\n",
    "        x: [1, 2, 3, 4],\n",
    "        y: [12, 9, 15, 12],\n",
    "        mode: 'lines+markers',\n",
    "        type: 'scatter'\n",
    "      };\n",
    "      \n",
    "      var data = [trace1, trace2, trace3];\n",
    "      \n",
    "      plotly.newPlot('target', data);\n",
    "    \n",
    "});"
   ]
  }
 ],
 "metadata": {
  "polyglot_notebook": {
   "kernelInfo": {
    "defaultKernelName": "csharp",
    "items": [
     {
      "name": "csharp",
      "aliases": [
       "c#",
       "C#"
      ],
      "languageName": "C#"
     },
     {
      "name": ".NET",
      "aliases": []
     },
     {
      "name": "fsharp",
      "aliases": [
       "f#",
       "F#"
      ],
      "languageName": "F#"
     },
     {
      "name": "html",
      "aliases": [],
      "languageName": "HTML"
     },
     {
      "name": "kql",
      "aliases": [],
      "languageName": "KQL"
     },
     {
      "name": "mermaid",
      "aliases": [],
      "languageName": "Mermaid"
     },
     {
      "name": "pwsh",
      "aliases": [
       "powershell"
      ],
      "languageName": "PowerShell"
     },
     {
      "name": "sql",
      "aliases": [],
      "languageName": "SQL"
     },
     {
      "name": "value",
      "aliases": []
     },
     {
      "name": "vscode",
      "aliases": [
       "frontend"
      ]
     }
    ]
   }
  },
  "custom": {
   "metadata": {
    "kernelspec": {
     "display_name": ".NET (C#)",
     "language": "C#",
     "name": ".net-csharp"
    },
    "polyglot_notebook": {
     "kernelInfo": {
      "defaultKernelName": "csharp",
      "items": [
       {
        "name": "csharp",
        "aliases": []
       }
      ]
     }
    }
   }
  },
  "kernelInfo": {
   "defaultKernelName": null,
   "items": [
    {
     "name": "csharp",
     "languageName": "C#",
     "aliases": [
      "c#",
      "cs"
     ]
    },
    {
     "name": "fsharp",
     "languageName": "F#",
     "aliases": [
      "f#",
      "fs"
     ]
    },
    {
     "name": "pwsh",
     "languageName": "PowerShell",
     "aliases": [
      "powershell"
     ]
    },
    {
     "name": "javascript",
     "languageName": "JavaScript",
     "aliases": [
      "js"
     ]
    },
    {
     "name": "html",
     "languageName": "HTML"
    },
    {
     "name": "sql",
     "languageName": "SQL"
    },
    {
     "name": "kql",
     "languageName": "KQL"
    },
    {
     "name": "mermaid",
     "languageName": "Mermaid"
    },
    {
     "name": "httpRequest",
     "languageName": "http"
    },
    {
     "name": "value"
    }
   ]
  }
 },
 "nbformat": 4,
 "nbformat_minor": 5
}