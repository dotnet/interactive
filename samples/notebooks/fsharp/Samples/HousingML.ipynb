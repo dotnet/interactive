{
 "cells": [
  {
   "cell_type": "markdown",
   "metadata": {},
   "source": [
    "[this doc on github](https://github.com/dotnet/interactive/tree/master/samples/notebooks/fsharp/Samples)\n",
    "\n",
    "# Machine Learning over House Prices with ML.NET"
   ]
  },
  {
   "cell_type": "code",
   "execution_count": 1,
   "metadata": {},
   "outputs": [],
   "source": [
    "open Microsoft.AspNetCore.Html\n",
    "open System.IO\n",
    "\n",
    "#r \"nuget:Microsoft.ML,1.4.0\"\n",
    "#r \"nuget:Microsoft.ML.AutoML,0.16.0\"\n",
    "#r \"nuget:Microsoft.Data.Analysis,0.1.0\""
   ]
  },
  {
   "cell_type": "code",
   "execution_count": 2,
   "metadata": {},
   "outputs": [],
   "source": [
    "open Microsoft.Data.Analysis\n",
    "open XPlot.Plotly"
   ]
  },
  {
   "cell_type": "code",
   "execution_count": 4,
   "metadata": {},
   "outputs": [],
   "source": [
    "let register (df:DataFrame) (writer:TextWriter) =\n",
    "    let headers = new ResizeArray<IHtmlContent> ()\n",
    "    headers.Add(th.innerHTML(i.innerHTML(\"index\")))\n",
    "    headers.AddRange(df.Columns.Select(fun c -> (th.innerHTML(c.Name) :> IHtmlContent)))\n",
    "    let rows = ResizeArray<ResizeArray<IHtmlContent>>()\n",
    "    let take = 20\n",
    "    for i in 0 .. (Math.Min(take, int(df.RowCount)) - 1) do\n",
    "        let cells = ResizeArray<IHtmlContent>()\n",
    "        cells.Add(td.innerHTML(i));\n",
    "        for o in df.[int64(i)] do\n",
    "            cells.Add(td.innerHTML(o))\n",
    "        rows.Add(cells)\n",
    "    \n",
    "    let t =\n",
    "        table.innerHTML([|\n",
    "            thead.innerHTML(headers)\n",
    "            tbody.innerHTML(rows.Select(fun r -> tr.innerHTML(r)))\n",
    "        |])\n",
    "\n",
    "    writer.Write(t)\n",
    "\n",
    "Formatter<DataFrame>.Register( (fun df writer -> register df writer), mimeType = \"text/html\")"
   ]
  },
  {
   "cell_type": "code",
   "execution_count": 5,
   "metadata": {},
   "outputs": [],
   "source": [
    "open System.Net.Http\n",
    "let housingPath = \"housing.csv\"\n",
    "if not(File.Exists(housingPath)) then\n",
    "    let contents = HttpClient().GetStringAsync(\"https://raw.githubusercontent.com/ageron/handson-ml2/master/datasets/housing/housing.csv\").Result\n",
    "    File.WriteAllText(\"housing.csv\", contents)"
   ]
  },
  {
   "cell_type": "code",
   "execution_count": 6,
   "metadata": {},
   "outputs": [],
   "source": [
    "let housingData = DataFrame.LoadCsv(housingPath)\n",
    "housingData"
   ]
  },
  {
   "cell_type": "code",
   "execution_count": 7,
   "metadata": {},
   "outputs": [],
   "source": [
    "housingData.Description()"
   ]
  },
  {
   "cell_type": "code",
   "execution_count": 8,
   "metadata": {},
   "outputs": [],
   "source": [
    "let graph =\n",
    "    Histogram(x = housingData.[\"median_house_value\"],\n",
    "              nbinsx = 20)\n",
    "graph |> Chart.Plot"
   ]
  },
  {
   "cell_type": "code",
   "execution_count": 9,
   "metadata": {},
   "outputs": [],
   "source": [
    "let graph =\n",
    "    Graph.Scattergl(\n",
    "        x = housingData.[\"longitude\"],\n",
    "        y = housingData.[\"latitude\"],\n",
    "        mode = \"markers\",\n",
    "        marker =\n",
    "            Graph.Marker(\n",
    "                color = housingData.[\"median_house_value\"],\n",
    "                colorscale = \"Jet\"))\n",
    "\n",
    "let plot = Chart.Plot(graph)\n",
    "plot.Width <- 600\n",
    "plot.Height <- 600\n",
    "display(plot)"
   ]
  },
  {
   "cell_type": "code",
   "execution_count": 10,
   "metadata": {},
   "outputs": [],
   "source": [
    "let Shuffle (arr:int[]) =\n",
    "    let rnd = Random()\n",
    "    for i in 0 .. arr.Length - 1 do\n",
    "        let r = i + rnd.Next(arr.Length - i)\n",
    "        let temp = arr.[r]\n",
    "        arr.[r] <- arr.[i]\n",
    "        arr.[i] <- temp\n",
    "    arr\n",
    "\n",
    "let randomIndices = (Shuffle(Enumerable.Range(0, (int (housingData.RowCount))).ToArray()))\n",
    "\n",
    "let testSize = int (float (housingData.RowCount) * 0.1)\n",
    "let trainRows = randomIndices.[testSize..]\n",
    "let testRows = randomIndices.[..testSize - 1]\n",
    "\n",
    "let housing_train = housingData.[trainRows]\n",
    "let housing_test = housingData.[testRows]\n",
    "\n",
    "display(housing_train.RowCount)\n",
    "display(housing_test.RowCount)"
   ]
  },
  {
   "cell_type": "code",
   "execution_count": 11,
   "metadata": {},
   "outputs": [],
   "source": [
    "#!time\n",
    "\n",
    "open Microsoft.ML\n",
    "open Microsoft.ML.Data\n",
    "open Microsoft.ML.AutoML\n",
    "\n",
    "let mlContext = MLContext()\n",
    "\n",
    "let experiment = mlContext.Auto().CreateRegressionExperiment(maxExperimentTimeInSeconds = 15u)\n",
    "let result = experiment.Execute(housing_train, labelColumnName = \"median_house_value\")"
   ]
  },
  {
   "cell_type": "code",
   "execution_count": 12,
   "metadata": {},
   "outputs": [],
   "source": [
    "type RunDetails = System.Collections.Generic.IEnumerable<RunDetail<RegressionMetrics>>\n",
    "let scatters =\n",
    "    result.RunDetails\n",
    "        .Where(fun d -> not (isNull d.ValidationMetrics))\n",
    "        .GroupBy(\n",
    "            (fun r -> r.TrainerName),\n",
    "            (fun (name:string) (details:RunDetails) -> \n",
    "                Graph.Scattergl(\n",
    "                    name = name,\n",
    "                    x = details.Select(fun r -> r.RuntimeInSeconds),\n",
    "                    y = details.Select(fun r -> r.ValidationMetrics.MeanAbsoluteError),\n",
    "                    mode = \"markers\",\n",
    "                    marker = Graph.Marker(size = 12))))\n",
    "\n",
    "let chart = Chart.Plot(scatters)\n",
    "chart.WithXTitle(\"Training Time\")\n",
    "chart.WithYTitle(\"Error\")\n",
    "display(chart)\n",
    "\n",
    "Console.WriteLine(\"Best Trainer:{0}\", result.BestRun.TrainerName);"
   ]
  },
  {
   "cell_type": "code",
   "execution_count": 13,
   "metadata": {},
   "outputs": [],
   "source": [
    "let testResults = result.BestRun.Model.Transform(housing_test)\n",
    "\n",
    "let trueValues = testResults.GetColumn<float32>(\"median_house_value\")\n",
    "let predictedValues = testResults.GetColumn<float32>(\"Score\")\n",
    "\n",
    "let predictedVsTrue =\n",
    "    Graph.Scattergl(\n",
    "        x = trueValues,\n",
    "        y = predictedValues,\n",
    "        mode = \"markers\")\n",
    "\n",
    "let maximumValue = Math.Max(trueValues.Max(), predictedValues.Max())\n",
    "\n",
    "let perfectLine =\n",
    "    Graph.Scattergl(\n",
    "        x = [| 0.0f; maximumValue |],\n",
    "        y = [| 0.0f; maximumValue |],\n",
    "        mode = \"lines\")\n",
    "\n",
    "let chart = Chart.Plot([| predictedVsTrue; perfectLine |])\n",
    "chart.WithXTitle(\"True Values\")\n",
    "chart.WithYTitle(\"Predicted Values\")\n",
    "chart.WithLegend(false)\n",
    "chart.Width = 600\n",
    "chart.Height = 600\n",
    "display(chart)"
   ]
  },
  {
   "cell_type": "code",
   "execution_count": null,
   "metadata": {},
   "outputs": [],
   "source": []
  }
 ],
 "metadata": {
  "kernelspec": {
   "display_name": ".NET (F#)",
   "language": "F#",
   "name": ".net-fsharp"
  },
  "language_info": {
   "file_extension": ".fs",
   "mimetype": "text/x-fsharp",
   "name": "C#",
   "pygments_lexer": "fsharp",
   "version": "4.5"
  }
 },
 "nbformat": 4,
 "nbformat_minor": 4
}
