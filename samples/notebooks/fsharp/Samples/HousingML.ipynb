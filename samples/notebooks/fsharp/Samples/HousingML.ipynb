{
 "cells": [
  {
   "cell_type": "markdown",
   "metadata": {},
   "source": [
    "[this doc on github](https://github.com/dotnet/interactive/tree/master/samples/notebooks/fsharp/Samples)\n",
    "\n",
    "# Machine Learning over House Prices with ML.NET\n",
    "\n",
    "### Reference the packages"
   ]
  },
  {
   "cell_type": "code",
   "execution_count": null,
   "metadata": {},
   "outputs": [],
   "source": [
    "#i \"nuget:https://pkgs.dev.azure.com/dnceng/public/_packaging/dotnet5/nuget/v3/index.json\" \n",
    "#i \"nuget:https://pkgs.dev.azure.com/dnceng/public/_packaging/dotnet-tools/nuget/v3/index.json\" \n",
    "\n",
    "#r \"nuget:Microsoft.ML,1.4.0\"\n",
    "#r \"nuget:Microsoft.ML.AutoML,0.16.0\"\n",
    "#r \"nuget:Microsoft.Data.Analysis,0.2.0\"\n",
    "#r \"nuget: XPlot.Plotly.Interactive, 3.0.4\"\n",
    "    \n",
    "open Microsoft.Data.Analysis\n",
    "open XPlot.Plotly"
   ]
  },
  {
   "cell_type": "markdown",
   "metadata": {},
   "source": [
    "### Adding better default formatting for data frames\n",
    "\n",
    "Register a formatter for data frames and data frame rows.\n"
   ]
  },
  {
   "cell_type": "code",
   "execution_count": null,
   "metadata": {},
   "outputs": [],
   "source": [
    "module DateFrameFormatter = \n",
    "    \n",
    "    // Locally open the F# HTML DSL.\n",
    "    open Html\n",
    "\n",
    "    let maxRows = 20\n",
    "\n",
    "    Formatter.Register<DataFrame>((fun (context: FormatContext) (df: DataFrame) (writer: TextWriter) ->\n",
    "\n",
    "        // Don't generate nested tables\n",
    "        if context.ContentThreshold < 1.0 then false else\n",
    "\n",
    "        // Ask other formatters to reduce information generation\n",
    "        context.ReduceContent(0.2) |> ignore\n",
    "\n",
    "        let take = 20\n",
    "        table [] [\n",
    "          thead [] [\n",
    "            th [] [ str \"Index\" ]\n",
    "            for c in df.Columns do\n",
    "              th [] [ str c.Name]\n",
    "          ]\n",
    "          tbody [] [\n",
    "            for i in 0 .. min maxRows (int df.Rows.Count - 1) do\n",
    "              tr [] [\n",
    "                td [] [ embed context i ]\n",
    "                for o in df.Rows.[int64 i] do\n",
    "                  td [] [ embed context o ]\n",
    "              ]\n",
    "          ]\n",
    "        ]\n",
    "        |> writer.Write\n",
    "\n",
    "        true\n",
    "    ), mimeType = \"text/html\")\n",
    "    \n",
    "    Formatter.Register<DataFrameRow>((fun (context: FormatContext) (row: DataFrameRow) (writer: TextWriter) ->\n",
    "\n",
    "        // Don't generate nested tables\n",
    "        if context.ContentThreshold < 1.0 then false else\n",
    "\n",
    "        // Ask other formatters to reduce information generation\n",
    "        context.ReduceContent(0.2) |> ignore\n",
    "\n",
    "        table [] [\n",
    "          tbody [] [\n",
    "            tr [] [\n",
    "              for o in row do\n",
    "                td [] [ embed context o ] \n",
    "            ]\n",
    "          ]\n",
    "        ]\n",
    "        |> writer.Write\n",
    "\n",
    "        true\n",
    "    ), mimeType = \"text/html\")\n",
    "    "
   ]
  },
  {
   "cell_type": "markdown",
   "metadata": {},
   "source": [
    "### Download the data"
   ]
  },
  {
   "cell_type": "code",
   "execution_count": null,
   "metadata": {},
   "outputs": [],
   "source": [
    "open System.Net.Http\n",
    "let housingPath = \"housing.csv\"\n",
    "if not(File.Exists(housingPath)) then\n",
    "    let contents = HttpClient().GetStringAsync(\"https://raw.githubusercontent.com/ageron/handson-ml2/master/datasets/housing/housing.csv\").Result\n",
    "    File.WriteAllText(\"housing.csv\", contents)"
   ]
  },
  {
   "cell_type": "markdown",
   "metadata": {},
   "source": [
    "### Add the data to the data frame"
   ]
  },
  {
   "cell_type": "code",
   "execution_count": null,
   "metadata": {},
   "outputs": [],
   "source": [
    "let housingData = DataFrame.LoadCsv(housingPath)\n",
    "housingData"
   ]
  },
  {
   "cell_type": "code",
   "execution_count": null,
   "metadata": {},
   "outputs": [],
   "source": [
    "housingData.Description()"
   ]
  },
  {
   "cell_type": "markdown",
   "metadata": {},
   "source": [
    "### Display the data"
   ]
  },
  {
   "cell_type": "code",
   "execution_count": null,
   "metadata": {},
   "outputs": [],
   "source": [
    "let graph =\n",
    "    Histogram(x = housingData.[\"median_house_value\"],\n",
    "              nbinsx = 20)\n",
    "graph |> Chart.Plot"
   ]
  },
  {
   "cell_type": "code",
   "execution_count": null,
   "metadata": {},
   "outputs": [],
   "source": [
    "let graph =\n",
    "    Graph.Scattergl(\n",
    "        x = housingData.[\"longitude\"],\n",
    "        y = housingData.[\"latitude\"],\n",
    "        mode = \"markers\",\n",
    "        marker =\n",
    "            Graph.Marker(\n",
    "                color = housingData.[\"median_house_value\"],\n",
    "                colorscale = \"Jet\"))\n",
    "\n",
    "let plot = Chart.Plot(graph)\n",
    "plot.Width <- 600\n",
    "plot.Height <- 600\n",
    "display(plot)"
   ]
  },
  {
   "cell_type": "markdown",
   "metadata": {},
   "source": [
    "### Prepare the training and validation sets"
   ]
  },
  {
   "cell_type": "code",
   "execution_count": null,
   "metadata": {},
   "outputs": [],
   "source": [
    "module Array = \n",
    "    let shuffle (arr: 'T[]) =\n",
    "        let rnd = Random()\n",
    "        let arr = Array.copy arr\n",
    "        for i in 0 .. arr.Length - 1 do\n",
    "            let r = i + rnd.Next(arr.Length - i)\n",
    "            let temp = arr.[r]\n",
    "            arr.[r] <- arr.[i]\n",
    "            arr.[i] <- temp\n",
    "        arr\n",
    "\n",
    "let randomIndices = [| 0 .. int housingData.Rows.Count - 1 |] |> Array.shuffle\n",
    "\n",
    "let testSize = int (float (housingData.Rows.Count) * 0.1)\n",
    "let trainRows = randomIndices.[testSize..]\n",
    "let testRows = randomIndices.[..testSize - 1]\n",
    "\n",
    "let housing_train = housingData.[trainRows]\n",
    "let housing_test = housingData.[testRows]\n",
    "\n",
    "display(housing_train.Rows.Count)\n",
    "display(housing_test.Rows.Count)"
   ]
  },
  {
   "cell_type": "markdown",
   "metadata": {},
   "source": [
    "### Create the regression model and train it"
   ]
  },
  {
   "cell_type": "code",
   "execution_count": null,
   "metadata": {},
   "outputs": [],
   "source": [
    "#!time\n",
    "\n",
    "open Microsoft.ML\n",
    "open Microsoft.ML.Data\n",
    "open Microsoft.ML.AutoML\n",
    "\n",
    "let mlContext = MLContext()\n",
    "\n",
    "let experiment = mlContext.Auto().CreateRegressionExperiment(maxExperimentTimeInSeconds = 15u)\n",
    "let result = experiment.Execute(housing_train, labelColumnName = \"median_house_value\")"
   ]
  },
  {
   "cell_type": "markdown",
   "metadata": {},
   "source": [
    "### Display the training results"
   ]
  },
  {
   "cell_type": "code",
   "execution_count": null,
   "metadata": {},
   "outputs": [],
   "source": [
    "let scatters =\n",
    "    result.RunDetails\n",
    "     |> Seq.filter (fun d -> not (isNull d.ValidationMetrics))\n",
    "     |> Seq.groupBy (fun r -> r.TrainerName)\n",
    "     |> Seq.map (fun (name, details) ->\n",
    "                Graph.Scattergl(\n",
    "                    name = name,\n",
    "                    x = (details |> Seq.map (fun r -> r.RuntimeInSeconds)),\n",
    "                    y = (details |> Seq.map (fun r -> r.ValidationMetrics.MeanAbsoluteError)),\n",
    "                    mode = \"markers\",\n",
    "                    marker = Graph.Marker(size = 12)))\n",
    "\n",
    "let chart = Chart.Plot(scatters)\n",
    "chart.WithXTitle(\"Training Time\")\n",
    "chart.WithYTitle(\"Error\")\n",
    "display(chart)\n",
    "\n",
    "Console.WriteLine(\"Best Trainer:{0}\", result.BestRun.TrainerName);"
   ]
  },
  {
   "cell_type": "markdown",
   "metadata": {},
   "source": [
    "### Validate and display the results "
   ]
  },
  {
   "cell_type": "code",
   "execution_count": null,
   "metadata": {},
   "outputs": [],
   "source": [
    "let testResults = result.BestRun.Model.Transform(housing_test)\n",
    "\n",
    "let trueValues = testResults.GetColumn<float32>(\"median_house_value\")\n",
    "let predictedValues = testResults.GetColumn<float32>(\"Score\")\n",
    "\n",
    "let predictedVsTrue =\n",
    "    Graph.Scattergl(\n",
    "        x = trueValues,\n",
    "        y = predictedValues,\n",
    "        mode = \"markers\")\n",
    "\n",
    "let maximumValue = Math.Max(Seq.max trueValues, Seq.max predictedValues)\n",
    "\n",
    "let perfectLine =\n",
    "    Graph.Scattergl(\n",
    "        x = [| 0.0f; maximumValue |],\n",
    "        y = [| 0.0f; maximumValue |],\n",
    "        mode = \"lines\")\n",
    "\n",
    "let chart = Chart.Plot([| predictedVsTrue; perfectLine |])\n",
    "chart.WithXTitle(\"True Values\")\n",
    "chart.WithYTitle(\"Predicted Values\")\n",
    "chart.WithLegend(false)\n",
    "chart.Width = 600\n",
    "chart.Height = 600\n",
    "display(chart)"
   ]
  }
 ],
 "metadata": {
  "kernelspec": {
   "display_name": ".NET (F#)",
   "language": "F#",
   "name": ".net-fsharp"
  },
  "language_info": {
   "file_extension": ".fs",
   "mimetype": "text/x-fsharp",
   "name": "C#",
   "pygments_lexer": "fsharp",
   "version": "4.5"
  }
 },
 "nbformat": 4,
 "nbformat_minor": 4
}
