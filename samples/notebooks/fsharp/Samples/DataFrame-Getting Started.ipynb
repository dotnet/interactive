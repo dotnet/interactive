{
 "cells": [
  {
   "cell_type": "markdown",
   "metadata": {},
   "source": [
    "[this doc on github](https://github.com/dotnet/interactive/tree/master/samples/notebooks/fsharp/Samples)\n",
    "\n",
    "This demonstrates the use of `Microsoft.Data.Analysis` data frames with F#.You can open this example online using [MyBinder](https://mybinder.org/v2/gh/dotnet/interactive/master?filepath=fsharp%2FSamples%2FDataFrame-Getting%20Started.ipynb).First, get the package:"
   ]
  },
  {
   "cell_type": "code",
   "execution_count": null,
   "metadata": {},
   "outputs": [],
   "source": [
    "#r \"nuget: Microsoft.Data.Analysis,0.2.0\"\n",
    "open Microsoft.Data.Analysis"
   ]
  },
  {
   "cell_type": "markdown",
   "metadata": {},
   "source": [
    "Create 3 columns to hold values of types `DateTime`, `int`, and `string`"
   ]
  },
  {
   "cell_type": "code",
   "execution_count": null,
   "metadata": {},
   "outputs": [],
   "source": [
    "let dateTimes = PrimitiveDataFrameColumn<DateTime>(\"DateTimes\") // Default length is 0.\n",
    "let ints = PrimitiveDataFrameColumn<int>(\"Ints\", 3L) // Makes a column of Length 3. Filles with nulls initially.\n",
    "let strings = StringDataFrameColumn(\"Strings\", 3L)"
   ]
  },
  {
   "cell_type": "markdown",
   "metadata": {},
   "source": [
    "Add some datetimes"
   ]
  },
  {
   "cell_type": "code",
   "execution_count": null,
   "metadata": {},
   "outputs": [],
   "source": [
    "dateTimes.Append(Nullable(DateTime.Parse(\"2019/01/01\")))\n",
    "dateTimes.Append(Nullable(DateTime.Parse(\"2019/01/01\")))\n",
    "dateTimes.Append(Nullable(DateTime.Parse(\"2019/01/02\")))"
   ]
  },
  {
   "cell_type": "markdown",
   "metadata": {},
   "source": [
    "Create a `DataFrame` with 3 columns"
   ]
  },
  {
   "cell_type": "code",
   "execution_count": null,
   "metadata": {},
   "outputs": [],
   "source": [
    "let df = DataFrame([dateTimes; ints; strings]: DataFrameColumn list)\n"
   ]
  },
  {
   "cell_type": "code",
   "execution_count": null,
   "metadata": {},
   "outputs": [],
   "source": [
    "df"
   ]
  },
  {
   "cell_type": "markdown",
   "metadata": {},
   "source": [
    "Create a formatter"
   ]
  },
  {
   "cell_type": "code",
   "execution_count": null,
   "metadata": {},
   "outputs": [],
   "source": [
    "open System.IO\n",
    "\n",
    "let register (df:DataFrame) (writer:TextWriter) =\n",
    "    let headers = new ResizeArray<IHtmlContent> ()\n",
    "    headers.Add(th.innerHTML(i.innerHTML(\"index\")))\n",
    "    headers.AddRange(df.Columns.Select(fun c -> (th.innerHTML(c.Name) :> IHtmlContent)))\n",
    "    let rows = ResizeArray<ResizeArray<IHtmlContent>>()\n",
    "    let take = 20\n",
    "    for i in 0 .. (Math.Min(take, int(df.Rows.Count)) - 1) do\n",
    "        let cells = ResizeArray<IHtmlContent>()\n",
    "        cells.Add(td.innerHTML(i));\n",
    "        for o in df.Rows.[int64(i)] do\n",
    "            cells.Add(td.innerHTML(o))\n",
    "        rows.Add(cells)\n",
    "    \n",
    "    let t =\n",
    "        table.innerHTML([|\n",
    "            thead.innerHTML(headers)\n",
    "            tbody.innerHTML(rows.Select(fun r -> tr.innerHTML(r)))\n",
    "        |])\n",
    "\n",
    "    writer.Write(t)\n",
    "\n",
    "Formatter<DataFrame>.Register( (fun df writer -> register df writer), mimeType = \"text/html\")"
   ]
  },
  {
   "cell_type": "code",
   "execution_count": null,
   "metadata": {},
   "outputs": [],
   "source": [
    "df"
   ]
  },
  {
   "cell_type": "markdown",
   "metadata": {},
   "source": [
    "Change a value directly through df"
   ]
  },
  {
   "cell_type": "code",
   "execution_count": null,
   "metadata": {},
   "outputs": [],
   "source": [
    "df.[0L, 1] <- 10\n",
    "df"
   ]
  },
  {
   "cell_type": "markdown",
   "metadata": {},
   "source": [
    "We can also modify the values in the columns through indexers defined in `PrimitiveDataColumn` and `StringColumn`"
   ]
  },
  {
   "cell_type": "code",
   "execution_count": null,
   "metadata": {},
   "outputs": [],
   "source": [
    "ints.[1L] <- Nullable 100\n",
    "strings.[1L] <- \"Foo!\"\n",
    "df"
   ]
  },
  {
   "cell_type": "markdown",
   "metadata": {},
   "source": [
    "Check the data type"
   ]
  },
  {
   "cell_type": "code",
   "execution_count": null,
   "metadata": {},
   "outputs": [],
   "source": [
    "df.Info()"
   ]
  },
  {
   "cell_type": "markdown",
   "metadata": {},
   "source": [
    "The `DataFrame` and the base `DataFrameColumn` class that all columns derive from expose a number of useful APIs: binary operations, computations, joins, merges, handling missing values and more."
   ]
  },
  {
   "cell_type": "code",
   "execution_count": null,
   "metadata": {},
   "outputs": [],
   "source": [
    "df.[\"Ints\"].Add(5, inPlace=true)\n",
    "df"
   ]
  },
  {
   "cell_type": "code",
   "execution_count": null,
   "metadata": {},
   "outputs": [],
   "source": [
    "df.[\"Ints\"] <- (ints / 5) * 100\n",
    "df"
   ]
  },
  {
   "cell_type": "markdown",
   "metadata": {},
   "source": [
    "Let's `null` it up!"
   ]
  },
  {
   "cell_type": "code",
   "execution_count": null,
   "metadata": {},
   "outputs": [],
   "source": [
    "df.[\"Ints\"].FillNulls(-1, inPlace=true)\n",
    "df.[\"Strings\"].FillNulls(\"Bar\", inPlace=true)\n",
    "df"
   ]
  },
  {
   "cell_type": "markdown",
   "metadata": {},
   "source": [
    "DataFrame exposes `Columns` property that we can enumerate over to access our columns. Here's how you can access the first row, though."
   ]
  },
  {
   "cell_type": "code",
   "execution_count": null,
   "metadata": {},
   "outputs": [],
   "source": [
    "let row0 = df.Rows.[0L]\n",
    "row0"
   ]
  },
  {
   "cell_type": "code",
   "execution_count": null,
   "metadata": {},
   "outputs": [],
   "source": [
    "open System.IO\n",
    "\n",
    "let register (dataFrameRow:DataFrameRow) (writer:TextWriter) =\n",
    "    let cells = ResizeArray<IHtmlContent>()\n",
    "    cells.Add(td.innerHTML(i));\n",
    "    for i in dataFrameRow do\n",
    "            cells.Add(td.innerHTML(i))\n",
    "    \n",
    "    let t =\n",
    "        table.innerHTML([|\n",
    "            tbody.innerHTML(cells)\n",
    "        |])\n",
    "\n",
    "    writer.Write(t)\n",
    "\n",
    "Formatter<DataFrameRow>.Register( (fun dataFrameRow writer -> register dataFrameRow writer), mimeType = \"text/html\")"
   ]
  },
  {
   "cell_type": "code",
   "execution_count": null,
   "metadata": {},
   "outputs": [],
   "source": [
    "row0"
   ]
  },
  {
   "cell_type": "markdown",
   "metadata": {},
   "source": [
    "Let's take a look at `Filter`, `Sort`, and `GroupBy`."
   ]
  },
  {
   "cell_type": "code",
   "execution_count": null,
   "metadata": {},
   "outputs": [],
   "source": [
    "// Sort our dataframe using the Ints column\n",
    "df.Sort(\"Ints\", ascending=true)"
   ]
  },
  {
   "cell_type": "code",
   "execution_count": null,
   "metadata": {},
   "outputs": [],
   "source": [
    "// GroupBy\n",
    "let grouped = df.GroupBy(\"DateTimes\")\n",
    "// Count of values in each group\n",
    "grouped.Count()"
   ]
  },
  {
   "cell_type": "code",
   "execution_count": null,
   "metadata": {},
   "outputs": [],
   "source": [
    "let intGroupSum = grouped.Sum(\"Ints\");\n",
    "intGroupSum"
   ]
  },
  {
   "cell_type": "code",
   "execution_count": null,
   "metadata": {},
   "outputs": [],
   "source": [
    "open XPlot.Plotly\n",
    "open System.Linq"
   ]
  },
  {
   "cell_type": "code",
   "execution_count": null,
   "metadata": {},
   "outputs": [],
   "source": [
    "#r \"nuget:MathNet.Numerics\""
   ]
  },
  {
   "cell_type": "code",
   "execution_count": null,
   "metadata": {},
   "outputs": [],
   "source": [
    "open MathNet.Numerics.Distributions"
   ]
  },
  {
   "cell_type": "code",
   "execution_count": null,
   "metadata": {},
   "outputs": [],
   "source": [
    "let mean = 0.0\n",
    "let stdDev = 0.1\n",
    "\n",
    "let normalDist = new Normal(mean, stdDev);"
   ]
  },
  {
   "cell_type": "code",
   "execution_count": null,
   "metadata": {},
   "outputs": [],
   "source": [
    "let doubles = PrimitiveDataFrameColumn<double>(\"Normal Distribution\", normalDist.Samples().Take(1000));\n",
    "// let ints = PrimitiveDataFrameColumn<int>(\"Ints\", 3L) \n",
    "display(Chart.Plot(\n",
    "    Graph.Histogram(x = doubles, nbinsx = 30)\n",
    "));"
   ]
  },
  {
   "cell_type": "code",
   "execution_count": null,
   "metadata": {},
   "outputs": [],
   "source": []
  },
  {
   "cell_type": "code",
   "execution_count": null,
   "metadata": {},
   "outputs": [],
   "source": []
  }
 ],
 "metadata": {
  "kernelspec": {
   "display_name": ".NET (F#)",
   "language": "F#",
   "name": ".net-fsharp"
  },
  "language_info": {
   "file_extension": ".fs",
   "mimetype": "text/x-fsharp",
   "name": "C#",
   "pygments_lexer": "fsharp",
   "version": "4.5"
  }
 },
 "nbformat": 4,
 "nbformat_minor": 4
}
