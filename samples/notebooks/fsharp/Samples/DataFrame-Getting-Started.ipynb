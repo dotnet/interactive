{
 "cells": [
  {
   "cell_type": "markdown",
   "metadata": {},
   "source": [
    "[this doc on github](https://github.com/dotnet/interactive/tree/master/samples/notebooks/fsharp/Samples)\n",
    "\n",
    "This demonstrates the use of `Microsoft.Data.Analysis` data frames with F#.You can open this example online using [MyBinder](https://mybinder.org/v2/gh/dotnet/interactive/master?filepath=fsharp%2FSamples%2FDataFrame-Getting%20Started.ipynb).\n",
    "\n",
    "### Referencing the package\n",
    "\n",
    "\n",
    "First, get the package and open the namespaces:"
   ]
  },
  {
   "cell_type": "code",
   "execution_count": 1,
   "metadata": {},
   "outputs": [
    {
     "data": {
      "text/html": [
       "\r\n",
       "<div>\r\n",
       "    <div id='dotnet-interactive-this-cell-25868.Microsoft.DotNet.Interactive.Http.HttpPort' style='display: none'>\r\n",
       "        The below script needs to be able to find the current output cell; this is an easy method to get it.\r\n",
       "    </div>\r\n",
       "    <script type='text/javascript'>\r\n",
       "async function probeAddresses(probingAddresses) {\r\n",
       "    function timeout(ms, promise) {\r\n",
       "        return new Promise(function (resolve, reject) {\r\n",
       "            setTimeout(function () {\r\n",
       "                reject(new Error('timeout'))\r\n",
       "            }, ms)\r\n",
       "            promise.then(resolve, reject)\r\n",
       "        })\r\n",
       "    }\r\n",
       "\r\n",
       "    if (Array.isArray(probingAddresses)) {\r\n",
       "        for (let i = 0; i < probingAddresses.length; i++) {\r\n",
       "\r\n",
       "            let rootUrl = probingAddresses[i];\r\n",
       "\r\n",
       "            if (!rootUrl.endsWith('/')) {\r\n",
       "                rootUrl = `${rootUrl}/`;\r\n",
       "            }\r\n",
       "\r\n",
       "            try {\r\n",
       "                let response = await timeout(1000, fetch(`${rootUrl}discovery`, {\r\n",
       "                    method: 'POST',\r\n",
       "                    cache: 'no-cache',\r\n",
       "                    mode: 'cors',\r\n",
       "                    timeout: 1000,\r\n",
       "                    headers: {\r\n",
       "                        'Content-Type': 'text/plain'\r\n",
       "                    },\r\n",
       "                    body: probingAddresses[i]\r\n",
       "                }));\r\n",
       "\r\n",
       "                if (response.status == 200) {\r\n",
       "                    return rootUrl;\r\n",
       "                }\r\n",
       "            }\r\n",
       "            catch (e) { }\r\n",
       "        }\r\n",
       "    }\r\n",
       "}\r\n",
       "\r\n",
       "function loadDotnetInteractiveApi() {\r\n",
       "    probeAddresses([\"http://10.0.0.43:1012/\", \"http://100.64.87.161:1012/\", \"http://172.18.208.1:1012/\", \"http://172.23.96.1:1012/\", \"http://172.31.0.1:1012/\", \"http://172.28.144.1:1012/\", \"http://127.0.0.1:1012/\"])\r\n",
       "        .then((root) => {\r\n",
       "        // use probing to find host url and api resources\r\n",
       "        // load interactive helpers and language services\r\n",
       "        let dotnetInteractiveRequire = require.config({\r\n",
       "        context: '25868.Microsoft.DotNet.Interactive.Http.HttpPort',\r\n",
       "                paths:\r\n",
       "            {\r\n",
       "                'dotnet-interactive': `${root}resources`\r\n",
       "                }\r\n",
       "        }) || require;\r\n",
       "\r\n",
       "            window.dotnetInteractiveRequire = dotnetInteractiveRequire;\r\n",
       "\r\n",
       "            window.configureRequireFromExtension = function(extensionName, extensionCacheBuster) {\r\n",
       "                let paths = {};\r\n",
       "                paths[extensionName] = `${root}extensions/${extensionName}/resources/`;\r\n",
       "                \r\n",
       "                let internalRequire = require.config({\r\n",
       "                    context: extensionCacheBuster,\r\n",
       "                    paths: paths,\r\n",
       "                    urlArgs: `cacheBuster=${extensionCacheBuster}`\r\n",
       "                    }) || require;\r\n",
       "\r\n",
       "                return internalRequire\r\n",
       "            };\r\n",
       "        \r\n",
       "            dotnetInteractiveRequire([\r\n",
       "                    'dotnet-interactive/dotnet-interactive'\r\n",
       "                ],\r\n",
       "                function (dotnet) {\r\n",
       "                    dotnet.init(window);\r\n",
       "                },\r\n",
       "                function (error) {\r\n",
       "                    console.log(error);\r\n",
       "                }\r\n",
       "            );\r\n",
       "        })\r\n",
       "        .catch(error => {console.log(error);});\r\n",
       "    }\r\n",
       "\r\n",
       "// ensure `require` is available globally\r\n",
       "if ((typeof(require) !==  typeof(Function)) || (typeof(require.config) !== typeof(Function))) {\r\n",
       "    let require_script = document.createElement('script');\r\n",
       "    require_script.setAttribute('src', 'https://cdnjs.cloudflare.com/ajax/libs/require.js/2.3.6/require.min.js');\r\n",
       "    require_script.setAttribute('type', 'text/javascript');\r\n",
       "    \r\n",
       "    \r\n",
       "    require_script.onload = function() {\r\n",
       "        loadDotnetInteractiveApi();\r\n",
       "    };\r\n",
       "\r\n",
       "    document.getElementsByTagName('head')[0].appendChild(require_script);\r\n",
       "}\r\n",
       "else {\r\n",
       "    loadDotnetInteractiveApi();\r\n",
       "}\r\n",
       "\r\n",
       "    </script>\r\n",
       "</div>"
      ]
     },
     "metadata": {},
     "output_type": "display_data"
    },
    {
     "data": {
      "text/html": [
       "<div><strong>Restore sources</strong><ul><li><span>https://pkgs.dev.azure.com/dnceng/public/_packaging/dotnet5/nuget/v3/index.json</span></li></ul></div>"
      ]
     },
     "metadata": {},
     "output_type": "display_data"
    },
    {
     "data": {
      "text/html": [
       "<div><strong>Restore sources</strong><ul><li><span>https://pkgs.dev.azure.com/dnceng/public/_packaging/dotnet5/nuget/v3/index.json</span></li><li><span>https://pkgs.dev.azure.com/dnceng/public/_packaging/dotnet-tools/nuget/v3/index.json</span></li></ul></div>"
      ]
     },
     "metadata": {},
     "output_type": "display_data"
    },
    {
     "data": {
      "text/plain": [
       "Installed package Microsoft.Data.Analysis version 0.2.0"
      ]
     },
     "metadata": {},
     "output_type": "display_data"
    },
    {
     "data": {
      "text/plain": [
       "Installed package XPlot.Plotly.Interactive version 3.0.4"
      ]
     },
     "metadata": {},
     "output_type": "display_data"
    },
    {
     "data": {
      "text/markdown": [
       "Configuring PowerShell Kernel for XPlot.Plotly integration."
      ]
     },
     "metadata": {},
     "output_type": "display_data"
    },
    {
     "data": {
      "text/markdown": [
       "Installed support for XPlot.Plotly."
      ]
     },
     "metadata": {},
     "output_type": "display_data"
    }
   ],
   "source": [
    "#i \"nuget:https://pkgs.dev.azure.com/dnceng/public/_packaging/dotnet5/nuget/v3/index.json\" \n",
    "#i \"nuget:https://pkgs.dev.azure.com/dnceng/public/_packaging/dotnet-tools/nuget/v3/index.json\" \n",
    "\n",
    "#r \"nuget:Microsoft.Data.Analysis,0.2.0\"\n",
    "#r \"nuget: XPlot.Plotly.Interactive, 3.0.4\"\n",
    "\n",
    "open Microsoft.Data.Analysis"
   ]
  },
  {
   "cell_type": "markdown",
   "metadata": {},
   "source": [
    "### Creating a data frame\n",
    "\n",
    "Create 3 columns to hold values of types `DateTime`, `int`, and `string`"
   ]
  },
  {
   "cell_type": "code",
   "execution_count": 2,
   "metadata": {},
   "outputs": [],
   "source": [
    "let dateTimes = PrimitiveDataFrameColumn<DateTime>(\"DateTimes\") // Default length is 0.\n",
    "let ints = PrimitiveDataFrameColumn<int>(\"Ints\", 3L) // Makes a column of Length 3. Filles with nulls initially.\n",
    "let strings = StringDataFrameColumn(\"Strings\", 3L)"
   ]
  },
  {
   "cell_type": "markdown",
   "metadata": {},
   "source": [
    "Add some datetimes"
   ]
  },
  {
   "cell_type": "code",
   "execution_count": 3,
   "metadata": {},
   "outputs": [],
   "source": [
    "dateTimes.Append(DateTime.Parse(\"2019/01/01\"))\n",
    "dateTimes.Append(DateTime.Parse(\"2019/01/01\"))\n",
    "dateTimes.Append(DateTime.Parse(\"2019/01/02\"))"
   ]
  },
  {
   "cell_type": "markdown",
   "metadata": {},
   "source": [
    "Create a `DataFrame` with 3 columns"
   ]
  },
  {
   "cell_type": "code",
   "execution_count": 4,
   "metadata": {},
   "outputs": [],
   "source": [
    "let df = DataFrame([dateTimes; ints; strings]: DataFrameColumn list)"
   ]
  },
  {
   "cell_type": "markdown",
   "metadata": {},
   "source": [
    "### Adding better default formatting for data frames\n",
    "\n",
    "Create a formatter for data frames and data frame rows."
   ]
  },
  {
   "cell_type": "code",
   "execution_count": 5,
   "metadata": {},
   "outputs": [],
   "source": [
    "module DateFrameFormatter = \n",
    "    \n",
    "    // Locally open the F# HTML DSL.\n",
    "    open Html\n",
    "\n",
    "    let maxRows = 20\n",
    "\n",
    "    Formatter.Register<DataFrame>((fun (context: FormatContext) (df: DataFrame) (writer: TextWriter) ->\n",
    "\n",
    "        // Don't generate nested tables\n",
    "        if context.ContentThreshold < 1.0 then false else\n",
    "\n",
    "        // Ask other formatters to reduce information generation\n",
    "        context.ReduceContent(0.2) |> ignore\n",
    "\n",
    "        let take = 20\n",
    "        table [] [\n",
    "          thead [] [\n",
    "            th [] [ str \"Index\" ]\n",
    "            for c in df.Columns do\n",
    "              th [] [ str c.Name]\n",
    "          ]\n",
    "          tbody [] [\n",
    "            for i in 0 .. min maxRows (int df.Rows.Count - 1) do\n",
    "              tr [] [\n",
    "                td [] [ embed context i ]\n",
    "                for o in df.Rows.[int64 i] do\n",
    "                  td [] [ embed context o ]\n",
    "              ]\n",
    "          ]\n",
    "        ]\n",
    "        |> writer.Write\n",
    "\n",
    "        true\n",
    "    ), mimeType = \"text/html\")\n",
    "    \n",
    "    Formatter.Register<DataFrameRow>((fun (context: FormatContext) (row: DataFrameRow) (writer: TextWriter) ->\n",
    "\n",
    "        // Don't generate nested tables\n",
    "        if context.ContentThreshold < 1.0 then false else\n",
    "\n",
    "        // Ask other formatters to reduce information generation\n",
    "        context.ReduceContent(0.2) |> ignore\n",
    "\n",
    "        table [] [\n",
    "          tbody [] [\n",
    "            tr [] [\n",
    "              for o in row do\n",
    "                td [] [ embed context o ] \n",
    "            ]\n",
    "          ]\n",
    "        ]\n",
    "        |> writer.Write\n",
    "\n",
    "        true\n",
    "    ), mimeType = \"text/html\")\n",
    "    "
   ]
  },
  {
   "cell_type": "markdown",
   "metadata": {},
   "source": [
    "Now view the data frame: "
   ]
  },
  {
   "cell_type": "code",
   "execution_count": 6,
   "metadata": {},
   "outputs": [
    {
     "data": {
      "text/html": [
       "<table><thead><th>Index</th><th>DateTimes</th><th>Ints</th><th>Strings</th></thead><tbody><tr><td><div class=\"dni-plaintext\">0</div></td><td><span>2019-01-01 00:00:00Z</span></td><td><div class=\"dni-plaintext\">&lt;null&gt;</div></td><td><div class=\"dni-plaintext\">&lt;null&gt;</div></td></tr><tr><td><div class=\"dni-plaintext\">1</div></td><td><span>2019-01-01 00:00:00Z</span></td><td><div class=\"dni-plaintext\">&lt;null&gt;</div></td><td><div class=\"dni-plaintext\">&lt;null&gt;</div></td></tr><tr><td><div class=\"dni-plaintext\">2</div></td><td><span>2019-01-02 00:00:00Z</span></td><td><div class=\"dni-plaintext\">&lt;null&gt;</div></td><td><div class=\"dni-plaintext\">&lt;null&gt;</div></td></tr></tbody></table>"
      ]
     },
     "execution_count": 6,
     "metadata": {},
     "output_type": "execute_result"
    }
   ],
   "source": [
    "df"
   ]
  },
  {
   "cell_type": "markdown",
   "metadata": {},
   "source": [
    "### Modifying data frames\n",
    "\n",
    "Change a value directly through df:"
   ]
  },
  {
   "cell_type": "code",
   "execution_count": 7,
   "metadata": {},
   "outputs": [
    {
     "data": {
      "text/html": [
       "<table><thead><th>Index</th><th>DateTimes</th><th>Ints</th><th>Strings</th></thead><tbody><tr><td><div class=\"dni-plaintext\">0</div></td><td><span>2019-01-01 00:00:00Z</span></td><td><div class=\"dni-plaintext\">10</div></td><td><div class=\"dni-plaintext\">&lt;null&gt;</div></td></tr><tr><td><div class=\"dni-plaintext\">1</div></td><td><span>2019-01-01 00:00:00Z</span></td><td><div class=\"dni-plaintext\">&lt;null&gt;</div></td><td><div class=\"dni-plaintext\">&lt;null&gt;</div></td></tr><tr><td><div class=\"dni-plaintext\">2</div></td><td><span>2019-01-02 00:00:00Z</span></td><td><div class=\"dni-plaintext\">&lt;null&gt;</div></td><td><div class=\"dni-plaintext\">&lt;null&gt;</div></td></tr></tbody></table>"
      ]
     },
     "execution_count": 7,
     "metadata": {},
     "output_type": "execute_result"
    }
   ],
   "source": [
    "df.[0L, 1] <- 10\n",
    "df"
   ]
  },
  {
   "cell_type": "markdown",
   "metadata": {},
   "source": [
    "We can also modify the values in the columns through indexers defined in `PrimitiveDataColumn` and `StringColumn`"
   ]
  },
  {
   "cell_type": "code",
   "execution_count": 8,
   "metadata": {},
   "outputs": [
    {
     "data": {
      "text/html": [
       "<table><thead><th>Index</th><th>DateTimes</th><th>Ints</th><th>Strings</th></thead><tbody><tr><td><div class=\"dni-plaintext\">0</div></td><td><span>2019-01-01 00:00:00Z</span></td><td><div class=\"dni-plaintext\">10</div></td><td><div class=\"dni-plaintext\">&lt;null&gt;</div></td></tr><tr><td><div class=\"dni-plaintext\">1</div></td><td><span>2019-01-01 00:00:00Z</span></td><td><div class=\"dni-plaintext\">100</div></td><td><div class=\"dni-plaintext\">Foo!</div></td></tr><tr><td><div class=\"dni-plaintext\">2</div></td><td><span>2019-01-02 00:00:00Z</span></td><td><div class=\"dni-plaintext\">&lt;null&gt;</div></td><td><div class=\"dni-plaintext\">&lt;null&gt;</div></td></tr></tbody></table>"
      ]
     },
     "execution_count": 8,
     "metadata": {},
     "output_type": "execute_result"
    }
   ],
   "source": [
    "ints.[1L] <- Nullable 100\n",
    "strings.[1L] <- \"Foo!\"\n",
    "df"
   ]
  },
  {
   "cell_type": "markdown",
   "metadata": {},
   "source": [
    "Check the data type"
   ]
  },
  {
   "cell_type": "code",
   "execution_count": 9,
   "metadata": {},
   "outputs": [
    {
     "data": {
      "text/html": [
       "<table><thead><th>Index</th><th>Info</th><th>DateTimes</th><th>Ints</th><th>Strings</th></thead><tbody><tr><td><div class=\"dni-plaintext\">0</div></td><td><div class=\"dni-plaintext\">DataType</div></td><td><div class=\"dni-plaintext\">System.DateTime</div></td><td><div class=\"dni-plaintext\">System.Int32</div></td><td><div class=\"dni-plaintext\">System.String</div></td></tr><tr><td><div class=\"dni-plaintext\">1</div></td><td><div class=\"dni-plaintext\">Length (excluding null values)</div></td><td><div class=\"dni-plaintext\">3</div></td><td><div class=\"dni-plaintext\">2</div></td><td><div class=\"dni-plaintext\">3</div></td></tr></tbody></table>"
      ]
     },
     "execution_count": 9,
     "metadata": {},
     "output_type": "execute_result"
    }
   ],
   "source": [
    "df.Info()"
   ]
  },
  {
   "cell_type": "markdown",
   "metadata": {},
   "source": [
    "The `DataFrame` and the base `DataFrameColumn` class that all columns derive from expose a number of useful APIs: binary operations, computations, joins, merges, handling missing values and more."
   ]
  },
  {
   "cell_type": "code",
   "execution_count": 10,
   "metadata": {},
   "outputs": [
    {
     "data": {
      "text/html": [
       "<table><thead><th>Index</th><th>DateTimes</th><th>Ints</th><th>Strings</th></thead><tbody><tr><td><div class=\"dni-plaintext\">0</div></td><td><span>2019-01-01 00:00:00Z</span></td><td><div class=\"dni-plaintext\">15</div></td><td><div class=\"dni-plaintext\">&lt;null&gt;</div></td></tr><tr><td><div class=\"dni-plaintext\">1</div></td><td><span>2019-01-01 00:00:00Z</span></td><td><div class=\"dni-plaintext\">105</div></td><td><div class=\"dni-plaintext\">Foo!</div></td></tr><tr><td><div class=\"dni-plaintext\">2</div></td><td><span>2019-01-02 00:00:00Z</span></td><td><div class=\"dni-plaintext\">&lt;null&gt;</div></td><td><div class=\"dni-plaintext\">&lt;null&gt;</div></td></tr></tbody></table>"
      ]
     },
     "execution_count": 10,
     "metadata": {},
     "output_type": "execute_result"
    }
   ],
   "source": [
    "df.[\"Ints\"].Add(5, inPlace=true)\n",
    "df"
   ]
  },
  {
   "cell_type": "code",
   "execution_count": 11,
   "metadata": {},
   "outputs": [
    {
     "data": {
      "text/html": [
       "<table><thead><th>Index</th><th>DateTimes</th><th>Ints</th><th>Strings</th></thead><tbody><tr><td><div class=\"dni-plaintext\">0</div></td><td><span>2019-01-01 00:00:00Z</span></td><td><div class=\"dni-plaintext\">300</div></td><td><div class=\"dni-plaintext\">&lt;null&gt;</div></td></tr><tr><td><div class=\"dni-plaintext\">1</div></td><td><span>2019-01-01 00:00:00Z</span></td><td><div class=\"dni-plaintext\">2100</div></td><td><div class=\"dni-plaintext\">Foo!</div></td></tr><tr><td><div class=\"dni-plaintext\">2</div></td><td><span>2019-01-02 00:00:00Z</span></td><td><div class=\"dni-plaintext\">&lt;null&gt;</div></td><td><div class=\"dni-plaintext\">&lt;null&gt;</div></td></tr></tbody></table>"
      ]
     },
     "execution_count": 11,
     "metadata": {},
     "output_type": "execute_result"
    }
   ],
   "source": [
    "df.[\"Ints\"] <- (ints / 5) * 100\n",
    "df"
   ]
  },
  {
   "cell_type": "markdown",
   "metadata": {},
   "source": [
    "Let's `null` it up!"
   ]
  },
  {
   "cell_type": "code",
   "execution_count": 12,
   "metadata": {},
   "outputs": [
    {
     "data": {
      "text/html": [
       "<table><thead><th>Index</th><th>DateTimes</th><th>Ints</th><th>Strings</th></thead><tbody><tr><td><div class=\"dni-plaintext\">0</div></td><td><span>2019-01-01 00:00:00Z</span></td><td><div class=\"dni-plaintext\">300</div></td><td><div class=\"dni-plaintext\">Bar</div></td></tr><tr><td><div class=\"dni-plaintext\">1</div></td><td><span>2019-01-01 00:00:00Z</span></td><td><div class=\"dni-plaintext\">2100</div></td><td><div class=\"dni-plaintext\">Foo!</div></td></tr><tr><td><div class=\"dni-plaintext\">2</div></td><td><span>2019-01-02 00:00:00Z</span></td><td><div class=\"dni-plaintext\">-1</div></td><td><div class=\"dni-plaintext\">Bar</div></td></tr></tbody></table>"
      ]
     },
     "execution_count": 12,
     "metadata": {},
     "output_type": "execute_result"
    }
   ],
   "source": [
    "df.[\"Ints\"].FillNulls(-1, inPlace=true)\n",
    "df.[\"Strings\"].FillNulls(\"Bar\", inPlace=true)\n",
    "df"
   ]
  },
  {
   "cell_type": "markdown",
   "metadata": {},
   "source": [
    "DataFrame exposes `Columns` property that we can enumerate over to access our columns. Here's how you can access the first row, though."
   ]
  },
  {
   "cell_type": "code",
   "execution_count": 13,
   "metadata": {},
   "outputs": [
    {
     "data": {
      "text/html": [
       "<table><tbody><tr><td><span>2019-01-01 00:00:00Z</span></td><td><div class=\"dni-plaintext\">300</div></td><td><div class=\"dni-plaintext\">Bar</div></td></tr></tbody></table>"
      ]
     },
     "execution_count": 13,
     "metadata": {},
     "output_type": "execute_result"
    }
   ],
   "source": [
    "let row0 = df.Rows.[0L]\n",
    "row0"
   ]
  },
  {
   "cell_type": "code",
   "execution_count": 14,
   "metadata": {},
   "outputs": [
    {
     "data": {
      "text/html": [
       "<table><tbody><tr><td><span>2019-01-01 00:00:00Z</span></td><td><div class=\"dni-plaintext\">300</div></td><td><div class=\"dni-plaintext\">Bar</div></td></tr></tbody></table>"
      ]
     },
     "execution_count": 14,
     "metadata": {},
     "output_type": "execute_result"
    }
   ],
   "source": [
    "row0"
   ]
  },
  {
   "cell_type": "markdown",
   "metadata": {},
   "source": [
    "### Filtering and sorting data frames\n",
    "\n",
    "Let's take a look at `Filter`, `Sort`, and `GroupBy`."
   ]
  },
  {
   "cell_type": "code",
   "execution_count": 15,
   "metadata": {},
   "outputs": [
    {
     "data": {
      "text/html": [
       "<table><thead><th>Index</th><th>DateTimes</th><th>Ints</th><th>Strings</th></thead><tbody><tr><td><div class=\"dni-plaintext\">0</div></td><td><span>2019-01-02 00:00:00Z</span></td><td><div class=\"dni-plaintext\">-1</div></td><td><div class=\"dni-plaintext\">Bar</div></td></tr><tr><td><div class=\"dni-plaintext\">1</div></td><td><span>2019-01-01 00:00:00Z</span></td><td><div class=\"dni-plaintext\">300</div></td><td><div class=\"dni-plaintext\">Bar</div></td></tr><tr><td><div class=\"dni-plaintext\">2</div></td><td><span>2019-01-01 00:00:00Z</span></td><td><div class=\"dni-plaintext\">2100</div></td><td><div class=\"dni-plaintext\">Foo!</div></td></tr></tbody></table>"
      ]
     },
     "execution_count": 15,
     "metadata": {},
     "output_type": "execute_result"
    }
   ],
   "source": [
    "// Sort our dataframe using the Ints column\n",
    "df.Sort(\"Ints\", ascending=true)"
   ]
  },
  {
   "cell_type": "code",
   "execution_count": 16,
   "metadata": {},
   "outputs": [
    {
     "data": {
      "text/html": [
       "<table><thead><th>Index</th><th>DateTimes</th><th>Ints</th><th>Strings</th></thead><tbody><tr><td><div class=\"dni-plaintext\">0</div></td><td><span>2019-01-01 00:00:00Z</span></td><td><div class=\"dni-plaintext\">2</div></td><td><div class=\"dni-plaintext\">2</div></td></tr><tr><td><div class=\"dni-plaintext\">1</div></td><td><span>2019-01-02 00:00:00Z</span></td><td><div class=\"dni-plaintext\">1</div></td><td><div class=\"dni-plaintext\">1</div></td></tr></tbody></table>"
      ]
     },
     "execution_count": 16,
     "metadata": {},
     "output_type": "execute_result"
    }
   ],
   "source": [
    "// GroupBy\n",
    "let grouped = df.GroupBy(\"DateTimes\")\n",
    "// Count of values in each group\n",
    "grouped.Count()"
   ]
  },
  {
   "cell_type": "code",
   "execution_count": 17,
   "metadata": {},
   "outputs": [
    {
     "data": {
      "text/html": [
       "<table><thead><th>Index</th><th>DateTimes</th><th>Ints</th></thead><tbody><tr><td><div class=\"dni-plaintext\">0</div></td><td><span>2019-01-01 00:00:00Z</span></td><td><div class=\"dni-plaintext\">2400</div></td></tr><tr><td><div class=\"dni-plaintext\">1</div></td><td><span>2019-01-02 00:00:00Z</span></td><td><div class=\"dni-plaintext\">-1</div></td></tr></tbody></table>"
      ]
     },
     "execution_count": 17,
     "metadata": {},
     "output_type": "execute_result"
    }
   ],
   "source": [
    "let intGroupSum = grouped.Sum(\"Ints\");\n",
    "intGroupSum"
   ]
  },
  {
   "cell_type": "markdown",
   "metadata": {},
   "source": [
    "### Charting columns from data frames"
   ]
  },
  {
   "cell_type": "code",
   "execution_count": 18,
   "metadata": {},
   "outputs": [],
   "source": [
    "open XPlot.Plotly\n",
    "open System.Linq"
   ]
  },
  {
   "cell_type": "code",
   "execution_count": 19,
   "metadata": {},
   "outputs": [
    {
     "data": {
      "text/plain": [
       "Installed package MathNet.Numerics version 4.15.0"
      ]
     },
     "metadata": {},
     "output_type": "display_data"
    }
   ],
   "source": [
    "#r \"nuget:MathNet.Numerics\""
   ]
  },
  {
   "cell_type": "code",
   "execution_count": 20,
   "metadata": {},
   "outputs": [],
   "source": [
    "open MathNet.Numerics.Distributions"
   ]
  },
  {
   "cell_type": "code",
   "execution_count": 21,
   "metadata": {},
   "outputs": [],
   "source": [
    "let mean = 0.0\n",
    "let stdDev = 0.1\n",
    "\n",
    "let normalDist = new Normal(mean, stdDev);"
   ]
  },
  {
   "cell_type": "code",
   "execution_count": 23,
   "metadata": {},
   "outputs": [
    {
     "data": {
      "text/html": [
       "<!DOCTYPE html>\r\n",
       "<div style=\"width: 900px; height: 500px;\" id=\"231deefe-e26a-4b6d-84e3-0d8a207b6950\"></div><script type=\"text/javascript\">\r\n",
       "\n",
       "var renderPlotly = function() {\n",
       "    var xplotRequire = require.config({context:'xplot-3.0.1',paths:{plotly:'https://cdn.plot.ly/plotly-1.49.2.min'}}) || require;\n",
       "    xplotRequire(['plotly'], function(Plotly) { \r\n",
       "\n",
       "            var data = [{\"type\":\"histogram\",\"x\":[-0.1427462816972007,-0.021977793014351363,0.0916723732722009,-0.005203752214458572,0.14069041248758782,-0.13709282686141783,-0.0030581440350366073,0.1282505178146923,0.17911663033416436,-0.12787879030516178,0.1348596349369536,-0.1543360999404245,-0.02585345658702265,0.007944809042669525,-0.10533858702435012,0.24628014465186002,-0.0883852868286581,0.046901784867718135,-0.10018408760867484,0.0038791493985707395,0.023136606667078726,0.16330342828473507,-0.07095157599276025,-0.17844836784674986,0.02651702804217106,0.1670082005306337,0.01693685776723924,0.196766331139565,0.011599778316145016,-0.05006788499210252,0.11529442668513346,0.01741253482280377,0.15387703343856984,0.015591482495973403,0.15682011510737096,0.01003572896760796,-0.030510735965124665,-0.09307771561580487,-0.19512702028810003,-0.02823470041050736,-0.1690248458261291,0.05446430129261595,0.0030100739920699312,-0.17264781858197523,0.07385577098188054,0.0843416125793588,-0.10811662213439466,0.008986174369993277,0.0060745001985453365,0.06677917087417368,0.07056641613290544,0.08471591552605935,0.10075565555795565,0.06669668115952189,-0.03382760025144762,-0.013451195620250368,0.06944062429100445,0.05292705818014509,-0.01913284728884164,0.04483767127498439,0.2577987213470076,0.008171427830659625,-0.13474492543330782,0.14324462452241568,-0.04990894188494802,-0.0662376933776448,0.04224728667750824,0.14925577938205412,0.0026704248767470355,0.011482582618041621,-0.09190370711602833,0.04187011528075036,-0.019383348614039998,-0.043542068030406125,0.011447682883936133,-0.01814657895731064,0.1466556226335648,0.15636901461010774,-0.00510631444819995,-0.06805018690495683,-0.17717034423982692,0.05447329059332328,-0.09896833130894839,-0.04329451646831806,0.15063533589971356,0.04142444934888577,-0.09819091249454913,0.15814806378414725,-0.11392208818440495,0.04476391539166132,0.17478621501365785,0.10143457132109956,0.10203312314453586,0.08553031568045194,-0.027543231442741508,-0.11149414437013178,-0.0053545080357828186,0.06102639119115695,-0.08533780123555865,-0.04009009115505874,0.03904933162554427,-0.04818305511821562,0.048679919809484704,0.11960708060343526,-0.18993711006636804,0.012017891182377427,0.047935862402498884,-0.029219768418743644,-0.005384653390496733,-0.11567234866018011,0.061522014310430355,0.08140214533883605,-0.005268794468363814,0.1038556601106033,-0.10545389304706505,0.062194448235778216,0.021871851626433694,0.03153417952768565,0.003636436324152661,0.02118791272640418,-0.19185306870163565,0.0641432023990346,0.07721674699779027,0.01893326572186968,0.15834430371005803,0.11546650411997904,0.11924234347617833,0.15175184074953307,0.16760354366063349,0.06419139251783099,-0.07521971841600737,-0.10564605319458238,-0.02817602581194405,0.12261277698799292,0.11305819046194313,0.20155404500758364,0.059962287579622235,0.01122972067226814,-0.10967006547803636,0.1533467912111658,0.15046574625535303,-0.06749648428776513,-0.08812481906327775,0.023144671768908432,0.033354035949174264,0.007481992055483961,0.17948960787720553,0.0834280919367934,0.07616900424524845,-0.08171224189872822,-0.006337903761345753,-0.11927974766123649,-0.0854973785549969,0.045375640615576286,0.04157731745616231,-0.02768256645791102,0.011355378982143477,0.09022043354310814,0.1273902491764048,-4.661750882121047E-05,-0.1190093486721831,0.15505384132962374,-0.17035870565265498,0.08288388328938068,0.06093525591963977,-0.08306368101085182,0.0032000792549519877,0.08534911666388253,-0.00734457397810848,0.013039494179210126,-0.04976500751099496,-0.18752960139714736,0.01369624441871149,-0.04838649199650548,0.09108549023379142,-0.00529784980221306,-0.185301068635703,-0.2367292931083782,0.09313171384130463,-0.08378732230772012,0.09947524540836242,-0.04994584637041268,-0.018877435335594432,0.06814778603503395,-0.06097052947455625,0.1781735366002142,0.15392797703850836,-0.004741466010851471,0.046483828469444426,-0.03987461790039634,0.15570267606314597,-0.015023791885454319,-0.04965865984911914,-0.070990345890764,0.0010692261616529195,0.08273474423094918,-0.18942113007223632,0.07472607305684432,-0.02258217201562921,-0.08533400570514457,0.04619616402584818,0.0662546396359359,-0.02182119495866182,-0.05604733200798794,-0.10256735909006842,-0.20016194877501503,0.02948212607469829,-0.04636197635857253,-0.057990991735615297,0.05968669632829432,0.05534871850277148,0.06892747580075594,-0.0541498819619916,0.03979885590097318,-0.03063733236766908,-0.018846439778999365,0.014291124605986853,-0.11926450347819029,0.08180976670468015,0.07153714703956723,0.0466539252549031,0.004607315921069338,-0.021840472834950674,-0.01823147450089211,-0.06241260351198918,0.13519001803272399,0.23212227290659082,-0.16005876925690185,0.03675529645349856,-0.20351802939548547,-0.0575207815771732,0.04550408174962045,0.13858718770009124,-0.05399626501397368,0.034015758507016776,-0.05821464031033208,-0.0864917228084385,-0.061633482653287365,0.01383470066594219,0.006219725602444452,-0.12574397916365265,0.005373681441798419,-0.02107596174599663,-0.10389857405516295,0.03984468532259572,0.002712634814227871,-0.06301813395640808,-0.13567906956034492,-0.05767938600677769,0.08236181760112095,-0.06947626429147839,0.014369729445119273,-0.1581016895666446,0.039794268649369496,0.011405848811994595,-0.021701461451067196,-0.047657118428434245,0.15600441423233202,-0.16291421453448843,-0.05238114122205581,0.040788002845364386,-0.03182645952191325,0.09336391629004939,-0.15968197616940427,-0.007136565247485002,-0.1169353152776653,-0.05784268258629993,0.17066518512059647,0.17525699114131832,-0.0007332941569896124,0.08453800651728322,-0.06751843125876227,-0.15587704366187446,0.14549041158064155,0.08211596058643253,-0.07876725263881941,-0.04565249143607197,-0.022943645097010416,0.10981427239274273,0.020742121433587484,0.03510464753263844,0.0792611894897261,-0.0207307070445496,-0.01972142277315737,-0.029625076581025922,-0.09604871400655797,0.04410723838235812,-0.03620852512141375,-0.04580997705892367,0.16171337157036783,0.05995013322210344,-0.11825526375199372,0.02915080373779353,0.20889542301625597,0.13099602355419754,0.02810516527618563,-0.08255790898179335,0.013808259527359982,0.04343620418938443,0.04905545794207846,0.010202264678774803,0.2246749660450328,0.14148618022457832,-0.009584733566158807,-0.15647563654501911,-0.07116047448526878,-0.07555214556106804,0.13916092110422973,-0.011126506282102112,-0.034811479127846955,0.16848801513679956,0.11276315097743717,-0.16349196717645298,0.09622135255906411,0.18116698011221485,0.10659800971936353,0.10308751860225696,0.04479430743902525,0.052532949811881724,0.005485594048729233,0.03531445863365969,-0.059369718416294695,-0.29701780978553594,-0.17334490096607602,-0.010184014152131287,-0.004722500359407417,0.04993158280748653,0.06127316640094387,-0.2336083594511539,0.007405097370267744,-0.025372442337581513,0.07389979216731454,0.11884038993641033,-0.015399625905141443,0.18945292458376575,-0.2137212934840112,-0.02378132228469408,0.07231352353641225,0.11439349877637794,-0.005293410971811063,-0.031083682919562455,-0.002896610376879133,-0.15430287893550787,0.026426206182468076,-0.16216101048596776,-0.010725517801869366,0.08238273744962026,-0.1146638056606397,0.05003864995181854,-0.06654214478162121,-0.02782113467794961,0.12877811641084258,0.0010273946413933246,0.10190500772912453,0.017499646835979234,-0.0409578492943638,-0.057979672913486074,0.07966946299555128,-0.15558914174668914,-0.001845716371834521,0.08530564733391685,-0.017073882931992062,0.058522413113581064,-0.07116606812131397,-0.04496442849471631,-0.011450740521671362,-0.005404491254686491,-0.01100572222034794,0.07960338788459212,-0.10826728201698317,-0.096608336034606,0.0036161338236224017,0.01723140628577733,0.06482547362791195,-0.15517319203502014,0.03942907487786819,-0.20418510998792452,0.08470115242647344,0.12889786950251453,0.004440153663229871,-0.08744012362288778,0.045980181268477915,0.06626881155114274,-0.0030777789431401356,-0.06218042553715622,0.06699381971122446,-0.05864162887672693,-0.06216313089012282,-0.08642327692394045,0.07494995682229114,0.04698397581900207,0.10855631546641725,0.08901385099785268,0.0940073407370642,-0.11315281698955851,0.04108735309742713,0.12001082947047795,0.18501193411827702,0.2824425494162697,0.04004239842392107,-0.13590295090037965,0.032857770855030576,0.032390570836359704,-0.08684442898551863,0.10040635081748271,0.10755779949659985,0.06065355327330166,0.10650728577004459,-0.016378227537252755,-0.029718766015021658,-0.09003683376087908,-0.049762289978864616,-0.029083427130054906,0.13613569534555292,-0.03677790809682314,0.0654147516392136,-0.16829863095213227,-0.06365569883979373,0.10701927304413486,0.039516512751725054,-0.05135663521047489,-0.1275608781167127,0.06214360080161965,0.21030814405696738,0.02623821748874864,-0.08400719648798807,0.045331746671060436,-0.22965996107146813,-0.09384536354901493,0.00033455394230608426,-0.1471523204479677,0.006059670874795076,0.07571633305315045,0.19819938209677687,0.022758100118763558,0.10927156805545755,-0.06156245601719179,0.054295008770301426,0.10600859962084018,0.062267292274750655,-0.006957199359112303,-0.11993549062084966,0.1074396426295279,-0.14645048636726438,-0.07186341729064648,-0.09166431625399171,-0.019035683368253026,-0.03746552050739859,-0.06897764863420473,0.11163370962439673,0.1481200050663075,-0.016878882494960747,-0.1394463886006618,0.06935596505575921,-0.007386949521729207,-0.06769711650507049,0.1452217877926215,0.013873736661149478,0.0728101976568841,0.10122238809377593,0.13365483915386706,-0.02126400352350535,0.031048684772069787,-0.026728753707397013,-0.0646299471165389,0.0036098035208116034,-0.025538128982975913,0.10131544069781176,-0.12515473561638962,-0.010889801523066798,-0.010935067571056218,-0.1427320230250092,-0.07910134757192512,0.023164132278479282,-0.12424325235126361,-0.025413231749684725,0.15380757811283313,0.06689203154711074,0.01317215953694044,0.0671188098521969,-0.1424178793790166,0.00821086108938229,-0.014882863736434493,0.11491840643685713,0.00425833693699086,0.12879332768108862,-0.026291969176955338,-0.07391657909523978,0.13310366993729306,0.07157433491188624,-0.06031061859369352,-0.015530093150192667,-0.0033198344275232627,0.03725254132889621,0.16081911829502002,0.17724547992158987,0.026218177398244297,-0.008770494530833024,0.026136917302402474,0.01709056488251914,-0.08073618500085432,-0.13142803031564704,0.030512767940604382,0.002073976463484422,-0.009703829597917938,0.09006185227399352,-0.12568677065489905,-0.12279997419198188,-0.010164980850966414,0.002579730700805062,0.08934181430317473,-0.11018843118595044,-0.09562651418099705,0.08948989688962444,0.027723533969495107,-0.061239530364077144,0.017756928443146552,-0.14015152994835786,-0.01110315962759823,-0.15104355615157083,0.07300821106232767,-0.003290982264357625,-0.12214146690449851,-0.009946135024675758,0.038769343282695136,-0.12519880585983542,0.09262128925636165,-0.06132970389427962,0.04866307849563753,-0.007377533719394458,-0.0989638582074535,-0.0025448398037201396,-0.04323190345493934,0.09756978389556512,-0.09609390238943265,0.10617206893856385,-0.05698855546714137,-0.1440014666048222,0.06072633285020876,0.030518691131919087,0.00980280255479525,0.0552195638999147,0.12403557607811289,0.11718047590871197,-0.029813282227756633,0.15248918047967808,0.006746531964833869,0.03343403538055967,0.04068089880764661,0.059651944526085056,-0.015482959411789341,0.0179960708599383,0.04030449530956913,0.11368568806902768,0.12037589993323357,-0.04063718101631852,-0.05182293359223018,0.0861683633029237,0.24148510684568217,0.026162352145551477,0.05217105534974773,0.05608046402951559,0.07057303638603718,-0.06246865365015835,0.23089964098243382,-0.11899698098110244,-0.007404797491004835,0.031912027195228475,-0.16118975543415764,0.11657196630777518,0.032719680109514024,0.10604915633599575,0.09028268365654503,-0.14874081538366998,0.08245652988148121,-0.026887595114750786,-0.08887650032236481,-0.014000534010572217,0.2621298311855453,0.1520359293704937,0.03404409793509524,-0.09617626429443654,-0.11516492324763626,0.0015580240555743703,-0.05813064850833517,-0.14594738075938168,0.04555456064851423,-0.15625400481228324,-0.01500650381586801,0.01590727299035834,0.042311504736108924,-0.03318739725760508,0.027906424205215954,0.23913807503976156,-0.07819611545632234,-0.15486561544812416,-0.013304518975077279,-0.14374606135810006,0.0011368814981801915,-0.022983605911255242,0.07122861455980703,-0.04602371207488885,0.12222726187296454,0.15386508340117855,0.13059379980260255,-0.07627169810047152,-0.09482246497981965,-0.09399332952389931,0.025778073759941456,-0.09289453323293774,-0.02041258991556506,-0.08396485437909645,0.03514060474017052,0.09083789716946311,0.0773176853304305,0.10665143421640713,-0.03687846298822254,0.14916965772442276,0.08002875281324634,-0.05453750389917897,0.025632108886398733,-0.008883490410892467,0.15124572643640719,-0.06493912270284997,-0.08044488337707749,-0.15943083750095044,0.10538775717336635,-0.14348223787464043,0.1616585588475609,0.17025298555156967,0.15718339977634402,-0.1535510724327432,0.10627580586522592,-0.07011915794420921,-0.11473352599651224,-0.07198109508239185,0.1340697326811112,-0.032155746487644916,-0.12847069433876288,-0.14131631316337737,0.012877288604810256,-0.08050726924329056,-0.06676640136996247,-0.19814407818680757,0.018403669127396566,0.04691868568056977,-0.016064822753995622,0.06557173338439863,-0.10893120071845933,0.059111708706935044,-0.12683788442725946,0.1281889203620191,0.028106891048054944,-0.046076037781187636,-0.04201079603433186,-0.1982343052825195,-0.03334824804511268,0.03516147211589018,-0.11944206380302602,-0.02427514646529622,-0.0013195558127055466,0.21268536831198373,0.10770828904727801,0.19018182391049007,0.12086467996128857,0.24005643894355308,-0.15966092963425604,0.043333935029973146,0.050886295021307586,0.028472985160395727,0.09174623269290277,-0.05053035804510411,0.07739017296841286,-0.045492820202457464,0.017301252587657176,-0.05208243458798126,-0.10322254729767205,0.1749940459864725,-0.1506117089000042,0.10114655454779836,-0.017132903632202625,-0.021567867112852024,0.04168387819209923,0.006584535329877785,0.07487587325062899,0.16583321396408723,-0.0424061275371338,-0.23982395348393137,0.07735510273187934,0.052124198379610125,-0.06738984374426348,0.12813921662558916,-0.08199101263405512,0.1585109601396604,0.13733152075349778,0.0810833667955251,0.13516921859755696,0.061873344723544915,0.12419644956942205,-0.02851292143805911,-0.05252197652576527,-0.06953293811290023,0.057340531793938804,0.0999271096072581,-0.2377510852446243,0.23217023688437385,0.16163968794334888,0.2624334290195981,-0.13567790057842177,-0.06015984297331972,0.05058036050660813,-0.13186306644566495,-0.08665011684399342,0.00262409317064031,-0.034581221615012,0.11299791532474412,-0.07577777272800656,0.20930950753074906,0.13477547406177748,0.10050673786624176,-0.1414325091524413,0.06834636195190782,0.09390169461664336,0.014341205809318806,-0.1319626416743099,-0.13340859654637713,0.050441510279888725,-0.06772630897448641,-0.02471916060153384,0.14121750517702075,-0.11531577163527068,0.14075789299555586,0.05772297413353025,-0.02648321144681275,-0.12291247394054737,-0.049128584725944995,0.14988398780007695,-0.0220407830077739,-0.14124095933519343,-0.10874957544868667,0.17134312091760662,0.04561251000123635,-0.08981866769225028,0.0025288970095569355,0.03125998616582255,-0.16082529320482652,0.09869076778985833,0.09330219260210255,-0.0405325701595894,-0.0074364473411261955,-0.024895864096583425,0.04312271964354607,0.11257971156173785,0.1366850594006593,-0.00982345291282697,-0.0034118871808467705,-0.034841318582796925,0.05262301089778846,-0.04235332140356146,0.12024175824189964,0.10944221792608087,-0.02565301673213996,0.1837535252152719,0.1430684402030846,-0.1253356409384184,-0.11154584842208957,0.04424849877045777,0.020551343333861452,0.0515407944382454,-0.23339330988652485,0.009580736033804707,-0.03620802088009654,-0.05201258988269251,-0.02214760974906604,0.010767494223467712,-0.0812349294159822,-0.010381387504213697,-0.004729029046043276,0.028685070535949587,-0.04850329054883204,-0.004139583296781848,0.028683303718488512,-0.07896417833418949,-0.053142878586677045,0.036991734174008715,-0.08696334310408854,0.040698316571119754,-0.09663429892944175,-0.08436190055524001,0.13245346110918665,0.07286384745166567,0.0891563700438136,0.08891531588182387,0.01470315557199349,-0.07106414669329654,-0.1421842672798476,0.02231415208836253,0.057409738775019314,0.07055111917956983,-0.09383217994213305,0.12962751496259609,-0.0781096139857758,0.16872532903106988,0.025285626532576364,0.11354572660847245,0.006519812012332329,0.06591178648548594,0.23043878244637017,0.06906153131129693,-0.1898611892266452,-0.00474760716082543,-0.007134895238941902,0.019011940664891137,-0.16385167540805234,0.03600808532342297,0.06035958810491489,-0.25748002760482475,-0.1608350507596208,-0.03117424725932835,-0.04256596296311733,0.13233406781550983,-0.11207410081016377,0.046077797853633376,0.1390221142720841,-0.13225501548766885,-0.008270881325744607,0.08717475558236204,-0.005729632374984926,-0.28689624878978875,0.028556509296689733,-0.03021909057995791,0.052306957792151526,0.010539555935433598,-0.10363605069057012,-0.03805102707432636,-0.06195202748554072,0.046665559551397305,-0.1215900760660213,0.1517235823485982,-0.06646928288279884,-0.11426496764008667,-0.03541135901325701,0.02230376382428862,0.13041866898819918,0.018525984389623936,0.14763388087115475,-0.020621353422322228,-0.15905667703496373,0.15997101741554687,-0.09971370621617635,-0.015321475537743351,-0.04348921300419755,0.06044204300611949,0.09228832292286293,0.0028117986304589024,-0.06823615762596016,-0.04367469902553536,-0.016999600100759137,0.15524538584055686,0.07814797253928439,0.10333214077018459,-0.16053300156971684,-0.07435500132715041,-0.15234815053721662,-0.05141825422408054,-0.0491708580248616,-0.12336627567454411,-0.06233804962131648,-0.030178766057557302,0.14668856933259194,0.052400383039169135,0.018280091280205298,0.09273531002201488,-0.003823995223691335,-0.046753481027095575,-0.04529254451939566,0.14330529795438543,0.032477955235892614,-0.0014713905619306627,0.08226110716067464,-0.06851797200554914,-0.11553942014718493,0.09318020735925375,-0.049244538998201276,-0.012956970597682686,0.07223391765163813,-0.021039249688940546,-0.02371817404269256,-0.010624414093406148,0.04201353572340981,-0.13545560363967032,-0.05236384996492317,-0.07885014298208728,0.06741572535824603,0.018591439310024657,0.07119674593075814,-0.2760011763037293,-0.00042572311063722153,0.19580080705377131,0.1651804999821061,-0.16783941512122813,-0.18415965383992147,0.04045465373641273,-0.1801164265464993,0.24275194607692635,-0.18798270534696015,-0.016114268514908846,-0.069354005155601,0.00689301890792796,-0.10385493767944597,-0.005407953056883229,0.09140029812100263,0.017328007727150135,0.051101337120577676,-0.08516091410584067,0.08704485294150446,0.0683465341436945,-0.011131754785692493,-0.059921854280232105,0.10435211347785572,0.05749913720533169,0.008853763583099184,-0.06080915220717267,-0.028401667146870868,0.10768615571521456,-0.059124848235450014,0.04137609050178295,0.05989363952200887,0.000956438572797674,0.1642507906355266,0.01786832595570968,-0.08255221278537932,-0.04519607724116623,0.15302329318241303,-0.30512619043184563,-0.06489661433846455,0.019471595917124596,0.10781715767570006,-0.02506081658438399,-0.08852451694436925,-0.23477798356965224,-0.028187507630695986,-0.05272634670674958,0.06671205023482571,-0.04019027922504239,0.02430177913836357,-0.006660356669816084,0.019199745305046336,-0.12905765787793197,-0.1855069004929456,0.04218022410820024,0.0041675666008738265,-0.05283671543225234,-0.0539380133601958,-0.23235723960167687,-0.0065166618206649336,0.004465925147424706,0.1804525798451174,-0.1861785641388124,0.058919574407663045,0.3531699647193059,0.11391105587989508,0.06377948238460437,0.07527399490469158,0.2165472874800053,-0.20692535918695054,-0.20803725506993775,-0.04932307577027394,0.04470769948765446,-0.019046712721600464,-0.15962742644861994,0.000917611477253547,0.04436227509359593,0.095516368976172,0.1609766789405724,-0.026990964201330833,-0.16143727805701297,0.10443186593054997,-0.09876306722676292,-0.04590920104621793,0.08675495218398858,-0.1213477450984662,-0.11643025578803351,0.13908562648095815,0.05092967339445075,0.055214192607098006,-0.06364638198006514,0.21831399546952693,-0.02601544465789873,0.09744842913397381,0.027252884951187797,0.09165842670548272,-0.09017361175801974,-0.011395629304949346,-0.07192286867149573,-0.004497272528979679,-0.02513799126334694,-0.02711843174306358,0.0517955464037305,-0.11602459941993436],\"nbinsx\":30}];\n",
       "            var layout = \"\";\n",
       "            Plotly.newPlot('231deefe-e26a-4b6d-84e3-0d8a207b6950', data, layout);\n",
       "        \r\n",
       "});\n",
       "};\r\n",
       "// ensure `require` is available globally\r\n",
       "if ((typeof(require) !==  typeof(Function)) || (typeof(require.config) !== typeof(Function))) {\r\n",
       "    let require_script = document.createElement('script');\r\n",
       "    require_script.setAttribute('src', 'https://cdnjs.cloudflare.com/ajax/libs/require.js/2.3.6/require.min.js');\r\n",
       "    require_script.setAttribute('type', 'text/javascript');\r\n",
       "    \r\n",
       "    \r\n",
       "    require_script.onload = function() {\r\n",
       "        renderPlotly();\r\n",
       "    };\r\n",
       "\r\n",
       "    document.getElementsByTagName('head')[0].appendChild(require_script);\r\n",
       "}\r\n",
       "else {\r\n",
       "    renderPlotly();\r\n",
       "}\r\n",
       "\r\n"
      ]
     },
     "metadata": {},
     "output_type": "display_data"
    },
    {
     "name": "stderr",
     "output_type": "stream",
     "text": [
      "\n",
      "input.fsx (4,5)-(4,10) parse warning Possible incorrect indentation: this token is offside of context started at position (3:9). Try indenting this token further or using standard formatting conventions.\n",
      "\n",
      "input.fsx (4,5)-(4,10) parse warning Possible incorrect indentation: this token is offside of context started at position (3:9). Try indenting this token further or using standard formatting conventions.\n",
      "\n"
     ]
    }
   ],
   "source": [
    "let doubles = PrimitiveDataFrameColumn<double>(\"Normal Distribution\", normalDist.Samples().Take(1000));\n",
    "// let ints = PrimitiveDataFrameColumn<int>(\"Ints\", 3L) \n",
    "display(Chart.Plot(\n",
    "    Graph.Histogram(x = doubles, nbinsx = 30)\n",
    "));"
   ]
  },
  {
   "cell_type": "code",
   "execution_count": null,
   "metadata": {},
   "outputs": [],
   "source": []
  }
 ],
 "metadata": {
  "kernelspec": {
   "display_name": ".NET (F#)",
   "language": "F#",
   "name": ".net-fsharp"
  },
  "language_info": {
   "file_extension": ".fs",
   "mimetype": "text/x-fsharp",
   "name": "C#",
   "pygments_lexer": "fsharp",
   "version": "4.5"
  }
 },
 "nbformat": 4,
 "nbformat_minor": 4
}
