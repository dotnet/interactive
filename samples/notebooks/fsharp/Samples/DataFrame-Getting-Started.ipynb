{
 "cells": [
  {
   "cell_type": "markdown",
   "metadata": {},
   "source": [
    "[this doc on github](https://github.com/dotnet/interactive/tree/master/samples/notebooks/fsharp/Samples)\n",
    "\n",
    "This demonstrates the use of `Microsoft.Data.Analysis` data frames with F#.You can open this example online using [MyBinder](https://mybinder.org/v2/gh/dotnet/interactive/master?filepath=fsharp%2FSamples%2FDataFrame-Getting%20Started.ipynb).\n",
    "\n",
    "### Referencing the package\n",
    "\n",
    "\n",
    "First, get the package and open the namespaces:"
   ]
  },
  {
   "cell_type": "code",
   "execution_count": null,
   "metadata": {},
   "outputs": [],
   "source": [
    "#i \"nuget:https://pkgs.dev.azure.com/dnceng/public/_packaging/dotnet5/nuget/v3/index.json\" \n",
    "#i \"nuget:https://pkgs.dev.azure.com/dnceng/public/_packaging/dotnet-tools/nuget/v3/index.json\" \n",
    "\n",
    "#r \"nuget:Microsoft.Data.Analysis,0.2.0\"\n",
    "#r \"nuget: XPlot.Plotly.Interactive, 3.0.4\"\n",
    "\n",
    "open Microsoft.Data.Analysis"
   ]
  },
  {
   "cell_type": "markdown",
   "metadata": {},
   "source": [
    "### Creating a data frame\n",
    "\n",
    "Create 3 columns to hold values of types `DateTime`, `int`, and `string`"
   ]
  },
  {
   "cell_type": "code",
   "execution_count": null,
   "metadata": {},
   "outputs": [],
   "source": [
    "let dateTimes = PrimitiveDataFrameColumn<DateTime>(\"DateTimes\") // Default length is 0.\n",
    "let ints = PrimitiveDataFrameColumn<int>(\"Ints\", 3L) // Makes a column of Length 3. Filles with nulls initially.\n",
    "let strings = StringDataFrameColumn(\"Strings\", 3L)"
   ]
  },
  {
   "cell_type": "markdown",
   "metadata": {},
   "source": [
    "Add some datetimes"
   ]
  },
  {
   "cell_type": "code",
   "execution_count": null,
   "metadata": {},
   "outputs": [],
   "source": [
    "dateTimes.Append(DateTime.Parse(\"2019/01/01\"))\n",
    "dateTimes.Append(DateTime.Parse(\"2019/01/01\"))\n",
    "dateTimes.Append(DateTime.Parse(\"2019/01/02\"))"
   ]
  },
  {
   "cell_type": "markdown",
   "metadata": {},
   "source": [
    "Create a `DataFrame` with 3 columns"
   ]
  },
  {
   "cell_type": "code",
   "execution_count": null,
   "metadata": {},
   "outputs": [],
   "source": [
    "let df = DataFrame([dateTimes; ints; strings]: DataFrameColumn list)"
   ]
  },
  {
   "cell_type": "markdown",
   "metadata": {},
   "source": [
    "### Adding better default formatting for data frames\n",
    "\n",
    "Create a formatter for data frames and data frame rows."
   ]
  },
  {
   "cell_type": "code",
   "execution_count": null,
   "metadata": {},
   "outputs": [],
   "source": [
    "module DateFrameFormatter = \n",
    "    \n",
    "    // Locally open the F# HTML DSL.\n",
    "    open Html\n",
    "\n",
    "    let maxRows = 20\n",
    "\n",
    "    Formatter.Register<DataFrame>((fun (context: FormatContext) (df: DataFrame) (writer: TextWriter) ->\n",
    "\n",
    "        // Don't generate nested tables\n",
    "        if context.ContentThreshold < 1.0 then false else\n",
    "\n",
    "        // Ask other formatters to reduce information generation\n",
    "        context.ReduceContent(0.2) |> ignore\n",
    "\n",
    "        let take = 20\n",
    "        table [] [\n",
    "          thead [] [\n",
    "            th [] [ str \"Index\" ]\n",
    "            for c in df.Columns do\n",
    "              th [] [ str c.Name]\n",
    "          ]\n",
    "          tbody [] [\n",
    "            for i in 0 .. min maxRows (int df.Rows.Count - 1) do\n",
    "              tr [] [\n",
    "                td [] [ embed context i ]\n",
    "                for o in df.Rows.[int64 i] do\n",
    "                  td [] [ embed context o ]\n",
    "              ]\n",
    "          ]\n",
    "        ]\n",
    "        |> writer.Write\n",
    "\n",
    "        true\n",
    "    ), mimeType = \"text/html\")\n",
    "    \n",
    "    Formatter.Register<DataFrameRow>((fun (context: FormatContext) (row: DataFrameRow) (writer: TextWriter) ->\n",
    "\n",
    "        // Don't generate nested tables\n",
    "        if context.ContentThreshold < 1.0 then false else\n",
    "\n",
    "        // Ask other formatters to reduce information generation\n",
    "        context.ReduceContent(0.2) |> ignore\n",
    "\n",
    "        table [] [\n",
    "          tbody [] [\n",
    "            tr [] [\n",
    "              for o in row do\n",
    "                td [] [ embed context o ] \n",
    "            ]\n",
    "          ]\n",
    "        ]\n",
    "        |> writer.Write\n",
    "\n",
    "        true\n",
    "    ), mimeType = \"text/html\")\n",
    "    "
   ]
  },
  {
   "cell_type": "markdown",
   "metadata": {},
   "source": [
    "Now view the data frame: "
   ]
  },
  {
   "cell_type": "code",
   "execution_count": null,
   "metadata": {},
   "outputs": [],
   "source": [
    "df"
   ]
  },
  {
   "cell_type": "markdown",
   "metadata": {},
   "source": [
    "### Modifying data frames\n",
    "\n",
    "Change a value directly through df:"
   ]
  },
  {
   "cell_type": "code",
   "execution_count": null,
   "metadata": {},
   "outputs": [],
   "source": [
    "df.[0L, 1] <- 10\n",
    "df"
   ]
  },
  {
   "cell_type": "markdown",
   "metadata": {},
   "source": [
    "We can also modify the values in the columns through indexers defined in `PrimitiveDataColumn` and `StringColumn`"
   ]
  },
  {
   "cell_type": "code",
   "execution_count": null,
   "metadata": {},
   "outputs": [],
   "source": [
    "ints.[1L] <- Nullable 100\n",
    "strings.[1L] <- \"Foo!\"\n",
    "df"
   ]
  },
  {
   "cell_type": "markdown",
   "metadata": {},
   "source": [
    "Check the data type"
   ]
  },
  {
   "cell_type": "code",
   "execution_count": null,
   "metadata": {},
   "outputs": [],
   "source": [
    "df.Info()"
   ]
  },
  {
   "cell_type": "markdown",
   "metadata": {},
   "source": [
    "The `DataFrame` and the base `DataFrameColumn` class that all columns derive from expose a number of useful APIs: binary operations, computations, joins, merges, handling missing values and more."
   ]
  },
  {
   "cell_type": "code",
   "execution_count": null,
   "metadata": {},
   "outputs": [],
   "source": [
    "df.[\"Ints\"].Add(5, inPlace=true)\n",
    "df"
   ]
  },
  {
   "cell_type": "code",
   "execution_count": null,
   "metadata": {},
   "outputs": [],
   "source": [
    "df.[\"Ints\"] <- (ints / 5) * 100\n",
    "df"
   ]
  },
  {
   "cell_type": "markdown",
   "metadata": {},
   "source": [
    "Let's `null` it up!"
   ]
  },
  {
   "cell_type": "code",
   "execution_count": null,
   "metadata": {},
   "outputs": [],
   "source": [
    "df.[\"Ints\"].FillNulls(-1, inPlace=true)\n",
    "df.[\"Strings\"].FillNulls(\"Bar\", inPlace=true)\n",
    "df"
   ]
  },
  {
   "cell_type": "markdown",
   "metadata": {},
   "source": [
    "DataFrame exposes `Columns` property that we can enumerate over to access our columns. Here's how you can access the first row, though."
   ]
  },
  {
   "cell_type": "code",
   "execution_count": null,
   "metadata": {},
   "outputs": [],
   "source": [
    "let row0 = df.Rows.[0L]\n",
    "row0"
   ]
  },
  {
   "cell_type": "code",
   "execution_count": null,
   "metadata": {},
   "outputs": [],
   "source": [
    "row0"
   ]
  },
  {
   "cell_type": "markdown",
   "metadata": {},
   "source": [
    "### Filtering and sorting data frames\n",
    "\n",
    "Let's take a look at `Filter`, `Sort`, and `GroupBy`."
   ]
  },
  {
   "cell_type": "code",
   "execution_count": null,
   "metadata": {},
   "outputs": [],
   "source": [
    "// Sort our dataframe using the Ints column\n",
    "df.Sort(\"Ints\", ascending=true)"
   ]
  },
  {
   "cell_type": "code",
   "execution_count": null,
   "metadata": {},
   "outputs": [],
   "source": [
    "// GroupBy\n",
    "let grouped = df.GroupBy(\"DateTimes\")\n",
    "// Count of values in each group\n",
    "grouped.Count()"
   ]
  },
  {
   "cell_type": "code",
   "execution_count": null,
   "metadata": {},
   "outputs": [],
   "source": [
    "let intGroupSum = grouped.Sum(\"Ints\");\n",
    "intGroupSum"
   ]
  },
  {
   "cell_type": "markdown",
   "metadata": {},
   "source": [
    "### Charting columns from data frames"
   ]
  },
  {
   "cell_type": "code",
   "execution_count": null,
   "metadata": {},
   "outputs": [],
   "source": [
    "open XPlot.Plotly\n",
    "open System.Linq"
   ]
  },
  {
   "cell_type": "code",
   "execution_count": null,
   "metadata": {},
   "outputs": [],
   "source": [
    "#r \"nuget:MathNet.Numerics\""
   ]
  },
  {
   "cell_type": "code",
   "execution_count": null,
   "metadata": {},
   "outputs": [],
   "source": [
    "open MathNet.Numerics.Distributions"
   ]
  },
  {
   "cell_type": "code",
   "execution_count": null,
   "metadata": {},
   "outputs": [],
   "source": [
    "let mean = 0.0\n",
    "let stdDev = 0.1\n",
    "\n",
    "let normalDist = new Normal(mean, stdDev);"
   ]
  },
  {
   "cell_type": "code",
   "execution_count": null,
   "metadata": {},
   "outputs": [],
   "source": [
    "let doubles = PrimitiveDataFrameColumn<double>(\"Normal Distribution\", normalDist.Samples().Take(1000));\n",
    "// let ints = PrimitiveDataFrameColumn<int>(\"Ints\", 3L) \n",
    "display(Chart.Plot(Graph.Histogram(x = doubles, nbinsx = 30)));"
   ]
  }
 ],
 "metadata": {
  "kernelspec": {
   "display_name": ".NET (F#)",
   "language": "F#",
   "name": ".net-fsharp"
  },
  "language_info": {
   "file_extension": ".fs",
   "mimetype": "text/x-fsharp",
   "name": "C#",
   "pygments_lexer": "fsharp",
   "version": "4.5"
  }
 },
 "nbformat": 4,
 "nbformat_minor": 4
}
