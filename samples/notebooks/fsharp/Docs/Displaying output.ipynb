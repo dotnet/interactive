{
 "cells": [
  {
   "cell_type": "markdown",
   "metadata": {},
   "source": [
    "[this doc on github](https://github.com/dotnet/interactive/tree/master/samples/notebooks/fsharp/Docs)\n",
    "\n",
    "# Displaying output in a .NET (F#) notebook"
   ]
  },
  {
   "cell_type": "markdown",
   "metadata": {},
   "source": [
    "When writing F# in a .NET notebook, you can write code similar to how you would with the F# Interactive tool."
   ]
  },
  {
   "cell_type": "code",
   "execution_count": null,
   "metadata": {},
   "outputs": [],
   "source": [
    "1 + 3"
   ]
  },
  {
   "cell_type": "markdown",
   "metadata": {},
   "source": [
    "The last value in a cell has its output displayed."
   ]
  },
  {
   "cell_type": "code",
   "execution_count": null,
   "metadata": {},
   "outputs": [],
   "source": [
    "let r = System.Random()\n",
    "r.Next(0,10)"
   ]
  },
  {
   "cell_type": "code",
   "execution_count": null,
   "metadata": {},
   "outputs": [],
   "source": [
    "\"Hello, world!\""
   ]
  },
  {
   "cell_type": "markdown",
   "metadata": {},
   "source": [
    "When you end a cell with an expression evaluation like this, it is the return value of the cell. There can only be a single return value for a cell. If you add more code after a return value expression, you'll see a compile error.\n",
    "\n",
    "There are also several ways to display information without using the return value. The most intuitive one for many .NET users is to write to the console:"
   ]
  },
  {
   "cell_type": "code",
   "execution_count": null,
   "metadata": {},
   "outputs": [],
   "source": [
    "System.Console.WriteLine(\"Hello, world!\")\n",
    "printfn \"Hello, world!\""
   ]
  },
  {
   "cell_type": "markdown",
   "metadata": {},
   "source": [
    "But a more familiar API for many notebook users would be the `display` method."
   ]
  },
  {
   "cell_type": "code",
   "execution_count": null,
   "metadata": {},
   "outputs": [],
   "source": [
    "display(\"Hello, world!\")"
   ]
  },
  {
   "cell_type": "markdown",
   "metadata": {},
   "source": [
    "Each call to `display` writes an additional display data value to the notebook.\n",
    "You can also update an existing displayed value by calling `Update` on the object returned by a call to `display`."
   ]
  },
  {
   "cell_type": "code",
   "execution_count": null,
   "metadata": {},
   "outputs": [],
   "source": [
    "let fruitOutput = display(\"Let's get some fruit!\");\n",
    "let basket = [| \"apple\"; \"orange\"; \"coconut\"; \"pear\"; \"peach\" |]\n",
    "\n",
    "for fruit in basket do\n",
    "    System.Threading.Thread.Sleep(1000);\n",
    "    let updateMessage = sprintf \"I have 1 %s\" fruit\n",
    "    fruitOutput.Update(updateMessage)\n",
    "\n",
    "System.Threading.Thread.Sleep(1000);\n",
    "\n",
    "fruitOutput.Update(basket);"
   ]
  }
 ],
 "metadata": {
  "kernelspec": {
   "display_name": ".NET (F#)",
   "language": "F#",
   "name": ".net-fsharp"
  },
  "language_info": {
   "file_extension": ".fs",
   "mimetype": "text/x-fsharp",
   "name": "C#",
   "pygments_lexer": "fsharp",
   "version": "4.5"
  }
 },
 "nbformat": 4,
 "nbformat_minor": 4
}
