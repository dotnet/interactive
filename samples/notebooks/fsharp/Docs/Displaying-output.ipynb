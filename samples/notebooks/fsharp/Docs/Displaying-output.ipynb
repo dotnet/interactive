{
 "cells": [
  {
   "cell_type": "markdown",
   "metadata": {},
   "source": [
    "[this doc on github](https://github.com/dotnet/interactive/tree/master/samples/notebooks/fsharp/Docs)\n",
    "\n",
    "# Displaying Output in an F# notebook"
   ]
  },
  {
   "cell_type": "markdown",
   "metadata": {},
   "source": [
    "This article describes how to display output results in F# notebooks.\n",
    "\n",
    "When writing F# in a .NET notebook, you can write code similar to how you would with the F# Interactive tool."
   ]
  },
  {
   "cell_type": "code",
   "execution_count": null,
   "metadata": {},
   "outputs": [],
   "source": [
    "1 + 3"
   ]
  },
  {
   "cell_type": "markdown",
   "metadata": {},
   "source": [
    "The last value in a cell has its output displayed. When you end a cell with an expression evaluation like this, it is the return value of the cell. There can only be a single return value for a cell. If you add more code after a return value expression, you'll see a compile error. \n",
    "\n",
    "Here is another example:"
   ]
  },
  {
   "cell_type": "code",
   "execution_count": null,
   "metadata": {},
   "outputs": [],
   "source": [
    "let r = System.Random()\n",
    "r.Next(0,10)"
   ]
  },
  {
   "cell_type": "markdown",
   "metadata": {},
   "source": [
    "You can also evaluate a string:"
   ]
  },
  {
   "cell_type": "code",
   "execution_count": null,
   "metadata": {},
   "outputs": [],
   "source": [
    "\"Hello, world!\""
   ]
  },
  {
   "cell_type": "markdown",
   "metadata": {},
   "source": [
    "\n",
    "### Using Console Output\n",
    "\n",
    "You can display information without using the return value. The most intuitive way is to write to the console:"
   ]
  },
  {
   "cell_type": "code",
   "execution_count": null,
   "metadata": {},
   "outputs": [],
   "source": [
    "System.Console.WriteLine(\"Hello, world!\")\n",
    "printfn \"Hello, world!\""
   ]
  },
  {
   "cell_type": "markdown",
   "metadata": {},
   "source": [
    "You can also use `%A` printing to print structured values:"
   ]
  },
  {
   "cell_type": "code",
   "execution_count": null,
   "metadata": {},
   "outputs": [],
   "source": [
    "printfn \"%120A\" [ for i in 1 .. 30 -> [ 1 .. i ]]"
   ]
  },
  {
   "cell_type": "markdown",
   "metadata": {},
   "source": [
    "## Using `display`\n",
    "\n",
    "A more familiar API for many notebook users would be the `display` method."
   ]
  },
  {
   "cell_type": "code",
   "execution_count": null,
   "metadata": {},
   "outputs": [],
   "source": [
    "display(\"Hello, world!\")"
   ]
  },
  {
   "cell_type": "markdown",
   "metadata": {},
   "source": [
    "Many outputs are automatically formatted as HTML by `display` or output-value formatting.\n"
   ]
  },
  {
   "cell_type": "markdown",
   "metadata": {},
   "source": [
    "### Updating 'display' results asynchronously\n",
    "\n",
    "Each call to `display` writes an additional display data value to the notebook.\n",
    "You can also update an existing displayed value by calling `Update` on the object returned by a call to `display`.\n",
    "\n",
    "In some environments such as Jupyter Lab, only updates made during the execution of the cell are applied."
   ]
  },
  {
   "cell_type": "code",
   "execution_count": null,
   "metadata": {},
   "outputs": [],
   "source": [
    "let fruitOutput = display(\"Let's get some fruit!\");\n",
    "let basket = [| \"apple\"; \"orange\"; \"coconut\"; \"pear\"; \"peach\" |]\n",
    "\n",
    "for fruit in basket do\n",
    "    System.Threading.Thread.Sleep(1000);\n",
    "    let updateMessage = sprintf \"I have 1 %s\" fruit\n",
    "    fruitOutput.Update(updateMessage)\n",
    "\n",
    "System.Threading.Thread.Sleep(1000);\n",
    "\n",
    "fruitOutput.Update(basket);"
   ]
  },
  {
   "cell_type": "markdown",
   "metadata": {},
   "source": [
    "## Displaying HTML\n",
    "\n",
    "\n",
    "\n",
    "To display arbitrary HTML, the helper function `HTML` can be used.\n"
   ]
  },
  {
   "cell_type": "code",
   "execution_count": null,
   "metadata": {},
   "outputs": [],
   "source": [
    "HTML(Html.raw \"<b style=\\\"color:blue\\\">Hello!</b>\")"
   ]
  },
  {
   "cell_type": "markdown",
   "metadata": {},
   "source": [
    "HTML can be specified using any DSL that generates ASP.NET Core `IHtmlContent`.  The `Html` module contains an F# DSL for HTML specification similar to [Giraffe.ViewEngine](https://github.com/giraffe-fsharp/Giraffe.ViewEngine#html-elements-and-attributes) that does this. For example:\n"
   ]
  },
  {
   "cell_type": "code",
   "execution_count": null,
   "metadata": {},
   "outputs": [],
   "source": [
    "open Html\n",
    "\n",
    "let indexView =\n",
    "    div [] [\n",
    "      h4 [] [ str \"I love F#\" ]\n",
    "      p [ _class \"some-css-class\"; _id \"someId\" ] [\n",
    "          b  [] [str \"Hello\" ]\n",
    "          str \" \"\n",
    "          i [] [str \"World\"]\n",
    "      ]\n",
    "    ]\n",
    "\n",
    "display(indexView)"
   ]
  },
  {
   "cell_type": "markdown",
   "metadata": {},
   "source": [
    "## Executing Javascript\n",
    "\n",
    "The helper function `Javascript` executes Javascript directly."
   ]
  },
  {
   "cell_type": "code",
   "execution_count": null,
   "metadata": {},
   "outputs": [],
   "source": [
    "Javascript(@\"alert(\"\"Hello!\"\");\")"
   ]
  },
  {
   "cell_type": "markdown",
   "metadata": {},
   "source": [
    "## Defining CSS"
   ]
  },
  {
   "cell_type": "markdown",
   "metadata": {},
   "source": [
    "The `CSS` function can be used to add CSS styling to the host HTML system. Here are some examples:"
   ]
  },
  {
   "cell_type": "code",
   "execution_count": null,
   "metadata": {},
   "outputs": [],
   "source": [
    "CSS \"h2 { color: darkslategrey; }\""
   ]
  },
  {
   "cell_type": "markdown",
   "metadata": {},
   "source": [
    "## HTML Formatting \n",
    "\n"
   ]
  },
  {
   "cell_type": "markdown",
   "metadata": {},
   "source": [
    "When you return a value or a display a value in a .NET notebook, the default formatting behavior is to try to provide some useful information about the object. If it's an array or other type implementing `IEnumerable`, that might look like this:"
   ]
  },
  {
   "cell_type": "code",
   "execution_count": null,
   "metadata": {},
   "outputs": [],
   "source": [
    "display [\"hello\"; \"world\"]\n",
    "\n",
    "[ 1 .. 4 ]"
   ]
  },
  {
   "cell_type": "markdown",
   "metadata": {},
   "source": [
    "As you can see, by default a table structure is used whether you pass the object to the `display` method or return it as the cell's value.\n"
   ]
  },
  {
   "cell_type": "markdown",
   "metadata": {},
   "source": [
    "### Switching to plain text only\n",
    "\n",
    "If you prefer, you can switch to plain text by default.  The simplest way to do this is to register `\"text/plain\"` as the default mime type for all objects and switch the `%A` printing.  "
   ]
  },
  {
   "cell_type": "code",
   "execution_count": null,
   "metadata": {},
   "outputs": [],
   "source": [
    "Formatter.SetPreferredMimeTypeFor(typeof<obj>, \"text/plain\")\n",
    "Formatter.Register(fun (x:obj) (writer: TextWriter) -> fprintfn writer \"%120A\" x )"
   ]
  },
  {
   "cell_type": "code",
   "execution_count": null,
   "metadata": {},
   "outputs": [],
   "source": [
    "[ 1 .. 4 ]"
   ]
  },
  {
   "cell_type": "markdown",
   "metadata": {},
   "source": [
    "Now reset back to defaults:"
   ]
  },
  {
   "cell_type": "code",
   "execution_count": null,
   "metadata": {},
   "outputs": [],
   "source": [
    "Formatter.ResetToDefault()"
   ]
  },
  {
   "cell_type": "markdown",
   "metadata": {},
   "source": [
    "### Preserving multi-line string outputs\n",
    "\n",
    "By default multi-line content does not have formatting preserved.  For example:"
   ]
  },
  {
   "cell_type": "code",
   "execution_count": null,
   "metadata": {},
   "outputs": [],
   "source": [
    "[ sprintf \"%120A\" [ for i in 1 .. 30 -> [ 1 .. i ]] ]"
   ]
  },
  {
   "cell_type": "markdown",
   "metadata": {},
   "source": [
    "You can use styling to preserve the preformatting of such content."
   ]
  },
  {
   "cell_type": "code",
   "execution_count": null,
   "metadata": {},
   "outputs": [],
   "source": [
    "CSS \".dni-plaintext { text-align: left; white-space: pre; font-family: monospace; });\""
   ]
  },
  {
   "cell_type": "markdown",
   "metadata": {},
   "source": [
    "Note that `Formatter.ResetToDefault()` doesn't undo any CSS changes. You can undo this change with:"
   ]
  },
  {
   "cell_type": "code",
   "execution_count": null,
   "metadata": {},
   "outputs": [],
   "source": [
    "CSS \".dni-plaintext { text-align: inherit; white-space: inherit; font-family: inherit; });\""
   ]
  },
  {
   "cell_type": "markdown",
   "metadata": {},
   "source": [
    "### HTML Formatting of objects\n",
    "\n",
    "The default formatting behavior for many objects is to produce a table showing their properties and the values of those properties."
   ]
  },
  {
   "cell_type": "code",
   "execution_count": null,
   "metadata": {},
   "outputs": [],
   "source": [
    "type Person = { FirstName: string; LastName: string; Age: int }\n",
    "\n",
    "// Evaluate a new person\n",
    "{ FirstName = \"Mitch\"; LastName = \"Buchannon\"; Age = 42 }"
   ]
  },
  {
   "cell_type": "markdown",
   "metadata": {},
   "source": [
    "###  HTML Formatting of sequences\n",
    "\n",
    "When you have a collection of objects, you can see the values listed for each item in the collection:"
   ]
  },
  {
   "cell_type": "code",
   "execution_count": null,
   "metadata": {},
   "outputs": [],
   "source": [
    "let people =\n",
    "    [\n",
    "        { FirstName = \"Mitch\"; LastName = \"Buchannon\"; Age = 42 }\n",
    "        { FirstName = \"Hobie \"; LastName = \"Buchannon\"; Age = 23 }\n",
    "        { FirstName = \"Summer\"; LastName = \"Quinn\"; Age = 25 }\n",
    "        { FirstName = \"C.J.\"; LastName = \"Parker\"; Age = 23 }\n",
    "    ]\n",
    "\n",
    "people"
   ]
  },
  {
   "cell_type": "markdown",
   "metadata": {},
   "source": [
    "### HTML Formatting of dictionaries\n",
    "\n",
    "Similarly to the behavior for `IEnumerable` objects, you'll also see table output for dictionaries, but for each value in the dictionary, the key is provided rather than the index within the collection."
   ]
  },
  {
   "cell_type": "code",
   "execution_count": null,
   "metadata": {},
   "outputs": [],
   "source": [
    "// Cannot simply use 'dict' here, see https://github.com/dotnet/interactive/issues/12\n",
    "\n",
    "let d = dict [(\"zero\", 0); (\"one\", 1); (\"two\", 2)]\n",
    "d"
   ]
  },
  {
   "cell_type": "markdown",
   "metadata": {},
   "source": [
    "###  HTML Formatting of nested objects\n",
    "\n",
    "Now let's try something a bit more complex. Let's look at a graph of objects. \n",
    "\n",
    "We'll redefine the `Person` class to allow a reference to a collection of other `Person` instances."
   ]
  },
  {
   "cell_type": "code",
   "execution_count": null,
   "metadata": {},
   "outputs": [],
   "source": [
    "type Person =\n",
    "    { FirstName: string\n",
    "      LastName: string\n",
    "      Age: int\n",
    "      Friends: ResizeArray<Person> }\n",
    "\n",
    "let mitch = { FirstName = \"Mitch\"; LastName = \"Buchannon\"; Age = 42; Friends = ResizeArray() }\n",
    "let hobie = { FirstName = \"Hobie \"; LastName = \"Buchannon\"; Age = 23; Friends = ResizeArray() }\n",
    "let summer =  { FirstName = \"Summer\"; LastName = \"Quinn\"; Age = 25; Friends = ResizeArray() }\n",
    "\n",
    "mitch.Friends.AddRange([ hobie; summer ])\n",
    "hobie.Friends.AddRange([ mitch; summer ])\n",
    "summer.Friends.AddRange([ mitch; hobie ])\n",
    "\n",
    "let people = [ mitch; hobie; summer ]\n",
    "display people"
   ]
  },
  {
   "cell_type": "markdown",
   "metadata": {},
   "source": [
    "That's a bit hard to read, right?  The defaut formatting behaviors are not always as useful as they might be. In order to give you more control in these kinds of cases, formatters can be customized from within the .NET notebook."
   ]
  },
  {
   "cell_type": "markdown",
   "metadata": {},
   "source": [
    "### Registering custom plain text formatters"
   ]
  },
  {
   "cell_type": "markdown",
   "metadata": {},
   "source": [
    "Let's clean up the output above by customizing the formatter for the `Person.Friends` property, which is creating a lot of noise. \n",
    "\n",
    "The way to do this is to use the `Formatter` API. This API lets you customize the formatting for a specific type. Since `Person.Friends` is a sequence of `Person` objects, i.e. type `seq<Person>`, we can register a custom formatter for that type to change the output. Let's just list their first names:"
   ]
  },
  {
   "cell_type": "code",
   "execution_count": null,
   "metadata": {},
   "outputs": [],
   "source": [
    "Formatter.Register<seq<Person>>(\n",
    "    mimeType = \"text/plain\",\n",
    "    formatter = Func<_,_,_,_>(fun context people (writer: TextWriter) ->\n",
    "        for person in people do\n",
    "            writer.Write(person.FirstName)\n",
    "            writer.Write(\" \")\n",
    "        true))\n"
   ]
  },
  {
   "cell_type": "markdown",
   "metadata": {},
   "source": [
    "Now display the `people` data again:"
   ]
  },
  {
   "cell_type": "code",
   "execution_count": null,
   "metadata": {},
   "outputs": [],
   "source": [
    "people"
   ]
  },
  {
   "cell_type": "markdown",
   "metadata": {},
   "source": [
    "You might have noticed that `people` is of type `ResizeArray<Person>`, but the table output still includes columns for `LastName`, `Age`, and `Friends`. What's going on here?\n",
    "\n",
    "Notice that the custom formatter we just registered was registered for the mime type `\"text/plain\"`. The top-level formatter that's used when we call `display` requests output of mime type `\"text/html\"` and the nested objects are formatted using `\"text/plain\"`. It's the nested objects, not the top-level HTML table, that's using the custom formatter here.\n"
   ]
  },
  {
   "cell_type": "markdown",
   "metadata": {},
   "source": [
    "### Registering custom HTML formatters\n",
    "\n",
    "The HTML formatters apply by default to many objects. For example, to replace the default HTML table view for a particular collection type, you can register a formatter for the `\"text/html\"` mime type. HTML is specified using the HTML DSL similar to Giraffe's ViewEngine. \n",
    "\n",
    "In this case we put the formatter registration in a module to prevent opening the `Html` DSL everywhere."
   ]
  },
  {
   "cell_type": "code",
   "execution_count": null,
   "metadata": {},
   "outputs": [],
   "source": [
    "module PersonHtmlFormatter = \n",
    "    \n",
    "    // Locally open the F# HTML DSL.\n",
    "    open Html\n",
    "\n",
    "    Formatter.Register<seq<Person>>(\n",
    "        mimeType = \"text/html\",\n",
    "        formatter = Func<_,_,_,_>(fun (context: FormatContext) (people: seq<Person>) (writer: TextWriter) ->\n",
    "            table [] [\n",
    "              thead [ _style [\"color: blue\"]] [\n",
    "                th [] [ str \"First Name\" ]\n",
    "                th [] [ str \"Last Name\" ]\n",
    "                th [] [ str \"Age\" ]\n",
    "              ]\n",
    "              tbody [_style [\"color: darkolivegreen\"]] [\n",
    "                for p in people do\n",
    "                  tr [] [\n",
    "                    td [] [ str p.FirstName ]\n",
    "                    td [] [ str p.LastName ]\n",
    "                    td [] [ str (string p.Age) ; str \" years\" ] \n",
    "                  ]\n",
    "              ]\n",
    "            ]\n",
    "            |> writer.Write\n",
    "            true))\n"
   ]
  },
  {
   "cell_type": "markdown",
   "metadata": {},
   "source": [
    "Now display the `people` data again:"
   ]
  },
  {
   "cell_type": "code",
   "execution_count": null,
   "metadata": {},
   "outputs": [],
   "source": [
    "people"
   ]
  }
 ],
 "metadata": {
  "kernelspec": {
   "display_name": ".NET (F#)",
   "language": "F#",
   "name": ".net-fsharp"
  },
  "language_info": {
   "file_extension": ".fs",
   "mimetype": "text/x-fsharp",
   "name": "C#",
   "pygments_lexer": "fsharp",
   "version": "4.5"
  }
 },
 "nbformat": 4,
 "nbformat_minor": 4
}
