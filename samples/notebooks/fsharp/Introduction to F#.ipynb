{
 "cells": [
  {
   "cell_type": "markdown",
   "metadata": {},
   "source": [
    "[this doc on github](https://github.com/dotnet/interactive/tree/master/samples/notebooks/fsharp)\n",
    "\n",
    "# Introduction to F# #\n",
    "\n",
    "F# is an [open-source, cross-platform functional programming language](http://aka.ms/fsharphome) for .NET.\n",
    "\n",
    "F# has features and idioms to support functional programming while also offering clean interop with C# and existing .NET codebases and systems. It can use anything in the [NuGet](https://www.nuget.org/) ecosystem, as this notebook will also demonstrate."
   ]
  },
  {
   "cell_type": "markdown",
   "metadata": {},
   "source": [
    "## F# basics\n",
    "\n",
    "Let's start with some simple arithmetic:"
   ]
  },
  {
   "cell_type": "code",
   "execution_count": 1,
   "metadata": {},
   "outputs": [
    {
     "data": {
      "text/html": [
       "\r\n",
       "<div>\r\n",
       "    <div id='dotnet-interactive-this-cell-22196.801d5e1fa88b49f59aab14a38271eebf' style='display: none'>\r\n",
       "        The below script needs to be able to find the current output cell; this is an easy method to get it.\r\n",
       "    </div>\r\n",
       "    <script type='text/javascript'>\r\n",
       "// ensure `require` is available globally\r\n",
       "if (typeof require !== typeof Function || typeof require.config !== typeof Function) {\r\n",
       "    let require_script = document.createElement('script');\r\n",
       "    require_script.setAttribute('src', 'https://cdnjs.cloudflare.com/ajax/libs/require.js/2.3.6/require.min.js');\r\n",
       "    require_script.setAttribute('type', 'text/javascript');\r\n",
       "    require_script.onload = function () {\r\n",
       "        loadDotnetInteractiveApi();\r\n",
       "    };\r\n",
       "\r\n",
       "    document.getElementsByTagName('head')[0].appendChild(require_script);\r\n",
       "}\r\n",
       "else {\r\n",
       "    loadDotnetInteractiveApi();\r\n",
       "}\r\n",
       "\r\n",
       "async function probeAddresses(probingAddresses) {\r\n",
       "    function timeout(ms, promise) {\r\n",
       "        return new Promise(function (resolve, reject) {\r\n",
       "            setTimeout(function () {\r\n",
       "                reject(new Error('timeout'))\r\n",
       "            }, ms)\r\n",
       "            promise.then(resolve, reject)\r\n",
       "        })\r\n",
       "    }\r\n",
       "\r\n",
       "    if (Array.isArray(probingAddresses)) {\r\n",
       "        for (let i = 0; i < probingAddresses.length; i++) {\r\n",
       "\r\n",
       "            let rootUrl = probingAddresses[i];\r\n",
       "\r\n",
       "            if (!rootUrl.endsWith('/')) {\r\n",
       "                rootUrl = `${rootUrl}/`;\r\n",
       "            }\r\n",
       "\r\n",
       "            try {\r\n",
       "                let response = await timeout(1000, fetch(`${rootUrl}discovery`, {\r\n",
       "                    method: 'POST',\r\n",
       "                    cache: 'no-cache',\r\n",
       "                    mode: 'cors',\r\n",
       "                    timeout: 1000,\r\n",
       "                    headers: {\r\n",
       "                        'Content-Type': 'text/plain'\r\n",
       "                    },\r\n",
       "                    body: probingAddresses[i]\r\n",
       "                }));\r\n",
       "\r\n",
       "                if (response.status == 200) {\r\n",
       "                    return rootUrl;\r\n",
       "                }\r\n",
       "            }\r\n",
       "            catch (e) { }\r\n",
       "        }\r\n",
       "    }\r\n",
       "}\r\n",
       "\r\n",
       "function loadDotnetInteractiveApi() {\r\n",
       "    probeAddresses([\"http://192.168.0.24:1002/\", \"http://172.25.178.209:1002/\", \"http://127.0.0.1:1002/\"])\r\n",
       "        .then((root) => {\r\n",
       "            // use probing to find host url and api resources\r\n",
       "            // load interactive helpers and language services\r\n",
       "            let dotnetInteractiveRequire = require.config({\r\n",
       "                context: '22196.801d5e1fa88b49f59aab14a38271eebf',\r\n",
       "                paths: {\r\n",
       "                    'dotnet-interactive': `${root}resources`\r\n",
       "                }\r\n",
       "            }) || require;\r\n",
       "\r\n",
       "            let dotnetInteractiveExtensionsRequire = require.config({\r\n",
       "                context: '22196.801d5e1fa88b49f59aab14a38271eebf',\r\n",
       "                paths: {\r\n",
       "                    'dotnet-interactive-extensions': `${root}extensions`\r\n",
       "                }\r\n",
       "            }) || require;\r\n",
       "            if (!window.dotnetInteractiveRequire) {\r\n",
       "                window.dotnetInteractiveRequire = dotnetInteractiveRequire;\r\n",
       "            }\r\n",
       "\r\n",
       "            if (!window.dotnetInteractiveExtensionsRequire) {\r\n",
       "                window.dotnetInteractiveExtensionsRequire = dotnetInteractiveExtensionsRequire;\r\n",
       "            }\r\n",
       "        \r\n",
       "            dotnetInteractiveRequire([\r\n",
       "                    'dotnet-interactive/dotnet-interactive'\r\n",
       "                ],\r\n",
       "                function (dotnet) {\r\n",
       "                    dotnet.init(window);\r\n",
       "                },\r\n",
       "                function (error) {\r\n",
       "                    console.log(error);\r\n",
       "                }\r\n",
       "            );\r\n",
       "        })\r\n",
       "        .catch(error => {console.log(error);});\r\n",
       "    }\r\n",
       "    </script>\r\n",
       "</div>"
      ]
     },
     "metadata": {},
     "output_type": "display_data"
    },
    {
     "data": {
      "text/html": [
       "42"
      ]
     },
     "execution_count": 1,
     "metadata": {},
     "output_type": "execute_result"
    }
   ],
   "source": [
    "(12/4 + 5 + 7) * 4 - 18"
   ]
  },
  {
   "cell_type": "markdown",
   "metadata": {},
   "source": [
    "Arithmetic is nice, but there's so much more you can do. Here's how you can generate some data using the `[start .. end]` range syntax:"
   ]
  },
  {
   "cell_type": "code",
   "execution_count": 2,
   "metadata": {},
   "outputs": [
    {
     "data": {
      "text/html": [
       "<table><thead><tr><th><i>index</i></th><th>value</th></tr></thead><tbody><tr><td>0</td><td>0</td></tr><tr><td>1</td><td>1</td></tr><tr><td>2</td><td>2</td></tr><tr><td>3</td><td>3</td></tr><tr><td>4</td><td>4</td></tr><tr><td>5</td><td>5</td></tr><tr><td>6</td><td>6</td></tr><tr><td>7</td><td>7</td></tr><tr><td>8</td><td>8</td></tr><tr><td>9</td><td>9</td></tr><tr><td>10</td><td>10</td></tr></tbody></table>"
      ]
     },
     "execution_count": 2,
     "metadata": {},
     "output_type": "execute_result"
    }
   ],
   "source": [
    "let numbers = [0 .. 10]\n",
    "numbers"
   ]
  },
  {
   "cell_type": "markdown",
   "metadata": {},
   "source": [
    "You can use slices with the `.[start .. end]` syntax to slice a subset of the data you just generated:"
   ]
  },
  {
   "cell_type": "code",
   "execution_count": 3,
   "metadata": {},
   "outputs": [
    {
     "data": {
      "text/html": [
       "<table><thead><tr><th><i>index</i></th><th>value</th></tr></thead><tbody><tr><td>0</td><td>2</td></tr><tr><td>1</td><td>3</td></tr><tr><td>2</td><td>4</td></tr><tr><td>3</td><td>5</td></tr></tbody></table>"
      ]
     },
     "execution_count": 3,
     "metadata": {},
     "output_type": "execute_result"
    }
   ],
   "source": [
    "// Take the numbers from 2nd index to the 5th\n",
    "numbers.[2..5]"
   ]
  },
  {
   "cell_type": "markdown",
   "metadata": {},
   "source": [
    "And you can use indexer syntax (`.[index]`) to access a single value:"
   ]
  },
  {
   "cell_type": "code",
   "execution_count": 4,
   "metadata": {},
   "outputs": [
    {
     "data": {
      "text/html": [
       "3"
      ]
     },
     "execution_count": 4,
     "metadata": {},
     "output_type": "execute_result"
    }
   ],
   "source": [
    "numbers.[3]"
   ]
  },
  {
   "cell_type": "markdown",
   "metadata": {},
   "source": [
    "## Functions in F# #\n",
    "\n",
    "Since F# is a functional language, functions are one of the first things to learn. You do that with the `let` keyword. F#, like Python, uses indentation to define code blocks:"
   ]
  },
  {
   "cell_type": "code",
   "execution_count": 5,
   "metadata": {},
   "outputs": [],
   "source": [
    "let sampleFunction x =\n",
    "    2*x*x - 5*x + 3"
   ]
  },
  {
   "cell_type": "markdown",
   "metadata": {},
   "source": [
    "F# uses type inference to figure out types for you. But if needed, you can specify types explicitly:"
   ]
  },
  {
   "cell_type": "code",
   "execution_count": 6,
   "metadata": {},
   "outputs": [],
   "source": [
    "let sampleFunction' (x: int) =\n",
    "    2*x*x - 5*x + 3"
   ]
  },
  {
   "cell_type": "markdown",
   "metadata": {},
   "source": [
    "When calling F# functions, parentheses are optional:"
   ]
  },
  {
   "cell_type": "code",
   "execution_count": 7,
   "metadata": {},
   "outputs": [
    {
     "data": {
      "text/html": [
       "28"
      ]
     },
     "execution_count": 7,
     "metadata": {},
     "output_type": "execute_result"
    }
   ],
   "source": [
    "sampleFunction 5"
   ]
  },
  {
   "cell_type": "code",
   "execution_count": 8,
   "metadata": {},
   "outputs": [
    {
     "data": {
      "text/html": [
       "231"
      ]
     },
     "execution_count": 8,
     "metadata": {},
     "output_type": "execute_result"
    }
   ],
   "source": [
    "sampleFunction' 12"
   ]
  },
  {
   "cell_type": "markdown",
   "metadata": {},
   "source": [
    "You can define and compose F# functions easily:"
   ]
  },
  {
   "cell_type": "code",
   "execution_count": 9,
   "metadata": {},
   "outputs": [
    {
     "name": "stdout",
     "output_type": "stream",
     "text": [
      "The number is -25\n"
     ]
    }
   ],
   "source": [
    "let negate x = -x\n",
    "let square x = x * x\n",
    "let print x = printfn \"The number is %d\" x\n",
    "\n",
    "let squareNegateThenPrint x =\n",
    "    print (negate (square x))\n",
    "    \n",
    "squareNegateThenPrint 5"
   ]
  },
  {
   "cell_type": "markdown",
   "metadata": {},
   "source": [
    "The pipeline operator `|>` is used extensively in F# code to chain functions and arguments together. It helps readability when building functional \"pipelines\":"
   ]
  },
  {
   "cell_type": "code",
   "execution_count": 10,
   "metadata": {},
   "outputs": [
    {
     "name": "stdout",
     "output_type": "stream",
     "text": [
      "The number is -25\n"
     ]
    }
   ],
   "source": [
    "// Redefine the function with pipelines\n",
    "let squareNegateThenPrint x =\n",
    "    x\n",
    "    |> square\n",
    "    |> negate\n",
    "    |> print\n",
    "\n",
    "squareNegateThenPrint 5"
   ]
  },
  {
   "cell_type": "markdown",
   "metadata": {},
   "source": [
    "## Strings, tuples, lists, and arrays\n",
    "\n",
    "Strings in F# use `\"` quotations. You can concatenate them with the `+` operator:"
   ]
  },
  {
   "cell_type": "code",
   "execution_count": 11,
   "metadata": {},
   "outputs": [
    {
     "data": {
      "text/plain": [
       "Hello, World!"
      ]
     },
     "execution_count": 11,
     "metadata": {},
     "output_type": "execute_result"
    }
   ],
   "source": [
    "let s1 = \"Hello\"\n",
    "let s2 = \"World\"\n",
    "\n",
    "s1 + \", \" + s2 + \"!\""
   ]
  },
  {
   "cell_type": "markdown",
   "metadata": {},
   "source": [
    "You can use triple-quoted strings (`\"\"\"`) if you want to have a string that contains quotes:"
   ]
  },
  {
   "cell_type": "code",
   "execution_count": 12,
   "metadata": {},
   "outputs": [
    {
     "data": {
      "text/plain": [
       "A triple-quoted string can contain quotes \"like this\" anywhere within it"
      ]
     },
     "execution_count": 12,
     "metadata": {},
     "output_type": "execute_result"
    }
   ],
   "source": [
    "\"\"\"A triple-quoted string can contain quotes \"like this\" anywhere within it\"\"\""
   ]
  },
  {
   "cell_type": "markdown",
   "metadata": {},
   "source": [
    "### Tuples\n",
    "\n",
    "Tuples are simple combinations of data items into a single value. The following defines a tuple of an integer, string, and double:"
   ]
  },
  {
   "cell_type": "code",
   "execution_count": 13,
   "metadata": {},
   "outputs": [
    {
     "data": {
      "text/html": [
       "<table><thead><tr><th>Item1</th><th>Item2</th><th>Item3</th></tr></thead><tbody><tr><td>1</td><td>fred</td><td>3.141592653589793</td></tr></tbody></table>"
      ]
     },
     "execution_count": 13,
     "metadata": {},
     "output_type": "execute_result"
    }
   ],
   "source": [
    "(1, \"fred\", Math.PI)"
   ]
  },
  {
   "cell_type": "markdown",
   "metadata": {},
   "source": [
    "You can also create `struct` tuples when you have performance-sensitive environments:"
   ]
  },
  {
   "cell_type": "code",
   "execution_count": 14,
   "metadata": {},
   "outputs": [
    {
     "data": {
      "text/html": [
       "<table><thead><tr><th>Item1</th><th>Item2</th></tr></thead><tbody><tr><td>1</td><td>3.141592653589793</td></tr></tbody></table>"
      ]
     },
     "execution_count": 14,
     "metadata": {},
     "output_type": "execute_result"
    }
   ],
   "source": [
    "struct (1, Math.PI)"
   ]
  },
  {
   "cell_type": "markdown",
   "metadata": {},
   "source": [
    "### Lists\n",
    "\n",
    "Lists are linear sequences of values of the same type. In fact, you've already seen them above when we generated some numbers!"
   ]
  },
  {
   "cell_type": "code",
   "execution_count": 15,
   "metadata": {},
   "outputs": [
    {
     "data": {
      "text/html": [
       "<table><thead><tr><th><i>index</i></th><th>value</th></tr></thead><tbody><tr><td>0</td><td>0</td></tr><tr><td>1</td><td>1</td></tr><tr><td>2</td><td>2</td></tr><tr><td>3</td><td>3</td></tr><tr><td>4</td><td>4</td></tr><tr><td>5</td><td>5</td></tr><tr><td>6</td><td>6</td></tr><tr><td>7</td><td>7</td></tr><tr><td>8</td><td>8</td></tr><tr><td>9</td><td>9</td></tr><tr><td>10</td><td>10</td></tr></tbody></table>"
      ]
     },
     "execution_count": 15,
     "metadata": {},
     "output_type": "execute_result"
    }
   ],
   "source": [
    "[0 .. 10]"
   ]
  },
  {
   "cell_type": "markdown",
   "metadata": {},
   "source": [
    "You can use list comprehensions to generate more advanced data programmatically:"
   ]
  },
  {
   "cell_type": "code",
   "execution_count": 16,
   "metadata": {},
   "outputs": [
    {
     "data": {
      "text/html": [
       "<table><thead><tr><th><i>index</i></th><th>value</th></tr></thead><tbody><tr><td>0</td><td>03/01/2020</td></tr><tr><td>1</td><td>10/01/2020</td></tr><tr><td>2</td><td>17/01/2020</td></tr><tr><td>3</td><td>24/01/2020</td></tr><tr><td>4</td><td>31/01/2020</td></tr></tbody></table>"
      ]
     },
     "execution_count": 16,
     "metadata": {},
     "output_type": "execute_result"
    }
   ],
   "source": [
    "let thisYear = DateTime.Now.Year\n",
    "\n",
    "let fridays =\n",
    "    [\n",
    "        for month in 1 .. 10 do\n",
    "            for day in 1 .. DateTime.DaysInMonth(thisYear, month) do\n",
    "                let date = DateTime(thisYear, month, day)\n",
    "                if date.DayOfWeek = DayOfWeek.Friday then\n",
    "                    date.ToShortDateString()\n",
    "    ]\n",
    "\n",
    "// Get the first five fridays of this year\n",
    "fridays\n",
    "|> List.take 5"
   ]
  },
  {
   "cell_type": "markdown",
   "metadata": {},
   "source": [
    "Since you can slice lists, the first five fridays could also be done like this:"
   ]
  },
  {
   "cell_type": "code",
   "execution_count": 17,
   "metadata": {},
   "outputs": [
    {
     "data": {
      "text/html": [
       "<table><thead><tr><th><i>index</i></th><th>value</th></tr></thead><tbody><tr><td>0</td><td>03/01/2020</td></tr><tr><td>1</td><td>10/01/2020</td></tr><tr><td>2</td><td>17/01/2020</td></tr><tr><td>3</td><td>24/01/2020</td></tr><tr><td>4</td><td>31/01/2020</td></tr></tbody></table>"
      ]
     },
     "execution_count": 17,
     "metadata": {},
     "output_type": "execute_result"
    }
   ],
   "source": [
    "fridays.[..4]"
   ]
  },
  {
   "cell_type": "markdown",
   "metadata": {},
   "source": [
    "### Arrays\n",
    "\n",
    "Arrays are very similar to lists. A key difference is that array internals are mutable. They also have better performance characteristics than lists."
   ]
  },
  {
   "cell_type": "code",
   "execution_count": 18,
   "metadata": {},
   "outputs": [
    {
     "data": {
      "text/html": [
       "<table><thead><tr><th><i>index</i></th><th>value</th></tr></thead><tbody><tr><td>0</td><td>198</td></tr><tr><td>1</td><td>199</td></tr><tr><td>2</td><td>200</td></tr></tbody></table>"
      ]
     },
     "execution_count": 18,
     "metadata": {},
     "output_type": "execute_result"
    }
   ],
   "source": [
    "let firstTwoHundred = [| 1 .. 200 |]\n",
    "firstTwoHundred.[197..]"
   ]
  },
  {
   "cell_type": "markdown",
   "metadata": {},
   "source": [
    "Processing lists and arrays is typically done by built-in and custom functions:"
   ]
  },
  {
   "cell_type": "code",
   "execution_count": 19,
   "metadata": {},
   "outputs": [
    {
     "data": {
      "text/html": [
       "882189"
      ]
     },
     "execution_count": 19,
     "metadata": {},
     "output_type": "execute_result"
    }
   ],
   "source": [
    "// Filter the previous list of numbers and sum their squares.\n",
    "firstTwoHundred\n",
    "|> Array.filter (fun x -> x % 3 = 0)\n",
    "|> Array.sumBy (fun x -> x * x)"
   ]
  },
  {
   "cell_type": "markdown",
   "metadata": {},
   "source": [
    "## Types\n",
    "\n",
    "Although F# is succinct, it actually uses static typing! Types are central to F# programming, especially when you want to model more complicated data to manipulate later in a program."
   ]
  },
  {
   "cell_type": "markdown",
   "metadata": {},
   "source": [
    "### Records\n",
    "\n",
    "Record types are used to combine different kinds of data into an aggregate. They cannot be `null` and come with default comparison and equality."
   ]
  },
  {
   "cell_type": "code",
   "execution_count": 20,
   "metadata": {},
   "outputs": [
    {
     "data": {
      "text/html": [
       "<table><thead><tr><th>Name</th><th>Phone</th><th>ZipCode</th></tr></thead><tbody><tr><td>Alf</td><td>(555) 555-5555</td><td>90210</td></tr></tbody></table>"
      ]
     },
     "execution_count": 20,
     "metadata": {},
     "output_type": "execute_result"
    }
   ],
   "source": [
    "type ContactCard =\n",
    "    { Name: string\n",
    "      Phone: string\n",
    "      ZipCode: string }\n",
    "\n",
    "// Create a new record\n",
    "{ Name = \"Alf\"; Phone = \"(555) 555-5555\"; ZipCode = \"90210\" }"
   ]
  },
  {
   "cell_type": "markdown",
   "metadata": {},
   "source": [
    "In this notebook environment, records print with a table-like output by default.\n",
    "\n",
    "You can access record labels with `.`-notation:"
   ]
  },
  {
   "cell_type": "code",
   "execution_count": 21,
   "metadata": {},
   "outputs": [
    {
     "data": {
      "text/plain": [
       "(555) 555-5555"
      ]
     },
     "execution_count": 21,
     "metadata": {},
     "output_type": "execute_result"
    }
   ],
   "source": [
    "let alf = { Name = \"Alf\"; Phone = \"(555) 555-5555\"; ZipCode = \"90210\" }\n",
    "alf.Phone"
   ]
  },
  {
   "cell_type": "markdown",
   "metadata": {},
   "source": [
    "Records are comparable and equatable:"
   ]
  },
  {
   "cell_type": "code",
   "execution_count": 22,
   "metadata": {},
   "outputs": [
    {
     "data": {
      "text/html": [
       "False"
      ]
     },
     "execution_count": 22,
     "metadata": {},
     "output_type": "execute_result"
    }
   ],
   "source": [
    "// Create another record\n",
    "let ralph = { Name = \"Ralph\"; Phone = \"(123) 456-7890\"; ZipCode = \"90210\" }\n",
    "\n",
    "// Check if they're equal\n",
    "alf = ralph"
   ]
  },
  {
   "cell_type": "markdown",
   "metadata": {},
   "source": [
    "You'll find yourself writing functions that operate on records all the time:"
   ]
  },
  {
   "cell_type": "code",
   "execution_count": 23,
   "metadata": {},
   "outputs": [
    {
     "data": {
      "text/plain": [
       "Alf - Phone: (555) 555-5555, Zip: 90210"
      ]
     },
     "execution_count": 23,
     "metadata": {},
     "output_type": "execute_result"
    }
   ],
   "source": [
    "let showContactCard contact =\n",
    "    contact.Name + \" - Phone: \" + contact.Phone + \", Zip: \" + contact.ZipCode\n",
    "    \n",
    "showContactCard alf"
   ]
  },
  {
   "cell_type": "markdown",
   "metadata": {},
   "source": [
    "### Discriminated Unions\n",
    "\n",
    "Discriminated Unions (often called DUs) provide support for values that can be one of a number of named cases. These cases can be completely different from one another.\n",
    "\n",
    "In the following example, we combine records with a discriminated union:"
   ]
  },
  {
   "cell_type": "code",
   "execution_count": 24,
   "metadata": {},
   "outputs": [
    {
     "data": {
      "text/html": [
       "<table><thead><tr><th>width</th><th>height</th><th>faces</th></tr></thead><tbody><tr><td>5</td><td>2</td><td>3</td></tr></tbody></table>"
      ]
     },
     "execution_count": 24,
     "metadata": {},
     "output_type": "execute_result"
    }
   ],
   "source": [
    "type Shape =\n",
    "    | Rectangle of width: float * length: float\n",
    "    | Circle of radius: float\n",
    "    | Prism of width: float * height: float * faces: int\n",
    "    \n",
    "let rect = Rectangle(length = 1.3, width = 10.0)\n",
    "let circ = Circle (1.0)\n",
    "let prism = Prism(width = 5.0, height = 2.0, faces = 3)\n",
    "        \n",
    "prism"
   ]
  },
  {
   "cell_type": "markdown",
   "metadata": {},
   "source": [
    "## Pattern matching\n",
    "\n",
    "The best way to work with DUs is pattern matching. Using the previously-defined type definitions, we can model getting the height of a shape."
   ]
  },
  {
   "cell_type": "code",
   "execution_count": 25,
   "metadata": {},
   "outputs": [
    {
     "name": "stdout",
     "output_type": "stream",
     "text": [
      "rect is 10.0, circ is 2.0, and prism is 2.0\n"
     ]
    }
   ],
   "source": [
    "let height shape =\n",
    "    match shape with\n",
    "    | Rectangle(width = h) -> h\n",
    "    | Circle(radius = r) -> 2.0 * r\n",
    "    | Prism(height = h) -> h\n",
    "    \n",
    "let rectHeight = height rect\n",
    "let circHeight = height circ\n",
    "let prismHeight = height prism\n",
    "\n",
    "printfn \"rect is %0.1f, circ is %0.1f, and prism is %0.1f\" rectHeight circHeight prismHeight"
   ]
  },
  {
   "cell_type": "markdown",
   "metadata": {},
   "source": [
    "You can pattern match on more than just discriminated unions. Here we write a recursive function with `rec` to process lists:"
   ]
  },
  {
   "cell_type": "code",
   "execution_count": 26,
   "metadata": {},
   "outputs": [
    {
     "data": {
      "text/html": [
       "<table><thead><tr><th><i>index</i></th><th>value</th></tr></thead><tbody><tr><td>0</td><td>1</td></tr><tr><td>1</td><td>2</td></tr><tr><td>2</td><td>3</td></tr><tr><td>3</td><td>5</td></tr><tr><td>4</td><td>7</td></tr><tr><td>5</td><td>11</td></tr><tr><td>6</td><td>13</td></tr><tr><td>7</td><td>17</td></tr><tr><td>8</td><td>19</td></tr><tr><td>9</td><td>23</td></tr></tbody></table>"
      ]
     },
     "execution_count": 26,
     "metadata": {},
     "output_type": "execute_result"
    }
   ],
   "source": [
    "// See if x is a multiple of n\n",
    "let isPrimeMultiple n x =\n",
    "    x = n || x % n <> 0\n",
    "    \n",
    "// Process lists recursively.\n",
    "// '[]' means the empty list.\n",
    "// 'head' is an item in the list.\n",
    "// 'tail' is the rest of the list after 'head'.\n",
    "let rec removeMultiples ns xs =\n",
    "    match ns with\n",
    "    | [] -> xs\n",
    "    | head :: tail ->\n",
    "        xs\n",
    "        |> List.filter (isPrimeMultiple head)\n",
    "        |> removeMultiples tail\n",
    "        \n",
    "let getPrimesUpTo n =\n",
    "    let max = int (sqrt (float n))\n",
    "    removeMultiples [2 .. max] [1 .. n]\n",
    "    \n",
    "// Primes up to 25\n",
    "getPrimesUpTo 25"
   ]
  },
  {
   "cell_type": "markdown",
   "metadata": {},
   "source": [
    "## Options\n",
    "\n",
    "A built-in DU type is the F# option type. It is used prominently in F# code. Options can either be `Some` or `None`, and they're best used when you want to account for when there may not be a value."
   ]
  },
  {
   "cell_type": "code",
   "execution_count": 27,
   "metadata": {},
   "outputs": [
    {
     "data": {
      "text/html": [
       "<table><thead><tr><th>Value</th></tr></thead><tbody><tr><td>12</td></tr></tbody></table>"
      ]
     },
     "execution_count": 27,
     "metadata": {},
     "output_type": "execute_result"
    }
   ],
   "source": [
    "let keepIfPositive a =\n",
    "    if a > 0 then\n",
    "        Some a\n",
    "    else \n",
    "        None\n",
    "        \n",
    "keepIfPositive 12"
   ]
  },
  {
   "cell_type": "markdown",
   "metadata": {},
   "source": [
    "Options are often used when searching for values. Here's how you can incorporate them into list processing:"
   ]
  },
  {
   "cell_type": "code",
   "execution_count": 28,
   "metadata": {},
   "outputs": [
    {
     "data": {
      "text/html": [
       "<table><thead><tr><th>Value</th></tr></thead><tbody><tr><td>150</td></tr></tbody></table>"
      ]
     },
     "execution_count": 28,
     "metadata": {},
     "output_type": "execute_result"
    }
   ],
   "source": [
    "let rec tryFindMatch predicate lst =\n",
    "    match lst with\n",
    "    | [] -> None\n",
    "    | head :: tail ->\n",
    "        if predicate head then\n",
    "            Some head\n",
    "        else\n",
    "            tryFindMatch predicate tail\n",
    "          \n",
    "let greaterThan100 x = x > 100\n",
    "\n",
    "tryFindMatch greaterThan100 [25; 50; 100; 150; 200]"
   ]
  },
  {
   "cell_type": "markdown",
   "metadata": {},
   "source": [
    "## Parallel Programming\n",
    "\n",
    "For more CPU-intensive tasks, you can take advantage of built-in parallelism:"
   ]
  },
  {
   "cell_type": "code",
   "execution_count": 29,
   "metadata": {},
   "outputs": [
    {
     "name": "stdout",
     "output_type": "stream",
     "text": [
      "[|0; 1; 2; 3; 5; 8; 13; 21; 34; 55; 89; 144; 233; 377; 610; 987; 1597; 2584;\n",
      "  4181; 6765; 10946; 17711; 28657; 46368; 75025; 0; 1; 2; 3; 5; 8; 13; 21; 34;\n",
      "  55; 89; 144; 233; 377; 610; 987; 1597; 2584; 4181; 6765; 10946; 17711; 28657;\n",
      "  46368; 75025; 0; 1; 2; 3; 5; 8; 13; 21; 34; 55; 89; 144; 233; 377; 610; 987;\n",
      "  1597; 2584; 4181; 6765; 10946; 17711; 28657; 46368; 75025; 0; 1; 2; 3; 5; 8;\n",
      "  13; 21; 34; 55; 89; 144; 233; 377; 610; 987; 1597; 2584; 4181; 6765; 10946;\n",
      "  17711; 28657; 46368; 75025; ...|]\n"
     ]
    },
    {
     "data": {
      "text/plain": [
       "Wall time: 616.4295ms"
      ]
     },
     "metadata": {},
     "output_type": "display_data"
    }
   ],
   "source": [
    "#!time\n",
    "\n",
    "let bigArray = [| 0 .. 100_000 |]\n",
    "\n",
    "let rec fibonacci n = if n <= 2 then n else fibonacci (n-1) + fibonacci (n-2)\n",
    "\n",
    "// We'll use the '%A' print formatter for F# constructs for these results, since they are enormous\n",
    "let results =\n",
    "    bigArray\n",
    "    |> Array.Parallel.map (fun n -> fibonacci (n % 25))\n",
    "\n",
    "printfn \"%A\" results"
   ]
  },
  {
   "cell_type": "markdown",
   "metadata": {},
   "source": [
    "Because F# functions are first-class values, you can trivially do things like initialize expensive functions in parallel with the `Array.Parallel` module. This is quite common in numerics-intensive F# code.\n",
    "\n",
    "Here's an example where you can compute as many fibonacci numbers as there are threads in your current process. The `#!time` magic command shows the wall-clock time it took to perform the operation:"
   ]
  },
  {
   "cell_type": "code",
   "execution_count": 30,
   "metadata": {},
   "outputs": [
    {
     "data": {
      "text/html": [
       "<table><thead><tr><th><i>index</i></th><th>value</th></tr></thead><tbody><tr><td>0</td><td>0</td></tr><tr><td>1</td><td>1</td></tr><tr><td>2</td><td>2</td></tr><tr><td>3</td><td>3</td></tr><tr><td>4</td><td>5</td></tr><tr><td>5</td><td>8</td></tr><tr><td>6</td><td>13</td></tr><tr><td>7</td><td>21</td></tr></tbody></table>"
      ]
     },
     "execution_count": 30,
     "metadata": {},
     "output_type": "execute_result"
    },
    {
     "data": {
      "text/plain": [
       "Wall time: 11.8827ms"
      ]
     },
     "metadata": {},
     "output_type": "display_data"
    }
   ],
   "source": [
    "#!time\n",
    "\n",
    "// Restrict the number of threads to a max of 25\n",
    "let nThreads = min 25 Environment.ProcessorCount\n",
    "    \n",
    "Array.Parallel.init nThreads fibonacci"
   ]
  },
  {
   "cell_type": "markdown",
   "metadata": {},
   "source": [
    "It's also worth noting how much faster the second cell ran than the first one. This is because it doesn't use call `printfn` with the `%A` formatter. Although this kind of formatting is very convenient in F#, it comes at a performance cost!"
   ]
  },
  {
   "cell_type": "markdown",
   "metadata": {},
   "source": [
    "## Learn more\n",
    "\n",
    "There are a lot of learning resources for F# that go far beyond this notebook.\n",
    "\n",
    "Check out the [F# docs homepage](https://docs.microsoft.com/dotnet/fsharp/) for an organized set of learning material.\n",
    "\n",
    "To learn more about using F# with this Jupyter kernel, we recommmend the following notebooks:\n",
    "\n",
    "* [The F# notebook programming model](Docs/Programming-model.ipynb)\n",
    "* [Displaying output](Docs/Displaying-output.ipynb)\n",
    "* [Importing packages](Docs/Importing-packages.ipynb)\n",
    "* [Plotting with Xplot](Docs/Plotting-with-Xplot.ipynb)\n",
    "\n",
    "For more advanced samples, check out the following:\n",
    "\n",
    "* [HousingML](Samples/HousingML.ipynb)* [Getting started with data frames](Samples/DataFrame-Getting-Started.ipynb)* [GitHub Repo Statistics](Samples/Repo-Statistics.ipynb)"
   ]
  }
 ],
 "metadata": {
  "kernelspec": {
   "display_name": ".NET (F#)",
   "language": "F#",
   "name": ".net-fsharp"
  },
  "language_info": {
   "file_extension": ".fs",
   "mimetype": "text/x-fsharp",
   "name": "C#",
   "pygments_lexer": "fsharp",
   "version": "4.5"
  }
 },
 "nbformat": 4,
 "nbformat_minor": 4
}
