{
  "cells": [
    {
      "cell_type": "markdown",
      "metadata": {},
      "source": [
        "# Outputting HTML in a notebook"
      ]
    },
    {
      "cell_type": "markdown",
      "metadata": {},
      "source": [
        "## Display Helpers\n",
        "\n",
        "There are a number of helper methods for writing HTML that are available by default in a .NET notebook."
      ]
    },
    {
      "cell_type": "code",
      "execution_count": 1,
      "metadata": {
        "dotnet_interactive": {
          "language": "csharp"
        }
      },
      "source": [
        "using static Microsoft.DotNet.Interactive.Formatting.PocketViewTags;"
      ],
      "outputs": []
    },
    {
      "cell_type": "markdown",
      "metadata": {},
      "source": [
        "### HTML"
      ]
    },
    {
      "cell_type": "markdown",
      "metadata": {},
      "source": [
        "If you want to write out a `string` as HTML, you can use the `HTML` method:"
      ]
    },
    {
      "cell_type": "code",
      "execution_count": 1,
      "metadata": {
        "dotnet_interactive": {
          "language": "csharp"
        }
      },
      "source": [
        "display(HTML(\"<b style=\\\"color:blue\\\">Hello!</b>\"));"
      ],
      "outputs": [
        {
          "output_type": "execute_result",
          "data": {
            "text/html": "<b style=\"color:blue\">Hello!</b>"
          },
          "execution_count": 1,
          "metadata": {}
        }
      ]
    },
    {
      "cell_type": "markdown",
      "metadata": {},
      "source": [
        "Displaying HTML using a `string` directly will display the actual string rather than rendering it as HTML. "
      ]
    },
    {
      "cell_type": "code",
      "execution_count": 1,
      "metadata": {
        "dotnet_interactive": {
          "language": "csharp"
        }
      },
      "source": [
        "display(\"<b style=\\\"color:blue\\\">Hello!</b>\");"
      ],
      "outputs": [
        {
          "output_type": "execute_result",
          "data": {
            "text/plain": "<b style=\"color:blue\">Hello!</b>"
          },
          "execution_count": 1,
          "metadata": {}
        }
      ]
    },
    {
      "cell_type": "markdown",
      "metadata": {},
      "source": [
        "The `HTML` method signals that the content is HTML because its return type, `HtmlString`, implements `IHtmlContent`:"
      ]
    },
    {
      "cell_type": "code",
      "execution_count": 1,
      "metadata": {
        "dotnet_interactive": {
          "language": "csharp"
        }
      },
      "source": [
        "var someHtml = HTML(\"<b style=\\\"color:blue\\\">Hello!</b>\");\n",
        "\n",
        "display(someHtml.GetType());"
      ],
      "outputs": [
        {
          "output_type": "execute_result",
          "data": {
            "text/html": "<span><a href=\"https://docs.microsoft.com/dotnet/api/microsoft.aspnetcore.html.htmlstring?view=netcore-3.0\">Microsoft.AspNetCore.Html.HtmlString</a></span>"
          },
          "execution_count": 1,
          "metadata": {}
        }
      ]
    },
    {
      "cell_type": "markdown",
      "metadata": {},
      "source": [
        "### Javascript"
      ]
    },
    {
      "cell_type": "markdown",
      "metadata": {},
      "source": [
        "You may also want to output JavaScript. You can do this using the `Javascript` helper."
      ]
    },
    {
      "cell_type": "code",
      "execution_count": 1,
      "metadata": {
        "dotnet_interactive": {
          "language": "csharp"
        }
      },
      "source": [
        "Javascript(@\"alert(\"\"Hello!\"\");\");"
      ],
      "outputs": [
        {
          "output_type": "execute_result",
          "data": {
            "text/html": "<script type=\"text/javascript\">alert(\"Hello!\");</script>"
          },
          "execution_count": 1,
          "metadata": {}
        }
      ]
    },
    {
      "cell_type": "markdown",
      "metadata": {},
      "source": [
        "## PocketView (C#)"
      ]
    },
    {
      "cell_type": "markdown",
      "metadata": {},
      "source": [
        "For more complex HTML, you can use the PocketView API. Lets start with an example:"
      ]
    },
    {
      "cell_type": "code",
      "execution_count": 1,
      "metadata": {
        "dotnet_interactive": {
          "language": "csharp"
        }
      },
      "source": [
        "display(\n",
        "    span(\n",
        "        img[src:\"https://en.wikipedia.org/favicon.ico\", style:\"height:1.5em\"],\n",
        "        a[href: @\"https://en.wikipedia.org\", target: \"blank\", style:\"color:green\"](b(\"Wikipedia\"))\n",
        "    )\n",
        ");"
      ],
      "outputs": [
        {
          "output_type": "execute_result",
          "data": {
            "text/html": "<span><img src=\"https://en.wikipedia.org/favicon.ico\" style=\"height:1.5em\"></img><a href=\"https://en.wikipedia.org\" style=\"color:green\" target=\"blank\"><b>Wikipedia</b></a></span>"
          },
          "execution_count": 1,
          "metadata": {}
        }
      ]
    },
    {
      "cell_type": "markdown",
      "metadata": {},
      "source": [
        "PocketView is an API for concisely writing HTML, in the terminology of HTML, using C# code. Just like the `HTML` method, it returns an object that implements `IHtmlContent`. You can see the actual HTML code by converting a `PocketView` to a string:"
      ]
    },
    {
      "cell_type": "code",
      "execution_count": 1,
      "metadata": {
        "dotnet_interactive": {
          "language": "csharp"
        }
      },
      "source": [
        "var pocketView = span(\n",
        "        img[src:\"https://en.wikipedia.org/favicon.ico\", style:\"height:1.5em\"],\n",
        "        a[href: @\"https://en.wikipedia.org\", target: \"blank\", style:\"color:green\"](b(\"Wikipedia\")));\n",
        "\n",
        "display(pocketView.ToString());"
      ],
      "outputs": [
        {
          "output_type": "execute_result",
          "data": {
            "text/plain": "<span><img src=\"https://en.wikipedia.org/favicon.ico\" style=\"height:1.5em\"></img><a href=\"https://en.wikipedia.org\" style=\"color:green\" target=\"blank\"><b>Wikipedia</b></a></span>"
          },
          "execution_count": 1,
          "metadata": {}
        }
      ]
    },
    {
      "cell_type": "markdown",
      "metadata": {},
      "source": [
        "The PocketView API provides a number of top-level properties in your notebook that can be used to create various HTML tags. Here's the list of tags that are supported by default:"
      ]
    },
    {
      "cell_type": "code",
      "execution_count": 1,
      "metadata": {
        "dotnet_interactive": {
          "language": "csharp"
        }
      },
      "source": [
        "var pocketViewTagMethods = typeof(PocketViewTags)\n",
        "    .GetProperties()\n",
        "    .Select(m => m.Name);\n",
        "\n",
        "display(pocketViewTagMethods);"
      ],
      "outputs": [
        {
          "output_type": "execute_result",
          "data": {
            "text/html": "<table><thead><tr><th><i>index</i></th><th>value</th></tr></thead><tbody><tr><td>0</td><td><div class=\"dni-plaintext\">_</div></td></tr><tr><td>1</td><td><div class=\"dni-plaintext\">a</div></td></tr><tr><td>2</td><td><div class=\"dni-plaintext\">area</div></td></tr><tr><td>3</td><td><div class=\"dni-plaintext\">aside</div></td></tr><tr><td>4</td><td><div class=\"dni-plaintext\">b</div></td></tr><tr><td>5</td><td><div class=\"dni-plaintext\">body</div></td></tr><tr><td>6</td><td><div class=\"dni-plaintext\">br</div></td></tr><tr><td>7</td><td><div class=\"dni-plaintext\">button</div></td></tr><tr><td>8</td><td><div class=\"dni-plaintext\">caption</div></td></tr><tr><td>9</td><td><div class=\"dni-plaintext\">center</div></td></tr><tr><td>10</td><td><div class=\"dni-plaintext\">circle</div></td></tr><tr><td>11</td><td><div class=\"dni-plaintext\">code</div></td></tr><tr><td>12</td><td><div class=\"dni-plaintext\">colgroup</div></td></tr><tr><td>13</td><td><div class=\"dni-plaintext\">dd</div></td></tr><tr><td>14</td><td><div class=\"dni-plaintext\">details</div></td></tr><tr><td>15</td><td><div class=\"dni-plaintext\">div</div></td></tr><tr><td>16</td><td><div class=\"dni-plaintext\">dl</div></td></tr><tr><td>17</td><td><div class=\"dni-plaintext\">dt</div></td></tr><tr><td>18</td><td><div class=\"dni-plaintext\">em</div></td></tr><tr><td>19</td><td><div class=\"dni-plaintext\">figure</div></td></tr><tr><td colspan=\"2\">(61 more)</td></tr></tbody></table>"
          },
          "execution_count": 1,
          "metadata": {}
        }
      ]
    },
    {
      "cell_type": "markdown",
      "metadata": {},
      "source": [
        "Each of these properties returns a `PocketView` instance that can then be filled in with some content by passing arguments to it like a method call."
      ]
    },
    {
      "cell_type": "code",
      "execution_count": 1,
      "metadata": {
        "dotnet_interactive": {
          "language": "csharp"
        }
      },
      "source": [
        "var pocketView = i(\"Hello!\");\n",
        "\n",
        "display(pocketView);"
      ],
      "outputs": [
        {
          "output_type": "execute_result",
          "data": {
            "text/html": "<i>Hello!</i>"
          },
          "execution_count": 1,
          "metadata": {}
        }
      ]
    },
    {
      "cell_type": "markdown",
      "metadata": {},
      "source": [
        "A `PocketView` instance can also be decorated with attributes using square brackets."
      ]
    },
    {
      "cell_type": "code",
      "execution_count": 1,
      "metadata": {
        "dotnet_interactive": {
          "language": "csharp"
        }
      },
      "source": [
        "var pocketView = span[style:\"font-style:italic\"](\"Hello!\");\n",
        "\n",
        "display(pocketView);"
      ],
      "outputs": [
        {
          "output_type": "execute_result",
          "data": {
            "text/html": "<span style=\"font-style:italic\">Hello!</span>"
          },
          "execution_count": 1,
          "metadata": {}
        }
      ]
    },
    {
      "cell_type": "markdown",
      "metadata": {},
      "source": [
        "You'll notice that if you pass a `string` to `PocketView`, it will be HTML encoded for you:"
      ]
    },
    {
      "cell_type": "code",
      "execution_count": 1,
      "metadata": {
        "dotnet_interactive": {
          "language": "csharp"
        }
      },
      "source": [
        "PocketView pocketView = span(\"<div>This string looks like HTML but it will be HTML encoded.</div>\");\n",
        "\n",
        "display(pocketView);\n",
        "\n",
        "display(\"Have a look at the actual HTML:\");\n",
        "\n",
        "display(pocketView.ToString());"
      ],
      "outputs": [
        {
          "output_type": "execute_result",
          "data": {
            "text/html": "<span>&lt;div&gt;This string looks like HTML but it will be HTML encoded.&lt;/div&gt;</span>"
          },
          "execution_count": 1,
          "metadata": {}
        },
        {
          "output_type": "execute_result",
          "data": {
            "text/plain": "Have a look at the actual HTML:"
          },
          "execution_count": 1,
          "metadata": {}
        },
        {
          "output_type": "execute_result",
          "data": {
            "text/plain": "<span>&lt;div&gt;This string looks like HTML but it will be HTML encoded.&lt;/div&gt;</span>"
          },
          "execution_count": 1,
          "metadata": {}
        }
      ]
    },
    {
      "cell_type": "markdown",
      "metadata": {},
      "source": [
        "If you don't want the content to be encoded, simply pass it wrapped in a type that implements `IHtmlContent`."
      ]
    },
    {
      "cell_type": "code",
      "execution_count": 1,
      "metadata": {
        "dotnet_interactive": {
          "language": "csharp"
        }
      },
      "source": [
        "var htmlContent = HTML(\"<i>This won't be HTML encoded.</i>\");\n",
        "\n",
        "PocketView pocketView = span(\n",
        "    htmlContent\n",
        ");\n",
        "\n",
        "display(pocketView);"
      ],
      "outputs": [
        {
          "output_type": "execute_result",
          "data": {
            "text/html": "<span><i>This won't be HTML encoded.</i></span>"
          },
          "execution_count": 1,
          "metadata": {}
        }
      ]
    },
    {
      "cell_type": "markdown",
      "metadata": {},
      "source": [
        "You can pass other types of objects of into a `PocketView` as well. When you do this, they're formatted using the plain text formatter, which by default expands the object's properties."
      ]
    },
    {
      "cell_type": "code",
      "execution_count": 1,
      "metadata": {
        "dotnet_interactive": {
          "language": "csharp"
        }
      },
      "source": [
        "PocketView pocketView = b(\n",
        "    new { Fruit = \"apple\", Texture = \"smooth\" }\n",
        ");\n",
        "\n",
        "display(pocketView);"
      ],
      "outputs": [
        {
          "output_type": "execute_result",
          "data": {
            "text/html": "<b><table><thead><tr><th>Fruit</th><th>Texture</th></tr></thead><tbody><tr><td><div class=\"dni-plaintext\">apple</div></td><td><div class=\"dni-plaintext\">smooth</div></td></tr></tbody></table></b>"
          },
          "execution_count": 1,
          "metadata": {}
        }
      ]
    },
    {
      "cell_type": "markdown",
      "metadata": {},
      "source": [
        "## Magic Commands\n",
        "\n",
        "There are also several magic commands that can be used to output HTML in your .NET notebook.\n",
        "\n",
        "You can output HTML..."
      ]
    },
    {
      "cell_type": "code",
      "execution_count": 1,
      "metadata": {
        "dotnet_interactive": {
          "language": "html"
        }
      },
      "source": [
        "#!html\n",
        "<b>Hello!</b>"
      ],
      "outputs": [
        {
          "output_type": "execute_result",
          "data": {
            "text/html": "\r\n<b>Hello!</b>"
          },
          "execution_count": 1,
          "metadata": {}
        }
      ]
    },
    {
      "cell_type": "markdown",
      "metadata": {},
      "source": [
        "...or run JavaScript..."
      ]
    },
    {
      "cell_type": "code",
      "execution_count": 1,
      "metadata": {
        "dotnet_interactive": {
          "language": "javascript"
        }
      },
      "source": [
        "#!javascript\n",
        "alert(\"hello\");"
      ],
      "outputs": [
        {
          "output_type": "execute_result",
          "data": {
            "text/html": "<script type=\"text/javascript\">if (typeof window.createDotnetInteractiveClient === typeof Function) {\r\ncreateDotnetInteractiveClient('http://localhost:50737/').then(function (interactive) {\r\nlet notebookScope = getDotnetInteractiveScope('http://localhost:50737/');\r\n\r\nalert(\"hello\");\r\n});\r\n}</script>"
          },
          "execution_count": 1,
          "metadata": {}
        }
      ]
    },
    {
      "cell_type": "markdown",
      "metadata": {},
      "source": [
        "...or render Markdown."
      ]
    },
    {
      "cell_type": "code",
      "execution_count": 1,
      "metadata": {
        "dotnet_interactive": {
          "language": "csharp"
        }
      },
      "source": [
        "#!markdown\n",
        "\n",
        "Write a **list** ...\n",
        "* first\n",
        "* second\n",
        "\n",
        "...or a _table_...\n",
        "\n",
        "|Fruit    |Texture |\n",
        "|---------|--------|\n",
        "|apple    |smooth  |\n",
        "|durian   |bumpy   |"
      ],
      "outputs": [
        {
          "output_type": "execute_result",
          "data": {
            "text/html": "<p>Write a <strong>list</strong> ...</p>\n<ul>\n<li>first</li>\n<li>second</li>\n</ul>\n<p>...or a <em>table</em>...</p>\n<table>\n<thead>\n<tr>\n<th>Fruit</th>\n<th>Texture</th>\n</tr>\n</thead>\n<tbody>\n<tr>\n<td>apple</td>\n<td>smooth</td>\n</tr>\n<tr>\n<td>durian</td>\n<td>bumpy</td>\n</tr>\n</tbody>\n</table>\n"
          },
          "execution_count": 1,
          "metadata": {}
        }
      ]
    },
    {
      "cell_type": "markdown",
      "metadata": {},
      "source": [
        "---\n",
        "**_See also_**\n",
        "* [Object formatters](Object%20formatters.ipynb)\n",
        "* [Displaying output](Displaying%20output.ipynb)"
      ]
    },
    {
      "cell_type": "code",
      "execution_count": 1,
      "metadata": {
        "dotnet_interactive": {
          "language": "csharp"
        }
      },
      "source": [
        ""
      ],
      "outputs": []
    }
  ],
  "metadata": {
    "kernelspec": {
      "display_name": ".NET (C#)",
      "language": "C#",
      "name": ".net-csharp"
    },
    "language_info": {
      "file_extension": ".cs",
      "mimetype": "text/x-csharp",
      "name": "C#",
      "pygments_lexer": "csharp",
      "version": "8.0"
    }
  },
  "nbformat": 4,
  "nbformat_minor": 4
}