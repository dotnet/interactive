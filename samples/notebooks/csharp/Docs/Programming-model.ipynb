{
 "cells": [
  {
   "cell_type": "markdown",
   "metadata": {},
   "source": [
    "# The C# Notebook Programming Model\n",
    "\n",
    "C# Notebooks are written using a variation on the C# scripting programming model commonly used for `.csx` scripts.\n",
    "    \n",
    "This article documents the ways that this programming model differs from normal C# scripting.\n",
    "    \n",
    "### Standard open namespaces and referenced packages\n",
    "\n",
    "The following assemblies or packages are referenced by default:\n",
    "\n",
    "* `.NETStandard.Library`\n",
    "* `Microsoft.AspNetCore.Html.Abstractions`\n",
    "* `Microsoft.DotNet.Interactive`\n",
    "* `Microsoft.DotNet.Interactive.Formatting`\n",
    "\n",
    "The following namespaces are opened by default:\n",
    "\n",
    "* `System`\n",
    "* `System.Collections`\n",
    "* `System.Collections.Generic`\n",
    "* `System.Ling`\n",
    "* `System.Threading.Tasks`\n",
    "* `System.Text`\n",
    "* `Microsoft.DotNet.Interactive`\n",
    "* `Microsoft.DotNet.Interactive.Formatting`\n",
    "\n",
    "    \n",
    "### Referencing packages\n",
    "\n",
    "See [Referencing packages](Importing-packages.ipynb) for how package references differ.\n",
    "\n",
    "### Displaying outputs\n",
    "\n",
    "See [Displaying outputs](Displaying-output.ipynb).\n",
    "\n",
    "### Formatting outputs\n",
    "\n",
    "See [Formatting outputs](Formatting-outputs.ipynb).\n",
    "    \n",
    "\n",
    "\n",
    "    \n"
   ]
  }
 ],
 "metadata": {
  "kernelspec": {
   "display_name": ".NET (F#)",
   "language": "F#",
   "name": ".net-fsharp"
  },
  "language_info": {
   "file_extension": ".fs",
   "mimetype": "text/x-fsharp",
   "name": "C#",
   "pygments_lexer": "fsharp",
   "version": "4.5"
  }
 },
 "nbformat": 4,
 "nbformat_minor": 2
}
