{
 "cells": [
  {
   "cell_type": "markdown",
   "metadata": {},
   "source": [
    "# Learn conditional logic with branch and loop statements\n",
    "\n",
    "*In this tutorial about branches and loops, you'll use Jupyter notebooks to learn C# interactively. You'll write C# code and see the results of compiling and running your code directly.*\n",
    "\n",
    "This tutorial contains a series of lessons that explore branching and looping constructs in C#. These lessons teach you the fundamentals of the C# language.\n",
    "\n",
    "## Make decisions using the if statement\n",
    "\n",
    "Run the following cell:"
   ]
  },
  {
   "cell_type": "code",
   "execution_count": 1,
   "metadata": {},
   "outputs": [
    {
     "data": {
      "text/html": [
       "\r\n",
       "<div>\r\n",
       "    <div id='dotnet-interactive-this-cell-231c20105df44c7fbcc6b003317b01e3' style='display: none'>\r\n",
       "        The below script needs to be able to find the current output cell; this is an easy method to get it.\r\n",
       "    </div>\r\n",
       "    <script type='text/javascript'>\r\n",
       "// ensure `require` is available globally\r\n",
       "if (typeof require !== typeof Function || typeof require.config !== typeof Function) {\r\n",
       "    let require_script = document.createElement('script');\r\n",
       "    require_script.setAttribute('src', 'https://cdnjs.cloudflare.com/ajax/libs/require.js/2.3.6/require.min.js');\r\n",
       "    require_script.setAttribute('type', 'text/javascript');\r\n",
       "    require_script.onload = function () {\r\n",
       "        loadDotnetInteractiveApi();\r\n",
       "    };\r\n",
       "\r\n",
       "    document.getElementsByTagName('head')[0].appendChild(require_script);\r\n",
       "}\r\n",
       "else {\r\n",
       "    loadDotnetInteractiveApi();\r\n",
       "}\r\n",
       "\r\n",
       "async function probeAddresses(probingAddresses) {\r\n",
       "    function timeout(ms, promise) {\r\n",
       "        return new Promise(function (resolve, reject) {\r\n",
       "            setTimeout(function () {\r\n",
       "                reject(new Error('timeout'))\r\n",
       "            }, ms)\r\n",
       "            promise.then(resolve, reject)\r\n",
       "        })\r\n",
       "    }\r\n",
       "\r\n",
       "    if (Array.isArray(probingAddresses)) {\r\n",
       "        for (let i = 0; i < probingAddresses.length; i++) {\r\n",
       "\r\n",
       "            let rootUrl = probingAddresses[i];\r\n",
       "\r\n",
       "            if (!rootUrl.endsWith('/')) {\r\n",
       "                rootUrl = `${rootUrl}/`;\r\n",
       "            }\r\n",
       "\r\n",
       "            try {\r\n",
       "                let response = await timeout(1000, fetch(`${rootUrl}discovery`, {\r\n",
       "                    method: 'POST',\r\n",
       "                    cache: 'no-cache',\r\n",
       "                    mode: 'cors',\r\n",
       "                    timeout: 1000,\r\n",
       "                    headers: {\r\n",
       "                        'Content-Type': 'text/plain'\r\n",
       "                    },\r\n",
       "                    body: probingAddresses[i]\r\n",
       "                }));\r\n",
       "\r\n",
       "                if (response.status == 200) {\r\n",
       "                    return rootUrl;\r\n",
       "                }\r\n",
       "            }\r\n",
       "            catch (e) { }\r\n",
       "        }\r\n",
       "    }\r\n",
       "}\r\n",
       "\r\n",
       "function loadDotnetInteractiveApi() {\r\n",
       "    probeAddresses([\"http://192.168.1.102:1002/\", \"http://100.64.129.181:1002/\", \"http://192.168.134.129:1002/\", \"http://127.0.0.1:1002/\"])\r\n",
       "        .then((root) => {\r\n",
       "            // use probing to find host url and api resources\r\n",
       "            // load interactive helpers and language services\r\n",
       "            let dotnet_require = require.config({\r\n",
       "                context: '16192.231c20105df44c7fbcc6b003317b01e3',\r\n",
       "                paths: {\r\n",
       "                    'dotnet-interactive': `${root}resources`\r\n",
       "                }\r\n",
       "            }) || require;\r\n",
       "            if (!window.dotnet_require) {\r\n",
       "                window.dotnet_require = dotnet_require;\r\n",
       "            }\r\n",
       "        \r\n",
       "            dotnet_require([\r\n",
       "                    'dotnet-interactive/dotnet-interactive'\r\n",
       "                ],\r\n",
       "                function (dotnet) {\r\n",
       "                    dotnet.init(window);\r\n",
       "                },\r\n",
       "                function (error) {\r\n",
       "                    console.log(error);\r\n",
       "                }\r\n",
       "            );\r\n",
       "        })\r\n",
       "        .catch(error => {console.log(error);});\r\n",
       "    }\r\n",
       "    </script>\r\n",
       "</div>"
      ]
     },
     "metadata": {},
     "output_type": "display_data"
    },
    {
     "name": "stdout",
     "output_type": "stream",
     "text": [
      "The answer is greater than 10.\n"
     ]
    }
   ],
   "source": [
    "int a = 5;\n",
    "int b = 6;\n",
    "if (a + b > 10)\n",
    "    Console.WriteLine(\"The answer is greater than 10.\");"
   ]
  },
  {
   "cell_type": "markdown",
   "metadata": {},
   "source": [
    "Modify the declaration of `b` so that the sum is less than 10: `int b = 3;`\n",
    "\n",
    "Run the cell again. Because the answer is less than 10, nothing is printed. The **condition** you're testing is false. You don't have any code to execute because you've only written one of the possible branches for an `if` statement: the true branch. Try again with `int b = 15`.\n",
    "\n",
    "> As you explore C# (or any programming language), you'll make mistakes when you write code. The **compiler** will find those errors and report them to you. When the output contains error messages, look closely at the example code, and the code in the interactive window to see what to fix. That exercise will help you learn the structure of C# code.\n",
    "\n",
    "This first sample shows the power of `if` and boolean types. A *boolean* is a variable that can have one of two values: `true` or `false`. C# defines a special type, `bool` for boolean variables. The `if` statement checks the value of a `bool`. When the value is `true`, the statement following the `if` executes. Otherwise, it is skipped.\n",
    "\n",
    "This process of checking conditions and executing statements based on those conditions is very powerful. Let's explore more.\n",
    "\n",
    "## Make if and else work together\n",
    "\n",
    "To execute different code in both the true and false branches, you create an `else` branch that executes when the condition is false. Try this:"
   ]
  },
  {
   "cell_type": "code",
   "execution_count": 2,
   "metadata": {},
   "outputs": [
    {
     "name": "stdout",
     "output_type": "stream",
     "text": [
      "The answer is not greater than 10\n"
     ]
    }
   ],
   "source": [
    "int a = 5;\n",
    "int b = 3;\n",
    "if (a + b > 10)\n",
    "    Console.WriteLine(\"The answer is greater than 10\");\n",
    "else\n",
    "    Console.WriteLine(\"The answer is not greater than 10\");"
   ]
  },
  {
   "cell_type": "markdown",
   "metadata": {},
   "source": [
    "The statement following the `else` keyword executes only when the condition being tested is `false`. Combining `if` and `else` with boolean conditions provides all the power you need.\n",
    "\n",
    "> The indentation under the `if` and `else` statements is for human readers. The C# language doesn't treat indentation or white space as significant. The statement following the `if` or `else` keyword will be executed based on the condition. All the samples in this tutorial follow a common practice to indent lines based on the control flow of statements.\n",
    "\n",
    "Because indentation is not significant, you need to use `{` and `}` to indicate when you want more than one statement to be part of the block\n",
    "that executes conditionally. C# programmers typically use those braces on all `if` and `else` clauses. The following example is the same as what you\n",
    "just created. Try it."
   ]
  },
  {
   "cell_type": "code",
   "execution_count": 3,
   "metadata": {},
   "outputs": [
    {
     "name": "stdout",
     "output_type": "stream",
     "text": [
      "The answer is not greater than 10\n"
     ]
    }
   ],
   "source": [
    "int a = 5;\n",
    "int b = 3;\n",
    "if (a + b > 10)\n",
    "{\n",
    "    Console.WriteLine(\"The answer is greater than 10\");\n",
    "}\n",
    "else\n",
    "{\n",
    "    Console.WriteLine(\"The answer is not greater than 10\");\n",
    "}"
   ]
  },
  {
   "cell_type": "markdown",
   "metadata": {},
   "source": [
    "> Through the rest of this tutorial, the code samples all include the braces, following accepted practices.\n",
    "\n",
    "You can test more complicated conditions:"
   ]
  },
  {
   "cell_type": "code",
   "execution_count": 4,
   "metadata": {},
   "outputs": [
    {
     "name": "stdout",
     "output_type": "stream",
     "text": [
      "The answer is not greater than 10\n",
      "Or the first number is not equal to the second\n"
     ]
    }
   ],
   "source": [
    "int a = 5;\n",
    "int b = 3;\n",
    "int c = 4;\n",
    "if ((a + b + c > 10) && (a == b))\n",
    "{\n",
    "    Console.WriteLine(\"The answer is greater than 10\");\n",
    "    Console.WriteLine(\"And the first number is equal to the second\");\n",
    "}\n",
    "else\n",
    "{\n",
    "    Console.WriteLine(\"The answer is not greater than 10\");\n",
    "    Console.WriteLine(\"Or the first number is not equal to the second\");\n",
    "}"
   ]
  },
  {
   "cell_type": "markdown",
   "metadata": {},
   "source": [
    "The `==` symbol tests for *equality*. Using `==` distinguishes the test for equality from assignment, which you saw in `a = 5`.\n",
    "\n",
    "The `&&` represents \"and\". It means both conditions must be true to execute the statement in the true branch.  These examples also show that you can have multiple\n",
    "statements in each conditional branch, provided you enclose them in `{` and `}`.\n",
    "    \n",
    "You can also use  `||` to represent \"or\":"
   ]
  },
  {
   "cell_type": "code",
   "execution_count": 6,
   "metadata": {},
   "outputs": [
    {
     "name": "stdout",
     "output_type": "stream",
     "text": [
      "The answer is greater than 10\n",
      "Or the first number is equal to the second\n"
     ]
    }
   ],
   "source": [
    "int a = 5;\n",
    "int b = 3;\n",
    "int c = 4;\n",
    "if ((a + b + c > 10) || (a == b))\n",
    "{\n",
    "    Console.WriteLine(\"The answer is greater than 10\");\n",
    "    Console.WriteLine(\"Or the first number is equal to the second\");\n",
    "}\n",
    "else\n",
    "{\n",
    "    Console.WriteLine(\"The answer is not greater than 10\");\n",
    "    Console.WriteLine(\"And the first number is not equal to the second\");\n",
    "}"
   ]
  },
  {
   "cell_type": "markdown",
   "metadata": {},
   "source": [
    "Modify the values of `a`, `b`, and `c` and switch between `&&` and `||` to explore. You'll gain more understanding of how the `&&` and `||` operators work.\n",
    "\n",
    "## Use loops to repeat operations\n",
    "\n",
    "Another important concept to create larger programs is **loops**. You'll\n",
    "use loops to repeat statements that you want executed more than once. Try\n",
    "this code:"
   ]
  },
  {
   "cell_type": "code",
   "execution_count": 7,
   "metadata": {},
   "outputs": [
    {
     "name": "stdout",
     "output_type": "stream",
     "text": [
      "Hello World! The counter is 0\n",
      "Hello World! The counter is 1\n",
      "Hello World! The counter is 2\n",
      "Hello World! The counter is 3\n",
      "Hello World! The counter is 4\n",
      "Hello World! The counter is 5\n",
      "Hello World! The counter is 6\n",
      "Hello World! The counter is 7\n",
      "Hello World! The counter is 8\n",
      "Hello World! The counter is 9\n"
     ]
    }
   ],
   "source": [
    "int counter = 0;\n",
    "while (counter < 10)\n",
    "{\n",
    "  Console.WriteLine($\"Hello World! The counter is {counter}\");\n",
    "  counter++;\n",
    "}"
   ]
  },
  {
   "cell_type": "markdown",
   "metadata": {},
   "source": [
    "The `while` statement checks a condition and executes the statement following the `while`. It will repeat checking the condition and executing those statements until the condition is false.\n",
    "\n",
    "There's one other new operator in this example. The `++` after the `counter` variable is the **increment** operator. It adds 1 to the value of counter, and stores that value in the counter variable.\n",
    "\n",
    "> Make sure that the `while` loop condition does switch to false as you execute the code. Otherwise, you create an **infinite loop** where your program never ends. Let's not demonstrate that, because the engine that runs your code will time out and you'll see no output from your program.\n",
    "\n",
    "The `while` loop tests the condition before executing the code following the `while`. The `do` ... `while` loop executes the code first, and then checks the condition. It looks like this:"
   ]
  },
  {
   "cell_type": "code",
   "execution_count": 8,
   "metadata": {},
   "outputs": [
    {
     "name": "stdout",
     "output_type": "stream",
     "text": [
      "Hello World! The counter is 0\n",
      "Hello World! The counter is 1\n",
      "Hello World! The counter is 2\n",
      "Hello World! The counter is 3\n",
      "Hello World! The counter is 4\n",
      "Hello World! The counter is 5\n",
      "Hello World! The counter is 6\n",
      "Hello World! The counter is 7\n",
      "Hello World! The counter is 8\n",
      "Hello World! The counter is 9\n"
     ]
    }
   ],
   "source": [
    "int counter = 0;\n",
    "do\n",
    "{\n",
    "  Console.WriteLine($\"Hello World! The counter is {counter}\");\n",
    "  counter++;\n",
    "} while (counter < 10);"
   ]
  },
  {
   "cell_type": "markdown",
   "metadata": {},
   "source": [
    "This `do` loop and the earlier `while` loop work the same.\n",
    "\n",
    "Let's move on to one last loop statement.\n",
    "\n",
    "## Work with the for loop\n",
    "\n",
    "Another common loop statement that you'll see in C# code is the `for` loop. Try this code in the interactive window:"
   ]
  },
  {
   "cell_type": "code",
   "execution_count": 9,
   "metadata": {},
   "outputs": [
    {
     "name": "stdout",
     "output_type": "stream",
     "text": [
      "Hello World! The counter is 0\n",
      "Hello World! The counter is 1\n",
      "Hello World! The counter is 2\n",
      "Hello World! The counter is 3\n",
      "Hello World! The counter is 4\n",
      "Hello World! The counter is 5\n",
      "Hello World! The counter is 6\n",
      "Hello World! The counter is 7\n",
      "Hello World! The counter is 8\n",
      "Hello World! The counter is 9\n"
     ]
    }
   ],
   "source": [
    "for(int counter = 0; counter < 10; counter++)\n",
    "{\n",
    "  Console.WriteLine($\"Hello World! The counter is {counter}\");\n",
    "}"
   ]
  },
  {
   "cell_type": "markdown",
   "metadata": {},
   "source": [
    "This does the same work as the `while` loop and the `do` loop you've already used. The `for` statement has three parts that control how it works.\n",
    "\n",
    "The first part is the **for initializer**: `int counter = 0;` declares that `counter` is the loop variable, and sets its initial value to `0`.\n",
    "\n",
    "The middle part is the **for condition**: `counter < 10` declares that this `for` loop continues to execute as long as the value of counter is less than 10.\n",
    "\n",
    "The final part is the **for iterator**: `counter++` specifies how to modify the loop variable after executing the block following the `for` statement. Here, it specifies that `counter` should be incremented by 1 each time the block executes.\n",
    "\n",
    "Experiment with these yourself. Try each of the following:\n",
    "\n",
    "- Change the initializer to start at a different value.\n",
    "- Change the condition to stop at a different value.\n",
    "\n",
    "When you're done, let's move on to write some code yourself to\n",
    "use what you've learned.\n",
    "\n",
    "## Created nested loops\n",
    "\n",
    "A `while`, `do` or `for` loop can be nested inside another loop to create a matrix using the combination of each item in the outer loop with each item in the inner loop. Let's do that to build a set of alphanumeric pairs to represent rows and columns.\n",
    "\n",
    "One `for` loop can generate the rows:"
   ]
  },
  {
   "cell_type": "code",
   "execution_count": 10,
   "metadata": {},
   "outputs": [
    {
     "name": "stdout",
     "output_type": "stream",
     "text": [
      "The row is 1\n",
      "The row is 2\n",
      "The row is 3\n",
      "The row is 4\n",
      "The row is 5\n",
      "The row is 6\n",
      "The row is 7\n",
      "The row is 8\n",
      "The row is 9\n",
      "The row is 10\n"
     ]
    }
   ],
   "source": [
    "for (int row = 1; row < 11; row++)\n",
    "{\n",
    "  Console.WriteLine($\"The row is {row}\");\n",
    "}"
   ]
  },
  {
   "cell_type": "markdown",
   "metadata": {},
   "source": [
    "Another loop can generate the columns:"
   ]
  },
  {
   "cell_type": "code",
   "execution_count": 11,
   "metadata": {},
   "outputs": [
    {
     "name": "stdout",
     "output_type": "stream",
     "text": [
      "The column is a\n",
      "The column is b\n",
      "The column is c\n",
      "The column is d\n",
      "The column is e\n",
      "The column is f\n",
      "The column is g\n",
      "The column is h\n",
      "The column is i\n",
      "The column is j\n"
     ]
    }
   ],
   "source": [
    "for (char column = 'a'; column < 'k'; column++)\n",
    "{\n",
    "  Console.WriteLine($\"The column is {column}\");\n",
    "}"
   ]
  },
  {
   "cell_type": "markdown",
   "metadata": {},
   "source": [
    "You can nest one loop inside the other to form pairs:"
   ]
  },
  {
   "cell_type": "code",
   "execution_count": 13,
   "metadata": {},
   "outputs": [
    {
     "name": "stdout",
     "output_type": "stream",
     "text": [
      "(1, a)  (1, b)  (1, c)  (1, d)  (1, e)  (1, f)  (1, g)  (1, h)  (1, i)  (1, j)  \n",
      "(2, a)  (2, b)  (2, c)  (2, d)  (2, e)  (2, f)  (2, g)  (2, h)  (2, i)  (2, j)  \n",
      "(3, a)  (3, b)  (3, c)  (3, d)  (3, e)  (3, f)  (3, g)  (3, h)  (3, i)  (3, j)  \n",
      "(4, a)  (4, b)  (4, c)  (4, d)  (4, e)  (4, f)  (4, g)  (4, h)  (4, i)  (4, j)  \n",
      "(5, a)  (5, b)  (5, c)  (5, d)  (5, e)  (5, f)  (5, g)  (5, h)  (5, i)  (5, j)  \n",
      "(6, a)  (6, b)  (6, c)  (6, d)  (6, e)  (6, f)  (6, g)  (6, h)  (6, i)  (6, j)  \n",
      "(7, a)  (7, b)  (7, c)  (7, d)  (7, e)  (7, f)  (7, g)  (7, h)  (7, i)  (7, j)  \n",
      "(8, a)  (8, b)  (8, c)  (8, d)  (8, e)  (8, f)  (8, g)  (8, h)  (8, i)  (8, j)  \n",
      "(9, a)  (9, b)  (9, c)  (9, d)  (9, e)  (9, f)  (9, g)  (9, h)  (9, i)  (9, j)  \n",
      "(10, a)  (10, b)  (10, c)  (10, d)  (10, e)  (10, f)  (10, g)  (10, h)  (10, i)  (10, j)  \n"
     ]
    }
   ],
   "source": [
    "for (int row = 1; row < 11; row++)\n",
    "{\n",
    "  for (char column = 'a'; column < 'k'; column++)\n",
    "  {\n",
    "    Console.Write($\"({row}, {column})  \");\n",
    "  }\n",
    "  Console.WriteLine();\n",
    "}"
   ]
  },
  {
   "cell_type": "markdown",
   "metadata": {},
   "source": [
    "You can see that the outer loop increments once for each full run of the\n",
    "inner loop. Reverse the row and column nesting, and see the changes for yourself.\n",
    "\n",
    "## Combine branches and loops\n",
    "\n",
    "Now that you've seen the `if` statement and the looping\n",
    "constructs in the C# language, see if you can write C# code to\n",
    "find the sum of all integers 1 through 20 that are divisible\n",
    "by 3.  Here are a few hints:\n",
    "\n",
    "- The `%` operator gives you the remainder of a division operation.\n",
    "- The `if` statement gives you the condition to see if a number should be part of the sum.\n",
    "- The `for` loop can help you repeat a series of steps for all the numbers 1 through 20.\n",
    "\n",
    "Try it yourself. Then check how you did. As a hint, you should get 63 for an answer."
   ]
  },
  {
   "cell_type": "code",
   "execution_count": null,
   "metadata": {},
   "outputs": [],
   "source": []
  }
 ],
 "metadata": {
  "kernelspec": {
   "display_name": ".NET (C#)",
   "language": "C#",
   "name": ".net-csharp"
  },
  "language_info": {
   "file_extension": ".cs",
   "mimetype": "text/x-csharp",
   "name": "C#",
   "pygments_lexer": "csharp",
   "version": "8.0"
  }
 },
 "nbformat": 4,
 "nbformat_minor": 4
}
