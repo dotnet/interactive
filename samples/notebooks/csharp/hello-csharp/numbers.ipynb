{
 "cells": [
  {
   "cell_type": "markdown",
   "metadata": {},
   "source": [
    "# Manipulate integral and floating point numbers in C#\n",
    "\n",
    "*In this tutorial about numeric types, you'll use Jupyter notebooks to learn C# interactively. You're going to write C# code and see the results of compiling and running your code directly in the notebook.*\n",
    "\n",
    "It contains a series of lessons that explore numbers and math operations in C#. These lessons teach you the fundamentals of the C# language.\n",
    "\n",
    "## Working with integer math\n",
    "\n",
    "Run the following cell:\n"
   ]
  },
  {
   "cell_type": "code",
   "execution_count": 1,
   "metadata": {},
   "outputs": [
    {
     "data": {
      "text/html": [
       "\r\n",
       "<div>\r\n",
       "    <div id='dotnet-interactive-this-cell-df970bd726e64e9ab6af151ae9a167f7' style='display: none'>\r\n",
       "        The below script needs to be able to find the current output cell; this is an easy method to get it.\r\n",
       "    </div>\r\n",
       "    <script type='text/javascript'>\r\n",
       "// ensure `require` is available globally\r\n",
       "if (typeof require !== typeof Function || typeof require.config !== typeof Function) {\r\n",
       "    let require_script = document.createElement('script');\r\n",
       "    require_script.setAttribute('src', 'https://cdnjs.cloudflare.com/ajax/libs/require.js/2.3.6/require.min.js');\r\n",
       "    require_script.setAttribute('type', 'text/javascript');\r\n",
       "    require_script.onload = function () {\r\n",
       "        loadDotnetInteractiveApi();\r\n",
       "    };\r\n",
       "\r\n",
       "    document.getElementsByTagName('head')[0].appendChild(require_script);\r\n",
       "}\r\n",
       "else {\r\n",
       "    loadDotnetInteractiveApi();\r\n",
       "}\r\n",
       "\r\n",
       "async function probeAddresses(probingAddresses) {\r\n",
       "    function timeout(ms, promise) {\r\n",
       "        return new Promise(function (resolve, reject) {\r\n",
       "            setTimeout(function () {\r\n",
       "                reject(new Error('timeout'))\r\n",
       "            }, ms)\r\n",
       "            promise.then(resolve, reject)\r\n",
       "        })\r\n",
       "    }\r\n",
       "\r\n",
       "    if (Array.isArray(probingAddresses)) {\r\n",
       "        for (let i = 0; i < probingAddresses.length; i++) {\r\n",
       "\r\n",
       "            let rootUrl = probingAddresses[i];\r\n",
       "\r\n",
       "            if (!rootUrl.endsWith('/')) {\r\n",
       "                rootUrl = `${rootUrl}/`;\r\n",
       "            }\r\n",
       "\r\n",
       "            try {\r\n",
       "                let response = await timeout(1000, fetch(`${rootUrl}discovery`, {\r\n",
       "                    method: 'POST',\r\n",
       "                    cache: 'no-cache',\r\n",
       "                    mode: 'cors',\r\n",
       "                    timeout: 1000,\r\n",
       "                    headers: {\r\n",
       "                        'Content-Type': 'text/plain'\r\n",
       "                    },\r\n",
       "                    body: probingAddresses[i]\r\n",
       "                }));\r\n",
       "\r\n",
       "                if (response.status == 200) {\r\n",
       "                    return rootUrl;\r\n",
       "                }\r\n",
       "            }\r\n",
       "            catch (e) { }\r\n",
       "        }\r\n",
       "    }\r\n",
       "}\r\n",
       "\r\n",
       "function loadDotnetInteractiveApi() {\r\n",
       "    probeAddresses([\"http://192.168.1.102:1001/\", \"http://100.64.129.181:1001/\", \"http://192.168.134.129:1001/\", \"http://127.0.0.1:1001/\"])\r\n",
       "        .then((root) => {\r\n",
       "            // use probing to find host url and api resources\r\n",
       "            // load interactive helpers and language services\r\n",
       "            let dotnet_require = require.config({\r\n",
       "                context: '9984.df970bd726e64e9ab6af151ae9a167f7',\r\n",
       "                paths: {\r\n",
       "                    'dotnet-interactive': `${root}resources`\r\n",
       "                }\r\n",
       "            }) || require;\r\n",
       "            if (!window.dotnet_require) {\r\n",
       "                window.dotnet_require = dotnet_require;\r\n",
       "            }\r\n",
       "        \r\n",
       "            dotnet_require([\r\n",
       "                    'dotnet-interactive/dotnet-interactive'\r\n",
       "                ],\r\n",
       "                function (dotnet) {\r\n",
       "                    dotnet.init(window);\r\n",
       "                },\r\n",
       "                function (error) {\r\n",
       "                    console.log(error);\r\n",
       "                }\r\n",
       "            );\r\n",
       "        })\r\n",
       "        .catch(error => {console.log(error);});\r\n",
       "    }\r\n",
       "    </script>\r\n",
       "</div>"
      ]
     },
     "metadata": {},
     "output_type": "display_data"
    },
    {
     "name": "stdout",
     "output_type": "stream",
     "text": [
      "24\n"
     ]
    }
   ],
   "source": [
    "int a = 18;\n",
    "int b = 6;\n",
    "int c = a + b;\n",
    "Console.WriteLine(c);\n"
   ]
  },
  {
   "cell_type": "markdown",
   "metadata": {},
   "source": [
    "You've seen one of the fundamental math operations with integers. The `int` type represents an **integer**, a positive or negative whole number. You use the `+` symbol for addition. Other common mathematical operations for integers include:\n",
    "\n",
    "- `-` for subtraction\n",
    "- `*` for multiplication\n",
    "- `/` for division\n",
    "\n",
    "Start by exploring those different operations. Modify the third line to try each of these operations. After each edit, select the **Run** button.\n",
    "\n",
    "- Subtraction: `int c = a - b;`\n",
    "- Multiplication: `int c = a * b;`\n",
    "- Division: `int c = a / b;`\n",
    "```\n",
    "\n",
    "You can also experiment by writing multiple mathematics operations in the same line, if you'd like.\n",
    "\n",
    "> As you explore C# (or any programming language), you'll make mistakes when you write code. The **compiler** will find those errors and report them to you. When the output contains error messages, look closely at the example code, and the code in the interactive window to see what to fix. That exercise will help you learn the structure of C# code.\n",
    "\n",
    "## Explore order of operations\n",
    "\n",
    "The C# language defines the precedence of different mathematics operations with rules consistent with the rules you learned in mathematics. Multiplication and division take precedence over addition and subtraction. Explore that by running the following cell:\n"
   ]
  },
  {
   "cell_type": "code",
   "execution_count": 3,
   "metadata": {},
   "outputs": [
    {
     "name": "stdout",
     "output_type": "stream",
     "text": [
      "13\n"
     ]
    }
   ],
   "source": [
    "int a = 5;\n",
    "int b = 4;\n",
    "int c = 2;\n",
    "int d = a + b * c;\n",
    "Console.WriteLine(d);"
   ]
  },
  {
   "cell_type": "markdown",
   "metadata": {},
   "source": [
    "The output demonstrates that the multiplication is performed before the addition.\n",
    "\n",
    "You can force a different order of operation by adding parentheses around the operation or operations you want performed first. Modify the fourth line in the cell above to force the addition to be performed first: `int d = (a + b) * c;`\n",
    "\n",
    "Explore more by combining many different operations. Replace the fourth line above with something like this. `int d = (a + b) - 6 * c + (12 * 4) / 3 + 12;`\n",
    "\n",
    "You may have noticed an interesting behavior for integers. Integer division always produces an integer result, even when you'd expect the result to include a decimal or fractional portion.\n",
    "\n",
    "## Explore integer precision and limits\n",
    "\n",
    "If you haven't seen this behavior, try the following cell:"
   ]
  },
  {
   "cell_type": "code",
   "execution_count": 5,
   "metadata": {},
   "outputs": [
    {
     "name": "stdout",
     "output_type": "stream",
     "text": [
      "quotient: 3\n",
      "remainder: 2\n"
     ]
    }
   ],
   "source": [
    "int a = 7;\n",
    "int b = 4;\n",
    "int c = 3;\n",
    "int d = (a + b) / c;\n",
    "int e = (a + b) % c;\n",
    "Console.WriteLine($\"quotient: {d}\");\n",
    "Console.WriteLine($\"remainder: {e}\");"
   ]
  },
  {
   "cell_type": "markdown",
   "metadata": {},
   "source": [
    "That last sample showed you that integer division truncates the result. It showed how you can get the **remainder** by using the **remainder** operator, the `%` character.\n",
    "\n",
    "The C# integer type differs from mathematical integers in one other way: the `int` type has minimum and maximum limits. Run this cell to see those limits:"
   ]
  },
  {
   "cell_type": "code",
   "execution_count": 7,
   "metadata": {},
   "outputs": [
    {
     "name": "stdout",
     "output_type": "stream",
     "text": [
      "The range of integers is -2147483648 to 2147483647\n",
      "-2147483646\n"
     ]
    }
   ],
   "source": [
    "int max = int.MaxValue;\n",
    "int min = int.MinValue;\n",
    "Console.WriteLine($\"The range of integers is {min} to {max}\");"
   ]
  },
  {
   "cell_type": "markdown",
   "metadata": {},
   "source": [
    "If a calculation produces a value that exceeds those limits, you have an **underflow** or **overflow** condition. The answer appears to wrap from one limit to the other. Add these two lines to the preceding cell to see an example:\n",
    "\n",
    "```csharp\n",
    "int what = max + 3;\n",
    "Console.WriteLine($\"An example of overflow: {what}\");\n",
    "```\n",
    "\n",
    "Notice that the answer is very close to the minimum (negative) integer. It's the same as `min + 2`. The addition operation **overflowed** the allowed values for integers. The answer is a very large negative number because an overflow \"wraps around\" from the largest possible integer value to the smallest.\n",
    "\n",
    "There are other numeric types with different limits and precision that you would use when the `int` type doesn't meet your needs. Let's explore those types of numbers next.\n",
    "\n",
    "## Work with the double type\n",
    "\n",
    "The `double` numeric type represents a double-precision floating point number. Those terms may be new to you. A **floating point** number is useful to represent non-integral numbers that may be very large or small in magnitude. **Double-precision** is a relative term that describes the numbers of binary digits used to store the value. **Double precision** number have twice the number of binary digits as **single-precision**. On modern computers, it is more common to use double precision than single precision numbers. **Single precision** numbers are declared using the `float` keyword. Let's explore. Try the following cell:"
   ]
  },
  {
   "cell_type": "code",
   "execution_count": 8,
   "metadata": {},
   "outputs": [
    {
     "name": "stdout",
     "output_type": "stream",
     "text": [
      "4.5\n"
     ]
    }
   ],
   "source": [
    "double a = 5;\n",
    "double b = 4;\n",
    "double c = 2;\n",
    "double d = (a + b) / c;\n",
    "Console.WriteLine(d);"
   ]
  },
  {
   "cell_type": "markdown",
   "metadata": {},
   "source": [
    "Notice that the answer includes the decimal portion of the quotient. Try a slightly more complicated expression with doubles:"
   ]
  },
  {
   "cell_type": "code",
   "execution_count": 9,
   "metadata": {},
   "outputs": [
    {
     "name": "stdout",
     "output_type": "stream",
     "text": [
      "5.25\n"
     ]
    }
   ],
   "source": [
    "double a = 19;\n",
    "double b = 23;\n",
    "double c = 8;\n",
    "double d = (a + b) / c;\n",
    "Console.WriteLine(d);"
   ]
  },
  {
   "cell_type": "markdown",
   "metadata": {},
   "source": [
    "The range of a double value is much greater than integer values. Try the following cell:"
   ]
  },
  {
   "cell_type": "code",
   "execution_count": 11,
   "metadata": {},
   "outputs": [
    {
     "name": "stdout",
     "output_type": "stream",
     "text": [
      "The range of double is -1.7976931348623157E+308 to 1.7976931348623157E+308\n"
     ]
    }
   ],
   "source": [
    "double max = double.MaxValue;\n",
    "double min = double.MinValue;\n",
    "Console.WriteLine($\"The range of double is {min} to {max}\");"
   ]
  },
  {
   "cell_type": "markdown",
   "metadata": {},
   "source": [
    "These values are printed out in scientific notation. The number to the left of the `E` is the significand. The number to the right is the exponent,\n",
    "as a power of 10.\n",
    "    \n",
    "Just like decimal numbers in math, doubles in C# can have rounding errors. Try this cell:"
   ]
  },
  {
   "cell_type": "code",
   "execution_count": 12,
   "metadata": {},
   "outputs": [
    {
     "name": "stdout",
     "output_type": "stream",
     "text": [
      "0.3333333333333333\n"
     ]
    }
   ],
   "source": [
    "double third = 1.0 / 3.0;\n",
    "Console.WriteLine(third);"
   ]
  },
  {
   "cell_type": "markdown",
   "metadata": {},
   "source": [
    "You know that `0.3` is `3/10` and not exactly the same as `1/3`. Similarly, `0.33` is `33/100`. That's closer to `1/3`, but still not exact. \n",
    "\n",
    "***Challenge***\n",
    "\n",
    "Try other calculations with large numbers, small numbers, multiplication, and division using the `double` type.  Try more complicated calculations."
   ]
  }
 ],
 "metadata": {
  "kernelspec": {
   "display_name": ".NET (C#)",
   "language": "C#",
   "name": ".net-csharp"
  },
  "language_info": {
   "file_extension": ".cs",
   "mimetype": "text/x-csharp",
   "name": "C#",
   "pygments_lexer": "csharp",
   "version": "8.0"
  }
 },
 "nbformat": 4,
 "nbformat_minor": 4
}
