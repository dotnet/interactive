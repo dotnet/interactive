{
 "cells": [
  {
   "cell_type": "code",
   "execution_count": null,
   "id": "98c1187e",
   "metadata": {
    "dotnet_interactive": {
     "language": "csharp"
    },
    "polyglot_notebook": {
     "kernelName": "csharp"
    }
   },
   "outputs": [],
   "source": [
"#r \"nuget:Microsoft.DotNet.Interactive.AI, 1.0.0-beta.23604.2\"\n"
   ]
  },
  {
   "cell_type": "code",
   "execution_count": null,
   "metadata": {
    "dotnet_interactive": {
     "language": "csharp"
    },
    "polyglot_notebook": {
     "kernelName": "csharp"
    }
   },
   "outputs": [],
   "source": [
    "#!value --name key\n",
    "YOUR AZURE OPEN AI KEY"
   ]
  },
  {
   "cell_type": "code",
   "execution_count": null,
   "metadata": {
    "dotnet_interactive": {
     "language": "csharp"
    },
    "polyglot_notebook": {
     "kernelName": "csharp"
    }
   },
   "outputs": [],
   "source": [
    "#!value --name endpoint\n",
    "https://your-enpoint.openai.azure.com/"
   ]
  },
  {
   "cell_type": "code",
   "execution_count": null,
   "id": "68b78a72",
   "metadata": {
    "dotnet_interactive": {
     "language": "csharp"
    },
    "polyglot_notebook": {
     "kernelName": "csharp"
    }
   },
   "outputs": [],
   "source": [
    "#!connect azure-openai --model-type TextEmbeddingGenerator --kernel-name knowledge --api-key @value:key --endpoint @value:endpoint --deployment text-embedding-ada-002"
   ]
  },
  {
   "cell_type": "code",
   "execution_count": null,
   "metadata": {
    "dotnet_interactive": {
     "language": "csharp"
    },
    "polyglot_notebook": {
     "kernelName": "csharp"
    }
   },
   "outputs": [],
   "source": [
    "#!connect azure-openai --model-type ChatCompletion --kernel-name chat --api-key @value:key --endpoint @value:endpoint --deployment gpt-35-turbo-16k --use-knowledge knowledge"
   ]
  },
  {
   "attachments": {},
   "cell_type": "markdown",
   "id": "28f3e8ea",
   "metadata": {},
   "source": [
    "# `#!graph` command"
   ]
  },
  {
   "attachments": {},
   "cell_type": "markdown",
   "id": "9638ca7d",
   "metadata": {},
   "source": [
    "## define prompt template"
   ]
  },
  {
   "cell_type": "code",
   "execution_count": null,
   "metadata": {
    "dotnet_interactive": {
     "language": "chat(skill)"
    },
    "polyglot_notebook": {
     "kernelName": "chat(skill)"
    }
   },
   "outputs": [],
   "source": [
    "#!function generate_sequence_diagram --skill explain_code --description \"generate mermaid sequence diagram from code\"\n",
    "[BEGIN TEXT]\n",
    "{{$input}}\n",
    "[END TEXT]\n",
    "write mermaid sequence diagram markdown for the code above. remove all code fence markers"
   ]
  },
  {
   "attachments": {},
   "cell_type": "markdown",
   "id": "c2f687ff",
   "metadata": {},
   "source": [
    "## test it "
   ]
  },
  {
   "cell_type": "code",
   "execution_count": null,
   "metadata": {
    "dotnet_interactive": {
     "language": "chat(text)"
    },
    "polyglot_notebook": {
     "kernelName": "chat(text)"
    }
   },
   "outputs": [],
   "source": [
    "#!use-skills function.explain_code.generate_sequence_diagram\n",
    "\n",
    "public static int Fibonacci(int n)\n",
    "{\n",
    "    if (n <= 1)\n",
    "    {\n",
    "        return n;\n",
    "    }\n",
    "    else\n",
    "    {\n",
    "        return Fibonacci(n - 1) + Fibonacci(n - 2);\n",
    "    }\n",
    "}\n",
    "\n"
   ]
  },
  {
   "attachments": {},
   "cell_type": "markdown",
   "id": "e8291f02",
   "metadata": {},
   "source": [
    "## integrate in `smart app`"
   ]
  },
  {
   "cell_type": "code",
   "execution_count": null,
   "id": "610602f2",
   "metadata": {
    "dotnet_interactive": {
     "language": "csharp"
    },
    "polyglot_notebook": {
     "kernelName": "csharp"
    }
   },
   "outputs": [],
   "source": [
    "using Microsoft.DotNet.Interactive;\n",
    "using Microsoft.DotNet.Interactive.Events;\n",
    "using Microsoft.DotNet.Interactive.Commands;\n",
    "using Microsoft.DotNet.Interactive.AI;\n",
    "using Microsoft.DotNet.Interactive.Mermaid;\n",
    "using System.CommandLine;\n",
    "\n",
    "var graphCommand = new Command(\"#!graph\");\n",
    "var textCompletionKernel = Kernel.Root.FindKernels(k => k is TextCompletionKernel).Single(t => t.Name == \"chat(text)\");\n",
    "var mermaidKernel = Kernel.Root.FindKernels(k => k is MermaidKernel).Single();\n",
    "IEnumerable<KernelEvent> evts = null;\n",
    "\n",
    "\n",
    "Kernel.Root.AddDirective(graphCommand);"
   ]
  },
  {
   "cell_type": "code",
   "execution_count": null,
   "metadata": {
    "dotnet_interactive": {
     "language": "csharp"
    },
    "polyglot_notebook": {
     "kernelName": "csharp"
    }
   },
   "outputs": [],
   "source": [
    "evts.Display();"
   ]
  },
  {
   "cell_type": "code",
   "execution_count": null,
   "metadata": {
    "dotnet_interactive": {
     "language": "csharp"
    },
    "polyglot_notebook": {
     "kernelName": "csharp"
    }
   },
   "outputs": [],
   "source": [
    "var returnValueProduced = evts?\n",
    "            .OfType<ReturnValueProduced>()\n",
    "            .FirstOrDefault(e => e.Command.TargetKernelName == textCompletionKernel.Name);\n",
    "\n",
    "             var markdown = returnValueProduced?\n",
    "            .FormattedValues\n",
    "            .OfType<FormattedValue>()\n",
    "            .Single(fm => fm.MimeType == \"text/plain\")\n",
    "            .Value\n",
    "            .ToString() ?? string.Empty;\n",
    "\n",
    "returnValueProduced.Display();"
   ]
  },
  {
   "cell_type": "code",
   "execution_count": null,
   "metadata": {
    "dotnet_interactive": {
     "language": "csharp"
    },
    "polyglot_notebook": {
     "kernelName": "csharp"
    }
   },
   "outputs": [],
   "source": [
    "public async Task GenerateDiagram(string code, KernelCommand root = null){\n",
    "     textCompletionKernel.SetSuppressDisplay(true);\n",
    "    List<KernelEvent> events = new();\n",
    "    var prompt = $\"\"\"\n",
    "        #!use-skills function.explain_code.generate_sequence_diagram\n",
    "\n",
    "        {code}       \n",
    "                \n",
    "        \"\"\";\n",
    "    evts = events;\n",
    "    var sub = Kernel.Root.KernelEvents.Subscribe(e => events.Add(e));\n",
    "    var createMermaidMarkdownCommand = new SubmitCode(prompt, textCompletionKernel.Name);\n",
    "    if(root != null)\n",
    "        createMermaidMarkdownCommand.SetParent(root);\n",
    "    \n",
    "    await textCompletionKernel.SendAsync(createMermaidMarkdownCommand);\n",
    "    \n",
    "    sub.Dispose();\n",
    "    textCompletionKernel.SetSuppressDisplay(false);\n",
    "    var returnValueProduced = events\n",
    "        .OfType<ReturnValueProduced>()\n",
    "        .FirstOrDefault(e => e.Command.TargetKernelName == textCompletionKernel.Name);\n",
    "\n",
    "    var markdown = returnValueProduced?\n",
    "        .FormattedValues\n",
    "        .OfType<FormattedValue>()\n",
    "        .Single(fm => fm.MimeType == \"text/plain\")\n",
    "        .Value\n",
    "        .ToString() ?? string.Empty;\n",
    " \n",
    "    markdown = markdown.Replace(\"```mermaid\", string.Empty).Replace(\"```\", string.Empty);\n",
    "    var renderMermaidMarkdownCommand = new SubmitCode(markdown, mermaidKernel.Name);\n",
    "    if(root != null)\n",
    "        renderMermaidMarkdownCommand.SetParent(root);\n",
    "   \n",
    "    await mermaidKernel.SendAsync(renderMermaidMarkdownCommand);\n",
    "}"
   ]
  },
  {
   "cell_type": "code",
   "execution_count": null,
   "metadata": {
    "dotnet_interactive": {
     "language": "csharp"
    },
    "polyglot_notebook": {
     "kernelName": "csharp"
    }
   },
   "outputs": [],
   "source": [
    "await GenerateDiagram(\n",
    "\"\"\"\n",
    "public static int Fibonacci(int n)\n",
    "{\n",
    "    if (n <= 1)\n",
    "    {\n",
    "        return n;\n",
    "    }\n",
    "    else\n",
    "    {\n",
    "        return Fibonacci(n - 1) + Fibonacci(n - 2);\n",
    "    }\n",
    "}\n",
    "\"\"\", KernelInvocationContext.Current.Command);"
   ]
  },
  {
   "cell_type": "code",
   "execution_count": null,
   "metadata": {
    "dotnet_interactive": {
     "language": "csharp"
    },
    "polyglot_notebook": {
     "kernelName": "csharp"
    }
   },
   "outputs": [],
   "source": [
    "graphCommand.SetHandler(async _ =>\n",
    "{\n",
    "    var context = KernelInvocationContext.Current;\n",
    "    if (context.Command is SubmitCode submitCode)\n",
    "    {       \n",
    "        var code = submitCode.Code.Replace(\"#!graph\", string.Empty);\n",
    "        await GenerateDiagram(code,context.Command);\n",
    "        context.Complete(submitCode);\n",
    "    }\n",
    "});"
   ]
  },
  {
   "attachments": {},
   "cell_type": "markdown",
   "id": "6c869146",
   "metadata": {},
   "source": [
    "## try the app experience"
   ]
  },
  {
   "cell_type": "code",
   "execution_count": null,
   "id": "1c7fcf1c",
   "metadata": {
    "dotnet_interactive": {
     "language": "csharp"
    },
    "polyglot_notebook": {
     "kernelName": "csharp"
    }
   },
   "outputs": [],
   "source": [
    "#!graph\n",
    "public static int Fibonacci(int n)\n",
    "{\n",
    "    if (n <= 1)\n",
    "    {\n",
    "        return n;\n",
    "    }\n",
    "    else\n",
    "    {\n",
    "        return Fibonacci(n - 1) + Fibonacci(n - 2);\n",
    "    }\n",
    "}\n"
   ]
  }
 ],
 "metadata": {
  "kernelInfo": {
   "defaultKernelName": null,
   "items": [
    {
     "aliases": [
      "c#",
      "cs"
     ],
     "languageName": "C#",
     "name": "csharp"
    },
    {
     "aliases": [
      "f#",
      "fs"
     ],
     "languageName": "F#",
     "name": "fsharp"
    },
    {
     "languageName": "HTML",
     "name": "html"
    },
    {
     "languageName": "HTTP",
     "name": "http"
    },
    {
     "aliases": [
      "js"
     ],
     "languageName": "JavaScript",
     "name": "javascript"
    },
    {
     "languageName": "KQL",
     "name": "kql"
    },
    {
     "languageName": "Mermaid",
     "name": "mermaid"
    },
    {
     "aliases": [
      "powershell"
     ],
     "languageName": "PowerShell",
     "name": "pwsh"
    },
    {
     "languageName": "SQL",
     "name": "sql"
    },
    {
     "name": "value"
    }
   ]
  },
  "kernelspec": {
   "display_name": ".NET (C#)",
   "language": "C#",
   "name": ".net-csharp"
  },
  "language_info": {
   "name": "polyglot-notebook"
  },
  "polyglot_notebook": {
   "kernelInfo": {
    "defaultKernelName": "csharp",
    "items": [
     {
      "aliases": [],
      "languageName": "text",
      "name": "chat"
     },
     {
      "aliases": [],
      "languageName": "text",
      "name": "codeai(image)"
     },
     {
      "aliases": [],
      "name": "csharp"
     },
     {
      "aliases": [],
      "languageName": "text",
      "name": "knowledge"
     },
     {
      "aliases": [],
      "languageName": "SQL",
      "name": "knowledge(duckDbVectorRAW)"
     },
     {
      "aliases": [],
      "languageName": "text",
      "name": "textCompletion"
     },
     {
      "aliases": [],
      "languageName": "semantic-kernel.skprompt",
      "name": "textCompletion(skill)"
     }
    ]
   }
  }
 },
 "nbformat": 4,
 "nbformat_minor": 5
}
