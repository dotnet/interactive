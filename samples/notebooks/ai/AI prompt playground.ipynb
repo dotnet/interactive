{
 "cells": [
  {
   "cell_type": "code",
   "execution_count": null,
   "id": "98c1187e",
   "metadata": {
    "dotnet_interactive": {
     "language": "csharp"
    },
    "polyglot_notebook": {
     "kernelName": "csharp"
    }
   },
   "outputs": [],
   "source": [
    "#r \"nuget: Microsoft.SemanticKernel, 0.12.207.1-preview\"\n",
    "#r \"nuget: SkiaSharp, 2.88.3\"\n",
    "#r \"C:\\dev\\interactive\\src\\Microsoft.DotNet.Interactive.OpenAI\\bin\\Debug\\net7.0\\Microsoft.DotNet.Interactive.OpenAI.dll\"\n",
    "Microsoft.DotNet.Interactive.OpenAI.OpenAIKernelConnector.AddKernelConnectorToCurrentRootKernel();"
   ]
  },
  {
   "cell_type": "code",
   "execution_count": null,
   "id": "68b78a72",
   "metadata": {
    "dotnet_interactive": {
     "language": "csharp"
    },
    "polyglot_notebook": {
     "kernelName": "csharp"
    }
   },
   "outputs": [],
   "source": [
    "#!connect openai --kernel-name openai"
   ]
  },
  {
   "attachments": {},
   "cell_type": "markdown",
   "id": "59c61aca",
   "metadata": {},
   "source": [
    "# 1. Hello..."
   ]
  },
  {
   "attachments": {},
   "cell_type": "markdown",
   "id": "c3a6e9e6",
   "metadata": {},
   "source": [
    "### ... DALL-E"
   ]
  },
  {
   "cell_type": "code",
   "execution_count": null,
   "metadata": {
    "dotnet_interactive": {
     "language": "openai(image)"
    },
    "polyglot_notebook": {
     "kernelName": "openai(image)"
    }
   },
   "outputs": [],
   "source": [
    "A cat flying a red biplane, in the style of Hiyao Miyazaki."
   ]
  },
  {
   "attachments": {},
   "cell_type": "markdown",
   "id": "fbd06e06",
   "metadata": {},
   "source": [
    "#### *Points of interest* \n",
    "\n",
    "Extensions are able to provide custom visualizations. \n",
    "\n",
    "[Our code](https://github.com/jonsequitur/interactive/blob/semantic-kernel-kernel/src/Microsoft.DotNet.Interactive.OpenAI/SkiaUtils.cs)\n",
    "\n",
    "[SkiaSharp's code](https://github.com/mono/SkiaSharp/blob/main/source/SkiaSharp.DotNet.Interactive/SkiaSharpKernelExtension.cs)"
   ]
  },
  {
   "attachments": {},
   "cell_type": "markdown",
   "id": "26618651",
   "metadata": {},
   "source": [
    "# 2. Skills"
   ]
  },
  {
   "attachments": {},
   "cell_type": "markdown",
   "id": "67f5129d",
   "metadata": {},
   "source": [
    "### Defining semantic functions for `Microsoft.SemanticKernel`"
   ]
  },
  {
   "cell_type": "code",
   "execution_count": null,
   "metadata": {
    "dotnet_interactive": {
     "language": "openai(skill)"
    },
    "polyglot_notebook": {
     "kernelName": "openai(skill)"
    }
   },
   "outputs": [],
   "source": [
    "#!function -h"
   ]
  },
  {
   "cell_type": "code",
   "execution_count": null,
   "id": "1e2e620d",
   "metadata": {
    "dotnet_interactive": {
     "language": "openai(skill)"
    },
    "polyglot_notebook": {
     "kernelName": "openai(skill)"
    }
   },
   "outputs": [],
   "source": [
    "#!function summarize --skill writer\n",
    "Summarize the following text. \n",
    "[BEGIN TEXT]\n",
    "{{$input}}\n",
    "[END TEXT]"
   ]
  },
  {
   "cell_type": "code",
   "execution_count": null,
   "id": "458589a7",
   "metadata": {
    "dotnet_interactive": {
     "language": "openai(skill)"
    },
    "polyglot_notebook": {
     "kernelName": "openai(skill)"
    }
   },
   "outputs": [],
   "source": [
    "#!function stylist --skill writer\n",
    "Rewrite the following text in the style of {{$person}}:\n",
    "[BEGIN TEXT]\n",
    "{{$input}}\n",
    "[END TEXT]\n",
    "Please write it in verse."
   ]
  },
  {
   "cell_type": "code",
   "execution_count": null,
   "metadata": {
    "dotnet_interactive": {
     "language": "openai(text)"
    },
    "polyglot_notebook": {
     "kernelName": "openai(text)"
    }
   },
   "outputs": [],
   "source": [
    "#!set --name person --value @input:\"Whose style would you like to summarize this in?\"\n",
    "#!use-skills function.writer.summarize function.writer.stylist\n",
    "\n",
    ".NET Interactive engine can be used many ways.\n",
    "* It takes messages, routes them to subkernels, and can format returned data.\n",
    "* Messages are initiated via a host (like Polyglot Notebooks).\n",
    "* Subkernels can be a bunch of different languages (including Mermaid).\n",
    "* Subkernels can share data.\n",
    "* Subkernels can be running in different processes and on different machines.\n",
    "* We'd love your ideas on how we can leverage this for developers.\n"
   ]
  },
  {
   "attachments": {},
   "cell_type": "markdown",
   "id": "b5354e0e",
   "metadata": {},
   "source": [
    "# 3. Kernels"
   ]
  },
  {
   "attachments": {},
   "cell_type": "markdown",
   "id": "565fe9f0",
   "metadata": {},
   "source": [
    "### Using multiple AI models together"
   ]
  },
  {
   "cell_type": "code",
   "execution_count": null,
   "id": "c7de5735",
   "metadata": {
    "dotnet_interactive": {
     "language": "openai(skill)"
    },
    "polyglot_notebook": {
     "kernelName": "openai(skill)"
    }
   },
   "outputs": [],
   "source": [
    "#!function make_image_prompt --skill image\n",
    "{{$input}}\n",
    "Describe an image of the text above in {{$linecount}} lines."
   ]
  },
  {
   "cell_type": "code",
   "execution_count": null,
   "id": "d19afe71",
   "metadata": {
    "dotnet_interactive": {
     "language": "openai(skill)"
    },
    "polyglot_notebook": {
     "kernelName": "openai(skill)"
    }
   },
   "outputs": [],
   "source": [
    "#!function improve --skill image\n",
    "{{$input}}\n",
    "Turn the text above into a better and more detailed prompt for DALL-E."
   ]
  },
  {
   "cell_type": "code",
   "execution_count": null,
   "metadata": {
    "dotnet_interactive": {
     "language": "openai(text)"
    },
    "polyglot_notebook": {
     "kernelName": "openai(text)"
    }
   },
   "outputs": [],
   "source": [
    "#!set --name linecount --value 10\n",
    "#!use-skills function.image.make_image_prompt function.image.improve \n",
    "\n",
    "A cat flying a red biplane, in the style of Hiyao Miyazaki."
   ]
  },
  {
   "cell_type": "code",
   "execution_count": null,
   "metadata": {
    "dotnet_interactive": {
     "language": "csharp"
    },
    "polyglot_notebook": {
     "kernelName": "csharp"
    }
   },
   "outputs": [],
   "source": [
    "using Microsoft.DotNet.Interactive;\n",
    "using Microsoft.DotNet.Interactive.Commands;\n",
    "using Microsoft.DotNet.Interactive.Events;\n",
    "\n",
    "var prompts = new List<string>();\n",
    "\n",
    "Kernel.Root.KernelEvents.Subscribe(e =>\n",
    "{\n",
    "    if (e is ReturnValueProduced rvp &&\n",
    "        e.Command.TargetKernelName.Contains(\"openai\") &&\n",
    "        rvp.FormattedValues.SingleOrDefault(v => v.MimeType == \"text/plain\") is { } plainTextValue)\n",
    "    {\n",
    "        prompts.Add(plainTextValue.Value);\n",
    "    }\n",
    "});"
   ]
  },
  {
   "cell_type": "code",
   "execution_count": null,
   "metadata": {
    "dotnet_interactive": {
     "language": "csharp"
    },
    "polyglot_notebook": {
     "kernelName": "csharp"
    }
   },
   "outputs": [],
   "source": [
    "using Microsoft.DotNet.Interactive.OpenAI;\n",
    "\n",
    "var dallEKernel = Kernel.Root.FindKernels(k => k is ImageGenerationKernel).Single();\n",
    "\n",
    "var lastPrompt = prompts.Last().Trim();\n",
    "$\"Sending this prompt to DALL-E: *{lastPrompt}*\".DisplayAs(\"text/markdown\");\n",
    "\n",
    "await dallEKernel.SendAsync(new SubmitCode(lastPrompt));"
   ]
  },
  {
   "attachments": {},
   "cell_type": "markdown",
   "id": "8e27b42e",
   "metadata": {},
   "source": [
    "# 4. Bonus round"
   ]
  },
  {
   "attachments": {},
   "cell_type": "markdown",
   "id": "28f3e8ea",
   "metadata": {},
   "source": [
    "## `#!explain` redux"
   ]
  },
  {
   "cell_type": "code",
   "execution_count": null,
   "metadata": {
    "dotnet_interactive": {
     "language": "csharp"
    },
    "polyglot_notebook": {
     "kernelName": "csharp"
    }
   },
   "outputs": [],
   "source": [
    "using Microsoft.DotNet.Interactive;\n",
    "using Microsoft.DotNet.Interactive.Events;\n",
    "using Microsoft.DotNet.Interactive.Commands;\n",
    "using Microsoft.DotNet.Interactive.OpenAI;\n",
    "using System.CommandLine;\n",
    "\n",
    "var explainMagicCommand = new Command(\"#!explain\");\n",
    "\n",
    "explainMagicCommand.SetHandler(async _ =>\n",
    "{\n",
    "    var context = KernelInvocationContext.Current;\n",
    "    if (context.Command is SubmitCode submitCode)\n",
    "    {\n",
    "        var prompt = $\"\"\"\n",
    "            {submitCode.Code.Replace(\"#!explain\", \"\")}\n",
    "            Explain what the code above does, using dad jokes.\n",
    "            \"\"\";\n",
    "        \n",
    "        await Kernel.Root.FindKernels(k => k is ChatCompletionKernel).Single()\n",
    "                    .SendAsync(new SubmitCode(prompt));\n",
    "\n",
    "        context.Complete(submitCode);\n",
    "    }\n",
    "});\n",
    "\n",
    "Kernel.Root.AddDirective(explainMagicCommand);"
   ]
  },
  {
   "cell_type": "code",
   "execution_count": null,
   "metadata": {
    "dotnet_interactive": {
     "language": "csharp"
    },
    "polyglot_notebook": {
     "kernelName": "csharp"
    }
   },
   "outputs": [],
   "source": [
    "#!explain\n",
    "foreach (var i in Enumerable.Range(1, 10))\n",
    "{\n",
    "    if (i % 2 == 0)\n",
    "    {\n",
    "        Console.WriteLine(i);\n",
    "    }\n",
    "}"
   ]
  },
  {
   "attachments": {},
   "cell_type": "markdown",
   "id": "916d9225",
   "metadata": {},
   "source": [
    "## Comparing models"
   ]
  },
  {
   "cell_type": "code",
   "execution_count": null,
   "id": "9669c88b",
   "metadata": {
    "dotnet_interactive": {
     "language": "openai(text)"
    },
    "polyglot_notebook": {
     "kernelName": "openai(text)"
    }
   },
   "outputs": [],
   "source": [
    "Here are some resturants I would like to eat at in Mexico City between April 27 and May 3. \n",
    "\n",
    "* Maximo Bistro Tencui\n",
    "* Mi Compa Chava Mariscos Contramar\n",
    "* Paramo\n",
    "* Masala y Maiz\n",
    "* Limosneros\n",
    "* Nicos\n",
    "* El Hidalguense\n",
    "\n",
    "Which ones will I not need reservations for?"
   ]
  },
  {
   "cell_type": "code",
   "execution_count": null,
   "id": "9ac2a73c",
   "metadata": {
    "dotnet_interactive": {
     "language": "openai(chat)"
    },
    "polyglot_notebook": {
     "kernelName": "openai(chat)"
    }
   },
   "outputs": [],
   "source": [
    "Here are some resturants I would like to eat at in Mexico City between April 27 and May 3. \n",
    "\n",
    "* Maximo Bistro Tencui\n",
    "* Mi Compa Chava Mariscos Contramar\n",
    "* Paramo\n",
    "* Masala y Maiz\n",
    "* Limosneros\n",
    "* Nicos\n",
    "* El Hidalguense\n",
    "\n",
    "Which ones will I not need reservations for?"
   ]
  },
  {
   "attachments": {},
   "cell_type": "markdown",
   "id": "41148c9f",
   "metadata": {},
   "source": [
    "## Misc."
   ]
  },
  {
   "cell_type": "code",
   "execution_count": null,
   "metadata": {
    "dotnet_interactive": {
     "language": "openai(text)"
    },
    "polyglot_notebook": {
     "kernelName": "openai(text)"
    }
   },
   "outputs": [],
   "source": [
    "#!set --name person --value @input:\"Enter the name of the person you'd like to summarize this text.\"\n",
    "#!use-skills function.writer.stylist\n",
    "\n",
    "What is .NET Interactive?\n",
    "\n",
    "It takes messages, routes them to subkernels, and can format returned data\n",
    "Messages are initiated via a host\n",
    "Subkernels can be a bunch of different languages (including Mermaid)\n",
    "Subkernels can share data\n",
    "Subkernels can be running in different processes or on different machines\n",
    "We’d love your ideas on how we can leverage this for developers\n",
    "\n"
   ]
  },
  {
   "cell_type": "code",
   "execution_count": null,
   "id": "49442740",
   "metadata": {
    "dotnet_interactive": {
     "language": "openai(skill)"
    },
    "polyglot_notebook": {
     "kernelName": "openai(skill)"
    }
   },
   "outputs": [],
   "source": [
    "#!function explainer --skill writer\n",
    "{{$input}} \n",
    "\n",
    "Summarize the text above in the style of Randall Munroe's Thing Explainer, using only words that are amongst the most common 500 english words\n"
   ]
  },
  {
   "cell_type": "code",
   "execution_count": null,
   "metadata": {
    "dotnet_interactive": {
     "language": "openai(skill)"
    },
    "polyglot_notebook": {
     "kernelName": "openai(skill)"
    }
   },
   "outputs": [],
   "source": [
    "#!function detect_intent \n",
    "Intent detection examples start here:\n",
    "Intent: Unknown:\n",
    "    * save\n",
    "    * send\n",
    "Intent: Help:\n",
    "    * How can you help me?\n",
    "    * What can you do?\n",
    "Intent: TellAJoke:\n",
    "    * What's the best joke you know?\n",
    "    * Do you know any joke?\n",
    "    * Tell me a joke\n",
    "    * Tell me something funny\n",
    "Intent: WhatTimeIsIt\n",
    "    * tell me the time please\n",
    "    * time and date please\n",
    "    * what time is it?\n",
    "    * what's the current time?\n",
    "    * is it lunch time yet?\n",
    "    * is it dinner time?\n",
    "== end of examples ==\n",
    "Input: {{$input}}\n",
    "Intent:"
   ]
  },
  {
   "cell_type": "code",
   "execution_count": null,
   "metadata": {
    "dotnet_interactive": {
     "language": "openai(text)"
    },
    "polyglot_notebook": {
     "kernelName": "openai(text)"
    }
   },
   "outputs": [],
   "source": [
    "#!prompt function._GLOBAL_FUNCTIONS_.detect_intent\n",
    "\n",
    "I could really use some help understanding intent detection."
   ]
  },
  {
   "cell_type": "code",
   "execution_count": null,
   "metadata": {
    "dotnet_interactive": {
     "language": "openai(text)"
    },
    "polyglot_notebook": {
     "kernelName": "openai(text)"
    }
   },
   "outputs": [],
   "source": [
    "#!prompt function.writer.explainer\n",
    "\n",
    "Since .NET Interactive is capable of running as a kernel for notebooks, it enables a polyglot (multi-language) notebook experience. When using the .NET Interactive kernel, you can use different languages from one cell to the next, share variables between languages, and dynamically connect new languages and remote kernels within a notebook. There's no need to install different Jupyter kernels, use wrapper libraries, or install different tools to get the best experience for the language of your choice. You can always use the best language for the job and seamlessly transition between different stages of your workflow, all within one notebook.\n",
    "\n",
    "For the best experience when working with multi-language notebooks, we recommend installing the Polyglot Notebooks extension for Visual Studio Code. While the full .NET Interactive feature set is available in Jupyter, many features are only usable via code, whereas the Polyglot Notebooks extension provides additional features including a language/kernel picker for each cell, enhanced language services, a multi-kernel variable viewer, and more."
   ]
  },
  {
   "cell_type": "code",
   "execution_count": null,
   "metadata": {
    "dotnet_interactive": {
     "language": "openai(embedding)"
    },
    "polyglot_notebook": {
     "kernelName": "openai(embedding)"
    }
   },
   "outputs": [],
   "source": [
    "#!openai(embedding) --name fact1\n",
    "\n",
    "My name is Inigo Montoya."
   ]
  },
  {
   "cell_type": "code",
   "execution_count": null,
   "metadata": {
    "dotnet_interactive": {
     "language": "openai(embedding)"
    },
    "polyglot_notebook": {
     "kernelName": "openai(embedding)"
    }
   },
   "outputs": [],
   "source": [
    "#!openai(embedding) --name fact2 \n",
    "\n",
    "You killed my father."
   ]
  },
  {
   "attachments": {},
   "cell_type": "markdown",
   "id": "ba2c9435",
   "metadata": {},
   "source": [
    "## Debugging"
   ]
  },
  {
   "cell_type": "code",
   "execution_count": null,
   "id": "d2c9a4ea",
   "metadata": {
    "dotnet_interactive": {
     "language": "csharp"
    },
    "polyglot_notebook": {
     "kernelName": "csharp"
    }
   },
   "outputs": [],
   "source": [
    "System.Diagnostics.Debugger.Launch();"
   ]
  }
 ],
 "metadata": {
  "kernelInfo": {
   "defaultKernelName": null,
   "items": [
    {
     "aliases": [
      "c#",
      "cs"
     ],
     "languageName": "C#",
     "name": "csharp"
    },
    {
     "aliases": [
      "f#",
      "fs"
     ],
     "languageName": "F#",
     "name": "fsharp"
    },
    {
     "languageName": "HTML",
     "name": "html"
    },
    {
     "languageName": "HTTP",
     "name": "http"
    },
    {
     "aliases": [
      "js"
     ],
     "languageName": "JavaScript",
     "name": "javascript"
    },
    {
     "languageName": "KQL",
     "name": "kql"
    },
    {
     "languageName": "Mermaid",
     "name": "mermaid"
    },
    {
     "aliases": [
      "powershell"
     ],
     "languageName": "PowerShell",
     "name": "pwsh"
    },
    {
     "languageName": "SQL",
     "name": "sql"
    },
    {
     "name": "value"
    }
   ]
  },
  "kernelspec": {
   "display_name": ".NET (C#)",
   "language": "C#",
   "name": ".net-csharp"
  },
  "language_info": {
   "name": "polyglot-notebook"
  },
  "polyglot_notebook": {
   "kernelInfo": {
    "defaultKernelName": "csharp",
    "items": [
     {
      "aliases": [],
      "name": "csharp"
     },
     {
      "aliases": [],
      "languageName": "text",
      "name": "openai(chat)"
     },
     {
      "aliases": [],
      "languageName": "text",
      "name": "openai(embedding)"
     },
     {
      "aliases": [],
      "languageName": "text",
      "name": "openai(image)"
     },
     {
      "aliases": [],
      "languageName": "text",
      "name": "openai(skill)"
     },
     {
      "aliases": [],
      "languageName": "text",
      "name": "openai(text)"
     }
    ]
   }
  }
 },
 "nbformat": 4,
 "nbformat_minor": 5
}
