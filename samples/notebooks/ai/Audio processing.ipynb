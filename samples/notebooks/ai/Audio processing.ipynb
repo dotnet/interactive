{
 "cells": [
  {
   "cell_type": "markdown",
   "metadata": {},
   "source": [
    "# Extracting knowledge from video files\n",
    "\n",
    "This notebooks uses FFMPEG and Whisper to work. Make sure to have `ffmpeg.exe` in teh same folder as this notebook"
   ]
  },
  {
   "cell_type": "markdown",
   "metadata": {},
   "source": [
    "## Load the AI workbench"
   ]
  },
  {
   "cell_type": "code",
   "execution_count": null,
   "metadata": {
    "dotnet_interactive": {
     "language": "csharp"
    },
    "polyglot_notebook": {
     "kernelName": "csharp"
    },
    "vscode": {
     "languageId": "polyglot-notebook"
    }
   },
   "outputs": [],
   "source": [
    "#i \"nuget:https://pkgs.dev.azure.com/dnceng/public/_packaging/dotnet-tools/nuget/v3/index.json\""
   ]
  },
  {
   "cell_type": "code",
   "execution_count": null,
   "metadata": {
    "dotnet_interactive": {
     "language": "csharp"
    },
    "polyglot_notebook": {
     "kernelName": "csharp"
    },
    "vscode": {
     "languageId": "polyglot-notebook"
    }
   },
   "outputs": [],
   "source": [
    "#r \"nuget:Microsoft.DotNet.Interactive.AI, *-*\""
   ]
  },
  {
   "cell_type": "markdown",
   "metadata": {},
   "source": [
    "### only for local builds"
   ]
  },
  {
   "cell_type": "code",
   "execution_count": null,
   "metadata": {
    "dotnet_interactive": {
     "language": "csharp"
    },
    "polyglot_notebook": {
     "kernelName": "csharp"
    },
    "vscode": {
     "languageId": "polyglot-notebook"
    }
   },
   "outputs": [],
   "source": [
    "#r \"nuget:Microsoft.DotNet.Interactive.AI, 1.0.0-beta.23604.2\"\n"
   ]
  },
  {
   "cell_type": "markdown",
   "metadata": {},
   "source": [
    "## Loading Whisper.net"
   ]
  },
  {
   "cell_type": "code",
   "execution_count": null,
   "metadata": {
    "dotnet_interactive": {
     "language": "csharp"
    },
    "polyglot_notebook": {
     "kernelName": "csharp"
    },
    "vscode": {
     "languageId": "polyglot-notebook"
    }
   },
   "outputs": [],
   "source": [
    "#r \"nuget: Whisper.net, 1.4.6\"\n"
   ]
  },
  {
   "cell_type": "code",
   "execution_count": null,
   "metadata": {
    "dotnet_interactive": {
     "language": "csharp"
    },
    "polyglot_notebook": {
     "kernelName": "csharp"
    },
    "vscode": {
     "languageId": "polyglot-notebook"
    }
   },
   "outputs": [],
   "source": [
    "#r \"nuget: Whisper.net.Runtime, 1.4.6\""
   ]
  },
  {
   "cell_type": "markdown",
   "metadata": {},
   "source": [
    "### nasty workaround to get runtimes in the right place. Works only on windows :)"
   ]
  },
  {
   "cell_type": "code",
   "execution_count": null,
   "metadata": {
    "dotnet_interactive": {
     "language": "csharp"
    },
    "polyglot_notebook": {
     "kernelName": "csharp"
    },
    "vscode": {
     "languageId": "polyglot-notebook"
    }
   },
   "outputs": [],
   "source": [
    "using System;\n",
    "using System.IO;\n",
    "using System.Threading.Tasks;\n",
    "using Whisper.net;\n",
    "\n",
    "var whisperLocation = Path.GetDirectoryName(typeof(WhisperFactory).Assembly.Location);\n",
    "var runtimeDirectoty = Directory.CreateDirectory(Path.Combine(whisperLocation, \"runtimes\", \"win-x64\"));\n",
    "var srcRuntimeDicrectory = Path.Combine( new DirectoryInfo( Path.Combine( whisperLocation.Replace(\"whisper.net\", \"whisper.net.runtime\"), \"..\", \"..\")).FullName,\"build\",\"win-x64\");\n",
    "var srcFilePath = Path.Combine(srcRuntimeDicrectory, \"whisper.dll\");\n",
    "// var dstFilePath = Path.Combine(runtimeDirectoty.FullName, \"whisper.dll\");\n",
    "// if(!File.Exists(dstFilePath))\n",
    "// {\n",
    "//     File.Copy(srcFilePath, dstFilePath, true);\n",
    "// }"
   ]
  },
  {
   "cell_type": "markdown",
   "metadata": {},
   "source": [
    "## Process video file and extract audio"
   ]
  },
  {
   "cell_type": "code",
   "execution_count": null,
   "metadata": {
    "dotnet_interactive": {
     "language": "csharp"
    },
    "polyglot_notebook": {
     "kernelName": "csharp"
    },
    "vscode": {
     "languageId": "polyglot-notebook"
    }
   },
   "outputs": [],
   "source": [
    "#r \"nuget: FFMpegCore, 5.1.0\"\n",
    "#r \"nuget: NAudio, 2.1.0\""
   ]
  },
  {
   "cell_type": "markdown",
   "metadata": {},
   "source": [
    "### Get audio from video"
   ]
  },
  {
   "cell_type": "code",
   "execution_count": null,
   "metadata": {
    "dotnet_interactive": {
     "language": "csharp"
    },
    "polyglot_notebook": {
     "kernelName": "csharp"
    },
    "vscode": {
     "languageId": "polyglot-notebook"
    }
   },
   "outputs": [],
   "source": [
    "using FFMpegCore;\n",
    "\n",
    "var videoFile = new FileInfo(@\"C:\\Users\\dicolomb\\OneDrive - Microsoft\\Pictures\\A Deep Dive into Artificial Intelligence_ Microsoft x Our Little Uni_Trim.mp4\");\n",
    "var audioFile = new FileInfo(videoFile.FullName.Replace(videoFile.Extension, \".mp3\"));\n",
    "var wavFile = Path.ChangeExtension(audioFile.FullName, \".wav\");"
   ]
  },
  {
   "cell_type": "code",
   "execution_count": null,
   "metadata": {
    "dotnet_interactive": {
     "language": "csharp"
    },
    "polyglot_notebook": {
     "kernelName": "csharp"
    },
    "vscode": {
     "languageId": "polyglot-notebook"
    }
   },
   "outputs": [],
   "source": [
    "FFMpeg.ExtractAudio(videoFile.FullName, audioFile.FullName);"
   ]
  },
  {
   "cell_type": "markdown",
   "metadata": {},
   "source": [
    "### Convert mp3 to wav file and save to disk"
   ]
  },
  {
   "cell_type": "code",
   "execution_count": null,
   "metadata": {
    "dotnet_interactive": {
     "language": "csharp"
    },
    "polyglot_notebook": {
     "kernelName": "csharp"
    },
    "vscode": {
     "languageId": "polyglot-notebook"
    }
   },
   "outputs": [],
   "source": [
    "using NAudio.Wave.SampleProviders;\n",
    "using NAudio.Wave;\n",
    "\n",
    "var fileStream = File.OpenRead(audioFile.FullName);\n",
    "var wavStream = new MemoryStream();\n",
    "\n",
    "var reader = new Mp3FileReader(fileStream);\n",
    "var resampler = new WdlResamplingSampleProvider(reader.ToSampleProvider(), 16000);\n",
    "WaveFileWriter.WriteWavFileToStream(wavStream, resampler.ToWaveProvider16());\n",
    "wavStream.Seek(0, SeekOrigin.Begin);\n",
    "File.OpenWrite(wavFile).Write(wavStream.ToArray());"
   ]
  },
  {
   "cell_type": "markdown",
   "metadata": {},
   "source": [
    "## now we have a wav filed on disk, lets use whisper to extract data"
   ]
  },
  {
   "cell_type": "markdown",
   "metadata": {},
   "source": [
    "### load model"
   ]
  },
  {
   "cell_type": "code",
   "execution_count": null,
   "metadata": {
    "dotnet_interactive": {
     "language": "csharp"
    },
    "polyglot_notebook": {
     "kernelName": "csharp"
    },
    "vscode": {
     "languageId": "polyglot-notebook"
    }
   },
   "outputs": [],
   "source": [
    "using Whisper.net;\n",
    "using Whisper.net.Ggml;\n",
    "\n",
    "var modelName = \"ggml-base.bin\";\n",
    "if (!File.Exists(modelName))\n",
    "{\n",
    "    using var modelStream = await WhisperGgmlDownloader.GetGgmlModelAsync(GgmlType.Base);\n",
    "    using var fileWriter = File.OpenWrite(modelName);\n",
    "    await modelStream.CopyToAsync(fileWriter);\n",
    "}"
   ]
  },
  {
   "cell_type": "markdown",
   "metadata": {},
   "source": [
    "### start processing"
   ]
  },
  {
   "cell_type": "code",
   "execution_count": null,
   "metadata": {
    "dotnet_interactive": {
     "language": "csharp"
    },
    "polyglot_notebook": {
     "kernelName": "csharp"
    },
    "vscode": {
     "languageId": "polyglot-notebook"
    }
   },
   "outputs": [],
   "source": [
    "var whisperFactory = WhisperFactory.FromPath(\"ggml-base.bin\", libraryPath: srcFilePath);"
   ]
  },
  {
   "cell_type": "code",
   "execution_count": null,
   "metadata": {
    "dotnet_interactive": {
     "language": "csharp"
    },
    "polyglot_notebook": {
     "kernelName": "csharp"
    },
    "vscode": {
     "languageId": "polyglot-notebook"
    }
   },
   "outputs": [],
   "source": [
    "var processor = whisperFactory.CreateBuilder()\n",
    "    .WithLanguage(\"auto\")\n",
    "    .Build();\n",
    "\n",
    "var wavFileStream = File.OpenRead(wavFile);\n",
    "\n",
    "var results = new List<SegmentData>();\n",
    "\n",
    "await foreach(var result in processor.ProcessAsync(wavFileStream))\n",
    "{\n",
    "    results.Add(result);\n",
    "    Console.WriteLine($\"{result.Start}->{result.End}: {result.Text}\");\n",
    "}"
   ]
  },
  {
   "cell_type": "code",
   "execution_count": null,
   "metadata": {
    "dotnet_interactive": {
     "language": "csharp"
    },
    "polyglot_notebook": {
     "kernelName": "csharp"
    },
    "vscode": {
     "languageId": "polyglot-notebook"
    }
   },
   "outputs": [],
   "source": [
    "var filtered = results.Where(r => !r.Text.Contains(\"[BLANK_AUDIO]\")).ToList();"
   ]
  },
  {
   "cell_type": "code",
   "execution_count": null,
   "metadata": {
    "dotnet_interactive": {
     "language": "csharp"
    },
    "polyglot_notebook": {
     "kernelName": "csharp"
    },
    "vscode": {
     "languageId": "polyglot-notebook"
    }
   },
   "outputs": [],
   "source": [
    "filtered.DisplayTable();"
   ]
  }
 ],
 "metadata": {
  "language_info": {
   "name": "csharp"
  },
  "orig_nbformat": 4
 },
 "nbformat": 4,
 "nbformat_minor": 2
}
