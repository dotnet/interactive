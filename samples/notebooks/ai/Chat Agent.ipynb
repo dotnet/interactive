{
 "cells": [
  {
   "cell_type": "code",
   "execution_count": null,
   "id": "a17e3801",
   "metadata": {
    "dotnet_interactive": {
     "language": "csharp"
    },
    "polyglot_notebook": {
     "kernelName": "csharp"
    }
   },
   "outputs": [],
   "source": [
    "#r \"nuget: Microsoft.DotNet.Interactive.AIUtilities, 1.0.0-beta.23562.1\""
   ]
  },
  {
   "cell_type": "code",
   "execution_count": null,
   "metadata": {
    "dotnet_interactive": {
     "language": "csharp"
    },
    "polyglot_notebook": {
     "kernelName": "csharp"
    }
   },
   "outputs": [],
   "source": [
    "#r \"nuget:Microsoft.DotNet.Interactive.AI, 1.0.0-beta.23570.1\"\n"
   ]
  },
  {
   "cell_type": "code",
   "execution_count": null,
   "metadata": {
    "dotnet_interactive": {
     "language": "csharp"
    },
    "polyglot_notebook": {
     "kernelName": "csharp"
    }
   },
   "outputs": [],
   "source": [
    "#!value --name key\n",
    "YOUR AZURE OPEN AI KEY"
   ]
  },
  {
   "cell_type": "code",
   "execution_count": null,
   "metadata": {
    "dotnet_interactive": {
     "language": "csharp"
    },
    "polyglot_notebook": {
     "kernelName": "csharp"
    }
   },
   "outputs": [],
   "source": [
    "#!value --name endpoint\n",
    "https://your-enpoint.openai.azure.com/"
   ]
  },
  {
   "cell_type": "markdown",
   "metadata": {},
   "source": [
    "Note: If your deployment names are different, you will need to change `--deployment` from `text-embedding-ada-002` and `gpt-35-turbo-16k` in the lines below:"
   ]
  },
  {
   "cell_type": "code",
   "execution_count": null,
   "id": "68b78a72",
   "metadata": {
    "dotnet_interactive": {
     "language": "csharp"
    },
    "polyglot_notebook": {
     "kernelName": "csharp"
    }
   },
   "outputs": [],
   "source": [
    "#!connect azure-openai --model-type TextEmbeddingGenerator --kernel-name knowledge --api-key @value:key --endpoint @value:endpoint --deployment text-embedding-ada-002"
   ]
  },
  {
   "cell_type": "code",
   "execution_count": null,
   "metadata": {
    "dotnet_interactive": {
     "language": "csharp"
    },
    "polyglot_notebook": {
     "kernelName": "csharp"
    }
   },
   "outputs": [],
   "source": [
    "#!connect azure-openai --model-type ChatCompletion --kernel-name chat --api-key @value:key --endpoint @value:endpoint --deployment gpt-35-turbo-16k --use-knowledge knowledge"
   ]
  },
  {
   "cell_type": "code",
   "execution_count": null,
   "metadata": {
    "dotnet_interactive": {
     "language": "csharp"
    },
    "polyglot_notebook": {
     "kernelName": "csharp"
    }
   },
   "outputs": [],
   "source": [
    "System.Diagnostics.Debugger.Launch();"
   ]
  },
  {
   "cell_type": "markdown",
   "id": "2289ebae",
   "metadata": {},
   "source": [
    "### we will be using text embeddings and cosine distance similarity to focus the conversation with the agent on the questions the user is about ot submit"
   ]
  },
  {
   "cell_type": "code",
   "execution_count": null,
   "metadata": {
    "dotnet_interactive": {
     "language": "csharp"
    },
    "polyglot_notebook": {
     "kernelName": "csharp"
    }
   },
   "outputs": [],
   "source": [
    "#r \"nuget: Microsoft.ML,  3.0.0-preview.23511.1\""
   ]
  },
  {
   "cell_type": "code",
   "execution_count": null,
   "metadata": {
    "dotnet_interactive": {
     "language": "csharp"
    },
    "polyglot_notebook": {
     "kernelName": "csharp"
    }
   },
   "outputs": [],
   "source": [
    "using Microsoft.ML;\n",
    "using Microsoft.ML.Data;\n",
    "using Microsoft.ML.Trainers;"
   ]
  },
  {
   "cell_type": "markdown",
   "id": "139dfe09",
   "metadata": {},
   "source": [
    "## Focus the conversation\n",
    "\n",
    "At each turn let's filter out irrelevant turns for the question at hand. TextEmbedding ans cosine similarity will help us keep the conversation on track!"
   ]
  },
  {
   "cell_type": "code",
   "execution_count": null,
   "metadata": {
    "dotnet_interactive": {
     "language": "csharp"
    },
    "polyglot_notebook": {
     "kernelName": "csharp"
    }
   },
   "outputs": [],
   "source": [
    "using Microsoft.DotNet.Interactive;\n",
    "using Microsoft.DotNet.Interactive.Commands;\n",
    "using Microsoft.DotNet.Interactive.AI;\n",
    "using Microsoft.DotNet.Interactive.AIUtilities;\n",
    "\n",
    "var chatCompletionKernel = Microsoft.DotNet.Interactive.Kernel.Root.FindKernelByName(\"chat\") as ChatCompletionKernel;\n",
    "var knowledgeKernel = Microsoft.DotNet.Interactive.Kernel.Root.FindKernelByName(\"knowledge\") as KnowledgeKernel;\n",
    "\n",
    "var comparer = new CosineSimilarityComparer<float[]>(f => f);\n",
    "\n",
    "chatCompletionKernel.SetUserTurnFilter(async (turn, userPrompt, token) =>{\n",
    "    var userEmbeddings = await knowledgeKernel.GenerateEmbeddingsAsync(userPrompt, token);\n",
    "    var questionRelevance = comparer.Score(userEmbeddings, turn.QuestionTexEmbedding);\n",
    "    var answerRelevance = comparer.Score(userEmbeddings, turn.AnswerTexEmbedding);\n",
    "    var relevanceThreshold = 0.8;\n",
    "    if (questionRelevance >= relevanceThreshold || answerRelevance >= relevanceThreshold)\n",
    "    {\n",
    "        return true;\n",
    "    }else{\n",
    "        //\"The turn is not relevant to the conversation.\".Display();\n",
    "        //turn.Display();\n",
    "        return false;\n",
    "    }\n",
    "});"
   ]
  },
  {
   "cell_type": "markdown",
   "id": "6d998c0e",
   "metadata": {},
   "source": [
    "## what are we talking about??\n",
    "\n",
    "Let's tap into ML and use K-Means to cluster the chatlog using the text embeddings of each turns!"
   ]
  },
  {
   "cell_type": "code",
   "execution_count": null,
   "metadata": {
    "dotnet_interactive": {
     "language": "csharp"
    },
    "polyglot_notebook": {
     "kernelName": "csharp"
    }
   },
   "outputs": [],
   "source": [
    "public class ModelInput\n",
    "{\n",
    "  public string Text {get;set;}\n",
    "  [VectorType(1536)]\n",
    "  public float[] Embedding {get;set;}\n",
    "}"
   ]
  },
  {
   "cell_type": "code",
   "execution_count": null,
   "metadata": {
    "dotnet_interactive": {
     "language": "csharp"
    },
    "polyglot_notebook": {
     "kernelName": "csharp"
    }
   },
   "outputs": [],
   "source": [
    "IDataView clusteredData = null;\n",
    "ClusteringPredictionTransformer<KMeansModelParameters> model = null;\n",
    "\n",
    "chatCompletionKernel.OnConversationTurnCompleted(( chatLog, toekn) =>\n",
    "{\n",
    "   var embeddings = new List<ModelInput>();\n",
    "   var ctx = new MLContext();\n",
    "   var clusterCount  = Math.Min(20, 2+ (chatLog.Turns.Count / 5));\n",
    "   if(chatLog.Turns.Count < clusterCount)\n",
    "   {\n",
    "      return Task.CompletedTask;\n",
    "   }  \n",
    "   foreach (var turn in chatLog.Turns)\n",
    "   {\n",
    "      switch (turn){\n",
    "       case ChatLog.ChatUserTurn  userTurn:\n",
    "          embeddings.Add(new ModelInput() { Text = userTurn.Question, Embedding = userTurn.QuestionTexEmbedding});\n",
    "          embeddings.Add(new ModelInput() { Text = userTurn.Answer, Embedding = userTurn.AnswerTexEmbedding });\n",
    "          break;\n",
    "          case ChatLog.ChatSystemTurn systemTurn:\n",
    "         // embeddings.Add(new ModelInput() { Text = systemTurn.Prompt, Embedding = systemTurn..AnswerTexEmbedding.AsReadOnlySpan().ToArray() });\n",
    "          break;\n",
    "      }\n",
    "   }\n",
    "   var idv = ctx.Data.LoadFromEnumerable(embeddings);\n",
    "\n",
    "   var pipeline = \n",
    "   ctx.Clustering.Trainers.KMeans(\"Embedding\", numberOfClusters: clusterCount);\n",
    "   model = pipeline.Fit(idv);\n",
    "   clusteredData = model.Transform(idv);\n",
    "   return Task.CompletedTask;\n",
    "});"
   ]
  },
  {
   "cell_type": "markdown",
   "id": "f44c90d8",
   "metadata": {},
   "source": [
    "## Start chatting then!"
   ]
  },
  {
   "cell_type": "code",
   "execution_count": null,
   "metadata": {
    "dotnet_interactive": {
     "language": "chat"
    },
    "polyglot_notebook": {
     "kernelName": "chat"
    }
   },
   "outputs": [],
   "source": [
    "I would like to ask you questions about coding in C#"
   ]
  },
  {
   "cell_type": "code",
   "execution_count": null,
   "metadata": {
    "dotnet_interactive": {
     "language": "chat"
    },
    "polyglot_notebook": {
     "kernelName": "chat"
    }
   },
   "outputs": [],
   "source": [
    "How do I cook a fish?"
   ]
  },
  {
   "cell_type": "code",
   "execution_count": null,
   "metadata": {
    "dotnet_interactive": {
     "language": "chat"
    },
    "polyglot_notebook": {
     "kernelName": "chat"
    }
   },
   "outputs": [],
   "source": [
    "What is a c# class?"
   ]
  },
  {
   "cell_type": "code",
   "execution_count": null,
   "metadata": {
    "dotnet_interactive": {
     "language": "chat"
    },
    "polyglot_notebook": {
     "kernelName": "chat"
    }
   },
   "outputs": [],
   "source": [
    "What is the most common modal scale in heavy metal music?"
   ]
  },
  {
   "cell_type": "code",
   "execution_count": null,
   "metadata": {
    "dotnet_interactive": {
     "language": "chat"
    },
    "polyglot_notebook": {
     "kernelName": "chat"
    }
   },
   "outputs": [],
   "source": [
    "How do I setup my amplifier to play heavy metal guitar riffs?"
   ]
  },
  {
   "cell_type": "code",
   "execution_count": null,
   "metadata": {
    "dotnet_interactive": {
     "language": "chat"
    },
    "polyglot_notebook": {
     "kernelName": "chat"
    }
   },
   "outputs": [],
   "source": [
    "What is the mest way to model embeddings in a relational database?"
   ]
  },
  {
   "cell_type": "code",
   "execution_count": null,
   "metadata": {
    "dotnet_interactive": {
     "language": "chat"
    },
    "polyglot_notebook": {
     "kernelName": "chat"
    }
   },
   "outputs": [],
   "source": [
    "What is a motorbike?"
   ]
  },
  {
   "cell_type": "code",
   "execution_count": null,
   "metadata": {
    "dotnet_interactive": {
     "language": "chat"
    },
    "polyglot_notebook": {
     "kernelName": "chat"
    }
   },
   "outputs": [],
   "source": [
    "Then, what is the best way to represent a motorbike in C# using classes and interfaces? I am thinking of making a motorbike racing game in .NET."
   ]
  },
  {
   "cell_type": "code",
   "execution_count": null,
   "metadata": {
    "dotnet_interactive": {
     "language": "chat"
    },
    "polyglot_notebook": {
     "kernelName": "chat"
    }
   },
   "outputs": [],
   "source": [
    "Show me an example of a class that represents a motorbike using C#, not sure what methods I would need for the game simulation of the bike."
   ]
  },
  {
   "cell_type": "code",
   "execution_count": null,
   "id": "01eec561",
   "metadata": {
    "dotnet_interactive": {
     "language": "csharp"
    },
    "polyglot_notebook": {
     "kernelName": "csharp"
    }
   },
   "outputs": [],
   "source": [
    "clusteredData.Preview().Display();"
   ]
  },
  {
   "cell_type": "markdown",
   "id": "564c0c4e",
   "metadata": {},
   "source": [
    "## Lets find what has been covered in the conversation.\n",
    "Now that we have the `KMean` model we can look at the centroids, they represent the topic that turns had in common. "
   ]
  },
  {
   "cell_type": "code",
   "execution_count": null,
   "metadata": {
    "dotnet_interactive": {
     "language": "csharp"
    },
    "polyglot_notebook": {
     "kernelName": "csharp"
    }
   },
   "outputs": [],
   "source": [
    "VBuffer<float>[] centroids = default;"
   ]
  },
  {
   "cell_type": "code",
   "execution_count": null,
   "metadata": {
    "dotnet_interactive": {
     "language": "csharp"
    },
    "polyglot_notebook": {
     "kernelName": "csharp"
    }
   },
   "outputs": [],
   "source": [
    "model.Model.GetClusterCentroids(ref centroids, out var _);"
   ]
  },
  {
   "cell_type": "code",
   "execution_count": null,
   "metadata": {
    "dotnet_interactive": {
     "language": "csharp"
    },
    "polyglot_notebook": {
     "kernelName": "csharp"
    }
   },
   "outputs": [],
   "source": [
    "centroids.Display();"
   ]
  },
  {
   "cell_type": "markdown",
   "id": "c2d4a9cf",
   "metadata": {},
   "source": [
    "now using `Microsoft.DotNet.Interactive.AIUtilities` and the extension `ScoreBySimilarityTo` we will try to collect the top 3 questions and 3 answer that are very close to each topic."
   ]
  },
  {
   "cell_type": "code",
   "execution_count": null,
   "metadata": {
    "dotnet_interactive": {
     "language": "csharp"
    },
    "polyglot_notebook": {
     "kernelName": "csharp"
    }
   },
   "outputs": [],
   "source": [
    "using Microsoft.DotNet.Interactive.AIUtilities;\n",
    "\n",
    "var log = chatCompletionKernel.ChatLog;\n",
    "\n",
    "var examples = centroids.Select(c => {\n",
    "    var embedding = c.GetValues().ToArray();\n",
    "    var questions = log.Turns\n",
    "        .OfType<ChatLog.ChatUserTurn>()\n",
    "        .ScoreBySimilarityTo(embedding, new CosineSimilarityComparer<float[]>(v => v), turn => turn.QuestionTexEmbedding )\n",
    "        .OrderByDescending(e => e.Value)\n",
    "        .Where(e => e.Value > 0.8)\n",
    "        .Take(3)\n",
    "        .Select(e => e.Key.Question)\n",
    "        .ToArray();\n",
    "\n",
    "    var answers = log.Turns\n",
    "        .OfType<ChatLog.ChatUserTurn>()\n",
    "        .ScoreBySimilarityTo(embedding, new CosineSimilarityComparer<float[]>(v => v), turn => turn.AnswerTexEmbedding )\n",
    "        .OrderByDescending(e => e.Value)\n",
    "        .Where(e => e.Value > 0.8)\n",
    "        .Take(3)\n",
    "        .Select(e => e.Key.Answer)\n",
    "        .ToArray();\n",
    "   return new {\n",
    "        CenstroidEmbedding = embedding,\n",
    "        Text = questions.Concat(answers).ToArray()\n",
    "        };\n",
    "    }\n",
    ").ToArray();\n"
   ]
  },
  {
   "cell_type": "code",
   "execution_count": null,
   "metadata": {
    "dotnet_interactive": {
     "language": "csharp"
    },
    "polyglot_notebook": {
     "kernelName": "csharp"
    }
   },
   "outputs": [],
   "source": [
    "examples.Display();"
   ]
  },
  {
   "cell_type": "markdown",
   "id": "765e148d",
   "metadata": {},
   "source": [
    "Using the `TextCompletion` kernel we will try to generate a label for each centroid using the examples we collected"
   ]
  },
  {
   "cell_type": "code",
   "execution_count": null,
   "metadata": {
    "dotnet_interactive": {
     "language": "csharp"
    },
    "polyglot_notebook": {
     "kernelName": "csharp"
    }
   },
   "outputs": [],
   "source": [
    "var textCompletionKernel = Microsoft.DotNet.Interactive.Kernel.Root.FindKernelByName(\"chat(text)\") as TextCompletionKernel;"
   ]
  },
  {
   "cell_type": "code",
   "execution_count": null,
   "metadata": {
    "dotnet_interactive": {
     "language": "csharp"
    },
    "polyglot_notebook": {
     "kernelName": "csharp"
    }
   },
   "outputs": [],
   "source": [
    "using Microsoft.DotNet.Interactive.Events;\n",
    "public record CentroidLabel(string Label, float[] Embedding);\n",
    "var labels = new List<CentroidLabel>();\n",
    "foreach (var example in examples)\n",
    "{\n",
    "    textCompletionKernel.SetSuppressDisplay(true);\n",
    "    var result = await textCompletionKernel.SendAsync(\n",
    "        new SubmitCode(\n",
    "\"\"\"\n",
    "Give the following conversation examples, please provide a label that classifies the topic being discussed. Return a single respose and that should be a single label, not a list. Thhe label will be used to classify future conversations. make sure not to returl a list, or bulelt points, only a single line response.\n",
    "\n",
    "The response should be in like : \n",
    "\n",
    "Topic : Prorgramming\n",
    "\n",
    "\n",
    "Here are the conversation examples :\n",
    "\n",
    "\"\"\"+ string.Join(\"\\n\", example.Text.Select(t => $\"- {t}\"))\n",
    "));\n",
    "    textCompletionKernel.SetSuppressDisplay(false);\n",
    "    var response = result.Events.OfType<ReturnValueProduced>().Last().FormattedValues.First(fm => fm.MimeType == \"text/plain\").Value;\n",
    "    labels.Add(new CentroidLabel(response, example.CenstroidEmbedding));\n",
    "}"
   ]
  },
  {
   "cell_type": "markdown",
   "id": "98f1c2d7",
   "metadata": {},
   "source": [
    "And this is the resul!"
   ]
  },
  {
   "cell_type": "code",
   "execution_count": null,
   "metadata": {
    "dotnet_interactive": {
     "language": "csharp"
    },
    "polyglot_notebook": {
     "kernelName": "csharp"
    }
   },
   "outputs": [],
   "source": [
    "labels.Display();"
   ]
  },
  {
   "cell_type": "code",
   "execution_count": null,
   "metadata": {
    "dotnet_interactive": {
     "language": "csharp"
    },
    "polyglot_notebook": {
     "kernelName": "csharp"
    }
   },
   "outputs": [],
   "source": [
    "chatCompletionKernel.ResetChatLog();"
   ]
  }
 ],
 "metadata": {
  "kernelInfo": {
   "defaultKernelName": null,
   "items": [
    {
     "aliases": [
      "c#",
      "cs"
     ],
     "languageName": "C#",
     "name": "csharp"
    },
    {
     "aliases": [
      "f#",
      "fs"
     ],
     "languageName": "F#",
     "name": "fsharp"
    },
    {
     "languageName": "HTML",
     "name": "html"
    },
    {
     "languageName": "HTTP",
     "name": "http"
    },
    {
     "aliases": [
      "js"
     ],
     "languageName": "JavaScript",
     "name": "javascript"
    },
    {
     "languageName": "KQL",
     "name": "kql"
    },
    {
     "languageName": "Mermaid",
     "name": "mermaid"
    },
    {
     "aliases": [
      "powershell"
     ],
     "languageName": "PowerShell",
     "name": "pwsh"
    },
    {
     "languageName": "SQL",
     "name": "sql"
    },
    {
     "name": "value"
    }
   ]
  },
  "kernelspec": {
   "display_name": ".NET (C#)",
   "language": "C#",
   "name": ".net-csharp"
  },
  "language_info": {
   "name": "polyglot-notebook"
  },
  "polyglot_notebook": {
   "kernelInfo": {
    "defaultKernelName": "csharp",
    "items": [
     {
      "aliases": [],
      "languageName": "text",
      "name": "chat"
     },
     {
      "aliases": [],
      "languageName": "semantic-kernel.skprompt",
      "name": "chat(skill)"
     },
     {
      "aliases": [],
      "languageName": "text",
      "name": "chat(text)"
     },
     {
      "aliases": [],
      "name": "csharp"
     },
     {
      "aliases": [],
      "languageName": "text",
      "name": "knowledge"
     },
     {
      "aliases": [],
      "languageName": "SQL",
      "name": "knowledge(duckDbVectorRAW)"
     },
     {
      "aliases": [],
      "languageName": "text",
      "name": "openai-old(image)"
     },
     {
      "aliases": [],
      "languageName": "text",
      "name": "openai(chat)"
     },
     {
      "aliases": [],
      "languageName": "SQL",
      "name": "openai(duckDb)"
     },
     {
      "aliases": [],
      "languageName": "SQL",
      "name": "openai(duckDbVectorRAW)"
     },
     {
      "aliases": [],
      "languageName": "text",
      "name": "openai(image)"
     },
     {
      "aliases": [],
      "languageName": "text",
      "name": "openai(knowledge)"
     },
     {
      "aliases": [],
      "languageName": "semantic-kernel.skprompt",
      "name": "openai(skill)"
     },
     {
      "aliases": [],
      "languageName": "text",
      "name": "openai(text-gpt)"
     },
     {
      "aliases": [],
      "languageName": "text",
      "name": "openai(text)"
     },
     {
      "aliases": [],
      "languageName": "semantic-kernel.skprompt",
      "name": "openaicode(skill)"
     },
     {
      "aliases": [],
      "languageName": "text",
      "name": "openaicode(text)"
     }
    ]
   }
  }
 },
 "nbformat": 4,
 "nbformat_minor": 5
}
