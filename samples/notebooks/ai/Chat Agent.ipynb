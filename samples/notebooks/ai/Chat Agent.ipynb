{
 "cells": [
  {
   "cell_type": "code",
   "execution_count": null,
   "id": "a17e3801",
   "metadata": {
    "dotnet_interactive": {
     "language": "csharp"
    },
    "polyglot_notebook": {
     "kernelName": "csharp"
    }
   },
   "outputs": [],
   "source": [
    "#r \"nuget:Microsoft.DotNet.Interactive.AI, *-*\""
   ]
  },
  {
   "cell_type": "code",
   "execution_count": 3,
   "metadata": {
    "dotnet_interactive": {
     "language": "csharp"
    },
    "polyglot_notebook": {
     "kernelName": "csharp"
    }
   },
   "outputs": [],
   "source": [
    "#!value --name key\n",
    "YOUR AZURE OPEN AI KEY"
   ]
  },
  {
   "cell_type": "code",
   "execution_count": 4,
   "metadata": {
    "dotnet_interactive": {
     "language": "csharp"
    },
    "polyglot_notebook": {
     "kernelName": "csharp"
    }
   },
   "outputs": [],
   "source": [
    "#!value --name endpoint\n",
    "https://your-enpoint.openai.azure.com/"
   ]
  },
  {
   "cell_type": "code",
   "execution_count": 5,
   "id": "68b78a72",
   "metadata": {
    "dotnet_interactive": {
     "language": "csharp"
    },
    "polyglot_notebook": {
     "kernelName": "csharp"
    }
   },
   "outputs": [
    {
     "data": {
      "text/plain": [
       "Kernel added: #!knowledge(duckDbVectorRAW)"
      ]
     },
     "metadata": {},
     "output_type": "display_data"
    },
    {
     "data": {
      "text/plain": [
       "Kernel added: #!knowledge(duckDbVector)"
      ]
     },
     "metadata": {},
     "output_type": "display_data"
    },
    {
     "data": {
      "text/plain": [
       "Kernel added: #!knowledge"
      ]
     },
     "metadata": {},
     "output_type": "display_data"
    }
   ],
   "source": [
    "#!connect azure-openai --model-type TextEmbeddingGenerator --kernel-name knowledge --api-key @value:key --endpoint @value:endpoint --deployment text-embedding-ada-002"
   ]
  },
  {
   "cell_type": "code",
   "execution_count": 6,
   "metadata": {
    "dotnet_interactive": {
     "language": "csharp"
    },
    "polyglot_notebook": {
     "kernelName": "csharp"
    }
   },
   "outputs": [
    {
     "data": {
      "text/plain": [
       "Kernel added: #!chat(skill)"
      ]
     },
     "metadata": {},
     "output_type": "display_data"
    },
    {
     "data": {
      "text/plain": [
       "Kernel added: #!chat(text)"
      ]
     },
     "metadata": {},
     "output_type": "display_data"
    },
    {
     "data": {
      "text/plain": [
       "Kernel added: #!chat"
      ]
     },
     "metadata": {},
     "output_type": "display_data"
    }
   ],
   "source": [
    "#!connect azure-openai --model-type ChatCompletion --kernel-name chat --api-key @value:key --endpoint @value:endpoint --deployment gtp-35-turbo --use-knowledge knowledge"
   ]
  },
  {
   "cell_type": "markdown",
   "id": "2289ebae",
   "metadata": {},
   "source": [
    "### we will be using text embeddings and cosine distance similarity to focus the conversation with the agent on the questions the user is about ot submit"
   ]
  },
  {
   "cell_type": "code",
   "execution_count": 7,
   "metadata": {
    "dotnet_interactive": {
     "language": "csharp"
    },
    "polyglot_notebook": {
     "kernelName": "csharp"
    }
   },
   "outputs": [
    {
     "data": {
      "text/html": [
       "<div><div><strong>Restore sources</strong><ul><li><span>https://pkgs.dev.azure.com/dnceng/public/_packaging/dotnet-tools/nuget/v3/index.json</span></li></ul></div><div></div><div><strong>Installed Packages</strong><ul><li><span>Microsoft.ML, 3.0.0-preview.23511.1</span></li></ul></div></div>"
      ]
     },
     "metadata": {},
     "output_type": "display_data"
    }
   ],
   "source": [
    "#r \"nuget: Microsoft.ML,  3.0.0-preview.23511.1\""
   ]
  },
  {
   "cell_type": "code",
   "execution_count": 8,
   "metadata": {
    "dotnet_interactive": {
     "language": "csharp"
    },
    "polyglot_notebook": {
     "kernelName": "csharp"
    }
   },
   "outputs": [],
   "source": [
    "using Microsoft.ML;\n",
    "using Microsoft.ML.Data;\n",
    "using Microsoft.ML.Trainers;"
   ]
  },
  {
   "cell_type": "markdown",
   "id": "139dfe09",
   "metadata": {},
   "source": [
    "## Focus the conversation\n",
    "\n",
    "At each turn let's filter out irrelevant turns for the question at hand. TextEmbedding ans cosine similarity will help us keep the conversation on track!"
   ]
  },
  {
   "cell_type": "code",
   "execution_count": 9,
   "metadata": {
    "dotnet_interactive": {
     "language": "csharp"
    },
    "polyglot_notebook": {
     "kernelName": "csharp"
    }
   },
   "outputs": [],
   "source": [
    "using Microsoft.DotNet.Interactive;\n",
    "using Microsoft.DotNet.Interactive.Commands;\n",
    "using Microsoft.DotNet.Interactive.AI;\n",
    "using Microsoft.SemanticKernel;\n",
    "using Microsoft.SemanticKernel.AI.ChatCompletion;\n",
    "using Microsoft.SemanticKernel.Connectors.AI.OpenAI.Tokenizers;\n",
    "using Microsoft.SemanticKernel.Skills.Core;\n",
    "using Microsoft.SemanticKernel.AI.Embeddings;\n",
    "using Microsoft.SemanticKernel.AI.Embeddings.VectorOperations;\n",
    "\n",
    "var chatCompletionKernel = Microsoft.DotNet.Interactive.Kernel.Root.FindKernelByName(\"chat\") as ChatCompletionKernel;\n",
    "var knowledgeKernel = Microsoft.DotNet.Interactive.Kernel.Root.FindKernelByName(\"knowledge\") as KnowledgeKernel;\n",
    "\n",
    "chatCompletionKernel.SetUserTurnFilter(async (turn, userPrompt, token) =>{\n",
    "    var userEmbeddings = await knowledgeKernel.GenerateEmbeddingsAsync(userPrompt, token);\n",
    "    var questionRelevance = userEmbeddings\n",
    "                    .CosineSimilarity(turn.QuestionTexEmbedding);\n",
    "    var answerRelevance = userEmbeddings\n",
    "                    .CosineSimilarity(turn.AnswerTexEmbedding);\n",
    "    var relevanceThreshold = 0.8;\n",
    "    if (questionRelevance >= relevanceThreshold || answerRelevance >= relevanceThreshold)\n",
    "    {\n",
    "        return true;\n",
    "    }else{\n",
    "        //\"The turn is not relevant to the conversation.\".Display();\n",
    "        //turn.Display();\n",
    "        return false;\n",
    "    }\n",
    "});"
   ]
  },
  {
   "cell_type": "markdown",
   "id": "6d998c0e",
   "metadata": {},
   "source": [
    "## what are we talking about??\n",
    "\n",
    "Let's tap into ML and use K-Means to cluster the chatlog using the text embeddings of each turns!"
   ]
  },
  {
   "cell_type": "code",
   "execution_count": 10,
   "metadata": {
    "dotnet_interactive": {
     "language": "csharp"
    },
    "polyglot_notebook": {
     "kernelName": "csharp"
    }
   },
   "outputs": [],
   "source": [
    "public class ModelInput\n",
    "{\n",
    "  public string Text {get;set;}\n",
    "  [VectorType(1536)]\n",
    "  public float[] Embedding {get;set;}\n",
    "}"
   ]
  },
  {
   "cell_type": "code",
   "execution_count": 11,
   "metadata": {
    "dotnet_interactive": {
     "language": "csharp"
    },
    "polyglot_notebook": {
     "kernelName": "csharp"
    }
   },
   "outputs": [],
   "source": [
    "IDataView clusteredData = null;\n",
    "ClusteringPredictionTransformer<KMeansModelParameters> model = null;\n",
    "\n",
    "chatCompletionKernel.OnConversationTurnCompleted(( chatLog, toekn) =>\n",
    "{\n",
    "   var embeddings = new List<ModelInput>();\n",
    "   var ctx = new MLContext();\n",
    "   var clusterCount  = Math.Min(20, 2+ (chatLog.Turns.Count / 5));\n",
    "   if(chatLog.Turns.Count < clusterCount)\n",
    "   {\n",
    "      return Task.CompletedTask;\n",
    "   }  \n",
    "   foreach (var turn in chatLog.Turns)\n",
    "   {\n",
    "      switch (turn){\n",
    "       case ChatLog.ChatUserTurn  userTurn:\n",
    "          embeddings.Add(new ModelInput() { Text = userTurn.Question, Embedding = userTurn.QuestionTexEmbedding});\n",
    "          embeddings.Add(new ModelInput() { Text = userTurn.Answer, Embedding = userTurn.AnswerTexEmbedding });\n",
    "          break;\n",
    "          case ChatLog.ChatSystemTurn systemTurn:\n",
    "         // embeddings.Add(new ModelInput() { Text = systemTurn.Prompt, Embedding = systemTurn..AnswerTexEmbedding.AsReadOnlySpan().ToArray() });\n",
    "          break;\n",
    "      }\n",
    "   }\n",
    "   var idv = ctx.Data.LoadFromEnumerable(embeddings);\n",
    "\n",
    "   var pipeline = \n",
    "   ctx.Clustering.Trainers.KMeans(\"Embedding\", numberOfClusters: clusterCount);\n",
    "   model = pipeline.Fit(idv);\n",
    "   clusteredData = model.Transform(idv);\n",
    "   return Task.CompletedTask;\n",
    "});"
   ]
  },
  {
   "cell_type": "markdown",
   "id": "f44c90d8",
   "metadata": {},
   "source": [
    "## Start chatting then!"
   ]
  },
  {
   "cell_type": "code",
   "execution_count": 12,
   "metadata": {
    "dotnet_interactive": {
     "language": "chat"
    },
    "polyglot_notebook": {
     "kernelName": "chat"
    }
   },
   "outputs": [
    {
     "data": {
      "text/plain": [
       "Sure, I'll do my best to answer your questions about coding in C#. What would you like to know?"
      ]
     },
     "metadata": {},
     "output_type": "display_data"
    }
   ],
   "source": [
    "I would like to ask you questions about coding in C#"
   ]
  },
  {
   "cell_type": "code",
   "execution_count": 13,
   "metadata": {
    "dotnet_interactive": {
     "language": "chat"
    },
    "polyglot_notebook": {
     "kernelName": "chat"
    }
   },
   "outputs": [
    {
     "data": {
      "text/plain": [
       "As an AI language model, I don't eat or cook food, but here are some general steps to cook a fish:\n",
       "\n",
       "1. Clean the fish thoroughly, removing scales, guts, and other unwanted parts.\n",
       "2. Season the fish with salt, pepper, and any other desired spices or herbs.\n",
       "3. Heat a pan or grill to medium-high heat.\n",
       "4. Add oil or butter to the pan or grill.\n",
       "5. Place the fish on the pan or grill, skin-side down if applicable.\n",
       "6. Cook the fish for 3-5 minutes on each side, or until the flesh is opaque and flakes easily with a fork.\n",
       "7. Serve the fish with your desired sides and garnishes."
      ]
     },
     "metadata": {},
     "output_type": "display_data"
    }
   ],
   "source": [
    "How do I cook a fish?"
   ]
  },
  {
   "cell_type": "code",
   "execution_count": 14,
   "metadata": {
    "dotnet_interactive": {
     "language": "chat"
    },
    "polyglot_notebook": {
     "kernelName": "chat"
    }
   },
   "outputs": [
    {
     "data": {
      "text/plain": [
       "In C#, a class is a blueprint or a template for creating objects that share common properties, methods, and events. It defines the structure and behavior of an object, including its data members (fields) and member functions (methods). \n",
       "\n",
       "A class can be thought of as a user-defined data type that encapsulates data and behavior. It provides a way to organize and modularize code, making it easier to maintain and reuse. \n",
       "\n",
       "For example, if you were creating a program to manage a library, you might define a class called \"Book\" that contains properties such as \"Title\", \"Author\", and \"ISBN\", as well as methods for checking out and returning books. You could then create multiple instances of the \"Book\" class to represent different books in the library."
      ]
     },
     "metadata": {},
     "output_type": "display_data"
    }
   ],
   "source": [
    "What is a c# class?"
   ]
  },
  {
   "cell_type": "code",
   "execution_count": 15,
   "metadata": {
    "dotnet_interactive": {
     "language": "chat"
    },
    "polyglot_notebook": {
     "kernelName": "chat"
    }
   },
   "outputs": [
    {
     "data": {
      "text/plain": [
       "The most common modal scale in heavy metal music is the Phrygian mode."
      ]
     },
     "metadata": {},
     "output_type": "display_data"
    }
   ],
   "source": [
    "What is the most common modal scale in heavy metal music?"
   ]
  },
  {
   "cell_type": "code",
   "execution_count": 16,
   "metadata": {
    "dotnet_interactive": {
     "language": "chat"
    },
    "polyglot_notebook": {
     "kernelName": "chat"
    }
   },
   "outputs": [
    {
     "data": {
      "text/plain": [
       "To set up your amplifier to play heavy metal guitar riffs, follow these steps:\n",
       "\n",
       "1. Start by selecting a high-gain channel on your amplifier. This will give you the distortion and overdrive necessary for heavy metal riffs.\n",
       "\n",
       "2. Adjust the gain knob to your desired level. For heavy metal, you'll want a high gain setting to get that crunchy, distorted sound.\n",
       "\n",
       "3. Adjust the bass, mid, and treble knobs to your liking. For heavy metal, you'll typically want to boost the bass and treble while cutting the mids to get a more aggressive sound.\n",
       "\n",
       "4. If your amplifier has a presence knob, adjust it to add more clarity and definition to your sound.\n",
       "\n",
       "5. Experiment with the volume and master volume knobs to find the right balance between volume and distortion.\n",
       "\n",
       "6. Finally, consider adding some effects like delay, reverb, or chorus to enhance your sound and add depth to your riffs.\n",
       "\n",
       "Remember, the settings that work best for heavy metal guitar riffs will depend on your personal preferences and the specific equipment you're using. Don't be afraid to experiment and try different settings until you find the sound that works best for you."
      ]
     },
     "metadata": {},
     "output_type": "display_data"
    }
   ],
   "source": [
    "How do I setup my amplifier to play heavy metal guitar riffs?"
   ]
  },
  {
   "cell_type": "code",
   "execution_count": 29,
   "metadata": {
    "dotnet_interactive": {
     "language": "chat"
    },
    "polyglot_notebook": {
     "kernelName": "chat"
    }
   },
   "outputs": [
    {
     "data": {
      "text/plain": [
       "There are several ways to model embeddings in a relational database, but one common approach is to use a table with columns for each dimension of the embedding. For example, if the embedding has 100 dimensions, the table would have 100 columns. Each row in the table would represent an entity or object that has an embedding, and the values in the columns would represent the values of the embedding dimensions for that entity.\n",
       "\n",
       "Another approach is to use a separate table for each dimension of the embedding, with each table containing a single column for the values of that dimension. This approach can be more flexible and scalable, as it allows for adding or removing dimensions without having to modify the main table. However, it can also be more complex to query and join the data from multiple tables.\n",
       "\n",
       "Ultimately, the best way to model embeddings in a relational database depends on the specific requirements and constraints of the application, as well as the size and complexity of the embeddings and the data set."
      ]
     },
     "metadata": {},
     "output_type": "display_data"
    }
   ],
   "source": [
    "What is the mest way to model embeddings in a relational database?"
   ]
  },
  {
   "cell_type": "code",
   "execution_count": 30,
   "metadata": {
    "dotnet_interactive": {
     "language": "chat"
    },
    "polyglot_notebook": {
     "kernelName": "chat"
    }
   },
   "outputs": [
    {
     "data": {
      "text/plain": [
       "A motorbike, also known as a motorcycle or bike, is a two-wheeled vehicle powered by an engine. It typically has a seat for the rider, handlebars for steering, and footrests for the rider's feet. Motorbikes come in various sizes and styles, including sport bikes, cruisers, touring bikes, and dirt bikes. They are commonly used for transportation, recreation, and racing."
      ]
     },
     "metadata": {},
     "output_type": "display_data"
    }
   ],
   "source": [
    "What is a motorbike?"
   ]
  },
  {
   "cell_type": "code",
   "execution_count": 34,
   "metadata": {
    "dotnet_interactive": {
     "language": "chat"
    },
    "polyglot_notebook": {
     "kernelName": "chat"
    }
   },
   "outputs": [
    {
     "data": {
      "text/plain": [
       "If you are making a motorbike racing game in .NET, the best way to represent a motorbike in C# using classes and interfaces would be to create a base class for the motorbike and then create derived classes for each specific type of motorbike. Here's an example:\n",
       "\n",
       "```\n",
       "public abstract class Motorbike\n",
       "{\n",
       "    // Fields\n",
       "    protected string make;\n",
       "    protected string model;\n",
       "    protected int year;\n",
       "    protected float engineSize;\n",
       "    protected bool isRunning;\n",
       "    protected float speed;\n",
       "    protected float acceleration;\n",
       "    protected float braking;\n",
       "\n",
       "    // Constructor\n",
       "    public Motorbike(string make, string model, int year, float engineSize, float acceleration, float braking)\n",
       "    {\n",
       "        this.make = make;\n",
       "        this.model = model;\n",
       "        this.year = year;\n",
       "        this.engineSize = engineSize;\n",
       "        this.isRunning = false;\n",
       "        this.speed = 0f;\n",
       "        this.acceleration = acceleration;\n",
       "        this.braking = braking;\n",
       "    }\n",
       "\n",
       "    // Properties\n",
       "    public string Make\n",
       "    {\n",
       "        get { return make; }\n",
       "        set { make = value; }\n",
       "    }\n",
       "\n",
       "    public string Model\n",
       "    {\n",
       "        get { return model; }\n",
       "        set { model = value; }\n",
       "    }\n",
       "\n",
       "    public int Year\n",
       "    {\n",
       "        get { return year; }\n",
       "        set { year = value; }\n",
       "    }\n",
       "\n",
       "    public float EngineSize\n",
       "    {\n",
       "        get { return engineSize; }\n",
       "        set { engineSize = value; }\n",
       "    }\n",
       "\n",
       "    public bool IsRunning\n",
       "    {\n",
       "        get { return isRunning; }\n",
       "    }\n",
       "\n",
       "    public float Speed\n",
       "    {\n",
       "        get { return speed; }\n",
       "    }\n",
       "\n",
       "    public float Acceleration\n",
       "    {\n",
       "        get { return acceleration; }\n",
       "        set { acceleration = value; }\n",
       "    }\n",
       "\n",
       "    public float Braking\n",
       "    {\n",
       "        get { return braking; }\n",
       "        set { braking = value; }\n",
       "    }\n",
       "\n",
       "    // Methods\n",
       "    public virtual void Start()\n",
       "    {\n",
       "        isRunning = true;\n",
       "        Console.WriteLine(\"The {0} {1} has started.\", make, model);\n",
       "    }\n",
       "\n",
       "    public virtual void Stop()\n",
       "    {\n",
       "        isRunning = false;\n",
       "        Console.WriteLine(\"The {0} {1} has stopped.\", make, model);\n",
       "    }\n",
       "\n",
       "    public abstract void Accelerate();\n",
       "\n",
       "    public abstract void Brake();\n",
       "}\n",
       "\n",
       "public class SportBike : Motorbike\n",
       "{\n",
       "    // Constructor\n",
       "    public SportBike(string make, string model, int year, float engineSize, float acceleration, float braking) : base(make, model, year, engineSize, acceleration, braking)\n",
       "    {\n",
       "    }\n",
       "\n",
       "    // Methods\n",
       "    public override void Accelerate()\n",
       "    {\n",
       "        if (isRunning)\n",
       "        {\n",
       "            speed += acceleration;\n",
       "            Console.WriteLine(\"The {0} {1} is accelerating quickly. Current speed: {2} mph\", make, model, speed);\n",
       "        }\n",
       "        else\n",
       "        {\n",
       "            Console.WriteLine(\"The {0} {1} is not running.\", make, model);\n",
       "        }\n",
       "    }\n",
       "\n",
       "    public override void Brake()\n",
       "    {\n",
       "        if (isRunning)\n",
       "        {\n",
       "            speed -= braking;\n",
       "            Console.WriteLine(\"The {0} {1} is braking quickly. Current speed: {2} mph\", make, model, speed);\n",
       "        }\n",
       "        else\n",
       "        {\n",
       "            Console.WriteLine(\"The {0} {1} is not running.\", make, model);\n",
       "        }\n",
       "    }\n",
       "}\n",
       "\n",
       "public class Cruiser : Motorbike\n",
       "{\n",
       "    // Constructor\n",
       "    public Cruiser(string make, string model, int year, float engineSize, float acceleration, float braking) : base(make, model, year, engineSize, acceleration, braking)\n",
       "    {\n",
       "    }\n",
       "\n",
       "    // Methods\n",
       "    public override void Accelerate()\n",
       "    {\n",
       "        if (isRunning)\n",
       "        {\n",
       "            speed += acceleration;\n",
       "            Console.WriteLine(\"The {0} {1} is accelerating smoothly. Current speed: {2} mph\", make, model, speed);\n",
       "        }\n",
       "        else\n",
       "        {\n",
       "            Console.WriteLine(\"The {0} {1} is not running.\", make, model);\n",
       "        }\n",
       "    }\n",
       "\n",
       "    public override void Brake()\n",
       "    {\n",
       "        if (isRunning)\n",
       "        {\n",
       "            speed -= braking;\n",
       "            Console.WriteLine(\"The {0} {1} is braking smoothly. Current speed: {2} mph\", make, model, speed);\n",
       "        }\n",
       "        else\n",
       "        {\n",
       "            Console.WriteLine(\"The {0} {1} is not running.\", make, model);\n",
       "        }\n",
       "    }\n",
       "}\n",
       "\n",
       "public interface IMotorbike\n",
       "{\n",
       "    void Start();\n",
       "    void Stop();\n",
       "    void Accelerate();\n",
       "    void Brake();\n",
       "}\n",
       "```\n",
       "\n",
       "In this example, the `Motorbike` class is an abstract base class that defines the common fields and methods for all types of motorbikes. The `SportBike` and `Cruiser` classes are derived classes that inherit from the `Motorbike` class and implement the `Accelerate` and `Brake` methods in their own specific ways. \n",
       "\n",
       "Additionally, the `Motorbike` class has fields for speed, acceleration, and braking, which are used to simulate the movement and physics of the motorbike in the racing game. \n",
       "\n",
       "Using this approach, you can easily add new types of motorbikes by creating new derived classes that inherit from the `Motorbike` class and implement their own unique behavior. Additionally, you can use interfaces to define common behavior for all motorbikes, such as `IMotorbike` interface that defines methods for starting, stopping, accelerating, and braking."
      ]
     },
     "metadata": {},
     "output_type": "display_data"
    }
   ],
   "source": [
    "Then, what is the best way to represent a motorbike in C# using classes and interfaces? I am thinking of making a motorbike racing game in .NET."
   ]
  },
  {
   "cell_type": "code",
   "execution_count": 35,
   "metadata": {
    "dotnet_interactive": {
     "language": "chat"
    },
    "polyglot_notebook": {
     "kernelName": "chat"
    }
   },
   "outputs": [
    {
     "data": {
      "text/plain": [
       "Sure, here's an example of a class that represents a motorbike using C#:\n",
       "\n",
       "```\n",
       "public class Motorbike\n",
       "{\n",
       "    // Fields\n",
       "    private string make;\n",
       "    private string model;\n",
       "    private int year;\n",
       "    private float engineSize;\n",
       "    private bool isRunning;\n",
       "    private float speed;\n",
       "    private float acceleration;\n",
       "    private float braking;\n",
       "\n",
       "    // Constructor\n",
       "    public Motorbike(string make, string model, int year, float engineSize, float acceleration, float braking)\n",
       "    {\n",
       "        this.make = make;\n",
       "        this.model = model;\n",
       "        this.year = year;\n",
       "        this.engineSize = engineSize;\n",
       "        this.isRunning = false;\n",
       "        this.speed = 0f;\n",
       "        this.acceleration = acceleration;\n",
       "        this.braking = braking;\n",
       "    }\n",
       "\n",
       "    // Properties\n",
       "    public string Make\n",
       "    {\n",
       "        get { return make; }\n",
       "        set { make = value; }\n",
       "    }\n",
       "\n",
       "    public string Model\n",
       "    {\n",
       "        get { return model; }\n",
       "        set { model = value; }\n",
       "    }\n",
       "\n",
       "    public int Year\n",
       "    {\n",
       "        get { return year; }\n",
       "        set { year = value; }\n",
       "    }\n",
       "\n",
       "    public float EngineSize\n",
       "    {\n",
       "        get { return engineSize; }\n",
       "        set { engineSize = value; }\n",
       "    }\n",
       "\n",
       "    public bool IsRunning\n",
       "    {\n",
       "        get { return isRunning; }\n",
       "    }\n",
       "\n",
       "    public float Speed\n",
       "    {\n",
       "        get { return speed; }\n",
       "    }\n",
       "\n",
       "    public float Acceleration\n",
       "    {\n",
       "        get { return acceleration; }\n",
       "        set { acceleration = value; }\n",
       "    }\n",
       "\n",
       "    public float Braking\n",
       "    {\n",
       "        get { return braking; }\n",
       "        set { braking = value; }\n",
       "    }\n",
       "\n",
       "    // Methods\n",
       "    public void Start()\n",
       "    {\n",
       "        isRunning = true;\n",
       "        Console.WriteLine(\"The {0} {1} has started.\", make, model);\n",
       "    }\n",
       "\n",
       "    public void Stop()\n",
       "    {\n",
       "        isRunning = false;\n",
       "        Console.WriteLine(\"The {0} {1} has stopped.\", make, model);\n",
       "    }\n",
       "\n",
       "    public void Accelerate()\n",
       "    {\n",
       "        if (isRunning)\n",
       "        {\n",
       "            speed += acceleration;\n",
       "            Console.WriteLine(\"The {0} {1} is accelerating. Current speed: {2} mph\", make, model, speed);\n",
       "        }\n",
       "        else\n",
       "        {\n",
       "            Console.WriteLine(\"The {0} {1} is not running.\", make, model);\n",
       "        }\n",
       "    }\n",
       "\n",
       "    public void Brake()\n",
       "    {\n",
       "        if (isRunning)\n",
       "        {\n",
       "            speed -= braking;\n",
       "            Console.WriteLine(\"The {0} {1} is braking. Current speed: {2} mph\", make, model, speed);\n",
       "        }\n",
       "        else\n",
       "        {\n",
       "            Console.WriteLine(\"The {0} {1} is not running.\", make, model);\n",
       "        }\n",
       "    }\n",
       "}\n",
       "```\n",
       "\n",
       "In this example, the `Motorbike` class has fields for make, model, year, engine size, acceleration, and braking, which are used to simulate the movement and physics of the motorbike in the game. \n",
       "\n",
       "The class also has methods for starting, stopping, accelerating, and braking the motorbike, which are essential for simulating the motorbike's movement in the game. \n",
       "\n",
       "Using this class as a base, you can create derived classes for specific types of motorbikes, such as sport bikes, cruisers, and dirt bikes, and implement their own unique behavior and physics."
      ]
     },
     "metadata": {},
     "output_type": "display_data"
    }
   ],
   "source": [
    "Show me an example of a class that represents a motorbike using C#, not sure what methods I would need for the game simulation of the bike."
   ]
  },
  {
   "cell_type": "code",
   "execution_count": 36,
   "id": "01eec561",
   "metadata": {
    "dotnet_interactive": {
     "language": "csharp"
    },
    "polyglot_notebook": {
     "kernelName": "csharp"
    }
   },
   "outputs": [
    {
     "data": {
      "text/html": [
       "<details open=\"open\" class=\"dni-treeview\"><summary><span class=\"dni-code-hint\"><code>4 columns, 32 rows</code></span></summary><div><table><thead><tr></tr></thead><tbody><tr><td>Schema</td><td><details class=\"dni-treeview\"><summary><span class=\"dni-code-hint\"><code>[ Text: String, Embedding: Vector&lt;Single, 1536&gt;, PredictedLabel: Key&lt;UInt32, 0-4&gt; {ScoreColumnKind, ScoreValueKind, ScoreColumnSetId}, Score: Vector&lt;Single, 5&gt; {ScoreColumnKind, ScoreColumnSetId, ScoreValueKind} ]</code></span></summary><div><table><thead><tr></tr></thead><tbody><tr><td>Count</td><td><div class=\"dni-plaintext\"><pre>4</pre></div></td></tr><tr><td><i>(values)</i></td><td><table><thead><tr><th><i>index</i></th><th>value</th></tr></thead><tbody><tr><td>0</td><td><details class=\"dni-treeview\"><summary><span class=\"dni-code-hint\"><code>Text: String</code></span></summary><div><table><thead><tr></tr></thead><tbody><tr><td>Name</td><td><div class=\"dni-plaintext\"><pre>Text</pre></div></td></tr><tr><td>Index</td><td><div class=\"dni-plaintext\"><pre>0</pre></div></td></tr><tr><td>IsHidden</td><td><div class=\"dni-plaintext\"><pre>False</pre></div></td></tr><tr><td>Type</td><td><details class=\"dni-treeview\"><summary><span class=\"dni-code-hint\"><code>String</code></span></summary><div><table><thead><tr></tr></thead><tbody><tr><td>RawType</td><td><span><a href=\"https://docs.microsoft.com/dotnet/api/system.readonlymemory-1?view=net-7.0\">System.ReadOnlyMemory&lt;System.Char&gt;</a></span></td></tr></tbody></table></div></details></td></tr><tr><td>Annotations</td><td><details class=\"dni-treeview\"><summary><span class=\"dni-code-hint\"><code></code></span></summary><div><table><thead><tr></tr></thead><tbody><tr><td>Schema</td><td><details class=\"dni-treeview\"><summary><span class=\"dni-code-hint\"><code>[  ]</code></span></summary><div><table><thead><tr></tr></thead><tbody><tr><td>Count</td><td><div class=\"dni-plaintext\"><pre>0</pre></div></td></tr><tr><td><i>(values)</i></td><td><i>(empty)</i></td></tr></tbody></table></div></details></td></tr></tbody></table></div></details></td></tr></tbody></table></div></details></td></tr><tr><td>1</td><td><details class=\"dni-treeview\"><summary><span class=\"dni-code-hint\"><code>Embedding: Vector&lt;Single, 1536&gt;</code></span></summary><div><table><thead><tr></tr></thead><tbody><tr><td>Name</td><td><div class=\"dni-plaintext\"><pre>Embedding</pre></div></td></tr><tr><td>Index</td><td><div class=\"dni-plaintext\"><pre>1</pre></div></td></tr><tr><td>IsHidden</td><td><div class=\"dni-plaintext\"><pre>False</pre></div></td></tr><tr><td>Type</td><td><details class=\"dni-treeview\"><summary><span class=\"dni-code-hint\"><code>Vector&lt;Single, 1536&gt;</code></span></summary><div><table><thead><tr></tr></thead><tbody><tr><td>Dimensions</td><td><div class=\"dni-plaintext\"><pre>[ 1536 ]</pre></div></td></tr><tr><td>IsKnownSize</td><td><div class=\"dni-plaintext\"><pre>True</pre></div></td></tr><tr><td>ItemType</td><td><details class=\"dni-treeview\"><summary><span class=\"dni-code-hint\"><code>Single</code></span></summary><div><table><thead><tr></tr></thead><tbody><tr><td>RawType</td><td><span><a href=\"https://docs.microsoft.com/dotnet/api/system.single?view=net-7.0\">System.Single</a></span></td></tr></tbody></table></div></details></td></tr><tr><td>Size</td><td><div class=\"dni-plaintext\"><pre>1536</pre></div></td></tr><tr><td>RawType</td><td><span><a href=\"https://docs.microsoft.com/dotnet/api/microsoft.ml.data.vbuffer-1?view=net-7.0\">Microsoft.ML.Data.VBuffer&lt;System.Single&gt;</a></span></td></tr></tbody></table></div></details></td></tr><tr><td>Annotations</td><td><details class=\"dni-treeview\"><summary><span class=\"dni-code-hint\"><code></code></span></summary><div><table><thead><tr></tr></thead><tbody><tr><td>Schema</td><td><details class=\"dni-treeview\"><summary><span class=\"dni-code-hint\"><code>[  ]</code></span></summary><div><table><thead><tr></tr></thead><tbody><tr><td>Count</td><td><div class=\"dni-plaintext\"><pre>0</pre></div></td></tr><tr><td><i>(values)</i></td><td><i>(empty)</i></td></tr></tbody></table></div></details></td></tr></tbody></table></div></details></td></tr></tbody></table></div></details></td></tr><tr><td>2</td><td><details class=\"dni-treeview\"><summary><span class=\"dni-code-hint\"><code>PredictedLabel: Key&lt;UInt32, 0-4&gt; {ScoreColumnKind, ScoreValueKind, ScoreColumnSetId}</code></span></summary><div><table><thead><tr></tr></thead><tbody><tr><td>Name</td><td><div class=\"dni-plaintext\"><pre>PredictedLabel</pre></div></td></tr><tr><td>Index</td><td><div class=\"dni-plaintext\"><pre>2</pre></div></td></tr><tr><td>IsHidden</td><td><div class=\"dni-plaintext\"><pre>False</pre></div></td></tr><tr><td>Type</td><td><details class=\"dni-treeview\"><summary><span class=\"dni-code-hint\"><code>Key&lt;UInt32, 0-4&gt;</code></span></summary><div><table><thead><tr></tr></thead><tbody><tr><td>Count</td><td><div class=\"dni-plaintext\"><pre>5</pre></div></td></tr><tr><td>RawType</td><td><span><a href=\"https://docs.microsoft.com/dotnet/api/system.uint32?view=net-7.0\">System.UInt32</a></span></td></tr></tbody></table></div></details></td></tr><tr><td>Annotations</td><td><details class=\"dni-treeview\"><summary><span class=\"dni-code-hint\"><code>ScoreColumnKind, ScoreValueKind, ScoreColumnSetId</code></span></summary><div><table><thead><tr></tr></thead><tbody><tr><td>Schema</td><td><details class=\"dni-treeview\"><summary><span class=\"dni-code-hint\"><code>[ ScoreColumnKind: String, ScoreValueKind: String, ScoreColumnSetId: Key&lt;UInt32, 0-2147483646&gt; ]</code></span></summary><div><table><thead><tr></tr></thead><tbody><tr><td>Count</td><td><div class=\"dni-plaintext\"><pre>3</pre></div></td></tr><tr><td><i>(values)</i></td><td><table><thead><tr><th><i>index</i></th><th>value</th></tr></thead><tbody><tr><td>0</td><td><details class=\"dni-treeview\"><summary><span class=\"dni-code-hint\"><code>ScoreColumnKind: String</code></span></summary><div><table><thead><tr></tr></thead><tbody><tr><td>Name</td><td>ScoreColumnKind</td></tr><tr><td>Index</td><td>0</td></tr><tr><td>IsHidden</td><td>False</td></tr><tr><td>Type</td><td>String</td></tr><tr><td>Annotations</td><td></td></tr></tbody></table></div></details></td></tr><tr><td>1</td><td><details class=\"dni-treeview\"><summary><span class=\"dni-code-hint\"><code>ScoreValueKind: String</code></span></summary><div><table><thead><tr></tr></thead><tbody><tr><td>Name</td><td>ScoreValueKind</td></tr><tr><td>Index</td><td>1</td></tr><tr><td>IsHidden</td><td>False</td></tr><tr><td>Type</td><td>String</td></tr><tr><td>Annotations</td><td></td></tr></tbody></table></div></details></td></tr><tr><td>2</td><td><details class=\"dni-treeview\"><summary><span class=\"dni-code-hint\"><code>ScoreColumnSetId: Key&lt;UInt32, 0-2147483646&gt;</code></span></summary><div><table><thead><tr></tr></thead><tbody><tr><td>Name</td><td>ScoreColumnSetId</td></tr><tr><td>Index</td><td>2</td></tr><tr><td>IsHidden</td><td>False</td></tr><tr><td>Type</td><td>Key<UInt32, 0-2147483646></td></tr><tr><td>Annotations</td><td></td></tr></tbody></table></div></details></td></tr></tbody></table></td></tr></tbody></table></div></details></td></tr></tbody></table></div></details></td></tr></tbody></table></div></details></td></tr><tr><td>3</td><td><details class=\"dni-treeview\"><summary><span class=\"dni-code-hint\"><code>Score: Vector&lt;Single, 5&gt; {ScoreColumnKind, ScoreColumnSetId, ScoreValueKind}</code></span></summary><div><table><thead><tr></tr></thead><tbody><tr><td>Name</td><td><div class=\"dni-plaintext\"><pre>Score</pre></div></td></tr><tr><td>Index</td><td><div class=\"dni-plaintext\"><pre>3</pre></div></td></tr><tr><td>IsHidden</td><td><div class=\"dni-plaintext\"><pre>False</pre></div></td></tr><tr><td>Type</td><td><details class=\"dni-treeview\"><summary><span class=\"dni-code-hint\"><code>Vector&lt;Single, 5&gt;</code></span></summary><div><table><thead><tr></tr></thead><tbody><tr><td>Dimensions</td><td><div class=\"dni-plaintext\"><pre>[ 5 ]</pre></div></td></tr><tr><td>IsKnownSize</td><td><div class=\"dni-plaintext\"><pre>True</pre></div></td></tr><tr><td>ItemType</td><td><details class=\"dni-treeview\"><summary><span class=\"dni-code-hint\"><code>Single</code></span></summary><div><table><thead><tr></tr></thead><tbody><tr><td>RawType</td><td><span><a href=\"https://docs.microsoft.com/dotnet/api/system.single?view=net-7.0\">System.Single</a></span></td></tr></tbody></table></div></details></td></tr><tr><td>Size</td><td><div class=\"dni-plaintext\"><pre>5</pre></div></td></tr><tr><td>RawType</td><td><span><a href=\"https://docs.microsoft.com/dotnet/api/microsoft.ml.data.vbuffer-1?view=net-7.0\">Microsoft.ML.Data.VBuffer&lt;System.Single&gt;</a></span></td></tr></tbody></table></div></details></td></tr><tr><td>Annotations</td><td><details class=\"dni-treeview\"><summary><span class=\"dni-code-hint\"><code>ScoreColumnKind, ScoreColumnSetId, ScoreValueKind</code></span></summary><div><table><thead><tr></tr></thead><tbody><tr><td>Schema</td><td><details class=\"dni-treeview\"><summary><span class=\"dni-code-hint\"><code>[ ScoreColumnKind: String, ScoreColumnSetId: Key&lt;UInt32, 0-2147483646&gt;, ScoreValueKind: String ]</code></span></summary><div><table><thead><tr></tr></thead><tbody><tr><td>Count</td><td><div class=\"dni-plaintext\"><pre>3</pre></div></td></tr><tr><td><i>(values)</i></td><td><table><thead><tr><th><i>index</i></th><th>value</th></tr></thead><tbody><tr><td>0</td><td><details class=\"dni-treeview\"><summary><span class=\"dni-code-hint\"><code>ScoreColumnKind: String</code></span></summary><div><table><thead><tr></tr></thead><tbody><tr><td>Name</td><td>ScoreColumnKind</td></tr><tr><td>Index</td><td>0</td></tr><tr><td>IsHidden</td><td>False</td></tr><tr><td>Type</td><td>String</td></tr><tr><td>Annotations</td><td></td></tr></tbody></table></div></details></td></tr><tr><td>1</td><td><details class=\"dni-treeview\"><summary><span class=\"dni-code-hint\"><code>ScoreColumnSetId: Key&lt;UInt32, 0-2147483646&gt;</code></span></summary><div><table><thead><tr></tr></thead><tbody><tr><td>Name</td><td>ScoreColumnSetId</td></tr><tr><td>Index</td><td>1</td></tr><tr><td>IsHidden</td><td>False</td></tr><tr><td>Type</td><td>Key<UInt32, 0-2147483646></td></tr><tr><td>Annotations</td><td></td></tr></tbody></table></div></details></td></tr><tr><td>2</td><td><details class=\"dni-treeview\"><summary><span class=\"dni-code-hint\"><code>ScoreValueKind: String</code></span></summary><div><table><thead><tr></tr></thead><tbody><tr><td>Name</td><td>ScoreValueKind</td></tr><tr><td>Index</td><td>2</td></tr><tr><td>IsHidden</td><td>False</td></tr><tr><td>Type</td><td>String</td></tr><tr><td>Annotations</td><td></td></tr></tbody></table></div></details></td></tr></tbody></table></td></tr></tbody></table></div></details></td></tr></tbody></table></div></details></td></tr></tbody></table></div></details></td></tr></tbody></table></td></tr></tbody></table></div></details></td></tr><tr><td>ColumnView</td><td><table><thead><tr><th><i>index</i></th><th>value</th></tr></thead><tbody><tr><td>0</td><td><details class=\"dni-treeview\"><summary><span class=\"dni-code-hint\"><code>Text: String</code></span></summary><div><table><thead><tr></tr></thead><tbody><tr><td>Column</td><td><details class=\"dni-treeview\"><summary><span class=\"dni-code-hint\"><code>Text: String</code></span></summary><div><table><thead><tr></tr></thead><tbody><tr><td>Name</td><td><div class=\"dni-plaintext\"><pre>Text</pre></div></td></tr><tr><td>Index</td><td><div class=\"dni-plaintext\"><pre>0</pre></div></td></tr><tr><td>IsHidden</td><td><div class=\"dni-plaintext\"><pre>False</pre></div></td></tr><tr><td>Type</td><td><details class=\"dni-treeview\"><summary><span class=\"dni-code-hint\"><code>String</code></span></summary><div><table><thead><tr></tr></thead><tbody><tr><td>RawType</td><td><span><a href=\"https://docs.microsoft.com/dotnet/api/system.readonlymemory-1?view=net-7.0\">System.ReadOnlyMemory&lt;System.Char&gt;</a></span></td></tr></tbody></table></div></details></td></tr><tr><td>Annotations</td><td><details class=\"dni-treeview\"><summary><span class=\"dni-code-hint\"><code></code></span></summary><div><table><thead><tr></tr></thead><tbody><tr><td>Schema</td><td><details class=\"dni-treeview\"><summary><span class=\"dni-code-hint\"><code>[  ]</code></span></summary><div><table><thead><tr></tr></thead><tbody><tr><td>Count</td><td>0</td></tr><tr><td><i>(values)</i></td><td><i>(empty)</i></td></tr></tbody></table></div></details></td></tr></tbody></table></div></details></td></tr></tbody></table></div></details></td></tr><tr><td>Values</td><td><table><thead><tr><th><i>index</i></th><th>value</th></tr></thead><tbody><tr><td>0</td><td><span>I would like to ask you questions about coding in C#</span></td></tr><tr><td>1</td><td><span>Sure, I&#39;ll do my best to answer your questions about coding in C#. What would you like to know?</span></td></tr><tr><td>2</td><td><span>How do I cook a fish?</span></td></tr><tr><td>3</td><td><span>As an AI language model, I don&#39;t eat or cook food, but here are some general steps to cook a fish:\n",
       "\n",
       "1. Clean the fish thoroughly, removing scales, guts, and other unwanted parts.\n",
       "2. Season the fish with salt, pepper, and any other desired spices or herbs.\n",
       "3. Heat a pan or grill to medium-high heat.\n",
       "4. Add oil or butter to the pan or grill.\n",
       "5. Place the fish on the pan or grill, skin-side down if applicable.\n",
       "6. Cook the fish for 3-5 minutes on each side, or until the flesh is opaque and flakes easily with a fork.\n",
       "7. Serve the fish with your desired sides and garnishes.</span></td></tr><tr><td>4</td><td><span>What is a c# class?</span></td></tr><tr><td>5</td><td><span>In C#, a class is a blueprint or a template for creating objects that share common properties, methods, and events. It defines the structure and behavior of an object, including its data members (fields) and member functions (methods). \n",
       "\n",
       "A class can be thought of as a user-defined data type that encapsulates data and behavior. It provides a way to organize and modularize code, making it easier to maintain and reuse. \n",
       "\n",
       "For example, if you were creating a program to manage a library, you might define a class called &quot;Book&quot; that contains properties such as &quot;Title&quot;, &quot;Author&quot;, and &quot;ISBN&quot;, as well as methods for checking out and returning books. You could then create multiple instances of the &quot;Book&quot; class to represent different books in the library.</span></td></tr><tr><td>6</td><td><span>What is the most common modal scale in heavy metal music?</span></td></tr><tr><td>7</td><td><span>The most common modal scale in heavy metal music is the Phrygian mode.</span></td></tr><tr><td>8</td><td><span>How do I setup my amplifier to play heavy metal guitar riffs?</span></td></tr><tr><td>9</td><td><span>To set up your amplifier to play heavy metal guitar riffs, follow these steps:\n",
       "\n",
       "1. Start by selecting a high-gain channel on your amplifier. This will give you the distortion and overdrive necessary for heavy metal riffs.\n",
       "\n",
       "2. Adjust the gain knob to your desired level. For heavy metal, you&#39;ll want a high gain setting to get that crunchy, distorted sound.\n",
       "\n",
       "3. Adjust the bass, mid, and treble knobs to your liking. For heavy metal, you&#39;ll typically want to boost the bass and treble while cutting the mids to get a more aggressive sound.\n",
       "\n",
       "4. If your amplifier has a presence knob, adjust it to add more clarity and definition to your sound.\n",
       "\n",
       "5. Experiment with the volume and master volume knobs to find the right balance between volume and distortion.\n",
       "\n",
       "6. Finally, consider adding some effects like delay, reverb, or chorus to enhance your sound and add depth to your riffs.\n",
       "\n",
       "Remember, the settings that work best for heavy metal guitar riffs will depend on your personal preferences and the specific equipment you&#39;re using. Don&#39;t be afraid to experiment and try different settings until you find the sound that works best for you.</span></td></tr><tr><td>10</td><td><span>What is the mest way to model embeddings in a relational database?</span></td></tr><tr><td>11</td><td><span>There are several ways to model embeddings in a relational database, but one of the most common approaches is to use a table with columns for each dimension of the embedding. For example, if the embedding has 100 dimensions, the table would have 100 columns. Each row in the table would represent an entity or object that has an embedding, and the values in the columns would represent the values of the embedding dimensions for that entity.\n",
       "\n",
       "Another approach is to use a separate table for each dimension of the embedding, with each table containing a single column for the values of that dimension. This approach can be more flexible and scalable, as it allows for adding or removing dimensions without having to modify the main table. However, it can also be more complex to query and join the data from multiple tables.\n",
       "\n",
       "Ultimately, the best way to model embeddings in a relational database depends on the specific requirements and constraints of the application, as well as the size and complexity of the embeddings and the data set.</span></td></tr><tr><td>12</td><td><span>What is a motorbike?</span></td></tr><tr><td>13</td><td><span>A motorbike, also known as a motorcycle or bike, is a two-wheeled vehicle powered by an engine. It typically has a seat for the rider, handlebars for steering, and footrests for the rider&#39;s feet. Motorbikes come in various sizes and styles, including sport bikes, cruisers, touring bikes, and dirt bikes. They are commonly used for transportation, recreation, and racing.</span></td></tr><tr><td>14</td><td><span>What is the best way to model a motorbike in C#?</span></td></tr><tr><td>15</td><td><span>Modeling a motorbike in C# would require the use of a 3D graphics library or game engine that supports C#. Here are the general steps to model a motorbike in C#:\n",
       "\n",
       "1. Choose a 3D graphics library or game engine that supports C#, such as Unity, Unreal Engine, or OpenTK.\n",
       "2. Create a 3D model of the motorbike using a 3D modeling software, such as Blender or Maya.\n",
       "3. Import the 3D model into the chosen graphics library or game engine.\n",
       "4. Apply textures and materials to the 3D model to give it a realistic appearance.\n",
       "5. Add physics and collision detection to the motorbike model to simulate its movement and interaction with the environment.\n",
       "6. Implement user input controls to allow the player to control the motorbike&#39;s movement.\n",
       "7. Test and refine the motorbike model to ensure it functions correctly and provides an enjoyable user experience.\n",
       "\n",
       "Overall, modeling a motorbike in C# requires a combination of 3D modeling skills, programming knowledge, and game development experience.</span></td></tr><tr><td>16</td><td><span>Show me an example of a class that represents a motorbike using C#</span></td></tr><tr><td>17</td><td><span>Sure, here&#39;s an example of a class that represents a motorbike using C#:\n",
       "\n",
       "```\n",
       "public class Motorbike\n",
       "{\n",
       "    // Fields\n",
       "    private string make;\n",
       "    private string model;\n",
       "    private int year;\n",
       "    private float engineSize;\n",
       "    private bool isRunning;\n",
       "\n",
       "    // Constructor\n",
       "    public Motorbike(string make, string model, int year, float engineSize)\n",
       "    {\n",
       "        this.make = make;\n",
       "        this.model = model;\n",
       "        this.year = year;\n",
       "        this.engineSize = engineSize;\n",
       "        this.isRunning = false;\n",
       "    }\n",
       "\n",
       "    // Properties\n",
       "    public string Make\n",
       "    {\n",
       "        get { return make; }\n",
       "        set { make = value; }\n",
       "    }\n",
       "\n",
       "    public string Model\n",
       "    {\n",
       "        get { return model; }\n",
       "        set { model = value; }\n",
       "    }\n",
       "\n",
       "    public int Year\n",
       "    {\n",
       "        get { return year; }\n",
       "        set { year = value; }\n",
       "    }\n",
       "\n",
       "    public float EngineSize\n",
       "    {\n",
       "        get { return engineSize; }\n",
       "        set { engineSize = value; }\n",
       "    }\n",
       "\n",
       "    public bool IsRunning\n",
       "    {\n",
       "        get { return isRunning; }\n",
       "    }\n",
       "\n",
       "    // Methods\n",
       "    public void Start()\n",
       "    {\n",
       "        isRunning = true;\n",
       "        Console.WriteLine(&quot;The {0} {1} has started.&quot;, make, model);\n",
       "    }\n",
       "\n",
       "    public void Stop()\n",
       "    {\n",
       "        isRunning = false;\n",
       "        Console.WriteLine(&quot;The {0} {1} has stopped.&quot;, make, model);\n",
       "    }\n",
       "\n",
       "    public void Accelerate()\n",
       "    {\n",
       "        if (isRunning)\n",
       "        {\n",
       "            Console.WriteLine(&quot;The {0} {1} is accelerating.&quot;, make, model);\n",
       "        }\n",
       "        else\n",
       "        {\n",
       "            Console.WriteLine(&quot;The {0} {1} is not running.&quot;, make, model);\n",
       "        }\n",
       "    }\n",
       "\n",
       "    public void Brake()\n",
       "    {\n",
       "        if (isRunning)\n",
       "        {\n",
       "            Console.WriteLine(&quot;The {0} {1} is braking.&quot;, make, model);\n",
       "        }\n",
       "        else\n",
       "        {\n",
       "            Console.WriteLine(&quot;The {0} {1} is not running.&quot;, make, model);\n",
       "        }\n",
       "    }\n",
       "}\n",
       "```\n",
       "\n",
       "This class represents a motorbike with fields for the make, model, year, engine size, and running status. It has a constructor to initialize these fields, properties to get and set the fields, and methods to start, stop, accelerate, and brake the motorbike.</span></td></tr><tr><td>18</td><td><span>What is the mest way to model embeddings in a relational database?</span></td></tr><tr><td>19</td><td><span>There are several ways to model embeddings in a relational database, but one common approach is to use a table with columns for each dimension of the embedding. For example, if the embedding has 100 dimensions, the table would have 100 columns. Each row in the table would represent an entity or object that has an embedding, and the values in the columns would represent the values of the embedding dimensions for that entity.\n",
       "\n",
       "Another approach is to use a separate table for each dimension of the embedding, with each table containing a single column for the values of that dimension. This approach can be more flexible and scalable, as it allows for adding or removing dimensions without having to modify the main table. However, it can also be more complex to query and join the data from multiple tables.\n",
       "\n",
       "Ultimately, the best way to model embeddings in a relational database depends on the specific requirements and constraints of the application, as well as the size and complexity of the embeddings and the data set.</span></td></tr><tr><td colspan=\"2\"><i>(12 more)</i></td></tr></tbody></table></td></tr></tbody></table></div></details></td></tr><tr><td>1</td><td><details class=\"dni-treeview\"><summary><span class=\"dni-code-hint\"><code>Embedding: Vector&lt;Single, 1536&gt;</code></span></summary><div><table><thead><tr></tr></thead><tbody><tr><td>Column</td><td><details class=\"dni-treeview\"><summary><span class=\"dni-code-hint\"><code>Embedding: Vector&lt;Single, 1536&gt;</code></span></summary><div><table><thead><tr></tr></thead><tbody><tr><td>Name</td><td><div class=\"dni-plaintext\"><pre>Embedding</pre></div></td></tr><tr><td>Index</td><td><div class=\"dni-plaintext\"><pre>1</pre></div></td></tr><tr><td>IsHidden</td><td><div class=\"dni-plaintext\"><pre>False</pre></div></td></tr><tr><td>Type</td><td><details class=\"dni-treeview\"><summary><span class=\"dni-code-hint\"><code>Vector&lt;Single, 1536&gt;</code></span></summary><div><table><thead><tr></tr></thead><tbody><tr><td>Dimensions</td><td><div class=\"dni-plaintext\"><pre>[ 1536 ]</pre></div></td></tr><tr><td>IsKnownSize</td><td><div class=\"dni-plaintext\"><pre>True</pre></div></td></tr><tr><td>ItemType</td><td><details class=\"dni-treeview\"><summary><span class=\"dni-code-hint\"><code>Single</code></span></summary><div><table><thead><tr></tr></thead><tbody><tr><td>RawType</td><td>System.Single</td></tr></tbody></table></div></details></td></tr><tr><td>Size</td><td><div class=\"dni-plaintext\"><pre>1536</pre></div></td></tr><tr><td>RawType</td><td><span><a href=\"https://docs.microsoft.com/dotnet/api/microsoft.ml.data.vbuffer-1?view=net-7.0\">Microsoft.ML.Data.VBuffer&lt;System.Single&gt;</a></span></td></tr></tbody></table></div></details></td></tr><tr><td>Annotations</td><td><details class=\"dni-treeview\"><summary><span class=\"dni-code-hint\"><code></code></span></summary><div><table><thead><tr></tr></thead><tbody><tr><td>Schema</td><td><details class=\"dni-treeview\"><summary><span class=\"dni-code-hint\"><code>[  ]</code></span></summary><div><table><thead><tr></tr></thead><tbody><tr><td>Count</td><td>0</td></tr><tr><td><i>(values)</i></td><td><i>(empty)</i></td></tr></tbody></table></div></details></td></tr></tbody></table></div></details></td></tr></tbody></table></div></details></td></tr><tr><td>Values</td><td><table><thead><tr><th><i>index</i></th><th>value</th></tr></thead><tbody><tr><td>0</td><td><details class=\"dni-treeview\"><summary><span class=\"dni-code-hint\"><code>Dense vector of size 1536</code></span></summary><div><table><thead><tr></tr></thead><tbody><tr><td>IsDense</td><td><div class=\"dni-plaintext\"><pre>True</pre></div></td></tr><tr><td>Length</td><td><div class=\"dni-plaintext\"><pre>1536</pre></div></td></tr></tbody></table></div></details></td></tr><tr><td>1</td><td><details class=\"dni-treeview\"><summary><span class=\"dni-code-hint\"><code>Dense vector of size 1536</code></span></summary><div><table><thead><tr></tr></thead><tbody><tr><td>IsDense</td><td><div class=\"dni-plaintext\"><pre>True</pre></div></td></tr><tr><td>Length</td><td><div class=\"dni-plaintext\"><pre>1536</pre></div></td></tr></tbody></table></div></details></td></tr><tr><td>2</td><td><details class=\"dni-treeview\"><summary><span class=\"dni-code-hint\"><code>Dense vector of size 1536</code></span></summary><div><table><thead><tr></tr></thead><tbody><tr><td>IsDense</td><td><div class=\"dni-plaintext\"><pre>True</pre></div></td></tr><tr><td>Length</td><td><div class=\"dni-plaintext\"><pre>1536</pre></div></td></tr></tbody></table></div></details></td></tr><tr><td>3</td><td><details class=\"dni-treeview\"><summary><span class=\"dni-code-hint\"><code>Dense vector of size 1536</code></span></summary><div><table><thead><tr></tr></thead><tbody><tr><td>IsDense</td><td><div class=\"dni-plaintext\"><pre>True</pre></div></td></tr><tr><td>Length</td><td><div class=\"dni-plaintext\"><pre>1536</pre></div></td></tr></tbody></table></div></details></td></tr><tr><td>4</td><td><details class=\"dni-treeview\"><summary><span class=\"dni-code-hint\"><code>Dense vector of size 1536</code></span></summary><div><table><thead><tr></tr></thead><tbody><tr><td>IsDense</td><td><div class=\"dni-plaintext\"><pre>True</pre></div></td></tr><tr><td>Length</td><td><div class=\"dni-plaintext\"><pre>1536</pre></div></td></tr></tbody></table></div></details></td></tr><tr><td>5</td><td><details class=\"dni-treeview\"><summary><span class=\"dni-code-hint\"><code>Dense vector of size 1536</code></span></summary><div><table><thead><tr></tr></thead><tbody><tr><td>IsDense</td><td><div class=\"dni-plaintext\"><pre>True</pre></div></td></tr><tr><td>Length</td><td><div class=\"dni-plaintext\"><pre>1536</pre></div></td></tr></tbody></table></div></details></td></tr><tr><td>6</td><td><details class=\"dni-treeview\"><summary><span class=\"dni-code-hint\"><code>Dense vector of size 1536</code></span></summary><div><table><thead><tr></tr></thead><tbody><tr><td>IsDense</td><td><div class=\"dni-plaintext\"><pre>True</pre></div></td></tr><tr><td>Length</td><td><div class=\"dni-plaintext\"><pre>1536</pre></div></td></tr></tbody></table></div></details></td></tr><tr><td>7</td><td><details class=\"dni-treeview\"><summary><span class=\"dni-code-hint\"><code>Dense vector of size 1536</code></span></summary><div><table><thead><tr></tr></thead><tbody><tr><td>IsDense</td><td><div class=\"dni-plaintext\"><pre>True</pre></div></td></tr><tr><td>Length</td><td><div class=\"dni-plaintext\"><pre>1536</pre></div></td></tr></tbody></table></div></details></td></tr><tr><td>8</td><td><details class=\"dni-treeview\"><summary><span class=\"dni-code-hint\"><code>Dense vector of size 1536</code></span></summary><div><table><thead><tr></tr></thead><tbody><tr><td>IsDense</td><td><div class=\"dni-plaintext\"><pre>True</pre></div></td></tr><tr><td>Length</td><td><div class=\"dni-plaintext\"><pre>1536</pre></div></td></tr></tbody></table></div></details></td></tr><tr><td>9</td><td><details class=\"dni-treeview\"><summary><span class=\"dni-code-hint\"><code>Dense vector of size 1536</code></span></summary><div><table><thead><tr></tr></thead><tbody><tr><td>IsDense</td><td><div class=\"dni-plaintext\"><pre>True</pre></div></td></tr><tr><td>Length</td><td><div class=\"dni-plaintext\"><pre>1536</pre></div></td></tr></tbody></table></div></details></td></tr><tr><td>10</td><td><details class=\"dni-treeview\"><summary><span class=\"dni-code-hint\"><code>Dense vector of size 1536</code></span></summary><div><table><thead><tr></tr></thead><tbody><tr><td>IsDense</td><td><div class=\"dni-plaintext\"><pre>True</pre></div></td></tr><tr><td>Length</td><td><div class=\"dni-plaintext\"><pre>1536</pre></div></td></tr></tbody></table></div></details></td></tr><tr><td>11</td><td><details class=\"dni-treeview\"><summary><span class=\"dni-code-hint\"><code>Dense vector of size 1536</code></span></summary><div><table><thead><tr></tr></thead><tbody><tr><td>IsDense</td><td><div class=\"dni-plaintext\"><pre>True</pre></div></td></tr><tr><td>Length</td><td><div class=\"dni-plaintext\"><pre>1536</pre></div></td></tr></tbody></table></div></details></td></tr><tr><td>12</td><td><details class=\"dni-treeview\"><summary><span class=\"dni-code-hint\"><code>Dense vector of size 1536</code></span></summary><div><table><thead><tr></tr></thead><tbody><tr><td>IsDense</td><td><div class=\"dni-plaintext\"><pre>True</pre></div></td></tr><tr><td>Length</td><td><div class=\"dni-plaintext\"><pre>1536</pre></div></td></tr></tbody></table></div></details></td></tr><tr><td>13</td><td><details class=\"dni-treeview\"><summary><span class=\"dni-code-hint\"><code>Dense vector of size 1536</code></span></summary><div><table><thead><tr></tr></thead><tbody><tr><td>IsDense</td><td><div class=\"dni-plaintext\"><pre>True</pre></div></td></tr><tr><td>Length</td><td><div class=\"dni-plaintext\"><pre>1536</pre></div></td></tr></tbody></table></div></details></td></tr><tr><td>14</td><td><details class=\"dni-treeview\"><summary><span class=\"dni-code-hint\"><code>Dense vector of size 1536</code></span></summary><div><table><thead><tr></tr></thead><tbody><tr><td>IsDense</td><td><div class=\"dni-plaintext\"><pre>True</pre></div></td></tr><tr><td>Length</td><td><div class=\"dni-plaintext\"><pre>1536</pre></div></td></tr></tbody></table></div></details></td></tr><tr><td>15</td><td><details class=\"dni-treeview\"><summary><span class=\"dni-code-hint\"><code>Dense vector of size 1536</code></span></summary><div><table><thead><tr></tr></thead><tbody><tr><td>IsDense</td><td><div class=\"dni-plaintext\"><pre>True</pre></div></td></tr><tr><td>Length</td><td><div class=\"dni-plaintext\"><pre>1536</pre></div></td></tr></tbody></table></div></details></td></tr><tr><td>16</td><td><details class=\"dni-treeview\"><summary><span class=\"dni-code-hint\"><code>Dense vector of size 1536</code></span></summary><div><table><thead><tr></tr></thead><tbody><tr><td>IsDense</td><td><div class=\"dni-plaintext\"><pre>True</pre></div></td></tr><tr><td>Length</td><td><div class=\"dni-plaintext\"><pre>1536</pre></div></td></tr></tbody></table></div></details></td></tr><tr><td>17</td><td><details class=\"dni-treeview\"><summary><span class=\"dni-code-hint\"><code>Dense vector of size 1536</code></span></summary><div><table><thead><tr></tr></thead><tbody><tr><td>IsDense</td><td><div class=\"dni-plaintext\"><pre>True</pre></div></td></tr><tr><td>Length</td><td><div class=\"dni-plaintext\"><pre>1536</pre></div></td></tr></tbody></table></div></details></td></tr><tr><td>18</td><td><details class=\"dni-treeview\"><summary><span class=\"dni-code-hint\"><code>Dense vector of size 1536</code></span></summary><div><table><thead><tr></tr></thead><tbody><tr><td>IsDense</td><td><div class=\"dni-plaintext\"><pre>True</pre></div></td></tr><tr><td>Length</td><td><div class=\"dni-plaintext\"><pre>1536</pre></div></td></tr></tbody></table></div></details></td></tr><tr><td>19</td><td><details class=\"dni-treeview\"><summary><span class=\"dni-code-hint\"><code>Dense vector of size 1536</code></span></summary><div><table><thead><tr></tr></thead><tbody><tr><td>IsDense</td><td><div class=\"dni-plaintext\"><pre>True</pre></div></td></tr><tr><td>Length</td><td><div class=\"dni-plaintext\"><pre>1536</pre></div></td></tr></tbody></table></div></details></td></tr><tr><td colspan=\"2\"><i>(12 more)</i></td></tr></tbody></table></td></tr></tbody></table></div></details></td></tr><tr><td>2</td><td><details class=\"dni-treeview\"><summary><span class=\"dni-code-hint\"><code>PredictedLabel: Key&lt;UInt32, 0-4&gt;</code></span></summary><div><table><thead><tr></tr></thead><tbody><tr><td>Column</td><td><details class=\"dni-treeview\"><summary><span class=\"dni-code-hint\"><code>PredictedLabel: Key&lt;UInt32, 0-4&gt; {ScoreColumnKind, ScoreValueKind, ScoreColumnSetId}</code></span></summary><div><table><thead><tr></tr></thead><tbody><tr><td>Name</td><td><div class=\"dni-plaintext\"><pre>PredictedLabel</pre></div></td></tr><tr><td>Index</td><td><div class=\"dni-plaintext\"><pre>2</pre></div></td></tr><tr><td>IsHidden</td><td><div class=\"dni-plaintext\"><pre>False</pre></div></td></tr><tr><td>Type</td><td><details class=\"dni-treeview\"><summary><span class=\"dni-code-hint\"><code>Key&lt;UInt32, 0-4&gt;</code></span></summary><div><table><thead><tr></tr></thead><tbody><tr><td>Count</td><td><div class=\"dni-plaintext\"><pre>5</pre></div></td></tr><tr><td>RawType</td><td><span><a href=\"https://docs.microsoft.com/dotnet/api/system.uint32?view=net-7.0\">System.UInt32</a></span></td></tr></tbody></table></div></details></td></tr><tr><td>Annotations</td><td><details class=\"dni-treeview\"><summary><span class=\"dni-code-hint\"><code>ScoreColumnKind, ScoreValueKind, ScoreColumnSetId</code></span></summary><div><table><thead><tr></tr></thead><tbody><tr><td>Schema</td><td><details class=\"dni-treeview\"><summary><span class=\"dni-code-hint\"><code>[ ScoreColumnKind: String, ScoreValueKind: String, ScoreColumnSetId: Key&lt;UInt32, 0-2147483646&gt; ]</code></span></summary><div><table><thead><tr></tr></thead><tbody><tr><td>Count</td><td>3</td></tr><tr><td><i>(values)</i></td><td><table><thead><tr><th><i>index</i></th><th>value</th></tr></thead><tbody><tr><td>0</td><td>ScoreColumnKind: String</td></tr><tr><td>1</td><td>ScoreValueKind: String</td></tr><tr><td>2</td><td>ScoreColumnSetId: Key<UInt32, 0-2147483646></td></tr></tbody></table></td></tr></tbody></table></div></details></td></tr></tbody></table></div></details></td></tr></tbody></table></div></details></td></tr><tr><td>Values</td><td><table><thead><tr><th><i>index</i></th><th>value</th></tr></thead><tbody><tr><td>0</td><td><div class=\"dni-plaintext\"><pre>1</pre></div></td></tr><tr><td>1</td><td><div class=\"dni-plaintext\"><pre>1</pre></div></td></tr><tr><td>2</td><td><div class=\"dni-plaintext\"><pre>4</pre></div></td></tr><tr><td>3</td><td><div class=\"dni-plaintext\"><pre>4</pre></div></td></tr><tr><td>4</td><td><div class=\"dni-plaintext\"><pre>1</pre></div></td></tr><tr><td>5</td><td><div class=\"dni-plaintext\"><pre>1</pre></div></td></tr><tr><td>6</td><td><div class=\"dni-plaintext\"><pre>3</pre></div></td></tr><tr><td>7</td><td><div class=\"dni-plaintext\"><pre>3</pre></div></td></tr><tr><td>8</td><td><div class=\"dni-plaintext\"><pre>5</pre></div></td></tr><tr><td>9</td><td><div class=\"dni-plaintext\"><pre>5</pre></div></td></tr><tr><td>10</td><td><div class=\"dni-plaintext\"><pre>2</pre></div></td></tr><tr><td>11</td><td><div class=\"dni-plaintext\"><pre>2</pre></div></td></tr><tr><td>12</td><td><div class=\"dni-plaintext\"><pre>1</pre></div></td></tr><tr><td>13</td><td><div class=\"dni-plaintext\"><pre>1</pre></div></td></tr><tr><td>14</td><td><div class=\"dni-plaintext\"><pre>1</pre></div></td></tr><tr><td>15</td><td><div class=\"dni-plaintext\"><pre>1</pre></div></td></tr><tr><td>16</td><td><div class=\"dni-plaintext\"><pre>1</pre></div></td></tr><tr><td>17</td><td><div class=\"dni-plaintext\"><pre>1</pre></div></td></tr><tr><td>18</td><td><div class=\"dni-plaintext\"><pre>2</pre></div></td></tr><tr><td>19</td><td><div class=\"dni-plaintext\"><pre>2</pre></div></td></tr><tr><td colspan=\"2\"><i>(12 more)</i></td></tr></tbody></table></td></tr></tbody></table></div></details></td></tr><tr><td>3</td><td><details class=\"dni-treeview\"><summary><span class=\"dni-code-hint\"><code>Score: Vector&lt;Single, 5&gt;</code></span></summary><div><table><thead><tr></tr></thead><tbody><tr><td>Column</td><td><details class=\"dni-treeview\"><summary><span class=\"dni-code-hint\"><code>Score: Vector&lt;Single, 5&gt; {ScoreColumnKind, ScoreColumnSetId, ScoreValueKind}</code></span></summary><div><table><thead><tr></tr></thead><tbody><tr><td>Name</td><td><div class=\"dni-plaintext\"><pre>Score</pre></div></td></tr><tr><td>Index</td><td><div class=\"dni-plaintext\"><pre>3</pre></div></td></tr><tr><td>IsHidden</td><td><div class=\"dni-plaintext\"><pre>False</pre></div></td></tr><tr><td>Type</td><td><details class=\"dni-treeview\"><summary><span class=\"dni-code-hint\"><code>Vector&lt;Single, 5&gt;</code></span></summary><div><table><thead><tr></tr></thead><tbody><tr><td>Dimensions</td><td><div class=\"dni-plaintext\"><pre>[ 5 ]</pre></div></td></tr><tr><td>IsKnownSize</td><td><div class=\"dni-plaintext\"><pre>True</pre></div></td></tr><tr><td>ItemType</td><td><details class=\"dni-treeview\"><summary><span class=\"dni-code-hint\"><code>Single</code></span></summary><div><table><thead><tr></tr></thead><tbody><tr><td>RawType</td><td>System.Single</td></tr></tbody></table></div></details></td></tr><tr><td>Size</td><td><div class=\"dni-plaintext\"><pre>5</pre></div></td></tr><tr><td>RawType</td><td><span><a href=\"https://docs.microsoft.com/dotnet/api/microsoft.ml.data.vbuffer-1?view=net-7.0\">Microsoft.ML.Data.VBuffer&lt;System.Single&gt;</a></span></td></tr></tbody></table></div></details></td></tr><tr><td>Annotations</td><td><details class=\"dni-treeview\"><summary><span class=\"dni-code-hint\"><code>ScoreColumnKind, ScoreColumnSetId, ScoreValueKind</code></span></summary><div><table><thead><tr></tr></thead><tbody><tr><td>Schema</td><td><details class=\"dni-treeview\"><summary><span class=\"dni-code-hint\"><code>[ ScoreColumnKind: String, ScoreColumnSetId: Key&lt;UInt32, 0-2147483646&gt;, ScoreValueKind: String ]</code></span></summary><div><table><thead><tr></tr></thead><tbody><tr><td>Count</td><td>3</td></tr><tr><td><i>(values)</i></td><td><table><thead><tr><th><i>index</i></th><th>value</th></tr></thead><tbody><tr><td>0</td><td>ScoreColumnKind: String</td></tr><tr><td>1</td><td>ScoreColumnSetId: Key<UInt32, 0-2147483646></td></tr><tr><td>2</td><td>ScoreValueKind: String</td></tr></tbody></table></td></tr></tbody></table></div></details></td></tr></tbody></table></div></details></td></tr></tbody></table></div></details></td></tr><tr><td>Values</td><td><table><thead><tr><th><i>index</i></th><th>value</th></tr></thead><tbody><tr><td>0</td><td><details class=\"dni-treeview\"><summary><span class=\"dni-code-hint\"><code>Dense vector of size 5</code></span></summary><div><table><thead><tr></tr></thead><tbody><tr><td>IsDense</td><td><div class=\"dni-plaintext\"><pre>True</pre></div></td></tr><tr><td>Length</td><td><div class=\"dni-plaintext\"><pre>5</pre></div></td></tr></tbody></table></div></details></td></tr><tr><td>1</td><td><details class=\"dni-treeview\"><summary><span class=\"dni-code-hint\"><code>Dense vector of size 5</code></span></summary><div><table><thead><tr></tr></thead><tbody><tr><td>IsDense</td><td><div class=\"dni-plaintext\"><pre>True</pre></div></td></tr><tr><td>Length</td><td><div class=\"dni-plaintext\"><pre>5</pre></div></td></tr></tbody></table></div></details></td></tr><tr><td>2</td><td><details class=\"dni-treeview\"><summary><span class=\"dni-code-hint\"><code>Dense vector of size 5</code></span></summary><div><table><thead><tr></tr></thead><tbody><tr><td>IsDense</td><td><div class=\"dni-plaintext\"><pre>True</pre></div></td></tr><tr><td>Length</td><td><div class=\"dni-plaintext\"><pre>5</pre></div></td></tr></tbody></table></div></details></td></tr><tr><td>3</td><td><details class=\"dni-treeview\"><summary><span class=\"dni-code-hint\"><code>Dense vector of size 5</code></span></summary><div><table><thead><tr></tr></thead><tbody><tr><td>IsDense</td><td><div class=\"dni-plaintext\"><pre>True</pre></div></td></tr><tr><td>Length</td><td><div class=\"dni-plaintext\"><pre>5</pre></div></td></tr></tbody></table></div></details></td></tr><tr><td>4</td><td><details class=\"dni-treeview\"><summary><span class=\"dni-code-hint\"><code>Dense vector of size 5</code></span></summary><div><table><thead><tr></tr></thead><tbody><tr><td>IsDense</td><td><div class=\"dni-plaintext\"><pre>True</pre></div></td></tr><tr><td>Length</td><td><div class=\"dni-plaintext\"><pre>5</pre></div></td></tr></tbody></table></div></details></td></tr><tr><td>5</td><td><details class=\"dni-treeview\"><summary><span class=\"dni-code-hint\"><code>Dense vector of size 5</code></span></summary><div><table><thead><tr></tr></thead><tbody><tr><td>IsDense</td><td><div class=\"dni-plaintext\"><pre>True</pre></div></td></tr><tr><td>Length</td><td><div class=\"dni-plaintext\"><pre>5</pre></div></td></tr></tbody></table></div></details></td></tr><tr><td>6</td><td><details class=\"dni-treeview\"><summary><span class=\"dni-code-hint\"><code>Dense vector of size 5</code></span></summary><div><table><thead><tr></tr></thead><tbody><tr><td>IsDense</td><td><div class=\"dni-plaintext\"><pre>True</pre></div></td></tr><tr><td>Length</td><td><div class=\"dni-plaintext\"><pre>5</pre></div></td></tr></tbody></table></div></details></td></tr><tr><td>7</td><td><details class=\"dni-treeview\"><summary><span class=\"dni-code-hint\"><code>Dense vector of size 5</code></span></summary><div><table><thead><tr></tr></thead><tbody><tr><td>IsDense</td><td><div class=\"dni-plaintext\"><pre>True</pre></div></td></tr><tr><td>Length</td><td><div class=\"dni-plaintext\"><pre>5</pre></div></td></tr></tbody></table></div></details></td></tr><tr><td>8</td><td><details class=\"dni-treeview\"><summary><span class=\"dni-code-hint\"><code>Dense vector of size 5</code></span></summary><div><table><thead><tr></tr></thead><tbody><tr><td>IsDense</td><td><div class=\"dni-plaintext\"><pre>True</pre></div></td></tr><tr><td>Length</td><td><div class=\"dni-plaintext\"><pre>5</pre></div></td></tr></tbody></table></div></details></td></tr><tr><td>9</td><td><details class=\"dni-treeview\"><summary><span class=\"dni-code-hint\"><code>Dense vector of size 5</code></span></summary><div><table><thead><tr></tr></thead><tbody><tr><td>IsDense</td><td><div class=\"dni-plaintext\"><pre>True</pre></div></td></tr><tr><td>Length</td><td><div class=\"dni-plaintext\"><pre>5</pre></div></td></tr></tbody></table></div></details></td></tr><tr><td>10</td><td><details class=\"dni-treeview\"><summary><span class=\"dni-code-hint\"><code>Dense vector of size 5</code></span></summary><div><table><thead><tr></tr></thead><tbody><tr><td>IsDense</td><td><div class=\"dni-plaintext\"><pre>True</pre></div></td></tr><tr><td>Length</td><td><div class=\"dni-plaintext\"><pre>5</pre></div></td></tr></tbody></table></div></details></td></tr><tr><td>11</td><td><details class=\"dni-treeview\"><summary><span class=\"dni-code-hint\"><code>Dense vector of size 5</code></span></summary><div><table><thead><tr></tr></thead><tbody><tr><td>IsDense</td><td><div class=\"dni-plaintext\"><pre>True</pre></div></td></tr><tr><td>Length</td><td><div class=\"dni-plaintext\"><pre>5</pre></div></td></tr></tbody></table></div></details></td></tr><tr><td>12</td><td><details class=\"dni-treeview\"><summary><span class=\"dni-code-hint\"><code>Dense vector of size 5</code></span></summary><div><table><thead><tr></tr></thead><tbody><tr><td>IsDense</td><td><div class=\"dni-plaintext\"><pre>True</pre></div></td></tr><tr><td>Length</td><td><div class=\"dni-plaintext\"><pre>5</pre></div></td></tr></tbody></table></div></details></td></tr><tr><td>13</td><td><details class=\"dni-treeview\"><summary><span class=\"dni-code-hint\"><code>Dense vector of size 5</code></span></summary><div><table><thead><tr></tr></thead><tbody><tr><td>IsDense</td><td><div class=\"dni-plaintext\"><pre>True</pre></div></td></tr><tr><td>Length</td><td><div class=\"dni-plaintext\"><pre>5</pre></div></td></tr></tbody></table></div></details></td></tr><tr><td>14</td><td><details class=\"dni-treeview\"><summary><span class=\"dni-code-hint\"><code>Dense vector of size 5</code></span></summary><div><table><thead><tr></tr></thead><tbody><tr><td>IsDense</td><td><div class=\"dni-plaintext\"><pre>True</pre></div></td></tr><tr><td>Length</td><td><div class=\"dni-plaintext\"><pre>5</pre></div></td></tr></tbody></table></div></details></td></tr><tr><td>15</td><td><details class=\"dni-treeview\"><summary><span class=\"dni-code-hint\"><code>Dense vector of size 5</code></span></summary><div><table><thead><tr></tr></thead><tbody><tr><td>IsDense</td><td><div class=\"dni-plaintext\"><pre>True</pre></div></td></tr><tr><td>Length</td><td><div class=\"dni-plaintext\"><pre>5</pre></div></td></tr></tbody></table></div></details></td></tr><tr><td>16</td><td><details class=\"dni-treeview\"><summary><span class=\"dni-code-hint\"><code>Dense vector of size 5</code></span></summary><div><table><thead><tr></tr></thead><tbody><tr><td>IsDense</td><td><div class=\"dni-plaintext\"><pre>True</pre></div></td></tr><tr><td>Length</td><td><div class=\"dni-plaintext\"><pre>5</pre></div></td></tr></tbody></table></div></details></td></tr><tr><td>17</td><td><details class=\"dni-treeview\"><summary><span class=\"dni-code-hint\"><code>Dense vector of size 5</code></span></summary><div><table><thead><tr></tr></thead><tbody><tr><td>IsDense</td><td><div class=\"dni-plaintext\"><pre>True</pre></div></td></tr><tr><td>Length</td><td><div class=\"dni-plaintext\"><pre>5</pre></div></td></tr></tbody></table></div></details></td></tr><tr><td>18</td><td><details class=\"dni-treeview\"><summary><span class=\"dni-code-hint\"><code>Dense vector of size 5</code></span></summary><div><table><thead><tr></tr></thead><tbody><tr><td>IsDense</td><td><div class=\"dni-plaintext\"><pre>True</pre></div></td></tr><tr><td>Length</td><td><div class=\"dni-plaintext\"><pre>5</pre></div></td></tr></tbody></table></div></details></td></tr><tr><td>19</td><td><details class=\"dni-treeview\"><summary><span class=\"dni-code-hint\"><code>Dense vector of size 5</code></span></summary><div><table><thead><tr></tr></thead><tbody><tr><td>IsDense</td><td><div class=\"dni-plaintext\"><pre>True</pre></div></td></tr><tr><td>Length</td><td><div class=\"dni-plaintext\"><pre>5</pre></div></td></tr></tbody></table></div></details></td></tr><tr><td colspan=\"2\"><i>(12 more)</i></td></tr></tbody></table></td></tr></tbody></table></div></details></td></tr></tbody></table></td></tr><tr><td>RowView</td><td><table><thead><tr><th><i>index</i></th><th>value</th></tr></thead><tbody><tr><td>0</td><td><details class=\"dni-treeview\"><summary><span class=\"dni-code-hint\"><code>4 columns</code></span></summary><div><table><thead><tr></tr></thead><tbody><tr><td>Values</td><td><table><thead><tr><th><i>index</i></th><th>value</th></tr></thead><tbody><tr><td>0</td><td><details class=\"dni-treeview\"><summary><span class=\"dni-code-hint\"><code>[Text, I would like to ask you questions about coding in C#]</code></span></summary><div><table><thead><tr></tr></thead><tbody><tr><td>Key</td><td><div class=\"dni-plaintext\"><pre>Text</pre></div></td></tr><tr><td>Value</td><td><span>I would like to ask you questions about coding in C#</span></td></tr></tbody></table></div></details></td></tr><tr><td>1</td><td><details class=\"dni-treeview\"><summary><span class=\"dni-code-hint\"><code>[Embedding, Dense vector of size 1536]</code></span></summary><div><table><thead><tr></tr></thead><tbody><tr><td>Key</td><td><div class=\"dni-plaintext\"><pre>Embedding</pre></div></td></tr><tr><td>Value</td><td><details class=\"dni-treeview\"><summary><span class=\"dni-code-hint\"><code>Dense vector of size 1536</code></span></summary><div><table><thead><tr></tr></thead><tbody><tr><td>IsDense</td><td>True</td></tr><tr><td>Length</td><td>1536</td></tr></tbody></table></div></details></td></tr></tbody></table></div></details></td></tr><tr><td>2</td><td><details class=\"dni-treeview\"><summary><span class=\"dni-code-hint\"><code>[PredictedLabel, 1]</code></span></summary><div><table><thead><tr></tr></thead><tbody><tr><td>Key</td><td><div class=\"dni-plaintext\"><pre>PredictedLabel</pre></div></td></tr><tr><td>Value</td><td><div class=\"dni-plaintext\"><pre>1</pre></div></td></tr></tbody></table></div></details></td></tr><tr><td>3</td><td><details class=\"dni-treeview\"><summary><span class=\"dni-code-hint\"><code>[Score, Dense vector of size 5]</code></span></summary><div><table><thead><tr></tr></thead><tbody><tr><td>Key</td><td><div class=\"dni-plaintext\"><pre>Score</pre></div></td></tr><tr><td>Value</td><td><details class=\"dni-treeview\"><summary><span class=\"dni-code-hint\"><code>Dense vector of size 5</code></span></summary><div><table><thead><tr></tr></thead><tbody><tr><td>IsDense</td><td>True</td></tr><tr><td>Length</td><td>5</td></tr></tbody></table></div></details></td></tr></tbody></table></div></details></td></tr></tbody></table></td></tr></tbody></table></div></details></td></tr><tr><td>1</td><td><details class=\"dni-treeview\"><summary><span class=\"dni-code-hint\"><code>4 columns</code></span></summary><div><table><thead><tr></tr></thead><tbody><tr><td>Values</td><td><table><thead><tr><th><i>index</i></th><th>value</th></tr></thead><tbody><tr><td>0</td><td><details class=\"dni-treeview\"><summary><span class=\"dni-code-hint\"><code>[Text, Sure, I&#39;ll do my best to answer your questions about coding in C#. What would you like to know?]</code></span></summary><div><table><thead><tr></tr></thead><tbody><tr><td>Key</td><td><div class=\"dni-plaintext\"><pre>Text</pre></div></td></tr><tr><td>Value</td><td><span>Sure, I&#39;ll do my best to answer your questions about coding in C#. What would you like to know?</span></td></tr></tbody></table></div></details></td></tr><tr><td>1</td><td><details class=\"dni-treeview\"><summary><span class=\"dni-code-hint\"><code>[Embedding, Dense vector of size 1536]</code></span></summary><div><table><thead><tr></tr></thead><tbody><tr><td>Key</td><td><div class=\"dni-plaintext\"><pre>Embedding</pre></div></td></tr><tr><td>Value</td><td><details class=\"dni-treeview\"><summary><span class=\"dni-code-hint\"><code>Dense vector of size 1536</code></span></summary><div><table><thead><tr></tr></thead><tbody><tr><td>IsDense</td><td>True</td></tr><tr><td>Length</td><td>1536</td></tr></tbody></table></div></details></td></tr></tbody></table></div></details></td></tr><tr><td>2</td><td><details class=\"dni-treeview\"><summary><span class=\"dni-code-hint\"><code>[PredictedLabel, 1]</code></span></summary><div><table><thead><tr></tr></thead><tbody><tr><td>Key</td><td><div class=\"dni-plaintext\"><pre>PredictedLabel</pre></div></td></tr><tr><td>Value</td><td><div class=\"dni-plaintext\"><pre>1</pre></div></td></tr></tbody></table></div></details></td></tr><tr><td>3</td><td><details class=\"dni-treeview\"><summary><span class=\"dni-code-hint\"><code>[Score, Dense vector of size 5]</code></span></summary><div><table><thead><tr></tr></thead><tbody><tr><td>Key</td><td><div class=\"dni-plaintext\"><pre>Score</pre></div></td></tr><tr><td>Value</td><td><details class=\"dni-treeview\"><summary><span class=\"dni-code-hint\"><code>Dense vector of size 5</code></span></summary><div><table><thead><tr></tr></thead><tbody><tr><td>IsDense</td><td>True</td></tr><tr><td>Length</td><td>5</td></tr></tbody></table></div></details></td></tr></tbody></table></div></details></td></tr></tbody></table></td></tr></tbody></table></div></details></td></tr><tr><td>2</td><td><details class=\"dni-treeview\"><summary><span class=\"dni-code-hint\"><code>4 columns</code></span></summary><div><table><thead><tr></tr></thead><tbody><tr><td>Values</td><td><table><thead><tr><th><i>index</i></th><th>value</th></tr></thead><tbody><tr><td>0</td><td><details class=\"dni-treeview\"><summary><span class=\"dni-code-hint\"><code>[Text, How do I cook a fish?]</code></span></summary><div><table><thead><tr></tr></thead><tbody><tr><td>Key</td><td><div class=\"dni-plaintext\"><pre>Text</pre></div></td></tr><tr><td>Value</td><td><span>How do I cook a fish?</span></td></tr></tbody></table></div></details></td></tr><tr><td>1</td><td><details class=\"dni-treeview\"><summary><span class=\"dni-code-hint\"><code>[Embedding, Dense vector of size 1536]</code></span></summary><div><table><thead><tr></tr></thead><tbody><tr><td>Key</td><td><div class=\"dni-plaintext\"><pre>Embedding</pre></div></td></tr><tr><td>Value</td><td><details class=\"dni-treeview\"><summary><span class=\"dni-code-hint\"><code>Dense vector of size 1536</code></span></summary><div><table><thead><tr></tr></thead><tbody><tr><td>IsDense</td><td>True</td></tr><tr><td>Length</td><td>1536</td></tr></tbody></table></div></details></td></tr></tbody></table></div></details></td></tr><tr><td>2</td><td><details class=\"dni-treeview\"><summary><span class=\"dni-code-hint\"><code>[PredictedLabel, 4]</code></span></summary><div><table><thead><tr></tr></thead><tbody><tr><td>Key</td><td><div class=\"dni-plaintext\"><pre>PredictedLabel</pre></div></td></tr><tr><td>Value</td><td><div class=\"dni-plaintext\"><pre>4</pre></div></td></tr></tbody></table></div></details></td></tr><tr><td>3</td><td><details class=\"dni-treeview\"><summary><span class=\"dni-code-hint\"><code>[Score, Dense vector of size 5]</code></span></summary><div><table><thead><tr></tr></thead><tbody><tr><td>Key</td><td><div class=\"dni-plaintext\"><pre>Score</pre></div></td></tr><tr><td>Value</td><td><details class=\"dni-treeview\"><summary><span class=\"dni-code-hint\"><code>Dense vector of size 5</code></span></summary><div><table><thead><tr></tr></thead><tbody><tr><td>IsDense</td><td>True</td></tr><tr><td>Length</td><td>5</td></tr></tbody></table></div></details></td></tr></tbody></table></div></details></td></tr></tbody></table></td></tr></tbody></table></div></details></td></tr><tr><td>3</td><td><details class=\"dni-treeview\"><summary><span class=\"dni-code-hint\"><code>4 columns</code></span></summary><div><table><thead><tr></tr></thead><tbody><tr><td>Values</td><td><table><thead><tr><th><i>index</i></th><th>value</th></tr></thead><tbody><tr><td>0</td><td><details class=\"dni-treeview\"><summary><span class=\"dni-code-hint\"><code>[Text, As an AI language model, I don&#39;t eat or cook food, but here are some general steps to cook a fish:\\n\\n1. Clean the fish thoroughly, removing scales, guts, and other unwanted parts.\\n2. Season the fish with salt, pepper, and any other desired spices or herbs.\\n3. Heat a pan or grill to medium-...</code></span></summary><div><table><thead><tr></tr></thead><tbody><tr><td>Key</td><td><div class=\"dni-plaintext\"><pre>Text</pre></div></td></tr><tr><td>Value</td><td><span>As an AI language model, I don&#39;t eat or cook food, but here are some general steps to cook a fish:\n",
       "\n",
       "1. Clean the fish thoroughly, removing scales, guts, and other unwanted parts.\n",
       "2. Season the fish with salt, pepper, and any other desired spices or herbs.\n",
       "3. Heat a pan or grill to medium-high heat.\n",
       "4. Add oil or butter to the pan or grill.\n",
       "5. Place the fish on the pan or grill, skin-side down if applicable.\n",
       "6. Cook the fish for 3-5 minutes on each side, or until the flesh is opaque and flakes easily with a fork.\n",
       "7. Serve the fish with your desired sides and garnishes.</span></td></tr></tbody></table></div></details></td></tr><tr><td>1</td><td><details class=\"dni-treeview\"><summary><span class=\"dni-code-hint\"><code>[Embedding, Dense vector of size 1536]</code></span></summary><div><table><thead><tr></tr></thead><tbody><tr><td>Key</td><td><div class=\"dni-plaintext\"><pre>Embedding</pre></div></td></tr><tr><td>Value</td><td><details class=\"dni-treeview\"><summary><span class=\"dni-code-hint\"><code>Dense vector of size 1536</code></span></summary><div><table><thead><tr></tr></thead><tbody><tr><td>IsDense</td><td>True</td></tr><tr><td>Length</td><td>1536</td></tr></tbody></table></div></details></td></tr></tbody></table></div></details></td></tr><tr><td>2</td><td><details class=\"dni-treeview\"><summary><span class=\"dni-code-hint\"><code>[PredictedLabel, 4]</code></span></summary><div><table><thead><tr></tr></thead><tbody><tr><td>Key</td><td><div class=\"dni-plaintext\"><pre>PredictedLabel</pre></div></td></tr><tr><td>Value</td><td><div class=\"dni-plaintext\"><pre>4</pre></div></td></tr></tbody></table></div></details></td></tr><tr><td>3</td><td><details class=\"dni-treeview\"><summary><span class=\"dni-code-hint\"><code>[Score, Dense vector of size 5]</code></span></summary><div><table><thead><tr></tr></thead><tbody><tr><td>Key</td><td><div class=\"dni-plaintext\"><pre>Score</pre></div></td></tr><tr><td>Value</td><td><details class=\"dni-treeview\"><summary><span class=\"dni-code-hint\"><code>Dense vector of size 5</code></span></summary><div><table><thead><tr></tr></thead><tbody><tr><td>IsDense</td><td>True</td></tr><tr><td>Length</td><td>5</td></tr></tbody></table></div></details></td></tr></tbody></table></div></details></td></tr></tbody></table></td></tr></tbody></table></div></details></td></tr><tr><td>4</td><td><details class=\"dni-treeview\"><summary><span class=\"dni-code-hint\"><code>4 columns</code></span></summary><div><table><thead><tr></tr></thead><tbody><tr><td>Values</td><td><table><thead><tr><th><i>index</i></th><th>value</th></tr></thead><tbody><tr><td>0</td><td><details class=\"dni-treeview\"><summary><span class=\"dni-code-hint\"><code>[Text, What is a c# class?]</code></span></summary><div><table><thead><tr></tr></thead><tbody><tr><td>Key</td><td><div class=\"dni-plaintext\"><pre>Text</pre></div></td></tr><tr><td>Value</td><td><span>What is a c# class?</span></td></tr></tbody></table></div></details></td></tr><tr><td>1</td><td><details class=\"dni-treeview\"><summary><span class=\"dni-code-hint\"><code>[Embedding, Dense vector of size 1536]</code></span></summary><div><table><thead><tr></tr></thead><tbody><tr><td>Key</td><td><div class=\"dni-plaintext\"><pre>Embedding</pre></div></td></tr><tr><td>Value</td><td><details class=\"dni-treeview\"><summary><span class=\"dni-code-hint\"><code>Dense vector of size 1536</code></span></summary><div><table><thead><tr></tr></thead><tbody><tr><td>IsDense</td><td>True</td></tr><tr><td>Length</td><td>1536</td></tr></tbody></table></div></details></td></tr></tbody></table></div></details></td></tr><tr><td>2</td><td><details class=\"dni-treeview\"><summary><span class=\"dni-code-hint\"><code>[PredictedLabel, 1]</code></span></summary><div><table><thead><tr></tr></thead><tbody><tr><td>Key</td><td><div class=\"dni-plaintext\"><pre>PredictedLabel</pre></div></td></tr><tr><td>Value</td><td><div class=\"dni-plaintext\"><pre>1</pre></div></td></tr></tbody></table></div></details></td></tr><tr><td>3</td><td><details class=\"dni-treeview\"><summary><span class=\"dni-code-hint\"><code>[Score, Dense vector of size 5]</code></span></summary><div><table><thead><tr></tr></thead><tbody><tr><td>Key</td><td><div class=\"dni-plaintext\"><pre>Score</pre></div></td></tr><tr><td>Value</td><td><details class=\"dni-treeview\"><summary><span class=\"dni-code-hint\"><code>Dense vector of size 5</code></span></summary><div><table><thead><tr></tr></thead><tbody><tr><td>IsDense</td><td>True</td></tr><tr><td>Length</td><td>5</td></tr></tbody></table></div></details></td></tr></tbody></table></div></details></td></tr></tbody></table></td></tr></tbody></table></div></details></td></tr><tr><td>5</td><td><details class=\"dni-treeview\"><summary><span class=\"dni-code-hint\"><code>4 columns</code></span></summary><div><table><thead><tr></tr></thead><tbody><tr><td>Values</td><td><table><thead><tr><th><i>index</i></th><th>value</th></tr></thead><tbody><tr><td>0</td><td><details class=\"dni-treeview\"><summary><span class=\"dni-code-hint\"><code>[Text, In C#, a class is a blueprint or a template for creating objects that share common properties, methods, and events. It defines the structure and behavior of an object, including its data members (fields) and member functions (methods). \\n\\nA class can be thought of as a user-defined data type...</code></span></summary><div><table><thead><tr></tr></thead><tbody><tr><td>Key</td><td><div class=\"dni-plaintext\"><pre>Text</pre></div></td></tr><tr><td>Value</td><td><span>In C#, a class is a blueprint or a template for creating objects that share common properties, methods, and events. It defines the structure and behavior of an object, including its data members (fields) and member functions (methods). \n",
       "\n",
       "A class can be thought of as a user-defined data type that encapsulates data and behavior. It provides a way to organize and modularize code, making it easier to maintain and reuse. \n",
       "\n",
       "For example, if you were creating a program to manage a library, you might define a class called &quot;Book&quot; that contains properties such as &quot;Title&quot;, &quot;Author&quot;, and &quot;ISBN&quot;, as well as methods for checking out and returning books. You could then create multiple instances of the &quot;Book&quot; class to represent different books in the library.</span></td></tr></tbody></table></div></details></td></tr><tr><td>1</td><td><details class=\"dni-treeview\"><summary><span class=\"dni-code-hint\"><code>[Embedding, Dense vector of size 1536]</code></span></summary><div><table><thead><tr></tr></thead><tbody><tr><td>Key</td><td><div class=\"dni-plaintext\"><pre>Embedding</pre></div></td></tr><tr><td>Value</td><td><details class=\"dni-treeview\"><summary><span class=\"dni-code-hint\"><code>Dense vector of size 1536</code></span></summary><div><table><thead><tr></tr></thead><tbody><tr><td>IsDense</td><td>True</td></tr><tr><td>Length</td><td>1536</td></tr></tbody></table></div></details></td></tr></tbody></table></div></details></td></tr><tr><td>2</td><td><details class=\"dni-treeview\"><summary><span class=\"dni-code-hint\"><code>[PredictedLabel, 1]</code></span></summary><div><table><thead><tr></tr></thead><tbody><tr><td>Key</td><td><div class=\"dni-plaintext\"><pre>PredictedLabel</pre></div></td></tr><tr><td>Value</td><td><div class=\"dni-plaintext\"><pre>1</pre></div></td></tr></tbody></table></div></details></td></tr><tr><td>3</td><td><details class=\"dni-treeview\"><summary><span class=\"dni-code-hint\"><code>[Score, Dense vector of size 5]</code></span></summary><div><table><thead><tr></tr></thead><tbody><tr><td>Key</td><td><div class=\"dni-plaintext\"><pre>Score</pre></div></td></tr><tr><td>Value</td><td><details class=\"dni-treeview\"><summary><span class=\"dni-code-hint\"><code>Dense vector of size 5</code></span></summary><div><table><thead><tr></tr></thead><tbody><tr><td>IsDense</td><td>True</td></tr><tr><td>Length</td><td>5</td></tr></tbody></table></div></details></td></tr></tbody></table></div></details></td></tr></tbody></table></td></tr></tbody></table></div></details></td></tr><tr><td>6</td><td><details class=\"dni-treeview\"><summary><span class=\"dni-code-hint\"><code>4 columns</code></span></summary><div><table><thead><tr></tr></thead><tbody><tr><td>Values</td><td><table><thead><tr><th><i>index</i></th><th>value</th></tr></thead><tbody><tr><td>0</td><td><details class=\"dni-treeview\"><summary><span class=\"dni-code-hint\"><code>[Text, What is the most common modal scale in heavy metal music?]</code></span></summary><div><table><thead><tr></tr></thead><tbody><tr><td>Key</td><td><div class=\"dni-plaintext\"><pre>Text</pre></div></td></tr><tr><td>Value</td><td><span>What is the most common modal scale in heavy metal music?</span></td></tr></tbody></table></div></details></td></tr><tr><td>1</td><td><details class=\"dni-treeview\"><summary><span class=\"dni-code-hint\"><code>[Embedding, Dense vector of size 1536]</code></span></summary><div><table><thead><tr></tr></thead><tbody><tr><td>Key</td><td><div class=\"dni-plaintext\"><pre>Embedding</pre></div></td></tr><tr><td>Value</td><td><details class=\"dni-treeview\"><summary><span class=\"dni-code-hint\"><code>Dense vector of size 1536</code></span></summary><div><table><thead><tr></tr></thead><tbody><tr><td>IsDense</td><td>True</td></tr><tr><td>Length</td><td>1536</td></tr></tbody></table></div></details></td></tr></tbody></table></div></details></td></tr><tr><td>2</td><td><details class=\"dni-treeview\"><summary><span class=\"dni-code-hint\"><code>[PredictedLabel, 3]</code></span></summary><div><table><thead><tr></tr></thead><tbody><tr><td>Key</td><td><div class=\"dni-plaintext\"><pre>PredictedLabel</pre></div></td></tr><tr><td>Value</td><td><div class=\"dni-plaintext\"><pre>3</pre></div></td></tr></tbody></table></div></details></td></tr><tr><td>3</td><td><details class=\"dni-treeview\"><summary><span class=\"dni-code-hint\"><code>[Score, Dense vector of size 5]</code></span></summary><div><table><thead><tr></tr></thead><tbody><tr><td>Key</td><td><div class=\"dni-plaintext\"><pre>Score</pre></div></td></tr><tr><td>Value</td><td><details class=\"dni-treeview\"><summary><span class=\"dni-code-hint\"><code>Dense vector of size 5</code></span></summary><div><table><thead><tr></tr></thead><tbody><tr><td>IsDense</td><td>True</td></tr><tr><td>Length</td><td>5</td></tr></tbody></table></div></details></td></tr></tbody></table></div></details></td></tr></tbody></table></td></tr></tbody></table></div></details></td></tr><tr><td>7</td><td><details class=\"dni-treeview\"><summary><span class=\"dni-code-hint\"><code>4 columns</code></span></summary><div><table><thead><tr></tr></thead><tbody><tr><td>Values</td><td><table><thead><tr><th><i>index</i></th><th>value</th></tr></thead><tbody><tr><td>0</td><td><details class=\"dni-treeview\"><summary><span class=\"dni-code-hint\"><code>[Text, The most common modal scale in heavy metal music is the Phrygian mode.]</code></span></summary><div><table><thead><tr></tr></thead><tbody><tr><td>Key</td><td><div class=\"dni-plaintext\"><pre>Text</pre></div></td></tr><tr><td>Value</td><td><span>The most common modal scale in heavy metal music is the Phrygian mode.</span></td></tr></tbody></table></div></details></td></tr><tr><td>1</td><td><details class=\"dni-treeview\"><summary><span class=\"dni-code-hint\"><code>[Embedding, Dense vector of size 1536]</code></span></summary><div><table><thead><tr></tr></thead><tbody><tr><td>Key</td><td><div class=\"dni-plaintext\"><pre>Embedding</pre></div></td></tr><tr><td>Value</td><td><details class=\"dni-treeview\"><summary><span class=\"dni-code-hint\"><code>Dense vector of size 1536</code></span></summary><div><table><thead><tr></tr></thead><tbody><tr><td>IsDense</td><td>True</td></tr><tr><td>Length</td><td>1536</td></tr></tbody></table></div></details></td></tr></tbody></table></div></details></td></tr><tr><td>2</td><td><details class=\"dni-treeview\"><summary><span class=\"dni-code-hint\"><code>[PredictedLabel, 3]</code></span></summary><div><table><thead><tr></tr></thead><tbody><tr><td>Key</td><td><div class=\"dni-plaintext\"><pre>PredictedLabel</pre></div></td></tr><tr><td>Value</td><td><div class=\"dni-plaintext\"><pre>3</pre></div></td></tr></tbody></table></div></details></td></tr><tr><td>3</td><td><details class=\"dni-treeview\"><summary><span class=\"dni-code-hint\"><code>[Score, Dense vector of size 5]</code></span></summary><div><table><thead><tr></tr></thead><tbody><tr><td>Key</td><td><div class=\"dni-plaintext\"><pre>Score</pre></div></td></tr><tr><td>Value</td><td><details class=\"dni-treeview\"><summary><span class=\"dni-code-hint\"><code>Dense vector of size 5</code></span></summary><div><table><thead><tr></tr></thead><tbody><tr><td>IsDense</td><td>True</td></tr><tr><td>Length</td><td>5</td></tr></tbody></table></div></details></td></tr></tbody></table></div></details></td></tr></tbody></table></td></tr></tbody></table></div></details></td></tr><tr><td>8</td><td><details class=\"dni-treeview\"><summary><span class=\"dni-code-hint\"><code>4 columns</code></span></summary><div><table><thead><tr></tr></thead><tbody><tr><td>Values</td><td><table><thead><tr><th><i>index</i></th><th>value</th></tr></thead><tbody><tr><td>0</td><td><details class=\"dni-treeview\"><summary><span class=\"dni-code-hint\"><code>[Text, How do I setup my amplifier to play heavy metal guitar riffs?]</code></span></summary><div><table><thead><tr></tr></thead><tbody><tr><td>Key</td><td><div class=\"dni-plaintext\"><pre>Text</pre></div></td></tr><tr><td>Value</td><td><span>How do I setup my amplifier to play heavy metal guitar riffs?</span></td></tr></tbody></table></div></details></td></tr><tr><td>1</td><td><details class=\"dni-treeview\"><summary><span class=\"dni-code-hint\"><code>[Embedding, Dense vector of size 1536]</code></span></summary><div><table><thead><tr></tr></thead><tbody><tr><td>Key</td><td><div class=\"dni-plaintext\"><pre>Embedding</pre></div></td></tr><tr><td>Value</td><td><details class=\"dni-treeview\"><summary><span class=\"dni-code-hint\"><code>Dense vector of size 1536</code></span></summary><div><table><thead><tr></tr></thead><tbody><tr><td>IsDense</td><td>True</td></tr><tr><td>Length</td><td>1536</td></tr></tbody></table></div></details></td></tr></tbody></table></div></details></td></tr><tr><td>2</td><td><details class=\"dni-treeview\"><summary><span class=\"dni-code-hint\"><code>[PredictedLabel, 5]</code></span></summary><div><table><thead><tr></tr></thead><tbody><tr><td>Key</td><td><div class=\"dni-plaintext\"><pre>PredictedLabel</pre></div></td></tr><tr><td>Value</td><td><div class=\"dni-plaintext\"><pre>5</pre></div></td></tr></tbody></table></div></details></td></tr><tr><td>3</td><td><details class=\"dni-treeview\"><summary><span class=\"dni-code-hint\"><code>[Score, Dense vector of size 5]</code></span></summary><div><table><thead><tr></tr></thead><tbody><tr><td>Key</td><td><div class=\"dni-plaintext\"><pre>Score</pre></div></td></tr><tr><td>Value</td><td><details class=\"dni-treeview\"><summary><span class=\"dni-code-hint\"><code>Dense vector of size 5</code></span></summary><div><table><thead><tr></tr></thead><tbody><tr><td>IsDense</td><td>True</td></tr><tr><td>Length</td><td>5</td></tr></tbody></table></div></details></td></tr></tbody></table></div></details></td></tr></tbody></table></td></tr></tbody></table></div></details></td></tr><tr><td>9</td><td><details class=\"dni-treeview\"><summary><span class=\"dni-code-hint\"><code>4 columns</code></span></summary><div><table><thead><tr></tr></thead><tbody><tr><td>Values</td><td><table><thead><tr><th><i>index</i></th><th>value</th></tr></thead><tbody><tr><td>0</td><td><details class=\"dni-treeview\"><summary><span class=\"dni-code-hint\"><code>[Text, To set up your amplifier to play heavy metal guitar riffs, follow these steps:\\n\\n1. Start by selecting a high-gain channel on your amplifier. This will give you the distortion and overdrive necessary for heavy metal riffs.\\n\\n2. Adjust the gain knob to your desired level. For heavy metal, yo...</code></span></summary><div><table><thead><tr></tr></thead><tbody><tr><td>Key</td><td><div class=\"dni-plaintext\"><pre>Text</pre></div></td></tr><tr><td>Value</td><td><span>To set up your amplifier to play heavy metal guitar riffs, follow these steps:\n",
       "\n",
       "1. Start by selecting a high-gain channel on your amplifier. This will give you the distortion and overdrive necessary for heavy metal riffs.\n",
       "\n",
       "2. Adjust the gain knob to your desired level. For heavy metal, you&#39;ll want a high gain setting to get that crunchy, distorted sound.\n",
       "\n",
       "3. Adjust the bass, mid, and treble knobs to your liking. For heavy metal, you&#39;ll typically want to boost the bass and treble while cutting the mids to get a more aggressive sound.\n",
       "\n",
       "4. If your amplifier has a presence knob, adjust it to add more clarity and definition to your sound.\n",
       "\n",
       "5. Experiment with the volume and master volume knobs to find the right balance between volume and distortion.\n",
       "\n",
       "6. Finally, consider adding some effects like delay, reverb, or chorus to enhance your sound and add depth to your riffs.\n",
       "\n",
       "Remember, the settings that work best for heavy metal guitar riffs will depend on your personal preferences and the specific equipment you&#39;re using. Don&#39;t be afraid to experiment and try different settings until you find the sound that works best for you.</span></td></tr></tbody></table></div></details></td></tr><tr><td>1</td><td><details class=\"dni-treeview\"><summary><span class=\"dni-code-hint\"><code>[Embedding, Dense vector of size 1536]</code></span></summary><div><table><thead><tr></tr></thead><tbody><tr><td>Key</td><td><div class=\"dni-plaintext\"><pre>Embedding</pre></div></td></tr><tr><td>Value</td><td><details class=\"dni-treeview\"><summary><span class=\"dni-code-hint\"><code>Dense vector of size 1536</code></span></summary><div><table><thead><tr></tr></thead><tbody><tr><td>IsDense</td><td>True</td></tr><tr><td>Length</td><td>1536</td></tr></tbody></table></div></details></td></tr></tbody></table></div></details></td></tr><tr><td>2</td><td><details class=\"dni-treeview\"><summary><span class=\"dni-code-hint\"><code>[PredictedLabel, 5]</code></span></summary><div><table><thead><tr></tr></thead><tbody><tr><td>Key</td><td><div class=\"dni-plaintext\"><pre>PredictedLabel</pre></div></td></tr><tr><td>Value</td><td><div class=\"dni-plaintext\"><pre>5</pre></div></td></tr></tbody></table></div></details></td></tr><tr><td>3</td><td><details class=\"dni-treeview\"><summary><span class=\"dni-code-hint\"><code>[Score, Dense vector of size 5]</code></span></summary><div><table><thead><tr></tr></thead><tbody><tr><td>Key</td><td><div class=\"dni-plaintext\"><pre>Score</pre></div></td></tr><tr><td>Value</td><td><details class=\"dni-treeview\"><summary><span class=\"dni-code-hint\"><code>Dense vector of size 5</code></span></summary><div><table><thead><tr></tr></thead><tbody><tr><td>IsDense</td><td>True</td></tr><tr><td>Length</td><td>5</td></tr></tbody></table></div></details></td></tr></tbody></table></div></details></td></tr></tbody></table></td></tr></tbody></table></div></details></td></tr><tr><td>10</td><td><details class=\"dni-treeview\"><summary><span class=\"dni-code-hint\"><code>4 columns</code></span></summary><div><table><thead><tr></tr></thead><tbody><tr><td>Values</td><td><table><thead><tr><th><i>index</i></th><th>value</th></tr></thead><tbody><tr><td>0</td><td><details class=\"dni-treeview\"><summary><span class=\"dni-code-hint\"><code>[Text, What is the mest way to model embeddings in a relational database?]</code></span></summary><div><table><thead><tr></tr></thead><tbody><tr><td>Key</td><td><div class=\"dni-plaintext\"><pre>Text</pre></div></td></tr><tr><td>Value</td><td><span>What is the mest way to model embeddings in a relational database?</span></td></tr></tbody></table></div></details></td></tr><tr><td>1</td><td><details class=\"dni-treeview\"><summary><span class=\"dni-code-hint\"><code>[Embedding, Dense vector of size 1536]</code></span></summary><div><table><thead><tr></tr></thead><tbody><tr><td>Key</td><td><div class=\"dni-plaintext\"><pre>Embedding</pre></div></td></tr><tr><td>Value</td><td><details class=\"dni-treeview\"><summary><span class=\"dni-code-hint\"><code>Dense vector of size 1536</code></span></summary><div><table><thead><tr></tr></thead><tbody><tr><td>IsDense</td><td>True</td></tr><tr><td>Length</td><td>1536</td></tr></tbody></table></div></details></td></tr></tbody></table></div></details></td></tr><tr><td>2</td><td><details class=\"dni-treeview\"><summary><span class=\"dni-code-hint\"><code>[PredictedLabel, 2]</code></span></summary><div><table><thead><tr></tr></thead><tbody><tr><td>Key</td><td><div class=\"dni-plaintext\"><pre>PredictedLabel</pre></div></td></tr><tr><td>Value</td><td><div class=\"dni-plaintext\"><pre>2</pre></div></td></tr></tbody></table></div></details></td></tr><tr><td>3</td><td><details class=\"dni-treeview\"><summary><span class=\"dni-code-hint\"><code>[Score, Dense vector of size 5]</code></span></summary><div><table><thead><tr></tr></thead><tbody><tr><td>Key</td><td><div class=\"dni-plaintext\"><pre>Score</pre></div></td></tr><tr><td>Value</td><td><details class=\"dni-treeview\"><summary><span class=\"dni-code-hint\"><code>Dense vector of size 5</code></span></summary><div><table><thead><tr></tr></thead><tbody><tr><td>IsDense</td><td>True</td></tr><tr><td>Length</td><td>5</td></tr></tbody></table></div></details></td></tr></tbody></table></div></details></td></tr></tbody></table></td></tr></tbody></table></div></details></td></tr><tr><td>11</td><td><details class=\"dni-treeview\"><summary><span class=\"dni-code-hint\"><code>4 columns</code></span></summary><div><table><thead><tr></tr></thead><tbody><tr><td>Values</td><td><table><thead><tr><th><i>index</i></th><th>value</th></tr></thead><tbody><tr><td>0</td><td><details class=\"dni-treeview\"><summary><span class=\"dni-code-hint\"><code>[Text, There are several ways to model embeddings in a relational database, but one of the most common approaches is to use a table with columns for each dimension of the embedding. For example, if the embedding has 100 dimensions, the table would have 100 columns. Each row in the table would repres...</code></span></summary><div><table><thead><tr></tr></thead><tbody><tr><td>Key</td><td><div class=\"dni-plaintext\"><pre>Text</pre></div></td></tr><tr><td>Value</td><td><span>There are several ways to model embeddings in a relational database, but one of the most common approaches is to use a table with columns for each dimension of the embedding. For example, if the embedding has 100 dimensions, the table would have 100 columns. Each row in the table would represent an entity or object that has an embedding, and the values in the columns would represent the values of the embedding dimensions for that entity.\n",
       "\n",
       "Another approach is to use a separate table for each dimension of the embedding, with each table containing a single column for the values of that dimension. This approach can be more flexible and scalable, as it allows for adding or removing dimensions without having to modify the main table. However, it can also be more complex to query and join the data from multiple tables.\n",
       "\n",
       "Ultimately, the best way to model embeddings in a relational database depends on the specific requirements and constraints of the application, as well as the size and complexity of the embeddings and the data set.</span></td></tr></tbody></table></div></details></td></tr><tr><td>1</td><td><details class=\"dni-treeview\"><summary><span class=\"dni-code-hint\"><code>[Embedding, Dense vector of size 1536]</code></span></summary><div><table><thead><tr></tr></thead><tbody><tr><td>Key</td><td><div class=\"dni-plaintext\"><pre>Embedding</pre></div></td></tr><tr><td>Value</td><td><details class=\"dni-treeview\"><summary><span class=\"dni-code-hint\"><code>Dense vector of size 1536</code></span></summary><div><table><thead><tr></tr></thead><tbody><tr><td>IsDense</td><td>True</td></tr><tr><td>Length</td><td>1536</td></tr></tbody></table></div></details></td></tr></tbody></table></div></details></td></tr><tr><td>2</td><td><details class=\"dni-treeview\"><summary><span class=\"dni-code-hint\"><code>[PredictedLabel, 2]</code></span></summary><div><table><thead><tr></tr></thead><tbody><tr><td>Key</td><td><div class=\"dni-plaintext\"><pre>PredictedLabel</pre></div></td></tr><tr><td>Value</td><td><div class=\"dni-plaintext\"><pre>2</pre></div></td></tr></tbody></table></div></details></td></tr><tr><td>3</td><td><details class=\"dni-treeview\"><summary><span class=\"dni-code-hint\"><code>[Score, Dense vector of size 5]</code></span></summary><div><table><thead><tr></tr></thead><tbody><tr><td>Key</td><td><div class=\"dni-plaintext\"><pre>Score</pre></div></td></tr><tr><td>Value</td><td><details class=\"dni-treeview\"><summary><span class=\"dni-code-hint\"><code>Dense vector of size 5</code></span></summary><div><table><thead><tr></tr></thead><tbody><tr><td>IsDense</td><td>True</td></tr><tr><td>Length</td><td>5</td></tr></tbody></table></div></details></td></tr></tbody></table></div></details></td></tr></tbody></table></td></tr></tbody></table></div></details></td></tr><tr><td>12</td><td><details class=\"dni-treeview\"><summary><span class=\"dni-code-hint\"><code>4 columns</code></span></summary><div><table><thead><tr></tr></thead><tbody><tr><td>Values</td><td><table><thead><tr><th><i>index</i></th><th>value</th></tr></thead><tbody><tr><td>0</td><td><details class=\"dni-treeview\"><summary><span class=\"dni-code-hint\"><code>[Text, What is a motorbike?]</code></span></summary><div><table><thead><tr></tr></thead><tbody><tr><td>Key</td><td><div class=\"dni-plaintext\"><pre>Text</pre></div></td></tr><tr><td>Value</td><td><span>What is a motorbike?</span></td></tr></tbody></table></div></details></td></tr><tr><td>1</td><td><details class=\"dni-treeview\"><summary><span class=\"dni-code-hint\"><code>[Embedding, Dense vector of size 1536]</code></span></summary><div><table><thead><tr></tr></thead><tbody><tr><td>Key</td><td><div class=\"dni-plaintext\"><pre>Embedding</pre></div></td></tr><tr><td>Value</td><td><details class=\"dni-treeview\"><summary><span class=\"dni-code-hint\"><code>Dense vector of size 1536</code></span></summary><div><table><thead><tr></tr></thead><tbody><tr><td>IsDense</td><td>True</td></tr><tr><td>Length</td><td>1536</td></tr></tbody></table></div></details></td></tr></tbody></table></div></details></td></tr><tr><td>2</td><td><details class=\"dni-treeview\"><summary><span class=\"dni-code-hint\"><code>[PredictedLabel, 1]</code></span></summary><div><table><thead><tr></tr></thead><tbody><tr><td>Key</td><td><div class=\"dni-plaintext\"><pre>PredictedLabel</pre></div></td></tr><tr><td>Value</td><td><div class=\"dni-plaintext\"><pre>1</pre></div></td></tr></tbody></table></div></details></td></tr><tr><td>3</td><td><details class=\"dni-treeview\"><summary><span class=\"dni-code-hint\"><code>[Score, Dense vector of size 5]</code></span></summary><div><table><thead><tr></tr></thead><tbody><tr><td>Key</td><td><div class=\"dni-plaintext\"><pre>Score</pre></div></td></tr><tr><td>Value</td><td><details class=\"dni-treeview\"><summary><span class=\"dni-code-hint\"><code>Dense vector of size 5</code></span></summary><div><table><thead><tr></tr></thead><tbody><tr><td>IsDense</td><td>True</td></tr><tr><td>Length</td><td>5</td></tr></tbody></table></div></details></td></tr></tbody></table></div></details></td></tr></tbody></table></td></tr></tbody></table></div></details></td></tr><tr><td>13</td><td><details class=\"dni-treeview\"><summary><span class=\"dni-code-hint\"><code>4 columns</code></span></summary><div><table><thead><tr></tr></thead><tbody><tr><td>Values</td><td><table><thead><tr><th><i>index</i></th><th>value</th></tr></thead><tbody><tr><td>0</td><td><details class=\"dni-treeview\"><summary><span class=\"dni-code-hint\"><code>[Text, A motorbike, also known as a motorcycle or bike, is a two-wheeled vehicle powered by an engine. It typically has a seat for the rider, handlebars for steering, and footrests for the rider&#39;s feet. Motorbikes come in various sizes and styles, including sport bikes, cruisers, touring bikes, and ...</code></span></summary><div><table><thead><tr></tr></thead><tbody><tr><td>Key</td><td><div class=\"dni-plaintext\"><pre>Text</pre></div></td></tr><tr><td>Value</td><td><span>A motorbike, also known as a motorcycle or bike, is a two-wheeled vehicle powered by an engine. It typically has a seat for the rider, handlebars for steering, and footrests for the rider&#39;s feet. Motorbikes come in various sizes and styles, including sport bikes, cruisers, touring bikes, and dirt bikes. They are commonly used for transportation, recreation, and racing.</span></td></tr></tbody></table></div></details></td></tr><tr><td>1</td><td><details class=\"dni-treeview\"><summary><span class=\"dni-code-hint\"><code>[Embedding, Dense vector of size 1536]</code></span></summary><div><table><thead><tr></tr></thead><tbody><tr><td>Key</td><td><div class=\"dni-plaintext\"><pre>Embedding</pre></div></td></tr><tr><td>Value</td><td><details class=\"dni-treeview\"><summary><span class=\"dni-code-hint\"><code>Dense vector of size 1536</code></span></summary><div><table><thead><tr></tr></thead><tbody><tr><td>IsDense</td><td>True</td></tr><tr><td>Length</td><td>1536</td></tr></tbody></table></div></details></td></tr></tbody></table></div></details></td></tr><tr><td>2</td><td><details class=\"dni-treeview\"><summary><span class=\"dni-code-hint\"><code>[PredictedLabel, 1]</code></span></summary><div><table><thead><tr></tr></thead><tbody><tr><td>Key</td><td><div class=\"dni-plaintext\"><pre>PredictedLabel</pre></div></td></tr><tr><td>Value</td><td><div class=\"dni-plaintext\"><pre>1</pre></div></td></tr></tbody></table></div></details></td></tr><tr><td>3</td><td><details class=\"dni-treeview\"><summary><span class=\"dni-code-hint\"><code>[Score, Dense vector of size 5]</code></span></summary><div><table><thead><tr></tr></thead><tbody><tr><td>Key</td><td><div class=\"dni-plaintext\"><pre>Score</pre></div></td></tr><tr><td>Value</td><td><details class=\"dni-treeview\"><summary><span class=\"dni-code-hint\"><code>Dense vector of size 5</code></span></summary><div><table><thead><tr></tr></thead><tbody><tr><td>IsDense</td><td>True</td></tr><tr><td>Length</td><td>5</td></tr></tbody></table></div></details></td></tr></tbody></table></div></details></td></tr></tbody></table></td></tr></tbody></table></div></details></td></tr><tr><td>14</td><td><details class=\"dni-treeview\"><summary><span class=\"dni-code-hint\"><code>4 columns</code></span></summary><div><table><thead><tr></tr></thead><tbody><tr><td>Values</td><td><table><thead><tr><th><i>index</i></th><th>value</th></tr></thead><tbody><tr><td>0</td><td><details class=\"dni-treeview\"><summary><span class=\"dni-code-hint\"><code>[Text, What is the best way to model a motorbike in C#?]</code></span></summary><div><table><thead><tr></tr></thead><tbody><tr><td>Key</td><td><div class=\"dni-plaintext\"><pre>Text</pre></div></td></tr><tr><td>Value</td><td><span>What is the best way to model a motorbike in C#?</span></td></tr></tbody></table></div></details></td></tr><tr><td>1</td><td><details class=\"dni-treeview\"><summary><span class=\"dni-code-hint\"><code>[Embedding, Dense vector of size 1536]</code></span></summary><div><table><thead><tr></tr></thead><tbody><tr><td>Key</td><td><div class=\"dni-plaintext\"><pre>Embedding</pre></div></td></tr><tr><td>Value</td><td><details class=\"dni-treeview\"><summary><span class=\"dni-code-hint\"><code>Dense vector of size 1536</code></span></summary><div><table><thead><tr></tr></thead><tbody><tr><td>IsDense</td><td>True</td></tr><tr><td>Length</td><td>1536</td></tr></tbody></table></div></details></td></tr></tbody></table></div></details></td></tr><tr><td>2</td><td><details class=\"dni-treeview\"><summary><span class=\"dni-code-hint\"><code>[PredictedLabel, 1]</code></span></summary><div><table><thead><tr></tr></thead><tbody><tr><td>Key</td><td><div class=\"dni-plaintext\"><pre>PredictedLabel</pre></div></td></tr><tr><td>Value</td><td><div class=\"dni-plaintext\"><pre>1</pre></div></td></tr></tbody></table></div></details></td></tr><tr><td>3</td><td><details class=\"dni-treeview\"><summary><span class=\"dni-code-hint\"><code>[Score, Dense vector of size 5]</code></span></summary><div><table><thead><tr></tr></thead><tbody><tr><td>Key</td><td><div class=\"dni-plaintext\"><pre>Score</pre></div></td></tr><tr><td>Value</td><td><details class=\"dni-treeview\"><summary><span class=\"dni-code-hint\"><code>Dense vector of size 5</code></span></summary><div><table><thead><tr></tr></thead><tbody><tr><td>IsDense</td><td>True</td></tr><tr><td>Length</td><td>5</td></tr></tbody></table></div></details></td></tr></tbody></table></div></details></td></tr></tbody></table></td></tr></tbody></table></div></details></td></tr><tr><td>15</td><td><details class=\"dni-treeview\"><summary><span class=\"dni-code-hint\"><code>4 columns</code></span></summary><div><table><thead><tr></tr></thead><tbody><tr><td>Values</td><td><table><thead><tr><th><i>index</i></th><th>value</th></tr></thead><tbody><tr><td>0</td><td><details class=\"dni-treeview\"><summary><span class=\"dni-code-hint\"><code>[Text, Modeling a motorbike in C# would require the use of a 3D graphics library or game engine that supports C#. Here are the general steps to model a motorbike in C#:\\n\\n1. Choose a 3D graphics library or game engine that supports C#, such as Unity, Unreal Engine, or OpenTK.\\n2. Create a 3D model ...</code></span></summary><div><table><thead><tr></tr></thead><tbody><tr><td>Key</td><td><div class=\"dni-plaintext\"><pre>Text</pre></div></td></tr><tr><td>Value</td><td><span>Modeling a motorbike in C# would require the use of a 3D graphics library or game engine that supports C#. Here are the general steps to model a motorbike in C#:\n",
       "\n",
       "1. Choose a 3D graphics library or game engine that supports C#, such as Unity, Unreal Engine, or OpenTK.\n",
       "2. Create a 3D model of the motorbike using a 3D modeling software, such as Blender or Maya.\n",
       "3. Import the 3D model into the chosen graphics library or game engine.\n",
       "4. Apply textures and materials to the 3D model to give it a realistic appearance.\n",
       "5. Add physics and collision detection to the motorbike model to simulate its movement and interaction with the environment.\n",
       "6. Implement user input controls to allow the player to control the motorbike&#39;s movement.\n",
       "7. Test and refine the motorbike model to ensure it functions correctly and provides an enjoyable user experience.\n",
       "\n",
       "Overall, modeling a motorbike in C# requires a combination of 3D modeling skills, programming knowledge, and game development experience.</span></td></tr></tbody></table></div></details></td></tr><tr><td>1</td><td><details class=\"dni-treeview\"><summary><span class=\"dni-code-hint\"><code>[Embedding, Dense vector of size 1536]</code></span></summary><div><table><thead><tr></tr></thead><tbody><tr><td>Key</td><td><div class=\"dni-plaintext\"><pre>Embedding</pre></div></td></tr><tr><td>Value</td><td><details class=\"dni-treeview\"><summary><span class=\"dni-code-hint\"><code>Dense vector of size 1536</code></span></summary><div><table><thead><tr></tr></thead><tbody><tr><td>IsDense</td><td>True</td></tr><tr><td>Length</td><td>1536</td></tr></tbody></table></div></details></td></tr></tbody></table></div></details></td></tr><tr><td>2</td><td><details class=\"dni-treeview\"><summary><span class=\"dni-code-hint\"><code>[PredictedLabel, 1]</code></span></summary><div><table><thead><tr></tr></thead><tbody><tr><td>Key</td><td><div class=\"dni-plaintext\"><pre>PredictedLabel</pre></div></td></tr><tr><td>Value</td><td><div class=\"dni-plaintext\"><pre>1</pre></div></td></tr></tbody></table></div></details></td></tr><tr><td>3</td><td><details class=\"dni-treeview\"><summary><span class=\"dni-code-hint\"><code>[Score, Dense vector of size 5]</code></span></summary><div><table><thead><tr></tr></thead><tbody><tr><td>Key</td><td><div class=\"dni-plaintext\"><pre>Score</pre></div></td></tr><tr><td>Value</td><td><details class=\"dni-treeview\"><summary><span class=\"dni-code-hint\"><code>Dense vector of size 5</code></span></summary><div><table><thead><tr></tr></thead><tbody><tr><td>IsDense</td><td>True</td></tr><tr><td>Length</td><td>5</td></tr></tbody></table></div></details></td></tr></tbody></table></div></details></td></tr></tbody></table></td></tr></tbody></table></div></details></td></tr><tr><td>16</td><td><details class=\"dni-treeview\"><summary><span class=\"dni-code-hint\"><code>4 columns</code></span></summary><div><table><thead><tr></tr></thead><tbody><tr><td>Values</td><td><table><thead><tr><th><i>index</i></th><th>value</th></tr></thead><tbody><tr><td>0</td><td><details class=\"dni-treeview\"><summary><span class=\"dni-code-hint\"><code>[Text, Show me an example of a class that represents a motorbike using C#]</code></span></summary><div><table><thead><tr></tr></thead><tbody><tr><td>Key</td><td><div class=\"dni-plaintext\"><pre>Text</pre></div></td></tr><tr><td>Value</td><td><span>Show me an example of a class that represents a motorbike using C#</span></td></tr></tbody></table></div></details></td></tr><tr><td>1</td><td><details class=\"dni-treeview\"><summary><span class=\"dni-code-hint\"><code>[Embedding, Dense vector of size 1536]</code></span></summary><div><table><thead><tr></tr></thead><tbody><tr><td>Key</td><td><div class=\"dni-plaintext\"><pre>Embedding</pre></div></td></tr><tr><td>Value</td><td><details class=\"dni-treeview\"><summary><span class=\"dni-code-hint\"><code>Dense vector of size 1536</code></span></summary><div><table><thead><tr></tr></thead><tbody><tr><td>IsDense</td><td>True</td></tr><tr><td>Length</td><td>1536</td></tr></tbody></table></div></details></td></tr></tbody></table></div></details></td></tr><tr><td>2</td><td><details class=\"dni-treeview\"><summary><span class=\"dni-code-hint\"><code>[PredictedLabel, 1]</code></span></summary><div><table><thead><tr></tr></thead><tbody><tr><td>Key</td><td><div class=\"dni-plaintext\"><pre>PredictedLabel</pre></div></td></tr><tr><td>Value</td><td><div class=\"dni-plaintext\"><pre>1</pre></div></td></tr></tbody></table></div></details></td></tr><tr><td>3</td><td><details class=\"dni-treeview\"><summary><span class=\"dni-code-hint\"><code>[Score, Dense vector of size 5]</code></span></summary><div><table><thead><tr></tr></thead><tbody><tr><td>Key</td><td><div class=\"dni-plaintext\"><pre>Score</pre></div></td></tr><tr><td>Value</td><td><details class=\"dni-treeview\"><summary><span class=\"dni-code-hint\"><code>Dense vector of size 5</code></span></summary><div><table><thead><tr></tr></thead><tbody><tr><td>IsDense</td><td>True</td></tr><tr><td>Length</td><td>5</td></tr></tbody></table></div></details></td></tr></tbody></table></div></details></td></tr></tbody></table></td></tr></tbody></table></div></details></td></tr><tr><td>17</td><td><details class=\"dni-treeview\"><summary><span class=\"dni-code-hint\"><code>4 columns</code></span></summary><div><table><thead><tr></tr></thead><tbody><tr><td>Values</td><td><table><thead><tr><th><i>index</i></th><th>value</th></tr></thead><tbody><tr><td>0</td><td><details class=\"dni-treeview\"><summary><span class=\"dni-code-hint\"><code>[Text, Sure, here&#39;s an example of a class that represents a motorbike using C#:\\n\\n```\\npublic class Motorbike\\n{\\n    // Fields\\n    private string make;\\n    private string model;\\n    private int year;\\n    private float engineSize;\\n    private bool isRunning;\\n\\n    // Constructor\\n    public M...</code></span></summary><div><table><thead><tr></tr></thead><tbody><tr><td>Key</td><td><div class=\"dni-plaintext\"><pre>Text</pre></div></td></tr><tr><td>Value</td><td><span>Sure, here&#39;s an example of a class that represents a motorbike using C#:\n",
       "\n",
       "```\n",
       "public class Motorbike\n",
       "{\n",
       "    // Fields\n",
       "    private string make;\n",
       "    private string model;\n",
       "    private int year;\n",
       "    private float engineSize;\n",
       "    private bool isRunning;\n",
       "\n",
       "    // Constructor\n",
       "    public Motorbike(string make, string model, int year, float engineSize)\n",
       "    {\n",
       "        this.make = make;\n",
       "        this.model = model;\n",
       "        this.year = year;\n",
       "        this.engineSize = engineSize;\n",
       "        this.isRunning = false;\n",
       "    }\n",
       "\n",
       "    // Properties\n",
       "    public string Make\n",
       "    {\n",
       "        get { return make; }\n",
       "        set { make = value; }\n",
       "    }\n",
       "\n",
       "    public string Model\n",
       "    {\n",
       "        get { return model; }\n",
       "        set { model = value; }\n",
       "    }\n",
       "\n",
       "    public int Year\n",
       "    {\n",
       "        get { return year; }\n",
       "        set { year = value; }\n",
       "    }\n",
       "\n",
       "    public float EngineSize\n",
       "    {\n",
       "        get { return engineSize; }\n",
       "        set { engineSize = value; }\n",
       "    }\n",
       "\n",
       "    public bool IsRunning\n",
       "    {\n",
       "        get { return isRunning; }\n",
       "    }\n",
       "\n",
       "    // Methods\n",
       "    public void Start()\n",
       "    {\n",
       "        isRunning = true;\n",
       "        Console.WriteLine(&quot;The {0} {1} has started.&quot;, make, model);\n",
       "    }\n",
       "\n",
       "    public void Stop()\n",
       "    {\n",
       "        isRunning = false;\n",
       "        Console.WriteLine(&quot;The {0} {1} has stopped.&quot;, make, model);\n",
       "    }\n",
       "\n",
       "    public void Accelerate()\n",
       "    {\n",
       "        if (isRunning)\n",
       "        {\n",
       "            Console.WriteLine(&quot;The {0} {1} is accelerating.&quot;, make, model);\n",
       "        }\n",
       "        else\n",
       "        {\n",
       "            Console.WriteLine(&quot;The {0} {1} is not running.&quot;, make, model);\n",
       "        }\n",
       "    }\n",
       "\n",
       "    public void Brake()\n",
       "    {\n",
       "        if (isRunning)\n",
       "        {\n",
       "            Console.WriteLine(&quot;The {0} {1} is braking.&quot;, make, model);\n",
       "        }\n",
       "        else\n",
       "        {\n",
       "            Console.WriteLine(&quot;The {0} {1} is not running.&quot;, make, model);\n",
       "        }\n",
       "    }\n",
       "}\n",
       "```\n",
       "\n",
       "This class represents a motorbike with fields for the make, model, year, engine size, and running status. It has a constructor to initialize these fields, properties to get and set the fields, and methods to start, stop, accelerate, and brake the motorbike.</span></td></tr></tbody></table></div></details></td></tr><tr><td>1</td><td><details class=\"dni-treeview\"><summary><span class=\"dni-code-hint\"><code>[Embedding, Dense vector of size 1536]</code></span></summary><div><table><thead><tr></tr></thead><tbody><tr><td>Key</td><td><div class=\"dni-plaintext\"><pre>Embedding</pre></div></td></tr><tr><td>Value</td><td><details class=\"dni-treeview\"><summary><span class=\"dni-code-hint\"><code>Dense vector of size 1536</code></span></summary><div><table><thead><tr></tr></thead><tbody><tr><td>IsDense</td><td>True</td></tr><tr><td>Length</td><td>1536</td></tr></tbody></table></div></details></td></tr></tbody></table></div></details></td></tr><tr><td>2</td><td><details class=\"dni-treeview\"><summary><span class=\"dni-code-hint\"><code>[PredictedLabel, 1]</code></span></summary><div><table><thead><tr></tr></thead><tbody><tr><td>Key</td><td><div class=\"dni-plaintext\"><pre>PredictedLabel</pre></div></td></tr><tr><td>Value</td><td><div class=\"dni-plaintext\"><pre>1</pre></div></td></tr></tbody></table></div></details></td></tr><tr><td>3</td><td><details class=\"dni-treeview\"><summary><span class=\"dni-code-hint\"><code>[Score, Dense vector of size 5]</code></span></summary><div><table><thead><tr></tr></thead><tbody><tr><td>Key</td><td><div class=\"dni-plaintext\"><pre>Score</pre></div></td></tr><tr><td>Value</td><td><details class=\"dni-treeview\"><summary><span class=\"dni-code-hint\"><code>Dense vector of size 5</code></span></summary><div><table><thead><tr></tr></thead><tbody><tr><td>IsDense</td><td>True</td></tr><tr><td>Length</td><td>5</td></tr></tbody></table></div></details></td></tr></tbody></table></div></details></td></tr></tbody></table></td></tr></tbody></table></div></details></td></tr><tr><td>18</td><td><details class=\"dni-treeview\"><summary><span class=\"dni-code-hint\"><code>4 columns</code></span></summary><div><table><thead><tr></tr></thead><tbody><tr><td>Values</td><td><table><thead><tr><th><i>index</i></th><th>value</th></tr></thead><tbody><tr><td>0</td><td><details class=\"dni-treeview\"><summary><span class=\"dni-code-hint\"><code>[Text, What is the mest way to model embeddings in a relational database?]</code></span></summary><div><table><thead><tr></tr></thead><tbody><tr><td>Key</td><td><div class=\"dni-plaintext\"><pre>Text</pre></div></td></tr><tr><td>Value</td><td><span>What is the mest way to model embeddings in a relational database?</span></td></tr></tbody></table></div></details></td></tr><tr><td>1</td><td><details class=\"dni-treeview\"><summary><span class=\"dni-code-hint\"><code>[Embedding, Dense vector of size 1536]</code></span></summary><div><table><thead><tr></tr></thead><tbody><tr><td>Key</td><td><div class=\"dni-plaintext\"><pre>Embedding</pre></div></td></tr><tr><td>Value</td><td><details class=\"dni-treeview\"><summary><span class=\"dni-code-hint\"><code>Dense vector of size 1536</code></span></summary><div><table><thead><tr></tr></thead><tbody><tr><td>IsDense</td><td>True</td></tr><tr><td>Length</td><td>1536</td></tr></tbody></table></div></details></td></tr></tbody></table></div></details></td></tr><tr><td>2</td><td><details class=\"dni-treeview\"><summary><span class=\"dni-code-hint\"><code>[PredictedLabel, 2]</code></span></summary><div><table><thead><tr></tr></thead><tbody><tr><td>Key</td><td><div class=\"dni-plaintext\"><pre>PredictedLabel</pre></div></td></tr><tr><td>Value</td><td><div class=\"dni-plaintext\"><pre>2</pre></div></td></tr></tbody></table></div></details></td></tr><tr><td>3</td><td><details class=\"dni-treeview\"><summary><span class=\"dni-code-hint\"><code>[Score, Dense vector of size 5]</code></span></summary><div><table><thead><tr></tr></thead><tbody><tr><td>Key</td><td><div class=\"dni-plaintext\"><pre>Score</pre></div></td></tr><tr><td>Value</td><td><details class=\"dni-treeview\"><summary><span class=\"dni-code-hint\"><code>Dense vector of size 5</code></span></summary><div><table><thead><tr></tr></thead><tbody><tr><td>IsDense</td><td>True</td></tr><tr><td>Length</td><td>5</td></tr></tbody></table></div></details></td></tr></tbody></table></div></details></td></tr></tbody></table></td></tr></tbody></table></div></details></td></tr><tr><td>19</td><td><details class=\"dni-treeview\"><summary><span class=\"dni-code-hint\"><code>4 columns</code></span></summary><div><table><thead><tr></tr></thead><tbody><tr><td>Values</td><td><table><thead><tr><th><i>index</i></th><th>value</th></tr></thead><tbody><tr><td>0</td><td><details class=\"dni-treeview\"><summary><span class=\"dni-code-hint\"><code>[Text, There are several ways to model embeddings in a relational database, but one common approach is to use a table with columns for each dimension of the embedding. For example, if the embedding has 100 dimensions, the table would have 100 columns. Each row in the table would represent an entity ...</code></span></summary><div><table><thead><tr></tr></thead><tbody><tr><td>Key</td><td><div class=\"dni-plaintext\"><pre>Text</pre></div></td></tr><tr><td>Value</td><td><span>There are several ways to model embeddings in a relational database, but one common approach is to use a table with columns for each dimension of the embedding. For example, if the embedding has 100 dimensions, the table would have 100 columns. Each row in the table would represent an entity or object that has an embedding, and the values in the columns would represent the values of the embedding dimensions for that entity.\n",
       "\n",
       "Another approach is to use a separate table for each dimension of the embedding, with each table containing a single column for the values of that dimension. This approach can be more flexible and scalable, as it allows for adding or removing dimensions without having to modify the main table. However, it can also be more complex to query and join the data from multiple tables.\n",
       "\n",
       "Ultimately, the best way to model embeddings in a relational database depends on the specific requirements and constraints of the application, as well as the size and complexity of the embeddings and the data set.</span></td></tr></tbody></table></div></details></td></tr><tr><td>1</td><td><details class=\"dni-treeview\"><summary><span class=\"dni-code-hint\"><code>[Embedding, Dense vector of size 1536]</code></span></summary><div><table><thead><tr></tr></thead><tbody><tr><td>Key</td><td><div class=\"dni-plaintext\"><pre>Embedding</pre></div></td></tr><tr><td>Value</td><td><details class=\"dni-treeview\"><summary><span class=\"dni-code-hint\"><code>Dense vector of size 1536</code></span></summary><div><table><thead><tr></tr></thead><tbody><tr><td>IsDense</td><td>True</td></tr><tr><td>Length</td><td>1536</td></tr></tbody></table></div></details></td></tr></tbody></table></div></details></td></tr><tr><td>2</td><td><details class=\"dni-treeview\"><summary><span class=\"dni-code-hint\"><code>[PredictedLabel, 2]</code></span></summary><div><table><thead><tr></tr></thead><tbody><tr><td>Key</td><td><div class=\"dni-plaintext\"><pre>PredictedLabel</pre></div></td></tr><tr><td>Value</td><td><div class=\"dni-plaintext\"><pre>2</pre></div></td></tr></tbody></table></div></details></td></tr><tr><td>3</td><td><details class=\"dni-treeview\"><summary><span class=\"dni-code-hint\"><code>[Score, Dense vector of size 5]</code></span></summary><div><table><thead><tr></tr></thead><tbody><tr><td>Key</td><td><div class=\"dni-plaintext\"><pre>Score</pre></div></td></tr><tr><td>Value</td><td><details class=\"dni-treeview\"><summary><span class=\"dni-code-hint\"><code>Dense vector of size 5</code></span></summary><div><table><thead><tr></tr></thead><tbody><tr><td>IsDense</td><td>True</td></tr><tr><td>Length</td><td>5</td></tr></tbody></table></div></details></td></tr></tbody></table></div></details></td></tr></tbody></table></td></tr></tbody></table></div></details></td></tr><tr><td colspan=\"2\"><i>(12 more)</i></td></tr></tbody></table></td></tr></tbody></table></div></details><style>\r\n",
       ".dni-code-hint {\r\n",
       "    font-style: italic;\r\n",
       "    overflow: hidden;\r\n",
       "    white-space: nowrap;\r\n",
       "}\r\n",
       ".dni-treeview {\r\n",
       "    white-space: nowrap;\r\n",
       "}\r\n",
       ".dni-treeview td {\r\n",
       "    vertical-align: top;\r\n",
       "    text-align: start;\r\n",
       "}\r\n",
       "details.dni-treeview {\r\n",
       "    padding-left: 1em;\r\n",
       "}\r\n",
       "table td {\r\n",
       "    text-align: start;\r\n",
       "}\r\n",
       "table tr { \r\n",
       "    vertical-align: top; \r\n",
       "    margin: 0em 0px;\r\n",
       "}\r\n",
       "table tr td pre \r\n",
       "{ \r\n",
       "    vertical-align: top !important; \r\n",
       "    margin: 0em 0px !important;\r\n",
       "} \r\n",
       "table th {\r\n",
       "    text-align: start;\r\n",
       "}\r\n",
       "</style>"
      ]
     },
     "metadata": {},
     "output_type": "display_data"
    }
   ],
   "source": [
    "clusteredData.Preview().Display();"
   ]
  },
  {
   "cell_type": "markdown",
   "id": "564c0c4e",
   "metadata": {},
   "source": [
    "## Lets find what has been covered in the conversation.\n",
    "Now that we have the `KMean` model we can look at the centroids, they represent the topic that turns had in common. "
   ]
  },
  {
   "cell_type": "code",
   "execution_count": 37,
   "metadata": {
    "dotnet_interactive": {
     "language": "csharp"
    },
    "polyglot_notebook": {
     "kernelName": "csharp"
    }
   },
   "outputs": [],
   "source": [
    "VBuffer<float>[] centroids = default;"
   ]
  },
  {
   "cell_type": "code",
   "execution_count": 38,
   "metadata": {
    "dotnet_interactive": {
     "language": "csharp"
    },
    "polyglot_notebook": {
     "kernelName": "csharp"
    }
   },
   "outputs": [],
   "source": [
    "model.Model.GetClusterCentroids(ref centroids, out var _);"
   ]
  },
  {
   "cell_type": "code",
   "execution_count": null,
   "metadata": {
    "dotnet_interactive": {
     "language": "csharp"
    },
    "polyglot_notebook": {
     "kernelName": "csharp"
    }
   },
   "outputs": [],
   "source": [
    "centroids.Display();"
   ]
  },
  {
   "cell_type": "markdown",
   "id": "c2d4a9cf",
   "metadata": {},
   "source": [
    "now using `Microsoft.DotNet.Interactive.AIUtilities` and the extension `ScoreBySimilarityTo` we will try to collect the top 3 questions and 3 answer that are very close to each topic."
   ]
  },
  {
   "cell_type": "code",
   "execution_count": 39,
   "metadata": {
    "dotnet_interactive": {
     "language": "csharp"
    },
    "polyglot_notebook": {
     "kernelName": "csharp"
    }
   },
   "outputs": [],
   "source": [
    "using Microsoft.DotNet.Interactive.AIUtilities;\n",
    "\n",
    "var log = chatCompletionKernel.ChatLog;\n",
    "\n",
    "var examples = centroids.Select(c => {\n",
    "    var embedding = c.GetValues().ToArray();\n",
    "    var questions = log.Turns\n",
    "        .OfType<ChatLog.ChatUserTurn>()\n",
    "        .ScoreBySimilarityTo(embedding, new CosineSimilarityComparer<float[]>(v => v), turn => turn.QuestionTexEmbedding )\n",
    "        .OrderByDescending(e => e.Value)\n",
    "        .Where(e => e.Value > 0.8)\n",
    "        .Take(3)\n",
    "        .Select(e => e.Key.Question)\n",
    "        .ToArray();\n",
    "\n",
    "    var answers = log.Turns\n",
    "        .OfType<ChatLog.ChatUserTurn>()\n",
    "        .ScoreBySimilarityTo(embedding, new CosineSimilarityComparer<float[]>(v => v), turn => turn.AnswerTexEmbedding )\n",
    "        .OrderByDescending(e => e.Value)\n",
    "        .Where(e => e.Value > 0.8)\n",
    "        .Take(3)\n",
    "        .Select(e => e.Key.Answer)\n",
    "        .ToArray();\n",
    "   return new {\n",
    "        CenstroidEmbedding = embedding,\n",
    "        Text = questions.Concat(answers).ToArray()\n",
    "        };\n",
    "    }\n",
    ").ToArray();\n"
   ]
  },
  {
   "cell_type": "code",
   "execution_count": 40,
   "metadata": {
    "dotnet_interactive": {
     "language": "csharp"
    },
    "polyglot_notebook": {
     "kernelName": "csharp"
    }
   },
   "outputs": [
    {
     "data": {
      "text/html": [
       "<table><thead><tr><th><i>index</i></th><th>value</th></tr></thead><tbody><tr><td>0</td><td><details class=\"dni-treeview\"><summary><span class=\"dni-code-hint\"><code>{ CenstroidEmbedding = System.Single[], Text = System.String[] }</code></span></summary><div><table><thead><tr></tr></thead><tbody><tr><td>CenstroidEmbedding</td><td><div class=\"dni-plaintext\"><pre>[ -0.0045551048, 0.006455068, -0.004881875, -0.02412982, -0.018067542, 0.0007876146, -0.004960471, -0.0052060722, -0.010661278, -0.043034513, 0.0052415035, 0.021151206, -0.003764674, -0.002854415, -0.0026767273, 0.01568986, 0.025198301, -0.0018648285, 0.012310172, -0.001751964 ... (1516 more) ]</pre></div></td></tr><tr><td>Text</td><td><div class=\"dni-plaintext\"><pre>[ Then, what is the best way to represent a motorbike in C# using classes and interfaces? I am thinking of making a motorbike racing game in .NET., Then, what is the best way to represent a motorbike in C# using classes and interfaces? I am thinking of making a motorbike racing game in .NET., Then, what is the best way to represent a motorbike in C# using classes and interfaces?, The best way to represent a motorbike in C# using classes and interfaces would be to create a base class for the motorbike and then create derived classes for each specific type of motorbike. Here&#39;s an example:\n",
       "\n",
       "```\n",
       "public abstract class Motorbike\n",
       "{\n",
       "    // Fields\n",
       "    protected string make;\n",
       "    protected string model;\n",
       "    protected int year;\n",
       "    protected float engineSize;\n",
       "    protected bool isRunning;\n",
       "\n",
       "    // Constructor\n",
       "    public Motorbike(string make, string model, int year, float engineSize)\n",
       "    {\n",
       "        this.make = make;\n",
       "        this.model = model;\n",
       "        this.year = year;\n",
       "        this.engineSize = engineSize;\n",
       "        this.isRunning = false;\n",
       "    }\n",
       "\n",
       "    // Properties\n",
       "    public string Make\n",
       "    {\n",
       "        get { return make; }\n",
       "        set { make = value; }\n",
       "    }\n",
       "\n",
       "    public string Model\n",
       "    {\n",
       "        get { return model; }\n",
       "        set { model = value; }\n",
       "    }\n",
       "\n",
       "    public int Year\n",
       "    {\n",
       "        get { return year; }\n",
       "        set { year = value; }\n",
       "    }\n",
       "\n",
       "    public float EngineSize\n",
       "    {\n",
       "        get { return engineSize; }\n",
       "        set { engineSize = value; }\n",
       "    }\n",
       "\n",
       "    public bool IsRunning\n",
       "    {\n",
       "        get { return isRunning; }\n",
       "    }\n",
       "\n",
       "    // Methods\n",
       "    public virtual void Start()\n",
       "    {\n",
       "        isRunning = true;\n",
       "        Console.WriteLine(&quot;The {0} {1} has started.&quot;, make, model);\n",
       "    }\n",
       "\n",
       "    public virtual void Stop()\n",
       "    {\n",
       "        isRunning = false;\n",
       "        Console.WriteLine(&quot;The {0} {1} has stopped.&quot;, make, model);\n",
       "    }\n",
       "\n",
       "    public abstract void Accelerate();\n",
       "\n",
       "    public abstract void Brake();\n",
       "}\n",
       "\n",
       "public class SportBike : Motorbike\n",
       "{\n",
       "    // Constructor\n",
       "    public SportBike(string make, string model, int year, float engineSize) : base(make, model, year, engineSize)\n",
       "    {\n",
       "    }\n",
       "\n",
       "    // Methods\n",
       "    public override void Accelerate()\n",
       "    {\n",
       "        if (isRunning)\n",
       "        {\n",
       "            Console.WriteLine(&quot;The {0} {1} is accelerating quickly.&quot;, make, model);\n",
       "        }\n",
       "        else\n",
       "        {\n",
       "            Console.WriteLine(&quot;The {0} {1} is not running.&quot;, make, model);\n",
       "        }\n",
       "    }\n",
       "\n",
       "    public override void Brake()\n",
       "    {\n",
       "        if (isRunning)\n",
       "        {\n",
       "            Console.WriteLine(&quot;The {0} {1} is braking quickly.&quot;, make, model);\n",
       "        }\n",
       "        else\n",
       "        {\n",
       "            Console.WriteLine(&quot;The {0} {1} is not running.&quot;, make, model);\n",
       "        }\n",
       "    }\n",
       "}\n",
       "\n",
       "public class Cruiser : Motorbike\n",
       "{\n",
       "    // Constructor\n",
       "    public Cruiser(string make, string model, int year, float engineSize) : base(make, model, year, engineSize)\n",
       "    {\n",
       "    }\n",
       "\n",
       "    // Methods\n",
       "    public override void Accelerate()\n",
       "    {\n",
       "        if (isRunning)\n",
       "        {\n",
       "            Console.WriteLine(&quot;The {0} {1} is accelerating smoothly.&quot;, make, model);\n",
       "        }\n",
       "        else\n",
       "        {\n",
       "            Console.WriteLine(&quot;The {0} {1} is not running.&quot;, make, model);\n",
       "        }\n",
       "    }\n",
       "\n",
       "    public override void Brake()\n",
       "    {\n",
       "        if (isRunning)\n",
       "        {\n",
       "            Console.WriteLine(&quot;The {0} {1} is braking smoothly.&quot;, make, model);\n",
       "        }\n",
       "        else\n",
       "        {\n",
       "            Console.WriteLine(&quot;The {0} {1} is not running.&quot;, make, model);\n",
       "        }\n",
       "    }\n",
       "}\n",
       "```\n",
       "\n",
       "In this example, the `Motorbike` class is an abstract base class that defines the common fields and methods for all types of motorbikes. The `SportBike` and `Cruiser` classes are derived classes that inherit from the `Motorbike` class and implement the `Accelerate` and `Brake` methods in their own specific ways. \n",
       "\n",
       "Using this approach, you can easily add new types of motorbikes by creating new derived classes that inherit from the `Motorbike` class and implement their own unique behavior. Additionally, you can use interfaces to define common behavior for all motorbikes, such as `IMotorbike` interface that defines methods for starting, stopping, accelerating, and braking., Sure, here&#39;s an example of a class that represents a motorbike using C#:\n",
       "\n",
       "```\n",
       "public class Motorbike\n",
       "{\n",
       "    // Fields\n",
       "    private string make;\n",
       "    private string model;\n",
       "    private int year;\n",
       "    private float engineSize;\n",
       "    private bool isRunning;\n",
       "\n",
       "    // Constructor\n",
       "    public Motorbike(string make, string model, int year, float engineSize)\n",
       "    {\n",
       "        this.make = make;\n",
       "        this.model = model;\n",
       "        this.year = year;\n",
       "        this.engineSize = engineSize;\n",
       "        this.isRunning = false;\n",
       "    }\n",
       "\n",
       "    // Properties\n",
       "    public string Make\n",
       "    {\n",
       "        get { return make; }\n",
       "        set { make = value; }\n",
       "    }\n",
       "\n",
       "    public string Model\n",
       "    {\n",
       "        get { return model; }\n",
       "        set { model = value; }\n",
       "    }\n",
       "\n",
       "    public int Year\n",
       "    {\n",
       "        get { return year; }\n",
       "        set { year = value; }\n",
       "    }\n",
       "\n",
       "    public float EngineSize\n",
       "    {\n",
       "        get { return engineSize; }\n",
       "        set { engineSize = value; }\n",
       "    }\n",
       "\n",
       "    public bool IsRunning\n",
       "    {\n",
       "        get { return isRunning; }\n",
       "    }\n",
       "\n",
       "    // Methods\n",
       "    public void Start()\n",
       "    {\n",
       "        isRunning = true;\n",
       "        Console.WriteLine(&quot;The {0} {1} has started.&quot;, make, model);\n",
       "    }\n",
       "\n",
       "    public void Stop()\n",
       "    {\n",
       "        isRunning = false;\n",
       "        Console.WriteLine(&quot;The {0} {1} has stopped.&quot;, make, model);\n",
       "    }\n",
       "\n",
       "    public void Accelerate()\n",
       "    {\n",
       "        if (isRunning)\n",
       "        {\n",
       "            Console.WriteLine(&quot;The {0} {1} is accelerating.&quot;, make, model);\n",
       "        }\n",
       "        else\n",
       "        {\n",
       "            Console.WriteLine(&quot;The {0} {1} is not running.&quot;, make, model);\n",
       "        }\n",
       "    }\n",
       "\n",
       "    public void Brake()\n",
       "    {\n",
       "        if (isRunning)\n",
       "        {\n",
       "            Console.WriteLine(&quot;The {0} {1} is braking.&quot;, make, model);\n",
       "        }\n",
       "        else\n",
       "        {\n",
       "            Console.WriteLine(&quot;The {0} {1} is not running.&quot;, make, model);\n",
       "        }\n",
       "    }\n",
       "}\n",
       "```\n",
       "\n",
       "This class represents a motorbike with fields for the make, model, year, engine size, and running status. It has a constructor to initialize these fields, properties to get and set the fields, and methods to start, stop, accelerate, and brake the motorbike., The best way to represent a motorbike in C# using classes and interfaces would be to create a base class for the motorbike and then create derived classes for each specific type of motorbike. Here&#39;s an example:\n",
       "\n",
       "```\n",
       "public abstract class Motorbike\n",
       "{\n",
       "    // Fields\n",
       "    protected string make;\n",
       "    protected string model;\n",
       "    protected int year;\n",
       "    protected float engineSize;\n",
       "    protected bool isRunning;\n",
       "\n",
       "    // Constructor\n",
       "    public Motorbike(string make, string model, int year, float engineSize)\n",
       "    {\n",
       "        this.make = make;\n",
       "        this.model = model;\n",
       "        this.year = year;\n",
       "        this.engineSize = engineSize;\n",
       "        this.isRunning = false;\n",
       "    }\n",
       "\n",
       "    // Properties\n",
       "    public string Make\n",
       "    {\n",
       "        get { return make; }\n",
       "        set { make = value; }\n",
       "    }\n",
       "\n",
       "    public string Model\n",
       "    {\n",
       "        get { return model; }\n",
       "        set { model = value; }\n",
       "    }\n",
       "\n",
       "    public int Year\n",
       "    {\n",
       "        get { return year; }\n",
       "        set { year = value; }\n",
       "    }\n",
       "\n",
       "    public float EngineSize\n",
       "    {\n",
       "        get { return engineSize; }\n",
       "        set { engineSize = value; }\n",
       "    }\n",
       "\n",
       "    public bool IsRunning\n",
       "    {\n",
       "        get { return isRunning; }\n",
       "    }\n",
       "\n",
       "    // Methods\n",
       "    public virtual void Start()\n",
       "    {\n",
       "        isRunning = true;\n",
       "        Console.WriteLine(&quot;The {0} {1} has started.&quot;, make, model);\n",
       "    }\n",
       "\n",
       "    public virtual void Stop()\n",
       "    {\n",
       "        isRunning = false;\n",
       "        Console.WriteLine(&quot;The {0} {1} has stopped.&quot;, make, model);\n",
       "    }\n",
       "\n",
       "    public abstract void Accelerate();\n",
       "\n",
       "    public abstract void Brake();\n",
       "}\n",
       "\n",
       "public class SportBike : Motorbike\n",
       "{\n",
       "    // Constructor\n",
       "    public SportBike(string make, string model, int year, float engineSize) : base(make, model, year, engineSize)\n",
       "    {\n",
       "    }\n",
       "\n",
       "    // Methods\n",
       "    public override void Accelerate()\n",
       "    {\n",
       "        if (isRunning)\n",
       "        {\n",
       "            Console.WriteLine(&quot;The {0} {1} is accelerating quickly.&quot;, make, model);\n",
       "        }\n",
       "        else\n",
       "        {\n",
       "            Console.WriteLine(&quot;The {0} {1} is not running.&quot;, make, model);\n",
       "        }\n",
       "    }\n",
       "\n",
       "    public override void Brake()\n",
       "    {\n",
       "        if (isRunning)\n",
       "        {\n",
       "            Console.WriteLine(&quot;The {0} {1} is braking quickly.&quot;, make, model);\n",
       "        }\n",
       "        else\n",
       "        {\n",
       "            Console.WriteLine(&quot;The {0} {1} is not running.&quot;, make, model);\n",
       "        }\n",
       "    }\n",
       "}\n",
       "\n",
       "public class Cruiser : Motorbike\n",
       "{\n",
       "    // Constructor\n",
       "    public Cruiser(string make, string model, int year, float engineSize) : base(make, model, year, engineSize)\n",
       "    {\n",
       "    }\n",
       "\n",
       "    // Methods\n",
       "    public override void Accelerate()\n",
       "    {\n",
       "        if (isRunning)\n",
       "        {\n",
       "            Console.WriteLine(&quot;The {0} {1} is accelerating smoothly.&quot;, make, model);\n",
       "        }\n",
       "        else\n",
       "        {\n",
       "            Console.WriteLine(&quot;The {0} {1} is not running.&quot;, make, model);\n",
       "        }\n",
       "    }\n",
       "\n",
       "    public override void Brake()\n",
       "    {\n",
       "        if (isRunning)\n",
       "        {\n",
       "            Console.WriteLine(&quot;The {0} {1} is braking smoothly.&quot;, make, model);\n",
       "        }\n",
       "        else\n",
       "        {\n",
       "            Console.WriteLine(&quot;The {0} {1} is not running.&quot;, make, model);\n",
       "        }\n",
       "    }\n",
       "}\n",
       "\n",
       "public interface IMotorbike\n",
       "{\n",
       "    void Start();\n",
       "    void Stop();\n",
       "    void Accelerate();\n",
       "    void Brake();\n",
       "}\n",
       "```\n",
       "\n",
       "In this example, the `Motorbike` class is an abstract base class that defines the common fields and methods for all types of motorbikes. The `SportBike` and `Cruiser` classes are derived classes that inherit from the `Motorbike` class and implement the `Accelerate` and `Brake` methods in their own specific ways. \n",
       "\n",
       "Additionally, an `IMotorbike` interface is defined to provide a common set of methods that all motorbikes must implement. This allows for greater flexibility and modularity in the code, as any class that implements the `IMotorbike` interface can be treated as a motorbike, regardless of its specific type. ]</pre></div></td></tr></tbody></table></div></details></td></tr><tr><td>1</td><td><details class=\"dni-treeview\"><summary><span class=\"dni-code-hint\"><code>{ CenstroidEmbedding = System.Single[], Text = System.String[] }</code></span></summary><div><table><thead><tr></tr></thead><tbody><tr><td>CenstroidEmbedding</td><td><div class=\"dni-plaintext\"><pre>[ -0.019690322, 0.0074574924, 0.0125079015, -0.03223809, -0.013383181, 0.014590225, -0.0023842067, -0.011381577, -0.01262123, -0.037007995, -0.009087111, 0.015590968, 0.0020191246, 0.015170503, -0.010306402, 0.023493309, 0.02167419, 0.016822029, 0.02860094, -0.024521086 ... (1516 more) ]</pre></div></td></tr><tr><td>Text</td><td><div class=\"dni-plaintext\"><pre>[ What is the mest way to model embeddings in a relational database?, What is the mest way to model embeddings in a relational database?, There are several ways to model embeddings in a relational database, but one of the most common approaches is to use a table with columns for each dimension of the embedding. For example, if the embedding has 100 dimensions, the table would have 100 columns. Each row in the table would represent an entity or object that has an embedding, and the values in the columns would represent the values of the embedding dimensions for that entity.\n",
       "\n",
       "Another approach is to use a separate table for each dimension of the embedding, with each table containing a single column for the values of that dimension. This approach can be more flexible and scalable, as it allows for adding or removing dimensions without having to modify the main table. However, it can also be more complex to query and join the data from multiple tables.\n",
       "\n",
       "Ultimately, the best way to model embeddings in a relational database depends on the specific requirements and constraints of the application, as well as the size and complexity of the embeddings and the data set., There are several ways to model embeddings in a relational database, but one common approach is to use a table with columns for each dimension of the embedding. For example, if the embedding has 100 dimensions, the table would have 100 columns. Each row in the table would represent an entity or object that has an embedding, and the values in the columns would represent the values of the embedding dimensions for that entity.\n",
       "\n",
       "Another approach is to use a separate table for each dimension of the embedding, with each table containing a single column for the values of that dimension. This approach can be more flexible and scalable, as it allows for adding or removing dimensions without having to modify the main table. However, it can also be more complex to query and join the data from multiple tables.\n",
       "\n",
       "Ultimately, the best way to model embeddings in a relational database depends on the specific requirements and constraints of the application, as well as the size and complexity of the embeddings and the data set. ]</pre></div></td></tr></tbody></table></div></details></td></tr><tr><td>2</td><td><details class=\"dni-treeview\"><summary><span class=\"dni-code-hint\"><code>{ CenstroidEmbedding = System.Single[], Text = System.String[] }</code></span></summary><div><table><thead><tr></tr></thead><tbody><tr><td>CenstroidEmbedding</td><td><div class=\"dni-plaintext\"><pre>[ 0.019309083, -0.019269338, 0.011363486, -0.03139314, -0.020371001, 0.019811884, -0.031179953, -0.022803467, 0.0018026272, -0.012925929, 0.009142992, 0.0033195533, -0.008282289, 0.012882266, -0.016962307, 0.012483177, 0.030233376, 0.007203494, 0.005841951, 0.0005095892 ... (1516 more) ]</pre></div></td></tr><tr><td>Text</td><td><div class=\"dni-plaintext\"><pre>[ What is the most common modal scale in heavy metal music?, How do I setup my amplifier to play heavy metal guitar riffs?, The most common modal scale in heavy metal music is the Phrygian mode. ]</pre></div></td></tr></tbody></table></div></details></td></tr><tr><td>3</td><td><details class=\"dni-treeview\"><summary><span class=\"dni-code-hint\"><code>{ CenstroidEmbedding = System.Single[], Text = System.String[] }</code></span></summary><div><table><thead><tr></tr></thead><tbody><tr><td>CenstroidEmbedding</td><td><div class=\"dni-plaintext\"><pre>[ 0.025924776, 0.009006391, -0.0034855865, 0.0031638218, -0.013990513, 0.001340036, -0.03153697, -0.015431978, -0.013966864, -0.03650188, 0.0111081395, 0.016827773, -0.020932883, -0.009962637, -0.01634736, 0.019313686, 0.03336887, 0.020132894, 0.021527618, -0.01802596 ... (1516 more) ]</pre></div></td></tr><tr><td>Text</td><td><div class=\"dni-plaintext\"><pre>[ How do I cook a fish?, As an AI language model, I don&#39;t eat or cook food, but here are some general steps to cook a fish:\n",
       "\n",
       "1. Clean the fish thoroughly, removing scales, guts, and other unwanted parts.\n",
       "2. Season the fish with salt, pepper, and any other desired spices or herbs.\n",
       "3. Heat a pan or grill to medium-high heat.\n",
       "4. Add oil or butter to the pan or grill.\n",
       "5. Place the fish on the pan or grill, skin-side down if applicable.\n",
       "6. Cook the fish for 3-5 minutes on each side, or until the flesh is opaque and flakes easily with a fork.\n",
       "7. Serve the fish with your desired sides and garnishes. ]</pre></div></td></tr></tbody></table></div></details></td></tr><tr><td>4</td><td><details class=\"dni-treeview\"><summary><span class=\"dni-code-hint\"><code>{ CenstroidEmbedding = System.Single[], Text = System.String[] }</code></span></summary><div><table><thead><tr></tr></thead><tbody><tr><td>CenstroidEmbedding</td><td><div class=\"dni-plaintext\"><pre>[ -0.004719562, -0.016547356, -0.012674535, -0.018823992, -0.0060666567, 0.03347228, -0.009583241, -0.036992565, -0.02607778, -0.0056306776, 0.0031455639, -0.005547706, 0.0018215985, 0.005364747, -0.0014557588, 0.008105663, 0.018891498, 0.01604237, 0.0009886855, -0.015773943 ... (1516 more) ]</pre></div></td></tr><tr><td>Text</td><td><div class=\"dni-plaintext\"><pre>[ How do I setup my amplifier to play heavy metal guitar riffs?, What is the most common modal scale in heavy metal music?, To set up your amplifier to play heavy metal guitar riffs, follow these steps:\n",
       "\n",
       "1. Start by selecting a high-gain channel on your amplifier. This will give you the distortion and overdrive necessary for heavy metal riffs.\n",
       "\n",
       "2. Adjust the gain knob to your desired level. For heavy metal, you&#39;ll want a high gain setting to get that crunchy, distorted sound.\n",
       "\n",
       "3. Adjust the bass, mid, and treble knobs to your liking. For heavy metal, you&#39;ll typically want to boost the bass and treble while cutting the mids to get a more aggressive sound.\n",
       "\n",
       "4. If your amplifier has a presence knob, adjust it to add more clarity and definition to your sound.\n",
       "\n",
       "5. Experiment with the volume and master volume knobs to find the right balance between volume and distortion.\n",
       "\n",
       "6. Finally, consider adding some effects like delay, reverb, or chorus to enhance your sound and add depth to your riffs.\n",
       "\n",
       "Remember, the settings that work best for heavy metal guitar riffs will depend on your personal preferences and the specific equipment you&#39;re using. Don&#39;t be afraid to experiment and try different settings until you find the sound that works best for you. ]</pre></div></td></tr></tbody></table></div></details></td></tr></tbody></table><style>\r\n",
       ".dni-code-hint {\r\n",
       "    font-style: italic;\r\n",
       "    overflow: hidden;\r\n",
       "    white-space: nowrap;\r\n",
       "}\r\n",
       ".dni-treeview {\r\n",
       "    white-space: nowrap;\r\n",
       "}\r\n",
       ".dni-treeview td {\r\n",
       "    vertical-align: top;\r\n",
       "    text-align: start;\r\n",
       "}\r\n",
       "details.dni-treeview {\r\n",
       "    padding-left: 1em;\r\n",
       "}\r\n",
       "table td {\r\n",
       "    text-align: start;\r\n",
       "}\r\n",
       "table tr { \r\n",
       "    vertical-align: top; \r\n",
       "    margin: 0em 0px;\r\n",
       "}\r\n",
       "table tr td pre \r\n",
       "{ \r\n",
       "    vertical-align: top !important; \r\n",
       "    margin: 0em 0px !important;\r\n",
       "} \r\n",
       "table th {\r\n",
       "    text-align: start;\r\n",
       "}\r\n",
       "</style>"
      ]
     },
     "metadata": {},
     "output_type": "display_data"
    }
   ],
   "source": [
    "examples.Display();"
   ]
  },
  {
   "cell_type": "markdown",
   "id": "765e148d",
   "metadata": {},
   "source": [
    "Using the `TextCompletion` kernel we will try to generate a label for each centroid using the examples we collected"
   ]
  },
  {
   "cell_type": "code",
   "execution_count": 41,
   "metadata": {
    "dotnet_interactive": {
     "language": "csharp"
    },
    "polyglot_notebook": {
     "kernelName": "csharp"
    }
   },
   "outputs": [],
   "source": [
    "var textCompletionKernel = Microsoft.DotNet.Interactive.Kernel.Root.FindKernelByName(\"chat(text)\") as TextCompletionKernel;"
   ]
  },
  {
   "cell_type": "code",
   "execution_count": 42,
   "metadata": {
    "dotnet_interactive": {
     "language": "csharp"
    },
    "polyglot_notebook": {
     "kernelName": "csharp"
    }
   },
   "outputs": [],
   "source": [
    "using Microsoft.DotNet.Interactive.Events;\n",
    "public record CentroidLabel(string Label, float[] Embedding);\n",
    "var labels = new List<CentroidLabel>();\n",
    "foreach (var example in examples)\n",
    "{\n",
    "    textCompletionKernel.SetSuppressDisplay(true);\n",
    "    var result = await textCompletionKernel.SendAsync(\n",
    "        new SubmitCode(\n",
    "\"\"\"\n",
    "Give the following conversation examples, please provide a label that classifies the topic being discussed. Return a single respose and that should be a single label, not a list. Thhe label will be used to classify future conversations. make sure not to returl a list, or bulelt points, only a single line response.\n",
    "\n",
    "The response should be in like : \n",
    "\n",
    "Topic : Prorgramming\n",
    "\n",
    "\n",
    "Here are the conversation examples :\n",
    "\n",
    "\"\"\"+ string.Join(\"\\n\", example.Text.Select(t => $\"- {t}\"))\n",
    "));\n",
    "    textCompletionKernel.SetSuppressDisplay(false);\n",
    "    var response = result.Events.OfType<ReturnValueProduced>().Last().FormattedValues.First(fm => fm.MimeType == \"text/plain\").Value;\n",
    "    labels.Add(new CentroidLabel(response, example.CenstroidEmbedding));\n",
    "}"
   ]
  },
  {
   "cell_type": "markdown",
   "id": "98f1c2d7",
   "metadata": {},
   "source": [
    "And this is the resul!"
   ]
  },
  {
   "cell_type": "code",
   "execution_count": 43,
   "metadata": {
    "dotnet_interactive": {
     "language": "csharp"
    },
    "polyglot_notebook": {
     "kernelName": "csharp"
    }
   },
   "outputs": [
    {
     "data": {
      "text/html": [
       "<table><thead><tr><th><i>index</i></th><th>value</th></tr></thead><tbody><tr><td>0</td><td><details class=\"dni-treeview\"><summary><span class=\"dni-code-hint\"><code>CentroidLabel { Label = Topic: Programming, Embedding = System.Single[] }</code></span></summary><div><table><thead><tr></tr></thead><tbody><tr><td>Label</td><td><div class=\"dni-plaintext\"><pre>Topic: Programming</pre></div></td></tr><tr><td>Embedding</td><td><div class=\"dni-plaintext\"><pre>[ -0.0045551048, 0.006455068, -0.004881875, -0.02412982, -0.018067542, 0.0007876146, -0.004960471, -0.0052060722, -0.010661278, -0.043034513, 0.0052415035, 0.021151206, -0.003764674, -0.002854415, -0.0026767273, 0.01568986, 0.025198301, -0.0018648285, 0.012310172, -0.001751964 ... (1516 more) ]</pre></div></td></tr></tbody></table></div></details></td></tr><tr><td>1</td><td><details class=\"dni-treeview\"><summary><span class=\"dni-code-hint\"><code>CentroidLabel { Label = Topic: Database modeling, Embedding = System.Single[] }</code></span></summary><div><table><thead><tr></tr></thead><tbody><tr><td>Label</td><td><div class=\"dni-plaintext\"><pre>Topic: Database modeling</pre></div></td></tr><tr><td>Embedding</td><td><div class=\"dni-plaintext\"><pre>[ -0.019690322, 0.0074574924, 0.0125079015, -0.03223809, -0.013383181, 0.014590225, -0.0023842067, -0.011381577, -0.01262123, -0.037007995, -0.009087111, 0.015590968, 0.0020191246, 0.015170503, -0.010306402, 0.023493309, 0.02167419, 0.016822029, 0.02860094, -0.024521086 ... (1516 more) ]</pre></div></td></tr></tbody></table></div></details></td></tr><tr><td>2</td><td><details class=\"dni-treeview\"><summary><span class=\"dni-code-hint\"><code>CentroidLabel { Label = Topic: Heavy Metal Music, Embedding = System.Single[] }</code></span></summary><div><table><thead><tr></tr></thead><tbody><tr><td>Label</td><td><div class=\"dni-plaintext\"><pre>Topic: Heavy Metal Music</pre></div></td></tr><tr><td>Embedding</td><td><div class=\"dni-plaintext\"><pre>[ 0.019309083, -0.019269338, 0.011363486, -0.03139314, -0.020371001, 0.019811884, -0.031179953, -0.022803467, 0.0018026272, -0.012925929, 0.009142992, 0.0033195533, -0.008282289, 0.012882266, -0.016962307, 0.012483177, 0.030233376, 0.007203494, 0.005841951, 0.0005095892 ... (1516 more) ]</pre></div></td></tr></tbody></table></div></details></td></tr><tr><td>3</td><td><details class=\"dni-treeview\"><summary><span class=\"dni-code-hint\"><code>CentroidLabel { Label = Topic: Cooking, Embedding = System.Single[] }</code></span></summary><div><table><thead><tr></tr></thead><tbody><tr><td>Label</td><td><div class=\"dni-plaintext\"><pre>Topic: Cooking</pre></div></td></tr><tr><td>Embedding</td><td><div class=\"dni-plaintext\"><pre>[ 0.025924776, 0.009006391, -0.0034855865, 0.0031638218, -0.013990513, 0.001340036, -0.03153697, -0.015431978, -0.013966864, -0.03650188, 0.0111081395, 0.016827773, -0.020932883, -0.009962637, -0.01634736, 0.019313686, 0.03336887, 0.020132894, 0.021527618, -0.01802596 ... (1516 more) ]</pre></div></td></tr></tbody></table></div></details></td></tr><tr><td>4</td><td><details class=\"dni-treeview\"><summary><span class=\"dni-code-hint\"><code>CentroidLabel { Label = Topic: Music, Embedding = System.Single[] }</code></span></summary><div><table><thead><tr></tr></thead><tbody><tr><td>Label</td><td><div class=\"dni-plaintext\"><pre>Topic: Music</pre></div></td></tr><tr><td>Embedding</td><td><div class=\"dni-plaintext\"><pre>[ -0.004719562, -0.016547356, -0.012674535, -0.018823992, -0.0060666567, 0.03347228, -0.009583241, -0.036992565, -0.02607778, -0.0056306776, 0.0031455639, -0.005547706, 0.0018215985, 0.005364747, -0.0014557588, 0.008105663, 0.018891498, 0.01604237, 0.0009886855, -0.015773943 ... (1516 more) ]</pre></div></td></tr></tbody></table></div></details></td></tr></tbody></table><style>\r\n",
       ".dni-code-hint {\r\n",
       "    font-style: italic;\r\n",
       "    overflow: hidden;\r\n",
       "    white-space: nowrap;\r\n",
       "}\r\n",
       ".dni-treeview {\r\n",
       "    white-space: nowrap;\r\n",
       "}\r\n",
       ".dni-treeview td {\r\n",
       "    vertical-align: top;\r\n",
       "    text-align: start;\r\n",
       "}\r\n",
       "details.dni-treeview {\r\n",
       "    padding-left: 1em;\r\n",
       "}\r\n",
       "table td {\r\n",
       "    text-align: start;\r\n",
       "}\r\n",
       "table tr { \r\n",
       "    vertical-align: top; \r\n",
       "    margin: 0em 0px;\r\n",
       "}\r\n",
       "table tr td pre \r\n",
       "{ \r\n",
       "    vertical-align: top !important; \r\n",
       "    margin: 0em 0px !important;\r\n",
       "} \r\n",
       "table th {\r\n",
       "    text-align: start;\r\n",
       "}\r\n",
       "</style>"
      ]
     },
     "metadata": {},
     "output_type": "display_data"
    }
   ],
   "source": [
    "labels.Display();"
   ]
  },
  {
   "cell_type": "code",
   "execution_count": null,
   "metadata": {
    "dotnet_interactive": {
     "language": "csharp"
    },
    "polyglot_notebook": {
     "kernelName": "csharp"
    }
   },
   "outputs": [],
   "source": [
    "chatCompletionKernel.ResetChatLog();"
   ]
  }
 ],
 "metadata": {
  "kernelInfo": {
   "defaultKernelName": null,
   "items": [
    {
     "aliases": [
      "c#",
      "cs"
     ],
     "languageName": "C#",
     "name": "csharp"
    },
    {
     "aliases": [
      "f#",
      "fs"
     ],
     "languageName": "F#",
     "name": "fsharp"
    },
    {
     "languageName": "HTML",
     "name": "html"
    },
    {
     "languageName": "HTTP",
     "name": "http"
    },
    {
     "aliases": [
      "js"
     ],
     "languageName": "JavaScript",
     "name": "javascript"
    },
    {
     "languageName": "KQL",
     "name": "kql"
    },
    {
     "languageName": "Mermaid",
     "name": "mermaid"
    },
    {
     "aliases": [
      "powershell"
     ],
     "languageName": "PowerShell",
     "name": "pwsh"
    },
    {
     "languageName": "SQL",
     "name": "sql"
    },
    {
     "name": "value"
    }
   ]
  },
  "kernelspec": {
   "display_name": ".NET (C#)",
   "language": "C#",
   "name": ".net-csharp"
  },
  "language_info": {
   "name": "polyglot-notebook"
  },
  "polyglot_notebook": {
   "kernelInfo": {
    "defaultKernelName": "csharp",
    "items": [
     {
      "aliases": [],
      "languageName": "text",
      "name": "chat"
     },
     {
      "aliases": [],
      "languageName": "semantic-kernel.skprompt",
      "name": "chat(skill)"
     },
     {
      "aliases": [],
      "languageName": "text",
      "name": "chat(text)"
     },
     {
      "aliases": [],
      "name": "csharp"
     },
     {
      "aliases": [],
      "languageName": "text",
      "name": "knowledge"
     },
     {
      "aliases": [],
      "languageName": "SQL",
      "name": "knowledge(duckDbVectorRAW)"
     },
     {
      "aliases": [],
      "languageName": "text",
      "name": "openai-old(image)"
     },
     {
      "aliases": [],
      "languageName": "text",
      "name": "openai(chat)"
     },
     {
      "aliases": [],
      "languageName": "SQL",
      "name": "openai(duckDb)"
     },
     {
      "aliases": [],
      "languageName": "SQL",
      "name": "openai(duckDbVectorRAW)"
     },
     {
      "aliases": [],
      "languageName": "text",
      "name": "openai(image)"
     },
     {
      "aliases": [],
      "languageName": "text",
      "name": "openai(knowledge)"
     },
     {
      "aliases": [],
      "languageName": "semantic-kernel.skprompt",
      "name": "openai(skill)"
     },
     {
      "aliases": [],
      "languageName": "text",
      "name": "openai(text-gpt)"
     },
     {
      "aliases": [],
      "languageName": "text",
      "name": "openai(text)"
     },
     {
      "aliases": [],
      "languageName": "semantic-kernel.skprompt",
      "name": "openaicode(skill)"
     },
     {
      "aliases": [],
      "languageName": "text",
      "name": "openaicode(text)"
     }
    ]
   }
  }
 },
 "nbformat": 4,
 "nbformat_minor": 5
}
