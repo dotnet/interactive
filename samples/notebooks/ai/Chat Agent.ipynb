{
 "cells": [
  {
   "cell_type": "code",
   "execution_count": 1,
   "id": "a17e3801",
   "metadata": {
    "dotnet_interactive": {
     "language": "csharp"
    },
    "polyglot_notebook": {
     "kernelName": "csharp"
    }
   },
   "outputs": [
    {
     "data": {
      "text/html": [
       "<div><div></div><div></div><div><strong>Installed Packages</strong><ul><li><span>Microsoft.DotNet.Interactive.AI, 1.0.0-beta.23468.5</span></li></ul></div></div>"
      ]
     },
     "metadata": {},
     "output_type": "display_data"
    },
    {
     "data": {
      "text/plain": [
       "Loading extension script from `C:\\Users\\dicolomb\\.nuget\\packages\\microsoft.dotnet.interactive.ai\\1.0.0-beta.23468.5\\interactive-extensions\\dotnet\\extension.dib`"
      ]
     },
     "metadata": {},
     "output_type": "display_data"
    },
    {
     "data": {
      "text/markdown": [
       "Added magic commands\r\n",
       " - `#!connect azure-openai`\r\n",
       " - `#!connect openai`\r\n",
       " - `#!connect huggingface`"
      ]
     },
     "metadata": {},
     "output_type": "display_data"
    },
    {
     "data": {
      "text/plain": [
       "Loading extensions from `C:\\Users\\dicolomb\\.nuget\\packages\\skiasharp\\2.88.5\\interactive-extensions\\dotnet\\SkiaSharp.DotNet.Interactive.dll`"
      ]
     },
     "metadata": {},
     "output_type": "display_data"
    },
    {
     "data": {
      "text/plain": [
       "Loading extension script from `C:\\Users\\dicolomb\\.nuget\\packages\\duckdb.interactiveextension\\1.0.108\\interactive-extensions\\dotnet\\extension.dib`"
      ]
     },
     "metadata": {},
     "output_type": "display_data"
    },
    {
     "data": {
      "text/html": [
       "<details><summary>Query DuckDB databases.</summary>\r\n",
       "    <p>This extension adds support for connecting to <a href=\"https://duckdb.org/\">DuckDB</a> databases using the <code>#!connect duckdb</code> magic command. ADO.NET support via <a href=\"https://github.com/Giorgi/DuckDB.NET\">DuckDB.NET</a> project</p>\r\n",
       "    </details>"
      ]
     },
     "metadata": {},
     "output_type": "display_data"
    }
   ],
   "source": [
    "#r \"nuget:Microsoft.DotNet.Interactive.AI, *-*\""
   ]
  },
  {
   "cell_type": "code",
   "execution_count": 2,
   "metadata": {
    "dotnet_interactive": {
     "language": "csharp"
    },
    "polyglot_notebook": {
     "kernelName": "csharp"
    }
   },
   "outputs": [],
   "source": [
    "#!value --name key\n",
    "YOUR AZURE OPEN AI KEY"
   ]
  },
  {
   "cell_type": "code",
   "execution_count": 3,
   "metadata": {
    "dotnet_interactive": {
     "language": "csharp"
    },
    "polyglot_notebook": {
     "kernelName": "csharp"
    }
   },
   "outputs": [],
   "source": [
    "#!value --name endpoint\n",
    "https://your-enpoint.openai.azure.com/"
   ]
  },
  {
   "cell_type": "code",
   "execution_count": 4,
   "id": "68b78a72",
   "metadata": {
    "dotnet_interactive": {
     "language": "csharp"
    },
    "polyglot_notebook": {
     "kernelName": "csharp"
    }
   },
   "outputs": [
    {
     "data": {
      "text/plain": [
       "Kernel added: #!knowledge(duckDbVectorRAW)"
      ]
     },
     "metadata": {},
     "output_type": "display_data"
    },
    {
     "data": {
      "text/plain": [
       "Kernel added: #!knowledge(duckDbVector)"
      ]
     },
     "metadata": {},
     "output_type": "display_data"
    },
    {
     "data": {
      "text/plain": [
       "Kernel added: #!knowledge"
      ]
     },
     "metadata": {},
     "output_type": "display_data"
    }
   ],
   "source": [
    "#!connect azure-openai --model-type TextEmbeddingGenerator --kernel-name knowledge --api-key @value:key --endpoint @value:endpoint --deployment text-embedding-ada-002"
   ]
  },
  {
   "cell_type": "code",
   "execution_count": 5,
   "metadata": {
    "dotnet_interactive": {
     "language": "csharp"
    },
    "polyglot_notebook": {
     "kernelName": "csharp"
    }
   },
   "outputs": [
    {
     "data": {
      "text/plain": [
       "Kernel added: #!chat(skill)"
      ]
     },
     "metadata": {},
     "output_type": "display_data"
    },
    {
     "data": {
      "text/plain": [
       "Kernel added: #!chat(text)"
      ]
     },
     "metadata": {},
     "output_type": "display_data"
    },
    {
     "data": {
      "text/plain": [
       "Kernel added: #!chat"
      ]
     },
     "metadata": {},
     "output_type": "display_data"
    }
   ],
   "source": [
    "#!connect azure-openai --model-type ChatCompletion --kernel-name chat --api-key @value:key --endpoint @value:endpoint --deployment gtp-35-turbo --use-knowledge knowledge"
   ]
  },
  {
   "cell_type": "markdown",
   "id": "2289ebae",
   "metadata": {},
   "source": [
    "### we will be using text embeddings and cosine distance similarity to focus the conversation with the agent on the questions the user is about ot submit"
   ]
  },
  {
   "cell_type": "code",
   "execution_count": 6,
   "metadata": {
    "dotnet_interactive": {
     "language": "csharp"
    },
    "polyglot_notebook": {
     "kernelName": "csharp"
    }
   },
   "outputs": [
    {
     "data": {
      "text/html": [
       "<div><div></div><div></div><div><strong>Installed Packages</strong><ul><li><span>Microsoft.ML, 3.0.0-preview.23266.6</span></li></ul></div></div>"
      ]
     },
     "metadata": {},
     "output_type": "display_data"
    }
   ],
   "source": [
    "#r \"nuget: Microsoft.ML, 3.0.0-preview.23266.6\""
   ]
  },
  {
   "cell_type": "code",
   "execution_count": 7,
   "metadata": {
    "dotnet_interactive": {
     "language": "csharp"
    },
    "polyglot_notebook": {
     "kernelName": "csharp"
    }
   },
   "outputs": [],
   "source": [
    "using Microsoft.ML;\n",
    "using Microsoft.ML.Data;"
   ]
  },
  {
   "cell_type": "markdown",
   "id": "139dfe09",
   "metadata": {},
   "source": [
    "## Focus the conversation\n",
    "\n",
    "At each turn let's filter out irrelevant turns for the question at hand. TextEmbedding ans cosine similarity will help us keep the conversation on track!"
   ]
  },
  {
   "cell_type": "code",
   "execution_count": 8,
   "metadata": {
    "dotnet_interactive": {
     "language": "csharp"
    },
    "polyglot_notebook": {
     "kernelName": "csharp"
    }
   },
   "outputs": [],
   "source": [
    "using Microsoft.DotNet.Interactive;\n",
    "using Microsoft.DotNet.Interactive.Commands;\n",
    "using Microsoft.DotNet.Interactive.Events;\n",
    "using Microsoft.DotNet.Interactive.AI;\n",
    "using Microsoft.SemanticKernel;\n",
    "using Microsoft.SemanticKernel.AI.ChatCompletion;\n",
    "using Microsoft.SemanticKernel.Connectors.AI.OpenAI.Tokenizers;\n",
    "using Microsoft.SemanticKernel.Skills.Core;\n",
    "using Microsoft.SemanticKernel.AI.Embeddings;\n",
    "using Microsoft.SemanticKernel.AI.Embeddings.VectorOperations;\n",
    "\n",
    "var chatCompletionKernel = Microsoft.DotNet.Interactive.Kernel.Root.FindKernelByName(\"chat\") as ChatCompletionKernel;\n",
    "var knowledgeKernel = Microsoft.DotNet.Interactive.Kernel.Root.FindKernelByName(\"knowledge\") as KnowledgeKernel;\n",
    "\n",
    "chatCompletionKernel.SetUserTurnFilter(async (turn, userPrompt, token) =>{\n",
    "    var userEmbeddings = await knowledgeKernel.GenerateEmbeddingsAsync(userPrompt, token);\n",
    "    var questionRelevance = userEmbeddings\n",
    "                    .CosineSimilarity(turn.QuestionTexEmbedding);\n",
    "    var answerRelevance = userEmbeddings\n",
    "                    .CosineSimilarity(turn.AnswerTexEmbedding);\n",
    "    var relevanceThreshold = 0.8;\n",
    "    if (questionRelevance >= relevanceThreshold || answerRelevance >= relevanceThreshold)\n",
    "    {\n",
    "        return true;\n",
    "    }else{\n",
    "        //\"The turn is not relevant to the conversation.\".Display();\n",
    "        //turn.Display();\n",
    "        return false;\n",
    "    }\n",
    "});"
   ]
  },
  {
   "cell_type": "markdown",
   "id": "c55cf4e6",
   "metadata": {},
   "source": [
    "enrich the prompt using the knowledge kernel"
   ]
  },
  {
   "cell_type": "code",
   "execution_count": 9,
   "metadata": {
    "dotnet_interactive": {
     "language": "csharp"
    },
    "polyglot_notebook": {
     "kernelName": "csharp"
    }
   },
   "outputs": [],
   "source": [
    "chatCompletionKernel.SetPromptTransform(async (role, prompt, _) => {\n",
    "    \n",
    "    if(role != AuthorRole.User){\n",
    "        return prompt;\n",
    "    }\n",
    "    var queryCommand = new QueryKnowledge(prompt, 5);\n",
    "    knowledgeKernel.SetSuppressDisplay(true);\n",
    "    var result = await knowledgeKernel.SendAsync(queryCommand);\n",
    "    knowledgeKernel.SetSuppressDisplay(false);\n",
    "    var searchResults = result.Events.OfType<ReturnValueProduced>().Single(e => e.Command.TargetKernelName == knowledgeKernel.Name).ToKnowledgeQueryResults();\n",
    "\n",
    "    if(searchResults.Length == 0){\n",
    "        return prompt;\n",
    "    }\n",
    "\n",
    "    return $\"\"\"\n",
    "    Given the fatcs:\n",
    "    {string.Join(\"\\n\", searchResults.OrderBy(r=> r.Relevance).Select(r => r.Text))}\n",
    "\n",
    "    Then, {prompt}\n",
    "    \"\"\";\n",
    "});"
   ]
  },
  {
   "cell_type": "markdown",
   "id": "6d998c0e",
   "metadata": {},
   "source": [
    "## what are we talking about??\n",
    "\n",
    "Let's tap into ML and use K-Means to cluster the chatlog using the text embeddings of each turns!"
   ]
  },
  {
   "cell_type": "code",
   "execution_count": 10,
   "metadata": {
    "dotnet_interactive": {
     "language": "csharp"
    },
    "polyglot_notebook": {
     "kernelName": "csharp"
    }
   },
   "outputs": [],
   "source": [
    "public class ModelInput\n",
    "{\n",
    "  public string Text {get;set;}\n",
    "  [VectorType(1536)]\n",
    "  public float[] Embedding {get;set;}\n",
    "}"
   ]
  },
  {
   "cell_type": "code",
   "execution_count": 11,
   "metadata": {
    "dotnet_interactive": {
     "language": "csharp"
    },
    "polyglot_notebook": {
     "kernelName": "csharp"
    }
   },
   "outputs": [],
   "source": [
    "IDataView clusteredData = null;\n",
    "\n",
    "chatCompletionKernel.OnConversationTurnCompleted(( chatLog, toekn) =>\n",
    "{\n",
    "   var embeddings = new List<ModelInput>();\n",
    "   var ctx = new MLContext();\n",
    "   var clusterCount  = Math.Min(20, 2+ (chatLog.Turns.Count / 10));\n",
    "   if(chatLog.Turns.Count < clusterCount)\n",
    "   {\n",
    "      return Task.CompletedTask;\n",
    "   }  \n",
    "   foreach (var turn in chatLog.Turns)\n",
    "   {\n",
    "      switch (turn){\n",
    "       case ChatLog.ChatUserTurn  userTurn:\n",
    "          embeddings.Add(new ModelInput() { Text = userTurn.Question, Embedding = userTurn.QuestionTexEmbedding});\n",
    "          embeddings.Add(new ModelInput() { Text = userTurn.Answer, Embedding = userTurn.AnswerTexEmbedding });\n",
    "          break;\n",
    "          case ChatLog.ChatSystemTurn systemTurn:\n",
    "         // embeddings.Add(new ModelInput() { Text = systemTurn.Prompt, Embedding = systemTurn..AnswerTexEmbedding.AsReadOnlySpan().ToArray() });\n",
    "          break;\n",
    "      }\n",
    "   }\n",
    "   var idv = ctx.Data.LoadFromEnumerable(embeddings);\n",
    "\n",
    "   var pipeline = \n",
    "   ctx.Clustering.Trainers.KMeans(\"Embedding\", numberOfClusters: clusterCount);\n",
    "   clusteredData = pipeline.Fit(idv).Transform(idv);\n",
    "   return Task.CompletedTask;\n",
    "});"
   ]
  },
  {
   "cell_type": "markdown",
   "id": "f44c90d8",
   "metadata": {},
   "source": [
    "## Start chatting then!"
   ]
  },
  {
   "cell_type": "code",
   "execution_count": 12,
   "metadata": {
    "dotnet_interactive": {
     "language": "chat"
    },
    "polyglot_notebook": {
     "kernelName": "chat"
    }
   },
   "outputs": [
    {
     "data": {
      "text/plain": [
       "Sure, I'll do my best to answer your questions about coding in C#. What would you like to know?"
      ]
     },
     "metadata": {},
     "output_type": "display_data"
    }
   ],
   "source": [
    "I would like to ask you questions about coding in C#"
   ]
  },
  {
   "cell_type": "code",
   "execution_count": 13,
   "metadata": {
    "dotnet_interactive": {
     "language": "chat"
    },
    "polyglot_notebook": {
     "kernelName": "chat"
    }
   },
   "outputs": [
    {
     "data": {
      "text/plain": [
       "As an AI language model, I don't eat or cook food, but here are some general steps to cook a fish:\n",
       "\n",
       "1. Clean the fish: Remove the scales, gut the fish, and rinse it thoroughly with cold water.\n",
       "\n",
       "2. Season the fish: Rub the fish with salt, pepper, and any other desired seasonings.\n",
       "\n",
       "3. Choose a cooking method: You can bake, grill, fry, or steam the fish.\n",
       "\n",
       "4. Preheat the oven or grill: If you're baking or grilling the fish, preheat the oven or grill to the desired temperature.\n",
       "\n",
       "5. Cook the fish: Place the fish on a baking sheet or grill and cook until it's done. The cooking time will depend on the size and thickness of the fish.\n",
       "\n",
       "6. Check for doneness: The fish is done when it flakes easily with a fork and is no longer translucent.\n",
       "\n",
       "7. Serve: Serve the fish with your favorite sides and enjoy!"
      ]
     },
     "metadata": {},
     "output_type": "display_data"
    }
   ],
   "source": [
    "How do I cook a fish?"
   ]
  },
  {
   "cell_type": "code",
   "execution_count": 14,
   "metadata": {
    "dotnet_interactive": {
     "language": "chat"
    },
    "polyglot_notebook": {
     "kernelName": "chat"
    }
   },
   "outputs": [
    {
     "data": {
      "text/plain": [
       "In C#, a class is a blueprint or a template for creating objects that share common properties, methods, and events. It defines the structure and behavior of an object, including its data members (fields), methods, properties, and events. \n",
       "\n",
       "A class can be thought of as a user-defined data type that encapsulates data and behavior. It provides a way to organize and modularize code, making it easier to maintain and reuse. \n",
       "\n",
       "For example, if you were creating a program to manage a library, you might define a class called \"Book\" that contains properties such as \"Title\", \"Author\", and \"ISBN\", as well as methods for checking out and returning books. You could then create multiple instances of the \"Book\" class to represent different books in the library."
      ]
     },
     "metadata": {},
     "output_type": "display_data"
    }
   ],
   "source": [
    "What is a c# class?"
   ]
  },
  {
   "cell_type": "code",
   "execution_count": 15,
   "metadata": {
    "dotnet_interactive": {
     "language": "chat"
    },
    "polyglot_notebook": {
     "kernelName": "chat"
    }
   },
   "outputs": [
    {
     "data": {
      "text/plain": [
       "The most common modal scale in heavy metal music is the Phrygian mode."
      ]
     },
     "metadata": {},
     "output_type": "display_data"
    }
   ],
   "source": [
    "What is the most common modal scale in heavy metal music?"
   ]
  },
  {
   "cell_type": "code",
   "execution_count": 16,
   "metadata": {
    "dotnet_interactive": {
     "language": "chat"
    },
    "polyglot_notebook": {
     "kernelName": "chat"
    }
   },
   "outputs": [
    {
     "data": {
      "text/plain": [
       "To set up your amplifier to play heavy metal guitar riffs, follow these steps:\n",
       "\n",
       "1. Start by selecting a high-gain channel on your amplifier. This will give you the distortion and overdrive necessary for heavy metal riffs.\n",
       "\n",
       "2. Adjust the gain knob to your desired level. For heavy metal, you'll want a high gain setting to get that crunchy, distorted sound.\n",
       "\n",
       "3. Adjust the bass, mid, and treble knobs to your liking. For heavy metal, you'll typically want to boost the bass and treble while cutting the mids to get a more aggressive, cutting tone.\n",
       "\n",
       "4. Experiment with the presence and resonance knobs if your amplifier has them. These can help you fine-tune your tone and get the right amount of clarity and punch.\n",
       "\n",
       "5. Finally, adjust the volume to your desired level. Be careful not to crank it too loud, as this can damage your hearing and your amplifier.\n",
       "\n",
       "Once you've set up your amplifier, you can start playing heavy metal riffs by using power chords, palm muting, and fast picking techniques. Remember to practice regularly and experiment with different settings to find the tone that works best for you."
      ]
     },
     "metadata": {},
     "output_type": "display_data"
    }
   ],
   "source": [
    "How do I setup my amplifier to play heavy metal guitar riffs?"
   ]
  },
  {
   "cell_type": "code",
   "execution_count": 17,
   "metadata": {
    "dotnet_interactive": {
     "language": "chat"
    },
    "polyglot_notebook": {
     "kernelName": "chat"
    }
   },
   "outputs": [
    {
     "data": {
      "text/plain": [
       "There are several ways to model embeddings in a relational database, but one of the most common approaches is to use a table with columns for each dimension of the embedding. For example, if the embedding has 100 dimensions, the table would have 100 columns. Each row in the table would represent an entity or object that has an embedding, and the values in the columns would represent the values of the embedding dimensions for that entity.\n",
       "\n",
       "Another approach is to use a separate table for each dimension of the embedding, with each table containing a single column for the values of that dimension. This approach can be more flexible and scalable, as it allows for adding or removing dimensions without having to modify the main table. However, it can also be more complex to query and join the data across multiple tables.\n",
       "\n",
       "Ultimately, the best way to model embeddings in a relational database depends on the specific requirements and constraints of the application, as well as the size and complexity of the embeddings and the data set."
      ]
     },
     "metadata": {},
     "output_type": "display_data"
    }
   ],
   "source": [
    "What is the mest way to model embeddings in a relational database?"
   ]
  },
  {
   "cell_type": "code",
   "execution_count": 18,
   "metadata": {
    "dotnet_interactive": {
     "language": "chat"
    },
    "polyglot_notebook": {
     "kernelName": "chat"
    }
   },
   "outputs": [
    {
     "data": {
      "text/plain": [
       "A motorbike, also known as a motorcycle or bike, is a two-wheeled vehicle powered by an engine. It typically has a seat for the rider, handlebars for steering, and footrests for the rider's feet. Motorbikes come in various sizes and styles, including sport bikes, cruisers, touring bikes, and dirt bikes. They are commonly used for transportation, recreation, and racing."
      ]
     },
     "metadata": {},
     "output_type": "display_data"
    }
   ],
   "source": [
    "What is a motorbike?"
   ]
  },
  {
   "cell_type": "code",
   "execution_count": 19,
   "metadata": {
    "dotnet_interactive": {
     "language": "chat"
    },
    "polyglot_notebook": {
     "kernelName": "chat"
    }
   },
   "outputs": [
    {
     "data": {
      "text/plain": [
       "Modeling a motorbike in C# would require the use of a 3D graphics library or game engine that supports C#. Here are the general steps to model a motorbike in C#:\n",
       "\n",
       "1. Choose a 3D graphics library or game engine that supports C#, such as Unity, Unreal Engine, or OpenTK.\n",
       "2. Create a 3D model of the motorbike using a 3D modeling software, such as Blender or Maya.\n",
       "3. Import the 3D model into the chosen graphics library or game engine.\n",
       "4. Apply textures and materials to the 3D model to give it a realistic appearance.\n",
       "5. Add physics and collision detection to the motorbike model to simulate its movement and interaction with the environment.\n",
       "6. Implement user input controls to allow the player to control the motorbike's movement.\n",
       "7. Test and refine the motorbike model to ensure it functions correctly and provides an enjoyable user experience.\n",
       "\n",
       "Overall, modeling a motorbike in C# requires a combination of 3D modeling skills, programming knowledge, and game development experience."
      ]
     },
     "metadata": {},
     "output_type": "display_data"
    }
   ],
   "source": [
    "What is the best way to model a motorbike in C#?"
   ]
  },
  {
   "cell_type": "code",
   "execution_count": 20,
   "metadata": {
    "dotnet_interactive": {
     "language": "chat"
    },
    "polyglot_notebook": {
     "kernelName": "chat"
    }
   },
   "outputs": [
    {
     "data": {
      "text/plain": [
       "Sure, here's an example of a class that represents a motorbike using C#:\n",
       "\n",
       "```\n",
       "public class Motorbike\n",
       "{\n",
       "    // Fields\n",
       "    private string make;\n",
       "    private string model;\n",
       "    private int year;\n",
       "    private float engineSize;\n",
       "    private bool isRunning;\n",
       "\n",
       "    // Constructor\n",
       "    public Motorbike(string make, string model, int year, float engineSize)\n",
       "    {\n",
       "        this.make = make;\n",
       "        this.model = model;\n",
       "        this.year = year;\n",
       "        this.engineSize = engineSize;\n",
       "        this.isRunning = false;\n",
       "    }\n",
       "\n",
       "    // Properties\n",
       "    public string Make\n",
       "    {\n",
       "        get { return make; }\n",
       "        set { make = value; }\n",
       "    }\n",
       "\n",
       "    public string Model\n",
       "    {\n",
       "        get { return model; }\n",
       "        set { model = value; }\n",
       "    }\n",
       "\n",
       "    public int Year\n",
       "    {\n",
       "        get { return year; }\n",
       "        set { year = value; }\n",
       "    }\n",
       "\n",
       "    public float EngineSize\n",
       "    {\n",
       "        get { return engineSize; }\n",
       "        set { engineSize = value; }\n",
       "    }\n",
       "\n",
       "    public bool IsRunning\n",
       "    {\n",
       "        get { return isRunning; }\n",
       "    }\n",
       "\n",
       "    // Methods\n",
       "    public void Start()\n",
       "    {\n",
       "        isRunning = true;\n",
       "        Console.WriteLine(\"The {0} {1} has started.\", make, model);\n",
       "    }\n",
       "\n",
       "    public void Stop()\n",
       "    {\n",
       "        isRunning = false;\n",
       "        Console.WriteLine(\"The {0} {1} has stopped.\", make, model);\n",
       "    }\n",
       "\n",
       "    public void Accelerate()\n",
       "    {\n",
       "        if (isRunning)\n",
       "        {\n",
       "            Console.WriteLine(\"The {0} {1} is accelerating.\", make, model);\n",
       "        }\n",
       "        else\n",
       "        {\n",
       "            Console.WriteLine(\"The {0} {1} is not running.\", make, model);\n",
       "        }\n",
       "    }\n",
       "\n",
       "    public void Brake()\n",
       "    {\n",
       "        if (isRunning)\n",
       "        {\n",
       "            Console.WriteLine(\"The {0} {1} is braking.\", make, model);\n",
       "        }\n",
       "        else\n",
       "        {\n",
       "            Console.WriteLine(\"The {0} {1} is not running.\", make, model);\n",
       "        }\n",
       "    }\n",
       "}\n",
       "```\n",
       "\n",
       "This class represents a motorbike with fields for the make, model, year, engine size, and running status. It has a constructor to initialize these fields, properties to get and set the values of these fields, and methods to start, stop, accelerate, and brake the motorbike."
      ]
     },
     "metadata": {},
     "output_type": "display_data"
    }
   ],
   "source": [
    "Show me an example of a class that represents a motorbike using C#"
   ]
  },
  {
   "cell_type": "markdown",
   "id": "2916e845",
   "metadata": {},
   "source": [
    "Load knowledge from disk"
   ]
  },
  {
   "cell_type": "code",
   "execution_count": 23,
   "metadata": {
    "dotnet_interactive": {
     "language": "csharp"
    },
    "polyglot_notebook": {
     "kernelName": "csharp"
    }
   },
   "outputs": [],
   "source": [
    "using Microsoft.DotNet.Interactive;\n",
    "using Microsoft.DotNet.Interactive.AI.DuckDb;\n",
    "using System.IO;\n",
    "var currentDirectory = Directory.GetCurrentDirectory();\n",
    "var dataFile = Path.Combine(currentDirectory, \"interactive_knowledge.json\");"
   ]
  },
  {
   "cell_type": "code",
   "execution_count": 25,
   "metadata": {
    "dotnet_interactive": {
     "language": "csharp"
    },
    "polyglot_notebook": {
     "kernelName": "csharp"
    }
   },
   "outputs": [],
   "source": [
    "await Microsoft.DotNet.Interactive.Kernel.Root.SendAsync(new ImportCollection(\"defaultVectorCollection\", dataFile, \"knowledge(duckDbVector)\"));"
   ]
  },
  {
   "cell_type": "code",
   "execution_count": 27,
   "metadata": {
    "dotnet_interactive": {
     "language": "chat"
    },
    "polyglot_notebook": {
     "kernelName": "chat"
    }
   },
   "outputs": [
    {
     "data": {
      "text/plain": [
       "Yes, it is possible to implement a chatbot using C# in .NET Interactive using Polyglot Notebooks. .NET Interactive supports C# as one of its languages, and the Polyglot Notebooks extension allows for multiple languages to be used in one notebook. You can use C# to write the code for your chatbot and integrate it with other languages such as Python or JavaScript for additional functionality. Additionally, you can use the rich visualization capabilities of .NET Interactive to create interactive chatbot interfaces."
      ]
     },
     "metadata": {},
     "output_type": "display_data"
    }
   ],
   "source": [
    "Can I implement a chatbot using C# in .NET interactive using polyglot Notebooks?"
   ]
  },
  {
   "cell_type": "code",
   "execution_count": 14,
   "metadata": {
    "dotnet_interactive": {
     "language": "csharp"
    },
    "polyglot_notebook": {
     "kernelName": "csharp"
    }
   },
   "outputs": [],
   "source": [
    "chatCompletionKernel.ResetChatLog();"
   ]
  },
  {
   "cell_type": "code",
   "execution_count": 15,
   "metadata": {
    "dotnet_interactive": {
     "language": "csharp"
    },
    "polyglot_notebook": {
     "kernelName": "csharp"
    }
   },
   "outputs": [
    {
     "data": {
      "text/html": [
       "<details open=\"open\" class=\"dni-treeview\"><summary><span class=\"dni-code-hint\"><code>4 columns, 4 rows</code></span></summary><div><table><thead><tr></tr></thead><tbody><tr><td>Schema</td><td><details class=\"dni-treeview\"><summary><span class=\"dni-code-hint\"><code>[ Text: String, Embedding: Vector&lt;Single, 1536&gt;, PredictedLabel: Key&lt;UInt32, 0-1&gt; {ScoreColumnKind, ScoreValueKind, ScoreColumnSetId}, Score: Vector&lt;Single, 2&gt; {ScoreColumnKind, ScoreColumnSetId, ScoreValueKind} ]</code></span></summary><div><table><thead><tr></tr></thead><tbody><tr><td>Count</td><td><div class=\"dni-plaintext\"><pre>4</pre></div></td></tr><tr><td><i>(values)</i></td><td><table><thead><tr><th><i>index</i></th><th>value</th></tr></thead><tbody><tr><td>0</td><td><details class=\"dni-treeview\"><summary><span class=\"dni-code-hint\"><code>Text: String</code></span></summary><div><table><thead><tr></tr></thead><tbody><tr><td>Name</td><td><div class=\"dni-plaintext\"><pre>Text</pre></div></td></tr><tr><td>Index</td><td><div class=\"dni-plaintext\"><pre>0</pre></div></td></tr><tr><td>IsHidden</td><td><div class=\"dni-plaintext\"><pre>False</pre></div></td></tr><tr><td>Type</td><td><details class=\"dni-treeview\"><summary><span class=\"dni-code-hint\"><code>String</code></span></summary><div><table><thead><tr></tr></thead><tbody><tr><td>RawType</td><td><span><a href=\"https://docs.microsoft.com/dotnet/api/system.readonlymemory-1?view=net-7.0\">System.ReadOnlyMemory&lt;System.Char&gt;</a></span></td></tr></tbody></table></div></details></td></tr><tr><td>Annotations</td><td><details class=\"dni-treeview\"><summary><span class=\"dni-code-hint\"><code></code></span></summary><div><table><thead><tr></tr></thead><tbody><tr><td>Schema</td><td><details class=\"dni-treeview\"><summary><span class=\"dni-code-hint\"><code>[  ]</code></span></summary><div><table><thead><tr></tr></thead><tbody><tr><td>Count</td><td><div class=\"dni-plaintext\"><pre>0</pre></div></td></tr><tr><td><i>(values)</i></td><td><i>(empty)</i></td></tr></tbody></table></div></details></td></tr></tbody></table></div></details></td></tr></tbody></table></div></details></td></tr><tr><td>1</td><td><details class=\"dni-treeview\"><summary><span class=\"dni-code-hint\"><code>Embedding: Vector&lt;Single, 1536&gt;</code></span></summary><div><table><thead><tr></tr></thead><tbody><tr><td>Name</td><td><div class=\"dni-plaintext\"><pre>Embedding</pre></div></td></tr><tr><td>Index</td><td><div class=\"dni-plaintext\"><pre>1</pre></div></td></tr><tr><td>IsHidden</td><td><div class=\"dni-plaintext\"><pre>False</pre></div></td></tr><tr><td>Type</td><td><details class=\"dni-treeview\"><summary><span class=\"dni-code-hint\"><code>Vector&lt;Single, 1536&gt;</code></span></summary><div><table><thead><tr></tr></thead><tbody><tr><td>Dimensions</td><td><div class=\"dni-plaintext\"><pre>[ 1536 ]</pre></div></td></tr><tr><td>IsKnownSize</td><td><div class=\"dni-plaintext\"><pre>True</pre></div></td></tr><tr><td>ItemType</td><td><details class=\"dni-treeview\"><summary><span class=\"dni-code-hint\"><code>Single</code></span></summary><div><table><thead><tr></tr></thead><tbody><tr><td>RawType</td><td><span><a href=\"https://docs.microsoft.com/dotnet/api/system.single?view=net-7.0\">System.Single</a></span></td></tr></tbody></table></div></details></td></tr><tr><td>Size</td><td><div class=\"dni-plaintext\"><pre>1536</pre></div></td></tr><tr><td>RawType</td><td><span><a href=\"https://docs.microsoft.com/dotnet/api/microsoft.ml.data.vbuffer-1?view=net-7.0\">Microsoft.ML.Data.VBuffer&lt;System.Single&gt;</a></span></td></tr></tbody></table></div></details></td></tr><tr><td>Annotations</td><td><details class=\"dni-treeview\"><summary><span class=\"dni-code-hint\"><code></code></span></summary><div><table><thead><tr></tr></thead><tbody><tr><td>Schema</td><td><details class=\"dni-treeview\"><summary><span class=\"dni-code-hint\"><code>[  ]</code></span></summary><div><table><thead><tr></tr></thead><tbody><tr><td>Count</td><td><div class=\"dni-plaintext\"><pre>0</pre></div></td></tr><tr><td><i>(values)</i></td><td><i>(empty)</i></td></tr></tbody></table></div></details></td></tr></tbody></table></div></details></td></tr></tbody></table></div></details></td></tr><tr><td>2</td><td><details class=\"dni-treeview\"><summary><span class=\"dni-code-hint\"><code>PredictedLabel: Key&lt;UInt32, 0-1&gt; {ScoreColumnKind, ScoreValueKind, ScoreColumnSetId}</code></span></summary><div><table><thead><tr></tr></thead><tbody><tr><td>Name</td><td><div class=\"dni-plaintext\"><pre>PredictedLabel</pre></div></td></tr><tr><td>Index</td><td><div class=\"dni-plaintext\"><pre>2</pre></div></td></tr><tr><td>IsHidden</td><td><div class=\"dni-plaintext\"><pre>False</pre></div></td></tr><tr><td>Type</td><td><details class=\"dni-treeview\"><summary><span class=\"dni-code-hint\"><code>Key&lt;UInt32, 0-1&gt;</code></span></summary><div><table><thead><tr></tr></thead><tbody><tr><td>Count</td><td><div class=\"dni-plaintext\"><pre>2</pre></div></td></tr><tr><td>RawType</td><td><span><a href=\"https://docs.microsoft.com/dotnet/api/system.uint32?view=net-7.0\">System.UInt32</a></span></td></tr></tbody></table></div></details></td></tr><tr><td>Annotations</td><td><details class=\"dni-treeview\"><summary><span class=\"dni-code-hint\"><code>ScoreColumnKind, ScoreValueKind, ScoreColumnSetId</code></span></summary><div><table><thead><tr></tr></thead><tbody><tr><td>Schema</td><td><details class=\"dni-treeview\"><summary><span class=\"dni-code-hint\"><code>[ ScoreColumnKind: String, ScoreValueKind: String, ScoreColumnSetId: Key&lt;UInt32, 0-2147483646&gt; ]</code></span></summary><div><table><thead><tr></tr></thead><tbody><tr><td>Count</td><td><div class=\"dni-plaintext\"><pre>3</pre></div></td></tr><tr><td><i>(values)</i></td><td><table><thead><tr><th><i>index</i></th><th>value</th></tr></thead><tbody><tr><td>0</td><td><details class=\"dni-treeview\"><summary><span class=\"dni-code-hint\"><code>ScoreColumnKind: String</code></span></summary><div><table><thead><tr></tr></thead><tbody><tr><td>Name</td><td>ScoreColumnKind</td></tr><tr><td>Index</td><td>0</td></tr><tr><td>IsHidden</td><td>False</td></tr><tr><td>Type</td><td>String</td></tr><tr><td>Annotations</td><td></td></tr></tbody></table></div></details></td></tr><tr><td>1</td><td><details class=\"dni-treeview\"><summary><span class=\"dni-code-hint\"><code>ScoreValueKind: String</code></span></summary><div><table><thead><tr></tr></thead><tbody><tr><td>Name</td><td>ScoreValueKind</td></tr><tr><td>Index</td><td>1</td></tr><tr><td>IsHidden</td><td>False</td></tr><tr><td>Type</td><td>String</td></tr><tr><td>Annotations</td><td></td></tr></tbody></table></div></details></td></tr><tr><td>2</td><td><details class=\"dni-treeview\"><summary><span class=\"dni-code-hint\"><code>ScoreColumnSetId: Key&lt;UInt32, 0-2147483646&gt;</code></span></summary><div><table><thead><tr></tr></thead><tbody><tr><td>Name</td><td>ScoreColumnSetId</td></tr><tr><td>Index</td><td>2</td></tr><tr><td>IsHidden</td><td>False</td></tr><tr><td>Type</td><td>Key<UInt32, 0-2147483646></td></tr><tr><td>Annotations</td><td></td></tr></tbody></table></div></details></td></tr></tbody></table></td></tr></tbody></table></div></details></td></tr></tbody></table></div></details></td></tr></tbody></table></div></details></td></tr><tr><td>3</td><td><details class=\"dni-treeview\"><summary><span class=\"dni-code-hint\"><code>Score: Vector&lt;Single, 2&gt; {ScoreColumnKind, ScoreColumnSetId, ScoreValueKind}</code></span></summary><div><table><thead><tr></tr></thead><tbody><tr><td>Name</td><td><div class=\"dni-plaintext\"><pre>Score</pre></div></td></tr><tr><td>Index</td><td><div class=\"dni-plaintext\"><pre>3</pre></div></td></tr><tr><td>IsHidden</td><td><div class=\"dni-plaintext\"><pre>False</pre></div></td></tr><tr><td>Type</td><td><details class=\"dni-treeview\"><summary><span class=\"dni-code-hint\"><code>Vector&lt;Single, 2&gt;</code></span></summary><div><table><thead><tr></tr></thead><tbody><tr><td>Dimensions</td><td><div class=\"dni-plaintext\"><pre>[ 2 ]</pre></div></td></tr><tr><td>IsKnownSize</td><td><div class=\"dni-plaintext\"><pre>True</pre></div></td></tr><tr><td>ItemType</td><td><details class=\"dni-treeview\"><summary><span class=\"dni-code-hint\"><code>Single</code></span></summary><div><table><thead><tr></tr></thead><tbody><tr><td>RawType</td><td><span><a href=\"https://docs.microsoft.com/dotnet/api/system.single?view=net-7.0\">System.Single</a></span></td></tr></tbody></table></div></details></td></tr><tr><td>Size</td><td><div class=\"dni-plaintext\"><pre>2</pre></div></td></tr><tr><td>RawType</td><td><span><a href=\"https://docs.microsoft.com/dotnet/api/microsoft.ml.data.vbuffer-1?view=net-7.0\">Microsoft.ML.Data.VBuffer&lt;System.Single&gt;</a></span></td></tr></tbody></table></div></details></td></tr><tr><td>Annotations</td><td><details class=\"dni-treeview\"><summary><span class=\"dni-code-hint\"><code>ScoreColumnKind, ScoreColumnSetId, ScoreValueKind</code></span></summary><div><table><thead><tr></tr></thead><tbody><tr><td>Schema</td><td><details class=\"dni-treeview\"><summary><span class=\"dni-code-hint\"><code>[ ScoreColumnKind: String, ScoreColumnSetId: Key&lt;UInt32, 0-2147483646&gt;, ScoreValueKind: String ]</code></span></summary><div><table><thead><tr></tr></thead><tbody><tr><td>Count</td><td><div class=\"dni-plaintext\"><pre>3</pre></div></td></tr><tr><td><i>(values)</i></td><td><table><thead><tr><th><i>index</i></th><th>value</th></tr></thead><tbody><tr><td>0</td><td><details class=\"dni-treeview\"><summary><span class=\"dni-code-hint\"><code>ScoreColumnKind: String</code></span></summary><div><table><thead><tr></tr></thead><tbody><tr><td>Name</td><td>ScoreColumnKind</td></tr><tr><td>Index</td><td>0</td></tr><tr><td>IsHidden</td><td>False</td></tr><tr><td>Type</td><td>String</td></tr><tr><td>Annotations</td><td></td></tr></tbody></table></div></details></td></tr><tr><td>1</td><td><details class=\"dni-treeview\"><summary><span class=\"dni-code-hint\"><code>ScoreColumnSetId: Key&lt;UInt32, 0-2147483646&gt;</code></span></summary><div><table><thead><tr></tr></thead><tbody><tr><td>Name</td><td>ScoreColumnSetId</td></tr><tr><td>Index</td><td>1</td></tr><tr><td>IsHidden</td><td>False</td></tr><tr><td>Type</td><td>Key<UInt32, 0-2147483646></td></tr><tr><td>Annotations</td><td></td></tr></tbody></table></div></details></td></tr><tr><td>2</td><td><details class=\"dni-treeview\"><summary><span class=\"dni-code-hint\"><code>ScoreValueKind: String</code></span></summary><div><table><thead><tr></tr></thead><tbody><tr><td>Name</td><td>ScoreValueKind</td></tr><tr><td>Index</td><td>2</td></tr><tr><td>IsHidden</td><td>False</td></tr><tr><td>Type</td><td>String</td></tr><tr><td>Annotations</td><td></td></tr></tbody></table></div></details></td></tr></tbody></table></td></tr></tbody></table></div></details></td></tr></tbody></table></div></details></td></tr></tbody></table></div></details></td></tr></tbody></table></td></tr></tbody></table></div></details></td></tr><tr><td>ColumnView</td><td><table><thead><tr><th><i>index</i></th><th>value</th></tr></thead><tbody><tr><td>0</td><td><details class=\"dni-treeview\"><summary><span class=\"dni-code-hint\"><code>Text: String</code></span></summary><div><table><thead><tr></tr></thead><tbody><tr><td>Column</td><td><details class=\"dni-treeview\"><summary><span class=\"dni-code-hint\"><code>Text: String</code></span></summary><div><table><thead><tr></tr></thead><tbody><tr><td>Name</td><td><div class=\"dni-plaintext\"><pre>Text</pre></div></td></tr><tr><td>Index</td><td><div class=\"dni-plaintext\"><pre>0</pre></div></td></tr><tr><td>IsHidden</td><td><div class=\"dni-plaintext\"><pre>False</pre></div></td></tr><tr><td>Type</td><td><details class=\"dni-treeview\"><summary><span class=\"dni-code-hint\"><code>String</code></span></summary><div><table><thead><tr></tr></thead><tbody><tr><td>RawType</td><td><span><a href=\"https://docs.microsoft.com/dotnet/api/system.readonlymemory-1?view=net-7.0\">System.ReadOnlyMemory&lt;System.Char&gt;</a></span></td></tr></tbody></table></div></details></td></tr><tr><td>Annotations</td><td><details class=\"dni-treeview\"><summary><span class=\"dni-code-hint\"><code></code></span></summary><div><table><thead><tr></tr></thead><tbody><tr><td>Schema</td><td><details class=\"dni-treeview\"><summary><span class=\"dni-code-hint\"><code>[  ]</code></span></summary><div><table><thead><tr></tr></thead><tbody><tr><td>Count</td><td>0</td></tr><tr><td><i>(values)</i></td><td><i>(empty)</i></td></tr></tbody></table></div></details></td></tr></tbody></table></div></details></td></tr></tbody></table></div></details></td></tr><tr><td>Values</td><td><table><thead><tr><th><i>index</i></th><th>value</th></tr></thead><tbody><tr><td>0</td><td><span>I would like to ask you questions about coding in C#</span></td></tr><tr><td>1</td><td><span>Sure, I&#39;ll do my best to answer your questions about coding in C#. What would you like to know?</span></td></tr><tr><td>2</td><td><span>How do I cook a fish?</span></td></tr><tr><td>3</td><td><span>As an AI language model, I don&#39;t eat or cook, but here are some general steps to cook a fish:\n",
       "\n",
       "1. Clean the fish: Rinse the fish under cold water and pat it dry with paper towels. Remove any scales, guts, and fins.\n",
       "\n",
       "2. Season the fish: Rub the fish with salt, pepper, and any other desired seasonings.\n",
       "\n",
       "3. Choose a cooking method: There are several ways to cook fish, including baking, grilling, frying, and steaming.\n",
       "\n",
       "4. Cook the fish: Follow the instructions for your chosen cooking method. Generally, fish should be cooked until it is opaque and flakes easily with a fork.\n",
       "\n",
       "5. Serve the fish: Once the fish is cooked, remove it from the heat and let it rest for a few minutes. Serve it with your favorite sides and enjoy!</span></td></tr></tbody></table></td></tr></tbody></table></div></details></td></tr><tr><td>1</td><td><details class=\"dni-treeview\"><summary><span class=\"dni-code-hint\"><code>Embedding: Vector&lt;Single, 1536&gt;</code></span></summary><div><table><thead><tr></tr></thead><tbody><tr><td>Column</td><td><details class=\"dni-treeview\"><summary><span class=\"dni-code-hint\"><code>Embedding: Vector&lt;Single, 1536&gt;</code></span></summary><div><table><thead><tr></tr></thead><tbody><tr><td>Name</td><td><div class=\"dni-plaintext\"><pre>Embedding</pre></div></td></tr><tr><td>Index</td><td><div class=\"dni-plaintext\"><pre>1</pre></div></td></tr><tr><td>IsHidden</td><td><div class=\"dni-plaintext\"><pre>False</pre></div></td></tr><tr><td>Type</td><td><details class=\"dni-treeview\"><summary><span class=\"dni-code-hint\"><code>Vector&lt;Single, 1536&gt;</code></span></summary><div><table><thead><tr></tr></thead><tbody><tr><td>Dimensions</td><td><div class=\"dni-plaintext\"><pre>[ 1536 ]</pre></div></td></tr><tr><td>IsKnownSize</td><td><div class=\"dni-plaintext\"><pre>True</pre></div></td></tr><tr><td>ItemType</td><td><details class=\"dni-treeview\"><summary><span class=\"dni-code-hint\"><code>Single</code></span></summary><div><table><thead><tr></tr></thead><tbody><tr><td>RawType</td><td>System.Single</td></tr></tbody></table></div></details></td></tr><tr><td>Size</td><td><div class=\"dni-plaintext\"><pre>1536</pre></div></td></tr><tr><td>RawType</td><td><span><a href=\"https://docs.microsoft.com/dotnet/api/microsoft.ml.data.vbuffer-1?view=net-7.0\">Microsoft.ML.Data.VBuffer&lt;System.Single&gt;</a></span></td></tr></tbody></table></div></details></td></tr><tr><td>Annotations</td><td><details class=\"dni-treeview\"><summary><span class=\"dni-code-hint\"><code></code></span></summary><div><table><thead><tr></tr></thead><tbody><tr><td>Schema</td><td><details class=\"dni-treeview\"><summary><span class=\"dni-code-hint\"><code>[  ]</code></span></summary><div><table><thead><tr></tr></thead><tbody><tr><td>Count</td><td>0</td></tr><tr><td><i>(values)</i></td><td><i>(empty)</i></td></tr></tbody></table></div></details></td></tr></tbody></table></div></details></td></tr></tbody></table></div></details></td></tr><tr><td>Values</td><td><table><thead><tr><th><i>index</i></th><th>value</th></tr></thead><tbody><tr><td>0</td><td><details class=\"dni-treeview\"><summary><span class=\"dni-code-hint\"><code>Dense vector of size 1536</code></span></summary><div><table><thead><tr></tr></thead><tbody><tr><td>IsDense</td><td><div class=\"dni-plaintext\"><pre>True</pre></div></td></tr><tr><td>Length</td><td><div class=\"dni-plaintext\"><pre>1536</pre></div></td></tr></tbody></table></div></details></td></tr><tr><td>1</td><td><details class=\"dni-treeview\"><summary><span class=\"dni-code-hint\"><code>Dense vector of size 1536</code></span></summary><div><table><thead><tr></tr></thead><tbody><tr><td>IsDense</td><td><div class=\"dni-plaintext\"><pre>True</pre></div></td></tr><tr><td>Length</td><td><div class=\"dni-plaintext\"><pre>1536</pre></div></td></tr></tbody></table></div></details></td></tr><tr><td>2</td><td><details class=\"dni-treeview\"><summary><span class=\"dni-code-hint\"><code>Dense vector of size 1536</code></span></summary><div><table><thead><tr></tr></thead><tbody><tr><td>IsDense</td><td><div class=\"dni-plaintext\"><pre>True</pre></div></td></tr><tr><td>Length</td><td><div class=\"dni-plaintext\"><pre>1536</pre></div></td></tr></tbody></table></div></details></td></tr><tr><td>3</td><td><details class=\"dni-treeview\"><summary><span class=\"dni-code-hint\"><code>Dense vector of size 1536</code></span></summary><div><table><thead><tr></tr></thead><tbody><tr><td>IsDense</td><td><div class=\"dni-plaintext\"><pre>True</pre></div></td></tr><tr><td>Length</td><td><div class=\"dni-plaintext\"><pre>1536</pre></div></td></tr></tbody></table></div></details></td></tr></tbody></table></td></tr></tbody></table></div></details></td></tr><tr><td>2</td><td><details class=\"dni-treeview\"><summary><span class=\"dni-code-hint\"><code>PredictedLabel: Key&lt;UInt32, 0-1&gt;</code></span></summary><div><table><thead><tr></tr></thead><tbody><tr><td>Column</td><td><details class=\"dni-treeview\"><summary><span class=\"dni-code-hint\"><code>PredictedLabel: Key&lt;UInt32, 0-1&gt; {ScoreColumnKind, ScoreValueKind, ScoreColumnSetId}</code></span></summary><div><table><thead><tr></tr></thead><tbody><tr><td>Name</td><td><div class=\"dni-plaintext\"><pre>PredictedLabel</pre></div></td></tr><tr><td>Index</td><td><div class=\"dni-plaintext\"><pre>2</pre></div></td></tr><tr><td>IsHidden</td><td><div class=\"dni-plaintext\"><pre>False</pre></div></td></tr><tr><td>Type</td><td><details class=\"dni-treeview\"><summary><span class=\"dni-code-hint\"><code>Key&lt;UInt32, 0-1&gt;</code></span></summary><div><table><thead><tr></tr></thead><tbody><tr><td>Count</td><td><div class=\"dni-plaintext\"><pre>2</pre></div></td></tr><tr><td>RawType</td><td><span><a href=\"https://docs.microsoft.com/dotnet/api/system.uint32?view=net-7.0\">System.UInt32</a></span></td></tr></tbody></table></div></details></td></tr><tr><td>Annotations</td><td><details class=\"dni-treeview\"><summary><span class=\"dni-code-hint\"><code>ScoreColumnKind, ScoreValueKind, ScoreColumnSetId</code></span></summary><div><table><thead><tr></tr></thead><tbody><tr><td>Schema</td><td><details class=\"dni-treeview\"><summary><span class=\"dni-code-hint\"><code>[ ScoreColumnKind: String, ScoreValueKind: String, ScoreColumnSetId: Key&lt;UInt32, 0-2147483646&gt; ]</code></span></summary><div><table><thead><tr></tr></thead><tbody><tr><td>Count</td><td>3</td></tr><tr><td><i>(values)</i></td><td><table><thead><tr><th><i>index</i></th><th>value</th></tr></thead><tbody><tr><td>0</td><td>ScoreColumnKind: String</td></tr><tr><td>1</td><td>ScoreValueKind: String</td></tr><tr><td>2</td><td>ScoreColumnSetId: Key<UInt32, 0-2147483646></td></tr></tbody></table></td></tr></tbody></table></div></details></td></tr></tbody></table></div></details></td></tr></tbody></table></div></details></td></tr><tr><td>Values</td><td><table><thead><tr><th><i>index</i></th><th>value</th></tr></thead><tbody><tr><td>0</td><td><div class=\"dni-plaintext\"><pre>2</pre></div></td></tr><tr><td>1</td><td><div class=\"dni-plaintext\"><pre>2</pre></div></td></tr><tr><td>2</td><td><div class=\"dni-plaintext\"><pre>1</pre></div></td></tr><tr><td>3</td><td><div class=\"dni-plaintext\"><pre>1</pre></div></td></tr></tbody></table></td></tr></tbody></table></div></details></td></tr><tr><td>3</td><td><details class=\"dni-treeview\"><summary><span class=\"dni-code-hint\"><code>Score: Vector&lt;Single, 2&gt;</code></span></summary><div><table><thead><tr></tr></thead><tbody><tr><td>Column</td><td><details class=\"dni-treeview\"><summary><span class=\"dni-code-hint\"><code>Score: Vector&lt;Single, 2&gt; {ScoreColumnKind, ScoreColumnSetId, ScoreValueKind}</code></span></summary><div><table><thead><tr></tr></thead><tbody><tr><td>Name</td><td><div class=\"dni-plaintext\"><pre>Score</pre></div></td></tr><tr><td>Index</td><td><div class=\"dni-plaintext\"><pre>3</pre></div></td></tr><tr><td>IsHidden</td><td><div class=\"dni-plaintext\"><pre>False</pre></div></td></tr><tr><td>Type</td><td><details class=\"dni-treeview\"><summary><span class=\"dni-code-hint\"><code>Vector&lt;Single, 2&gt;</code></span></summary><div><table><thead><tr></tr></thead><tbody><tr><td>Dimensions</td><td><div class=\"dni-plaintext\"><pre>[ 2 ]</pre></div></td></tr><tr><td>IsKnownSize</td><td><div class=\"dni-plaintext\"><pre>True</pre></div></td></tr><tr><td>ItemType</td><td><details class=\"dni-treeview\"><summary><span class=\"dni-code-hint\"><code>Single</code></span></summary><div><table><thead><tr></tr></thead><tbody><tr><td>RawType</td><td>System.Single</td></tr></tbody></table></div></details></td></tr><tr><td>Size</td><td><div class=\"dni-plaintext\"><pre>2</pre></div></td></tr><tr><td>RawType</td><td><span><a href=\"https://docs.microsoft.com/dotnet/api/microsoft.ml.data.vbuffer-1?view=net-7.0\">Microsoft.ML.Data.VBuffer&lt;System.Single&gt;</a></span></td></tr></tbody></table></div></details></td></tr><tr><td>Annotations</td><td><details class=\"dni-treeview\"><summary><span class=\"dni-code-hint\"><code>ScoreColumnKind, ScoreColumnSetId, ScoreValueKind</code></span></summary><div><table><thead><tr></tr></thead><tbody><tr><td>Schema</td><td><details class=\"dni-treeview\"><summary><span class=\"dni-code-hint\"><code>[ ScoreColumnKind: String, ScoreColumnSetId: Key&lt;UInt32, 0-2147483646&gt;, ScoreValueKind: String ]</code></span></summary><div><table><thead><tr></tr></thead><tbody><tr><td>Count</td><td>3</td></tr><tr><td><i>(values)</i></td><td><table><thead><tr><th><i>index</i></th><th>value</th></tr></thead><tbody><tr><td>0</td><td>ScoreColumnKind: String</td></tr><tr><td>1</td><td>ScoreColumnSetId: Key<UInt32, 0-2147483646></td></tr><tr><td>2</td><td>ScoreValueKind: String</td></tr></tbody></table></td></tr></tbody></table></div></details></td></tr></tbody></table></div></details></td></tr></tbody></table></div></details></td></tr><tr><td>Values</td><td><table><thead><tr><th><i>index</i></th><th>value</th></tr></thead><tbody><tr><td>0</td><td><details class=\"dni-treeview\"><summary><span class=\"dni-code-hint\"><code>Dense vector of size 2</code></span></summary><div><table><thead><tr></tr></thead><tbody><tr><td>IsDense</td><td><div class=\"dni-plaintext\"><pre>True</pre></div></td></tr><tr><td>Length</td><td><div class=\"dni-plaintext\"><pre>2</pre></div></td></tr></tbody></table></div></details></td></tr><tr><td>1</td><td><details class=\"dni-treeview\"><summary><span class=\"dni-code-hint\"><code>Dense vector of size 2</code></span></summary><div><table><thead><tr></tr></thead><tbody><tr><td>IsDense</td><td><div class=\"dni-plaintext\"><pre>True</pre></div></td></tr><tr><td>Length</td><td><div class=\"dni-plaintext\"><pre>2</pre></div></td></tr></tbody></table></div></details></td></tr><tr><td>2</td><td><details class=\"dni-treeview\"><summary><span class=\"dni-code-hint\"><code>Dense vector of size 2</code></span></summary><div><table><thead><tr></tr></thead><tbody><tr><td>IsDense</td><td><div class=\"dni-plaintext\"><pre>True</pre></div></td></tr><tr><td>Length</td><td><div class=\"dni-plaintext\"><pre>2</pre></div></td></tr></tbody></table></div></details></td></tr><tr><td>3</td><td><details class=\"dni-treeview\"><summary><span class=\"dni-code-hint\"><code>Dense vector of size 2</code></span></summary><div><table><thead><tr></tr></thead><tbody><tr><td>IsDense</td><td><div class=\"dni-plaintext\"><pre>True</pre></div></td></tr><tr><td>Length</td><td><div class=\"dni-plaintext\"><pre>2</pre></div></td></tr></tbody></table></div></details></td></tr></tbody></table></td></tr></tbody></table></div></details></td></tr></tbody></table></td></tr><tr><td>RowView</td><td><table><thead><tr><th><i>index</i></th><th>value</th></tr></thead><tbody><tr><td>0</td><td><details class=\"dni-treeview\"><summary><span class=\"dni-code-hint\"><code>4 columns</code></span></summary><div><table><thead><tr></tr></thead><tbody><tr><td>Values</td><td><table><thead><tr><th><i>index</i></th><th>value</th></tr></thead><tbody><tr><td>0</td><td><details class=\"dni-treeview\"><summary><span class=\"dni-code-hint\"><code>[Text, I would like to ask you questions about coding in C#]</code></span></summary><div><table><thead><tr></tr></thead><tbody><tr><td>Key</td><td><div class=\"dni-plaintext\"><pre>Text</pre></div></td></tr><tr><td>Value</td><td><span>I would like to ask you questions about coding in C#</span></td></tr></tbody></table></div></details></td></tr><tr><td>1</td><td><details class=\"dni-treeview\"><summary><span class=\"dni-code-hint\"><code>[Embedding, Dense vector of size 1536]</code></span></summary><div><table><thead><tr></tr></thead><tbody><tr><td>Key</td><td><div class=\"dni-plaintext\"><pre>Embedding</pre></div></td></tr><tr><td>Value</td><td><details class=\"dni-treeview\"><summary><span class=\"dni-code-hint\"><code>Dense vector of size 1536</code></span></summary><div><table><thead><tr></tr></thead><tbody><tr><td>IsDense</td><td>True</td></tr><tr><td>Length</td><td>1536</td></tr></tbody></table></div></details></td></tr></tbody></table></div></details></td></tr><tr><td>2</td><td><details class=\"dni-treeview\"><summary><span class=\"dni-code-hint\"><code>[PredictedLabel, 2]</code></span></summary><div><table><thead><tr></tr></thead><tbody><tr><td>Key</td><td><div class=\"dni-plaintext\"><pre>PredictedLabel</pre></div></td></tr><tr><td>Value</td><td><div class=\"dni-plaintext\"><pre>2</pre></div></td></tr></tbody></table></div></details></td></tr><tr><td>3</td><td><details class=\"dni-treeview\"><summary><span class=\"dni-code-hint\"><code>[Score, Dense vector of size 2]</code></span></summary><div><table><thead><tr></tr></thead><tbody><tr><td>Key</td><td><div class=\"dni-plaintext\"><pre>Score</pre></div></td></tr><tr><td>Value</td><td><details class=\"dni-treeview\"><summary><span class=\"dni-code-hint\"><code>Dense vector of size 2</code></span></summary><div><table><thead><tr></tr></thead><tbody><tr><td>IsDense</td><td>True</td></tr><tr><td>Length</td><td>2</td></tr></tbody></table></div></details></td></tr></tbody></table></div></details></td></tr></tbody></table></td></tr></tbody></table></div></details></td></tr><tr><td>1</td><td><details class=\"dni-treeview\"><summary><span class=\"dni-code-hint\"><code>4 columns</code></span></summary><div><table><thead><tr></tr></thead><tbody><tr><td>Values</td><td><table><thead><tr><th><i>index</i></th><th>value</th></tr></thead><tbody><tr><td>0</td><td><details class=\"dni-treeview\"><summary><span class=\"dni-code-hint\"><code>[Text, Sure, I&#39;ll do my best to answer your questions about coding in C#. What would you like to know?]</code></span></summary><div><table><thead><tr></tr></thead><tbody><tr><td>Key</td><td><div class=\"dni-plaintext\"><pre>Text</pre></div></td></tr><tr><td>Value</td><td><span>Sure, I&#39;ll do my best to answer your questions about coding in C#. What would you like to know?</span></td></tr></tbody></table></div></details></td></tr><tr><td>1</td><td><details class=\"dni-treeview\"><summary><span class=\"dni-code-hint\"><code>[Embedding, Dense vector of size 1536]</code></span></summary><div><table><thead><tr></tr></thead><tbody><tr><td>Key</td><td><div class=\"dni-plaintext\"><pre>Embedding</pre></div></td></tr><tr><td>Value</td><td><details class=\"dni-treeview\"><summary><span class=\"dni-code-hint\"><code>Dense vector of size 1536</code></span></summary><div><table><thead><tr></tr></thead><tbody><tr><td>IsDense</td><td>True</td></tr><tr><td>Length</td><td>1536</td></tr></tbody></table></div></details></td></tr></tbody></table></div></details></td></tr><tr><td>2</td><td><details class=\"dni-treeview\"><summary><span class=\"dni-code-hint\"><code>[PredictedLabel, 2]</code></span></summary><div><table><thead><tr></tr></thead><tbody><tr><td>Key</td><td><div class=\"dni-plaintext\"><pre>PredictedLabel</pre></div></td></tr><tr><td>Value</td><td><div class=\"dni-plaintext\"><pre>2</pre></div></td></tr></tbody></table></div></details></td></tr><tr><td>3</td><td><details class=\"dni-treeview\"><summary><span class=\"dni-code-hint\"><code>[Score, Dense vector of size 2]</code></span></summary><div><table><thead><tr></tr></thead><tbody><tr><td>Key</td><td><div class=\"dni-plaintext\"><pre>Score</pre></div></td></tr><tr><td>Value</td><td><details class=\"dni-treeview\"><summary><span class=\"dni-code-hint\"><code>Dense vector of size 2</code></span></summary><div><table><thead><tr></tr></thead><tbody><tr><td>IsDense</td><td>True</td></tr><tr><td>Length</td><td>2</td></tr></tbody></table></div></details></td></tr></tbody></table></div></details></td></tr></tbody></table></td></tr></tbody></table></div></details></td></tr><tr><td>2</td><td><details class=\"dni-treeview\"><summary><span class=\"dni-code-hint\"><code>4 columns</code></span></summary><div><table><thead><tr></tr></thead><tbody><tr><td>Values</td><td><table><thead><tr><th><i>index</i></th><th>value</th></tr></thead><tbody><tr><td>0</td><td><details class=\"dni-treeview\"><summary><span class=\"dni-code-hint\"><code>[Text, How do I cook a fish?]</code></span></summary><div><table><thead><tr></tr></thead><tbody><tr><td>Key</td><td><div class=\"dni-plaintext\"><pre>Text</pre></div></td></tr><tr><td>Value</td><td><span>How do I cook a fish?</span></td></tr></tbody></table></div></details></td></tr><tr><td>1</td><td><details class=\"dni-treeview\"><summary><span class=\"dni-code-hint\"><code>[Embedding, Dense vector of size 1536]</code></span></summary><div><table><thead><tr></tr></thead><tbody><tr><td>Key</td><td><div class=\"dni-plaintext\"><pre>Embedding</pre></div></td></tr><tr><td>Value</td><td><details class=\"dni-treeview\"><summary><span class=\"dni-code-hint\"><code>Dense vector of size 1536</code></span></summary><div><table><thead><tr></tr></thead><tbody><tr><td>IsDense</td><td>True</td></tr><tr><td>Length</td><td>1536</td></tr></tbody></table></div></details></td></tr></tbody></table></div></details></td></tr><tr><td>2</td><td><details class=\"dni-treeview\"><summary><span class=\"dni-code-hint\"><code>[PredictedLabel, 1]</code></span></summary><div><table><thead><tr></tr></thead><tbody><tr><td>Key</td><td><div class=\"dni-plaintext\"><pre>PredictedLabel</pre></div></td></tr><tr><td>Value</td><td><div class=\"dni-plaintext\"><pre>1</pre></div></td></tr></tbody></table></div></details></td></tr><tr><td>3</td><td><details class=\"dni-treeview\"><summary><span class=\"dni-code-hint\"><code>[Score, Dense vector of size 2]</code></span></summary><div><table><thead><tr></tr></thead><tbody><tr><td>Key</td><td><div class=\"dni-plaintext\"><pre>Score</pre></div></td></tr><tr><td>Value</td><td><details class=\"dni-treeview\"><summary><span class=\"dni-code-hint\"><code>Dense vector of size 2</code></span></summary><div><table><thead><tr></tr></thead><tbody><tr><td>IsDense</td><td>True</td></tr><tr><td>Length</td><td>2</td></tr></tbody></table></div></details></td></tr></tbody></table></div></details></td></tr></tbody></table></td></tr></tbody></table></div></details></td></tr><tr><td>3</td><td><details class=\"dni-treeview\"><summary><span class=\"dni-code-hint\"><code>4 columns</code></span></summary><div><table><thead><tr></tr></thead><tbody><tr><td>Values</td><td><table><thead><tr><th><i>index</i></th><th>value</th></tr></thead><tbody><tr><td>0</td><td><details class=\"dni-treeview\"><summary><span class=\"dni-code-hint\"><code>[Text, As an AI language model, I don&#39;t eat or cook, but here are some general steps to cook a fish:\\n\\n1. Clean the fish: Rinse the fish under cold water and pat it dry with paper towels. Remove any scales, guts, and fins.\\n\\n2. Season the fish: Rub the fish with salt, pepper, and any other desired...</code></span></summary><div><table><thead><tr></tr></thead><tbody><tr><td>Key</td><td><div class=\"dni-plaintext\"><pre>Text</pre></div></td></tr><tr><td>Value</td><td><span>As an AI language model, I don&#39;t eat or cook, but here are some general steps to cook a fish:\n",
       "\n",
       "1. Clean the fish: Rinse the fish under cold water and pat it dry with paper towels. Remove any scales, guts, and fins.\n",
       "\n",
       "2. Season the fish: Rub the fish with salt, pepper, and any other desired seasonings.\n",
       "\n",
       "3. Choose a cooking method: There are several ways to cook fish, including baking, grilling, frying, and steaming.\n",
       "\n",
       "4. Cook the fish: Follow the instructions for your chosen cooking method. Generally, fish should be cooked until it is opaque and flakes easily with a fork.\n",
       "\n",
       "5. Serve the fish: Once the fish is cooked, remove it from the heat and let it rest for a few minutes. Serve it with your favorite sides and enjoy!</span></td></tr></tbody></table></div></details></td></tr><tr><td>1</td><td><details class=\"dni-treeview\"><summary><span class=\"dni-code-hint\"><code>[Embedding, Dense vector of size 1536]</code></span></summary><div><table><thead><tr></tr></thead><tbody><tr><td>Key</td><td><div class=\"dni-plaintext\"><pre>Embedding</pre></div></td></tr><tr><td>Value</td><td><details class=\"dni-treeview\"><summary><span class=\"dni-code-hint\"><code>Dense vector of size 1536</code></span></summary><div><table><thead><tr></tr></thead><tbody><tr><td>IsDense</td><td>True</td></tr><tr><td>Length</td><td>1536</td></tr></tbody></table></div></details></td></tr></tbody></table></div></details></td></tr><tr><td>2</td><td><details class=\"dni-treeview\"><summary><span class=\"dni-code-hint\"><code>[PredictedLabel, 1]</code></span></summary><div><table><thead><tr></tr></thead><tbody><tr><td>Key</td><td><div class=\"dni-plaintext\"><pre>PredictedLabel</pre></div></td></tr><tr><td>Value</td><td><div class=\"dni-plaintext\"><pre>1</pre></div></td></tr></tbody></table></div></details></td></tr><tr><td>3</td><td><details class=\"dni-treeview\"><summary><span class=\"dni-code-hint\"><code>[Score, Dense vector of size 2]</code></span></summary><div><table><thead><tr></tr></thead><tbody><tr><td>Key</td><td><div class=\"dni-plaintext\"><pre>Score</pre></div></td></tr><tr><td>Value</td><td><details class=\"dni-treeview\"><summary><span class=\"dni-code-hint\"><code>Dense vector of size 2</code></span></summary><div><table><thead><tr></tr></thead><tbody><tr><td>IsDense</td><td>True</td></tr><tr><td>Length</td><td>2</td></tr></tbody></table></div></details></td></tr></tbody></table></div></details></td></tr></tbody></table></td></tr></tbody></table></div></details></td></tr></tbody></table></td></tr></tbody></table></div></details><style>\r\n",
       ".dni-code-hint {\r\n",
       "    font-style: italic;\r\n",
       "    overflow: hidden;\r\n",
       "    white-space: nowrap;\r\n",
       "}\r\n",
       ".dni-treeview {\r\n",
       "    white-space: nowrap;\r\n",
       "}\r\n",
       ".dni-treeview td {\r\n",
       "    vertical-align: top;\r\n",
       "    text-align: start;\r\n",
       "}\r\n",
       "details.dni-treeview {\r\n",
       "    padding-left: 1em;\r\n",
       "}\r\n",
       "table td {\r\n",
       "    text-align: start;\r\n",
       "}\r\n",
       "table tr { \r\n",
       "    vertical-align: top; \r\n",
       "    margin: 0em 0px;\r\n",
       "}\r\n",
       "table tr td pre \r\n",
       "{ \r\n",
       "    vertical-align: top !important; \r\n",
       "    margin: 0em 0px !important;\r\n",
       "} \r\n",
       "table th {\r\n",
       "    text-align: start;\r\n",
       "}\r\n",
       "</style>"
      ]
     },
     "metadata": {},
     "output_type": "display_data"
    }
   ],
   "source": [
    "clusteredData.Preview().Display();"
   ]
  }
 ],
 "metadata": {
  "kernelInfo": {
   "defaultKernelName": null,
   "items": [
    {
     "aliases": [
      "c#",
      "cs"
     ],
     "languageName": "C#",
     "name": "csharp"
    },
    {
     "aliases": [
      "f#",
      "fs"
     ],
     "languageName": "F#",
     "name": "fsharp"
    },
    {
     "languageName": "HTML",
     "name": "html"
    },
    {
     "languageName": "HTTP",
     "name": "http"
    },
    {
     "aliases": [
      "js"
     ],
     "languageName": "JavaScript",
     "name": "javascript"
    },
    {
     "languageName": "KQL",
     "name": "kql"
    },
    {
     "languageName": "Mermaid",
     "name": "mermaid"
    },
    {
     "aliases": [
      "powershell"
     ],
     "languageName": "PowerShell",
     "name": "pwsh"
    },
    {
     "languageName": "SQL",
     "name": "sql"
    },
    {
     "name": "value"
    }
   ]
  },
  "kernelspec": {
   "display_name": ".NET (C#)",
   "language": "C#",
   "name": ".net-csharp"
  },
  "language_info": {
   "name": "polyglot-notebook"
  },
  "polyglot_notebook": {
   "kernelInfo": {
    "defaultKernelName": "csharp",
    "items": [
     {
      "aliases": [],
      "languageName": "text",
      "name": "chat"
     },
     {
      "aliases": [],
      "languageName": "semantic-kernel.skprompt",
      "name": "chat(skill)"
     },
     {
      "aliases": [],
      "languageName": "text",
      "name": "chat(text)"
     },
     {
      "aliases": [],
      "name": "csharp"
     },
     {
      "aliases": [],
      "languageName": "text",
      "name": "knowledge"
     },
     {
      "aliases": [],
      "languageName": "SQL",
      "name": "knowledge(duckDbVectorRAW)"
     },
     {
      "aliases": [],
      "languageName": "text",
      "name": "openai-old(image)"
     },
     {
      "aliases": [],
      "languageName": "text",
      "name": "openai(chat)"
     },
     {
      "aliases": [],
      "languageName": "SQL",
      "name": "openai(duckDb)"
     },
     {
      "aliases": [],
      "languageName": "SQL",
      "name": "openai(duckDbVectorRAW)"
     },
     {
      "aliases": [],
      "languageName": "text",
      "name": "openai(image)"
     },
     {
      "aliases": [],
      "languageName": "text",
      "name": "openai(knowledge)"
     },
     {
      "aliases": [],
      "languageName": "semantic-kernel.skprompt",
      "name": "openai(skill)"
     },
     {
      "aliases": [],
      "languageName": "text",
      "name": "openai(text-gpt)"
     },
     {
      "aliases": [],
      "languageName": "text",
      "name": "openai(text)"
     },
     {
      "aliases": [],
      "languageName": "semantic-kernel.skprompt",
      "name": "openaicode(skill)"
     },
     {
      "aliases": [],
      "languageName": "text",
      "name": "openaicode(text)"
     }
    ]
   }
  }
 },
 "nbformat": 4,
 "nbformat_minor": 5
}
