{
 "cells": [
  {
   "cell_type": "code",
   "execution_count": null,
   "id": "a17e3801",
   "metadata": {
    "dotnet_interactive": {
     "language": "csharp"
    },
    "polyglot_notebook": {
     "kernelName": "csharp"
    }
   },
   "outputs": [],
   "source": [
    "#r \"nuget:Microsoft.DotNet.Interactive.AI, 1.0.0-beta.23604.2\"\n"
   ]
  },
  {
   "cell_type": "code",
   "execution_count": null,
   "metadata": {
    "dotnet_interactive": {
     "language": "csharp"
    },
    "polyglot_notebook": {
     "kernelName": "csharp"
    }
   },
   "outputs": [],
   "source": [
    "#!value --name key\n",
    "YOUR AZURE OPEN AI KEY"
   ]
  },
  {
   "cell_type": "code",
   "execution_count": null,
   "metadata": {
    "dotnet_interactive": {
     "language": "csharp"
    },
    "polyglot_notebook": {
     "kernelName": "csharp"
    }
   },
   "outputs": [],
   "source": [
    "#!value --name endpoint\n",
    "https://your-enpoint.openai.azure.com/"
   ]
  },
  {
   "cell_type": "markdown",
   "metadata": {},
   "source": [
    "Note: If your deployment names are different, you will need to change `--deployment` from `text-embedding-ada-002` and `gpt-35-turbo-16k` in the lines below:"
   ]
  },
  {
   "cell_type": "code",
   "execution_count": null,
   "id": "68b78a72",
   "metadata": {
    "dotnet_interactive": {
     "language": "csharp"
    },
    "polyglot_notebook": {
     "kernelName": "csharp"
    }
   },
   "outputs": [],
   "source": [
    "#!connect azure-openai --model-type TextEmbeddingGenerator --kernel-name knowledge --api-key @value:key --endpoint @value:endpoint --deployment text-embedding-ada-002"
   ]
  },
  {
   "cell_type": "code",
   "execution_count": null,
   "metadata": {
    "dotnet_interactive": {
     "language": "csharp"
    },
    "polyglot_notebook": {
     "kernelName": "csharp"
    }
   },
   "outputs": [],
   "source": [
    "#!connect azure-openai --model-type ChatCompletion --kernel-name chat --api-key @value:key --endpoint @value:endpoint --deployment gpt-35-turbo-16k --use-knowledge knowledge"
   ]
  },
  {
   "cell_type": "code",
   "execution_count": null,
   "metadata": {
    "dotnet_interactive": {
     "language": "csharp"
    },
    "polyglot_notebook": {
     "kernelName": "csharp"
    }
   },
   "outputs": [],
   "source": [
    "#r \"nuget: HtmlAgilityPack, 1.11.49\""
   ]
  },
  {
   "cell_type": "markdown",
   "id": "fe2c6d81",
   "metadata": {},
   "source": [
    "The `SetTransformation` method is then called to set a transformation function that takes in text and a MIME type and returns a list of perspectives. The transformation function first checks if the MIME type is \"text/html\" and if so, extracts the plain text from the HTML using the `HtmlAgilityPack` library.\n",
    "\n",
    "The function then uses the `Markdig` library to parse the input text into a Markdown document. The function filters the paragraphs from the Markdown document and generates a summary and overview for each paragraph using the `textKernel`. The take away points, summary, and overview are added to a list of perspectives.\n",
    "\n",
    "If the length of the paragraph is greater than 1000 characters, the entire paragraph is added to the list of perspectives. The function returns the list of perspectives.\n",
    "\n",
    "This code is useful for generating perspectives on input text using machine learning models. The `knowledgeKernel` will then use the data generated to populate the semantic memory and use text embeddings to retrieve relevant data to focus questions sent to the `TextCompletionKernel`.\n",
    "\n",
    "```mermaid \n",
    "sequenceDiagram\n",
    "    participant User\n",
    "    participant KnowledgeKernel\n",
    "    participant TextCompletionKernel\n",
    "\n",
    "    User->>KnowledgeKernel: Sends text to be stored in the KnowledgeKernel\n",
    "    KnowledgeKernel->>KnowledgeKernel: Extracts plain text from input\n",
    "    KnowledgeKernel->>KnowledgeKernel: Parses input using MarkdownPipelineBuilder\n",
    "    KnowledgeKernel->>KnowledgeKernel: Filters paragraphs from the parsed input\n",
    "    loop Processing each paragraph \n",
    "        KnowledgeKernel->>TextCompletionKernel: Sends a prompt to summarize the paragraph\n",
    "        TextCompletionKernel->>KnowledgeKernel: Extracts the take away points from the summary\n",
    "        KnowledgeKernel->>TextCompletionKernel: Sends a prompt to summarize the paragraph in 5 lines\n",
    "        TextCompletionKernel->>KnowledgeKernel: Extracts the summary from the prompt\n",
    "        KnowledgeKernel->>TextCompletionKernel: Sends a prompt to provide the most important information\n",
    "        TextCompletionKernel->>KnowledgeKernel: Extracts the overview from the prompt\n",
    "    end\n",
    "    KnowledgeKernel->>User: Returns the take away points, summary, and overview\n",
    "```"
   ]
  },
  {
   "cell_type": "code",
   "execution_count": null,
   "id": "5277ad35",
   "metadata": {
    "dotnet_interactive": {
     "language": "csharp"
    },
    "polyglot_notebook": {
     "kernelName": "csharp"
    }
   },
   "outputs": [],
   "source": [
    "using Microsoft.DotNet.Interactive.AI;\n",
    "using Microsoft.DotNet.Interactive;\n",
    "using Microsoft.DotNet.Interactive.Formatting;\n",
    "using Microsoft.DotNet.Interactive.Commands;\n",
    "using Microsoft.DotNet.Interactive.Events;\n",
    "using HtmlAgilityPack;\n",
    "using Markdig;\n",
    "using Markdig.Helpers;\n",
    "using Markdig.Parsers;\n",
    "using Markdig.Parsers.Inlines;\n",
    "using Markdig.Syntax;\n",
    "\n",
    "List<(string text, Dictionary<string,object>? metadata)> lastData = null;\n",
    "\n",
    "var knowledgeKernel = Kernel.Root.FindKernelByName(\"knowledge\") as KnowledgeKernel;\n",
    "\n",
    "var textKernel = Kernel.Root.FindKernelByName(\"chat(text)\") as TextCompletionKernel;\n",
    "\n",
    "knowledgeKernel.SetTransformation(async (text,mimeType)=>{\n",
    "    textKernel.SetSuppressDisplay(true);\n",
    "    var input = text;\n",
    "    if(mimeType == \"text/html\"){\n",
    "        var doc = new HtmlDocument();\n",
    "        doc.LoadHtml(text);\n",
    "        input = doc.DocumentNode.InnerText;\n",
    "    }\n",
    "\n",
    "    var pipeline = new MarkdownPipelineBuilder().UseAdvancedExtensions().Build();\n",
    "\n",
    "\n",
    "    var document = Markdown.Parse(input, pipeline);\n",
    "    var  paragraphs = document.Where(d => d is ParagraphBlock);\n",
    "    var perspectives =  new List<(string text, Dictionary<string,object>? metadata)>();\n",
    "    foreach (var paragraph in paragraphs)\n",
    "    {\n",
    "        var block = input.Substring( paragraph.Span.Start, paragraph.Span.Length);\n",
    "        var result = await textKernel.SendAsync(new SubmitCode(\n",
    "$\"\"\"\n",
    "summararize the following text providing the take away points:\n",
    "{block}\n",
    "\"\"\"));\n",
    "\n",
    "        var takeAway = result.Events.OfType<ReturnValueProduced>().LastOrDefault()?.FormattedValues.First(f => f.MimeType == PlainTextFormatter.MimeType).Value.Trim();  \n",
    "    \n",
    "        result = await textKernel.SendAsync(new SubmitCode(\n",
    "$\"\"\"\n",
    " summararize the following text with up to 5 lines\n",
    "{block}\n",
    "\"\"\"));\n",
    "        \n",
    "        var summary = result.Events.OfType<ReturnValueProduced>().LastOrDefault()?.FormattedValues.First(f => f.MimeType == PlainTextFormatter.MimeType).Value.Trim();  \n",
    "\n",
    "        result = await textKernel.SendAsync(new SubmitCode(\n",
    "$\"\"\"\n",
    "given\n",
    "{takeAway}\n",
    "\n",
    "and \n",
    "\n",
    "{block}\n",
    "\n",
    "what is the most important information to know?\n",
    "\"\"\"));\n",
    "        \n",
    "        var overView = result.Events.OfType<ReturnValueProduced>().LastOrDefault()?.FormattedValues.First(f => f.MimeType == PlainTextFormatter.MimeType).Value.Trim();  \n",
    "\n",
    "\n",
    "        perspectives.Add((takeAway, null));\n",
    "        perspectives.Add((summary, null));\n",
    "        perspectives.Add((overView, null));\n",
    "\n",
    "        // comment the following lines to avoid printing all results \n",
    "        $\"\"\"\n",
    "        Storing derived knowledge: \n",
    "        takeAway \n",
    "        ---\n",
    "        {takeAway}\n",
    "        ---\n",
    "\n",
    "        summary---\n",
    "        {summary}\n",
    "        ---\n",
    "\n",
    "        overView---\n",
    "        {overView}\n",
    "        ---\n",
    "\n",
    "        \"\"\".Display();\n",
    "\n",
    "        if (block.Length > 1000)\n",
    "        {\n",
    "            perspectives.Add((block, null));\n",
    "        }\n",
    "    }   \n",
    "    lastData = perspectives;\n",
    "    textKernel.SetSuppressDisplay(false);\n",
    "    return perspectives;\n",
    "});"
   ]
  },
  {
   "cell_type": "markdown",
   "id": "d7fc3ed0",
   "metadata": {},
   "source": [
    "## Sore facts into the knowledge\n",
    "\n",
    "You can skip this step if you just want to load persisted vector store"
   ]
  },
  {
   "cell_type": "code",
   "execution_count": null,
   "metadata": {
    "dotnet_interactive": {
     "language": "knowledge"
    },
    "polyglot_notebook": {
     "kernelName": "knowledge"
    }
   },
   "outputs": [],
   "source": [
    "#!knowledge --name fact1\n",
    ".NET Interactive is a polyglot kernel."
   ]
  },
  {
   "cell_type": "code",
   "execution_count": null,
   "metadata": {
    "dotnet_interactive": {
     "language": "knowledge"
    },
    "polyglot_notebook": {
     "kernelName": "knowledge"
    }
   },
   "outputs": [],
   "source": [
    "\n",
    "#!knowledge --name fact2\n",
    ".NET Interactive is developed by a team of engineers at Microsoft.\n",
    "\n",
    "#!knowledge --name fact3\n",
    ".NET Interactive is an open source project with a lot of contributors.\n",
    "\n",
    "#!knowledge --name fact4\n",
    ".NET Interactive is used by engineers.\n",
    "\n",
    "#!knowledge --name fact5\n",
    ".NET Interactive is developed by open source community.\n",
    "\n",
    "#!knowledge --name fact6\n",
    ".NET Interactive is used by software engineers.\n",
    "\n",
    "#!knowledge --name fact7\n",
    ".NET Interactive can create rich outputs and visualizations.\n",
    "\n",
    "#!knowledge --name fact8\n",
    "The Polyglot Notebooks extension, powered by .NET Interactive, brings support for multi-language notebooks to Visual Studio Code. \n",
    "Classic notebook software typically supports notebooks that use only one language at a time. With Polyglot Notebooks, features such as completions, documentation, syntax highlighting, and diagnostics are available for many languages in one notebook. In addition, different cells in the same notebook can run in separate processes or on different machines, allowing a notebook to span local and cloud environments in one combined workflow.\n",
    "Polyglot Notebooks are fully interoperable with Jupyter and support the .ipynb file extension. \n",
    "You don't need to choose between the capabilities of Polyglot Notebooks and the rich Jupyter ecosystem. \n",
    "If your notebook is saved in the .ipynb format, you can open it in Jupyter and the cell languages will still be recognized. \n",
    "When working in Jupyter using the .NET Interactive kernel, you can switch cell languages using magic commands.\n",
    "\n",
    "#!knowledge --name fact9\n",
    ".NET Interactive has support for mermaid langauge and javascript. Along with the HTML kernel these components can be used to create rich visualizations. With the mermaid language you can create diagrams and flowcharts. With javascript you can create interactive visualizations. With HTML you can create rich visualizations.\n",
    "\n",
    "#!knowledge --name fact10\n",
    ".NET Interactive alloes using languages like Python, R and Julia thanks to the Jupyter protocol support. This allows you to use the rich ecosystem of these languages in your .NET Interactive notebooks."
   ]
  },
  {
   "cell_type": "code",
   "execution_count": null,
   "metadata": {
    "dotnet_interactive": {
     "language": "openai(knowledge)"
    },
    "polyglot_notebook": {
     "kernelName": "openai(knowledge)"
    }
   },
   "outputs": [],
   "source": [
    "#!knowledge --name fact20 --from-url https://raw.githubusercontent.com/dotnet/interactive/main/docs/FAQ.md"
   ]
  },
  {
   "cell_type": "code",
   "execution_count": null,
   "metadata": {
    "dotnet_interactive": {
     "language": "knowledge(duckDbVectorRAW)"
    },
    "polyglot_notebook": {
     "kernelName": "knowledge(duckDbVectorRAW)"
    }
   },
   "outputs": [],
   "source": [
    "SHOW TABLES;"
   ]
  },
  {
   "cell_type": "code",
   "execution_count": null,
   "metadata": {
    "dotnet_interactive": {
     "language": "knowledge(duckDbVectorRAW)"
    },
    "polyglot_notebook": {
     "kernelName": "knowledge(duckDbVectorRAW)"
    }
   },
   "outputs": [],
   "source": [
    "select id, payload from defaultVectorCollection limit 5;"
   ]
  },
  {
   "cell_type": "code",
   "execution_count": null,
   "metadata": {
    "dotnet_interactive": {
     "language": "csharp"
    },
    "polyglot_notebook": {
     "kernelName": "csharp"
    }
   },
   "outputs": [],
   "source": [
    "using Microsoft.DotNet.Interactive.AI.DuckDb;\n",
    "using System.IO;\n",
    "var currentDirectory = Directory.GetCurrentDirectory();\n",
    "var dataFile = Path.Combine(currentDirectory, \"interactive_knowledge.json\");\n"
   ]
  },
  {
   "cell_type": "markdown",
   "id": "a17626a0",
   "metadata": {},
   "source": [
    "## can export and import the vectors stored by the `knowledge kernel`"
   ]
  },
  {
   "cell_type": "code",
   "execution_count": null,
   "metadata": {
    "dotnet_interactive": {
     "language": "csharp"
    },
    "polyglot_notebook": {
     "kernelName": "csharp"
    }
   },
   "outputs": [],
   "source": [
    "using Microsoft.DotNet.Interactive.AI.DuckDb;\n",
    "await Kernel.Root.SendAsync(new ExportCollection(\"defaultVectorCollection\", dataFile, \"knowledge(duckDbVector)\"));"
   ]
  },
  {
   "cell_type": "markdown",
   "id": "954bd437",
   "metadata": {},
   "source": [
    "## use the following cell to just load the persisted knowledge"
   ]
  },
  {
   "cell_type": "code",
   "execution_count": null,
   "metadata": {
    "dotnet_interactive": {
     "language": "csharp"
    },
    "polyglot_notebook": {
     "kernelName": "csharp"
    }
   },
   "outputs": [],
   "source": [
    "using Microsoft.DotNet.Interactive.AI.DuckDb;\n",
    "await Kernel.Root.SendAsync(new ImportCollection(\"defaultVectorCollection\", dataFile, \"knowledge(duckDbVector)\"));"
   ]
  },
  {
   "cell_type": "markdown",
   "id": "1b6f4854",
   "metadata": {},
   "source": [
    "## use the knowledge to augment prompts using Retrieval Augmentation Generation (RAG)"
   ]
  },
  {
   "cell_type": "code",
   "execution_count": null,
   "metadata": {
    "dotnet_interactive": {
     "language": "chat(text)"
    },
    "polyglot_notebook": {
     "kernelName": "chat(text)"
    }
   },
   "outputs": [],
   "source": [
    "what can i do with .NET Interactive?"
   ]
  },
  {
   "cell_type": "code",
   "execution_count": null,
   "metadata": {
    "dotnet_interactive": {
     "language": "chat(text)"
    },
    "polyglot_notebook": {
     "kernelName": "chat(text)"
    }
   },
   "outputs": [],
   "source": [
    "\n",
    "does it  support  python?"
   ]
  },
  {
   "cell_type": "code",
   "execution_count": null,
   "metadata": {
    "dotnet_interactive": {
     "language": "chat(skill)"
    },
    "polyglot_notebook": {
     "kernelName": "chat(skill)"
    }
   },
   "outputs": [],
   "source": [
    "#!function be_clear\n",
    "Answer the following questions:\n",
    "{{$input}}\n",
    "\n",
    "And make sure to be succint and clear."
   ]
  },
  {
   "cell_type": "code",
   "execution_count": null,
   "metadata": {
    "dotnet_interactive": {
     "language": "chat(text)"
    },
    "polyglot_notebook": {
     "kernelName": "chat(text)"
    }
   },
   "outputs": [],
   "source": [
    "#!use-skills function._GLOBAL_FUNCTIONS_.be_clear\n",
    "Why can I do data visualizations with .NET Interactive?"
   ]
  },
  {
   "cell_type": "code",
   "execution_count": null,
   "metadata": {
    "dotnet_interactive": {
     "language": "chat(text)"
    },
    "polyglot_notebook": {
     "kernelName": "chat(text)"
    }
   },
   "outputs": [],
   "source": [
    "What should I do if a cell runs forever?"
   ]
  },
  {
   "cell_type": "code",
   "execution_count": null,
   "metadata": {
    "dotnet_interactive": {
     "language": "chat(text)"
    },
    "polyglot_notebook": {
     "kernelName": "chat(text)"
    }
   },
   "outputs": [],
   "source": [
    "Can I create custom kernels for langauges and tools that are not supported by the Jupyter Notebook?"
   ]
  }
 ],
 "metadata": {
  "kernelInfo": {
   "defaultKernelName": null,
   "items": [
    {
     "aliases": [
      "c#",
      "cs"
     ],
     "languageName": "C#",
     "name": "csharp"
    },
    {
     "aliases": [
      "f#",
      "fs"
     ],
     "languageName": "F#",
     "name": "fsharp"
    },
    {
     "languageName": "HTML",
     "name": "html"
    },
    {
     "languageName": "HTTP",
     "name": "http"
    },
    {
     "aliases": [
      "js"
     ],
     "languageName": "JavaScript",
     "name": "javascript"
    },
    {
     "languageName": "KQL",
     "name": "kql"
    },
    {
     "languageName": "Mermaid",
     "name": "mermaid"
    },
    {
     "aliases": [
      "powershell"
     ],
     "languageName": "PowerShell",
     "name": "pwsh"
    },
    {
     "languageName": "SQL",
     "name": "sql"
    },
    {
     "name": "value"
    }
   ]
  },
  "kernelspec": {
   "display_name": ".NET (C#)",
   "language": "C#",
   "name": ".net-csharp"
  },
  "language_info": {
   "name": "polyglot-notebook"
  },
  "polyglot_notebook": {
   "kernelInfo": {
    "defaultKernelName": "csharp",
    "items": [
     {
      "aliases": [],
      "name": "csharp"
     },
     {
      "aliases": [],
      "languageName": "text",
      "name": "knowledge"
     },
     {
      "aliases": [],
      "languageName": "SQL",
      "name": "knowledge(duckDbVectorRAW)"
     },
     {
      "aliases": [],
      "languageName": "text",
      "name": "openai-old(image)"
     },
     {
      "aliases": [],
      "languageName": "text",
      "name": "openai(chat)"
     },
     {
      "aliases": [],
      "languageName": "SQL",
      "name": "openai(duckDb)"
     },
     {
      "aliases": [],
      "languageName": "text",
      "name": "openai(image)"
     },
     {
      "aliases": [],
      "languageName": "text",
      "name": "openai(knowledge)"
     },
     {
      "aliases": [],
      "languageName": "semantic-kernel.skprompt",
      "name": "openai(skill)"
     },
     {
      "aliases": [],
      "languageName": "text",
      "name": "openai(text-gpt)"
     },
     {
      "aliases": [],
      "languageName": "text",
      "name": "openai(text)"
     },
     {
      "aliases": [],
      "languageName": "semantic-kernel.skprompt",
      "name": "openaicode(skill)"
     },
     {
      "aliases": [],
      "languageName": "text",
      "name": "openaicode(text)"
     },
     {
      "aliases": [],
      "languageName": "text",
      "name": "textCompletion"
     },
     {
      "aliases": [],
      "languageName": "semantic-kernel.skprompt",
      "name": "textCompletion(skill)"
     }
    ]
   }
  }
 },
 "nbformat": 4,
 "nbformat_minor": 5
}
