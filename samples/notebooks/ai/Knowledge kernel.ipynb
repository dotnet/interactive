{
 "cells": [
  {
   "cell_type": "code",
   "execution_count": 1,
   "id": "a17e3801",
   "metadata": {
    "dotnet_interactive": {
     "language": "csharp"
    },
    "polyglot_notebook": {
     "kernelName": "csharp"
    }
   },
   "outputs": [
    {
     "data": {
      "text/html": [
       "<div><div></div><div></div><div><strong>Installed Packages</strong><ul><li><span>Microsoft.DotNet.Interactive.AI, 1.0.0-beta.23468.5</span></li></ul></div></div>"
      ]
     },
     "metadata": {},
     "output_type": "display_data"
    },
    {
     "data": {
      "text/plain": [
       "Loading extensions from `C:\\Users\\dicolomb\\.nuget\\packages\\skiasharp\\2.88.5\\interactive-extensions\\dotnet\\SkiaSharp.DotNet.Interactive.dll`"
      ]
     },
     "metadata": {},
     "output_type": "display_data"
    },
    {
     "data": {
      "text/plain": [
       "Loading extension script from `C:\\Users\\dicolomb\\.nuget\\packages\\duckdb.interactiveextension\\1.0.108\\interactive-extensions\\dotnet\\extension.dib`"
      ]
     },
     "metadata": {},
     "output_type": "display_data"
    },
    {
     "data": {
      "text/html": [
       "<details><summary>Query DuckDB databases.</summary>\r\n",
       "    <p>This extension adds support for connecting to <a href=\"https://duckdb.org/\">DuckDB</a> databases using the <code>#!connect duckdb</code> magic command. ADO.NET support via <a href=\"https://github.com/Giorgi/DuckDB.NET\">DuckDB.NET</a> project</p>\r\n",
       "    </details>"
      ]
     },
     "metadata": {},
     "output_type": "display_data"
    },
    {
     "data": {
      "text/plain": [
       "Loading extension script from `C:\\Users\\dicolomb\\.nuget\\packages\\microsoft.dotnet.interactive.ai\\1.0.0-beta.23468.5\\interactive-extensions\\dotnet\\extension.dib`"
      ]
     },
     "metadata": {},
     "output_type": "display_data"
    },
    {
     "data": {
      "text/markdown": [
       "Added magic commands\r\n",
       " - `#!connect azure-openai`\r\n",
       " - `#!connect openai`\r\n",
       " - `#!connect huggingface`"
      ]
     },
     "metadata": {},
     "output_type": "display_data"
    }
   ],
   "source": [
    "#r \"nuget:Microsoft.DotNet.Interactive.AI, *-*\""
   ]
  },
  {
   "cell_type": "code",
   "execution_count": 2,
   "metadata": {
    "dotnet_interactive": {
     "language": "csharp"
    },
    "polyglot_notebook": {
     "kernelName": "csharp"
    }
   },
   "outputs": [],
   "source": [
    "#!value --name key\n",
    "YOUR AZURE OPEN AI KEY"
   ]
  },
  {
   "cell_type": "code",
   "execution_count": 3,
   "metadata": {
    "dotnet_interactive": {
     "language": "csharp"
    },
    "polyglot_notebook": {
     "kernelName": "csharp"
    }
   },
   "outputs": [],
   "source": [
    "#!value --name endpoint\n",
    "https://your-enpoint.openai.azure.com/"
   ]
  },
  {
   "cell_type": "code",
   "execution_count": 4,
   "id": "68b78a72",
   "metadata": {
    "dotnet_interactive": {
     "language": "csharp"
    },
    "polyglot_notebook": {
     "kernelName": "csharp"
    }
   },
   "outputs": [
    {
     "data": {
      "text/plain": [
       "Kernel added: #!knowledge(duckDbVectorRAW)"
      ]
     },
     "metadata": {},
     "output_type": "display_data"
    },
    {
     "data": {
      "text/plain": [
       "Kernel added: #!knowledge(duckDbVector)"
      ]
     },
     "metadata": {},
     "output_type": "display_data"
    },
    {
     "data": {
      "text/plain": [
       "Kernel added: #!knowledge"
      ]
     },
     "metadata": {},
     "output_type": "display_data"
    }
   ],
   "source": [
    "#!connect azure-openai --model-type TextEmbeddingGenerator --kernel-name knowledge --api-key @value:key --endpoint @value:endpoint --deployment text-embedding-ada-002"
   ]
  },
  {
   "cell_type": "code",
   "execution_count": 5,
   "metadata": {
    "dotnet_interactive": {
     "language": "csharp"
    },
    "polyglot_notebook": {
     "kernelName": "csharp"
    }
   },
   "outputs": [
    {
     "data": {
      "text/plain": [
       "Kernel added: #!textCompletion(skill)"
      ]
     },
     "metadata": {},
     "output_type": "display_data"
    },
    {
     "data": {
      "text/plain": [
       "Kernel added: #!textCompletion"
      ]
     },
     "metadata": {},
     "output_type": "display_data"
    }
   ],
   "source": [
    "#!connect azure-openai --model-type TextCompletion --kernel-name textCompletion --api-key @value:key --endpoint @value:endpoint --deployment text-davinci-003 --use-knowledge knowledge"
   ]
  },
  {
   "cell_type": "code",
   "execution_count": 6,
   "metadata": {
    "dotnet_interactive": {
     "language": "csharp"
    },
    "polyglot_notebook": {
     "kernelName": "csharp"
    }
   },
   "outputs": [
    {
     "data": {
      "text/html": [
       "<div><div></div><div></div><div><strong>Installed Packages</strong><ul><li><span>HtmlAgilityPack, 1.11.49</span></li></ul></div></div>"
      ]
     },
     "metadata": {},
     "output_type": "display_data"
    }
   ],
   "source": [
    "#r \"nuget: HtmlAgilityPack, 1.11.49\""
   ]
  },
  {
   "cell_type": "markdown",
   "id": "fe2c6d81",
   "metadata": {},
   "source": [
    "The `SetTransformation` method is then called to set a transformation function that takes in text and a MIME type and returns a list of perspectives. The transformation function first checks if the MIME type is \"text/html\" and if so, extracts the plain text from the HTML using the `HtmlAgilityPack` library.\n",
    "\n",
    "The function then uses the `Markdig` library to parse the input text into a Markdown document. The function filters the paragraphs from the Markdown document and generates a summary and overview for each paragraph using the `textKernel`. The take away points, summary, and overview are added to a list of perspectives.\n",
    "\n",
    "If the length of the paragraph is greater than 1000 characters, the entire paragraph is added to the list of perspectives. The function returns the list of perspectives.\n",
    "\n",
    "This code is useful for generating perspectives on input text using machine learning models. The `knowledgeKernel` will then use the data generated to populate the semantic memory and use text embeddings to retrieve relevant data to focus questions sent to the `TextCompletionKernel`.\n",
    "\n",
    "```mermaid \n",
    "sequenceDiagram\n",
    "    participant User\n",
    "    participant KnowledgeKernel\n",
    "    participant TextCompletionKernel\n",
    "\n",
    "    User->>KnowledgeKernel: Sends text to be stored in the KnowledgeKernel\n",
    "    KnowledgeKernel->>KnowledgeKernel: Extracts plain text from input\n",
    "    KnowledgeKernel->>KnowledgeKernel: Parses input using MarkdownPipelineBuilder\n",
    "    KnowledgeKernel->>KnowledgeKernel: Filters paragraphs from the parsed input\n",
    "    loop Processing each paragraph \n",
    "        KnowledgeKernel->>TextCompletionKernel: Sends a prompt to summarize the paragraph\n",
    "        TextCompletionKernel->>KnowledgeKernel: Extracts the take away points from the summary\n",
    "        KnowledgeKernel->>TextCompletionKernel: Sends a prompt to summarize the paragraph in 5 lines\n",
    "        TextCompletionKernel->>KnowledgeKernel: Extracts the summary from the prompt\n",
    "        KnowledgeKernel->>TextCompletionKernel: Sends a prompt to provide the most important information\n",
    "        TextCompletionKernel->>KnowledgeKernel: Extracts the overview from the prompt\n",
    "    end\n",
    "    KnowledgeKernel->>User: Returns the take away points, summary, and overview\n",
    "```"
   ]
  },
  {
   "cell_type": "code",
   "execution_count": 7,
   "id": "5277ad35",
   "metadata": {
    "dotnet_interactive": {
     "language": "csharp"
    },
    "polyglot_notebook": {
     "kernelName": "csharp"
    }
   },
   "outputs": [],
   "source": [
    "using Microsoft.DotNet.Interactive.AI;\n",
    "using Microsoft.DotNet.Interactive;\n",
    "using Microsoft.DotNet.Interactive.Formatting;\n",
    "using Microsoft.DotNet.Interactive.Commands;\n",
    "using Microsoft.DotNet.Interactive.Events;\n",
    "using HtmlAgilityPack;\n",
    "using Markdig;\n",
    "using Markdig.Helpers;\n",
    "using Markdig.Parsers;\n",
    "using Markdig.Parsers.Inlines;\n",
    "using Markdig.Syntax;\n",
    "\n",
    "List<(string text, Dictionary<string,object>? metadata)> lastData = null;\n",
    "\n",
    "var knowledgeKernel = Kernel.Root.FindKernelByName(\"knowledge\") as KnowledgeKernel;\n",
    "\n",
    "var textKernel = Kernel.Root.FindKernelByName(\"textCompletion\") as TextCompletionKernel;\n",
    "\n",
    "knowledgeKernel.SetTransformation(async (text,mimeType)=>{\n",
    "    textKernel.SetSuppressDisplay(true);\n",
    "    var input = text;\n",
    "    if(mimeType == \"text/html\"){\n",
    "        var doc = new HtmlDocument();\n",
    "        doc.LoadHtml(text);\n",
    "        input = doc.DocumentNode.InnerText;\n",
    "    }\n",
    "\n",
    "    var pipeline = new MarkdownPipelineBuilder().UseAdvancedExtensions().Build();\n",
    "\n",
    "\n",
    "    var document = Markdown.Parse(input, pipeline);\n",
    "    var  paragraphs = document.Where(d => d is ParagraphBlock);\n",
    "    var perspectives =  new List<(string text, Dictionary<string,object>? metadata)>();\n",
    "    foreach (var paragraph in paragraphs)\n",
    "    {\n",
    "        var block = input.Substring( paragraph.Span.Start, paragraph.Span.Length);\n",
    "        var result = await textKernel.SendAsync(new SubmitCode(\n",
    "$\"\"\"\n",
    "summararize the following text providing the take away points:\n",
    "{block}\n",
    "\"\"\"));\n",
    "\n",
    "        var takeAway = result.Events.OfType<ReturnValueProduced>().LastOrDefault()?.FormattedValues.First(f => f.MimeType == PlainTextFormatter.MimeType).Value.Trim();  \n",
    "    \n",
    "        result = await textKernel.SendAsync(new SubmitCode(\n",
    "$\"\"\"\n",
    " summararize the following text with up to 5 lines\n",
    "{block}\n",
    "\"\"\"));\n",
    "        \n",
    "        var summary = result.Events.OfType<ReturnValueProduced>().LastOrDefault()?.FormattedValues.First(f => f.MimeType == PlainTextFormatter.MimeType).Value.Trim();  \n",
    "\n",
    "        result = await textKernel.SendAsync(new SubmitCode(\n",
    "$\"\"\"\n",
    "given\n",
    "{takeAway}\n",
    "\n",
    "and \n",
    "\n",
    "{block}\n",
    "\n",
    "what is the most important information to know?\n",
    "\"\"\"));\n",
    "        \n",
    "        var overView = result.Events.OfType<ReturnValueProduced>().LastOrDefault()?.FormattedValues.First(f => f.MimeType == PlainTextFormatter.MimeType).Value.Trim();  \n",
    "\n",
    "\n",
    "        perspectives.Add((takeAway, null));\n",
    "        perspectives.Add((summary, null));\n",
    "        perspectives.Add((overView, null));\n",
    "\n",
    "        // comment the following lines to avoid printing all results \n",
    "        $\"\"\"\n",
    "        Storing derived knowledge: \n",
    "        takeAway \n",
    "        ---\n",
    "        {takeAway}\n",
    "        ---\n",
    "\n",
    "        summary---\n",
    "        {summary}\n",
    "        ---\n",
    "\n",
    "        overView---\n",
    "        {overView}\n",
    "        ---\n",
    "\n",
    "        \"\"\".Display();\n",
    "\n",
    "        if (block.Length > 1000)\n",
    "        {\n",
    "            perspectives.Add((block, null));\n",
    "        }\n",
    "    }   \n",
    "    lastData = perspectives;\n",
    "    textKernel.SetSuppressDisplay(false);\n",
    "    return perspectives;\n",
    "});"
   ]
  },
  {
   "cell_type": "markdown",
   "id": "d7fc3ed0",
   "metadata": {},
   "source": [
    "## Sore facts into the knowledge\n",
    "\n",
    "You can skip this step if you just want to load persisted vector store"
   ]
  },
  {
   "cell_type": "code",
   "execution_count": 8,
   "metadata": {
    "dotnet_interactive": {
     "language": "knowledge"
    },
    "polyglot_notebook": {
     "kernelName": "knowledge"
    }
   },
   "outputs": [
    {
     "data": {
      "text/plain": [
       "Storing derived knowledge: \n",
       "takeAway \n",
       "---\n",
       "It allows you to write and execute code in multiple languages such as C#, F#, PowerShell, Python, and SQL.\n",
       "\n",
       "Take Away Points:\n",
       "1. .NET Interactive is a polyglot kernel.\n",
       "2. It allows users to write and execute code in multiple languages, including C#, F#, PowerShell, Python, and SQL.\n",
       "---\n",
       "\n",
       "summary---\n",
       "It allows users to write code in multiple languages, including C#, F#, PowerShell, and Python. It also provides a rich set of APIs for working with .NET, including the .NET Compiler Platform (“Roslyn”) and the .NET Runtime. It is designed to be used in the browser, in the terminal, or in a notebook.\n",
       "\n",
       ".NET Interactive is a powerful tool for developers, allowing them to write code in multiple languages and access a rich set of APIs. It supports C#, F#, PowerShell, and Python, as well as the .NET Compiler Platform and .NET Runtime. It can be used in the browser, terminal, or notebook.\n",
       "---\n",
       "\n",
       "overView---\n",
       "The most important information to know about .NET Interactive is that it is a polyglot kernel, allowing users to write and execute code in multiple languages, including C#, F#, PowerShell, Python, and SQL.\n",
       "---\n"
      ]
     },
     "metadata": {},
     "output_type": "display_data"
    }
   ],
   "source": [
    "#!knowledge --name fact1\n",
    ".NET Interactive is a polyglot kernel."
   ]
  },
  {
   "cell_type": "code",
   "execution_count": 14,
   "metadata": {
    "dotnet_interactive": {
     "language": "knowledge"
    },
    "polyglot_notebook": {
     "kernelName": "knowledge"
    }
   },
   "outputs": [
    {
     "data": {
      "text/plain": [
       "Storing derived knowledge: \r\n",
       "takeAway \r\n",
       "---\r\n",
       "It is a polyglot kernel that enables users to write and execute code in multiple languages, such as C#, F#, PowerShell, Python, and SQL. It is an open source project, allowing users to contribute to its development. It is a powerful and versatile platform for developers to create and test code, and a great tool for developers to quickly test and debug code.\n",
       "\n",
       "Take Away Points:\n",
       "1. .NET Interactive is a polyglot kernel developed by a team of engineers at Microsoft.\n",
       "2. It allows users to write and execute code in multiple languages, including C#, F#, PowerShell, Python, and SQL.\n",
       "3. It is an open source project, allowing users to contribute to its development.\n",
       "4. It is a powerful and versatile platform for developers to create and test code.\n",
       "5. It is a great tool for developers to quickly test and debug code.\r\n",
       "---\r\n",
       "\r\n",
       "summary---\r\n",
       "It is an open source project that enables users to write and execute code in multiple languages, such as C#, F#, PowerShell, Python, and SQL.\n",
       "It provides a powerful and versatile platform for developers to create and test code.\n",
       "It is a great tool for developers to quickly test and debug code.\n",
       "It is an invaluable resource for developers to learn and explore new technologies.\r\n",
       "---\r\n",
       "\r\n",
       "overView---\r\n",
       "The most important information to know about .NET Interactive is that it allows users to write and execute code in multiple languages, including C#, F#, PowerShell, Python, and SQL.\r\n",
       "---\r\n"
      ]
     },
     "metadata": {},
     "output_type": "display_data"
    },
    {
     "data": {
      "text/plain": [
       "Storing derived knowledge: \r\n",
       "takeAway \r\n",
       "---\r\n",
       "Take Away Points:\n",
       "1. .NET Interactive is an open source project with a lot of contributors.\n",
       "2. It allows users to write and execute code in multiple languages, including C#, F#, PowerShell, Python, and SQL.\n",
       "3. It provides a powerful and versatile platform for developers to create and test code.\n",
       "4. It is a great tool for developers to quickly test and debug code.\n",
       "5. It is an invaluable resource for developers to learn and explore new technologies.\r\n",
       "---\r\n",
       "\r\n",
       "summary---\r\n",
       "It enables users to write and execute code in multiple languages, such as C#, F#, PowerShell, Python, and SQL.\n",
       "It provides a powerful and versatile platform for developers to create and test code.\n",
       "It is a great tool for developers to quickly test and debug code.\n",
       "It is an invaluable resource for developers to learn and explore new technologies.\r\n",
       "---\r\n",
       "\r\n",
       "overView---\r\n",
       "The most important information to know about .NET Interactive is that it allows users to write and execute code in multiple languages, including C#, F#, PowerShell, Python, and SQL.\r\n",
       "---\r\n"
      ]
     },
     "metadata": {},
     "output_type": "display_data"
    },
    {
     "data": {
      "text/plain": [
       "Storing derived knowledge: \r\n",
       "takeAway \r\n",
       "---\r\n",
       "Take Away Points:\n",
       "1. .NET Interactive is an open source project with a lot of contributors.\n",
       "2. It allows users to write and execute code in multiple languages, including C#, F#, PowerShell, Python, and SQL.\n",
       "3. It is used by engineers.\r\n",
       "---\r\n",
       "\r\n",
       "summary---\r\n",
       "It is an open source project with many contributors.\n",
       "It enables users to write and execute code in multiple languages.\n",
       "It provides a powerful platform for developers to create and debug code.\n",
       "It is a great resource for learning and exploring new technologies.\r\n",
       "---\r\n",
       "\r\n",
       "overView---\r\n",
       "The most important information to know about .NET Interactive is that it allows users to write and execute code in multiple languages, including C#, F#, PowerShell, Python, and SQL.\r\n",
       "---\r\n"
      ]
     },
     "metadata": {},
     "output_type": "display_data"
    },
    {
     "data": {
      "text/plain": [
       "Storing derived knowledge: \r\n",
       "takeAway \r\n",
       "---\r\n",
       "Take Away Points:\n",
       "1. .NET Interactive is an open source project with a lot of contributors.\n",
       "2. It allows users to write and execute code in multiple languages, including C#, F#, PowerShell, Python, and SQL.\n",
       "3. It is developed by an open source community.\r\n",
       "---\r\n",
       "\r\n",
       "summary---\r\n",
       "It enables users to write and execute code in multiple languages, such as C#, F#, PowerShell, Python, and SQL.\n",
       "It is a powerful and versatile platform for developers to create and test code.\n",
       "It is a great tool for developers to quickly test and debug code.\n",
       "It is an invaluable resource for developers to learn and explore new technologies.\r\n",
       "---\r\n",
       "\r\n",
       "overView---\r\n",
       "The most important information to know about .NET Interactive is that it allows users to write and execute code in multiple languages, including C#, F#, PowerShell, Python, and SQL.\r\n",
       "---\r\n"
      ]
     },
     "metadata": {},
     "output_type": "display_data"
    },
    {
     "data": {
      "text/plain": [
       "Storing derived knowledge: \r\n",
       "takeAway \r\n",
       "---\r\n",
       "Take Away Points:\n",
       "1. .NET Interactive is an open source project with a lot of contributors.\n",
       "2. It allows users to write and execute code in multiple languages, including C#, F#, PowerShell, Python, and SQL.\n",
       "3. It is used by software engineers.\r\n",
       "---\r\n",
       "\r\n",
       "summary---\r\n",
       "It is an open source project with many contributors.\n",
       "It enables users to write and execute code in multiple languages, such as C#, F#, PowerShell, Python, and SQL.\n",
       "It provides a powerful and versatile platform for developers to create and test code.\n",
       "It is a great tool for quickly testing and debugging code, as well as learning and exploring new technologies.\r\n",
       "---\r\n",
       "\r\n",
       "overView---\r\n",
       "The most important information to know is that .NET Interactive is an open source project with a lot of contributors, allowing users to write and execute code in multiple languages, including C#, F#, PowerShell, Python, and SQL, and is used by software engineers.\r\n",
       "---\r\n"
      ]
     },
     "metadata": {},
     "output_type": "display_data"
    },
    {
     "data": {
      "text/plain": [
       "Storing derived knowledge: \r\n",
       "takeAway \r\n",
       "---\r\n",
       "Take Away Points:\n",
       "1. .NET Interactive is a polyglot kernel.\n",
       "2. It allows users to write and execute code in multiple languages, including C#, F#, PowerShell, Python, and SQL.\n",
       "3. It can create rich outputs and visualizations.\r\n",
       "---\r\n",
       "\r\n",
       "summary---\r\n",
       "It is an open source project with many contributors, and it enables developers to write and execute code in multiple languages. It is a great tool for quickly testing and debugging code, and it provides an invaluable resource for learning and exploring new technologies.\r\n",
       "---\r\n",
       "\r\n",
       "overView---\r\n",
       "The most important information to know about .NET Interactive is that it is a polyglot kernel that allows users to write and execute code in multiple languages, including C#, F#, PowerShell, Python, and SQL, and that it can create rich outputs and visualizations.\r\n",
       "---\r\n"
      ]
     },
     "metadata": {},
     "output_type": "display_data"
    },
    {
     "data": {
      "text/plain": [
       "Storing derived knowledge: \r\n",
       "takeAway \r\n",
       "---\r\n",
       "Take Away Points:\n",
       "1. The Polyglot Notebooks extension, powered by .NET Interactive, brings support for multi-language notebooks to Visual Studio Code.\n",
       "2. It allows features such as completions, documentation, syntax highlighting, and diagnostics to be available for many languages in one notebook.\n",
       "3. Different cells in the same notebook can run in separate processes or on different machines, allowing a notebook to span local and cloud environments in one combined workflow.\n",
       "4. Polyglot Notebooks are fully interoperable with Jupyter and support the .ipynb file extension.\n",
       "5. If your notebook is saved in the .ipynb format, you can open it in Jupyter and the cell languages will still be recognized.\n",
       "6. When working in Jupyter using the .NET Interactive kernel, you can switch cell languages using magic commands.\r\n",
       "---\r\n",
       "\r\n",
       "summary---\r\n",
       "Take Away Points:\n",
       "1. Polyglot Notebooks is an extension powered by .NET Interactive that supports multi-language notebooks in Visual Studio Code.\n",
       "2. It allows features such as completions, documentation, syntax highlighting, and diagnostics for many languages in one notebook.\n",
       "3. Cells in the same notebook can run in separate processes or on different machines.\n",
       "4. Polyglot Notebooks are fully interoperable with Jupyter and support the .ipynb file extension.\n",
       "5. Cells in Jupyter can be switched using magic commands.\r\n",
       "---\r\n",
       "\r\n",
       "overView---\r\n",
       "The most important information to know about .NET Interactive and the Polyglot Notebooks extension is that it allows users to write and execute code in multiple languages in one notebook, and that it is interoperable with Jupyter and supports the .ipynb file extension. It also allows different cells in the same notebook to run in separate processes or on different machines, allowing a notebook to span local and cloud environments in one combined workflow.\r\n",
       "---\r\n"
      ]
     },
     "metadata": {},
     "output_type": "display_data"
    },
    {
     "data": {
      "text/plain": [
       "Storing derived knowledge: \r\n",
       "takeAway \r\n",
       "---\r\n",
       "Take Away Points:\n",
       "1. .NET Interactive supports mermaid language, javascript, and HTML kernels.\n",
       "2. These components can be used to create rich visualizations.\n",
       "3. Mermaid language can be used to create diagrams and flowcharts.\n",
       "4. Javascript can be used to create interactive visualizations.\n",
       "5. HTML can be used to create rich visualizations.\r\n",
       "---\r\n",
       "\r\n",
       "summary---\r\n",
       ".NET Interactive is a polyglot kernel that enables users to write and execute code in multiple languages, including C#, F#, PowerShell, Python, and SQL. It can create rich outputs and visualizations, as well as diagrams and flowcharts with the mermaid language, interactive visualizations with javascript, and HTML-based visualizations.\r\n",
       "---\r\n",
       "\r\n",
       "overView---\r\n",
       "The most important information to know about .NET Interactive is that it is a polyglot kernel that allows users to write and execute code in multiple languages, including C#, F#, PowerShell, Python, and SQL, and that it has support for mermaid language, javascript, and HTML kernels which can be used to create rich visualizations.\r\n",
       "---\r\n"
      ]
     },
     "metadata": {},
     "output_type": "display_data"
    },
    {
     "data": {
      "text/plain": [
       "Storing derived knowledge: \r\n",
       "takeAway \r\n",
       "---\r\n",
       "Take Away Points:\n",
       "1. .NET Interactive supports the Jupyter protocol, allowing users to write and execute code in languages such as Python, R, and Julia.\n",
       "2. This provides access to the rich ecosystems of these languages in .NET Interactive notebooks.\r\n",
       "---\r\n",
       "\r\n",
       "summary---\r\n",
       "It also supports mermaid language, javascript, and HTML kernels which can be used to create rich visualizations. With .NET Interactive, you can write and execute code in multiple languages, including C#, F#, PowerShell, Python, and SQL.\r\n",
       "---\r\n",
       "\r\n",
       "overView---\r\n",
       "The most important information to know is that .NET Interactive supports the Jupyter protocol, allowing users to write and execute code in languages such as Python, R, and Julia, providing access to the rich ecosystems of these languages in .NET Interactive notebooks.\r\n",
       "---\r\n"
      ]
     },
     "metadata": {},
     "output_type": "display_data"
    }
   ],
   "source": [
    "\n",
    "#!knowledge --name fact2\n",
    ".NET Interactive is developed by a team of engineers at Microsoft.\n",
    "\n",
    "#!knowledge --name fact3\n",
    ".NET Interactive is an open source project with a lot of contributors.\n",
    "\n",
    "#!knowledge --name fact4\n",
    ".NET Interactive is used by engineers.\n",
    "\n",
    "#!knowledge --name fact5\n",
    ".NET Interactive is developed by open source community.\n",
    "\n",
    "#!knowledge --name fact6\n",
    ".NET Interactive is used by software engineers.\n",
    "\n",
    "#!knowledge --name fact7\n",
    ".NET Interactive can create rich outputs and visualizations.\n",
    "\n",
    "#!knowledge --name fact8\n",
    "The Polyglot Notebooks extension, powered by .NET Interactive, brings support for multi-language notebooks to Visual Studio Code. \n",
    "Classic notebook software typically supports notebooks that use only one language at a time. With Polyglot Notebooks, features such as completions, documentation, syntax highlighting, and diagnostics are available for many languages in one notebook. In addition, different cells in the same notebook can run in separate processes or on different machines, allowing a notebook to span local and cloud environments in one combined workflow.\n",
    "Polyglot Notebooks are fully interoperable with Jupyter and support the .ipynb file extension. \n",
    "You don't need to choose between the capabilities of Polyglot Notebooks and the rich Jupyter ecosystem. \n",
    "If your notebook is saved in the .ipynb format, you can open it in Jupyter and the cell languages will still be recognized. \n",
    "When working in Jupyter using the .NET Interactive kernel, you can switch cell languages using magic commands.\n",
    "\n",
    "#!knowledge --name fact9\n",
    ".NET Interactive has support for mermaid langauge and javascript. Along with the HTML kernel these components can be used to create rich visualizations. With the mermaid language you can create diagrams and flowcharts. With javascript you can create interactive visualizations. With HTML you can create rich visualizations.\n",
    "\n",
    "#!knowledge --name fact10\n",
    ".NET Interactive alloes using languages like Python, R and Julia thanks to the Jupyter protocol support. This allows you to use the rich ecosystem of these languages in your .NET Interactive notebooks."
   ]
  },
  {
   "cell_type": "code",
   "execution_count": 15,
   "metadata": {
    "dotnet_interactive": {
     "language": "openai(knowledge)"
    },
    "polyglot_notebook": {
     "kernelName": "openai(knowledge)"
    }
   },
   "outputs": [
    {
     "data": {
      "text/plain": [
       "Storing derived knowledge: \r\n",
       "takeAway \r\n",
       "---\r\n",
       "-1 Take Away Points:\n",
       "1. Notebooks are a type of program that allow mixing formatted text and executable code to create documents with runnable examples.\n",
       "2. Notebooks are an example of literate programming.\n",
       "3. Notebooks have cells which are different text regions, typically including code, markdown, and output.\r\n",
       "---\r\n",
       "\r\n",
       "summary---\r\n",
       "1. .NET Interactive and the Polyglot Notebooks extension allow users to write and execute code in multiple languages in one notebook, and are interoperable with Jupyter and support the .ipynb file extension. \n",
       "2. Cells in the same notebook can run in separate processes or on different machines, allowing a notebook to span local and cloud environments in one combined workflow.\n",
       "3. .NET Interactive supports the Jupyter protocol, providing access to the rich ecosystems of languages such as Python, R, and Julia in .NET Interactive notebooks.\r\n",
       "---\r\n",
       "\r\n",
       "overView---\r\n",
       "The most important information to know about computational notebooks is that they allow mixing formatted text and executable code to create documents with runnable examples, and that they have cells which are different text regions, typically including code, markdown, and output.\r\n",
       "---\r\n"
      ]
     },
     "metadata": {},
     "output_type": "display_data"
    },
    {
     "data": {
      "text/plain": [
       "Storing derived knowledge: \r\n",
       "takeAway \r\n",
       "---\r\n",
       "Take Away Points:\n",
       "1. Project Jupyter is a popular notebook technology used for data analysis and data science.\n",
       "2. It is also used for interactive documentation, learning materials, troubleshooting guides, and self-guiding automation scripts.\n",
       "3. It can capture structured or visual log output.\r\n",
       "---\r\n",
       "\r\n",
       "summary---\r\n",
       ".NET Interactive and the Polyglot Notebooks extension bring support for multi-language notebooks to Visual Studio Code, allowing features such as completions, documentation, syntax highlighting, and diagnostics to be available for many languages in one notebook. It also allows different cells in the same notebook to run in separate processes or on different machines, allowing a notebook to span local and cloud environments in one combined workflow. It is fully interoperable with Jupyter and supports the .ipynb file extension.\n",
       "\n",
       "Project Jupyter is a popular notebook technology used for data analysis, data science, interactive documentation, troubleshooting, and automation. .NET Interactive and the Polyglot Notebooks extension bring multi-language support to Visual Studio Code, allowing features such as completions, documentation, syntax highlighting, and diagnostics for many languages in one notebook. Cells can run in separate processes or on different machines, and the extension is interoperable with Jupyter and supports the .ipynb file extension.\r\n",
       "---\r\n",
       "\r\n",
       "overView---\r\n",
       "The most important information to know about Project Jupyter is that it is a popular notebook technology used for data analysis and data science, as well as for interactive documentation, learning materials, troubleshooting guides, and self-guiding automation scripts. It can also capture structured or visual log output.\r\n",
       "---\r\n"
      ]
     },
     "metadata": {},
     "output_type": "display_data"
    },
    {
     "data": {
      "text/plain": [
       "Storing derived knowledge: \r\n",
       "takeAway \r\n",
       "---\r\n",
       "Take Away Points:\n",
       "1. Jupyter Notebook is a browser-based notebook UI from Project Jupyter.\n",
       "2. It can edit and run notebooks using a Jupyter kernel and the .ipynb file format.\r\n",
       "---\r\n",
       "\r\n",
       "summary---\r\n",
       ".NET Interactive and the Polyglot Notebooks extension allow users to write and execute code in multiple languages in one notebook, and are interoperable with Jupyter. Cells in the same notebook can run in separate processes or on different machines, and features such as completions, documentation, syntax highlighting, and diagnostics are available for many languages. Magic commands can be used to switch cell languages in Jupyter.\r\n",
       "---\r\n",
       "\r\n",
       "overView---\r\n",
       "The most important information to know about Jupyter Notebook is that it is a browser-based notebook UI from Project Jupyter that can edit and run notebooks using a Jupyter kernel and the .ipynb file format.\r\n",
       "---\r\n"
      ]
     },
     "metadata": {},
     "output_type": "display_data"
    },
    {
     "data": {
      "text/plain": [
       "Storing derived knowledge: \r\n",
       "takeAway \r\n",
       "---\r\n",
       "-Take Away Points:\n",
       "1. JupyterLab is a browser-based frontend for Jupyter kernels.\n",
       "2. It is similar to Jupyter Notebook, but richer and more extensible.\r\n",
       "---\r\n",
       "\r\n",
       "summary---\r\n",
       ".NET Interactive and the Polyglot Notebooks extension allow users to write and execute code in multiple languages in one notebook, and are interoperable with Jupyter and support the .ipynb file extension. It also enables cells in the same notebook to run in separate processes or on different machines, allowing a notebook to span local and cloud environments. It supports mermaid language, javascript, and HTML kernels for creating rich visualizations. JupyterLab is a browser-based frontend for Jupyter kernels, similar to Jupyter Notebook, but more extensible.\r\n",
       "---\r\n",
       "\r\n",
       "overView---\r\n",
       "The most important information to know about JupyterLab is that it is a browser-based frontend for Jupyter kernels, similar to Jupyter Notebook, but richer and more extensible.\r\n",
       "---\r\n"
      ]
     },
     "metadata": {},
     "output_type": "display_data"
    },
    {
     "data": {
      "text/plain": [
       "Storing derived knowledge: \r\n",
       "takeAway \r\n",
       "---\r\n",
       "-Take Away Points:\n",
       "1. The term \"frontend\" is used to describe the UI for a notebook editor.\n",
       "2. Examples of notebook frontends include Jupyter Notebook, JupyterLab, nteract Desktop, and the Jupyter Extension for VS Code and GitHub Codespaces.\r\n",
       "---\r\n",
       "\r\n",
       "summary---\r\n",
       ".NET Interactive and the Polyglot Notebooks extension allow users to write and execute code in multiple languages in one notebook, and are interoperable with Jupyter and support the .ipynb file extension. It also allows different cells in the same notebook to run in separate processes or on different machines, enabling a notebook to span local and cloud environments. Additionally, .NET Interactive supports mermaid language, javascript, and HTML kernels for creating rich visualizations.\r\n",
       "---\r\n",
       "\r\n",
       "overView---\r\n",
       "The most important information to know is that the term \"frontend\" is used to describe the UI for a notebook editor, and that there are several popular notebook frontends available, such as Jupyter Notebook, JupyterLab, nteract Desktop, and the Jupyter Extension for VS Code and GitHub Codespaces.\r\n",
       "---\r\n"
      ]
     },
     "metadata": {},
     "output_type": "display_data"
    },
    {
     "data": {
      "text/plain": [
       "Storing derived knowledge: \r\n",
       "takeAway \r\n",
       "---\r\n",
       "Take Away Points:\n",
       "1. A kernel is an execution engine for a notebook.\n",
       "2. It is responsible for processing code and executing it.\n",
       "3. Kernels are UI-agnostic and typically run in a different process from the UI.\n",
       "4. They can often run on a different machine.\r\n",
       "---\r\n",
       "\r\n",
       "summary---\r\n",
       ".NET Interactive is a polyglot kernel that enables users to write and execute code in multiple languages, including C#, F#, PowerShell, Python, and SQL. It supports the Jupyter protocol, allowing users to access the rich ecosystems of Python, R, and Julia. It also supports mermaid language, javascript, and HTML kernels for creating rich visualizations, and can span local and cloud environments in one combined workflow.\r\n",
       "---\r\n",
       "\r\n",
       "overView---\r\n",
       "The most important information to know about kernels is that they are responsible for processing code and executing it, and that they can run in a different process from the UI and on a different machine.\r\n",
       "---\r\n"
      ]
     },
     "metadata": {},
     "output_type": "display_data"
    },
    {
     "data": {
      "text/plain": [
       "Storing derived knowledge: \r\n",
       "takeAway \r\n",
       "---\r\n",
       "Take Away Points:\n",
       "1. .NET Interactive allows for multiple kernels within a single kernel process, referred to as \"subkernels\".\n",
       "2. Each subkernel represents a stateful unit of computation with a set of capabilities, such as running code, sharing variables, and providing language services.\n",
       "3. Multiple .NET Interactive subkernels can work together in a single notebook session, whether they share a process or are distributed across multiple machines.\r\n",
       "---\r\n",
       "\r\n",
       "summary---\r\n",
       ".NET Interactive is a polyglot kernel that allows users to write and execute code in multiple languages, including C#, F#, PowerShell, Python, and SQL. It is an open source project, enabling users to contribute to its development. It is a powerful and versatile platform for developers to create and test code, and a great tool for quickly testing and debugging code. Subkernels can be used to run code, share variables, and provide language services in a single notebook session.\r\n",
       "---\r\n",
       "\r\n",
       "overView---\r\n",
       "The most important information to know about .NET Interactive is that it is a polyglot kernel that allows users to write and execute code in multiple languages, including C#, F#, PowerShell, Python, and SQL, and that it supports multiple subkernels within a single kernel process, allowing for distributed computing across multiple machines.\r\n",
       "---\r\n"
      ]
     },
     "metadata": {},
     "output_type": "display_data"
    },
    {
     "data": {
      "text/plain": [
       "Storing derived knowledge: \r\n",
       "takeAway \r\n",
       "---\r\n",
       "Take Away Points:\n",
       "1. A Jupyter kernel is any kernel that implements the Jupyter Message Protocol (JMP).\n",
       "2. The most commonly-used Jupyter kernel is IPython, an interactive shell for Python.\n",
       "3. Project Jupyter grew from IPython.\r\n",
       "---\r\n",
       "\r\n",
       "summary---\r\n",
       ".NET Interactive is a polyglot kernel that enables users to write and execute code in multiple languages, including C#, F#, PowerShell, Python, and SQL. It supports the Jupyter protocol, allowing users to access the rich ecosystems of these languages in .NET Interactive notebooks. It also has support for mermaid language, javascript, and HTML kernels which can be used to create rich visualizations. It can span local and cloud environments in one combined workflow.\r\n",
       "---\r\n",
       "\r\n",
       "overView---\r\n",
       "The most important information to know is that a Jupyter kernel is any kernel that implements the Jupyter Message Protocol (JMP), and the most commonly-used Jupyter kernel is IPython, an interactive shell for Python, from which Project Jupyter grew.\r\n",
       "---\r\n"
      ]
     },
     "metadata": {},
     "output_type": "display_data"
    },
    {
     "data": {
      "text/plain": [
       "Storing derived knowledge: \r\n",
       "takeAway \r\n",
       "---\r\n",
       "Take Away Points:\n",
       "1. .NET Interactive is a Jupyter kernel when started in Jupyter mode.\n",
       "2. It can be started using the command line `dotnet interactive jupyter`.\n",
       "3. It supports the Jupyter protocol, allowing users to write and execute code in languages such as Python, R, and Julia.\n",
       "4. It provides access to the rich ecosystems of these languages in .NET Interactive notebooks.\r\n",
       "---\r\n",
       "\r\n",
       "summary---\r\n",
       "It supports multiple languages such as C#, F#, PowerShell, Python, and SQL, and can create rich outputs and visualizations.\n",
       "It also has support for mermaid language, javascript, and HTML kernels which can be used to create rich visualizations.\n",
       "It provides access to the rich ecosystems of these languages in .NET Interactive notebooks.\n",
       "It is a powerful tool for writing and executing code in multiple languages.\r\n",
       "---\r\n",
       "\r\n",
       "overView---\r\n",
       "The most important information to know is that .NET Interactive is a Jupyter kernel when started in Jupyter mode, allowing users to write and execute code in languages such as Python, R, and Julia, providing access to the rich ecosystems of these languages in .NET Interactive notebooks.\r\n",
       "---\r\n"
      ]
     },
     "metadata": {},
     "output_type": "display_data"
    },
    {
     "data": {
      "text/plain": [
       "Storing derived knowledge: \r\n",
       "takeAway \r\n",
       "---\r\n",
       "Take Away Points:\n",
       "1. .NET Interactive is a .NET tool containing a general-purpose engine for interactive programming.\n",
       "2. It has a programmatic interface but no graphical user interface.\n",
       "3. It supports multiple languages, including C#, F#, PowerShell, and JavaScript.\n",
       "4. It can be used with various notebook frontends to provide a GUI.\n",
       "5. It can be extended to support additional languages such as SQL and Python.\r\n",
       "---\r\n",
       "\r\n",
       "summary---\r\n",
       ".NET Interactive is an open source project with a lot of contributors, allowing users to write and execute code in multiple languages, create rich outputs and visualizations, and is used by software engineers. It is a powerful and versatile platform for developers to create and test code, and is an invaluable resource for developers to learn and explore new technologies.\r\n",
       "---\r\n",
       "\r\n",
       "overView---\r\n",
       "The most important information to know about .NET Interactive is that it is a .NET tool containing a general-purpose engine for interactive programming, it has a programmatic interface but no graphical user interface, and it supports multiple languages, including C#, F#, PowerShell, and JavaScript, as well as the ability to load support for additional languages such as SQL and Python.\r\n",
       "---\r\n"
      ]
     },
     "metadata": {},
     "output_type": "display_data"
    },
    {
     "data": {
      "text/plain": [
       "Storing derived knowledge: \r\n",
       "takeAway \r\n",
       "---\r\n",
       "Take Away Points:\n",
       "1. .NET Interactive is a Jupyter-compliant kernel.\n",
       "2. It can be used with Project Jupyter just like any other kernel.\n",
       "3. It is not opinionated about which frontend is used.\r\n",
       "---\r\n",
       "\r\n",
       "summary---\r\n",
       ".NET Interactive is a polyglot kernel that allows users to write and execute code in multiple languages, including C#, F#, PowerShell, Python, and SQL. It is an open source project, allowing users to contribute to its development. It is a powerful and versatile platform for developers to create and test code, and a great tool for developers to quickly test and debug code.\r\n",
       "---\r\n",
       "\r\n",
       "overView---\r\n",
       "The most important information to know is that .NET Interactive is a Jupyter-compliant kernel that can be used with Project Jupyter just like any other kernel, and it is not opinionated about which frontend is used.\r\n",
       "---\r\n"
      ]
     },
     "metadata": {},
     "output_type": "display_data"
    },
    {
     "data": {
      "text/plain": [
       "Storing derived knowledge: \r\n",
       "takeAway \r\n",
       "---\r\n",
       "Take Away Points:\n",
       "1. The Polyglot Notebooks extension for VS Code is not required to use the .NET Interactive kernel.\n",
       "2. It provides access to additional functionality not available in Jupyter frontends.\n",
       "3. It allows users to switch languages (i.e. subkernels) on a per-cell basis.\r\n",
       "---\r\n",
       "\r\n",
       "summary---\r\n",
       "Polyglot Notebooks is an extension powered by .NET Interactive that allows users to write and execute code in multiple languages in one notebook. It is interoperable with Jupyter and supports the .ipynb file extension. It also allows different cells in the same notebook to run in separate processes or on different machines, allowing a notebook to span local and cloud environments in one combined workflow. It provides access to the rich ecosystems of languages such as Python, R, and Julia in .NET Interactive notebooks.\r\n",
       "---\r\n",
       "\r\n",
       "overView---\r\n",
       "The most important information to know about .NET Interactive and the Polyglot Notebooks extension is that it allows users to write and execute code in multiple languages in one notebook, and that it is interoperable with Jupyter and supports the .ipynb file extension. It also provides access to additional functionality not available in Jupyter frontends, such as the ability to switch languages (i.e. subkernels) on a per-cell basis.\r\n",
       "---\r\n"
      ]
     },
     "metadata": {},
     "output_type": "display_data"
    },
    {
     "data": {
      "text/plain": [
       "Storing derived knowledge: \r\n",
       "takeAway \r\n",
       "---\r\n",
       "Take Away Points:\n",
       "1. Polyglot Notebooks is an extension for Visual Studio Code that provides a notebook frontend and related tools.\n",
       "2. It is powered by .NET Interactive and supports multi-language notebooks.\n",
       "3. It allows features such as completions, documentation, syntax highlighting, and diagnostics for many languages in one notebook.\n",
       "4. Cells in the same notebook can run in separate processes or on different machines.\n",
       "5. It is fully interoperable with Jupyter and supports the .ipynb file extension.\n",
       "6. It can create rich outputs and visualizations.\r\n",
       "---\r\n",
       "\r\n",
       "summary---\r\n",
       "It allows users to write and execute code in multiple languages, including C#, F#, PowerShell, Python, and SQL, and supports features such as completions, documentation, syntax highlighting, and diagnostics. Cells in the same notebook can run in separate processes or on different machines, allowing a notebook to span local and cloud environments in one combined workflow. It is interoperable with Jupyter and supports the .ipynb file extension. It also enables rich outputs and visualizations.\r\n",
       "---\r\n",
       "\r\n",
       "overView---\r\n",
       "The most important information to know about .NET Interactive and the Polyglot Notebooks extension is that it allows users to write and execute code in multiple languages in one notebook, and that it is interoperable with Jupyter and supports the .ipynb file extension. It also allows different cells in the same notebook to run in separate processes or on different machines, allowing a notebook to span local and cloud environments in one combined workflow. Additionally, it can create rich outputs and visualizations.\r\n",
       "---\r\n"
      ]
     },
     "metadata": {},
     "output_type": "display_data"
    },
    {
     "data": {
      "text/plain": [
       "Storing derived knowledge: \r\n",
       "takeAway \r\n",
       "---\r\n",
       "-Take Away Points:\n",
       "1. Polyglot Notebooks is a notebook frontend powered by .NET Interactive that supports multi-language notebooks in Visual Studio Code.\n",
       "2. It allows users to read and write notebook files, run the code in the notebook, and visualize the results.\n",
       "3. It supports features such as completions, documentation, syntax highlighting, and diagnostics for many languages in one notebook.\n",
       "4. Cells in the same notebook can run in separate processes or on different machines, allowing a notebook to span local and cloud environments in one combined workflow.\n",
       "5. Polyglot Notebooks are fully interoperable with Jupyter and support the .ipynb file extension.\r\n",
       "---\r\n",
       "\r\n",
       "summary---\r\n",
       "It supports multiple languages, including C#, F#, PowerShell, Python, and SQL, and is interoperable with Jupyter. Cells in the same notebook can run in separate processes or on different machines, allowing a notebook to span local and cloud environments in one combined workflow.\n",
       "\n",
       "Polyglot Notebooks is a powerful and versatile platform for developers to create and test code, enabling them to quickly test and debug code. It supports multiple languages, is interoperable with Jupyter, and allows cells to run in separate processes or on different machines.\r\n",
       "---\r\n",
       "\r\n",
       "overView---\r\n",
       "The most important information to know about Polyglot Notebooks is that it allows users to write and execute code in multiple languages in one notebook, and that it is interoperable with Jupyter and supports the .ipynb file extension. It also allows different cells in the same notebook to run in separate processes or on different machines, allowing a notebook to span local and cloud environments in one combined workflow. Additionally, it provides features such as completions, documentation, syntax highlighting, and diagnostics for many languages in one notebook.\r\n",
       "---\r\n"
      ]
     },
     "metadata": {},
     "output_type": "display_data"
    },
    {
     "data": {
      "text/plain": [
       "Storing derived knowledge: \r\n",
       "takeAway \r\n",
       "---\r\n",
       "Take Away Points:\n",
       "1. .NET Interactive is a kernel with an API but no user interface.\n",
       "2. It processes messages sent from a frontend such as Polyglot Notebooks and sends back code execution results.\n",
       "3. It allows users to write and execute code in multiple languages, including C#, F#, PowerShell, Python, and SQL.\r\n",
       "---\r\n",
       "\r\n",
       "summary---\r\n",
       "It is a polyglot kernel that enables users to write and execute code in multiple languages, including C#, F#, PowerShell, Python, and SQL. It is an open source project, allowing users to contribute to its development. It is a powerful and versatile platform for developers to create and test code, and a great tool for developers to quickly test and debug code.\n",
       "\n",
       "Summary: .NET Interactive is a polyglot kernel that allows users to write and execute code in multiple languages. It is an open source project with an API and no user interface. It is a powerful and versatile platform for developers to create and test code, and a great tool for developers to quickly test and debug code.\r\n",
       "---\r\n",
       "\r\n",
       "overView---\r\n",
       "The most important information to know about .NET Interactive is that it is a polyglot kernel that allows users to write and execute code in multiple languages, including C#, F#, PowerShell, Python, and SQL, and that it has an API but no user interface, and processes messages sent from a frontend such as Polyglot Notebooks and sends back code execution results.\r\n",
       "---\r\n"
      ]
     },
     "metadata": {},
     "output_type": "display_data"
    },
    {
     "data": {
      "text/plain": [
       "Storing derived knowledge: \r\n",
       "takeAway \r\n",
       "---\r\n",
       "Take Away Points:\n",
       "1. A subkernel is a concept in .NET Interactive that describes one among many kernels within a single notebook session.\n",
       "2. Each language available in a Polyglot Notebook corresponds to a different subkernel.\n",
       "3. Subkernels can be added dynamically at runtime, for example when connecting to a data source or a kernel running in a remote process.\r\n",
       "---\r\n",
       "\r\n",
       "summary---\r\n",
       ".NET Interactive is a polyglot kernel that enables users to write and execute code in multiple languages, such as C#, F#, PowerShell, Python, and SQL. It is an open source project, allowing users to contribute to its development. It has support for mermaid language, javascript, and HTML kernels which can be used to create rich visualizations. Subkernels can be added dynamically at runtime, allowing users to connect to data sources or remote processes.\r\n",
       "---\r\n",
       "\r\n",
       "overView---\r\n",
       "The most important information to know about .NET Interactive is that it is a polyglot kernel that allows users to write and execute code in multiple languages, including C#, F#, PowerShell, Python, and SQL, and that it supports subkernels which can be added dynamically at runtime.\r\n",
       "---\r\n"
      ]
     },
     "metadata": {},
     "output_type": "display_data"
    },
    {
     "data": {
      "text/plain": [
       "Storing derived knowledge: \r\n",
       "takeAway \r\n",
       "---\r\n",
       "Take Away Points:\n",
       "1. A proxy kernel is a concept in .NET Interactive that describes a subkernel that proxies a remote kernel.\n",
       "2. Proxy kernels allow users to create notebooks that combine kernels running in multiple different processes or on different machines.\n",
       "3. Proxy kernels can be used locally just like any other subkernel.\r\n",
       "---\r\n",
       "\r\n",
       "summary---\r\n",
       ".NET Interactive is a polyglot kernel that allows users to write and execute code in multiple languages, including C#, F#, PowerShell, Python, and SQL. It can create rich outputs and visualizations, and has support for mermaid language, javascript, and HTML kernels. It also has the ability to create proxy kernels, allowing users to combine kernels running in multiple different processes or on different machines.\r\n",
       "---\r\n",
       "\r\n",
       "overView---\r\n",
       "The most important information to know about .NET Interactive is that it supports the Jupyter protocol, allowing users to write and execute code in languages such as Python, R, and Julia, and that it also supports proxy kernels, which allow users to create notebooks that combine kernels running in multiple different processes or on different machines.\r\n",
       "---\r\n"
      ]
     },
     "metadata": {},
     "output_type": "display_data"
    },
    {
     "data": {
      "text/plain": [
       "Storing derived knowledge: \r\n",
       "takeAway \r\n",
       "---\r\n",
       "Take Away Points:\n",
       "1. The JavaScript kernel is an example of a proxy kernel.\n",
       "2. The JavaScript kernel is written in TypeScript and runs in a separate process from the .NET Interactive kernel.\n",
       "3. The JavaScript kernel can be called programmatically in .NET using the same APIs used to call in-process kernels such as the C# kernel.\n",
       "4. The proxy kernel serves as the adapter that enables this.\r\n",
       "---\r\n",
       "\r\n",
       "summary---\r\n",
       ".NET Interactive is a polyglot kernel that enables users to write and execute code in multiple languages, including C#, F#, PowerShell, Python, and SQL. It can create rich outputs and visualizations, and also supports the JavaScript kernel, which runs in a separate process and can be called programmatically in .NET. It is an open source project, allowing users to contribute to its development.\r\n",
       "---\r\n",
       "\r\n",
       "overView---\r\n",
       "The most important information to know about .NET Interactive is that it is a polyglot kernel that allows users to write and execute code in multiple languages, including C#, F#, PowerShell, Python, and SQL, and that it has support for proxy kernels such as the JavaScript kernel, which is written in TypeScript and runs in a separate process from the .NET Interactive kernel. The proxy kernel serves as the adapter that enables this.\r\n",
       "---\r\n"
      ]
     },
     "metadata": {},
     "output_type": "display_data"
    },
    {
     "data": {
      "text/plain": [
       "Storing derived knowledge: \r\n",
       "takeAway \r\n",
       "---\r\n",
       "Take Away Points:\n",
       "1. The .ipynb file extension is the standard Jupyter notebook format.\n",
       "2. It is a JSON-based format that can store content and metadata for code cells, Markdown cells, and cell outputs.\n",
       "3. Multiple outputs can be stored for each code cell, as long as they differ by MIME type.\n",
       "4. There are many tools available for diffing, converting, and displaying .ipynb files.\n",
       "5. In GitHub, .ipynb files are displayed using a notebook-style layout.\r\n",
       "---\r\n",
       "\r\n",
       "summary---\r\n",
       ".NET Interactive and the Polyglot Notebooks extension allow users to write and execute code in multiple languages in one notebook, and are interoperable with Jupyter. Cells in the same notebook can run in separate processes or on different machines, allowing a notebook to span local and cloud environments in one combined workflow. .NET Interactive also supports the Jupyter protocol, providing access to the rich ecosystems of languages such as Python, R, and Julia.\n",
       "\n",
       "Summary: .NET Interactive and the Polyglot Notebooks extension allow users to write and execute code in multiple languages in one notebook, and are interoperable with Jupyter. Cells can run in separate processes or on different machines, and .NET Interactive supports the Jupyter protocol, providing access to the rich ecosystems of languages such as Python, R, and Julia. The `.ipynb` file extension is the standard Jupyter notebook format, and can store content and metadata for code cells, Markdown cells, and cell outputs. It is displayed using a notebook-style layout in GitHub.\r\n",
       "---\r\n",
       "\r\n",
       "overView---\r\n",
       "The most important information to know about .ipynb files is that they are the standard Jupyter notebook format, a JSON-based format that can store content and metadata for code cells, Markdown cells, and cell outputs. It can also store multiple outputs for each code cell, as long as they differ by MIME type, and there are many tools available for diffing, converting, and displaying .ipynb files. In GitHub, .ipynb files are displayed using a notebook-style layout.\r\n",
       "---\r\n"
      ]
     },
     "metadata": {},
     "output_type": "display_data"
    },
    {
     "data": {
      "text/plain": [
       "Storing derived knowledge: \r\n",
       "takeAway \r\n",
       "---\r\n",
       "Take Away Points:\n",
       "1. The Polyglot Notebooks extension supports the .ipynb and .dib file formats.\n",
       "2. The .dib format is a scripting format that does not store outputs and can contain multiple languages delimited by kernel selector magic commands.\n",
       "3. The .dib format is a plain text format, making it easier to diff without the need for special tools.\r\n",
       "---\r\n",
       "\r\n",
       "summary---\r\n",
       "Summary: The Polyglot Notebooks extension supports both the .ipynb and .dib file formats. .dib is a scripting format that does not store outputs and can contain multiple languages. It is a plain text format, making it easier to diff without the need for special tools.\r\n",
       "---\r\n",
       "\r\n",
       "overView---\r\n",
       "The most important information to know about the Polyglot Notebooks extension is that it supports both the .ipynb and .dib file formats, with the .dib format being a scripting format that does not store outputs and can contain multiple languages delimited by kernel selector magic commands. It is also a plain text format, making it easier to diff without the need for special tools.\r\n",
       "---\r\n"
      ]
     },
     "metadata": {},
     "output_type": "display_data"
    },
    {
     "data": {
      "text/plain": [
       "Storing derived knowledge: \r\n",
       "takeAway \r\n",
       "---\r\n",
       "-Take Away Points:\n",
       "1. Magic commands are special code commands that can be run in a notebook cell.\n",
       "2. Magic commands typically use a different syntax than the primary language supported by the kernel.\r\n",
       "---\r\n",
       "\r\n",
       "summary---\r\n",
       ".NET Interactive is a polyglot kernel that enables users to write and execute code in multiple languages, including C#, F#, PowerShell, Python, and SQL. It is interoperable with Jupyter and supports the .ipynb file extension, allowing users to write and execute code in multiple languages in one notebook. Cells in the same notebook can run in separate processes or on different machines, allowing a notebook to span local and cloud environments in one combined workflow. Polyglot Notebooks also provide features such as completions, documentation, syntax highlighting, and diagnostics for many languages. Magic commands can be used to switch cell languages in Jupyter.\r\n",
       "---\r\n",
       "\r\n",
       "overView---\r\n",
       "The most important information to know about .NET Interactive and the Polyglot Notebooks extension is that it allows users to write and execute code in multiple languages in one notebook, and that it is interoperable with Jupyter and supports the .ipynb file extension. It also allows different cells in the same notebook to run in separate processes or on different machines, allowing a notebook to span local and cloud environments in one combined workflow. Additionally, it supports the use of magic commands, which are special code commands that can be run in a notebook cell, typically using a different syntax than the primary language supported by the kernel.\r\n",
       "---\r\n"
      ]
     },
     "metadata": {},
     "output_type": "display_data"
    },
    {
     "data": {
      "text/plain": [
       "Storing derived knowledge: \r\n",
       "takeAway \r\n",
       "---\r\n",
       "Take Away Points:\n",
       "1. Magic commands in IPython are prefixed with `%`.\n",
       "2. This is not a valid operator in common Python.\n",
       "3. This allows IPython to easily identify magic commands.\r\n",
       "---\r\n",
       "\r\n",
       "summary---\r\n",
       "Magic commands are special commands that allow users to control the environment and perform various tasks. In .NET Interactive, magic commands are used to switch cell languages, allowing users to write and execute code in multiple languages in one notebook. They are also interoperable with Jupyter and support the .ipynb file extension.\r\n",
       "---\r\n",
       "\r\n",
       "overView---\r\n",
       "The most important information to know about IPython is that it uses magic commands prefixed with `%`, which is not a valid operator in common Python, allowing IPython to easily identify magic commands.\r\n",
       "---\r\n"
      ]
     },
     "metadata": {},
     "output_type": "display_data"
    },
    {
     "data": {
      "text/plain": [
       "Storing derived knowledge: \r\n",
       "takeAway \r\n",
       "---\r\n",
       "Take Away Points:\n",
       "1. Magics in .NET Interactive are prefixed with `#!`.\n",
       "2. Magics must come at the beginning of the line.\n",
       "3. Multiple magics can be used in a single cell.\n",
       "4. A single magic cannot span more than one line.\n",
       "5. There is no distinction between a \"cell magic\" and a \"line magic\" in .NET Interactive.\r\n",
       "---\r\n",
       "\r\n",
       "summary---\r\n",
       ".NET Interactive is a polyglot kernel that allows users to write and execute code in multiple languages, including C#, F#, PowerShell, Python, and SQL. It also supports mermaid language, javascript, and HTML kernels which can be used to create rich visualizations. Magics are prefixed with `#!` and can be used in a single cell, but cannot span more than one line.\r\n",
       "---\r\n",
       "\r\n",
       "overView---\r\n",
       "The most important information to know about .NET Interactive is that it uses magics prefixed with `#!` to write and execute code, and that these magics must come at the beginning of the line, multiple magics can be used in a single cell, but a single magic cannot span more than one line, and there is no distinction between a \"cell magic\" and a \"line magic\".\r\n",
       "---\r\n"
      ]
     },
     "metadata": {},
     "output_type": "display_data"
    },
    {
     "data": {
      "text/plain": [
       "Storing derived knowledge: \r\n",
       "takeAway \r\n",
       "---\r\n",
       "Take Away Points:\n",
       "1. A REPL is an interactive text-based interface for incrementally creating a program.\n",
       "2. REPLs can be used through a terminal or a GUI-based interface.\n",
       "3. Notebooks can be considered an example of a GUI-based REPL.\r\n",
       "---\r\n",
       "\r\n",
       "summary---\r\n",
       ".NET Interactive is an open source project with many contributors that enables developers to write and execute code in multiple languages, such as Python, R, Julia, C#, F#, PowerShell, and SQL. It provides powerful tools for quickly testing and debugging code, as well as creating rich outputs and visualizations. It is a great resource for learning and exploring new technologies.\r\n",
       "---\r\n",
       "\r\n",
       "overView---\r\n",
       "The most important information to know is that REPLs are interactive text-based interfaces for incrementally creating a program, providing it with input, and seeing its output. Notebooks can be considered an example of a GUI-based REPL.\r\n",
       "---\r\n"
      ]
     },
     "metadata": {},
     "output_type": "display_data"
    },
    {
     "data": {
      "text/plain": [
       "Storing derived knowledge: \r\n",
       "takeAway \r\n",
       "---\r\n",
       "Take Away Points:\n",
       "1. .NET Repl is a .NET tool that uses the .NET Interactive engine.\n",
       "2. It provides a terminal-based REPL with support for combining multiple languages in one session.\n",
       "3. It supports the `.ipynb` and `.dib` file formats.\n",
       "4. It provides additional features, such as the ability to execute notebooks without a UI.\n",
       "5. It can be used for testing notebook files or as automation scripts with built-in log capture.\r\n",
       "---\r\n",
       "\r\n",
       "summary---\r\n",
       ".NET Interactive is an open source project that provides a powerful and versatile platform for developers to create and test code in multiple languages, including C#, F#, PowerShell, Python, and SQL. It supports the Jupyter protocol, allowing users to write and execute code in languages such as Python, R, and Julia, providing access to the rich ecosystems of these languages in .NET Interactive notebooks. It also has support for mermaid language, javascript, and HTML kernels which can be used to create rich visualizations. It is a great tool for developers to quickly test and debug code, and an invaluable resource for developers to learn and explore new technologies.\r\n",
       "---\r\n",
       "\r\n",
       "overView---\r\n",
       "The most important information to know about .NET Repl is that it is a .NET tool that uses the .NET Interactive engine to provide a terminal-based REPL with support for combining multiple languages in one session, and that it supports the `.ipynb` and `.dib` file formats. It also provides additional features, such as the ability to execute notebooks without a UI, allowing for testing notebook files or using them as automation scripts with built-in log capture.\r\n",
       "---\r\n"
      ]
     },
     "metadata": {},
     "output_type": "display_data"
    },
    {
     "data": {
      "text/plain": [
       "Storing derived knowledge: \r\n",
       "takeAway \r\n",
       "---\r\n",
       "Take Away Points:\n",
       "1. .NET Interactive is exploring the possibility of adding an experimental feature to its core product.\n",
       "2. This feature could potentially be added in the future.\r\n",
       "---\r\n",
       "\r\n",
       "summary---\r\n",
       ".NET Interactive is an open source project with a lot of contributors, allowing users to write and execute code in multiple languages, including C#, F#, PowerShell, Python, and SQL. It provides a powerful and versatile platform for developers to create and test code, as well as rich visualizations with mermaid language, javascript, and HTML kernels. It is a great tool for developers to quickly test and debug code, and an invaluable resource for developers to learn and explore new technologies. Additionally, it may include an experimental feature in the future.\r\n",
       "---\r\n",
       "\r\n",
       "overView---\r\n",
       "The most important information to know is that .NET Interactive is exploring the possibility of adding an experimental feature to its core product, which could potentially be added in the future.\r\n",
       "---\r\n"
      ]
     },
     "metadata": {},
     "output_type": "display_data"
    },
    {
     "data": {
      "text/plain": [
       "Storing derived knowledge: \r\n",
       "takeAway \r\n",
       "---\r\n",
       "Take Away Points:\n",
       "1. The C# Interactive Window is a REPL window in Visual Studio.\n",
       "2. It allows users to write and execute code using the C# Script dialect.\r\n",
       "---\r\n",
       "\r\n",
       "summary---\r\n",
       ".NET Interactive is a powerful tool that enables users to write and execute code in multiple languages, including C#, F#, PowerShell, Python, and SQL, directly in Visual Studio. It provides an interactive environment for users to quickly test and debug code, making development faster and easier.\r\n",
       "---\r\n",
       "\r\n",
       "overView---\r\n",
       "The most important information to know is that the C# Interactive Window is a REPL window in Visual Studio that allows users to write and execute code using the C# Script dialect.\r\n",
       "---\r\n"
      ]
     },
     "metadata": {},
     "output_type": "display_data"
    },
    {
     "data": {
      "text/plain": [
       "Storing derived knowledge: \r\n",
       "takeAway \r\n",
       "---\r\n",
       "Take Away Points:\n",
       "1. C# Script is a dialect of the C# language that can be used for interactive programming and scripting.\n",
       "2. It differs from common C# in a few key ways, such as its lack of support for namespaces.\n",
       "3. Microsoft.CodeAnalysis.CSharp.Scripting provides .NET Interactive's default C# functionality.\r\n",
       "---\r\n",
       "\r\n",
       "summary---\r\n",
       ".NET Interactive is a powerful tool that allows users to write and execute code in multiple languages, including C#, F#, PowerShell, Python, and SQL. It is based on the C# Script dialect of the C# language and provides a library of core Roslyn Scripting functionality. It is a great tool for interactive programming and scripting, and can be used to quickly test and debug code.\r\n",
       "---\r\n",
       "\r\n",
       "overView---\r\n",
       "The most important information to know about .NET Interactive is that it allows users to write and execute code in C# Script, a dialect of the C# language that can be used for interactive programming and scripting, as well as other languages such as F#, PowerShell, Python, and SQL. It is powered by the Microsoft.CodeAnalysis.CSharp.Scripting library.\r\n",
       "---\r\n"
      ]
     },
     "metadata": {},
     "output_type": "display_data"
    },
    {
     "data": {
      "text/plain": [
       "Storing derived knowledge: \r\n",
       "takeAway \r\n",
       "---\r\n",
       "-Take Away Points:\n",
       "1. F# is a language that can be used for scripting.\n",
       "2. F# does not have a separate dialect like C# does.\n",
       "3. The `.fsx` file format is used for scripting in F#.\r\n",
       "---\r\n",
       "\r\n",
       "summary---\r\n",
       ".NET Interactive supports multiple languages, including C#, F#, PowerShell, Python, and SQL, which can be used to create rich visualizations. It also supports mermaid language, javascript, and HTML kernels for creating diagrams, flowcharts, interactive visualizations, and more.\r\n",
       "---\r\n",
       "\r\n",
       "overView---\r\n",
       "The most important information to know is that F# can be used for scripting and the `.fsx` file format is used for scripting in F#.\r\n",
       "---\r\n"
      ]
     },
     "metadata": {},
     "output_type": "display_data"
    },
    {
     "data": {
      "text/plain": [
       "Storing derived knowledge: \r\n",
       "takeAway \r\n",
       "---\r\n",
       "It is a great tool for developers to quickly test and debug code, and is an invaluable resource for developers to learn and explore new technologies.\n",
       "\n",
       "-Take Away Points:\n",
       "1. The F# Interactive Window is a REPL window in Visual Studio.\n",
       "2. It allows users to write and execute code using the F# language.\n",
       "3. It is a great tool for developers to quickly test and debug code.\n",
       "4. It is an invaluable resource for developers to learn and explore new technologies.\r\n",
       "---\r\n",
       "\r\n",
       "summary---\r\n",
       ".NET Interactive is an open source project that enables users to write and execute code in multiple languages, including C#, F#, PowerShell, Python, and SQL. It provides a powerful and versatile platform for developers to create and test code, as well as create rich outputs and visualizations. It is a great tool for developers to quickly test and debug code, and an invaluable resource for developers to learn and explore new technologies.\r\n",
       "---\r\n",
       "\r\n",
       "overView---\r\n",
       "The most important information to know about the F# Interactive Window is that it is a REPL window in Visual Studio that allows users to write and execute code using the F# language, and is a great tool for developers to quickly test and debug code. It is also an invaluable resource for developers to learn and explore new technologies.\r\n",
       "---\r\n"
      ]
     },
     "metadata": {},
     "output_type": "display_data"
    },
    {
     "data": {
      "text/plain": [
       "Storing derived knowledge: \r\n",
       "takeAway \r\n",
       "---\r\n",
       "-Take Away Points:\n",
       "1. CSI stands for C# Interactive and refers to a command-line C# REPL, `csi.exe`, powered by Roslyn Scripting.\n",
       "2. It is not directly used by .NET Interactive.\r\n",
       "---\r\n",
       "\r\n",
       "summary---\r\n",
       ".NET Interactive is a tool that enables users to write and execute code in multiple languages, including C#, F#, PowerShell, Python, and SQL, from a command-line interface. It is powered by Roslyn Scripting and provides an interactive experience for developers.\r\n",
       "---\r\n",
       "\r\n",
       "overView---\r\n",
       "The most important information to know is that CSI stands for C# Interactive and refers to a command-line C# REPL, `csi.exe`, powered by Roslyn Scripting, but it is not directly used by .NET Interactive.\r\n",
       "---\r\n"
      ]
     },
     "metadata": {},
     "output_type": "display_data"
    },
    {
     "data": {
      "text/plain": [
       "Storing derived knowledge: \r\n",
       "takeAway \r\n",
       "---\r\n",
       "-Take Away Points:\n",
       "1. FSI stands for F# Interactive.\n",
       "2. It is a command line F# REPL, `fsi.exe` (also invokable via `dotnet fsi`).\n",
       "3. It can be used as an interactive command-line REPL or to run F# scripts (`.fsx` files).\r\n",
       "---\r\n",
       "\r\n",
       "summary---\r\n",
       ".NET Interactive is a polyglot kernel that enables users to write and execute code in multiple languages, including C#, F#, PowerShell, Python, and SQL. It supports mermaid language, javascript, and HTML kernels for creating rich visualizations. It can be used as an interactive command-line REPL or to run F# scripts.\r\n",
       "---\r\n",
       "\r\n",
       "overView---\r\n",
       "The most important information to know about FSI is that it is a command line F# REPL, `fsi.exe` (also invokable via `dotnet fsi`), which can be used as an interactive command-line REPL or to run F# scripts (`.fsx` files).\r\n",
       "---\r\n"
      ]
     },
     "metadata": {},
     "output_type": "display_data"
    },
    {
     "data": {
      "text/plain": [
       "Storing derived knowledge: \r\n",
       "takeAway \r\n",
       "---\r\n",
       "Take Away Points:\n",
       "1. Try .NET is a web application that runs snippets of C# code.\n",
       "2. The code is compiled on the Try .NET server and then executed in the browser using Blazor WebAssembly.\n",
       "3. It uses common C#, not C# Script, unlike .NET Interactive.\r\n",
       "---\r\n",
       "\r\n",
       "summary---\r\n",
       "It is an open source project with a lot of contributors, allowing users to write and execute code in multiple languages, including C#, F#, PowerShell, Python, and SQL. It provides a powerful and versatile platform for developers to create and test code, making it a great tool for debugging and learning new technologies.\r\n",
       "---\r\n",
       "\r\n",
       "overView---\r\n",
       "The most important information to know is that Try .NET is a web application that runs snippets of C# code and shows the result as text output, and that it uses common C#, not C# Script, unlike .NET Interactive.\r\n",
       "---\r\n"
      ]
     },
     "metadata": {},
     "output_type": "display_data"
    },
    {
     "data": {
      "text/plain": [
       "Storing derived knowledge: \r\n",
       "takeAway \r\n",
       "---\r\n",
       "Take Away Points:\n",
       "1. The upcoming version of Try .NET reimplements the core Try .NET functionality as a .NET Interactive kernel.\n",
       "2. This will bring common C# to notebooks.\n",
       "3. This is still a work in progress.\r\n",
       "---\r\n",
       "\r\n",
       "summary---\r\n",
       "Take Away Points:\n",
       "1. Try .NET is being reimplemented as a .NET Interactive kernel.\n",
       "2. This will bring common C# to notebooks.\n",
       "3. It is still a work in progress.\n",
       "4. .NET Interactive allows users to write and execute code in multiple languages.\n",
       "5. It can create rich outputs and visualizations.\r\n",
       "---\r\n",
       "\r\n",
       "overView---\r\n",
       "The most important information to know is that the upcoming version of Try .NET will reimplement the core Try .NET functionality as a .NET Interactive kernel, allowing users to write and execute code in multiple languages, including C#, F#, PowerShell, Python, and SQL. This is still a work in progress.\r\n",
       "---\r\n"
      ]
     },
     "metadata": {},
     "output_type": "display_data"
    },
    {
     "data": {
      "text/plain": [
       "Storing derived knowledge: \r\n",
       "takeAway \r\n",
       "---\r\n",
       "-The Polyglot Notebooks extension in Visual Studio Code allows users to open the Panel to the `POLYGLOT NOTEBOOK: VARIABLES` tab, which displays the variables in all of the different loaded kernels.\n",
       "-This can be done by opening the VS Code command palette and selecting `Polyglot Notebook: Focus on Variables View`.\r\n",
       "---\r\n",
       "\r\n",
       "summary---\r\n",
       "The .NET Interactive and Polyglot Notebooks extension allows users to write and execute code in multiple languages in one notebook, with support for C#, F#, PowerShell, Python, and SQL. It is interoperable with Jupyter and supports the .ipynb file extension, and allows different cells in the same notebook to run in separate processes or on different machines. It also has support for mermaid language, javascript, and HTML kernels which can be used to create rich visualizations.\r\n",
       "---\r\n",
       "\r\n",
       "overView---\r\n",
       "The most important information to know about .NET Interactive and the Polyglot Notebooks extension is that it allows users to write and execute code in multiple languages in one notebook, and that it is interoperable with Jupyter and supports the .ipynb file extension. It also allows different cells in the same notebook to run in separate processes or on different machines, allowing a notebook to span local and cloud environments in one combined workflow. Additionally, while in a Polyglot Notebook, users can open the VS Code command palette and select `Polyglot Notebook: Focus on Variables View` to open the Panel to the `POLYGLOT NOTEBOOK: VARIABLES` tab, which displays the variables in all of the different loaded kernels.\r\n",
       "---\r\n"
      ]
     },
     "metadata": {},
     "output_type": "display_data"
    },
    {
     "data": {
      "text/plain": [
       "Storing derived knowledge: \r\n",
       "takeAway \r\n",
       "---\r\n",
       "The most important information to know is that .NET Interactive includes a library for parsing and writing various file formats, including .ipynb and .dib, and that the outputs are stored in the .ipynb file.\r\n",
       "---\r\n",
       "\r\n",
       "summary---\r\n",
       ".NET Interactive supports the Jupyter protocol, allowing users to write and execute code in languages such as Python, R, and Julia, providing access to the rich ecosystems of these languages in .NET Interactive notebooks. The Polyglot Notebooks extension brings support for multi-language notebooks to Visual Studio Code, allowing features such as completions, documentation, syntax highlighting, and diagnostics to be available for many languages in one notebook. It also supports the .ipynb file extension and allows different cells in the same notebook to run in separate processes or on different machines, allowing a notebook to span local and cloud environments in one combined workflow. Additionally, .NET Interactive supports mermaid language, javascript, and HTML kernels for creating rich visualizations.\r\n",
       "---\r\n",
       "\r\n",
       "overView---\r\n",
       "The most important information to know is that .NET Interactive includes a library for parsing and writing various file formats, including .ipynb and .dib, and that the outputs are stored in the .ipynb file. From within a running notebook, it is currently not possible to directly access the outputs, but the .NET Interactive packages include a library for parsing and writing various file formats including .ipynb and .dib.\r\n",
       "---\r\n"
      ]
     },
     "metadata": {},
     "output_type": "display_data"
    },
    {
     "data": {
      "text/plain": [
       "Storing derived knowledge: \r\n",
       "takeAway \r\n",
       "---\r\n",
       "-Take Away Points:\n",
       "1. The Polyglot Notebooks extension is available in Codespaces from the VS Code Marketplace.\n",
       "2. This extension allows users to write and execute code in multiple languages in one notebook.\r\n",
       "---\r\n",
       "\r\n",
       "summary---\r\n",
       "The Polyglot Notebooks extension, powered by .NET Interactive, allows users to write and execute code in multiple languages in one notebook. It is interoperable with Jupyter and supports the .ipynb file extension, allowing different cells in the same notebook to run in separate processes or on different machines. .NET Interactive also provides rich outputs and visualizations, as well as diagrams and flowcharts with the mermaid language, interactive visualizations with javascript, and HTML-based visualizations.\r\n",
       "---\r\n",
       "\r\n",
       "overView---\r\n",
       "The most important information to know about the Polyglot Notebooks extension is that it allows users to write and execute code in multiple languages in one notebook. This allows for a more efficient workflow, as users can switch between languages in the same notebook without having to create separate notebooks for each language.\r\n",
       "---\r\n"
      ]
     },
     "metadata": {},
     "output_type": "display_data"
    },
    {
     "data": {
      "text/plain": [
       "Storing derived knowledge: \r\n",
       "takeAway \r\n",
       "---\r\n",
       "-Take Away Points:\n",
       "1. The Polyglot Notebooks extension can be loaded in github.dev, but it is only available for viewing notebooks.\n",
       "2. Code execution is not currently available in the browser-only environment.\r\n",
       "---\r\n",
       "\r\n",
       "summary---\r\n",
       "The Polyglot Notebooks extension, powered by .NET Interactive, allows users to write and execute code in multiple languages in one notebook, and is interoperable with Jupyter and supports the .ipynb file extension. It also allows different cells in the same notebook to run in separate processes or on different machines, enabling a notebook to span local and cloud environments in one combined workflow. Additionally, it supports mermaid language, javascript, and HTML kernels, allowing users to create rich visualizations.\r\n",
       "---\r\n",
       "\r\n",
       "overView---\r\n",
       "The most important information to know about the Polyglot Notebooks extension is that it can only be used to view notebooks in github.dev, and code execution is not currently available in the browser-only environment.\r\n",
       "---\r\n"
      ]
     },
     "metadata": {},
     "output_type": "display_data"
    },
    {
     "data": {
      "text/plain": [
       "Storing derived knowledge: \r\n",
       "takeAway \r\n",
       "---\r\n",
       "Take Away Points:\n",
       "1. .NET Interactive can be used as a standard Jupyter kernel.\n",
       "2. It can be used with Jupyter Notebook, JupyterLab, and other Jupyter frontends.\n",
       "3. Instructions for registering it as a Jupyter kernel can be found in the dotnet/interactive repository.\r\n",
       "---\r\n",
       "\r\n",
       "summary---\r\n",
       ".NET Interactive is a polyglot kernel that allows users to write and execute code in multiple languages, including C#, F#, PowerShell, Python, and SQL. It also supports mermaid language, javascript, and HTML kernels which can be used to create rich visualizations. It is interoperable with Jupyter and supports the .ipynb file extension, allowing different cells in the same notebook to run in separate processes or on different machines. .NET Interactive provides access to the rich ecosystems of these languages in .NET Interactive notebooks.\r\n",
       "---\r\n",
       "\r\n",
       "overView---\r\n",
       "The most important information to know is that .NET Interactive can be used as a standard Jupyter kernel and can be used with Jupyter Notebook, JupyterLab, and other Jupyter frontends, with instructions for registering it as a Jupyter kernel available in the dotnet/interactive repository.\r\n",
       "---\r\n"
      ]
     },
     "metadata": {},
     "output_type": "display_data"
    },
    {
     "data": {
      "text/plain": [
       "Storing derived knowledge: \r\n",
       "takeAway \r\n",
       "---\r\n",
       "Take Away Points:\n",
       "1. The #r nuget directive can be used within a C# or F# cell to load NuGet packages into a notebook.\n",
       "2. More details can be found in the .NET Interactive documentation.\r\n",
       "---\r\n",
       "\r\n",
       "summary---\r\n",
       ".NET Interactive is a polyglot kernel that enables users to write and execute code in multiple languages, including C#, F#, PowerShell, Python, and SQL. It supports the Jupyter protocol, allowing users to access the rich ecosystems of these languages in .NET Interactive notebooks. It also supports mermaid language, javascript, and HTML kernels for creating rich visualizations. The Polyglot Notebooks extension brings support for multi-language notebooks to Visual Studio Code, with features such as completions, documentation, syntax highlighting, and diagnostics. It is interoperable with Jupyter and supports the .ipynb file extension. NuGet packages can be loaded into a notebook using the `#r nuget` directive.\r\n",
       "---\r\n",
       "\r\n",
       "overView---\r\n",
       "The most important information to know is that the #r nuget directive can be used within a C# or F# cell to load NuGet packages into a notebook, and more details can be found in the .NET Interactive documentation.\r\n",
       "---\r\n"
      ]
     },
     "metadata": {},
     "output_type": "display_data"
    },
    {
     "data": {
      "text/plain": [
       "Storing derived knowledge: \r\n",
       "takeAway \r\n",
       "---\r\n",
       "-Take Away Points:\n",
       "1. .NET Interactive supports custom package feeds via the `#i nuget` directive.\n",
       "2. More details can be found in the official documentation.\r\n",
       "---\r\n",
       "\r\n",
       "summary---\r\n",
       ".NET Interactive supports custom package feeds via the #i nuget directive, allowing users to access packages from multiple sources. It is an open source project with many contributors, and is used by software engineers to write and execute code in multiple languages, including C#, F#, PowerShell, Python, and SQL. It also supports mermaid language, javascript, and HTML kernels which can be used to create rich visualizations. More details can be found in the documentation.\r\n",
       "---\r\n",
       "\r\n",
       "overView---\r\n",
       "The most important information to know is that .NET Interactive supports custom package feeds via the `#i nuget` directive, and more details can be found in the official documentation.\r\n",
       "---\r\n"
      ]
     },
     "metadata": {},
     "output_type": "display_data"
    },
    {
     "data": {
      "text/plain": [
       "Storing derived knowledge: \r\n",
       "takeAway \r\n",
       "---\r\n",
       "Take Away Points:\n",
       "1. .NET Interactive does not directly support authentication to a NuGet feed.\n",
       "2. Authentication to a NuGet feed can be achieved by storing a PAT in the user-level nuget.config.\n",
       "3. More information about this approach can be found in the Microsoft Learn documentation.\r\n",
       "---\r\n",
       "\r\n",
       "summary---\r\n",
       "1. .NET Interactive is an open source project with a lot of contributors.\n",
       "2. It allows users to write and execute code in multiple languages, including C#, F#, PowerShell, Python, and SQL.\n",
       "3. Authentication to a NuGet feed can be done by storing a PAT in the user-level nuget.config.\n",
       "4. More information about this approach can be found on the Microsoft Learn website.\n",
       "5. It is used by software engineers to quickly test and debug code.\r\n",
       "---\r\n",
       "\r\n",
       "overView---\r\n",
       "The most important information to know is that authentication to a NuGet feed can be achieved by storing a PAT in the user-level nuget.config. More information about this approach can be found in the Microsoft Learn documentation.\r\n",
       "---\r\n"
      ]
     },
     "metadata": {},
     "output_type": "display_data"
    },
    {
     "data": {
      "text/plain": [
       "Storing derived knowledge: \r\n",
       "takeAway \r\n",
       "---\r\n",
       "Take Away Points:\n",
       "1. .NET Interactive allows users to directly load a .NET assembly in a C# or F# cell by using the `#r` compiler directive.\n",
       "2. It supports multiple languages, including C#, F#, PowerShell, Python, and SQL.\r\n",
       "---\r\n",
       "\r\n",
       "summary---\r\n",
       ".NET Interactive supports the Jupyter protocol, allowing users to write and execute code in multiple languages such as Python, R, Julia, Mermaid, JavaScript, HTML, and C#, F#, PowerShell, and SQL. It provides access to the rich ecosystems of these languages in .NET Interactive notebooks, and enables users to create rich visualizations. It also allows users to directly load a .NET assembly in a C# or F# cell by using the `#r` compiler directive.\r\n",
       "---\r\n",
       "\r\n",
       "overView---\r\n",
       "The most important information to know is that .NET Interactive allows users to directly load a .NET assembly in a C# or F# cell by using the `#r` compiler directive.\r\n",
       "---\r\n"
      ]
     },
     "metadata": {},
     "output_type": "display_data"
    },
    {
     "data": {
      "text/plain": [
       "Storing derived knowledge: \r\n",
       "takeAway \r\n",
       "---\r\n",
       "Take Away Points:\n",
       "1. .NET Interactive does not currently support directly running code from C# or F# projects.\n",
       "2. The scenario is under consideration and feedback is welcome.\r\n",
       "---\r\n",
       "\r\n",
       "summary---\r\n",
       ".NET Interactive is an open source project with a lot of contributors, allowing users to write and execute code in multiple languages, including C#, F#, PowerShell, Python, and SQL. It supports the Jupyter protocol, providing access to the rich ecosystems of these languages in .NET Interactive notebooks. It is a great tool for developers to quickly test and debug code, and an invaluable resource for developers to learn and explore new technologies. Additionally, it supports mermaid language, javascript, and HTML kernels for creating rich visualizations.\r\n",
       "---\r\n",
       "\r\n",
       "overView---\r\n",
       "The most important information to know is that .NET Interactive does not currently support directly running code from C# or F# projects, but the scenario is under consideration and feedback is welcome.\r\n",
       "---\r\n"
      ]
     },
     "metadata": {},
     "output_type": "display_data"
    },
    {
     "data": {
      "text/plain": [
       "Storing derived knowledge: \r\n",
       "takeAway \r\n",
       "---\r\n",
       "-Take Away Points:\n",
       "1. There are multiple approaches that can be used to achieve a desired outcome.\n",
       "2. The approach chosen should depend on the desired outcome.\r\n",
       "---\r\n",
       "\r\n",
       "summary---\r\n",
       "1. .NET Interactive is an open source project with many contributors, enabling developers to write and execute code in multiple languages. It is a great tool for quickly testing and debugging code, and provides an invaluable resource for learning and exploring new technologies.\n",
       "2. It supports mermaid language, javascript, and HTML kernels, which can be used to create rich visualizations.\n",
       "3. It is interoperable with Jupyter and supports the .ipynb file extension, allowing users to write and execute code in multiple languages in one notebook.\n",
       "4. It also allows different cells in the same notebook to run in separate processes or on different machines, allowing a notebook to span local and cloud environments in one combined workflow.\n",
       "5. It provides access to the rich ecosystems of languages such as Python, R, and Julia in .NET Interactive notebooks.\r\n",
       "---\r\n",
       "\r\n",
       "overView---\r\n",
       "The most important information to know is that there are multiple approaches that can be used to achieve a desired outcome, and the approach chosen should depend on the desired outcome.\r\n",
       "---\r\n"
      ]
     },
     "metadata": {},
     "output_type": "display_data"
    },
    {
     "data": {
      "text/plain": [
       "Storing derived knowledge: \r\n",
       "takeAway \r\n",
       "---\r\n",
       "Take Away Points:\n",
       "1. .NET Interactive supports the use of JavaScript libraries through the `require` command.\n",
       "2. This allows developers to access the rich ecosystems of JavaScript libraries in .NET Interactive notebooks.\r\n",
       "---\r\n",
       "\r\n",
       "summary---\r\n",
       ".NET Interactive is an open source project with many contributors that enables developers to write and execute code in multiple languages, such as C#, F#, PowerShell, Python, and SQL. It provides a powerful platform for creating and debugging code, as well as a great resource for learning and exploring new technologies. It supports mermaid language, javascript, and HTML kernels for creating rich visualizations, diagrams, and flowcharts. It also supports the Jupyter protocol, allowing users to access the rich ecosystems of Python, R, and Julia.\r\n",
       "---\r\n",
       "\r\n",
       "overView---\r\n",
       "The most important information to know is that .NET Interactive supports the use of JavaScript libraries through the `require` command, allowing developers to access the rich ecosystems of JavaScript libraries in .NET Interactive notebooks.\r\n",
       "---\r\n"
      ]
     },
     "metadata": {},
     "output_type": "display_data"
    },
    {
     "data": {
      "text/plain": [
       "Storing derived knowledge: \r\n",
       "takeAway \r\n",
       "---\r\n",
       "-Take Away Points:\n",
       "1. The example notebook demonstrates how to use Plotly with RequireJS in .NET Interactive notebooks.\n",
       "2. RequireJS is a JavaScript library that allows for modular loading of JavaScript files and dependencies.\n",
       "3. Plotly is a JavaScript library for creating interactive, publication-quality graphs.\n",
       "4. The example notebook shows how to use RequireJS to load Plotly and create a simple graph.\n",
       "5. The example notebook also shows how to use RequireJS to load other JavaScript libraries and dependencies.\r\n",
       "---\r\n",
       "\r\n",
       "summary---\r\n",
       ".NET Interactive and the Polyglot Notebooks extension allow users to write and execute code in multiple languages in one notebook, with features such as completions, documentation, syntax highlighting, and diagnostics. It is interoperable with Jupyter and supports the .ipynb file extension, and cells can run in separate processes or on different machines. It also supports mermaid language, javascript, and HTML kernels for creating rich visualizations.\r\n",
       "---\r\n",
       "\r\n",
       "overView---\r\n",
       "The most important information to know about the example notebook is that it demonstrates how to use Plotly with RequireJS in .NET Interactive notebooks. It shows how to use RequireJS to load Plotly and create a simple graph, as well as how to use RequireJS to load other JavaScript libraries and dependencies. The example notebook is available for download in the .ipynb format.\r\n",
       "---\r\n"
      ]
     },
     "metadata": {},
     "output_type": "display_data"
    },
    {
     "data": {
      "text/plain": [
       "Storing derived knowledge: \r\n",
       "takeAway \r\n",
       "---\r\n",
       "Take Away Points:\n",
       "1. JavaScript package managers are not currently supported by .NET Interactive.\r\n",
       "---\r\n",
       "\r\n",
       "summary---\r\n",
       ".NET Interactive is an open source project with many contributors that enables developers to write and execute code in multiple languages. It provides a powerful platform for creating and debugging code, as well as a great resource for learning and exploring new technologies. It supports mermaid language, javascript, and HTML kernels for creating rich visualizations, diagrams, and flowcharts. JavaScript package managers are not currently supported, however.\r\n",
       "---\r\n",
       "\r\n",
       "overView---\r\n",
       "The most important information to know is that .NET Interactive does not currently support JavaScript package managers.\r\n",
       "---\r\n"
      ]
     },
     "metadata": {},
     "output_type": "display_data"
    },
    {
     "data": {
      "text/plain": [
       "Storing derived knowledge: \r\n",
       "takeAway \r\n",
       "---\r\n",
       "-Take Away Points:\n",
       "1. .NET Interactive is an open source project with a lot of contributors.\n",
       "2. It allows users to write and execute code in multiple languages, including C#, F#, PowerShell, Python, and SQL.\n",
       "3. It provides an extension API to define new magic commands.\r\n",
       "---\r\n",
       "\r\n",
       "summary---\r\n",
       ".NET Interactive is a powerful tool that enables users to write and execute code in multiple languages, including C#, F#, PowerShell, Python, and SQL. It also supports mermaid language, javascript, and HTML kernels which can be used to create rich visualizations. With .NET Interactive, users can create diagrams, flowcharts, interactive visualizations, and other rich visualizations. It also provides extension APIs to define new magic commands.\r\n",
       "---\r\n",
       "\r\n",
       "overView---\r\n",
       "The most important information to know is that .NET Interactive is an open source project with a lot of contributors that allows users to write and execute code in multiple languages, including C#, F#, PowerShell, Python, and SQL, and provides an extension API to define new magic commands.\r\n",
       "---\r\n"
      ]
     },
     "metadata": {},
     "output_type": "display_data"
    },
    {
     "data": {
      "text/plain": [
       "Storing derived knowledge: \r\n",
       "takeAway \r\n",
       "---\r\n",
       "-Take Away Points:\n",
       "1. .NET Interactive is an open source project with a lot of contributors.\n",
       "2. It allows users to write and execute code in multiple languages, including C#, F#, PowerShell, Python, and SQL.\n",
       "3. It provides a platform for developers to extend the capabilities of .NET Interactive with custom magic commands.\n",
       "4. It is possible to create custom magic commands using C#, F#, PowerShell, Python, and SQL.\n",
       "5. Magic commands can be used to automate tasks and simplify the development process.\r\n",
       "---\r\n",
       "\r\n",
       "summary---\r\n",
       ".NET Interactive is an open source project that enables developers to write and execute code in multiple languages, including C#, F#, PowerShell, Python, and SQL. It supports the Jupyter protocol, allowing users to access the rich ecosystems of these languages in .NET Interactive notebooks. It also supports mermaid language, javascript, and HTML kernels which can be used to create rich visualizations. It is developed by an open source community and provides a powerful and versatile platform for developers to create and test code.\r\n",
       "---\r\n",
       "\r\n",
       "overView---\r\n",
       "The most important information to know about .NET Interactive is that it allows users to write and execute code in multiple languages, including C#, F#, PowerShell, Python, and SQL, and that it is possible to extend the capabilities of .NET Interactive with custom magic commands using these languages.\r\n",
       "---\r\n"
      ]
     },
     "metadata": {},
     "output_type": "display_data"
    },
    {
     "data": {
      "text/plain": [
       "Storing derived knowledge: \r\n",
       "takeAway \r\n",
       "---\r\n",
       "Take Away Points:\n",
       "1. .NET Interactive supports the sharing of variables between kernels.\n",
       "2. The `#!share` magic command can be used to pull a variable from one kernel into another.\r\n",
       "---\r\n",
       "\r\n",
       "summary---\r\n",
       "Take Away Points:\n",
       "1. .NET Interactive supports multiple languages, including C#, F#, PowerShell, Python, and SQL.\n",
       "2. It also supports mermaid language, javascript, and HTML kernels for creating rich visualizations.\n",
       "3. It is an open source project, allowing users to contribute to its development.\n",
       "4. It is a powerful and versatile platform for developers to create and test code.\n",
       "5. It has a `#!share` magic command to pull a variable from one kernel into another.\r\n",
       "---\r\n",
       "\r\n",
       "overView---\r\n",
       "The most important information to know about .NET Interactive is that it supports the sharing of variables between kernels, and that the `#!share` magic command can be used to pull a variable from one kernel into another.\r\n",
       "---\r\n"
      ]
     },
     "metadata": {},
     "output_type": "display_data"
    },
    {
     "data": {
      "text/plain": [
       "Storing derived knowledge: \r\n",
       "takeAway \r\n",
       "---\r\n",
       "-Take Away Points:\n",
       "1. .NET Interactive allows users to share variables between different languages in a single notebook.\n",
       "2. This enables users to combine the power of multiple languages in a single notebook.\n",
       "3. It supports the sharing of variables between C#, F#, PowerShell, Python, and SQL.\n",
       "4. This allows users to create complex applications and data analysis pipelines.\r\n",
       "---\r\n",
       "\r\n",
       "summary---\r\n",
       ".NET Interactive is an open source project with many contributors that enables developers to write and execute code in multiple languages. It provides a powerful platform for debugging and exploring new technologies, and supports mermaid language, javascript, and HTML kernels for creating rich visualizations. It also supports the Jupyter protocol, allowing users to access the rich ecosystems of languages such as Python, R, and Julia. It is a great tool for quickly testing and debugging code.\r\n",
       "---\r\n",
       "\r\n",
       "overView---\r\n",
       "The most important information to know about .NET Interactive is that it allows users to share variables between different languages in a single notebook, enabling them to combine the power of multiple languages in a single notebook. It supports the sharing of variables between C#, F#, PowerShell, Python, and SQL, allowing users to create complex applications and data analysis pipelines.\r\n",
       "---\r\n"
      ]
     },
     "metadata": {},
     "output_type": "display_data"
    },
    {
     "data": {
      "text/plain": [
       "Storing derived knowledge: \r\n",
       "takeAway \r\n",
       "---\r\n",
       "-Take Away Points:\n",
       "1. There are different ways to display values depending on the language used.\n",
       "2. Different languages have different methods for displaying values.\n",
       "3. It is important to understand the differences between languages when displaying values.\r\n",
       "---\r\n",
       "\r\n",
       "summary---\r\n",
       ".NET Interactive is an open source project with many contributors, enabling developers to write and execute code in multiple languages. It is a great tool for quickly testing and debugging code, and provides an invaluable resource for learning and exploring new technologies. It supports mermaid language, javascript, and HTML kernels for creating rich visualizations.\r\n",
       "---\r\n",
       "\r\n",
       "overView---\r\n",
       "The most important information to know about displaying values is that there are different methods for displaying values depending on the language used. It is important to understand the differences between languages when displaying values.\r\n",
       "---\r\n"
      ]
     },
     "metadata": {},
     "output_type": "display_data"
    },
    {
     "data": {
      "text/plain": [
       "Storing derived knowledge: \r\n",
       "takeAway \r\n",
       "---\r\n",
       "-Take Away Points:\n",
       "1. Writing to the console results in plain text output.\n",
       "2. .NET Interactive provides formatters to create richly formatted output.\r\n",
       "---\r\n",
       "\r\n",
       "summary---\r\n",
       ".NET Interactive supports the Jupyter protocol, allowing users to write and execute code in languages such as Python, R, and Julia, providing access to the rich ecosystems of these languages in .NET Interactive notebooks. It also supports mermaid language, javascript, and HTML kernels for creating rich visualizations. Mermaid language can be used to create diagrams and flowcharts, while javascript and HTML can be used to create interactive visualizations.\r\n",
       "---\r\n",
       "\r\n",
       "overView---\r\n",
       "The most important information to know is that .NET Interactive provides formatters to create richly formatted output, which is more interesting than plain text output.\r\n",
       "---\r\n"
      ]
     },
     "metadata": {},
     "output_type": "display_data"
    },
    {
     "data": {
      "text/plain": [
       "Storing derived knowledge: \r\n",
       "takeAway \r\n",
       "---\r\n",
       "-Take Away Points:\n",
       "1. .NET Interactive supports C# and F#.\n",
       "2. It allows users to call the Console.WriteLine method.\r\n",
       "---\r\n",
       "\r\n",
       "summary---\r\n",
       ".NET Interactive is a powerful tool that enables users to write and execute code in multiple languages, including C#, F#, PowerShell, Python, and SQL. It also supports mermaid language, javascript, and HTML kernels which can be used to create rich visualizations such as diagrams, flowcharts, interactive visualizations, and HTML visualizations. With .NET Interactive, users can create powerful visualizations and execute code in multiple languages.\r\n",
       "---\r\n",
       "\r\n",
       "overView---\r\n",
       "The most important information to know is that .NET Interactive supports C# and F#, and allows users to call the Console.WriteLine method.\r\n",
       "---\r\n"
      ]
     },
     "metadata": {},
     "output_type": "display_data"
    },
    {
     "data": {
      "text/plain": [
       "Storing derived knowledge: \r\n",
       "takeAway \r\n",
       "---\r\n",
       "Take Away Points:\n",
       "1. In PowerShell, an unpiped expression will produce console output by default.\n",
       "2. All that is needed to do this is to write the expression.\r\n",
       "---\r\n",
       "\r\n",
       "summary---\r\n",
       ".NET Interactive is an open source project that enables developers to write and execute code in multiple languages, such as C#, F#, PowerShell, Python, and SQL. It provides a powerful and versatile platform for developers to create and test code, debug quickly, and explore new technologies. It is an invaluable resource for developers to learn and grow.\r\n",
       "---\r\n",
       "\r\n",
       "overView---\r\n",
       "The most important information to know is that in PowerShell, an unpiped expression will produce console output by default, so all you have to do is write the expression.\r\n",
       "---\r\n"
      ]
     },
     "metadata": {},
     "output_type": "display_data"
    },
    {
     "data": {
      "text/plain": [
       "Storing derived knowledge: \r\n",
       "takeAway \r\n",
       "---\r\n",
       "Take Away Points:\n",
       "1. JavaScript has a built-in function called `console.log` which can be used to log messages to the console.\n",
       "2. This can be used for debugging and testing code.\r\n",
       "---\r\n",
       "\r\n",
       "summary---\r\n",
       ".NET Interactive is an open source project with many contributors that enables developers to write and execute code in multiple languages. It provides a powerful platform for debugging and learning new technologies, and supports mermaid language, javascript, and HTML kernels for creating rich visualizations. It is a great tool for quickly testing and debugging code, and can be used to create diagrams, flowcharts, interactive visualizations, and HTML-based visualizations.\r\n",
       "---\r\n",
       "\r\n",
       "overView---\r\n",
       "The most important information to know is that JavaScript has a built-in function called `console.log` which can be used to log messages to the console for debugging and testing code.\r\n",
       "---\r\n"
      ]
     },
     "metadata": {},
     "output_type": "display_data"
    },
    {
     "data": {
      "text/plain": [
       "Storing derived knowledge: \r\n",
       "takeAway \r\n",
       "---\r\n",
       "Take Away Points:\n",
       "1. C# Script and F# have a similar syntax for returning a value.\n",
       "2. The common syntax for returning a value in F# is a trailing expression.\n",
       "3. C# Script has a syntax for returning a value that is not valid in common C#.\r\n",
       "---\r\n",
       "\r\n",
       "summary---\r\n",
       ".NET Interactive supports multiple languages, including C#, F#, PowerShell, Python, and SQL, which can be used to create rich visualizations. It also supports mermaid language, javascript, and HTML kernels. With .NET Interactive, users can write and execute code, and return a value in order to display it using a trailing expression.\r\n",
       "---\r\n",
       "\r\n",
       "overView---\r\n",
       "The most important information to know is that C# Script and F# have a similar syntax for returning a value, which is a trailing expression. This is the common syntax for returning a value in F#, but it is not valid in common C#.\r\n",
       "---\r\n"
      ]
     },
     "metadata": {},
     "output_type": "display_data"
    },
    {
     "data": {
      "text/plain": [
       "Storing derived knowledge: \r\n",
       "takeAway \r\n",
       "---\r\n",
       "-Take Away Points:\n",
       "1. .NET Interactive provides an extension method that can be used to display any object.\n",
       "2. This extension method can be called more than once in a single submission.\n",
       "3. This is useful since a return statement is only valid once in a given submission.\r\n",
       "---\r\n",
       "\r\n",
       "summary---\r\n",
       ".NET Interactive is an open source project with a lot of contributors, allowing users to write and execute code in multiple languages, including C#, F#, PowerShell, Python, and SQL. It provides a powerful and versatile platform for developers to create and test code, as well as an invaluable resource for learning and exploring new technologies. It is used by software engineers and other professionals to quickly test and debug code.\r\n",
       "---\r\n",
       "\r\n",
       "overView---\r\n",
       "The most important information to know is that .NET Interactive provides an extension method that can be used to display any object and can be called more than once in a single submission. This is useful since a return statement is only valid once in a given submission.\r\n",
       "---\r\n"
      ]
     },
     "metadata": {},
     "output_type": "display_data"
    },
    {
     "data": {
      "text/plain": [
       "Storing derived knowledge: \r\n",
       "takeAway \r\n",
       "---\r\n",
       "-Take Away Points:\n",
       "1. PowerShell provides a command called `Out-Display` which can be used to pipe values through the display helper.\n",
       "2. This command is useful for quickly displaying values in a readable format.\r\n",
       "---\r\n",
       "\r\n",
       "summary---\r\n",
       ".NET Interactive is an open source project with a lot of contributors, allowing users to write and execute code in multiple languages, including C#, F#, PowerShell, Python, and SQL. It provides a powerful and versatile platform for developers to create and test code, with support for mermaid language, javascript, and HTML kernels to create rich visualizations. It is a great tool for engineers to quickly test and debug code and learn and explore new technologies.\r\n",
       "---\r\n",
       "\r\n",
       "overView---\r\n",
       "The most important information to know is that PowerShell provides a command called `Out-Display` which can be used to pipe values through the display helper. This command is useful for quickly displaying values in a readable format.\r\n",
       "---\r\n"
      ]
     },
     "metadata": {},
     "output_type": "display_data"
    },
    {
     "data": {
      "text/plain": [
       "Storing derived knowledge: \r\n",
       "takeAway \r\n",
       "---\r\n",
       "-Take Away Points:\n",
       "1. The formatter APIs provide extensive control over the way that outputs are displayed.\n",
       "2. Type-specific formatting and differences between notebook and REPL outputs are powered by these APIs.\n",
       "3. These APIs allow for control over the display of notebook cell return values and values displayed using the `Display` method.\r\n",
       "---\r\n",
       "\r\n",
       "summary---\r\n",
       "- .NET Interactive provides support for the Jupyter protocol, allowing users to write and execute code in multiple languages in one notebook.\n",
       "- It is interoperable with Jupyter and supports the .ipynb file extension.\n",
       "- The Polyglot Notebooks extension brings support for multi-language notebooks to Visual Studio Code.\n",
       "- Different cells in the same notebook can run in separate processes or on different machines.\n",
       "- The formatter APIs allow extensive control over the way outputs are displayed.\r\n",
       "---\r\n",
       "\r\n",
       "overView---\r\n",
       "The most important information to know is that the formatter APIs provide extensive control over the way that outputs are displayed, allowing for control over the display of notebook cell return values and values displayed using the `Display` method. Type-specific formatting and differences between notebook and REPL outputs are powered by these APIs.\r\n",
       "---\r\n"
      ]
     },
     "metadata": {},
     "output_type": "display_data"
    },
    {
     "data": {
      "text/plain": [
       "Storing derived knowledge: \r\n",
       "takeAway \r\n",
       "---\r\n",
       "-Take Away Points:\n",
       "1. The formatter APIs provide a way to format code in .NET Interactive notebooks.\n",
       "2. More information about the formatter APIs can be found in the formatting.md file.\r\n",
       "---\r\n",
       "\r\n",
       "summary---\r\n",
       ".NET Interactive is an open source project with many contributors that enables developers to write and execute code in multiple languages. It provides a powerful platform for debugging and learning new technologies, and it supports the Jupyter protocol, allowing users to write and execute code in languages such as Python, R, and Julia. It also supports mermaid language, javascript, and HTML kernels for creating rich visualizations. The Polyglot Notebooks extension brings multi-language support to Visual Studio Code, allowing features such as completions, documentation, syntax highlighting, and diagnostics to be available in one notebook.\r\n",
       "---\r\n",
       "\r\n",
       "overView---\r\n",
       "The most important information to know is that the formatter APIs provide a way to format code in .NET Interactive notebooks, and more information about the formatter APIs can be found in the formatting.md file.\r\n",
       "---\r\n"
      ]
     },
     "metadata": {},
     "output_type": "display_data"
    },
    {
     "data": {
      "text/plain": [
       "Storing derived knowledge: \r\n",
       "takeAway \r\n",
       "---\r\n",
       "Take Away Points:\n",
       "1. In .NET Interactive notebooks, users can be prompted for input using the Input() function.\n",
       "2. The Input() function can be used to prompt the user for a single line of text or multiple lines of text.\n",
       "3. The Input() function can also be used to prompt the user for a numerical value.\n",
       "4. The Input() function can be used to prompt the user for a selection from a list of options.\n",
       "5. The Input() function can be used to prompt the user for a boolean value.\r\n",
       "---\r\n",
       "\r\n",
       "summary---\r\n",
       "1. .NET Interactive supports the Jupyter protocol, allowing users to write and execute code in languages such as Python, R, and Julia, providing access to the rich ecosystems of these languages.\n",
       "2. The Polyglot Notebooks extension brings support for multi-language notebooks to Visual Studio Code.\n",
       "3. It allows different cells in the same notebook to run in separate processes or on different machines.\n",
       "4. It also supports the .ipynb file extension and is interoperable with Jupyter.\n",
       "5. It also supports mermaid language, javascript, and HTML kernels for creating rich visualizations.\r\n",
       "---\r\n",
       "\r\n",
       "overView---\r\n",
       "The most important information to know is that the Input() function can be used to prompt the user for input in a .NET Interactive notebook, allowing them to enter a single line of text, multiple lines of text, a numerical value, a selection from a list of options, or a boolean value.\r\n",
       "---\r\n"
      ]
     },
     "metadata": {},
     "output_type": "display_data"
    },
    {
     "data": {
      "text/plain": [
       "Storing derived knowledge: \r\n",
       "takeAway \r\n",
       "---\r\n",
       "Take Away Points:\n",
       "1. .NET Interactive provides a token, `@input:prompt_name`, which can be used to prompt for input within any magic command.\n",
       "2. This token allows developers to quickly and easily prompt for input within their code.\n",
       "3. It is a useful tool for developers to quickly test and debug code.\r\n",
       "---\r\n",
       "\r\n",
       "summary---\r\n",
       ".NET Interactive is a polyglot kernel that enables users to write and execute code in multiple languages, including C#, F#, PowerShell, Python, and SQL. It supports mermaid language, javascript, and HTML kernels for creating rich visualizations, diagrams, flowcharts, and interactive visualizations. It also allows users to prompt for input using a token within any magic command.\r\n",
       "---\r\n",
       "\r\n",
       "overView---\r\n",
       "The most important information to know is that .NET Interactive provides a token, `@input:prompt_name`, which can be used to prompt for input within any magic command. This token allows developers to quickly and easily prompt for input within their code, making it a useful tool for developers to quickly test and debug code.\r\n",
       "---\r\n"
      ]
     },
     "metadata": {},
     "output_type": "display_data"
    },
    {
     "data": {
      "text/plain": [
       "Storing derived knowledge: \r\n",
       "takeAway \r\n",
       "---\r\n",
       "-Take Away Points:\n",
       "1. .NET Interactive supports type-specific input prompts.\n",
       "2. It allows users to customize their input prompts.\r\n",
       "---\r\n",
       "\r\n",
       "summary---\r\n",
       ".NET Interactive supports the Jupyter protocol, allowing users to write and execute code in multiple languages, including Python, R, and Julia. It also provides access to the rich ecosystems of these languages in .NET Interactive notebooks, and allows users to create type-specific input prompts. Additionally, it supports mermaid language, javascript, and HTML kernels for creating rich visualizations.\r\n",
       "---\r\n",
       "\r\n",
       "overView---\r\n",
       "The most important information to know is that .NET Interactive supports type-specific input prompts and allows users to customize their input prompts.\r\n",
       "---\r\n"
      ]
     },
     "metadata": {},
     "output_type": "display_data"
    },
    {
     "data": {
      "text/plain": [
       "Storing derived knowledge: \r\n",
       "takeAway \r\n",
       "---\r\n",
       "Take Away Points:\n",
       "1. .NET Interactive provides an API that can be called directly to prompt users for input.\n",
       "2. An example of this API can be found in C#.\r\n",
       "---\r\n",
       "\r\n",
       "summary---\r\n",
       ".NET Interactive is an open source project with a lot of contributors, providing a powerful and versatile platform for developers to create and test code. It allows users to write and execute code in multiple languages, including C#, F#, PowerShell, Python, and SQL, and provides an API to prompt users for input. It also supports mermaid language, javascript, and HTML kernels, which can be used to create rich visualizations such as diagrams, flowcharts, interactive visualizations, and more. It is a great tool for developers to quickly test and debug code, and an invaluable resource for learning and exploring new technologies.\r\n",
       "---\r\n",
       "\r\n",
       "overView---\r\n",
       "The most important information to know is that .NET Interactive provides an API that can be called directly to prompt users for input, and an example of this API can be found in C#.\r\n",
       "---\r\n"
      ]
     },
     "metadata": {},
     "output_type": "display_data"
    },
    {
     "data": {
      "text/plain": [
       "Storing derived knowledge: \r\n",
       "takeAway \r\n",
       "---\r\n",
       "-Take Away Points:\n",
       "1. Polyglot Notebooks is an extension powered by .NET Interactive that allows users to write and execute code in multiple languages in one notebook.\n",
       "2. It provides a text input prompt at the top of the Visual Studio Code window.\n",
       "3. It is interoperable with Jupyter and supports the .ipynb file extension.\r\n",
       "---\r\n",
       "\r\n",
       "summary---\r\n",
       "Polyglot Notebooks is an extension powered by .NET Interactive that allows users to write and execute code in multiple languages in one notebook. It supports features such as completions, documentation, syntax highlighting, and diagnostics for many languages. Cells in the same notebook can run in separate processes or on different machines, allowing a notebook to span local and cloud environments in one combined workflow. It is also interoperable with Jupyter and supports the .ipynb file extension, allowing users to switch cell languages using magic commands.\r\n",
       "---\r\n",
       "\r\n",
       "overView---\r\n",
       "The most important information to know about .NET Interactive and the Polyglot Notebooks extension is that it allows users to write and execute code in multiple languages in one notebook, and that it is interoperable with Jupyter and supports the .ipynb file extension. It also provides a text input prompt at the top of the Visual Studio Code window when running code in Polyglot Notebooks.\r\n",
       "---\r\n"
      ]
     },
     "metadata": {},
     "output_type": "display_data"
    },
    {
     "data": {
      "text/plain": [
       "Storing derived knowledge: \r\n",
       "takeAway \r\n",
       "---\r\n",
       "-Take Away Points:\n",
       "1. Input prompts are a feature of .NET Interactive that allow users to provide input to their code.\n",
       "2. More information about input prompts can be found in the input-prompts.md file.\r\n",
       "---\r\n",
       "\r\n",
       "summary---\r\n",
       ".NET Interactive is an open source project that supports multiple languages, including C#, F#, PowerShell, Python, and SQL. It enables developers to write and execute code quickly and easily, and provides access to the rich ecosystems of these languages. It also supports mermaid language, javascript, and HTML kernels which can be used to create rich visualizations. It is a great tool for quickly testing and debugging code, and provides an invaluable resource for learning and exploring new technologies.\r\n",
       "---\r\n",
       "\r\n",
       "overView---\r\n",
       "The most important information to know is that .NET Interactive is a polyglot kernel that allows users to write and execute code in multiple languages, including C#, F#, PowerShell, Python, and SQL, and that it has a feature called input prompts that allow users to provide input to their code.\r\n",
       "---\r\n"
      ]
     },
     "metadata": {},
     "output_type": "display_data"
    },
    {
     "data": {
      "text/plain": [
       "Storing derived knowledge: \r\n",
       "takeAway \r\n",
       "---\r\n",
       "Take Away Points:\n",
       "1. User input prompts are a good way to provide secrets to a notebook without risk of storing them in the file.\n",
       "2. User input prompts can be used to securely store secrets such as passwords, API keys, and other sensitive information.\n",
       "3. User input prompts can be used to securely store secrets in a way that is not visible to other users.\n",
       "4. User input prompts can be used to securely store secrets in a way that is not stored in the notebook file.\r\n",
       "---\r\n",
       "\r\n",
       "summary---\r\n",
       ".NET Interactive extension, the Polyglot Notebooks extension brings support for multi-language notebooks to Visual Studio Code, allowing features such as completions, documentation, syntax highlighting, and diagnostics to be available for many languages in one notebook. It also allows different cells in the same notebook to run in separate processes or on different machines, allowing a notebook to span local and cloud environments in one combined workflow. .NET Interactive supports the Jupyter protocol, mermaid language, javascript, HTML, and the .ipynb file extension.\r\n",
       "---\r\n",
       "\r\n",
       "overView---\r\n",
       "The most important information to know is that user input prompts can be used to securely store secrets such as passwords, API keys, and other sensitive information in a way that is not visible to other users and is not stored in the notebook file.\r\n",
       "---\r\n"
      ]
     },
     "metadata": {},
     "output_type": "display_data"
    },
    {
     "data": {
      "text/plain": [
       "Storing derived knowledge: \r\n",
       "takeAway \r\n",
       "---\r\n",
       "-Take Away Points:\n",
       "1. Polyglot Notebooks allows users to write and execute code in multiple languages.\n",
       "2. It provides an input prompt at the top of the Visual Studio Code window.\n",
       "3. The text typed into the prompt is masked for security.\r\n",
       "---\r\n",
       "\r\n",
       "summary---\r\n",
       "Polyglot Notebooks is an extension powered by .NET Interactive that allows users to write and execute code in multiple languages in one notebook. It supports features such as completions, documentation, syntax highlighting, and diagnostics for many languages. Cells in the same notebook can run in separate processes or on different machines, allowing a notebook to span local and cloud environments in one combined workflow. It is also interoperable with Jupyter and supports the .ipynb file extension, allowing users to switch cell languages using magic commands.\r\n",
       "---\r\n",
       "\r\n",
       "overView---\r\n",
       "The most important information to know about Polyglot Notebooks is that it allows users to write and execute code in multiple languages, and that it provides an input prompt at the top of the Visual Studio Code window which masks the text typed into it for security.\r\n",
       "---\r\n"
      ]
     },
     "metadata": {},
     "output_type": "display_data"
    },
    {
     "data": {
      "text/plain": [
       "Storing derived knowledge: \r\n",
       "takeAway \r\n",
       "---\r\n",
       "Take Away Points:\n",
       "1. The run button (▶️) changes to a stop button (⏹️) when a cell is running.\n",
       "2. Pressing the stop button will attempt to stop the running cell, but it might not always work.\n",
       "3. If the stop button doesn't work, the kernel can be restarted using the `Polyglot Notebook: Restart the current notebooks kernel` command from the command palette.\r\n",
       "---\r\n",
       "\r\n",
       "summary---\r\n",
       "- .NET Interactive supports the Jupyter protocol, allowing users to write and execute code in multiple languages.\n",
       "- It provides access to the rich ecosystems of these languages in .NET Interactive notebooks.\n",
       "- The run button (▶️) changes to a stop button (⏹️) when a cell is running.\n",
       "- Pressing the stop button will attempt to stop the running cell, but it might not always work.\n",
       "- If the stop button doesn't work, the kernel can be restarted using the `Polyglot Notebook: Restart the current notebooks kernel` command.\r\n",
       "---\r\n",
       "\r\n",
       "overView---\r\n",
       "The most important information to know about .NET Interactive and the Polyglot Notebooks extension is that it allows users to write and execute code in multiple languages in one notebook, and that it is interoperable with Jupyter and supports the .ipynb file extension. Additionally, if the stop button doesn't work, the kernel can be restarted using the `Polyglot Notebook: Restart the current notebooks kernel` command from the command palette.\r\n",
       "---\r\n"
      ]
     },
     "metadata": {},
     "output_type": "display_data"
    },
    {
     "data": {
      "text/plain": [
       "Storing derived knowledge: \r\n",
       "takeAway \r\n",
       "---\r\n",
       "Take Away Points:\n",
       "1. .NET Interactive provides APIs that allow users to send code to any kernel by name.\r\n",
       "---\r\n",
       "\r\n",
       "summary---\r\n",
       "The .NET Interactive API allows developers to write and execute code in multiple languages, including C#, F#, PowerShell, Python, and SQL. It is an open source project, allowing users to contribute to its development. It is a powerful and versatile platform for developers to create and test code, and a great tool for developers to quickly test and debug code. It also supports mermaid language, javascript, and HTML kernels which can be used to create rich visualizations. \n",
       "\n",
       "Take Away Points:\n",
       "1. .NET Interactive is a polyglot kernel developed by a team of engineers at Microsoft.\n",
       "2. It allows users to write and execute code in multiple languages, including C#, F#, PowerShell, Python, and SQL.\n",
       "3. It is an open source project, allowing users to contribute to its development.\n",
       "4. It is a powerful and versatile platform for developers to create and test code.\n",
       "5. It is a great tool for developers to quickly test and debug code and create rich visualizations.\r\n",
       "---\r\n",
       "\r\n",
       "overView---\r\n",
       "The most important information to know about .NET Interactive is that it provides APIs that allow users to send code to any kernel by name.\r\n",
       "---\r\n"
      ]
     },
     "metadata": {},
     "output_type": "display_data"
    },
    {
     "data": {
      "text/plain": [
       "Storing derived knowledge: \r\n",
       "takeAway \r\n",
       "---\r\n",
       "-Take Away Points:\n",
       "1. .NET Interactive is a polyglot kernel.\n",
       "2. It allows users to write and execute code in multiple languages, including C#, F#, PowerShell, Python, and SQL.\n",
       "3. It provides a powerful and versatile platform for developers to create and test code.\n",
       "4. It can create rich outputs and visualizations.\n",
       "5. It is an invaluable resource for developers to learn and explore new technologies.\r\n",
       "---\r\n",
       "\r\n",
       "summary---\r\n",
       ".NET Interactive is an open source project with a lot of contributors, providing a powerful and versatile platform for developers to write and execute code in multiple languages, including C#, F#, PowerShell, Python, and SQL. It is a great tool for quickly testing and debugging code, and an invaluable resource for learning and exploring new technologies. It also supports mermaid language, javascript, and HTML kernels for creating rich visualizations.\r\n",
       "---\r\n",
       "\r\n",
       "overView---\r\n",
       "The most important information to know about .NET Interactive is that it is a polyglot kernel that allows users to write and execute code in multiple languages, including C#, F#, PowerShell, Python, and SQL, and that it can create rich outputs and visualizations.\r\n",
       "---\r\n"
      ]
     },
     "metadata": {},
     "output_type": "display_data"
    },
    {
     "data": {
      "text/plain": [
       "Storing derived knowledge: \r\n",
       "takeAway \r\n",
       "---\r\n",
       "Take Away Points:\n",
       "1. .NET REPL is a command line automation tool with notebooks.\n",
       "2. It is an open source project with a lot of contributors.\n",
       "3. It is developed by an open source community.\n",
       "4. It is available on GitHub.\r\n",
       "---\r\n",
       "\r\n",
       "summary---\r\n",
       ".NET Interactive is an open source project with a lot of contributors, allowing users to write and execute code in multiple languages, including C#, F#, PowerShell, Python, and SQL. It also supports mermaid language, javascript, and HTML kernels for creating rich visualizations. It is a powerful and versatile platform for developers to create and test code, as well as an invaluable resource for learning and exploring new technologies.\r\n",
       "---\r\n",
       "\r\n",
       "overView---\r\n",
       "The most important information to know about .NET REPL is that it is an open source project with a lot of contributors, developed by an open source community, and available on GitHub. It provides a powerful and versatile platform for developers to create and test code, and is a great tool for quickly testing and debugging code.\r\n",
       "---\r\n"
      ]
     },
     "metadata": {},
     "output_type": "display_data"
    },
    {
     "data": {
      "text/plain": [
       "Storing derived knowledge: \r\n",
       "takeAway \r\n",
       "---\r\n",
       "Take Away Points:\n",
       "1. .NET Interactive is exploring the possibility of adding an experimental feature to its core product.\n",
       "2. This feature could potentially be added in the future.\r\n",
       "---\r\n",
       "\r\n",
       "summary---\r\n",
       ".NET Interactive is an open source project with a lot of contributors, allowing users to write and execute code in multiple languages, including C#, F#, PowerShell, Python, and SQL. It provides a powerful and versatile platform for developers to create and test code, as well as rich visualizations with mermaid language, javascript, and HTML kernels. It is a great tool for developers to quickly test and debug code, and an invaluable resource for developers to learn and explore new technologies. Additionally, it may include an experimental feature in the future.\r\n",
       "---\r\n",
       "\r\n",
       "overView---\r\n",
       "The most important information to know is that .NET Interactive is exploring the possibility of adding an experimental feature to its core product, which could potentially be added in the future.\r\n",
       "---\r\n"
      ]
     },
     "metadata": {},
     "output_type": "display_data"
    },
    {
     "data": {
      "text/plain": [
       "Storing derived knowledge: \r\n",
       "takeAway \r\n",
       "---\r\n",
       "-The most important information to know about .NET REPL is that it is an open source project that allows users to write and execute code in multiple languages, including C#, F#, PowerShell, Python, and SQL. It provides a powerful and versatile platform for developers to create and test code, and is a great tool for developers to quickly test and debug code. It is also an invaluable resource for developers to learn and explore new technologies, and can be used to run notebooks headlessly and output a .trx file containing the results.\r\n",
       "---\r\n",
       "\r\n",
       "summary---\r\n",
       "- .NET REPL is a tool for automated testing of notebooks, which can be used to run notebooks headlessly and output a .trx file containing the results. It is also possible to use .NET Interactive to create rich visualizations with mermaid language, javascript, and HTML kernels.\r\n",
       "---\r\n",
       "\r\n",
       "overView---\r\n",
       "The most important information to know about .NET REPL is that it is an open source project that allows users to write and execute code in multiple languages, including C#, F#, PowerShell, Python, and SQL. It provides a powerful and versatile platform for developers to create and test code, and is a great tool for developers to quickly test and debug code. It also supports the Jupyter protocol, allowing users to write and execute code in languages such as Python, R, and Julia, providing access to the rich ecosystems of these languages in .NET Interactive notebooks. Additionally, it can be used to run notebooks headlessly and output a .trx file containing the results, making it an invaluable resource for automated testing of notebooks.\r\n",
       "---\r\n"
      ]
     },
     "metadata": {},
     "output_type": "display_data"
    },
    {
     "data": {
      "text/plain": [
       "Storing derived knowledge: \r\n",
       "takeAway \r\n",
       "---\r\n",
       "-Take Away Points:\n",
       "1. .NET Interactive supports the Jupyter protocol, allowing users to write and execute code in languages such as Python, R, and Julia.\n",
       "2. This provides access to the rich ecosystems of these languages in .NET Interactive notebooks.\n",
       "3. More details can be found on the GitHub project page.\r\n",
       "---\r\n",
       "\r\n",
       "summary---\r\n",
       "- .NET Interactive is an open source project with many contributors.\n",
       "- It supports multiple languages, including C#, F#, PowerShell, Python, and SQL.\n",
       "- It provides a powerful and versatile platform for developers to create and test code.\n",
       "- It is a great tool for developers to quickly test and debug code.\n",
       "- It is an invaluable resource for developers to learn and explore new technologies.\r\n",
       "---\r\n",
       "\r\n",
       "overView---\r\n",
       "The most important information to know is that .NET Interactive supports the Jupyter protocol, allowing users to write and execute code in languages such as Python, R, and Julia, providing access to the rich ecosystems of these languages in .NET Interactive notebooks. More details can be found on the GitHub project page.\r\n",
       "---\r\n"
      ]
     },
     "metadata": {},
     "output_type": "display_data"
    },
    {
     "data": {
      "text/plain": [
       "Storing derived knowledge: \r\n",
       "takeAway \r\n",
       "---\r\n",
       "Take Away Points:\n",
       "1. .NET Interactive is exploring the possibility of adding an experimental feature to its core product.\n",
       "2. This feature could potentially be added in the future.\r\n",
       "---\r\n",
       "\r\n",
       "summary---\r\n",
       ".NET Interactive is an open source project with a lot of contributors, allowing users to write and execute code in multiple languages, including C#, F#, PowerShell, Python, and SQL. It provides a powerful and versatile platform for developers to create and test code, as well as rich visualizations with mermaid language, javascript, and HTML kernels. It is a great tool for developers to quickly test and debug code, and an invaluable resource for developers to learn and explore new technologies. Additionally, it may include an experimental feature in the future.\r\n",
       "---\r\n",
       "\r\n",
       "overView---\r\n",
       "The most important information to know is that .NET Interactive is exploring the possibility of adding an experimental feature to its core product, which could potentially be added in the future.\r\n",
       "---\r\n"
      ]
     },
     "metadata": {},
     "output_type": "display_data"
    },
    {
     "data": {
      "text/plain": [
       "Storing derived knowledge: \r\n",
       "takeAway \r\n",
       "---\r\n",
       "Take Away Points:\n",
       "1. .NET Interactive supports the Jupyter protocol, allowing users to write and execute code in languages such as Python, R, and Julia.\n",
       "2. The `#!import` magic command can be used to load and run a number of different file types within a notebook, including `.ipynb` and `.dib`.\n",
       "3. Both of these file formats support polyglot, so notebooks imported this way can include cells in various languages.\r\n",
       "---\r\n",
       "\r\n",
       "summary---\r\n",
       "- .NET Interactive supports the Jupyter protocol, allowing users to write and execute code in multiple languages in one notebook.\n",
       "- It is interoperable with Jupyter and supports the .ipynb file extension.\n",
       "- Different cells in the same notebook can run in separate processes or on different machines.\n",
       "- The `#!import` magic command can be used to load and run a number of different file types within a notebook.\n",
       "- Polyglot Notebooks provide access to the rich ecosystems of languages such as Python, R, and Julia.\r\n",
       "---\r\n",
       "\r\n",
       "overView---\r\n",
       "The most important information to know is that .NET Interactive supports the Jupyter protocol, allowing users to write and execute code in languages such as Python, R, and Julia, and that the `#!import` magic command can be used to load and run a number of different file types within a notebook, including `.ipynb` and `.dib`, which both support polyglot and allow notebooks to include cells in various languages.\r\n",
       "---\r\n"
      ]
     },
     "metadata": {},
     "output_type": "display_data"
    },
    {
     "data": {
      "text/plain": [
       "Storing derived knowledge: \r\n",
       "takeAway \r\n",
       "---\r\n",
       "- Take Away Points:\n",
       "1. The Polyglot Notebooks extension, powered by .NET Interactive, allows users to write and execute code in multiple languages in one notebook.\n",
       "2. It is interoperable with Jupyter and supports the .ipynb file extension.\n",
       "3. Cells in the same notebook can run in separate processes or on different machines.\n",
       "4. The `#!import` command can be used to run single-language files within a notebook, including `.cs`, `.csx`, `.js`, and `.ps1` files.\r\n",
       "---\r\n",
       "\r\n",
       "summary---\r\n",
       "Polyglot Notebooks is an extension powered by .NET Interactive that allows users to write and execute code in multiple languages in one notebook. It provides features such as completions, documentation, syntax highlighting, and diagnostics for many languages. Cells in the same notebook can run in separate processes or on different machines, and it is interoperable with Jupyter and supports the .ipynb file extension. Cells in Jupyter can be switched using magic commands, and single-language files such as .cs, .csx, .js, and .ps1 can be imported into the notebook.\r\n",
       "---\r\n",
       "\r\n",
       "overView---\r\n",
       "The most important information to know about .NET Interactive and the Polyglot Notebooks extension is that it allows users to write and execute code in multiple languages in one notebook, and that it is interoperable with Jupyter and supports the .ipynb file extension. It also allows different cells in the same notebook to run in separate processes or on different machines, and provides access to the rich ecosystems of languages such as Python, R, and Julia. Additionally, the `#!import` command can be used to run single-language files within a notebook, including `.cs`, `.csx`, `.js`, and `.ps1` files.\r\n",
       "---\r\n"
      ]
     },
     "metadata": {},
     "output_type": "display_data"
    },
    {
     "data": {
      "text/plain": [
       "Storing derived knowledge: \r\n",
       "takeAway \r\n",
       "---\r\n",
       "-Take Away Points:\n",
       "1. .NET Interactive is an open source project with a lot of contributors.\n",
       "2. It allows users to write and execute code in multiple languages, including C#, F#, PowerShell, Python, and SQL.\n",
       "3. It provides a powerful and versatile platform for developers to create and test code.\n",
       "4. It has a feature called `#!import` which can be used to quickly import packages and modules.\r\n",
       "---\r\n",
       "\r\n",
       "summary---\r\n",
       ".NET Interactive is an open source project with many contributors that enables users to write and execute code in multiple languages. It provides a powerful platform for developers to create and debug code, and it is a great resource for learning and exploring new technologies. It also supports mermaid language, javascript, and HTML kernels which can be used to create rich visualizations.\r\n",
       "---\r\n",
       "\r\n",
       "overView---\r\n",
       "The most important information to know is that .NET Interactive is an open source project with a lot of contributors, allowing users to write and execute code in multiple languages, including C#, F#, PowerShell, Python, and SQL, and has a feature called `#!import` which can be used to quickly import packages and modules. You can read more about `#!import` [here](import-magic-command.md).\r\n",
       "---\r\n"
      ]
     },
     "metadata": {},
     "output_type": "display_data"
    },
    {
     "data": {
      "text/plain": [
       "Storing derived knowledge: \r\n",
       "takeAway \r\n",
       "---\r\n",
       "Take Away Points:\n",
       "1. .NET Interactive has extensibility APIs that allow for NuGet packages to add new subkernels at runtime.\n",
       "2. This is how SQL and KQL support are implemented in .NET Interactive.\r\n",
       "---\r\n",
       "\r\n",
       "summary---\r\n",
       "It is a polyglot kernel that allows users to write and execute code in multiple languages, including C#, F#, PowerShell, Python, and SQL. It also supports mermaid language, javascript, and HTML kernels which can be used to create rich visualizations. With .NET Interactive, users can create rich outputs and visualizations. NuGet packages can be used to add new subkernels at runtime.\r\n",
       "---\r\n",
       "\r\n",
       "overView---\r\n",
       "The most important information to know about .NET Interactive is that it has extensibility APIs that allow for NuGet packages to add new subkernels at runtime, which is how SQL and KQL support are implemented.\r\n",
       "---\r\n"
      ]
     },
     "metadata": {},
     "output_type": "display_data"
    },
    {
     "data": {
      "text/plain": [
       "Storing derived knowledge: \r\n",
       "takeAway \r\n",
       "---\r\n",
       "- Take Away Points:\n",
       "1. Polyglot Notebooks allows users to programmatically add a new cell by sending the `SendEditableCode` command.\n",
       "2. This provides a convenient way to add new cells to a notebook without having to manually type in the code.\r\n",
       "---\r\n",
       "\r\n",
       "summary---\r\n",
       "-Take Away Points:\n",
       "1. Polyglot Notebooks allows users to write and execute code in multiple languages in one notebook.\n",
       "2. It is interoperable with Jupyter and supports the .ipynb file extension.\n",
       "3. Cells in the same notebook can run in separate processes or on different machines.\n",
       "4. .NET Interactive supports the Jupyter protocol, allowing users to write and execute code in languages such as Python, R, and Julia.\n",
       "5. It provides access to the rich ecosystems of these languages in .NET Interactive notebooks.\r\n",
       "---\r\n",
       "\r\n",
       "overView---\r\n",
       "The most important information to know about Polyglot Notebooks is that it allows users to programmatically add a new cell by sending the `SendEditableCode` command, providing a convenient way to add new cells to a notebook without having to manually type in the code.\r\n",
       "---\r\n"
      ]
     },
     "metadata": {},
     "output_type": "display_data"
    },
    {
     "data": {
      "text/plain": [
       "Storing derived knowledge: \r\n",
       "takeAway \r\n",
       "---\r\n",
       "-Take Away Points:\n",
       "1. .NET Interactive supports the Jupyter protocol, allowing users to write and execute code in languages such as Python, R, and Julia.\n",
       "2. It is possible to append a new cell to a notebook with specified content and selected kernel using a command.\r\n",
       "---\r\n",
       "\r\n",
       "summary---\r\n",
       ".NET Interactive and the Polyglot Notebooks extension allow users to write and execute code in multiple languages in one notebook, with features such as completions, documentation, syntax highlighting, and diagnostics. Cells can run in separate processes or on different machines, and the notebooks are interoperable with Jupyter and support the .ipynb file extension. Magic commands can be used to switch cell languages in Jupyter.\r\n",
       "---\r\n",
       "\r\n",
       "overView---\r\n",
       "The most important information to know is that .NET Interactive supports the Jupyter protocol, allowing users to write and execute code in languages such as Python, R, and Julia, and that it is possible to append a new cell to a notebook with specified content and selected kernel using a command.\r\n",
       "---\r\n"
      ]
     },
     "metadata": {},
     "output_type": "display_data"
    },
    {
     "data": {
      "text/plain": [
       "Storing derived knowledge: \r\n",
       "takeAway \r\n",
       "---\r\n",
       "-Take Away Points:\n",
       "1. The command is not currently supported in other notebook frontends such as JupyterLab.\r\n",
       "---\r\n",
       "\r\n",
       "summary---\r\n",
       ".NET Interactive and the Polyglot Notebooks extension allow users to write and execute code in multiple languages in one notebook, with features such as completions, documentation, syntax highlighting, and diagnostics. Cells can run in separate processes or on different machines, spanning local and cloud environments. It is interoperable with Jupyter and supports the .ipynb file extension, allowing notebooks to be opened in Jupyter and cell languages to be switched using magic commands.\r\n",
       "---\r\n",
       "\r\n",
       "overView---\r\n",
       "The most important information to know is that the command is not currently supported in other notebook frontends such as JupyterLab.\r\n",
       "---\r\n"
      ]
     },
     "metadata": {},
     "output_type": "display_data"
    },
    {
     "data": {
      "text/plain": [
       "Storing derived knowledge: \r\n",
       "takeAway \r\n",
       "---\r\n",
       "Take Away Points:\n",
       "1. It is common for a notebook's kernel to get into a stuck state.\n",
       "2. This can happen due to loading too much data or running code containing an infinite loop.\n",
       "3. Most notebook providers have a feature to restart the kernel.\r\n",
       "---\r\n",
       "\r\n",
       "summary---\r\n",
       "- .NET Interactive is a polyglot kernel that enables users to write and execute code in multiple languages, including C#, F#, PowerShell, Python, and SQL.\n",
       "- It allows features such as completions, documentation, syntax highlighting, and diagnostics for many languages in one notebook.\n",
       "- Cells in the same notebook can run in separate processes or on different machines.\n",
       "- Polyglot Notebooks are fully interoperable with Jupyter and support the .ipynb file extension.\n",
       "- It is possible to restart the kernel in most notebook providers.\r\n",
       "---\r\n",
       "\r\n",
       "overView---\r\n",
       "The most important information to know is that it is common for a notebook's kernel to get into a stuck state, and that most notebook providers have a feature to restart the kernel.\r\n",
       "---\r\n"
      ]
     },
     "metadata": {},
     "output_type": "display_data"
    },
    {
     "data": {
      "text/plain": [
       "Storing derived knowledge: \r\n",
       "takeAway \r\n",
       "---\r\n",
       "-Take Away Points:\n",
       "1. Polyglot Notebooks allows users to restart the kernel by running the `Polyglot Notebook: Restart the current notebook's kernel` command from the Command Palette.\n",
       "2. After restarting the kernel, users will need to rerun the notebook's cells, including reloading packages using `#r`.\r\n",
       "---\r\n",
       "\r\n",
       "summary---\r\n",
       "- .NET Interactive is a polyglot kernel that enables users to write and execute code in multiple languages.\n",
       "- Polyglot Notebooks is an extension powered by .NET Interactive that supports multi-language notebooks in Visual Studio Code.\n",
       "- Cells in the same notebook can run in separate processes or on different machines.\n",
       "- Polyglot Notebooks are interoperable with Jupyter and support the .ipynb file extension.\n",
       "- You can restart the kernel in Polyglot Notebooks by running the `Polyglot Notebook: Restart the current notebook's kernel` command.\r\n",
       "---\r\n",
       "\r\n",
       "overView---\r\n",
       "The most important information to know about Polyglot Notebooks is that after restarting the kernel, users will need to rerun the notebook's cells, including reloading packages using `#r`.\r\n",
       "---\r\n"
      ]
     },
     "metadata": {},
     "output_type": "display_data"
    },
    {
     "data": {
      "text/plain": [
       "Storing derived knowledge: \r\n",
       "takeAway \r\n",
       "---\r\n",
       "-Take Away Points:\n",
       "1. When using the Polyglot Notebooks extension, it is important to ensure that any pending VS Code updates have been applied.\n",
       "2. If the extension is not working as expected, it may need to be updated.\n",
       "3. Check for any pending VS Code updates and update the Polyglot Notebooks extension if necessary.\r\n",
       "---\r\n",
       "\r\n",
       "summary---\r\n",
       "-The Polyglot Notebooks extension powered by .NET Interactive allows users to write and execute code in multiple languages in one notebook, and is interoperable with Jupyter and supports the .ipynb file extension. It also allows different cells in the same notebook to run in separate processes or on different machines. To ensure the extension is working properly, users should check that VS Code updates have been applied and that the Polyglot Notebooks extension is up to date.\r\n",
       "---\r\n",
       "\r\n",
       "overView---\r\n",
       "The most important information to know about the Polyglot Notebooks extension is to check for any pending VS Code updates and update the extension if necessary. This will ensure that the extension is working as expected and that any new features or bug fixes are available.\r\n",
       "---\r\n"
      ]
     },
     "metadata": {},
     "output_type": "display_data"
    },
    {
     "data": {
      "text/plain": [
       "Storing derived knowledge: \r\n",
       "takeAway \r\n",
       "---\r\n",
       "Take Away Points:\n",
       "1. The settings icon in the lower left corner of Visual Studio Code may display a badge indicating that an update is available.\n",
       "2. This badge can be used to quickly check for updates and ensure that the latest version of the software is being used.\r\n",
       "---\r\n",
       "\r\n",
       "summary---\r\n",
       "Polyglot Notebooks is an open source project with many contributors that enables developers to write and execute code in multiple languages. It provides a powerful platform for debugging and learning new technologies, and is interoperable with Jupyter. It supports .ipynb files, completions, documentation, syntax highlighting, diagnostics, and switching cell languages using magic commands. It also supports mermaid language, javascript, and HTML kernels for creating rich visualizations.\r\n",
       "---\r\n",
       "\r\n",
       "overView---\r\n",
       "The most important information to know is that the settings icon in the lower left corner of Visual Studio Code may display a badge indicating that an update is available. This badge can be used to quickly check for updates and ensure that the latest version of the software is being used.\r\n",
       "---\r\n"
      ]
     },
     "metadata": {},
     "output_type": "display_data"
    },
    {
     "data": {
      "text/plain": [
       "Storing derived knowledge: \r\n",
       "takeAway \r\n",
       "---\r\n",
       "-Take Away Points:\n",
       "1. VS Code needs to be updated when a \"Restart to Update\" message appears in the menu.\r\n",
       "---\r\n",
       "\r\n",
       "summary---\r\n",
       "1. Visual Studio Code needs to be updated when a \"Restart to Update\" message appears in the menu.\r\n",
       "---\r\n",
       "\r\n",
       "overView---\r\n",
       "The most important information to know is that when you see a \"Restart to Update\" message in the menu, VS Code needs to be updated.\r\n",
       "---\r\n"
      ]
     },
     "metadata": {},
     "output_type": "display_data"
    },
    {
     "data": {
      "text/plain": [
       "Storing derived knowledge: \r\n",
       "takeAway \r\n",
       "---\r\n",
       "-Take Away Points:\n",
       "1. The Polyglot Notebooks extension may require a reload after a VS Code update.\r\n",
       "---\r\n",
       "\r\n",
       "summary---\r\n",
       "The Polyglot Notebooks extension, powered by .NET Interactive, brings support for multi-language notebooks to Visual Studio Code. It allows features such as completions, documentation, syntax highlighting, and diagnostics to be available for many languages in one notebook. It is interoperable with Jupyter and supports the .ipynb file extension, allowing cells in the same notebook to run in separate processes or on different machines. It may require a reload after a VS Code update.\r\n",
       "---\r\n",
       "\r\n",
       "overView---\r\n",
       "The most important information to know about the Polyglot Notebooks extension is that it may require a reload after a VS Code update.\r\n",
       "---\r\n"
      ]
     },
     "metadata": {},
     "output_type": "display_data"
    },
    {
     "data": {
      "text/plain": [
       "Storing derived knowledge: \r\n",
       "takeAway \r\n",
       "---\r\n",
       "Take Away Points:\n",
       "1. If you are having issues running code, open an issue on the .NET Interactive GitHub page.\n",
       "2. The .NET Interactive GitHub page provides a platform to report issues and get help.\r\n",
       "---\r\n",
       "\r\n",
       "summary---\r\n",
       ".NET Interactive is an open source project with a lot of contributors, allowing users to write and execute code in multiple languages, including C#, F#, PowerShell, Python, and SQL. It is a great tool for developers to quickly test and debug code, and an invaluable resource for developers to learn and explore new technologies. If you encounter any issues, please open an issue on GitHub.\r\n",
       "---\r\n",
       "\r\n",
       "overView---\r\n",
       "The most important information to know is that if you are having issues running code, you should open an issue on the .NET Interactive GitHub page to get help.\r\n",
       "---\r\n"
      ]
     },
     "metadata": {},
     "output_type": "display_data"
    },
    {
     "data": {
      "text/plain": [
       "Storing derived knowledge: \r\n",
       "takeAway \r\n",
       "---\r\n",
       "-Take Away Points:\n",
       "1. An error can occur when calling a .NET Interactive formatting API such as `Display`, `#!share`, or `#!set`.\n",
       "2. This error occurs when formatting the specified object using the requested MIME type isn't available.\n",
       "3. Formatters for additional MIME types can be added using the formatter registration APIs.\n",
       "4. More details about these APIs can be found in the formatting.md document.\r\n",
       "---\r\n",
       "\r\n",
       "summary---\r\n",
       ".NET Interactive is a polyglot kernel that allows users to write and execute code in multiple languages, including C#, F#, PowerShell, Python, and SQL. It also supports mermaid language, javascript, and HTML kernels which can be used to create rich visualizations. It supports the Jupyter protocol, providing access to the rich ecosystems of these languages in .NET Interactive notebooks. Formatting APIs such as `Display`, `#!share` and `#!set` can be used to add formatters for additional MIME types.\r\n",
       "---\r\n",
       "\r\n",
       "overView---\r\n",
       "The most important information to know is that an error can occur when calling a .NET Interactive formatting API such as `Display`, `#!share`, or `#!set`, and that formatters for additional MIME types can be added using the formatter registration APIs. More details about these APIs can be found in the formatting.md document.\r\n",
       "---\r\n"
      ]
     },
     "metadata": {},
     "output_type": "display_data"
    },
    {
     "data": {
      "text/plain": [
       "Storing derived knowledge: \r\n",
       "takeAway \r\n",
       "---\r\n",
       "Take Away Points:\n",
       "1. An error is shown when a formatted value from the .NET Interactive kernel is formatted using a MIME type that VS Code doesn't know how to render.\n",
       "2. VS Code can only render notebook outputs in MIME types for which there's an installed notebook renderer.\n",
       "3. Notebook renderers are independent of the kernel and can be installed from the Visual Studio Marketplace.\r\n",
       "---\r\n",
       "\r\n",
       "summary---\r\n",
       ".NET Interactive and the Polyglot Notebooks extension allow users to write and execute code in multiple languages in one notebook, and are interoperable with Jupyter and support the .ipynb file extension. Cells in the same notebook can run in separate processes or on different machines, allowing a notebook to span local and cloud environments in one combined workflow. Features such as completions, documentation, syntax highlighting, and diagnostics are available for many languages in one notebook.\r\n",
       "---\r\n",
       "\r\n",
       "overView---\r\n",
       "The most important information to know is that VS Code can only render notebook outputs in MIME types for which there's an installed notebook renderer, and that notebook renderers can be installed from the Visual Studio Marketplace.\r\n",
       "---\r\n"
      ]
     },
     "metadata": {},
     "output_type": "display_data"
    }
   ],
   "source": [
    "#!knowledge --name fact20 --from-url https://raw.githubusercontent.com/dotnet/interactive/main/docs/FAQ.md"
   ]
  },
  {
   "cell_type": "code",
   "execution_count": 16,
   "metadata": {
    "dotnet_interactive": {
     "language": "knowledge(duckDbVectorRAW)"
    },
    "polyglot_notebook": {
     "kernelName": "knowledge(duckDbVectorRAW)"
    }
   },
   "outputs": [
    {
     "data": {
      "text/csv": [
       "name\r\n",
       "defaultVectorCollection\r\n"
      ],
      "text/html": [
       "<table><thead><tr><td><span>name</span></td></tr></thead><tbody><tr><td>defaultVectorCollection</td></tr></tbody></table><style>\r\n",
       ".dni-code-hint {\r\n",
       "    font-style: italic;\r\n",
       "    overflow: hidden;\r\n",
       "    white-space: nowrap;\r\n",
       "}\r\n",
       ".dni-treeview {\r\n",
       "    white-space: nowrap;\r\n",
       "}\r\n",
       ".dni-treeview td {\r\n",
       "    vertical-align: top;\r\n",
       "    text-align: start;\r\n",
       "}\r\n",
       "details.dni-treeview {\r\n",
       "    padding-left: 1em;\r\n",
       "}\r\n",
       "table td {\r\n",
       "    text-align: start;\r\n",
       "}\r\n",
       "table tr { \r\n",
       "    vertical-align: top; \r\n",
       "    margin: 0em 0px;\r\n",
       "}\r\n",
       "table tr td pre \r\n",
       "{ \r\n",
       "    vertical-align: top !important; \r\n",
       "    margin: 0em 0px !important;\r\n",
       "} \r\n",
       "table th {\r\n",
       "    text-align: start;\r\n",
       "}\r\n",
       "</style>"
      ]
     },
     "metadata": {},
     "output_type": "display_data"
    }
   ],
   "source": [
    "SHOW TABLES;"
   ]
  },
  {
   "cell_type": "code",
   "execution_count": 17,
   "metadata": {
    "dotnet_interactive": {
     "language": "knowledge(duckDbVectorRAW)"
    },
    "polyglot_notebook": {
     "kernelName": "knowledge(duckDbVectorRAW)"
    }
   },
   "outputs": [
    {
     "data": {
      "text/csv": [
       "id,payload\r\n",
       "fact1-0,\"Take Away Points:\n",
       "1. .NET Interactive is a polyglot kernel.\n",
       "2. It allows users to write and execute code in multiple languages, including C#, F#, PowerShell, Python, and SQL.\"\r\n",
       "fact1-1,\"It enables users to write and execute code in multiple languages, such as C#, F#, PowerShell, Python, and SQL.\n",
       "It provides a powerful and versatile platform for developers to create and test code.\n",
       "It is an open source project, allowing users to contribute to its development.\n",
       "It is a great tool for developers to quickly test and debug code.\"\r\n",
       "fact1-2,\"The most important information to know about .NET Interactive is that it allows users to write and execute code in multiple languages, including C#, F#, PowerShell, Python, and SQL.\"\r\n",
       "fact2-0,\"It is a polyglot kernel that enables users to write and execute code in multiple languages, such as C#, F#, PowerShell, Python, and SQL. It is an open source project, allowing users to contribute to its development. It is a powerful and versatile platform for developers to create and test code, and a great tool for developers to quickly test and debug code.\n",
       "\n",
       "Take Away Points:\n",
       "1. .NET Interactive is a polyglot kernel developed by a team of engineers at Microsoft.\n",
       "2. It allows users to write and execute code in multiple languages, including C#, F#, PowerShell, Python, and SQL.\n",
       "3. It is an open source project, allowing users to contribute to its development.\n",
       "4. It is a powerful and versatile platform for developers to create and test code.\n",
       "5. It is a great tool for developers to quickly test and debug code.\"\r\n",
       "fact2-1,\"It is an open source project that enables users to write and execute code in multiple languages, such as C#, F#, PowerShell, Python, and SQL.\n",
       "It provides a powerful and versatile platform for developers to create and test code.\n",
       "It is a great tool for developers to quickly test and debug code.\n",
       "It is an invaluable resource for developers to learn and explore new technologies.\"\r\n"
      ],
      "text/html": [
       "<table><thead><tr><td><span>id</span></td><td><span>payload</span></td></tr></thead><tbody><tr><td>fact1-0</td><td>Take Away Points:\n",
       "1. .NET Interactive is a polyglot kernel.\n",
       "2. It allows users to write and execute code in multiple languages, including C#, F#, PowerShell, Python, and SQL.</td></tr><tr><td>fact1-1</td><td>It enables users to write and execute code in multiple languages, such as C#, F#, PowerShell, Python, and SQL.\n",
       "It provides a powerful and versatile platform for developers to create and test code.\n",
       "It is an open source project, allowing users to contribute to its development.\n",
       "It is a great tool for developers to quickly test and debug code.</td></tr><tr><td>fact1-2</td><td>The most important information to know about .NET Interactive is that it allows users to write and execute code in multiple languages, including C#, F#, PowerShell, Python, and SQL.</td></tr><tr><td>fact2-0</td><td>It is a polyglot kernel that enables users to write and execute code in multiple languages, such as C#, F#, PowerShell, Python, and SQL. It is an open source project, allowing users to contribute to its development. It is a powerful and versatile platform for developers to create and test code, and a great tool for developers to quickly test and debug code.\n",
       "\n",
       "Take Away Points:\n",
       "1. .NET Interactive is a polyglot kernel developed by a team of engineers at Microsoft.\n",
       "2. It allows users to write and execute code in multiple languages, including C#, F#, PowerShell, Python, and SQL.\n",
       "3. It is an open source project, allowing users to contribute to its development.\n",
       "4. It is a powerful and versatile platform for developers to create and test code.\n",
       "5. It is a great tool for developers to quickly test and debug code.</td></tr><tr><td>fact2-1</td><td>It is an open source project that enables users to write and execute code in multiple languages, such as C#, F#, PowerShell, Python, and SQL.\n",
       "It provides a powerful and versatile platform for developers to create and test code.\n",
       "It is a great tool for developers to quickly test and debug code.\n",
       "It is an invaluable resource for developers to learn and explore new technologies.</td></tr></tbody></table><style>\r\n",
       ".dni-code-hint {\r\n",
       "    font-style: italic;\r\n",
       "    overflow: hidden;\r\n",
       "    white-space: nowrap;\r\n",
       "}\r\n",
       ".dni-treeview {\r\n",
       "    white-space: nowrap;\r\n",
       "}\r\n",
       ".dni-treeview td {\r\n",
       "    vertical-align: top;\r\n",
       "    text-align: start;\r\n",
       "}\r\n",
       "details.dni-treeview {\r\n",
       "    padding-left: 1em;\r\n",
       "}\r\n",
       "table td {\r\n",
       "    text-align: start;\r\n",
       "}\r\n",
       "table tr { \r\n",
       "    vertical-align: top; \r\n",
       "    margin: 0em 0px;\r\n",
       "}\r\n",
       "table tr td pre \r\n",
       "{ \r\n",
       "    vertical-align: top !important; \r\n",
       "    margin: 0em 0px !important;\r\n",
       "} \r\n",
       "table th {\r\n",
       "    text-align: start;\r\n",
       "}\r\n",
       "</style>"
      ]
     },
     "metadata": {},
     "output_type": "display_data"
    }
   ],
   "source": [
    "select id, payload from defaultVectorCollection limit 5;"
   ]
  },
  {
   "cell_type": "code",
   "execution_count": 10,
   "metadata": {
    "dotnet_interactive": {
     "language": "csharp"
    },
    "polyglot_notebook": {
     "kernelName": "csharp"
    }
   },
   "outputs": [],
   "source": [
    "using Microsoft.DotNet.Interactive.AI.DuckDb;\n",
    "using System.IO;\n",
    "var currentDirectory = Directory.GetCurrentDirectory();\n",
    "var dataFile = Path.Combine(currentDirectory, \"interactive_knowledge.json\");\n"
   ]
  },
  {
   "cell_type": "markdown",
   "id": "a17626a0",
   "metadata": {},
   "source": [
    "## can export and import the vectors stored by the `knowledge kernel`"
   ]
  },
  {
   "cell_type": "code",
   "execution_count": 19,
   "metadata": {
    "dotnet_interactive": {
     "language": "csharp"
    },
    "polyglot_notebook": {
     "kernelName": "csharp"
    }
   },
   "outputs": [],
   "source": [
    "using Microsoft.DotNet.Interactive.AI.DuckDb;\n",
    "await Kernel.Root.SendAsync(new ExportCollection(\"defaultVectorCollection\", dataFile, \"knowledge(duckDbVector)\"));"
   ]
  },
  {
   "cell_type": "markdown",
   "id": "954bd437",
   "metadata": {},
   "source": [
    "## use the following cell to just load the persisted knowledge"
   ]
  },
  {
   "cell_type": "code",
   "execution_count": 11,
   "metadata": {
    "dotnet_interactive": {
     "language": "csharp"
    },
    "polyglot_notebook": {
     "kernelName": "csharp"
    }
   },
   "outputs": [],
   "source": [
    "using Microsoft.DotNet.Interactive.AI.DuckDb;\n",
    "await Kernel.Root.SendAsync(new ImportCollection(\"defaultVectorCollection\", dataFile, \"knowledge(duckDbVector)\"));"
   ]
  },
  {
   "cell_type": "markdown",
   "id": "1b6f4854",
   "metadata": {},
   "source": [
    "## use the knowlegde to augment prompts (RAG)"
   ]
  },
  {
   "cell_type": "code",
   "execution_count": 12,
   "metadata": {
    "dotnet_interactive": {
     "language": "textCompletion"
    },
    "polyglot_notebook": {
     "kernelName": "textCompletion"
    }
   },
   "outputs": [
    {
     "data": {
      "text/html": [
       "<details open=\"open\" class=\"dni-treeview\"><summary><span class=\"dni-code-hint\"><code>With .NET Interactive, you can write and execute code in multiple languages, including C# Script, F#, PowerShell, Python, and SQL. You can also create rich visualizations such as diagrams, flowcharts, interactive visualizations, and HTML visualizations using mermaid language, javascript, and HTML ke...</code></span></summary><div><table><thead><tr></tr></thead><tbody><tr><td>Result</td><td><div class=\"dni-plaintext\"><pre>\n",
       "With .NET Interactive, you can write and execute code in multiple languages, including C# Script, F#, PowerShell, Python, and SQL. You can also create rich visualizations such as diagrams, flowcharts, interactive visualizations, and HTML visualizations using mermaid language, javascript, and HTML kernels. Additionally, you can extend the capabilities of .NET Interactive with custom magic commands using these languages.</pre></div></td></tr><tr><td>ModelResults</td><td><table><thead><tr><th><i>index</i></th><th>value</th></tr></thead><tbody><tr><td>0</td><td><details class=\"dni-treeview\"><summary><span class=\"dni-code-hint\"><code>Microsoft.SemanticKernel.Orchestration.ModelResult</code></span></summary><div><table><thead><tr></tr></thead><tbody></tbody></table></div></details></td></tr></tbody></table></td></tr><tr><td>Culture</td><td><details class=\"dni-treeview\"><summary><span class=\"dni-code-hint\"><code>en</code></span></summary><div><table><thead><tr></tr></thead><tbody><tr><td>Parent</td><td><details class=\"dni-treeview\"><summary><span class=\"dni-code-hint\"><code></code></span></summary><div><table><thead><tr></tr></thead><tbody><tr><td>Parent</td><td><details class=\"dni-treeview\"><summary><span class=\"dni-code-hint\"><code></code></span></summary><div><table><thead><tr></tr></thead><tbody><tr><td>Parent</td><td><details class=\"dni-treeview\"><summary><span class=\"dni-code-hint\"><code></code></span></summary><div><table><thead><tr></tr></thead><tbody><tr><td>Parent</td><td><details class=\"dni-treeview\"><summary><span class=\"dni-code-hint\"><code></code></span></summary><div><table><thead><tr></tr></thead><tbody><tr><td>Parent</td><td></td></tr><tr><td>LCID</td><td>127</td></tr><tr><td>KeyboardLayoutId</td><td>127</td></tr><tr><td>Name</td><td></td></tr><tr><td>IetfLanguageTag</td><td></td></tr><tr><td>DisplayName</td><td>Invariant Language (Invariant Country)</td></tr><tr><td>NativeName</td><td>Invariant Language (Invariant Country)</td></tr><tr><td>EnglishName</td><td>Invariant Language (Invariant Country)</td></tr><tr><td>TwoLetterISOLanguageName</td><td>iv</td></tr><tr><td>ThreeLetterISOLanguageName</td><td>ivl</td></tr><tr><td>ThreeLetterWindowsLanguageName</td><td>IVL</td></tr><tr><td>CompareInfo</td><td>CompareInfo - </td></tr><tr><td>TextInfo</td><td>TextInfo - </td></tr><tr><td>IsNeutralCulture</td><td>False</td></tr><tr><td>CultureTypes</td><td>SpecificCultures, InstalledWin32Cultures</td></tr><tr><td>NumberFormat</td><td>System.Globalization.NumberFormatInfo</td></tr><tr><td>DateTimeFormat</td><td>System.Globalization.DateTimeFormatInfo</td></tr><tr><td>Calendar</td><td>System.Globalization.GregorianCalendar</td></tr><tr><td>OptionalCalendars</td><td>[ System.Globalization.GregorianCalendar ]</td></tr><tr><td>UseUserOverride</td><td>False</td></tr><tr><td>IsReadOnly</td><td>True</td></tr></tbody></table></div></details></td></tr><tr><td>LCID</td><td><div class=\"dni-plaintext\"><pre>127</pre></div></td></tr><tr><td>KeyboardLayoutId</td><td><div class=\"dni-plaintext\"><pre>127</pre></div></td></tr><tr><td>Name</td><td><div class=\"dni-plaintext\"><pre></pre></div></td></tr><tr><td>IetfLanguageTag</td><td><div class=\"dni-plaintext\"><pre></pre></div></td></tr><tr><td>DisplayName</td><td><div class=\"dni-plaintext\"><pre>Invariant Language (Invariant Country)</pre></div></td></tr><tr><td>NativeName</td><td><div class=\"dni-plaintext\"><pre>Invariant Language (Invariant Country)</pre></div></td></tr><tr><td>EnglishName</td><td><div class=\"dni-plaintext\"><pre>Invariant Language (Invariant Country)</pre></div></td></tr><tr><td>TwoLetterISOLanguageName</td><td><div class=\"dni-plaintext\"><pre>iv</pre></div></td></tr><tr><td>ThreeLetterISOLanguageName</td><td><div class=\"dni-plaintext\"><pre>ivl</pre></div></td></tr><tr><td>ThreeLetterWindowsLanguageName</td><td><div class=\"dni-plaintext\"><pre>IVL</pre></div></td></tr><tr><td>CompareInfo</td><td><details class=\"dni-treeview\"><summary><span class=\"dni-code-hint\"><code>CompareInfo -</code></span></summary><div><table><thead><tr></tr></thead><tbody><tr><td>Name</td><td></td></tr><tr><td>Version</td><td>System.Globalization.SortVersion</td></tr><tr><td>LCID</td><td>127</td></tr></tbody></table></div></details></td></tr><tr><td>TextInfo</td><td><details class=\"dni-treeview\"><summary><span class=\"dni-code-hint\"><code>TextInfo -</code></span></summary><div><table><thead><tr></tr></thead><tbody><tr><td>ANSICodePage</td><td>1252</td></tr><tr><td>OEMCodePage</td><td>437</td></tr><tr><td>MacCodePage</td><td>10000</td></tr><tr><td>EBCDICCodePage</td><td>37</td></tr><tr><td>LCID</td><td>127</td></tr><tr><td>CultureName</td><td></td></tr><tr><td>IsReadOnly</td><td>True</td></tr><tr><td>ListSeparator</td><td>,</td></tr><tr><td>IsRightToLeft</td><td>False</td></tr></tbody></table></div></details></td></tr><tr><td>IsNeutralCulture</td><td><div class=\"dni-plaintext\"><pre>False</pre></div></td></tr><tr><td>CultureTypes</td><td><span>SpecificCultures, InstalledWin32Cultures</span></td></tr><tr><td>NumberFormat</td><td><details class=\"dni-treeview\"><summary><span class=\"dni-code-hint\"><code>System.Globalization.NumberFormatInfo</code></span></summary><div><table><thead><tr></tr></thead><tbody><tr><td>CurrencyDecimalDigits</td><td>2</td></tr><tr><td>CurrencyDecimalSeparator</td><td>.</td></tr><tr><td>IsReadOnly</td><td>True</td></tr><tr><td>CurrencyGroupSizes</td><td>[ 3 ]</td></tr><tr><td>NumberGroupSizes</td><td>[ 3 ]</td></tr><tr><td>PercentGroupSizes</td><td>[ 3 ]</td></tr><tr><td>CurrencyGroupSeparator</td><td>,</td></tr><tr><td>CurrencySymbol</td><td>¤</td></tr><tr><td>NaNSymbol</td><td>NaN</td></tr><tr><td>CurrencyNegativePattern</td><td>0</td></tr><tr><td>NumberNegativePattern</td><td>1</td></tr><tr><td>PercentPositivePattern</td><td>0</td></tr><tr><td>PercentNegativePattern</td><td>0</td></tr><tr><td>NegativeInfinitySymbol</td><td>-Infinity</td></tr><tr><td>NegativeSign</td><td>-</td></tr><tr><td>NumberDecimalDigits</td><td>2</td></tr><tr><td>NumberDecimalSeparator</td><td>.</td></tr><tr><td>NumberGroupSeparator</td><td>,</td></tr><tr><td>CurrencyPositivePattern</td><td>0</td></tr><tr><td>PositiveInfinitySymbol</td><td>Infinity</td></tr><tr><td>PositiveSign</td><td>+</td></tr><tr><td>PercentDecimalDigits</td><td>2</td></tr><tr><td>PercentDecimalSeparator</td><td>.</td></tr><tr><td>PercentGroupSeparator</td><td>,</td></tr><tr><td>PercentSymbol</td><td>%</td></tr><tr><td>PerMilleSymbol</td><td>‰</td></tr><tr><td>NativeDigits</td><td>[ 0, 1, 2, 3, 4, 5, 6, 7, 8, 9 ]</td></tr><tr><td>DigitSubstitution</td><td>None</td></tr></tbody></table></div></details></td></tr><tr><td>DateTimeFormat</td><td><details class=\"dni-treeview\"><summary><span class=\"dni-code-hint\"><code>System.Globalization.DateTimeFormatInfo</code></span></summary><div><table><thead><tr></tr></thead><tbody><tr><td>AMDesignator</td><td>AM</td></tr><tr><td>Calendar</td><td>System.Globalization.GregorianCalendar</td></tr><tr><td>DateSeparator</td><td>/</td></tr><tr><td>FirstDayOfWeek</td><td>Sunday</td></tr><tr><td>CalendarWeekRule</td><td>FirstDay</td></tr><tr><td>FullDateTimePattern</td><td>dddd, dd MMMM yyyy HH:mm:ss</td></tr><tr><td>LongDatePattern</td><td>dddd, dd MMMM yyyy</td></tr><tr><td>LongTimePattern</td><td>HH:mm:ss</td></tr><tr><td>MonthDayPattern</td><td>MMMM dd</td></tr><tr><td>PMDesignator</td><td>PM</td></tr><tr><td>RFC1123Pattern</td><td>ddd, dd MMM yyyy HH':'mm':'ss 'GMT'</td></tr><tr><td>ShortDatePattern</td><td>MM/dd/yyyy</td></tr><tr><td>ShortTimePattern</td><td>HH:mm</td></tr><tr><td>SortableDateTimePattern</td><td>yyyy'-'MM'-'dd'T'HH':'mm':'ss</td></tr><tr><td>TimeSeparator</td><td>:</td></tr><tr><td>UniversalSortableDateTimePattern</td><td>yyyy'-'MM'-'dd HH':'mm':'ss'Z'</td></tr><tr><td>YearMonthPattern</td><td>yyyy MMMM</td></tr><tr><td>AbbreviatedDayNames</td><td>[ Sun, Mon, Tue, Wed, Thu, Fri, Sat ]</td></tr><tr><td>ShortestDayNames</td><td>[ Su, Mo, Tu, We, Th, Fr, Sa ]</td></tr><tr><td>DayNames</td><td>[ Sunday, Monday, Tuesday, Wednesday, Thursday, Friday, Saturday ]</td></tr><tr><td>AbbreviatedMonthNames</td><td>[ Jan, Feb, Mar, Apr, May, Jun, Jul, Aug, Sep, Oct, Nov, Dec,  ]</td></tr><tr><td>MonthNames</td><td>[ January, February, March, April, May, June, July, August, September, October, November, December,  ]</td></tr><tr><td>IsReadOnly</td><td>True</td></tr><tr><td>NativeCalendarName</td><td>Gregorian Calendar</td></tr><tr><td>AbbreviatedMonthGenitiveNames</td><td>[ Jan, Feb, Mar, Apr, May, Jun, Jul, Aug, Sep, Oct, Nov, Dec,  ]</td></tr><tr><td>MonthGenitiveNames</td><td>[ January, February, March, April, May, June, July, August, September, October, November, December,  ]</td></tr></tbody></table></div></details></td></tr><tr><td>Calendar</td><td><details class=\"dni-treeview\"><summary><span class=\"dni-code-hint\"><code>System.Globalization.GregorianCalendar</code></span></summary><div><table><thead><tr></tr></thead><tbody><tr><td>MinSupportedDateTime</td><td>1/1/0001 12:00:00 AM</td></tr><tr><td>MaxSupportedDateTime</td><td>12/31/9999 11:59:59 PM</td></tr><tr><td>AlgorithmType</td><td>SolarCalendar</td></tr><tr><td>CalendarType</td><td>Localized</td></tr><tr><td>Eras</td><td>[ 1 ]</td></tr><tr><td>TwoDigitYearMax</td><td>2029</td></tr><tr><td>IsReadOnly</td><td>True</td></tr></tbody></table></div></details></td></tr><tr><td>OptionalCalendars</td><td><table><thead><tr><th><i>index</i></th><th>value</th></tr></thead><tbody><tr><td>0</td><td>System.Globalization.GregorianCalendar</td></tr></tbody></table></td></tr><tr><td>UseUserOverride</td><td><div class=\"dni-plaintext\"><pre>False</pre></div></td></tr><tr><td>IsReadOnly</td><td><div class=\"dni-plaintext\"><pre>True</pre></div></td></tr></tbody></table></div></details></td></tr><tr><td>LCID</td><td><div class=\"dni-plaintext\"><pre>127</pre></div></td></tr><tr><td>KeyboardLayoutId</td><td><div class=\"dni-plaintext\"><pre>127</pre></div></td></tr><tr><td>Name</td><td><div class=\"dni-plaintext\"><pre></pre></div></td></tr><tr><td>IetfLanguageTag</td><td><div class=\"dni-plaintext\"><pre></pre></div></td></tr><tr><td>DisplayName</td><td><div class=\"dni-plaintext\"><pre>Invariant Language (Invariant Country)</pre></div></td></tr><tr><td>NativeName</td><td><div class=\"dni-plaintext\"><pre>Invariant Language (Invariant Country)</pre></div></td></tr><tr><td>EnglishName</td><td><div class=\"dni-plaintext\"><pre>Invariant Language (Invariant Country)</pre></div></td></tr><tr><td>TwoLetterISOLanguageName</td><td><div class=\"dni-plaintext\"><pre>iv</pre></div></td></tr><tr><td>ThreeLetterISOLanguageName</td><td><div class=\"dni-plaintext\"><pre>ivl</pre></div></td></tr><tr><td>ThreeLetterWindowsLanguageName</td><td><div class=\"dni-plaintext\"><pre>IVL</pre></div></td></tr><tr><td>CompareInfo</td><td><details class=\"dni-treeview\"><summary><span class=\"dni-code-hint\"><code>CompareInfo -</code></span></summary><div><table><thead><tr></tr></thead><tbody><tr><td>Name</td><td><div class=\"dni-plaintext\"><pre></pre></div></td></tr><tr><td>Version</td><td><details class=\"dni-treeview\"><summary><span class=\"dni-code-hint\"><code>System.Globalization.SortVersion</code></span></summary><div><table><thead><tr></tr></thead><tbody><tr><td>FullVersion</td><td>26777</td></tr><tr><td>SortId</td><td>00006899-0000-0000-0000-00000000007f</td></tr></tbody></table></div></details></td></tr><tr><td>LCID</td><td><div class=\"dni-plaintext\"><pre>127</pre></div></td></tr></tbody></table></div></details></td></tr><tr><td>TextInfo</td><td><details class=\"dni-treeview\"><summary><span class=\"dni-code-hint\"><code>TextInfo -</code></span></summary><div><table><thead><tr></tr></thead><tbody><tr><td>ANSICodePage</td><td><div class=\"dni-plaintext\"><pre>1252</pre></div></td></tr><tr><td>OEMCodePage</td><td><div class=\"dni-plaintext\"><pre>437</pre></div></td></tr><tr><td>MacCodePage</td><td><div class=\"dni-plaintext\"><pre>10000</pre></div></td></tr><tr><td>EBCDICCodePage</td><td><div class=\"dni-plaintext\"><pre>37</pre></div></td></tr><tr><td>LCID</td><td><div class=\"dni-plaintext\"><pre>127</pre></div></td></tr><tr><td>CultureName</td><td><div class=\"dni-plaintext\"><pre></pre></div></td></tr><tr><td>IsReadOnly</td><td><div class=\"dni-plaintext\"><pre>True</pre></div></td></tr><tr><td>ListSeparator</td><td><div class=\"dni-plaintext\"><pre>,</pre></div></td></tr><tr><td>IsRightToLeft</td><td><div class=\"dni-plaintext\"><pre>False</pre></div></td></tr></tbody></table></div></details></td></tr><tr><td>IsNeutralCulture</td><td><div class=\"dni-plaintext\"><pre>False</pre></div></td></tr><tr><td>CultureTypes</td><td><span>SpecificCultures, InstalledWin32Cultures</span></td></tr><tr><td>NumberFormat</td><td><details class=\"dni-treeview\"><summary><span class=\"dni-code-hint\"><code>System.Globalization.NumberFormatInfo</code></span></summary><div><table><thead><tr></tr></thead><tbody><tr><td>CurrencyDecimalDigits</td><td><div class=\"dni-plaintext\"><pre>2</pre></div></td></tr><tr><td>CurrencyDecimalSeparator</td><td><div class=\"dni-plaintext\"><pre>.</pre></div></td></tr><tr><td>IsReadOnly</td><td><div class=\"dni-plaintext\"><pre>True</pre></div></td></tr><tr><td>CurrencyGroupSizes</td><td><div class=\"dni-plaintext\"><pre>[ 3 ]</pre></div></td></tr><tr><td>NumberGroupSizes</td><td><div class=\"dni-plaintext\"><pre>[ 3 ]</pre></div></td></tr><tr><td>PercentGroupSizes</td><td><div class=\"dni-plaintext\"><pre>[ 3 ]</pre></div></td></tr><tr><td>CurrencyGroupSeparator</td><td><div class=\"dni-plaintext\"><pre>,</pre></div></td></tr><tr><td>CurrencySymbol</td><td><div class=\"dni-plaintext\"><pre>&#164;</pre></div></td></tr><tr><td>NaNSymbol</td><td><div class=\"dni-plaintext\"><pre>NaN</pre></div></td></tr><tr><td>CurrencyNegativePattern</td><td><div class=\"dni-plaintext\"><pre>0</pre></div></td></tr><tr><td>NumberNegativePattern</td><td><div class=\"dni-plaintext\"><pre>1</pre></div></td></tr><tr><td>PercentPositivePattern</td><td><div class=\"dni-plaintext\"><pre>0</pre></div></td></tr><tr><td>PercentNegativePattern</td><td><div class=\"dni-plaintext\"><pre>0</pre></div></td></tr><tr><td>NegativeInfinitySymbol</td><td><div class=\"dni-plaintext\"><pre>-Infinity</pre></div></td></tr><tr><td>NegativeSign</td><td><div class=\"dni-plaintext\"><pre>-</pre></div></td></tr><tr><td>NumberDecimalDigits</td><td><div class=\"dni-plaintext\"><pre>2</pre></div></td></tr><tr><td>NumberDecimalSeparator</td><td><div class=\"dni-plaintext\"><pre>.</pre></div></td></tr><tr><td>NumberGroupSeparator</td><td><div class=\"dni-plaintext\"><pre>,</pre></div></td></tr><tr><td>CurrencyPositivePattern</td><td><div class=\"dni-plaintext\"><pre>0</pre></div></td></tr><tr><td>PositiveInfinitySymbol</td><td><div class=\"dni-plaintext\"><pre>Infinity</pre></div></td></tr><tr><td>PositiveSign</td><td><div class=\"dni-plaintext\"><pre>+</pre></div></td></tr><tr><td>PercentDecimalDigits</td><td><div class=\"dni-plaintext\"><pre>2</pre></div></td></tr><tr><td>PercentDecimalSeparator</td><td><div class=\"dni-plaintext\"><pre>.</pre></div></td></tr><tr><td>PercentGroupSeparator</td><td><div class=\"dni-plaintext\"><pre>,</pre></div></td></tr><tr><td>PercentSymbol</td><td><div class=\"dni-plaintext\"><pre>%</pre></div></td></tr><tr><td>PerMilleSymbol</td><td><div class=\"dni-plaintext\"><pre>‰</pre></div></td></tr><tr><td>NativeDigits</td><td><div class=\"dni-plaintext\"><pre>[ 0, 1, 2, 3, 4, 5, 6, 7, 8, 9 ]</pre></div></td></tr><tr><td>DigitSubstitution</td><td><span>None</span></td></tr></tbody></table></div></details></td></tr><tr><td>DateTimeFormat</td><td><details class=\"dni-treeview\"><summary><span class=\"dni-code-hint\"><code>System.Globalization.DateTimeFormatInfo</code></span></summary><div><table><thead><tr></tr></thead><tbody><tr><td>AMDesignator</td><td><div class=\"dni-plaintext\"><pre>AM</pre></div></td></tr><tr><td>Calendar</td><td><details class=\"dni-treeview\"><summary><span class=\"dni-code-hint\"><code>System.Globalization.GregorianCalendar</code></span></summary><div><table><thead><tr></tr></thead><tbody><tr><td>MinSupportedDateTime</td><td>1/1/0001 12:00:00 AM</td></tr><tr><td>MaxSupportedDateTime</td><td>12/31/9999 11:59:59 PM</td></tr><tr><td>AlgorithmType</td><td>SolarCalendar</td></tr><tr><td>CalendarType</td><td>Localized</td></tr><tr><td>Eras</td><td>[ 1 ]</td></tr><tr><td>TwoDigitYearMax</td><td>2029</td></tr><tr><td>IsReadOnly</td><td>True</td></tr></tbody></table></div></details></td></tr><tr><td>DateSeparator</td><td><div class=\"dni-plaintext\"><pre>/</pre></div></td></tr><tr><td>FirstDayOfWeek</td><td><span>Sunday</span></td></tr><tr><td>CalendarWeekRule</td><td><span>FirstDay</span></td></tr><tr><td>FullDateTimePattern</td><td><div class=\"dni-plaintext\"><pre>dddd, dd MMMM yyyy HH:mm:ss</pre></div></td></tr><tr><td>LongDatePattern</td><td><div class=\"dni-plaintext\"><pre>dddd, dd MMMM yyyy</pre></div></td></tr><tr><td>LongTimePattern</td><td><div class=\"dni-plaintext\"><pre>HH:mm:ss</pre></div></td></tr><tr><td>MonthDayPattern</td><td><div class=\"dni-plaintext\"><pre>MMMM dd</pre></div></td></tr><tr><td>PMDesignator</td><td><div class=\"dni-plaintext\"><pre>PM</pre></div></td></tr><tr><td>RFC1123Pattern</td><td><div class=\"dni-plaintext\"><pre>ddd, dd MMM yyyy HH&#39;:&#39;mm&#39;:&#39;ss &#39;GMT&#39;</pre></div></td></tr><tr><td>ShortDatePattern</td><td><div class=\"dni-plaintext\"><pre>MM/dd/yyyy</pre></div></td></tr><tr><td>ShortTimePattern</td><td><div class=\"dni-plaintext\"><pre>HH:mm</pre></div></td></tr><tr><td>SortableDateTimePattern</td><td><div class=\"dni-plaintext\"><pre>yyyy&#39;-&#39;MM&#39;-&#39;dd&#39;T&#39;HH&#39;:&#39;mm&#39;:&#39;ss</pre></div></td></tr><tr><td>TimeSeparator</td><td><div class=\"dni-plaintext\"><pre>:</pre></div></td></tr><tr><td>UniversalSortableDateTimePattern</td><td><div class=\"dni-plaintext\"><pre>yyyy&#39;-&#39;MM&#39;-&#39;dd HH&#39;:&#39;mm&#39;:&#39;ss&#39;Z&#39;</pre></div></td></tr><tr><td>YearMonthPattern</td><td><div class=\"dni-plaintext\"><pre>yyyy MMMM</pre></div></td></tr><tr><td>AbbreviatedDayNames</td><td><div class=\"dni-plaintext\"><pre>[ Sun, Mon, Tue, Wed, Thu, Fri, Sat ]</pre></div></td></tr><tr><td>ShortestDayNames</td><td><div class=\"dni-plaintext\"><pre>[ Su, Mo, Tu, We, Th, Fr, Sa ]</pre></div></td></tr><tr><td>DayNames</td><td><div class=\"dni-plaintext\"><pre>[ Sunday, Monday, Tuesday, Wednesday, Thursday, Friday, Saturday ]</pre></div></td></tr><tr><td>AbbreviatedMonthNames</td><td><div class=\"dni-plaintext\"><pre>[ Jan, Feb, Mar, Apr, May, Jun, Jul, Aug, Sep, Oct, Nov, Dec,  ]</pre></div></td></tr><tr><td>MonthNames</td><td><div class=\"dni-plaintext\"><pre>[ January, February, March, April, May, June, July, August, September, October, November, December,  ]</pre></div></td></tr><tr><td>IsReadOnly</td><td><div class=\"dni-plaintext\"><pre>True</pre></div></td></tr><tr><td>NativeCalendarName</td><td><div class=\"dni-plaintext\"><pre>Gregorian Calendar</pre></div></td></tr><tr><td>AbbreviatedMonthGenitiveNames</td><td><div class=\"dni-plaintext\"><pre>[ Jan, Feb, Mar, Apr, May, Jun, Jul, Aug, Sep, Oct, Nov, Dec,  ]</pre></div></td></tr><tr><td>MonthGenitiveNames</td><td><div class=\"dni-plaintext\"><pre>[ January, February, March, April, May, June, July, August, September, October, November, December,  ]</pre></div></td></tr></tbody></table></div></details></td></tr><tr><td>Calendar</td><td><details class=\"dni-treeview\"><summary><span class=\"dni-code-hint\"><code>System.Globalization.GregorianCalendar</code></span></summary><div><table><thead><tr></tr></thead><tbody><tr><td>MinSupportedDateTime</td><td><span>0001-01-01 00:00:00Z</span></td></tr><tr><td>MaxSupportedDateTime</td><td><span>9999-12-31 23:59:59Z</span></td></tr><tr><td>AlgorithmType</td><td><span>SolarCalendar</span></td></tr><tr><td>CalendarType</td><td><span>Localized</span></td></tr><tr><td>Eras</td><td><div class=\"dni-plaintext\"><pre>[ 1 ]</pre></div></td></tr><tr><td>TwoDigitYearMax</td><td><div class=\"dni-plaintext\"><pre>2029</pre></div></td></tr><tr><td>IsReadOnly</td><td><div class=\"dni-plaintext\"><pre>True</pre></div></td></tr></tbody></table></div></details></td></tr><tr><td>OptionalCalendars</td><td><table><thead><tr><th><i>index</i></th><th>value</th></tr></thead><tbody><tr><td>0</td><td><details class=\"dni-treeview\"><summary><span class=\"dni-code-hint\"><code>System.Globalization.GregorianCalendar</code></span></summary><div><table><thead><tr></tr></thead><tbody><tr><td>MinSupportedDateTime</td><td>1/1/0001 12:00:00 AM</td></tr><tr><td>MaxSupportedDateTime</td><td>12/31/9999 11:59:59 PM</td></tr><tr><td>AlgorithmType</td><td>SolarCalendar</td></tr><tr><td>CalendarType</td><td>Localized</td></tr><tr><td>Eras</td><td>[ 1 ]</td></tr><tr><td>TwoDigitYearMax</td><td>2029</td></tr><tr><td>IsReadOnly</td><td>False</td></tr></tbody></table></div></details></td></tr></tbody></table></td></tr><tr><td>UseUserOverride</td><td><div class=\"dni-plaintext\"><pre>False</pre></div></td></tr><tr><td>IsReadOnly</td><td><div class=\"dni-plaintext\"><pre>True</pre></div></td></tr></tbody></table></div></details></td></tr><tr><td>LCID</td><td><div class=\"dni-plaintext\"><pre>127</pre></div></td></tr><tr><td>KeyboardLayoutId</td><td><div class=\"dni-plaintext\"><pre>127</pre></div></td></tr><tr><td>Name</td><td><div class=\"dni-plaintext\"><pre></pre></div></td></tr><tr><td>IetfLanguageTag</td><td><div class=\"dni-plaintext\"><pre></pre></div></td></tr><tr><td>DisplayName</td><td><div class=\"dni-plaintext\"><pre>Invariant Language (Invariant Country)</pre></div></td></tr><tr><td>NativeName</td><td><div class=\"dni-plaintext\"><pre>Invariant Language (Invariant Country)</pre></div></td></tr><tr><td>EnglishName</td><td><div class=\"dni-plaintext\"><pre>Invariant Language (Invariant Country)</pre></div></td></tr><tr><td>TwoLetterISOLanguageName</td><td><div class=\"dni-plaintext\"><pre>iv</pre></div></td></tr><tr><td>ThreeLetterISOLanguageName</td><td><div class=\"dni-plaintext\"><pre>ivl</pre></div></td></tr><tr><td>ThreeLetterWindowsLanguageName</td><td><div class=\"dni-plaintext\"><pre>IVL</pre></div></td></tr><tr><td>CompareInfo</td><td><details class=\"dni-treeview\"><summary><span class=\"dni-code-hint\"><code>CompareInfo -</code></span></summary><div><table><thead><tr></tr></thead><tbody><tr><td>Name</td><td><div class=\"dni-plaintext\"><pre></pre></div></td></tr><tr><td>Version</td><td><details class=\"dni-treeview\"><summary><span class=\"dni-code-hint\"><code>System.Globalization.SortVersion</code></span></summary><div><table><thead><tr></tr></thead><tbody><tr><td>FullVersion</td><td><div class=\"dni-plaintext\"><pre>26777</pre></div></td></tr><tr><td>SortId</td><td><div class=\"dni-plaintext\"><pre>00006899-0000-0000-0000-00000000007f</pre></div></td></tr></tbody></table></div></details></td></tr><tr><td>LCID</td><td><div class=\"dni-plaintext\"><pre>127</pre></div></td></tr></tbody></table></div></details></td></tr><tr><td>TextInfo</td><td><details class=\"dni-treeview\"><summary><span class=\"dni-code-hint\"><code>TextInfo -</code></span></summary><div><table><thead><tr></tr></thead><tbody><tr><td>ANSICodePage</td><td><div class=\"dni-plaintext\"><pre>1252</pre></div></td></tr><tr><td>OEMCodePage</td><td><div class=\"dni-plaintext\"><pre>437</pre></div></td></tr><tr><td>MacCodePage</td><td><div class=\"dni-plaintext\"><pre>10000</pre></div></td></tr><tr><td>EBCDICCodePage</td><td><div class=\"dni-plaintext\"><pre>37</pre></div></td></tr><tr><td>LCID</td><td><div class=\"dni-plaintext\"><pre>127</pre></div></td></tr><tr><td>CultureName</td><td><div class=\"dni-plaintext\"><pre></pre></div></td></tr><tr><td>IsReadOnly</td><td><div class=\"dni-plaintext\"><pre>True</pre></div></td></tr><tr><td>ListSeparator</td><td><div class=\"dni-plaintext\"><pre>,</pre></div></td></tr><tr><td>IsRightToLeft</td><td><div class=\"dni-plaintext\"><pre>False</pre></div></td></tr></tbody></table></div></details></td></tr><tr><td>IsNeutralCulture</td><td><div class=\"dni-plaintext\"><pre>False</pre></div></td></tr><tr><td>CultureTypes</td><td><span>SpecificCultures, InstalledWin32Cultures</span></td></tr><tr><td>NumberFormat</td><td><details class=\"dni-treeview\"><summary><span class=\"dni-code-hint\"><code>System.Globalization.NumberFormatInfo</code></span></summary><div><table><thead><tr></tr></thead><tbody><tr><td>CurrencyDecimalDigits</td><td><div class=\"dni-plaintext\"><pre>2</pre></div></td></tr><tr><td>CurrencyDecimalSeparator</td><td><div class=\"dni-plaintext\"><pre>.</pre></div></td></tr><tr><td>IsReadOnly</td><td><div class=\"dni-plaintext\"><pre>True</pre></div></td></tr><tr><td>CurrencyGroupSizes</td><td><div class=\"dni-plaintext\"><pre>[ 3 ]</pre></div></td></tr><tr><td>NumberGroupSizes</td><td><div class=\"dni-plaintext\"><pre>[ 3 ]</pre></div></td></tr><tr><td>PercentGroupSizes</td><td><div class=\"dni-plaintext\"><pre>[ 3 ]</pre></div></td></tr><tr><td>CurrencyGroupSeparator</td><td><div class=\"dni-plaintext\"><pre>,</pre></div></td></tr><tr><td>CurrencySymbol</td><td><div class=\"dni-plaintext\"><pre>&#164;</pre></div></td></tr><tr><td>NaNSymbol</td><td><div class=\"dni-plaintext\"><pre>NaN</pre></div></td></tr><tr><td>CurrencyNegativePattern</td><td><div class=\"dni-plaintext\"><pre>0</pre></div></td></tr><tr><td>NumberNegativePattern</td><td><div class=\"dni-plaintext\"><pre>1</pre></div></td></tr><tr><td>PercentPositivePattern</td><td><div class=\"dni-plaintext\"><pre>0</pre></div></td></tr><tr><td>PercentNegativePattern</td><td><div class=\"dni-plaintext\"><pre>0</pre></div></td></tr><tr><td>NegativeInfinitySymbol</td><td><div class=\"dni-plaintext\"><pre>-Infinity</pre></div></td></tr><tr><td>NegativeSign</td><td><div class=\"dni-plaintext\"><pre>-</pre></div></td></tr><tr><td>NumberDecimalDigits</td><td><div class=\"dni-plaintext\"><pre>2</pre></div></td></tr><tr><td>NumberDecimalSeparator</td><td><div class=\"dni-plaintext\"><pre>.</pre></div></td></tr><tr><td>NumberGroupSeparator</td><td><div class=\"dni-plaintext\"><pre>,</pre></div></td></tr><tr><td>CurrencyPositivePattern</td><td><div class=\"dni-plaintext\"><pre>0</pre></div></td></tr><tr><td>PositiveInfinitySymbol</td><td><div class=\"dni-plaintext\"><pre>Infinity</pre></div></td></tr><tr><td>PositiveSign</td><td><div class=\"dni-plaintext\"><pre>+</pre></div></td></tr><tr><td>PercentDecimalDigits</td><td><div class=\"dni-plaintext\"><pre>2</pre></div></td></tr><tr><td>PercentDecimalSeparator</td><td><div class=\"dni-plaintext\"><pre>.</pre></div></td></tr><tr><td>PercentGroupSeparator</td><td><div class=\"dni-plaintext\"><pre>,</pre></div></td></tr><tr><td>PercentSymbol</td><td><div class=\"dni-plaintext\"><pre>%</pre></div></td></tr><tr><td>PerMilleSymbol</td><td><div class=\"dni-plaintext\"><pre>‰</pre></div></td></tr><tr><td>NativeDigits</td><td><div class=\"dni-plaintext\"><pre>[ 0, 1, 2, 3, 4, 5, 6, 7, 8, 9 ]</pre></div></td></tr><tr><td>DigitSubstitution</td><td><span>None</span></td></tr></tbody></table></div></details></td></tr><tr><td>DateTimeFormat</td><td><details class=\"dni-treeview\"><summary><span class=\"dni-code-hint\"><code>System.Globalization.DateTimeFormatInfo</code></span></summary><div><table><thead><tr></tr></thead><tbody><tr><td>AMDesignator</td><td><div class=\"dni-plaintext\"><pre>AM</pre></div></td></tr><tr><td>Calendar</td><td><details class=\"dni-treeview\"><summary><span class=\"dni-code-hint\"><code>System.Globalization.GregorianCalendar</code></span></summary><div><table><thead><tr></tr></thead><tbody><tr><td>MinSupportedDateTime</td><td><span>0001-01-01 00:00:00Z</span></td></tr><tr><td>MaxSupportedDateTime</td><td><span>9999-12-31 23:59:59Z</span></td></tr><tr><td>AlgorithmType</td><td><span>SolarCalendar</span></td></tr><tr><td>CalendarType</td><td><span>Localized</span></td></tr><tr><td>Eras</td><td><div class=\"dni-plaintext\"><pre>[ 1 ]</pre></div></td></tr><tr><td>TwoDigitYearMax</td><td><div class=\"dni-plaintext\"><pre>2029</pre></div></td></tr><tr><td>IsReadOnly</td><td><div class=\"dni-plaintext\"><pre>True</pre></div></td></tr></tbody></table></div></details></td></tr><tr><td>DateSeparator</td><td><div class=\"dni-plaintext\"><pre>/</pre></div></td></tr><tr><td>FirstDayOfWeek</td><td><span>Sunday</span></td></tr><tr><td>CalendarWeekRule</td><td><span>FirstDay</span></td></tr><tr><td>FullDateTimePattern</td><td><div class=\"dni-plaintext\"><pre>dddd, dd MMMM yyyy HH:mm:ss</pre></div></td></tr><tr><td>LongDatePattern</td><td><div class=\"dni-plaintext\"><pre>dddd, dd MMMM yyyy</pre></div></td></tr><tr><td>LongTimePattern</td><td><div class=\"dni-plaintext\"><pre>HH:mm:ss</pre></div></td></tr><tr><td>MonthDayPattern</td><td><div class=\"dni-plaintext\"><pre>MMMM dd</pre></div></td></tr><tr><td>PMDesignator</td><td><div class=\"dni-plaintext\"><pre>PM</pre></div></td></tr><tr><td>RFC1123Pattern</td><td><div class=\"dni-plaintext\"><pre>ddd, dd MMM yyyy HH&#39;:&#39;mm&#39;:&#39;ss &#39;GMT&#39;</pre></div></td></tr><tr><td>ShortDatePattern</td><td><div class=\"dni-plaintext\"><pre>MM/dd/yyyy</pre></div></td></tr><tr><td>ShortTimePattern</td><td><div class=\"dni-plaintext\"><pre>HH:mm</pre></div></td></tr><tr><td>SortableDateTimePattern</td><td><div class=\"dni-plaintext\"><pre>yyyy&#39;-&#39;MM&#39;-&#39;dd&#39;T&#39;HH&#39;:&#39;mm&#39;:&#39;ss</pre></div></td></tr><tr><td>TimeSeparator</td><td><div class=\"dni-plaintext\"><pre>:</pre></div></td></tr><tr><td>UniversalSortableDateTimePattern</td><td><div class=\"dni-plaintext\"><pre>yyyy&#39;-&#39;MM&#39;-&#39;dd HH&#39;:&#39;mm&#39;:&#39;ss&#39;Z&#39;</pre></div></td></tr><tr><td>YearMonthPattern</td><td><div class=\"dni-plaintext\"><pre>yyyy MMMM</pre></div></td></tr><tr><td>AbbreviatedDayNames</td><td><div class=\"dni-plaintext\"><pre>[ Sun, Mon, Tue, Wed, Thu, Fri, Sat ]</pre></div></td></tr><tr><td>ShortestDayNames</td><td><div class=\"dni-plaintext\"><pre>[ Su, Mo, Tu, We, Th, Fr, Sa ]</pre></div></td></tr><tr><td>DayNames</td><td><div class=\"dni-plaintext\"><pre>[ Sunday, Monday, Tuesday, Wednesday, Thursday, Friday, Saturday ]</pre></div></td></tr><tr><td>AbbreviatedMonthNames</td><td><div class=\"dni-plaintext\"><pre>[ Jan, Feb, Mar, Apr, May, Jun, Jul, Aug, Sep, Oct, Nov, Dec,  ]</pre></div></td></tr><tr><td>MonthNames</td><td><div class=\"dni-plaintext\"><pre>[ January, February, March, April, May, June, July, August, September, October, November, December,  ]</pre></div></td></tr><tr><td>IsReadOnly</td><td><div class=\"dni-plaintext\"><pre>True</pre></div></td></tr><tr><td>NativeCalendarName</td><td><div class=\"dni-plaintext\"><pre>Gregorian Calendar</pre></div></td></tr><tr><td>AbbreviatedMonthGenitiveNames</td><td><div class=\"dni-plaintext\"><pre>[ Jan, Feb, Mar, Apr, May, Jun, Jul, Aug, Sep, Oct, Nov, Dec,  ]</pre></div></td></tr><tr><td>MonthGenitiveNames</td><td><div class=\"dni-plaintext\"><pre>[ January, February, March, April, May, June, July, August, September, October, November, December,  ]</pre></div></td></tr></tbody></table></div></details></td></tr><tr><td>Calendar</td><td><details class=\"dni-treeview\"><summary><span class=\"dni-code-hint\"><code>System.Globalization.GregorianCalendar</code></span></summary><div><table><thead><tr></tr></thead><tbody><tr><td>MinSupportedDateTime</td><td><span>0001-01-01 00:00:00Z</span></td></tr><tr><td>MaxSupportedDateTime</td><td><span>9999-12-31 23:59:59Z</span></td></tr><tr><td>AlgorithmType</td><td><span>SolarCalendar</span></td></tr><tr><td>CalendarType</td><td><span>Localized</span></td></tr><tr><td>Eras</td><td><div class=\"dni-plaintext\"><pre>[ 1 ]</pre></div></td></tr><tr><td>TwoDigitYearMax</td><td><div class=\"dni-plaintext\"><pre>2029</pre></div></td></tr><tr><td>IsReadOnly</td><td><div class=\"dni-plaintext\"><pre>True</pre></div></td></tr></tbody></table></div></details></td></tr><tr><td>OptionalCalendars</td><td><table><thead><tr><th><i>index</i></th><th>value</th></tr></thead><tbody><tr><td>0</td><td><details class=\"dni-treeview\"><summary><span class=\"dni-code-hint\"><code>System.Globalization.GregorianCalendar</code></span></summary><div><table><thead><tr></tr></thead><tbody><tr><td>MinSupportedDateTime</td><td><span>0001-01-01 00:00:00Z</span></td></tr><tr><td>MaxSupportedDateTime</td><td><span>9999-12-31 23:59:59Z</span></td></tr><tr><td>AlgorithmType</td><td><span>SolarCalendar</span></td></tr><tr><td>CalendarType</td><td><span>Localized</span></td></tr><tr><td>Eras</td><td><div class=\"dni-plaintext\"><pre>[ 1 ]</pre></div></td></tr><tr><td>TwoDigitYearMax</td><td><div class=\"dni-plaintext\"><pre>2029</pre></div></td></tr><tr><td>IsReadOnly</td><td><div class=\"dni-plaintext\"><pre>False</pre></div></td></tr></tbody></table></div></details></td></tr></tbody></table></td></tr><tr><td>UseUserOverride</td><td><div class=\"dni-plaintext\"><pre>False</pre></div></td></tr><tr><td>IsReadOnly</td><td><div class=\"dni-plaintext\"><pre>True</pre></div></td></tr></tbody></table></div></details></td></tr><tr><td>LCID</td><td><div class=\"dni-plaintext\"><pre>9</pre></div></td></tr><tr><td>KeyboardLayoutId</td><td><div class=\"dni-plaintext\"><pre>9</pre></div></td></tr><tr><td>Name</td><td><div class=\"dni-plaintext\"><pre>en</pre></div></td></tr><tr><td>IetfLanguageTag</td><td><div class=\"dni-plaintext\"><pre>en</pre></div></td></tr><tr><td>DisplayName</td><td><div class=\"dni-plaintext\"><pre>English</pre></div></td></tr><tr><td>NativeName</td><td><div class=\"dni-plaintext\"><pre>English</pre></div></td></tr><tr><td>EnglishName</td><td><div class=\"dni-plaintext\"><pre>English</pre></div></td></tr><tr><td>TwoLetterISOLanguageName</td><td><div class=\"dni-plaintext\"><pre>en</pre></div></td></tr><tr><td>ThreeLetterISOLanguageName</td><td><div class=\"dni-plaintext\"><pre>eng</pre></div></td></tr><tr><td>ThreeLetterWindowsLanguageName</td><td><div class=\"dni-plaintext\"><pre>ENU</pre></div></td></tr><tr><td>CompareInfo</td><td><details class=\"dni-treeview\"><summary><span class=\"dni-code-hint\"><code>CompareInfo - en</code></span></summary><div><table><thead><tr></tr></thead><tbody><tr><td>Name</td><td><div class=\"dni-plaintext\"><pre>en</pre></div></td></tr><tr><td>Version</td><td><details class=\"dni-treeview\"><summary><span class=\"dni-code-hint\"><code>System.Globalization.SortVersion</code></span></summary><div><table><thead><tr></tr></thead><tbody><tr><td>FullVersion</td><td><div class=\"dni-plaintext\"><pre>26777</pre></div></td></tr><tr><td>SortId</td><td><div class=\"dni-plaintext\"><pre>00006899-0000-0000-0000-000000000009</pre></div></td></tr></tbody></table></div></details></td></tr><tr><td>LCID</td><td><div class=\"dni-plaintext\"><pre>9</pre></div></td></tr></tbody></table></div></details></td></tr><tr><td>TextInfo</td><td><details class=\"dni-treeview\"><summary><span class=\"dni-code-hint\"><code>TextInfo - en</code></span></summary><div><table><thead><tr></tr></thead><tbody><tr><td>ANSICodePage</td><td><div class=\"dni-plaintext\"><pre>1252</pre></div></td></tr><tr><td>OEMCodePage</td><td><div class=\"dni-plaintext\"><pre>437</pre></div></td></tr><tr><td>MacCodePage</td><td><div class=\"dni-plaintext\"><pre>10000</pre></div></td></tr><tr><td>EBCDICCodePage</td><td><div class=\"dni-plaintext\"><pre>37</pre></div></td></tr><tr><td>LCID</td><td><div class=\"dni-plaintext\"><pre>9</pre></div></td></tr><tr><td>CultureName</td><td><div class=\"dni-plaintext\"><pre>en</pre></div></td></tr><tr><td>IsReadOnly</td><td><div class=\"dni-plaintext\"><pre>False</pre></div></td></tr><tr><td>ListSeparator</td><td><div class=\"dni-plaintext\"><pre>,</pre></div></td></tr><tr><td>IsRightToLeft</td><td><div class=\"dni-plaintext\"><pre>False</pre></div></td></tr></tbody></table></div></details></td></tr><tr><td>IsNeutralCulture</td><td><div class=\"dni-plaintext\"><pre>True</pre></div></td></tr><tr><td>CultureTypes</td><td><span>NeutralCultures, InstalledWin32Cultures</span></td></tr><tr><td>NumberFormat</td><td><details class=\"dni-treeview\"><summary><span class=\"dni-code-hint\"><code>System.Globalization.NumberFormatInfo</code></span></summary><div><table><thead><tr></tr></thead><tbody><tr><td>CurrencyDecimalDigits</td><td><div class=\"dni-plaintext\"><pre>2</pre></div></td></tr><tr><td>CurrencyDecimalSeparator</td><td><div class=\"dni-plaintext\"><pre>.</pre></div></td></tr><tr><td>IsReadOnly</td><td><div class=\"dni-plaintext\"><pre>False</pre></div></td></tr><tr><td>CurrencyGroupSizes</td><td><div class=\"dni-plaintext\"><pre>[ 3 ]</pre></div></td></tr><tr><td>NumberGroupSizes</td><td><div class=\"dni-plaintext\"><pre>[ 3 ]</pre></div></td></tr><tr><td>PercentGroupSizes</td><td><div class=\"dni-plaintext\"><pre>[ 3 ]</pre></div></td></tr><tr><td>CurrencyGroupSeparator</td><td><div class=\"dni-plaintext\"><pre>,</pre></div></td></tr><tr><td>CurrencySymbol</td><td><div class=\"dni-plaintext\"><pre>&#164;</pre></div></td></tr><tr><td>NaNSymbol</td><td><div class=\"dni-plaintext\"><pre>NaN</pre></div></td></tr><tr><td>CurrencyNegativePattern</td><td><div class=\"dni-plaintext\"><pre>1</pre></div></td></tr><tr><td>NumberNegativePattern</td><td><div class=\"dni-plaintext\"><pre>1</pre></div></td></tr><tr><td>PercentPositivePattern</td><td><div class=\"dni-plaintext\"><pre>1</pre></div></td></tr><tr><td>PercentNegativePattern</td><td><div class=\"dni-plaintext\"><pre>1</pre></div></td></tr><tr><td>NegativeInfinitySymbol</td><td><div class=\"dni-plaintext\"><pre>-∞</pre></div></td></tr><tr><td>NegativeSign</td><td><div class=\"dni-plaintext\"><pre>-</pre></div></td></tr><tr><td>NumberDecimalDigits</td><td><div class=\"dni-plaintext\"><pre>3</pre></div></td></tr><tr><td>NumberDecimalSeparator</td><td><div class=\"dni-plaintext\"><pre>.</pre></div></td></tr><tr><td>NumberGroupSeparator</td><td><div class=\"dni-plaintext\"><pre>,</pre></div></td></tr><tr><td>CurrencyPositivePattern</td><td><div class=\"dni-plaintext\"><pre>0</pre></div></td></tr><tr><td>PositiveInfinitySymbol</td><td><div class=\"dni-plaintext\"><pre>∞</pre></div></td></tr><tr><td>PositiveSign</td><td><div class=\"dni-plaintext\"><pre>+</pre></div></td></tr><tr><td>PercentDecimalDigits</td><td><div class=\"dni-plaintext\"><pre>3</pre></div></td></tr><tr><td>PercentDecimalSeparator</td><td><div class=\"dni-plaintext\"><pre>.</pre></div></td></tr><tr><td>PercentGroupSeparator</td><td><div class=\"dni-plaintext\"><pre>,</pre></div></td></tr><tr><td>PercentSymbol</td><td><div class=\"dni-plaintext\"><pre>%</pre></div></td></tr><tr><td>PerMilleSymbol</td><td><div class=\"dni-plaintext\"><pre>‰</pre></div></td></tr><tr><td>NativeDigits</td><td><div class=\"dni-plaintext\"><pre>[ 0, 1, 2, 3, 4, 5, 6, 7, 8, 9 ]</pre></div></td></tr><tr><td>DigitSubstitution</td><td><span>None</span></td></tr></tbody></table></div></details></td></tr><tr><td>DateTimeFormat</td><td><details class=\"dni-treeview\"><summary><span class=\"dni-code-hint\"><code>System.Globalization.DateTimeFormatInfo</code></span></summary><div><table><thead><tr></tr></thead><tbody><tr><td>AMDesignator</td><td><div class=\"dni-plaintext\"><pre>AM</pre></div></td></tr><tr><td>Calendar</td><td><details class=\"dni-treeview\"><summary><span class=\"dni-code-hint\"><code>System.Globalization.GregorianCalendar</code></span></summary><div><table><thead><tr></tr></thead><tbody><tr><td>MinSupportedDateTime</td><td><span>0001-01-01 00:00:00Z</span></td></tr><tr><td>MaxSupportedDateTime</td><td><span>9999-12-31 23:59:59Z</span></td></tr><tr><td>AlgorithmType</td><td><span>SolarCalendar</span></td></tr><tr><td>CalendarType</td><td><span>Localized</span></td></tr><tr><td>Eras</td><td><div class=\"dni-plaintext\"><pre>[ 1 ]</pre></div></td></tr><tr><td>TwoDigitYearMax</td><td><div class=\"dni-plaintext\"><pre>2029</pre></div></td></tr><tr><td>IsReadOnly</td><td><div class=\"dni-plaintext\"><pre>False</pre></div></td></tr></tbody></table></div></details></td></tr><tr><td>DateSeparator</td><td><div class=\"dni-plaintext\"><pre>/</pre></div></td></tr><tr><td>FirstDayOfWeek</td><td><span>Sunday</span></td></tr><tr><td>CalendarWeekRule</td><td><span>FirstDay</span></td></tr><tr><td>FullDateTimePattern</td><td><div class=\"dni-plaintext\"><pre>dddd, MMMM d, yyyy h:mm:ss tt</pre></div></td></tr><tr><td>LongDatePattern</td><td><div class=\"dni-plaintext\"><pre>dddd, MMMM d, yyyy</pre></div></td></tr><tr><td>LongTimePattern</td><td><div class=\"dni-plaintext\"><pre>h:mm:ss tt</pre></div></td></tr><tr><td>MonthDayPattern</td><td><div class=\"dni-plaintext\"><pre>MMMM d</pre></div></td></tr><tr><td>PMDesignator</td><td><div class=\"dni-plaintext\"><pre>PM</pre></div></td></tr><tr><td>RFC1123Pattern</td><td><div class=\"dni-plaintext\"><pre>ddd, dd MMM yyyy HH&#39;:&#39;mm&#39;:&#39;ss &#39;GMT&#39;</pre></div></td></tr><tr><td>ShortDatePattern</td><td><div class=\"dni-plaintext\"><pre>M/d/yyyy</pre></div></td></tr><tr><td>ShortTimePattern</td><td><div class=\"dni-plaintext\"><pre>h:mm tt</pre></div></td></tr><tr><td>SortableDateTimePattern</td><td><div class=\"dni-plaintext\"><pre>yyyy&#39;-&#39;MM&#39;-&#39;dd&#39;T&#39;HH&#39;:&#39;mm&#39;:&#39;ss</pre></div></td></tr><tr><td>TimeSeparator</td><td><div class=\"dni-plaintext\"><pre>:</pre></div></td></tr><tr><td>UniversalSortableDateTimePattern</td><td><div class=\"dni-plaintext\"><pre>yyyy&#39;-&#39;MM&#39;-&#39;dd HH&#39;:&#39;mm&#39;:&#39;ss&#39;Z&#39;</pre></div></td></tr><tr><td>YearMonthPattern</td><td><div class=\"dni-plaintext\"><pre>MMMM yyyy</pre></div></td></tr><tr><td>AbbreviatedDayNames</td><td><div class=\"dni-plaintext\"><pre>[ Sun, Mon, Tue, Wed, Thu, Fri, Sat ]</pre></div></td></tr><tr><td>ShortestDayNames</td><td><div class=\"dni-plaintext\"><pre>[ S, M, T, W, T, F, S ]</pre></div></td></tr><tr><td>DayNames</td><td><div class=\"dni-plaintext\"><pre>[ Sunday, Monday, Tuesday, Wednesday, Thursday, Friday, Saturday ]</pre></div></td></tr><tr><td>AbbreviatedMonthNames</td><td><div class=\"dni-plaintext\"><pre>[ Jan, Feb, Mar, Apr, May, Jun, Jul, Aug, Sep, Oct, Nov, Dec,  ]</pre></div></td></tr><tr><td>MonthNames</td><td><div class=\"dni-plaintext\"><pre>[ January, February, March, April, May, June, July, August, September, October, November, December,  ]</pre></div></td></tr><tr><td>IsReadOnly</td><td><div class=\"dni-plaintext\"><pre>False</pre></div></td></tr><tr><td>NativeCalendarName</td><td><div class=\"dni-plaintext\"><pre>Gregorian Calendar</pre></div></td></tr><tr><td>AbbreviatedMonthGenitiveNames</td><td><div class=\"dni-plaintext\"><pre>[ Jan, Feb, Mar, Apr, May, Jun, Jul, Aug, Sep, Oct, Nov, Dec,  ]</pre></div></td></tr><tr><td>MonthGenitiveNames</td><td><div class=\"dni-plaintext\"><pre>[ January, February, March, April, May, June, July, August, September, October, November, December,  ]</pre></div></td></tr></tbody></table></div></details></td></tr><tr><td>Calendar</td><td><details class=\"dni-treeview\"><summary><span class=\"dni-code-hint\"><code>System.Globalization.GregorianCalendar</code></span></summary><div><table><thead><tr></tr></thead><tbody><tr><td>MinSupportedDateTime</td><td><span>0001-01-01 00:00:00Z</span></td></tr><tr><td>MaxSupportedDateTime</td><td><span>9999-12-31 23:59:59Z</span></td></tr><tr><td>AlgorithmType</td><td><span>SolarCalendar</span></td></tr><tr><td>CalendarType</td><td><span>Localized</span></td></tr><tr><td>Eras</td><td><div class=\"dni-plaintext\"><pre>[ 1 ]</pre></div></td></tr><tr><td>TwoDigitYearMax</td><td><div class=\"dni-plaintext\"><pre>2029</pre></div></td></tr><tr><td>IsReadOnly</td><td><div class=\"dni-plaintext\"><pre>False</pre></div></td></tr></tbody></table></div></details></td></tr><tr><td>OptionalCalendars</td><td><table><thead><tr><th><i>index</i></th><th>value</th></tr></thead><tbody><tr><td>0</td><td><details class=\"dni-treeview\"><summary><span class=\"dni-code-hint\"><code>System.Globalization.GregorianCalendar</code></span></summary><div><table><thead><tr></tr></thead><tbody><tr><td>MinSupportedDateTime</td><td><span>0001-01-01 00:00:00Z</span></td></tr><tr><td>MaxSupportedDateTime</td><td><span>9999-12-31 23:59:59Z</span></td></tr><tr><td>AlgorithmType</td><td><span>SolarCalendar</span></td></tr><tr><td>CalendarType</td><td><span>Localized</span></td></tr><tr><td>Eras</td><td><div class=\"dni-plaintext\"><pre>[ 1 ]</pre></div></td></tr><tr><td>TwoDigitYearMax</td><td><div class=\"dni-plaintext\"><pre>2029</pre></div></td></tr><tr><td>IsReadOnly</td><td><div class=\"dni-plaintext\"><pre>False</pre></div></td></tr></tbody></table></div></details></td></tr></tbody></table></td></tr><tr><td>UseUserOverride</td><td><div class=\"dni-plaintext\"><pre>True</pre></div></td></tr><tr><td>IsReadOnly</td><td><div class=\"dni-plaintext\"><pre>False</pre></div></td></tr></tbody></table></div></details></td></tr><tr><td>Variables</td><td><table><thead><tr><th><i>key</i></th><th>value</th></tr></thead><tbody><tr><td><div class=\"dni-plaintext\"><pre>INPUT</pre></div></td><td><div class=\"dni-plaintext\"><pre>\n",
       "With .NET Interactive, you can write and execute code in multiple languages, including C# Script, F#, PowerShell, Python, and SQL. You can also create rich visualizations such as diagrams, flowcharts, interactive visualizations, and HTML visualizations using mermaid language, javascript, and HTML kernels. Additionally, you can extend the capabilities of .NET Interactive with custom magic commands using these languages.</pre></div></td></tr></tbody></table></td></tr><tr><td>Skills</td><td><details class=\"dni-treeview\"><summary><span class=\"dni-code-hint\"><code>Microsoft.SemanticKernel.SkillDefinition.SkillCollection</code></span></summary><div><table><thead><tr></tr></thead><tbody></tbody></table></div></details></td></tr><tr><td>LoggerFactory</td><td><details class=\"dni-treeview\"><summary><span class=\"dni-code-hint\"><code>Microsoft.Extensions.Logging.LoggerFactory</code></span></summary><div><table><thead><tr></tr></thead><tbody></tbody></table></div></details></td></tr><tr><td>ErrorOccurred</td><td><div class=\"dni-plaintext\"><pre>False</pre></div></td></tr><tr><td>LastException</td><td><div class=\"dni-plaintext\"><pre>&lt;null&gt;</pre></div></td></tr><tr><td>Log</td><td><details class=\"dni-treeview\"><summary><span class=\"dni-code-hint\"><code>Microsoft.Extensions.Logging.Logger`1[Microsoft.SemanticKernel.Orchestration.SKContext]</code></span></summary><div><table><thead><tr></tr></thead><tbody></tbody></table></div></details></td></tr><tr><td>CancellationToken</td><td><details class=\"dni-treeview\"><summary><span class=\"dni-code-hint\"><code>System.Threading.CancellationToken</code></span></summary><div><table><thead><tr></tr></thead><tbody><tr><td>IsCancellationRequested</td><td><div class=\"dni-plaintext\"><pre>False</pre></div></td></tr><tr><td>CanBeCanceled</td><td><div class=\"dni-plaintext\"><pre>False</pre></div></td></tr><tr><td>WaitHandle</td><td><details class=\"dni-treeview\"><summary><span class=\"dni-code-hint\"><code>System.Threading.ManualResetEvent</code></span></summary><div><table><thead><tr></tr></thead><tbody><tr><td>Handle</td><td><div class=\"dni-plaintext\"><pre>3284</pre></div></td></tr><tr><td>SafeWaitHandle</td><td><details class=\"dni-treeview\"><summary><span class=\"dni-code-hint\"><code>Microsoft.Win32.SafeHandles.SafeWaitHandle</code></span></summary><div><table><thead><tr></tr></thead><tbody><tr><td>IsInvalid</td><td><div class=\"dni-plaintext\"><pre>False</pre></div></td></tr><tr><td>IsClosed</td><td><div class=\"dni-plaintext\"><pre>False</pre></div></td></tr></tbody></table></div></details></td></tr></tbody></table></div></details></td></tr></tbody></table></div></details></td></tr><tr><td>Memory</td><td><details class=\"dni-treeview\"><summary><span class=\"dni-code-hint\"><code>System.InvalidOperationException: Memory no longer passed through SKContext. Instead, initialize your skill class with the memory provider it needs.\\r\\n   at Microsoft.SemanticKernel.Orchestration.SKContext.get_Memory()\\r\\n   at lambda_method420(Closure, SKContext)\\r\\n   at Microsoft.DotNet.Interact...</code></span></summary><div><table><thead><tr></tr></thead><tbody><tr><td>TargetSite</td><td><details class=\"dni-treeview\"><summary><span class=\"dni-code-hint\"><code>Microsoft.SemanticKernel.Memory.ISemanticTextMemory get_Memory()</code></span></summary><div><table><thead><tr></tr></thead><tbody><tr><td>Name</td><td><div class=\"dni-plaintext\"><pre>get_Memory</pre></div></td></tr><tr><td>DeclaringType</td><td><span><a href=\"https://docs.microsoft.com/dotnet/api/microsoft.semantickernel.orchestration.skcontext?view=net-7.0\">Microsoft.SemanticKernel.Orchestration.SKContext</a></span></td></tr><tr><td>ReflectedType</td><td><span><a href=\"https://docs.microsoft.com/dotnet/api/microsoft.semantickernel.orchestration.skcontext?view=net-7.0\">Microsoft.SemanticKernel.Orchestration.SKContext</a></span></td></tr><tr><td>MemberType</td><td><span>Method</span></td></tr><tr><td>MetadataToken</td><td><div class=\"dni-plaintext\"><pre>100663585</pre></div></td></tr><tr><td>Module</td><td><details class=\"dni-treeview\"><summary><span class=\"dni-code-hint\"><code>Microsoft.SemanticKernel.Abstractions.dll</code></span></summary><div><table><thead><tr></tr></thead><tbody><tr><td>MDStreamVersion</td><td><div class=\"dni-plaintext\"><pre>131072</pre></div></td></tr><tr><td>FullyQualifiedName</td><td><div class=\"dni-plaintext\"><pre>C:\\Users\\dicolomb\\.nuget\\packages\\microsoft.semantickernel.abstractions\\0.21.230828.2-preview\\lib\\netstandard2.0\\Microsoft.SemanticKernel.Abstractions.dll</pre></div></td></tr><tr><td>ModuleVersionId</td><td><div class=\"dni-plaintext\"><pre>f9615d6c-17d4-4d20-ba96-14e20c568e22</pre></div></td></tr><tr><td>MetadataToken</td><td><div class=\"dni-plaintext\"><pre>1</pre></div></td></tr><tr><td>ScopeName</td><td><div class=\"dni-plaintext\"><pre>Microsoft.SemanticKernel.Abstractions.dll</pre></div></td></tr><tr><td>Name</td><td><div class=\"dni-plaintext\"><pre>Microsoft.SemanticKernel.Abstractions.dll</pre></div></td></tr><tr><td>Assembly</td><td><details class=\"dni-treeview\"><summary><span class=\"dni-code-hint\"><code>Microsoft.SemanticKernel.Abstractions, Version=0.21.0.0, Culture=neutral, PublicKeyToken=f300afd708cefcd3</code></span></summary><div><table><thead><tr></tr></thead><tbody><tr><td>CodeBase</td><td><div class=\"dni-plaintext\"><pre>file:///C:/Users/dicolomb/.nuget/packages/microsoft.semantickernel.abstractions/0.21.230828.2-preview/lib/netstandard2.0/Microsoft.SemanticKernel.Abstractions.dll</pre></div></td></tr><tr><td>FullName</td><td><div class=\"dni-plaintext\"><pre>Microsoft.SemanticKernel.Abstractions, Version=0.21.0.0, Culture=neutral, PublicKeyToken=f300afd708cefcd3</pre></div></td></tr><tr><td>EntryPoint</td><td><div class=\"dni-plaintext\"><pre>&lt;null&gt;</pre></div></td></tr><tr><td>DefinedTypes</td><td><table><thead><tr><th><i>index</i></th><th>value</th></tr></thead><tbody><tr><td>0</td><td>Microsoft.CodeAnalysis.EmbeddedAttribute</td></tr><tr><td>1</td><td>System.Runtime.CompilerServices.IsReadOnlyAttribute</td></tr><tr><td>2</td><td>System.Runtime.CompilerServices.IsUnmanagedAttribute</td></tr><tr><td>3</td><td>System.Runtime.CompilerServices.NullableAttribute</td></tr><tr><td>4</td><td>System.Runtime.CompilerServices.NullableContextAttribute</td></tr><tr><td>5</td><td>HttpClientProvider</td></tr><tr><td>6</td><td>NonDisposableHttpClientHandler</td></tr><tr><td>7</td><td>System.ExceptionExtensions</td></tr><tr><td>8</td><td>System.EnvExtensions</td></tr><tr><td>9</td><td>System.Linq.AsyncEnumerable</td></tr><tr><td>10</td><td>System.Diagnostics.CodeAnalysis.AllowNullAttribute</td></tr><tr><td>11</td><td>System.Diagnostics.CodeAnalysis.DisallowNullAttribute</td></tr><tr><td>12</td><td>System.Diagnostics.CodeAnalysis.MaybeNullAttribute</td></tr><tr><td>13</td><td>System.Diagnostics.CodeAnalysis.NotNullAttribute</td></tr><tr><td>14</td><td>System.Diagnostics.CodeAnalysis.MaybeNullWhenAttribute</td></tr><tr><td>15</td><td>System.Diagnostics.CodeAnalysis.NotNullWhenAttribute</td></tr><tr><td>16</td><td>System.Diagnostics.CodeAnalysis.NotNullIfNotNullAttribute</td></tr><tr><td>17</td><td>System.Diagnostics.CodeAnalysis.DoesNotReturnAttribute</td></tr><tr><td>18</td><td>System.Diagnostics.CodeAnalysis.DoesNotReturnIfAttribute</td></tr><tr><td>19</td><td>System.Diagnostics.CodeAnalysis.MemberNotNullAttribute</td></tr><tr><td colspan=\"2\"><i>(100 more)</i></td></tr></tbody></table></td></tr><tr><td>IsCollectible</td><td><div class=\"dni-plaintext\"><pre>False</pre></div></td></tr><tr><td>ManifestModule</td><td><details class=\"dni-treeview\"><summary><span class=\"dni-code-hint\"><code>Microsoft.SemanticKernel.Abstractions.dll</code></span></summary><div><table><thead><tr></tr></thead><tbody><tr><td>MDStreamVersion</td><td>131072</td></tr><tr><td>FullyQualifiedName</td><td>C:\\Users\\dicolomb\\.nuget\\packages\\microsoft.semantickernel.abstractions\\0.21.230828.2-preview\\lib\\netstandard2.0\\Microsoft.SemanticKernel.Abstractions.dll</td></tr><tr><td>ModuleVersionId</td><td>f9615d6c-17d4-4d20-ba96-14e20c568e22</td></tr><tr><td>MetadataToken</td><td>1</td></tr><tr><td>ScopeName</td><td>Microsoft.SemanticKernel.Abstractions.dll</td></tr><tr><td>Name</td><td>Microsoft.SemanticKernel.Abstractions.dll</td></tr><tr><td>Assembly</td><td>Microsoft.SemanticKernel.Abstractions, Version=0.21.0.0, Culture=neutral, PublicKeyToken=f300afd708cefcd3</td></tr><tr><td>ModuleHandle</td><td>System.ModuleHandle</td></tr><tr><td>CustomAttributes</td><td>[  ]</td></tr></tbody></table></div></details></td></tr><tr><td>ReflectionOnly</td><td><div class=\"dni-plaintext\"><pre>False</pre></div></td></tr><tr><td>Location</td><td><div class=\"dni-plaintext\"><pre>C:\\Users\\dicolomb\\.nuget\\packages\\microsoft.semantickernel.abstractions\\0.21.230828.2-preview\\lib\\netstandard2.0\\Microsoft.SemanticKernel.Abstractions.dll</pre></div></td></tr><tr><td>ImageRuntimeVersion</td><td><div class=\"dni-plaintext\"><pre>v4.0.30319</pre></div></td></tr><tr><td>GlobalAssemblyCache</td><td><div class=\"dni-plaintext\"><pre>False</pre></div></td></tr><tr><td>HostContext</td><td><div class=\"dni-plaintext\"><pre>0</pre></div></td></tr><tr><td>IsDynamic</td><td><div class=\"dni-plaintext\"><pre>False</pre></div></td></tr><tr><td>ExportedTypes</td><td><table><thead><tr><th><i>index</i></th><th>value</th></tr></thead><tbody><tr><td>0</td><td>Microsoft.SemanticKernel.ChatCompletionServiceExtensions</td></tr><tr><td>1</td><td>Microsoft.SemanticKernel.TextEmbeddingServiceExtensions</td></tr><tr><td>2</td><td>Microsoft.SemanticKernel.ImageGenerationServiceExtensions</td></tr><tr><td>3</td><td>Microsoft.SemanticKernel.TextCompletionServiceExtensions</td></tr><tr><td>4</td><td>Microsoft.SemanticKernel.IKernel</td></tr><tr><td>5</td><td>Microsoft.SemanticKernel.KernelConfig</td></tr><tr><td>6</td><td>Microsoft.SemanticKernel.TemplateEngine.IPromptTemplateEngine</td></tr><tr><td>7</td><td>Microsoft.SemanticKernel.TemplateEngine.Blocks.Block</td></tr><tr><td>8</td><td>Microsoft.SemanticKernel.SkillDefinition.FunctionsView</td></tr><tr><td>9</td><td>Microsoft.SemanticKernel.SkillDefinition.FunctionView</td></tr><tr><td>10</td><td>Microsoft.SemanticKernel.SkillDefinition.IReadOnlySkillCollection</td></tr><tr><td>11</td><td>Microsoft.SemanticKernel.SkillDefinition.ISKFunction</td></tr><tr><td>12</td><td>Microsoft.SemanticKernel.SkillDefinition.ISkillCollection</td></tr><tr><td>13</td><td>Microsoft.SemanticKernel.SkillDefinition.ParameterView</td></tr><tr><td>14</td><td>Microsoft.SemanticKernel.SkillDefinition.ParameterViewType</td></tr><tr><td>15</td><td>Microsoft.SemanticKernel.SkillDefinition.SKFunctionAttribute</td></tr><tr><td>16</td><td>Microsoft.SemanticKernel.SkillDefinition.SKNameAttribute</td></tr><tr><td>17</td><td>Microsoft.SemanticKernel.SkillDefinition.SKParameterAttribute</td></tr><tr><td>18</td><td>Microsoft.SemanticKernel.Services.IAIService</td></tr><tr><td>19</td><td>Microsoft.SemanticKernel.Services.IAIServiceProvider</td></tr><tr><td colspan=\"2\"><i>(45 more)</i></td></tr></tbody></table></td></tr><tr><td>IsFullyTrusted</td><td><div class=\"dni-plaintext\"><pre>True</pre></div></td></tr><tr><td>CustomAttributes</td><td><table><thead><tr><th><i>index</i></th><th>value</th></tr></thead><tbody><tr><td>0</td><td>[System.Runtime.CompilerServices.ExtensionAttribute()]</td></tr><tr><td>1</td><td>[System.Runtime.CompilerServices.CompilationRelaxationsAttribute((Int32)8)]</td></tr><tr><td>2</td><td>[System.Runtime.CompilerServices.RuntimeCompatibilityAttribute(WrapNonExceptionThrows = True)]</td></tr><tr><td>3</td><td>[System.Diagnostics.DebuggableAttribute((System.Diagnostics.DebuggableAttribute+DebuggingModes)263)]</td></tr><tr><td>4</td><td>[System.Runtime.Versioning.TargetFrameworkAttribute(\".NETStandard,Version=v2.0\", FrameworkDisplayName = \"\")]</td></tr><tr><td>5</td><td>[System.CLSCompliantAttribute((Boolean)False)]</td></tr><tr><td>6</td><td>[System.Reflection.AssemblyCompanyAttribute(\"Microsoft\")]</td></tr><tr><td>7</td><td>[System.Reflection.AssemblyConfigurationAttribute(\"Publish\")]</td></tr><tr><td>8</td><td>[System.Reflection.AssemblyCopyrightAttribute(\"© Microsoft Corporation. All rights reserved.\")]</td></tr><tr><td>9</td><td>[System.Reflection.AssemblyDescriptionAttribute(\"Semantic Kernel interfaces and abstractions. This package is automatically installed by Semantic Kernel packages if needed.\")]</td></tr><tr><td>10</td><td>[System.Reflection.AssemblyFileVersionAttribute(\"0.21.0.0\")]</td></tr><tr><td>11</td><td>[System.Reflection.AssemblyInformationalVersionAttribute(\"0.21+3e12f1a78de7f40b58499072b5f38832d34d9f78\")]</td></tr><tr><td>12</td><td>[System.Reflection.AssemblyProductAttribute(\"Semantic Kernel\")]</td></tr><tr><td>13</td><td>[System.Reflection.AssemblyTitleAttribute(\"Microsoft.SemanticKernel.Abstractions\")]</td></tr><tr><td>14</td><td>[System.Reflection.AssemblyMetadataAttribute(\"RepositoryUrl\", \"https://github.com/microsoft/semantic-kernel\")]</td></tr><tr><td>15</td><td>[System.Runtime.CompilerServices.InternalsVisibleToAttribute(\"Microsoft.SemanticKernel.Core, PublicKey=002400000c80000014010000060200000024000052534131000800000100010085aad0bef0688d1b994a0d78e1fd29fc24ac34ed3d3ac3fb9b3d0c48386ba834aa880035060a8848b2d8adf58e670ed20914be3681a891c9c8c01eef2ab22872547c39be00af0e6c72485d7cfd1a51df8947d36ceba9989106b58abe79e6a3e71a01ed6bdc867012883e0b1a4d35b1b5eeed6df21e401bb0c22f2246ccb69979dc9e61eef262832ed0f2064853725a75485fa8a3efb7e027319c86dec03dc3b1bca2b5081bab52a627b9917450dfad534799e1c7af58683bdfa135f1518ff1ea60e90d7b993a6c87fd3dd93408e35d1296f9a7f9a97c5db56c0f3cc25ad11e9777f94d138b3cea53b9a8331c2e6dcb8d2ea94e18bf1163ff112a22dbd92d429a\")]</td></tr><tr><td>16</td><td>[System.Runtime.CompilerServices.InternalsVisibleToAttribute(\"SemanticKernel.UnitTests, PublicKey=002400000c80000014010000060200000024000052534131000800000100010085aad0bef0688d1b994a0d78e1fd29fc24ac34ed3d3ac3fb9b3d0c48386ba834aa880035060a8848b2d8adf58e670ed20914be3681a891c9c8c01eef2ab22872547c39be00af0e6c72485d7cfd1a51df8947d36ceba9989106b58abe79e6a3e71a01ed6bdc867012883e0b1a4d35b1b5eeed6df21e401bb0c22f2246ccb69979dc9e61eef262832ed0f2064853725a75485fa8a3efb7e027319c86dec03dc3b1bca2b5081bab52a627b9917450dfad534799e1c7af58683bdfa135f1518ff1ea60e90d7b993a6c87fd3dd93408e35d1296f9a7f9a97c5db56c0f3cc25ad11e9777f94d138b3cea53b9a8331c2e6dcb8d2ea94e18bf1163ff112a22dbd92d429a\")]</td></tr><tr><td>17</td><td>[System.Runtime.CompilerServices.InternalsVisibleToAttribute(\"Extensions.UnitTests, PublicKey=002400000c80000014010000060200000024000052534131000800000100010085aad0bef0688d1b994a0d78e1fd29fc24ac34ed3d3ac3fb9b3d0c48386ba834aa880035060a8848b2d8adf58e670ed20914be3681a891c9c8c01eef2ab22872547c39be00af0e6c72485d7cfd1a51df8947d36ceba9989106b58abe79e6a3e71a01ed6bdc867012883e0b1a4d35b1b5eeed6df21e401bb0c22f2246ccb69979dc9e61eef262832ed0f2064853725a75485fa8a3efb7e027319c86dec03dc3b1bca2b5081bab52a627b9917450dfad534799e1c7af58683bdfa135f1518ff1ea60e90d7b993a6c87fd3dd93408e35d1296f9a7f9a97c5db56c0f3cc25ad11e9777f94d138b3cea53b9a8331c2e6dcb8d2ea94e18bf1163ff112a22dbd92d429a\")]</td></tr><tr><td>18</td><td>[System.Runtime.CompilerServices.InternalsVisibleToAttribute(\"DynamicProxyGenAssembly2, PublicKey=002400000c80000014010000060200000024000052534131000800000100010085aad0bef0688d1b994a0d78e1fd29fc24ac34ed3d3ac3fb9b3d0c48386ba834aa880035060a8848b2d8adf58e670ed20914be3681a891c9c8c01eef2ab22872547c39be00af0e6c72485d7cfd1a51df8947d36ceba9989106b58abe79e6a3e71a01ed6bdc867012883e0b1a4d35b1b5eeed6df21e401bb0c22f2246ccb69979dc9e61eef262832ed0f2064853725a75485fa8a3efb7e027319c86dec03dc3b1bca2b5081bab52a627b9917450dfad534799e1c7af58683bdfa135f1518ff1ea60e90d7b993a6c87fd3dd93408e35d1296f9a7f9a97c5db56c0f3cc25ad11e9777f94d138b3cea53b9a8331c2e6dcb8d2ea94e18bf1163ff112a22dbd92d429a\")]</td></tr></tbody></table></td></tr><tr><td>EscapedCodeBase</td><td><div class=\"dni-plaintext\"><pre>file:///C:/Users/dicolomb/.nuget/packages/microsoft.semantickernel.abstractions/0.21.230828.2-preview/lib/netstandard2.0/Microsoft.SemanticKernel.Abstractions.dll</pre></div></td></tr><tr><td>Modules</td><td><table><thead><tr><th><i>index</i></th><th>value</th></tr></thead><tbody><tr><td>0</td><td>Microsoft.SemanticKernel.Abstractions.dll</td></tr></tbody></table></td></tr><tr><td>SecurityRuleSet</td><td><span>None</span></td></tr></tbody></table></div></details></td></tr><tr><td>ModuleHandle</td><td><details class=\"dni-treeview\"><summary><span class=\"dni-code-hint\"><code>System.ModuleHandle</code></span></summary><div><table><thead><tr></tr></thead><tbody><tr><td>MDStreamVersion</td><td><div class=\"dni-plaintext\"><pre>131072</pre></div></td></tr></tbody></table></div></details></td></tr><tr><td>CustomAttributes</td><td><i>(empty)</i></td></tr></tbody></table></div></details></td></tr><tr><td>IsSecurityCritical</td><td><div class=\"dni-plaintext\"><pre>True</pre></div></td></tr><tr><td>IsSecuritySafeCritical</td><td><div class=\"dni-plaintext\"><pre>False</pre></div></td></tr><tr><td>IsSecurityTransparent</td><td><div class=\"dni-plaintext\"><pre>False</pre></div></td></tr><tr><td>MethodHandle</td><td><details class=\"dni-treeview\"><summary><span class=\"dni-code-hint\"><code>System.RuntimeMethodHandle</code></span></summary><div><table><thead><tr></tr></thead><tbody><tr><td>Value</td><td><div class=\"dni-plaintext\"><pre>140717887080264</pre></div></td></tr></tbody></table></div></details></td></tr><tr><td>Attributes</td><td><span>PrivateScope, Public, HideBySig, SpecialName</span></td></tr><tr><td>CallingConvention</td><td><span>Standard, HasThis</span></td></tr><tr><td>ReturnType</td><td><span><a href=\"https://docs.microsoft.com/dotnet/api/microsoft.semantickernel.memory.isemantictextmemory?view=net-7.0\">Microsoft.SemanticKernel.Memory.ISemanticTextMemory</a></span></td></tr><tr><td>ReturnTypeCustomAttributes</td><td><details class=\"dni-treeview\"><summary><span class=\"dni-code-hint\"><code>Microsoft.SemanticKernel.Memory.ISemanticTextMemory</code></span></summary><div><table><thead><tr></tr></thead><tbody><tr><td>ParameterType</td><td><span><a href=\"https://docs.microsoft.com/dotnet/api/microsoft.semantickernel.memory.isemantictextmemory?view=net-7.0\">Microsoft.SemanticKernel.Memory.ISemanticTextMemory</a></span></td></tr><tr><td>Name</td><td><div class=\"dni-plaintext\"><pre>&lt;null&gt;</pre></div></td></tr><tr><td>HasDefaultValue</td><td><div class=\"dni-plaintext\"><pre>True</pre></div></td></tr><tr><td>DefaultValue</td><td><div class=\"dni-plaintext\"><pre>&lt;null&gt;</pre></div></td></tr><tr><td>RawDefaultValue</td><td><div class=\"dni-plaintext\"><pre>&lt;null&gt;</pre></div></td></tr><tr><td>MetadataToken</td><td><div class=\"dni-plaintext\"><pre>134217728</pre></div></td></tr><tr><td>Attributes</td><td><span>None</span></td></tr><tr><td>Member</td><td><details class=\"dni-treeview\"><summary><span class=\"dni-code-hint\"><code>Microsoft.SemanticKernel.Memory.ISemanticTextMemory get_Memory()</code></span></summary><div><table><thead><tr></tr></thead><tbody><tr><td>Name</td><td><div class=\"dni-plaintext\"><pre>get_Memory</pre></div></td></tr><tr><td>DeclaringType</td><td><span><a href=\"https://docs.microsoft.com/dotnet/api/microsoft.semantickernel.orchestration.skcontext?view=net-7.0\">Microsoft.SemanticKernel.Orchestration.SKContext</a></span></td></tr><tr><td>ReflectedType</td><td><span><a href=\"https://docs.microsoft.com/dotnet/api/microsoft.semantickernel.orchestration.skcontext?view=net-7.0\">Microsoft.SemanticKernel.Orchestration.SKContext</a></span></td></tr><tr><td>MemberType</td><td><span>Method</span></td></tr><tr><td>MetadataToken</td><td><div class=\"dni-plaintext\"><pre>100663585</pre></div></td></tr><tr><td>Module</td><td><details class=\"dni-treeview\"><summary><span class=\"dni-code-hint\"><code>Microsoft.SemanticKernel.Abstractions.dll</code></span></summary><div><table><thead><tr></tr></thead><tbody><tr><td>MDStreamVersion</td><td>131072</td></tr><tr><td>FullyQualifiedName</td><td>C:\\Users\\dicolomb\\.nuget\\packages\\microsoft.semantickernel.abstractions\\0.21.230828.2-preview\\lib\\netstandard2.0\\Microsoft.SemanticKernel.Abstractions.dll</td></tr><tr><td>ModuleVersionId</td><td>f9615d6c-17d4-4d20-ba96-14e20c568e22</td></tr><tr><td>MetadataToken</td><td>1</td></tr><tr><td>ScopeName</td><td>Microsoft.SemanticKernel.Abstractions.dll</td></tr><tr><td>Name</td><td>Microsoft.SemanticKernel.Abstractions.dll</td></tr><tr><td>Assembly</td><td>Microsoft.SemanticKernel.Abstractions, Version=0.21.0.0, Culture=neutral, PublicKeyToken=f300afd708cefcd3</td></tr><tr><td>ModuleHandle</td><td>System.ModuleHandle</td></tr><tr><td>CustomAttributes</td><td>[  ]</td></tr></tbody></table></div></details></td></tr><tr><td>IsSecurityCritical</td><td><div class=\"dni-plaintext\"><pre>True</pre></div></td></tr><tr><td>IsSecuritySafeCritical</td><td><div class=\"dni-plaintext\"><pre>False</pre></div></td></tr><tr><td>IsSecurityTransparent</td><td><div class=\"dni-plaintext\"><pre>False</pre></div></td></tr><tr><td>MethodHandle</td><td><details class=\"dni-treeview\"><summary><span class=\"dni-code-hint\"><code>System.RuntimeMethodHandle</code></span></summary><div><table><thead><tr></tr></thead><tbody><tr><td>Value</td><td>140717887080264</td></tr></tbody></table></div></details></td></tr><tr><td>Attributes</td><td><span>PrivateScope, Public, HideBySig, SpecialName</span></td></tr><tr><td>CallingConvention</td><td><span>Standard, HasThis</span></td></tr><tr><td>ReturnType</td><td><span><a href=\"https://docs.microsoft.com/dotnet/api/microsoft.semantickernel.memory.isemantictextmemory?view=net-7.0\">Microsoft.SemanticKernel.Memory.ISemanticTextMemory</a></span></td></tr><tr><td>ReturnTypeCustomAttributes</td><td><details class=\"dni-treeview\"><summary><span class=\"dni-code-hint\"><code>Microsoft.SemanticKernel.Memory.ISemanticTextMemory</code></span></summary><div><table><thead><tr></tr></thead><tbody><tr><td>ParameterType</td><td>Microsoft.SemanticKernel.Memory.ISemanticTextMemory</td></tr><tr><td>Name</td><td><div class=\"dni-plaintext\"><pre>&lt;null&gt;</pre></div></td></tr><tr><td>HasDefaultValue</td><td>True</td></tr><tr><td>DefaultValue</td><td><div class=\"dni-plaintext\"><pre>&lt;null&gt;</pre></div></td></tr><tr><td>RawDefaultValue</td><td><div class=\"dni-plaintext\"><pre>&lt;null&gt;</pre></div></td></tr><tr><td>MetadataToken</td><td>134217728</td></tr><tr><td>Attributes</td><td>None</td></tr><tr><td>Member</td><td>Microsoft.SemanticKernel.Memory.ISemanticTextMemory get_Memory()</td></tr><tr><td>Position</td><td>-1</td></tr><tr><td>IsIn</td><td>False</td></tr><tr><td>IsLcid</td><td>False</td></tr><tr><td>IsOptional</td><td>False</td></tr><tr><td>IsOut</td><td>False</td></tr><tr><td>IsRetval</td><td>False</td></tr><tr><td>CustomAttributes</td><td>[  ]</td></tr></tbody></table></div></details></td></tr><tr><td>ReturnParameter</td><td><details class=\"dni-treeview\"><summary><span class=\"dni-code-hint\"><code>Microsoft.SemanticKernel.Memory.ISemanticTextMemory</code></span></summary><div><table><thead><tr></tr></thead><tbody><tr><td>ParameterType</td><td>Microsoft.SemanticKernel.Memory.ISemanticTextMemory</td></tr><tr><td>Name</td><td><div class=\"dni-plaintext\"><pre>&lt;null&gt;</pre></div></td></tr><tr><td>HasDefaultValue</td><td>True</td></tr><tr><td>DefaultValue</td><td><div class=\"dni-plaintext\"><pre>&lt;null&gt;</pre></div></td></tr><tr><td>RawDefaultValue</td><td><div class=\"dni-plaintext\"><pre>&lt;null&gt;</pre></div></td></tr><tr><td>MetadataToken</td><td>134217728</td></tr><tr><td>Attributes</td><td>None</td></tr><tr><td>Member</td><td>Microsoft.SemanticKernel.Memory.ISemanticTextMemory get_Memory()</td></tr><tr><td>Position</td><td>-1</td></tr><tr><td>IsIn</td><td>False</td></tr><tr><td>IsLcid</td><td>False</td></tr><tr><td>IsOptional</td><td>False</td></tr><tr><td>IsOut</td><td>False</td></tr><tr><td>IsRetval</td><td>False</td></tr><tr><td>CustomAttributes</td><td>[  ]</td></tr></tbody></table></div></details></td></tr><tr><td>IsCollectible</td><td><div class=\"dni-plaintext\"><pre>False</pre></div></td></tr><tr><td>IsGenericMethod</td><td><div class=\"dni-plaintext\"><pre>False</pre></div></td></tr><tr><td>IsGenericMethodDefinition</td><td><div class=\"dni-plaintext\"><pre>False</pre></div></td></tr><tr><td>ContainsGenericParameters</td><td><div class=\"dni-plaintext\"><pre>False</pre></div></td></tr><tr><td>MethodImplementationFlags</td><td><span>IL</span></td></tr><tr><td>IsAbstract</td><td><div class=\"dni-plaintext\"><pre>False</pre></div></td></tr><tr><td>IsConstructor</td><td><div class=\"dni-plaintext\"><pre>False</pre></div></td></tr><tr><td>IsFinal</td><td><div class=\"dni-plaintext\"><pre>False</pre></div></td></tr><tr><td>IsHideBySig</td><td><div class=\"dni-plaintext\"><pre>True</pre></div></td></tr><tr><td>IsSpecialName</td><td><div class=\"dni-plaintext\"><pre>True</pre></div></td></tr><tr><td>IsStatic</td><td><div class=\"dni-plaintext\"><pre>False</pre></div></td></tr><tr><td>IsVirtual</td><td><div class=\"dni-plaintext\"><pre>False</pre></div></td></tr><tr><td>IsAssembly</td><td><div class=\"dni-plaintext\"><pre>False</pre></div></td></tr><tr><td>IsFamily</td><td><div class=\"dni-plaintext\"><pre>False</pre></div></td></tr><tr><td>IsFamilyAndAssembly</td><td><div class=\"dni-plaintext\"><pre>False</pre></div></td></tr><tr><td>IsFamilyOrAssembly</td><td><div class=\"dni-plaintext\"><pre>False</pre></div></td></tr><tr><td>IsPrivate</td><td><div class=\"dni-plaintext\"><pre>False</pre></div></td></tr><tr><td>IsPublic</td><td><div class=\"dni-plaintext\"><pre>True</pre></div></td></tr><tr><td>IsConstructedGenericMethod</td><td><div class=\"dni-plaintext\"><pre>False</pre></div></td></tr><tr><td>CustomAttributes</td><td><i>(empty)</i></td></tr></tbody></table></div></details></td></tr><tr><td>Position</td><td><div class=\"dni-plaintext\"><pre>-1</pre></div></td></tr><tr><td>IsIn</td><td><div class=\"dni-plaintext\"><pre>False</pre></div></td></tr><tr><td>IsLcid</td><td><div class=\"dni-plaintext\"><pre>False</pre></div></td></tr><tr><td>IsOptional</td><td><div class=\"dni-plaintext\"><pre>False</pre></div></td></tr><tr><td>IsOut</td><td><div class=\"dni-plaintext\"><pre>False</pre></div></td></tr><tr><td>IsRetval</td><td><div class=\"dni-plaintext\"><pre>False</pre></div></td></tr><tr><td>CustomAttributes</td><td><i>(empty)</i></td></tr></tbody></table></div></details></td></tr><tr><td>ReturnParameter</td><td><details class=\"dni-treeview\"><summary><span class=\"dni-code-hint\"><code>Microsoft.SemanticKernel.Memory.ISemanticTextMemory</code></span></summary><div><table><thead><tr></tr></thead><tbody><tr><td>ParameterType</td><td><span><a href=\"https://docs.microsoft.com/dotnet/api/microsoft.semantickernel.memory.isemantictextmemory?view=net-7.0\">Microsoft.SemanticKernel.Memory.ISemanticTextMemory</a></span></td></tr><tr><td>Name</td><td><div class=\"dni-plaintext\"><pre>&lt;null&gt;</pre></div></td></tr><tr><td>HasDefaultValue</td><td><div class=\"dni-plaintext\"><pre>True</pre></div></td></tr><tr><td>DefaultValue</td><td><div class=\"dni-plaintext\"><pre>&lt;null&gt;</pre></div></td></tr><tr><td>RawDefaultValue</td><td><div class=\"dni-plaintext\"><pre>&lt;null&gt;</pre></div></td></tr><tr><td>MetadataToken</td><td><div class=\"dni-plaintext\"><pre>134217728</pre></div></td></tr><tr><td>Attributes</td><td><span>None</span></td></tr><tr><td>Member</td><td><details class=\"dni-treeview\"><summary><span class=\"dni-code-hint\"><code>Microsoft.SemanticKernel.Memory.ISemanticTextMemory get_Memory()</code></span></summary><div><table><thead><tr></tr></thead><tbody><tr><td>Name</td><td><div class=\"dni-plaintext\"><pre>get_Memory</pre></div></td></tr><tr><td>DeclaringType</td><td><span><a href=\"https://docs.microsoft.com/dotnet/api/microsoft.semantickernel.orchestration.skcontext?view=net-7.0\">Microsoft.SemanticKernel.Orchestration.SKContext</a></span></td></tr><tr><td>ReflectedType</td><td><span><a href=\"https://docs.microsoft.com/dotnet/api/microsoft.semantickernel.orchestration.skcontext?view=net-7.0\">Microsoft.SemanticKernel.Orchestration.SKContext</a></span></td></tr><tr><td>MemberType</td><td><span>Method</span></td></tr><tr><td>MetadataToken</td><td><div class=\"dni-plaintext\"><pre>100663585</pre></div></td></tr><tr><td>Module</td><td><details class=\"dni-treeview\"><summary><span class=\"dni-code-hint\"><code>Microsoft.SemanticKernel.Abstractions.dll</code></span></summary><div><table><thead><tr></tr></thead><tbody><tr><td>MDStreamVersion</td><td>131072</td></tr><tr><td>FullyQualifiedName</td><td>C:\\Users\\dicolomb\\.nuget\\packages\\microsoft.semantickernel.abstractions\\0.21.230828.2-preview\\lib\\netstandard2.0\\Microsoft.SemanticKernel.Abstractions.dll</td></tr><tr><td>ModuleVersionId</td><td>f9615d6c-17d4-4d20-ba96-14e20c568e22</td></tr><tr><td>MetadataToken</td><td>1</td></tr><tr><td>ScopeName</td><td>Microsoft.SemanticKernel.Abstractions.dll</td></tr><tr><td>Name</td><td>Microsoft.SemanticKernel.Abstractions.dll</td></tr><tr><td>Assembly</td><td>Microsoft.SemanticKernel.Abstractions, Version=0.21.0.0, Culture=neutral, PublicKeyToken=f300afd708cefcd3</td></tr><tr><td>ModuleHandle</td><td>System.ModuleHandle</td></tr><tr><td>CustomAttributes</td><td>[  ]</td></tr></tbody></table></div></details></td></tr><tr><td>IsSecurityCritical</td><td><div class=\"dni-plaintext\"><pre>True</pre></div></td></tr><tr><td>IsSecuritySafeCritical</td><td><div class=\"dni-plaintext\"><pre>False</pre></div></td></tr><tr><td>IsSecurityTransparent</td><td><div class=\"dni-plaintext\"><pre>False</pre></div></td></tr><tr><td>MethodHandle</td><td><details class=\"dni-treeview\"><summary><span class=\"dni-code-hint\"><code>System.RuntimeMethodHandle</code></span></summary><div><table><thead><tr></tr></thead><tbody><tr><td>Value</td><td>140717887080264</td></tr></tbody></table></div></details></td></tr><tr><td>Attributes</td><td><span>PrivateScope, Public, HideBySig, SpecialName</span></td></tr><tr><td>CallingConvention</td><td><span>Standard, HasThis</span></td></tr><tr><td>ReturnType</td><td><span><a href=\"https://docs.microsoft.com/dotnet/api/microsoft.semantickernel.memory.isemantictextmemory?view=net-7.0\">Microsoft.SemanticKernel.Memory.ISemanticTextMemory</a></span></td></tr><tr><td>ReturnTypeCustomAttributes</td><td><details class=\"dni-treeview\"><summary><span class=\"dni-code-hint\"><code>Microsoft.SemanticKernel.Memory.ISemanticTextMemory</code></span></summary><div><table><thead><tr></tr></thead><tbody><tr><td>ParameterType</td><td>Microsoft.SemanticKernel.Memory.ISemanticTextMemory</td></tr><tr><td>Name</td><td><div class=\"dni-plaintext\"><pre>&lt;null&gt;</pre></div></td></tr><tr><td>HasDefaultValue</td><td>True</td></tr><tr><td>DefaultValue</td><td><div class=\"dni-plaintext\"><pre>&lt;null&gt;</pre></div></td></tr><tr><td>RawDefaultValue</td><td><div class=\"dni-plaintext\"><pre>&lt;null&gt;</pre></div></td></tr><tr><td>MetadataToken</td><td>134217728</td></tr><tr><td>Attributes</td><td>None</td></tr><tr><td>Member</td><td>Microsoft.SemanticKernel.Memory.ISemanticTextMemory get_Memory()</td></tr><tr><td>Position</td><td>-1</td></tr><tr><td>IsIn</td><td>False</td></tr><tr><td>IsLcid</td><td>False</td></tr><tr><td>IsOptional</td><td>False</td></tr><tr><td>IsOut</td><td>False</td></tr><tr><td>IsRetval</td><td>False</td></tr><tr><td>CustomAttributes</td><td>[  ]</td></tr></tbody></table></div></details></td></tr><tr><td>ReturnParameter</td><td><details class=\"dni-treeview\"><summary><span class=\"dni-code-hint\"><code>Microsoft.SemanticKernel.Memory.ISemanticTextMemory</code></span></summary><div><table><thead><tr></tr></thead><tbody><tr><td>ParameterType</td><td>Microsoft.SemanticKernel.Memory.ISemanticTextMemory</td></tr><tr><td>Name</td><td><div class=\"dni-plaintext\"><pre>&lt;null&gt;</pre></div></td></tr><tr><td>HasDefaultValue</td><td>True</td></tr><tr><td>DefaultValue</td><td><div class=\"dni-plaintext\"><pre>&lt;null&gt;</pre></div></td></tr><tr><td>RawDefaultValue</td><td><div class=\"dni-plaintext\"><pre>&lt;null&gt;</pre></div></td></tr><tr><td>MetadataToken</td><td>134217728</td></tr><tr><td>Attributes</td><td>None</td></tr><tr><td>Member</td><td>Microsoft.SemanticKernel.Memory.ISemanticTextMemory get_Memory()</td></tr><tr><td>Position</td><td>-1</td></tr><tr><td>IsIn</td><td>False</td></tr><tr><td>IsLcid</td><td>False</td></tr><tr><td>IsOptional</td><td>False</td></tr><tr><td>IsOut</td><td>False</td></tr><tr><td>IsRetval</td><td>False</td></tr><tr><td>CustomAttributes</td><td>[  ]</td></tr></tbody></table></div></details></td></tr><tr><td>IsCollectible</td><td><div class=\"dni-plaintext\"><pre>False</pre></div></td></tr><tr><td>IsGenericMethod</td><td><div class=\"dni-plaintext\"><pre>False</pre></div></td></tr><tr><td>IsGenericMethodDefinition</td><td><div class=\"dni-plaintext\"><pre>False</pre></div></td></tr><tr><td>ContainsGenericParameters</td><td><div class=\"dni-plaintext\"><pre>False</pre></div></td></tr><tr><td>MethodImplementationFlags</td><td><span>IL</span></td></tr><tr><td>IsAbstract</td><td><div class=\"dni-plaintext\"><pre>False</pre></div></td></tr><tr><td>IsConstructor</td><td><div class=\"dni-plaintext\"><pre>False</pre></div></td></tr><tr><td>IsFinal</td><td><div class=\"dni-plaintext\"><pre>False</pre></div></td></tr><tr><td>IsHideBySig</td><td><div class=\"dni-plaintext\"><pre>True</pre></div></td></tr><tr><td>IsSpecialName</td><td><div class=\"dni-plaintext\"><pre>True</pre></div></td></tr><tr><td>IsStatic</td><td><div class=\"dni-plaintext\"><pre>False</pre></div></td></tr><tr><td>IsVirtual</td><td><div class=\"dni-plaintext\"><pre>False</pre></div></td></tr><tr><td>IsAssembly</td><td><div class=\"dni-plaintext\"><pre>False</pre></div></td></tr><tr><td>IsFamily</td><td><div class=\"dni-plaintext\"><pre>False</pre></div></td></tr><tr><td>IsFamilyAndAssembly</td><td><div class=\"dni-plaintext\"><pre>False</pre></div></td></tr><tr><td>IsFamilyOrAssembly</td><td><div class=\"dni-plaintext\"><pre>False</pre></div></td></tr><tr><td>IsPrivate</td><td><div class=\"dni-plaintext\"><pre>False</pre></div></td></tr><tr><td>IsPublic</td><td><div class=\"dni-plaintext\"><pre>True</pre></div></td></tr><tr><td>IsConstructedGenericMethod</td><td><div class=\"dni-plaintext\"><pre>False</pre></div></td></tr><tr><td>CustomAttributes</td><td><i>(empty)</i></td></tr></tbody></table></div></details></td></tr><tr><td>Position</td><td><div class=\"dni-plaintext\"><pre>-1</pre></div></td></tr><tr><td>IsIn</td><td><div class=\"dni-plaintext\"><pre>False</pre></div></td></tr><tr><td>IsLcid</td><td><div class=\"dni-plaintext\"><pre>False</pre></div></td></tr><tr><td>IsOptional</td><td><div class=\"dni-plaintext\"><pre>False</pre></div></td></tr><tr><td>IsOut</td><td><div class=\"dni-plaintext\"><pre>False</pre></div></td></tr><tr><td>IsRetval</td><td><div class=\"dni-plaintext\"><pre>False</pre></div></td></tr><tr><td>CustomAttributes</td><td><i>(empty)</i></td></tr></tbody></table></div></details></td></tr><tr><td>IsCollectible</td><td><div class=\"dni-plaintext\"><pre>False</pre></div></td></tr><tr><td>IsGenericMethod</td><td><div class=\"dni-plaintext\"><pre>False</pre></div></td></tr><tr><td>IsGenericMethodDefinition</td><td><div class=\"dni-plaintext\"><pre>False</pre></div></td></tr><tr><td>ContainsGenericParameters</td><td><div class=\"dni-plaintext\"><pre>False</pre></div></td></tr><tr><td>MethodImplementationFlags</td><td><span>IL</span></td></tr><tr><td>IsAbstract</td><td><div class=\"dni-plaintext\"><pre>False</pre></div></td></tr><tr><td>IsConstructor</td><td><div class=\"dni-plaintext\"><pre>False</pre></div></td></tr><tr><td>IsFinal</td><td><div class=\"dni-plaintext\"><pre>False</pre></div></td></tr><tr><td>IsHideBySig</td><td><div class=\"dni-plaintext\"><pre>True</pre></div></td></tr><tr><td>IsSpecialName</td><td><div class=\"dni-plaintext\"><pre>True</pre></div></td></tr><tr><td>IsStatic</td><td><div class=\"dni-plaintext\"><pre>False</pre></div></td></tr><tr><td>IsVirtual</td><td><div class=\"dni-plaintext\"><pre>False</pre></div></td></tr><tr><td>IsAssembly</td><td><div class=\"dni-plaintext\"><pre>False</pre></div></td></tr><tr><td>IsFamily</td><td><div class=\"dni-plaintext\"><pre>False</pre></div></td></tr><tr><td>IsFamilyAndAssembly</td><td><div class=\"dni-plaintext\"><pre>False</pre></div></td></tr><tr><td>IsFamilyOrAssembly</td><td><div class=\"dni-plaintext\"><pre>False</pre></div></td></tr><tr><td>IsPrivate</td><td><div class=\"dni-plaintext\"><pre>False</pre></div></td></tr><tr><td>IsPublic</td><td><div class=\"dni-plaintext\"><pre>True</pre></div></td></tr><tr><td>IsConstructedGenericMethod</td><td><div class=\"dni-plaintext\"><pre>False</pre></div></td></tr><tr><td>CustomAttributes</td><td><i>(empty)</i></td></tr></tbody></table></div></details></td></tr><tr><td>Message</td><td><div class=\"dni-plaintext\"><pre>Memory no longer passed through SKContext. Instead, initialize your skill class with the memory provider it needs.</pre></div></td></tr><tr><td>Data</td><td><i>(empty)</i></td></tr><tr><td>InnerException</td><td><div class=\"dni-plaintext\"><pre>&lt;null&gt;</pre></div></td></tr><tr><td>HelpLink</td><td><div class=\"dni-plaintext\"><pre>&lt;null&gt;</pre></div></td></tr><tr><td>Source</td><td><div class=\"dni-plaintext\"><pre>Microsoft.SemanticKernel.Abstractions</pre></div></td></tr><tr><td>HResult</td><td><div class=\"dni-plaintext\"><pre>-2146233079</pre></div></td></tr><tr><td>StackTrace</td><td><div class=\"dni-plaintext\"><pre>   at Microsoft.SemanticKernel.Orchestration.SKContext.get_Memory()\r\n",
       "   at lambda_method420(Closure, SKContext)\r\n",
       "   at Microsoft.DotNet.Interactive.Formatting.MemberAccessor`1.GetValueOrException(T instance) in D:\\a\\_work\\1\\s\\src\\Microsoft.DotNet.Interactive.Formatting\\MemberAccessor{T}.cs:line 58</pre></div></td></tr></tbody></table></div></details></td></tr><tr><td>LastErrorDescription</td><td><div class=\"dni-plaintext\"><pre>&lt;null&gt;</pre></div></td></tr></tbody></table></div></details><style>\r\n",
       ".dni-code-hint {\r\n",
       "    font-style: italic;\r\n",
       "    overflow: hidden;\r\n",
       "    white-space: nowrap;\r\n",
       "}\r\n",
       ".dni-treeview {\r\n",
       "    white-space: nowrap;\r\n",
       "}\r\n",
       ".dni-treeview td {\r\n",
       "    vertical-align: top;\r\n",
       "    text-align: start;\r\n",
       "}\r\n",
       "details.dni-treeview {\r\n",
       "    padding-left: 1em;\r\n",
       "}\r\n",
       "table td {\r\n",
       "    text-align: start;\r\n",
       "}\r\n",
       "table tr { \r\n",
       "    vertical-align: top; \r\n",
       "    margin: 0em 0px;\r\n",
       "}\r\n",
       "table tr td pre \r\n",
       "{ \r\n",
       "    vertical-align: top !important; \r\n",
       "    margin: 0em 0px !important;\r\n",
       "} \r\n",
       "table th {\r\n",
       "    text-align: start;\r\n",
       "}\r\n",
       "</style>"
      ],
      "text/plain": [
       "\n",
       "With .NET Interactive, you can write and execute code in multiple languages, including C# Script, F#, PowerShell, Python, and SQL. You can also create rich visualizations such as diagrams, flowcharts, interactive visualizations, and HTML visualizations using mermaid language, javascript, and HTML kernels. Additionally, you can extend the capabilities of .NET Interactive with custom magic commands using these languages."
      ]
     },
     "metadata": {},
     "output_type": "display_data"
    }
   ],
   "source": [
    "what can i do with .NET Interactive?"
   ]
  },
  {
   "cell_type": "code",
   "execution_count": 13,
   "id": "81d6a152",
   "metadata": {
    "dotnet_interactive": {
     "language": "textCompletion"
    },
    "polyglot_notebook": {
     "kernelName": "textCompletion"
    }
   },
   "outputs": [
    {
     "data": {
      "text/html": [
       "<details open=\"open\" class=\"dni-treeview\"><summary><span class=\"dni-code-hint\"><code>Yes, .NET Interactive supports the Jupyter protocol, allowing users to write and execute code in languages such as Python, R, and Julia.</code></span></summary><div><table><thead><tr></tr></thead><tbody><tr><td>Result</td><td><div class=\"dni-plaintext\"><pre>\n",
       "Yes, .NET Interactive supports the Jupyter protocol, allowing users to write and execute code in languages such as Python, R, and Julia.</pre></div></td></tr><tr><td>ModelResults</td><td><table><thead><tr><th><i>index</i></th><th>value</th></tr></thead><tbody><tr><td>0</td><td><details class=\"dni-treeview\"><summary><span class=\"dni-code-hint\"><code>Microsoft.SemanticKernel.Orchestration.ModelResult</code></span></summary><div><table><thead><tr></tr></thead><tbody></tbody></table></div></details></td></tr></tbody></table></td></tr><tr><td>Culture</td><td><details class=\"dni-treeview\"><summary><span class=\"dni-code-hint\"><code>en</code></span></summary><div><table><thead><tr></tr></thead><tbody><tr><td>Parent</td><td><details class=\"dni-treeview\"><summary><span class=\"dni-code-hint\"><code></code></span></summary><div><table><thead><tr></tr></thead><tbody><tr><td>Parent</td><td><details class=\"dni-treeview\"><summary><span class=\"dni-code-hint\"><code></code></span></summary><div><table><thead><tr></tr></thead><tbody><tr><td>Parent</td><td><details class=\"dni-treeview\"><summary><span class=\"dni-code-hint\"><code></code></span></summary><div><table><thead><tr></tr></thead><tbody><tr><td>Parent</td><td><details class=\"dni-treeview\"><summary><span class=\"dni-code-hint\"><code></code></span></summary><div><table><thead><tr></tr></thead><tbody><tr><td>Parent</td><td></td></tr><tr><td>LCID</td><td>127</td></tr><tr><td>KeyboardLayoutId</td><td>127</td></tr><tr><td>Name</td><td></td></tr><tr><td>IetfLanguageTag</td><td></td></tr><tr><td>DisplayName</td><td>Invariant Language (Invariant Country)</td></tr><tr><td>NativeName</td><td>Invariant Language (Invariant Country)</td></tr><tr><td>EnglishName</td><td>Invariant Language (Invariant Country)</td></tr><tr><td>TwoLetterISOLanguageName</td><td>iv</td></tr><tr><td>ThreeLetterISOLanguageName</td><td>ivl</td></tr><tr><td>ThreeLetterWindowsLanguageName</td><td>IVL</td></tr><tr><td>CompareInfo</td><td>CompareInfo - </td></tr><tr><td>TextInfo</td><td>TextInfo - </td></tr><tr><td>IsNeutralCulture</td><td>False</td></tr><tr><td>CultureTypes</td><td>SpecificCultures, InstalledWin32Cultures</td></tr><tr><td>NumberFormat</td><td>System.Globalization.NumberFormatInfo</td></tr><tr><td>DateTimeFormat</td><td>System.Globalization.DateTimeFormatInfo</td></tr><tr><td>Calendar</td><td>System.Globalization.GregorianCalendar</td></tr><tr><td>OptionalCalendars</td><td>[ System.Globalization.GregorianCalendar ]</td></tr><tr><td>UseUserOverride</td><td>False</td></tr><tr><td>IsReadOnly</td><td>True</td></tr></tbody></table></div></details></td></tr><tr><td>LCID</td><td><div class=\"dni-plaintext\"><pre>127</pre></div></td></tr><tr><td>KeyboardLayoutId</td><td><div class=\"dni-plaintext\"><pre>127</pre></div></td></tr><tr><td>Name</td><td><div class=\"dni-plaintext\"><pre></pre></div></td></tr><tr><td>IetfLanguageTag</td><td><div class=\"dni-plaintext\"><pre></pre></div></td></tr><tr><td>DisplayName</td><td><div class=\"dni-plaintext\"><pre>Invariant Language (Invariant Country)</pre></div></td></tr><tr><td>NativeName</td><td><div class=\"dni-plaintext\"><pre>Invariant Language (Invariant Country)</pre></div></td></tr><tr><td>EnglishName</td><td><div class=\"dni-plaintext\"><pre>Invariant Language (Invariant Country)</pre></div></td></tr><tr><td>TwoLetterISOLanguageName</td><td><div class=\"dni-plaintext\"><pre>iv</pre></div></td></tr><tr><td>ThreeLetterISOLanguageName</td><td><div class=\"dni-plaintext\"><pre>ivl</pre></div></td></tr><tr><td>ThreeLetterWindowsLanguageName</td><td><div class=\"dni-plaintext\"><pre>IVL</pre></div></td></tr><tr><td>CompareInfo</td><td><details class=\"dni-treeview\"><summary><span class=\"dni-code-hint\"><code>CompareInfo -</code></span></summary><div><table><thead><tr></tr></thead><tbody><tr><td>Name</td><td></td></tr><tr><td>Version</td><td>System.Globalization.SortVersion</td></tr><tr><td>LCID</td><td>127</td></tr></tbody></table></div></details></td></tr><tr><td>TextInfo</td><td><details class=\"dni-treeview\"><summary><span class=\"dni-code-hint\"><code>TextInfo -</code></span></summary><div><table><thead><tr></tr></thead><tbody><tr><td>ANSICodePage</td><td>1252</td></tr><tr><td>OEMCodePage</td><td>437</td></tr><tr><td>MacCodePage</td><td>10000</td></tr><tr><td>EBCDICCodePage</td><td>37</td></tr><tr><td>LCID</td><td>127</td></tr><tr><td>CultureName</td><td></td></tr><tr><td>IsReadOnly</td><td>True</td></tr><tr><td>ListSeparator</td><td>,</td></tr><tr><td>IsRightToLeft</td><td>False</td></tr></tbody></table></div></details></td></tr><tr><td>IsNeutralCulture</td><td><div class=\"dni-plaintext\"><pre>False</pre></div></td></tr><tr><td>CultureTypes</td><td><span>SpecificCultures, InstalledWin32Cultures</span></td></tr><tr><td>NumberFormat</td><td><details class=\"dni-treeview\"><summary><span class=\"dni-code-hint\"><code>System.Globalization.NumberFormatInfo</code></span></summary><div><table><thead><tr></tr></thead><tbody><tr><td>CurrencyDecimalDigits</td><td>2</td></tr><tr><td>CurrencyDecimalSeparator</td><td>.</td></tr><tr><td>IsReadOnly</td><td>True</td></tr><tr><td>CurrencyGroupSizes</td><td>[ 3 ]</td></tr><tr><td>NumberGroupSizes</td><td>[ 3 ]</td></tr><tr><td>PercentGroupSizes</td><td>[ 3 ]</td></tr><tr><td>CurrencyGroupSeparator</td><td>,</td></tr><tr><td>CurrencySymbol</td><td>¤</td></tr><tr><td>NaNSymbol</td><td>NaN</td></tr><tr><td>CurrencyNegativePattern</td><td>0</td></tr><tr><td>NumberNegativePattern</td><td>1</td></tr><tr><td>PercentPositivePattern</td><td>0</td></tr><tr><td>PercentNegativePattern</td><td>0</td></tr><tr><td>NegativeInfinitySymbol</td><td>-Infinity</td></tr><tr><td>NegativeSign</td><td>-</td></tr><tr><td>NumberDecimalDigits</td><td>2</td></tr><tr><td>NumberDecimalSeparator</td><td>.</td></tr><tr><td>NumberGroupSeparator</td><td>,</td></tr><tr><td>CurrencyPositivePattern</td><td>0</td></tr><tr><td>PositiveInfinitySymbol</td><td>Infinity</td></tr><tr><td>PositiveSign</td><td>+</td></tr><tr><td>PercentDecimalDigits</td><td>2</td></tr><tr><td>PercentDecimalSeparator</td><td>.</td></tr><tr><td>PercentGroupSeparator</td><td>,</td></tr><tr><td>PercentSymbol</td><td>%</td></tr><tr><td>PerMilleSymbol</td><td>‰</td></tr><tr><td>NativeDigits</td><td>[ 0, 1, 2, 3, 4, 5, 6, 7, 8, 9 ]</td></tr><tr><td>DigitSubstitution</td><td>None</td></tr></tbody></table></div></details></td></tr><tr><td>DateTimeFormat</td><td><details class=\"dni-treeview\"><summary><span class=\"dni-code-hint\"><code>System.Globalization.DateTimeFormatInfo</code></span></summary><div><table><thead><tr></tr></thead><tbody><tr><td>AMDesignator</td><td>AM</td></tr><tr><td>Calendar</td><td>System.Globalization.GregorianCalendar</td></tr><tr><td>DateSeparator</td><td>/</td></tr><tr><td>FirstDayOfWeek</td><td>Sunday</td></tr><tr><td>CalendarWeekRule</td><td>FirstDay</td></tr><tr><td>FullDateTimePattern</td><td>dddd, dd MMMM yyyy HH:mm:ss</td></tr><tr><td>LongDatePattern</td><td>dddd, dd MMMM yyyy</td></tr><tr><td>LongTimePattern</td><td>HH:mm:ss</td></tr><tr><td>MonthDayPattern</td><td>MMMM dd</td></tr><tr><td>PMDesignator</td><td>PM</td></tr><tr><td>RFC1123Pattern</td><td>ddd, dd MMM yyyy HH':'mm':'ss 'GMT'</td></tr><tr><td>ShortDatePattern</td><td>MM/dd/yyyy</td></tr><tr><td>ShortTimePattern</td><td>HH:mm</td></tr><tr><td>SortableDateTimePattern</td><td>yyyy'-'MM'-'dd'T'HH':'mm':'ss</td></tr><tr><td>TimeSeparator</td><td>:</td></tr><tr><td>UniversalSortableDateTimePattern</td><td>yyyy'-'MM'-'dd HH':'mm':'ss'Z'</td></tr><tr><td>YearMonthPattern</td><td>yyyy MMMM</td></tr><tr><td>AbbreviatedDayNames</td><td>[ Sun, Mon, Tue, Wed, Thu, Fri, Sat ]</td></tr><tr><td>ShortestDayNames</td><td>[ Su, Mo, Tu, We, Th, Fr, Sa ]</td></tr><tr><td>DayNames</td><td>[ Sunday, Monday, Tuesday, Wednesday, Thursday, Friday, Saturday ]</td></tr><tr><td>AbbreviatedMonthNames</td><td>[ Jan, Feb, Mar, Apr, May, Jun, Jul, Aug, Sep, Oct, Nov, Dec,  ]</td></tr><tr><td>MonthNames</td><td>[ January, February, March, April, May, June, July, August, September, October, November, December,  ]</td></tr><tr><td>IsReadOnly</td><td>True</td></tr><tr><td>NativeCalendarName</td><td>Gregorian Calendar</td></tr><tr><td>AbbreviatedMonthGenitiveNames</td><td>[ Jan, Feb, Mar, Apr, May, Jun, Jul, Aug, Sep, Oct, Nov, Dec,  ]</td></tr><tr><td>MonthGenitiveNames</td><td>[ January, February, March, April, May, June, July, August, September, October, November, December,  ]</td></tr></tbody></table></div></details></td></tr><tr><td>Calendar</td><td><details class=\"dni-treeview\"><summary><span class=\"dni-code-hint\"><code>System.Globalization.GregorianCalendar</code></span></summary><div><table><thead><tr></tr></thead><tbody><tr><td>MinSupportedDateTime</td><td>1/1/0001 12:00:00 AM</td></tr><tr><td>MaxSupportedDateTime</td><td>12/31/9999 11:59:59 PM</td></tr><tr><td>AlgorithmType</td><td>SolarCalendar</td></tr><tr><td>CalendarType</td><td>Localized</td></tr><tr><td>Eras</td><td>[ 1 ]</td></tr><tr><td>TwoDigitYearMax</td><td>2029</td></tr><tr><td>IsReadOnly</td><td>True</td></tr></tbody></table></div></details></td></tr><tr><td>OptionalCalendars</td><td><table><thead><tr><th><i>index</i></th><th>value</th></tr></thead><tbody><tr><td>0</td><td>System.Globalization.GregorianCalendar</td></tr></tbody></table></td></tr><tr><td>UseUserOverride</td><td><div class=\"dni-plaintext\"><pre>False</pre></div></td></tr><tr><td>IsReadOnly</td><td><div class=\"dni-plaintext\"><pre>True</pre></div></td></tr></tbody></table></div></details></td></tr><tr><td>LCID</td><td><div class=\"dni-plaintext\"><pre>127</pre></div></td></tr><tr><td>KeyboardLayoutId</td><td><div class=\"dni-plaintext\"><pre>127</pre></div></td></tr><tr><td>Name</td><td><div class=\"dni-plaintext\"><pre></pre></div></td></tr><tr><td>IetfLanguageTag</td><td><div class=\"dni-plaintext\"><pre></pre></div></td></tr><tr><td>DisplayName</td><td><div class=\"dni-plaintext\"><pre>Invariant Language (Invariant Country)</pre></div></td></tr><tr><td>NativeName</td><td><div class=\"dni-plaintext\"><pre>Invariant Language (Invariant Country)</pre></div></td></tr><tr><td>EnglishName</td><td><div class=\"dni-plaintext\"><pre>Invariant Language (Invariant Country)</pre></div></td></tr><tr><td>TwoLetterISOLanguageName</td><td><div class=\"dni-plaintext\"><pre>iv</pre></div></td></tr><tr><td>ThreeLetterISOLanguageName</td><td><div class=\"dni-plaintext\"><pre>ivl</pre></div></td></tr><tr><td>ThreeLetterWindowsLanguageName</td><td><div class=\"dni-plaintext\"><pre>IVL</pre></div></td></tr><tr><td>CompareInfo</td><td><details class=\"dni-treeview\"><summary><span class=\"dni-code-hint\"><code>CompareInfo -</code></span></summary><div><table><thead><tr></tr></thead><tbody><tr><td>Name</td><td><div class=\"dni-plaintext\"><pre></pre></div></td></tr><tr><td>Version</td><td><details class=\"dni-treeview\"><summary><span class=\"dni-code-hint\"><code>System.Globalization.SortVersion</code></span></summary><div><table><thead><tr></tr></thead><tbody><tr><td>FullVersion</td><td>26777</td></tr><tr><td>SortId</td><td>00006899-0000-0000-0000-00000000007f</td></tr></tbody></table></div></details></td></tr><tr><td>LCID</td><td><div class=\"dni-plaintext\"><pre>127</pre></div></td></tr></tbody></table></div></details></td></tr><tr><td>TextInfo</td><td><details class=\"dni-treeview\"><summary><span class=\"dni-code-hint\"><code>TextInfo -</code></span></summary><div><table><thead><tr></tr></thead><tbody><tr><td>ANSICodePage</td><td><div class=\"dni-plaintext\"><pre>1252</pre></div></td></tr><tr><td>OEMCodePage</td><td><div class=\"dni-plaintext\"><pre>437</pre></div></td></tr><tr><td>MacCodePage</td><td><div class=\"dni-plaintext\"><pre>10000</pre></div></td></tr><tr><td>EBCDICCodePage</td><td><div class=\"dni-plaintext\"><pre>37</pre></div></td></tr><tr><td>LCID</td><td><div class=\"dni-plaintext\"><pre>127</pre></div></td></tr><tr><td>CultureName</td><td><div class=\"dni-plaintext\"><pre></pre></div></td></tr><tr><td>IsReadOnly</td><td><div class=\"dni-plaintext\"><pre>True</pre></div></td></tr><tr><td>ListSeparator</td><td><div class=\"dni-plaintext\"><pre>,</pre></div></td></tr><tr><td>IsRightToLeft</td><td><div class=\"dni-plaintext\"><pre>False</pre></div></td></tr></tbody></table></div></details></td></tr><tr><td>IsNeutralCulture</td><td><div class=\"dni-plaintext\"><pre>False</pre></div></td></tr><tr><td>CultureTypes</td><td><span>SpecificCultures, InstalledWin32Cultures</span></td></tr><tr><td>NumberFormat</td><td><details class=\"dni-treeview\"><summary><span class=\"dni-code-hint\"><code>System.Globalization.NumberFormatInfo</code></span></summary><div><table><thead><tr></tr></thead><tbody><tr><td>CurrencyDecimalDigits</td><td><div class=\"dni-plaintext\"><pre>2</pre></div></td></tr><tr><td>CurrencyDecimalSeparator</td><td><div class=\"dni-plaintext\"><pre>.</pre></div></td></tr><tr><td>IsReadOnly</td><td><div class=\"dni-plaintext\"><pre>True</pre></div></td></tr><tr><td>CurrencyGroupSizes</td><td><div class=\"dni-plaintext\"><pre>[ 3 ]</pre></div></td></tr><tr><td>NumberGroupSizes</td><td><div class=\"dni-plaintext\"><pre>[ 3 ]</pre></div></td></tr><tr><td>PercentGroupSizes</td><td><div class=\"dni-plaintext\"><pre>[ 3 ]</pre></div></td></tr><tr><td>CurrencyGroupSeparator</td><td><div class=\"dni-plaintext\"><pre>,</pre></div></td></tr><tr><td>CurrencySymbol</td><td><div class=\"dni-plaintext\"><pre>&#164;</pre></div></td></tr><tr><td>NaNSymbol</td><td><div class=\"dni-plaintext\"><pre>NaN</pre></div></td></tr><tr><td>CurrencyNegativePattern</td><td><div class=\"dni-plaintext\"><pre>0</pre></div></td></tr><tr><td>NumberNegativePattern</td><td><div class=\"dni-plaintext\"><pre>1</pre></div></td></tr><tr><td>PercentPositivePattern</td><td><div class=\"dni-plaintext\"><pre>0</pre></div></td></tr><tr><td>PercentNegativePattern</td><td><div class=\"dni-plaintext\"><pre>0</pre></div></td></tr><tr><td>NegativeInfinitySymbol</td><td><div class=\"dni-plaintext\"><pre>-Infinity</pre></div></td></tr><tr><td>NegativeSign</td><td><div class=\"dni-plaintext\"><pre>-</pre></div></td></tr><tr><td>NumberDecimalDigits</td><td><div class=\"dni-plaintext\"><pre>2</pre></div></td></tr><tr><td>NumberDecimalSeparator</td><td><div class=\"dni-plaintext\"><pre>.</pre></div></td></tr><tr><td>NumberGroupSeparator</td><td><div class=\"dni-plaintext\"><pre>,</pre></div></td></tr><tr><td>CurrencyPositivePattern</td><td><div class=\"dni-plaintext\"><pre>0</pre></div></td></tr><tr><td>PositiveInfinitySymbol</td><td><div class=\"dni-plaintext\"><pre>Infinity</pre></div></td></tr><tr><td>PositiveSign</td><td><div class=\"dni-plaintext\"><pre>+</pre></div></td></tr><tr><td>PercentDecimalDigits</td><td><div class=\"dni-plaintext\"><pre>2</pre></div></td></tr><tr><td>PercentDecimalSeparator</td><td><div class=\"dni-plaintext\"><pre>.</pre></div></td></tr><tr><td>PercentGroupSeparator</td><td><div class=\"dni-plaintext\"><pre>,</pre></div></td></tr><tr><td>PercentSymbol</td><td><div class=\"dni-plaintext\"><pre>%</pre></div></td></tr><tr><td>PerMilleSymbol</td><td><div class=\"dni-plaintext\"><pre>‰</pre></div></td></tr><tr><td>NativeDigits</td><td><div class=\"dni-plaintext\"><pre>[ 0, 1, 2, 3, 4, 5, 6, 7, 8, 9 ]</pre></div></td></tr><tr><td>DigitSubstitution</td><td><span>None</span></td></tr></tbody></table></div></details></td></tr><tr><td>DateTimeFormat</td><td><details class=\"dni-treeview\"><summary><span class=\"dni-code-hint\"><code>System.Globalization.DateTimeFormatInfo</code></span></summary><div><table><thead><tr></tr></thead><tbody><tr><td>AMDesignator</td><td><div class=\"dni-plaintext\"><pre>AM</pre></div></td></tr><tr><td>Calendar</td><td><details class=\"dni-treeview\"><summary><span class=\"dni-code-hint\"><code>System.Globalization.GregorianCalendar</code></span></summary><div><table><thead><tr></tr></thead><tbody><tr><td>MinSupportedDateTime</td><td>1/1/0001 12:00:00 AM</td></tr><tr><td>MaxSupportedDateTime</td><td>12/31/9999 11:59:59 PM</td></tr><tr><td>AlgorithmType</td><td>SolarCalendar</td></tr><tr><td>CalendarType</td><td>Localized</td></tr><tr><td>Eras</td><td>[ 1 ]</td></tr><tr><td>TwoDigitYearMax</td><td>2029</td></tr><tr><td>IsReadOnly</td><td>True</td></tr></tbody></table></div></details></td></tr><tr><td>DateSeparator</td><td><div class=\"dni-plaintext\"><pre>/</pre></div></td></tr><tr><td>FirstDayOfWeek</td><td><span>Sunday</span></td></tr><tr><td>CalendarWeekRule</td><td><span>FirstDay</span></td></tr><tr><td>FullDateTimePattern</td><td><div class=\"dni-plaintext\"><pre>dddd, dd MMMM yyyy HH:mm:ss</pre></div></td></tr><tr><td>LongDatePattern</td><td><div class=\"dni-plaintext\"><pre>dddd, dd MMMM yyyy</pre></div></td></tr><tr><td>LongTimePattern</td><td><div class=\"dni-plaintext\"><pre>HH:mm:ss</pre></div></td></tr><tr><td>MonthDayPattern</td><td><div class=\"dni-plaintext\"><pre>MMMM dd</pre></div></td></tr><tr><td>PMDesignator</td><td><div class=\"dni-plaintext\"><pre>PM</pre></div></td></tr><tr><td>RFC1123Pattern</td><td><div class=\"dni-plaintext\"><pre>ddd, dd MMM yyyy HH&#39;:&#39;mm&#39;:&#39;ss &#39;GMT&#39;</pre></div></td></tr><tr><td>ShortDatePattern</td><td><div class=\"dni-plaintext\"><pre>MM/dd/yyyy</pre></div></td></tr><tr><td>ShortTimePattern</td><td><div class=\"dni-plaintext\"><pre>HH:mm</pre></div></td></tr><tr><td>SortableDateTimePattern</td><td><div class=\"dni-plaintext\"><pre>yyyy&#39;-&#39;MM&#39;-&#39;dd&#39;T&#39;HH&#39;:&#39;mm&#39;:&#39;ss</pre></div></td></tr><tr><td>TimeSeparator</td><td><div class=\"dni-plaintext\"><pre>:</pre></div></td></tr><tr><td>UniversalSortableDateTimePattern</td><td><div class=\"dni-plaintext\"><pre>yyyy&#39;-&#39;MM&#39;-&#39;dd HH&#39;:&#39;mm&#39;:&#39;ss&#39;Z&#39;</pre></div></td></tr><tr><td>YearMonthPattern</td><td><div class=\"dni-plaintext\"><pre>yyyy MMMM</pre></div></td></tr><tr><td>AbbreviatedDayNames</td><td><div class=\"dni-plaintext\"><pre>[ Sun, Mon, Tue, Wed, Thu, Fri, Sat ]</pre></div></td></tr><tr><td>ShortestDayNames</td><td><div class=\"dni-plaintext\"><pre>[ Su, Mo, Tu, We, Th, Fr, Sa ]</pre></div></td></tr><tr><td>DayNames</td><td><div class=\"dni-plaintext\"><pre>[ Sunday, Monday, Tuesday, Wednesday, Thursday, Friday, Saturday ]</pre></div></td></tr><tr><td>AbbreviatedMonthNames</td><td><div class=\"dni-plaintext\"><pre>[ Jan, Feb, Mar, Apr, May, Jun, Jul, Aug, Sep, Oct, Nov, Dec,  ]</pre></div></td></tr><tr><td>MonthNames</td><td><div class=\"dni-plaintext\"><pre>[ January, February, March, April, May, June, July, August, September, October, November, December,  ]</pre></div></td></tr><tr><td>IsReadOnly</td><td><div class=\"dni-plaintext\"><pre>True</pre></div></td></tr><tr><td>NativeCalendarName</td><td><div class=\"dni-plaintext\"><pre>Gregorian Calendar</pre></div></td></tr><tr><td>AbbreviatedMonthGenitiveNames</td><td><div class=\"dni-plaintext\"><pre>[ Jan, Feb, Mar, Apr, May, Jun, Jul, Aug, Sep, Oct, Nov, Dec,  ]</pre></div></td></tr><tr><td>MonthGenitiveNames</td><td><div class=\"dni-plaintext\"><pre>[ January, February, March, April, May, June, July, August, September, October, November, December,  ]</pre></div></td></tr></tbody></table></div></details></td></tr><tr><td>Calendar</td><td><details class=\"dni-treeview\"><summary><span class=\"dni-code-hint\"><code>System.Globalization.GregorianCalendar</code></span></summary><div><table><thead><tr></tr></thead><tbody><tr><td>MinSupportedDateTime</td><td><span>0001-01-01 00:00:00Z</span></td></tr><tr><td>MaxSupportedDateTime</td><td><span>9999-12-31 23:59:59Z</span></td></tr><tr><td>AlgorithmType</td><td><span>SolarCalendar</span></td></tr><tr><td>CalendarType</td><td><span>Localized</span></td></tr><tr><td>Eras</td><td><div class=\"dni-plaintext\"><pre>[ 1 ]</pre></div></td></tr><tr><td>TwoDigitYearMax</td><td><div class=\"dni-plaintext\"><pre>2029</pre></div></td></tr><tr><td>IsReadOnly</td><td><div class=\"dni-plaintext\"><pre>True</pre></div></td></tr></tbody></table></div></details></td></tr><tr><td>OptionalCalendars</td><td><table><thead><tr><th><i>index</i></th><th>value</th></tr></thead><tbody><tr><td>0</td><td><details class=\"dni-treeview\"><summary><span class=\"dni-code-hint\"><code>System.Globalization.GregorianCalendar</code></span></summary><div><table><thead><tr></tr></thead><tbody><tr><td>MinSupportedDateTime</td><td>1/1/0001 12:00:00 AM</td></tr><tr><td>MaxSupportedDateTime</td><td>12/31/9999 11:59:59 PM</td></tr><tr><td>AlgorithmType</td><td>SolarCalendar</td></tr><tr><td>CalendarType</td><td>Localized</td></tr><tr><td>Eras</td><td>[ 1 ]</td></tr><tr><td>TwoDigitYearMax</td><td>2029</td></tr><tr><td>IsReadOnly</td><td>False</td></tr></tbody></table></div></details></td></tr></tbody></table></td></tr><tr><td>UseUserOverride</td><td><div class=\"dni-plaintext\"><pre>False</pre></div></td></tr><tr><td>IsReadOnly</td><td><div class=\"dni-plaintext\"><pre>True</pre></div></td></tr></tbody></table></div></details></td></tr><tr><td>LCID</td><td><div class=\"dni-plaintext\"><pre>127</pre></div></td></tr><tr><td>KeyboardLayoutId</td><td><div class=\"dni-plaintext\"><pre>127</pre></div></td></tr><tr><td>Name</td><td><div class=\"dni-plaintext\"><pre></pre></div></td></tr><tr><td>IetfLanguageTag</td><td><div class=\"dni-plaintext\"><pre></pre></div></td></tr><tr><td>DisplayName</td><td><div class=\"dni-plaintext\"><pre>Invariant Language (Invariant Country)</pre></div></td></tr><tr><td>NativeName</td><td><div class=\"dni-plaintext\"><pre>Invariant Language (Invariant Country)</pre></div></td></tr><tr><td>EnglishName</td><td><div class=\"dni-plaintext\"><pre>Invariant Language (Invariant Country)</pre></div></td></tr><tr><td>TwoLetterISOLanguageName</td><td><div class=\"dni-plaintext\"><pre>iv</pre></div></td></tr><tr><td>ThreeLetterISOLanguageName</td><td><div class=\"dni-plaintext\"><pre>ivl</pre></div></td></tr><tr><td>ThreeLetterWindowsLanguageName</td><td><div class=\"dni-plaintext\"><pre>IVL</pre></div></td></tr><tr><td>CompareInfo</td><td><details class=\"dni-treeview\"><summary><span class=\"dni-code-hint\"><code>CompareInfo -</code></span></summary><div><table><thead><tr></tr></thead><tbody><tr><td>Name</td><td><div class=\"dni-plaintext\"><pre></pre></div></td></tr><tr><td>Version</td><td><details class=\"dni-treeview\"><summary><span class=\"dni-code-hint\"><code>System.Globalization.SortVersion</code></span></summary><div><table><thead><tr></tr></thead><tbody><tr><td>FullVersion</td><td><div class=\"dni-plaintext\"><pre>26777</pre></div></td></tr><tr><td>SortId</td><td><div class=\"dni-plaintext\"><pre>00006899-0000-0000-0000-00000000007f</pre></div></td></tr></tbody></table></div></details></td></tr><tr><td>LCID</td><td><div class=\"dni-plaintext\"><pre>127</pre></div></td></tr></tbody></table></div></details></td></tr><tr><td>TextInfo</td><td><details class=\"dni-treeview\"><summary><span class=\"dni-code-hint\"><code>TextInfo -</code></span></summary><div><table><thead><tr></tr></thead><tbody><tr><td>ANSICodePage</td><td><div class=\"dni-plaintext\"><pre>1252</pre></div></td></tr><tr><td>OEMCodePage</td><td><div class=\"dni-plaintext\"><pre>437</pre></div></td></tr><tr><td>MacCodePage</td><td><div class=\"dni-plaintext\"><pre>10000</pre></div></td></tr><tr><td>EBCDICCodePage</td><td><div class=\"dni-plaintext\"><pre>37</pre></div></td></tr><tr><td>LCID</td><td><div class=\"dni-plaintext\"><pre>127</pre></div></td></tr><tr><td>CultureName</td><td><div class=\"dni-plaintext\"><pre></pre></div></td></tr><tr><td>IsReadOnly</td><td><div class=\"dni-plaintext\"><pre>True</pre></div></td></tr><tr><td>ListSeparator</td><td><div class=\"dni-plaintext\"><pre>,</pre></div></td></tr><tr><td>IsRightToLeft</td><td><div class=\"dni-plaintext\"><pre>False</pre></div></td></tr></tbody></table></div></details></td></tr><tr><td>IsNeutralCulture</td><td><div class=\"dni-plaintext\"><pre>False</pre></div></td></tr><tr><td>CultureTypes</td><td><span>SpecificCultures, InstalledWin32Cultures</span></td></tr><tr><td>NumberFormat</td><td><details class=\"dni-treeview\"><summary><span class=\"dni-code-hint\"><code>System.Globalization.NumberFormatInfo</code></span></summary><div><table><thead><tr></tr></thead><tbody><tr><td>CurrencyDecimalDigits</td><td><div class=\"dni-plaintext\"><pre>2</pre></div></td></tr><tr><td>CurrencyDecimalSeparator</td><td><div class=\"dni-plaintext\"><pre>.</pre></div></td></tr><tr><td>IsReadOnly</td><td><div class=\"dni-plaintext\"><pre>True</pre></div></td></tr><tr><td>CurrencyGroupSizes</td><td><div class=\"dni-plaintext\"><pre>[ 3 ]</pre></div></td></tr><tr><td>NumberGroupSizes</td><td><div class=\"dni-plaintext\"><pre>[ 3 ]</pre></div></td></tr><tr><td>PercentGroupSizes</td><td><div class=\"dni-plaintext\"><pre>[ 3 ]</pre></div></td></tr><tr><td>CurrencyGroupSeparator</td><td><div class=\"dni-plaintext\"><pre>,</pre></div></td></tr><tr><td>CurrencySymbol</td><td><div class=\"dni-plaintext\"><pre>&#164;</pre></div></td></tr><tr><td>NaNSymbol</td><td><div class=\"dni-plaintext\"><pre>NaN</pre></div></td></tr><tr><td>CurrencyNegativePattern</td><td><div class=\"dni-plaintext\"><pre>0</pre></div></td></tr><tr><td>NumberNegativePattern</td><td><div class=\"dni-plaintext\"><pre>1</pre></div></td></tr><tr><td>PercentPositivePattern</td><td><div class=\"dni-plaintext\"><pre>0</pre></div></td></tr><tr><td>PercentNegativePattern</td><td><div class=\"dni-plaintext\"><pre>0</pre></div></td></tr><tr><td>NegativeInfinitySymbol</td><td><div class=\"dni-plaintext\"><pre>-Infinity</pre></div></td></tr><tr><td>NegativeSign</td><td><div class=\"dni-plaintext\"><pre>-</pre></div></td></tr><tr><td>NumberDecimalDigits</td><td><div class=\"dni-plaintext\"><pre>2</pre></div></td></tr><tr><td>NumberDecimalSeparator</td><td><div class=\"dni-plaintext\"><pre>.</pre></div></td></tr><tr><td>NumberGroupSeparator</td><td><div class=\"dni-plaintext\"><pre>,</pre></div></td></tr><tr><td>CurrencyPositivePattern</td><td><div class=\"dni-plaintext\"><pre>0</pre></div></td></tr><tr><td>PositiveInfinitySymbol</td><td><div class=\"dni-plaintext\"><pre>Infinity</pre></div></td></tr><tr><td>PositiveSign</td><td><div class=\"dni-plaintext\"><pre>+</pre></div></td></tr><tr><td>PercentDecimalDigits</td><td><div class=\"dni-plaintext\"><pre>2</pre></div></td></tr><tr><td>PercentDecimalSeparator</td><td><div class=\"dni-plaintext\"><pre>.</pre></div></td></tr><tr><td>PercentGroupSeparator</td><td><div class=\"dni-plaintext\"><pre>,</pre></div></td></tr><tr><td>PercentSymbol</td><td><div class=\"dni-plaintext\"><pre>%</pre></div></td></tr><tr><td>PerMilleSymbol</td><td><div class=\"dni-plaintext\"><pre>‰</pre></div></td></tr><tr><td>NativeDigits</td><td><div class=\"dni-plaintext\"><pre>[ 0, 1, 2, 3, 4, 5, 6, 7, 8, 9 ]</pre></div></td></tr><tr><td>DigitSubstitution</td><td><span>None</span></td></tr></tbody></table></div></details></td></tr><tr><td>DateTimeFormat</td><td><details class=\"dni-treeview\"><summary><span class=\"dni-code-hint\"><code>System.Globalization.DateTimeFormatInfo</code></span></summary><div><table><thead><tr></tr></thead><tbody><tr><td>AMDesignator</td><td><div class=\"dni-plaintext\"><pre>AM</pre></div></td></tr><tr><td>Calendar</td><td><details class=\"dni-treeview\"><summary><span class=\"dni-code-hint\"><code>System.Globalization.GregorianCalendar</code></span></summary><div><table><thead><tr></tr></thead><tbody><tr><td>MinSupportedDateTime</td><td><span>0001-01-01 00:00:00Z</span></td></tr><tr><td>MaxSupportedDateTime</td><td><span>9999-12-31 23:59:59Z</span></td></tr><tr><td>AlgorithmType</td><td><span>SolarCalendar</span></td></tr><tr><td>CalendarType</td><td><span>Localized</span></td></tr><tr><td>Eras</td><td><div class=\"dni-plaintext\"><pre>[ 1 ]</pre></div></td></tr><tr><td>TwoDigitYearMax</td><td><div class=\"dni-plaintext\"><pre>2029</pre></div></td></tr><tr><td>IsReadOnly</td><td><div class=\"dni-plaintext\"><pre>True</pre></div></td></tr></tbody></table></div></details></td></tr><tr><td>DateSeparator</td><td><div class=\"dni-plaintext\"><pre>/</pre></div></td></tr><tr><td>FirstDayOfWeek</td><td><span>Sunday</span></td></tr><tr><td>CalendarWeekRule</td><td><span>FirstDay</span></td></tr><tr><td>FullDateTimePattern</td><td><div class=\"dni-plaintext\"><pre>dddd, dd MMMM yyyy HH:mm:ss</pre></div></td></tr><tr><td>LongDatePattern</td><td><div class=\"dni-plaintext\"><pre>dddd, dd MMMM yyyy</pre></div></td></tr><tr><td>LongTimePattern</td><td><div class=\"dni-plaintext\"><pre>HH:mm:ss</pre></div></td></tr><tr><td>MonthDayPattern</td><td><div class=\"dni-plaintext\"><pre>MMMM dd</pre></div></td></tr><tr><td>PMDesignator</td><td><div class=\"dni-plaintext\"><pre>PM</pre></div></td></tr><tr><td>RFC1123Pattern</td><td><div class=\"dni-plaintext\"><pre>ddd, dd MMM yyyy HH&#39;:&#39;mm&#39;:&#39;ss &#39;GMT&#39;</pre></div></td></tr><tr><td>ShortDatePattern</td><td><div class=\"dni-plaintext\"><pre>MM/dd/yyyy</pre></div></td></tr><tr><td>ShortTimePattern</td><td><div class=\"dni-plaintext\"><pre>HH:mm</pre></div></td></tr><tr><td>SortableDateTimePattern</td><td><div class=\"dni-plaintext\"><pre>yyyy&#39;-&#39;MM&#39;-&#39;dd&#39;T&#39;HH&#39;:&#39;mm&#39;:&#39;ss</pre></div></td></tr><tr><td>TimeSeparator</td><td><div class=\"dni-plaintext\"><pre>:</pre></div></td></tr><tr><td>UniversalSortableDateTimePattern</td><td><div class=\"dni-plaintext\"><pre>yyyy&#39;-&#39;MM&#39;-&#39;dd HH&#39;:&#39;mm&#39;:&#39;ss&#39;Z&#39;</pre></div></td></tr><tr><td>YearMonthPattern</td><td><div class=\"dni-plaintext\"><pre>yyyy MMMM</pre></div></td></tr><tr><td>AbbreviatedDayNames</td><td><div class=\"dni-plaintext\"><pre>[ Sun, Mon, Tue, Wed, Thu, Fri, Sat ]</pre></div></td></tr><tr><td>ShortestDayNames</td><td><div class=\"dni-plaintext\"><pre>[ Su, Mo, Tu, We, Th, Fr, Sa ]</pre></div></td></tr><tr><td>DayNames</td><td><div class=\"dni-plaintext\"><pre>[ Sunday, Monday, Tuesday, Wednesday, Thursday, Friday, Saturday ]</pre></div></td></tr><tr><td>AbbreviatedMonthNames</td><td><div class=\"dni-plaintext\"><pre>[ Jan, Feb, Mar, Apr, May, Jun, Jul, Aug, Sep, Oct, Nov, Dec,  ]</pre></div></td></tr><tr><td>MonthNames</td><td><div class=\"dni-plaintext\"><pre>[ January, February, March, April, May, June, July, August, September, October, November, December,  ]</pre></div></td></tr><tr><td>IsReadOnly</td><td><div class=\"dni-plaintext\"><pre>True</pre></div></td></tr><tr><td>NativeCalendarName</td><td><div class=\"dni-plaintext\"><pre>Gregorian Calendar</pre></div></td></tr><tr><td>AbbreviatedMonthGenitiveNames</td><td><div class=\"dni-plaintext\"><pre>[ Jan, Feb, Mar, Apr, May, Jun, Jul, Aug, Sep, Oct, Nov, Dec,  ]</pre></div></td></tr><tr><td>MonthGenitiveNames</td><td><div class=\"dni-plaintext\"><pre>[ January, February, March, April, May, June, July, August, September, October, November, December,  ]</pre></div></td></tr></tbody></table></div></details></td></tr><tr><td>Calendar</td><td><details class=\"dni-treeview\"><summary><span class=\"dni-code-hint\"><code>System.Globalization.GregorianCalendar</code></span></summary><div><table><thead><tr></tr></thead><tbody><tr><td>MinSupportedDateTime</td><td><span>0001-01-01 00:00:00Z</span></td></tr><tr><td>MaxSupportedDateTime</td><td><span>9999-12-31 23:59:59Z</span></td></tr><tr><td>AlgorithmType</td><td><span>SolarCalendar</span></td></tr><tr><td>CalendarType</td><td><span>Localized</span></td></tr><tr><td>Eras</td><td><div class=\"dni-plaintext\"><pre>[ 1 ]</pre></div></td></tr><tr><td>TwoDigitYearMax</td><td><div class=\"dni-plaintext\"><pre>2029</pre></div></td></tr><tr><td>IsReadOnly</td><td><div class=\"dni-plaintext\"><pre>True</pre></div></td></tr></tbody></table></div></details></td></tr><tr><td>OptionalCalendars</td><td><table><thead><tr><th><i>index</i></th><th>value</th></tr></thead><tbody><tr><td>0</td><td><details class=\"dni-treeview\"><summary><span class=\"dni-code-hint\"><code>System.Globalization.GregorianCalendar</code></span></summary><div><table><thead><tr></tr></thead><tbody><tr><td>MinSupportedDateTime</td><td><span>0001-01-01 00:00:00Z</span></td></tr><tr><td>MaxSupportedDateTime</td><td><span>9999-12-31 23:59:59Z</span></td></tr><tr><td>AlgorithmType</td><td><span>SolarCalendar</span></td></tr><tr><td>CalendarType</td><td><span>Localized</span></td></tr><tr><td>Eras</td><td><div class=\"dni-plaintext\"><pre>[ 1 ]</pre></div></td></tr><tr><td>TwoDigitYearMax</td><td><div class=\"dni-plaintext\"><pre>2029</pre></div></td></tr><tr><td>IsReadOnly</td><td><div class=\"dni-plaintext\"><pre>False</pre></div></td></tr></tbody></table></div></details></td></tr></tbody></table></td></tr><tr><td>UseUserOverride</td><td><div class=\"dni-plaintext\"><pre>False</pre></div></td></tr><tr><td>IsReadOnly</td><td><div class=\"dni-plaintext\"><pre>True</pre></div></td></tr></tbody></table></div></details></td></tr><tr><td>LCID</td><td><div class=\"dni-plaintext\"><pre>9</pre></div></td></tr><tr><td>KeyboardLayoutId</td><td><div class=\"dni-plaintext\"><pre>9</pre></div></td></tr><tr><td>Name</td><td><div class=\"dni-plaintext\"><pre>en</pre></div></td></tr><tr><td>IetfLanguageTag</td><td><div class=\"dni-plaintext\"><pre>en</pre></div></td></tr><tr><td>DisplayName</td><td><div class=\"dni-plaintext\"><pre>English</pre></div></td></tr><tr><td>NativeName</td><td><div class=\"dni-plaintext\"><pre>English</pre></div></td></tr><tr><td>EnglishName</td><td><div class=\"dni-plaintext\"><pre>English</pre></div></td></tr><tr><td>TwoLetterISOLanguageName</td><td><div class=\"dni-plaintext\"><pre>en</pre></div></td></tr><tr><td>ThreeLetterISOLanguageName</td><td><div class=\"dni-plaintext\"><pre>eng</pre></div></td></tr><tr><td>ThreeLetterWindowsLanguageName</td><td><div class=\"dni-plaintext\"><pre>ENU</pre></div></td></tr><tr><td>CompareInfo</td><td><details class=\"dni-treeview\"><summary><span class=\"dni-code-hint\"><code>CompareInfo - en</code></span></summary><div><table><thead><tr></tr></thead><tbody><tr><td>Name</td><td><div class=\"dni-plaintext\"><pre>en</pre></div></td></tr><tr><td>Version</td><td><details class=\"dni-treeview\"><summary><span class=\"dni-code-hint\"><code>System.Globalization.SortVersion</code></span></summary><div><table><thead><tr></tr></thead><tbody><tr><td>FullVersion</td><td><div class=\"dni-plaintext\"><pre>26777</pre></div></td></tr><tr><td>SortId</td><td><div class=\"dni-plaintext\"><pre>00006899-0000-0000-0000-000000000009</pre></div></td></tr></tbody></table></div></details></td></tr><tr><td>LCID</td><td><div class=\"dni-plaintext\"><pre>9</pre></div></td></tr></tbody></table></div></details></td></tr><tr><td>TextInfo</td><td><details class=\"dni-treeview\"><summary><span class=\"dni-code-hint\"><code>TextInfo - en</code></span></summary><div><table><thead><tr></tr></thead><tbody><tr><td>ANSICodePage</td><td><div class=\"dni-plaintext\"><pre>1252</pre></div></td></tr><tr><td>OEMCodePage</td><td><div class=\"dni-plaintext\"><pre>437</pre></div></td></tr><tr><td>MacCodePage</td><td><div class=\"dni-plaintext\"><pre>10000</pre></div></td></tr><tr><td>EBCDICCodePage</td><td><div class=\"dni-plaintext\"><pre>37</pre></div></td></tr><tr><td>LCID</td><td><div class=\"dni-plaintext\"><pre>9</pre></div></td></tr><tr><td>CultureName</td><td><div class=\"dni-plaintext\"><pre>en</pre></div></td></tr><tr><td>IsReadOnly</td><td><div class=\"dni-plaintext\"><pre>False</pre></div></td></tr><tr><td>ListSeparator</td><td><div class=\"dni-plaintext\"><pre>,</pre></div></td></tr><tr><td>IsRightToLeft</td><td><div class=\"dni-plaintext\"><pre>False</pre></div></td></tr></tbody></table></div></details></td></tr><tr><td>IsNeutralCulture</td><td><div class=\"dni-plaintext\"><pre>True</pre></div></td></tr><tr><td>CultureTypes</td><td><span>NeutralCultures, InstalledWin32Cultures</span></td></tr><tr><td>NumberFormat</td><td><details class=\"dni-treeview\"><summary><span class=\"dni-code-hint\"><code>System.Globalization.NumberFormatInfo</code></span></summary><div><table><thead><tr></tr></thead><tbody><tr><td>CurrencyDecimalDigits</td><td><div class=\"dni-plaintext\"><pre>2</pre></div></td></tr><tr><td>CurrencyDecimalSeparator</td><td><div class=\"dni-plaintext\"><pre>.</pre></div></td></tr><tr><td>IsReadOnly</td><td><div class=\"dni-plaintext\"><pre>False</pre></div></td></tr><tr><td>CurrencyGroupSizes</td><td><div class=\"dni-plaintext\"><pre>[ 3 ]</pre></div></td></tr><tr><td>NumberGroupSizes</td><td><div class=\"dni-plaintext\"><pre>[ 3 ]</pre></div></td></tr><tr><td>PercentGroupSizes</td><td><div class=\"dni-plaintext\"><pre>[ 3 ]</pre></div></td></tr><tr><td>CurrencyGroupSeparator</td><td><div class=\"dni-plaintext\"><pre>,</pre></div></td></tr><tr><td>CurrencySymbol</td><td><div class=\"dni-plaintext\"><pre>&#164;</pre></div></td></tr><tr><td>NaNSymbol</td><td><div class=\"dni-plaintext\"><pre>NaN</pre></div></td></tr><tr><td>CurrencyNegativePattern</td><td><div class=\"dni-plaintext\"><pre>1</pre></div></td></tr><tr><td>NumberNegativePattern</td><td><div class=\"dni-plaintext\"><pre>1</pre></div></td></tr><tr><td>PercentPositivePattern</td><td><div class=\"dni-plaintext\"><pre>1</pre></div></td></tr><tr><td>PercentNegativePattern</td><td><div class=\"dni-plaintext\"><pre>1</pre></div></td></tr><tr><td>NegativeInfinitySymbol</td><td><div class=\"dni-plaintext\"><pre>-∞</pre></div></td></tr><tr><td>NegativeSign</td><td><div class=\"dni-plaintext\"><pre>-</pre></div></td></tr><tr><td>NumberDecimalDigits</td><td><div class=\"dni-plaintext\"><pre>3</pre></div></td></tr><tr><td>NumberDecimalSeparator</td><td><div class=\"dni-plaintext\"><pre>.</pre></div></td></tr><tr><td>NumberGroupSeparator</td><td><div class=\"dni-plaintext\"><pre>,</pre></div></td></tr><tr><td>CurrencyPositivePattern</td><td><div class=\"dni-plaintext\"><pre>0</pre></div></td></tr><tr><td>PositiveInfinitySymbol</td><td><div class=\"dni-plaintext\"><pre>∞</pre></div></td></tr><tr><td>PositiveSign</td><td><div class=\"dni-plaintext\"><pre>+</pre></div></td></tr><tr><td>PercentDecimalDigits</td><td><div class=\"dni-plaintext\"><pre>3</pre></div></td></tr><tr><td>PercentDecimalSeparator</td><td><div class=\"dni-plaintext\"><pre>.</pre></div></td></tr><tr><td>PercentGroupSeparator</td><td><div class=\"dni-plaintext\"><pre>,</pre></div></td></tr><tr><td>PercentSymbol</td><td><div class=\"dni-plaintext\"><pre>%</pre></div></td></tr><tr><td>PerMilleSymbol</td><td><div class=\"dni-plaintext\"><pre>‰</pre></div></td></tr><tr><td>NativeDigits</td><td><div class=\"dni-plaintext\"><pre>[ 0, 1, 2, 3, 4, 5, 6, 7, 8, 9 ]</pre></div></td></tr><tr><td>DigitSubstitution</td><td><span>None</span></td></tr></tbody></table></div></details></td></tr><tr><td>DateTimeFormat</td><td><details class=\"dni-treeview\"><summary><span class=\"dni-code-hint\"><code>System.Globalization.DateTimeFormatInfo</code></span></summary><div><table><thead><tr></tr></thead><tbody><tr><td>AMDesignator</td><td><div class=\"dni-plaintext\"><pre>AM</pre></div></td></tr><tr><td>Calendar</td><td><details class=\"dni-treeview\"><summary><span class=\"dni-code-hint\"><code>System.Globalization.GregorianCalendar</code></span></summary><div><table><thead><tr></tr></thead><tbody><tr><td>MinSupportedDateTime</td><td><span>0001-01-01 00:00:00Z</span></td></tr><tr><td>MaxSupportedDateTime</td><td><span>9999-12-31 23:59:59Z</span></td></tr><tr><td>AlgorithmType</td><td><span>SolarCalendar</span></td></tr><tr><td>CalendarType</td><td><span>Localized</span></td></tr><tr><td>Eras</td><td><div class=\"dni-plaintext\"><pre>[ 1 ]</pre></div></td></tr><tr><td>TwoDigitYearMax</td><td><div class=\"dni-plaintext\"><pre>2029</pre></div></td></tr><tr><td>IsReadOnly</td><td><div class=\"dni-plaintext\"><pre>False</pre></div></td></tr></tbody></table></div></details></td></tr><tr><td>DateSeparator</td><td><div class=\"dni-plaintext\"><pre>/</pre></div></td></tr><tr><td>FirstDayOfWeek</td><td><span>Sunday</span></td></tr><tr><td>CalendarWeekRule</td><td><span>FirstDay</span></td></tr><tr><td>FullDateTimePattern</td><td><div class=\"dni-plaintext\"><pre>dddd, MMMM d, yyyy h:mm:ss tt</pre></div></td></tr><tr><td>LongDatePattern</td><td><div class=\"dni-plaintext\"><pre>dddd, MMMM d, yyyy</pre></div></td></tr><tr><td>LongTimePattern</td><td><div class=\"dni-plaintext\"><pre>h:mm:ss tt</pre></div></td></tr><tr><td>MonthDayPattern</td><td><div class=\"dni-plaintext\"><pre>MMMM d</pre></div></td></tr><tr><td>PMDesignator</td><td><div class=\"dni-plaintext\"><pre>PM</pre></div></td></tr><tr><td>RFC1123Pattern</td><td><div class=\"dni-plaintext\"><pre>ddd, dd MMM yyyy HH&#39;:&#39;mm&#39;:&#39;ss &#39;GMT&#39;</pre></div></td></tr><tr><td>ShortDatePattern</td><td><div class=\"dni-plaintext\"><pre>M/d/yyyy</pre></div></td></tr><tr><td>ShortTimePattern</td><td><div class=\"dni-plaintext\"><pre>h:mm tt</pre></div></td></tr><tr><td>SortableDateTimePattern</td><td><div class=\"dni-plaintext\"><pre>yyyy&#39;-&#39;MM&#39;-&#39;dd&#39;T&#39;HH&#39;:&#39;mm&#39;:&#39;ss</pre></div></td></tr><tr><td>TimeSeparator</td><td><div class=\"dni-plaintext\"><pre>:</pre></div></td></tr><tr><td>UniversalSortableDateTimePattern</td><td><div class=\"dni-plaintext\"><pre>yyyy&#39;-&#39;MM&#39;-&#39;dd HH&#39;:&#39;mm&#39;:&#39;ss&#39;Z&#39;</pre></div></td></tr><tr><td>YearMonthPattern</td><td><div class=\"dni-plaintext\"><pre>MMMM yyyy</pre></div></td></tr><tr><td>AbbreviatedDayNames</td><td><div class=\"dni-plaintext\"><pre>[ Sun, Mon, Tue, Wed, Thu, Fri, Sat ]</pre></div></td></tr><tr><td>ShortestDayNames</td><td><div class=\"dni-plaintext\"><pre>[ S, M, T, W, T, F, S ]</pre></div></td></tr><tr><td>DayNames</td><td><div class=\"dni-plaintext\"><pre>[ Sunday, Monday, Tuesday, Wednesday, Thursday, Friday, Saturday ]</pre></div></td></tr><tr><td>AbbreviatedMonthNames</td><td><div class=\"dni-plaintext\"><pre>[ Jan, Feb, Mar, Apr, May, Jun, Jul, Aug, Sep, Oct, Nov, Dec,  ]</pre></div></td></tr><tr><td>MonthNames</td><td><div class=\"dni-plaintext\"><pre>[ January, February, March, April, May, June, July, August, September, October, November, December,  ]</pre></div></td></tr><tr><td>IsReadOnly</td><td><div class=\"dni-plaintext\"><pre>False</pre></div></td></tr><tr><td>NativeCalendarName</td><td><div class=\"dni-plaintext\"><pre>Gregorian Calendar</pre></div></td></tr><tr><td>AbbreviatedMonthGenitiveNames</td><td><div class=\"dni-plaintext\"><pre>[ Jan, Feb, Mar, Apr, May, Jun, Jul, Aug, Sep, Oct, Nov, Dec,  ]</pre></div></td></tr><tr><td>MonthGenitiveNames</td><td><div class=\"dni-plaintext\"><pre>[ January, February, March, April, May, June, July, August, September, October, November, December,  ]</pre></div></td></tr></tbody></table></div></details></td></tr><tr><td>Calendar</td><td><details class=\"dni-treeview\"><summary><span class=\"dni-code-hint\"><code>System.Globalization.GregorianCalendar</code></span></summary><div><table><thead><tr></tr></thead><tbody><tr><td>MinSupportedDateTime</td><td><span>0001-01-01 00:00:00Z</span></td></tr><tr><td>MaxSupportedDateTime</td><td><span>9999-12-31 23:59:59Z</span></td></tr><tr><td>AlgorithmType</td><td><span>SolarCalendar</span></td></tr><tr><td>CalendarType</td><td><span>Localized</span></td></tr><tr><td>Eras</td><td><div class=\"dni-plaintext\"><pre>[ 1 ]</pre></div></td></tr><tr><td>TwoDigitYearMax</td><td><div class=\"dni-plaintext\"><pre>2029</pre></div></td></tr><tr><td>IsReadOnly</td><td><div class=\"dni-plaintext\"><pre>False</pre></div></td></tr></tbody></table></div></details></td></tr><tr><td>OptionalCalendars</td><td><table><thead><tr><th><i>index</i></th><th>value</th></tr></thead><tbody><tr><td>0</td><td><details class=\"dni-treeview\"><summary><span class=\"dni-code-hint\"><code>System.Globalization.GregorianCalendar</code></span></summary><div><table><thead><tr></tr></thead><tbody><tr><td>MinSupportedDateTime</td><td><span>0001-01-01 00:00:00Z</span></td></tr><tr><td>MaxSupportedDateTime</td><td><span>9999-12-31 23:59:59Z</span></td></tr><tr><td>AlgorithmType</td><td><span>SolarCalendar</span></td></tr><tr><td>CalendarType</td><td><span>Localized</span></td></tr><tr><td>Eras</td><td><div class=\"dni-plaintext\"><pre>[ 1 ]</pre></div></td></tr><tr><td>TwoDigitYearMax</td><td><div class=\"dni-plaintext\"><pre>2029</pre></div></td></tr><tr><td>IsReadOnly</td><td><div class=\"dni-plaintext\"><pre>False</pre></div></td></tr></tbody></table></div></details></td></tr></tbody></table></td></tr><tr><td>UseUserOverride</td><td><div class=\"dni-plaintext\"><pre>True</pre></div></td></tr><tr><td>IsReadOnly</td><td><div class=\"dni-plaintext\"><pre>False</pre></div></td></tr></tbody></table></div></details></td></tr><tr><td>Variables</td><td><table><thead><tr><th><i>key</i></th><th>value</th></tr></thead><tbody><tr><td><div class=\"dni-plaintext\"><pre>INPUT</pre></div></td><td><div class=\"dni-plaintext\"><pre>\n",
       "Yes, .NET Interactive supports the Jupyter protocol, allowing users to write and execute code in languages such as Python, R, and Julia.</pre></div></td></tr></tbody></table></td></tr><tr><td>Skills</td><td><details class=\"dni-treeview\"><summary><span class=\"dni-code-hint\"><code>Microsoft.SemanticKernel.SkillDefinition.SkillCollection</code></span></summary><div><table><thead><tr></tr></thead><tbody></tbody></table></div></details></td></tr><tr><td>LoggerFactory</td><td><details class=\"dni-treeview\"><summary><span class=\"dni-code-hint\"><code>Microsoft.Extensions.Logging.LoggerFactory</code></span></summary><div><table><thead><tr></tr></thead><tbody></tbody></table></div></details></td></tr><tr><td>ErrorOccurred</td><td><div class=\"dni-plaintext\"><pre>False</pre></div></td></tr><tr><td>LastException</td><td><div class=\"dni-plaintext\"><pre>&lt;null&gt;</pre></div></td></tr><tr><td>Log</td><td><details class=\"dni-treeview\"><summary><span class=\"dni-code-hint\"><code>Microsoft.Extensions.Logging.Logger`1[Microsoft.SemanticKernel.Orchestration.SKContext]</code></span></summary><div><table><thead><tr></tr></thead><tbody></tbody></table></div></details></td></tr><tr><td>CancellationToken</td><td><details class=\"dni-treeview\"><summary><span class=\"dni-code-hint\"><code>System.Threading.CancellationToken</code></span></summary><div><table><thead><tr></tr></thead><tbody><tr><td>IsCancellationRequested</td><td><div class=\"dni-plaintext\"><pre>False</pre></div></td></tr><tr><td>CanBeCanceled</td><td><div class=\"dni-plaintext\"><pre>False</pre></div></td></tr><tr><td>WaitHandle</td><td><details class=\"dni-treeview\"><summary><span class=\"dni-code-hint\"><code>System.Threading.ManualResetEvent</code></span></summary><div><table><thead><tr></tr></thead><tbody><tr><td>Handle</td><td><div class=\"dni-plaintext\"><pre>3284</pre></div></td></tr><tr><td>SafeWaitHandle</td><td><details class=\"dni-treeview\"><summary><span class=\"dni-code-hint\"><code>Microsoft.Win32.SafeHandles.SafeWaitHandle</code></span></summary><div><table><thead><tr></tr></thead><tbody><tr><td>IsInvalid</td><td><div class=\"dni-plaintext\"><pre>False</pre></div></td></tr><tr><td>IsClosed</td><td><div class=\"dni-plaintext\"><pre>False</pre></div></td></tr></tbody></table></div></details></td></tr></tbody></table></div></details></td></tr></tbody></table></div></details></td></tr><tr><td>Memory</td><td><details class=\"dni-treeview\"><summary><span class=\"dni-code-hint\"><code>System.InvalidOperationException: Memory no longer passed through SKContext. Instead, initialize your skill class with the memory provider it needs.\\r\\n   at Microsoft.SemanticKernel.Orchestration.SKContext.get_Memory()\\r\\n   at lambda_method420(Closure, SKContext)\\r\\n   at Microsoft.DotNet.Interact...</code></span></summary><div><table><thead><tr></tr></thead><tbody><tr><td>TargetSite</td><td><details class=\"dni-treeview\"><summary><span class=\"dni-code-hint\"><code>Microsoft.SemanticKernel.Memory.ISemanticTextMemory get_Memory()</code></span></summary><div><table><thead><tr></tr></thead><tbody><tr><td>Name</td><td><div class=\"dni-plaintext\"><pre>get_Memory</pre></div></td></tr><tr><td>DeclaringType</td><td><span><a href=\"https://docs.microsoft.com/dotnet/api/microsoft.semantickernel.orchestration.skcontext?view=net-7.0\">Microsoft.SemanticKernel.Orchestration.SKContext</a></span></td></tr><tr><td>ReflectedType</td><td><span><a href=\"https://docs.microsoft.com/dotnet/api/microsoft.semantickernel.orchestration.skcontext?view=net-7.0\">Microsoft.SemanticKernel.Orchestration.SKContext</a></span></td></tr><tr><td>MemberType</td><td><span>Method</span></td></tr><tr><td>MetadataToken</td><td><div class=\"dni-plaintext\"><pre>100663585</pre></div></td></tr><tr><td>Module</td><td><details class=\"dni-treeview\"><summary><span class=\"dni-code-hint\"><code>Microsoft.SemanticKernel.Abstractions.dll</code></span></summary><div><table><thead><tr></tr></thead><tbody><tr><td>MDStreamVersion</td><td><div class=\"dni-plaintext\"><pre>131072</pre></div></td></tr><tr><td>FullyQualifiedName</td><td><div class=\"dni-plaintext\"><pre>C:\\Users\\dicolomb\\.nuget\\packages\\microsoft.semantickernel.abstractions\\0.21.230828.2-preview\\lib\\netstandard2.0\\Microsoft.SemanticKernel.Abstractions.dll</pre></div></td></tr><tr><td>ModuleVersionId</td><td><div class=\"dni-plaintext\"><pre>f9615d6c-17d4-4d20-ba96-14e20c568e22</pre></div></td></tr><tr><td>MetadataToken</td><td><div class=\"dni-plaintext\"><pre>1</pre></div></td></tr><tr><td>ScopeName</td><td><div class=\"dni-plaintext\"><pre>Microsoft.SemanticKernel.Abstractions.dll</pre></div></td></tr><tr><td>Name</td><td><div class=\"dni-plaintext\"><pre>Microsoft.SemanticKernel.Abstractions.dll</pre></div></td></tr><tr><td>Assembly</td><td><details class=\"dni-treeview\"><summary><span class=\"dni-code-hint\"><code>Microsoft.SemanticKernel.Abstractions, Version=0.21.0.0, Culture=neutral, PublicKeyToken=f300afd708cefcd3</code></span></summary><div><table><thead><tr></tr></thead><tbody><tr><td>CodeBase</td><td><div class=\"dni-plaintext\"><pre>file:///C:/Users/dicolomb/.nuget/packages/microsoft.semantickernel.abstractions/0.21.230828.2-preview/lib/netstandard2.0/Microsoft.SemanticKernel.Abstractions.dll</pre></div></td></tr><tr><td>FullName</td><td><div class=\"dni-plaintext\"><pre>Microsoft.SemanticKernel.Abstractions, Version=0.21.0.0, Culture=neutral, PublicKeyToken=f300afd708cefcd3</pre></div></td></tr><tr><td>EntryPoint</td><td><div class=\"dni-plaintext\"><pre>&lt;null&gt;</pre></div></td></tr><tr><td>DefinedTypes</td><td><table><thead><tr><th><i>index</i></th><th>value</th></tr></thead><tbody><tr><td>0</td><td>Microsoft.CodeAnalysis.EmbeddedAttribute</td></tr><tr><td>1</td><td>System.Runtime.CompilerServices.IsReadOnlyAttribute</td></tr><tr><td>2</td><td>System.Runtime.CompilerServices.IsUnmanagedAttribute</td></tr><tr><td>3</td><td>System.Runtime.CompilerServices.NullableAttribute</td></tr><tr><td>4</td><td>System.Runtime.CompilerServices.NullableContextAttribute</td></tr><tr><td>5</td><td>HttpClientProvider</td></tr><tr><td>6</td><td>NonDisposableHttpClientHandler</td></tr><tr><td>7</td><td>System.ExceptionExtensions</td></tr><tr><td>8</td><td>System.EnvExtensions</td></tr><tr><td>9</td><td>System.Linq.AsyncEnumerable</td></tr><tr><td>10</td><td>System.Diagnostics.CodeAnalysis.AllowNullAttribute</td></tr><tr><td>11</td><td>System.Diagnostics.CodeAnalysis.DisallowNullAttribute</td></tr><tr><td>12</td><td>System.Diagnostics.CodeAnalysis.MaybeNullAttribute</td></tr><tr><td>13</td><td>System.Diagnostics.CodeAnalysis.NotNullAttribute</td></tr><tr><td>14</td><td>System.Diagnostics.CodeAnalysis.MaybeNullWhenAttribute</td></tr><tr><td>15</td><td>System.Diagnostics.CodeAnalysis.NotNullWhenAttribute</td></tr><tr><td>16</td><td>System.Diagnostics.CodeAnalysis.NotNullIfNotNullAttribute</td></tr><tr><td>17</td><td>System.Diagnostics.CodeAnalysis.DoesNotReturnAttribute</td></tr><tr><td>18</td><td>System.Diagnostics.CodeAnalysis.DoesNotReturnIfAttribute</td></tr><tr><td>19</td><td>System.Diagnostics.CodeAnalysis.MemberNotNullAttribute</td></tr><tr><td colspan=\"2\"><i>(100 more)</i></td></tr></tbody></table></td></tr><tr><td>IsCollectible</td><td><div class=\"dni-plaintext\"><pre>False</pre></div></td></tr><tr><td>ManifestModule</td><td><details class=\"dni-treeview\"><summary><span class=\"dni-code-hint\"><code>Microsoft.SemanticKernel.Abstractions.dll</code></span></summary><div><table><thead><tr></tr></thead><tbody><tr><td>MDStreamVersion</td><td>131072</td></tr><tr><td>FullyQualifiedName</td><td>C:\\Users\\dicolomb\\.nuget\\packages\\microsoft.semantickernel.abstractions\\0.21.230828.2-preview\\lib\\netstandard2.0\\Microsoft.SemanticKernel.Abstractions.dll</td></tr><tr><td>ModuleVersionId</td><td>f9615d6c-17d4-4d20-ba96-14e20c568e22</td></tr><tr><td>MetadataToken</td><td>1</td></tr><tr><td>ScopeName</td><td>Microsoft.SemanticKernel.Abstractions.dll</td></tr><tr><td>Name</td><td>Microsoft.SemanticKernel.Abstractions.dll</td></tr><tr><td>Assembly</td><td>Microsoft.SemanticKernel.Abstractions, Version=0.21.0.0, Culture=neutral, PublicKeyToken=f300afd708cefcd3</td></tr><tr><td>ModuleHandle</td><td>System.ModuleHandle</td></tr><tr><td>CustomAttributes</td><td>[  ]</td></tr></tbody></table></div></details></td></tr><tr><td>ReflectionOnly</td><td><div class=\"dni-plaintext\"><pre>False</pre></div></td></tr><tr><td>Location</td><td><div class=\"dni-plaintext\"><pre>C:\\Users\\dicolomb\\.nuget\\packages\\microsoft.semantickernel.abstractions\\0.21.230828.2-preview\\lib\\netstandard2.0\\Microsoft.SemanticKernel.Abstractions.dll</pre></div></td></tr><tr><td>ImageRuntimeVersion</td><td><div class=\"dni-plaintext\"><pre>v4.0.30319</pre></div></td></tr><tr><td>GlobalAssemblyCache</td><td><div class=\"dni-plaintext\"><pre>False</pre></div></td></tr><tr><td>HostContext</td><td><div class=\"dni-plaintext\"><pre>0</pre></div></td></tr><tr><td>IsDynamic</td><td><div class=\"dni-plaintext\"><pre>False</pre></div></td></tr><tr><td>ExportedTypes</td><td><table><thead><tr><th><i>index</i></th><th>value</th></tr></thead><tbody><tr><td>0</td><td>Microsoft.SemanticKernel.ChatCompletionServiceExtensions</td></tr><tr><td>1</td><td>Microsoft.SemanticKernel.TextEmbeddingServiceExtensions</td></tr><tr><td>2</td><td>Microsoft.SemanticKernel.ImageGenerationServiceExtensions</td></tr><tr><td>3</td><td>Microsoft.SemanticKernel.TextCompletionServiceExtensions</td></tr><tr><td>4</td><td>Microsoft.SemanticKernel.IKernel</td></tr><tr><td>5</td><td>Microsoft.SemanticKernel.KernelConfig</td></tr><tr><td>6</td><td>Microsoft.SemanticKernel.TemplateEngine.IPromptTemplateEngine</td></tr><tr><td>7</td><td>Microsoft.SemanticKernel.TemplateEngine.Blocks.Block</td></tr><tr><td>8</td><td>Microsoft.SemanticKernel.SkillDefinition.FunctionsView</td></tr><tr><td>9</td><td>Microsoft.SemanticKernel.SkillDefinition.FunctionView</td></tr><tr><td>10</td><td>Microsoft.SemanticKernel.SkillDefinition.IReadOnlySkillCollection</td></tr><tr><td>11</td><td>Microsoft.SemanticKernel.SkillDefinition.ISKFunction</td></tr><tr><td>12</td><td>Microsoft.SemanticKernel.SkillDefinition.ISkillCollection</td></tr><tr><td>13</td><td>Microsoft.SemanticKernel.SkillDefinition.ParameterView</td></tr><tr><td>14</td><td>Microsoft.SemanticKernel.SkillDefinition.ParameterViewType</td></tr><tr><td>15</td><td>Microsoft.SemanticKernel.SkillDefinition.SKFunctionAttribute</td></tr><tr><td>16</td><td>Microsoft.SemanticKernel.SkillDefinition.SKNameAttribute</td></tr><tr><td>17</td><td>Microsoft.SemanticKernel.SkillDefinition.SKParameterAttribute</td></tr><tr><td>18</td><td>Microsoft.SemanticKernel.Services.IAIService</td></tr><tr><td>19</td><td>Microsoft.SemanticKernel.Services.IAIServiceProvider</td></tr><tr><td colspan=\"2\"><i>(45 more)</i></td></tr></tbody></table></td></tr><tr><td>IsFullyTrusted</td><td><div class=\"dni-plaintext\"><pre>True</pre></div></td></tr><tr><td>CustomAttributes</td><td><table><thead><tr><th><i>index</i></th><th>value</th></tr></thead><tbody><tr><td>0</td><td>[System.Runtime.CompilerServices.ExtensionAttribute()]</td></tr><tr><td>1</td><td>[System.Runtime.CompilerServices.CompilationRelaxationsAttribute((Int32)8)]</td></tr><tr><td>2</td><td>[System.Runtime.CompilerServices.RuntimeCompatibilityAttribute(WrapNonExceptionThrows = True)]</td></tr><tr><td>3</td><td>[System.Diagnostics.DebuggableAttribute((System.Diagnostics.DebuggableAttribute+DebuggingModes)263)]</td></tr><tr><td>4</td><td>[System.Runtime.Versioning.TargetFrameworkAttribute(\".NETStandard,Version=v2.0\", FrameworkDisplayName = \"\")]</td></tr><tr><td>5</td><td>[System.CLSCompliantAttribute((Boolean)False)]</td></tr><tr><td>6</td><td>[System.Reflection.AssemblyCompanyAttribute(\"Microsoft\")]</td></tr><tr><td>7</td><td>[System.Reflection.AssemblyConfigurationAttribute(\"Publish\")]</td></tr><tr><td>8</td><td>[System.Reflection.AssemblyCopyrightAttribute(\"© Microsoft Corporation. All rights reserved.\")]</td></tr><tr><td>9</td><td>[System.Reflection.AssemblyDescriptionAttribute(\"Semantic Kernel interfaces and abstractions. This package is automatically installed by Semantic Kernel packages if needed.\")]</td></tr><tr><td>10</td><td>[System.Reflection.AssemblyFileVersionAttribute(\"0.21.0.0\")]</td></tr><tr><td>11</td><td>[System.Reflection.AssemblyInformationalVersionAttribute(\"0.21+3e12f1a78de7f40b58499072b5f38832d34d9f78\")]</td></tr><tr><td>12</td><td>[System.Reflection.AssemblyProductAttribute(\"Semantic Kernel\")]</td></tr><tr><td>13</td><td>[System.Reflection.AssemblyTitleAttribute(\"Microsoft.SemanticKernel.Abstractions\")]</td></tr><tr><td>14</td><td>[System.Reflection.AssemblyMetadataAttribute(\"RepositoryUrl\", \"https://github.com/microsoft/semantic-kernel\")]</td></tr><tr><td>15</td><td>[System.Runtime.CompilerServices.InternalsVisibleToAttribute(\"Microsoft.SemanticKernel.Core, PublicKey=002400000c80000014010000060200000024000052534131000800000100010085aad0bef0688d1b994a0d78e1fd29fc24ac34ed3d3ac3fb9b3d0c48386ba834aa880035060a8848b2d8adf58e670ed20914be3681a891c9c8c01eef2ab22872547c39be00af0e6c72485d7cfd1a51df8947d36ceba9989106b58abe79e6a3e71a01ed6bdc867012883e0b1a4d35b1b5eeed6df21e401bb0c22f2246ccb69979dc9e61eef262832ed0f2064853725a75485fa8a3efb7e027319c86dec03dc3b1bca2b5081bab52a627b9917450dfad534799e1c7af58683bdfa135f1518ff1ea60e90d7b993a6c87fd3dd93408e35d1296f9a7f9a97c5db56c0f3cc25ad11e9777f94d138b3cea53b9a8331c2e6dcb8d2ea94e18bf1163ff112a22dbd92d429a\")]</td></tr><tr><td>16</td><td>[System.Runtime.CompilerServices.InternalsVisibleToAttribute(\"SemanticKernel.UnitTests, PublicKey=002400000c80000014010000060200000024000052534131000800000100010085aad0bef0688d1b994a0d78e1fd29fc24ac34ed3d3ac3fb9b3d0c48386ba834aa880035060a8848b2d8adf58e670ed20914be3681a891c9c8c01eef2ab22872547c39be00af0e6c72485d7cfd1a51df8947d36ceba9989106b58abe79e6a3e71a01ed6bdc867012883e0b1a4d35b1b5eeed6df21e401bb0c22f2246ccb69979dc9e61eef262832ed0f2064853725a75485fa8a3efb7e027319c86dec03dc3b1bca2b5081bab52a627b9917450dfad534799e1c7af58683bdfa135f1518ff1ea60e90d7b993a6c87fd3dd93408e35d1296f9a7f9a97c5db56c0f3cc25ad11e9777f94d138b3cea53b9a8331c2e6dcb8d2ea94e18bf1163ff112a22dbd92d429a\")]</td></tr><tr><td>17</td><td>[System.Runtime.CompilerServices.InternalsVisibleToAttribute(\"Extensions.UnitTests, PublicKey=002400000c80000014010000060200000024000052534131000800000100010085aad0bef0688d1b994a0d78e1fd29fc24ac34ed3d3ac3fb9b3d0c48386ba834aa880035060a8848b2d8adf58e670ed20914be3681a891c9c8c01eef2ab22872547c39be00af0e6c72485d7cfd1a51df8947d36ceba9989106b58abe79e6a3e71a01ed6bdc867012883e0b1a4d35b1b5eeed6df21e401bb0c22f2246ccb69979dc9e61eef262832ed0f2064853725a75485fa8a3efb7e027319c86dec03dc3b1bca2b5081bab52a627b9917450dfad534799e1c7af58683bdfa135f1518ff1ea60e90d7b993a6c87fd3dd93408e35d1296f9a7f9a97c5db56c0f3cc25ad11e9777f94d138b3cea53b9a8331c2e6dcb8d2ea94e18bf1163ff112a22dbd92d429a\")]</td></tr><tr><td>18</td><td>[System.Runtime.CompilerServices.InternalsVisibleToAttribute(\"DynamicProxyGenAssembly2, PublicKey=002400000c80000014010000060200000024000052534131000800000100010085aad0bef0688d1b994a0d78e1fd29fc24ac34ed3d3ac3fb9b3d0c48386ba834aa880035060a8848b2d8adf58e670ed20914be3681a891c9c8c01eef2ab22872547c39be00af0e6c72485d7cfd1a51df8947d36ceba9989106b58abe79e6a3e71a01ed6bdc867012883e0b1a4d35b1b5eeed6df21e401bb0c22f2246ccb69979dc9e61eef262832ed0f2064853725a75485fa8a3efb7e027319c86dec03dc3b1bca2b5081bab52a627b9917450dfad534799e1c7af58683bdfa135f1518ff1ea60e90d7b993a6c87fd3dd93408e35d1296f9a7f9a97c5db56c0f3cc25ad11e9777f94d138b3cea53b9a8331c2e6dcb8d2ea94e18bf1163ff112a22dbd92d429a\")]</td></tr></tbody></table></td></tr><tr><td>EscapedCodeBase</td><td><div class=\"dni-plaintext\"><pre>file:///C:/Users/dicolomb/.nuget/packages/microsoft.semantickernel.abstractions/0.21.230828.2-preview/lib/netstandard2.0/Microsoft.SemanticKernel.Abstractions.dll</pre></div></td></tr><tr><td>Modules</td><td><table><thead><tr><th><i>index</i></th><th>value</th></tr></thead><tbody><tr><td>0</td><td>Microsoft.SemanticKernel.Abstractions.dll</td></tr></tbody></table></td></tr><tr><td>SecurityRuleSet</td><td><span>None</span></td></tr></tbody></table></div></details></td></tr><tr><td>ModuleHandle</td><td><details class=\"dni-treeview\"><summary><span class=\"dni-code-hint\"><code>System.ModuleHandle</code></span></summary><div><table><thead><tr></tr></thead><tbody><tr><td>MDStreamVersion</td><td><div class=\"dni-plaintext\"><pre>131072</pre></div></td></tr></tbody></table></div></details></td></tr><tr><td>CustomAttributes</td><td><i>(empty)</i></td></tr></tbody></table></div></details></td></tr><tr><td>IsSecurityCritical</td><td><div class=\"dni-plaintext\"><pre>True</pre></div></td></tr><tr><td>IsSecuritySafeCritical</td><td><div class=\"dni-plaintext\"><pre>False</pre></div></td></tr><tr><td>IsSecurityTransparent</td><td><div class=\"dni-plaintext\"><pre>False</pre></div></td></tr><tr><td>MethodHandle</td><td><details class=\"dni-treeview\"><summary><span class=\"dni-code-hint\"><code>System.RuntimeMethodHandle</code></span></summary><div><table><thead><tr></tr></thead><tbody><tr><td>Value</td><td><div class=\"dni-plaintext\"><pre>140717887080264</pre></div></td></tr></tbody></table></div></details></td></tr><tr><td>Attributes</td><td><span>PrivateScope, Public, HideBySig, SpecialName</span></td></tr><tr><td>CallingConvention</td><td><span>Standard, HasThis</span></td></tr><tr><td>ReturnType</td><td><span><a href=\"https://docs.microsoft.com/dotnet/api/microsoft.semantickernel.memory.isemantictextmemory?view=net-7.0\">Microsoft.SemanticKernel.Memory.ISemanticTextMemory</a></span></td></tr><tr><td>ReturnTypeCustomAttributes</td><td><details class=\"dni-treeview\"><summary><span class=\"dni-code-hint\"><code>Microsoft.SemanticKernel.Memory.ISemanticTextMemory</code></span></summary><div><table><thead><tr></tr></thead><tbody><tr><td>ParameterType</td><td><span><a href=\"https://docs.microsoft.com/dotnet/api/microsoft.semantickernel.memory.isemantictextmemory?view=net-7.0\">Microsoft.SemanticKernel.Memory.ISemanticTextMemory</a></span></td></tr><tr><td>Name</td><td><div class=\"dni-plaintext\"><pre>&lt;null&gt;</pre></div></td></tr><tr><td>HasDefaultValue</td><td><div class=\"dni-plaintext\"><pre>True</pre></div></td></tr><tr><td>DefaultValue</td><td><div class=\"dni-plaintext\"><pre>&lt;null&gt;</pre></div></td></tr><tr><td>RawDefaultValue</td><td><div class=\"dni-plaintext\"><pre>&lt;null&gt;</pre></div></td></tr><tr><td>MetadataToken</td><td><div class=\"dni-plaintext\"><pre>134217728</pre></div></td></tr><tr><td>Attributes</td><td><span>None</span></td></tr><tr><td>Member</td><td><details class=\"dni-treeview\"><summary><span class=\"dni-code-hint\"><code>Microsoft.SemanticKernel.Memory.ISemanticTextMemory get_Memory()</code></span></summary><div><table><thead><tr></tr></thead><tbody><tr><td>Name</td><td><div class=\"dni-plaintext\"><pre>get_Memory</pre></div></td></tr><tr><td>DeclaringType</td><td><span><a href=\"https://docs.microsoft.com/dotnet/api/microsoft.semantickernel.orchestration.skcontext?view=net-7.0\">Microsoft.SemanticKernel.Orchestration.SKContext</a></span></td></tr><tr><td>ReflectedType</td><td><span><a href=\"https://docs.microsoft.com/dotnet/api/microsoft.semantickernel.orchestration.skcontext?view=net-7.0\">Microsoft.SemanticKernel.Orchestration.SKContext</a></span></td></tr><tr><td>MemberType</td><td><span>Method</span></td></tr><tr><td>MetadataToken</td><td><div class=\"dni-plaintext\"><pre>100663585</pre></div></td></tr><tr><td>Module</td><td><details class=\"dni-treeview\"><summary><span class=\"dni-code-hint\"><code>Microsoft.SemanticKernel.Abstractions.dll</code></span></summary><div><table><thead><tr></tr></thead><tbody><tr><td>MDStreamVersion</td><td>131072</td></tr><tr><td>FullyQualifiedName</td><td>C:\\Users\\dicolomb\\.nuget\\packages\\microsoft.semantickernel.abstractions\\0.21.230828.2-preview\\lib\\netstandard2.0\\Microsoft.SemanticKernel.Abstractions.dll</td></tr><tr><td>ModuleVersionId</td><td>f9615d6c-17d4-4d20-ba96-14e20c568e22</td></tr><tr><td>MetadataToken</td><td>1</td></tr><tr><td>ScopeName</td><td>Microsoft.SemanticKernel.Abstractions.dll</td></tr><tr><td>Name</td><td>Microsoft.SemanticKernel.Abstractions.dll</td></tr><tr><td>Assembly</td><td>Microsoft.SemanticKernel.Abstractions, Version=0.21.0.0, Culture=neutral, PublicKeyToken=f300afd708cefcd3</td></tr><tr><td>ModuleHandle</td><td>System.ModuleHandle</td></tr><tr><td>CustomAttributes</td><td>[  ]</td></tr></tbody></table></div></details></td></tr><tr><td>IsSecurityCritical</td><td><div class=\"dni-plaintext\"><pre>True</pre></div></td></tr><tr><td>IsSecuritySafeCritical</td><td><div class=\"dni-plaintext\"><pre>False</pre></div></td></tr><tr><td>IsSecurityTransparent</td><td><div class=\"dni-plaintext\"><pre>False</pre></div></td></tr><tr><td>MethodHandle</td><td><details class=\"dni-treeview\"><summary><span class=\"dni-code-hint\"><code>System.RuntimeMethodHandle</code></span></summary><div><table><thead><tr></tr></thead><tbody><tr><td>Value</td><td>140717887080264</td></tr></tbody></table></div></details></td></tr><tr><td>Attributes</td><td><span>PrivateScope, Public, HideBySig, SpecialName</span></td></tr><tr><td>CallingConvention</td><td><span>Standard, HasThis</span></td></tr><tr><td>ReturnType</td><td><span><a href=\"https://docs.microsoft.com/dotnet/api/microsoft.semantickernel.memory.isemantictextmemory?view=net-7.0\">Microsoft.SemanticKernel.Memory.ISemanticTextMemory</a></span></td></tr><tr><td>ReturnTypeCustomAttributes</td><td><details class=\"dni-treeview\"><summary><span class=\"dni-code-hint\"><code>Microsoft.SemanticKernel.Memory.ISemanticTextMemory</code></span></summary><div><table><thead><tr></tr></thead><tbody><tr><td>ParameterType</td><td>Microsoft.SemanticKernel.Memory.ISemanticTextMemory</td></tr><tr><td>Name</td><td><div class=\"dni-plaintext\"><pre>&lt;null&gt;</pre></div></td></tr><tr><td>HasDefaultValue</td><td>True</td></tr><tr><td>DefaultValue</td><td><div class=\"dni-plaintext\"><pre>&lt;null&gt;</pre></div></td></tr><tr><td>RawDefaultValue</td><td><div class=\"dni-plaintext\"><pre>&lt;null&gt;</pre></div></td></tr><tr><td>MetadataToken</td><td>134217728</td></tr><tr><td>Attributes</td><td>None</td></tr><tr><td>Member</td><td>Microsoft.SemanticKernel.Memory.ISemanticTextMemory get_Memory()</td></tr><tr><td>Position</td><td>-1</td></tr><tr><td>IsIn</td><td>False</td></tr><tr><td>IsLcid</td><td>False</td></tr><tr><td>IsOptional</td><td>False</td></tr><tr><td>IsOut</td><td>False</td></tr><tr><td>IsRetval</td><td>False</td></tr><tr><td>CustomAttributes</td><td>[  ]</td></tr></tbody></table></div></details></td></tr><tr><td>ReturnParameter</td><td><details class=\"dni-treeview\"><summary><span class=\"dni-code-hint\"><code>Microsoft.SemanticKernel.Memory.ISemanticTextMemory</code></span></summary><div><table><thead><tr></tr></thead><tbody><tr><td>ParameterType</td><td>Microsoft.SemanticKernel.Memory.ISemanticTextMemory</td></tr><tr><td>Name</td><td><div class=\"dni-plaintext\"><pre>&lt;null&gt;</pre></div></td></tr><tr><td>HasDefaultValue</td><td>True</td></tr><tr><td>DefaultValue</td><td><div class=\"dni-plaintext\"><pre>&lt;null&gt;</pre></div></td></tr><tr><td>RawDefaultValue</td><td><div class=\"dni-plaintext\"><pre>&lt;null&gt;</pre></div></td></tr><tr><td>MetadataToken</td><td>134217728</td></tr><tr><td>Attributes</td><td>None</td></tr><tr><td>Member</td><td>Microsoft.SemanticKernel.Memory.ISemanticTextMemory get_Memory()</td></tr><tr><td>Position</td><td>-1</td></tr><tr><td>IsIn</td><td>False</td></tr><tr><td>IsLcid</td><td>False</td></tr><tr><td>IsOptional</td><td>False</td></tr><tr><td>IsOut</td><td>False</td></tr><tr><td>IsRetval</td><td>False</td></tr><tr><td>CustomAttributes</td><td>[  ]</td></tr></tbody></table></div></details></td></tr><tr><td>IsCollectible</td><td><div class=\"dni-plaintext\"><pre>False</pre></div></td></tr><tr><td>IsGenericMethod</td><td><div class=\"dni-plaintext\"><pre>False</pre></div></td></tr><tr><td>IsGenericMethodDefinition</td><td><div class=\"dni-plaintext\"><pre>False</pre></div></td></tr><tr><td>ContainsGenericParameters</td><td><div class=\"dni-plaintext\"><pre>False</pre></div></td></tr><tr><td>MethodImplementationFlags</td><td><span>IL</span></td></tr><tr><td>IsAbstract</td><td><div class=\"dni-plaintext\"><pre>False</pre></div></td></tr><tr><td>IsConstructor</td><td><div class=\"dni-plaintext\"><pre>False</pre></div></td></tr><tr><td>IsFinal</td><td><div class=\"dni-plaintext\"><pre>False</pre></div></td></tr><tr><td>IsHideBySig</td><td><div class=\"dni-plaintext\"><pre>True</pre></div></td></tr><tr><td>IsSpecialName</td><td><div class=\"dni-plaintext\"><pre>True</pre></div></td></tr><tr><td>IsStatic</td><td><div class=\"dni-plaintext\"><pre>False</pre></div></td></tr><tr><td>IsVirtual</td><td><div class=\"dni-plaintext\"><pre>False</pre></div></td></tr><tr><td>IsAssembly</td><td><div class=\"dni-plaintext\"><pre>False</pre></div></td></tr><tr><td>IsFamily</td><td><div class=\"dni-plaintext\"><pre>False</pre></div></td></tr><tr><td>IsFamilyAndAssembly</td><td><div class=\"dni-plaintext\"><pre>False</pre></div></td></tr><tr><td>IsFamilyOrAssembly</td><td><div class=\"dni-plaintext\"><pre>False</pre></div></td></tr><tr><td>IsPrivate</td><td><div class=\"dni-plaintext\"><pre>False</pre></div></td></tr><tr><td>IsPublic</td><td><div class=\"dni-plaintext\"><pre>True</pre></div></td></tr><tr><td>IsConstructedGenericMethod</td><td><div class=\"dni-plaintext\"><pre>False</pre></div></td></tr><tr><td>CustomAttributes</td><td><i>(empty)</i></td></tr></tbody></table></div></details></td></tr><tr><td>Position</td><td><div class=\"dni-plaintext\"><pre>-1</pre></div></td></tr><tr><td>IsIn</td><td><div class=\"dni-plaintext\"><pre>False</pre></div></td></tr><tr><td>IsLcid</td><td><div class=\"dni-plaintext\"><pre>False</pre></div></td></tr><tr><td>IsOptional</td><td><div class=\"dni-plaintext\"><pre>False</pre></div></td></tr><tr><td>IsOut</td><td><div class=\"dni-plaintext\"><pre>False</pre></div></td></tr><tr><td>IsRetval</td><td><div class=\"dni-plaintext\"><pre>False</pre></div></td></tr><tr><td>CustomAttributes</td><td><i>(empty)</i></td></tr></tbody></table></div></details></td></tr><tr><td>ReturnParameter</td><td><details class=\"dni-treeview\"><summary><span class=\"dni-code-hint\"><code>Microsoft.SemanticKernel.Memory.ISemanticTextMemory</code></span></summary><div><table><thead><tr></tr></thead><tbody><tr><td>ParameterType</td><td><span><a href=\"https://docs.microsoft.com/dotnet/api/microsoft.semantickernel.memory.isemantictextmemory?view=net-7.0\">Microsoft.SemanticKernel.Memory.ISemanticTextMemory</a></span></td></tr><tr><td>Name</td><td><div class=\"dni-plaintext\"><pre>&lt;null&gt;</pre></div></td></tr><tr><td>HasDefaultValue</td><td><div class=\"dni-plaintext\"><pre>True</pre></div></td></tr><tr><td>DefaultValue</td><td><div class=\"dni-plaintext\"><pre>&lt;null&gt;</pre></div></td></tr><tr><td>RawDefaultValue</td><td><div class=\"dni-plaintext\"><pre>&lt;null&gt;</pre></div></td></tr><tr><td>MetadataToken</td><td><div class=\"dni-plaintext\"><pre>134217728</pre></div></td></tr><tr><td>Attributes</td><td><span>None</span></td></tr><tr><td>Member</td><td><details class=\"dni-treeview\"><summary><span class=\"dni-code-hint\"><code>Microsoft.SemanticKernel.Memory.ISemanticTextMemory get_Memory()</code></span></summary><div><table><thead><tr></tr></thead><tbody><tr><td>Name</td><td><div class=\"dni-plaintext\"><pre>get_Memory</pre></div></td></tr><tr><td>DeclaringType</td><td><span><a href=\"https://docs.microsoft.com/dotnet/api/microsoft.semantickernel.orchestration.skcontext?view=net-7.0\">Microsoft.SemanticKernel.Orchestration.SKContext</a></span></td></tr><tr><td>ReflectedType</td><td><span><a href=\"https://docs.microsoft.com/dotnet/api/microsoft.semantickernel.orchestration.skcontext?view=net-7.0\">Microsoft.SemanticKernel.Orchestration.SKContext</a></span></td></tr><tr><td>MemberType</td><td><span>Method</span></td></tr><tr><td>MetadataToken</td><td><div class=\"dni-plaintext\"><pre>100663585</pre></div></td></tr><tr><td>Module</td><td><details class=\"dni-treeview\"><summary><span class=\"dni-code-hint\"><code>Microsoft.SemanticKernel.Abstractions.dll</code></span></summary><div><table><thead><tr></tr></thead><tbody><tr><td>MDStreamVersion</td><td>131072</td></tr><tr><td>FullyQualifiedName</td><td>C:\\Users\\dicolomb\\.nuget\\packages\\microsoft.semantickernel.abstractions\\0.21.230828.2-preview\\lib\\netstandard2.0\\Microsoft.SemanticKernel.Abstractions.dll</td></tr><tr><td>ModuleVersionId</td><td>f9615d6c-17d4-4d20-ba96-14e20c568e22</td></tr><tr><td>MetadataToken</td><td>1</td></tr><tr><td>ScopeName</td><td>Microsoft.SemanticKernel.Abstractions.dll</td></tr><tr><td>Name</td><td>Microsoft.SemanticKernel.Abstractions.dll</td></tr><tr><td>Assembly</td><td>Microsoft.SemanticKernel.Abstractions, Version=0.21.0.0, Culture=neutral, PublicKeyToken=f300afd708cefcd3</td></tr><tr><td>ModuleHandle</td><td>System.ModuleHandle</td></tr><tr><td>CustomAttributes</td><td>[  ]</td></tr></tbody></table></div></details></td></tr><tr><td>IsSecurityCritical</td><td><div class=\"dni-plaintext\"><pre>True</pre></div></td></tr><tr><td>IsSecuritySafeCritical</td><td><div class=\"dni-plaintext\"><pre>False</pre></div></td></tr><tr><td>IsSecurityTransparent</td><td><div class=\"dni-plaintext\"><pre>False</pre></div></td></tr><tr><td>MethodHandle</td><td><details class=\"dni-treeview\"><summary><span class=\"dni-code-hint\"><code>System.RuntimeMethodHandle</code></span></summary><div><table><thead><tr></tr></thead><tbody><tr><td>Value</td><td>140717887080264</td></tr></tbody></table></div></details></td></tr><tr><td>Attributes</td><td><span>PrivateScope, Public, HideBySig, SpecialName</span></td></tr><tr><td>CallingConvention</td><td><span>Standard, HasThis</span></td></tr><tr><td>ReturnType</td><td><span><a href=\"https://docs.microsoft.com/dotnet/api/microsoft.semantickernel.memory.isemantictextmemory?view=net-7.0\">Microsoft.SemanticKernel.Memory.ISemanticTextMemory</a></span></td></tr><tr><td>ReturnTypeCustomAttributes</td><td><details class=\"dni-treeview\"><summary><span class=\"dni-code-hint\"><code>Microsoft.SemanticKernel.Memory.ISemanticTextMemory</code></span></summary><div><table><thead><tr></tr></thead><tbody><tr><td>ParameterType</td><td>Microsoft.SemanticKernel.Memory.ISemanticTextMemory</td></tr><tr><td>Name</td><td><div class=\"dni-plaintext\"><pre>&lt;null&gt;</pre></div></td></tr><tr><td>HasDefaultValue</td><td>True</td></tr><tr><td>DefaultValue</td><td><div class=\"dni-plaintext\"><pre>&lt;null&gt;</pre></div></td></tr><tr><td>RawDefaultValue</td><td><div class=\"dni-plaintext\"><pre>&lt;null&gt;</pre></div></td></tr><tr><td>MetadataToken</td><td>134217728</td></tr><tr><td>Attributes</td><td>None</td></tr><tr><td>Member</td><td>Microsoft.SemanticKernel.Memory.ISemanticTextMemory get_Memory()</td></tr><tr><td>Position</td><td>-1</td></tr><tr><td>IsIn</td><td>False</td></tr><tr><td>IsLcid</td><td>False</td></tr><tr><td>IsOptional</td><td>False</td></tr><tr><td>IsOut</td><td>False</td></tr><tr><td>IsRetval</td><td>False</td></tr><tr><td>CustomAttributes</td><td>[  ]</td></tr></tbody></table></div></details></td></tr><tr><td>ReturnParameter</td><td><details class=\"dni-treeview\"><summary><span class=\"dni-code-hint\"><code>Microsoft.SemanticKernel.Memory.ISemanticTextMemory</code></span></summary><div><table><thead><tr></tr></thead><tbody><tr><td>ParameterType</td><td>Microsoft.SemanticKernel.Memory.ISemanticTextMemory</td></tr><tr><td>Name</td><td><div class=\"dni-plaintext\"><pre>&lt;null&gt;</pre></div></td></tr><tr><td>HasDefaultValue</td><td>True</td></tr><tr><td>DefaultValue</td><td><div class=\"dni-plaintext\"><pre>&lt;null&gt;</pre></div></td></tr><tr><td>RawDefaultValue</td><td><div class=\"dni-plaintext\"><pre>&lt;null&gt;</pre></div></td></tr><tr><td>MetadataToken</td><td>134217728</td></tr><tr><td>Attributes</td><td>None</td></tr><tr><td>Member</td><td>Microsoft.SemanticKernel.Memory.ISemanticTextMemory get_Memory()</td></tr><tr><td>Position</td><td>-1</td></tr><tr><td>IsIn</td><td>False</td></tr><tr><td>IsLcid</td><td>False</td></tr><tr><td>IsOptional</td><td>False</td></tr><tr><td>IsOut</td><td>False</td></tr><tr><td>IsRetval</td><td>False</td></tr><tr><td>CustomAttributes</td><td>[  ]</td></tr></tbody></table></div></details></td></tr><tr><td>IsCollectible</td><td><div class=\"dni-plaintext\"><pre>False</pre></div></td></tr><tr><td>IsGenericMethod</td><td><div class=\"dni-plaintext\"><pre>False</pre></div></td></tr><tr><td>IsGenericMethodDefinition</td><td><div class=\"dni-plaintext\"><pre>False</pre></div></td></tr><tr><td>ContainsGenericParameters</td><td><div class=\"dni-plaintext\"><pre>False</pre></div></td></tr><tr><td>MethodImplementationFlags</td><td><span>IL</span></td></tr><tr><td>IsAbstract</td><td><div class=\"dni-plaintext\"><pre>False</pre></div></td></tr><tr><td>IsConstructor</td><td><div class=\"dni-plaintext\"><pre>False</pre></div></td></tr><tr><td>IsFinal</td><td><div class=\"dni-plaintext\"><pre>False</pre></div></td></tr><tr><td>IsHideBySig</td><td><div class=\"dni-plaintext\"><pre>True</pre></div></td></tr><tr><td>IsSpecialName</td><td><div class=\"dni-plaintext\"><pre>True</pre></div></td></tr><tr><td>IsStatic</td><td><div class=\"dni-plaintext\"><pre>False</pre></div></td></tr><tr><td>IsVirtual</td><td><div class=\"dni-plaintext\"><pre>False</pre></div></td></tr><tr><td>IsAssembly</td><td><div class=\"dni-plaintext\"><pre>False</pre></div></td></tr><tr><td>IsFamily</td><td><div class=\"dni-plaintext\"><pre>False</pre></div></td></tr><tr><td>IsFamilyAndAssembly</td><td><div class=\"dni-plaintext\"><pre>False</pre></div></td></tr><tr><td>IsFamilyOrAssembly</td><td><div class=\"dni-plaintext\"><pre>False</pre></div></td></tr><tr><td>IsPrivate</td><td><div class=\"dni-plaintext\"><pre>False</pre></div></td></tr><tr><td>IsPublic</td><td><div class=\"dni-plaintext\"><pre>True</pre></div></td></tr><tr><td>IsConstructedGenericMethod</td><td><div class=\"dni-plaintext\"><pre>False</pre></div></td></tr><tr><td>CustomAttributes</td><td><i>(empty)</i></td></tr></tbody></table></div></details></td></tr><tr><td>Position</td><td><div class=\"dni-plaintext\"><pre>-1</pre></div></td></tr><tr><td>IsIn</td><td><div class=\"dni-plaintext\"><pre>False</pre></div></td></tr><tr><td>IsLcid</td><td><div class=\"dni-plaintext\"><pre>False</pre></div></td></tr><tr><td>IsOptional</td><td><div class=\"dni-plaintext\"><pre>False</pre></div></td></tr><tr><td>IsOut</td><td><div class=\"dni-plaintext\"><pre>False</pre></div></td></tr><tr><td>IsRetval</td><td><div class=\"dni-plaintext\"><pre>False</pre></div></td></tr><tr><td>CustomAttributes</td><td><i>(empty)</i></td></tr></tbody></table></div></details></td></tr><tr><td>IsCollectible</td><td><div class=\"dni-plaintext\"><pre>False</pre></div></td></tr><tr><td>IsGenericMethod</td><td><div class=\"dni-plaintext\"><pre>False</pre></div></td></tr><tr><td>IsGenericMethodDefinition</td><td><div class=\"dni-plaintext\"><pre>False</pre></div></td></tr><tr><td>ContainsGenericParameters</td><td><div class=\"dni-plaintext\"><pre>False</pre></div></td></tr><tr><td>MethodImplementationFlags</td><td><span>IL</span></td></tr><tr><td>IsAbstract</td><td><div class=\"dni-plaintext\"><pre>False</pre></div></td></tr><tr><td>IsConstructor</td><td><div class=\"dni-plaintext\"><pre>False</pre></div></td></tr><tr><td>IsFinal</td><td><div class=\"dni-plaintext\"><pre>False</pre></div></td></tr><tr><td>IsHideBySig</td><td><div class=\"dni-plaintext\"><pre>True</pre></div></td></tr><tr><td>IsSpecialName</td><td><div class=\"dni-plaintext\"><pre>True</pre></div></td></tr><tr><td>IsStatic</td><td><div class=\"dni-plaintext\"><pre>False</pre></div></td></tr><tr><td>IsVirtual</td><td><div class=\"dni-plaintext\"><pre>False</pre></div></td></tr><tr><td>IsAssembly</td><td><div class=\"dni-plaintext\"><pre>False</pre></div></td></tr><tr><td>IsFamily</td><td><div class=\"dni-plaintext\"><pre>False</pre></div></td></tr><tr><td>IsFamilyAndAssembly</td><td><div class=\"dni-plaintext\"><pre>False</pre></div></td></tr><tr><td>IsFamilyOrAssembly</td><td><div class=\"dni-plaintext\"><pre>False</pre></div></td></tr><tr><td>IsPrivate</td><td><div class=\"dni-plaintext\"><pre>False</pre></div></td></tr><tr><td>IsPublic</td><td><div class=\"dni-plaintext\"><pre>True</pre></div></td></tr><tr><td>IsConstructedGenericMethod</td><td><div class=\"dni-plaintext\"><pre>False</pre></div></td></tr><tr><td>CustomAttributes</td><td><i>(empty)</i></td></tr></tbody></table></div></details></td></tr><tr><td>Message</td><td><div class=\"dni-plaintext\"><pre>Memory no longer passed through SKContext. Instead, initialize your skill class with the memory provider it needs.</pre></div></td></tr><tr><td>Data</td><td><i>(empty)</i></td></tr><tr><td>InnerException</td><td><div class=\"dni-plaintext\"><pre>&lt;null&gt;</pre></div></td></tr><tr><td>HelpLink</td><td><div class=\"dni-plaintext\"><pre>&lt;null&gt;</pre></div></td></tr><tr><td>Source</td><td><div class=\"dni-plaintext\"><pre>Microsoft.SemanticKernel.Abstractions</pre></div></td></tr><tr><td>HResult</td><td><div class=\"dni-plaintext\"><pre>-2146233079</pre></div></td></tr><tr><td>StackTrace</td><td><div class=\"dni-plaintext\"><pre>   at Microsoft.SemanticKernel.Orchestration.SKContext.get_Memory()\r\n",
       "   at lambda_method420(Closure, SKContext)\r\n",
       "   at Microsoft.DotNet.Interactive.Formatting.MemberAccessor`1.GetValueOrException(T instance) in D:\\a\\_work\\1\\s\\src\\Microsoft.DotNet.Interactive.Formatting\\MemberAccessor{T}.cs:line 64</pre></div></td></tr></tbody></table></div></details></td></tr><tr><td>LastErrorDescription</td><td><div class=\"dni-plaintext\"><pre>&lt;null&gt;</pre></div></td></tr></tbody></table></div></details><style>\r\n",
       ".dni-code-hint {\r\n",
       "    font-style: italic;\r\n",
       "    overflow: hidden;\r\n",
       "    white-space: nowrap;\r\n",
       "}\r\n",
       ".dni-treeview {\r\n",
       "    white-space: nowrap;\r\n",
       "}\r\n",
       ".dni-treeview td {\r\n",
       "    vertical-align: top;\r\n",
       "    text-align: start;\r\n",
       "}\r\n",
       "details.dni-treeview {\r\n",
       "    padding-left: 1em;\r\n",
       "}\r\n",
       "table td {\r\n",
       "    text-align: start;\r\n",
       "}\r\n",
       "table tr { \r\n",
       "    vertical-align: top; \r\n",
       "    margin: 0em 0px;\r\n",
       "}\r\n",
       "table tr td pre \r\n",
       "{ \r\n",
       "    vertical-align: top !important; \r\n",
       "    margin: 0em 0px !important;\r\n",
       "} \r\n",
       "table th {\r\n",
       "    text-align: start;\r\n",
       "}\r\n",
       "</style>"
      ],
      "text/plain": [
       "\n",
       "Yes, .NET Interactive supports the Jupyter protocol, allowing users to write and execute code in languages such as Python, R, and Julia."
      ]
     },
     "metadata": {},
     "output_type": "display_data"
    }
   ],
   "source": [
    "\n",
    "does it  support  python?"
   ]
  },
  {
   "cell_type": "code",
   "execution_count": 14,
   "metadata": {
    "dotnet_interactive": {
     "language": "textCompletion(skill)"
    },
    "polyglot_notebook": {
     "kernelName": "textCompletion(skill)"
    }
   },
   "outputs": [],
   "source": [
    "#!function be_clear\n",
    "Answer the following questions:\n",
    "{{$input}}\n",
    "\n",
    "And make sure to be succint and clear."
   ]
  },
  {
   "cell_type": "code",
   "execution_count": 15,
   "metadata": {
    "dotnet_interactive": {
     "language": "textCompletion"
    },
    "polyglot_notebook": {
     "kernelName": "textCompletion"
    }
   },
   "outputs": [
    {
     "data": {
      "text/html": [
       "<details open=\"open\" class=\"dni-treeview\"><summary><span class=\"dni-code-hint\"><code>Yes, .NET Interactive allows users to create rich visualizations using mermaid language, javascript, and HTML kernels. It also provides extension APIs to create custom magic commands and execute code in multiple languages.</code></span></summary><div><table><thead><tr></tr></thead><tbody><tr><td>Result</td><td><div class=\"dni-plaintext\"><pre>\n",
       "\n",
       "Yes, .NET Interactive allows users to create rich visualizations using mermaid language, javascript, and HTML kernels. It also provides extension APIs to create custom magic commands and execute code in multiple languages.</pre></div></td></tr><tr><td>ModelResults</td><td><table><thead><tr><th><i>index</i></th><th>value</th></tr></thead><tbody><tr><td>0</td><td><details class=\"dni-treeview\"><summary><span class=\"dni-code-hint\"><code>Microsoft.SemanticKernel.Orchestration.ModelResult</code></span></summary><div><table><thead><tr></tr></thead><tbody></tbody></table></div></details></td></tr></tbody></table></td></tr><tr><td>Culture</td><td><details class=\"dni-treeview\"><summary><span class=\"dni-code-hint\"><code>en</code></span></summary><div><table><thead><tr></tr></thead><tbody><tr><td>Parent</td><td><details class=\"dni-treeview\"><summary><span class=\"dni-code-hint\"><code></code></span></summary><div><table><thead><tr></tr></thead><tbody><tr><td>Parent</td><td><details class=\"dni-treeview\"><summary><span class=\"dni-code-hint\"><code></code></span></summary><div><table><thead><tr></tr></thead><tbody><tr><td>Parent</td><td><details class=\"dni-treeview\"><summary><span class=\"dni-code-hint\"><code></code></span></summary><div><table><thead><tr></tr></thead><tbody><tr><td>Parent</td><td><details class=\"dni-treeview\"><summary><span class=\"dni-code-hint\"><code></code></span></summary><div><table><thead><tr></tr></thead><tbody><tr><td>Parent</td><td></td></tr><tr><td>LCID</td><td>127</td></tr><tr><td>KeyboardLayoutId</td><td>127</td></tr><tr><td>Name</td><td></td></tr><tr><td>IetfLanguageTag</td><td></td></tr><tr><td>DisplayName</td><td>Invariant Language (Invariant Country)</td></tr><tr><td>NativeName</td><td>Invariant Language (Invariant Country)</td></tr><tr><td>EnglishName</td><td>Invariant Language (Invariant Country)</td></tr><tr><td>TwoLetterISOLanguageName</td><td>iv</td></tr><tr><td>ThreeLetterISOLanguageName</td><td>ivl</td></tr><tr><td>ThreeLetterWindowsLanguageName</td><td>IVL</td></tr><tr><td>CompareInfo</td><td>CompareInfo - </td></tr><tr><td>TextInfo</td><td>TextInfo - </td></tr><tr><td>IsNeutralCulture</td><td>False</td></tr><tr><td>CultureTypes</td><td>SpecificCultures, InstalledWin32Cultures</td></tr><tr><td>NumberFormat</td><td>System.Globalization.NumberFormatInfo</td></tr><tr><td>DateTimeFormat</td><td>System.Globalization.DateTimeFormatInfo</td></tr><tr><td>Calendar</td><td>System.Globalization.GregorianCalendar</td></tr><tr><td>OptionalCalendars</td><td>[ System.Globalization.GregorianCalendar ]</td></tr><tr><td>UseUserOverride</td><td>False</td></tr><tr><td>IsReadOnly</td><td>True</td></tr></tbody></table></div></details></td></tr><tr><td>LCID</td><td><div class=\"dni-plaintext\"><pre>127</pre></div></td></tr><tr><td>KeyboardLayoutId</td><td><div class=\"dni-plaintext\"><pre>127</pre></div></td></tr><tr><td>Name</td><td><div class=\"dni-plaintext\"><pre></pre></div></td></tr><tr><td>IetfLanguageTag</td><td><div class=\"dni-plaintext\"><pre></pre></div></td></tr><tr><td>DisplayName</td><td><div class=\"dni-plaintext\"><pre>Invariant Language (Invariant Country)</pre></div></td></tr><tr><td>NativeName</td><td><div class=\"dni-plaintext\"><pre>Invariant Language (Invariant Country)</pre></div></td></tr><tr><td>EnglishName</td><td><div class=\"dni-plaintext\"><pre>Invariant Language (Invariant Country)</pre></div></td></tr><tr><td>TwoLetterISOLanguageName</td><td><div class=\"dni-plaintext\"><pre>iv</pre></div></td></tr><tr><td>ThreeLetterISOLanguageName</td><td><div class=\"dni-plaintext\"><pre>ivl</pre></div></td></tr><tr><td>ThreeLetterWindowsLanguageName</td><td><div class=\"dni-plaintext\"><pre>IVL</pre></div></td></tr><tr><td>CompareInfo</td><td><details class=\"dni-treeview\"><summary><span class=\"dni-code-hint\"><code>CompareInfo -</code></span></summary><div><table><thead><tr></tr></thead><tbody><tr><td>Name</td><td></td></tr><tr><td>Version</td><td>System.Globalization.SortVersion</td></tr><tr><td>LCID</td><td>127</td></tr></tbody></table></div></details></td></tr><tr><td>TextInfo</td><td><details class=\"dni-treeview\"><summary><span class=\"dni-code-hint\"><code>TextInfo -</code></span></summary><div><table><thead><tr></tr></thead><tbody><tr><td>ANSICodePage</td><td>1252</td></tr><tr><td>OEMCodePage</td><td>437</td></tr><tr><td>MacCodePage</td><td>10000</td></tr><tr><td>EBCDICCodePage</td><td>37</td></tr><tr><td>LCID</td><td>127</td></tr><tr><td>CultureName</td><td></td></tr><tr><td>IsReadOnly</td><td>True</td></tr><tr><td>ListSeparator</td><td>,</td></tr><tr><td>IsRightToLeft</td><td>False</td></tr></tbody></table></div></details></td></tr><tr><td>IsNeutralCulture</td><td><div class=\"dni-plaintext\"><pre>False</pre></div></td></tr><tr><td>CultureTypes</td><td><span>SpecificCultures, InstalledWin32Cultures</span></td></tr><tr><td>NumberFormat</td><td><details class=\"dni-treeview\"><summary><span class=\"dni-code-hint\"><code>System.Globalization.NumberFormatInfo</code></span></summary><div><table><thead><tr></tr></thead><tbody><tr><td>CurrencyDecimalDigits</td><td>2</td></tr><tr><td>CurrencyDecimalSeparator</td><td>.</td></tr><tr><td>IsReadOnly</td><td>True</td></tr><tr><td>CurrencyGroupSizes</td><td>[ 3 ]</td></tr><tr><td>NumberGroupSizes</td><td>[ 3 ]</td></tr><tr><td>PercentGroupSizes</td><td>[ 3 ]</td></tr><tr><td>CurrencyGroupSeparator</td><td>,</td></tr><tr><td>CurrencySymbol</td><td>¤</td></tr><tr><td>NaNSymbol</td><td>NaN</td></tr><tr><td>CurrencyNegativePattern</td><td>0</td></tr><tr><td>NumberNegativePattern</td><td>1</td></tr><tr><td>PercentPositivePattern</td><td>0</td></tr><tr><td>PercentNegativePattern</td><td>0</td></tr><tr><td>NegativeInfinitySymbol</td><td>-Infinity</td></tr><tr><td>NegativeSign</td><td>-</td></tr><tr><td>NumberDecimalDigits</td><td>2</td></tr><tr><td>NumberDecimalSeparator</td><td>.</td></tr><tr><td>NumberGroupSeparator</td><td>,</td></tr><tr><td>CurrencyPositivePattern</td><td>0</td></tr><tr><td>PositiveInfinitySymbol</td><td>Infinity</td></tr><tr><td>PositiveSign</td><td>+</td></tr><tr><td>PercentDecimalDigits</td><td>2</td></tr><tr><td>PercentDecimalSeparator</td><td>.</td></tr><tr><td>PercentGroupSeparator</td><td>,</td></tr><tr><td>PercentSymbol</td><td>%</td></tr><tr><td>PerMilleSymbol</td><td>‰</td></tr><tr><td>NativeDigits</td><td>[ 0, 1, 2, 3, 4, 5, 6, 7, 8, 9 ]</td></tr><tr><td>DigitSubstitution</td><td>None</td></tr></tbody></table></div></details></td></tr><tr><td>DateTimeFormat</td><td><details class=\"dni-treeview\"><summary><span class=\"dni-code-hint\"><code>System.Globalization.DateTimeFormatInfo</code></span></summary><div><table><thead><tr></tr></thead><tbody><tr><td>AMDesignator</td><td>AM</td></tr><tr><td>Calendar</td><td>System.Globalization.GregorianCalendar</td></tr><tr><td>DateSeparator</td><td>/</td></tr><tr><td>FirstDayOfWeek</td><td>Sunday</td></tr><tr><td>CalendarWeekRule</td><td>FirstDay</td></tr><tr><td>FullDateTimePattern</td><td>dddd, dd MMMM yyyy HH:mm:ss</td></tr><tr><td>LongDatePattern</td><td>dddd, dd MMMM yyyy</td></tr><tr><td>LongTimePattern</td><td>HH:mm:ss</td></tr><tr><td>MonthDayPattern</td><td>MMMM dd</td></tr><tr><td>PMDesignator</td><td>PM</td></tr><tr><td>RFC1123Pattern</td><td>ddd, dd MMM yyyy HH':'mm':'ss 'GMT'</td></tr><tr><td>ShortDatePattern</td><td>MM/dd/yyyy</td></tr><tr><td>ShortTimePattern</td><td>HH:mm</td></tr><tr><td>SortableDateTimePattern</td><td>yyyy'-'MM'-'dd'T'HH':'mm':'ss</td></tr><tr><td>TimeSeparator</td><td>:</td></tr><tr><td>UniversalSortableDateTimePattern</td><td>yyyy'-'MM'-'dd HH':'mm':'ss'Z'</td></tr><tr><td>YearMonthPattern</td><td>yyyy MMMM</td></tr><tr><td>AbbreviatedDayNames</td><td>[ Sun, Mon, Tue, Wed, Thu, Fri, Sat ]</td></tr><tr><td>ShortestDayNames</td><td>[ Su, Mo, Tu, We, Th, Fr, Sa ]</td></tr><tr><td>DayNames</td><td>[ Sunday, Monday, Tuesday, Wednesday, Thursday, Friday, Saturday ]</td></tr><tr><td>AbbreviatedMonthNames</td><td>[ Jan, Feb, Mar, Apr, May, Jun, Jul, Aug, Sep, Oct, Nov, Dec,  ]</td></tr><tr><td>MonthNames</td><td>[ January, February, March, April, May, June, July, August, September, October, November, December,  ]</td></tr><tr><td>IsReadOnly</td><td>True</td></tr><tr><td>NativeCalendarName</td><td>Gregorian Calendar</td></tr><tr><td>AbbreviatedMonthGenitiveNames</td><td>[ Jan, Feb, Mar, Apr, May, Jun, Jul, Aug, Sep, Oct, Nov, Dec,  ]</td></tr><tr><td>MonthGenitiveNames</td><td>[ January, February, March, April, May, June, July, August, September, October, November, December,  ]</td></tr></tbody></table></div></details></td></tr><tr><td>Calendar</td><td><details class=\"dni-treeview\"><summary><span class=\"dni-code-hint\"><code>System.Globalization.GregorianCalendar</code></span></summary><div><table><thead><tr></tr></thead><tbody><tr><td>MinSupportedDateTime</td><td>1/1/0001 12:00:00 AM</td></tr><tr><td>MaxSupportedDateTime</td><td>12/31/9999 11:59:59 PM</td></tr><tr><td>AlgorithmType</td><td>SolarCalendar</td></tr><tr><td>CalendarType</td><td>Localized</td></tr><tr><td>Eras</td><td>[ 1 ]</td></tr><tr><td>TwoDigitYearMax</td><td>2029</td></tr><tr><td>IsReadOnly</td><td>True</td></tr></tbody></table></div></details></td></tr><tr><td>OptionalCalendars</td><td><table><thead><tr><th><i>index</i></th><th>value</th></tr></thead><tbody><tr><td>0</td><td>System.Globalization.GregorianCalendar</td></tr></tbody></table></td></tr><tr><td>UseUserOverride</td><td><div class=\"dni-plaintext\"><pre>False</pre></div></td></tr><tr><td>IsReadOnly</td><td><div class=\"dni-plaintext\"><pre>True</pre></div></td></tr></tbody></table></div></details></td></tr><tr><td>LCID</td><td><div class=\"dni-plaintext\"><pre>127</pre></div></td></tr><tr><td>KeyboardLayoutId</td><td><div class=\"dni-plaintext\"><pre>127</pre></div></td></tr><tr><td>Name</td><td><div class=\"dni-plaintext\"><pre></pre></div></td></tr><tr><td>IetfLanguageTag</td><td><div class=\"dni-plaintext\"><pre></pre></div></td></tr><tr><td>DisplayName</td><td><div class=\"dni-plaintext\"><pre>Invariant Language (Invariant Country)</pre></div></td></tr><tr><td>NativeName</td><td><div class=\"dni-plaintext\"><pre>Invariant Language (Invariant Country)</pre></div></td></tr><tr><td>EnglishName</td><td><div class=\"dni-plaintext\"><pre>Invariant Language (Invariant Country)</pre></div></td></tr><tr><td>TwoLetterISOLanguageName</td><td><div class=\"dni-plaintext\"><pre>iv</pre></div></td></tr><tr><td>ThreeLetterISOLanguageName</td><td><div class=\"dni-plaintext\"><pre>ivl</pre></div></td></tr><tr><td>ThreeLetterWindowsLanguageName</td><td><div class=\"dni-plaintext\"><pre>IVL</pre></div></td></tr><tr><td>CompareInfo</td><td><details class=\"dni-treeview\"><summary><span class=\"dni-code-hint\"><code>CompareInfo -</code></span></summary><div><table><thead><tr></tr></thead><tbody><tr><td>Name</td><td><div class=\"dni-plaintext\"><pre></pre></div></td></tr><tr><td>Version</td><td><details class=\"dni-treeview\"><summary><span class=\"dni-code-hint\"><code>System.Globalization.SortVersion</code></span></summary><div><table><thead><tr></tr></thead><tbody><tr><td>FullVersion</td><td>26777</td></tr><tr><td>SortId</td><td>00006899-0000-0000-0000-00000000007f</td></tr></tbody></table></div></details></td></tr><tr><td>LCID</td><td><div class=\"dni-plaintext\"><pre>127</pre></div></td></tr></tbody></table></div></details></td></tr><tr><td>TextInfo</td><td><details class=\"dni-treeview\"><summary><span class=\"dni-code-hint\"><code>TextInfo -</code></span></summary><div><table><thead><tr></tr></thead><tbody><tr><td>ANSICodePage</td><td><div class=\"dni-plaintext\"><pre>1252</pre></div></td></tr><tr><td>OEMCodePage</td><td><div class=\"dni-plaintext\"><pre>437</pre></div></td></tr><tr><td>MacCodePage</td><td><div class=\"dni-plaintext\"><pre>10000</pre></div></td></tr><tr><td>EBCDICCodePage</td><td><div class=\"dni-plaintext\"><pre>37</pre></div></td></tr><tr><td>LCID</td><td><div class=\"dni-plaintext\"><pre>127</pre></div></td></tr><tr><td>CultureName</td><td><div class=\"dni-plaintext\"><pre></pre></div></td></tr><tr><td>IsReadOnly</td><td><div class=\"dni-plaintext\"><pre>True</pre></div></td></tr><tr><td>ListSeparator</td><td><div class=\"dni-plaintext\"><pre>,</pre></div></td></tr><tr><td>IsRightToLeft</td><td><div class=\"dni-plaintext\"><pre>False</pre></div></td></tr></tbody></table></div></details></td></tr><tr><td>IsNeutralCulture</td><td><div class=\"dni-plaintext\"><pre>False</pre></div></td></tr><tr><td>CultureTypes</td><td><span>SpecificCultures, InstalledWin32Cultures</span></td></tr><tr><td>NumberFormat</td><td><details class=\"dni-treeview\"><summary><span class=\"dni-code-hint\"><code>System.Globalization.NumberFormatInfo</code></span></summary><div><table><thead><tr></tr></thead><tbody><tr><td>CurrencyDecimalDigits</td><td><div class=\"dni-plaintext\"><pre>2</pre></div></td></tr><tr><td>CurrencyDecimalSeparator</td><td><div class=\"dni-plaintext\"><pre>.</pre></div></td></tr><tr><td>IsReadOnly</td><td><div class=\"dni-plaintext\"><pre>True</pre></div></td></tr><tr><td>CurrencyGroupSizes</td><td><div class=\"dni-plaintext\"><pre>[ 3 ]</pre></div></td></tr><tr><td>NumberGroupSizes</td><td><div class=\"dni-plaintext\"><pre>[ 3 ]</pre></div></td></tr><tr><td>PercentGroupSizes</td><td><div class=\"dni-plaintext\"><pre>[ 3 ]</pre></div></td></tr><tr><td>CurrencyGroupSeparator</td><td><div class=\"dni-plaintext\"><pre>,</pre></div></td></tr><tr><td>CurrencySymbol</td><td><div class=\"dni-plaintext\"><pre>&#164;</pre></div></td></tr><tr><td>NaNSymbol</td><td><div class=\"dni-plaintext\"><pre>NaN</pre></div></td></tr><tr><td>CurrencyNegativePattern</td><td><div class=\"dni-plaintext\"><pre>0</pre></div></td></tr><tr><td>NumberNegativePattern</td><td><div class=\"dni-plaintext\"><pre>1</pre></div></td></tr><tr><td>PercentPositivePattern</td><td><div class=\"dni-plaintext\"><pre>0</pre></div></td></tr><tr><td>PercentNegativePattern</td><td><div class=\"dni-plaintext\"><pre>0</pre></div></td></tr><tr><td>NegativeInfinitySymbol</td><td><div class=\"dni-plaintext\"><pre>-Infinity</pre></div></td></tr><tr><td>NegativeSign</td><td><div class=\"dni-plaintext\"><pre>-</pre></div></td></tr><tr><td>NumberDecimalDigits</td><td><div class=\"dni-plaintext\"><pre>2</pre></div></td></tr><tr><td>NumberDecimalSeparator</td><td><div class=\"dni-plaintext\"><pre>.</pre></div></td></tr><tr><td>NumberGroupSeparator</td><td><div class=\"dni-plaintext\"><pre>,</pre></div></td></tr><tr><td>CurrencyPositivePattern</td><td><div class=\"dni-plaintext\"><pre>0</pre></div></td></tr><tr><td>PositiveInfinitySymbol</td><td><div class=\"dni-plaintext\"><pre>Infinity</pre></div></td></tr><tr><td>PositiveSign</td><td><div class=\"dni-plaintext\"><pre>+</pre></div></td></tr><tr><td>PercentDecimalDigits</td><td><div class=\"dni-plaintext\"><pre>2</pre></div></td></tr><tr><td>PercentDecimalSeparator</td><td><div class=\"dni-plaintext\"><pre>.</pre></div></td></tr><tr><td>PercentGroupSeparator</td><td><div class=\"dni-plaintext\"><pre>,</pre></div></td></tr><tr><td>PercentSymbol</td><td><div class=\"dni-plaintext\"><pre>%</pre></div></td></tr><tr><td>PerMilleSymbol</td><td><div class=\"dni-plaintext\"><pre>‰</pre></div></td></tr><tr><td>NativeDigits</td><td><div class=\"dni-plaintext\"><pre>[ 0, 1, 2, 3, 4, 5, 6, 7, 8, 9 ]</pre></div></td></tr><tr><td>DigitSubstitution</td><td><span>None</span></td></tr></tbody></table></div></details></td></tr><tr><td>DateTimeFormat</td><td><details class=\"dni-treeview\"><summary><span class=\"dni-code-hint\"><code>System.Globalization.DateTimeFormatInfo</code></span></summary><div><table><thead><tr></tr></thead><tbody><tr><td>AMDesignator</td><td><div class=\"dni-plaintext\"><pre>AM</pre></div></td></tr><tr><td>Calendar</td><td><details class=\"dni-treeview\"><summary><span class=\"dni-code-hint\"><code>System.Globalization.GregorianCalendar</code></span></summary><div><table><thead><tr></tr></thead><tbody><tr><td>MinSupportedDateTime</td><td>1/1/0001 12:00:00 AM</td></tr><tr><td>MaxSupportedDateTime</td><td>12/31/9999 11:59:59 PM</td></tr><tr><td>AlgorithmType</td><td>SolarCalendar</td></tr><tr><td>CalendarType</td><td>Localized</td></tr><tr><td>Eras</td><td>[ 1 ]</td></tr><tr><td>TwoDigitYearMax</td><td>2029</td></tr><tr><td>IsReadOnly</td><td>True</td></tr></tbody></table></div></details></td></tr><tr><td>DateSeparator</td><td><div class=\"dni-plaintext\"><pre>/</pre></div></td></tr><tr><td>FirstDayOfWeek</td><td><span>Sunday</span></td></tr><tr><td>CalendarWeekRule</td><td><span>FirstDay</span></td></tr><tr><td>FullDateTimePattern</td><td><div class=\"dni-plaintext\"><pre>dddd, dd MMMM yyyy HH:mm:ss</pre></div></td></tr><tr><td>LongDatePattern</td><td><div class=\"dni-plaintext\"><pre>dddd, dd MMMM yyyy</pre></div></td></tr><tr><td>LongTimePattern</td><td><div class=\"dni-plaintext\"><pre>HH:mm:ss</pre></div></td></tr><tr><td>MonthDayPattern</td><td><div class=\"dni-plaintext\"><pre>MMMM dd</pre></div></td></tr><tr><td>PMDesignator</td><td><div class=\"dni-plaintext\"><pre>PM</pre></div></td></tr><tr><td>RFC1123Pattern</td><td><div class=\"dni-plaintext\"><pre>ddd, dd MMM yyyy HH&#39;:&#39;mm&#39;:&#39;ss &#39;GMT&#39;</pre></div></td></tr><tr><td>ShortDatePattern</td><td><div class=\"dni-plaintext\"><pre>MM/dd/yyyy</pre></div></td></tr><tr><td>ShortTimePattern</td><td><div class=\"dni-plaintext\"><pre>HH:mm</pre></div></td></tr><tr><td>SortableDateTimePattern</td><td><div class=\"dni-plaintext\"><pre>yyyy&#39;-&#39;MM&#39;-&#39;dd&#39;T&#39;HH&#39;:&#39;mm&#39;:&#39;ss</pre></div></td></tr><tr><td>TimeSeparator</td><td><div class=\"dni-plaintext\"><pre>:</pre></div></td></tr><tr><td>UniversalSortableDateTimePattern</td><td><div class=\"dni-plaintext\"><pre>yyyy&#39;-&#39;MM&#39;-&#39;dd HH&#39;:&#39;mm&#39;:&#39;ss&#39;Z&#39;</pre></div></td></tr><tr><td>YearMonthPattern</td><td><div class=\"dni-plaintext\"><pre>yyyy MMMM</pre></div></td></tr><tr><td>AbbreviatedDayNames</td><td><div class=\"dni-plaintext\"><pre>[ Sun, Mon, Tue, Wed, Thu, Fri, Sat ]</pre></div></td></tr><tr><td>ShortestDayNames</td><td><div class=\"dni-plaintext\"><pre>[ Su, Mo, Tu, We, Th, Fr, Sa ]</pre></div></td></tr><tr><td>DayNames</td><td><div class=\"dni-plaintext\"><pre>[ Sunday, Monday, Tuesday, Wednesday, Thursday, Friday, Saturday ]</pre></div></td></tr><tr><td>AbbreviatedMonthNames</td><td><div class=\"dni-plaintext\"><pre>[ Jan, Feb, Mar, Apr, May, Jun, Jul, Aug, Sep, Oct, Nov, Dec,  ]</pre></div></td></tr><tr><td>MonthNames</td><td><div class=\"dni-plaintext\"><pre>[ January, February, March, April, May, June, July, August, September, October, November, December,  ]</pre></div></td></tr><tr><td>IsReadOnly</td><td><div class=\"dni-plaintext\"><pre>True</pre></div></td></tr><tr><td>NativeCalendarName</td><td><div class=\"dni-plaintext\"><pre>Gregorian Calendar</pre></div></td></tr><tr><td>AbbreviatedMonthGenitiveNames</td><td><div class=\"dni-plaintext\"><pre>[ Jan, Feb, Mar, Apr, May, Jun, Jul, Aug, Sep, Oct, Nov, Dec,  ]</pre></div></td></tr><tr><td>MonthGenitiveNames</td><td><div class=\"dni-plaintext\"><pre>[ January, February, March, April, May, June, July, August, September, October, November, December,  ]</pre></div></td></tr></tbody></table></div></details></td></tr><tr><td>Calendar</td><td><details class=\"dni-treeview\"><summary><span class=\"dni-code-hint\"><code>System.Globalization.GregorianCalendar</code></span></summary><div><table><thead><tr></tr></thead><tbody><tr><td>MinSupportedDateTime</td><td><span>0001-01-01 00:00:00Z</span></td></tr><tr><td>MaxSupportedDateTime</td><td><span>9999-12-31 23:59:59Z</span></td></tr><tr><td>AlgorithmType</td><td><span>SolarCalendar</span></td></tr><tr><td>CalendarType</td><td><span>Localized</span></td></tr><tr><td>Eras</td><td><div class=\"dni-plaintext\"><pre>[ 1 ]</pre></div></td></tr><tr><td>TwoDigitYearMax</td><td><div class=\"dni-plaintext\"><pre>2029</pre></div></td></tr><tr><td>IsReadOnly</td><td><div class=\"dni-plaintext\"><pre>True</pre></div></td></tr></tbody></table></div></details></td></tr><tr><td>OptionalCalendars</td><td><table><thead><tr><th><i>index</i></th><th>value</th></tr></thead><tbody><tr><td>0</td><td><details class=\"dni-treeview\"><summary><span class=\"dni-code-hint\"><code>System.Globalization.GregorianCalendar</code></span></summary><div><table><thead><tr></tr></thead><tbody><tr><td>MinSupportedDateTime</td><td>1/1/0001 12:00:00 AM</td></tr><tr><td>MaxSupportedDateTime</td><td>12/31/9999 11:59:59 PM</td></tr><tr><td>AlgorithmType</td><td>SolarCalendar</td></tr><tr><td>CalendarType</td><td>Localized</td></tr><tr><td>Eras</td><td>[ 1 ]</td></tr><tr><td>TwoDigitYearMax</td><td>2029</td></tr><tr><td>IsReadOnly</td><td>False</td></tr></tbody></table></div></details></td></tr></tbody></table></td></tr><tr><td>UseUserOverride</td><td><div class=\"dni-plaintext\"><pre>False</pre></div></td></tr><tr><td>IsReadOnly</td><td><div class=\"dni-plaintext\"><pre>True</pre></div></td></tr></tbody></table></div></details></td></tr><tr><td>LCID</td><td><div class=\"dni-plaintext\"><pre>127</pre></div></td></tr><tr><td>KeyboardLayoutId</td><td><div class=\"dni-plaintext\"><pre>127</pre></div></td></tr><tr><td>Name</td><td><div class=\"dni-plaintext\"><pre></pre></div></td></tr><tr><td>IetfLanguageTag</td><td><div class=\"dni-plaintext\"><pre></pre></div></td></tr><tr><td>DisplayName</td><td><div class=\"dni-plaintext\"><pre>Invariant Language (Invariant Country)</pre></div></td></tr><tr><td>NativeName</td><td><div class=\"dni-plaintext\"><pre>Invariant Language (Invariant Country)</pre></div></td></tr><tr><td>EnglishName</td><td><div class=\"dni-plaintext\"><pre>Invariant Language (Invariant Country)</pre></div></td></tr><tr><td>TwoLetterISOLanguageName</td><td><div class=\"dni-plaintext\"><pre>iv</pre></div></td></tr><tr><td>ThreeLetterISOLanguageName</td><td><div class=\"dni-plaintext\"><pre>ivl</pre></div></td></tr><tr><td>ThreeLetterWindowsLanguageName</td><td><div class=\"dni-plaintext\"><pre>IVL</pre></div></td></tr><tr><td>CompareInfo</td><td><details class=\"dni-treeview\"><summary><span class=\"dni-code-hint\"><code>CompareInfo -</code></span></summary><div><table><thead><tr></tr></thead><tbody><tr><td>Name</td><td><div class=\"dni-plaintext\"><pre></pre></div></td></tr><tr><td>Version</td><td><details class=\"dni-treeview\"><summary><span class=\"dni-code-hint\"><code>System.Globalization.SortVersion</code></span></summary><div><table><thead><tr></tr></thead><tbody><tr><td>FullVersion</td><td><div class=\"dni-plaintext\"><pre>26777</pre></div></td></tr><tr><td>SortId</td><td><div class=\"dni-plaintext\"><pre>00006899-0000-0000-0000-00000000007f</pre></div></td></tr></tbody></table></div></details></td></tr><tr><td>LCID</td><td><div class=\"dni-plaintext\"><pre>127</pre></div></td></tr></tbody></table></div></details></td></tr><tr><td>TextInfo</td><td><details class=\"dni-treeview\"><summary><span class=\"dni-code-hint\"><code>TextInfo -</code></span></summary><div><table><thead><tr></tr></thead><tbody><tr><td>ANSICodePage</td><td><div class=\"dni-plaintext\"><pre>1252</pre></div></td></tr><tr><td>OEMCodePage</td><td><div class=\"dni-plaintext\"><pre>437</pre></div></td></tr><tr><td>MacCodePage</td><td><div class=\"dni-plaintext\"><pre>10000</pre></div></td></tr><tr><td>EBCDICCodePage</td><td><div class=\"dni-plaintext\"><pre>37</pre></div></td></tr><tr><td>LCID</td><td><div class=\"dni-plaintext\"><pre>127</pre></div></td></tr><tr><td>CultureName</td><td><div class=\"dni-plaintext\"><pre></pre></div></td></tr><tr><td>IsReadOnly</td><td><div class=\"dni-plaintext\"><pre>True</pre></div></td></tr><tr><td>ListSeparator</td><td><div class=\"dni-plaintext\"><pre>,</pre></div></td></tr><tr><td>IsRightToLeft</td><td><div class=\"dni-plaintext\"><pre>False</pre></div></td></tr></tbody></table></div></details></td></tr><tr><td>IsNeutralCulture</td><td><div class=\"dni-plaintext\"><pre>False</pre></div></td></tr><tr><td>CultureTypes</td><td><span>SpecificCultures, InstalledWin32Cultures</span></td></tr><tr><td>NumberFormat</td><td><details class=\"dni-treeview\"><summary><span class=\"dni-code-hint\"><code>System.Globalization.NumberFormatInfo</code></span></summary><div><table><thead><tr></tr></thead><tbody><tr><td>CurrencyDecimalDigits</td><td><div class=\"dni-plaintext\"><pre>2</pre></div></td></tr><tr><td>CurrencyDecimalSeparator</td><td><div class=\"dni-plaintext\"><pre>.</pre></div></td></tr><tr><td>IsReadOnly</td><td><div class=\"dni-plaintext\"><pre>True</pre></div></td></tr><tr><td>CurrencyGroupSizes</td><td><div class=\"dni-plaintext\"><pre>[ 3 ]</pre></div></td></tr><tr><td>NumberGroupSizes</td><td><div class=\"dni-plaintext\"><pre>[ 3 ]</pre></div></td></tr><tr><td>PercentGroupSizes</td><td><div class=\"dni-plaintext\"><pre>[ 3 ]</pre></div></td></tr><tr><td>CurrencyGroupSeparator</td><td><div class=\"dni-plaintext\"><pre>,</pre></div></td></tr><tr><td>CurrencySymbol</td><td><div class=\"dni-plaintext\"><pre>&#164;</pre></div></td></tr><tr><td>NaNSymbol</td><td><div class=\"dni-plaintext\"><pre>NaN</pre></div></td></tr><tr><td>CurrencyNegativePattern</td><td><div class=\"dni-plaintext\"><pre>0</pre></div></td></tr><tr><td>NumberNegativePattern</td><td><div class=\"dni-plaintext\"><pre>1</pre></div></td></tr><tr><td>PercentPositivePattern</td><td><div class=\"dni-plaintext\"><pre>0</pre></div></td></tr><tr><td>PercentNegativePattern</td><td><div class=\"dni-plaintext\"><pre>0</pre></div></td></tr><tr><td>NegativeInfinitySymbol</td><td><div class=\"dni-plaintext\"><pre>-Infinity</pre></div></td></tr><tr><td>NegativeSign</td><td><div class=\"dni-plaintext\"><pre>-</pre></div></td></tr><tr><td>NumberDecimalDigits</td><td><div class=\"dni-plaintext\"><pre>2</pre></div></td></tr><tr><td>NumberDecimalSeparator</td><td><div class=\"dni-plaintext\"><pre>.</pre></div></td></tr><tr><td>NumberGroupSeparator</td><td><div class=\"dni-plaintext\"><pre>,</pre></div></td></tr><tr><td>CurrencyPositivePattern</td><td><div class=\"dni-plaintext\"><pre>0</pre></div></td></tr><tr><td>PositiveInfinitySymbol</td><td><div class=\"dni-plaintext\"><pre>Infinity</pre></div></td></tr><tr><td>PositiveSign</td><td><div class=\"dni-plaintext\"><pre>+</pre></div></td></tr><tr><td>PercentDecimalDigits</td><td><div class=\"dni-plaintext\"><pre>2</pre></div></td></tr><tr><td>PercentDecimalSeparator</td><td><div class=\"dni-plaintext\"><pre>.</pre></div></td></tr><tr><td>PercentGroupSeparator</td><td><div class=\"dni-plaintext\"><pre>,</pre></div></td></tr><tr><td>PercentSymbol</td><td><div class=\"dni-plaintext\"><pre>%</pre></div></td></tr><tr><td>PerMilleSymbol</td><td><div class=\"dni-plaintext\"><pre>‰</pre></div></td></tr><tr><td>NativeDigits</td><td><div class=\"dni-plaintext\"><pre>[ 0, 1, 2, 3, 4, 5, 6, 7, 8, 9 ]</pre></div></td></tr><tr><td>DigitSubstitution</td><td><span>None</span></td></tr></tbody></table></div></details></td></tr><tr><td>DateTimeFormat</td><td><details class=\"dni-treeview\"><summary><span class=\"dni-code-hint\"><code>System.Globalization.DateTimeFormatInfo</code></span></summary><div><table><thead><tr></tr></thead><tbody><tr><td>AMDesignator</td><td><div class=\"dni-plaintext\"><pre>AM</pre></div></td></tr><tr><td>Calendar</td><td><details class=\"dni-treeview\"><summary><span class=\"dni-code-hint\"><code>System.Globalization.GregorianCalendar</code></span></summary><div><table><thead><tr></tr></thead><tbody><tr><td>MinSupportedDateTime</td><td><span>0001-01-01 00:00:00Z</span></td></tr><tr><td>MaxSupportedDateTime</td><td><span>9999-12-31 23:59:59Z</span></td></tr><tr><td>AlgorithmType</td><td><span>SolarCalendar</span></td></tr><tr><td>CalendarType</td><td><span>Localized</span></td></tr><tr><td>Eras</td><td><div class=\"dni-plaintext\"><pre>[ 1 ]</pre></div></td></tr><tr><td>TwoDigitYearMax</td><td><div class=\"dni-plaintext\"><pre>2029</pre></div></td></tr><tr><td>IsReadOnly</td><td><div class=\"dni-plaintext\"><pre>True</pre></div></td></tr></tbody></table></div></details></td></tr><tr><td>DateSeparator</td><td><div class=\"dni-plaintext\"><pre>/</pre></div></td></tr><tr><td>FirstDayOfWeek</td><td><span>Sunday</span></td></tr><tr><td>CalendarWeekRule</td><td><span>FirstDay</span></td></tr><tr><td>FullDateTimePattern</td><td><div class=\"dni-plaintext\"><pre>dddd, dd MMMM yyyy HH:mm:ss</pre></div></td></tr><tr><td>LongDatePattern</td><td><div class=\"dni-plaintext\"><pre>dddd, dd MMMM yyyy</pre></div></td></tr><tr><td>LongTimePattern</td><td><div class=\"dni-plaintext\"><pre>HH:mm:ss</pre></div></td></tr><tr><td>MonthDayPattern</td><td><div class=\"dni-plaintext\"><pre>MMMM dd</pre></div></td></tr><tr><td>PMDesignator</td><td><div class=\"dni-plaintext\"><pre>PM</pre></div></td></tr><tr><td>RFC1123Pattern</td><td><div class=\"dni-plaintext\"><pre>ddd, dd MMM yyyy HH&#39;:&#39;mm&#39;:&#39;ss &#39;GMT&#39;</pre></div></td></tr><tr><td>ShortDatePattern</td><td><div class=\"dni-plaintext\"><pre>MM/dd/yyyy</pre></div></td></tr><tr><td>ShortTimePattern</td><td><div class=\"dni-plaintext\"><pre>HH:mm</pre></div></td></tr><tr><td>SortableDateTimePattern</td><td><div class=\"dni-plaintext\"><pre>yyyy&#39;-&#39;MM&#39;-&#39;dd&#39;T&#39;HH&#39;:&#39;mm&#39;:&#39;ss</pre></div></td></tr><tr><td>TimeSeparator</td><td><div class=\"dni-plaintext\"><pre>:</pre></div></td></tr><tr><td>UniversalSortableDateTimePattern</td><td><div class=\"dni-plaintext\"><pre>yyyy&#39;-&#39;MM&#39;-&#39;dd HH&#39;:&#39;mm&#39;:&#39;ss&#39;Z&#39;</pre></div></td></tr><tr><td>YearMonthPattern</td><td><div class=\"dni-plaintext\"><pre>yyyy MMMM</pre></div></td></tr><tr><td>AbbreviatedDayNames</td><td><div class=\"dni-plaintext\"><pre>[ Sun, Mon, Tue, Wed, Thu, Fri, Sat ]</pre></div></td></tr><tr><td>ShortestDayNames</td><td><div class=\"dni-plaintext\"><pre>[ Su, Mo, Tu, We, Th, Fr, Sa ]</pre></div></td></tr><tr><td>DayNames</td><td><div class=\"dni-plaintext\"><pre>[ Sunday, Monday, Tuesday, Wednesday, Thursday, Friday, Saturday ]</pre></div></td></tr><tr><td>AbbreviatedMonthNames</td><td><div class=\"dni-plaintext\"><pre>[ Jan, Feb, Mar, Apr, May, Jun, Jul, Aug, Sep, Oct, Nov, Dec,  ]</pre></div></td></tr><tr><td>MonthNames</td><td><div class=\"dni-plaintext\"><pre>[ January, February, March, April, May, June, July, August, September, October, November, December,  ]</pre></div></td></tr><tr><td>IsReadOnly</td><td><div class=\"dni-plaintext\"><pre>True</pre></div></td></tr><tr><td>NativeCalendarName</td><td><div class=\"dni-plaintext\"><pre>Gregorian Calendar</pre></div></td></tr><tr><td>AbbreviatedMonthGenitiveNames</td><td><div class=\"dni-plaintext\"><pre>[ Jan, Feb, Mar, Apr, May, Jun, Jul, Aug, Sep, Oct, Nov, Dec,  ]</pre></div></td></tr><tr><td>MonthGenitiveNames</td><td><div class=\"dni-plaintext\"><pre>[ January, February, March, April, May, June, July, August, September, October, November, December,  ]</pre></div></td></tr></tbody></table></div></details></td></tr><tr><td>Calendar</td><td><details class=\"dni-treeview\"><summary><span class=\"dni-code-hint\"><code>System.Globalization.GregorianCalendar</code></span></summary><div><table><thead><tr></tr></thead><tbody><tr><td>MinSupportedDateTime</td><td><span>0001-01-01 00:00:00Z</span></td></tr><tr><td>MaxSupportedDateTime</td><td><span>9999-12-31 23:59:59Z</span></td></tr><tr><td>AlgorithmType</td><td><span>SolarCalendar</span></td></tr><tr><td>CalendarType</td><td><span>Localized</span></td></tr><tr><td>Eras</td><td><div class=\"dni-plaintext\"><pre>[ 1 ]</pre></div></td></tr><tr><td>TwoDigitYearMax</td><td><div class=\"dni-plaintext\"><pre>2029</pre></div></td></tr><tr><td>IsReadOnly</td><td><div class=\"dni-plaintext\"><pre>True</pre></div></td></tr></tbody></table></div></details></td></tr><tr><td>OptionalCalendars</td><td><table><thead><tr><th><i>index</i></th><th>value</th></tr></thead><tbody><tr><td>0</td><td><details class=\"dni-treeview\"><summary><span class=\"dni-code-hint\"><code>System.Globalization.GregorianCalendar</code></span></summary><div><table><thead><tr></tr></thead><tbody><tr><td>MinSupportedDateTime</td><td><span>0001-01-01 00:00:00Z</span></td></tr><tr><td>MaxSupportedDateTime</td><td><span>9999-12-31 23:59:59Z</span></td></tr><tr><td>AlgorithmType</td><td><span>SolarCalendar</span></td></tr><tr><td>CalendarType</td><td><span>Localized</span></td></tr><tr><td>Eras</td><td><div class=\"dni-plaintext\"><pre>[ 1 ]</pre></div></td></tr><tr><td>TwoDigitYearMax</td><td><div class=\"dni-plaintext\"><pre>2029</pre></div></td></tr><tr><td>IsReadOnly</td><td><div class=\"dni-plaintext\"><pre>False</pre></div></td></tr></tbody></table></div></details></td></tr></tbody></table></td></tr><tr><td>UseUserOverride</td><td><div class=\"dni-plaintext\"><pre>False</pre></div></td></tr><tr><td>IsReadOnly</td><td><div class=\"dni-plaintext\"><pre>True</pre></div></td></tr></tbody></table></div></details></td></tr><tr><td>LCID</td><td><div class=\"dni-plaintext\"><pre>9</pre></div></td></tr><tr><td>KeyboardLayoutId</td><td><div class=\"dni-plaintext\"><pre>9</pre></div></td></tr><tr><td>Name</td><td><div class=\"dni-plaintext\"><pre>en</pre></div></td></tr><tr><td>IetfLanguageTag</td><td><div class=\"dni-plaintext\"><pre>en</pre></div></td></tr><tr><td>DisplayName</td><td><div class=\"dni-plaintext\"><pre>English</pre></div></td></tr><tr><td>NativeName</td><td><div class=\"dni-plaintext\"><pre>English</pre></div></td></tr><tr><td>EnglishName</td><td><div class=\"dni-plaintext\"><pre>English</pre></div></td></tr><tr><td>TwoLetterISOLanguageName</td><td><div class=\"dni-plaintext\"><pre>en</pre></div></td></tr><tr><td>ThreeLetterISOLanguageName</td><td><div class=\"dni-plaintext\"><pre>eng</pre></div></td></tr><tr><td>ThreeLetterWindowsLanguageName</td><td><div class=\"dni-plaintext\"><pre>ENU</pre></div></td></tr><tr><td>CompareInfo</td><td><details class=\"dni-treeview\"><summary><span class=\"dni-code-hint\"><code>CompareInfo - en</code></span></summary><div><table><thead><tr></tr></thead><tbody><tr><td>Name</td><td><div class=\"dni-plaintext\"><pre>en</pre></div></td></tr><tr><td>Version</td><td><details class=\"dni-treeview\"><summary><span class=\"dni-code-hint\"><code>System.Globalization.SortVersion</code></span></summary><div><table><thead><tr></tr></thead><tbody><tr><td>FullVersion</td><td><div class=\"dni-plaintext\"><pre>26777</pre></div></td></tr><tr><td>SortId</td><td><div class=\"dni-plaintext\"><pre>00006899-0000-0000-0000-000000000009</pre></div></td></tr></tbody></table></div></details></td></tr><tr><td>LCID</td><td><div class=\"dni-plaintext\"><pre>9</pre></div></td></tr></tbody></table></div></details></td></tr><tr><td>TextInfo</td><td><details class=\"dni-treeview\"><summary><span class=\"dni-code-hint\"><code>TextInfo - en</code></span></summary><div><table><thead><tr></tr></thead><tbody><tr><td>ANSICodePage</td><td><div class=\"dni-plaintext\"><pre>1252</pre></div></td></tr><tr><td>OEMCodePage</td><td><div class=\"dni-plaintext\"><pre>437</pre></div></td></tr><tr><td>MacCodePage</td><td><div class=\"dni-plaintext\"><pre>10000</pre></div></td></tr><tr><td>EBCDICCodePage</td><td><div class=\"dni-plaintext\"><pre>37</pre></div></td></tr><tr><td>LCID</td><td><div class=\"dni-plaintext\"><pre>9</pre></div></td></tr><tr><td>CultureName</td><td><div class=\"dni-plaintext\"><pre>en</pre></div></td></tr><tr><td>IsReadOnly</td><td><div class=\"dni-plaintext\"><pre>False</pre></div></td></tr><tr><td>ListSeparator</td><td><div class=\"dni-plaintext\"><pre>,</pre></div></td></tr><tr><td>IsRightToLeft</td><td><div class=\"dni-plaintext\"><pre>False</pre></div></td></tr></tbody></table></div></details></td></tr><tr><td>IsNeutralCulture</td><td><div class=\"dni-plaintext\"><pre>True</pre></div></td></tr><tr><td>CultureTypes</td><td><span>NeutralCultures, InstalledWin32Cultures</span></td></tr><tr><td>NumberFormat</td><td><details class=\"dni-treeview\"><summary><span class=\"dni-code-hint\"><code>System.Globalization.NumberFormatInfo</code></span></summary><div><table><thead><tr></tr></thead><tbody><tr><td>CurrencyDecimalDigits</td><td><div class=\"dni-plaintext\"><pre>2</pre></div></td></tr><tr><td>CurrencyDecimalSeparator</td><td><div class=\"dni-plaintext\"><pre>.</pre></div></td></tr><tr><td>IsReadOnly</td><td><div class=\"dni-plaintext\"><pre>False</pre></div></td></tr><tr><td>CurrencyGroupSizes</td><td><div class=\"dni-plaintext\"><pre>[ 3 ]</pre></div></td></tr><tr><td>NumberGroupSizes</td><td><div class=\"dni-plaintext\"><pre>[ 3 ]</pre></div></td></tr><tr><td>PercentGroupSizes</td><td><div class=\"dni-plaintext\"><pre>[ 3 ]</pre></div></td></tr><tr><td>CurrencyGroupSeparator</td><td><div class=\"dni-plaintext\"><pre>,</pre></div></td></tr><tr><td>CurrencySymbol</td><td><div class=\"dni-plaintext\"><pre>&#164;</pre></div></td></tr><tr><td>NaNSymbol</td><td><div class=\"dni-plaintext\"><pre>NaN</pre></div></td></tr><tr><td>CurrencyNegativePattern</td><td><div class=\"dni-plaintext\"><pre>1</pre></div></td></tr><tr><td>NumberNegativePattern</td><td><div class=\"dni-plaintext\"><pre>1</pre></div></td></tr><tr><td>PercentPositivePattern</td><td><div class=\"dni-plaintext\"><pre>1</pre></div></td></tr><tr><td>PercentNegativePattern</td><td><div class=\"dni-plaintext\"><pre>1</pre></div></td></tr><tr><td>NegativeInfinitySymbol</td><td><div class=\"dni-plaintext\"><pre>-∞</pre></div></td></tr><tr><td>NegativeSign</td><td><div class=\"dni-plaintext\"><pre>-</pre></div></td></tr><tr><td>NumberDecimalDigits</td><td><div class=\"dni-plaintext\"><pre>3</pre></div></td></tr><tr><td>NumberDecimalSeparator</td><td><div class=\"dni-plaintext\"><pre>.</pre></div></td></tr><tr><td>NumberGroupSeparator</td><td><div class=\"dni-plaintext\"><pre>,</pre></div></td></tr><tr><td>CurrencyPositivePattern</td><td><div class=\"dni-plaintext\"><pre>0</pre></div></td></tr><tr><td>PositiveInfinitySymbol</td><td><div class=\"dni-plaintext\"><pre>∞</pre></div></td></tr><tr><td>PositiveSign</td><td><div class=\"dni-plaintext\"><pre>+</pre></div></td></tr><tr><td>PercentDecimalDigits</td><td><div class=\"dni-plaintext\"><pre>3</pre></div></td></tr><tr><td>PercentDecimalSeparator</td><td><div class=\"dni-plaintext\"><pre>.</pre></div></td></tr><tr><td>PercentGroupSeparator</td><td><div class=\"dni-plaintext\"><pre>,</pre></div></td></tr><tr><td>PercentSymbol</td><td><div class=\"dni-plaintext\"><pre>%</pre></div></td></tr><tr><td>PerMilleSymbol</td><td><div class=\"dni-plaintext\"><pre>‰</pre></div></td></tr><tr><td>NativeDigits</td><td><div class=\"dni-plaintext\"><pre>[ 0, 1, 2, 3, 4, 5, 6, 7, 8, 9 ]</pre></div></td></tr><tr><td>DigitSubstitution</td><td><span>None</span></td></tr></tbody></table></div></details></td></tr><tr><td>DateTimeFormat</td><td><details class=\"dni-treeview\"><summary><span class=\"dni-code-hint\"><code>System.Globalization.DateTimeFormatInfo</code></span></summary><div><table><thead><tr></tr></thead><tbody><tr><td>AMDesignator</td><td><div class=\"dni-plaintext\"><pre>AM</pre></div></td></tr><tr><td>Calendar</td><td><details class=\"dni-treeview\"><summary><span class=\"dni-code-hint\"><code>System.Globalization.GregorianCalendar</code></span></summary><div><table><thead><tr></tr></thead><tbody><tr><td>MinSupportedDateTime</td><td><span>0001-01-01 00:00:00Z</span></td></tr><tr><td>MaxSupportedDateTime</td><td><span>9999-12-31 23:59:59Z</span></td></tr><tr><td>AlgorithmType</td><td><span>SolarCalendar</span></td></tr><tr><td>CalendarType</td><td><span>Localized</span></td></tr><tr><td>Eras</td><td><div class=\"dni-plaintext\"><pre>[ 1 ]</pre></div></td></tr><tr><td>TwoDigitYearMax</td><td><div class=\"dni-plaintext\"><pre>2029</pre></div></td></tr><tr><td>IsReadOnly</td><td><div class=\"dni-plaintext\"><pre>False</pre></div></td></tr></tbody></table></div></details></td></tr><tr><td>DateSeparator</td><td><div class=\"dni-plaintext\"><pre>/</pre></div></td></tr><tr><td>FirstDayOfWeek</td><td><span>Sunday</span></td></tr><tr><td>CalendarWeekRule</td><td><span>FirstDay</span></td></tr><tr><td>FullDateTimePattern</td><td><div class=\"dni-plaintext\"><pre>dddd, MMMM d, yyyy h:mm:ss tt</pre></div></td></tr><tr><td>LongDatePattern</td><td><div class=\"dni-plaintext\"><pre>dddd, MMMM d, yyyy</pre></div></td></tr><tr><td>LongTimePattern</td><td><div class=\"dni-plaintext\"><pre>h:mm:ss tt</pre></div></td></tr><tr><td>MonthDayPattern</td><td><div class=\"dni-plaintext\"><pre>MMMM d</pre></div></td></tr><tr><td>PMDesignator</td><td><div class=\"dni-plaintext\"><pre>PM</pre></div></td></tr><tr><td>RFC1123Pattern</td><td><div class=\"dni-plaintext\"><pre>ddd, dd MMM yyyy HH&#39;:&#39;mm&#39;:&#39;ss &#39;GMT&#39;</pre></div></td></tr><tr><td>ShortDatePattern</td><td><div class=\"dni-plaintext\"><pre>M/d/yyyy</pre></div></td></tr><tr><td>ShortTimePattern</td><td><div class=\"dni-plaintext\"><pre>h:mm tt</pre></div></td></tr><tr><td>SortableDateTimePattern</td><td><div class=\"dni-plaintext\"><pre>yyyy&#39;-&#39;MM&#39;-&#39;dd&#39;T&#39;HH&#39;:&#39;mm&#39;:&#39;ss</pre></div></td></tr><tr><td>TimeSeparator</td><td><div class=\"dni-plaintext\"><pre>:</pre></div></td></tr><tr><td>UniversalSortableDateTimePattern</td><td><div class=\"dni-plaintext\"><pre>yyyy&#39;-&#39;MM&#39;-&#39;dd HH&#39;:&#39;mm&#39;:&#39;ss&#39;Z&#39;</pre></div></td></tr><tr><td>YearMonthPattern</td><td><div class=\"dni-plaintext\"><pre>MMMM yyyy</pre></div></td></tr><tr><td>AbbreviatedDayNames</td><td><div class=\"dni-plaintext\"><pre>[ Sun, Mon, Tue, Wed, Thu, Fri, Sat ]</pre></div></td></tr><tr><td>ShortestDayNames</td><td><div class=\"dni-plaintext\"><pre>[ S, M, T, W, T, F, S ]</pre></div></td></tr><tr><td>DayNames</td><td><div class=\"dni-plaintext\"><pre>[ Sunday, Monday, Tuesday, Wednesday, Thursday, Friday, Saturday ]</pre></div></td></tr><tr><td>AbbreviatedMonthNames</td><td><div class=\"dni-plaintext\"><pre>[ Jan, Feb, Mar, Apr, May, Jun, Jul, Aug, Sep, Oct, Nov, Dec,  ]</pre></div></td></tr><tr><td>MonthNames</td><td><div class=\"dni-plaintext\"><pre>[ January, February, March, April, May, June, July, August, September, October, November, December,  ]</pre></div></td></tr><tr><td>IsReadOnly</td><td><div class=\"dni-plaintext\"><pre>False</pre></div></td></tr><tr><td>NativeCalendarName</td><td><div class=\"dni-plaintext\"><pre>Gregorian Calendar</pre></div></td></tr><tr><td>AbbreviatedMonthGenitiveNames</td><td><div class=\"dni-plaintext\"><pre>[ Jan, Feb, Mar, Apr, May, Jun, Jul, Aug, Sep, Oct, Nov, Dec,  ]</pre></div></td></tr><tr><td>MonthGenitiveNames</td><td><div class=\"dni-plaintext\"><pre>[ January, February, March, April, May, June, July, August, September, October, November, December,  ]</pre></div></td></tr></tbody></table></div></details></td></tr><tr><td>Calendar</td><td><details class=\"dni-treeview\"><summary><span class=\"dni-code-hint\"><code>System.Globalization.GregorianCalendar</code></span></summary><div><table><thead><tr></tr></thead><tbody><tr><td>MinSupportedDateTime</td><td><span>0001-01-01 00:00:00Z</span></td></tr><tr><td>MaxSupportedDateTime</td><td><span>9999-12-31 23:59:59Z</span></td></tr><tr><td>AlgorithmType</td><td><span>SolarCalendar</span></td></tr><tr><td>CalendarType</td><td><span>Localized</span></td></tr><tr><td>Eras</td><td><div class=\"dni-plaintext\"><pre>[ 1 ]</pre></div></td></tr><tr><td>TwoDigitYearMax</td><td><div class=\"dni-plaintext\"><pre>2029</pre></div></td></tr><tr><td>IsReadOnly</td><td><div class=\"dni-plaintext\"><pre>False</pre></div></td></tr></tbody></table></div></details></td></tr><tr><td>OptionalCalendars</td><td><table><thead><tr><th><i>index</i></th><th>value</th></tr></thead><tbody><tr><td>0</td><td><details class=\"dni-treeview\"><summary><span class=\"dni-code-hint\"><code>System.Globalization.GregorianCalendar</code></span></summary><div><table><thead><tr></tr></thead><tbody><tr><td>MinSupportedDateTime</td><td><span>0001-01-01 00:00:00Z</span></td></tr><tr><td>MaxSupportedDateTime</td><td><span>9999-12-31 23:59:59Z</span></td></tr><tr><td>AlgorithmType</td><td><span>SolarCalendar</span></td></tr><tr><td>CalendarType</td><td><span>Localized</span></td></tr><tr><td>Eras</td><td><div class=\"dni-plaintext\"><pre>[ 1 ]</pre></div></td></tr><tr><td>TwoDigitYearMax</td><td><div class=\"dni-plaintext\"><pre>2029</pre></div></td></tr><tr><td>IsReadOnly</td><td><div class=\"dni-plaintext\"><pre>False</pre></div></td></tr></tbody></table></div></details></td></tr></tbody></table></td></tr><tr><td>UseUserOverride</td><td><div class=\"dni-plaintext\"><pre>True</pre></div></td></tr><tr><td>IsReadOnly</td><td><div class=\"dni-plaintext\"><pre>False</pre></div></td></tr></tbody></table></div></details></td></tr><tr><td>Variables</td><td><table><thead><tr><th><i>key</i></th><th>value</th></tr></thead><tbody><tr><td><div class=\"dni-plaintext\"><pre>INPUT</pre></div></td><td><div class=\"dni-plaintext\"><pre>\n",
       "\n",
       "Yes, .NET Interactive allows users to create rich visualizations using mermaid language, javascript, and HTML kernels. It also provides extension APIs to create custom magic commands and execute code in multiple languages.</pre></div></td></tr></tbody></table></td></tr><tr><td>Skills</td><td><details class=\"dni-treeview\"><summary><span class=\"dni-code-hint\"><code>Microsoft.SemanticKernel.SkillDefinition.SkillCollection</code></span></summary><div><table><thead><tr></tr></thead><tbody></tbody></table></div></details></td></tr><tr><td>LoggerFactory</td><td><details class=\"dni-treeview\"><summary><span class=\"dni-code-hint\"><code>Microsoft.Extensions.Logging.LoggerFactory</code></span></summary><div><table><thead><tr></tr></thead><tbody></tbody></table></div></details></td></tr><tr><td>ErrorOccurred</td><td><div class=\"dni-plaintext\"><pre>False</pre></div></td></tr><tr><td>LastException</td><td><div class=\"dni-plaintext\"><pre>&lt;null&gt;</pre></div></td></tr><tr><td>Log</td><td><details class=\"dni-treeview\"><summary><span class=\"dni-code-hint\"><code>Microsoft.Extensions.Logging.Logger`1[Microsoft.SemanticKernel.Orchestration.SKContext]</code></span></summary><div><table><thead><tr></tr></thead><tbody></tbody></table></div></details></td></tr><tr><td>CancellationToken</td><td><details class=\"dni-treeview\"><summary><span class=\"dni-code-hint\"><code>System.Threading.CancellationToken</code></span></summary><div><table><thead><tr></tr></thead><tbody><tr><td>IsCancellationRequested</td><td><div class=\"dni-plaintext\"><pre>False</pre></div></td></tr><tr><td>CanBeCanceled</td><td><div class=\"dni-plaintext\"><pre>False</pre></div></td></tr><tr><td>WaitHandle</td><td><details class=\"dni-treeview\"><summary><span class=\"dni-code-hint\"><code>System.Threading.ManualResetEvent</code></span></summary><div><table><thead><tr></tr></thead><tbody><tr><td>Handle</td><td><div class=\"dni-plaintext\"><pre>3284</pre></div></td></tr><tr><td>SafeWaitHandle</td><td><details class=\"dni-treeview\"><summary><span class=\"dni-code-hint\"><code>Microsoft.Win32.SafeHandles.SafeWaitHandle</code></span></summary><div><table><thead><tr></tr></thead><tbody><tr><td>IsInvalid</td><td><div class=\"dni-plaintext\"><pre>False</pre></div></td></tr><tr><td>IsClosed</td><td><div class=\"dni-plaintext\"><pre>False</pre></div></td></tr></tbody></table></div></details></td></tr></tbody></table></div></details></td></tr></tbody></table></div></details></td></tr><tr><td>Memory</td><td><details class=\"dni-treeview\"><summary><span class=\"dni-code-hint\"><code>System.InvalidOperationException: Memory no longer passed through SKContext. Instead, initialize your skill class with the memory provider it needs.\\r\\n   at Microsoft.SemanticKernel.Orchestration.SKContext.get_Memory()\\r\\n   at lambda_method420(Closure, SKContext)\\r\\n   at Microsoft.DotNet.Interact...</code></span></summary><div><table><thead><tr></tr></thead><tbody><tr><td>TargetSite</td><td><details class=\"dni-treeview\"><summary><span class=\"dni-code-hint\"><code>Microsoft.SemanticKernel.Memory.ISemanticTextMemory get_Memory()</code></span></summary><div><table><thead><tr></tr></thead><tbody><tr><td>Name</td><td><div class=\"dni-plaintext\"><pre>get_Memory</pre></div></td></tr><tr><td>DeclaringType</td><td><span><a href=\"https://docs.microsoft.com/dotnet/api/microsoft.semantickernel.orchestration.skcontext?view=net-7.0\">Microsoft.SemanticKernel.Orchestration.SKContext</a></span></td></tr><tr><td>ReflectedType</td><td><span><a href=\"https://docs.microsoft.com/dotnet/api/microsoft.semantickernel.orchestration.skcontext?view=net-7.0\">Microsoft.SemanticKernel.Orchestration.SKContext</a></span></td></tr><tr><td>MemberType</td><td><span>Method</span></td></tr><tr><td>MetadataToken</td><td><div class=\"dni-plaintext\"><pre>100663585</pre></div></td></tr><tr><td>Module</td><td><details class=\"dni-treeview\"><summary><span class=\"dni-code-hint\"><code>Microsoft.SemanticKernel.Abstractions.dll</code></span></summary><div><table><thead><tr></tr></thead><tbody><tr><td>MDStreamVersion</td><td><div class=\"dni-plaintext\"><pre>131072</pre></div></td></tr><tr><td>FullyQualifiedName</td><td><div class=\"dni-plaintext\"><pre>C:\\Users\\dicolomb\\.nuget\\packages\\microsoft.semantickernel.abstractions\\0.21.230828.2-preview\\lib\\netstandard2.0\\Microsoft.SemanticKernel.Abstractions.dll</pre></div></td></tr><tr><td>ModuleVersionId</td><td><div class=\"dni-plaintext\"><pre>f9615d6c-17d4-4d20-ba96-14e20c568e22</pre></div></td></tr><tr><td>MetadataToken</td><td><div class=\"dni-plaintext\"><pre>1</pre></div></td></tr><tr><td>ScopeName</td><td><div class=\"dni-plaintext\"><pre>Microsoft.SemanticKernel.Abstractions.dll</pre></div></td></tr><tr><td>Name</td><td><div class=\"dni-plaintext\"><pre>Microsoft.SemanticKernel.Abstractions.dll</pre></div></td></tr><tr><td>Assembly</td><td><details class=\"dni-treeview\"><summary><span class=\"dni-code-hint\"><code>Microsoft.SemanticKernel.Abstractions, Version=0.21.0.0, Culture=neutral, PublicKeyToken=f300afd708cefcd3</code></span></summary><div><table><thead><tr></tr></thead><tbody><tr><td>CodeBase</td><td><div class=\"dni-plaintext\"><pre>file:///C:/Users/dicolomb/.nuget/packages/microsoft.semantickernel.abstractions/0.21.230828.2-preview/lib/netstandard2.0/Microsoft.SemanticKernel.Abstractions.dll</pre></div></td></tr><tr><td>FullName</td><td><div class=\"dni-plaintext\"><pre>Microsoft.SemanticKernel.Abstractions, Version=0.21.0.0, Culture=neutral, PublicKeyToken=f300afd708cefcd3</pre></div></td></tr><tr><td>EntryPoint</td><td><div class=\"dni-plaintext\"><pre>&lt;null&gt;</pre></div></td></tr><tr><td>DefinedTypes</td><td><table><thead><tr><th><i>index</i></th><th>value</th></tr></thead><tbody><tr><td>0</td><td>Microsoft.CodeAnalysis.EmbeddedAttribute</td></tr><tr><td>1</td><td>System.Runtime.CompilerServices.IsReadOnlyAttribute</td></tr><tr><td>2</td><td>System.Runtime.CompilerServices.IsUnmanagedAttribute</td></tr><tr><td>3</td><td>System.Runtime.CompilerServices.NullableAttribute</td></tr><tr><td>4</td><td>System.Runtime.CompilerServices.NullableContextAttribute</td></tr><tr><td>5</td><td>HttpClientProvider</td></tr><tr><td>6</td><td>NonDisposableHttpClientHandler</td></tr><tr><td>7</td><td>System.ExceptionExtensions</td></tr><tr><td>8</td><td>System.EnvExtensions</td></tr><tr><td>9</td><td>System.Linq.AsyncEnumerable</td></tr><tr><td>10</td><td>System.Diagnostics.CodeAnalysis.AllowNullAttribute</td></tr><tr><td>11</td><td>System.Diagnostics.CodeAnalysis.DisallowNullAttribute</td></tr><tr><td>12</td><td>System.Diagnostics.CodeAnalysis.MaybeNullAttribute</td></tr><tr><td>13</td><td>System.Diagnostics.CodeAnalysis.NotNullAttribute</td></tr><tr><td>14</td><td>System.Diagnostics.CodeAnalysis.MaybeNullWhenAttribute</td></tr><tr><td>15</td><td>System.Diagnostics.CodeAnalysis.NotNullWhenAttribute</td></tr><tr><td>16</td><td>System.Diagnostics.CodeAnalysis.NotNullIfNotNullAttribute</td></tr><tr><td>17</td><td>System.Diagnostics.CodeAnalysis.DoesNotReturnAttribute</td></tr><tr><td>18</td><td>System.Diagnostics.CodeAnalysis.DoesNotReturnIfAttribute</td></tr><tr><td>19</td><td>System.Diagnostics.CodeAnalysis.MemberNotNullAttribute</td></tr><tr><td colspan=\"2\"><i>(100 more)</i></td></tr></tbody></table></td></tr><tr><td>IsCollectible</td><td><div class=\"dni-plaintext\"><pre>False</pre></div></td></tr><tr><td>ManifestModule</td><td><details class=\"dni-treeview\"><summary><span class=\"dni-code-hint\"><code>Microsoft.SemanticKernel.Abstractions.dll</code></span></summary><div><table><thead><tr></tr></thead><tbody><tr><td>MDStreamVersion</td><td>131072</td></tr><tr><td>FullyQualifiedName</td><td>C:\\Users\\dicolomb\\.nuget\\packages\\microsoft.semantickernel.abstractions\\0.21.230828.2-preview\\lib\\netstandard2.0\\Microsoft.SemanticKernel.Abstractions.dll</td></tr><tr><td>ModuleVersionId</td><td>f9615d6c-17d4-4d20-ba96-14e20c568e22</td></tr><tr><td>MetadataToken</td><td>1</td></tr><tr><td>ScopeName</td><td>Microsoft.SemanticKernel.Abstractions.dll</td></tr><tr><td>Name</td><td>Microsoft.SemanticKernel.Abstractions.dll</td></tr><tr><td>Assembly</td><td>Microsoft.SemanticKernel.Abstractions, Version=0.21.0.0, Culture=neutral, PublicKeyToken=f300afd708cefcd3</td></tr><tr><td>ModuleHandle</td><td>System.ModuleHandle</td></tr><tr><td>CustomAttributes</td><td>[  ]</td></tr></tbody></table></div></details></td></tr><tr><td>ReflectionOnly</td><td><div class=\"dni-plaintext\"><pre>False</pre></div></td></tr><tr><td>Location</td><td><div class=\"dni-plaintext\"><pre>C:\\Users\\dicolomb\\.nuget\\packages\\microsoft.semantickernel.abstractions\\0.21.230828.2-preview\\lib\\netstandard2.0\\Microsoft.SemanticKernel.Abstractions.dll</pre></div></td></tr><tr><td>ImageRuntimeVersion</td><td><div class=\"dni-plaintext\"><pre>v4.0.30319</pre></div></td></tr><tr><td>GlobalAssemblyCache</td><td><div class=\"dni-plaintext\"><pre>False</pre></div></td></tr><tr><td>HostContext</td><td><div class=\"dni-plaintext\"><pre>0</pre></div></td></tr><tr><td>IsDynamic</td><td><div class=\"dni-plaintext\"><pre>False</pre></div></td></tr><tr><td>ExportedTypes</td><td><table><thead><tr><th><i>index</i></th><th>value</th></tr></thead><tbody><tr><td>0</td><td>Microsoft.SemanticKernel.ChatCompletionServiceExtensions</td></tr><tr><td>1</td><td>Microsoft.SemanticKernel.TextEmbeddingServiceExtensions</td></tr><tr><td>2</td><td>Microsoft.SemanticKernel.ImageGenerationServiceExtensions</td></tr><tr><td>3</td><td>Microsoft.SemanticKernel.TextCompletionServiceExtensions</td></tr><tr><td>4</td><td>Microsoft.SemanticKernel.IKernel</td></tr><tr><td>5</td><td>Microsoft.SemanticKernel.KernelConfig</td></tr><tr><td>6</td><td>Microsoft.SemanticKernel.TemplateEngine.IPromptTemplateEngine</td></tr><tr><td>7</td><td>Microsoft.SemanticKernel.TemplateEngine.Blocks.Block</td></tr><tr><td>8</td><td>Microsoft.SemanticKernel.SkillDefinition.FunctionsView</td></tr><tr><td>9</td><td>Microsoft.SemanticKernel.SkillDefinition.FunctionView</td></tr><tr><td>10</td><td>Microsoft.SemanticKernel.SkillDefinition.IReadOnlySkillCollection</td></tr><tr><td>11</td><td>Microsoft.SemanticKernel.SkillDefinition.ISKFunction</td></tr><tr><td>12</td><td>Microsoft.SemanticKernel.SkillDefinition.ISkillCollection</td></tr><tr><td>13</td><td>Microsoft.SemanticKernel.SkillDefinition.ParameterView</td></tr><tr><td>14</td><td>Microsoft.SemanticKernel.SkillDefinition.ParameterViewType</td></tr><tr><td>15</td><td>Microsoft.SemanticKernel.SkillDefinition.SKFunctionAttribute</td></tr><tr><td>16</td><td>Microsoft.SemanticKernel.SkillDefinition.SKNameAttribute</td></tr><tr><td>17</td><td>Microsoft.SemanticKernel.SkillDefinition.SKParameterAttribute</td></tr><tr><td>18</td><td>Microsoft.SemanticKernel.Services.IAIService</td></tr><tr><td>19</td><td>Microsoft.SemanticKernel.Services.IAIServiceProvider</td></tr><tr><td colspan=\"2\"><i>(45 more)</i></td></tr></tbody></table></td></tr><tr><td>IsFullyTrusted</td><td><div class=\"dni-plaintext\"><pre>True</pre></div></td></tr><tr><td>CustomAttributes</td><td><table><thead><tr><th><i>index</i></th><th>value</th></tr></thead><tbody><tr><td>0</td><td>[System.Runtime.CompilerServices.ExtensionAttribute()]</td></tr><tr><td>1</td><td>[System.Runtime.CompilerServices.CompilationRelaxationsAttribute((Int32)8)]</td></tr><tr><td>2</td><td>[System.Runtime.CompilerServices.RuntimeCompatibilityAttribute(WrapNonExceptionThrows = True)]</td></tr><tr><td>3</td><td>[System.Diagnostics.DebuggableAttribute((System.Diagnostics.DebuggableAttribute+DebuggingModes)263)]</td></tr><tr><td>4</td><td>[System.Runtime.Versioning.TargetFrameworkAttribute(\".NETStandard,Version=v2.0\", FrameworkDisplayName = \"\")]</td></tr><tr><td>5</td><td>[System.CLSCompliantAttribute((Boolean)False)]</td></tr><tr><td>6</td><td>[System.Reflection.AssemblyCompanyAttribute(\"Microsoft\")]</td></tr><tr><td>7</td><td>[System.Reflection.AssemblyConfigurationAttribute(\"Publish\")]</td></tr><tr><td>8</td><td>[System.Reflection.AssemblyCopyrightAttribute(\"© Microsoft Corporation. All rights reserved.\")]</td></tr><tr><td>9</td><td>[System.Reflection.AssemblyDescriptionAttribute(\"Semantic Kernel interfaces and abstractions. This package is automatically installed by Semantic Kernel packages if needed.\")]</td></tr><tr><td>10</td><td>[System.Reflection.AssemblyFileVersionAttribute(\"0.21.0.0\")]</td></tr><tr><td>11</td><td>[System.Reflection.AssemblyInformationalVersionAttribute(\"0.21+3e12f1a78de7f40b58499072b5f38832d34d9f78\")]</td></tr><tr><td>12</td><td>[System.Reflection.AssemblyProductAttribute(\"Semantic Kernel\")]</td></tr><tr><td>13</td><td>[System.Reflection.AssemblyTitleAttribute(\"Microsoft.SemanticKernel.Abstractions\")]</td></tr><tr><td>14</td><td>[System.Reflection.AssemblyMetadataAttribute(\"RepositoryUrl\", \"https://github.com/microsoft/semantic-kernel\")]</td></tr><tr><td>15</td><td>[System.Runtime.CompilerServices.InternalsVisibleToAttribute(\"Microsoft.SemanticKernel.Core, PublicKey=002400000c80000014010000060200000024000052534131000800000100010085aad0bef0688d1b994a0d78e1fd29fc24ac34ed3d3ac3fb9b3d0c48386ba834aa880035060a8848b2d8adf58e670ed20914be3681a891c9c8c01eef2ab22872547c39be00af0e6c72485d7cfd1a51df8947d36ceba9989106b58abe79e6a3e71a01ed6bdc867012883e0b1a4d35b1b5eeed6df21e401bb0c22f2246ccb69979dc9e61eef262832ed0f2064853725a75485fa8a3efb7e027319c86dec03dc3b1bca2b5081bab52a627b9917450dfad534799e1c7af58683bdfa135f1518ff1ea60e90d7b993a6c87fd3dd93408e35d1296f9a7f9a97c5db56c0f3cc25ad11e9777f94d138b3cea53b9a8331c2e6dcb8d2ea94e18bf1163ff112a22dbd92d429a\")]</td></tr><tr><td>16</td><td>[System.Runtime.CompilerServices.InternalsVisibleToAttribute(\"SemanticKernel.UnitTests, PublicKey=002400000c80000014010000060200000024000052534131000800000100010085aad0bef0688d1b994a0d78e1fd29fc24ac34ed3d3ac3fb9b3d0c48386ba834aa880035060a8848b2d8adf58e670ed20914be3681a891c9c8c01eef2ab22872547c39be00af0e6c72485d7cfd1a51df8947d36ceba9989106b58abe79e6a3e71a01ed6bdc867012883e0b1a4d35b1b5eeed6df21e401bb0c22f2246ccb69979dc9e61eef262832ed0f2064853725a75485fa8a3efb7e027319c86dec03dc3b1bca2b5081bab52a627b9917450dfad534799e1c7af58683bdfa135f1518ff1ea60e90d7b993a6c87fd3dd93408e35d1296f9a7f9a97c5db56c0f3cc25ad11e9777f94d138b3cea53b9a8331c2e6dcb8d2ea94e18bf1163ff112a22dbd92d429a\")]</td></tr><tr><td>17</td><td>[System.Runtime.CompilerServices.InternalsVisibleToAttribute(\"Extensions.UnitTests, PublicKey=002400000c80000014010000060200000024000052534131000800000100010085aad0bef0688d1b994a0d78e1fd29fc24ac34ed3d3ac3fb9b3d0c48386ba834aa880035060a8848b2d8adf58e670ed20914be3681a891c9c8c01eef2ab22872547c39be00af0e6c72485d7cfd1a51df8947d36ceba9989106b58abe79e6a3e71a01ed6bdc867012883e0b1a4d35b1b5eeed6df21e401bb0c22f2246ccb69979dc9e61eef262832ed0f2064853725a75485fa8a3efb7e027319c86dec03dc3b1bca2b5081bab52a627b9917450dfad534799e1c7af58683bdfa135f1518ff1ea60e90d7b993a6c87fd3dd93408e35d1296f9a7f9a97c5db56c0f3cc25ad11e9777f94d138b3cea53b9a8331c2e6dcb8d2ea94e18bf1163ff112a22dbd92d429a\")]</td></tr><tr><td>18</td><td>[System.Runtime.CompilerServices.InternalsVisibleToAttribute(\"DynamicProxyGenAssembly2, PublicKey=002400000c80000014010000060200000024000052534131000800000100010085aad0bef0688d1b994a0d78e1fd29fc24ac34ed3d3ac3fb9b3d0c48386ba834aa880035060a8848b2d8adf58e670ed20914be3681a891c9c8c01eef2ab22872547c39be00af0e6c72485d7cfd1a51df8947d36ceba9989106b58abe79e6a3e71a01ed6bdc867012883e0b1a4d35b1b5eeed6df21e401bb0c22f2246ccb69979dc9e61eef262832ed0f2064853725a75485fa8a3efb7e027319c86dec03dc3b1bca2b5081bab52a627b9917450dfad534799e1c7af58683bdfa135f1518ff1ea60e90d7b993a6c87fd3dd93408e35d1296f9a7f9a97c5db56c0f3cc25ad11e9777f94d138b3cea53b9a8331c2e6dcb8d2ea94e18bf1163ff112a22dbd92d429a\")]</td></tr></tbody></table></td></tr><tr><td>EscapedCodeBase</td><td><div class=\"dni-plaintext\"><pre>file:///C:/Users/dicolomb/.nuget/packages/microsoft.semantickernel.abstractions/0.21.230828.2-preview/lib/netstandard2.0/Microsoft.SemanticKernel.Abstractions.dll</pre></div></td></tr><tr><td>Modules</td><td><table><thead><tr><th><i>index</i></th><th>value</th></tr></thead><tbody><tr><td>0</td><td>Microsoft.SemanticKernel.Abstractions.dll</td></tr></tbody></table></td></tr><tr><td>SecurityRuleSet</td><td><span>None</span></td></tr></tbody></table></div></details></td></tr><tr><td>ModuleHandle</td><td><details class=\"dni-treeview\"><summary><span class=\"dni-code-hint\"><code>System.ModuleHandle</code></span></summary><div><table><thead><tr></tr></thead><tbody><tr><td>MDStreamVersion</td><td><div class=\"dni-plaintext\"><pre>131072</pre></div></td></tr></tbody></table></div></details></td></tr><tr><td>CustomAttributes</td><td><i>(empty)</i></td></tr></tbody></table></div></details></td></tr><tr><td>IsSecurityCritical</td><td><div class=\"dni-plaintext\"><pre>True</pre></div></td></tr><tr><td>IsSecuritySafeCritical</td><td><div class=\"dni-plaintext\"><pre>False</pre></div></td></tr><tr><td>IsSecurityTransparent</td><td><div class=\"dni-plaintext\"><pre>False</pre></div></td></tr><tr><td>MethodHandle</td><td><details class=\"dni-treeview\"><summary><span class=\"dni-code-hint\"><code>System.RuntimeMethodHandle</code></span></summary><div><table><thead><tr></tr></thead><tbody><tr><td>Value</td><td><div class=\"dni-plaintext\"><pre>140717887080264</pre></div></td></tr></tbody></table></div></details></td></tr><tr><td>Attributes</td><td><span>PrivateScope, Public, HideBySig, SpecialName</span></td></tr><tr><td>CallingConvention</td><td><span>Standard, HasThis</span></td></tr><tr><td>ReturnType</td><td><span><a href=\"https://docs.microsoft.com/dotnet/api/microsoft.semantickernel.memory.isemantictextmemory?view=net-7.0\">Microsoft.SemanticKernel.Memory.ISemanticTextMemory</a></span></td></tr><tr><td>ReturnTypeCustomAttributes</td><td><details class=\"dni-treeview\"><summary><span class=\"dni-code-hint\"><code>Microsoft.SemanticKernel.Memory.ISemanticTextMemory</code></span></summary><div><table><thead><tr></tr></thead><tbody><tr><td>ParameterType</td><td><span><a href=\"https://docs.microsoft.com/dotnet/api/microsoft.semantickernel.memory.isemantictextmemory?view=net-7.0\">Microsoft.SemanticKernel.Memory.ISemanticTextMemory</a></span></td></tr><tr><td>Name</td><td><div class=\"dni-plaintext\"><pre>&lt;null&gt;</pre></div></td></tr><tr><td>HasDefaultValue</td><td><div class=\"dni-plaintext\"><pre>True</pre></div></td></tr><tr><td>DefaultValue</td><td><div class=\"dni-plaintext\"><pre>&lt;null&gt;</pre></div></td></tr><tr><td>RawDefaultValue</td><td><div class=\"dni-plaintext\"><pre>&lt;null&gt;</pre></div></td></tr><tr><td>MetadataToken</td><td><div class=\"dni-plaintext\"><pre>134217728</pre></div></td></tr><tr><td>Attributes</td><td><span>None</span></td></tr><tr><td>Member</td><td><details class=\"dni-treeview\"><summary><span class=\"dni-code-hint\"><code>Microsoft.SemanticKernel.Memory.ISemanticTextMemory get_Memory()</code></span></summary><div><table><thead><tr></tr></thead><tbody><tr><td>Name</td><td><div class=\"dni-plaintext\"><pre>get_Memory</pre></div></td></tr><tr><td>DeclaringType</td><td><span><a href=\"https://docs.microsoft.com/dotnet/api/microsoft.semantickernel.orchestration.skcontext?view=net-7.0\">Microsoft.SemanticKernel.Orchestration.SKContext</a></span></td></tr><tr><td>ReflectedType</td><td><span><a href=\"https://docs.microsoft.com/dotnet/api/microsoft.semantickernel.orchestration.skcontext?view=net-7.0\">Microsoft.SemanticKernel.Orchestration.SKContext</a></span></td></tr><tr><td>MemberType</td><td><span>Method</span></td></tr><tr><td>MetadataToken</td><td><div class=\"dni-plaintext\"><pre>100663585</pre></div></td></tr><tr><td>Module</td><td><details class=\"dni-treeview\"><summary><span class=\"dni-code-hint\"><code>Microsoft.SemanticKernel.Abstractions.dll</code></span></summary><div><table><thead><tr></tr></thead><tbody><tr><td>MDStreamVersion</td><td>131072</td></tr><tr><td>FullyQualifiedName</td><td>C:\\Users\\dicolomb\\.nuget\\packages\\microsoft.semantickernel.abstractions\\0.21.230828.2-preview\\lib\\netstandard2.0\\Microsoft.SemanticKernel.Abstractions.dll</td></tr><tr><td>ModuleVersionId</td><td>f9615d6c-17d4-4d20-ba96-14e20c568e22</td></tr><tr><td>MetadataToken</td><td>1</td></tr><tr><td>ScopeName</td><td>Microsoft.SemanticKernel.Abstractions.dll</td></tr><tr><td>Name</td><td>Microsoft.SemanticKernel.Abstractions.dll</td></tr><tr><td>Assembly</td><td>Microsoft.SemanticKernel.Abstractions, Version=0.21.0.0, Culture=neutral, PublicKeyToken=f300afd708cefcd3</td></tr><tr><td>ModuleHandle</td><td>System.ModuleHandle</td></tr><tr><td>CustomAttributes</td><td>[  ]</td></tr></tbody></table></div></details></td></tr><tr><td>IsSecurityCritical</td><td><div class=\"dni-plaintext\"><pre>True</pre></div></td></tr><tr><td>IsSecuritySafeCritical</td><td><div class=\"dni-plaintext\"><pre>False</pre></div></td></tr><tr><td>IsSecurityTransparent</td><td><div class=\"dni-plaintext\"><pre>False</pre></div></td></tr><tr><td>MethodHandle</td><td><details class=\"dni-treeview\"><summary><span class=\"dni-code-hint\"><code>System.RuntimeMethodHandle</code></span></summary><div><table><thead><tr></tr></thead><tbody><tr><td>Value</td><td>140717887080264</td></tr></tbody></table></div></details></td></tr><tr><td>Attributes</td><td><span>PrivateScope, Public, HideBySig, SpecialName</span></td></tr><tr><td>CallingConvention</td><td><span>Standard, HasThis</span></td></tr><tr><td>ReturnType</td><td><span><a href=\"https://docs.microsoft.com/dotnet/api/microsoft.semantickernel.memory.isemantictextmemory?view=net-7.0\">Microsoft.SemanticKernel.Memory.ISemanticTextMemory</a></span></td></tr><tr><td>ReturnTypeCustomAttributes</td><td><details class=\"dni-treeview\"><summary><span class=\"dni-code-hint\"><code>Microsoft.SemanticKernel.Memory.ISemanticTextMemory</code></span></summary><div><table><thead><tr></tr></thead><tbody><tr><td>ParameterType</td><td>Microsoft.SemanticKernel.Memory.ISemanticTextMemory</td></tr><tr><td>Name</td><td><div class=\"dni-plaintext\"><pre>&lt;null&gt;</pre></div></td></tr><tr><td>HasDefaultValue</td><td>True</td></tr><tr><td>DefaultValue</td><td><div class=\"dni-plaintext\"><pre>&lt;null&gt;</pre></div></td></tr><tr><td>RawDefaultValue</td><td><div class=\"dni-plaintext\"><pre>&lt;null&gt;</pre></div></td></tr><tr><td>MetadataToken</td><td>134217728</td></tr><tr><td>Attributes</td><td>None</td></tr><tr><td>Member</td><td>Microsoft.SemanticKernel.Memory.ISemanticTextMemory get_Memory()</td></tr><tr><td>Position</td><td>-1</td></tr><tr><td>IsIn</td><td>False</td></tr><tr><td>IsLcid</td><td>False</td></tr><tr><td>IsOptional</td><td>False</td></tr><tr><td>IsOut</td><td>False</td></tr><tr><td>IsRetval</td><td>False</td></tr><tr><td>CustomAttributes</td><td>[  ]</td></tr></tbody></table></div></details></td></tr><tr><td>ReturnParameter</td><td><details class=\"dni-treeview\"><summary><span class=\"dni-code-hint\"><code>Microsoft.SemanticKernel.Memory.ISemanticTextMemory</code></span></summary><div><table><thead><tr></tr></thead><tbody><tr><td>ParameterType</td><td>Microsoft.SemanticKernel.Memory.ISemanticTextMemory</td></tr><tr><td>Name</td><td><div class=\"dni-plaintext\"><pre>&lt;null&gt;</pre></div></td></tr><tr><td>HasDefaultValue</td><td>True</td></tr><tr><td>DefaultValue</td><td><div class=\"dni-plaintext\"><pre>&lt;null&gt;</pre></div></td></tr><tr><td>RawDefaultValue</td><td><div class=\"dni-plaintext\"><pre>&lt;null&gt;</pre></div></td></tr><tr><td>MetadataToken</td><td>134217728</td></tr><tr><td>Attributes</td><td>None</td></tr><tr><td>Member</td><td>Microsoft.SemanticKernel.Memory.ISemanticTextMemory get_Memory()</td></tr><tr><td>Position</td><td>-1</td></tr><tr><td>IsIn</td><td>False</td></tr><tr><td>IsLcid</td><td>False</td></tr><tr><td>IsOptional</td><td>False</td></tr><tr><td>IsOut</td><td>False</td></tr><tr><td>IsRetval</td><td>False</td></tr><tr><td>CustomAttributes</td><td>[  ]</td></tr></tbody></table></div></details></td></tr><tr><td>IsCollectible</td><td><div class=\"dni-plaintext\"><pre>False</pre></div></td></tr><tr><td>IsGenericMethod</td><td><div class=\"dni-plaintext\"><pre>False</pre></div></td></tr><tr><td>IsGenericMethodDefinition</td><td><div class=\"dni-plaintext\"><pre>False</pre></div></td></tr><tr><td>ContainsGenericParameters</td><td><div class=\"dni-plaintext\"><pre>False</pre></div></td></tr><tr><td>MethodImplementationFlags</td><td><span>IL</span></td></tr><tr><td>IsAbstract</td><td><div class=\"dni-plaintext\"><pre>False</pre></div></td></tr><tr><td>IsConstructor</td><td><div class=\"dni-plaintext\"><pre>False</pre></div></td></tr><tr><td>IsFinal</td><td><div class=\"dni-plaintext\"><pre>False</pre></div></td></tr><tr><td>IsHideBySig</td><td><div class=\"dni-plaintext\"><pre>True</pre></div></td></tr><tr><td>IsSpecialName</td><td><div class=\"dni-plaintext\"><pre>True</pre></div></td></tr><tr><td>IsStatic</td><td><div class=\"dni-plaintext\"><pre>False</pre></div></td></tr><tr><td>IsVirtual</td><td><div class=\"dni-plaintext\"><pre>False</pre></div></td></tr><tr><td>IsAssembly</td><td><div class=\"dni-plaintext\"><pre>False</pre></div></td></tr><tr><td>IsFamily</td><td><div class=\"dni-plaintext\"><pre>False</pre></div></td></tr><tr><td>IsFamilyAndAssembly</td><td><div class=\"dni-plaintext\"><pre>False</pre></div></td></tr><tr><td>IsFamilyOrAssembly</td><td><div class=\"dni-plaintext\"><pre>False</pre></div></td></tr><tr><td>IsPrivate</td><td><div class=\"dni-plaintext\"><pre>False</pre></div></td></tr><tr><td>IsPublic</td><td><div class=\"dni-plaintext\"><pre>True</pre></div></td></tr><tr><td>IsConstructedGenericMethod</td><td><div class=\"dni-plaintext\"><pre>False</pre></div></td></tr><tr><td>CustomAttributes</td><td><i>(empty)</i></td></tr></tbody></table></div></details></td></tr><tr><td>Position</td><td><div class=\"dni-plaintext\"><pre>-1</pre></div></td></tr><tr><td>IsIn</td><td><div class=\"dni-plaintext\"><pre>False</pre></div></td></tr><tr><td>IsLcid</td><td><div class=\"dni-plaintext\"><pre>False</pre></div></td></tr><tr><td>IsOptional</td><td><div class=\"dni-plaintext\"><pre>False</pre></div></td></tr><tr><td>IsOut</td><td><div class=\"dni-plaintext\"><pre>False</pre></div></td></tr><tr><td>IsRetval</td><td><div class=\"dni-plaintext\"><pre>False</pre></div></td></tr><tr><td>CustomAttributes</td><td><i>(empty)</i></td></tr></tbody></table></div></details></td></tr><tr><td>ReturnParameter</td><td><details class=\"dni-treeview\"><summary><span class=\"dni-code-hint\"><code>Microsoft.SemanticKernel.Memory.ISemanticTextMemory</code></span></summary><div><table><thead><tr></tr></thead><tbody><tr><td>ParameterType</td><td><span><a href=\"https://docs.microsoft.com/dotnet/api/microsoft.semantickernel.memory.isemantictextmemory?view=net-7.0\">Microsoft.SemanticKernel.Memory.ISemanticTextMemory</a></span></td></tr><tr><td>Name</td><td><div class=\"dni-plaintext\"><pre>&lt;null&gt;</pre></div></td></tr><tr><td>HasDefaultValue</td><td><div class=\"dni-plaintext\"><pre>True</pre></div></td></tr><tr><td>DefaultValue</td><td><div class=\"dni-plaintext\"><pre>&lt;null&gt;</pre></div></td></tr><tr><td>RawDefaultValue</td><td><div class=\"dni-plaintext\"><pre>&lt;null&gt;</pre></div></td></tr><tr><td>MetadataToken</td><td><div class=\"dni-plaintext\"><pre>134217728</pre></div></td></tr><tr><td>Attributes</td><td><span>None</span></td></tr><tr><td>Member</td><td><details class=\"dni-treeview\"><summary><span class=\"dni-code-hint\"><code>Microsoft.SemanticKernel.Memory.ISemanticTextMemory get_Memory()</code></span></summary><div><table><thead><tr></tr></thead><tbody><tr><td>Name</td><td><div class=\"dni-plaintext\"><pre>get_Memory</pre></div></td></tr><tr><td>DeclaringType</td><td><span><a href=\"https://docs.microsoft.com/dotnet/api/microsoft.semantickernel.orchestration.skcontext?view=net-7.0\">Microsoft.SemanticKernel.Orchestration.SKContext</a></span></td></tr><tr><td>ReflectedType</td><td><span><a href=\"https://docs.microsoft.com/dotnet/api/microsoft.semantickernel.orchestration.skcontext?view=net-7.0\">Microsoft.SemanticKernel.Orchestration.SKContext</a></span></td></tr><tr><td>MemberType</td><td><span>Method</span></td></tr><tr><td>MetadataToken</td><td><div class=\"dni-plaintext\"><pre>100663585</pre></div></td></tr><tr><td>Module</td><td><details class=\"dni-treeview\"><summary><span class=\"dni-code-hint\"><code>Microsoft.SemanticKernel.Abstractions.dll</code></span></summary><div><table><thead><tr></tr></thead><tbody><tr><td>MDStreamVersion</td><td>131072</td></tr><tr><td>FullyQualifiedName</td><td>C:\\Users\\dicolomb\\.nuget\\packages\\microsoft.semantickernel.abstractions\\0.21.230828.2-preview\\lib\\netstandard2.0\\Microsoft.SemanticKernel.Abstractions.dll</td></tr><tr><td>ModuleVersionId</td><td>f9615d6c-17d4-4d20-ba96-14e20c568e22</td></tr><tr><td>MetadataToken</td><td>1</td></tr><tr><td>ScopeName</td><td>Microsoft.SemanticKernel.Abstractions.dll</td></tr><tr><td>Name</td><td>Microsoft.SemanticKernel.Abstractions.dll</td></tr><tr><td>Assembly</td><td>Microsoft.SemanticKernel.Abstractions, Version=0.21.0.0, Culture=neutral, PublicKeyToken=f300afd708cefcd3</td></tr><tr><td>ModuleHandle</td><td>System.ModuleHandle</td></tr><tr><td>CustomAttributes</td><td>[  ]</td></tr></tbody></table></div></details></td></tr><tr><td>IsSecurityCritical</td><td><div class=\"dni-plaintext\"><pre>True</pre></div></td></tr><tr><td>IsSecuritySafeCritical</td><td><div class=\"dni-plaintext\"><pre>False</pre></div></td></tr><tr><td>IsSecurityTransparent</td><td><div class=\"dni-plaintext\"><pre>False</pre></div></td></tr><tr><td>MethodHandle</td><td><details class=\"dni-treeview\"><summary><span class=\"dni-code-hint\"><code>System.RuntimeMethodHandle</code></span></summary><div><table><thead><tr></tr></thead><tbody><tr><td>Value</td><td>140717887080264</td></tr></tbody></table></div></details></td></tr><tr><td>Attributes</td><td><span>PrivateScope, Public, HideBySig, SpecialName</span></td></tr><tr><td>CallingConvention</td><td><span>Standard, HasThis</span></td></tr><tr><td>ReturnType</td><td><span><a href=\"https://docs.microsoft.com/dotnet/api/microsoft.semantickernel.memory.isemantictextmemory?view=net-7.0\">Microsoft.SemanticKernel.Memory.ISemanticTextMemory</a></span></td></tr><tr><td>ReturnTypeCustomAttributes</td><td><details class=\"dni-treeview\"><summary><span class=\"dni-code-hint\"><code>Microsoft.SemanticKernel.Memory.ISemanticTextMemory</code></span></summary><div><table><thead><tr></tr></thead><tbody><tr><td>ParameterType</td><td>Microsoft.SemanticKernel.Memory.ISemanticTextMemory</td></tr><tr><td>Name</td><td><div class=\"dni-plaintext\"><pre>&lt;null&gt;</pre></div></td></tr><tr><td>HasDefaultValue</td><td>True</td></tr><tr><td>DefaultValue</td><td><div class=\"dni-plaintext\"><pre>&lt;null&gt;</pre></div></td></tr><tr><td>RawDefaultValue</td><td><div class=\"dni-plaintext\"><pre>&lt;null&gt;</pre></div></td></tr><tr><td>MetadataToken</td><td>134217728</td></tr><tr><td>Attributes</td><td>None</td></tr><tr><td>Member</td><td>Microsoft.SemanticKernel.Memory.ISemanticTextMemory get_Memory()</td></tr><tr><td>Position</td><td>-1</td></tr><tr><td>IsIn</td><td>False</td></tr><tr><td>IsLcid</td><td>False</td></tr><tr><td>IsOptional</td><td>False</td></tr><tr><td>IsOut</td><td>False</td></tr><tr><td>IsRetval</td><td>False</td></tr><tr><td>CustomAttributes</td><td>[  ]</td></tr></tbody></table></div></details></td></tr><tr><td>ReturnParameter</td><td><details class=\"dni-treeview\"><summary><span class=\"dni-code-hint\"><code>Microsoft.SemanticKernel.Memory.ISemanticTextMemory</code></span></summary><div><table><thead><tr></tr></thead><tbody><tr><td>ParameterType</td><td>Microsoft.SemanticKernel.Memory.ISemanticTextMemory</td></tr><tr><td>Name</td><td><div class=\"dni-plaintext\"><pre>&lt;null&gt;</pre></div></td></tr><tr><td>HasDefaultValue</td><td>True</td></tr><tr><td>DefaultValue</td><td><div class=\"dni-plaintext\"><pre>&lt;null&gt;</pre></div></td></tr><tr><td>RawDefaultValue</td><td><div class=\"dni-plaintext\"><pre>&lt;null&gt;</pre></div></td></tr><tr><td>MetadataToken</td><td>134217728</td></tr><tr><td>Attributes</td><td>None</td></tr><tr><td>Member</td><td>Microsoft.SemanticKernel.Memory.ISemanticTextMemory get_Memory()</td></tr><tr><td>Position</td><td>-1</td></tr><tr><td>IsIn</td><td>False</td></tr><tr><td>IsLcid</td><td>False</td></tr><tr><td>IsOptional</td><td>False</td></tr><tr><td>IsOut</td><td>False</td></tr><tr><td>IsRetval</td><td>False</td></tr><tr><td>CustomAttributes</td><td>[  ]</td></tr></tbody></table></div></details></td></tr><tr><td>IsCollectible</td><td><div class=\"dni-plaintext\"><pre>False</pre></div></td></tr><tr><td>IsGenericMethod</td><td><div class=\"dni-plaintext\"><pre>False</pre></div></td></tr><tr><td>IsGenericMethodDefinition</td><td><div class=\"dni-plaintext\"><pre>False</pre></div></td></tr><tr><td>ContainsGenericParameters</td><td><div class=\"dni-plaintext\"><pre>False</pre></div></td></tr><tr><td>MethodImplementationFlags</td><td><span>IL</span></td></tr><tr><td>IsAbstract</td><td><div class=\"dni-plaintext\"><pre>False</pre></div></td></tr><tr><td>IsConstructor</td><td><div class=\"dni-plaintext\"><pre>False</pre></div></td></tr><tr><td>IsFinal</td><td><div class=\"dni-plaintext\"><pre>False</pre></div></td></tr><tr><td>IsHideBySig</td><td><div class=\"dni-plaintext\"><pre>True</pre></div></td></tr><tr><td>IsSpecialName</td><td><div class=\"dni-plaintext\"><pre>True</pre></div></td></tr><tr><td>IsStatic</td><td><div class=\"dni-plaintext\"><pre>False</pre></div></td></tr><tr><td>IsVirtual</td><td><div class=\"dni-plaintext\"><pre>False</pre></div></td></tr><tr><td>IsAssembly</td><td><div class=\"dni-plaintext\"><pre>False</pre></div></td></tr><tr><td>IsFamily</td><td><div class=\"dni-plaintext\"><pre>False</pre></div></td></tr><tr><td>IsFamilyAndAssembly</td><td><div class=\"dni-plaintext\"><pre>False</pre></div></td></tr><tr><td>IsFamilyOrAssembly</td><td><div class=\"dni-plaintext\"><pre>False</pre></div></td></tr><tr><td>IsPrivate</td><td><div class=\"dni-plaintext\"><pre>False</pre></div></td></tr><tr><td>IsPublic</td><td><div class=\"dni-plaintext\"><pre>True</pre></div></td></tr><tr><td>IsConstructedGenericMethod</td><td><div class=\"dni-plaintext\"><pre>False</pre></div></td></tr><tr><td>CustomAttributes</td><td><i>(empty)</i></td></tr></tbody></table></div></details></td></tr><tr><td>Position</td><td><div class=\"dni-plaintext\"><pre>-1</pre></div></td></tr><tr><td>IsIn</td><td><div class=\"dni-plaintext\"><pre>False</pre></div></td></tr><tr><td>IsLcid</td><td><div class=\"dni-plaintext\"><pre>False</pre></div></td></tr><tr><td>IsOptional</td><td><div class=\"dni-plaintext\"><pre>False</pre></div></td></tr><tr><td>IsOut</td><td><div class=\"dni-plaintext\"><pre>False</pre></div></td></tr><tr><td>IsRetval</td><td><div class=\"dni-plaintext\"><pre>False</pre></div></td></tr><tr><td>CustomAttributes</td><td><i>(empty)</i></td></tr></tbody></table></div></details></td></tr><tr><td>IsCollectible</td><td><div class=\"dni-plaintext\"><pre>False</pre></div></td></tr><tr><td>IsGenericMethod</td><td><div class=\"dni-plaintext\"><pre>False</pre></div></td></tr><tr><td>IsGenericMethodDefinition</td><td><div class=\"dni-plaintext\"><pre>False</pre></div></td></tr><tr><td>ContainsGenericParameters</td><td><div class=\"dni-plaintext\"><pre>False</pre></div></td></tr><tr><td>MethodImplementationFlags</td><td><span>IL</span></td></tr><tr><td>IsAbstract</td><td><div class=\"dni-plaintext\"><pre>False</pre></div></td></tr><tr><td>IsConstructor</td><td><div class=\"dni-plaintext\"><pre>False</pre></div></td></tr><tr><td>IsFinal</td><td><div class=\"dni-plaintext\"><pre>False</pre></div></td></tr><tr><td>IsHideBySig</td><td><div class=\"dni-plaintext\"><pre>True</pre></div></td></tr><tr><td>IsSpecialName</td><td><div class=\"dni-plaintext\"><pre>True</pre></div></td></tr><tr><td>IsStatic</td><td><div class=\"dni-plaintext\"><pre>False</pre></div></td></tr><tr><td>IsVirtual</td><td><div class=\"dni-plaintext\"><pre>False</pre></div></td></tr><tr><td>IsAssembly</td><td><div class=\"dni-plaintext\"><pre>False</pre></div></td></tr><tr><td>IsFamily</td><td><div class=\"dni-plaintext\"><pre>False</pre></div></td></tr><tr><td>IsFamilyAndAssembly</td><td><div class=\"dni-plaintext\"><pre>False</pre></div></td></tr><tr><td>IsFamilyOrAssembly</td><td><div class=\"dni-plaintext\"><pre>False</pre></div></td></tr><tr><td>IsPrivate</td><td><div class=\"dni-plaintext\"><pre>False</pre></div></td></tr><tr><td>IsPublic</td><td><div class=\"dni-plaintext\"><pre>True</pre></div></td></tr><tr><td>IsConstructedGenericMethod</td><td><div class=\"dni-plaintext\"><pre>False</pre></div></td></tr><tr><td>CustomAttributes</td><td><i>(empty)</i></td></tr></tbody></table></div></details></td></tr><tr><td>Message</td><td><div class=\"dni-plaintext\"><pre>Memory no longer passed through SKContext. Instead, initialize your skill class with the memory provider it needs.</pre></div></td></tr><tr><td>Data</td><td><i>(empty)</i></td></tr><tr><td>InnerException</td><td><div class=\"dni-plaintext\"><pre>&lt;null&gt;</pre></div></td></tr><tr><td>HelpLink</td><td><div class=\"dni-plaintext\"><pre>&lt;null&gt;</pre></div></td></tr><tr><td>Source</td><td><div class=\"dni-plaintext\"><pre>Microsoft.SemanticKernel.Abstractions</pre></div></td></tr><tr><td>HResult</td><td><div class=\"dni-plaintext\"><pre>-2146233079</pre></div></td></tr><tr><td>StackTrace</td><td><div class=\"dni-plaintext\"><pre>   at Microsoft.SemanticKernel.Orchestration.SKContext.get_Memory()\r\n",
       "   at lambda_method420(Closure, SKContext)\r\n",
       "   at Microsoft.DotNet.Interactive.Formatting.MemberAccessor`1.GetValueOrException(T instance) in D:\\a\\_work\\1\\s\\src\\Microsoft.DotNet.Interactive.Formatting\\MemberAccessor{T}.cs:line 64</pre></div></td></tr></tbody></table></div></details></td></tr><tr><td>LastErrorDescription</td><td><div class=\"dni-plaintext\"><pre>&lt;null&gt;</pre></div></td></tr></tbody></table></div></details><style>\r\n",
       ".dni-code-hint {\r\n",
       "    font-style: italic;\r\n",
       "    overflow: hidden;\r\n",
       "    white-space: nowrap;\r\n",
       "}\r\n",
       ".dni-treeview {\r\n",
       "    white-space: nowrap;\r\n",
       "}\r\n",
       ".dni-treeview td {\r\n",
       "    vertical-align: top;\r\n",
       "    text-align: start;\r\n",
       "}\r\n",
       "details.dni-treeview {\r\n",
       "    padding-left: 1em;\r\n",
       "}\r\n",
       "table td {\r\n",
       "    text-align: start;\r\n",
       "}\r\n",
       "table tr { \r\n",
       "    vertical-align: top; \r\n",
       "    margin: 0em 0px;\r\n",
       "}\r\n",
       "table tr td pre \r\n",
       "{ \r\n",
       "    vertical-align: top !important; \r\n",
       "    margin: 0em 0px !important;\r\n",
       "} \r\n",
       "table th {\r\n",
       "    text-align: start;\r\n",
       "}\r\n",
       "</style>"
      ],
      "text/plain": [
       "\n",
       "\n",
       "Yes, .NET Interactive allows users to create rich visualizations using mermaid language, javascript, and HTML kernels. It also provides extension APIs to create custom magic commands and execute code in multiple languages."
      ]
     },
     "metadata": {},
     "output_type": "display_data"
    }
   ],
   "source": [
    "#!use-skills function._GLOBAL_FUNCTIONS_.be_clear\n",
    "Why can I do data visualizations with .NET Interactive?"
   ]
  },
  {
   "cell_type": "code",
   "execution_count": 16,
   "metadata": {
    "dotnet_interactive": {
     "language": "textCompletion"
    },
    "polyglot_notebook": {
     "kernelName": "textCompletion"
    }
   },
   "outputs": [
    {
     "data": {
      "text/html": [
       "<details open=\"open\" class=\"dni-treeview\"><summary><span class=\"dni-code-hint\"><code>If a cell runs forever, you should open an issue on the .NET Interactive GitHub page to get help. The .NET Interactive GitHub page provides a platform to report issues and get help. You can also use the Magic commands to switch cell languages in Jupyter.</code></span></summary><div><table><thead><tr></tr></thead><tbody><tr><td>Result</td><td><div class=\"dni-plaintext\"><pre>\n",
       "If a cell runs forever, you should open an issue on the .NET Interactive GitHub page to get help. The .NET Interactive GitHub page provides a platform to report issues and get help. You can also use the Magic commands to switch cell languages in Jupyter.</pre></div></td></tr><tr><td>ModelResults</td><td><table><thead><tr><th><i>index</i></th><th>value</th></tr></thead><tbody><tr><td>0</td><td><details class=\"dni-treeview\"><summary><span class=\"dni-code-hint\"><code>Microsoft.SemanticKernel.Orchestration.ModelResult</code></span></summary><div><table><thead><tr></tr></thead><tbody></tbody></table></div></details></td></tr></tbody></table></td></tr><tr><td>Culture</td><td><details class=\"dni-treeview\"><summary><span class=\"dni-code-hint\"><code>en</code></span></summary><div><table><thead><tr></tr></thead><tbody><tr><td>Parent</td><td><details class=\"dni-treeview\"><summary><span class=\"dni-code-hint\"><code></code></span></summary><div><table><thead><tr></tr></thead><tbody><tr><td>Parent</td><td><details class=\"dni-treeview\"><summary><span class=\"dni-code-hint\"><code></code></span></summary><div><table><thead><tr></tr></thead><tbody><tr><td>Parent</td><td><details class=\"dni-treeview\"><summary><span class=\"dni-code-hint\"><code></code></span></summary><div><table><thead><tr></tr></thead><tbody><tr><td>Parent</td><td><details class=\"dni-treeview\"><summary><span class=\"dni-code-hint\"><code></code></span></summary><div><table><thead><tr></tr></thead><tbody><tr><td>Parent</td><td></td></tr><tr><td>LCID</td><td>127</td></tr><tr><td>KeyboardLayoutId</td><td>127</td></tr><tr><td>Name</td><td></td></tr><tr><td>IetfLanguageTag</td><td></td></tr><tr><td>DisplayName</td><td>Invariant Language (Invariant Country)</td></tr><tr><td>NativeName</td><td>Invariant Language (Invariant Country)</td></tr><tr><td>EnglishName</td><td>Invariant Language (Invariant Country)</td></tr><tr><td>TwoLetterISOLanguageName</td><td>iv</td></tr><tr><td>ThreeLetterISOLanguageName</td><td>ivl</td></tr><tr><td>ThreeLetterWindowsLanguageName</td><td>IVL</td></tr><tr><td>CompareInfo</td><td>CompareInfo - </td></tr><tr><td>TextInfo</td><td>TextInfo - </td></tr><tr><td>IsNeutralCulture</td><td>False</td></tr><tr><td>CultureTypes</td><td>SpecificCultures, InstalledWin32Cultures</td></tr><tr><td>NumberFormat</td><td>System.Globalization.NumberFormatInfo</td></tr><tr><td>DateTimeFormat</td><td>System.Globalization.DateTimeFormatInfo</td></tr><tr><td>Calendar</td><td>System.Globalization.GregorianCalendar</td></tr><tr><td>OptionalCalendars</td><td>[ System.Globalization.GregorianCalendar ]</td></tr><tr><td>UseUserOverride</td><td>False</td></tr><tr><td>IsReadOnly</td><td>True</td></tr></tbody></table></div></details></td></tr><tr><td>LCID</td><td><div class=\"dni-plaintext\"><pre>127</pre></div></td></tr><tr><td>KeyboardLayoutId</td><td><div class=\"dni-plaintext\"><pre>127</pre></div></td></tr><tr><td>Name</td><td><div class=\"dni-plaintext\"><pre></pre></div></td></tr><tr><td>IetfLanguageTag</td><td><div class=\"dni-plaintext\"><pre></pre></div></td></tr><tr><td>DisplayName</td><td><div class=\"dni-plaintext\"><pre>Invariant Language (Invariant Country)</pre></div></td></tr><tr><td>NativeName</td><td><div class=\"dni-plaintext\"><pre>Invariant Language (Invariant Country)</pre></div></td></tr><tr><td>EnglishName</td><td><div class=\"dni-plaintext\"><pre>Invariant Language (Invariant Country)</pre></div></td></tr><tr><td>TwoLetterISOLanguageName</td><td><div class=\"dni-plaintext\"><pre>iv</pre></div></td></tr><tr><td>ThreeLetterISOLanguageName</td><td><div class=\"dni-plaintext\"><pre>ivl</pre></div></td></tr><tr><td>ThreeLetterWindowsLanguageName</td><td><div class=\"dni-plaintext\"><pre>IVL</pre></div></td></tr><tr><td>CompareInfo</td><td><details class=\"dni-treeview\"><summary><span class=\"dni-code-hint\"><code>CompareInfo -</code></span></summary><div><table><thead><tr></tr></thead><tbody><tr><td>Name</td><td></td></tr><tr><td>Version</td><td>System.Globalization.SortVersion</td></tr><tr><td>LCID</td><td>127</td></tr></tbody></table></div></details></td></tr><tr><td>TextInfo</td><td><details class=\"dni-treeview\"><summary><span class=\"dni-code-hint\"><code>TextInfo -</code></span></summary><div><table><thead><tr></tr></thead><tbody><tr><td>ANSICodePage</td><td>1252</td></tr><tr><td>OEMCodePage</td><td>437</td></tr><tr><td>MacCodePage</td><td>10000</td></tr><tr><td>EBCDICCodePage</td><td>37</td></tr><tr><td>LCID</td><td>127</td></tr><tr><td>CultureName</td><td></td></tr><tr><td>IsReadOnly</td><td>True</td></tr><tr><td>ListSeparator</td><td>,</td></tr><tr><td>IsRightToLeft</td><td>False</td></tr></tbody></table></div></details></td></tr><tr><td>IsNeutralCulture</td><td><div class=\"dni-plaintext\"><pre>False</pre></div></td></tr><tr><td>CultureTypes</td><td><span>SpecificCultures, InstalledWin32Cultures</span></td></tr><tr><td>NumberFormat</td><td><details class=\"dni-treeview\"><summary><span class=\"dni-code-hint\"><code>System.Globalization.NumberFormatInfo</code></span></summary><div><table><thead><tr></tr></thead><tbody><tr><td>CurrencyDecimalDigits</td><td>2</td></tr><tr><td>CurrencyDecimalSeparator</td><td>.</td></tr><tr><td>IsReadOnly</td><td>True</td></tr><tr><td>CurrencyGroupSizes</td><td>[ 3 ]</td></tr><tr><td>NumberGroupSizes</td><td>[ 3 ]</td></tr><tr><td>PercentGroupSizes</td><td>[ 3 ]</td></tr><tr><td>CurrencyGroupSeparator</td><td>,</td></tr><tr><td>CurrencySymbol</td><td>¤</td></tr><tr><td>NaNSymbol</td><td>NaN</td></tr><tr><td>CurrencyNegativePattern</td><td>0</td></tr><tr><td>NumberNegativePattern</td><td>1</td></tr><tr><td>PercentPositivePattern</td><td>0</td></tr><tr><td>PercentNegativePattern</td><td>0</td></tr><tr><td>NegativeInfinitySymbol</td><td>-Infinity</td></tr><tr><td>NegativeSign</td><td>-</td></tr><tr><td>NumberDecimalDigits</td><td>2</td></tr><tr><td>NumberDecimalSeparator</td><td>.</td></tr><tr><td>NumberGroupSeparator</td><td>,</td></tr><tr><td>CurrencyPositivePattern</td><td>0</td></tr><tr><td>PositiveInfinitySymbol</td><td>Infinity</td></tr><tr><td>PositiveSign</td><td>+</td></tr><tr><td>PercentDecimalDigits</td><td>2</td></tr><tr><td>PercentDecimalSeparator</td><td>.</td></tr><tr><td>PercentGroupSeparator</td><td>,</td></tr><tr><td>PercentSymbol</td><td>%</td></tr><tr><td>PerMilleSymbol</td><td>‰</td></tr><tr><td>NativeDigits</td><td>[ 0, 1, 2, 3, 4, 5, 6, 7, 8, 9 ]</td></tr><tr><td>DigitSubstitution</td><td>None</td></tr></tbody></table></div></details></td></tr><tr><td>DateTimeFormat</td><td><details class=\"dni-treeview\"><summary><span class=\"dni-code-hint\"><code>System.Globalization.DateTimeFormatInfo</code></span></summary><div><table><thead><tr></tr></thead><tbody><tr><td>AMDesignator</td><td>AM</td></tr><tr><td>Calendar</td><td>System.Globalization.GregorianCalendar</td></tr><tr><td>DateSeparator</td><td>/</td></tr><tr><td>FirstDayOfWeek</td><td>Sunday</td></tr><tr><td>CalendarWeekRule</td><td>FirstDay</td></tr><tr><td>FullDateTimePattern</td><td>dddd, dd MMMM yyyy HH:mm:ss</td></tr><tr><td>LongDatePattern</td><td>dddd, dd MMMM yyyy</td></tr><tr><td>LongTimePattern</td><td>HH:mm:ss</td></tr><tr><td>MonthDayPattern</td><td>MMMM dd</td></tr><tr><td>PMDesignator</td><td>PM</td></tr><tr><td>RFC1123Pattern</td><td>ddd, dd MMM yyyy HH':'mm':'ss 'GMT'</td></tr><tr><td>ShortDatePattern</td><td>MM/dd/yyyy</td></tr><tr><td>ShortTimePattern</td><td>HH:mm</td></tr><tr><td>SortableDateTimePattern</td><td>yyyy'-'MM'-'dd'T'HH':'mm':'ss</td></tr><tr><td>TimeSeparator</td><td>:</td></tr><tr><td>UniversalSortableDateTimePattern</td><td>yyyy'-'MM'-'dd HH':'mm':'ss'Z'</td></tr><tr><td>YearMonthPattern</td><td>yyyy MMMM</td></tr><tr><td>AbbreviatedDayNames</td><td>[ Sun, Mon, Tue, Wed, Thu, Fri, Sat ]</td></tr><tr><td>ShortestDayNames</td><td>[ Su, Mo, Tu, We, Th, Fr, Sa ]</td></tr><tr><td>DayNames</td><td>[ Sunday, Monday, Tuesday, Wednesday, Thursday, Friday, Saturday ]</td></tr><tr><td>AbbreviatedMonthNames</td><td>[ Jan, Feb, Mar, Apr, May, Jun, Jul, Aug, Sep, Oct, Nov, Dec,  ]</td></tr><tr><td>MonthNames</td><td>[ January, February, March, April, May, June, July, August, September, October, November, December,  ]</td></tr><tr><td>IsReadOnly</td><td>True</td></tr><tr><td>NativeCalendarName</td><td>Gregorian Calendar</td></tr><tr><td>AbbreviatedMonthGenitiveNames</td><td>[ Jan, Feb, Mar, Apr, May, Jun, Jul, Aug, Sep, Oct, Nov, Dec,  ]</td></tr><tr><td>MonthGenitiveNames</td><td>[ January, February, March, April, May, June, July, August, September, October, November, December,  ]</td></tr></tbody></table></div></details></td></tr><tr><td>Calendar</td><td><details class=\"dni-treeview\"><summary><span class=\"dni-code-hint\"><code>System.Globalization.GregorianCalendar</code></span></summary><div><table><thead><tr></tr></thead><tbody><tr><td>MinSupportedDateTime</td><td>1/1/0001 12:00:00 AM</td></tr><tr><td>MaxSupportedDateTime</td><td>12/31/9999 11:59:59 PM</td></tr><tr><td>AlgorithmType</td><td>SolarCalendar</td></tr><tr><td>CalendarType</td><td>Localized</td></tr><tr><td>Eras</td><td>[ 1 ]</td></tr><tr><td>TwoDigitYearMax</td><td>2029</td></tr><tr><td>IsReadOnly</td><td>True</td></tr></tbody></table></div></details></td></tr><tr><td>OptionalCalendars</td><td><table><thead><tr><th><i>index</i></th><th>value</th></tr></thead><tbody><tr><td>0</td><td>System.Globalization.GregorianCalendar</td></tr></tbody></table></td></tr><tr><td>UseUserOverride</td><td><div class=\"dni-plaintext\"><pre>False</pre></div></td></tr><tr><td>IsReadOnly</td><td><div class=\"dni-plaintext\"><pre>True</pre></div></td></tr></tbody></table></div></details></td></tr><tr><td>LCID</td><td><div class=\"dni-plaintext\"><pre>127</pre></div></td></tr><tr><td>KeyboardLayoutId</td><td><div class=\"dni-plaintext\"><pre>127</pre></div></td></tr><tr><td>Name</td><td><div class=\"dni-plaintext\"><pre></pre></div></td></tr><tr><td>IetfLanguageTag</td><td><div class=\"dni-plaintext\"><pre></pre></div></td></tr><tr><td>DisplayName</td><td><div class=\"dni-plaintext\"><pre>Invariant Language (Invariant Country)</pre></div></td></tr><tr><td>NativeName</td><td><div class=\"dni-plaintext\"><pre>Invariant Language (Invariant Country)</pre></div></td></tr><tr><td>EnglishName</td><td><div class=\"dni-plaintext\"><pre>Invariant Language (Invariant Country)</pre></div></td></tr><tr><td>TwoLetterISOLanguageName</td><td><div class=\"dni-plaintext\"><pre>iv</pre></div></td></tr><tr><td>ThreeLetterISOLanguageName</td><td><div class=\"dni-plaintext\"><pre>ivl</pre></div></td></tr><tr><td>ThreeLetterWindowsLanguageName</td><td><div class=\"dni-plaintext\"><pre>IVL</pre></div></td></tr><tr><td>CompareInfo</td><td><details class=\"dni-treeview\"><summary><span class=\"dni-code-hint\"><code>CompareInfo -</code></span></summary><div><table><thead><tr></tr></thead><tbody><tr><td>Name</td><td><div class=\"dni-plaintext\"><pre></pre></div></td></tr><tr><td>Version</td><td><details class=\"dni-treeview\"><summary><span class=\"dni-code-hint\"><code>System.Globalization.SortVersion</code></span></summary><div><table><thead><tr></tr></thead><tbody><tr><td>FullVersion</td><td>26777</td></tr><tr><td>SortId</td><td>00006899-0000-0000-0000-00000000007f</td></tr></tbody></table></div></details></td></tr><tr><td>LCID</td><td><div class=\"dni-plaintext\"><pre>127</pre></div></td></tr></tbody></table></div></details></td></tr><tr><td>TextInfo</td><td><details class=\"dni-treeview\"><summary><span class=\"dni-code-hint\"><code>TextInfo -</code></span></summary><div><table><thead><tr></tr></thead><tbody><tr><td>ANSICodePage</td><td><div class=\"dni-plaintext\"><pre>1252</pre></div></td></tr><tr><td>OEMCodePage</td><td><div class=\"dni-plaintext\"><pre>437</pre></div></td></tr><tr><td>MacCodePage</td><td><div class=\"dni-plaintext\"><pre>10000</pre></div></td></tr><tr><td>EBCDICCodePage</td><td><div class=\"dni-plaintext\"><pre>37</pre></div></td></tr><tr><td>LCID</td><td><div class=\"dni-plaintext\"><pre>127</pre></div></td></tr><tr><td>CultureName</td><td><div class=\"dni-plaintext\"><pre></pre></div></td></tr><tr><td>IsReadOnly</td><td><div class=\"dni-plaintext\"><pre>True</pre></div></td></tr><tr><td>ListSeparator</td><td><div class=\"dni-plaintext\"><pre>,</pre></div></td></tr><tr><td>IsRightToLeft</td><td><div class=\"dni-plaintext\"><pre>False</pre></div></td></tr></tbody></table></div></details></td></tr><tr><td>IsNeutralCulture</td><td><div class=\"dni-plaintext\"><pre>False</pre></div></td></tr><tr><td>CultureTypes</td><td><span>SpecificCultures, InstalledWin32Cultures</span></td></tr><tr><td>NumberFormat</td><td><details class=\"dni-treeview\"><summary><span class=\"dni-code-hint\"><code>System.Globalization.NumberFormatInfo</code></span></summary><div><table><thead><tr></tr></thead><tbody><tr><td>CurrencyDecimalDigits</td><td><div class=\"dni-plaintext\"><pre>2</pre></div></td></tr><tr><td>CurrencyDecimalSeparator</td><td><div class=\"dni-plaintext\"><pre>.</pre></div></td></tr><tr><td>IsReadOnly</td><td><div class=\"dni-plaintext\"><pre>True</pre></div></td></tr><tr><td>CurrencyGroupSizes</td><td><div class=\"dni-plaintext\"><pre>[ 3 ]</pre></div></td></tr><tr><td>NumberGroupSizes</td><td><div class=\"dni-plaintext\"><pre>[ 3 ]</pre></div></td></tr><tr><td>PercentGroupSizes</td><td><div class=\"dni-plaintext\"><pre>[ 3 ]</pre></div></td></tr><tr><td>CurrencyGroupSeparator</td><td><div class=\"dni-plaintext\"><pre>,</pre></div></td></tr><tr><td>CurrencySymbol</td><td><div class=\"dni-plaintext\"><pre>&#164;</pre></div></td></tr><tr><td>NaNSymbol</td><td><div class=\"dni-plaintext\"><pre>NaN</pre></div></td></tr><tr><td>CurrencyNegativePattern</td><td><div class=\"dni-plaintext\"><pre>0</pre></div></td></tr><tr><td>NumberNegativePattern</td><td><div class=\"dni-plaintext\"><pre>1</pre></div></td></tr><tr><td>PercentPositivePattern</td><td><div class=\"dni-plaintext\"><pre>0</pre></div></td></tr><tr><td>PercentNegativePattern</td><td><div class=\"dni-plaintext\"><pre>0</pre></div></td></tr><tr><td>NegativeInfinitySymbol</td><td><div class=\"dni-plaintext\"><pre>-Infinity</pre></div></td></tr><tr><td>NegativeSign</td><td><div class=\"dni-plaintext\"><pre>-</pre></div></td></tr><tr><td>NumberDecimalDigits</td><td><div class=\"dni-plaintext\"><pre>2</pre></div></td></tr><tr><td>NumberDecimalSeparator</td><td><div class=\"dni-plaintext\"><pre>.</pre></div></td></tr><tr><td>NumberGroupSeparator</td><td><div class=\"dni-plaintext\"><pre>,</pre></div></td></tr><tr><td>CurrencyPositivePattern</td><td><div class=\"dni-plaintext\"><pre>0</pre></div></td></tr><tr><td>PositiveInfinitySymbol</td><td><div class=\"dni-plaintext\"><pre>Infinity</pre></div></td></tr><tr><td>PositiveSign</td><td><div class=\"dni-plaintext\"><pre>+</pre></div></td></tr><tr><td>PercentDecimalDigits</td><td><div class=\"dni-plaintext\"><pre>2</pre></div></td></tr><tr><td>PercentDecimalSeparator</td><td><div class=\"dni-plaintext\"><pre>.</pre></div></td></tr><tr><td>PercentGroupSeparator</td><td><div class=\"dni-plaintext\"><pre>,</pre></div></td></tr><tr><td>PercentSymbol</td><td><div class=\"dni-plaintext\"><pre>%</pre></div></td></tr><tr><td>PerMilleSymbol</td><td><div class=\"dni-plaintext\"><pre>‰</pre></div></td></tr><tr><td>NativeDigits</td><td><div class=\"dni-plaintext\"><pre>[ 0, 1, 2, 3, 4, 5, 6, 7, 8, 9 ]</pre></div></td></tr><tr><td>DigitSubstitution</td><td><span>None</span></td></tr></tbody></table></div></details></td></tr><tr><td>DateTimeFormat</td><td><details class=\"dni-treeview\"><summary><span class=\"dni-code-hint\"><code>System.Globalization.DateTimeFormatInfo</code></span></summary><div><table><thead><tr></tr></thead><tbody><tr><td>AMDesignator</td><td><div class=\"dni-plaintext\"><pre>AM</pre></div></td></tr><tr><td>Calendar</td><td><details class=\"dni-treeview\"><summary><span class=\"dni-code-hint\"><code>System.Globalization.GregorianCalendar</code></span></summary><div><table><thead><tr></tr></thead><tbody><tr><td>MinSupportedDateTime</td><td>1/1/0001 12:00:00 AM</td></tr><tr><td>MaxSupportedDateTime</td><td>12/31/9999 11:59:59 PM</td></tr><tr><td>AlgorithmType</td><td>SolarCalendar</td></tr><tr><td>CalendarType</td><td>Localized</td></tr><tr><td>Eras</td><td>[ 1 ]</td></tr><tr><td>TwoDigitYearMax</td><td>2029</td></tr><tr><td>IsReadOnly</td><td>True</td></tr></tbody></table></div></details></td></tr><tr><td>DateSeparator</td><td><div class=\"dni-plaintext\"><pre>/</pre></div></td></tr><tr><td>FirstDayOfWeek</td><td><span>Sunday</span></td></tr><tr><td>CalendarWeekRule</td><td><span>FirstDay</span></td></tr><tr><td>FullDateTimePattern</td><td><div class=\"dni-plaintext\"><pre>dddd, dd MMMM yyyy HH:mm:ss</pre></div></td></tr><tr><td>LongDatePattern</td><td><div class=\"dni-plaintext\"><pre>dddd, dd MMMM yyyy</pre></div></td></tr><tr><td>LongTimePattern</td><td><div class=\"dni-plaintext\"><pre>HH:mm:ss</pre></div></td></tr><tr><td>MonthDayPattern</td><td><div class=\"dni-plaintext\"><pre>MMMM dd</pre></div></td></tr><tr><td>PMDesignator</td><td><div class=\"dni-plaintext\"><pre>PM</pre></div></td></tr><tr><td>RFC1123Pattern</td><td><div class=\"dni-plaintext\"><pre>ddd, dd MMM yyyy HH&#39;:&#39;mm&#39;:&#39;ss &#39;GMT&#39;</pre></div></td></tr><tr><td>ShortDatePattern</td><td><div class=\"dni-plaintext\"><pre>MM/dd/yyyy</pre></div></td></tr><tr><td>ShortTimePattern</td><td><div class=\"dni-plaintext\"><pre>HH:mm</pre></div></td></tr><tr><td>SortableDateTimePattern</td><td><div class=\"dni-plaintext\"><pre>yyyy&#39;-&#39;MM&#39;-&#39;dd&#39;T&#39;HH&#39;:&#39;mm&#39;:&#39;ss</pre></div></td></tr><tr><td>TimeSeparator</td><td><div class=\"dni-plaintext\"><pre>:</pre></div></td></tr><tr><td>UniversalSortableDateTimePattern</td><td><div class=\"dni-plaintext\"><pre>yyyy&#39;-&#39;MM&#39;-&#39;dd HH&#39;:&#39;mm&#39;:&#39;ss&#39;Z&#39;</pre></div></td></tr><tr><td>YearMonthPattern</td><td><div class=\"dni-plaintext\"><pre>yyyy MMMM</pre></div></td></tr><tr><td>AbbreviatedDayNames</td><td><div class=\"dni-plaintext\"><pre>[ Sun, Mon, Tue, Wed, Thu, Fri, Sat ]</pre></div></td></tr><tr><td>ShortestDayNames</td><td><div class=\"dni-plaintext\"><pre>[ Su, Mo, Tu, We, Th, Fr, Sa ]</pre></div></td></tr><tr><td>DayNames</td><td><div class=\"dni-plaintext\"><pre>[ Sunday, Monday, Tuesday, Wednesday, Thursday, Friday, Saturday ]</pre></div></td></tr><tr><td>AbbreviatedMonthNames</td><td><div class=\"dni-plaintext\"><pre>[ Jan, Feb, Mar, Apr, May, Jun, Jul, Aug, Sep, Oct, Nov, Dec,  ]</pre></div></td></tr><tr><td>MonthNames</td><td><div class=\"dni-plaintext\"><pre>[ January, February, March, April, May, June, July, August, September, October, November, December,  ]</pre></div></td></tr><tr><td>IsReadOnly</td><td><div class=\"dni-plaintext\"><pre>True</pre></div></td></tr><tr><td>NativeCalendarName</td><td><div class=\"dni-plaintext\"><pre>Gregorian Calendar</pre></div></td></tr><tr><td>AbbreviatedMonthGenitiveNames</td><td><div class=\"dni-plaintext\"><pre>[ Jan, Feb, Mar, Apr, May, Jun, Jul, Aug, Sep, Oct, Nov, Dec,  ]</pre></div></td></tr><tr><td>MonthGenitiveNames</td><td><div class=\"dni-plaintext\"><pre>[ January, February, March, April, May, June, July, August, September, October, November, December,  ]</pre></div></td></tr></tbody></table></div></details></td></tr><tr><td>Calendar</td><td><details class=\"dni-treeview\"><summary><span class=\"dni-code-hint\"><code>System.Globalization.GregorianCalendar</code></span></summary><div><table><thead><tr></tr></thead><tbody><tr><td>MinSupportedDateTime</td><td><span>0001-01-01 00:00:00Z</span></td></tr><tr><td>MaxSupportedDateTime</td><td><span>9999-12-31 23:59:59Z</span></td></tr><tr><td>AlgorithmType</td><td><span>SolarCalendar</span></td></tr><tr><td>CalendarType</td><td><span>Localized</span></td></tr><tr><td>Eras</td><td><div class=\"dni-plaintext\"><pre>[ 1 ]</pre></div></td></tr><tr><td>TwoDigitYearMax</td><td><div class=\"dni-plaintext\"><pre>2029</pre></div></td></tr><tr><td>IsReadOnly</td><td><div class=\"dni-plaintext\"><pre>True</pre></div></td></tr></tbody></table></div></details></td></tr><tr><td>OptionalCalendars</td><td><table><thead><tr><th><i>index</i></th><th>value</th></tr></thead><tbody><tr><td>0</td><td><details class=\"dni-treeview\"><summary><span class=\"dni-code-hint\"><code>System.Globalization.GregorianCalendar</code></span></summary><div><table><thead><tr></tr></thead><tbody><tr><td>MinSupportedDateTime</td><td>1/1/0001 12:00:00 AM</td></tr><tr><td>MaxSupportedDateTime</td><td>12/31/9999 11:59:59 PM</td></tr><tr><td>AlgorithmType</td><td>SolarCalendar</td></tr><tr><td>CalendarType</td><td>Localized</td></tr><tr><td>Eras</td><td>[ 1 ]</td></tr><tr><td>TwoDigitYearMax</td><td>2029</td></tr><tr><td>IsReadOnly</td><td>False</td></tr></tbody></table></div></details></td></tr></tbody></table></td></tr><tr><td>UseUserOverride</td><td><div class=\"dni-plaintext\"><pre>False</pre></div></td></tr><tr><td>IsReadOnly</td><td><div class=\"dni-plaintext\"><pre>True</pre></div></td></tr></tbody></table></div></details></td></tr><tr><td>LCID</td><td><div class=\"dni-plaintext\"><pre>127</pre></div></td></tr><tr><td>KeyboardLayoutId</td><td><div class=\"dni-plaintext\"><pre>127</pre></div></td></tr><tr><td>Name</td><td><div class=\"dni-plaintext\"><pre></pre></div></td></tr><tr><td>IetfLanguageTag</td><td><div class=\"dni-plaintext\"><pre></pre></div></td></tr><tr><td>DisplayName</td><td><div class=\"dni-plaintext\"><pre>Invariant Language (Invariant Country)</pre></div></td></tr><tr><td>NativeName</td><td><div class=\"dni-plaintext\"><pre>Invariant Language (Invariant Country)</pre></div></td></tr><tr><td>EnglishName</td><td><div class=\"dni-plaintext\"><pre>Invariant Language (Invariant Country)</pre></div></td></tr><tr><td>TwoLetterISOLanguageName</td><td><div class=\"dni-plaintext\"><pre>iv</pre></div></td></tr><tr><td>ThreeLetterISOLanguageName</td><td><div class=\"dni-plaintext\"><pre>ivl</pre></div></td></tr><tr><td>ThreeLetterWindowsLanguageName</td><td><div class=\"dni-plaintext\"><pre>IVL</pre></div></td></tr><tr><td>CompareInfo</td><td><details class=\"dni-treeview\"><summary><span class=\"dni-code-hint\"><code>CompareInfo -</code></span></summary><div><table><thead><tr></tr></thead><tbody><tr><td>Name</td><td><div class=\"dni-plaintext\"><pre></pre></div></td></tr><tr><td>Version</td><td><details class=\"dni-treeview\"><summary><span class=\"dni-code-hint\"><code>System.Globalization.SortVersion</code></span></summary><div><table><thead><tr></tr></thead><tbody><tr><td>FullVersion</td><td><div class=\"dni-plaintext\"><pre>26777</pre></div></td></tr><tr><td>SortId</td><td><div class=\"dni-plaintext\"><pre>00006899-0000-0000-0000-00000000007f</pre></div></td></tr></tbody></table></div></details></td></tr><tr><td>LCID</td><td><div class=\"dni-plaintext\"><pre>127</pre></div></td></tr></tbody></table></div></details></td></tr><tr><td>TextInfo</td><td><details class=\"dni-treeview\"><summary><span class=\"dni-code-hint\"><code>TextInfo -</code></span></summary><div><table><thead><tr></tr></thead><tbody><tr><td>ANSICodePage</td><td><div class=\"dni-plaintext\"><pre>1252</pre></div></td></tr><tr><td>OEMCodePage</td><td><div class=\"dni-plaintext\"><pre>437</pre></div></td></tr><tr><td>MacCodePage</td><td><div class=\"dni-plaintext\"><pre>10000</pre></div></td></tr><tr><td>EBCDICCodePage</td><td><div class=\"dni-plaintext\"><pre>37</pre></div></td></tr><tr><td>LCID</td><td><div class=\"dni-plaintext\"><pre>127</pre></div></td></tr><tr><td>CultureName</td><td><div class=\"dni-plaintext\"><pre></pre></div></td></tr><tr><td>IsReadOnly</td><td><div class=\"dni-plaintext\"><pre>True</pre></div></td></tr><tr><td>ListSeparator</td><td><div class=\"dni-plaintext\"><pre>,</pre></div></td></tr><tr><td>IsRightToLeft</td><td><div class=\"dni-plaintext\"><pre>False</pre></div></td></tr></tbody></table></div></details></td></tr><tr><td>IsNeutralCulture</td><td><div class=\"dni-plaintext\"><pre>False</pre></div></td></tr><tr><td>CultureTypes</td><td><span>SpecificCultures, InstalledWin32Cultures</span></td></tr><tr><td>NumberFormat</td><td><details class=\"dni-treeview\"><summary><span class=\"dni-code-hint\"><code>System.Globalization.NumberFormatInfo</code></span></summary><div><table><thead><tr></tr></thead><tbody><tr><td>CurrencyDecimalDigits</td><td><div class=\"dni-plaintext\"><pre>2</pre></div></td></tr><tr><td>CurrencyDecimalSeparator</td><td><div class=\"dni-plaintext\"><pre>.</pre></div></td></tr><tr><td>IsReadOnly</td><td><div class=\"dni-plaintext\"><pre>True</pre></div></td></tr><tr><td>CurrencyGroupSizes</td><td><div class=\"dni-plaintext\"><pre>[ 3 ]</pre></div></td></tr><tr><td>NumberGroupSizes</td><td><div class=\"dni-plaintext\"><pre>[ 3 ]</pre></div></td></tr><tr><td>PercentGroupSizes</td><td><div class=\"dni-plaintext\"><pre>[ 3 ]</pre></div></td></tr><tr><td>CurrencyGroupSeparator</td><td><div class=\"dni-plaintext\"><pre>,</pre></div></td></tr><tr><td>CurrencySymbol</td><td><div class=\"dni-plaintext\"><pre>&#164;</pre></div></td></tr><tr><td>NaNSymbol</td><td><div class=\"dni-plaintext\"><pre>NaN</pre></div></td></tr><tr><td>CurrencyNegativePattern</td><td><div class=\"dni-plaintext\"><pre>0</pre></div></td></tr><tr><td>NumberNegativePattern</td><td><div class=\"dni-plaintext\"><pre>1</pre></div></td></tr><tr><td>PercentPositivePattern</td><td><div class=\"dni-plaintext\"><pre>0</pre></div></td></tr><tr><td>PercentNegativePattern</td><td><div class=\"dni-plaintext\"><pre>0</pre></div></td></tr><tr><td>NegativeInfinitySymbol</td><td><div class=\"dni-plaintext\"><pre>-Infinity</pre></div></td></tr><tr><td>NegativeSign</td><td><div class=\"dni-plaintext\"><pre>-</pre></div></td></tr><tr><td>NumberDecimalDigits</td><td><div class=\"dni-plaintext\"><pre>2</pre></div></td></tr><tr><td>NumberDecimalSeparator</td><td><div class=\"dni-plaintext\"><pre>.</pre></div></td></tr><tr><td>NumberGroupSeparator</td><td><div class=\"dni-plaintext\"><pre>,</pre></div></td></tr><tr><td>CurrencyPositivePattern</td><td><div class=\"dni-plaintext\"><pre>0</pre></div></td></tr><tr><td>PositiveInfinitySymbol</td><td><div class=\"dni-plaintext\"><pre>Infinity</pre></div></td></tr><tr><td>PositiveSign</td><td><div class=\"dni-plaintext\"><pre>+</pre></div></td></tr><tr><td>PercentDecimalDigits</td><td><div class=\"dni-plaintext\"><pre>2</pre></div></td></tr><tr><td>PercentDecimalSeparator</td><td><div class=\"dni-plaintext\"><pre>.</pre></div></td></tr><tr><td>PercentGroupSeparator</td><td><div class=\"dni-plaintext\"><pre>,</pre></div></td></tr><tr><td>PercentSymbol</td><td><div class=\"dni-plaintext\"><pre>%</pre></div></td></tr><tr><td>PerMilleSymbol</td><td><div class=\"dni-plaintext\"><pre>‰</pre></div></td></tr><tr><td>NativeDigits</td><td><div class=\"dni-plaintext\"><pre>[ 0, 1, 2, 3, 4, 5, 6, 7, 8, 9 ]</pre></div></td></tr><tr><td>DigitSubstitution</td><td><span>None</span></td></tr></tbody></table></div></details></td></tr><tr><td>DateTimeFormat</td><td><details class=\"dni-treeview\"><summary><span class=\"dni-code-hint\"><code>System.Globalization.DateTimeFormatInfo</code></span></summary><div><table><thead><tr></tr></thead><tbody><tr><td>AMDesignator</td><td><div class=\"dni-plaintext\"><pre>AM</pre></div></td></tr><tr><td>Calendar</td><td><details class=\"dni-treeview\"><summary><span class=\"dni-code-hint\"><code>System.Globalization.GregorianCalendar</code></span></summary><div><table><thead><tr></tr></thead><tbody><tr><td>MinSupportedDateTime</td><td><span>0001-01-01 00:00:00Z</span></td></tr><tr><td>MaxSupportedDateTime</td><td><span>9999-12-31 23:59:59Z</span></td></tr><tr><td>AlgorithmType</td><td><span>SolarCalendar</span></td></tr><tr><td>CalendarType</td><td><span>Localized</span></td></tr><tr><td>Eras</td><td><div class=\"dni-plaintext\"><pre>[ 1 ]</pre></div></td></tr><tr><td>TwoDigitYearMax</td><td><div class=\"dni-plaintext\"><pre>2029</pre></div></td></tr><tr><td>IsReadOnly</td><td><div class=\"dni-plaintext\"><pre>True</pre></div></td></tr></tbody></table></div></details></td></tr><tr><td>DateSeparator</td><td><div class=\"dni-plaintext\"><pre>/</pre></div></td></tr><tr><td>FirstDayOfWeek</td><td><span>Sunday</span></td></tr><tr><td>CalendarWeekRule</td><td><span>FirstDay</span></td></tr><tr><td>FullDateTimePattern</td><td><div class=\"dni-plaintext\"><pre>dddd, dd MMMM yyyy HH:mm:ss</pre></div></td></tr><tr><td>LongDatePattern</td><td><div class=\"dni-plaintext\"><pre>dddd, dd MMMM yyyy</pre></div></td></tr><tr><td>LongTimePattern</td><td><div class=\"dni-plaintext\"><pre>HH:mm:ss</pre></div></td></tr><tr><td>MonthDayPattern</td><td><div class=\"dni-plaintext\"><pre>MMMM dd</pre></div></td></tr><tr><td>PMDesignator</td><td><div class=\"dni-plaintext\"><pre>PM</pre></div></td></tr><tr><td>RFC1123Pattern</td><td><div class=\"dni-plaintext\"><pre>ddd, dd MMM yyyy HH&#39;:&#39;mm&#39;:&#39;ss &#39;GMT&#39;</pre></div></td></tr><tr><td>ShortDatePattern</td><td><div class=\"dni-plaintext\"><pre>MM/dd/yyyy</pre></div></td></tr><tr><td>ShortTimePattern</td><td><div class=\"dni-plaintext\"><pre>HH:mm</pre></div></td></tr><tr><td>SortableDateTimePattern</td><td><div class=\"dni-plaintext\"><pre>yyyy&#39;-&#39;MM&#39;-&#39;dd&#39;T&#39;HH&#39;:&#39;mm&#39;:&#39;ss</pre></div></td></tr><tr><td>TimeSeparator</td><td><div class=\"dni-plaintext\"><pre>:</pre></div></td></tr><tr><td>UniversalSortableDateTimePattern</td><td><div class=\"dni-plaintext\"><pre>yyyy&#39;-&#39;MM&#39;-&#39;dd HH&#39;:&#39;mm&#39;:&#39;ss&#39;Z&#39;</pre></div></td></tr><tr><td>YearMonthPattern</td><td><div class=\"dni-plaintext\"><pre>yyyy MMMM</pre></div></td></tr><tr><td>AbbreviatedDayNames</td><td><div class=\"dni-plaintext\"><pre>[ Sun, Mon, Tue, Wed, Thu, Fri, Sat ]</pre></div></td></tr><tr><td>ShortestDayNames</td><td><div class=\"dni-plaintext\"><pre>[ Su, Mo, Tu, We, Th, Fr, Sa ]</pre></div></td></tr><tr><td>DayNames</td><td><div class=\"dni-plaintext\"><pre>[ Sunday, Monday, Tuesday, Wednesday, Thursday, Friday, Saturday ]</pre></div></td></tr><tr><td>AbbreviatedMonthNames</td><td><div class=\"dni-plaintext\"><pre>[ Jan, Feb, Mar, Apr, May, Jun, Jul, Aug, Sep, Oct, Nov, Dec,  ]</pre></div></td></tr><tr><td>MonthNames</td><td><div class=\"dni-plaintext\"><pre>[ January, February, March, April, May, June, July, August, September, October, November, December,  ]</pre></div></td></tr><tr><td>IsReadOnly</td><td><div class=\"dni-plaintext\"><pre>True</pre></div></td></tr><tr><td>NativeCalendarName</td><td><div class=\"dni-plaintext\"><pre>Gregorian Calendar</pre></div></td></tr><tr><td>AbbreviatedMonthGenitiveNames</td><td><div class=\"dni-plaintext\"><pre>[ Jan, Feb, Mar, Apr, May, Jun, Jul, Aug, Sep, Oct, Nov, Dec,  ]</pre></div></td></tr><tr><td>MonthGenitiveNames</td><td><div class=\"dni-plaintext\"><pre>[ January, February, March, April, May, June, July, August, September, October, November, December,  ]</pre></div></td></tr></tbody></table></div></details></td></tr><tr><td>Calendar</td><td><details class=\"dni-treeview\"><summary><span class=\"dni-code-hint\"><code>System.Globalization.GregorianCalendar</code></span></summary><div><table><thead><tr></tr></thead><tbody><tr><td>MinSupportedDateTime</td><td><span>0001-01-01 00:00:00Z</span></td></tr><tr><td>MaxSupportedDateTime</td><td><span>9999-12-31 23:59:59Z</span></td></tr><tr><td>AlgorithmType</td><td><span>SolarCalendar</span></td></tr><tr><td>CalendarType</td><td><span>Localized</span></td></tr><tr><td>Eras</td><td><div class=\"dni-plaintext\"><pre>[ 1 ]</pre></div></td></tr><tr><td>TwoDigitYearMax</td><td><div class=\"dni-plaintext\"><pre>2029</pre></div></td></tr><tr><td>IsReadOnly</td><td><div class=\"dni-plaintext\"><pre>True</pre></div></td></tr></tbody></table></div></details></td></tr><tr><td>OptionalCalendars</td><td><table><thead><tr><th><i>index</i></th><th>value</th></tr></thead><tbody><tr><td>0</td><td><details class=\"dni-treeview\"><summary><span class=\"dni-code-hint\"><code>System.Globalization.GregorianCalendar</code></span></summary><div><table><thead><tr></tr></thead><tbody><tr><td>MinSupportedDateTime</td><td><span>0001-01-01 00:00:00Z</span></td></tr><tr><td>MaxSupportedDateTime</td><td><span>9999-12-31 23:59:59Z</span></td></tr><tr><td>AlgorithmType</td><td><span>SolarCalendar</span></td></tr><tr><td>CalendarType</td><td><span>Localized</span></td></tr><tr><td>Eras</td><td><div class=\"dni-plaintext\"><pre>[ 1 ]</pre></div></td></tr><tr><td>TwoDigitYearMax</td><td><div class=\"dni-plaintext\"><pre>2029</pre></div></td></tr><tr><td>IsReadOnly</td><td><div class=\"dni-plaintext\"><pre>False</pre></div></td></tr></tbody></table></div></details></td></tr></tbody></table></td></tr><tr><td>UseUserOverride</td><td><div class=\"dni-plaintext\"><pre>False</pre></div></td></tr><tr><td>IsReadOnly</td><td><div class=\"dni-plaintext\"><pre>True</pre></div></td></tr></tbody></table></div></details></td></tr><tr><td>LCID</td><td><div class=\"dni-plaintext\"><pre>9</pre></div></td></tr><tr><td>KeyboardLayoutId</td><td><div class=\"dni-plaintext\"><pre>9</pre></div></td></tr><tr><td>Name</td><td><div class=\"dni-plaintext\"><pre>en</pre></div></td></tr><tr><td>IetfLanguageTag</td><td><div class=\"dni-plaintext\"><pre>en</pre></div></td></tr><tr><td>DisplayName</td><td><div class=\"dni-plaintext\"><pre>English</pre></div></td></tr><tr><td>NativeName</td><td><div class=\"dni-plaintext\"><pre>English</pre></div></td></tr><tr><td>EnglishName</td><td><div class=\"dni-plaintext\"><pre>English</pre></div></td></tr><tr><td>TwoLetterISOLanguageName</td><td><div class=\"dni-plaintext\"><pre>en</pre></div></td></tr><tr><td>ThreeLetterISOLanguageName</td><td><div class=\"dni-plaintext\"><pre>eng</pre></div></td></tr><tr><td>ThreeLetterWindowsLanguageName</td><td><div class=\"dni-plaintext\"><pre>ENU</pre></div></td></tr><tr><td>CompareInfo</td><td><details class=\"dni-treeview\"><summary><span class=\"dni-code-hint\"><code>CompareInfo - en</code></span></summary><div><table><thead><tr></tr></thead><tbody><tr><td>Name</td><td><div class=\"dni-plaintext\"><pre>en</pre></div></td></tr><tr><td>Version</td><td><details class=\"dni-treeview\"><summary><span class=\"dni-code-hint\"><code>System.Globalization.SortVersion</code></span></summary><div><table><thead><tr></tr></thead><tbody><tr><td>FullVersion</td><td><div class=\"dni-plaintext\"><pre>26777</pre></div></td></tr><tr><td>SortId</td><td><div class=\"dni-plaintext\"><pre>00006899-0000-0000-0000-000000000009</pre></div></td></tr></tbody></table></div></details></td></tr><tr><td>LCID</td><td><div class=\"dni-plaintext\"><pre>9</pre></div></td></tr></tbody></table></div></details></td></tr><tr><td>TextInfo</td><td><details class=\"dni-treeview\"><summary><span class=\"dni-code-hint\"><code>TextInfo - en</code></span></summary><div><table><thead><tr></tr></thead><tbody><tr><td>ANSICodePage</td><td><div class=\"dni-plaintext\"><pre>1252</pre></div></td></tr><tr><td>OEMCodePage</td><td><div class=\"dni-plaintext\"><pre>437</pre></div></td></tr><tr><td>MacCodePage</td><td><div class=\"dni-plaintext\"><pre>10000</pre></div></td></tr><tr><td>EBCDICCodePage</td><td><div class=\"dni-plaintext\"><pre>37</pre></div></td></tr><tr><td>LCID</td><td><div class=\"dni-plaintext\"><pre>9</pre></div></td></tr><tr><td>CultureName</td><td><div class=\"dni-plaintext\"><pre>en</pre></div></td></tr><tr><td>IsReadOnly</td><td><div class=\"dni-plaintext\"><pre>False</pre></div></td></tr><tr><td>ListSeparator</td><td><div class=\"dni-plaintext\"><pre>,</pre></div></td></tr><tr><td>IsRightToLeft</td><td><div class=\"dni-plaintext\"><pre>False</pre></div></td></tr></tbody></table></div></details></td></tr><tr><td>IsNeutralCulture</td><td><div class=\"dni-plaintext\"><pre>True</pre></div></td></tr><tr><td>CultureTypes</td><td><span>NeutralCultures, InstalledWin32Cultures</span></td></tr><tr><td>NumberFormat</td><td><details class=\"dni-treeview\"><summary><span class=\"dni-code-hint\"><code>System.Globalization.NumberFormatInfo</code></span></summary><div><table><thead><tr></tr></thead><tbody><tr><td>CurrencyDecimalDigits</td><td><div class=\"dni-plaintext\"><pre>2</pre></div></td></tr><tr><td>CurrencyDecimalSeparator</td><td><div class=\"dni-plaintext\"><pre>.</pre></div></td></tr><tr><td>IsReadOnly</td><td><div class=\"dni-plaintext\"><pre>False</pre></div></td></tr><tr><td>CurrencyGroupSizes</td><td><div class=\"dni-plaintext\"><pre>[ 3 ]</pre></div></td></tr><tr><td>NumberGroupSizes</td><td><div class=\"dni-plaintext\"><pre>[ 3 ]</pre></div></td></tr><tr><td>PercentGroupSizes</td><td><div class=\"dni-plaintext\"><pre>[ 3 ]</pre></div></td></tr><tr><td>CurrencyGroupSeparator</td><td><div class=\"dni-plaintext\"><pre>,</pre></div></td></tr><tr><td>CurrencySymbol</td><td><div class=\"dni-plaintext\"><pre>&#164;</pre></div></td></tr><tr><td>NaNSymbol</td><td><div class=\"dni-plaintext\"><pre>NaN</pre></div></td></tr><tr><td>CurrencyNegativePattern</td><td><div class=\"dni-plaintext\"><pre>1</pre></div></td></tr><tr><td>NumberNegativePattern</td><td><div class=\"dni-plaintext\"><pre>1</pre></div></td></tr><tr><td>PercentPositivePattern</td><td><div class=\"dni-plaintext\"><pre>1</pre></div></td></tr><tr><td>PercentNegativePattern</td><td><div class=\"dni-plaintext\"><pre>1</pre></div></td></tr><tr><td>NegativeInfinitySymbol</td><td><div class=\"dni-plaintext\"><pre>-∞</pre></div></td></tr><tr><td>NegativeSign</td><td><div class=\"dni-plaintext\"><pre>-</pre></div></td></tr><tr><td>NumberDecimalDigits</td><td><div class=\"dni-plaintext\"><pre>3</pre></div></td></tr><tr><td>NumberDecimalSeparator</td><td><div class=\"dni-plaintext\"><pre>.</pre></div></td></tr><tr><td>NumberGroupSeparator</td><td><div class=\"dni-plaintext\"><pre>,</pre></div></td></tr><tr><td>CurrencyPositivePattern</td><td><div class=\"dni-plaintext\"><pre>0</pre></div></td></tr><tr><td>PositiveInfinitySymbol</td><td><div class=\"dni-plaintext\"><pre>∞</pre></div></td></tr><tr><td>PositiveSign</td><td><div class=\"dni-plaintext\"><pre>+</pre></div></td></tr><tr><td>PercentDecimalDigits</td><td><div class=\"dni-plaintext\"><pre>3</pre></div></td></tr><tr><td>PercentDecimalSeparator</td><td><div class=\"dni-plaintext\"><pre>.</pre></div></td></tr><tr><td>PercentGroupSeparator</td><td><div class=\"dni-plaintext\"><pre>,</pre></div></td></tr><tr><td>PercentSymbol</td><td><div class=\"dni-plaintext\"><pre>%</pre></div></td></tr><tr><td>PerMilleSymbol</td><td><div class=\"dni-plaintext\"><pre>‰</pre></div></td></tr><tr><td>NativeDigits</td><td><div class=\"dni-plaintext\"><pre>[ 0, 1, 2, 3, 4, 5, 6, 7, 8, 9 ]</pre></div></td></tr><tr><td>DigitSubstitution</td><td><span>None</span></td></tr></tbody></table></div></details></td></tr><tr><td>DateTimeFormat</td><td><details class=\"dni-treeview\"><summary><span class=\"dni-code-hint\"><code>System.Globalization.DateTimeFormatInfo</code></span></summary><div><table><thead><tr></tr></thead><tbody><tr><td>AMDesignator</td><td><div class=\"dni-plaintext\"><pre>AM</pre></div></td></tr><tr><td>Calendar</td><td><details class=\"dni-treeview\"><summary><span class=\"dni-code-hint\"><code>System.Globalization.GregorianCalendar</code></span></summary><div><table><thead><tr></tr></thead><tbody><tr><td>MinSupportedDateTime</td><td><span>0001-01-01 00:00:00Z</span></td></tr><tr><td>MaxSupportedDateTime</td><td><span>9999-12-31 23:59:59Z</span></td></tr><tr><td>AlgorithmType</td><td><span>SolarCalendar</span></td></tr><tr><td>CalendarType</td><td><span>Localized</span></td></tr><tr><td>Eras</td><td><div class=\"dni-plaintext\"><pre>[ 1 ]</pre></div></td></tr><tr><td>TwoDigitYearMax</td><td><div class=\"dni-plaintext\"><pre>2029</pre></div></td></tr><tr><td>IsReadOnly</td><td><div class=\"dni-plaintext\"><pre>False</pre></div></td></tr></tbody></table></div></details></td></tr><tr><td>DateSeparator</td><td><div class=\"dni-plaintext\"><pre>/</pre></div></td></tr><tr><td>FirstDayOfWeek</td><td><span>Sunday</span></td></tr><tr><td>CalendarWeekRule</td><td><span>FirstDay</span></td></tr><tr><td>FullDateTimePattern</td><td><div class=\"dni-plaintext\"><pre>dddd, MMMM d, yyyy h:mm:ss tt</pre></div></td></tr><tr><td>LongDatePattern</td><td><div class=\"dni-plaintext\"><pre>dddd, MMMM d, yyyy</pre></div></td></tr><tr><td>LongTimePattern</td><td><div class=\"dni-plaintext\"><pre>h:mm:ss tt</pre></div></td></tr><tr><td>MonthDayPattern</td><td><div class=\"dni-plaintext\"><pre>MMMM d</pre></div></td></tr><tr><td>PMDesignator</td><td><div class=\"dni-plaintext\"><pre>PM</pre></div></td></tr><tr><td>RFC1123Pattern</td><td><div class=\"dni-plaintext\"><pre>ddd, dd MMM yyyy HH&#39;:&#39;mm&#39;:&#39;ss &#39;GMT&#39;</pre></div></td></tr><tr><td>ShortDatePattern</td><td><div class=\"dni-plaintext\"><pre>M/d/yyyy</pre></div></td></tr><tr><td>ShortTimePattern</td><td><div class=\"dni-plaintext\"><pre>h:mm tt</pre></div></td></tr><tr><td>SortableDateTimePattern</td><td><div class=\"dni-plaintext\"><pre>yyyy&#39;-&#39;MM&#39;-&#39;dd&#39;T&#39;HH&#39;:&#39;mm&#39;:&#39;ss</pre></div></td></tr><tr><td>TimeSeparator</td><td><div class=\"dni-plaintext\"><pre>:</pre></div></td></tr><tr><td>UniversalSortableDateTimePattern</td><td><div class=\"dni-plaintext\"><pre>yyyy&#39;-&#39;MM&#39;-&#39;dd HH&#39;:&#39;mm&#39;:&#39;ss&#39;Z&#39;</pre></div></td></tr><tr><td>YearMonthPattern</td><td><div class=\"dni-plaintext\"><pre>MMMM yyyy</pre></div></td></tr><tr><td>AbbreviatedDayNames</td><td><div class=\"dni-plaintext\"><pre>[ Sun, Mon, Tue, Wed, Thu, Fri, Sat ]</pre></div></td></tr><tr><td>ShortestDayNames</td><td><div class=\"dni-plaintext\"><pre>[ S, M, T, W, T, F, S ]</pre></div></td></tr><tr><td>DayNames</td><td><div class=\"dni-plaintext\"><pre>[ Sunday, Monday, Tuesday, Wednesday, Thursday, Friday, Saturday ]</pre></div></td></tr><tr><td>AbbreviatedMonthNames</td><td><div class=\"dni-plaintext\"><pre>[ Jan, Feb, Mar, Apr, May, Jun, Jul, Aug, Sep, Oct, Nov, Dec,  ]</pre></div></td></tr><tr><td>MonthNames</td><td><div class=\"dni-plaintext\"><pre>[ January, February, March, April, May, June, July, August, September, October, November, December,  ]</pre></div></td></tr><tr><td>IsReadOnly</td><td><div class=\"dni-plaintext\"><pre>False</pre></div></td></tr><tr><td>NativeCalendarName</td><td><div class=\"dni-plaintext\"><pre>Gregorian Calendar</pre></div></td></tr><tr><td>AbbreviatedMonthGenitiveNames</td><td><div class=\"dni-plaintext\"><pre>[ Jan, Feb, Mar, Apr, May, Jun, Jul, Aug, Sep, Oct, Nov, Dec,  ]</pre></div></td></tr><tr><td>MonthGenitiveNames</td><td><div class=\"dni-plaintext\"><pre>[ January, February, March, April, May, June, July, August, September, October, November, December,  ]</pre></div></td></tr></tbody></table></div></details></td></tr><tr><td>Calendar</td><td><details class=\"dni-treeview\"><summary><span class=\"dni-code-hint\"><code>System.Globalization.GregorianCalendar</code></span></summary><div><table><thead><tr></tr></thead><tbody><tr><td>MinSupportedDateTime</td><td><span>0001-01-01 00:00:00Z</span></td></tr><tr><td>MaxSupportedDateTime</td><td><span>9999-12-31 23:59:59Z</span></td></tr><tr><td>AlgorithmType</td><td><span>SolarCalendar</span></td></tr><tr><td>CalendarType</td><td><span>Localized</span></td></tr><tr><td>Eras</td><td><div class=\"dni-plaintext\"><pre>[ 1 ]</pre></div></td></tr><tr><td>TwoDigitYearMax</td><td><div class=\"dni-plaintext\"><pre>2029</pre></div></td></tr><tr><td>IsReadOnly</td><td><div class=\"dni-plaintext\"><pre>False</pre></div></td></tr></tbody></table></div></details></td></tr><tr><td>OptionalCalendars</td><td><table><thead><tr><th><i>index</i></th><th>value</th></tr></thead><tbody><tr><td>0</td><td><details class=\"dni-treeview\"><summary><span class=\"dni-code-hint\"><code>System.Globalization.GregorianCalendar</code></span></summary><div><table><thead><tr></tr></thead><tbody><tr><td>MinSupportedDateTime</td><td><span>0001-01-01 00:00:00Z</span></td></tr><tr><td>MaxSupportedDateTime</td><td><span>9999-12-31 23:59:59Z</span></td></tr><tr><td>AlgorithmType</td><td><span>SolarCalendar</span></td></tr><tr><td>CalendarType</td><td><span>Localized</span></td></tr><tr><td>Eras</td><td><div class=\"dni-plaintext\"><pre>[ 1 ]</pre></div></td></tr><tr><td>TwoDigitYearMax</td><td><div class=\"dni-plaintext\"><pre>2029</pre></div></td></tr><tr><td>IsReadOnly</td><td><div class=\"dni-plaintext\"><pre>False</pre></div></td></tr></tbody></table></div></details></td></tr></tbody></table></td></tr><tr><td>UseUserOverride</td><td><div class=\"dni-plaintext\"><pre>True</pre></div></td></tr><tr><td>IsReadOnly</td><td><div class=\"dni-plaintext\"><pre>False</pre></div></td></tr></tbody></table></div></details></td></tr><tr><td>Variables</td><td><table><thead><tr><th><i>key</i></th><th>value</th></tr></thead><tbody><tr><td><div class=\"dni-plaintext\"><pre>INPUT</pre></div></td><td><div class=\"dni-plaintext\"><pre>\n",
       "If a cell runs forever, you should open an issue on the .NET Interactive GitHub page to get help. The .NET Interactive GitHub page provides a platform to report issues and get help. You can also use the Magic commands to switch cell languages in Jupyter.</pre></div></td></tr></tbody></table></td></tr><tr><td>Skills</td><td><details class=\"dni-treeview\"><summary><span class=\"dni-code-hint\"><code>Microsoft.SemanticKernel.SkillDefinition.SkillCollection</code></span></summary><div><table><thead><tr></tr></thead><tbody></tbody></table></div></details></td></tr><tr><td>LoggerFactory</td><td><details class=\"dni-treeview\"><summary><span class=\"dni-code-hint\"><code>Microsoft.Extensions.Logging.LoggerFactory</code></span></summary><div><table><thead><tr></tr></thead><tbody></tbody></table></div></details></td></tr><tr><td>ErrorOccurred</td><td><div class=\"dni-plaintext\"><pre>False</pre></div></td></tr><tr><td>LastException</td><td><div class=\"dni-plaintext\"><pre>&lt;null&gt;</pre></div></td></tr><tr><td>Log</td><td><details class=\"dni-treeview\"><summary><span class=\"dni-code-hint\"><code>Microsoft.Extensions.Logging.Logger`1[Microsoft.SemanticKernel.Orchestration.SKContext]</code></span></summary><div><table><thead><tr></tr></thead><tbody></tbody></table></div></details></td></tr><tr><td>CancellationToken</td><td><details class=\"dni-treeview\"><summary><span class=\"dni-code-hint\"><code>System.Threading.CancellationToken</code></span></summary><div><table><thead><tr></tr></thead><tbody><tr><td>IsCancellationRequested</td><td><div class=\"dni-plaintext\"><pre>False</pre></div></td></tr><tr><td>CanBeCanceled</td><td><div class=\"dni-plaintext\"><pre>False</pre></div></td></tr><tr><td>WaitHandle</td><td><details class=\"dni-treeview\"><summary><span class=\"dni-code-hint\"><code>System.Threading.ManualResetEvent</code></span></summary><div><table><thead><tr></tr></thead><tbody><tr><td>Handle</td><td><div class=\"dni-plaintext\"><pre>3284</pre></div></td></tr><tr><td>SafeWaitHandle</td><td><details class=\"dni-treeview\"><summary><span class=\"dni-code-hint\"><code>Microsoft.Win32.SafeHandles.SafeWaitHandle</code></span></summary><div><table><thead><tr></tr></thead><tbody><tr><td>IsInvalid</td><td><div class=\"dni-plaintext\"><pre>False</pre></div></td></tr><tr><td>IsClosed</td><td><div class=\"dni-plaintext\"><pre>False</pre></div></td></tr></tbody></table></div></details></td></tr></tbody></table></div></details></td></tr></tbody></table></div></details></td></tr><tr><td>Memory</td><td><details class=\"dni-treeview\"><summary><span class=\"dni-code-hint\"><code>System.InvalidOperationException: Memory no longer passed through SKContext. Instead, initialize your skill class with the memory provider it needs.\\r\\n   at Microsoft.SemanticKernel.Orchestration.SKContext.get_Memory()\\r\\n   at lambda_method420(Closure, SKContext)\\r\\n   at Microsoft.DotNet.Interact...</code></span></summary><div><table><thead><tr></tr></thead><tbody><tr><td>TargetSite</td><td><details class=\"dni-treeview\"><summary><span class=\"dni-code-hint\"><code>Microsoft.SemanticKernel.Memory.ISemanticTextMemory get_Memory()</code></span></summary><div><table><thead><tr></tr></thead><tbody><tr><td>Name</td><td><div class=\"dni-plaintext\"><pre>get_Memory</pre></div></td></tr><tr><td>DeclaringType</td><td><span><a href=\"https://docs.microsoft.com/dotnet/api/microsoft.semantickernel.orchestration.skcontext?view=net-7.0\">Microsoft.SemanticKernel.Orchestration.SKContext</a></span></td></tr><tr><td>ReflectedType</td><td><span><a href=\"https://docs.microsoft.com/dotnet/api/microsoft.semantickernel.orchestration.skcontext?view=net-7.0\">Microsoft.SemanticKernel.Orchestration.SKContext</a></span></td></tr><tr><td>MemberType</td><td><span>Method</span></td></tr><tr><td>MetadataToken</td><td><div class=\"dni-plaintext\"><pre>100663585</pre></div></td></tr><tr><td>Module</td><td><details class=\"dni-treeview\"><summary><span class=\"dni-code-hint\"><code>Microsoft.SemanticKernel.Abstractions.dll</code></span></summary><div><table><thead><tr></tr></thead><tbody><tr><td>MDStreamVersion</td><td><div class=\"dni-plaintext\"><pre>131072</pre></div></td></tr><tr><td>FullyQualifiedName</td><td><div class=\"dni-plaintext\"><pre>C:\\Users\\dicolomb\\.nuget\\packages\\microsoft.semantickernel.abstractions\\0.21.230828.2-preview\\lib\\netstandard2.0\\Microsoft.SemanticKernel.Abstractions.dll</pre></div></td></tr><tr><td>ModuleVersionId</td><td><div class=\"dni-plaintext\"><pre>f9615d6c-17d4-4d20-ba96-14e20c568e22</pre></div></td></tr><tr><td>MetadataToken</td><td><div class=\"dni-plaintext\"><pre>1</pre></div></td></tr><tr><td>ScopeName</td><td><div class=\"dni-plaintext\"><pre>Microsoft.SemanticKernel.Abstractions.dll</pre></div></td></tr><tr><td>Name</td><td><div class=\"dni-plaintext\"><pre>Microsoft.SemanticKernel.Abstractions.dll</pre></div></td></tr><tr><td>Assembly</td><td><details class=\"dni-treeview\"><summary><span class=\"dni-code-hint\"><code>Microsoft.SemanticKernel.Abstractions, Version=0.21.0.0, Culture=neutral, PublicKeyToken=f300afd708cefcd3</code></span></summary><div><table><thead><tr></tr></thead><tbody><tr><td>CodeBase</td><td><div class=\"dni-plaintext\"><pre>file:///C:/Users/dicolomb/.nuget/packages/microsoft.semantickernel.abstractions/0.21.230828.2-preview/lib/netstandard2.0/Microsoft.SemanticKernel.Abstractions.dll</pre></div></td></tr><tr><td>FullName</td><td><div class=\"dni-plaintext\"><pre>Microsoft.SemanticKernel.Abstractions, Version=0.21.0.0, Culture=neutral, PublicKeyToken=f300afd708cefcd3</pre></div></td></tr><tr><td>EntryPoint</td><td><div class=\"dni-plaintext\"><pre>&lt;null&gt;</pre></div></td></tr><tr><td>DefinedTypes</td><td><table><thead><tr><th><i>index</i></th><th>value</th></tr></thead><tbody><tr><td>0</td><td>Microsoft.CodeAnalysis.EmbeddedAttribute</td></tr><tr><td>1</td><td>System.Runtime.CompilerServices.IsReadOnlyAttribute</td></tr><tr><td>2</td><td>System.Runtime.CompilerServices.IsUnmanagedAttribute</td></tr><tr><td>3</td><td>System.Runtime.CompilerServices.NullableAttribute</td></tr><tr><td>4</td><td>System.Runtime.CompilerServices.NullableContextAttribute</td></tr><tr><td>5</td><td>HttpClientProvider</td></tr><tr><td>6</td><td>NonDisposableHttpClientHandler</td></tr><tr><td>7</td><td>System.ExceptionExtensions</td></tr><tr><td>8</td><td>System.EnvExtensions</td></tr><tr><td>9</td><td>System.Linq.AsyncEnumerable</td></tr><tr><td>10</td><td>System.Diagnostics.CodeAnalysis.AllowNullAttribute</td></tr><tr><td>11</td><td>System.Diagnostics.CodeAnalysis.DisallowNullAttribute</td></tr><tr><td>12</td><td>System.Diagnostics.CodeAnalysis.MaybeNullAttribute</td></tr><tr><td>13</td><td>System.Diagnostics.CodeAnalysis.NotNullAttribute</td></tr><tr><td>14</td><td>System.Diagnostics.CodeAnalysis.MaybeNullWhenAttribute</td></tr><tr><td>15</td><td>System.Diagnostics.CodeAnalysis.NotNullWhenAttribute</td></tr><tr><td>16</td><td>System.Diagnostics.CodeAnalysis.NotNullIfNotNullAttribute</td></tr><tr><td>17</td><td>System.Diagnostics.CodeAnalysis.DoesNotReturnAttribute</td></tr><tr><td>18</td><td>System.Diagnostics.CodeAnalysis.DoesNotReturnIfAttribute</td></tr><tr><td>19</td><td>System.Diagnostics.CodeAnalysis.MemberNotNullAttribute</td></tr><tr><td colspan=\"2\"><i>(100 more)</i></td></tr></tbody></table></td></tr><tr><td>IsCollectible</td><td><div class=\"dni-plaintext\"><pre>False</pre></div></td></tr><tr><td>ManifestModule</td><td><details class=\"dni-treeview\"><summary><span class=\"dni-code-hint\"><code>Microsoft.SemanticKernel.Abstractions.dll</code></span></summary><div><table><thead><tr></tr></thead><tbody><tr><td>MDStreamVersion</td><td>131072</td></tr><tr><td>FullyQualifiedName</td><td>C:\\Users\\dicolomb\\.nuget\\packages\\microsoft.semantickernel.abstractions\\0.21.230828.2-preview\\lib\\netstandard2.0\\Microsoft.SemanticKernel.Abstractions.dll</td></tr><tr><td>ModuleVersionId</td><td>f9615d6c-17d4-4d20-ba96-14e20c568e22</td></tr><tr><td>MetadataToken</td><td>1</td></tr><tr><td>ScopeName</td><td>Microsoft.SemanticKernel.Abstractions.dll</td></tr><tr><td>Name</td><td>Microsoft.SemanticKernel.Abstractions.dll</td></tr><tr><td>Assembly</td><td>Microsoft.SemanticKernel.Abstractions, Version=0.21.0.0, Culture=neutral, PublicKeyToken=f300afd708cefcd3</td></tr><tr><td>ModuleHandle</td><td>System.ModuleHandle</td></tr><tr><td>CustomAttributes</td><td>[  ]</td></tr></tbody></table></div></details></td></tr><tr><td>ReflectionOnly</td><td><div class=\"dni-plaintext\"><pre>False</pre></div></td></tr><tr><td>Location</td><td><div class=\"dni-plaintext\"><pre>C:\\Users\\dicolomb\\.nuget\\packages\\microsoft.semantickernel.abstractions\\0.21.230828.2-preview\\lib\\netstandard2.0\\Microsoft.SemanticKernel.Abstractions.dll</pre></div></td></tr><tr><td>ImageRuntimeVersion</td><td><div class=\"dni-plaintext\"><pre>v4.0.30319</pre></div></td></tr><tr><td>GlobalAssemblyCache</td><td><div class=\"dni-plaintext\"><pre>False</pre></div></td></tr><tr><td>HostContext</td><td><div class=\"dni-plaintext\"><pre>0</pre></div></td></tr><tr><td>IsDynamic</td><td><div class=\"dni-plaintext\"><pre>False</pre></div></td></tr><tr><td>ExportedTypes</td><td><table><thead><tr><th><i>index</i></th><th>value</th></tr></thead><tbody><tr><td>0</td><td>Microsoft.SemanticKernel.ChatCompletionServiceExtensions</td></tr><tr><td>1</td><td>Microsoft.SemanticKernel.TextEmbeddingServiceExtensions</td></tr><tr><td>2</td><td>Microsoft.SemanticKernel.ImageGenerationServiceExtensions</td></tr><tr><td>3</td><td>Microsoft.SemanticKernel.TextCompletionServiceExtensions</td></tr><tr><td>4</td><td>Microsoft.SemanticKernel.IKernel</td></tr><tr><td>5</td><td>Microsoft.SemanticKernel.KernelConfig</td></tr><tr><td>6</td><td>Microsoft.SemanticKernel.TemplateEngine.IPromptTemplateEngine</td></tr><tr><td>7</td><td>Microsoft.SemanticKernel.TemplateEngine.Blocks.Block</td></tr><tr><td>8</td><td>Microsoft.SemanticKernel.SkillDefinition.FunctionsView</td></tr><tr><td>9</td><td>Microsoft.SemanticKernel.SkillDefinition.FunctionView</td></tr><tr><td>10</td><td>Microsoft.SemanticKernel.SkillDefinition.IReadOnlySkillCollection</td></tr><tr><td>11</td><td>Microsoft.SemanticKernel.SkillDefinition.ISKFunction</td></tr><tr><td>12</td><td>Microsoft.SemanticKernel.SkillDefinition.ISkillCollection</td></tr><tr><td>13</td><td>Microsoft.SemanticKernel.SkillDefinition.ParameterView</td></tr><tr><td>14</td><td>Microsoft.SemanticKernel.SkillDefinition.ParameterViewType</td></tr><tr><td>15</td><td>Microsoft.SemanticKernel.SkillDefinition.SKFunctionAttribute</td></tr><tr><td>16</td><td>Microsoft.SemanticKernel.SkillDefinition.SKNameAttribute</td></tr><tr><td>17</td><td>Microsoft.SemanticKernel.SkillDefinition.SKParameterAttribute</td></tr><tr><td>18</td><td>Microsoft.SemanticKernel.Services.IAIService</td></tr><tr><td>19</td><td>Microsoft.SemanticKernel.Services.IAIServiceProvider</td></tr><tr><td colspan=\"2\"><i>(45 more)</i></td></tr></tbody></table></td></tr><tr><td>IsFullyTrusted</td><td><div class=\"dni-plaintext\"><pre>True</pre></div></td></tr><tr><td>CustomAttributes</td><td><table><thead><tr><th><i>index</i></th><th>value</th></tr></thead><tbody><tr><td>0</td><td>[System.Runtime.CompilerServices.ExtensionAttribute()]</td></tr><tr><td>1</td><td>[System.Runtime.CompilerServices.CompilationRelaxationsAttribute((Int32)8)]</td></tr><tr><td>2</td><td>[System.Runtime.CompilerServices.RuntimeCompatibilityAttribute(WrapNonExceptionThrows = True)]</td></tr><tr><td>3</td><td>[System.Diagnostics.DebuggableAttribute((System.Diagnostics.DebuggableAttribute+DebuggingModes)263)]</td></tr><tr><td>4</td><td>[System.Runtime.Versioning.TargetFrameworkAttribute(\".NETStandard,Version=v2.0\", FrameworkDisplayName = \"\")]</td></tr><tr><td>5</td><td>[System.CLSCompliantAttribute((Boolean)False)]</td></tr><tr><td>6</td><td>[System.Reflection.AssemblyCompanyAttribute(\"Microsoft\")]</td></tr><tr><td>7</td><td>[System.Reflection.AssemblyConfigurationAttribute(\"Publish\")]</td></tr><tr><td>8</td><td>[System.Reflection.AssemblyCopyrightAttribute(\"© Microsoft Corporation. All rights reserved.\")]</td></tr><tr><td>9</td><td>[System.Reflection.AssemblyDescriptionAttribute(\"Semantic Kernel interfaces and abstractions. This package is automatically installed by Semantic Kernel packages if needed.\")]</td></tr><tr><td>10</td><td>[System.Reflection.AssemblyFileVersionAttribute(\"0.21.0.0\")]</td></tr><tr><td>11</td><td>[System.Reflection.AssemblyInformationalVersionAttribute(\"0.21+3e12f1a78de7f40b58499072b5f38832d34d9f78\")]</td></tr><tr><td>12</td><td>[System.Reflection.AssemblyProductAttribute(\"Semantic Kernel\")]</td></tr><tr><td>13</td><td>[System.Reflection.AssemblyTitleAttribute(\"Microsoft.SemanticKernel.Abstractions\")]</td></tr><tr><td>14</td><td>[System.Reflection.AssemblyMetadataAttribute(\"RepositoryUrl\", \"https://github.com/microsoft/semantic-kernel\")]</td></tr><tr><td>15</td><td>[System.Runtime.CompilerServices.InternalsVisibleToAttribute(\"Microsoft.SemanticKernel.Core, PublicKey=002400000c80000014010000060200000024000052534131000800000100010085aad0bef0688d1b994a0d78e1fd29fc24ac34ed3d3ac3fb9b3d0c48386ba834aa880035060a8848b2d8adf58e670ed20914be3681a891c9c8c01eef2ab22872547c39be00af0e6c72485d7cfd1a51df8947d36ceba9989106b58abe79e6a3e71a01ed6bdc867012883e0b1a4d35b1b5eeed6df21e401bb0c22f2246ccb69979dc9e61eef262832ed0f2064853725a75485fa8a3efb7e027319c86dec03dc3b1bca2b5081bab52a627b9917450dfad534799e1c7af58683bdfa135f1518ff1ea60e90d7b993a6c87fd3dd93408e35d1296f9a7f9a97c5db56c0f3cc25ad11e9777f94d138b3cea53b9a8331c2e6dcb8d2ea94e18bf1163ff112a22dbd92d429a\")]</td></tr><tr><td>16</td><td>[System.Runtime.CompilerServices.InternalsVisibleToAttribute(\"SemanticKernel.UnitTests, PublicKey=002400000c80000014010000060200000024000052534131000800000100010085aad0bef0688d1b994a0d78e1fd29fc24ac34ed3d3ac3fb9b3d0c48386ba834aa880035060a8848b2d8adf58e670ed20914be3681a891c9c8c01eef2ab22872547c39be00af0e6c72485d7cfd1a51df8947d36ceba9989106b58abe79e6a3e71a01ed6bdc867012883e0b1a4d35b1b5eeed6df21e401bb0c22f2246ccb69979dc9e61eef262832ed0f2064853725a75485fa8a3efb7e027319c86dec03dc3b1bca2b5081bab52a627b9917450dfad534799e1c7af58683bdfa135f1518ff1ea60e90d7b993a6c87fd3dd93408e35d1296f9a7f9a97c5db56c0f3cc25ad11e9777f94d138b3cea53b9a8331c2e6dcb8d2ea94e18bf1163ff112a22dbd92d429a\")]</td></tr><tr><td>17</td><td>[System.Runtime.CompilerServices.InternalsVisibleToAttribute(\"Extensions.UnitTests, PublicKey=002400000c80000014010000060200000024000052534131000800000100010085aad0bef0688d1b994a0d78e1fd29fc24ac34ed3d3ac3fb9b3d0c48386ba834aa880035060a8848b2d8adf58e670ed20914be3681a891c9c8c01eef2ab22872547c39be00af0e6c72485d7cfd1a51df8947d36ceba9989106b58abe79e6a3e71a01ed6bdc867012883e0b1a4d35b1b5eeed6df21e401bb0c22f2246ccb69979dc9e61eef262832ed0f2064853725a75485fa8a3efb7e027319c86dec03dc3b1bca2b5081bab52a627b9917450dfad534799e1c7af58683bdfa135f1518ff1ea60e90d7b993a6c87fd3dd93408e35d1296f9a7f9a97c5db56c0f3cc25ad11e9777f94d138b3cea53b9a8331c2e6dcb8d2ea94e18bf1163ff112a22dbd92d429a\")]</td></tr><tr><td>18</td><td>[System.Runtime.CompilerServices.InternalsVisibleToAttribute(\"DynamicProxyGenAssembly2, PublicKey=002400000c80000014010000060200000024000052534131000800000100010085aad0bef0688d1b994a0d78e1fd29fc24ac34ed3d3ac3fb9b3d0c48386ba834aa880035060a8848b2d8adf58e670ed20914be3681a891c9c8c01eef2ab22872547c39be00af0e6c72485d7cfd1a51df8947d36ceba9989106b58abe79e6a3e71a01ed6bdc867012883e0b1a4d35b1b5eeed6df21e401bb0c22f2246ccb69979dc9e61eef262832ed0f2064853725a75485fa8a3efb7e027319c86dec03dc3b1bca2b5081bab52a627b9917450dfad534799e1c7af58683bdfa135f1518ff1ea60e90d7b993a6c87fd3dd93408e35d1296f9a7f9a97c5db56c0f3cc25ad11e9777f94d138b3cea53b9a8331c2e6dcb8d2ea94e18bf1163ff112a22dbd92d429a\")]</td></tr></tbody></table></td></tr><tr><td>EscapedCodeBase</td><td><div class=\"dni-plaintext\"><pre>file:///C:/Users/dicolomb/.nuget/packages/microsoft.semantickernel.abstractions/0.21.230828.2-preview/lib/netstandard2.0/Microsoft.SemanticKernel.Abstractions.dll</pre></div></td></tr><tr><td>Modules</td><td><table><thead><tr><th><i>index</i></th><th>value</th></tr></thead><tbody><tr><td>0</td><td>Microsoft.SemanticKernel.Abstractions.dll</td></tr></tbody></table></td></tr><tr><td>SecurityRuleSet</td><td><span>None</span></td></tr></tbody></table></div></details></td></tr><tr><td>ModuleHandle</td><td><details class=\"dni-treeview\"><summary><span class=\"dni-code-hint\"><code>System.ModuleHandle</code></span></summary><div><table><thead><tr></tr></thead><tbody><tr><td>MDStreamVersion</td><td><div class=\"dni-plaintext\"><pre>131072</pre></div></td></tr></tbody></table></div></details></td></tr><tr><td>CustomAttributes</td><td><i>(empty)</i></td></tr></tbody></table></div></details></td></tr><tr><td>IsSecurityCritical</td><td><div class=\"dni-plaintext\"><pre>True</pre></div></td></tr><tr><td>IsSecuritySafeCritical</td><td><div class=\"dni-plaintext\"><pre>False</pre></div></td></tr><tr><td>IsSecurityTransparent</td><td><div class=\"dni-plaintext\"><pre>False</pre></div></td></tr><tr><td>MethodHandle</td><td><details class=\"dni-treeview\"><summary><span class=\"dni-code-hint\"><code>System.RuntimeMethodHandle</code></span></summary><div><table><thead><tr></tr></thead><tbody><tr><td>Value</td><td><div class=\"dni-plaintext\"><pre>140717887080264</pre></div></td></tr></tbody></table></div></details></td></tr><tr><td>Attributes</td><td><span>PrivateScope, Public, HideBySig, SpecialName</span></td></tr><tr><td>CallingConvention</td><td><span>Standard, HasThis</span></td></tr><tr><td>ReturnType</td><td><span><a href=\"https://docs.microsoft.com/dotnet/api/microsoft.semantickernel.memory.isemantictextmemory?view=net-7.0\">Microsoft.SemanticKernel.Memory.ISemanticTextMemory</a></span></td></tr><tr><td>ReturnTypeCustomAttributes</td><td><details class=\"dni-treeview\"><summary><span class=\"dni-code-hint\"><code>Microsoft.SemanticKernel.Memory.ISemanticTextMemory</code></span></summary><div><table><thead><tr></tr></thead><tbody><tr><td>ParameterType</td><td><span><a href=\"https://docs.microsoft.com/dotnet/api/microsoft.semantickernel.memory.isemantictextmemory?view=net-7.0\">Microsoft.SemanticKernel.Memory.ISemanticTextMemory</a></span></td></tr><tr><td>Name</td><td><div class=\"dni-plaintext\"><pre>&lt;null&gt;</pre></div></td></tr><tr><td>HasDefaultValue</td><td><div class=\"dni-plaintext\"><pre>True</pre></div></td></tr><tr><td>DefaultValue</td><td><div class=\"dni-plaintext\"><pre>&lt;null&gt;</pre></div></td></tr><tr><td>RawDefaultValue</td><td><div class=\"dni-plaintext\"><pre>&lt;null&gt;</pre></div></td></tr><tr><td>MetadataToken</td><td><div class=\"dni-plaintext\"><pre>134217728</pre></div></td></tr><tr><td>Attributes</td><td><span>None</span></td></tr><tr><td>Member</td><td><details class=\"dni-treeview\"><summary><span class=\"dni-code-hint\"><code>Microsoft.SemanticKernel.Memory.ISemanticTextMemory get_Memory()</code></span></summary><div><table><thead><tr></tr></thead><tbody><tr><td>Name</td><td><div class=\"dni-plaintext\"><pre>get_Memory</pre></div></td></tr><tr><td>DeclaringType</td><td><span><a href=\"https://docs.microsoft.com/dotnet/api/microsoft.semantickernel.orchestration.skcontext?view=net-7.0\">Microsoft.SemanticKernel.Orchestration.SKContext</a></span></td></tr><tr><td>ReflectedType</td><td><span><a href=\"https://docs.microsoft.com/dotnet/api/microsoft.semantickernel.orchestration.skcontext?view=net-7.0\">Microsoft.SemanticKernel.Orchestration.SKContext</a></span></td></tr><tr><td>MemberType</td><td><span>Method</span></td></tr><tr><td>MetadataToken</td><td><div class=\"dni-plaintext\"><pre>100663585</pre></div></td></tr><tr><td>Module</td><td><details class=\"dni-treeview\"><summary><span class=\"dni-code-hint\"><code>Microsoft.SemanticKernel.Abstractions.dll</code></span></summary><div><table><thead><tr></tr></thead><tbody><tr><td>MDStreamVersion</td><td>131072</td></tr><tr><td>FullyQualifiedName</td><td>C:\\Users\\dicolomb\\.nuget\\packages\\microsoft.semantickernel.abstractions\\0.21.230828.2-preview\\lib\\netstandard2.0\\Microsoft.SemanticKernel.Abstractions.dll</td></tr><tr><td>ModuleVersionId</td><td>f9615d6c-17d4-4d20-ba96-14e20c568e22</td></tr><tr><td>MetadataToken</td><td>1</td></tr><tr><td>ScopeName</td><td>Microsoft.SemanticKernel.Abstractions.dll</td></tr><tr><td>Name</td><td>Microsoft.SemanticKernel.Abstractions.dll</td></tr><tr><td>Assembly</td><td>Microsoft.SemanticKernel.Abstractions, Version=0.21.0.0, Culture=neutral, PublicKeyToken=f300afd708cefcd3</td></tr><tr><td>ModuleHandle</td><td>System.ModuleHandle</td></tr><tr><td>CustomAttributes</td><td>[  ]</td></tr></tbody></table></div></details></td></tr><tr><td>IsSecurityCritical</td><td><div class=\"dni-plaintext\"><pre>True</pre></div></td></tr><tr><td>IsSecuritySafeCritical</td><td><div class=\"dni-plaintext\"><pre>False</pre></div></td></tr><tr><td>IsSecurityTransparent</td><td><div class=\"dni-plaintext\"><pre>False</pre></div></td></tr><tr><td>MethodHandle</td><td><details class=\"dni-treeview\"><summary><span class=\"dni-code-hint\"><code>System.RuntimeMethodHandle</code></span></summary><div><table><thead><tr></tr></thead><tbody><tr><td>Value</td><td>140717887080264</td></tr></tbody></table></div></details></td></tr><tr><td>Attributes</td><td><span>PrivateScope, Public, HideBySig, SpecialName</span></td></tr><tr><td>CallingConvention</td><td><span>Standard, HasThis</span></td></tr><tr><td>ReturnType</td><td><span><a href=\"https://docs.microsoft.com/dotnet/api/microsoft.semantickernel.memory.isemantictextmemory?view=net-7.0\">Microsoft.SemanticKernel.Memory.ISemanticTextMemory</a></span></td></tr><tr><td>ReturnTypeCustomAttributes</td><td><details class=\"dni-treeview\"><summary><span class=\"dni-code-hint\"><code>Microsoft.SemanticKernel.Memory.ISemanticTextMemory</code></span></summary><div><table><thead><tr></tr></thead><tbody><tr><td>ParameterType</td><td>Microsoft.SemanticKernel.Memory.ISemanticTextMemory</td></tr><tr><td>Name</td><td><div class=\"dni-plaintext\"><pre>&lt;null&gt;</pre></div></td></tr><tr><td>HasDefaultValue</td><td>True</td></tr><tr><td>DefaultValue</td><td><div class=\"dni-plaintext\"><pre>&lt;null&gt;</pre></div></td></tr><tr><td>RawDefaultValue</td><td><div class=\"dni-plaintext\"><pre>&lt;null&gt;</pre></div></td></tr><tr><td>MetadataToken</td><td>134217728</td></tr><tr><td>Attributes</td><td>None</td></tr><tr><td>Member</td><td>Microsoft.SemanticKernel.Memory.ISemanticTextMemory get_Memory()</td></tr><tr><td>Position</td><td>-1</td></tr><tr><td>IsIn</td><td>False</td></tr><tr><td>IsLcid</td><td>False</td></tr><tr><td>IsOptional</td><td>False</td></tr><tr><td>IsOut</td><td>False</td></tr><tr><td>IsRetval</td><td>False</td></tr><tr><td>CustomAttributes</td><td>[  ]</td></tr></tbody></table></div></details></td></tr><tr><td>ReturnParameter</td><td><details class=\"dni-treeview\"><summary><span class=\"dni-code-hint\"><code>Microsoft.SemanticKernel.Memory.ISemanticTextMemory</code></span></summary><div><table><thead><tr></tr></thead><tbody><tr><td>ParameterType</td><td>Microsoft.SemanticKernel.Memory.ISemanticTextMemory</td></tr><tr><td>Name</td><td><div class=\"dni-plaintext\"><pre>&lt;null&gt;</pre></div></td></tr><tr><td>HasDefaultValue</td><td>True</td></tr><tr><td>DefaultValue</td><td><div class=\"dni-plaintext\"><pre>&lt;null&gt;</pre></div></td></tr><tr><td>RawDefaultValue</td><td><div class=\"dni-plaintext\"><pre>&lt;null&gt;</pre></div></td></tr><tr><td>MetadataToken</td><td>134217728</td></tr><tr><td>Attributes</td><td>None</td></tr><tr><td>Member</td><td>Microsoft.SemanticKernel.Memory.ISemanticTextMemory get_Memory()</td></tr><tr><td>Position</td><td>-1</td></tr><tr><td>IsIn</td><td>False</td></tr><tr><td>IsLcid</td><td>False</td></tr><tr><td>IsOptional</td><td>False</td></tr><tr><td>IsOut</td><td>False</td></tr><tr><td>IsRetval</td><td>False</td></tr><tr><td>CustomAttributes</td><td>[  ]</td></tr></tbody></table></div></details></td></tr><tr><td>IsCollectible</td><td><div class=\"dni-plaintext\"><pre>False</pre></div></td></tr><tr><td>IsGenericMethod</td><td><div class=\"dni-plaintext\"><pre>False</pre></div></td></tr><tr><td>IsGenericMethodDefinition</td><td><div class=\"dni-plaintext\"><pre>False</pre></div></td></tr><tr><td>ContainsGenericParameters</td><td><div class=\"dni-plaintext\"><pre>False</pre></div></td></tr><tr><td>MethodImplementationFlags</td><td><span>IL</span></td></tr><tr><td>IsAbstract</td><td><div class=\"dni-plaintext\"><pre>False</pre></div></td></tr><tr><td>IsConstructor</td><td><div class=\"dni-plaintext\"><pre>False</pre></div></td></tr><tr><td>IsFinal</td><td><div class=\"dni-plaintext\"><pre>False</pre></div></td></tr><tr><td>IsHideBySig</td><td><div class=\"dni-plaintext\"><pre>True</pre></div></td></tr><tr><td>IsSpecialName</td><td><div class=\"dni-plaintext\"><pre>True</pre></div></td></tr><tr><td>IsStatic</td><td><div class=\"dni-plaintext\"><pre>False</pre></div></td></tr><tr><td>IsVirtual</td><td><div class=\"dni-plaintext\"><pre>False</pre></div></td></tr><tr><td>IsAssembly</td><td><div class=\"dni-plaintext\"><pre>False</pre></div></td></tr><tr><td>IsFamily</td><td><div class=\"dni-plaintext\"><pre>False</pre></div></td></tr><tr><td>IsFamilyAndAssembly</td><td><div class=\"dni-plaintext\"><pre>False</pre></div></td></tr><tr><td>IsFamilyOrAssembly</td><td><div class=\"dni-plaintext\"><pre>False</pre></div></td></tr><tr><td>IsPrivate</td><td><div class=\"dni-plaintext\"><pre>False</pre></div></td></tr><tr><td>IsPublic</td><td><div class=\"dni-plaintext\"><pre>True</pre></div></td></tr><tr><td>IsConstructedGenericMethod</td><td><div class=\"dni-plaintext\"><pre>False</pre></div></td></tr><tr><td>CustomAttributes</td><td><i>(empty)</i></td></tr></tbody></table></div></details></td></tr><tr><td>Position</td><td><div class=\"dni-plaintext\"><pre>-1</pre></div></td></tr><tr><td>IsIn</td><td><div class=\"dni-plaintext\"><pre>False</pre></div></td></tr><tr><td>IsLcid</td><td><div class=\"dni-plaintext\"><pre>False</pre></div></td></tr><tr><td>IsOptional</td><td><div class=\"dni-plaintext\"><pre>False</pre></div></td></tr><tr><td>IsOut</td><td><div class=\"dni-plaintext\"><pre>False</pre></div></td></tr><tr><td>IsRetval</td><td><div class=\"dni-plaintext\"><pre>False</pre></div></td></tr><tr><td>CustomAttributes</td><td><i>(empty)</i></td></tr></tbody></table></div></details></td></tr><tr><td>ReturnParameter</td><td><details class=\"dni-treeview\"><summary><span class=\"dni-code-hint\"><code>Microsoft.SemanticKernel.Memory.ISemanticTextMemory</code></span></summary><div><table><thead><tr></tr></thead><tbody><tr><td>ParameterType</td><td><span><a href=\"https://docs.microsoft.com/dotnet/api/microsoft.semantickernel.memory.isemantictextmemory?view=net-7.0\">Microsoft.SemanticKernel.Memory.ISemanticTextMemory</a></span></td></tr><tr><td>Name</td><td><div class=\"dni-plaintext\"><pre>&lt;null&gt;</pre></div></td></tr><tr><td>HasDefaultValue</td><td><div class=\"dni-plaintext\"><pre>True</pre></div></td></tr><tr><td>DefaultValue</td><td><div class=\"dni-plaintext\"><pre>&lt;null&gt;</pre></div></td></tr><tr><td>RawDefaultValue</td><td><div class=\"dni-plaintext\"><pre>&lt;null&gt;</pre></div></td></tr><tr><td>MetadataToken</td><td><div class=\"dni-plaintext\"><pre>134217728</pre></div></td></tr><tr><td>Attributes</td><td><span>None</span></td></tr><tr><td>Member</td><td><details class=\"dni-treeview\"><summary><span class=\"dni-code-hint\"><code>Microsoft.SemanticKernel.Memory.ISemanticTextMemory get_Memory()</code></span></summary><div><table><thead><tr></tr></thead><tbody><tr><td>Name</td><td><div class=\"dni-plaintext\"><pre>get_Memory</pre></div></td></tr><tr><td>DeclaringType</td><td><span><a href=\"https://docs.microsoft.com/dotnet/api/microsoft.semantickernel.orchestration.skcontext?view=net-7.0\">Microsoft.SemanticKernel.Orchestration.SKContext</a></span></td></tr><tr><td>ReflectedType</td><td><span><a href=\"https://docs.microsoft.com/dotnet/api/microsoft.semantickernel.orchestration.skcontext?view=net-7.0\">Microsoft.SemanticKernel.Orchestration.SKContext</a></span></td></tr><tr><td>MemberType</td><td><span>Method</span></td></tr><tr><td>MetadataToken</td><td><div class=\"dni-plaintext\"><pre>100663585</pre></div></td></tr><tr><td>Module</td><td><details class=\"dni-treeview\"><summary><span class=\"dni-code-hint\"><code>Microsoft.SemanticKernel.Abstractions.dll</code></span></summary><div><table><thead><tr></tr></thead><tbody><tr><td>MDStreamVersion</td><td>131072</td></tr><tr><td>FullyQualifiedName</td><td>C:\\Users\\dicolomb\\.nuget\\packages\\microsoft.semantickernel.abstractions\\0.21.230828.2-preview\\lib\\netstandard2.0\\Microsoft.SemanticKernel.Abstractions.dll</td></tr><tr><td>ModuleVersionId</td><td>f9615d6c-17d4-4d20-ba96-14e20c568e22</td></tr><tr><td>MetadataToken</td><td>1</td></tr><tr><td>ScopeName</td><td>Microsoft.SemanticKernel.Abstractions.dll</td></tr><tr><td>Name</td><td>Microsoft.SemanticKernel.Abstractions.dll</td></tr><tr><td>Assembly</td><td>Microsoft.SemanticKernel.Abstractions, Version=0.21.0.0, Culture=neutral, PublicKeyToken=f300afd708cefcd3</td></tr><tr><td>ModuleHandle</td><td>System.ModuleHandle</td></tr><tr><td>CustomAttributes</td><td>[  ]</td></tr></tbody></table></div></details></td></tr><tr><td>IsSecurityCritical</td><td><div class=\"dni-plaintext\"><pre>True</pre></div></td></tr><tr><td>IsSecuritySafeCritical</td><td><div class=\"dni-plaintext\"><pre>False</pre></div></td></tr><tr><td>IsSecurityTransparent</td><td><div class=\"dni-plaintext\"><pre>False</pre></div></td></tr><tr><td>MethodHandle</td><td><details class=\"dni-treeview\"><summary><span class=\"dni-code-hint\"><code>System.RuntimeMethodHandle</code></span></summary><div><table><thead><tr></tr></thead><tbody><tr><td>Value</td><td>140717887080264</td></tr></tbody></table></div></details></td></tr><tr><td>Attributes</td><td><span>PrivateScope, Public, HideBySig, SpecialName</span></td></tr><tr><td>CallingConvention</td><td><span>Standard, HasThis</span></td></tr><tr><td>ReturnType</td><td><span><a href=\"https://docs.microsoft.com/dotnet/api/microsoft.semantickernel.memory.isemantictextmemory?view=net-7.0\">Microsoft.SemanticKernel.Memory.ISemanticTextMemory</a></span></td></tr><tr><td>ReturnTypeCustomAttributes</td><td><details class=\"dni-treeview\"><summary><span class=\"dni-code-hint\"><code>Microsoft.SemanticKernel.Memory.ISemanticTextMemory</code></span></summary><div><table><thead><tr></tr></thead><tbody><tr><td>ParameterType</td><td>Microsoft.SemanticKernel.Memory.ISemanticTextMemory</td></tr><tr><td>Name</td><td><div class=\"dni-plaintext\"><pre>&lt;null&gt;</pre></div></td></tr><tr><td>HasDefaultValue</td><td>True</td></tr><tr><td>DefaultValue</td><td><div class=\"dni-plaintext\"><pre>&lt;null&gt;</pre></div></td></tr><tr><td>RawDefaultValue</td><td><div class=\"dni-plaintext\"><pre>&lt;null&gt;</pre></div></td></tr><tr><td>MetadataToken</td><td>134217728</td></tr><tr><td>Attributes</td><td>None</td></tr><tr><td>Member</td><td>Microsoft.SemanticKernel.Memory.ISemanticTextMemory get_Memory()</td></tr><tr><td>Position</td><td>-1</td></tr><tr><td>IsIn</td><td>False</td></tr><tr><td>IsLcid</td><td>False</td></tr><tr><td>IsOptional</td><td>False</td></tr><tr><td>IsOut</td><td>False</td></tr><tr><td>IsRetval</td><td>False</td></tr><tr><td>CustomAttributes</td><td>[  ]</td></tr></tbody></table></div></details></td></tr><tr><td>ReturnParameter</td><td><details class=\"dni-treeview\"><summary><span class=\"dni-code-hint\"><code>Microsoft.SemanticKernel.Memory.ISemanticTextMemory</code></span></summary><div><table><thead><tr></tr></thead><tbody><tr><td>ParameterType</td><td>Microsoft.SemanticKernel.Memory.ISemanticTextMemory</td></tr><tr><td>Name</td><td><div class=\"dni-plaintext\"><pre>&lt;null&gt;</pre></div></td></tr><tr><td>HasDefaultValue</td><td>True</td></tr><tr><td>DefaultValue</td><td><div class=\"dni-plaintext\"><pre>&lt;null&gt;</pre></div></td></tr><tr><td>RawDefaultValue</td><td><div class=\"dni-plaintext\"><pre>&lt;null&gt;</pre></div></td></tr><tr><td>MetadataToken</td><td>134217728</td></tr><tr><td>Attributes</td><td>None</td></tr><tr><td>Member</td><td>Microsoft.SemanticKernel.Memory.ISemanticTextMemory get_Memory()</td></tr><tr><td>Position</td><td>-1</td></tr><tr><td>IsIn</td><td>False</td></tr><tr><td>IsLcid</td><td>False</td></tr><tr><td>IsOptional</td><td>False</td></tr><tr><td>IsOut</td><td>False</td></tr><tr><td>IsRetval</td><td>False</td></tr><tr><td>CustomAttributes</td><td>[  ]</td></tr></tbody></table></div></details></td></tr><tr><td>IsCollectible</td><td><div class=\"dni-plaintext\"><pre>False</pre></div></td></tr><tr><td>IsGenericMethod</td><td><div class=\"dni-plaintext\"><pre>False</pre></div></td></tr><tr><td>IsGenericMethodDefinition</td><td><div class=\"dni-plaintext\"><pre>False</pre></div></td></tr><tr><td>ContainsGenericParameters</td><td><div class=\"dni-plaintext\"><pre>False</pre></div></td></tr><tr><td>MethodImplementationFlags</td><td><span>IL</span></td></tr><tr><td>IsAbstract</td><td><div class=\"dni-plaintext\"><pre>False</pre></div></td></tr><tr><td>IsConstructor</td><td><div class=\"dni-plaintext\"><pre>False</pre></div></td></tr><tr><td>IsFinal</td><td><div class=\"dni-plaintext\"><pre>False</pre></div></td></tr><tr><td>IsHideBySig</td><td><div class=\"dni-plaintext\"><pre>True</pre></div></td></tr><tr><td>IsSpecialName</td><td><div class=\"dni-plaintext\"><pre>True</pre></div></td></tr><tr><td>IsStatic</td><td><div class=\"dni-plaintext\"><pre>False</pre></div></td></tr><tr><td>IsVirtual</td><td><div class=\"dni-plaintext\"><pre>False</pre></div></td></tr><tr><td>IsAssembly</td><td><div class=\"dni-plaintext\"><pre>False</pre></div></td></tr><tr><td>IsFamily</td><td><div class=\"dni-plaintext\"><pre>False</pre></div></td></tr><tr><td>IsFamilyAndAssembly</td><td><div class=\"dni-plaintext\"><pre>False</pre></div></td></tr><tr><td>IsFamilyOrAssembly</td><td><div class=\"dni-plaintext\"><pre>False</pre></div></td></tr><tr><td>IsPrivate</td><td><div class=\"dni-plaintext\"><pre>False</pre></div></td></tr><tr><td>IsPublic</td><td><div class=\"dni-plaintext\"><pre>True</pre></div></td></tr><tr><td>IsConstructedGenericMethod</td><td><div class=\"dni-plaintext\"><pre>False</pre></div></td></tr><tr><td>CustomAttributes</td><td><i>(empty)</i></td></tr></tbody></table></div></details></td></tr><tr><td>Position</td><td><div class=\"dni-plaintext\"><pre>-1</pre></div></td></tr><tr><td>IsIn</td><td><div class=\"dni-plaintext\"><pre>False</pre></div></td></tr><tr><td>IsLcid</td><td><div class=\"dni-plaintext\"><pre>False</pre></div></td></tr><tr><td>IsOptional</td><td><div class=\"dni-plaintext\"><pre>False</pre></div></td></tr><tr><td>IsOut</td><td><div class=\"dni-plaintext\"><pre>False</pre></div></td></tr><tr><td>IsRetval</td><td><div class=\"dni-plaintext\"><pre>False</pre></div></td></tr><tr><td>CustomAttributes</td><td><i>(empty)</i></td></tr></tbody></table></div></details></td></tr><tr><td>IsCollectible</td><td><div class=\"dni-plaintext\"><pre>False</pre></div></td></tr><tr><td>IsGenericMethod</td><td><div class=\"dni-plaintext\"><pre>False</pre></div></td></tr><tr><td>IsGenericMethodDefinition</td><td><div class=\"dni-plaintext\"><pre>False</pre></div></td></tr><tr><td>ContainsGenericParameters</td><td><div class=\"dni-plaintext\"><pre>False</pre></div></td></tr><tr><td>MethodImplementationFlags</td><td><span>IL</span></td></tr><tr><td>IsAbstract</td><td><div class=\"dni-plaintext\"><pre>False</pre></div></td></tr><tr><td>IsConstructor</td><td><div class=\"dni-plaintext\"><pre>False</pre></div></td></tr><tr><td>IsFinal</td><td><div class=\"dni-plaintext\"><pre>False</pre></div></td></tr><tr><td>IsHideBySig</td><td><div class=\"dni-plaintext\"><pre>True</pre></div></td></tr><tr><td>IsSpecialName</td><td><div class=\"dni-plaintext\"><pre>True</pre></div></td></tr><tr><td>IsStatic</td><td><div class=\"dni-plaintext\"><pre>False</pre></div></td></tr><tr><td>IsVirtual</td><td><div class=\"dni-plaintext\"><pre>False</pre></div></td></tr><tr><td>IsAssembly</td><td><div class=\"dni-plaintext\"><pre>False</pre></div></td></tr><tr><td>IsFamily</td><td><div class=\"dni-plaintext\"><pre>False</pre></div></td></tr><tr><td>IsFamilyAndAssembly</td><td><div class=\"dni-plaintext\"><pre>False</pre></div></td></tr><tr><td>IsFamilyOrAssembly</td><td><div class=\"dni-plaintext\"><pre>False</pre></div></td></tr><tr><td>IsPrivate</td><td><div class=\"dni-plaintext\"><pre>False</pre></div></td></tr><tr><td>IsPublic</td><td><div class=\"dni-plaintext\"><pre>True</pre></div></td></tr><tr><td>IsConstructedGenericMethod</td><td><div class=\"dni-plaintext\"><pre>False</pre></div></td></tr><tr><td>CustomAttributes</td><td><i>(empty)</i></td></tr></tbody></table></div></details></td></tr><tr><td>Message</td><td><div class=\"dni-plaintext\"><pre>Memory no longer passed through SKContext. Instead, initialize your skill class with the memory provider it needs.</pre></div></td></tr><tr><td>Data</td><td><i>(empty)</i></td></tr><tr><td>InnerException</td><td><div class=\"dni-plaintext\"><pre>&lt;null&gt;</pre></div></td></tr><tr><td>HelpLink</td><td><div class=\"dni-plaintext\"><pre>&lt;null&gt;</pre></div></td></tr><tr><td>Source</td><td><div class=\"dni-plaintext\"><pre>Microsoft.SemanticKernel.Abstractions</pre></div></td></tr><tr><td>HResult</td><td><div class=\"dni-plaintext\"><pre>-2146233079</pre></div></td></tr><tr><td>StackTrace</td><td><div class=\"dni-plaintext\"><pre>   at Microsoft.SemanticKernel.Orchestration.SKContext.get_Memory()\r\n",
       "   at lambda_method420(Closure, SKContext)\r\n",
       "   at Microsoft.DotNet.Interactive.Formatting.MemberAccessor`1.GetValueOrException(T instance) in D:\\a\\_work\\1\\s\\src\\Microsoft.DotNet.Interactive.Formatting\\MemberAccessor{T}.cs:line 64</pre></div></td></tr></tbody></table></div></details></td></tr><tr><td>LastErrorDescription</td><td><div class=\"dni-plaintext\"><pre>&lt;null&gt;</pre></div></td></tr></tbody></table></div></details><style>\r\n",
       ".dni-code-hint {\r\n",
       "    font-style: italic;\r\n",
       "    overflow: hidden;\r\n",
       "    white-space: nowrap;\r\n",
       "}\r\n",
       ".dni-treeview {\r\n",
       "    white-space: nowrap;\r\n",
       "}\r\n",
       ".dni-treeview td {\r\n",
       "    vertical-align: top;\r\n",
       "    text-align: start;\r\n",
       "}\r\n",
       "details.dni-treeview {\r\n",
       "    padding-left: 1em;\r\n",
       "}\r\n",
       "table td {\r\n",
       "    text-align: start;\r\n",
       "}\r\n",
       "table tr { \r\n",
       "    vertical-align: top; \r\n",
       "    margin: 0em 0px;\r\n",
       "}\r\n",
       "table tr td pre \r\n",
       "{ \r\n",
       "    vertical-align: top !important; \r\n",
       "    margin: 0em 0px !important;\r\n",
       "} \r\n",
       "table th {\r\n",
       "    text-align: start;\r\n",
       "}\r\n",
       "</style>"
      ],
      "text/plain": [
       "\n",
       "If a cell runs forever, you should open an issue on the .NET Interactive GitHub page to get help. The .NET Interactive GitHub page provides a platform to report issues and get help. You can also use the Magic commands to switch cell languages in Jupyter."
      ]
     },
     "metadata": {},
     "output_type": "display_data"
    }
   ],
   "source": [
    "What should I do if a cell runs forever?"
   ]
  },
  {
   "cell_type": "code",
   "execution_count": 17,
   "metadata": {
    "dotnet_interactive": {
     "language": "textCompletion"
    },
    "polyglot_notebook": {
     "kernelName": "textCompletion"
    }
   },
   "outputs": [
    {
     "data": {
      "text/html": [
       "<details open=\"open\" class=\"dni-treeview\"><summary><span class=\"dni-code-hint\"><code>Yes, you can create custom kernels for languages and tools that are not supported by the Jupyter Notebook. .NET Interactive and the Polyglot Notebooks extension allow users to write and execute code in multiple languages in one notebook, and are interoperable with Jupyter and support the .ipynb file...</code></span></summary><div><table><thead><tr></tr></thead><tbody><tr><td>Result</td><td><div class=\"dni-plaintext\"><pre>\n",
       "Yes, you can create custom kernels for languages and tools that are not supported by the Jupyter Notebook. .NET Interactive and the Polyglot Notebooks extension allow users to write and execute code in multiple languages in one notebook, and are interoperable with Jupyter and support the .ipynb file extension. Cells in the same notebook can run in separate processes or on different machines, allowing a notebook to span local and cloud environments in one combined workflow. It also supports mermaid language, javascript, and HTML kernels for creating rich visualizations. JupyterLab is a browser-based frontend for Jupyter kernels, similar to Jupyter Notebook, but more extensible.</pre></div></td></tr><tr><td>ModelResults</td><td><table><thead><tr><th><i>index</i></th><th>value</th></tr></thead><tbody><tr><td>0</td><td><details class=\"dni-treeview\"><summary><span class=\"dni-code-hint\"><code>Microsoft.SemanticKernel.Orchestration.ModelResult</code></span></summary><div><table><thead><tr></tr></thead><tbody></tbody></table></div></details></td></tr></tbody></table></td></tr><tr><td>Culture</td><td><details class=\"dni-treeview\"><summary><span class=\"dni-code-hint\"><code>en</code></span></summary><div><table><thead><tr></tr></thead><tbody><tr><td>Parent</td><td><details class=\"dni-treeview\"><summary><span class=\"dni-code-hint\"><code></code></span></summary><div><table><thead><tr></tr></thead><tbody><tr><td>Parent</td><td><details class=\"dni-treeview\"><summary><span class=\"dni-code-hint\"><code></code></span></summary><div><table><thead><tr></tr></thead><tbody><tr><td>Parent</td><td><details class=\"dni-treeview\"><summary><span class=\"dni-code-hint\"><code></code></span></summary><div><table><thead><tr></tr></thead><tbody><tr><td>Parent</td><td><details class=\"dni-treeview\"><summary><span class=\"dni-code-hint\"><code></code></span></summary><div><table><thead><tr></tr></thead><tbody><tr><td>Parent</td><td></td></tr><tr><td>LCID</td><td>127</td></tr><tr><td>KeyboardLayoutId</td><td>127</td></tr><tr><td>Name</td><td></td></tr><tr><td>IetfLanguageTag</td><td></td></tr><tr><td>DisplayName</td><td>Invariant Language (Invariant Country)</td></tr><tr><td>NativeName</td><td>Invariant Language (Invariant Country)</td></tr><tr><td>EnglishName</td><td>Invariant Language (Invariant Country)</td></tr><tr><td>TwoLetterISOLanguageName</td><td>iv</td></tr><tr><td>ThreeLetterISOLanguageName</td><td>ivl</td></tr><tr><td>ThreeLetterWindowsLanguageName</td><td>IVL</td></tr><tr><td>CompareInfo</td><td>CompareInfo - </td></tr><tr><td>TextInfo</td><td>TextInfo - </td></tr><tr><td>IsNeutralCulture</td><td>False</td></tr><tr><td>CultureTypes</td><td>SpecificCultures, InstalledWin32Cultures</td></tr><tr><td>NumberFormat</td><td>System.Globalization.NumberFormatInfo</td></tr><tr><td>DateTimeFormat</td><td>System.Globalization.DateTimeFormatInfo</td></tr><tr><td>Calendar</td><td>System.Globalization.GregorianCalendar</td></tr><tr><td>OptionalCalendars</td><td>[ System.Globalization.GregorianCalendar ]</td></tr><tr><td>UseUserOverride</td><td>False</td></tr><tr><td>IsReadOnly</td><td>True</td></tr></tbody></table></div></details></td></tr><tr><td>LCID</td><td><div class=\"dni-plaintext\"><pre>127</pre></div></td></tr><tr><td>KeyboardLayoutId</td><td><div class=\"dni-plaintext\"><pre>127</pre></div></td></tr><tr><td>Name</td><td><div class=\"dni-plaintext\"><pre></pre></div></td></tr><tr><td>IetfLanguageTag</td><td><div class=\"dni-plaintext\"><pre></pre></div></td></tr><tr><td>DisplayName</td><td><div class=\"dni-plaintext\"><pre>Invariant Language (Invariant Country)</pre></div></td></tr><tr><td>NativeName</td><td><div class=\"dni-plaintext\"><pre>Invariant Language (Invariant Country)</pre></div></td></tr><tr><td>EnglishName</td><td><div class=\"dni-plaintext\"><pre>Invariant Language (Invariant Country)</pre></div></td></tr><tr><td>TwoLetterISOLanguageName</td><td><div class=\"dni-plaintext\"><pre>iv</pre></div></td></tr><tr><td>ThreeLetterISOLanguageName</td><td><div class=\"dni-plaintext\"><pre>ivl</pre></div></td></tr><tr><td>ThreeLetterWindowsLanguageName</td><td><div class=\"dni-plaintext\"><pre>IVL</pre></div></td></tr><tr><td>CompareInfo</td><td><details class=\"dni-treeview\"><summary><span class=\"dni-code-hint\"><code>CompareInfo -</code></span></summary><div><table><thead><tr></tr></thead><tbody><tr><td>Name</td><td></td></tr><tr><td>Version</td><td>System.Globalization.SortVersion</td></tr><tr><td>LCID</td><td>127</td></tr></tbody></table></div></details></td></tr><tr><td>TextInfo</td><td><details class=\"dni-treeview\"><summary><span class=\"dni-code-hint\"><code>TextInfo -</code></span></summary><div><table><thead><tr></tr></thead><tbody><tr><td>ANSICodePage</td><td>1252</td></tr><tr><td>OEMCodePage</td><td>437</td></tr><tr><td>MacCodePage</td><td>10000</td></tr><tr><td>EBCDICCodePage</td><td>37</td></tr><tr><td>LCID</td><td>127</td></tr><tr><td>CultureName</td><td></td></tr><tr><td>IsReadOnly</td><td>True</td></tr><tr><td>ListSeparator</td><td>,</td></tr><tr><td>IsRightToLeft</td><td>False</td></tr></tbody></table></div></details></td></tr><tr><td>IsNeutralCulture</td><td><div class=\"dni-plaintext\"><pre>False</pre></div></td></tr><tr><td>CultureTypes</td><td><span>SpecificCultures, InstalledWin32Cultures</span></td></tr><tr><td>NumberFormat</td><td><details class=\"dni-treeview\"><summary><span class=\"dni-code-hint\"><code>System.Globalization.NumberFormatInfo</code></span></summary><div><table><thead><tr></tr></thead><tbody><tr><td>CurrencyDecimalDigits</td><td>2</td></tr><tr><td>CurrencyDecimalSeparator</td><td>.</td></tr><tr><td>IsReadOnly</td><td>True</td></tr><tr><td>CurrencyGroupSizes</td><td>[ 3 ]</td></tr><tr><td>NumberGroupSizes</td><td>[ 3 ]</td></tr><tr><td>PercentGroupSizes</td><td>[ 3 ]</td></tr><tr><td>CurrencyGroupSeparator</td><td>,</td></tr><tr><td>CurrencySymbol</td><td>¤</td></tr><tr><td>NaNSymbol</td><td>NaN</td></tr><tr><td>CurrencyNegativePattern</td><td>0</td></tr><tr><td>NumberNegativePattern</td><td>1</td></tr><tr><td>PercentPositivePattern</td><td>0</td></tr><tr><td>PercentNegativePattern</td><td>0</td></tr><tr><td>NegativeInfinitySymbol</td><td>-Infinity</td></tr><tr><td>NegativeSign</td><td>-</td></tr><tr><td>NumberDecimalDigits</td><td>2</td></tr><tr><td>NumberDecimalSeparator</td><td>.</td></tr><tr><td>NumberGroupSeparator</td><td>,</td></tr><tr><td>CurrencyPositivePattern</td><td>0</td></tr><tr><td>PositiveInfinitySymbol</td><td>Infinity</td></tr><tr><td>PositiveSign</td><td>+</td></tr><tr><td>PercentDecimalDigits</td><td>2</td></tr><tr><td>PercentDecimalSeparator</td><td>.</td></tr><tr><td>PercentGroupSeparator</td><td>,</td></tr><tr><td>PercentSymbol</td><td>%</td></tr><tr><td>PerMilleSymbol</td><td>‰</td></tr><tr><td>NativeDigits</td><td>[ 0, 1, 2, 3, 4, 5, 6, 7, 8, 9 ]</td></tr><tr><td>DigitSubstitution</td><td>None</td></tr></tbody></table></div></details></td></tr><tr><td>DateTimeFormat</td><td><details class=\"dni-treeview\"><summary><span class=\"dni-code-hint\"><code>System.Globalization.DateTimeFormatInfo</code></span></summary><div><table><thead><tr></tr></thead><tbody><tr><td>AMDesignator</td><td>AM</td></tr><tr><td>Calendar</td><td>System.Globalization.GregorianCalendar</td></tr><tr><td>DateSeparator</td><td>/</td></tr><tr><td>FirstDayOfWeek</td><td>Sunday</td></tr><tr><td>CalendarWeekRule</td><td>FirstDay</td></tr><tr><td>FullDateTimePattern</td><td>dddd, dd MMMM yyyy HH:mm:ss</td></tr><tr><td>LongDatePattern</td><td>dddd, dd MMMM yyyy</td></tr><tr><td>LongTimePattern</td><td>HH:mm:ss</td></tr><tr><td>MonthDayPattern</td><td>MMMM dd</td></tr><tr><td>PMDesignator</td><td>PM</td></tr><tr><td>RFC1123Pattern</td><td>ddd, dd MMM yyyy HH':'mm':'ss 'GMT'</td></tr><tr><td>ShortDatePattern</td><td>MM/dd/yyyy</td></tr><tr><td>ShortTimePattern</td><td>HH:mm</td></tr><tr><td>SortableDateTimePattern</td><td>yyyy'-'MM'-'dd'T'HH':'mm':'ss</td></tr><tr><td>TimeSeparator</td><td>:</td></tr><tr><td>UniversalSortableDateTimePattern</td><td>yyyy'-'MM'-'dd HH':'mm':'ss'Z'</td></tr><tr><td>YearMonthPattern</td><td>yyyy MMMM</td></tr><tr><td>AbbreviatedDayNames</td><td>[ Sun, Mon, Tue, Wed, Thu, Fri, Sat ]</td></tr><tr><td>ShortestDayNames</td><td>[ Su, Mo, Tu, We, Th, Fr, Sa ]</td></tr><tr><td>DayNames</td><td>[ Sunday, Monday, Tuesday, Wednesday, Thursday, Friday, Saturday ]</td></tr><tr><td>AbbreviatedMonthNames</td><td>[ Jan, Feb, Mar, Apr, May, Jun, Jul, Aug, Sep, Oct, Nov, Dec,  ]</td></tr><tr><td>MonthNames</td><td>[ January, February, March, April, May, June, July, August, September, October, November, December,  ]</td></tr><tr><td>IsReadOnly</td><td>True</td></tr><tr><td>NativeCalendarName</td><td>Gregorian Calendar</td></tr><tr><td>AbbreviatedMonthGenitiveNames</td><td>[ Jan, Feb, Mar, Apr, May, Jun, Jul, Aug, Sep, Oct, Nov, Dec,  ]</td></tr><tr><td>MonthGenitiveNames</td><td>[ January, February, March, April, May, June, July, August, September, October, November, December,  ]</td></tr></tbody></table></div></details></td></tr><tr><td>Calendar</td><td><details class=\"dni-treeview\"><summary><span class=\"dni-code-hint\"><code>System.Globalization.GregorianCalendar</code></span></summary><div><table><thead><tr></tr></thead><tbody><tr><td>MinSupportedDateTime</td><td>1/1/0001 12:00:00 AM</td></tr><tr><td>MaxSupportedDateTime</td><td>12/31/9999 11:59:59 PM</td></tr><tr><td>AlgorithmType</td><td>SolarCalendar</td></tr><tr><td>CalendarType</td><td>Localized</td></tr><tr><td>Eras</td><td>[ 1 ]</td></tr><tr><td>TwoDigitYearMax</td><td>2029</td></tr><tr><td>IsReadOnly</td><td>True</td></tr></tbody></table></div></details></td></tr><tr><td>OptionalCalendars</td><td><table><thead><tr><th><i>index</i></th><th>value</th></tr></thead><tbody><tr><td>0</td><td>System.Globalization.GregorianCalendar</td></tr></tbody></table></td></tr><tr><td>UseUserOverride</td><td><div class=\"dni-plaintext\"><pre>False</pre></div></td></tr><tr><td>IsReadOnly</td><td><div class=\"dni-plaintext\"><pre>True</pre></div></td></tr></tbody></table></div></details></td></tr><tr><td>LCID</td><td><div class=\"dni-plaintext\"><pre>127</pre></div></td></tr><tr><td>KeyboardLayoutId</td><td><div class=\"dni-plaintext\"><pre>127</pre></div></td></tr><tr><td>Name</td><td><div class=\"dni-plaintext\"><pre></pre></div></td></tr><tr><td>IetfLanguageTag</td><td><div class=\"dni-plaintext\"><pre></pre></div></td></tr><tr><td>DisplayName</td><td><div class=\"dni-plaintext\"><pre>Invariant Language (Invariant Country)</pre></div></td></tr><tr><td>NativeName</td><td><div class=\"dni-plaintext\"><pre>Invariant Language (Invariant Country)</pre></div></td></tr><tr><td>EnglishName</td><td><div class=\"dni-plaintext\"><pre>Invariant Language (Invariant Country)</pre></div></td></tr><tr><td>TwoLetterISOLanguageName</td><td><div class=\"dni-plaintext\"><pre>iv</pre></div></td></tr><tr><td>ThreeLetterISOLanguageName</td><td><div class=\"dni-plaintext\"><pre>ivl</pre></div></td></tr><tr><td>ThreeLetterWindowsLanguageName</td><td><div class=\"dni-plaintext\"><pre>IVL</pre></div></td></tr><tr><td>CompareInfo</td><td><details class=\"dni-treeview\"><summary><span class=\"dni-code-hint\"><code>CompareInfo -</code></span></summary><div><table><thead><tr></tr></thead><tbody><tr><td>Name</td><td><div class=\"dni-plaintext\"><pre></pre></div></td></tr><tr><td>Version</td><td><details class=\"dni-treeview\"><summary><span class=\"dni-code-hint\"><code>System.Globalization.SortVersion</code></span></summary><div><table><thead><tr></tr></thead><tbody><tr><td>FullVersion</td><td>26777</td></tr><tr><td>SortId</td><td>00006899-0000-0000-0000-00000000007f</td></tr></tbody></table></div></details></td></tr><tr><td>LCID</td><td><div class=\"dni-plaintext\"><pre>127</pre></div></td></tr></tbody></table></div></details></td></tr><tr><td>TextInfo</td><td><details class=\"dni-treeview\"><summary><span class=\"dni-code-hint\"><code>TextInfo -</code></span></summary><div><table><thead><tr></tr></thead><tbody><tr><td>ANSICodePage</td><td><div class=\"dni-plaintext\"><pre>1252</pre></div></td></tr><tr><td>OEMCodePage</td><td><div class=\"dni-plaintext\"><pre>437</pre></div></td></tr><tr><td>MacCodePage</td><td><div class=\"dni-plaintext\"><pre>10000</pre></div></td></tr><tr><td>EBCDICCodePage</td><td><div class=\"dni-plaintext\"><pre>37</pre></div></td></tr><tr><td>LCID</td><td><div class=\"dni-plaintext\"><pre>127</pre></div></td></tr><tr><td>CultureName</td><td><div class=\"dni-plaintext\"><pre></pre></div></td></tr><tr><td>IsReadOnly</td><td><div class=\"dni-plaintext\"><pre>True</pre></div></td></tr><tr><td>ListSeparator</td><td><div class=\"dni-plaintext\"><pre>,</pre></div></td></tr><tr><td>IsRightToLeft</td><td><div class=\"dni-plaintext\"><pre>False</pre></div></td></tr></tbody></table></div></details></td></tr><tr><td>IsNeutralCulture</td><td><div class=\"dni-plaintext\"><pre>False</pre></div></td></tr><tr><td>CultureTypes</td><td><span>SpecificCultures, InstalledWin32Cultures</span></td></tr><tr><td>NumberFormat</td><td><details class=\"dni-treeview\"><summary><span class=\"dni-code-hint\"><code>System.Globalization.NumberFormatInfo</code></span></summary><div><table><thead><tr></tr></thead><tbody><tr><td>CurrencyDecimalDigits</td><td><div class=\"dni-plaintext\"><pre>2</pre></div></td></tr><tr><td>CurrencyDecimalSeparator</td><td><div class=\"dni-plaintext\"><pre>.</pre></div></td></tr><tr><td>IsReadOnly</td><td><div class=\"dni-plaintext\"><pre>True</pre></div></td></tr><tr><td>CurrencyGroupSizes</td><td><div class=\"dni-plaintext\"><pre>[ 3 ]</pre></div></td></tr><tr><td>NumberGroupSizes</td><td><div class=\"dni-plaintext\"><pre>[ 3 ]</pre></div></td></tr><tr><td>PercentGroupSizes</td><td><div class=\"dni-plaintext\"><pre>[ 3 ]</pre></div></td></tr><tr><td>CurrencyGroupSeparator</td><td><div class=\"dni-plaintext\"><pre>,</pre></div></td></tr><tr><td>CurrencySymbol</td><td><div class=\"dni-plaintext\"><pre>&#164;</pre></div></td></tr><tr><td>NaNSymbol</td><td><div class=\"dni-plaintext\"><pre>NaN</pre></div></td></tr><tr><td>CurrencyNegativePattern</td><td><div class=\"dni-plaintext\"><pre>0</pre></div></td></tr><tr><td>NumberNegativePattern</td><td><div class=\"dni-plaintext\"><pre>1</pre></div></td></tr><tr><td>PercentPositivePattern</td><td><div class=\"dni-plaintext\"><pre>0</pre></div></td></tr><tr><td>PercentNegativePattern</td><td><div class=\"dni-plaintext\"><pre>0</pre></div></td></tr><tr><td>NegativeInfinitySymbol</td><td><div class=\"dni-plaintext\"><pre>-Infinity</pre></div></td></tr><tr><td>NegativeSign</td><td><div class=\"dni-plaintext\"><pre>-</pre></div></td></tr><tr><td>NumberDecimalDigits</td><td><div class=\"dni-plaintext\"><pre>2</pre></div></td></tr><tr><td>NumberDecimalSeparator</td><td><div class=\"dni-plaintext\"><pre>.</pre></div></td></tr><tr><td>NumberGroupSeparator</td><td><div class=\"dni-plaintext\"><pre>,</pre></div></td></tr><tr><td>CurrencyPositivePattern</td><td><div class=\"dni-plaintext\"><pre>0</pre></div></td></tr><tr><td>PositiveInfinitySymbol</td><td><div class=\"dni-plaintext\"><pre>Infinity</pre></div></td></tr><tr><td>PositiveSign</td><td><div class=\"dni-plaintext\"><pre>+</pre></div></td></tr><tr><td>PercentDecimalDigits</td><td><div class=\"dni-plaintext\"><pre>2</pre></div></td></tr><tr><td>PercentDecimalSeparator</td><td><div class=\"dni-plaintext\"><pre>.</pre></div></td></tr><tr><td>PercentGroupSeparator</td><td><div class=\"dni-plaintext\"><pre>,</pre></div></td></tr><tr><td>PercentSymbol</td><td><div class=\"dni-plaintext\"><pre>%</pre></div></td></tr><tr><td>PerMilleSymbol</td><td><div class=\"dni-plaintext\"><pre>‰</pre></div></td></tr><tr><td>NativeDigits</td><td><div class=\"dni-plaintext\"><pre>[ 0, 1, 2, 3, 4, 5, 6, 7, 8, 9 ]</pre></div></td></tr><tr><td>DigitSubstitution</td><td><span>None</span></td></tr></tbody></table></div></details></td></tr><tr><td>DateTimeFormat</td><td><details class=\"dni-treeview\"><summary><span class=\"dni-code-hint\"><code>System.Globalization.DateTimeFormatInfo</code></span></summary><div><table><thead><tr></tr></thead><tbody><tr><td>AMDesignator</td><td><div class=\"dni-plaintext\"><pre>AM</pre></div></td></tr><tr><td>Calendar</td><td><details class=\"dni-treeview\"><summary><span class=\"dni-code-hint\"><code>System.Globalization.GregorianCalendar</code></span></summary><div><table><thead><tr></tr></thead><tbody><tr><td>MinSupportedDateTime</td><td>1/1/0001 12:00:00 AM</td></tr><tr><td>MaxSupportedDateTime</td><td>12/31/9999 11:59:59 PM</td></tr><tr><td>AlgorithmType</td><td>SolarCalendar</td></tr><tr><td>CalendarType</td><td>Localized</td></tr><tr><td>Eras</td><td>[ 1 ]</td></tr><tr><td>TwoDigitYearMax</td><td>2029</td></tr><tr><td>IsReadOnly</td><td>True</td></tr></tbody></table></div></details></td></tr><tr><td>DateSeparator</td><td><div class=\"dni-plaintext\"><pre>/</pre></div></td></tr><tr><td>FirstDayOfWeek</td><td><span>Sunday</span></td></tr><tr><td>CalendarWeekRule</td><td><span>FirstDay</span></td></tr><tr><td>FullDateTimePattern</td><td><div class=\"dni-plaintext\"><pre>dddd, dd MMMM yyyy HH:mm:ss</pre></div></td></tr><tr><td>LongDatePattern</td><td><div class=\"dni-plaintext\"><pre>dddd, dd MMMM yyyy</pre></div></td></tr><tr><td>LongTimePattern</td><td><div class=\"dni-plaintext\"><pre>HH:mm:ss</pre></div></td></tr><tr><td>MonthDayPattern</td><td><div class=\"dni-plaintext\"><pre>MMMM dd</pre></div></td></tr><tr><td>PMDesignator</td><td><div class=\"dni-plaintext\"><pre>PM</pre></div></td></tr><tr><td>RFC1123Pattern</td><td><div class=\"dni-plaintext\"><pre>ddd, dd MMM yyyy HH&#39;:&#39;mm&#39;:&#39;ss &#39;GMT&#39;</pre></div></td></tr><tr><td>ShortDatePattern</td><td><div class=\"dni-plaintext\"><pre>MM/dd/yyyy</pre></div></td></tr><tr><td>ShortTimePattern</td><td><div class=\"dni-plaintext\"><pre>HH:mm</pre></div></td></tr><tr><td>SortableDateTimePattern</td><td><div class=\"dni-plaintext\"><pre>yyyy&#39;-&#39;MM&#39;-&#39;dd&#39;T&#39;HH&#39;:&#39;mm&#39;:&#39;ss</pre></div></td></tr><tr><td>TimeSeparator</td><td><div class=\"dni-plaintext\"><pre>:</pre></div></td></tr><tr><td>UniversalSortableDateTimePattern</td><td><div class=\"dni-plaintext\"><pre>yyyy&#39;-&#39;MM&#39;-&#39;dd HH&#39;:&#39;mm&#39;:&#39;ss&#39;Z&#39;</pre></div></td></tr><tr><td>YearMonthPattern</td><td><div class=\"dni-plaintext\"><pre>yyyy MMMM</pre></div></td></tr><tr><td>AbbreviatedDayNames</td><td><div class=\"dni-plaintext\"><pre>[ Sun, Mon, Tue, Wed, Thu, Fri, Sat ]</pre></div></td></tr><tr><td>ShortestDayNames</td><td><div class=\"dni-plaintext\"><pre>[ Su, Mo, Tu, We, Th, Fr, Sa ]</pre></div></td></tr><tr><td>DayNames</td><td><div class=\"dni-plaintext\"><pre>[ Sunday, Monday, Tuesday, Wednesday, Thursday, Friday, Saturday ]</pre></div></td></tr><tr><td>AbbreviatedMonthNames</td><td><div class=\"dni-plaintext\"><pre>[ Jan, Feb, Mar, Apr, May, Jun, Jul, Aug, Sep, Oct, Nov, Dec,  ]</pre></div></td></tr><tr><td>MonthNames</td><td><div class=\"dni-plaintext\"><pre>[ January, February, March, April, May, June, July, August, September, October, November, December,  ]</pre></div></td></tr><tr><td>IsReadOnly</td><td><div class=\"dni-plaintext\"><pre>True</pre></div></td></tr><tr><td>NativeCalendarName</td><td><div class=\"dni-plaintext\"><pre>Gregorian Calendar</pre></div></td></tr><tr><td>AbbreviatedMonthGenitiveNames</td><td><div class=\"dni-plaintext\"><pre>[ Jan, Feb, Mar, Apr, May, Jun, Jul, Aug, Sep, Oct, Nov, Dec,  ]</pre></div></td></tr><tr><td>MonthGenitiveNames</td><td><div class=\"dni-plaintext\"><pre>[ January, February, March, April, May, June, July, August, September, October, November, December,  ]</pre></div></td></tr></tbody></table></div></details></td></tr><tr><td>Calendar</td><td><details class=\"dni-treeview\"><summary><span class=\"dni-code-hint\"><code>System.Globalization.GregorianCalendar</code></span></summary><div><table><thead><tr></tr></thead><tbody><tr><td>MinSupportedDateTime</td><td><span>0001-01-01 00:00:00Z</span></td></tr><tr><td>MaxSupportedDateTime</td><td><span>9999-12-31 23:59:59Z</span></td></tr><tr><td>AlgorithmType</td><td><span>SolarCalendar</span></td></tr><tr><td>CalendarType</td><td><span>Localized</span></td></tr><tr><td>Eras</td><td><div class=\"dni-plaintext\"><pre>[ 1 ]</pre></div></td></tr><tr><td>TwoDigitYearMax</td><td><div class=\"dni-plaintext\"><pre>2029</pre></div></td></tr><tr><td>IsReadOnly</td><td><div class=\"dni-plaintext\"><pre>True</pre></div></td></tr></tbody></table></div></details></td></tr><tr><td>OptionalCalendars</td><td><table><thead><tr><th><i>index</i></th><th>value</th></tr></thead><tbody><tr><td>0</td><td><details class=\"dni-treeview\"><summary><span class=\"dni-code-hint\"><code>System.Globalization.GregorianCalendar</code></span></summary><div><table><thead><tr></tr></thead><tbody><tr><td>MinSupportedDateTime</td><td>1/1/0001 12:00:00 AM</td></tr><tr><td>MaxSupportedDateTime</td><td>12/31/9999 11:59:59 PM</td></tr><tr><td>AlgorithmType</td><td>SolarCalendar</td></tr><tr><td>CalendarType</td><td>Localized</td></tr><tr><td>Eras</td><td>[ 1 ]</td></tr><tr><td>TwoDigitYearMax</td><td>2029</td></tr><tr><td>IsReadOnly</td><td>False</td></tr></tbody></table></div></details></td></tr></tbody></table></td></tr><tr><td>UseUserOverride</td><td><div class=\"dni-plaintext\"><pre>False</pre></div></td></tr><tr><td>IsReadOnly</td><td><div class=\"dni-plaintext\"><pre>True</pre></div></td></tr></tbody></table></div></details></td></tr><tr><td>LCID</td><td><div class=\"dni-plaintext\"><pre>127</pre></div></td></tr><tr><td>KeyboardLayoutId</td><td><div class=\"dni-plaintext\"><pre>127</pre></div></td></tr><tr><td>Name</td><td><div class=\"dni-plaintext\"><pre></pre></div></td></tr><tr><td>IetfLanguageTag</td><td><div class=\"dni-plaintext\"><pre></pre></div></td></tr><tr><td>DisplayName</td><td><div class=\"dni-plaintext\"><pre>Invariant Language (Invariant Country)</pre></div></td></tr><tr><td>NativeName</td><td><div class=\"dni-plaintext\"><pre>Invariant Language (Invariant Country)</pre></div></td></tr><tr><td>EnglishName</td><td><div class=\"dni-plaintext\"><pre>Invariant Language (Invariant Country)</pre></div></td></tr><tr><td>TwoLetterISOLanguageName</td><td><div class=\"dni-plaintext\"><pre>iv</pre></div></td></tr><tr><td>ThreeLetterISOLanguageName</td><td><div class=\"dni-plaintext\"><pre>ivl</pre></div></td></tr><tr><td>ThreeLetterWindowsLanguageName</td><td><div class=\"dni-plaintext\"><pre>IVL</pre></div></td></tr><tr><td>CompareInfo</td><td><details class=\"dni-treeview\"><summary><span class=\"dni-code-hint\"><code>CompareInfo -</code></span></summary><div><table><thead><tr></tr></thead><tbody><tr><td>Name</td><td><div class=\"dni-plaintext\"><pre></pre></div></td></tr><tr><td>Version</td><td><details class=\"dni-treeview\"><summary><span class=\"dni-code-hint\"><code>System.Globalization.SortVersion</code></span></summary><div><table><thead><tr></tr></thead><tbody><tr><td>FullVersion</td><td><div class=\"dni-plaintext\"><pre>26777</pre></div></td></tr><tr><td>SortId</td><td><div class=\"dni-plaintext\"><pre>00006899-0000-0000-0000-00000000007f</pre></div></td></tr></tbody></table></div></details></td></tr><tr><td>LCID</td><td><div class=\"dni-plaintext\"><pre>127</pre></div></td></tr></tbody></table></div></details></td></tr><tr><td>TextInfo</td><td><details class=\"dni-treeview\"><summary><span class=\"dni-code-hint\"><code>TextInfo -</code></span></summary><div><table><thead><tr></tr></thead><tbody><tr><td>ANSICodePage</td><td><div class=\"dni-plaintext\"><pre>1252</pre></div></td></tr><tr><td>OEMCodePage</td><td><div class=\"dni-plaintext\"><pre>437</pre></div></td></tr><tr><td>MacCodePage</td><td><div class=\"dni-plaintext\"><pre>10000</pre></div></td></tr><tr><td>EBCDICCodePage</td><td><div class=\"dni-plaintext\"><pre>37</pre></div></td></tr><tr><td>LCID</td><td><div class=\"dni-plaintext\"><pre>127</pre></div></td></tr><tr><td>CultureName</td><td><div class=\"dni-plaintext\"><pre></pre></div></td></tr><tr><td>IsReadOnly</td><td><div class=\"dni-plaintext\"><pre>True</pre></div></td></tr><tr><td>ListSeparator</td><td><div class=\"dni-plaintext\"><pre>,</pre></div></td></tr><tr><td>IsRightToLeft</td><td><div class=\"dni-plaintext\"><pre>False</pre></div></td></tr></tbody></table></div></details></td></tr><tr><td>IsNeutralCulture</td><td><div class=\"dni-plaintext\"><pre>False</pre></div></td></tr><tr><td>CultureTypes</td><td><span>SpecificCultures, InstalledWin32Cultures</span></td></tr><tr><td>NumberFormat</td><td><details class=\"dni-treeview\"><summary><span class=\"dni-code-hint\"><code>System.Globalization.NumberFormatInfo</code></span></summary><div><table><thead><tr></tr></thead><tbody><tr><td>CurrencyDecimalDigits</td><td><div class=\"dni-plaintext\"><pre>2</pre></div></td></tr><tr><td>CurrencyDecimalSeparator</td><td><div class=\"dni-plaintext\"><pre>.</pre></div></td></tr><tr><td>IsReadOnly</td><td><div class=\"dni-plaintext\"><pre>True</pre></div></td></tr><tr><td>CurrencyGroupSizes</td><td><div class=\"dni-plaintext\"><pre>[ 3 ]</pre></div></td></tr><tr><td>NumberGroupSizes</td><td><div class=\"dni-plaintext\"><pre>[ 3 ]</pre></div></td></tr><tr><td>PercentGroupSizes</td><td><div class=\"dni-plaintext\"><pre>[ 3 ]</pre></div></td></tr><tr><td>CurrencyGroupSeparator</td><td><div class=\"dni-plaintext\"><pre>,</pre></div></td></tr><tr><td>CurrencySymbol</td><td><div class=\"dni-plaintext\"><pre>&#164;</pre></div></td></tr><tr><td>NaNSymbol</td><td><div class=\"dni-plaintext\"><pre>NaN</pre></div></td></tr><tr><td>CurrencyNegativePattern</td><td><div class=\"dni-plaintext\"><pre>0</pre></div></td></tr><tr><td>NumberNegativePattern</td><td><div class=\"dni-plaintext\"><pre>1</pre></div></td></tr><tr><td>PercentPositivePattern</td><td><div class=\"dni-plaintext\"><pre>0</pre></div></td></tr><tr><td>PercentNegativePattern</td><td><div class=\"dni-plaintext\"><pre>0</pre></div></td></tr><tr><td>NegativeInfinitySymbol</td><td><div class=\"dni-plaintext\"><pre>-Infinity</pre></div></td></tr><tr><td>NegativeSign</td><td><div class=\"dni-plaintext\"><pre>-</pre></div></td></tr><tr><td>NumberDecimalDigits</td><td><div class=\"dni-plaintext\"><pre>2</pre></div></td></tr><tr><td>NumberDecimalSeparator</td><td><div class=\"dni-plaintext\"><pre>.</pre></div></td></tr><tr><td>NumberGroupSeparator</td><td><div class=\"dni-plaintext\"><pre>,</pre></div></td></tr><tr><td>CurrencyPositivePattern</td><td><div class=\"dni-plaintext\"><pre>0</pre></div></td></tr><tr><td>PositiveInfinitySymbol</td><td><div class=\"dni-plaintext\"><pre>Infinity</pre></div></td></tr><tr><td>PositiveSign</td><td><div class=\"dni-plaintext\"><pre>+</pre></div></td></tr><tr><td>PercentDecimalDigits</td><td><div class=\"dni-plaintext\"><pre>2</pre></div></td></tr><tr><td>PercentDecimalSeparator</td><td><div class=\"dni-plaintext\"><pre>.</pre></div></td></tr><tr><td>PercentGroupSeparator</td><td><div class=\"dni-plaintext\"><pre>,</pre></div></td></tr><tr><td>PercentSymbol</td><td><div class=\"dni-plaintext\"><pre>%</pre></div></td></tr><tr><td>PerMilleSymbol</td><td><div class=\"dni-plaintext\"><pre>‰</pre></div></td></tr><tr><td>NativeDigits</td><td><div class=\"dni-plaintext\"><pre>[ 0, 1, 2, 3, 4, 5, 6, 7, 8, 9 ]</pre></div></td></tr><tr><td>DigitSubstitution</td><td><span>None</span></td></tr></tbody></table></div></details></td></tr><tr><td>DateTimeFormat</td><td><details class=\"dni-treeview\"><summary><span class=\"dni-code-hint\"><code>System.Globalization.DateTimeFormatInfo</code></span></summary><div><table><thead><tr></tr></thead><tbody><tr><td>AMDesignator</td><td><div class=\"dni-plaintext\"><pre>AM</pre></div></td></tr><tr><td>Calendar</td><td><details class=\"dni-treeview\"><summary><span class=\"dni-code-hint\"><code>System.Globalization.GregorianCalendar</code></span></summary><div><table><thead><tr></tr></thead><tbody><tr><td>MinSupportedDateTime</td><td><span>0001-01-01 00:00:00Z</span></td></tr><tr><td>MaxSupportedDateTime</td><td><span>9999-12-31 23:59:59Z</span></td></tr><tr><td>AlgorithmType</td><td><span>SolarCalendar</span></td></tr><tr><td>CalendarType</td><td><span>Localized</span></td></tr><tr><td>Eras</td><td><div class=\"dni-plaintext\"><pre>[ 1 ]</pre></div></td></tr><tr><td>TwoDigitYearMax</td><td><div class=\"dni-plaintext\"><pre>2029</pre></div></td></tr><tr><td>IsReadOnly</td><td><div class=\"dni-plaintext\"><pre>True</pre></div></td></tr></tbody></table></div></details></td></tr><tr><td>DateSeparator</td><td><div class=\"dni-plaintext\"><pre>/</pre></div></td></tr><tr><td>FirstDayOfWeek</td><td><span>Sunday</span></td></tr><tr><td>CalendarWeekRule</td><td><span>FirstDay</span></td></tr><tr><td>FullDateTimePattern</td><td><div class=\"dni-plaintext\"><pre>dddd, dd MMMM yyyy HH:mm:ss</pre></div></td></tr><tr><td>LongDatePattern</td><td><div class=\"dni-plaintext\"><pre>dddd, dd MMMM yyyy</pre></div></td></tr><tr><td>LongTimePattern</td><td><div class=\"dni-plaintext\"><pre>HH:mm:ss</pre></div></td></tr><tr><td>MonthDayPattern</td><td><div class=\"dni-plaintext\"><pre>MMMM dd</pre></div></td></tr><tr><td>PMDesignator</td><td><div class=\"dni-plaintext\"><pre>PM</pre></div></td></tr><tr><td>RFC1123Pattern</td><td><div class=\"dni-plaintext\"><pre>ddd, dd MMM yyyy HH&#39;:&#39;mm&#39;:&#39;ss &#39;GMT&#39;</pre></div></td></tr><tr><td>ShortDatePattern</td><td><div class=\"dni-plaintext\"><pre>MM/dd/yyyy</pre></div></td></tr><tr><td>ShortTimePattern</td><td><div class=\"dni-plaintext\"><pre>HH:mm</pre></div></td></tr><tr><td>SortableDateTimePattern</td><td><div class=\"dni-plaintext\"><pre>yyyy&#39;-&#39;MM&#39;-&#39;dd&#39;T&#39;HH&#39;:&#39;mm&#39;:&#39;ss</pre></div></td></tr><tr><td>TimeSeparator</td><td><div class=\"dni-plaintext\"><pre>:</pre></div></td></tr><tr><td>UniversalSortableDateTimePattern</td><td><div class=\"dni-plaintext\"><pre>yyyy&#39;-&#39;MM&#39;-&#39;dd HH&#39;:&#39;mm&#39;:&#39;ss&#39;Z&#39;</pre></div></td></tr><tr><td>YearMonthPattern</td><td><div class=\"dni-plaintext\"><pre>yyyy MMMM</pre></div></td></tr><tr><td>AbbreviatedDayNames</td><td><div class=\"dni-plaintext\"><pre>[ Sun, Mon, Tue, Wed, Thu, Fri, Sat ]</pre></div></td></tr><tr><td>ShortestDayNames</td><td><div class=\"dni-plaintext\"><pre>[ Su, Mo, Tu, We, Th, Fr, Sa ]</pre></div></td></tr><tr><td>DayNames</td><td><div class=\"dni-plaintext\"><pre>[ Sunday, Monday, Tuesday, Wednesday, Thursday, Friday, Saturday ]</pre></div></td></tr><tr><td>AbbreviatedMonthNames</td><td><div class=\"dni-plaintext\"><pre>[ Jan, Feb, Mar, Apr, May, Jun, Jul, Aug, Sep, Oct, Nov, Dec,  ]</pre></div></td></tr><tr><td>MonthNames</td><td><div class=\"dni-plaintext\"><pre>[ January, February, March, April, May, June, July, August, September, October, November, December,  ]</pre></div></td></tr><tr><td>IsReadOnly</td><td><div class=\"dni-plaintext\"><pre>True</pre></div></td></tr><tr><td>NativeCalendarName</td><td><div class=\"dni-plaintext\"><pre>Gregorian Calendar</pre></div></td></tr><tr><td>AbbreviatedMonthGenitiveNames</td><td><div class=\"dni-plaintext\"><pre>[ Jan, Feb, Mar, Apr, May, Jun, Jul, Aug, Sep, Oct, Nov, Dec,  ]</pre></div></td></tr><tr><td>MonthGenitiveNames</td><td><div class=\"dni-plaintext\"><pre>[ January, February, March, April, May, June, July, August, September, October, November, December,  ]</pre></div></td></tr></tbody></table></div></details></td></tr><tr><td>Calendar</td><td><details class=\"dni-treeview\"><summary><span class=\"dni-code-hint\"><code>System.Globalization.GregorianCalendar</code></span></summary><div><table><thead><tr></tr></thead><tbody><tr><td>MinSupportedDateTime</td><td><span>0001-01-01 00:00:00Z</span></td></tr><tr><td>MaxSupportedDateTime</td><td><span>9999-12-31 23:59:59Z</span></td></tr><tr><td>AlgorithmType</td><td><span>SolarCalendar</span></td></tr><tr><td>CalendarType</td><td><span>Localized</span></td></tr><tr><td>Eras</td><td><div class=\"dni-plaintext\"><pre>[ 1 ]</pre></div></td></tr><tr><td>TwoDigitYearMax</td><td><div class=\"dni-plaintext\"><pre>2029</pre></div></td></tr><tr><td>IsReadOnly</td><td><div class=\"dni-plaintext\"><pre>True</pre></div></td></tr></tbody></table></div></details></td></tr><tr><td>OptionalCalendars</td><td><table><thead><tr><th><i>index</i></th><th>value</th></tr></thead><tbody><tr><td>0</td><td><details class=\"dni-treeview\"><summary><span class=\"dni-code-hint\"><code>System.Globalization.GregorianCalendar</code></span></summary><div><table><thead><tr></tr></thead><tbody><tr><td>MinSupportedDateTime</td><td><span>0001-01-01 00:00:00Z</span></td></tr><tr><td>MaxSupportedDateTime</td><td><span>9999-12-31 23:59:59Z</span></td></tr><tr><td>AlgorithmType</td><td><span>SolarCalendar</span></td></tr><tr><td>CalendarType</td><td><span>Localized</span></td></tr><tr><td>Eras</td><td><div class=\"dni-plaintext\"><pre>[ 1 ]</pre></div></td></tr><tr><td>TwoDigitYearMax</td><td><div class=\"dni-plaintext\"><pre>2029</pre></div></td></tr><tr><td>IsReadOnly</td><td><div class=\"dni-plaintext\"><pre>False</pre></div></td></tr></tbody></table></div></details></td></tr></tbody></table></td></tr><tr><td>UseUserOverride</td><td><div class=\"dni-plaintext\"><pre>False</pre></div></td></tr><tr><td>IsReadOnly</td><td><div class=\"dni-plaintext\"><pre>True</pre></div></td></tr></tbody></table></div></details></td></tr><tr><td>LCID</td><td><div class=\"dni-plaintext\"><pre>9</pre></div></td></tr><tr><td>KeyboardLayoutId</td><td><div class=\"dni-plaintext\"><pre>9</pre></div></td></tr><tr><td>Name</td><td><div class=\"dni-plaintext\"><pre>en</pre></div></td></tr><tr><td>IetfLanguageTag</td><td><div class=\"dni-plaintext\"><pre>en</pre></div></td></tr><tr><td>DisplayName</td><td><div class=\"dni-plaintext\"><pre>English</pre></div></td></tr><tr><td>NativeName</td><td><div class=\"dni-plaintext\"><pre>English</pre></div></td></tr><tr><td>EnglishName</td><td><div class=\"dni-plaintext\"><pre>English</pre></div></td></tr><tr><td>TwoLetterISOLanguageName</td><td><div class=\"dni-plaintext\"><pre>en</pre></div></td></tr><tr><td>ThreeLetterISOLanguageName</td><td><div class=\"dni-plaintext\"><pre>eng</pre></div></td></tr><tr><td>ThreeLetterWindowsLanguageName</td><td><div class=\"dni-plaintext\"><pre>ENU</pre></div></td></tr><tr><td>CompareInfo</td><td><details class=\"dni-treeview\"><summary><span class=\"dni-code-hint\"><code>CompareInfo - en</code></span></summary><div><table><thead><tr></tr></thead><tbody><tr><td>Name</td><td><div class=\"dni-plaintext\"><pre>en</pre></div></td></tr><tr><td>Version</td><td><details class=\"dni-treeview\"><summary><span class=\"dni-code-hint\"><code>System.Globalization.SortVersion</code></span></summary><div><table><thead><tr></tr></thead><tbody><tr><td>FullVersion</td><td><div class=\"dni-plaintext\"><pre>26777</pre></div></td></tr><tr><td>SortId</td><td><div class=\"dni-plaintext\"><pre>00006899-0000-0000-0000-000000000009</pre></div></td></tr></tbody></table></div></details></td></tr><tr><td>LCID</td><td><div class=\"dni-plaintext\"><pre>9</pre></div></td></tr></tbody></table></div></details></td></tr><tr><td>TextInfo</td><td><details class=\"dni-treeview\"><summary><span class=\"dni-code-hint\"><code>TextInfo - en</code></span></summary><div><table><thead><tr></tr></thead><tbody><tr><td>ANSICodePage</td><td><div class=\"dni-plaintext\"><pre>1252</pre></div></td></tr><tr><td>OEMCodePage</td><td><div class=\"dni-plaintext\"><pre>437</pre></div></td></tr><tr><td>MacCodePage</td><td><div class=\"dni-plaintext\"><pre>10000</pre></div></td></tr><tr><td>EBCDICCodePage</td><td><div class=\"dni-plaintext\"><pre>37</pre></div></td></tr><tr><td>LCID</td><td><div class=\"dni-plaintext\"><pre>9</pre></div></td></tr><tr><td>CultureName</td><td><div class=\"dni-plaintext\"><pre>en</pre></div></td></tr><tr><td>IsReadOnly</td><td><div class=\"dni-plaintext\"><pre>False</pre></div></td></tr><tr><td>ListSeparator</td><td><div class=\"dni-plaintext\"><pre>,</pre></div></td></tr><tr><td>IsRightToLeft</td><td><div class=\"dni-plaintext\"><pre>False</pre></div></td></tr></tbody></table></div></details></td></tr><tr><td>IsNeutralCulture</td><td><div class=\"dni-plaintext\"><pre>True</pre></div></td></tr><tr><td>CultureTypes</td><td><span>NeutralCultures, InstalledWin32Cultures</span></td></tr><tr><td>NumberFormat</td><td><details class=\"dni-treeview\"><summary><span class=\"dni-code-hint\"><code>System.Globalization.NumberFormatInfo</code></span></summary><div><table><thead><tr></tr></thead><tbody><tr><td>CurrencyDecimalDigits</td><td><div class=\"dni-plaintext\"><pre>2</pre></div></td></tr><tr><td>CurrencyDecimalSeparator</td><td><div class=\"dni-plaintext\"><pre>.</pre></div></td></tr><tr><td>IsReadOnly</td><td><div class=\"dni-plaintext\"><pre>False</pre></div></td></tr><tr><td>CurrencyGroupSizes</td><td><div class=\"dni-plaintext\"><pre>[ 3 ]</pre></div></td></tr><tr><td>NumberGroupSizes</td><td><div class=\"dni-plaintext\"><pre>[ 3 ]</pre></div></td></tr><tr><td>PercentGroupSizes</td><td><div class=\"dni-plaintext\"><pre>[ 3 ]</pre></div></td></tr><tr><td>CurrencyGroupSeparator</td><td><div class=\"dni-plaintext\"><pre>,</pre></div></td></tr><tr><td>CurrencySymbol</td><td><div class=\"dni-plaintext\"><pre>&#164;</pre></div></td></tr><tr><td>NaNSymbol</td><td><div class=\"dni-plaintext\"><pre>NaN</pre></div></td></tr><tr><td>CurrencyNegativePattern</td><td><div class=\"dni-plaintext\"><pre>1</pre></div></td></tr><tr><td>NumberNegativePattern</td><td><div class=\"dni-plaintext\"><pre>1</pre></div></td></tr><tr><td>PercentPositivePattern</td><td><div class=\"dni-plaintext\"><pre>1</pre></div></td></tr><tr><td>PercentNegativePattern</td><td><div class=\"dni-plaintext\"><pre>1</pre></div></td></tr><tr><td>NegativeInfinitySymbol</td><td><div class=\"dni-plaintext\"><pre>-∞</pre></div></td></tr><tr><td>NegativeSign</td><td><div class=\"dni-plaintext\"><pre>-</pre></div></td></tr><tr><td>NumberDecimalDigits</td><td><div class=\"dni-plaintext\"><pre>3</pre></div></td></tr><tr><td>NumberDecimalSeparator</td><td><div class=\"dni-plaintext\"><pre>.</pre></div></td></tr><tr><td>NumberGroupSeparator</td><td><div class=\"dni-plaintext\"><pre>,</pre></div></td></tr><tr><td>CurrencyPositivePattern</td><td><div class=\"dni-plaintext\"><pre>0</pre></div></td></tr><tr><td>PositiveInfinitySymbol</td><td><div class=\"dni-plaintext\"><pre>∞</pre></div></td></tr><tr><td>PositiveSign</td><td><div class=\"dni-plaintext\"><pre>+</pre></div></td></tr><tr><td>PercentDecimalDigits</td><td><div class=\"dni-plaintext\"><pre>3</pre></div></td></tr><tr><td>PercentDecimalSeparator</td><td><div class=\"dni-plaintext\"><pre>.</pre></div></td></tr><tr><td>PercentGroupSeparator</td><td><div class=\"dni-plaintext\"><pre>,</pre></div></td></tr><tr><td>PercentSymbol</td><td><div class=\"dni-plaintext\"><pre>%</pre></div></td></tr><tr><td>PerMilleSymbol</td><td><div class=\"dni-plaintext\"><pre>‰</pre></div></td></tr><tr><td>NativeDigits</td><td><div class=\"dni-plaintext\"><pre>[ 0, 1, 2, 3, 4, 5, 6, 7, 8, 9 ]</pre></div></td></tr><tr><td>DigitSubstitution</td><td><span>None</span></td></tr></tbody></table></div></details></td></tr><tr><td>DateTimeFormat</td><td><details class=\"dni-treeview\"><summary><span class=\"dni-code-hint\"><code>System.Globalization.DateTimeFormatInfo</code></span></summary><div><table><thead><tr></tr></thead><tbody><tr><td>AMDesignator</td><td><div class=\"dni-plaintext\"><pre>AM</pre></div></td></tr><tr><td>Calendar</td><td><details class=\"dni-treeview\"><summary><span class=\"dni-code-hint\"><code>System.Globalization.GregorianCalendar</code></span></summary><div><table><thead><tr></tr></thead><tbody><tr><td>MinSupportedDateTime</td><td><span>0001-01-01 00:00:00Z</span></td></tr><tr><td>MaxSupportedDateTime</td><td><span>9999-12-31 23:59:59Z</span></td></tr><tr><td>AlgorithmType</td><td><span>SolarCalendar</span></td></tr><tr><td>CalendarType</td><td><span>Localized</span></td></tr><tr><td>Eras</td><td><div class=\"dni-plaintext\"><pre>[ 1 ]</pre></div></td></tr><tr><td>TwoDigitYearMax</td><td><div class=\"dni-plaintext\"><pre>2029</pre></div></td></tr><tr><td>IsReadOnly</td><td><div class=\"dni-plaintext\"><pre>False</pre></div></td></tr></tbody></table></div></details></td></tr><tr><td>DateSeparator</td><td><div class=\"dni-plaintext\"><pre>/</pre></div></td></tr><tr><td>FirstDayOfWeek</td><td><span>Sunday</span></td></tr><tr><td>CalendarWeekRule</td><td><span>FirstDay</span></td></tr><tr><td>FullDateTimePattern</td><td><div class=\"dni-plaintext\"><pre>dddd, MMMM d, yyyy h:mm:ss tt</pre></div></td></tr><tr><td>LongDatePattern</td><td><div class=\"dni-plaintext\"><pre>dddd, MMMM d, yyyy</pre></div></td></tr><tr><td>LongTimePattern</td><td><div class=\"dni-plaintext\"><pre>h:mm:ss tt</pre></div></td></tr><tr><td>MonthDayPattern</td><td><div class=\"dni-plaintext\"><pre>MMMM d</pre></div></td></tr><tr><td>PMDesignator</td><td><div class=\"dni-plaintext\"><pre>PM</pre></div></td></tr><tr><td>RFC1123Pattern</td><td><div class=\"dni-plaintext\"><pre>ddd, dd MMM yyyy HH&#39;:&#39;mm&#39;:&#39;ss &#39;GMT&#39;</pre></div></td></tr><tr><td>ShortDatePattern</td><td><div class=\"dni-plaintext\"><pre>M/d/yyyy</pre></div></td></tr><tr><td>ShortTimePattern</td><td><div class=\"dni-plaintext\"><pre>h:mm tt</pre></div></td></tr><tr><td>SortableDateTimePattern</td><td><div class=\"dni-plaintext\"><pre>yyyy&#39;-&#39;MM&#39;-&#39;dd&#39;T&#39;HH&#39;:&#39;mm&#39;:&#39;ss</pre></div></td></tr><tr><td>TimeSeparator</td><td><div class=\"dni-plaintext\"><pre>:</pre></div></td></tr><tr><td>UniversalSortableDateTimePattern</td><td><div class=\"dni-plaintext\"><pre>yyyy&#39;-&#39;MM&#39;-&#39;dd HH&#39;:&#39;mm&#39;:&#39;ss&#39;Z&#39;</pre></div></td></tr><tr><td>YearMonthPattern</td><td><div class=\"dni-plaintext\"><pre>MMMM yyyy</pre></div></td></tr><tr><td>AbbreviatedDayNames</td><td><div class=\"dni-plaintext\"><pre>[ Sun, Mon, Tue, Wed, Thu, Fri, Sat ]</pre></div></td></tr><tr><td>ShortestDayNames</td><td><div class=\"dni-plaintext\"><pre>[ S, M, T, W, T, F, S ]</pre></div></td></tr><tr><td>DayNames</td><td><div class=\"dni-plaintext\"><pre>[ Sunday, Monday, Tuesday, Wednesday, Thursday, Friday, Saturday ]</pre></div></td></tr><tr><td>AbbreviatedMonthNames</td><td><div class=\"dni-plaintext\"><pre>[ Jan, Feb, Mar, Apr, May, Jun, Jul, Aug, Sep, Oct, Nov, Dec,  ]</pre></div></td></tr><tr><td>MonthNames</td><td><div class=\"dni-plaintext\"><pre>[ January, February, March, April, May, June, July, August, September, October, November, December,  ]</pre></div></td></tr><tr><td>IsReadOnly</td><td><div class=\"dni-plaintext\"><pre>False</pre></div></td></tr><tr><td>NativeCalendarName</td><td><div class=\"dni-plaintext\"><pre>Gregorian Calendar</pre></div></td></tr><tr><td>AbbreviatedMonthGenitiveNames</td><td><div class=\"dni-plaintext\"><pre>[ Jan, Feb, Mar, Apr, May, Jun, Jul, Aug, Sep, Oct, Nov, Dec,  ]</pre></div></td></tr><tr><td>MonthGenitiveNames</td><td><div class=\"dni-plaintext\"><pre>[ January, February, March, April, May, June, July, August, September, October, November, December,  ]</pre></div></td></tr></tbody></table></div></details></td></tr><tr><td>Calendar</td><td><details class=\"dni-treeview\"><summary><span class=\"dni-code-hint\"><code>System.Globalization.GregorianCalendar</code></span></summary><div><table><thead><tr></tr></thead><tbody><tr><td>MinSupportedDateTime</td><td><span>0001-01-01 00:00:00Z</span></td></tr><tr><td>MaxSupportedDateTime</td><td><span>9999-12-31 23:59:59Z</span></td></tr><tr><td>AlgorithmType</td><td><span>SolarCalendar</span></td></tr><tr><td>CalendarType</td><td><span>Localized</span></td></tr><tr><td>Eras</td><td><div class=\"dni-plaintext\"><pre>[ 1 ]</pre></div></td></tr><tr><td>TwoDigitYearMax</td><td><div class=\"dni-plaintext\"><pre>2029</pre></div></td></tr><tr><td>IsReadOnly</td><td><div class=\"dni-plaintext\"><pre>False</pre></div></td></tr></tbody></table></div></details></td></tr><tr><td>OptionalCalendars</td><td><table><thead><tr><th><i>index</i></th><th>value</th></tr></thead><tbody><tr><td>0</td><td><details class=\"dni-treeview\"><summary><span class=\"dni-code-hint\"><code>System.Globalization.GregorianCalendar</code></span></summary><div><table><thead><tr></tr></thead><tbody><tr><td>MinSupportedDateTime</td><td><span>0001-01-01 00:00:00Z</span></td></tr><tr><td>MaxSupportedDateTime</td><td><span>9999-12-31 23:59:59Z</span></td></tr><tr><td>AlgorithmType</td><td><span>SolarCalendar</span></td></tr><tr><td>CalendarType</td><td><span>Localized</span></td></tr><tr><td>Eras</td><td><div class=\"dni-plaintext\"><pre>[ 1 ]</pre></div></td></tr><tr><td>TwoDigitYearMax</td><td><div class=\"dni-plaintext\"><pre>2029</pre></div></td></tr><tr><td>IsReadOnly</td><td><div class=\"dni-plaintext\"><pre>False</pre></div></td></tr></tbody></table></div></details></td></tr></tbody></table></td></tr><tr><td>UseUserOverride</td><td><div class=\"dni-plaintext\"><pre>True</pre></div></td></tr><tr><td>IsReadOnly</td><td><div class=\"dni-plaintext\"><pre>False</pre></div></td></tr></tbody></table></div></details></td></tr><tr><td>Variables</td><td><table><thead><tr><th><i>key</i></th><th>value</th></tr></thead><tbody><tr><td><div class=\"dni-plaintext\"><pre>INPUT</pre></div></td><td><div class=\"dni-plaintext\"><pre>\n",
       "Yes, you can create custom kernels for languages and tools that are not supported by the Jupyter Notebook. .NET Interactive and the Polyglot Notebooks extension allow users to write and execute code in multiple languages in one notebook, and are interoperable with Jupyter and support the .ipynb file extension. Cells in the same notebook can run in separate processes or on different machines, allowing a notebook to span local and cloud environments in one combined workflow. It also supports mermaid language, javascript, and HTML kernels for creating rich visualizations. JupyterLab is a browser-based frontend for Jupyter kernels, similar to Jupyter Notebook, but more extensible.</pre></div></td></tr></tbody></table></td></tr><tr><td>Skills</td><td><details class=\"dni-treeview\"><summary><span class=\"dni-code-hint\"><code>Microsoft.SemanticKernel.SkillDefinition.SkillCollection</code></span></summary><div><table><thead><tr></tr></thead><tbody></tbody></table></div></details></td></tr><tr><td>LoggerFactory</td><td><details class=\"dni-treeview\"><summary><span class=\"dni-code-hint\"><code>Microsoft.Extensions.Logging.LoggerFactory</code></span></summary><div><table><thead><tr></tr></thead><tbody></tbody></table></div></details></td></tr><tr><td>ErrorOccurred</td><td><div class=\"dni-plaintext\"><pre>False</pre></div></td></tr><tr><td>LastException</td><td><div class=\"dni-plaintext\"><pre>&lt;null&gt;</pre></div></td></tr><tr><td>Log</td><td><details class=\"dni-treeview\"><summary><span class=\"dni-code-hint\"><code>Microsoft.Extensions.Logging.Logger`1[Microsoft.SemanticKernel.Orchestration.SKContext]</code></span></summary><div><table><thead><tr></tr></thead><tbody></tbody></table></div></details></td></tr><tr><td>CancellationToken</td><td><details class=\"dni-treeview\"><summary><span class=\"dni-code-hint\"><code>System.Threading.CancellationToken</code></span></summary><div><table><thead><tr></tr></thead><tbody><tr><td>IsCancellationRequested</td><td><div class=\"dni-plaintext\"><pre>False</pre></div></td></tr><tr><td>CanBeCanceled</td><td><div class=\"dni-plaintext\"><pre>False</pre></div></td></tr><tr><td>WaitHandle</td><td><details class=\"dni-treeview\"><summary><span class=\"dni-code-hint\"><code>System.Threading.ManualResetEvent</code></span></summary><div><table><thead><tr></tr></thead><tbody><tr><td>Handle</td><td><div class=\"dni-plaintext\"><pre>3284</pre></div></td></tr><tr><td>SafeWaitHandle</td><td><details class=\"dni-treeview\"><summary><span class=\"dni-code-hint\"><code>Microsoft.Win32.SafeHandles.SafeWaitHandle</code></span></summary><div><table><thead><tr></tr></thead><tbody><tr><td>IsInvalid</td><td><div class=\"dni-plaintext\"><pre>False</pre></div></td></tr><tr><td>IsClosed</td><td><div class=\"dni-plaintext\"><pre>False</pre></div></td></tr></tbody></table></div></details></td></tr></tbody></table></div></details></td></tr></tbody></table></div></details></td></tr><tr><td>Memory</td><td><details class=\"dni-treeview\"><summary><span class=\"dni-code-hint\"><code>System.InvalidOperationException: Memory no longer passed through SKContext. Instead, initialize your skill class with the memory provider it needs.\\r\\n   at Microsoft.SemanticKernel.Orchestration.SKContext.get_Memory()\\r\\n   at lambda_method420(Closure, SKContext)\\r\\n   at Microsoft.DotNet.Interact...</code></span></summary><div><table><thead><tr></tr></thead><tbody><tr><td>TargetSite</td><td><details class=\"dni-treeview\"><summary><span class=\"dni-code-hint\"><code>Microsoft.SemanticKernel.Memory.ISemanticTextMemory get_Memory()</code></span></summary><div><table><thead><tr></tr></thead><tbody><tr><td>Name</td><td><div class=\"dni-plaintext\"><pre>get_Memory</pre></div></td></tr><tr><td>DeclaringType</td><td><span><a href=\"https://docs.microsoft.com/dotnet/api/microsoft.semantickernel.orchestration.skcontext?view=net-7.0\">Microsoft.SemanticKernel.Orchestration.SKContext</a></span></td></tr><tr><td>ReflectedType</td><td><span><a href=\"https://docs.microsoft.com/dotnet/api/microsoft.semantickernel.orchestration.skcontext?view=net-7.0\">Microsoft.SemanticKernel.Orchestration.SKContext</a></span></td></tr><tr><td>MemberType</td><td><span>Method</span></td></tr><tr><td>MetadataToken</td><td><div class=\"dni-plaintext\"><pre>100663585</pre></div></td></tr><tr><td>Module</td><td><details class=\"dni-treeview\"><summary><span class=\"dni-code-hint\"><code>Microsoft.SemanticKernel.Abstractions.dll</code></span></summary><div><table><thead><tr></tr></thead><tbody><tr><td>MDStreamVersion</td><td><div class=\"dni-plaintext\"><pre>131072</pre></div></td></tr><tr><td>FullyQualifiedName</td><td><div class=\"dni-plaintext\"><pre>C:\\Users\\dicolomb\\.nuget\\packages\\microsoft.semantickernel.abstractions\\0.21.230828.2-preview\\lib\\netstandard2.0\\Microsoft.SemanticKernel.Abstractions.dll</pre></div></td></tr><tr><td>ModuleVersionId</td><td><div class=\"dni-plaintext\"><pre>f9615d6c-17d4-4d20-ba96-14e20c568e22</pre></div></td></tr><tr><td>MetadataToken</td><td><div class=\"dni-plaintext\"><pre>1</pre></div></td></tr><tr><td>ScopeName</td><td><div class=\"dni-plaintext\"><pre>Microsoft.SemanticKernel.Abstractions.dll</pre></div></td></tr><tr><td>Name</td><td><div class=\"dni-plaintext\"><pre>Microsoft.SemanticKernel.Abstractions.dll</pre></div></td></tr><tr><td>Assembly</td><td><details class=\"dni-treeview\"><summary><span class=\"dni-code-hint\"><code>Microsoft.SemanticKernel.Abstractions, Version=0.21.0.0, Culture=neutral, PublicKeyToken=f300afd708cefcd3</code></span></summary><div><table><thead><tr></tr></thead><tbody><tr><td>CodeBase</td><td><div class=\"dni-plaintext\"><pre>file:///C:/Users/dicolomb/.nuget/packages/microsoft.semantickernel.abstractions/0.21.230828.2-preview/lib/netstandard2.0/Microsoft.SemanticKernel.Abstractions.dll</pre></div></td></tr><tr><td>FullName</td><td><div class=\"dni-plaintext\"><pre>Microsoft.SemanticKernel.Abstractions, Version=0.21.0.0, Culture=neutral, PublicKeyToken=f300afd708cefcd3</pre></div></td></tr><tr><td>EntryPoint</td><td><div class=\"dni-plaintext\"><pre>&lt;null&gt;</pre></div></td></tr><tr><td>DefinedTypes</td><td><table><thead><tr><th><i>index</i></th><th>value</th></tr></thead><tbody><tr><td>0</td><td>Microsoft.CodeAnalysis.EmbeddedAttribute</td></tr><tr><td>1</td><td>System.Runtime.CompilerServices.IsReadOnlyAttribute</td></tr><tr><td>2</td><td>System.Runtime.CompilerServices.IsUnmanagedAttribute</td></tr><tr><td>3</td><td>System.Runtime.CompilerServices.NullableAttribute</td></tr><tr><td>4</td><td>System.Runtime.CompilerServices.NullableContextAttribute</td></tr><tr><td>5</td><td>HttpClientProvider</td></tr><tr><td>6</td><td>NonDisposableHttpClientHandler</td></tr><tr><td>7</td><td>System.ExceptionExtensions</td></tr><tr><td>8</td><td>System.EnvExtensions</td></tr><tr><td>9</td><td>System.Linq.AsyncEnumerable</td></tr><tr><td>10</td><td>System.Diagnostics.CodeAnalysis.AllowNullAttribute</td></tr><tr><td>11</td><td>System.Diagnostics.CodeAnalysis.DisallowNullAttribute</td></tr><tr><td>12</td><td>System.Diagnostics.CodeAnalysis.MaybeNullAttribute</td></tr><tr><td>13</td><td>System.Diagnostics.CodeAnalysis.NotNullAttribute</td></tr><tr><td>14</td><td>System.Diagnostics.CodeAnalysis.MaybeNullWhenAttribute</td></tr><tr><td>15</td><td>System.Diagnostics.CodeAnalysis.NotNullWhenAttribute</td></tr><tr><td>16</td><td>System.Diagnostics.CodeAnalysis.NotNullIfNotNullAttribute</td></tr><tr><td>17</td><td>System.Diagnostics.CodeAnalysis.DoesNotReturnAttribute</td></tr><tr><td>18</td><td>System.Diagnostics.CodeAnalysis.DoesNotReturnIfAttribute</td></tr><tr><td>19</td><td>System.Diagnostics.CodeAnalysis.MemberNotNullAttribute</td></tr><tr><td colspan=\"2\"><i>(100 more)</i></td></tr></tbody></table></td></tr><tr><td>IsCollectible</td><td><div class=\"dni-plaintext\"><pre>False</pre></div></td></tr><tr><td>ManifestModule</td><td><details class=\"dni-treeview\"><summary><span class=\"dni-code-hint\"><code>Microsoft.SemanticKernel.Abstractions.dll</code></span></summary><div><table><thead><tr></tr></thead><tbody><tr><td>MDStreamVersion</td><td>131072</td></tr><tr><td>FullyQualifiedName</td><td>C:\\Users\\dicolomb\\.nuget\\packages\\microsoft.semantickernel.abstractions\\0.21.230828.2-preview\\lib\\netstandard2.0\\Microsoft.SemanticKernel.Abstractions.dll</td></tr><tr><td>ModuleVersionId</td><td>f9615d6c-17d4-4d20-ba96-14e20c568e22</td></tr><tr><td>MetadataToken</td><td>1</td></tr><tr><td>ScopeName</td><td>Microsoft.SemanticKernel.Abstractions.dll</td></tr><tr><td>Name</td><td>Microsoft.SemanticKernel.Abstractions.dll</td></tr><tr><td>Assembly</td><td>Microsoft.SemanticKernel.Abstractions, Version=0.21.0.0, Culture=neutral, PublicKeyToken=f300afd708cefcd3</td></tr><tr><td>ModuleHandle</td><td>System.ModuleHandle</td></tr><tr><td>CustomAttributes</td><td>[  ]</td></tr></tbody></table></div></details></td></tr><tr><td>ReflectionOnly</td><td><div class=\"dni-plaintext\"><pre>False</pre></div></td></tr><tr><td>Location</td><td><div class=\"dni-plaintext\"><pre>C:\\Users\\dicolomb\\.nuget\\packages\\microsoft.semantickernel.abstractions\\0.21.230828.2-preview\\lib\\netstandard2.0\\Microsoft.SemanticKernel.Abstractions.dll</pre></div></td></tr><tr><td>ImageRuntimeVersion</td><td><div class=\"dni-plaintext\"><pre>v4.0.30319</pre></div></td></tr><tr><td>GlobalAssemblyCache</td><td><div class=\"dni-plaintext\"><pre>False</pre></div></td></tr><tr><td>HostContext</td><td><div class=\"dni-plaintext\"><pre>0</pre></div></td></tr><tr><td>IsDynamic</td><td><div class=\"dni-plaintext\"><pre>False</pre></div></td></tr><tr><td>ExportedTypes</td><td><table><thead><tr><th><i>index</i></th><th>value</th></tr></thead><tbody><tr><td>0</td><td>Microsoft.SemanticKernel.ChatCompletionServiceExtensions</td></tr><tr><td>1</td><td>Microsoft.SemanticKernel.TextEmbeddingServiceExtensions</td></tr><tr><td>2</td><td>Microsoft.SemanticKernel.ImageGenerationServiceExtensions</td></tr><tr><td>3</td><td>Microsoft.SemanticKernel.TextCompletionServiceExtensions</td></tr><tr><td>4</td><td>Microsoft.SemanticKernel.IKernel</td></tr><tr><td>5</td><td>Microsoft.SemanticKernel.KernelConfig</td></tr><tr><td>6</td><td>Microsoft.SemanticKernel.TemplateEngine.IPromptTemplateEngine</td></tr><tr><td>7</td><td>Microsoft.SemanticKernel.TemplateEngine.Blocks.Block</td></tr><tr><td>8</td><td>Microsoft.SemanticKernel.SkillDefinition.FunctionsView</td></tr><tr><td>9</td><td>Microsoft.SemanticKernel.SkillDefinition.FunctionView</td></tr><tr><td>10</td><td>Microsoft.SemanticKernel.SkillDefinition.IReadOnlySkillCollection</td></tr><tr><td>11</td><td>Microsoft.SemanticKernel.SkillDefinition.ISKFunction</td></tr><tr><td>12</td><td>Microsoft.SemanticKernel.SkillDefinition.ISkillCollection</td></tr><tr><td>13</td><td>Microsoft.SemanticKernel.SkillDefinition.ParameterView</td></tr><tr><td>14</td><td>Microsoft.SemanticKernel.SkillDefinition.ParameterViewType</td></tr><tr><td>15</td><td>Microsoft.SemanticKernel.SkillDefinition.SKFunctionAttribute</td></tr><tr><td>16</td><td>Microsoft.SemanticKernel.SkillDefinition.SKNameAttribute</td></tr><tr><td>17</td><td>Microsoft.SemanticKernel.SkillDefinition.SKParameterAttribute</td></tr><tr><td>18</td><td>Microsoft.SemanticKernel.Services.IAIService</td></tr><tr><td>19</td><td>Microsoft.SemanticKernel.Services.IAIServiceProvider</td></tr><tr><td colspan=\"2\"><i>(45 more)</i></td></tr></tbody></table></td></tr><tr><td>IsFullyTrusted</td><td><div class=\"dni-plaintext\"><pre>True</pre></div></td></tr><tr><td>CustomAttributes</td><td><table><thead><tr><th><i>index</i></th><th>value</th></tr></thead><tbody><tr><td>0</td><td>[System.Runtime.CompilerServices.ExtensionAttribute()]</td></tr><tr><td>1</td><td>[System.Runtime.CompilerServices.CompilationRelaxationsAttribute((Int32)8)]</td></tr><tr><td>2</td><td>[System.Runtime.CompilerServices.RuntimeCompatibilityAttribute(WrapNonExceptionThrows = True)]</td></tr><tr><td>3</td><td>[System.Diagnostics.DebuggableAttribute((System.Diagnostics.DebuggableAttribute+DebuggingModes)263)]</td></tr><tr><td>4</td><td>[System.Runtime.Versioning.TargetFrameworkAttribute(\".NETStandard,Version=v2.0\", FrameworkDisplayName = \"\")]</td></tr><tr><td>5</td><td>[System.CLSCompliantAttribute((Boolean)False)]</td></tr><tr><td>6</td><td>[System.Reflection.AssemblyCompanyAttribute(\"Microsoft\")]</td></tr><tr><td>7</td><td>[System.Reflection.AssemblyConfigurationAttribute(\"Publish\")]</td></tr><tr><td>8</td><td>[System.Reflection.AssemblyCopyrightAttribute(\"© Microsoft Corporation. All rights reserved.\")]</td></tr><tr><td>9</td><td>[System.Reflection.AssemblyDescriptionAttribute(\"Semantic Kernel interfaces and abstractions. This package is automatically installed by Semantic Kernel packages if needed.\")]</td></tr><tr><td>10</td><td>[System.Reflection.AssemblyFileVersionAttribute(\"0.21.0.0\")]</td></tr><tr><td>11</td><td>[System.Reflection.AssemblyInformationalVersionAttribute(\"0.21+3e12f1a78de7f40b58499072b5f38832d34d9f78\")]</td></tr><tr><td>12</td><td>[System.Reflection.AssemblyProductAttribute(\"Semantic Kernel\")]</td></tr><tr><td>13</td><td>[System.Reflection.AssemblyTitleAttribute(\"Microsoft.SemanticKernel.Abstractions\")]</td></tr><tr><td>14</td><td>[System.Reflection.AssemblyMetadataAttribute(\"RepositoryUrl\", \"https://github.com/microsoft/semantic-kernel\")]</td></tr><tr><td>15</td><td>[System.Runtime.CompilerServices.InternalsVisibleToAttribute(\"Microsoft.SemanticKernel.Core, PublicKey=002400000c80000014010000060200000024000052534131000800000100010085aad0bef0688d1b994a0d78e1fd29fc24ac34ed3d3ac3fb9b3d0c48386ba834aa880035060a8848b2d8adf58e670ed20914be3681a891c9c8c01eef2ab22872547c39be00af0e6c72485d7cfd1a51df8947d36ceba9989106b58abe79e6a3e71a01ed6bdc867012883e0b1a4d35b1b5eeed6df21e401bb0c22f2246ccb69979dc9e61eef262832ed0f2064853725a75485fa8a3efb7e027319c86dec03dc3b1bca2b5081bab52a627b9917450dfad534799e1c7af58683bdfa135f1518ff1ea60e90d7b993a6c87fd3dd93408e35d1296f9a7f9a97c5db56c0f3cc25ad11e9777f94d138b3cea53b9a8331c2e6dcb8d2ea94e18bf1163ff112a22dbd92d429a\")]</td></tr><tr><td>16</td><td>[System.Runtime.CompilerServices.InternalsVisibleToAttribute(\"SemanticKernel.UnitTests, PublicKey=002400000c80000014010000060200000024000052534131000800000100010085aad0bef0688d1b994a0d78e1fd29fc24ac34ed3d3ac3fb9b3d0c48386ba834aa880035060a8848b2d8adf58e670ed20914be3681a891c9c8c01eef2ab22872547c39be00af0e6c72485d7cfd1a51df8947d36ceba9989106b58abe79e6a3e71a01ed6bdc867012883e0b1a4d35b1b5eeed6df21e401bb0c22f2246ccb69979dc9e61eef262832ed0f2064853725a75485fa8a3efb7e027319c86dec03dc3b1bca2b5081bab52a627b9917450dfad534799e1c7af58683bdfa135f1518ff1ea60e90d7b993a6c87fd3dd93408e35d1296f9a7f9a97c5db56c0f3cc25ad11e9777f94d138b3cea53b9a8331c2e6dcb8d2ea94e18bf1163ff112a22dbd92d429a\")]</td></tr><tr><td>17</td><td>[System.Runtime.CompilerServices.InternalsVisibleToAttribute(\"Extensions.UnitTests, PublicKey=002400000c80000014010000060200000024000052534131000800000100010085aad0bef0688d1b994a0d78e1fd29fc24ac34ed3d3ac3fb9b3d0c48386ba834aa880035060a8848b2d8adf58e670ed20914be3681a891c9c8c01eef2ab22872547c39be00af0e6c72485d7cfd1a51df8947d36ceba9989106b58abe79e6a3e71a01ed6bdc867012883e0b1a4d35b1b5eeed6df21e401bb0c22f2246ccb69979dc9e61eef262832ed0f2064853725a75485fa8a3efb7e027319c86dec03dc3b1bca2b5081bab52a627b9917450dfad534799e1c7af58683bdfa135f1518ff1ea60e90d7b993a6c87fd3dd93408e35d1296f9a7f9a97c5db56c0f3cc25ad11e9777f94d138b3cea53b9a8331c2e6dcb8d2ea94e18bf1163ff112a22dbd92d429a\")]</td></tr><tr><td>18</td><td>[System.Runtime.CompilerServices.InternalsVisibleToAttribute(\"DynamicProxyGenAssembly2, PublicKey=002400000c80000014010000060200000024000052534131000800000100010085aad0bef0688d1b994a0d78e1fd29fc24ac34ed3d3ac3fb9b3d0c48386ba834aa880035060a8848b2d8adf58e670ed20914be3681a891c9c8c01eef2ab22872547c39be00af0e6c72485d7cfd1a51df8947d36ceba9989106b58abe79e6a3e71a01ed6bdc867012883e0b1a4d35b1b5eeed6df21e401bb0c22f2246ccb69979dc9e61eef262832ed0f2064853725a75485fa8a3efb7e027319c86dec03dc3b1bca2b5081bab52a627b9917450dfad534799e1c7af58683bdfa135f1518ff1ea60e90d7b993a6c87fd3dd93408e35d1296f9a7f9a97c5db56c0f3cc25ad11e9777f94d138b3cea53b9a8331c2e6dcb8d2ea94e18bf1163ff112a22dbd92d429a\")]</td></tr></tbody></table></td></tr><tr><td>EscapedCodeBase</td><td><div class=\"dni-plaintext\"><pre>file:///C:/Users/dicolomb/.nuget/packages/microsoft.semantickernel.abstractions/0.21.230828.2-preview/lib/netstandard2.0/Microsoft.SemanticKernel.Abstractions.dll</pre></div></td></tr><tr><td>Modules</td><td><table><thead><tr><th><i>index</i></th><th>value</th></tr></thead><tbody><tr><td>0</td><td>Microsoft.SemanticKernel.Abstractions.dll</td></tr></tbody></table></td></tr><tr><td>SecurityRuleSet</td><td><span>None</span></td></tr></tbody></table></div></details></td></tr><tr><td>ModuleHandle</td><td><details class=\"dni-treeview\"><summary><span class=\"dni-code-hint\"><code>System.ModuleHandle</code></span></summary><div><table><thead><tr></tr></thead><tbody><tr><td>MDStreamVersion</td><td><div class=\"dni-plaintext\"><pre>131072</pre></div></td></tr></tbody></table></div></details></td></tr><tr><td>CustomAttributes</td><td><i>(empty)</i></td></tr></tbody></table></div></details></td></tr><tr><td>IsSecurityCritical</td><td><div class=\"dni-plaintext\"><pre>True</pre></div></td></tr><tr><td>IsSecuritySafeCritical</td><td><div class=\"dni-plaintext\"><pre>False</pre></div></td></tr><tr><td>IsSecurityTransparent</td><td><div class=\"dni-plaintext\"><pre>False</pre></div></td></tr><tr><td>MethodHandle</td><td><details class=\"dni-treeview\"><summary><span class=\"dni-code-hint\"><code>System.RuntimeMethodHandle</code></span></summary><div><table><thead><tr></tr></thead><tbody><tr><td>Value</td><td><div class=\"dni-plaintext\"><pre>140717887080264</pre></div></td></tr></tbody></table></div></details></td></tr><tr><td>Attributes</td><td><span>PrivateScope, Public, HideBySig, SpecialName</span></td></tr><tr><td>CallingConvention</td><td><span>Standard, HasThis</span></td></tr><tr><td>ReturnType</td><td><span><a href=\"https://docs.microsoft.com/dotnet/api/microsoft.semantickernel.memory.isemantictextmemory?view=net-7.0\">Microsoft.SemanticKernel.Memory.ISemanticTextMemory</a></span></td></tr><tr><td>ReturnTypeCustomAttributes</td><td><details class=\"dni-treeview\"><summary><span class=\"dni-code-hint\"><code>Microsoft.SemanticKernel.Memory.ISemanticTextMemory</code></span></summary><div><table><thead><tr></tr></thead><tbody><tr><td>ParameterType</td><td><span><a href=\"https://docs.microsoft.com/dotnet/api/microsoft.semantickernel.memory.isemantictextmemory?view=net-7.0\">Microsoft.SemanticKernel.Memory.ISemanticTextMemory</a></span></td></tr><tr><td>Name</td><td><div class=\"dni-plaintext\"><pre>&lt;null&gt;</pre></div></td></tr><tr><td>HasDefaultValue</td><td><div class=\"dni-plaintext\"><pre>True</pre></div></td></tr><tr><td>DefaultValue</td><td><div class=\"dni-plaintext\"><pre>&lt;null&gt;</pre></div></td></tr><tr><td>RawDefaultValue</td><td><div class=\"dni-plaintext\"><pre>&lt;null&gt;</pre></div></td></tr><tr><td>MetadataToken</td><td><div class=\"dni-plaintext\"><pre>134217728</pre></div></td></tr><tr><td>Attributes</td><td><span>None</span></td></tr><tr><td>Member</td><td><details class=\"dni-treeview\"><summary><span class=\"dni-code-hint\"><code>Microsoft.SemanticKernel.Memory.ISemanticTextMemory get_Memory()</code></span></summary><div><table><thead><tr></tr></thead><tbody><tr><td>Name</td><td><div class=\"dni-plaintext\"><pre>get_Memory</pre></div></td></tr><tr><td>DeclaringType</td><td><span><a href=\"https://docs.microsoft.com/dotnet/api/microsoft.semantickernel.orchestration.skcontext?view=net-7.0\">Microsoft.SemanticKernel.Orchestration.SKContext</a></span></td></tr><tr><td>ReflectedType</td><td><span><a href=\"https://docs.microsoft.com/dotnet/api/microsoft.semantickernel.orchestration.skcontext?view=net-7.0\">Microsoft.SemanticKernel.Orchestration.SKContext</a></span></td></tr><tr><td>MemberType</td><td><span>Method</span></td></tr><tr><td>MetadataToken</td><td><div class=\"dni-plaintext\"><pre>100663585</pre></div></td></tr><tr><td>Module</td><td><details class=\"dni-treeview\"><summary><span class=\"dni-code-hint\"><code>Microsoft.SemanticKernel.Abstractions.dll</code></span></summary><div><table><thead><tr></tr></thead><tbody><tr><td>MDStreamVersion</td><td>131072</td></tr><tr><td>FullyQualifiedName</td><td>C:\\Users\\dicolomb\\.nuget\\packages\\microsoft.semantickernel.abstractions\\0.21.230828.2-preview\\lib\\netstandard2.0\\Microsoft.SemanticKernel.Abstractions.dll</td></tr><tr><td>ModuleVersionId</td><td>f9615d6c-17d4-4d20-ba96-14e20c568e22</td></tr><tr><td>MetadataToken</td><td>1</td></tr><tr><td>ScopeName</td><td>Microsoft.SemanticKernel.Abstractions.dll</td></tr><tr><td>Name</td><td>Microsoft.SemanticKernel.Abstractions.dll</td></tr><tr><td>Assembly</td><td>Microsoft.SemanticKernel.Abstractions, Version=0.21.0.0, Culture=neutral, PublicKeyToken=f300afd708cefcd3</td></tr><tr><td>ModuleHandle</td><td>System.ModuleHandle</td></tr><tr><td>CustomAttributes</td><td>[  ]</td></tr></tbody></table></div></details></td></tr><tr><td>IsSecurityCritical</td><td><div class=\"dni-plaintext\"><pre>True</pre></div></td></tr><tr><td>IsSecuritySafeCritical</td><td><div class=\"dni-plaintext\"><pre>False</pre></div></td></tr><tr><td>IsSecurityTransparent</td><td><div class=\"dni-plaintext\"><pre>False</pre></div></td></tr><tr><td>MethodHandle</td><td><details class=\"dni-treeview\"><summary><span class=\"dni-code-hint\"><code>System.RuntimeMethodHandle</code></span></summary><div><table><thead><tr></tr></thead><tbody><tr><td>Value</td><td>140717887080264</td></tr></tbody></table></div></details></td></tr><tr><td>Attributes</td><td><span>PrivateScope, Public, HideBySig, SpecialName</span></td></tr><tr><td>CallingConvention</td><td><span>Standard, HasThis</span></td></tr><tr><td>ReturnType</td><td><span><a href=\"https://docs.microsoft.com/dotnet/api/microsoft.semantickernel.memory.isemantictextmemory?view=net-7.0\">Microsoft.SemanticKernel.Memory.ISemanticTextMemory</a></span></td></tr><tr><td>ReturnTypeCustomAttributes</td><td><details class=\"dni-treeview\"><summary><span class=\"dni-code-hint\"><code>Microsoft.SemanticKernel.Memory.ISemanticTextMemory</code></span></summary><div><table><thead><tr></tr></thead><tbody><tr><td>ParameterType</td><td>Microsoft.SemanticKernel.Memory.ISemanticTextMemory</td></tr><tr><td>Name</td><td><div class=\"dni-plaintext\"><pre>&lt;null&gt;</pre></div></td></tr><tr><td>HasDefaultValue</td><td>True</td></tr><tr><td>DefaultValue</td><td><div class=\"dni-plaintext\"><pre>&lt;null&gt;</pre></div></td></tr><tr><td>RawDefaultValue</td><td><div class=\"dni-plaintext\"><pre>&lt;null&gt;</pre></div></td></tr><tr><td>MetadataToken</td><td>134217728</td></tr><tr><td>Attributes</td><td>None</td></tr><tr><td>Member</td><td>Microsoft.SemanticKernel.Memory.ISemanticTextMemory get_Memory()</td></tr><tr><td>Position</td><td>-1</td></tr><tr><td>IsIn</td><td>False</td></tr><tr><td>IsLcid</td><td>False</td></tr><tr><td>IsOptional</td><td>False</td></tr><tr><td>IsOut</td><td>False</td></tr><tr><td>IsRetval</td><td>False</td></tr><tr><td>CustomAttributes</td><td>[  ]</td></tr></tbody></table></div></details></td></tr><tr><td>ReturnParameter</td><td><details class=\"dni-treeview\"><summary><span class=\"dni-code-hint\"><code>Microsoft.SemanticKernel.Memory.ISemanticTextMemory</code></span></summary><div><table><thead><tr></tr></thead><tbody><tr><td>ParameterType</td><td>Microsoft.SemanticKernel.Memory.ISemanticTextMemory</td></tr><tr><td>Name</td><td><div class=\"dni-plaintext\"><pre>&lt;null&gt;</pre></div></td></tr><tr><td>HasDefaultValue</td><td>True</td></tr><tr><td>DefaultValue</td><td><div class=\"dni-plaintext\"><pre>&lt;null&gt;</pre></div></td></tr><tr><td>RawDefaultValue</td><td><div class=\"dni-plaintext\"><pre>&lt;null&gt;</pre></div></td></tr><tr><td>MetadataToken</td><td>134217728</td></tr><tr><td>Attributes</td><td>None</td></tr><tr><td>Member</td><td>Microsoft.SemanticKernel.Memory.ISemanticTextMemory get_Memory()</td></tr><tr><td>Position</td><td>-1</td></tr><tr><td>IsIn</td><td>False</td></tr><tr><td>IsLcid</td><td>False</td></tr><tr><td>IsOptional</td><td>False</td></tr><tr><td>IsOut</td><td>False</td></tr><tr><td>IsRetval</td><td>False</td></tr><tr><td>CustomAttributes</td><td>[  ]</td></tr></tbody></table></div></details></td></tr><tr><td>IsCollectible</td><td><div class=\"dni-plaintext\"><pre>False</pre></div></td></tr><tr><td>IsGenericMethod</td><td><div class=\"dni-plaintext\"><pre>False</pre></div></td></tr><tr><td>IsGenericMethodDefinition</td><td><div class=\"dni-plaintext\"><pre>False</pre></div></td></tr><tr><td>ContainsGenericParameters</td><td><div class=\"dni-plaintext\"><pre>False</pre></div></td></tr><tr><td>MethodImplementationFlags</td><td><span>IL</span></td></tr><tr><td>IsAbstract</td><td><div class=\"dni-plaintext\"><pre>False</pre></div></td></tr><tr><td>IsConstructor</td><td><div class=\"dni-plaintext\"><pre>False</pre></div></td></tr><tr><td>IsFinal</td><td><div class=\"dni-plaintext\"><pre>False</pre></div></td></tr><tr><td>IsHideBySig</td><td><div class=\"dni-plaintext\"><pre>True</pre></div></td></tr><tr><td>IsSpecialName</td><td><div class=\"dni-plaintext\"><pre>True</pre></div></td></tr><tr><td>IsStatic</td><td><div class=\"dni-plaintext\"><pre>False</pre></div></td></tr><tr><td>IsVirtual</td><td><div class=\"dni-plaintext\"><pre>False</pre></div></td></tr><tr><td>IsAssembly</td><td><div class=\"dni-plaintext\"><pre>False</pre></div></td></tr><tr><td>IsFamily</td><td><div class=\"dni-plaintext\"><pre>False</pre></div></td></tr><tr><td>IsFamilyAndAssembly</td><td><div class=\"dni-plaintext\"><pre>False</pre></div></td></tr><tr><td>IsFamilyOrAssembly</td><td><div class=\"dni-plaintext\"><pre>False</pre></div></td></tr><tr><td>IsPrivate</td><td><div class=\"dni-plaintext\"><pre>False</pre></div></td></tr><tr><td>IsPublic</td><td><div class=\"dni-plaintext\"><pre>True</pre></div></td></tr><tr><td>IsConstructedGenericMethod</td><td><div class=\"dni-plaintext\"><pre>False</pre></div></td></tr><tr><td>CustomAttributes</td><td><i>(empty)</i></td></tr></tbody></table></div></details></td></tr><tr><td>Position</td><td><div class=\"dni-plaintext\"><pre>-1</pre></div></td></tr><tr><td>IsIn</td><td><div class=\"dni-plaintext\"><pre>False</pre></div></td></tr><tr><td>IsLcid</td><td><div class=\"dni-plaintext\"><pre>False</pre></div></td></tr><tr><td>IsOptional</td><td><div class=\"dni-plaintext\"><pre>False</pre></div></td></tr><tr><td>IsOut</td><td><div class=\"dni-plaintext\"><pre>False</pre></div></td></tr><tr><td>IsRetval</td><td><div class=\"dni-plaintext\"><pre>False</pre></div></td></tr><tr><td>CustomAttributes</td><td><i>(empty)</i></td></tr></tbody></table></div></details></td></tr><tr><td>ReturnParameter</td><td><details class=\"dni-treeview\"><summary><span class=\"dni-code-hint\"><code>Microsoft.SemanticKernel.Memory.ISemanticTextMemory</code></span></summary><div><table><thead><tr></tr></thead><tbody><tr><td>ParameterType</td><td><span><a href=\"https://docs.microsoft.com/dotnet/api/microsoft.semantickernel.memory.isemantictextmemory?view=net-7.0\">Microsoft.SemanticKernel.Memory.ISemanticTextMemory</a></span></td></tr><tr><td>Name</td><td><div class=\"dni-plaintext\"><pre>&lt;null&gt;</pre></div></td></tr><tr><td>HasDefaultValue</td><td><div class=\"dni-plaintext\"><pre>True</pre></div></td></tr><tr><td>DefaultValue</td><td><div class=\"dni-plaintext\"><pre>&lt;null&gt;</pre></div></td></tr><tr><td>RawDefaultValue</td><td><div class=\"dni-plaintext\"><pre>&lt;null&gt;</pre></div></td></tr><tr><td>MetadataToken</td><td><div class=\"dni-plaintext\"><pre>134217728</pre></div></td></tr><tr><td>Attributes</td><td><span>None</span></td></tr><tr><td>Member</td><td><details class=\"dni-treeview\"><summary><span class=\"dni-code-hint\"><code>Microsoft.SemanticKernel.Memory.ISemanticTextMemory get_Memory()</code></span></summary><div><table><thead><tr></tr></thead><tbody><tr><td>Name</td><td><div class=\"dni-plaintext\"><pre>get_Memory</pre></div></td></tr><tr><td>DeclaringType</td><td><span><a href=\"https://docs.microsoft.com/dotnet/api/microsoft.semantickernel.orchestration.skcontext?view=net-7.0\">Microsoft.SemanticKernel.Orchestration.SKContext</a></span></td></tr><tr><td>ReflectedType</td><td><span><a href=\"https://docs.microsoft.com/dotnet/api/microsoft.semantickernel.orchestration.skcontext?view=net-7.0\">Microsoft.SemanticKernel.Orchestration.SKContext</a></span></td></tr><tr><td>MemberType</td><td><span>Method</span></td></tr><tr><td>MetadataToken</td><td><div class=\"dni-plaintext\"><pre>100663585</pre></div></td></tr><tr><td>Module</td><td><details class=\"dni-treeview\"><summary><span class=\"dni-code-hint\"><code>Microsoft.SemanticKernel.Abstractions.dll</code></span></summary><div><table><thead><tr></tr></thead><tbody><tr><td>MDStreamVersion</td><td>131072</td></tr><tr><td>FullyQualifiedName</td><td>C:\\Users\\dicolomb\\.nuget\\packages\\microsoft.semantickernel.abstractions\\0.21.230828.2-preview\\lib\\netstandard2.0\\Microsoft.SemanticKernel.Abstractions.dll</td></tr><tr><td>ModuleVersionId</td><td>f9615d6c-17d4-4d20-ba96-14e20c568e22</td></tr><tr><td>MetadataToken</td><td>1</td></tr><tr><td>ScopeName</td><td>Microsoft.SemanticKernel.Abstractions.dll</td></tr><tr><td>Name</td><td>Microsoft.SemanticKernel.Abstractions.dll</td></tr><tr><td>Assembly</td><td>Microsoft.SemanticKernel.Abstractions, Version=0.21.0.0, Culture=neutral, PublicKeyToken=f300afd708cefcd3</td></tr><tr><td>ModuleHandle</td><td>System.ModuleHandle</td></tr><tr><td>CustomAttributes</td><td>[  ]</td></tr></tbody></table></div></details></td></tr><tr><td>IsSecurityCritical</td><td><div class=\"dni-plaintext\"><pre>True</pre></div></td></tr><tr><td>IsSecuritySafeCritical</td><td><div class=\"dni-plaintext\"><pre>False</pre></div></td></tr><tr><td>IsSecurityTransparent</td><td><div class=\"dni-plaintext\"><pre>False</pre></div></td></tr><tr><td>MethodHandle</td><td><details class=\"dni-treeview\"><summary><span class=\"dni-code-hint\"><code>System.RuntimeMethodHandle</code></span></summary><div><table><thead><tr></tr></thead><tbody><tr><td>Value</td><td>140717887080264</td></tr></tbody></table></div></details></td></tr><tr><td>Attributes</td><td><span>PrivateScope, Public, HideBySig, SpecialName</span></td></tr><tr><td>CallingConvention</td><td><span>Standard, HasThis</span></td></tr><tr><td>ReturnType</td><td><span><a href=\"https://docs.microsoft.com/dotnet/api/microsoft.semantickernel.memory.isemantictextmemory?view=net-7.0\">Microsoft.SemanticKernel.Memory.ISemanticTextMemory</a></span></td></tr><tr><td>ReturnTypeCustomAttributes</td><td><details class=\"dni-treeview\"><summary><span class=\"dni-code-hint\"><code>Microsoft.SemanticKernel.Memory.ISemanticTextMemory</code></span></summary><div><table><thead><tr></tr></thead><tbody><tr><td>ParameterType</td><td>Microsoft.SemanticKernel.Memory.ISemanticTextMemory</td></tr><tr><td>Name</td><td><div class=\"dni-plaintext\"><pre>&lt;null&gt;</pre></div></td></tr><tr><td>HasDefaultValue</td><td>True</td></tr><tr><td>DefaultValue</td><td><div class=\"dni-plaintext\"><pre>&lt;null&gt;</pre></div></td></tr><tr><td>RawDefaultValue</td><td><div class=\"dni-plaintext\"><pre>&lt;null&gt;</pre></div></td></tr><tr><td>MetadataToken</td><td>134217728</td></tr><tr><td>Attributes</td><td>None</td></tr><tr><td>Member</td><td>Microsoft.SemanticKernel.Memory.ISemanticTextMemory get_Memory()</td></tr><tr><td>Position</td><td>-1</td></tr><tr><td>IsIn</td><td>False</td></tr><tr><td>IsLcid</td><td>False</td></tr><tr><td>IsOptional</td><td>False</td></tr><tr><td>IsOut</td><td>False</td></tr><tr><td>IsRetval</td><td>False</td></tr><tr><td>CustomAttributes</td><td>[  ]</td></tr></tbody></table></div></details></td></tr><tr><td>ReturnParameter</td><td><details class=\"dni-treeview\"><summary><span class=\"dni-code-hint\"><code>Microsoft.SemanticKernel.Memory.ISemanticTextMemory</code></span></summary><div><table><thead><tr></tr></thead><tbody><tr><td>ParameterType</td><td>Microsoft.SemanticKernel.Memory.ISemanticTextMemory</td></tr><tr><td>Name</td><td><div class=\"dni-plaintext\"><pre>&lt;null&gt;</pre></div></td></tr><tr><td>HasDefaultValue</td><td>True</td></tr><tr><td>DefaultValue</td><td><div class=\"dni-plaintext\"><pre>&lt;null&gt;</pre></div></td></tr><tr><td>RawDefaultValue</td><td><div class=\"dni-plaintext\"><pre>&lt;null&gt;</pre></div></td></tr><tr><td>MetadataToken</td><td>134217728</td></tr><tr><td>Attributes</td><td>None</td></tr><tr><td>Member</td><td>Microsoft.SemanticKernel.Memory.ISemanticTextMemory get_Memory()</td></tr><tr><td>Position</td><td>-1</td></tr><tr><td>IsIn</td><td>False</td></tr><tr><td>IsLcid</td><td>False</td></tr><tr><td>IsOptional</td><td>False</td></tr><tr><td>IsOut</td><td>False</td></tr><tr><td>IsRetval</td><td>False</td></tr><tr><td>CustomAttributes</td><td>[  ]</td></tr></tbody></table></div></details></td></tr><tr><td>IsCollectible</td><td><div class=\"dni-plaintext\"><pre>False</pre></div></td></tr><tr><td>IsGenericMethod</td><td><div class=\"dni-plaintext\"><pre>False</pre></div></td></tr><tr><td>IsGenericMethodDefinition</td><td><div class=\"dni-plaintext\"><pre>False</pre></div></td></tr><tr><td>ContainsGenericParameters</td><td><div class=\"dni-plaintext\"><pre>False</pre></div></td></tr><tr><td>MethodImplementationFlags</td><td><span>IL</span></td></tr><tr><td>IsAbstract</td><td><div class=\"dni-plaintext\"><pre>False</pre></div></td></tr><tr><td>IsConstructor</td><td><div class=\"dni-plaintext\"><pre>False</pre></div></td></tr><tr><td>IsFinal</td><td><div class=\"dni-plaintext\"><pre>False</pre></div></td></tr><tr><td>IsHideBySig</td><td><div class=\"dni-plaintext\"><pre>True</pre></div></td></tr><tr><td>IsSpecialName</td><td><div class=\"dni-plaintext\"><pre>True</pre></div></td></tr><tr><td>IsStatic</td><td><div class=\"dni-plaintext\"><pre>False</pre></div></td></tr><tr><td>IsVirtual</td><td><div class=\"dni-plaintext\"><pre>False</pre></div></td></tr><tr><td>IsAssembly</td><td><div class=\"dni-plaintext\"><pre>False</pre></div></td></tr><tr><td>IsFamily</td><td><div class=\"dni-plaintext\"><pre>False</pre></div></td></tr><tr><td>IsFamilyAndAssembly</td><td><div class=\"dni-plaintext\"><pre>False</pre></div></td></tr><tr><td>IsFamilyOrAssembly</td><td><div class=\"dni-plaintext\"><pre>False</pre></div></td></tr><tr><td>IsPrivate</td><td><div class=\"dni-plaintext\"><pre>False</pre></div></td></tr><tr><td>IsPublic</td><td><div class=\"dni-plaintext\"><pre>True</pre></div></td></tr><tr><td>IsConstructedGenericMethod</td><td><div class=\"dni-plaintext\"><pre>False</pre></div></td></tr><tr><td>CustomAttributes</td><td><i>(empty)</i></td></tr></tbody></table></div></details></td></tr><tr><td>Position</td><td><div class=\"dni-plaintext\"><pre>-1</pre></div></td></tr><tr><td>IsIn</td><td><div class=\"dni-plaintext\"><pre>False</pre></div></td></tr><tr><td>IsLcid</td><td><div class=\"dni-plaintext\"><pre>False</pre></div></td></tr><tr><td>IsOptional</td><td><div class=\"dni-plaintext\"><pre>False</pre></div></td></tr><tr><td>IsOut</td><td><div class=\"dni-plaintext\"><pre>False</pre></div></td></tr><tr><td>IsRetval</td><td><div class=\"dni-plaintext\"><pre>False</pre></div></td></tr><tr><td>CustomAttributes</td><td><i>(empty)</i></td></tr></tbody></table></div></details></td></tr><tr><td>IsCollectible</td><td><div class=\"dni-plaintext\"><pre>False</pre></div></td></tr><tr><td>IsGenericMethod</td><td><div class=\"dni-plaintext\"><pre>False</pre></div></td></tr><tr><td>IsGenericMethodDefinition</td><td><div class=\"dni-plaintext\"><pre>False</pre></div></td></tr><tr><td>ContainsGenericParameters</td><td><div class=\"dni-plaintext\"><pre>False</pre></div></td></tr><tr><td>MethodImplementationFlags</td><td><span>IL</span></td></tr><tr><td>IsAbstract</td><td><div class=\"dni-plaintext\"><pre>False</pre></div></td></tr><tr><td>IsConstructor</td><td><div class=\"dni-plaintext\"><pre>False</pre></div></td></tr><tr><td>IsFinal</td><td><div class=\"dni-plaintext\"><pre>False</pre></div></td></tr><tr><td>IsHideBySig</td><td><div class=\"dni-plaintext\"><pre>True</pre></div></td></tr><tr><td>IsSpecialName</td><td><div class=\"dni-plaintext\"><pre>True</pre></div></td></tr><tr><td>IsStatic</td><td><div class=\"dni-plaintext\"><pre>False</pre></div></td></tr><tr><td>IsVirtual</td><td><div class=\"dni-plaintext\"><pre>False</pre></div></td></tr><tr><td>IsAssembly</td><td><div class=\"dni-plaintext\"><pre>False</pre></div></td></tr><tr><td>IsFamily</td><td><div class=\"dni-plaintext\"><pre>False</pre></div></td></tr><tr><td>IsFamilyAndAssembly</td><td><div class=\"dni-plaintext\"><pre>False</pre></div></td></tr><tr><td>IsFamilyOrAssembly</td><td><div class=\"dni-plaintext\"><pre>False</pre></div></td></tr><tr><td>IsPrivate</td><td><div class=\"dni-plaintext\"><pre>False</pre></div></td></tr><tr><td>IsPublic</td><td><div class=\"dni-plaintext\"><pre>True</pre></div></td></tr><tr><td>IsConstructedGenericMethod</td><td><div class=\"dni-plaintext\"><pre>False</pre></div></td></tr><tr><td>CustomAttributes</td><td><i>(empty)</i></td></tr></tbody></table></div></details></td></tr><tr><td>Message</td><td><div class=\"dni-plaintext\"><pre>Memory no longer passed through SKContext. Instead, initialize your skill class with the memory provider it needs.</pre></div></td></tr><tr><td>Data</td><td><i>(empty)</i></td></tr><tr><td>InnerException</td><td><div class=\"dni-plaintext\"><pre>&lt;null&gt;</pre></div></td></tr><tr><td>HelpLink</td><td><div class=\"dni-plaintext\"><pre>&lt;null&gt;</pre></div></td></tr><tr><td>Source</td><td><div class=\"dni-plaintext\"><pre>Microsoft.SemanticKernel.Abstractions</pre></div></td></tr><tr><td>HResult</td><td><div class=\"dni-plaintext\"><pre>-2146233079</pre></div></td></tr><tr><td>StackTrace</td><td><div class=\"dni-plaintext\"><pre>   at Microsoft.SemanticKernel.Orchestration.SKContext.get_Memory()\r\n",
       "   at lambda_method420(Closure, SKContext)\r\n",
       "   at Microsoft.DotNet.Interactive.Formatting.MemberAccessor`1.GetValueOrException(T instance) in D:\\a\\_work\\1\\s\\src\\Microsoft.DotNet.Interactive.Formatting\\MemberAccessor{T}.cs:line 64</pre></div></td></tr></tbody></table></div></details></td></tr><tr><td>LastErrorDescription</td><td><div class=\"dni-plaintext\"><pre>&lt;null&gt;</pre></div></td></tr></tbody></table></div></details><style>\r\n",
       ".dni-code-hint {\r\n",
       "    font-style: italic;\r\n",
       "    overflow: hidden;\r\n",
       "    white-space: nowrap;\r\n",
       "}\r\n",
       ".dni-treeview {\r\n",
       "    white-space: nowrap;\r\n",
       "}\r\n",
       ".dni-treeview td {\r\n",
       "    vertical-align: top;\r\n",
       "    text-align: start;\r\n",
       "}\r\n",
       "details.dni-treeview {\r\n",
       "    padding-left: 1em;\r\n",
       "}\r\n",
       "table td {\r\n",
       "    text-align: start;\r\n",
       "}\r\n",
       "table tr { \r\n",
       "    vertical-align: top; \r\n",
       "    margin: 0em 0px;\r\n",
       "}\r\n",
       "table tr td pre \r\n",
       "{ \r\n",
       "    vertical-align: top !important; \r\n",
       "    margin: 0em 0px !important;\r\n",
       "} \r\n",
       "table th {\r\n",
       "    text-align: start;\r\n",
       "}\r\n",
       "</style>"
      ],
      "text/plain": [
       "\n",
       "Yes, you can create custom kernels for languages and tools that are not supported by the Jupyter Notebook. .NET Interactive and the Polyglot Notebooks extension allow users to write and execute code in multiple languages in one notebook, and are interoperable with Jupyter and support the .ipynb file extension. Cells in the same notebook can run in separate processes or on different machines, allowing a notebook to span local and cloud environments in one combined workflow. It also supports mermaid language, javascript, and HTML kernels for creating rich visualizations. JupyterLab is a browser-based frontend for Jupyter kernels, similar to Jupyter Notebook, but more extensible."
      ]
     },
     "metadata": {},
     "output_type": "display_data"
    }
   ],
   "source": [
    "Can I create custom kernels for langauges and tools that are not supported by the Jupyter Notebook?"
   ]
  }
 ],
 "metadata": {
  "kernelInfo": {
   "defaultKernelName": null,
   "items": [
    {
     "aliases": [
      "c#",
      "cs"
     ],
     "languageName": "C#",
     "name": "csharp"
    },
    {
     "aliases": [
      "f#",
      "fs"
     ],
     "languageName": "F#",
     "name": "fsharp"
    },
    {
     "languageName": "HTML",
     "name": "html"
    },
    {
     "languageName": "HTTP",
     "name": "http"
    },
    {
     "aliases": [
      "js"
     ],
     "languageName": "JavaScript",
     "name": "javascript"
    },
    {
     "languageName": "KQL",
     "name": "kql"
    },
    {
     "languageName": "Mermaid",
     "name": "mermaid"
    },
    {
     "aliases": [
      "powershell"
     ],
     "languageName": "PowerShell",
     "name": "pwsh"
    },
    {
     "languageName": "SQL",
     "name": "sql"
    },
    {
     "name": "value"
    }
   ]
  },
  "kernelspec": {
   "display_name": ".NET (C#)",
   "language": "C#",
   "name": ".net-csharp"
  },
  "language_info": {
   "name": "polyglot-notebook"
  },
  "polyglot_notebook": {
   "kernelInfo": {
    "defaultKernelName": "csharp",
    "items": [
     {
      "aliases": [],
      "name": "csharp"
     },
     {
      "aliases": [],
      "languageName": "text",
      "name": "knowledge"
     },
     {
      "aliases": [],
      "languageName": "SQL",
      "name": "knowledge(duckDbVectorRAW)"
     },
     {
      "aliases": [],
      "languageName": "text",
      "name": "openai-old(image)"
     },
     {
      "aliases": [],
      "languageName": "text",
      "name": "openai(chat)"
     },
     {
      "aliases": [],
      "languageName": "SQL",
      "name": "openai(duckDb)"
     },
     {
      "aliases": [],
      "languageName": "text",
      "name": "openai(image)"
     },
     {
      "aliases": [],
      "languageName": "text",
      "name": "openai(knowledge)"
     },
     {
      "aliases": [],
      "languageName": "semantic-kernel.skprompt",
      "name": "openai(skill)"
     },
     {
      "aliases": [],
      "languageName": "text",
      "name": "openai(text-gpt)"
     },
     {
      "aliases": [],
      "languageName": "text",
      "name": "openai(text)"
     },
     {
      "aliases": [],
      "languageName": "semantic-kernel.skprompt",
      "name": "openaicode(skill)"
     },
     {
      "aliases": [],
      "languageName": "text",
      "name": "openaicode(text)"
     },
     {
      "aliases": [],
      "languageName": "text",
      "name": "textCompletion"
     },
     {
      "aliases": [],
      "languageName": "semantic-kernel.skprompt",
      "name": "textCompletion(skill)"
     }
    ]
   }
  }
 },
 "nbformat": 4,
 "nbformat_minor": 5
}
