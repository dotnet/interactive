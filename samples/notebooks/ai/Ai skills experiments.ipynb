{
 "cells": [
  {
   "cell_type": "code",
   "execution_count": 2,
   "metadata": {
    "dotnet_interactive": {
     "language": "csharp"
    },
    "polyglot_notebook": {
     "kernelName": "csharp"
    }
   },
   "outputs": [
    {
     "data": {
      "text/html": [
       "<div><div><strong>Restore sources</strong><ul><li><span>https://pkgs.dev.azure.com/dnceng/public/_packaging/dotnet-eng/nuget/v3/index.json</span></li></ul></div><div></div><div><strong>Installed Packages</strong><ul><li><span>Microsoft.DotNet.Interactive.AI, 1.0.0-beta.23319.1</span></li></ul></div></div>"
      ]
     },
     "metadata": {},
     "output_type": "display_data"
    },
    {
     "data": {
      "text/plain": [
       "Loading extensions from `C:\\Users\\dicolomb\\.nuget\\packages\\skiasharp\\2.88.5\\interactive-extensions\\dotnet\\SkiaSharp.DotNet.Interactive.dll`"
      ]
     },
     "metadata": {},
     "output_type": "display_data"
    },
    {
     "data": {
      "text/plain": [
       "Loading extension script from `C:\\Users\\dicolomb\\.nuget\\packages\\microsoft.dotnet.interactive.ai\\1.0.0-beta.23319.1\\interactive-extensions\\dotnet\\extension.dib`"
      ]
     },
     "metadata": {},
     "output_type": "display_data"
    },
    {
     "data": {
      "text/markdown": [
       "Added magic command `#!connect openai`."
      ]
     },
     "metadata": {},
     "output_type": "display_data"
    }
   ],
   "source": [
    "#r \"nuget:Microsoft.DotNet.Interactive.AI, *-*\""
   ]
  },
  {
   "cell_type": "code",
   "execution_count": 2,
   "metadata": {
    "dotnet_interactive": {
     "language": "csharp"
    },
    "polyglot_notebook": {
     "kernelName": "csharp"
    }
   },
   "outputs": [],
   "source": [
    "#!value --name key\n",
    "YOUR AZURE OPEN AI KEY"
   ]
  },
  {
   "cell_type": "code",
   "execution_count": 3,
   "metadata": {
    "dotnet_interactive": {
     "language": "csharp"
    },
    "polyglot_notebook": {
     "kernelName": "csharp"
    }
   },
   "outputs": [],
   "source": [
    "#!value --name endpoint\n",
    "https://your-enpoint.openai.azure.com/"
   ]
  },
  {
   "cell_type": "code",
   "execution_count": 4,
   "metadata": {
    "dotnet_interactive": {
     "language": "csharp"
    },
    "polyglot_notebook": {
     "kernelName": "csharp"
    }
   },
   "outputs": [
    {
     "data": {
      "text/plain": [
       "Kernel added: #!knowledge(duckDbVectorRAW)"
      ]
     },
     "metadata": {},
     "output_type": "display_data"
    },
    {
     "data": {
      "text/plain": [
       "Kernel added: #!knowledge(duckDbVector)"
      ]
     },
     "metadata": {},
     "output_type": "display_data"
    },
    {
     "data": {
      "text/plain": [
       "Kernel added: #!knowledge"
      ]
     },
     "metadata": {},
     "output_type": "display_data"
    }
   ],
   "source": [
    "#!connect azure-openai --model-type TextEmbeddingGenerator --kernel-name knowledge --api-key @value:key --endpoint @value:endpoint --deployment text-embedding-ada-002"
   ]
  },
  {
   "cell_type": "code",
   "execution_count": 5,
   "metadata": {
    "dotnet_interactive": {
     "language": "csharp"
    },
    "polyglot_notebook": {
     "kernelName": "csharp"
    }
   },
   "outputs": [
    {
     "data": {
      "text/plain": [
       "Kernel added: #!textCompletion(skill)"
      ]
     },
     "metadata": {},
     "output_type": "display_data"
    },
    {
     "data": {
      "text/plain": [
       "Kernel added: #!textCompletion"
      ]
     },
     "metadata": {},
     "output_type": "display_data"
    }
   ],
   "source": [
    "#!connect azure-openai --model-type TextCompletion --kernel-name textCompletion --api-key @value:key --endpoint @value:endpoint --deployment text-davinci-003 --use-knowledge knowledge"
   ]
  },
  {
   "cell_type": "code",
   "execution_count": 7,
   "metadata": {
    "dotnet_interactive": {
     "language": "csharp"
    },
    "polyglot_notebook": {
     "kernelName": "csharp"
    }
   },
   "outputs": [],
   "source": [
    "using System;\n",
    "using System.Globalization;\n",
    "using System.Threading.Tasks;\n",
    "using Microsoft.SemanticKernel.Orchestration;\n",
    "using Microsoft.SemanticKernel.SkillDefinition;\n",
    "\n",
    "public class MathSkill\n",
    "{\n",
    "    /// <summary>\n",
    "    /// Returns the Addition result of initial and amount values provided.\n",
    "    /// </summary>\n",
    "    /// <param name=\"initialValueText\">Initial value as string to add the specified amount</param>\n",
    "    /// <param name=\"context\">Contains the context to get the numbers from</param>\n",
    "    /// <returns>The resulting sum as a string.</returns>\n",
    "    [SKFunction(),]\n",
    "    [SKName(\"Add\")]\n",
    "    [SKParameter(\"Amount\",\"Amount to add\")]\n",
    "    public Task<string> AddAsync(string input, SKContext context)\n",
    "    {\n",
    "        if (!int.TryParse(input.Replace(\"\\\"\", string.Empty), NumberStyles.Any, CultureInfo.InvariantCulture, out var initialValue))\n",
    "        {\n",
    "            return Task.FromException<string>(new ArgumentOutOfRangeException(\n",
    "                nameof(input), input, \"Initial value provided is not in numeric format\"));\n",
    "        }\n",
    "\n",
    "        string contextAmount = context[\"Amount\"].Replace(\"\\\"\", string.Empty);\n",
    "        if (!int.TryParse(contextAmount, NumberStyles.Any, CultureInfo.InvariantCulture, out var amount))\n",
    "        {\n",
    "            return Task.FromException<string>(new ArgumentOutOfRangeException(\n",
    "                nameof(context), contextAmount, \"Context amount provided is not in numeric format\"));\n",
    "        }\n",
    "\n",
    "        var result = initialValue + amount;\n",
    "\n",
    "        return Task.FromResult(result.ToString(CultureInfo.InvariantCulture));\n",
    "    }    \n",
    "}"
   ]
  },
  {
   "cell_type": "code",
   "execution_count": 8,
   "metadata": {
    "dotnet_interactive": {
     "language": "csharp"
    },
    "polyglot_notebook": {
     "kernelName": "csharp"
    }
   },
   "outputs": [],
   "source": [
    "var mathSkill = new MathSkill();"
   ]
  },
  {
   "cell_type": "code",
   "execution_count": 9,
   "metadata": {
    "dotnet_interactive": {
     "language": "textCompletion(skill)"
    },
    "polyglot_notebook": {
     "kernelName": "textCompletion(skill)"
    }
   },
   "outputs": [],
   "source": [
    "#!set --value @csharp:mathSkill --name mathSkill --byref"
   ]
  },
  {
   "cell_type": "code",
   "execution_count": 11,
   "metadata": {
    "dotnet_interactive": {
     "language": "textCompletion(skill)"
    },
    "polyglot_notebook": {
     "kernelName": "textCompletion(skill)"
    }
   },
   "outputs": [],
   "source": [
    "#!function doMath\n",
    "{{mathSkill.Add $input}}\n"
   ]
  },
  {
   "cell_type": "code",
   "execution_count": null,
   "metadata": {
    "dotnet_interactive": {
     "language": "textCompletion"
    },
    "polyglot_notebook": {
     "kernelName": "textCompletion"
    }
   },
   "outputs": [],
   "source": [
    "#!set --name Amount --value 5\n",
    "#!use-skills function._GLOBAL_FUNCTIONS_.doMath\n",
    "37"
   ]
  }
 ],
 "metadata": {
  "kernelspec": {
   "display_name": ".NET (C#)",
   "language": "C#",
   "name": ".net-csharp"
  },
  "language_info": {
   "name": "polyglot-notebook"
  },
  "orig_nbformat": 4,
  "polyglot_notebook": {
   "kernelInfo": {
    "defaultKernelName": "csharp",
    "items": [
     {
      "aliases": [],
      "name": "csharp"
     },
     {
      "aliases": [],
      "languageName": "text",
      "name": "knowledge"
     },
     {
      "aliases": [],
      "languageName": "SQL",
      "name": "knowledge(duckDbVectorRAW)"
     },
     {
      "aliases": [],
      "languageName": "text",
      "name": "openai-old(image)"
     },
     {
      "aliases": [],
      "languageName": "text",
      "name": "openai(image)"
     },
     {
      "aliases": [],
      "languageName": "semantic-kernel.skprompt",
      "name": "openaicode(skill)"
     },
     {
      "aliases": [],
      "languageName": "text",
      "name": "openaicode(text)"
     },
     {
      "aliases": [],
      "languageName": "text",
      "name": "textCompletion"
     },
     {
      "aliases": [],
      "languageName": "semantic-kernel.skprompt",
      "name": "textCompletion(skill)"
     }
    ]
   }
  }
 },
 "nbformat": 4,
 "nbformat_minor": 2
}
