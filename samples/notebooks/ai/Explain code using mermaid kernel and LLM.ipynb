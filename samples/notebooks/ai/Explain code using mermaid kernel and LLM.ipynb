{
 "cells": [
  {
   "cell_type": "code",
   "execution_count": 1,
   "metadata": {
    "dotnet_interactive": {
     "language": "csharp"
    },
    "polyglot_notebook": {
     "kernelName": "csharp"
    }
   },
   "outputs": [
    {
     "data": {
      "text/html": [
       "<div><div></div><div></div><div><strong>Installed Packages</strong><ul><li><span>Microsoft.DotNet.Interactive.AI, 1.0.0-beta.23468.5</span></li></ul></div></div>"
      ]
     },
     "metadata": {},
     "output_type": "display_data"
    },
    {
     "data": {
      "text/plain": [
       "Loading extension script from `C:\\Users\\dicolomb\\.nuget\\packages\\duckdb.interactiveextension\\1.0.108\\interactive-extensions\\dotnet\\extension.dib`"
      ]
     },
     "metadata": {},
     "output_type": "display_data"
    },
    {
     "data": {
      "text/html": [
       "<details><summary>Query DuckDB databases.</summary>\r\n",
       "    <p>This extension adds support for connecting to <a href=\"https://duckdb.org/\">DuckDB</a> databases using the <code>#!connect duckdb</code> magic command. ADO.NET support via <a href=\"https://github.com/Giorgi/DuckDB.NET\">DuckDB.NET</a> project</p>\r\n",
       "    </details>"
      ]
     },
     "metadata": {},
     "output_type": "display_data"
    },
    {
     "data": {
      "text/plain": [
       "Loading extension script from `C:\\Users\\dicolomb\\.nuget\\packages\\microsoft.dotnet.interactive.ai\\1.0.0-beta.23468.5\\interactive-extensions\\dotnet\\extension.dib`"
      ]
     },
     "metadata": {},
     "output_type": "display_data"
    },
    {
     "data": {
      "text/markdown": [
       "Added magic commands\r\n",
       " - `#!connect azure-openai`\r\n",
       " - `#!connect openai`\r\n",
       " - `#!connect huggingface`"
      ]
     },
     "metadata": {},
     "output_type": "display_data"
    },
    {
     "data": {
      "text/plain": [
       "Loading extensions from `C:\\Users\\dicolomb\\.nuget\\packages\\skiasharp\\2.88.5\\interactive-extensions\\dotnet\\SkiaSharp.DotNet.Interactive.dll`"
      ]
     },
     "metadata": {},
     "output_type": "display_data"
    }
   ],
   "source": [
    "#r \"nuget:Microsoft.DotNet.Interactive.AI, *-*\""
   ]
  },
  {
   "cell_type": "code",
   "execution_count": 2,
   "metadata": {
    "dotnet_interactive": {
     "language": "csharp"
    },
    "polyglot_notebook": {
     "kernelName": "csharp"
    }
   },
   "outputs": [],
   "source": [
    "#!value --name key\n",
    "YOUR AZURE OPEN AI KEY"
   ]
  },
  {
   "cell_type": "code",
   "execution_count": 3,
   "metadata": {
    "dotnet_interactive": {
     "language": "csharp"
    },
    "polyglot_notebook": {
     "kernelName": "csharp"
    }
   },
   "outputs": [],
   "source": [
    "#!value --name endpoint\n",
    "https://your-enpoint.openai.azure.com/"
   ]
  },
  {
   "cell_type": "code",
   "execution_count": 4,
   "id": "68b78a72",
   "metadata": {
    "dotnet_interactive": {
     "language": "csharp"
    },
    "polyglot_notebook": {
     "kernelName": "csharp"
    }
   },
   "outputs": [
    {
     "data": {
      "text/plain": [
       "Kernel added: #!knowledge(duckDbVectorRAW)"
      ]
     },
     "metadata": {},
     "output_type": "display_data"
    },
    {
     "data": {
      "text/plain": [
       "Kernel added: #!knowledge(duckDbVector)"
      ]
     },
     "metadata": {},
     "output_type": "display_data"
    },
    {
     "data": {
      "text/plain": [
       "Kernel added: #!knowledge"
      ]
     },
     "metadata": {},
     "output_type": "display_data"
    }
   ],
   "source": [
    "#!connect azure-openai --model-type TextEmbeddingGenerator --kernel-name knowledge --api-key @value:key --endpoint @value:endpoint --deployment text-embedding-ada-002"
   ]
  },
  {
   "cell_type": "code",
   "execution_count": 5,
   "metadata": {
    "dotnet_interactive": {
     "language": "csharp"
    },
    "polyglot_notebook": {
     "kernelName": "csharp"
    }
   },
   "outputs": [
    {
     "data": {
      "text/plain": [
       "Kernel added: #!textCompletion(skill)"
      ]
     },
     "metadata": {},
     "output_type": "display_data"
    },
    {
     "data": {
      "text/plain": [
       "Kernel added: #!textCompletion"
      ]
     },
     "metadata": {},
     "output_type": "display_data"
    }
   ],
   "source": [
    "#!connect azure-openai --model-type TextCompletion --kernel-name textCompletion --api-key @value:key --endpoint @value:endpoint --deployment text-davinci-003 --use-knowledge knowledge"
   ]
  },
  {
   "attachments": {},
   "cell_type": "markdown",
   "id": "28f3e8ea",
   "metadata": {},
   "source": [
    "# `#!graph` command"
   ]
  },
  {
   "attachments": {},
   "cell_type": "markdown",
   "id": "9638ca7d",
   "metadata": {},
   "source": [
    "## define prompt template"
   ]
  },
  {
   "cell_type": "code",
   "execution_count": 6,
   "metadata": {
    "dotnet_interactive": {
     "language": "textCompletion(skill)"
    },
    "polyglot_notebook": {
     "kernelName": "textCompletion(skill)"
    }
   },
   "outputs": [],
   "source": [
    "#!function generate_sequence_diagram --skill explain_code --description \"generate mermaid sequence diagram from code\"\n",
    "[BEGIN TEXT]\n",
    "{{$input}}\n",
    "[END TEXT]\n",
    "write mermaid sequence diagram markdown for the code above. remove all code fence markers"
   ]
  },
  {
   "attachments": {},
   "cell_type": "markdown",
   "id": "c2f687ff",
   "metadata": {},
   "source": [
    "## test it "
   ]
  },
  {
   "cell_type": "code",
   "execution_count": 7,
   "metadata": {
    "dotnet_interactive": {
     "language": "textCompletion"
    },
    "polyglot_notebook": {
     "kernelName": "textCompletion"
    }
   },
   "outputs": [
    {
     "data": {
      "text/html": [
       "<details open=\"open\" class=\"dni-treeview\"><summary><span class=\"dni-code-hint\"><code>sequenceDiagram\\n    participant A as Fibonacci(n)\\n    participant B as Fibonacci(n-1)\\n    participant C as Fibonacci(n-2)\\n    A-&gt;&gt;B: n-1\\n    A-&gt;&gt;C: n-2\\n    B-&gt;&gt;A: Fibonacci(n-1)\\n    C-&gt;&gt;A: Fibonacci(n-2)\\n    A-&gt;&gt;A: Fibonacci(n)</code></span></summary><div><table><thead><tr></tr></thead><tbody><tr><td>Result</td><td><div class=\"dni-plaintext\"><pre>\n",
       "\n",
       "sequenceDiagram\n",
       "    participant A as Fibonacci(n)\n",
       "    participant B as Fibonacci(n-1)\n",
       "    participant C as Fibonacci(n-2)\n",
       "    A-&gt;&gt;B: n-1\n",
       "    A-&gt;&gt;C: n-2\n",
       "    B-&gt;&gt;A: Fibonacci(n-1)\n",
       "    C-&gt;&gt;A: Fibonacci(n-2)\n",
       "    A-&gt;&gt;A: Fibonacci(n)</pre></div></td></tr><tr><td>ModelResults</td><td><table><thead><tr><th><i>index</i></th><th>value</th></tr></thead><tbody><tr><td>0</td><td><details class=\"dni-treeview\"><summary><span class=\"dni-code-hint\"><code>Microsoft.SemanticKernel.Orchestration.ModelResult</code></span></summary><div><table><thead><tr></tr></thead><tbody></tbody></table></div></details></td></tr></tbody></table></td></tr><tr><td>Culture</td><td><details class=\"dni-treeview\"><summary><span class=\"dni-code-hint\"><code>en</code></span></summary><div><table><thead><tr></tr></thead><tbody><tr><td>Parent</td><td><details class=\"dni-treeview\"><summary><span class=\"dni-code-hint\"><code></code></span></summary><div><table><thead><tr></tr></thead><tbody><tr><td>Parent</td><td><details class=\"dni-treeview\"><summary><span class=\"dni-code-hint\"><code></code></span></summary><div><table><thead><tr></tr></thead><tbody><tr><td>Parent</td><td><details class=\"dni-treeview\"><summary><span class=\"dni-code-hint\"><code></code></span></summary><div><table><thead><tr></tr></thead><tbody><tr><td>Parent</td><td><details class=\"dni-treeview\"><summary><span class=\"dni-code-hint\"><code></code></span></summary><div><table><thead><tr></tr></thead><tbody><tr><td>Parent</td><td></td></tr><tr><td>LCID</td><td>127</td></tr><tr><td>KeyboardLayoutId</td><td>127</td></tr><tr><td>Name</td><td></td></tr><tr><td>IetfLanguageTag</td><td></td></tr><tr><td>DisplayName</td><td>Invariant Language (Invariant Country)</td></tr><tr><td>NativeName</td><td>Invariant Language (Invariant Country)</td></tr><tr><td>EnglishName</td><td>Invariant Language (Invariant Country)</td></tr><tr><td>TwoLetterISOLanguageName</td><td>iv</td></tr><tr><td>ThreeLetterISOLanguageName</td><td>ivl</td></tr><tr><td>ThreeLetterWindowsLanguageName</td><td>IVL</td></tr><tr><td>CompareInfo</td><td>CompareInfo - </td></tr><tr><td>TextInfo</td><td>TextInfo - </td></tr><tr><td>IsNeutralCulture</td><td>False</td></tr><tr><td>CultureTypes</td><td>SpecificCultures, InstalledWin32Cultures</td></tr><tr><td>NumberFormat</td><td>System.Globalization.NumberFormatInfo</td></tr><tr><td>DateTimeFormat</td><td>System.Globalization.DateTimeFormatInfo</td></tr><tr><td>Calendar</td><td>System.Globalization.GregorianCalendar</td></tr><tr><td>OptionalCalendars</td><td>[ System.Globalization.GregorianCalendar ]</td></tr><tr><td>UseUserOverride</td><td>False</td></tr><tr><td>IsReadOnly</td><td>True</td></tr></tbody></table></div></details></td></tr><tr><td>LCID</td><td><div class=\"dni-plaintext\"><pre>127</pre></div></td></tr><tr><td>KeyboardLayoutId</td><td><div class=\"dni-plaintext\"><pre>127</pre></div></td></tr><tr><td>Name</td><td><div class=\"dni-plaintext\"><pre></pre></div></td></tr><tr><td>IetfLanguageTag</td><td><div class=\"dni-plaintext\"><pre></pre></div></td></tr><tr><td>DisplayName</td><td><div class=\"dni-plaintext\"><pre>Invariant Language (Invariant Country)</pre></div></td></tr><tr><td>NativeName</td><td><div class=\"dni-plaintext\"><pre>Invariant Language (Invariant Country)</pre></div></td></tr><tr><td>EnglishName</td><td><div class=\"dni-plaintext\"><pre>Invariant Language (Invariant Country)</pre></div></td></tr><tr><td>TwoLetterISOLanguageName</td><td><div class=\"dni-plaintext\"><pre>iv</pre></div></td></tr><tr><td>ThreeLetterISOLanguageName</td><td><div class=\"dni-plaintext\"><pre>ivl</pre></div></td></tr><tr><td>ThreeLetterWindowsLanguageName</td><td><div class=\"dni-plaintext\"><pre>IVL</pre></div></td></tr><tr><td>CompareInfo</td><td><details class=\"dni-treeview\"><summary><span class=\"dni-code-hint\"><code>CompareInfo -</code></span></summary><div><table><thead><tr></tr></thead><tbody><tr><td>Name</td><td></td></tr><tr><td>Version</td><td>System.Globalization.SortVersion</td></tr><tr><td>LCID</td><td>127</td></tr></tbody></table></div></details></td></tr><tr><td>TextInfo</td><td><details class=\"dni-treeview\"><summary><span class=\"dni-code-hint\"><code>TextInfo -</code></span></summary><div><table><thead><tr></tr></thead><tbody><tr><td>ANSICodePage</td><td>1252</td></tr><tr><td>OEMCodePage</td><td>437</td></tr><tr><td>MacCodePage</td><td>10000</td></tr><tr><td>EBCDICCodePage</td><td>37</td></tr><tr><td>LCID</td><td>127</td></tr><tr><td>CultureName</td><td></td></tr><tr><td>IsReadOnly</td><td>True</td></tr><tr><td>ListSeparator</td><td>,</td></tr><tr><td>IsRightToLeft</td><td>False</td></tr></tbody></table></div></details></td></tr><tr><td>IsNeutralCulture</td><td><div class=\"dni-plaintext\"><pre>False</pre></div></td></tr><tr><td>CultureTypes</td><td><span>SpecificCultures, InstalledWin32Cultures</span></td></tr><tr><td>NumberFormat</td><td><details class=\"dni-treeview\"><summary><span class=\"dni-code-hint\"><code>System.Globalization.NumberFormatInfo</code></span></summary><div><table><thead><tr></tr></thead><tbody><tr><td>CurrencyDecimalDigits</td><td>2</td></tr><tr><td>CurrencyDecimalSeparator</td><td>.</td></tr><tr><td>IsReadOnly</td><td>True</td></tr><tr><td>CurrencyGroupSizes</td><td>[ 3 ]</td></tr><tr><td>NumberGroupSizes</td><td>[ 3 ]</td></tr><tr><td>PercentGroupSizes</td><td>[ 3 ]</td></tr><tr><td>CurrencyGroupSeparator</td><td>,</td></tr><tr><td>CurrencySymbol</td><td>¤</td></tr><tr><td>NaNSymbol</td><td>NaN</td></tr><tr><td>CurrencyNegativePattern</td><td>0</td></tr><tr><td>NumberNegativePattern</td><td>1</td></tr><tr><td>PercentPositivePattern</td><td>0</td></tr><tr><td>PercentNegativePattern</td><td>0</td></tr><tr><td>NegativeInfinitySymbol</td><td>-Infinity</td></tr><tr><td>NegativeSign</td><td>-</td></tr><tr><td>NumberDecimalDigits</td><td>2</td></tr><tr><td>NumberDecimalSeparator</td><td>.</td></tr><tr><td>NumberGroupSeparator</td><td>,</td></tr><tr><td>CurrencyPositivePattern</td><td>0</td></tr><tr><td>PositiveInfinitySymbol</td><td>Infinity</td></tr><tr><td>PositiveSign</td><td>+</td></tr><tr><td>PercentDecimalDigits</td><td>2</td></tr><tr><td>PercentDecimalSeparator</td><td>.</td></tr><tr><td>PercentGroupSeparator</td><td>,</td></tr><tr><td>PercentSymbol</td><td>%</td></tr><tr><td>PerMilleSymbol</td><td>‰</td></tr><tr><td>NativeDigits</td><td>[ 0, 1, 2, 3, 4, 5, 6, 7, 8, 9 ]</td></tr><tr><td>DigitSubstitution</td><td>None</td></tr></tbody></table></div></details></td></tr><tr><td>DateTimeFormat</td><td><details class=\"dni-treeview\"><summary><span class=\"dni-code-hint\"><code>System.Globalization.DateTimeFormatInfo</code></span></summary><div><table><thead><tr></tr></thead><tbody><tr><td>AMDesignator</td><td>AM</td></tr><tr><td>Calendar</td><td>System.Globalization.GregorianCalendar</td></tr><tr><td>DateSeparator</td><td>/</td></tr><tr><td>FirstDayOfWeek</td><td>Sunday</td></tr><tr><td>CalendarWeekRule</td><td>FirstDay</td></tr><tr><td>FullDateTimePattern</td><td>dddd, dd MMMM yyyy HH:mm:ss</td></tr><tr><td>LongDatePattern</td><td>dddd, dd MMMM yyyy</td></tr><tr><td>LongTimePattern</td><td>HH:mm:ss</td></tr><tr><td>MonthDayPattern</td><td>MMMM dd</td></tr><tr><td>PMDesignator</td><td>PM</td></tr><tr><td>RFC1123Pattern</td><td>ddd, dd MMM yyyy HH':'mm':'ss 'GMT'</td></tr><tr><td>ShortDatePattern</td><td>MM/dd/yyyy</td></tr><tr><td>ShortTimePattern</td><td>HH:mm</td></tr><tr><td>SortableDateTimePattern</td><td>yyyy'-'MM'-'dd'T'HH':'mm':'ss</td></tr><tr><td>TimeSeparator</td><td>:</td></tr><tr><td>UniversalSortableDateTimePattern</td><td>yyyy'-'MM'-'dd HH':'mm':'ss'Z'</td></tr><tr><td>YearMonthPattern</td><td>yyyy MMMM</td></tr><tr><td>AbbreviatedDayNames</td><td>[ Sun, Mon, Tue, Wed, Thu, Fri, Sat ]</td></tr><tr><td>ShortestDayNames</td><td>[ Su, Mo, Tu, We, Th, Fr, Sa ]</td></tr><tr><td>DayNames</td><td>[ Sunday, Monday, Tuesday, Wednesday, Thursday, Friday, Saturday ]</td></tr><tr><td>AbbreviatedMonthNames</td><td>[ Jan, Feb, Mar, Apr, May, Jun, Jul, Aug, Sep, Oct, Nov, Dec,  ]</td></tr><tr><td>MonthNames</td><td>[ January, February, March, April, May, June, July, August, September, October, November, December,  ]</td></tr><tr><td>IsReadOnly</td><td>True</td></tr><tr><td>NativeCalendarName</td><td>Gregorian Calendar</td></tr><tr><td>AbbreviatedMonthGenitiveNames</td><td>[ Jan, Feb, Mar, Apr, May, Jun, Jul, Aug, Sep, Oct, Nov, Dec,  ]</td></tr><tr><td>MonthGenitiveNames</td><td>[ January, February, March, April, May, June, July, August, September, October, November, December,  ]</td></tr></tbody></table></div></details></td></tr><tr><td>Calendar</td><td><details class=\"dni-treeview\"><summary><span class=\"dni-code-hint\"><code>System.Globalization.GregorianCalendar</code></span></summary><div><table><thead><tr></tr></thead><tbody><tr><td>MinSupportedDateTime</td><td>1/1/0001 12:00:00 AM</td></tr><tr><td>MaxSupportedDateTime</td><td>12/31/9999 11:59:59 PM</td></tr><tr><td>AlgorithmType</td><td>SolarCalendar</td></tr><tr><td>CalendarType</td><td>Localized</td></tr><tr><td>Eras</td><td>[ 1 ]</td></tr><tr><td>TwoDigitYearMax</td><td>2029</td></tr><tr><td>IsReadOnly</td><td>True</td></tr></tbody></table></div></details></td></tr><tr><td>OptionalCalendars</td><td><table><thead><tr><th><i>index</i></th><th>value</th></tr></thead><tbody><tr><td>0</td><td>System.Globalization.GregorianCalendar</td></tr></tbody></table></td></tr><tr><td>UseUserOverride</td><td><div class=\"dni-plaintext\"><pre>False</pre></div></td></tr><tr><td>IsReadOnly</td><td><div class=\"dni-plaintext\"><pre>True</pre></div></td></tr></tbody></table></div></details></td></tr><tr><td>LCID</td><td><div class=\"dni-plaintext\"><pre>127</pre></div></td></tr><tr><td>KeyboardLayoutId</td><td><div class=\"dni-plaintext\"><pre>127</pre></div></td></tr><tr><td>Name</td><td><div class=\"dni-plaintext\"><pre></pre></div></td></tr><tr><td>IetfLanguageTag</td><td><div class=\"dni-plaintext\"><pre></pre></div></td></tr><tr><td>DisplayName</td><td><div class=\"dni-plaintext\"><pre>Invariant Language (Invariant Country)</pre></div></td></tr><tr><td>NativeName</td><td><div class=\"dni-plaintext\"><pre>Invariant Language (Invariant Country)</pre></div></td></tr><tr><td>EnglishName</td><td><div class=\"dni-plaintext\"><pre>Invariant Language (Invariant Country)</pre></div></td></tr><tr><td>TwoLetterISOLanguageName</td><td><div class=\"dni-plaintext\"><pre>iv</pre></div></td></tr><tr><td>ThreeLetterISOLanguageName</td><td><div class=\"dni-plaintext\"><pre>ivl</pre></div></td></tr><tr><td>ThreeLetterWindowsLanguageName</td><td><div class=\"dni-plaintext\"><pre>IVL</pre></div></td></tr><tr><td>CompareInfo</td><td><details class=\"dni-treeview\"><summary><span class=\"dni-code-hint\"><code>CompareInfo -</code></span></summary><div><table><thead><tr></tr></thead><tbody><tr><td>Name</td><td><div class=\"dni-plaintext\"><pre></pre></div></td></tr><tr><td>Version</td><td><details class=\"dni-treeview\"><summary><span class=\"dni-code-hint\"><code>System.Globalization.SortVersion</code></span></summary><div><table><thead><tr></tr></thead><tbody><tr><td>FullVersion</td><td>26777</td></tr><tr><td>SortId</td><td>00006899-0000-0000-0000-00000000007f</td></tr></tbody></table></div></details></td></tr><tr><td>LCID</td><td><div class=\"dni-plaintext\"><pre>127</pre></div></td></tr></tbody></table></div></details></td></tr><tr><td>TextInfo</td><td><details class=\"dni-treeview\"><summary><span class=\"dni-code-hint\"><code>TextInfo -</code></span></summary><div><table><thead><tr></tr></thead><tbody><tr><td>ANSICodePage</td><td><div class=\"dni-plaintext\"><pre>1252</pre></div></td></tr><tr><td>OEMCodePage</td><td><div class=\"dni-plaintext\"><pre>437</pre></div></td></tr><tr><td>MacCodePage</td><td><div class=\"dni-plaintext\"><pre>10000</pre></div></td></tr><tr><td>EBCDICCodePage</td><td><div class=\"dni-plaintext\"><pre>37</pre></div></td></tr><tr><td>LCID</td><td><div class=\"dni-plaintext\"><pre>127</pre></div></td></tr><tr><td>CultureName</td><td><div class=\"dni-plaintext\"><pre></pre></div></td></tr><tr><td>IsReadOnly</td><td><div class=\"dni-plaintext\"><pre>True</pre></div></td></tr><tr><td>ListSeparator</td><td><div class=\"dni-plaintext\"><pre>,</pre></div></td></tr><tr><td>IsRightToLeft</td><td><div class=\"dni-plaintext\"><pre>False</pre></div></td></tr></tbody></table></div></details></td></tr><tr><td>IsNeutralCulture</td><td><div class=\"dni-plaintext\"><pre>False</pre></div></td></tr><tr><td>CultureTypes</td><td><span>SpecificCultures, InstalledWin32Cultures</span></td></tr><tr><td>NumberFormat</td><td><details class=\"dni-treeview\"><summary><span class=\"dni-code-hint\"><code>System.Globalization.NumberFormatInfo</code></span></summary><div><table><thead><tr></tr></thead><tbody><tr><td>CurrencyDecimalDigits</td><td><div class=\"dni-plaintext\"><pre>2</pre></div></td></tr><tr><td>CurrencyDecimalSeparator</td><td><div class=\"dni-plaintext\"><pre>.</pre></div></td></tr><tr><td>IsReadOnly</td><td><div class=\"dni-plaintext\"><pre>True</pre></div></td></tr><tr><td>CurrencyGroupSizes</td><td><div class=\"dni-plaintext\"><pre>[ 3 ]</pre></div></td></tr><tr><td>NumberGroupSizes</td><td><div class=\"dni-plaintext\"><pre>[ 3 ]</pre></div></td></tr><tr><td>PercentGroupSizes</td><td><div class=\"dni-plaintext\"><pre>[ 3 ]</pre></div></td></tr><tr><td>CurrencyGroupSeparator</td><td><div class=\"dni-plaintext\"><pre>,</pre></div></td></tr><tr><td>CurrencySymbol</td><td><div class=\"dni-plaintext\"><pre>&#164;</pre></div></td></tr><tr><td>NaNSymbol</td><td><div class=\"dni-plaintext\"><pre>NaN</pre></div></td></tr><tr><td>CurrencyNegativePattern</td><td><div class=\"dni-plaintext\"><pre>0</pre></div></td></tr><tr><td>NumberNegativePattern</td><td><div class=\"dni-plaintext\"><pre>1</pre></div></td></tr><tr><td>PercentPositivePattern</td><td><div class=\"dni-plaintext\"><pre>0</pre></div></td></tr><tr><td>PercentNegativePattern</td><td><div class=\"dni-plaintext\"><pre>0</pre></div></td></tr><tr><td>NegativeInfinitySymbol</td><td><div class=\"dni-plaintext\"><pre>-Infinity</pre></div></td></tr><tr><td>NegativeSign</td><td><div class=\"dni-plaintext\"><pre>-</pre></div></td></tr><tr><td>NumberDecimalDigits</td><td><div class=\"dni-plaintext\"><pre>2</pre></div></td></tr><tr><td>NumberDecimalSeparator</td><td><div class=\"dni-plaintext\"><pre>.</pre></div></td></tr><tr><td>NumberGroupSeparator</td><td><div class=\"dni-plaintext\"><pre>,</pre></div></td></tr><tr><td>CurrencyPositivePattern</td><td><div class=\"dni-plaintext\"><pre>0</pre></div></td></tr><tr><td>PositiveInfinitySymbol</td><td><div class=\"dni-plaintext\"><pre>Infinity</pre></div></td></tr><tr><td>PositiveSign</td><td><div class=\"dni-plaintext\"><pre>+</pre></div></td></tr><tr><td>PercentDecimalDigits</td><td><div class=\"dni-plaintext\"><pre>2</pre></div></td></tr><tr><td>PercentDecimalSeparator</td><td><div class=\"dni-plaintext\"><pre>.</pre></div></td></tr><tr><td>PercentGroupSeparator</td><td><div class=\"dni-plaintext\"><pre>,</pre></div></td></tr><tr><td>PercentSymbol</td><td><div class=\"dni-plaintext\"><pre>%</pre></div></td></tr><tr><td>PerMilleSymbol</td><td><div class=\"dni-plaintext\"><pre>‰</pre></div></td></tr><tr><td>NativeDigits</td><td><div class=\"dni-plaintext\"><pre>[ 0, 1, 2, 3, 4, 5, 6, 7, 8, 9 ]</pre></div></td></tr><tr><td>DigitSubstitution</td><td><span>None</span></td></tr></tbody></table></div></details></td></tr><tr><td>DateTimeFormat</td><td><details class=\"dni-treeview\"><summary><span class=\"dni-code-hint\"><code>System.Globalization.DateTimeFormatInfo</code></span></summary><div><table><thead><tr></tr></thead><tbody><tr><td>AMDesignator</td><td><div class=\"dni-plaintext\"><pre>AM</pre></div></td></tr><tr><td>Calendar</td><td><details class=\"dni-treeview\"><summary><span class=\"dni-code-hint\"><code>System.Globalization.GregorianCalendar</code></span></summary><div><table><thead><tr></tr></thead><tbody><tr><td>MinSupportedDateTime</td><td>1/1/0001 12:00:00 AM</td></tr><tr><td>MaxSupportedDateTime</td><td>12/31/9999 11:59:59 PM</td></tr><tr><td>AlgorithmType</td><td>SolarCalendar</td></tr><tr><td>CalendarType</td><td>Localized</td></tr><tr><td>Eras</td><td>[ 1 ]</td></tr><tr><td>TwoDigitYearMax</td><td>2029</td></tr><tr><td>IsReadOnly</td><td>True</td></tr></tbody></table></div></details></td></tr><tr><td>DateSeparator</td><td><div class=\"dni-plaintext\"><pre>/</pre></div></td></tr><tr><td>FirstDayOfWeek</td><td><span>Sunday</span></td></tr><tr><td>CalendarWeekRule</td><td><span>FirstDay</span></td></tr><tr><td>FullDateTimePattern</td><td><div class=\"dni-plaintext\"><pre>dddd, dd MMMM yyyy HH:mm:ss</pre></div></td></tr><tr><td>LongDatePattern</td><td><div class=\"dni-plaintext\"><pre>dddd, dd MMMM yyyy</pre></div></td></tr><tr><td>LongTimePattern</td><td><div class=\"dni-plaintext\"><pre>HH:mm:ss</pre></div></td></tr><tr><td>MonthDayPattern</td><td><div class=\"dni-plaintext\"><pre>MMMM dd</pre></div></td></tr><tr><td>PMDesignator</td><td><div class=\"dni-plaintext\"><pre>PM</pre></div></td></tr><tr><td>RFC1123Pattern</td><td><div class=\"dni-plaintext\"><pre>ddd, dd MMM yyyy HH&#39;:&#39;mm&#39;:&#39;ss &#39;GMT&#39;</pre></div></td></tr><tr><td>ShortDatePattern</td><td><div class=\"dni-plaintext\"><pre>MM/dd/yyyy</pre></div></td></tr><tr><td>ShortTimePattern</td><td><div class=\"dni-plaintext\"><pre>HH:mm</pre></div></td></tr><tr><td>SortableDateTimePattern</td><td><div class=\"dni-plaintext\"><pre>yyyy&#39;-&#39;MM&#39;-&#39;dd&#39;T&#39;HH&#39;:&#39;mm&#39;:&#39;ss</pre></div></td></tr><tr><td>TimeSeparator</td><td><div class=\"dni-plaintext\"><pre>:</pre></div></td></tr><tr><td>UniversalSortableDateTimePattern</td><td><div class=\"dni-plaintext\"><pre>yyyy&#39;-&#39;MM&#39;-&#39;dd HH&#39;:&#39;mm&#39;:&#39;ss&#39;Z&#39;</pre></div></td></tr><tr><td>YearMonthPattern</td><td><div class=\"dni-plaintext\"><pre>yyyy MMMM</pre></div></td></tr><tr><td>AbbreviatedDayNames</td><td><div class=\"dni-plaintext\"><pre>[ Sun, Mon, Tue, Wed, Thu, Fri, Sat ]</pre></div></td></tr><tr><td>ShortestDayNames</td><td><div class=\"dni-plaintext\"><pre>[ Su, Mo, Tu, We, Th, Fr, Sa ]</pre></div></td></tr><tr><td>DayNames</td><td><div class=\"dni-plaintext\"><pre>[ Sunday, Monday, Tuesday, Wednesday, Thursday, Friday, Saturday ]</pre></div></td></tr><tr><td>AbbreviatedMonthNames</td><td><div class=\"dni-plaintext\"><pre>[ Jan, Feb, Mar, Apr, May, Jun, Jul, Aug, Sep, Oct, Nov, Dec,  ]</pre></div></td></tr><tr><td>MonthNames</td><td><div class=\"dni-plaintext\"><pre>[ January, February, March, April, May, June, July, August, September, October, November, December,  ]</pre></div></td></tr><tr><td>IsReadOnly</td><td><div class=\"dni-plaintext\"><pre>True</pre></div></td></tr><tr><td>NativeCalendarName</td><td><div class=\"dni-plaintext\"><pre>Gregorian Calendar</pre></div></td></tr><tr><td>AbbreviatedMonthGenitiveNames</td><td><div class=\"dni-plaintext\"><pre>[ Jan, Feb, Mar, Apr, May, Jun, Jul, Aug, Sep, Oct, Nov, Dec,  ]</pre></div></td></tr><tr><td>MonthGenitiveNames</td><td><div class=\"dni-plaintext\"><pre>[ January, February, March, April, May, June, July, August, September, October, November, December,  ]</pre></div></td></tr></tbody></table></div></details></td></tr><tr><td>Calendar</td><td><details class=\"dni-treeview\"><summary><span class=\"dni-code-hint\"><code>System.Globalization.GregorianCalendar</code></span></summary><div><table><thead><tr></tr></thead><tbody><tr><td>MinSupportedDateTime</td><td><span>0001-01-01 00:00:00Z</span></td></tr><tr><td>MaxSupportedDateTime</td><td><span>9999-12-31 23:59:59Z</span></td></tr><tr><td>AlgorithmType</td><td><span>SolarCalendar</span></td></tr><tr><td>CalendarType</td><td><span>Localized</span></td></tr><tr><td>Eras</td><td><div class=\"dni-plaintext\"><pre>[ 1 ]</pre></div></td></tr><tr><td>TwoDigitYearMax</td><td><div class=\"dni-plaintext\"><pre>2029</pre></div></td></tr><tr><td>IsReadOnly</td><td><div class=\"dni-plaintext\"><pre>True</pre></div></td></tr></tbody></table></div></details></td></tr><tr><td>OptionalCalendars</td><td><table><thead><tr><th><i>index</i></th><th>value</th></tr></thead><tbody><tr><td>0</td><td><details class=\"dni-treeview\"><summary><span class=\"dni-code-hint\"><code>System.Globalization.GregorianCalendar</code></span></summary><div><table><thead><tr></tr></thead><tbody><tr><td>MinSupportedDateTime</td><td>1/1/0001 12:00:00 AM</td></tr><tr><td>MaxSupportedDateTime</td><td>12/31/9999 11:59:59 PM</td></tr><tr><td>AlgorithmType</td><td>SolarCalendar</td></tr><tr><td>CalendarType</td><td>Localized</td></tr><tr><td>Eras</td><td>[ 1 ]</td></tr><tr><td>TwoDigitYearMax</td><td>2029</td></tr><tr><td>IsReadOnly</td><td>False</td></tr></tbody></table></div></details></td></tr></tbody></table></td></tr><tr><td>UseUserOverride</td><td><div class=\"dni-plaintext\"><pre>False</pre></div></td></tr><tr><td>IsReadOnly</td><td><div class=\"dni-plaintext\"><pre>True</pre></div></td></tr></tbody></table></div></details></td></tr><tr><td>LCID</td><td><div class=\"dni-plaintext\"><pre>127</pre></div></td></tr><tr><td>KeyboardLayoutId</td><td><div class=\"dni-plaintext\"><pre>127</pre></div></td></tr><tr><td>Name</td><td><div class=\"dni-plaintext\"><pre></pre></div></td></tr><tr><td>IetfLanguageTag</td><td><div class=\"dni-plaintext\"><pre></pre></div></td></tr><tr><td>DisplayName</td><td><div class=\"dni-plaintext\"><pre>Invariant Language (Invariant Country)</pre></div></td></tr><tr><td>NativeName</td><td><div class=\"dni-plaintext\"><pre>Invariant Language (Invariant Country)</pre></div></td></tr><tr><td>EnglishName</td><td><div class=\"dni-plaintext\"><pre>Invariant Language (Invariant Country)</pre></div></td></tr><tr><td>TwoLetterISOLanguageName</td><td><div class=\"dni-plaintext\"><pre>iv</pre></div></td></tr><tr><td>ThreeLetterISOLanguageName</td><td><div class=\"dni-plaintext\"><pre>ivl</pre></div></td></tr><tr><td>ThreeLetterWindowsLanguageName</td><td><div class=\"dni-plaintext\"><pre>IVL</pre></div></td></tr><tr><td>CompareInfo</td><td><details class=\"dni-treeview\"><summary><span class=\"dni-code-hint\"><code>CompareInfo -</code></span></summary><div><table><thead><tr></tr></thead><tbody><tr><td>Name</td><td><div class=\"dni-plaintext\"><pre></pre></div></td></tr><tr><td>Version</td><td><details class=\"dni-treeview\"><summary><span class=\"dni-code-hint\"><code>System.Globalization.SortVersion</code></span></summary><div><table><thead><tr></tr></thead><tbody><tr><td>FullVersion</td><td><div class=\"dni-plaintext\"><pre>26777</pre></div></td></tr><tr><td>SortId</td><td><div class=\"dni-plaintext\"><pre>00006899-0000-0000-0000-00000000007f</pre></div></td></tr></tbody></table></div></details></td></tr><tr><td>LCID</td><td><div class=\"dni-plaintext\"><pre>127</pre></div></td></tr></tbody></table></div></details></td></tr><tr><td>TextInfo</td><td><details class=\"dni-treeview\"><summary><span class=\"dni-code-hint\"><code>TextInfo -</code></span></summary><div><table><thead><tr></tr></thead><tbody><tr><td>ANSICodePage</td><td><div class=\"dni-plaintext\"><pre>1252</pre></div></td></tr><tr><td>OEMCodePage</td><td><div class=\"dni-plaintext\"><pre>437</pre></div></td></tr><tr><td>MacCodePage</td><td><div class=\"dni-plaintext\"><pre>10000</pre></div></td></tr><tr><td>EBCDICCodePage</td><td><div class=\"dni-plaintext\"><pre>37</pre></div></td></tr><tr><td>LCID</td><td><div class=\"dni-plaintext\"><pre>127</pre></div></td></tr><tr><td>CultureName</td><td><div class=\"dni-plaintext\"><pre></pre></div></td></tr><tr><td>IsReadOnly</td><td><div class=\"dni-plaintext\"><pre>True</pre></div></td></tr><tr><td>ListSeparator</td><td><div class=\"dni-plaintext\"><pre>,</pre></div></td></tr><tr><td>IsRightToLeft</td><td><div class=\"dni-plaintext\"><pre>False</pre></div></td></tr></tbody></table></div></details></td></tr><tr><td>IsNeutralCulture</td><td><div class=\"dni-plaintext\"><pre>False</pre></div></td></tr><tr><td>CultureTypes</td><td><span>SpecificCultures, InstalledWin32Cultures</span></td></tr><tr><td>NumberFormat</td><td><details class=\"dni-treeview\"><summary><span class=\"dni-code-hint\"><code>System.Globalization.NumberFormatInfo</code></span></summary><div><table><thead><tr></tr></thead><tbody><tr><td>CurrencyDecimalDigits</td><td><div class=\"dni-plaintext\"><pre>2</pre></div></td></tr><tr><td>CurrencyDecimalSeparator</td><td><div class=\"dni-plaintext\"><pre>.</pre></div></td></tr><tr><td>IsReadOnly</td><td><div class=\"dni-plaintext\"><pre>True</pre></div></td></tr><tr><td>CurrencyGroupSizes</td><td><div class=\"dni-plaintext\"><pre>[ 3 ]</pre></div></td></tr><tr><td>NumberGroupSizes</td><td><div class=\"dni-plaintext\"><pre>[ 3 ]</pre></div></td></tr><tr><td>PercentGroupSizes</td><td><div class=\"dni-plaintext\"><pre>[ 3 ]</pre></div></td></tr><tr><td>CurrencyGroupSeparator</td><td><div class=\"dni-plaintext\"><pre>,</pre></div></td></tr><tr><td>CurrencySymbol</td><td><div class=\"dni-plaintext\"><pre>&#164;</pre></div></td></tr><tr><td>NaNSymbol</td><td><div class=\"dni-plaintext\"><pre>NaN</pre></div></td></tr><tr><td>CurrencyNegativePattern</td><td><div class=\"dni-plaintext\"><pre>0</pre></div></td></tr><tr><td>NumberNegativePattern</td><td><div class=\"dni-plaintext\"><pre>1</pre></div></td></tr><tr><td>PercentPositivePattern</td><td><div class=\"dni-plaintext\"><pre>0</pre></div></td></tr><tr><td>PercentNegativePattern</td><td><div class=\"dni-plaintext\"><pre>0</pre></div></td></tr><tr><td>NegativeInfinitySymbol</td><td><div class=\"dni-plaintext\"><pre>-Infinity</pre></div></td></tr><tr><td>NegativeSign</td><td><div class=\"dni-plaintext\"><pre>-</pre></div></td></tr><tr><td>NumberDecimalDigits</td><td><div class=\"dni-plaintext\"><pre>2</pre></div></td></tr><tr><td>NumberDecimalSeparator</td><td><div class=\"dni-plaintext\"><pre>.</pre></div></td></tr><tr><td>NumberGroupSeparator</td><td><div class=\"dni-plaintext\"><pre>,</pre></div></td></tr><tr><td>CurrencyPositivePattern</td><td><div class=\"dni-plaintext\"><pre>0</pre></div></td></tr><tr><td>PositiveInfinitySymbol</td><td><div class=\"dni-plaintext\"><pre>Infinity</pre></div></td></tr><tr><td>PositiveSign</td><td><div class=\"dni-plaintext\"><pre>+</pre></div></td></tr><tr><td>PercentDecimalDigits</td><td><div class=\"dni-plaintext\"><pre>2</pre></div></td></tr><tr><td>PercentDecimalSeparator</td><td><div class=\"dni-plaintext\"><pre>.</pre></div></td></tr><tr><td>PercentGroupSeparator</td><td><div class=\"dni-plaintext\"><pre>,</pre></div></td></tr><tr><td>PercentSymbol</td><td><div class=\"dni-plaintext\"><pre>%</pre></div></td></tr><tr><td>PerMilleSymbol</td><td><div class=\"dni-plaintext\"><pre>‰</pre></div></td></tr><tr><td>NativeDigits</td><td><div class=\"dni-plaintext\"><pre>[ 0, 1, 2, 3, 4, 5, 6, 7, 8, 9 ]</pre></div></td></tr><tr><td>DigitSubstitution</td><td><span>None</span></td></tr></tbody></table></div></details></td></tr><tr><td>DateTimeFormat</td><td><details class=\"dni-treeview\"><summary><span class=\"dni-code-hint\"><code>System.Globalization.DateTimeFormatInfo</code></span></summary><div><table><thead><tr></tr></thead><tbody><tr><td>AMDesignator</td><td><div class=\"dni-plaintext\"><pre>AM</pre></div></td></tr><tr><td>Calendar</td><td><details class=\"dni-treeview\"><summary><span class=\"dni-code-hint\"><code>System.Globalization.GregorianCalendar</code></span></summary><div><table><thead><tr></tr></thead><tbody><tr><td>MinSupportedDateTime</td><td><span>0001-01-01 00:00:00Z</span></td></tr><tr><td>MaxSupportedDateTime</td><td><span>9999-12-31 23:59:59Z</span></td></tr><tr><td>AlgorithmType</td><td><span>SolarCalendar</span></td></tr><tr><td>CalendarType</td><td><span>Localized</span></td></tr><tr><td>Eras</td><td><div class=\"dni-plaintext\"><pre>[ 1 ]</pre></div></td></tr><tr><td>TwoDigitYearMax</td><td><div class=\"dni-plaintext\"><pre>2029</pre></div></td></tr><tr><td>IsReadOnly</td><td><div class=\"dni-plaintext\"><pre>True</pre></div></td></tr></tbody></table></div></details></td></tr><tr><td>DateSeparator</td><td><div class=\"dni-plaintext\"><pre>/</pre></div></td></tr><tr><td>FirstDayOfWeek</td><td><span>Sunday</span></td></tr><tr><td>CalendarWeekRule</td><td><span>FirstDay</span></td></tr><tr><td>FullDateTimePattern</td><td><div class=\"dni-plaintext\"><pre>dddd, dd MMMM yyyy HH:mm:ss</pre></div></td></tr><tr><td>LongDatePattern</td><td><div class=\"dni-plaintext\"><pre>dddd, dd MMMM yyyy</pre></div></td></tr><tr><td>LongTimePattern</td><td><div class=\"dni-plaintext\"><pre>HH:mm:ss</pre></div></td></tr><tr><td>MonthDayPattern</td><td><div class=\"dni-plaintext\"><pre>MMMM dd</pre></div></td></tr><tr><td>PMDesignator</td><td><div class=\"dni-plaintext\"><pre>PM</pre></div></td></tr><tr><td>RFC1123Pattern</td><td><div class=\"dni-plaintext\"><pre>ddd, dd MMM yyyy HH&#39;:&#39;mm&#39;:&#39;ss &#39;GMT&#39;</pre></div></td></tr><tr><td>ShortDatePattern</td><td><div class=\"dni-plaintext\"><pre>MM/dd/yyyy</pre></div></td></tr><tr><td>ShortTimePattern</td><td><div class=\"dni-plaintext\"><pre>HH:mm</pre></div></td></tr><tr><td>SortableDateTimePattern</td><td><div class=\"dni-plaintext\"><pre>yyyy&#39;-&#39;MM&#39;-&#39;dd&#39;T&#39;HH&#39;:&#39;mm&#39;:&#39;ss</pre></div></td></tr><tr><td>TimeSeparator</td><td><div class=\"dni-plaintext\"><pre>:</pre></div></td></tr><tr><td>UniversalSortableDateTimePattern</td><td><div class=\"dni-plaintext\"><pre>yyyy&#39;-&#39;MM&#39;-&#39;dd HH&#39;:&#39;mm&#39;:&#39;ss&#39;Z&#39;</pre></div></td></tr><tr><td>YearMonthPattern</td><td><div class=\"dni-plaintext\"><pre>yyyy MMMM</pre></div></td></tr><tr><td>AbbreviatedDayNames</td><td><div class=\"dni-plaintext\"><pre>[ Sun, Mon, Tue, Wed, Thu, Fri, Sat ]</pre></div></td></tr><tr><td>ShortestDayNames</td><td><div class=\"dni-plaintext\"><pre>[ Su, Mo, Tu, We, Th, Fr, Sa ]</pre></div></td></tr><tr><td>DayNames</td><td><div class=\"dni-plaintext\"><pre>[ Sunday, Monday, Tuesday, Wednesday, Thursday, Friday, Saturday ]</pre></div></td></tr><tr><td>AbbreviatedMonthNames</td><td><div class=\"dni-plaintext\"><pre>[ Jan, Feb, Mar, Apr, May, Jun, Jul, Aug, Sep, Oct, Nov, Dec,  ]</pre></div></td></tr><tr><td>MonthNames</td><td><div class=\"dni-plaintext\"><pre>[ January, February, March, April, May, June, July, August, September, October, November, December,  ]</pre></div></td></tr><tr><td>IsReadOnly</td><td><div class=\"dni-plaintext\"><pre>True</pre></div></td></tr><tr><td>NativeCalendarName</td><td><div class=\"dni-plaintext\"><pre>Gregorian Calendar</pre></div></td></tr><tr><td>AbbreviatedMonthGenitiveNames</td><td><div class=\"dni-plaintext\"><pre>[ Jan, Feb, Mar, Apr, May, Jun, Jul, Aug, Sep, Oct, Nov, Dec,  ]</pre></div></td></tr><tr><td>MonthGenitiveNames</td><td><div class=\"dni-plaintext\"><pre>[ January, February, March, April, May, June, July, August, September, October, November, December,  ]</pre></div></td></tr></tbody></table></div></details></td></tr><tr><td>Calendar</td><td><details class=\"dni-treeview\"><summary><span class=\"dni-code-hint\"><code>System.Globalization.GregorianCalendar</code></span></summary><div><table><thead><tr></tr></thead><tbody><tr><td>MinSupportedDateTime</td><td><span>0001-01-01 00:00:00Z</span></td></tr><tr><td>MaxSupportedDateTime</td><td><span>9999-12-31 23:59:59Z</span></td></tr><tr><td>AlgorithmType</td><td><span>SolarCalendar</span></td></tr><tr><td>CalendarType</td><td><span>Localized</span></td></tr><tr><td>Eras</td><td><div class=\"dni-plaintext\"><pre>[ 1 ]</pre></div></td></tr><tr><td>TwoDigitYearMax</td><td><div class=\"dni-plaintext\"><pre>2029</pre></div></td></tr><tr><td>IsReadOnly</td><td><div class=\"dni-plaintext\"><pre>True</pre></div></td></tr></tbody></table></div></details></td></tr><tr><td>OptionalCalendars</td><td><table><thead><tr><th><i>index</i></th><th>value</th></tr></thead><tbody><tr><td>0</td><td><details class=\"dni-treeview\"><summary><span class=\"dni-code-hint\"><code>System.Globalization.GregorianCalendar</code></span></summary><div><table><thead><tr></tr></thead><tbody><tr><td>MinSupportedDateTime</td><td><span>0001-01-01 00:00:00Z</span></td></tr><tr><td>MaxSupportedDateTime</td><td><span>9999-12-31 23:59:59Z</span></td></tr><tr><td>AlgorithmType</td><td><span>SolarCalendar</span></td></tr><tr><td>CalendarType</td><td><span>Localized</span></td></tr><tr><td>Eras</td><td><div class=\"dni-plaintext\"><pre>[ 1 ]</pre></div></td></tr><tr><td>TwoDigitYearMax</td><td><div class=\"dni-plaintext\"><pre>2029</pre></div></td></tr><tr><td>IsReadOnly</td><td><div class=\"dni-plaintext\"><pre>False</pre></div></td></tr></tbody></table></div></details></td></tr></tbody></table></td></tr><tr><td>UseUserOverride</td><td><div class=\"dni-plaintext\"><pre>False</pre></div></td></tr><tr><td>IsReadOnly</td><td><div class=\"dni-plaintext\"><pre>True</pre></div></td></tr></tbody></table></div></details></td></tr><tr><td>LCID</td><td><div class=\"dni-plaintext\"><pre>9</pre></div></td></tr><tr><td>KeyboardLayoutId</td><td><div class=\"dni-plaintext\"><pre>9</pre></div></td></tr><tr><td>Name</td><td><div class=\"dni-plaintext\"><pre>en</pre></div></td></tr><tr><td>IetfLanguageTag</td><td><div class=\"dni-plaintext\"><pre>en</pre></div></td></tr><tr><td>DisplayName</td><td><div class=\"dni-plaintext\"><pre>English</pre></div></td></tr><tr><td>NativeName</td><td><div class=\"dni-plaintext\"><pre>English</pre></div></td></tr><tr><td>EnglishName</td><td><div class=\"dni-plaintext\"><pre>English</pre></div></td></tr><tr><td>TwoLetterISOLanguageName</td><td><div class=\"dni-plaintext\"><pre>en</pre></div></td></tr><tr><td>ThreeLetterISOLanguageName</td><td><div class=\"dni-plaintext\"><pre>eng</pre></div></td></tr><tr><td>ThreeLetterWindowsLanguageName</td><td><div class=\"dni-plaintext\"><pre>ENU</pre></div></td></tr><tr><td>CompareInfo</td><td><details class=\"dni-treeview\"><summary><span class=\"dni-code-hint\"><code>CompareInfo - en</code></span></summary><div><table><thead><tr></tr></thead><tbody><tr><td>Name</td><td><div class=\"dni-plaintext\"><pre>en</pre></div></td></tr><tr><td>Version</td><td><details class=\"dni-treeview\"><summary><span class=\"dni-code-hint\"><code>System.Globalization.SortVersion</code></span></summary><div><table><thead><tr></tr></thead><tbody><tr><td>FullVersion</td><td><div class=\"dni-plaintext\"><pre>26777</pre></div></td></tr><tr><td>SortId</td><td><div class=\"dni-plaintext\"><pre>00006899-0000-0000-0000-000000000009</pre></div></td></tr></tbody></table></div></details></td></tr><tr><td>LCID</td><td><div class=\"dni-plaintext\"><pre>9</pre></div></td></tr></tbody></table></div></details></td></tr><tr><td>TextInfo</td><td><details class=\"dni-treeview\"><summary><span class=\"dni-code-hint\"><code>TextInfo - en</code></span></summary><div><table><thead><tr></tr></thead><tbody><tr><td>ANSICodePage</td><td><div class=\"dni-plaintext\"><pre>1252</pre></div></td></tr><tr><td>OEMCodePage</td><td><div class=\"dni-plaintext\"><pre>437</pre></div></td></tr><tr><td>MacCodePage</td><td><div class=\"dni-plaintext\"><pre>10000</pre></div></td></tr><tr><td>EBCDICCodePage</td><td><div class=\"dni-plaintext\"><pre>37</pre></div></td></tr><tr><td>LCID</td><td><div class=\"dni-plaintext\"><pre>9</pre></div></td></tr><tr><td>CultureName</td><td><div class=\"dni-plaintext\"><pre>en</pre></div></td></tr><tr><td>IsReadOnly</td><td><div class=\"dni-plaintext\"><pre>False</pre></div></td></tr><tr><td>ListSeparator</td><td><div class=\"dni-plaintext\"><pre>,</pre></div></td></tr><tr><td>IsRightToLeft</td><td><div class=\"dni-plaintext\"><pre>False</pre></div></td></tr></tbody></table></div></details></td></tr><tr><td>IsNeutralCulture</td><td><div class=\"dni-plaintext\"><pre>True</pre></div></td></tr><tr><td>CultureTypes</td><td><span>NeutralCultures, InstalledWin32Cultures</span></td></tr><tr><td>NumberFormat</td><td><details class=\"dni-treeview\"><summary><span class=\"dni-code-hint\"><code>System.Globalization.NumberFormatInfo</code></span></summary><div><table><thead><tr></tr></thead><tbody><tr><td>CurrencyDecimalDigits</td><td><div class=\"dni-plaintext\"><pre>2</pre></div></td></tr><tr><td>CurrencyDecimalSeparator</td><td><div class=\"dni-plaintext\"><pre>.</pre></div></td></tr><tr><td>IsReadOnly</td><td><div class=\"dni-plaintext\"><pre>False</pre></div></td></tr><tr><td>CurrencyGroupSizes</td><td><div class=\"dni-plaintext\"><pre>[ 3 ]</pre></div></td></tr><tr><td>NumberGroupSizes</td><td><div class=\"dni-plaintext\"><pre>[ 3 ]</pre></div></td></tr><tr><td>PercentGroupSizes</td><td><div class=\"dni-plaintext\"><pre>[ 3 ]</pre></div></td></tr><tr><td>CurrencyGroupSeparator</td><td><div class=\"dni-plaintext\"><pre>,</pre></div></td></tr><tr><td>CurrencySymbol</td><td><div class=\"dni-plaintext\"><pre>&#164;</pre></div></td></tr><tr><td>NaNSymbol</td><td><div class=\"dni-plaintext\"><pre>NaN</pre></div></td></tr><tr><td>CurrencyNegativePattern</td><td><div class=\"dni-plaintext\"><pre>1</pre></div></td></tr><tr><td>NumberNegativePattern</td><td><div class=\"dni-plaintext\"><pre>1</pre></div></td></tr><tr><td>PercentPositivePattern</td><td><div class=\"dni-plaintext\"><pre>1</pre></div></td></tr><tr><td>PercentNegativePattern</td><td><div class=\"dni-plaintext\"><pre>1</pre></div></td></tr><tr><td>NegativeInfinitySymbol</td><td><div class=\"dni-plaintext\"><pre>-∞</pre></div></td></tr><tr><td>NegativeSign</td><td><div class=\"dni-plaintext\"><pre>-</pre></div></td></tr><tr><td>NumberDecimalDigits</td><td><div class=\"dni-plaintext\"><pre>3</pre></div></td></tr><tr><td>NumberDecimalSeparator</td><td><div class=\"dni-plaintext\"><pre>.</pre></div></td></tr><tr><td>NumberGroupSeparator</td><td><div class=\"dni-plaintext\"><pre>,</pre></div></td></tr><tr><td>CurrencyPositivePattern</td><td><div class=\"dni-plaintext\"><pre>0</pre></div></td></tr><tr><td>PositiveInfinitySymbol</td><td><div class=\"dni-plaintext\"><pre>∞</pre></div></td></tr><tr><td>PositiveSign</td><td><div class=\"dni-plaintext\"><pre>+</pre></div></td></tr><tr><td>PercentDecimalDigits</td><td><div class=\"dni-plaintext\"><pre>3</pre></div></td></tr><tr><td>PercentDecimalSeparator</td><td><div class=\"dni-plaintext\"><pre>.</pre></div></td></tr><tr><td>PercentGroupSeparator</td><td><div class=\"dni-plaintext\"><pre>,</pre></div></td></tr><tr><td>PercentSymbol</td><td><div class=\"dni-plaintext\"><pre>%</pre></div></td></tr><tr><td>PerMilleSymbol</td><td><div class=\"dni-plaintext\"><pre>‰</pre></div></td></tr><tr><td>NativeDigits</td><td><div class=\"dni-plaintext\"><pre>[ 0, 1, 2, 3, 4, 5, 6, 7, 8, 9 ]</pre></div></td></tr><tr><td>DigitSubstitution</td><td><span>None</span></td></tr></tbody></table></div></details></td></tr><tr><td>DateTimeFormat</td><td><details class=\"dni-treeview\"><summary><span class=\"dni-code-hint\"><code>System.Globalization.DateTimeFormatInfo</code></span></summary><div><table><thead><tr></tr></thead><tbody><tr><td>AMDesignator</td><td><div class=\"dni-plaintext\"><pre>AM</pre></div></td></tr><tr><td>Calendar</td><td><details class=\"dni-treeview\"><summary><span class=\"dni-code-hint\"><code>System.Globalization.GregorianCalendar</code></span></summary><div><table><thead><tr></tr></thead><tbody><tr><td>MinSupportedDateTime</td><td><span>0001-01-01 00:00:00Z</span></td></tr><tr><td>MaxSupportedDateTime</td><td><span>9999-12-31 23:59:59Z</span></td></tr><tr><td>AlgorithmType</td><td><span>SolarCalendar</span></td></tr><tr><td>CalendarType</td><td><span>Localized</span></td></tr><tr><td>Eras</td><td><div class=\"dni-plaintext\"><pre>[ 1 ]</pre></div></td></tr><tr><td>TwoDigitYearMax</td><td><div class=\"dni-plaintext\"><pre>2029</pre></div></td></tr><tr><td>IsReadOnly</td><td><div class=\"dni-plaintext\"><pre>False</pre></div></td></tr></tbody></table></div></details></td></tr><tr><td>DateSeparator</td><td><div class=\"dni-plaintext\"><pre>/</pre></div></td></tr><tr><td>FirstDayOfWeek</td><td><span>Sunday</span></td></tr><tr><td>CalendarWeekRule</td><td><span>FirstDay</span></td></tr><tr><td>FullDateTimePattern</td><td><div class=\"dni-plaintext\"><pre>dddd, MMMM d, yyyy h:mm:ss tt</pre></div></td></tr><tr><td>LongDatePattern</td><td><div class=\"dni-plaintext\"><pre>dddd, MMMM d, yyyy</pre></div></td></tr><tr><td>LongTimePattern</td><td><div class=\"dni-plaintext\"><pre>h:mm:ss tt</pre></div></td></tr><tr><td>MonthDayPattern</td><td><div class=\"dni-plaintext\"><pre>MMMM d</pre></div></td></tr><tr><td>PMDesignator</td><td><div class=\"dni-plaintext\"><pre>PM</pre></div></td></tr><tr><td>RFC1123Pattern</td><td><div class=\"dni-plaintext\"><pre>ddd, dd MMM yyyy HH&#39;:&#39;mm&#39;:&#39;ss &#39;GMT&#39;</pre></div></td></tr><tr><td>ShortDatePattern</td><td><div class=\"dni-plaintext\"><pre>M/d/yyyy</pre></div></td></tr><tr><td>ShortTimePattern</td><td><div class=\"dni-plaintext\"><pre>h:mm tt</pre></div></td></tr><tr><td>SortableDateTimePattern</td><td><div class=\"dni-plaintext\"><pre>yyyy&#39;-&#39;MM&#39;-&#39;dd&#39;T&#39;HH&#39;:&#39;mm&#39;:&#39;ss</pre></div></td></tr><tr><td>TimeSeparator</td><td><div class=\"dni-plaintext\"><pre>:</pre></div></td></tr><tr><td>UniversalSortableDateTimePattern</td><td><div class=\"dni-plaintext\"><pre>yyyy&#39;-&#39;MM&#39;-&#39;dd HH&#39;:&#39;mm&#39;:&#39;ss&#39;Z&#39;</pre></div></td></tr><tr><td>YearMonthPattern</td><td><div class=\"dni-plaintext\"><pre>MMMM yyyy</pre></div></td></tr><tr><td>AbbreviatedDayNames</td><td><div class=\"dni-plaintext\"><pre>[ Sun, Mon, Tue, Wed, Thu, Fri, Sat ]</pre></div></td></tr><tr><td>ShortestDayNames</td><td><div class=\"dni-plaintext\"><pre>[ S, M, T, W, T, F, S ]</pre></div></td></tr><tr><td>DayNames</td><td><div class=\"dni-plaintext\"><pre>[ Sunday, Monday, Tuesday, Wednesday, Thursday, Friday, Saturday ]</pre></div></td></tr><tr><td>AbbreviatedMonthNames</td><td><div class=\"dni-plaintext\"><pre>[ Jan, Feb, Mar, Apr, May, Jun, Jul, Aug, Sep, Oct, Nov, Dec,  ]</pre></div></td></tr><tr><td>MonthNames</td><td><div class=\"dni-plaintext\"><pre>[ January, February, March, April, May, June, July, August, September, October, November, December,  ]</pre></div></td></tr><tr><td>IsReadOnly</td><td><div class=\"dni-plaintext\"><pre>False</pre></div></td></tr><tr><td>NativeCalendarName</td><td><div class=\"dni-plaintext\"><pre>Gregorian Calendar</pre></div></td></tr><tr><td>AbbreviatedMonthGenitiveNames</td><td><div class=\"dni-plaintext\"><pre>[ Jan, Feb, Mar, Apr, May, Jun, Jul, Aug, Sep, Oct, Nov, Dec,  ]</pre></div></td></tr><tr><td>MonthGenitiveNames</td><td><div class=\"dni-plaintext\"><pre>[ January, February, March, April, May, June, July, August, September, October, November, December,  ]</pre></div></td></tr></tbody></table></div></details></td></tr><tr><td>Calendar</td><td><details class=\"dni-treeview\"><summary><span class=\"dni-code-hint\"><code>System.Globalization.GregorianCalendar</code></span></summary><div><table><thead><tr></tr></thead><tbody><tr><td>MinSupportedDateTime</td><td><span>0001-01-01 00:00:00Z</span></td></tr><tr><td>MaxSupportedDateTime</td><td><span>9999-12-31 23:59:59Z</span></td></tr><tr><td>AlgorithmType</td><td><span>SolarCalendar</span></td></tr><tr><td>CalendarType</td><td><span>Localized</span></td></tr><tr><td>Eras</td><td><div class=\"dni-plaintext\"><pre>[ 1 ]</pre></div></td></tr><tr><td>TwoDigitYearMax</td><td><div class=\"dni-plaintext\"><pre>2029</pre></div></td></tr><tr><td>IsReadOnly</td><td><div class=\"dni-plaintext\"><pre>False</pre></div></td></tr></tbody></table></div></details></td></tr><tr><td>OptionalCalendars</td><td><table><thead><tr><th><i>index</i></th><th>value</th></tr></thead><tbody><tr><td>0</td><td><details class=\"dni-treeview\"><summary><span class=\"dni-code-hint\"><code>System.Globalization.GregorianCalendar</code></span></summary><div><table><thead><tr></tr></thead><tbody><tr><td>MinSupportedDateTime</td><td><span>0001-01-01 00:00:00Z</span></td></tr><tr><td>MaxSupportedDateTime</td><td><span>9999-12-31 23:59:59Z</span></td></tr><tr><td>AlgorithmType</td><td><span>SolarCalendar</span></td></tr><tr><td>CalendarType</td><td><span>Localized</span></td></tr><tr><td>Eras</td><td><div class=\"dni-plaintext\"><pre>[ 1 ]</pre></div></td></tr><tr><td>TwoDigitYearMax</td><td><div class=\"dni-plaintext\"><pre>2029</pre></div></td></tr><tr><td>IsReadOnly</td><td><div class=\"dni-plaintext\"><pre>False</pre></div></td></tr></tbody></table></div></details></td></tr></tbody></table></td></tr><tr><td>UseUserOverride</td><td><div class=\"dni-plaintext\"><pre>True</pre></div></td></tr><tr><td>IsReadOnly</td><td><div class=\"dni-plaintext\"><pre>False</pre></div></td></tr></tbody></table></div></details></td></tr><tr><td>Variables</td><td><table><thead><tr><th><i>key</i></th><th>value</th></tr></thead><tbody><tr><td><div class=\"dni-plaintext\"><pre>INPUT</pre></div></td><td><div class=\"dni-plaintext\"><pre>\n",
       "\n",
       "sequenceDiagram\n",
       "    participant A as Fibonacci(n)\n",
       "    participant B as Fibonacci(n-1)\n",
       "    participant C as Fibonacci(n-2)\n",
       "    A-&gt;&gt;B: n-1\n",
       "    A-&gt;&gt;C: n-2\n",
       "    B-&gt;&gt;A: Fibonacci(n-1)\n",
       "    C-&gt;&gt;A: Fibonacci(n-2)\n",
       "    A-&gt;&gt;A: Fibonacci(n)</pre></div></td></tr></tbody></table></td></tr><tr><td>Skills</td><td><details class=\"dni-treeview\"><summary><span class=\"dni-code-hint\"><code>Microsoft.SemanticKernel.SkillDefinition.SkillCollection</code></span></summary><div><table><thead><tr></tr></thead><tbody></tbody></table></div></details></td></tr><tr><td>LoggerFactory</td><td><details class=\"dni-treeview\"><summary><span class=\"dni-code-hint\"><code>Microsoft.Extensions.Logging.LoggerFactory</code></span></summary><div><table><thead><tr></tr></thead><tbody></tbody></table></div></details></td></tr><tr><td>ErrorOccurred</td><td><div class=\"dni-plaintext\"><pre>False</pre></div></td></tr><tr><td>LastException</td><td><div class=\"dni-plaintext\"><pre>&lt;null&gt;</pre></div></td></tr><tr><td>Log</td><td><details class=\"dni-treeview\"><summary><span class=\"dni-code-hint\"><code>Microsoft.Extensions.Logging.Logger`1[Microsoft.SemanticKernel.Orchestration.SKContext]</code></span></summary><div><table><thead><tr></tr></thead><tbody></tbody></table></div></details></td></tr><tr><td>CancellationToken</td><td><details class=\"dni-treeview\"><summary><span class=\"dni-code-hint\"><code>System.Threading.CancellationToken</code></span></summary><div><table><thead><tr></tr></thead><tbody><tr><td>IsCancellationRequested</td><td><div class=\"dni-plaintext\"><pre>False</pre></div></td></tr><tr><td>CanBeCanceled</td><td><div class=\"dni-plaintext\"><pre>False</pre></div></td></tr><tr><td>WaitHandle</td><td><details class=\"dni-treeview\"><summary><span class=\"dni-code-hint\"><code>System.Threading.ManualResetEvent</code></span></summary><div><table><thead><tr></tr></thead><tbody><tr><td>Handle</td><td><div class=\"dni-plaintext\"><pre>3316</pre></div></td></tr><tr><td>SafeWaitHandle</td><td><details class=\"dni-treeview\"><summary><span class=\"dni-code-hint\"><code>Microsoft.Win32.SafeHandles.SafeWaitHandle</code></span></summary><div><table><thead><tr></tr></thead><tbody><tr><td>IsInvalid</td><td><div class=\"dni-plaintext\"><pre>False</pre></div></td></tr><tr><td>IsClosed</td><td><div class=\"dni-plaintext\"><pre>False</pre></div></td></tr></tbody></table></div></details></td></tr></tbody></table></div></details></td></tr></tbody></table></div></details></td></tr><tr><td>Memory</td><td><details class=\"dni-treeview\"><summary><span class=\"dni-code-hint\"><code>System.InvalidOperationException: Memory no longer passed through SKContext. Instead, initialize your skill class with the memory provider it needs.\\r\\n   at Microsoft.SemanticKernel.Orchestration.SKContext.get_Memory()\\r\\n   at lambda_method330(Closure, SKContext)\\r\\n   at Microsoft.DotNet.Interact...</code></span></summary><div><table><thead><tr></tr></thead><tbody><tr><td>TargetSite</td><td><details class=\"dni-treeview\"><summary><span class=\"dni-code-hint\"><code>Microsoft.SemanticKernel.Memory.ISemanticTextMemory get_Memory()</code></span></summary><div><table><thead><tr></tr></thead><tbody><tr><td>Name</td><td><div class=\"dni-plaintext\"><pre>get_Memory</pre></div></td></tr><tr><td>DeclaringType</td><td><span><a href=\"https://docs.microsoft.com/dotnet/api/microsoft.semantickernel.orchestration.skcontext?view=net-7.0\">Microsoft.SemanticKernel.Orchestration.SKContext</a></span></td></tr><tr><td>ReflectedType</td><td><span><a href=\"https://docs.microsoft.com/dotnet/api/microsoft.semantickernel.orchestration.skcontext?view=net-7.0\">Microsoft.SemanticKernel.Orchestration.SKContext</a></span></td></tr><tr><td>MemberType</td><td><span>Method</span></td></tr><tr><td>MetadataToken</td><td><div class=\"dni-plaintext\"><pre>100663585</pre></div></td></tr><tr><td>Module</td><td><details class=\"dni-treeview\"><summary><span class=\"dni-code-hint\"><code>Microsoft.SemanticKernel.Abstractions.dll</code></span></summary><div><table><thead><tr></tr></thead><tbody><tr><td>MDStreamVersion</td><td><div class=\"dni-plaintext\"><pre>131072</pre></div></td></tr><tr><td>FullyQualifiedName</td><td><div class=\"dni-plaintext\"><pre>C:\\Users\\dicolomb\\.nuget\\packages\\microsoft.semantickernel.abstractions\\0.21.230828.2-preview\\lib\\netstandard2.0\\Microsoft.SemanticKernel.Abstractions.dll</pre></div></td></tr><tr><td>ModuleVersionId</td><td><div class=\"dni-plaintext\"><pre>f9615d6c-17d4-4d20-ba96-14e20c568e22</pre></div></td></tr><tr><td>MetadataToken</td><td><div class=\"dni-plaintext\"><pre>1</pre></div></td></tr><tr><td>ScopeName</td><td><div class=\"dni-plaintext\"><pre>Microsoft.SemanticKernel.Abstractions.dll</pre></div></td></tr><tr><td>Name</td><td><div class=\"dni-plaintext\"><pre>Microsoft.SemanticKernel.Abstractions.dll</pre></div></td></tr><tr><td>Assembly</td><td><details class=\"dni-treeview\"><summary><span class=\"dni-code-hint\"><code>Microsoft.SemanticKernel.Abstractions, Version=0.21.0.0, Culture=neutral, PublicKeyToken=f300afd708cefcd3</code></span></summary><div><table><thead><tr></tr></thead><tbody><tr><td>CodeBase</td><td><div class=\"dni-plaintext\"><pre>file:///C:/Users/dicolomb/.nuget/packages/microsoft.semantickernel.abstractions/0.21.230828.2-preview/lib/netstandard2.0/Microsoft.SemanticKernel.Abstractions.dll</pre></div></td></tr><tr><td>FullName</td><td><div class=\"dni-plaintext\"><pre>Microsoft.SemanticKernel.Abstractions, Version=0.21.0.0, Culture=neutral, PublicKeyToken=f300afd708cefcd3</pre></div></td></tr><tr><td>EntryPoint</td><td><div class=\"dni-plaintext\"><pre>&lt;null&gt;</pre></div></td></tr><tr><td>DefinedTypes</td><td><table><thead><tr><th><i>index</i></th><th>value</th></tr></thead><tbody><tr><td>0</td><td>Microsoft.CodeAnalysis.EmbeddedAttribute</td></tr><tr><td>1</td><td>System.Runtime.CompilerServices.IsReadOnlyAttribute</td></tr><tr><td>2</td><td>System.Runtime.CompilerServices.IsUnmanagedAttribute</td></tr><tr><td>3</td><td>System.Runtime.CompilerServices.NullableAttribute</td></tr><tr><td>4</td><td>System.Runtime.CompilerServices.NullableContextAttribute</td></tr><tr><td>5</td><td>HttpClientProvider</td></tr><tr><td>6</td><td>NonDisposableHttpClientHandler</td></tr><tr><td>7</td><td>System.ExceptionExtensions</td></tr><tr><td>8</td><td>System.EnvExtensions</td></tr><tr><td>9</td><td>System.Linq.AsyncEnumerable</td></tr><tr><td>10</td><td>System.Diagnostics.CodeAnalysis.AllowNullAttribute</td></tr><tr><td>11</td><td>System.Diagnostics.CodeAnalysis.DisallowNullAttribute</td></tr><tr><td>12</td><td>System.Diagnostics.CodeAnalysis.MaybeNullAttribute</td></tr><tr><td>13</td><td>System.Diagnostics.CodeAnalysis.NotNullAttribute</td></tr><tr><td>14</td><td>System.Diagnostics.CodeAnalysis.MaybeNullWhenAttribute</td></tr><tr><td>15</td><td>System.Diagnostics.CodeAnalysis.NotNullWhenAttribute</td></tr><tr><td>16</td><td>System.Diagnostics.CodeAnalysis.NotNullIfNotNullAttribute</td></tr><tr><td>17</td><td>System.Diagnostics.CodeAnalysis.DoesNotReturnAttribute</td></tr><tr><td>18</td><td>System.Diagnostics.CodeAnalysis.DoesNotReturnIfAttribute</td></tr><tr><td>19</td><td>System.Diagnostics.CodeAnalysis.MemberNotNullAttribute</td></tr><tr><td colspan=\"2\"><i>(100 more)</i></td></tr></tbody></table></td></tr><tr><td>IsCollectible</td><td><div class=\"dni-plaintext\"><pre>False</pre></div></td></tr><tr><td>ManifestModule</td><td><details class=\"dni-treeview\"><summary><span class=\"dni-code-hint\"><code>Microsoft.SemanticKernel.Abstractions.dll</code></span></summary><div><table><thead><tr></tr></thead><tbody><tr><td>MDStreamVersion</td><td>131072</td></tr><tr><td>FullyQualifiedName</td><td>C:\\Users\\dicolomb\\.nuget\\packages\\microsoft.semantickernel.abstractions\\0.21.230828.2-preview\\lib\\netstandard2.0\\Microsoft.SemanticKernel.Abstractions.dll</td></tr><tr><td>ModuleVersionId</td><td>f9615d6c-17d4-4d20-ba96-14e20c568e22</td></tr><tr><td>MetadataToken</td><td>1</td></tr><tr><td>ScopeName</td><td>Microsoft.SemanticKernel.Abstractions.dll</td></tr><tr><td>Name</td><td>Microsoft.SemanticKernel.Abstractions.dll</td></tr><tr><td>Assembly</td><td>Microsoft.SemanticKernel.Abstractions, Version=0.21.0.0, Culture=neutral, PublicKeyToken=f300afd708cefcd3</td></tr><tr><td>ModuleHandle</td><td>System.ModuleHandle</td></tr><tr><td>CustomAttributes</td><td>[  ]</td></tr></tbody></table></div></details></td></tr><tr><td>ReflectionOnly</td><td><div class=\"dni-plaintext\"><pre>False</pre></div></td></tr><tr><td>Location</td><td><div class=\"dni-plaintext\"><pre>C:\\Users\\dicolomb\\.nuget\\packages\\microsoft.semantickernel.abstractions\\0.21.230828.2-preview\\lib\\netstandard2.0\\Microsoft.SemanticKernel.Abstractions.dll</pre></div></td></tr><tr><td>ImageRuntimeVersion</td><td><div class=\"dni-plaintext\"><pre>v4.0.30319</pre></div></td></tr><tr><td>GlobalAssemblyCache</td><td><div class=\"dni-plaintext\"><pre>False</pre></div></td></tr><tr><td>HostContext</td><td><div class=\"dni-plaintext\"><pre>0</pre></div></td></tr><tr><td>IsDynamic</td><td><div class=\"dni-plaintext\"><pre>False</pre></div></td></tr><tr><td>ExportedTypes</td><td><table><thead><tr><th><i>index</i></th><th>value</th></tr></thead><tbody><tr><td>0</td><td>Microsoft.SemanticKernel.ChatCompletionServiceExtensions</td></tr><tr><td>1</td><td>Microsoft.SemanticKernel.TextEmbeddingServiceExtensions</td></tr><tr><td>2</td><td>Microsoft.SemanticKernel.ImageGenerationServiceExtensions</td></tr><tr><td>3</td><td>Microsoft.SemanticKernel.TextCompletionServiceExtensions</td></tr><tr><td>4</td><td>Microsoft.SemanticKernel.IKernel</td></tr><tr><td>5</td><td>Microsoft.SemanticKernel.KernelConfig</td></tr><tr><td>6</td><td>Microsoft.SemanticKernel.TemplateEngine.IPromptTemplateEngine</td></tr><tr><td>7</td><td>Microsoft.SemanticKernel.TemplateEngine.Blocks.Block</td></tr><tr><td>8</td><td>Microsoft.SemanticKernel.SkillDefinition.FunctionsView</td></tr><tr><td>9</td><td>Microsoft.SemanticKernel.SkillDefinition.FunctionView</td></tr><tr><td>10</td><td>Microsoft.SemanticKernel.SkillDefinition.IReadOnlySkillCollection</td></tr><tr><td>11</td><td>Microsoft.SemanticKernel.SkillDefinition.ISKFunction</td></tr><tr><td>12</td><td>Microsoft.SemanticKernel.SkillDefinition.ISkillCollection</td></tr><tr><td>13</td><td>Microsoft.SemanticKernel.SkillDefinition.ParameterView</td></tr><tr><td>14</td><td>Microsoft.SemanticKernel.SkillDefinition.ParameterViewType</td></tr><tr><td>15</td><td>Microsoft.SemanticKernel.SkillDefinition.SKFunctionAttribute</td></tr><tr><td>16</td><td>Microsoft.SemanticKernel.SkillDefinition.SKNameAttribute</td></tr><tr><td>17</td><td>Microsoft.SemanticKernel.SkillDefinition.SKParameterAttribute</td></tr><tr><td>18</td><td>Microsoft.SemanticKernel.Services.IAIService</td></tr><tr><td>19</td><td>Microsoft.SemanticKernel.Services.IAIServiceProvider</td></tr><tr><td colspan=\"2\"><i>(45 more)</i></td></tr></tbody></table></td></tr><tr><td>IsFullyTrusted</td><td><div class=\"dni-plaintext\"><pre>True</pre></div></td></tr><tr><td>CustomAttributes</td><td><table><thead><tr><th><i>index</i></th><th>value</th></tr></thead><tbody><tr><td>0</td><td>[System.Runtime.CompilerServices.ExtensionAttribute()]</td></tr><tr><td>1</td><td>[System.Runtime.CompilerServices.CompilationRelaxationsAttribute((Int32)8)]</td></tr><tr><td>2</td><td>[System.Runtime.CompilerServices.RuntimeCompatibilityAttribute(WrapNonExceptionThrows = True)]</td></tr><tr><td>3</td><td>[System.Diagnostics.DebuggableAttribute((System.Diagnostics.DebuggableAttribute+DebuggingModes)263)]</td></tr><tr><td>4</td><td>[System.Runtime.Versioning.TargetFrameworkAttribute(\".NETStandard,Version=v2.0\", FrameworkDisplayName = \"\")]</td></tr><tr><td>5</td><td>[System.CLSCompliantAttribute((Boolean)False)]</td></tr><tr><td>6</td><td>[System.Reflection.AssemblyCompanyAttribute(\"Microsoft\")]</td></tr><tr><td>7</td><td>[System.Reflection.AssemblyConfigurationAttribute(\"Publish\")]</td></tr><tr><td>8</td><td>[System.Reflection.AssemblyCopyrightAttribute(\"© Microsoft Corporation. All rights reserved.\")]</td></tr><tr><td>9</td><td>[System.Reflection.AssemblyDescriptionAttribute(\"Semantic Kernel interfaces and abstractions. This package is automatically installed by Semantic Kernel packages if needed.\")]</td></tr><tr><td>10</td><td>[System.Reflection.AssemblyFileVersionAttribute(\"0.21.0.0\")]</td></tr><tr><td>11</td><td>[System.Reflection.AssemblyInformationalVersionAttribute(\"0.21+3e12f1a78de7f40b58499072b5f38832d34d9f78\")]</td></tr><tr><td>12</td><td>[System.Reflection.AssemblyProductAttribute(\"Semantic Kernel\")]</td></tr><tr><td>13</td><td>[System.Reflection.AssemblyTitleAttribute(\"Microsoft.SemanticKernel.Abstractions\")]</td></tr><tr><td>14</td><td>[System.Reflection.AssemblyMetadataAttribute(\"RepositoryUrl\", \"https://github.com/microsoft/semantic-kernel\")]</td></tr><tr><td>15</td><td>[System.Runtime.CompilerServices.InternalsVisibleToAttribute(\"Microsoft.SemanticKernel.Core, PublicKey=002400000c80000014010000060200000024000052534131000800000100010085aad0bef0688d1b994a0d78e1fd29fc24ac34ed3d3ac3fb9b3d0c48386ba834aa880035060a8848b2d8adf58e670ed20914be3681a891c9c8c01eef2ab22872547c39be00af0e6c72485d7cfd1a51df8947d36ceba9989106b58abe79e6a3e71a01ed6bdc867012883e0b1a4d35b1b5eeed6df21e401bb0c22f2246ccb69979dc9e61eef262832ed0f2064853725a75485fa8a3efb7e027319c86dec03dc3b1bca2b5081bab52a627b9917450dfad534799e1c7af58683bdfa135f1518ff1ea60e90d7b993a6c87fd3dd93408e35d1296f9a7f9a97c5db56c0f3cc25ad11e9777f94d138b3cea53b9a8331c2e6dcb8d2ea94e18bf1163ff112a22dbd92d429a\")]</td></tr><tr><td>16</td><td>[System.Runtime.CompilerServices.InternalsVisibleToAttribute(\"SemanticKernel.UnitTests, PublicKey=002400000c80000014010000060200000024000052534131000800000100010085aad0bef0688d1b994a0d78e1fd29fc24ac34ed3d3ac3fb9b3d0c48386ba834aa880035060a8848b2d8adf58e670ed20914be3681a891c9c8c01eef2ab22872547c39be00af0e6c72485d7cfd1a51df8947d36ceba9989106b58abe79e6a3e71a01ed6bdc867012883e0b1a4d35b1b5eeed6df21e401bb0c22f2246ccb69979dc9e61eef262832ed0f2064853725a75485fa8a3efb7e027319c86dec03dc3b1bca2b5081bab52a627b9917450dfad534799e1c7af58683bdfa135f1518ff1ea60e90d7b993a6c87fd3dd93408e35d1296f9a7f9a97c5db56c0f3cc25ad11e9777f94d138b3cea53b9a8331c2e6dcb8d2ea94e18bf1163ff112a22dbd92d429a\")]</td></tr><tr><td>17</td><td>[System.Runtime.CompilerServices.InternalsVisibleToAttribute(\"Extensions.UnitTests, PublicKey=002400000c80000014010000060200000024000052534131000800000100010085aad0bef0688d1b994a0d78e1fd29fc24ac34ed3d3ac3fb9b3d0c48386ba834aa880035060a8848b2d8adf58e670ed20914be3681a891c9c8c01eef2ab22872547c39be00af0e6c72485d7cfd1a51df8947d36ceba9989106b58abe79e6a3e71a01ed6bdc867012883e0b1a4d35b1b5eeed6df21e401bb0c22f2246ccb69979dc9e61eef262832ed0f2064853725a75485fa8a3efb7e027319c86dec03dc3b1bca2b5081bab52a627b9917450dfad534799e1c7af58683bdfa135f1518ff1ea60e90d7b993a6c87fd3dd93408e35d1296f9a7f9a97c5db56c0f3cc25ad11e9777f94d138b3cea53b9a8331c2e6dcb8d2ea94e18bf1163ff112a22dbd92d429a\")]</td></tr><tr><td>18</td><td>[System.Runtime.CompilerServices.InternalsVisibleToAttribute(\"DynamicProxyGenAssembly2, PublicKey=002400000c80000014010000060200000024000052534131000800000100010085aad0bef0688d1b994a0d78e1fd29fc24ac34ed3d3ac3fb9b3d0c48386ba834aa880035060a8848b2d8adf58e670ed20914be3681a891c9c8c01eef2ab22872547c39be00af0e6c72485d7cfd1a51df8947d36ceba9989106b58abe79e6a3e71a01ed6bdc867012883e0b1a4d35b1b5eeed6df21e401bb0c22f2246ccb69979dc9e61eef262832ed0f2064853725a75485fa8a3efb7e027319c86dec03dc3b1bca2b5081bab52a627b9917450dfad534799e1c7af58683bdfa135f1518ff1ea60e90d7b993a6c87fd3dd93408e35d1296f9a7f9a97c5db56c0f3cc25ad11e9777f94d138b3cea53b9a8331c2e6dcb8d2ea94e18bf1163ff112a22dbd92d429a\")]</td></tr></tbody></table></td></tr><tr><td>EscapedCodeBase</td><td><div class=\"dni-plaintext\"><pre>file:///C:/Users/dicolomb/.nuget/packages/microsoft.semantickernel.abstractions/0.21.230828.2-preview/lib/netstandard2.0/Microsoft.SemanticKernel.Abstractions.dll</pre></div></td></tr><tr><td>Modules</td><td><table><thead><tr><th><i>index</i></th><th>value</th></tr></thead><tbody><tr><td>0</td><td>Microsoft.SemanticKernel.Abstractions.dll</td></tr></tbody></table></td></tr><tr><td>SecurityRuleSet</td><td><span>None</span></td></tr></tbody></table></div></details></td></tr><tr><td>ModuleHandle</td><td><details class=\"dni-treeview\"><summary><span class=\"dni-code-hint\"><code>System.ModuleHandle</code></span></summary><div><table><thead><tr></tr></thead><tbody><tr><td>MDStreamVersion</td><td><div class=\"dni-plaintext\"><pre>131072</pre></div></td></tr></tbody></table></div></details></td></tr><tr><td>CustomAttributes</td><td><i>(empty)</i></td></tr></tbody></table></div></details></td></tr><tr><td>IsSecurityCritical</td><td><div class=\"dni-plaintext\"><pre>True</pre></div></td></tr><tr><td>IsSecuritySafeCritical</td><td><div class=\"dni-plaintext\"><pre>False</pre></div></td></tr><tr><td>IsSecurityTransparent</td><td><div class=\"dni-plaintext\"><pre>False</pre></div></td></tr><tr><td>MethodHandle</td><td><details class=\"dni-treeview\"><summary><span class=\"dni-code-hint\"><code>System.RuntimeMethodHandle</code></span></summary><div><table><thead><tr></tr></thead><tbody><tr><td>Value</td><td><div class=\"dni-plaintext\"><pre>140717841910456</pre></div></td></tr></tbody></table></div></details></td></tr><tr><td>Attributes</td><td><span>PrivateScope, Public, HideBySig, SpecialName</span></td></tr><tr><td>CallingConvention</td><td><span>Standard, HasThis</span></td></tr><tr><td>ReturnType</td><td><span><a href=\"https://docs.microsoft.com/dotnet/api/microsoft.semantickernel.memory.isemantictextmemory?view=net-7.0\">Microsoft.SemanticKernel.Memory.ISemanticTextMemory</a></span></td></tr><tr><td>ReturnTypeCustomAttributes</td><td><details class=\"dni-treeview\"><summary><span class=\"dni-code-hint\"><code>Microsoft.SemanticKernel.Memory.ISemanticTextMemory</code></span></summary><div><table><thead><tr></tr></thead><tbody><tr><td>ParameterType</td><td><span><a href=\"https://docs.microsoft.com/dotnet/api/microsoft.semantickernel.memory.isemantictextmemory?view=net-7.0\">Microsoft.SemanticKernel.Memory.ISemanticTextMemory</a></span></td></tr><tr><td>Name</td><td><div class=\"dni-plaintext\"><pre>&lt;null&gt;</pre></div></td></tr><tr><td>HasDefaultValue</td><td><div class=\"dni-plaintext\"><pre>True</pre></div></td></tr><tr><td>DefaultValue</td><td><div class=\"dni-plaintext\"><pre>&lt;null&gt;</pre></div></td></tr><tr><td>RawDefaultValue</td><td><div class=\"dni-plaintext\"><pre>&lt;null&gt;</pre></div></td></tr><tr><td>MetadataToken</td><td><div class=\"dni-plaintext\"><pre>134217728</pre></div></td></tr><tr><td>Attributes</td><td><span>None</span></td></tr><tr><td>Member</td><td><details class=\"dni-treeview\"><summary><span class=\"dni-code-hint\"><code>Microsoft.SemanticKernel.Memory.ISemanticTextMemory get_Memory()</code></span></summary><div><table><thead><tr></tr></thead><tbody><tr><td>Name</td><td><div class=\"dni-plaintext\"><pre>get_Memory</pre></div></td></tr><tr><td>DeclaringType</td><td><span><a href=\"https://docs.microsoft.com/dotnet/api/microsoft.semantickernel.orchestration.skcontext?view=net-7.0\">Microsoft.SemanticKernel.Orchestration.SKContext</a></span></td></tr><tr><td>ReflectedType</td><td><span><a href=\"https://docs.microsoft.com/dotnet/api/microsoft.semantickernel.orchestration.skcontext?view=net-7.0\">Microsoft.SemanticKernel.Orchestration.SKContext</a></span></td></tr><tr><td>MemberType</td><td><span>Method</span></td></tr><tr><td>MetadataToken</td><td><div class=\"dni-plaintext\"><pre>100663585</pre></div></td></tr><tr><td>Module</td><td><details class=\"dni-treeview\"><summary><span class=\"dni-code-hint\"><code>Microsoft.SemanticKernel.Abstractions.dll</code></span></summary><div><table><thead><tr></tr></thead><tbody><tr><td>MDStreamVersion</td><td>131072</td></tr><tr><td>FullyQualifiedName</td><td>C:\\Users\\dicolomb\\.nuget\\packages\\microsoft.semantickernel.abstractions\\0.21.230828.2-preview\\lib\\netstandard2.0\\Microsoft.SemanticKernel.Abstractions.dll</td></tr><tr><td>ModuleVersionId</td><td>f9615d6c-17d4-4d20-ba96-14e20c568e22</td></tr><tr><td>MetadataToken</td><td>1</td></tr><tr><td>ScopeName</td><td>Microsoft.SemanticKernel.Abstractions.dll</td></tr><tr><td>Name</td><td>Microsoft.SemanticKernel.Abstractions.dll</td></tr><tr><td>Assembly</td><td>Microsoft.SemanticKernel.Abstractions, Version=0.21.0.0, Culture=neutral, PublicKeyToken=f300afd708cefcd3</td></tr><tr><td>ModuleHandle</td><td>System.ModuleHandle</td></tr><tr><td>CustomAttributes</td><td>[  ]</td></tr></tbody></table></div></details></td></tr><tr><td>IsSecurityCritical</td><td><div class=\"dni-plaintext\"><pre>True</pre></div></td></tr><tr><td>IsSecuritySafeCritical</td><td><div class=\"dni-plaintext\"><pre>False</pre></div></td></tr><tr><td>IsSecurityTransparent</td><td><div class=\"dni-plaintext\"><pre>False</pre></div></td></tr><tr><td>MethodHandle</td><td><details class=\"dni-treeview\"><summary><span class=\"dni-code-hint\"><code>System.RuntimeMethodHandle</code></span></summary><div><table><thead><tr></tr></thead><tbody><tr><td>Value</td><td>140717841910456</td></tr></tbody></table></div></details></td></tr><tr><td>Attributes</td><td><span>PrivateScope, Public, HideBySig, SpecialName</span></td></tr><tr><td>CallingConvention</td><td><span>Standard, HasThis</span></td></tr><tr><td>ReturnType</td><td><span><a href=\"https://docs.microsoft.com/dotnet/api/microsoft.semantickernel.memory.isemantictextmemory?view=net-7.0\">Microsoft.SemanticKernel.Memory.ISemanticTextMemory</a></span></td></tr><tr><td>ReturnTypeCustomAttributes</td><td><details class=\"dni-treeview\"><summary><span class=\"dni-code-hint\"><code>Microsoft.SemanticKernel.Memory.ISemanticTextMemory</code></span></summary><div><table><thead><tr></tr></thead><tbody><tr><td>ParameterType</td><td>Microsoft.SemanticKernel.Memory.ISemanticTextMemory</td></tr><tr><td>Name</td><td><div class=\"dni-plaintext\"><pre>&lt;null&gt;</pre></div></td></tr><tr><td>HasDefaultValue</td><td>True</td></tr><tr><td>DefaultValue</td><td><div class=\"dni-plaintext\"><pre>&lt;null&gt;</pre></div></td></tr><tr><td>RawDefaultValue</td><td><div class=\"dni-plaintext\"><pre>&lt;null&gt;</pre></div></td></tr><tr><td>MetadataToken</td><td>134217728</td></tr><tr><td>Attributes</td><td>None</td></tr><tr><td>Member</td><td>Microsoft.SemanticKernel.Memory.ISemanticTextMemory get_Memory()</td></tr><tr><td>Position</td><td>-1</td></tr><tr><td>IsIn</td><td>False</td></tr><tr><td>IsLcid</td><td>False</td></tr><tr><td>IsOptional</td><td>False</td></tr><tr><td>IsOut</td><td>False</td></tr><tr><td>IsRetval</td><td>False</td></tr><tr><td>CustomAttributes</td><td>[  ]</td></tr></tbody></table></div></details></td></tr><tr><td>ReturnParameter</td><td><details class=\"dni-treeview\"><summary><span class=\"dni-code-hint\"><code>Microsoft.SemanticKernel.Memory.ISemanticTextMemory</code></span></summary><div><table><thead><tr></tr></thead><tbody><tr><td>ParameterType</td><td>Microsoft.SemanticKernel.Memory.ISemanticTextMemory</td></tr><tr><td>Name</td><td><div class=\"dni-plaintext\"><pre>&lt;null&gt;</pre></div></td></tr><tr><td>HasDefaultValue</td><td>True</td></tr><tr><td>DefaultValue</td><td><div class=\"dni-plaintext\"><pre>&lt;null&gt;</pre></div></td></tr><tr><td>RawDefaultValue</td><td><div class=\"dni-plaintext\"><pre>&lt;null&gt;</pre></div></td></tr><tr><td>MetadataToken</td><td>134217728</td></tr><tr><td>Attributes</td><td>None</td></tr><tr><td>Member</td><td>Microsoft.SemanticKernel.Memory.ISemanticTextMemory get_Memory()</td></tr><tr><td>Position</td><td>-1</td></tr><tr><td>IsIn</td><td>False</td></tr><tr><td>IsLcid</td><td>False</td></tr><tr><td>IsOptional</td><td>False</td></tr><tr><td>IsOut</td><td>False</td></tr><tr><td>IsRetval</td><td>False</td></tr><tr><td>CustomAttributes</td><td>[  ]</td></tr></tbody></table></div></details></td></tr><tr><td>IsCollectible</td><td><div class=\"dni-plaintext\"><pre>False</pre></div></td></tr><tr><td>IsGenericMethod</td><td><div class=\"dni-plaintext\"><pre>False</pre></div></td></tr><tr><td>IsGenericMethodDefinition</td><td><div class=\"dni-plaintext\"><pre>False</pre></div></td></tr><tr><td>ContainsGenericParameters</td><td><div class=\"dni-plaintext\"><pre>False</pre></div></td></tr><tr><td>MethodImplementationFlags</td><td><span>IL</span></td></tr><tr><td>IsAbstract</td><td><div class=\"dni-plaintext\"><pre>False</pre></div></td></tr><tr><td>IsConstructor</td><td><div class=\"dni-plaintext\"><pre>False</pre></div></td></tr><tr><td>IsFinal</td><td><div class=\"dni-plaintext\"><pre>False</pre></div></td></tr><tr><td>IsHideBySig</td><td><div class=\"dni-plaintext\"><pre>True</pre></div></td></tr><tr><td>IsSpecialName</td><td><div class=\"dni-plaintext\"><pre>True</pre></div></td></tr><tr><td>IsStatic</td><td><div class=\"dni-plaintext\"><pre>False</pre></div></td></tr><tr><td>IsVirtual</td><td><div class=\"dni-plaintext\"><pre>False</pre></div></td></tr><tr><td>IsAssembly</td><td><div class=\"dni-plaintext\"><pre>False</pre></div></td></tr><tr><td>IsFamily</td><td><div class=\"dni-plaintext\"><pre>False</pre></div></td></tr><tr><td>IsFamilyAndAssembly</td><td><div class=\"dni-plaintext\"><pre>False</pre></div></td></tr><tr><td>IsFamilyOrAssembly</td><td><div class=\"dni-plaintext\"><pre>False</pre></div></td></tr><tr><td>IsPrivate</td><td><div class=\"dni-plaintext\"><pre>False</pre></div></td></tr><tr><td>IsPublic</td><td><div class=\"dni-plaintext\"><pre>True</pre></div></td></tr><tr><td>IsConstructedGenericMethod</td><td><div class=\"dni-plaintext\"><pre>False</pre></div></td></tr><tr><td>CustomAttributes</td><td><i>(empty)</i></td></tr></tbody></table></div></details></td></tr><tr><td>Position</td><td><div class=\"dni-plaintext\"><pre>-1</pre></div></td></tr><tr><td>IsIn</td><td><div class=\"dni-plaintext\"><pre>False</pre></div></td></tr><tr><td>IsLcid</td><td><div class=\"dni-plaintext\"><pre>False</pre></div></td></tr><tr><td>IsOptional</td><td><div class=\"dni-plaintext\"><pre>False</pre></div></td></tr><tr><td>IsOut</td><td><div class=\"dni-plaintext\"><pre>False</pre></div></td></tr><tr><td>IsRetval</td><td><div class=\"dni-plaintext\"><pre>False</pre></div></td></tr><tr><td>CustomAttributes</td><td><i>(empty)</i></td></tr></tbody></table></div></details></td></tr><tr><td>ReturnParameter</td><td><details class=\"dni-treeview\"><summary><span class=\"dni-code-hint\"><code>Microsoft.SemanticKernel.Memory.ISemanticTextMemory</code></span></summary><div><table><thead><tr></tr></thead><tbody><tr><td>ParameterType</td><td><span><a href=\"https://docs.microsoft.com/dotnet/api/microsoft.semantickernel.memory.isemantictextmemory?view=net-7.0\">Microsoft.SemanticKernel.Memory.ISemanticTextMemory</a></span></td></tr><tr><td>Name</td><td><div class=\"dni-plaintext\"><pre>&lt;null&gt;</pre></div></td></tr><tr><td>HasDefaultValue</td><td><div class=\"dni-plaintext\"><pre>True</pre></div></td></tr><tr><td>DefaultValue</td><td><div class=\"dni-plaintext\"><pre>&lt;null&gt;</pre></div></td></tr><tr><td>RawDefaultValue</td><td><div class=\"dni-plaintext\"><pre>&lt;null&gt;</pre></div></td></tr><tr><td>MetadataToken</td><td><div class=\"dni-plaintext\"><pre>134217728</pre></div></td></tr><tr><td>Attributes</td><td><span>None</span></td></tr><tr><td>Member</td><td><details class=\"dni-treeview\"><summary><span class=\"dni-code-hint\"><code>Microsoft.SemanticKernel.Memory.ISemanticTextMemory get_Memory()</code></span></summary><div><table><thead><tr></tr></thead><tbody><tr><td>Name</td><td><div class=\"dni-plaintext\"><pre>get_Memory</pre></div></td></tr><tr><td>DeclaringType</td><td><span><a href=\"https://docs.microsoft.com/dotnet/api/microsoft.semantickernel.orchestration.skcontext?view=net-7.0\">Microsoft.SemanticKernel.Orchestration.SKContext</a></span></td></tr><tr><td>ReflectedType</td><td><span><a href=\"https://docs.microsoft.com/dotnet/api/microsoft.semantickernel.orchestration.skcontext?view=net-7.0\">Microsoft.SemanticKernel.Orchestration.SKContext</a></span></td></tr><tr><td>MemberType</td><td><span>Method</span></td></tr><tr><td>MetadataToken</td><td><div class=\"dni-plaintext\"><pre>100663585</pre></div></td></tr><tr><td>Module</td><td><details class=\"dni-treeview\"><summary><span class=\"dni-code-hint\"><code>Microsoft.SemanticKernel.Abstractions.dll</code></span></summary><div><table><thead><tr></tr></thead><tbody><tr><td>MDStreamVersion</td><td>131072</td></tr><tr><td>FullyQualifiedName</td><td>C:\\Users\\dicolomb\\.nuget\\packages\\microsoft.semantickernel.abstractions\\0.21.230828.2-preview\\lib\\netstandard2.0\\Microsoft.SemanticKernel.Abstractions.dll</td></tr><tr><td>ModuleVersionId</td><td>f9615d6c-17d4-4d20-ba96-14e20c568e22</td></tr><tr><td>MetadataToken</td><td>1</td></tr><tr><td>ScopeName</td><td>Microsoft.SemanticKernel.Abstractions.dll</td></tr><tr><td>Name</td><td>Microsoft.SemanticKernel.Abstractions.dll</td></tr><tr><td>Assembly</td><td>Microsoft.SemanticKernel.Abstractions, Version=0.21.0.0, Culture=neutral, PublicKeyToken=f300afd708cefcd3</td></tr><tr><td>ModuleHandle</td><td>System.ModuleHandle</td></tr><tr><td>CustomAttributes</td><td>[  ]</td></tr></tbody></table></div></details></td></tr><tr><td>IsSecurityCritical</td><td><div class=\"dni-plaintext\"><pre>True</pre></div></td></tr><tr><td>IsSecuritySafeCritical</td><td><div class=\"dni-plaintext\"><pre>False</pre></div></td></tr><tr><td>IsSecurityTransparent</td><td><div class=\"dni-plaintext\"><pre>False</pre></div></td></tr><tr><td>MethodHandle</td><td><details class=\"dni-treeview\"><summary><span class=\"dni-code-hint\"><code>System.RuntimeMethodHandle</code></span></summary><div><table><thead><tr></tr></thead><tbody><tr><td>Value</td><td>140717841910456</td></tr></tbody></table></div></details></td></tr><tr><td>Attributes</td><td><span>PrivateScope, Public, HideBySig, SpecialName</span></td></tr><tr><td>CallingConvention</td><td><span>Standard, HasThis</span></td></tr><tr><td>ReturnType</td><td><span><a href=\"https://docs.microsoft.com/dotnet/api/microsoft.semantickernel.memory.isemantictextmemory?view=net-7.0\">Microsoft.SemanticKernel.Memory.ISemanticTextMemory</a></span></td></tr><tr><td>ReturnTypeCustomAttributes</td><td><details class=\"dni-treeview\"><summary><span class=\"dni-code-hint\"><code>Microsoft.SemanticKernel.Memory.ISemanticTextMemory</code></span></summary><div><table><thead><tr></tr></thead><tbody><tr><td>ParameterType</td><td>Microsoft.SemanticKernel.Memory.ISemanticTextMemory</td></tr><tr><td>Name</td><td><div class=\"dni-plaintext\"><pre>&lt;null&gt;</pre></div></td></tr><tr><td>HasDefaultValue</td><td>True</td></tr><tr><td>DefaultValue</td><td><div class=\"dni-plaintext\"><pre>&lt;null&gt;</pre></div></td></tr><tr><td>RawDefaultValue</td><td><div class=\"dni-plaintext\"><pre>&lt;null&gt;</pre></div></td></tr><tr><td>MetadataToken</td><td>134217728</td></tr><tr><td>Attributes</td><td>None</td></tr><tr><td>Member</td><td>Microsoft.SemanticKernel.Memory.ISemanticTextMemory get_Memory()</td></tr><tr><td>Position</td><td>-1</td></tr><tr><td>IsIn</td><td>False</td></tr><tr><td>IsLcid</td><td>False</td></tr><tr><td>IsOptional</td><td>False</td></tr><tr><td>IsOut</td><td>False</td></tr><tr><td>IsRetval</td><td>False</td></tr><tr><td>CustomAttributes</td><td>[  ]</td></tr></tbody></table></div></details></td></tr><tr><td>ReturnParameter</td><td><details class=\"dni-treeview\"><summary><span class=\"dni-code-hint\"><code>Microsoft.SemanticKernel.Memory.ISemanticTextMemory</code></span></summary><div><table><thead><tr></tr></thead><tbody><tr><td>ParameterType</td><td>Microsoft.SemanticKernel.Memory.ISemanticTextMemory</td></tr><tr><td>Name</td><td><div class=\"dni-plaintext\"><pre>&lt;null&gt;</pre></div></td></tr><tr><td>HasDefaultValue</td><td>True</td></tr><tr><td>DefaultValue</td><td><div class=\"dni-plaintext\"><pre>&lt;null&gt;</pre></div></td></tr><tr><td>RawDefaultValue</td><td><div class=\"dni-plaintext\"><pre>&lt;null&gt;</pre></div></td></tr><tr><td>MetadataToken</td><td>134217728</td></tr><tr><td>Attributes</td><td>None</td></tr><tr><td>Member</td><td>Microsoft.SemanticKernel.Memory.ISemanticTextMemory get_Memory()</td></tr><tr><td>Position</td><td>-1</td></tr><tr><td>IsIn</td><td>False</td></tr><tr><td>IsLcid</td><td>False</td></tr><tr><td>IsOptional</td><td>False</td></tr><tr><td>IsOut</td><td>False</td></tr><tr><td>IsRetval</td><td>False</td></tr><tr><td>CustomAttributes</td><td>[  ]</td></tr></tbody></table></div></details></td></tr><tr><td>IsCollectible</td><td><div class=\"dni-plaintext\"><pre>False</pre></div></td></tr><tr><td>IsGenericMethod</td><td><div class=\"dni-plaintext\"><pre>False</pre></div></td></tr><tr><td>IsGenericMethodDefinition</td><td><div class=\"dni-plaintext\"><pre>False</pre></div></td></tr><tr><td>ContainsGenericParameters</td><td><div class=\"dni-plaintext\"><pre>False</pre></div></td></tr><tr><td>MethodImplementationFlags</td><td><span>IL</span></td></tr><tr><td>IsAbstract</td><td><div class=\"dni-plaintext\"><pre>False</pre></div></td></tr><tr><td>IsConstructor</td><td><div class=\"dni-plaintext\"><pre>False</pre></div></td></tr><tr><td>IsFinal</td><td><div class=\"dni-plaintext\"><pre>False</pre></div></td></tr><tr><td>IsHideBySig</td><td><div class=\"dni-plaintext\"><pre>True</pre></div></td></tr><tr><td>IsSpecialName</td><td><div class=\"dni-plaintext\"><pre>True</pre></div></td></tr><tr><td>IsStatic</td><td><div class=\"dni-plaintext\"><pre>False</pre></div></td></tr><tr><td>IsVirtual</td><td><div class=\"dni-plaintext\"><pre>False</pre></div></td></tr><tr><td>IsAssembly</td><td><div class=\"dni-plaintext\"><pre>False</pre></div></td></tr><tr><td>IsFamily</td><td><div class=\"dni-plaintext\"><pre>False</pre></div></td></tr><tr><td>IsFamilyAndAssembly</td><td><div class=\"dni-plaintext\"><pre>False</pre></div></td></tr><tr><td>IsFamilyOrAssembly</td><td><div class=\"dni-plaintext\"><pre>False</pre></div></td></tr><tr><td>IsPrivate</td><td><div class=\"dni-plaintext\"><pre>False</pre></div></td></tr><tr><td>IsPublic</td><td><div class=\"dni-plaintext\"><pre>True</pre></div></td></tr><tr><td>IsConstructedGenericMethod</td><td><div class=\"dni-plaintext\"><pre>False</pre></div></td></tr><tr><td>CustomAttributes</td><td><i>(empty)</i></td></tr></tbody></table></div></details></td></tr><tr><td>Position</td><td><div class=\"dni-plaintext\"><pre>-1</pre></div></td></tr><tr><td>IsIn</td><td><div class=\"dni-plaintext\"><pre>False</pre></div></td></tr><tr><td>IsLcid</td><td><div class=\"dni-plaintext\"><pre>False</pre></div></td></tr><tr><td>IsOptional</td><td><div class=\"dni-plaintext\"><pre>False</pre></div></td></tr><tr><td>IsOut</td><td><div class=\"dni-plaintext\"><pre>False</pre></div></td></tr><tr><td>IsRetval</td><td><div class=\"dni-plaintext\"><pre>False</pre></div></td></tr><tr><td>CustomAttributes</td><td><i>(empty)</i></td></tr></tbody></table></div></details></td></tr><tr><td>IsCollectible</td><td><div class=\"dni-plaintext\"><pre>False</pre></div></td></tr><tr><td>IsGenericMethod</td><td><div class=\"dni-plaintext\"><pre>False</pre></div></td></tr><tr><td>IsGenericMethodDefinition</td><td><div class=\"dni-plaintext\"><pre>False</pre></div></td></tr><tr><td>ContainsGenericParameters</td><td><div class=\"dni-plaintext\"><pre>False</pre></div></td></tr><tr><td>MethodImplementationFlags</td><td><span>IL</span></td></tr><tr><td>IsAbstract</td><td><div class=\"dni-plaintext\"><pre>False</pre></div></td></tr><tr><td>IsConstructor</td><td><div class=\"dni-plaintext\"><pre>False</pre></div></td></tr><tr><td>IsFinal</td><td><div class=\"dni-plaintext\"><pre>False</pre></div></td></tr><tr><td>IsHideBySig</td><td><div class=\"dni-plaintext\"><pre>True</pre></div></td></tr><tr><td>IsSpecialName</td><td><div class=\"dni-plaintext\"><pre>True</pre></div></td></tr><tr><td>IsStatic</td><td><div class=\"dni-plaintext\"><pre>False</pre></div></td></tr><tr><td>IsVirtual</td><td><div class=\"dni-plaintext\"><pre>False</pre></div></td></tr><tr><td>IsAssembly</td><td><div class=\"dni-plaintext\"><pre>False</pre></div></td></tr><tr><td>IsFamily</td><td><div class=\"dni-plaintext\"><pre>False</pre></div></td></tr><tr><td>IsFamilyAndAssembly</td><td><div class=\"dni-plaintext\"><pre>False</pre></div></td></tr><tr><td>IsFamilyOrAssembly</td><td><div class=\"dni-plaintext\"><pre>False</pre></div></td></tr><tr><td>IsPrivate</td><td><div class=\"dni-plaintext\"><pre>False</pre></div></td></tr><tr><td>IsPublic</td><td><div class=\"dni-plaintext\"><pre>True</pre></div></td></tr><tr><td>IsConstructedGenericMethod</td><td><div class=\"dni-plaintext\"><pre>False</pre></div></td></tr><tr><td>CustomAttributes</td><td><i>(empty)</i></td></tr></tbody></table></div></details></td></tr><tr><td>Message</td><td><div class=\"dni-plaintext\"><pre>Memory no longer passed through SKContext. Instead, initialize your skill class with the memory provider it needs.</pre></div></td></tr><tr><td>Data</td><td><i>(empty)</i></td></tr><tr><td>InnerException</td><td><div class=\"dni-plaintext\"><pre>&lt;null&gt;</pre></div></td></tr><tr><td>HelpLink</td><td><div class=\"dni-plaintext\"><pre>&lt;null&gt;</pre></div></td></tr><tr><td>Source</td><td><div class=\"dni-plaintext\"><pre>Microsoft.SemanticKernel.Abstractions</pre></div></td></tr><tr><td>HResult</td><td><div class=\"dni-plaintext\"><pre>-2146233079</pre></div></td></tr><tr><td>StackTrace</td><td><div class=\"dni-plaintext\"><pre>   at Microsoft.SemanticKernel.Orchestration.SKContext.get_Memory()\r\n",
       "   at lambda_method330(Closure, SKContext)\r\n",
       "   at Microsoft.DotNet.Interactive.Formatting.MemberAccessor`1.GetValueOrException(T instance) in D:\\a\\_work\\1\\s\\src\\Microsoft.DotNet.Interactive.Formatting\\MemberAccessor{T}.cs:line 58</pre></div></td></tr></tbody></table></div></details></td></tr><tr><td>LastErrorDescription</td><td><div class=\"dni-plaintext\"><pre>&lt;null&gt;</pre></div></td></tr></tbody></table></div></details><style>\r\n",
       ".dni-code-hint {\r\n",
       "    font-style: italic;\r\n",
       "    overflow: hidden;\r\n",
       "    white-space: nowrap;\r\n",
       "}\r\n",
       ".dni-treeview {\r\n",
       "    white-space: nowrap;\r\n",
       "}\r\n",
       ".dni-treeview td {\r\n",
       "    vertical-align: top;\r\n",
       "    text-align: start;\r\n",
       "}\r\n",
       "details.dni-treeview {\r\n",
       "    padding-left: 1em;\r\n",
       "}\r\n",
       "table td {\r\n",
       "    text-align: start;\r\n",
       "}\r\n",
       "table tr { \r\n",
       "    vertical-align: top; \r\n",
       "    margin: 0em 0px;\r\n",
       "}\r\n",
       "table tr td pre \r\n",
       "{ \r\n",
       "    vertical-align: top !important; \r\n",
       "    margin: 0em 0px !important;\r\n",
       "} \r\n",
       "table th {\r\n",
       "    text-align: start;\r\n",
       "}\r\n",
       "</style>"
      ],
      "text/plain": [
       "\n",
       "\n",
       "sequenceDiagram\n",
       "    participant A as Fibonacci(n)\n",
       "    participant B as Fibonacci(n-1)\n",
       "    participant C as Fibonacci(n-2)\n",
       "    A->>B: n-1\n",
       "    A->>C: n-2\n",
       "    B->>A: Fibonacci(n-1)\n",
       "    C->>A: Fibonacci(n-2)\n",
       "    A->>A: Fibonacci(n)"
      ]
     },
     "metadata": {},
     "output_type": "display_data"
    }
   ],
   "source": [
    "#!use-skills function.explain_code.generate_sequence_diagram\n",
    "\n",
    "public static int Fibonacci(int n)\n",
    "{\n",
    "    if (n <= 1)\n",
    "    {\n",
    "        return n;\n",
    "    }\n",
    "    else\n",
    "    {\n",
    "        return Fibonacci(n - 1) + Fibonacci(n - 2);\n",
    "    }\n",
    "}\n",
    "\n"
   ]
  },
  {
   "attachments": {},
   "cell_type": "markdown",
   "id": "e8291f02",
   "metadata": {},
   "source": [
    "## integrate in `smart app`"
   ]
  },
  {
   "cell_type": "code",
   "execution_count": 8,
   "id": "610602f2",
   "metadata": {
    "dotnet_interactive": {
     "language": "csharp"
    },
    "polyglot_notebook": {
     "kernelName": "csharp"
    }
   },
   "outputs": [],
   "source": [
    "using Microsoft.DotNet.Interactive;\n",
    "using Microsoft.DotNet.Interactive.Events;\n",
    "using Microsoft.DotNet.Interactive.Commands;\n",
    "using Microsoft.DotNet.Interactive.AI;\n",
    "using Microsoft.DotNet.Interactive.Mermaid;\n",
    "using System.CommandLine;\n",
    "\n",
    "var explainMagicCommand = new Command(\"#!graph\");\n",
    "var textCompletionKernel = Kernel.Root.FindKernels(k => k is TextCompletionKernel).Single(t => t.Name == \"textCompletion\");\n",
    "var mermaidKernel = Kernel.Root.FindKernels(k => k is MermaidKernel).Single();\n",
    "Kernel.Root.AddDirective(explainMagicCommand);"
   ]
  },
  {
   "cell_type": "code",
   "execution_count": 9,
   "metadata": {
    "dotnet_interactive": {
     "language": "csharp"
    },
    "polyglot_notebook": {
     "kernelName": "csharp"
    }
   },
   "outputs": [],
   "source": [
    "explainMagicCommand.SetHandler(async _ =>\n",
    "{\n",
    "    var context = KernelInvocationContext.Current;\n",
    "    if (context.Command is SubmitCode submitCode)\n",
    "    {       \n",
    "\n",
    "        textCompletionKernel.SetSuppressDisplay(true);\n",
    "        List<KernelEvent> events = new();\n",
    "        var prompt = $\"\"\"\n",
    "            #!use-skills function.explain_code.generate_sequence_diagram\n",
    "\n",
    "            {submitCode.Code.Replace(\"#!graph\", \"\")}       \n",
    "                 \n",
    "            \"\"\";\n",
    "        var sub = Kernel.Root.KernelEvents.Subscribe(e => events.Add(e));\n",
    "        var results = await textCompletionKernel.SendAsync(new SubmitCode(prompt, textCompletionKernel.Name));\n",
    "        \n",
    "        sub.Dispose();\n",
    "        textCompletionKernel.SetSuppressDisplay(false);\n",
    "        var returnValueProduced = events\n",
    "            .OfType<ReturnValueProduced>()\n",
    "            .FirstOrDefault(e => e.Command.TargetKernelName == textCompletionKernel.Name);\n",
    "\n",
    "        var markdown = returnValueProduced?\n",
    "            .FormattedValues\n",
    "            .OfType<FormattedValue>()\n",
    "            .Single(fm => fm.MimeType == \"text/plain\")\n",
    "            .Value\n",
    "            .ToString() ?? string.Empty;\n",
    "\n",
    "        // send to mermaid kernel for imemdiate display\n",
    "        await mermaidKernel.SendAsync(new SubmitCode(markdown.Replace(\"```mermaid\", string.Empty).Replace(\"```\", string.Empty)));\n",
    "\n",
    "        context.Complete(submitCode);\n",
    "    }\n",
    "});"
   ]
  },
  {
   "attachments": {},
   "cell_type": "markdown",
   "id": "6c869146",
   "metadata": {},
   "source": [
    "## try the app experience"
   ]
  },
  {
   "cell_type": "code",
   "execution_count": 10,
   "id": "1c7fcf1c",
   "metadata": {
    "dotnet_interactive": {
     "language": "csharp"
    },
    "polyglot_notebook": {
     "kernelName": "csharp"
    }
   },
   "outputs": [
    {
     "data": {
      "text/html": [
       "<div class=\"mermaidMarkdownContainer\" style=\"background-color:white\">\r\n",
       "<link rel=\"stylesheet\" href=\"https://cdnjs.cloudflare.com/ajax/libs/font-awesome/6.2.0/css/all.min.css\">\r\n",
       "<div id=\"fb923153c45841d7927f537270faeea7\"></div>\r\n",
       "<script type=\"module\">\r\n",
       "\r\n",
       "            import mermaid from 'https://cdn.jsdelivr.net/npm/mermaid@10.1.0/dist/mermaid.esm.min.mjs';\r\n",
       "            let renderTarget = document.getElementById('fb923153c45841d7927f537270faeea7');\r\n",
       "            try {\r\n",
       "                const {svg, bindFunctions} = await mermaid.mermaidAPI.render( \r\n",
       "                    'mermaid_fb923153c45841d7927f537270faeea7', \r\n",
       "                    `\n",
       "\n",
       "sequenceDiagram\n",
       "    participant A as Fibonacci(n)\n",
       "    participant B as Fibonacci(n-1)\n",
       "    participant C as Fibonacci(n-2)\n",
       "    A->>B: n-1\n",
       "    A->>C: n-2\n",
       "    B->>A: Fibonacci(n-1)\n",
       "    C->>A: Fibonacci(n-2)\n",
       "    A->>A: Fibonacci(n)`);\r\n",
       "                renderTarget.innerHTML = svg;\r\n",
       "                bindFunctions?.(renderTarget);\r\n",
       "            }\r\n",
       "            catch (error) {\r\n",
       "                console.log(error);\r\n",
       "            }\r\n",
       "</script>\r\n",
       "</div>\r\n"
      ]
     },
     "metadata": {},
     "output_type": "display_data"
    }
   ],
   "source": [
    "#!graph\n",
    "public static int Fibonacci(int n)\n",
    "{\n",
    "    if (n <= 1)\n",
    "    {\n",
    "        return n;\n",
    "    }\n",
    "    else\n",
    "    {\n",
    "        return Fibonacci(n - 1) + Fibonacci(n - 2);\n",
    "    }\n",
    "}\n"
   ]
  },
  {
   "attachments": {},
   "cell_type": "markdown",
   "id": "945e3a84",
   "metadata": {},
   "source": [
    "## export the code"
   ]
  }
 ],
 "metadata": {
  "kernelInfo": {
   "defaultKernelName": null,
   "items": [
    {
     "aliases": [
      "c#",
      "cs"
     ],
     "languageName": "C#",
     "name": "csharp"
    },
    {
     "aliases": [
      "f#",
      "fs"
     ],
     "languageName": "F#",
     "name": "fsharp"
    },
    {
     "languageName": "HTML",
     "name": "html"
    },
    {
     "languageName": "HTTP",
     "name": "http"
    },
    {
     "aliases": [
      "js"
     ],
     "languageName": "JavaScript",
     "name": "javascript"
    },
    {
     "languageName": "KQL",
     "name": "kql"
    },
    {
     "languageName": "Mermaid",
     "name": "mermaid"
    },
    {
     "aliases": [
      "powershell"
     ],
     "languageName": "PowerShell",
     "name": "pwsh"
    },
    {
     "languageName": "SQL",
     "name": "sql"
    },
    {
     "name": "value"
    }
   ]
  },
  "kernelspec": {
   "display_name": ".NET (C#)",
   "language": "C#",
   "name": ".net-csharp"
  },
  "language_info": {
   "name": "polyglot-notebook"
  },
  "polyglot_notebook": {
   "kernelInfo": {
    "defaultKernelName": "csharp",
    "items": [
     {
      "aliases": [],
      "languageName": "text",
      "name": "chat"
     },
     {
      "aliases": [],
      "languageName": "text",
      "name": "codeai(image)"
     },
     {
      "aliases": [],
      "name": "csharp"
     },
     {
      "aliases": [],
      "languageName": "text",
      "name": "knowledge"
     },
     {
      "aliases": [],
      "languageName": "SQL",
      "name": "knowledge(duckDbVectorRAW)"
     },
     {
      "aliases": [],
      "languageName": "text",
      "name": "textCompletion"
     },
     {
      "aliases": [],
      "languageName": "semantic-kernel.skprompt",
      "name": "textCompletion(skill)"
     }
    ]
   }
  }
 },
 "nbformat": 4,
 "nbformat_minor": 5
}
