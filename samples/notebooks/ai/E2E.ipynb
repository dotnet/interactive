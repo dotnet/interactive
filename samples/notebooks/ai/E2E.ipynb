{
 "cells": [
  {
   "cell_type": "code",
   "execution_count": null,
   "id": "e47b4373",
   "metadata": {
    "dotnet_interactive": {
     "language": "csharp"
    },
    "polyglot_notebook": {
     "kernelName": "csharp"
    }
   },
   "outputs": [],
   "source": [
    "#r \"nuget:Microsoft.DotNet.Interactive.AspNetCore, 1.0.0-beta.23562.1\""
   ]
  },
  {
   "cell_type": "code",
   "execution_count": null,
   "id": "b4bdc2e9",
   "metadata": {
    "dotnet_interactive": {
     "language": "csharp"
    },
    "polyglot_notebook": {
     "kernelName": "csharp"
    }
   },
   "outputs": [],
   "source": [
    "#r \"nuget:Microsoft.DotNet.Interactive.AI, 1.0.0-beta.23604.2\"\n"
   ]
  },
  {
   "cell_type": "code",
   "execution_count": null,
   "metadata": {
    "dotnet_interactive": {
     "language": "csharp"
    },
    "polyglot_notebook": {
     "kernelName": "csharp"
    }
   },
   "outputs": [],
   "source": [
    "#!value --name key\n",
    "YOUR AZURE OPEN AI KEY"
   ]
  },
  {
   "cell_type": "code",
   "execution_count": null,
   "metadata": {
    "dotnet_interactive": {
     "language": "csharp"
    },
    "polyglot_notebook": {
     "kernelName": "csharp"
    }
   },
   "outputs": [],
   "source": [
    "#!value --name endpoint\n",
    "https://your-enpoint.openai.azure.com/"
   ]
  },
  {
   "cell_type": "markdown",
   "metadata": {},
   "source": [
    "Note: If your deployment names are different, you will need to change `--deployment` from `text-embedding-ada-002` and `gpt-35-turbo-16k` in the lines below:"
   ]
  },
  {
   "cell_type": "code",
   "execution_count": null,
   "id": "266d1b6d",
   "metadata": {
    "dotnet_interactive": {
     "language": "csharp"
    },
    "polyglot_notebook": {
     "kernelName": "csharp"
    }
   },
   "outputs": [],
   "source": [
    "#!connect azure-openai --model-type TextEmbeddingGenerator --kernel-name knowledge --api-key @value:key --endpoint @value:endpoint --deployment text-embedding-ada-002"
   ]
  },
  {
   "cell_type": "code",
   "execution_count": null,
   "metadata": {
    "dotnet_interactive": {
     "language": "csharp"
    },
    "polyglot_notebook": {
     "kernelName": "csharp"
    }
   },
   "outputs": [],
   "source": [
    "#!connect azure-openai --model-type ChatCompletion --kernel-name chat --api-key @value:key --endpoint @value:endpoint --deployment gpt-35-turbo-16k --use-knowledge knowledge"
   ]
  },
  {
   "cell_type": "code",
   "execution_count": null,
   "metadata": {
    "dotnet_interactive": {
     "language": "chat(skill)"
    },
    "polyglot_notebook": {
     "kernelName": "chat(skill)"
    }
   },
   "outputs": [],
   "source": [
    "#!function bullet_points --skill writer \n",
    "Generate bullet points take aways from the following text:\n",
    "{{$input}}"
   ]
  },
  {
   "cell_type": "code",
   "execution_count": null,
   "metadata": {
    "dotnet_interactive": {
     "language": "chat(text)"
    },
    "polyglot_notebook": {
     "kernelName": "chat(text)"
    }
   },
   "outputs": [],
   "source": [
    "#!use-skills function.writer.bullet_points\n",
    "Napoleon Bonaparte (born Napoleone Buonaparte;[a] 15 August 1769 – 5 May 1821), later known by his regnal name Napoleon I, was a Corsican-born French military commander and political leader who rose to prominence during the French Revolution and led successful campaigns during the Revolutionary Wars. He was the de facto leader of the French Republic as First Consul from 1799 to 1804, then Emperor of the French from 1804 until 1814 and again in 1815. Napoleon's political and cultural legacy endures to this day, as a highly celebrated and controversial leader. He initiated many liberal reforms that have persisted in society, and is considered one of the greatest military commanders in history. His campaigns are still studied at military academies worldwide. Between three and six million civilians and soldiers died in what became known as the Napoleonic Wars.[2][3]\n",
    "\n",
    "Napoleon was born on the island of Corsica, not long after its annexation by France, to a native family descending from minor Italian nobility.[4][5] He supported the French Revolution in 1789 while serving in the French army, and tried to spread its ideals to his native Corsica. He rose rapidly in the Army after he saved the governing French Directory by firing on royalist insurgents. In 1796, he began a military campaign against the Austrians and their Italian allies, scoring decisive victories and becoming a national hero. Two years later, he led a military expedition to Egypt that served as a springboard to political power. He engineered a coup in November 1799 and became First Consul of the Republic.\n",
    "\n",
    "Differences with the United Kingdom meant France faced the War of the Third Coalition by 1805. Napoleon shattered this coalition with victories in the Ulm campaign, and at the Battle of Austerlitz, which led to the dissolution of the Holy Roman Empire. In 1806, the Fourth Coalition took up arms against him. Napoleon defeated Prussia at the battles of Jena and Auerstedt, marched the Grande Armée into Eastern Europe, and defeated the Russians in June 1807 at Friedland, forcing the defeated nations of the Fourth Coalition to accept the Treaties of Tilsit. Two years later, the Austrians challenged the French again during the War of the Fifth Coalition, but Napoleon solidified his grip over Europe after triumphing at the Battle of Wagram.\n",
    "\n",
    "Hoping to extend the Continental System, his embargo against Britain, Napoleon invaded the Iberian Peninsula and declared his brother Joseph the King of Spain in 1808. The Spanish and the Portuguese revolted in the Peninsular War aided by a British army, culminating in defeat for Napoleon's marshals. Napoleon launched an invasion of Russia in the summer of 1812. The resulting campaign witnessed the catastrophic retreat of Napoleon's Grande Armée. In 1813, Prussia and Austria joined Russian forces in a Sixth Coalition against France, resulting in a large coalition army defeating Napoleon at the Battle of Leipzig. The coalition invaded France and captured Paris, forcing Napoleon to abdicate in April 1814. He was exiled to the island of Elba, between Corsica and Italy. In France, the Bourbons were restored to power.\n",
    "\n",
    "Napoleon escaped in February 1815 and took control of France.[6] The Allies responded by forming a Seventh Coalition, which defeated Napoleon at the Battle of Waterloo in June 1815. The British exiled him to the remote island of Saint Helena in the Atlantic, where he died in 1821 at the age of 51.\n",
    "\n",
    "Napoleon had an extensive impact on the modern world, bringing liberal reforms to the lands he conquered, especially the regions of the Low Countries, Switzerland and parts of modern Italy and Germany. He implemented many liberal policies in France and Western Europe.[b]"
   ]
  },
  {
   "cell_type": "code",
   "execution_count": null,
   "metadata": {
    "dotnet_interactive": {
     "language": "chat(skill)"
    },
    "polyglot_notebook": {
     "kernelName": "chat(skill)"
    }
   },
   "outputs": [],
   "source": [
    "#!function answer --skill writer \n",
    "answer the following question in a few sentences:\n",
    "{{$input}}"
   ]
  },
  {
   "cell_type": "code",
   "execution_count": null,
   "metadata": {
    "dotnet_interactive": {
     "language": "chat(text)"
    },
    "polyglot_notebook": {
     "kernelName": "chat(text)"
    }
   },
   "outputs": [],
   "source": [
    "#!use-skills function.writer.answer\n",
    "What is the divine comedy about?"
   ]
  },
  {
   "cell_type": "code",
   "execution_count": null,
   "metadata": {
    "dotnet_interactive": {
     "language": "chat(text)"
    },
    "polyglot_notebook": {
     "kernelName": "chat(text)"
    }
   },
   "outputs": [],
   "source": [
    "#!use-skills function.writer.answer function.writer.bullet_points\n",
    "What is the divine comedy about?"
   ]
  },
  {
   "cell_type": "code",
   "execution_count": null,
   "id": "3b2153aa",
   "metadata": {
    "dotnet_interactive": {
     "language": "csharp"
    },
    "polyglot_notebook": {
     "kernelName": "csharp"
    }
   },
   "outputs": [],
   "source": [
    "using Microsoft.DotNet.Interactive;\n",
    "using Microsoft.DotNet.Interactive.Commands;\n",
    "using Microsoft.DotNet.Interactive.Events;\n",
    "using Microsoft.DotNet.Interactive.AI;\n",
    "\n",
    "var kernel = Kernel.Root.FindKernels(k => k is TextCompletionKernel).Single(k => k.Name.StartsWith(\"chat(text)\"));\n",
    "\n",
    "public async Task<string> AskQuestion(string question){\n",
    "    var result = await kernel.SendAsync(new SubmitCode($\"\"\"\n",
    "    #!use-skills function.writer.answer function.writer.bullet_points\n",
    "    {question}\n",
    "\"\"\"));\n",
    "    var response = result.Events.OfType<ReturnValueProduced>().Last();\n",
    "    var text = response.FormattedValues.Single(fv => fv.MimeType == \"text/plain\").Value;\n",
    "    return text;\n",
    "}"
   ]
  },
  {
   "cell_type": "code",
   "execution_count": null,
   "id": "4ffbafce",
   "metadata": {
    "dotnet_interactive": {
     "language": "csharp"
    },
    "polyglot_notebook": {
     "kernelName": "csharp"
    }
   },
   "outputs": [],
   "source": [
    " var answer = await AskQuestion(\"Where was Napoleon born?\");\n"
   ]
  },
  {
   "cell_type": "code",
   "execution_count": null,
   "id": "8ddd02a2",
   "metadata": {
    "dotnet_interactive": {
     "language": "csharp"
    },
    "polyglot_notebook": {
     "kernelName": "csharp"
    }
   },
   "outputs": [],
   "source": [
    "#!aspnet\n",
    "using System.IO;\n",
    "using System.Text.Json;\n",
    "using Microsoft.DotNet.Interactive;\n",
    "using Microsoft.DotNet.Interactive.Commands;\n",
    "using Microsoft.DotNet.Interactive.Events;\n",
    "using Microsoft.DotNet.Interactive.AI;\n",
    "\n",
    "public record Question(string question);\n",
    "\n",
    "Endpoints.MapPost(\"/askquestion\", async context =>\n",
    "{\n",
    "    var data = await new StreamReader(context.Request.Body).ReadToEndAsync();\n",
    "    try{\n",
    "    var question = System.Text.Json.JsonSerializer.Deserialize<Question>(data);\n",
    "    var response = await AskQuestion(question.question);\n",
    "    await context.Response.WriteAsync(response);\n",
    "    }catch(Exception ex){\n",
    "        await context.Response.WriteAsync(ex.ToString());\n",
    "    }  \n",
    "});"
   ]
  },
  {
   "cell_type": "code",
   "execution_count": null,
   "id": "a38e0e99",
   "metadata": {
    "dotnet_interactive": {
     "language": "csharp"
    },
    "polyglot_notebook": {
     "kernelName": "csharp"
    }
   },
   "outputs": [],
   "source": [
    "#!aspnet-stop"
   ]
  },
  {
   "cell_type": "code",
   "execution_count": null,
   "id": "599f9311",
   "metadata": {
    "dotnet_interactive": {
     "language": "csharp"
    },
    "polyglot_notebook": {
     "kernelName": "csharp"
    }
   },
   "outputs": [],
   "source": [
    "var uri = HttpClient.BaseAddress;"
   ]
  },
  {
   "cell_type": "code",
   "execution_count": null,
   "id": "c1ad38e1",
   "metadata": {
    "dotnet_interactive": {
     "language": "javascript"
    },
    "polyglot_notebook": {
     "kernelName": "javascript"
    }
   },
   "outputs": [],
   "source": [
    "#!set --value @csharp:uri --name uri"
   ]
  },
  {
   "cell_type": "code",
   "execution_count": null,
   "id": "d520646f",
   "metadata": {
    "dotnet_interactive": {
     "language": "html"
    },
    "polyglot_notebook": {
     "kernelName": "html"
    }
   },
   "outputs": [],
   "source": [
    "<div id=\"target_for_question\">replace me</div>"
   ]
  },
  {
   "cell_type": "code",
   "execution_count": null,
   "id": "58d20f94",
   "metadata": {
    "dotnet_interactive": {
     "language": "javascript"
    },
    "polyglot_notebook": {
     "kernelName": "javascript"
    }
   },
   "outputs": [],
   "source": [
    "\n",
    "fetch(`${uri}/askquestion`, {\n",
    "    method: \"post\",\n",
    "    headers: {\n",
    "      'Accept': 'text/plain',\n",
    "      'Content-Type': 'application/json',\n",
    "      'Access-Control-Allow-Origin': '*'\n",
    "    },\n",
    "    body: JSON.stringify({\n",
    "      question: 'what did napoleon bonaparte do in military life?'\n",
    "    })\n",
    "  })\n",
    "    .then(response => response.text())\n",
    "    .then(text => document.getElementById(\"target_for_question\").innerHTML = text);\n"
   ]
  },
  {
   "cell_type": "code",
   "execution_count": null,
   "id": "3f958921",
   "metadata": {
    "dotnet_interactive": {
     "language": "html"
    },
    "polyglot_notebook": {
     "kernelName": "html"
    }
   },
   "outputs": [],
   "source": [
    "<div>\n",
    "    <input id=\"question\" type=\"text\"/>\n",
    "    <button id=\"ask\">Ask</button>\n",
    "    <div id=\"answer_here\">replace me</div>\n",
    "</div>\n",
    "<script type=\"text/javascript\">\n",
    "    document.getElementById(\"ask\").onclick = function() {\n",
    "        let question = document.getElementById(\"question\").value;\n",
    "        document.getElementById(\"ask\").enabled = false;\n",
    "        fetch(`${uri}/askquestion`, {\n",
    "            method: \"post\",\n",
    "            headers: {\n",
    "              'Accept': 'text/plain',\n",
    "              'Content-Type': 'application/json',\n",
    "              'Access-Control-Allow-Origin': '*'\n",
    "            },\n",
    "            body: JSON.stringify({\n",
    "              question: question\n",
    "            })\n",
    "          })\n",
    "        .then(response => response.text())\n",
    "        .then(text => document.getElementById(\"answer_here\").textContent = text)\n",
    "        .finally(() => document.getElementById(\"ask\").enabled = true);\n",
    "    };\n",
    "</script>"
   ]
  }
 ],
 "metadata": {
  "kernelInfo": {
   "defaultKernelName": null,
   "items": [
    {
     "aliases": [
      "c#",
      "cs"
     ],
     "languageName": "C#",
     "name": "csharp"
    },
    {
     "aliases": [
      "f#",
      "fs"
     ],
     "languageName": "F#",
     "name": "fsharp"
    },
    {
     "languageName": "HTML",
     "name": "html"
    },
    {
     "languageName": "HTTP",
     "name": "http"
    },
    {
     "aliases": [
      "js"
     ],
     "languageName": "JavaScript",
     "name": "javascript"
    },
    {
     "languageName": "KQL",
     "name": "kql"
    },
    {
     "languageName": "Mermaid",
     "name": "mermaid"
    },
    {
     "aliases": [
      "powershell"
     ],
     "languageName": "PowerShell",
     "name": "pwsh"
    },
    {
     "languageName": "SQL",
     "name": "sql"
    },
    {
     "name": "value"
    }
   ]
  },
  "kernelspec": {
   "display_name": ".NET (C#)",
   "language": "C#",
   "name": ".net-csharp"
  },
  "language_info": {
   "name": "polyglot-notebook"
  },
  "polyglot_notebook": {
   "kernelInfo": {
    "defaultKernelName": "csharp",
    "items": [
     {
      "aliases": [],
      "languageName": "text",
      "name": "chat"
     },
     {
      "aliases": [],
      "languageName": "semantic-kernel.skprompt",
      "name": "chat(skill)"
     },
     {
      "aliases": [],
      "languageName": "text",
      "name": "chat(text)"
     },
     {
      "aliases": [],
      "name": "csharp"
     },
     {
      "aliases": [],
      "languageName": "text",
      "name": "knowledge"
     },
     {
      "aliases": [],
      "languageName": "SQL",
      "name": "knowledge(duckDbVectorRAW)"
     },
     {
      "aliases": [],
      "languageName": "text",
      "name": "openai-old(image)"
     },
     {
      "aliases": [],
      "languageName": "semantic-kernel.skprompt",
      "name": "openaicode(skill)"
     },
     {
      "aliases": [],
      "languageName": "text",
      "name": "openaicode(text)"
     },
     {
      "aliases": [],
      "languageName": "text",
      "name": "textCompletion"
     },
     {
      "aliases": [],
      "languageName": "semantic-kernel.skprompt",
      "name": "textCompletion(skill)"
     }
    ]
   }
  }
 },
 "nbformat": 4,
 "nbformat_minor": 5
}
