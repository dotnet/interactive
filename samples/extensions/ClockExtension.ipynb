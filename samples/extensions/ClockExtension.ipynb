{
 "cells": [
  {
   "cell_type": "markdown",
   "metadata": {},
   "source": [
    "# The `ClockExtension` Sample\n",
    "\n",
    "The `ClockExtension` sample walks you through how to create a simple .NET Interactive extension and package it using NuGet.\n",
    "\n",
    "If you opened this notebook so that its working directory is in the `ClockExtension` project directory, then the following cell will work. Otherwise, you should first switch your working directory to the directory containing this notebook."
   ]
  },
  {
   "cell_type": "code",
   "execution_count": null,
   "metadata": {
    "dotnet_interactive": {
     "language": "pwsh"
    },
    "vscode": {
     "languageId": "dotnet-interactive.pwsh"
    }
   },
   "outputs": [
    {
     "name": "stdout",
     "output_type": "stream",
     "text": [
      "Microsoft (R) Build Engine version 17.3.0-preview-22277-01+f1dae6ab6 for .NET\r\n",
      "Copyright (C) Microsoft Corporation. All rights reserved.\r\n",
      "\r\n",
      "  Determining projects to restore...\r\n",
      "  All projects are up-to-date for restore.\r\n",
      "  You are using a preview version of .NET. See: https://aka.ms/dotnet-core-preview\r\n",
      "  You are using a preview version of .NET. See: https://aka.ms/dotnet-core-preview\r\n",
      "  You are using a preview version of .NET. See: https://aka.ms/dotnet-core-preview\r\n",
      "  You are using a preview version of .NET. See: https://aka.ms/dotnet-core-preview\r\n",
      "  You are using a preview version of .NET. See: https://aka.ms/dotnet-core-preview\r\n",
      "  You are using a preview version of .NET. See: https://aka.ms/dotnet-core-preview\r\n",
      "  Library -> C:\\dev\\interactive\\samples\\extensions\\Library\\bin\\Debug\\net6.0\\Library.dll\r\n",
      "  RandomNumber -> C:\\dev\\interactive\\samples\\extensions\\RandomNumber\\bin\\Debug\\netstandard2.0\\RandomNumber.dll\r\n",
      "  Library.InteractiveExtension -> C:\\dev\\interactive\\samples\\extensions\\Library.InteractiveExtension\\bin\\Debug\\net6.0\\Library.InteractiveExtension.dll\r\n",
      "  Library.nuget -> C:\\dev\\interactive\\samples\\extensions\\Library.nuget\\bin\\Debug\\net6.0\\Library.nuget.dll\r\n",
      "  ClockExtension -> C:\\dev\\interactive\\samples\\extensions\\ClockExtension\\bin\\Debug\\net6.0\\ClockExtension.dll\r\n",
      "  SampleExtensions.Tests -> C:\\dev\\interactive\\samples\\extensions\\SampleExtensions.Tests\\bin\\Debug\\net6.0\\SampleExtensions.Tests.dll\r\n",
      "\r\n",
      "Build succeeded.\r\n",
      "    0 Warning(s)\r\n",
      "    0 Error(s)\r\n",
      "\r\n",
      "Time Elapsed 00:00:02.51\r\n",
      "Microsoft (R) Build Engine version 17.3.0-preview-22277-01+f1dae6ab6 for .NET\r\n",
      "Copyright (C) Microsoft Corporation. All rights reserved.\r\n",
      "\r\n",
      "  Determining projects to restore...\r\n",
      "  Restored C:\\dev\\interactive\\samples\\extensions\\Library.nuget\\Library.nuget.csproj (in 79 ms).\r\n",
      "  Restored C:\\dev\\interactive\\samples\\extensions\\Library\\Library.csproj (in 79 ms).\r\n",
      "  Restored C:\\dev\\interactive\\samples\\extensions\\Library.InteractiveExtension\\Library.InteractiveExtension.csproj (in 79 ms).\r\n",
      "  Restored C:\\dev\\interactive\\samples\\extensions\\RandomNumber\\RandomNumber.csproj (in 143 ms).\r\n",
      "  Restored C:\\dev\\interactive\\samples\\extensions\\SampleExtensions.Tests\\SampleExtensions.Tests.csproj (in 322 ms).\r\n",
      "  Restored C:\\dev\\interactive\\samples\\extensions\\ClockExtension\\ClockExtension.csproj (in 322 ms).\r\n",
      "  You are using a preview version of .NET. See: https://aka.ms/dotnet-core-preview\r\n",
      "  You are using a preview version of .NET. See: https://aka.ms/dotnet-core-preview\r\n",
      "  You are using a preview version of .NET. See: https://aka.ms/dotnet-core-preview\r\n",
      "  You are using a preview version of .NET. See: https://aka.ms/dotnet-core-preview\r\n",
      "  Library -> C:\\dev\\interactive\\samples\\extensions\\Library\\bin\\Debug\\net6.0\\Library.dll\r\n",
      "  You are using a preview version of .NET. See: https://aka.ms/dotnet-core-preview\r\n",
      "  Successfully created package 'C:\\dev\\interactive\\samples\\extensions\\Library\\bin\\Debug\\Library.1.3.6.nupkg'.\r\n",
      "  Library.InteractiveExtension -> C:\\dev\\interactive\\samples\\extensions\\Library.InteractiveExtension\\bin\\Debug\\net6.0\\Library.InteractiveExtension.dll\r\n",
      "  ClockExtension -> C:\\dev\\interactive\\samples\\extensions\\ClockExtension\\bin\\Debug\\net6.0\\ClockExtension.dll\r\n",
      "  RandomNumber -> C:\\dev\\interactive\\samples\\extensions\\RandomNumber\\bin\\Debug\\netstandard2.0\\RandomNumber.dll\r\n",
      "C:\\Program Files\\dotnet\\sdk\\6.0.400-preview.22301.10\\Sdks\\NuGet.Build.Tasks.Pack\\build\\NuGet.Build.Tasks.Pack.targets(221,5): warning NU5100: The assembly 'interactive-extensions\\dotnet\\ClockExtension.dll' is not inside the 'lib' folder and hence it won't be added as a reference when the package is installed into a project. Move it into the 'lib' folder if it needs to be referenced. [C:\\dev\\interactive\\samples\\extensions\\ClockExtension\\ClockExtension.csproj]\r\n",
      "C:\\Program Files\\dotnet\\sdk\\6.0.400-preview.22301.10\\Sdks\\NuGet.Build.Tasks.Pack\\build\\NuGet.Build.Tasks.Pack.targets(221,5): warning NU5104: A stable release of a package should not have a prerelease dependency. Either modify the version spec of dependency \"microsoft.dotnet.interactive [1.0.0-beta.22256.1, )\" or update the version field in the nuspec. [C:\\dev\\interactive\\samples\\extensions\\ClockExtension\\ClockExtension.csproj]\r\n",
      "C:\\Program Files\\dotnet\\sdk\\6.0.400-preview.22301.10\\Sdks\\NuGet.Build.Tasks.Pack\\build\\NuGet.Build.Tasks.Pack.targets(221,5): warning NU5104: A stable release of a package should not have a prerelease dependency. Either modify the version spec of dependency \"microsoft.dotnet.interactive.csharp [1.0.0-beta.22256.1, )\" or update the version field in the nuspec. [C:\\dev\\interactive\\samples\\extensions\\ClockExtension\\ClockExtension.csproj]\r\n",
      "  Successfully created package 'C:\\dev\\interactive\\samples\\extensions\\ClockExtension\\bin\\Debug\\ClockExtension.1.3.6.nupkg'.\r\n",
      "  Successfully created package 'C:\\dev\\interactive\\samples\\extensions\\RandomNumber\\bin\\Debug\\RandomNumber.1.3.6.nupkg'.\r\n",
      "  Successfully created package 'C:\\dev\\interactive\\samples\\extensions\\Library.InteractiveExtension\\bin\\Debug\\Library.InteractiveExtension.1.3.6.nupkg'.\r\n",
      "  Library.nuget -> C:\\dev\\interactive\\samples\\extensions\\Library.nuget\\bin\\Debug\\net6.0\\Library.nuget.dll\r\n",
      "C:\\Program Files\\dotnet\\sdk\\6.0.400-preview.22301.10\\Sdks\\NuGet.Build.Tasks.Pack\\build\\NuGet.Build.Tasks.Pack.targets(221,5): warning NU5100: The assembly 'interactive-extensions\\dotnet\\Library.InteractiveExtension.dll' is not inside the 'lib' folder and hence it won't be added as a reference when the package is installed into a project. Move it into the 'lib' folder if it needs to be referenced. [C:\\dev\\interactive\\samples\\extensions\\Library.nuget\\Library.nuget.csproj]\r\n",
      "  Successfully created package 'C:\\dev\\interactive\\samples\\extensions\\Library.nuget\\bin\\Debug\\Library.1.3.6.nupkg'.\r\n",
      "\r\n",
      "    Directory: C:\\dev\\interactive\\samples\\extensions\\ClockExtension\\bin\\Debug\r\n",
      "\r\n",
      "\u001b[32;1mMode                 LastWriteTime         Length Name\u001b[0m\r\n",
      "\u001b[32;1m----                 -------------         ------ ----\u001b[0m\r\n",
      "-a---            6/7/2022  5:47 PM          15798 ClockExtension.1.3.5.nupkg\r\n",
      "-a---            6/7/2022  6:00 PM          15922 ClockExtension.1.3.6.nupkg\r\n",
      "\r\n"
     ]
    }
   ],
   "source": [
    "#!pwsh\n",
    "# 1. Build the project\n",
    "dotnet build\n",
    "\n",
    "# Pack up the NuGet package. Note, you should increment the version because the previous one, once installed, will be in your NuGet cache\n",
    "dotnet pack /p:PackageVersion=1.3.6\n",
    "\n",
    "# 3. Check that the package is there\n",
    "Get-ChildItem -Recurse ClockExtension*.nupkg"
   ]
  },
  {
   "cell_type": "markdown",
   "metadata": {},
   "source": [
    "Now we're ready to install the extension. We can use `#i` to add the build output folder where the package is to our NuGet sources, and then `#r` to install the package. Because we didn't specify a package version to install, it will choose the highest version available, which is why you should increment the version in the cell above if you experiment with making changes to the extension. (*You can find out more about the `#i` and `#r` directives [here](https://github.com/dotnet/interactive/blob/main/docs/nuget-overview.md).*)\n",
    "\n",
    "You'll need to change the file path in the `#i` directive in this next cell to directory on your machine where `ClockExtension.1.3.5.nupkg` was created."
   ]
  },
  {
   "cell_type": "code",
   "execution_count": null,
   "metadata": {
    "dotnet_interactive": {
     "language": "csharp"
    },
    "vscode": {
     "languageId": "dotnet-interactive.csharp"
    }
   },
   "outputs": [
    {
     "data": {
      "text/html": [
       "<div><div><strong>Restore sources</strong><ul><li><span>C:\\dev\\interactive\\samples\\extensions\\ClockExtension\\bin\\Debug\\</span></li></ul></div><div></div><div><strong>Installed Packages</strong><ul><li><span>ClockExtension, 1.3.6</span></li></ul></div></div>"
      ]
     },
     "metadata": {},
     "output_type": "display_data"
    },
    {
     "data": {
      "text/markdown": [
       "Loading extensions from `ClockExtension.dll`"
      ]
     },
     "metadata": {},
     "output_type": "display_data"
    },
    {
     "data": {
      "text/html": [
       "<div><code>ClockExtension</code> is loaded. It adds visualizations for <code><span><a href=\"https://docs.microsoft.com/dotnet/api/system.datetime?view=net-5.0\">System.DateTime</a></span></code> and <code><span><a href=\"https://docs.microsoft.com/dotnet/api/system.datetimeoffset?view=net-5.0\">System.DateTimeOffset</a></span></code>. Try it by running: <code>DateTime.Now</code> or <code>#!clock -h</code></div>"
      ]
     },
     "metadata": {},
     "output_type": "display_data"
    }
   ],
   "source": [
    "#i nuget:C:\\dev\\interactive\\samples\\extensions\\ClockExtension\\bin\\Debug\\\n",
    "#r \"nuget:ClockExtension,1.3.6\""
   ]
  },
  {
   "cell_type": "markdown",
   "metadata": {},
   "source": [
    "As you can see from the output above, the extension is able to explain a bit about what it does. So now we can try it out.\n",
    "\n",
    "It adds a custom formatter for `System.DateTime`:"
   ]
  },
  {
   "cell_type": "code",
   "execution_count": null,
   "metadata": {
    "dotnet_interactive": {
     "language": "csharp"
    },
    "vscode": {
     "languageId": "dotnet-interactive.csharp"
    }
   },
   "outputs": [
    {
     "data": {
      "text/html": [
       "<div id=\"clockExtension9c36ba6575c64b6180b6c33f85a34c3d\"><svg viewBox=\"0 0 40 40\"><defs><radialGradient id=\"grad1\" cx=\"50%\" cy=\"50%\" r=\"50%\" fx=\"50%\" fy=\"50%\"><stop offset=\"0%\" style=\"stop-color:#512bd4;stop-opacity:0\"></stop><stop offset=\"100%\" style=\"stop-color:#512bd4;stop-opacity:.5\"></stop></radialGradient></defs><circle cx=\"20\" cy=\"20\" r=\"19\" fill=\"#dedede\"></circle><circle cx=\"20\" cy=\"20\" r=\"19\" fill=\"url(#grad1)\"></circle><g class=\"marks\"><line x1=\"15\" y1=\"0\" x2=\"16\" y2=\"0\"></line><line x1=\"15\" y1=\"0\" x2=\"16\" y2=\"0\"></line><line x1=\"15\" y1=\"0\" x2=\"16\" y2=\"0\"></line><line x1=\"15\" y1=\"0\" x2=\"16\" y2=\"0\"></line><line x1=\"15\" y1=\"0\" x2=\"16\" y2=\"0\"></line><line x1=\"15\" y1=\"0\" x2=\"16\" y2=\"0\"></line><line x1=\"15\" y1=\"0\" x2=\"16\" y2=\"0\"></line><line x1=\"15\" y1=\"0\" x2=\"16\" y2=\"0\"></line><line x1=\"15\" y1=\"0\" x2=\"16\" y2=\"0\"></line><line x1=\"15\" y1=\"0\" x2=\"16\" y2=\"0\"></line><line x1=\"15\" y1=\"0\" x2=\"16\" y2=\"0\"></line><line x1=\"15\" y1=\"0\" x2=\"16\" y2=\"0\"></line></g><text x=\"0\" y=\"0\" class=\"text\">.NET Interactive</text><line x1=\"0\" y1=\"0\" x2=\"9\" y2=\"0\" class=\"hour\"></line><line x1=\"0\" y1=\"0\" x2=\"13\" y2=\"0\" class=\"minute\"></line><line x1=\"0\" y1=\"0\" x2=\"16\" y2=\"0\" class=\"seconds\"></line><circle cx=\"20\" cy=\"20\" r=\"0.7\" class=\"pin\"></circle></svg><style type=\"text/css\">\r\n",
       "#clockExtension9c36ba6575c64b6180b6c33f85a34c3d svg {\r\n",
       "  width: 400px;\r\n",
       "  fill: white;\r\n",
       "  stroke: black;\r\n",
       "  stroke-width: 1;\r\n",
       "  stroke-linecap: round;\r\n",
       "  transform: rotate(-90deg);\r\n",
       "  --start-seconds: 8;\r\n",
       "  --start-minutes: 1;\r\n",
       "  --start-hours: 6;\r\n",
       "}\r\n",
       "\r\n",
       "#clockExtension9c36ba6575c64b6180b6c33f85a34c3d .marks {\r\n",
       "  transform: translate(20px, 20px);\r\n",
       "  stroke-width: 0.2;\r\n",
       "}\r\n",
       "#clockExtension9c36ba6575c64b6180b6c33f85a34c3d .marks > line:nth-child(1) {\r\n",
       "  transform: rotate(30deg); \r\n",
       "}\r\n",
       "#clockExtension9c36ba6575c64b6180b6c33f85a34c3d .marks > line:nth-child(2) {\r\n",
       "  transform: rotate(calc(2 * 30deg));\r\n",
       "}\r\n",
       "#clockExtension9c36ba6575c64b6180b6c33f85a34c3d .marks > line:nth-child(3) {\r\n",
       "  transform: rotate(calc(3 * 30deg));\r\n",
       "  stroke-width: 0.5;\r\n",
       "}\r\n",
       "#clockExtension9c36ba6575c64b6180b6c33f85a34c3d .marks > line:nth-child(4) {\r\n",
       "  transform: rotate(calc(4 * 30deg));\r\n",
       "}\r\n",
       "#clockExtension9c36ba6575c64b6180b6c33f85a34c3d .marks > line:nth-child(5) {\r\n",
       "  transform: rotate(calc(5 * 30deg));\r\n",
       "}\r\n",
       "#clockExtension9c36ba6575c64b6180b6c33f85a34c3d .marks > line:nth-child(6) {\r\n",
       "  transform: rotate(calc(6 * 30deg));\r\n",
       "  stroke-width: 0.5;\r\n",
       "}\r\n",
       "#clockExtension9c36ba6575c64b6180b6c33f85a34c3d .marks > line:nth-child(7) {\r\n",
       "  transform: rotate(calc(7 * 30deg));\r\n",
       "}\r\n",
       "#clockExtension9c36ba6575c64b6180b6c33f85a34c3d .marks > line:nth-child(8) {\r\n",
       "  transform: rotate(calc(8 * 30deg));\r\n",
       "}\r\n",
       "#clockExtension9c36ba6575c64b6180b6c33f85a34c3d .marks > line:nth-child(9) {\r\n",
       "  transform: rotate(calc(9 * 30deg));\r\n",
       "  stroke-width: 0.5;\r\n",
       "}\r\n",
       "#clockExtension9c36ba6575c64b6180b6c33f85a34c3d .marks > line:nth-child(10) {\r\n",
       "  transform: rotate(calc(10 * 30deg));\r\n",
       "}\r\n",
       "#clockExtension9c36ba6575c64b6180b6c33f85a34c3d .marks > line:nth-child(11) {\r\n",
       "  transform: rotate(calc(11 * 30deg));\r\n",
       "}\r\n",
       "#clockExtension9c36ba6575c64b6180b6c33f85a34c3d .marks > line:nth-child(12) {\r\n",
       "  transform: rotate(calc(12 * 30deg));\r\n",
       "  stroke-width: 0.5;\r\n",
       "}\r\n",
       "#clockExtension9c36ba6575c64b6180b6c33f85a34c3d .seconds,\r\n",
       "#clockExtension9c36ba6575c64b6180b6c33f85a34c3d .minute,\r\n",
       "#clockExtension9c36ba6575c64b6180b6c33f85a34c3d .hour\r\n",
       "{\r\n",
       "  transform: translate(20px, 20px) rotate(0deg);\r\n",
       "}\r\n",
       "#clockExtension9c36ba6575c64b6180b6c33f85a34c3d .seconds {\r\n",
       "  stroke-width: 0.3;\r\n",
       "  stroke: #d00505;\r\n",
       "  transform: translate(20px, 20px) rotate(calc(var(--start-seconds) * 6deg));\r\n",
       "\r\n",
       "}\r\n",
       "#clockExtension9c36ba6575c64b6180b6c33f85a34c3d .minute {\r\n",
       "  stroke-width: 0.6;\r\n",
       "  transform: translate(20px, 20px) rotate(calc(var(--start-minutes) * 6deg));\r\n",
       "}\r\n",
       "#clockExtension9c36ba6575c64b6180b6c33f85a34c3d .hour {\r\n",
       "  stroke: #512bd4;\r\n",
       "  stroke-width: 1;\r\n",
       "  transform: translate(20px, 20px) rotate(calc(var(--start-hours) * 30deg));\r\n",
       "}\r\n",
       "#clockExtension9c36ba6575c64b6180b6c33f85a34c3d .pin {\r\n",
       "  stroke: #d00505;\r\n",
       "  stroke-width: 0.2;\r\n",
       "}\r\n",
       "#clockExtension9c36ba6575c64b6180b6c33f85a34c3d .text {\r\n",
       "  font-size: 2px;\r\n",
       "  font-family: \"Segoe UI\",Helvetica,Arial,sans-serif;\r\n",
       "  transform: rotate(90deg) translate(13.5px, -12px);\r\n",
       "  fill: #512bd4;\r\n",
       "  stroke: none;\r\n",
       "}</style><script>\r\n",
       "let svg = document.querySelector(&#39;svg&#39;);\r\n",
       "</script></div>"
      ]
     },
     "metadata": {},
     "output_type": "display_data"
    }
   ],
   "source": [
    "DateTime.Now"
   ]
  },
  {
   "cell_type": "markdown",
   "metadata": {},
   "source": [
    "The extension output also advised us to run `#!clock -h`. Extensions can add magic commands and all magic commands can provide help."
   ]
  },
  {
   "cell_type": "code",
   "execution_count": null,
   "metadata": {
    "dotnet_interactive": {
     "language": "csharp"
    },
    "vscode": {
     "languageId": "dotnet-interactive.csharp"
    }
   },
   "outputs": [
    {
     "name": "stdout",
     "output_type": "stream",
     "text": [
      "Description:\r\n",
      "  Displays a clock showing the current or specified time.\r\n",
      "\r\n",
      "Usage:\r\n",
      "  #!clock [options]\r\n",
      "\r\n",
      "Options:\r\n",
      "  -o, --hour <hour>      The position of the hour hand\r\n",
      "  -m, --minute <minute>  The position of the minute hand\r\n",
      "  -s, --second <second>  The position of the second hand\r\n",
      "  -?, -h, --help         Show help and usage information\r\n",
      "\r\n",
      "\r\n"
     ]
    }
   ],
   "source": [
    "#!clock -h"
   ]
  },
  {
   "cell_type": "markdown",
   "metadata": {},
   "source": [
    "The `#!clock` magic command help explains how to use options to set the position of the hands on the clock:"
   ]
  },
  {
   "cell_type": "code",
   "execution_count": null,
   "metadata": {
    "dotnet_interactive": {
     "language": "csharp"
    },
    "vscode": {
     "languageId": "dotnet-interactive.csharp"
    }
   },
   "outputs": [
    {
     "data": {
      "text/html": [
       "<div id=\"clockExtensionb21fca2018ea459da0ac55d52d2b72b7\"><svg viewBox=\"0 0 40 40\"><defs><radialGradient id=\"grad1\" cx=\"50%\" cy=\"50%\" r=\"50%\" fx=\"50%\" fy=\"50%\"><stop offset=\"0%\" style=\"stop-color:#512bd4;stop-opacity:0\"></stop><stop offset=\"100%\" style=\"stop-color:#512bd4;stop-opacity:.5\"></stop></radialGradient></defs><circle cx=\"20\" cy=\"20\" r=\"19\" fill=\"#dedede\"></circle><circle cx=\"20\" cy=\"20\" r=\"19\" fill=\"url(#grad1)\"></circle><g class=\"marks\"><line x1=\"15\" y1=\"0\" x2=\"16\" y2=\"0\"></line><line x1=\"15\" y1=\"0\" x2=\"16\" y2=\"0\"></line><line x1=\"15\" y1=\"0\" x2=\"16\" y2=\"0\"></line><line x1=\"15\" y1=\"0\" x2=\"16\" y2=\"0\"></line><line x1=\"15\" y1=\"0\" x2=\"16\" y2=\"0\"></line><line x1=\"15\" y1=\"0\" x2=\"16\" y2=\"0\"></line><line x1=\"15\" y1=\"0\" x2=\"16\" y2=\"0\"></line><line x1=\"15\" y1=\"0\" x2=\"16\" y2=\"0\"></line><line x1=\"15\" y1=\"0\" x2=\"16\" y2=\"0\"></line><line x1=\"15\" y1=\"0\" x2=\"16\" y2=\"0\"></line><line x1=\"15\" y1=\"0\" x2=\"16\" y2=\"0\"></line><line x1=\"15\" y1=\"0\" x2=\"16\" y2=\"0\"></line></g><text x=\"0\" y=\"0\" class=\"text\">.NET Interactive</text><line x1=\"0\" y1=\"0\" x2=\"9\" y2=\"0\" class=\"hour\"></line><line x1=\"0\" y1=\"0\" x2=\"13\" y2=\"0\" class=\"minute\"></line><line x1=\"0\" y1=\"0\" x2=\"16\" y2=\"0\" class=\"seconds\"></line><circle cx=\"20\" cy=\"20\" r=\"0.7\" class=\"pin\"></circle></svg><style type=\"text/css\">\r\n",
       "#clockExtensionb21fca2018ea459da0ac55d52d2b72b7 svg {\r\n",
       "  width: 400px;\r\n",
       "  fill: white;\r\n",
       "  stroke: black;\r\n",
       "  stroke-width: 1;\r\n",
       "  stroke-linecap: round;\r\n",
       "  transform: rotate(-90deg);\r\n",
       "  --start-seconds: 3;\r\n",
       "  --start-minutes: 2;\r\n",
       "  --start-hours: 1;\r\n",
       "}\r\n",
       "\r\n",
       "#clockExtensionb21fca2018ea459da0ac55d52d2b72b7 .marks {\r\n",
       "  transform: translate(20px, 20px);\r\n",
       "  stroke-width: 0.2;\r\n",
       "}\r\n",
       "#clockExtensionb21fca2018ea459da0ac55d52d2b72b7 .marks > line:nth-child(1) {\r\n",
       "  transform: rotate(30deg); \r\n",
       "}\r\n",
       "#clockExtensionb21fca2018ea459da0ac55d52d2b72b7 .marks > line:nth-child(2) {\r\n",
       "  transform: rotate(calc(2 * 30deg));\r\n",
       "}\r\n",
       "#clockExtensionb21fca2018ea459da0ac55d52d2b72b7 .marks > line:nth-child(3) {\r\n",
       "  transform: rotate(calc(3 * 30deg));\r\n",
       "  stroke-width: 0.5;\r\n",
       "}\r\n",
       "#clockExtensionb21fca2018ea459da0ac55d52d2b72b7 .marks > line:nth-child(4) {\r\n",
       "  transform: rotate(calc(4 * 30deg));\r\n",
       "}\r\n",
       "#clockExtensionb21fca2018ea459da0ac55d52d2b72b7 .marks > line:nth-child(5) {\r\n",
       "  transform: rotate(calc(5 * 30deg));\r\n",
       "}\r\n",
       "#clockExtensionb21fca2018ea459da0ac55d52d2b72b7 .marks > line:nth-child(6) {\r\n",
       "  transform: rotate(calc(6 * 30deg));\r\n",
       "  stroke-width: 0.5;\r\n",
       "}\r\n",
       "#clockExtensionb21fca2018ea459da0ac55d52d2b72b7 .marks > line:nth-child(7) {\r\n",
       "  transform: rotate(calc(7 * 30deg));\r\n",
       "}\r\n",
       "#clockExtensionb21fca2018ea459da0ac55d52d2b72b7 .marks > line:nth-child(8) {\r\n",
       "  transform: rotate(calc(8 * 30deg));\r\n",
       "}\r\n",
       "#clockExtensionb21fca2018ea459da0ac55d52d2b72b7 .marks > line:nth-child(9) {\r\n",
       "  transform: rotate(calc(9 * 30deg));\r\n",
       "  stroke-width: 0.5;\r\n",
       "}\r\n",
       "#clockExtensionb21fca2018ea459da0ac55d52d2b72b7 .marks > line:nth-child(10) {\r\n",
       "  transform: rotate(calc(10 * 30deg));\r\n",
       "}\r\n",
       "#clockExtensionb21fca2018ea459da0ac55d52d2b72b7 .marks > line:nth-child(11) {\r\n",
       "  transform: rotate(calc(11 * 30deg));\r\n",
       "}\r\n",
       "#clockExtensionb21fca2018ea459da0ac55d52d2b72b7 .marks > line:nth-child(12) {\r\n",
       "  transform: rotate(calc(12 * 30deg));\r\n",
       "  stroke-width: 0.5;\r\n",
       "}\r\n",
       "#clockExtensionb21fca2018ea459da0ac55d52d2b72b7 .seconds,\r\n",
       "#clockExtensionb21fca2018ea459da0ac55d52d2b72b7 .minute,\r\n",
       "#clockExtensionb21fca2018ea459da0ac55d52d2b72b7 .hour\r\n",
       "{\r\n",
       "  transform: translate(20px, 20px) rotate(0deg);\r\n",
       "}\r\n",
       "#clockExtensionb21fca2018ea459da0ac55d52d2b72b7 .seconds {\r\n",
       "  stroke-width: 0.3;\r\n",
       "  stroke: #d00505;\r\n",
       "  transform: translate(20px, 20px) rotate(calc(var(--start-seconds) * 6deg));\r\n",
       "\r\n",
       "}\r\n",
       "#clockExtensionb21fca2018ea459da0ac55d52d2b72b7 .minute {\r\n",
       "  stroke-width: 0.6;\r\n",
       "  transform: translate(20px, 20px) rotate(calc(var(--start-minutes) * 6deg));\r\n",
       "}\r\n",
       "#clockExtensionb21fca2018ea459da0ac55d52d2b72b7 .hour {\r\n",
       "  stroke: #512bd4;\r\n",
       "  stroke-width: 1;\r\n",
       "  transform: translate(20px, 20px) rotate(calc(var(--start-hours) * 30deg));\r\n",
       "}\r\n",
       "#clockExtensionb21fca2018ea459da0ac55d52d2b72b7 .pin {\r\n",
       "  stroke: #d00505;\r\n",
       "  stroke-width: 0.2;\r\n",
       "}\r\n",
       "#clockExtensionb21fca2018ea459da0ac55d52d2b72b7 .text {\r\n",
       "  font-size: 2px;\r\n",
       "  font-family: \"Segoe UI\",Helvetica,Arial,sans-serif;\r\n",
       "  transform: rotate(90deg) translate(13.5px, -12px);\r\n",
       "  fill: #512bd4;\r\n",
       "  stroke: none;\r\n",
       "}</style><script>\r\n",
       "let svg = document.querySelector(&#39;svg&#39;);\r\n",
       "</script></div>"
      ]
     },
     "metadata": {},
     "output_type": "display_data"
    }
   ],
   "source": [
    "#!clock --hour 1 -m 2 -s 3"
   ]
  }
 ],
 "metadata": {
  "kernelspec": {
   "display_name": ".NET (C#)",
   "language": "C#",
   "name": ".net-csharp"
  },
  "language_info": {
   "file_extension": ".cs",
   "mimetype": "text/x-csharp",
   "name": "C#",
   "pygments_lexer": "csharp",
   "version": "8.0"
  }
 },
 "nbformat": 4,
 "nbformat_minor": 4
}
