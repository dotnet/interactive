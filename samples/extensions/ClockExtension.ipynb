{
 "cells": [
  {
   "cell_type": "markdown",
   "metadata": {},
   "source": [
    "# The `ClockExtension` Sample\n",
    "\n",
    "The `ClockExtension` sample walks you through how to create a simple .NET Interactive extension and package it using NuGet.\n",
    "\n",
    "If you opened this notebook so that its working directory is in the `ClockExtension` project directory, then the following cell will work. Otherwise, you should first switch your working directory to the directory containing this notebook."
   ]
  },
  {
   "cell_type": "code",
   "execution_count": 1,
   "metadata": {},
   "source": [
    "#!pwsh\n",
    "# 1. Build the project\n",
    "dotnet build\n",
    "\n",
    "# Pack up the NuGet package. Note, you should increment the version because the previous one, once installed, will be in your NuGet cache\n",
    "dotnet pack /p:PackageVersion=1.3.5\n",
    "\n",
    "# 3. Check that the package is there\n",
    "Get-ChildItem -Recurse ClockExtension*.nupkg"
   ],
   "outputs": []
  },
  {
   "cell_type": "markdown",
   "metadata": {},
   "source": [
    "Now we're ready to install the extension. We can use `#i` to add the build output folder where the package is to our NuGet sources, and then `#r` to install the package. Because we didn't specify a package version to install, it will choose the highest version available, which is why you should increment the version in the cell above if you experiment with making changes to the extension. (*You can find out more about the `#i` and `#r` directives [here](https://github.com/dotnet/interactive/blob/main/docs/nuget-overview.md).*)\n",
    "\n",
    "You'll need to change the file path in the `#i` directive in this next cell to directory on your machine where `ClockExtension.1.3.5.nupkg` was created."
   ]
  },
  {
   "cell_type": "code",
   "execution_count": 1,
   "metadata": {},
   "source": [
    "#i nuget:C:\\dev\\interactive\\samples\\extensions\\ClockExtension\\bin\\Debug\\\n",
    "#r \"nuget:ClockExtension,1.3.5\""
   ],
   "outputs": []
  },
  {
   "cell_type": "markdown",
   "metadata": {},
   "source": [
    "As you can see from the output above, the extension is able to explain a bit about what it does. So now we can try it out.\n",
    "\n",
    "It adds a custom formatter for `System.DateTime`:"
   ]
  },
  {
   "cell_type": "code",
   "execution_count": 1,
   "metadata": {},
   "source": [
    "DateTime.Now"
   ],
   "outputs": []
  },
  {
   "cell_type": "markdown",
   "metadata": {},
   "source": [
    "The extension output also advised us to run `#!clock -h`. Extensions can add magic commands and all magic commands can provide help."
   ]
  },
  {
   "cell_type": "code",
   "execution_count": 1,
   "metadata": {},
   "source": [
    "#!clock -h"
   ],
   "outputs": []
  },
  {
   "cell_type": "markdown",
   "metadata": {},
   "source": [
    "The `#!clock` magic command help explains how to use options to set the position of the hands on the clock:"
   ]
  },
  {
   "cell_type": "code",
   "execution_count": 1,
   "metadata": {},
   "source": [
    "#!clock --hour 1 -m 2 -s 3"
   ],
   "outputs": []
  }
 ],
 "metadata": {
  "kernelspec": {
   "display_name": ".NET (C#)",
   "language": "C#",
   "name": ".net-csharp"
  },
  "language_info": {
   "file_extension": ".cs",
   "mimetype": "text/x-csharp",
   "name": "C#",
   "pygments_lexer": "csharp",
   "version": "8.0"
  }
 },
 "nbformat": 4,
 "nbformat_minor": 4
}