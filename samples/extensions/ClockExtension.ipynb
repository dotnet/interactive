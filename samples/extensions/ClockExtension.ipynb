{
 "cells": [
  {
   "cell_type": "markdown",
   "metadata": {},
   "source": [
    "# The `ClockExtension` Sample\r\n",
    "\r\n",
    "The `ClockExtension` sample walks you through how to create a simple .NET Interactive extension and package it using NuGet.\r\n",
    "\r\n",
    "If you opened this notebook so that its working directory is in the `ClockExtension` project directory, then the following cell will work. Otherwise, you should first switch your working directory to the directory containing this notebook."
   ]
  },
  {
   "cell_type": "code",
   "execution_count": 1,
   "metadata": {},
   "outputs": [
    {
     "data": {
      "text/html": [
       "\r\n",
       "<div>\r\n",
       "    <div id='dotnet-interactive-this-cell-44188.5d7bdf0cbde0430aac8407f73c54c772' style='display: none'>\r\n",
       "        The below script needs to be able to find the current output cell; this is an easy method to get it.\r\n",
       "    </div>\r\n",
       "    <script type='text/javascript'>\r\n",
       "// ensure `require` is available globally\r\n",
       "if (typeof require !== typeof Function || typeof require.config !== typeof Function) {\r\n",
       "    let require_script = document.createElement('script');\r\n",
       "    require_script.setAttribute('src', 'https://cdnjs.cloudflare.com/ajax/libs/require.js/2.3.6/require.min.js');\r\n",
       "    require_script.setAttribute('type', 'text/javascript');\r\n",
       "    require_script.onload = function () {\r\n",
       "        loadDotnetInteractiveApi();\r\n",
       "    };\r\n",
       "\r\n",
       "    document.getElementsByTagName('head')[0].appendChild(require_script);\r\n",
       "}\r\n",
       "else {\r\n",
       "    loadDotnetInteractiveApi();\r\n",
       "}\r\n",
       "\r\n",
       "async function probeAddresses(probingAddresses) {\r\n",
       "    function timeout(ms, promise) {\r\n",
       "        return new Promise(function (resolve, reject) {\r\n",
       "            setTimeout(function () {\r\n",
       "                reject(new Error('timeout'))\r\n",
       "            }, ms)\r\n",
       "            promise.then(resolve, reject)\r\n",
       "        })\r\n",
       "    }\r\n",
       "\r\n",
       "    if (Array.isArray(probingAddresses)) {\r\n",
       "        for (let i = 0; i < probingAddresses.length; i++) {\r\n",
       "\r\n",
       "            let rootUrl = probingAddresses[i];\r\n",
       "\r\n",
       "            if (!rootUrl.endsWith('/')) {\r\n",
       "                rootUrl = `${rootUrl}/`;\r\n",
       "            }\r\n",
       "\r\n",
       "            try {\r\n",
       "                let response = await timeout(1000, fetch(`${rootUrl}discovery`, {\r\n",
       "                    method: 'POST',\r\n",
       "                    cache: 'no-cache',\r\n",
       "                    mode: 'cors',\r\n",
       "                    timeout: 1000,\r\n",
       "                    headers: {\r\n",
       "                        'Content-Type': 'text/plain'\r\n",
       "                    },\r\n",
       "                    body: probingAddresses[i]\r\n",
       "                }));\r\n",
       "\r\n",
       "                if (response.status == 200) {\r\n",
       "                    return rootUrl;\r\n",
       "                }\r\n",
       "            }\r\n",
       "            catch (e) { }\r\n",
       "        }\r\n",
       "    }\r\n",
       "}\r\n",
       "\r\n",
       "function loadDotnetInteractiveApi() {\r\n",
       "    probeAddresses([\"http://192.168.1.29:1000/\", \"http://127.0.0.1:1000/\"])\r\n",
       "        .then((root) => {\r\n",
       "            // use probing to find host url and api resources\r\n",
       "            // load interactive helpers and language services\r\n",
       "            let dotnetInteractiveRequire = require.config({\r\n",
       "                context: '44188.5d7bdf0cbde0430aac8407f73c54c772',\r\n",
       "                paths: {\r\n",
       "                    'dotnet-interactive': `${root}resources`\r\n",
       "                }\r\n",
       "            }) || require;\r\n",
       "\r\n",
       "            let dotnetInteractiveExtensionsRequire = require.config({\r\n",
       "                context: '44188.5d7bdf0cbde0430aac8407f73c54c772',\r\n",
       "                paths: {\r\n",
       "                    'dotnet-interactive-extensions': `${root}extensions`\r\n",
       "                }\r\n",
       "            }) || require;\r\n",
       "\r\n",
       "            if (!window.dotnetInteractiveRequire) {\r\n",
       "                window.dotnetInteractiveRequire = dotnetInteractiveRequire;\r\n",
       "            }\r\n",
       "\r\n",
       "            if (!window.dotnetInteractiveExtensionsRequire) {\r\n",
       "                window.dotnetInteractiveExtensionsRequire = dotnetInteractiveExtensionsRequire;\r\n",
       "            }\r\n",
       "\r\n",
       "            window.getExtensionRequire = function(extensionName, extensionCacheBuster) {\r\n",
       "                let paths = {};\r\n",
       "                paths[extensionName] = `${root}extensions/${extensionName}/resources/`;\r\n",
       "                \r\n",
       "                let internalRequire = require.config({\r\n",
       "                    context: extensionCacheBuster,\r\n",
       "                    paths: paths,\r\n",
       "                    urlArgs: `cacheBuster=${extensionCacheBuster}`\r\n",
       "                    }) || require;\r\n",
       "\r\n",
       "                return internalRequire\r\n",
       "            };\r\n",
       "        \r\n",
       "            dotnetInteractiveRequire([\r\n",
       "                    'dotnet-interactive/dotnet-interactive'\r\n",
       "                ],\r\n",
       "                function (dotnet) {\r\n",
       "                    dotnet.init(window);\r\n",
       "                },\r\n",
       "                function (error) {\r\n",
       "                    console.log(error);\r\n",
       "                }\r\n",
       "            );\r\n",
       "        })\r\n",
       "        .catch(error => {console.log(error);});\r\n",
       "    }\r\n",
       "    </script>\r\n",
       "</div>"
      ]
     },
     "metadata": {},
     "output_type": "display_data"
    },
    {
     "name": "stdout",
     "output_type": "stream",
     "text": [
      "Microsoft (R) Build Engine version 16.7.0+b89cb5fde for .NET\n",
      "Copyright (C) Microsoft Corporation. All rights reserved.\n",
      "\n",
      "  Determining projects to restore...\n",
      "  Restored C:\\dev\\interactive\\samples\\extensions\\Library.nuget\\Library.nuget.csproj (in 177 ms).\n",
      "  Restored C:\\dev\\interactive\\samples\\extensions\\Library\\Library.csproj (in 177 ms).\n",
      "  Restored C:\\dev\\interactive\\samples\\extensions\\Library.InteractiveExtension\\Library.InteractiveExtension.csproj (in 177 ms).\n",
      "  Restored C:\\dev\\interactive\\samples\\extensions\\ClockExtension\\ClockExtension.csproj (in 479 ms).\n",
      "  Restored C:\\dev\\interactive\\samples\\extensions\\SampleExtensions.Tests\\SampleExtensions.Tests.csproj (in 533 ms).\n",
      "  Library -> C:\\dev\\interactive\\samples\\extensions\\Library\\bin\\Debug\\netcoreapp3.1\\Library.dll\n",
      "  Library.InteractiveExtension -> C:\\dev\\interactive\\samples\\extensions\\Library.InteractiveExtension\\bin\\Debug\\netcoreapp3.1\\Library.InteractiveExtension.dll\n",
      "  ClockExtension -> C:\\dev\\interactive\\samples\\extensions\\ClockExtension\\bin\\Debug\\netcoreapp3.1\\ClockExtension.dll\n",
      "  Library.nuget -> C:\\dev\\interactive\\samples\\extensions\\Library.nuget\\bin\\Debug\\netcoreapp3.1\\Library.nuget.dll\n",
      "  SampleExtensions.Tests -> C:\\dev\\interactive\\samples\\extensions\\SampleExtensions.Tests\\bin\\Debug\\netcoreapp3.1\\SampleExtensions.Tests.dll\n",
      "\n",
      "Build succeeded.\n",
      "    0 Warning(s)\n",
      "    0 Error(s)\n",
      "\n",
      "Time Elapsed 00:00:02.01\n",
      "Microsoft (R) Build Engine version 16.7.0+b89cb5fde for .NET\n",
      "Copyright (C) Microsoft Corporation. All rights reserved.\n",
      "\n",
      "  Determining projects to restore...\n",
      "  Restored C:\\dev\\interactive\\samples\\extensions\\Library.nuget\\Library.nuget.csproj (in 175 ms).\n",
      "  Restored C:\\dev\\interactive\\samples\\extensions\\Library.InteractiveExtension\\Library.InteractiveExtension.csproj (in 175 ms).\n",
      "  Restored C:\\dev\\interactive\\samples\\extensions\\Library\\Library.csproj (in 175 ms).\n",
      "  Restored C:\\dev\\interactive\\samples\\extensions\\ClockExtension\\ClockExtension.csproj (in 659 ms).\n",
      "  Restored C:\\dev\\interactive\\samples\\extensions\\SampleExtensions.Tests\\SampleExtensions.Tests.csproj (in 713 ms).\n",
      "  Library -> C:\\dev\\interactive\\samples\\extensions\\Library\\bin\\Debug\\netcoreapp3.1\\Library.dll\n",
      "  ClockExtension -> C:\\dev\\interactive\\samples\\extensions\\ClockExtension\\bin\\Debug\\netcoreapp3.1\\ClockExtension.dll\n",
      "  Library.InteractiveExtension -> C:\\dev\\interactive\\samples\\extensions\\Library.InteractiveExtension\\bin\\Debug\\netcoreapp3.1\\Library.InteractiveExtension.dll\n",
      "  Library.nuget -> C:\\dev\\interactive\\samples\\extensions\\Library.nuget\\bin\\Debug\\netcoreapp3.1\\Library.nuget.dll\n",
      "\n",
      "\n",
      "    Directory: C:\\dev\\interactive\\samples\\extensions\\ClockExtension\\bin\\Debug\n",
      "\n",
      "Mode                 LastWriteTime         Length Name\n",
      "----                 -------------         ------ ----\n",
      "-a---           8/18/2020  6:49 PM          17044 ClockExtension.1.2.8.nupkg\n",
      "-a---           8/18/2020  6:55 PM          17053 ClockExtension.1.3.0.nupkg\n",
      "-a---           8/18/2020  6:56 PM          17054 ClockExtension.1.3.1.nupkg\n",
      "-a---            9/5/2020 11:22 AM          17214 ClockExtension.1.3.2.nupkg\n",
      "-a---            9/5/2020 11:30 AM          17532 ClockExtension.1.3.3.nupkg\n",
      "-a---            9/5/2020 11:33 AM          17650 ClockExtension.1.3.4.nupkg\n",
      "-a---            9/5/2020 11:34 AM          17651 ClockExtension.1.3.5.nupkg\n",
      "\n"
     ]
    }
   ],
   "source": [
    "#!pwsh\r\n",
    "# 1. Build the project\r\n",
    "dotnet build\r\n",
    "\r\n",
    "# Pack up the NuGet package. Note, you should increment the version because the previous one, once installed, will be in your NuGet cache\r\n",
    "dotnet pack /p:PackageVersion=1.3.5\r\n",
    "\r\n",
    "# 3. Check that the package is there\r\n",
    "Get-ChildItem -Recurse ClockExtension*.nupkg"
   ]
  },
  {
   "cell_type": "markdown",
   "metadata": {},
   "source": [
    "Now we're ready to install the extension. We can use `#i` to add the build output folder where the package is to our NuGet sources, and then `#r` to install the package. Because we didn't specify a package version to install, it will choose the highest version available, which is why you should increment the version in the cell above if you experiment with making changes to the extension. (*You can find out more about the `#i` and `#r` directives [here](https://github.com/dotnet/interactive/blob/main/docs/nuget-overview.md).*)\n",
    "\n",
    "You'll need to change the file path in the `#i` directive in this next cell to directory on your machine where `ClockExtension.1.3.5.nupkg` was created."
   ]
  },
  {
   "cell_type": "code",
   "execution_count": 2,
   "metadata": {},
   "outputs": [
    {
     "data": {
      "text/html": [
       "<div><strong>Restore sources</strong><ul><li><span>C:\\dev\\interactive\\samples\\extensions\\ClockExtension\\bin\\Debug\\</span></li></ul></div>"
      ]
     },
     "metadata": {},
     "output_type": "display_data"
    },
    {
     "data": {
      "text/plain": [
       "Installed package clockextension version 1.3.5"
      ]
     },
     "metadata": {},
     "output_type": "display_data"
    },
    {
     "data": {
      "text/plain": [
       "Loaded kernel extension \"ClockKernelExtension\" from assembly C:\\Users\\josequ\\.nuget\\packages\\clockextension\\1.3.5\\interactive-extensions\\dotnet\\ClockExtension.dll"
      ]
     },
     "metadata": {},
     "output_type": "display_data"
    },
    {
     "data": {
      "text/html": [
       "<div><code>ClockExtension</code> is loaded. It adds visualizations for <code><span><a href=\"https://docs.microsoft.com/dotnet/api/system.datetime?view=netcore-3.0\">System.DateTime</a></span></code> and <code><span><a href=\"https://docs.microsoft.com/dotnet/api/system.datetimeoffset?view=netcore-3.0\">System.DateTimeOffset</a></span></code>. Try it by running: <code>DateTime.Now</code> or <code>#!clock -h</code></div>"
      ]
     },
     "metadata": {},
     "output_type": "display_data"
    }
   ],
   "source": [
    "#i nuget:C:\\dev\\interactive\\samples\\extensions\\ClockExtension\\bin\\Debug\\\r\n",
    "#r nuget:clockextension"
   ]
  },
  {
   "cell_type": "markdown",
   "metadata": {},
   "source": [
    "As you can see from the output above, the extension is able to explain a bit about what it does. So now we can try it out.\n",
    "\n",
    "It adds a custom formatter for `System.DateTime`:"
   ]
  },
  {
   "cell_type": "code",
   "execution_count": 3,
   "metadata": {},
   "outputs": [
    {
     "data": {
      "text/html": [
       "<div id=\"clockExtension62a3b8a9b3d84f0d8b2d0651cf1cc4db\"><svg viewBox=\"0 0 40 40\"><defs><radialGradient cx=\"50%\" cy=\"50%\" fx=\"50%\" fy=\"50%\" id=\"grad1\" r=\"50%\"><stop offset=\"0%\" style=\"stop-color:#512bd4;stop-opacity:0\"></stop><stop offset=\"100%\" style=\"stop-color:#512bd4;stop-opacity:.5\"></stop></radialGradient></defs><circle cx=\"20\" cy=\"20\" fill=\"#dedede\" r=\"19\"></circle><circle cx=\"20\" cy=\"20\" fill=\"url(#grad1)\" r=\"19\"></circle><g class=\"marks\"><line x1=\"15\" x2=\"16\" y1=\"0\" y2=\"0\"></line><line x1=\"15\" x2=\"16\" y1=\"0\" y2=\"0\"></line><line x1=\"15\" x2=\"16\" y1=\"0\" y2=\"0\"></line><line x1=\"15\" x2=\"16\" y1=\"0\" y2=\"0\"></line><line x1=\"15\" x2=\"16\" y1=\"0\" y2=\"0\"></line><line x1=\"15\" x2=\"16\" y1=\"0\" y2=\"0\"></line><line x1=\"15\" x2=\"16\" y1=\"0\" y2=\"0\"></line><line x1=\"15\" x2=\"16\" y1=\"0\" y2=\"0\"></line><line x1=\"15\" x2=\"16\" y1=\"0\" y2=\"0\"></line><line x1=\"15\" x2=\"16\" y1=\"0\" y2=\"0\"></line><line x1=\"15\" x2=\"16\" y1=\"0\" y2=\"0\"></line><line x1=\"15\" x2=\"16\" y1=\"0\" y2=\"0\"></line></g><text class=\"text\" x=\"0\" y=\"0\">.NET Interactive</text><line class=\"hour\" x1=\"0\" x2=\"9\" y1=\"0\" y2=\"0\"></line><line class=\"minute\" x1=\"0\" x2=\"13\" y1=\"0\" y2=\"0\"></line><line class=\"seconds\" x1=\"0\" x2=\"16\" y1=\"0\" y2=\"0\"></line><circle class=\"pin\" cx=\"20\" cy=\"20\" r=\"0.7\"></circle></svg><style type=\"text/css\">\r\n",
       "#clockExtension62a3b8a9b3d84f0d8b2d0651cf1cc4db svg {\r\n",
       "  width: 400px;\r\n",
       "  fill: white;\r\n",
       "  stroke: black;\r\n",
       "  stroke-width: 1;\r\n",
       "  stroke-linecap: round;\r\n",
       "  transform: rotate(-90deg);\r\n",
       "  --start-seconds: 28;\r\n",
       "  --start-minutes: 32;\r\n",
       "  --start-hours: 10;\r\n",
       "}\r\n",
       "\r\n",
       "#clockExtension62a3b8a9b3d84f0d8b2d0651cf1cc4db .marks {\r\n",
       "  transform: translate(20px, 20px);\r\n",
       "  stroke-width: 0.2;\r\n",
       "}\r\n",
       "#clockExtension62a3b8a9b3d84f0d8b2d0651cf1cc4db .marks > line:nth-child(1) {\r\n",
       "  transform: rotate(30deg); \r\n",
       "}\r\n",
       "#clockExtension62a3b8a9b3d84f0d8b2d0651cf1cc4db .marks > line:nth-child(2) {\r\n",
       "  transform: rotate(calc(2 * 30deg));\r\n",
       "}\r\n",
       "#clockExtension62a3b8a9b3d84f0d8b2d0651cf1cc4db .marks > line:nth-child(3) {\r\n",
       "  transform: rotate(calc(3 * 30deg));\r\n",
       "  stroke-width: 0.5;\r\n",
       "}\r\n",
       "#clockExtension62a3b8a9b3d84f0d8b2d0651cf1cc4db .marks > line:nth-child(4) {\r\n",
       "  transform: rotate(calc(4 * 30deg));\r\n",
       "}\r\n",
       "#clockExtension62a3b8a9b3d84f0d8b2d0651cf1cc4db .marks > line:nth-child(5) {\r\n",
       "  transform: rotate(calc(5 * 30deg));\r\n",
       "}\r\n",
       "#clockExtension62a3b8a9b3d84f0d8b2d0651cf1cc4db .marks > line:nth-child(6) {\r\n",
       "  transform: rotate(calc(6 * 30deg));\r\n",
       "  stroke-width: 0.5;\r\n",
       "}\r\n",
       "#clockExtension62a3b8a9b3d84f0d8b2d0651cf1cc4db .marks > line:nth-child(7) {\r\n",
       "  transform: rotate(calc(7 * 30deg));\r\n",
       "}\r\n",
       "#clockExtension62a3b8a9b3d84f0d8b2d0651cf1cc4db .marks > line:nth-child(8) {\r\n",
       "  transform: rotate(calc(8 * 30deg));\r\n",
       "}\r\n",
       "#clockExtension62a3b8a9b3d84f0d8b2d0651cf1cc4db .marks > line:nth-child(9) {\r\n",
       "  transform: rotate(calc(9 * 30deg));\r\n",
       "  stroke-width: 0.5;\r\n",
       "}\r\n",
       "#clockExtension62a3b8a9b3d84f0d8b2d0651cf1cc4db .marks > line:nth-child(10) {\r\n",
       "  transform: rotate(calc(10 * 30deg));\r\n",
       "}\r\n",
       "#clockExtension62a3b8a9b3d84f0d8b2d0651cf1cc4db .marks > line:nth-child(11) {\r\n",
       "  transform: rotate(calc(11 * 30deg));\r\n",
       "}\r\n",
       "#clockExtension62a3b8a9b3d84f0d8b2d0651cf1cc4db .marks > line:nth-child(12) {\r\n",
       "  transform: rotate(calc(12 * 30deg));\r\n",
       "  stroke-width: 0.5;\r\n",
       "}\r\n",
       "#clockExtension62a3b8a9b3d84f0d8b2d0651cf1cc4db .seconds,\r\n",
       "#clockExtension62a3b8a9b3d84f0d8b2d0651cf1cc4db .minute,\r\n",
       "#clockExtension62a3b8a9b3d84f0d8b2d0651cf1cc4db .hour\r\n",
       "{\r\n",
       "  transform: translate(20px, 20px) rotate(0deg);\r\n",
       "}\r\n",
       "#clockExtension62a3b8a9b3d84f0d8b2d0651cf1cc4db .seconds {\r\n",
       "  stroke-width: 0.3;\r\n",
       "  stroke: #d00505;\r\n",
       "  transform: translate(20px, 20px) rotate(calc(var(--start-seconds) * 6deg));\r\n",
       "\r\n",
       "}\r\n",
       "#clockExtension62a3b8a9b3d84f0d8b2d0651cf1cc4db .minute {\r\n",
       "  stroke-width: 0.6;\r\n",
       "  transform: translate(20px, 20px) rotate(calc(var(--start-minutes) * 6deg));\r\n",
       "}\r\n",
       "#clockExtension62a3b8a9b3d84f0d8b2d0651cf1cc4db .hour {\r\n",
       "  stroke: #512bd4;\r\n",
       "  stroke-width: 1;\r\n",
       "  transform: translate(20px, 20px) rotate(calc(var(--start-hours) * 30deg));\r\n",
       "}\r\n",
       "#clockExtension62a3b8a9b3d84f0d8b2d0651cf1cc4db .pin {\r\n",
       "  stroke: #d00505;\r\n",
       "  stroke-width: 0.2;\r\n",
       "}\r\n",
       "#clockExtension62a3b8a9b3d84f0d8b2d0651cf1cc4db .text {\r\n",
       "  font-size: 2px;\r\n",
       "  font-family: \"Segoe UI\",Helvetica,Arial,sans-serif;\r\n",
       "  transform: rotate(90deg) translate(13.5px, -12px);\r\n",
       "  fill: #512bd4;\r\n",
       "  stroke: none;\r\n",
       "}</style><script>\r\n",
       "let svg = document.querySelector(&#39;svg&#39;);\r\n",
       "</script></div>"
      ]
     },
     "execution_count": 3,
     "metadata": {},
     "output_type": "execute_result"
    }
   ],
   "source": [
    "DateTime.Now"
   ]
  },
  {
   "cell_type": "markdown",
   "metadata": {},
   "source": [
    "The extension output also advised us to run `#!clock -h`. Extensions can add magic commands and all magic commands can provide help."
   ]
  },
  {
   "cell_type": "code",
   "execution_count": 4,
   "metadata": {},
   "outputs": [
    {
     "name": "stdout",
     "output_type": "stream",
     "text": [
      "#!clock:\n",
      "  Displays a clock showing the current or specified time.\n",
      "\n",
      "Usage:\n",
      "  #!clock [options]\n",
      "\n",
      "Options:\n",
      "  -o, --hour <hour>        The position of the hour hand\n",
      "  -m, --minute <minute>    The position of the minute hand\n",
      "  -s, --second <second>    The position of the second hand\n",
      "  -?, -h, --help           Show help and usage information\n",
      "\n"
     ]
    }
   ],
   "source": [
    "#!clock -h"
   ]
  },
  {
   "cell_type": "markdown",
   "metadata": {},
   "source": [
    "The `#!clock` magic command help explains how to use options to set the position of the hands on the clock:"
   ]
  },
  {
   "cell_type": "code",
   "execution_count": 5,
   "metadata": {},
   "outputs": [
    {
     "data": {
      "text/html": [
       "<div id=\"clockExtension20ef9bb88cc84a019b7d4d41471d731a\"><svg viewBox=\"0 0 40 40\"><defs><radialGradient cx=\"50%\" cy=\"50%\" fx=\"50%\" fy=\"50%\" id=\"grad1\" r=\"50%\"><stop offset=\"0%\" style=\"stop-color:#512bd4;stop-opacity:0\"></stop><stop offset=\"100%\" style=\"stop-color:#512bd4;stop-opacity:.5\"></stop></radialGradient></defs><circle cx=\"20\" cy=\"20\" fill=\"#dedede\" r=\"19\"></circle><circle cx=\"20\" cy=\"20\" fill=\"url(#grad1)\" r=\"19\"></circle><g class=\"marks\"><line x1=\"15\" x2=\"16\" y1=\"0\" y2=\"0\"></line><line x1=\"15\" x2=\"16\" y1=\"0\" y2=\"0\"></line><line x1=\"15\" x2=\"16\" y1=\"0\" y2=\"0\"></line><line x1=\"15\" x2=\"16\" y1=\"0\" y2=\"0\"></line><line x1=\"15\" x2=\"16\" y1=\"0\" y2=\"0\"></line><line x1=\"15\" x2=\"16\" y1=\"0\" y2=\"0\"></line><line x1=\"15\" x2=\"16\" y1=\"0\" y2=\"0\"></line><line x1=\"15\" x2=\"16\" y1=\"0\" y2=\"0\"></line><line x1=\"15\" x2=\"16\" y1=\"0\" y2=\"0\"></line><line x1=\"15\" x2=\"16\" y1=\"0\" y2=\"0\"></line><line x1=\"15\" x2=\"16\" y1=\"0\" y2=\"0\"></line><line x1=\"15\" x2=\"16\" y1=\"0\" y2=\"0\"></line></g><text class=\"text\" x=\"0\" y=\"0\">.NET Interactive</text><line class=\"hour\" x1=\"0\" x2=\"9\" y1=\"0\" y2=\"0\"></line><line class=\"minute\" x1=\"0\" x2=\"13\" y1=\"0\" y2=\"0\"></line><line class=\"seconds\" x1=\"0\" x2=\"16\" y1=\"0\" y2=\"0\"></line><circle class=\"pin\" cx=\"20\" cy=\"20\" r=\"0.7\"></circle></svg><style type=\"text/css\">\r\n",
       "#clockExtension20ef9bb88cc84a019b7d4d41471d731a svg {\r\n",
       "  width: 400px;\r\n",
       "  fill: white;\r\n",
       "  stroke: black;\r\n",
       "  stroke-width: 1;\r\n",
       "  stroke-linecap: round;\r\n",
       "  transform: rotate(-90deg);\r\n",
       "  --start-seconds: 3;\r\n",
       "  --start-minutes: 2;\r\n",
       "  --start-hours: 1;\r\n",
       "}\r\n",
       "\r\n",
       "#clockExtension20ef9bb88cc84a019b7d4d41471d731a .marks {\r\n",
       "  transform: translate(20px, 20px);\r\n",
       "  stroke-width: 0.2;\r\n",
       "}\r\n",
       "#clockExtension20ef9bb88cc84a019b7d4d41471d731a .marks > line:nth-child(1) {\r\n",
       "  transform: rotate(30deg); \r\n",
       "}\r\n",
       "#clockExtension20ef9bb88cc84a019b7d4d41471d731a .marks > line:nth-child(2) {\r\n",
       "  transform: rotate(calc(2 * 30deg));\r\n",
       "}\r\n",
       "#clockExtension20ef9bb88cc84a019b7d4d41471d731a .marks > line:nth-child(3) {\r\n",
       "  transform: rotate(calc(3 * 30deg));\r\n",
       "  stroke-width: 0.5;\r\n",
       "}\r\n",
       "#clockExtension20ef9bb88cc84a019b7d4d41471d731a .marks > line:nth-child(4) {\r\n",
       "  transform: rotate(calc(4 * 30deg));\r\n",
       "}\r\n",
       "#clockExtension20ef9bb88cc84a019b7d4d41471d731a .marks > line:nth-child(5) {\r\n",
       "  transform: rotate(calc(5 * 30deg));\r\n",
       "}\r\n",
       "#clockExtension20ef9bb88cc84a019b7d4d41471d731a .marks > line:nth-child(6) {\r\n",
       "  transform: rotate(calc(6 * 30deg));\r\n",
       "  stroke-width: 0.5;\r\n",
       "}\r\n",
       "#clockExtension20ef9bb88cc84a019b7d4d41471d731a .marks > line:nth-child(7) {\r\n",
       "  transform: rotate(calc(7 * 30deg));\r\n",
       "}\r\n",
       "#clockExtension20ef9bb88cc84a019b7d4d41471d731a .marks > line:nth-child(8) {\r\n",
       "  transform: rotate(calc(8 * 30deg));\r\n",
       "}\r\n",
       "#clockExtension20ef9bb88cc84a019b7d4d41471d731a .marks > line:nth-child(9) {\r\n",
       "  transform: rotate(calc(9 * 30deg));\r\n",
       "  stroke-width: 0.5;\r\n",
       "}\r\n",
       "#clockExtension20ef9bb88cc84a019b7d4d41471d731a .marks > line:nth-child(10) {\r\n",
       "  transform: rotate(calc(10 * 30deg));\r\n",
       "}\r\n",
       "#clockExtension20ef9bb88cc84a019b7d4d41471d731a .marks > line:nth-child(11) {\r\n",
       "  transform: rotate(calc(11 * 30deg));\r\n",
       "}\r\n",
       "#clockExtension20ef9bb88cc84a019b7d4d41471d731a .marks > line:nth-child(12) {\r\n",
       "  transform: rotate(calc(12 * 30deg));\r\n",
       "  stroke-width: 0.5;\r\n",
       "}\r\n",
       "#clockExtension20ef9bb88cc84a019b7d4d41471d731a .seconds,\r\n",
       "#clockExtension20ef9bb88cc84a019b7d4d41471d731a .minute,\r\n",
       "#clockExtension20ef9bb88cc84a019b7d4d41471d731a .hour\r\n",
       "{\r\n",
       "  transform: translate(20px, 20px) rotate(0deg);\r\n",
       "}\r\n",
       "#clockExtension20ef9bb88cc84a019b7d4d41471d731a .seconds {\r\n",
       "  stroke-width: 0.3;\r\n",
       "  stroke: #d00505;\r\n",
       "  transform: translate(20px, 20px) rotate(calc(var(--start-seconds) * 6deg));\r\n",
       "\r\n",
       "}\r\n",
       "#clockExtension20ef9bb88cc84a019b7d4d41471d731a .minute {\r\n",
       "  stroke-width: 0.6;\r\n",
       "  transform: translate(20px, 20px) rotate(calc(var(--start-minutes) * 6deg));\r\n",
       "}\r\n",
       "#clockExtension20ef9bb88cc84a019b7d4d41471d731a .hour {\r\n",
       "  stroke: #512bd4;\r\n",
       "  stroke-width: 1;\r\n",
       "  transform: translate(20px, 20px) rotate(calc(var(--start-hours) * 30deg));\r\n",
       "}\r\n",
       "#clockExtension20ef9bb88cc84a019b7d4d41471d731a .pin {\r\n",
       "  stroke: #d00505;\r\n",
       "  stroke-width: 0.2;\r\n",
       "}\r\n",
       "#clockExtension20ef9bb88cc84a019b7d4d41471d731a .text {\r\n",
       "  font-size: 2px;\r\n",
       "  font-family: \"Segoe UI\",Helvetica,Arial,sans-serif;\r\n",
       "  transform: rotate(90deg) translate(13.5px, -12px);\r\n",
       "  fill: #512bd4;\r\n",
       "  stroke: none;\r\n",
       "}</style><script>\r\n",
       "let svg = document.querySelector(&#39;svg&#39;);\r\n",
       "</script></div>"
      ]
     },
     "metadata": {},
     "output_type": "display_data"
    }
   ],
   "source": [
    "#!clock --hour 1 -m 2 -s 3"
   ]
  }
 ],
 "metadata": {
  "kernelspec": {
   "display_name": ".NET (C#)",
   "language": "C#",
   "name": ".net-csharp"
  },
  "language_info": {
   "file_extension": ".cs",
   "mimetype": "text/x-csharp",
   "name": "C#",
   "pygments_lexer": "csharp",
   "version": "8.0"
  }
 },
 "nbformat": 4,
 "nbformat_minor": 4
}
