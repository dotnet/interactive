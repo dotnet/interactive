{
  "cells": [
    {
      "cell_type": "markdown",
      "metadata": {},
      "source": [
        "# Embedded kernels \n",
        "\n",
        "This notebook and the C# project in this folder demonstrates how you can use .NET Interactive to embed a kernel within an app, connect to it from another kernel, and use the notebook to send code to the app while it's running.\n"
      ]
    },
    {
      "cell_type": "markdown",
      "metadata": {},
      "source": [
        "\n",
        "## Connect to the WPF app\n",
        "\n",
        "First, let's start the WPF app and connect to it."
      ]
    },
    {
      "cell_type": "code",
      "execution_count": null,
      "metadata": {
        "dotnet_interactive": {
          "language": "pwsh"
        },
        "vscode": {
          "languageId": "dotnet-interactive.pwsh"
        }
      },
      "outputs": [],
      "source": [
        "Start-Process -NoNewWindow dotnet run"
      ]
    },
    {
      "cell_type": "markdown",
      "metadata": {},
      "source": [
        "Once the cell above has finished running, you should see the app's window open. Next, we'll connect to it using a named pipe. The code that sets this up within the WPF app can be seen in [`App.xaml.cs`](https://github.com/dotnet/interactive/blob/main/samples/connect-wpf/App.xaml.cs)."
      ]
    },
    {
      "cell_type": "code",
      "execution_count": null,
      "metadata": {
        "dotnet_interactive": {
          "language": "csharp"
        },
        "vscode": {
          "languageId": "dotnet-interactive.csharp"
        }
      },
      "outputs": [
        {
          "data": {
            "text/plain": [
              "Kernel added: #!wpf"
            ]
          },
          "metadata": {},
          "output_type": "display_data"
        }
      ],
      "source": [
        "#!connect named-pipe --kernel-name wpf --pipe-name InteractiveWpf"
      ]
    },
    {
      "cell_type": "markdown",
      "metadata": {},
      "source": [
        "The topology of connected kernels now looks like this:"
      ]
    },
    {
      "cell_type": "code",
      "execution_count": null,
      "metadata": {
        "dotnet_interactive": {
          "language": "mermaid"
        },
        "vscode": {
          "languageId": "dotnet-interactive.mermaid"
        }
      },
      "outputs": [
        {
          "data": {
            "text/html": [
              "<div class=\"mermaidMarkdownContainer\" style=\"background-color:white\">\r\n",
              "<script type=\"text/javascript\">\r\n",
              "\r\n",
              "loadMermaid_1702d104c3764b7c85d75632be6b0ae2 = () => {\r\n",
              " \r\n",
              "        (require.config({ 'paths': { 'context': '9.1.1', 'mermaidUri' : 'https://cdn.jsdelivr.net/npm/mermaid@9.1.1/dist/mermaid.min', 'urlArgs': 'cacheBuster=7b484d57d21b4de59b023cf85b624868' }}) || require)(['mermaidUri'], (mermaid) => {\r\n",
              "\r\n",
              "            let renderTarget = document.getElementById('1702d104c3764b7c85d75632be6b0ae2');\r\n",
              "            mermaid.mermaidAPI.render( \r\n",
              "                'mermaid_1702d104c3764b7c85d75632be6b0ae2', \r\n",
              "                `flowchart LR\r\n",
              "    subgraph WPF app\r\n",
              "    embedded[\"Embedded C# kernel\"]\r\n",
              "    end\r\n",
              "    subgraph notebook\r\n",
              "    CompositeKernel-->n1[\"C# kernel\"]\r\n",
              "    CompositeKernel-->n2\r\n",
              "    n2[\"#!wpf kernel added using #!connect\"]--named pipe-->embedded\r\n",
              "    end`, \r\n",
              "                g => {\r\n",
              "                    renderTarget.innerHTML = g \r\n",
              "                });\r\n",
              "        },\r\n",
              "        (error) => {\r\n",
              "            console.log(error);\r\n",
              "        });\r\n",
              "}\r\n",
              "// ensure `require` is available globally\r\n",
              "if ((typeof(require) !==  typeof(Function)) || (typeof(require.config) !== typeof(Function))) {\r\n",
              "    let require_script = document.createElement('script');\r\n",
              "    require_script.setAttribute('src', 'https://cdnjs.cloudflare.com/ajax/libs/require.js/2.3.6/require.min.js');\r\n",
              "    require_script.setAttribute('type', 'text/javascript');\r\n",
              "    \r\n",
              "    \r\n",
              "    require_script.onload = function() {\r\n",
              "        loadMermaid_1702d104c3764b7c85d75632be6b0ae2();\r\n",
              "    };\r\n",
              "\r\n",
              "    document.getElementsByTagName('head')[0].appendChild(require_script);\r\n",
              "}\r\n",
              "else {\r\n",
              "    loadMermaid_1702d104c3764b7c85d75632be6b0ae2();\r\n",
              "}\r\n",
              "\r\n",
              "</script>\r\n",
              "<div id=\"1702d104c3764b7c85d75632be6b0ae2\"></div>\r\n",
              "</div>\r\n"
            ]
          },
          "metadata": {},
          "output_type": "display_data"
        }
      ],
      "source": [
        "flowchart LR\n",
        "    subgraph WPF app\n",
        "    embedded[\"Embedded C# kernel\"]\n",
        "    end\n",
        "    subgraph notebook\n",
        "    CompositeKernel-->n1[\"C# kernel\"]\n",
        "    CompositeKernel-->n2\n",
        "    n2[\"#!wpf kernel added using #!connect\"]--named pipe-->embedded\n",
        "    end"
      ]
    },
    {
      "cell_type": "markdown",
      "metadata": {},
      "source": [
        "## Change the styling of the app\n",
        "\n",
        "The notebook outputs here are displayed using custom formatters defined within the WPF app itself. Take a look at the file [`WpfFormatterMixins.cs`](https://github.com/dotnet/interactive/blob/main/samples/connect-wpf/WpfFormatterMixins.cs).\n",
        "\n",
        "You'll also notice that you can get completions for the `App` object which is exposed to the notebook's kernel by the embedded kernel. "
      ]
    },
    {
      "cell_type": "code",
      "execution_count": null,
      "metadata": {
        "dotnet_interactive": {
          "language": "csharp"
        },
        "vscode": {
          "languageId": "dotnet-interactive.csharp"
        }
      },
      "outputs": [
        {
          "data": {
            "text/html": [
              "<div><div style=\"border:2px solid #FFFFFF;background-color:#FF00FFFF;width:15px;height:15px\"></div><div><b>#FF00FFFF</b></div></div>"
            ]
          },
          "metadata": {},
          "output_type": "display_data"
        }
      ],
      "source": [
        "#!wpf\n",
        "#!dispatcher\n",
        "using System.Windows.Media;\n",
        "\n",
        "App.MainWindow.Background = new SolidColorBrush(Colors.Fuchsia);\n",
        "App.MainWindow.Background"
      ]
    },
    {
      "cell_type": "code",
      "execution_count": null,
      "metadata": {
        "dotnet_interactive": {
          "language": "csharp"
        },
        "vscode": {
          "languageId": "dotnet-interactive.csharp"
        }
      },
      "outputs": [
        {
          "data": {
            "text/html": [
              "<img src=\"data:image/png;base64, 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\" width=\"785.3333333333334\" height=\"412.6666666666667\"></img>"
            ]
          },
          "metadata": {},
          "output_type": "display_data"
        }
      ],
      "source": [
        "#!wpf\n",
        "#!dispatcher\n",
        "using System.Windows.Media;\n",
        "using System.Windows.Controls;\n",
        "using System.Windows;\n",
        "\n",
        "\n",
        "var grid = (Grid)App.MainWindow.Content;\n",
        "grid.Background = new SolidColorBrush(Colors.CadetBlue);\n",
        "grid"
      ]
    },
    {
      "cell_type": "markdown",
      "metadata": {},
      "source": [
        "## Change view models at runtime\n",
        "\n",
        "Create and apply a new view model to the main window."
      ]
    },
    {
      "cell_type": "code",
      "execution_count": null,
      "metadata": {
        "dotnet_interactive": {
          "language": "csharp"
        },
        "vscode": {
          "languageId": "dotnet-interactive.csharp"
        }
      },
      "outputs": [],
      "source": [
        "#!wpf\n",
        "using System.ComponentModel;\n",
        "public class TestViewModel : INotifyPropertyChanged\n",
        "{\n",
        "    public event PropertyChangedEventHandler PropertyChanged;\n",
        "\n",
        "    private string _text = \"Notebook Initial Value\";\n",
        "    public string Text\n",
        "    {\n",
        "        get => _text;\n",
        "        set\n",
        "        {\n",
        "            if (_text != value)\n",
        "            {\n",
        "                _text = value;\n",
        "                PropertyChanged.Invoke(this, new PropertyChangedEventArgs(nameof(Text)));\n",
        "            }\n",
        "        }\n",
        "    }\n",
        "}\n",
        "\n",
        "var vm = new TestViewModel();\n",
        "\n",
        "#!dispatcher\n",
        "App.MainWindow.DataContext = vm;"
      ]
    },
    {
      "cell_type": "markdown",
      "metadata": {},
      "source": [
        "Update the value on the data bound property."
      ]
    },
    {
      "cell_type": "code",
      "execution_count": null,
      "metadata": {
        "dotnet_interactive": {
          "language": "csharp"
        },
        "vscode": {
          "languageId": "dotnet-interactive.csharp"
        }
      },
      "outputs": [
        {
          "data": {
            "text/plain": [
              "Value changed!"
            ]
          },
          "metadata": {},
          "output_type": "display_data"
        }
      ],
      "source": [
        "#!wpf\n",
        "vm.Text = \"Value changed!\""
      ]
    },
    {
      "cell_type": "markdown",
      "metadata": {},
      "source": [
        " ## Dispatcher stuff\n",
        "\n",
        " Demonstate enabling and disabling running code on the dispatcher. "
      ]
    },
    {
      "cell_type": "code",
      "execution_count": null,
      "metadata": {
        "dotnet_interactive": {
          "language": "csharp"
        },
        "vscode": {
          "languageId": "dotnet-interactive.csharp"
        }
      },
      "outputs": [],
      "source": [
        "#!wpf\n",
        "\n",
        "#!dispatcher --enabled true\n",
        "//This should work\n",
        "App.MainWindow.Title = \"Done correctly\";\n",
        "\n",
        "#!dispatcher --enabled false\n",
        "//This is expected to fail\n",
        "App.MainWindow.Title = \"Not so much\";"
      ]
    }
  ],
  "metadata": {
    "kernelspec": {
      "display_name": ".NET (C#)",
      "language": "C#",
      "name": ".net-csharp"
    },
    "language_info": {
      "file_extension": ".cs",
      "mimetype": "text/x-csharp",
      "name": "C#",
      "pygments_lexer": "csharp",
      "version": "8.0"
    }
  },
  "nbformat": 4,
  "nbformat_minor": 4
}
