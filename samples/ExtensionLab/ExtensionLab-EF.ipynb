{
 "cells": [
  {
   "cell_type": "code",
   "execution_count": 1,
   "metadata": {},
   "source": [
    "#!pwsh\r\n",
    "md AdventureworksEF\r\n",
    "dotnet new console -o AdventureworksEF \r\n",
    "dotnet add AdventureworksEF package Microsoft.EntityFrameworkCore.Design \r\n",
    "dotnet add AdventureworksEF package Microsoft.EntityFrameworkCore.SqlServer"
   ],
   "outputs": []
  },
  {
   "cell_type": "code",
   "execution_count": 1,
   "metadata": {},
   "source": [
    "#!pwsh\r\n",
    "dotnet ef dbcontext scaffold \"Server=localhost;Database=AdventureWorks2019;Trusted_Connection=Yes;\" Microsoft.EntityFrameworkCore.SqlServer --project .\\AdventureworksEF\\\r\n",
    ""
   ],
   "outputs": []
  },
  {
   "cell_type": "code",
   "execution_count": 1,
   "metadata": {},
   "source": [
    "#r \"nuget:Microsoft.EntityFrameworkCore.Design \"\r\n",
    "#r \"nuget:Microsoft.EntityFrameworkCore.SqlServer\""
   ],
   "outputs": [
    {
     "output_type": "execute_result",
     "data": {
      "text/plain": "Installed package Microsoft.EntityFrameworkCore.SqlServer version 3.1.8"
     },
     "execution_count": 1,
     "metadata": {}
    },
    {
     "output_type": "execute_result",
     "data": {
      "text/plain": "Installed package Microsoft.EntityFrameworkCore.Design version 3.1.8"
     },
     "execution_count": 1,
     "metadata": {}
    }
   ]
  },
  {
   "cell_type": "code",
   "execution_count": 1,
   "metadata": {},
   "source": [
    "#!pwsh\r\n",
    "Get-ChildItem -Recurse *.dll"
   ],
   "outputs": []
  },
  {
   "cell_type": "code",
   "execution_count": 1,
   "metadata": {},
   "source": [
    "#r \"c:\\dev\\interactive\\samples\\ExtensionLab\\AdventureWorksEF\\bin\\Debug\\netcoreapp3.1\\AdventureworksEF.dll\""
   ],
   "outputs": []
  },
  {
   "cell_type": "code",
   "execution_count": 1,
   "metadata": {},
   "source": [
    "using AdventureworksEF;"
   ],
   "outputs": []
  },
  {
   "cell_type": "code",
   "execution_count": 1,
   "metadata": {},
   "source": [
    "using Microsoft.EntityFrameworkCore;\r\n",
    "\r\n",
    "AdventureworksEF."
   ],
   "outputs": [
    {
     "output_type": "error",
     "ename": "Error",
     "evalue": "(3,36): error CS0234: The type or namespace name 'AdventureWorks2019Context' does not exist in the namespace 'AdventureworksEF' (are you missing an assembly reference?)",
     "traceback": []
    }
   ]
  },
  {
   "cell_type": "code",
   "execution_count": 1,
   "metadata": {},
   "source": [
    "#!log"
   ],
   "outputs": []
  },
  {
   "cell_type": "code",
   "execution_count": 1,
   "metadata": {},
   "source": [
    ""
   ],
   "outputs": []
  }
 ],
 "metadata": {
  "kernelspec": {
   "display_name": ".NET (C#)",
   "language": "C#",
   "name": ".net-csharp"
  },
  "language_info": {
   "file_extension": ".cs",
   "mimetype": "text/x-csharp",
   "name": "C#",
   "pygments_lexer": "csharp",
   "version": "8.0"
  }
 },
 "nbformat": 4,
 "nbformat_minor": 4
}