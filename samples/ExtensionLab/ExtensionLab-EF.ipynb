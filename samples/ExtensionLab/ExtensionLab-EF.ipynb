{
  "cells": [
    {
      "cell_type": "code",
      "execution_count": null,
      "metadata": {
        "dotnet_interactive": {
          "language": "csharp"
        },
        "vscode": {
          "languageId": "dotnet-interactive.csharp"
        }
      },
      "outputs": [
        {
          "data": {
            "text/html": [
              "<div><div></div><div></div><div><strong>Installed Packages</strong><ul><li><span>Microsoft.DotNet.Interactive.SqlServer, 1.0.0-beta.22175.2</span></li></ul></div></div>"
            ]
          },
          "metadata": {},
          "output_type": "display_data"
        },
        {
          "data": {
            "text/markdown": [
              "Loading extensions from `Microsoft.DotNet.Interactive.SqlServer.dll`"
            ]
          },
          "metadata": {},
          "output_type": "display_data"
        },
        {
          "data": {
            "text/html": [
              "<details><summary>Query Microsoft SQL Server databases.</summary>\r\n",
              "    <p>This extension adds support for connecting to Microsoft SQL Server databases using the <code>#!connect mssql</code> magic command. For more information, run a cell using the <code>#!sql</code> magic command.</p>\r\n",
              "    </details>"
            ]
          },
          "metadata": {},
          "output_type": "display_data"
        }
      ],
      "source": [
        "#r \"nuget: Microsoft.DotNet.Interactive.SqlServer, 1.0.0-beta.22175.2\""
      ]
    },
    {
      "cell_type": "code",
      "execution_count": null,
      "metadata": {
        "dotnet_interactive": {
          "language": "csharp"
        },
        "vscode": {
          "languageId": "dotnet-interactive.csharp"
        }
      },
      "outputs": [
        {
          "data": {
            "text/markdown": [
              "Scaffolding a `DbContext` and initializing an instance of it called `adventureworks` in the C# kernel."
            ]
          },
          "metadata": {},
          "output_type": "display_data"
        },
        {
          "data": {
            "text/html": [
              "<div><div></div><div></div><div><strong>Installed Packages</strong><ul><li><span>Humanizer, 2.8.26</span></li><li><span>humanizer.core, 2.8.26</span></li><li><span>Microsoft.EntityFrameworkCore.Design, 6.0.0</span></li><li><span>microsoft.entityframeworkcore.sqlserver, 6.0.0</span></li><li><span>microsoft.identity.client, 4.35.1</span></li></ul></div></div>"
            ]
          },
          "metadata": {},
          "output_type": "display_data"
        },
        {
          "data": {
            "text/plain": [
              "Kernel added: #!sql-adventureworks"
            ]
          },
          "metadata": {},
          "output_type": "display_data"
        }
      ],
      "source": [
        "#!connect mssql --create-dbcontext --kernel-name adventureworks \"Persist Security Info=False; Integrated Security=true; Initial Catalog=AdventureWorks2019; Server=localhost\""
      ]
    },
    {
      "cell_type": "code",
      "execution_count": null,
      "metadata": {
        "dotnet_interactive": {
          "language": "csharp"
        },
        "vscode": {
          "languageId": "dotnet-interactive.csharp"
        }
      },
      "outputs": [],
      "source": [
        "var id = 1;"
      ]
    },
    {
      "cell_type": "code",
      "execution_count": null,
      "metadata": {
        "dotnet_interactive": {
          "language": "csharp"
        },
        "vscode": {
          "languageId": "dotnet-interactive.csharp"
        }
      },
      "outputs": [
        {
          "data": {
            "text/plain": [
              "Adding shared variable declaration statement : DECLARE @id Int = 1;"
            ]
          },
          "metadata": {},
          "output_type": "display_data"
        },
        {
          "data": {
            "text/plain": [
              "(3 rows affected)"
            ]
          },
          "metadata": {},
          "output_type": "display_data"
        },
        {
          "data": {
            "text/csv": [
              "BusinessEntityID,TerritoryID,SalesQuota,Bonus,CommissionPct,SalesYTD,SalesLastYear,rowguid,ModifiedDate\r\n",
              "280,1,250000.0000,5000.0000,0.0100,1352577.1325,1927059.1780,be941a4a-fb50-4947-bda4-bb8972365b08,2011-05-24T00:00:00.0000000\r\n",
              "283,1,250000.0000,3500.0000,0.0120,1573012.9383,1371635.3158,6bac15b2-8ffb-45a9-b6d5-040e16c2073f,2011-05-24T00:00:00.0000000\r\n",
              "284,1,300000.0000,3900.0000,0.0190,1576562.1966,0.0000,ac94ec04-a2dc-43e3-8654-dd0c546abc17,2012-09-23T00:00:00.0000000\r\n"
            ],
            "text/html": [
              "<table><thead><tr><td><span>BusinessEntityID</span></td><td><span>TerritoryID</span></td><td><span>SalesQuota</span></td><td><span>Bonus</span></td><td><span>CommissionPct</span></td><td><span>SalesYTD</span></td><td><span>SalesLastYear</span></td><td><span>rowguid</span></td><td><span>ModifiedDate</span></td></tr></thead><tbody><tr><td><div class=\"dni-plaintext\">280</div></td><td><div class=\"dni-plaintext\">1</div></td><td><div class=\"dni-plaintext\">250000.0000</div></td><td><div class=\"dni-plaintext\">5000.0000</div></td><td><div class=\"dni-plaintext\">0.0100</div></td><td><div class=\"dni-plaintext\">1352577.1325</div></td><td><div class=\"dni-plaintext\">1927059.1780</div></td><td><div class=\"dni-plaintext\">be941a4a-fb50-4947-bda4-bb8972365b08</div></td><td><span>2011-05-24 00:00:00Z</span></td></tr><tr><td><div class=\"dni-plaintext\">283</div></td><td><div class=\"dni-plaintext\">1</div></td><td><div class=\"dni-plaintext\">250000.0000</div></td><td><div class=\"dni-plaintext\">3500.0000</div></td><td><div class=\"dni-plaintext\">0.0120</div></td><td><div class=\"dni-plaintext\">1573012.9383</div></td><td><div class=\"dni-plaintext\">1371635.3158</div></td><td><div class=\"dni-plaintext\">6bac15b2-8ffb-45a9-b6d5-040e16c2073f</div></td><td><span>2011-05-24 00:00:00Z</span></td></tr><tr><td><div class=\"dni-plaintext\">284</div></td><td><div class=\"dni-plaintext\">1</div></td><td><div class=\"dni-plaintext\">300000.0000</div></td><td><div class=\"dni-plaintext\">3900.0000</div></td><td><div class=\"dni-plaintext\">0.0190</div></td><td><div class=\"dni-plaintext\">1576562.1966</div></td><td><div class=\"dni-plaintext\">0.0000</div></td><td><div class=\"dni-plaintext\">ac94ec04-a2dc-43e3-8654-dd0c546abc17</div></td><td><span>2012-09-23 00:00:00Z</span></td></tr></tbody></table>"
            ]
          },
          "metadata": {},
          "output_type": "display_data"
        }
      ],
      "source": [
        "#!sql-adventureworks --name territories\n",
        "#!share --from csharp id \n",
        "\n",
        "select * from AdventureWorks2019.Sales.SalesPerson so where so.TerritoryID = @id"
      ]
    },
    {
      "cell_type": "code",
      "execution_count": null,
      "metadata": {
        "dotnet_interactive": {
          "language": "csharp"
        },
        "vscode": {
          "languageId": "dotnet-interactive.csharp"
        }
      },
      "outputs": [
        {
          "data": {
            "text/html": [
              "<table><thead><tr><th><i>index</i></th><th>value</th></tr></thead><tbody><tr><td>0</td><td><table><thead><tr><td><span>BusinessEntityID</span></td><td><span>TerritoryID</span></td><td><span>SalesQuota</span></td><td><span>Bonus</span></td><td><span>CommissionPct</span></td><td><span>SalesYTD</span></td><td><span>SalesLastYear</span></td><td><span>rowguid</span></td><td><span>ModifiedDate</span></td></tr></thead><tbody><tr><td><div class=\"dni-plaintext\">280</div></td><td><div class=\"dni-plaintext\">1</div></td><td><div class=\"dni-plaintext\">250000.0000</div></td><td><div class=\"dni-plaintext\">5000.0000</div></td><td><div class=\"dni-plaintext\">0.0100</div></td><td><div class=\"dni-plaintext\">1352577.1325</div></td><td><div class=\"dni-plaintext\">1927059.1780</div></td><td><div class=\"dni-plaintext\">be941a4a-fb50-4947-bda4-bb8972365b08</div></td><td><span>2011-05-24 00:00:00Z</span></td></tr><tr><td><div class=\"dni-plaintext\">283</div></td><td><div class=\"dni-plaintext\">1</div></td><td><div class=\"dni-plaintext\">250000.0000</div></td><td><div class=\"dni-plaintext\">3500.0000</div></td><td><div class=\"dni-plaintext\">0.0120</div></td><td><div class=\"dni-plaintext\">1573012.9383</div></td><td><div class=\"dni-plaintext\">1371635.3158</div></td><td><div class=\"dni-plaintext\">6bac15b2-8ffb-45a9-b6d5-040e16c2073f</div></td><td><span>2011-05-24 00:00:00Z</span></td></tr><tr><td><div class=\"dni-plaintext\">284</div></td><td><div class=\"dni-plaintext\">1</div></td><td><div class=\"dni-plaintext\">300000.0000</div></td><td><div class=\"dni-plaintext\">3900.0000</div></td><td><div class=\"dni-plaintext\">0.0190</div></td><td><div class=\"dni-plaintext\">1576562.1966</div></td><td><div class=\"dni-plaintext\">0.0000</div></td><td><div class=\"dni-plaintext\">ac94ec04-a2dc-43e3-8654-dd0c546abc17</div></td><td><span>2012-09-23 00:00:00Z</span></td></tr></tbody></table></td></tr></tbody></table>"
            ]
          },
          "metadata": {},
          "output_type": "display_data"
        }
      ],
      "source": [
        "#!share --from sql-adventureworks territories\n",
        "\n",
        "territories"
      ]
    },
    {
      "cell_type": "code",
      "execution_count": null,
      "metadata": {
        "dotnet_interactive": {
          "language": "csharp"
        },
        "vscode": {
          "languageId": "dotnet-interactive.csharp"
        }
      },
      "outputs": [
        {
          "data": {
            "text/html": [
              "<div><div></div><div></div><div><strong>Installed Packages</strong><ul><li><span>SandDance.InteractiveExtension, 1.0.45</span></li></ul></div></div>"
            ]
          },
          "metadata": {},
          "output_type": "display_data"
        },
        {
          "data": {
            "text/markdown": [
              "Loading extensions from `SandDance.InteractiveExtension.dll`"
            ]
          },
          "metadata": {},
          "output_type": "display_data"
        },
        {
          "data": {
            "text/html": [
              "<details><summary>Explore data visually using the <a href=\"https://github.com/microsoft/SandDance\">SandDance Explorer</a>.</summary>\r\n",
              "    <p>This extension adds the ability to sort, filter, and visualize data using the <a href=\"https://github.com/microsoft/SandDance\">SandDance Explorer</a>. Use the <code>ExploreWithSandDance()</code> extension method with variables of type <code>JsonElement</code>, <code>IEnumerable<T></code> or <code>IDataView</code> to render the data explorer.</p>\r\n",
              "<pre>\r\n",
              "    <code>\r\n",
              "    using Microsoft.Data.Analysis;\r\n",
              "    using System.Collections.Generic;\r\n",
              "    using Microsoft.ML;\r\n",
              "\r\n",
              "    var dataFrame = DataFrame.LoadCsv(\"./Data.csv\");\r\n",
              "\r\n",
              "    dataFrame.ExploreWithSandDance().Display();\r\n",
              "    </code>\r\n",
              "</pre>\r\n",
              "<p>To set the SandDance Explorer use the following code</p>\r\n",
              "<pre>\r\n",
              "    <code>\r\n",
              "    DataExplorer.SetDefault<TabularDataResource, SandDanceDataExplorer>();\r\n",
              "    </code>\r\n",
              "</pre>\r\n",
              "    <img src=\"https://user-images.githubusercontent.com/11507384/54236654-52d42800-44d1-11e9-859e-6c5d297a46d2.gif\" width=\"30%\">\r\n",
              "    </details>"
            ]
          },
          "metadata": {},
          "output_type": "display_data"
        }
      ],
      "source": [
        "#r \"nuget: SandDance.InteractiveExtension, 1.0.45\""
      ]
    },
    {
      "cell_type": "code",
      "execution_count": null,
      "metadata": {
        "dotnet_interactive": {
          "language": "csharp"
        },
        "vscode": {
          "languageId": "dotnet-interactive.csharp"
        }
      },
      "outputs": [
        {
          "data": {
            "text/csv": [
              "BusinessEntityId,TerritoryId,SalesQuota,Bonus,CommissionPct,SalesYtd,SalesLastYear,Rowguid,ModifiedDate,BusinessEntity,Territory,SalesOrderHeaders,SalesPersonQuotaHistories,SalesTerritoryHistories,Stores\r\n",
              "274,,,0.0000,0.0000,559697.5639,0.0000,48754992-9ee0-4c0e-8c94-9451604e3e02,2010-12-28T00:00:00.0000000,,,System.Collections.Generic.HashSet`1[Submission#4+SalesOrderHeader],System.Collections.Generic.HashSet`1[Submission#4+SalesPersonQuotaHistory],System.Collections.Generic.HashSet`1[Submission#4+SalesTerritoryHistory],System.Collections.Generic.HashSet`1[Submission#4+Store]\r\n",
              "275,2,300000.0000,4100.0000,0.0120,3763178.1787,1750406.4785,1e0a7274-3064-4f58-88ee-4c6586c87169,2011-05-24T00:00:00.0000000,,,System.Collections.Generic.HashSet`1[Submission#4+SalesOrderHeader],System.Collections.Generic.HashSet`1[Submission#4+SalesPersonQuotaHistory],System.Collections.Generic.HashSet`1[Submission#4+SalesTerritoryHistory],System.Collections.Generic.HashSet`1[Submission#4+Store]\r\n",
              "276,4,250000.0000,2000.0000,0.0150,4251368.5497,1439156.0291,4dd9eee4-8e81-4f8c-af97-683394c1f7c0,2011-05-24T00:00:00.0000000,,,System.Collections.Generic.HashSet`1[Submission#4+SalesOrderHeader],System.Collections.Generic.HashSet`1[Submission#4+SalesPersonQuotaHistory],System.Collections.Generic.HashSet`1[Submission#4+SalesTerritoryHistory],System.Collections.Generic.HashSet`1[Submission#4+Store]\r\n",
              "277,3,250000.0000,2500.0000,0.0150,3189418.3662,1997186.2037,39012928-bfec-4242-874d-423162c3f567,2011-05-24T00:00:00.0000000,,,System.Collections.Generic.HashSet`1[Submission#4+SalesOrderHeader],System.Collections.Generic.HashSet`1[Submission#4+SalesPersonQuotaHistory],System.Collections.Generic.HashSet`1[Submission#4+SalesTerritoryHistory],System.Collections.Generic.HashSet`1[Submission#4+Store]\r\n",
              "278,6,250000.0000,500.0000,0.0100,1453719.4653,1620276.8966,7a0ae1ab-b283-40f9-91d1-167abf06d720,2011-05-24T00:00:00.0000000,,,System.Collections.Generic.HashSet`1[Submission#4+SalesOrderHeader],System.Collections.Generic.HashSet`1[Submission#4+SalesPersonQuotaHistory],System.Collections.Generic.HashSet`1[Submission#4+SalesTerritoryHistory],System.Collections.Generic.HashSet`1[Submission#4+Store]\r\n",
              "279,5,300000.0000,6700.0000,0.0100,2315185.6110,1849640.9418,52a5179d-3239-4157-ae29-17e868296dc0,2011-05-24T00:00:00.0000000,,,System.Collections.Generic.HashSet`1[Submission#4+SalesOrderHeader],System.Collections.Generic.HashSet`1[Submission#4+SalesPersonQuotaHistory],System.Collections.Generic.HashSet`1[Submission#4+SalesTerritoryHistory],System.Collections.Generic.HashSet`1[Submission#4+Store]\r\n",
              "280,1,250000.0000,5000.0000,0.0100,1352577.1325,1927059.1780,be941a4a-fb50-4947-bda4-bb8972365b08,2011-05-24T00:00:00.0000000,,,System.Collections.Generic.HashSet`1[Submission#4+SalesOrderHeader],System.Collections.Generic.HashSet`1[Submission#4+SalesPersonQuotaHistory],System.Collections.Generic.HashSet`1[Submission#4+SalesTerritoryHistory],System.Collections.Generic.HashSet`1[Submission#4+Store]\r\n",
              "281,4,250000.0000,3550.0000,0.0100,2458535.6169,2073505.9999,35326ddb-7278-4fef-b3ba-ea137b69094e,2011-05-24T00:00:00.0000000,,,System.Collections.Generic.HashSet`1[Submission#4+SalesOrderHeader],System.Collections.Generic.HashSet`1[Submission#4+SalesPersonQuotaHistory],System.Collections.Generic.HashSet`1[Submission#4+SalesTerritoryHistory],System.Collections.Generic.HashSet`1[Submission#4+Store]\r\n",
              "282,6,250000.0000,5000.0000,0.0150,2604540.7172,2038234.6549,31fd7fc1-dc84-4f05-b9a0-762519eacacc,2011-05-24T00:00:00.0000000,,,System.Collections.Generic.HashSet`1[Submission#4+SalesOrderHeader],System.Collections.Generic.HashSet`1[Submission#4+SalesPersonQuotaHistory],System.Collections.Generic.HashSet`1[Submission#4+SalesTerritoryHistory],System.Collections.Generic.HashSet`1[Submission#4+Store]\r\n",
              "283,1,250000.0000,3500.0000,0.0120,1573012.9383,1371635.3158,6bac15b2-8ffb-45a9-b6d5-040e16c2073f,2011-05-24T00:00:00.0000000,,,System.Collections.Generic.HashSet`1[Submission#4+SalesOrderHeader],System.Collections.Generic.HashSet`1[Submission#4+SalesPersonQuotaHistory],System.Collections.Generic.HashSet`1[Submission#4+SalesTerritoryHistory],System.Collections.Generic.HashSet`1[Submission#4+Store]\r\n",
              "284,1,300000.0000,3900.0000,0.0190,1576562.1966,0.0000,ac94ec04-a2dc-43e3-8654-dd0c546abc17,2012-09-23T00:00:00.0000000,,,System.Collections.Generic.HashSet`1[Submission#4+SalesOrderHeader],System.Collections.Generic.HashSet`1[Submission#4+SalesPersonQuotaHistory],System.Collections.Generic.HashSet`1[Submission#4+SalesTerritoryHistory],System.Collections.Generic.HashSet`1[Submission#4+Store]\r\n",
              "285,,,0.0000,0.0000,172524.4512,0.0000,cfdbef27-b1f7-4a56-a878-0221c73bae67,2013-03-07T00:00:00.0000000,,,System.Collections.Generic.HashSet`1[Submission#4+SalesOrderHeader],System.Collections.Generic.HashSet`1[Submission#4+SalesPersonQuotaHistory],System.Collections.Generic.HashSet`1[Submission#4+SalesTerritoryHistory],System.Collections.Generic.HashSet`1[Submission#4+Store]\r\n",
              "286,9,250000.0000,5650.0000,0.0180,1421810.9242,2278548.9776,9b968777-75dc-45bd-a8df-9cdaa72839e1,2013-05-23T00:00:00.0000000,,,System.Collections.Generic.HashSet`1[Submission#4+SalesOrderHeader],System.Collections.Generic.HashSet`1[Submission#4+SalesPersonQuotaHistory],System.Collections.Generic.HashSet`1[Submission#4+SalesTerritoryHistory],System.Collections.Generic.HashSet`1[Submission#4+Store]\r\n",
              "287,,,0.0000,0.0000,519905.9320,0.0000,1dd1f689-df74-4149-8600-59555eef154b,2012-04-09T00:00:00.0000000,,,System.Collections.Generic.HashSet`1[Submission#4+SalesOrderHeader],System.Collections.Generic.HashSet`1[Submission#4+SalesPersonQuotaHistory],System.Collections.Generic.HashSet`1[Submission#4+SalesTerritoryHistory],System.Collections.Generic.HashSet`1[Submission#4+Store]\r\n",
              "288,8,250000.0000,75.0000,0.0180,1827066.7118,1307949.7917,224bb25a-62e3-493e-acaf-4f8f5c72396a,2013-05-23T00:00:00.0000000,,,System.Collections.Generic.HashSet`1[Submission#4+SalesOrderHeader],System.Collections.Generic.HashSet`1[Submission#4+SalesPersonQuotaHistory],System.Collections.Generic.HashSet`1[Submission#4+SalesTerritoryHistory],System.Collections.Generic.HashSet`1[Submission#4+Store]\r\n",
              "289,10,250000.0000,5150.0000,0.0200,4116871.2277,1635823.3967,25f6838d-9db4-4833-9ddc-7a24283af1ba,2012-05-23T00:00:00.0000000,,,System.Collections.Generic.HashSet`1[Submission#4+SalesOrderHeader],System.Collections.Generic.HashSet`1[Submission#4+SalesPersonQuotaHistory],System.Collections.Generic.HashSet`1[Submission#4+SalesTerritoryHistory],System.Collections.Generic.HashSet`1[Submission#4+Store]\r\n",
              "290,7,250000.0000,985.0000,0.0160,3121616.3202,2396539.7601,f509e3d4-76c8-42aa-b353-90b7b8db08de,2012-05-23T00:00:00.0000000,,,System.Collections.Generic.HashSet`1[Submission#4+SalesOrderHeader],System.Collections.Generic.HashSet`1[Submission#4+SalesPersonQuotaHistory],System.Collections.Generic.HashSet`1[Submission#4+SalesTerritoryHistory],System.Collections.Generic.HashSet`1[Submission#4+Store]\r\n"
            ],
            "text/html": [
              "<div style=\"background-color:white;\">\r\n",
              "<div id=\"ebc4ce9db6bb4faebcebd9b499625999\" style=\"height: 100ch ;margin: 2px;\">\r\n",
              "</div>\r\n",
              "<script type=\"text/javascript\">\r\n",
              "\r\n",
              "renderSandDanceExplorer_ebc4ce9db6bb4faebcebd9b499625999 = () => {\r\n",
              "\r\n",
              "    (require.config({ 'paths': { 'context': '1.0.252001', 'sandDanceUri' : 'https://colombod.github.io/dotnet-interactive-cdn/extensionlab/1.0.252001/SandDance/sanddanceapi', 'urlArgs': 'cacheBuster=152cebdd7a4c477da916f43293564efc' }}) || require)(['sandDanceUri'], (sandDance) => {\r\n",
              "\r\n",
              "        sandDance.createSandDanceExplorer({\r\n",
              "            data: {\r\n",
              "  \"profile\": \"tabular-data-resource\",\r\n",
              "  \"schema\": {\r\n",
              "    \"primaryKey\": [],\r\n",
              "    \"fields\": [\r\n",
              "      {\r\n",
              "        \"name\": \"BusinessEntityId\",\r\n",
              "        \"type\": \"integer\"\r\n",
              "      },\r\n",
              "      {\r\n",
              "        \"name\": \"TerritoryId\",\r\n",
              "        \"type\": \"integer\"\r\n",
              "      },\r\n",
              "      {\r\n",
              "        \"name\": \"SalesQuota\",\r\n",
              "        \"type\": \"number\"\r\n",
              "      },\r\n",
              "      {\r\n",
              "        \"name\": \"Bonus\",\r\n",
              "        \"type\": \"number\"\r\n",
              "      },\r\n",
              "      {\r\n",
              "        \"name\": \"CommissionPct\",\r\n",
              "        \"type\": \"number\"\r\n",
              "      },\r\n",
              "      {\r\n",
              "        \"name\": \"SalesYtd\",\r\n",
              "        \"type\": \"number\"\r\n",
              "      },\r\n",
              "      {\r\n",
              "        \"name\": \"SalesLastYear\",\r\n",
              "        \"type\": \"number\"\r\n",
              "      },\r\n",
              "      {\r\n",
              "        \"name\": \"Rowguid\",\r\n",
              "        \"type\": \"any\"\r\n",
              "      },\r\n",
              "      {\r\n",
              "        \"name\": \"ModifiedDate\",\r\n",
              "        \"type\": \"datetime\"\r\n",
              "      },\r\n",
              "      {\r\n",
              "        \"name\": \"BusinessEntity\",\r\n",
              "        \"type\": \"null\"\r\n",
              "      },\r\n",
              "      {\r\n",
              "        \"name\": \"Territory\",\r\n",
              "        \"type\": \"null\"\r\n",
              "      },\r\n",
              "      {\r\n",
              "        \"name\": \"SalesOrderHeaders\",\r\n",
              "        \"type\": \"any\"\r\n",
              "      },\r\n",
              "      {\r\n",
              "        \"name\": \"SalesPersonQuotaHistories\",\r\n",
              "        \"type\": \"any\"\r\n",
              "      },\r\n",
              "      {\r\n",
              "        \"name\": \"SalesTerritoryHistories\",\r\n",
              "        \"type\": \"any\"\r\n",
              "      },\r\n",
              "      {\r\n",
              "        \"name\": \"Stores\",\r\n",
              "        \"type\": \"any\"\r\n",
              "      }\r\n",
              "    ]\r\n",
              "  },\r\n",
              "  \"data\": [\r\n",
              "    {\r\n",
              "      \"BusinessEntityId\": 274,\r\n",
              "      \"TerritoryId\": null,\r\n",
              "      \"SalesQuota\": null,\r\n",
              "      \"Bonus\": 0.0000,\r\n",
              "      \"CommissionPct\": 0.0000,\r\n",
              "      \"SalesYtd\": 559697.5639,\r\n",
              "      \"SalesLastYear\": 0.0000,\r\n",
              "      \"Rowguid\": \"48754992-9ee0-4c0e-8c94-9451604e3e02\",\r\n",
              "      \"ModifiedDate\": \"2010-12-28T00:00:00\",\r\n",
              "      \"BusinessEntity\": null,\r\n",
              "      \"Territory\": null,\r\n",
              "      \"SalesOrderHeaders\": [],\r\n",
              "      \"SalesPersonQuotaHistories\": [],\r\n",
              "      \"SalesTerritoryHistories\": [],\r\n",
              "      \"Stores\": []\r\n",
              "    },\r\n",
              "    {\r\n",
              "      \"BusinessEntityId\": 275,\r\n",
              "      \"TerritoryId\": 2,\r\n",
              "      \"SalesQuota\": 300000.0000,\r\n",
              "      \"Bonus\": 4100.0000,\r\n",
              "      \"CommissionPct\": 0.0120,\r\n",
              "      \"SalesYtd\": 3763178.1787,\r\n",
              "      \"SalesLastYear\": 1750406.4785,\r\n",
              "      \"Rowguid\": \"1e0a7274-3064-4f58-88ee-4c6586c87169\",\r\n",
              "      \"ModifiedDate\": \"2011-05-24T00:00:00\",\r\n",
              "      \"BusinessEntity\": null,\r\n",
              "      \"Territory\": null,\r\n",
              "      \"SalesOrderHeaders\": [],\r\n",
              "      \"SalesPersonQuotaHistories\": [],\r\n",
              "      \"SalesTerritoryHistories\": [],\r\n",
              "      \"Stores\": []\r\n",
              "    },\r\n",
              "    {\r\n",
              "      \"BusinessEntityId\": 276,\r\n",
              "      \"TerritoryId\": 4,\r\n",
              "      \"SalesQuota\": 250000.0000,\r\n",
              "      \"Bonus\": 2000.0000,\r\n",
              "      \"CommissionPct\": 0.0150,\r\n",
              "      \"SalesYtd\": 4251368.5497,\r\n",
              "      \"SalesLastYear\": 1439156.0291,\r\n",
              "      \"Rowguid\": \"4dd9eee4-8e81-4f8c-af97-683394c1f7c0\",\r\n",
              "      \"ModifiedDate\": \"2011-05-24T00:00:00\",\r\n",
              "      \"BusinessEntity\": null,\r\n",
              "      \"Territory\": null,\r\n",
              "      \"SalesOrderHeaders\": [],\r\n",
              "      \"SalesPersonQuotaHistories\": [],\r\n",
              "      \"SalesTerritoryHistories\": [],\r\n",
              "      \"Stores\": []\r\n",
              "    },\r\n",
              "    {\r\n",
              "      \"BusinessEntityId\": 277,\r\n",
              "      \"TerritoryId\": 3,\r\n",
              "      \"SalesQuota\": 250000.0000,\r\n",
              "      \"Bonus\": 2500.0000,\r\n",
              "      \"CommissionPct\": 0.0150,\r\n",
              "      \"SalesYtd\": 3189418.3662,\r\n",
              "      \"SalesLastYear\": 1997186.2037,\r\n",
              "      \"Rowguid\": \"39012928-bfec-4242-874d-423162c3f567\",\r\n",
              "      \"ModifiedDate\": \"2011-05-24T00:00:00\",\r\n",
              "      \"BusinessEntity\": null,\r\n",
              "      \"Territory\": null,\r\n",
              "      \"SalesOrderHeaders\": [],\r\n",
              "      \"SalesPersonQuotaHistories\": [],\r\n",
              "      \"SalesTerritoryHistories\": [],\r\n",
              "      \"Stores\": []\r\n",
              "    },\r\n",
              "    {\r\n",
              "      \"BusinessEntityId\": 278,\r\n",
              "      \"TerritoryId\": 6,\r\n",
              "      \"SalesQuota\": 250000.0000,\r\n",
              "      \"Bonus\": 500.0000,\r\n",
              "      \"CommissionPct\": 0.0100,\r\n",
              "      \"SalesYtd\": 1453719.4653,\r\n",
              "      \"SalesLastYear\": 1620276.8966,\r\n",
              "      \"Rowguid\": \"7a0ae1ab-b283-40f9-91d1-167abf06d720\",\r\n",
              "      \"ModifiedDate\": \"2011-05-24T00:00:00\",\r\n",
              "      \"BusinessEntity\": null,\r\n",
              "      \"Territory\": null,\r\n",
              "      \"SalesOrderHeaders\": [],\r\n",
              "      \"SalesPersonQuotaHistories\": [],\r\n",
              "      \"SalesTerritoryHistories\": [],\r\n",
              "      \"Stores\": []\r\n",
              "    },\r\n",
              "    {\r\n",
              "      \"BusinessEntityId\": 279,\r\n",
              "      \"TerritoryId\": 5,\r\n",
              "      \"SalesQuota\": 300000.0000,\r\n",
              "      \"Bonus\": 6700.0000,\r\n",
              "      \"CommissionPct\": 0.0100,\r\n",
              "      \"SalesYtd\": 2315185.6110,\r\n",
              "      \"SalesLastYear\": 1849640.9418,\r\n",
              "      \"Rowguid\": \"52a5179d-3239-4157-ae29-17e868296dc0\",\r\n",
              "      \"ModifiedDate\": \"2011-05-24T00:00:00\",\r\n",
              "      \"BusinessEntity\": null,\r\n",
              "      \"Territory\": null,\r\n",
              "      \"SalesOrderHeaders\": [],\r\n",
              "      \"SalesPersonQuotaHistories\": [],\r\n",
              "      \"SalesTerritoryHistories\": [],\r\n",
              "      \"Stores\": []\r\n",
              "    },\r\n",
              "    {\r\n",
              "      \"BusinessEntityId\": 280,\r\n",
              "      \"TerritoryId\": 1,\r\n",
              "      \"SalesQuota\": 250000.0000,\r\n",
              "      \"Bonus\": 5000.0000,\r\n",
              "      \"CommissionPct\": 0.0100,\r\n",
              "      \"SalesYtd\": 1352577.1325,\r\n",
              "      \"SalesLastYear\": 1927059.1780,\r\n",
              "      \"Rowguid\": \"be941a4a-fb50-4947-bda4-bb8972365b08\",\r\n",
              "      \"ModifiedDate\": \"2011-05-24T00:00:00\",\r\n",
              "      \"BusinessEntity\": null,\r\n",
              "      \"Territory\": null,\r\n",
              "      \"SalesOrderHeaders\": [],\r\n",
              "      \"SalesPersonQuotaHistories\": [],\r\n",
              "      \"SalesTerritoryHistories\": [],\r\n",
              "      \"Stores\": []\r\n",
              "    },\r\n",
              "    {\r\n",
              "      \"BusinessEntityId\": 281,\r\n",
              "      \"TerritoryId\": 4,\r\n",
              "      \"SalesQuota\": 250000.0000,\r\n",
              "      \"Bonus\": 3550.0000,\r\n",
              "      \"CommissionPct\": 0.0100,\r\n",
              "      \"SalesYtd\": 2458535.6169,\r\n",
              "      \"SalesLastYear\": 2073505.9999,\r\n",
              "      \"Rowguid\": \"35326ddb-7278-4fef-b3ba-ea137b69094e\",\r\n",
              "      \"ModifiedDate\": \"2011-05-24T00:00:00\",\r\n",
              "      \"BusinessEntity\": null,\r\n",
              "      \"Territory\": null,\r\n",
              "      \"SalesOrderHeaders\": [],\r\n",
              "      \"SalesPersonQuotaHistories\": [],\r\n",
              "      \"SalesTerritoryHistories\": [],\r\n",
              "      \"Stores\": []\r\n",
              "    },\r\n",
              "    {\r\n",
              "      \"BusinessEntityId\": 282,\r\n",
              "      \"TerritoryId\": 6,\r\n",
              "      \"SalesQuota\": 250000.0000,\r\n",
              "      \"Bonus\": 5000.0000,\r\n",
              "      \"CommissionPct\": 0.0150,\r\n",
              "      \"SalesYtd\": 2604540.7172,\r\n",
              "      \"SalesLastYear\": 2038234.6549,\r\n",
              "      \"Rowguid\": \"31fd7fc1-dc84-4f05-b9a0-762519eacacc\",\r\n",
              "      \"ModifiedDate\": \"2011-05-24T00:00:00\",\r\n",
              "      \"BusinessEntity\": null,\r\n",
              "      \"Territory\": null,\r\n",
              "      \"SalesOrderHeaders\": [],\r\n",
              "      \"SalesPersonQuotaHistories\": [],\r\n",
              "      \"SalesTerritoryHistories\": [],\r\n",
              "      \"Stores\": []\r\n",
              "    },\r\n",
              "    {\r\n",
              "      \"BusinessEntityId\": 283,\r\n",
              "      \"TerritoryId\": 1,\r\n",
              "      \"SalesQuota\": 250000.0000,\r\n",
              "      \"Bonus\": 3500.0000,\r\n",
              "      \"CommissionPct\": 0.0120,\r\n",
              "      \"SalesYtd\": 1573012.9383,\r\n",
              "      \"SalesLastYear\": 1371635.3158,\r\n",
              "      \"Rowguid\": \"6bac15b2-8ffb-45a9-b6d5-040e16c2073f\",\r\n",
              "      \"ModifiedDate\": \"2011-05-24T00:00:00\",\r\n",
              "      \"BusinessEntity\": null,\r\n",
              "      \"Territory\": null,\r\n",
              "      \"SalesOrderHeaders\": [],\r\n",
              "      \"SalesPersonQuotaHistories\": [],\r\n",
              "      \"SalesTerritoryHistories\": [],\r\n",
              "      \"Stores\": []\r\n",
              "    },\r\n",
              "    {\r\n",
              "      \"BusinessEntityId\": 284,\r\n",
              "      \"TerritoryId\": 1,\r\n",
              "      \"SalesQuota\": 300000.0000,\r\n",
              "      \"Bonus\": 3900.0000,\r\n",
              "      \"CommissionPct\": 0.0190,\r\n",
              "      \"SalesYtd\": 1576562.1966,\r\n",
              "      \"SalesLastYear\": 0.0000,\r\n",
              "      \"Rowguid\": \"ac94ec04-a2dc-43e3-8654-dd0c546abc17\",\r\n",
              "      \"ModifiedDate\": \"2012-09-23T00:00:00\",\r\n",
              "      \"BusinessEntity\": null,\r\n",
              "      \"Territory\": null,\r\n",
              "      \"SalesOrderHeaders\": [],\r\n",
              "      \"SalesPersonQuotaHistories\": [],\r\n",
              "      \"SalesTerritoryHistories\": [],\r\n",
              "      \"Stores\": []\r\n",
              "    },\r\n",
              "    {\r\n",
              "      \"BusinessEntityId\": 285,\r\n",
              "      \"TerritoryId\": null,\r\n",
              "      \"SalesQuota\": null,\r\n",
              "      \"Bonus\": 0.0000,\r\n",
              "      \"CommissionPct\": 0.0000,\r\n",
              "      \"SalesYtd\": 172524.4512,\r\n",
              "      \"SalesLastYear\": 0.0000,\r\n",
              "      \"Rowguid\": \"cfdbef27-b1f7-4a56-a878-0221c73bae67\",\r\n",
              "      \"ModifiedDate\": \"2013-03-07T00:00:00\",\r\n",
              "      \"BusinessEntity\": null,\r\n",
              "      \"Territory\": null,\r\n",
              "      \"SalesOrderHeaders\": [],\r\n",
              "      \"SalesPersonQuotaHistories\": [],\r\n",
              "      \"SalesTerritoryHistories\": [],\r\n",
              "      \"Stores\": []\r\n",
              "    },\r\n",
              "    {\r\n",
              "      \"BusinessEntityId\": 286,\r\n",
              "      \"TerritoryId\": 9,\r\n",
              "      \"SalesQuota\": 250000.0000,\r\n",
              "      \"Bonus\": 5650.0000,\r\n",
              "      \"CommissionPct\": 0.0180,\r\n",
              "      \"SalesYtd\": 1421810.9242,\r\n",
              "      \"SalesLastYear\": 2278548.9776,\r\n",
              "      \"Rowguid\": \"9b968777-75dc-45bd-a8df-9cdaa72839e1\",\r\n",
              "      \"ModifiedDate\": \"2013-05-23T00:00:00\",\r\n",
              "      \"BusinessEntity\": null,\r\n",
              "      \"Territory\": null,\r\n",
              "      \"SalesOrderHeaders\": [],\r\n",
              "      \"SalesPersonQuotaHistories\": [],\r\n",
              "      \"SalesTerritoryHistories\": [],\r\n",
              "      \"Stores\": []\r\n",
              "    },\r\n",
              "    {\r\n",
              "      \"BusinessEntityId\": 287,\r\n",
              "      \"TerritoryId\": null,\r\n",
              "      \"SalesQuota\": null,\r\n",
              "      \"Bonus\": 0.0000,\r\n",
              "      \"CommissionPct\": 0.0000,\r\n",
              "      \"SalesYtd\": 519905.9320,\r\n",
              "      \"SalesLastYear\": 0.0000,\r\n",
              "      \"Rowguid\": \"1dd1f689-df74-4149-8600-59555eef154b\",\r\n",
              "      \"ModifiedDate\": \"2012-04-09T00:00:00\",\r\n",
              "      \"BusinessEntity\": null,\r\n",
              "      \"Territory\": null,\r\n",
              "      \"SalesOrderHeaders\": [],\r\n",
              "      \"SalesPersonQuotaHistories\": [],\r\n",
              "      \"SalesTerritoryHistories\": [],\r\n",
              "      \"Stores\": []\r\n",
              "    },\r\n",
              "    {\r\n",
              "      \"BusinessEntityId\": 288,\r\n",
              "      \"TerritoryId\": 8,\r\n",
              "      \"SalesQuota\": 250000.0000,\r\n",
              "      \"Bonus\": 75.0000,\r\n",
              "      \"CommissionPct\": 0.0180,\r\n",
              "      \"SalesYtd\": 1827066.7118,\r\n",
              "      \"SalesLastYear\": 1307949.7917,\r\n",
              "      \"Rowguid\": \"224bb25a-62e3-493e-acaf-4f8f5c72396a\",\r\n",
              "      \"ModifiedDate\": \"2013-05-23T00:00:00\",\r\n",
              "      \"BusinessEntity\": null,\r\n",
              "      \"Territory\": null,\r\n",
              "      \"SalesOrderHeaders\": [],\r\n",
              "      \"SalesPersonQuotaHistories\": [],\r\n",
              "      \"SalesTerritoryHistories\": [],\r\n",
              "      \"Stores\": []\r\n",
              "    },\r\n",
              "    {\r\n",
              "      \"BusinessEntityId\": 289,\r\n",
              "      \"TerritoryId\": 10,\r\n",
              "      \"SalesQuota\": 250000.0000,\r\n",
              "      \"Bonus\": 5150.0000,\r\n",
              "      \"CommissionPct\": 0.0200,\r\n",
              "      \"SalesYtd\": 4116871.2277,\r\n",
              "      \"SalesLastYear\": 1635823.3967,\r\n",
              "      \"Rowguid\": \"25f6838d-9db4-4833-9ddc-7a24283af1ba\",\r\n",
              "      \"ModifiedDate\": \"2012-05-23T00:00:00\",\r\n",
              "      \"BusinessEntity\": null,\r\n",
              "      \"Territory\": null,\r\n",
              "      \"SalesOrderHeaders\": [],\r\n",
              "      \"SalesPersonQuotaHistories\": [],\r\n",
              "      \"SalesTerritoryHistories\": [],\r\n",
              "      \"Stores\": []\r\n",
              "    },\r\n",
              "    {\r\n",
              "      \"BusinessEntityId\": 290,\r\n",
              "      \"TerritoryId\": 7,\r\n",
              "      \"SalesQuota\": 250000.0000,\r\n",
              "      \"Bonus\": 985.0000,\r\n",
              "      \"CommissionPct\": 0.0160,\r\n",
              "      \"SalesYtd\": 3121616.3202,\r\n",
              "      \"SalesLastYear\": 2396539.7601,\r\n",
              "      \"Rowguid\": \"f509e3d4-76c8-42aa-b353-90b7b8db08de\",\r\n",
              "      \"ModifiedDate\": \"2012-05-23T00:00:00\",\r\n",
              "      \"BusinessEntity\": null,\r\n",
              "      \"Territory\": null,\r\n",
              "      \"SalesOrderHeaders\": [],\r\n",
              "      \"SalesPersonQuotaHistories\": [],\r\n",
              "      \"SalesTerritoryHistories\": [],\r\n",
              "      \"Stores\": []\r\n",
              "    }\r\n",
              "  ]\r\n",
              "},\r\n",
              "            id: \"ebc4ce9db6bb4faebcebd9b499625999\",\r\n",
              "            container: document.getElementById(\"ebc4ce9db6bb4faebcebd9b499625999\")\r\n",
              "        });\r\n",
              "    },\r\n",
              "    (error) => {\r\n",
              "        console.log(error);\r\n",
              "    });\r\n",
              "};\r\n",
              "// ensure `require` is available globally\r\n",
              "if ((typeof(require) !==  typeof(Function)) || (typeof(require.config) !== typeof(Function))) {\r\n",
              "    let require_script = document.createElement('script');\r\n",
              "    require_script.setAttribute('src', 'https://cdnjs.cloudflare.com/ajax/libs/require.js/2.3.6/require.min.js');\r\n",
              "    require_script.setAttribute('type', 'text/javascript');\r\n",
              "    \r\n",
              "    \r\n",
              "    require_script.onload = function() {\r\n",
              "        renderSandDanceExplorer_ebc4ce9db6bb4faebcebd9b499625999();\r\n",
              "    };\r\n",
              "\r\n",
              "    document.getElementsByTagName('head')[0].appendChild(require_script);\r\n",
              "}\r\n",
              "else {\r\n",
              "    renderSandDanceExplorer_ebc4ce9db6bb4faebcebd9b499625999();\r\n",
              "}\r\n",
              "\r\n",
              " </script>\r\n",
              "</div>\r\n"
            ]
          },
          "metadata": {},
          "output_type": "display_data"
        }
      ],
      "source": [
        "adventureworks.SalesPeople.ExploreWithSandDance()"
      ]
    },
    {
      "cell_type": "code",
      "execution_count": null,
      "metadata": {
        "dotnet_interactive": {
          "language": "csharp"
        },
        "vscode": {
          "languageId": "dotnet-interactive.csharp"
        }
      },
      "outputs": [
        {
          "data": {
            "text/html": [
              "<table><thead><tr><th><i>index</i></th><th>value</th></tr></thead><tbody><tr><td>0</td><td><table><thead><tr><td><span>BusinessEntityID</span></td><td><span>TerritoryID</span></td><td><span>SalesQuota</span></td><td><span>Bonus</span></td><td><span>CommissionPct</span></td><td><span>SalesYTD</span></td><td><span>SalesLastYear</span></td><td><span>rowguid</span></td><td><span>ModifiedDate</span></td></tr></thead><tbody><tr><td><div class=\"dni-plaintext\">280</div></td><td><div class=\"dni-plaintext\">1</div></td><td><div class=\"dni-plaintext\">250000.0000</div></td><td><div class=\"dni-plaintext\">5000.0000</div></td><td><div class=\"dni-plaintext\">0.0100</div></td><td><div class=\"dni-plaintext\">1352577.1325</div></td><td><div class=\"dni-plaintext\">1927059.1780</div></td><td><div class=\"dni-plaintext\">be941a4a-fb50-4947-bda4-bb8972365b08</div></td><td><span>2011-05-24 00:00:00Z</span></td></tr><tr><td><div class=\"dni-plaintext\">283</div></td><td><div class=\"dni-plaintext\">1</div></td><td><div class=\"dni-plaintext\">250000.0000</div></td><td><div class=\"dni-plaintext\">3500.0000</div></td><td><div class=\"dni-plaintext\">0.0120</div></td><td><div class=\"dni-plaintext\">1573012.9383</div></td><td><div class=\"dni-plaintext\">1371635.3158</div></td><td><div class=\"dni-plaintext\">6bac15b2-8ffb-45a9-b6d5-040e16c2073f</div></td><td><span>2011-05-24 00:00:00Z</span></td></tr><tr><td><div class=\"dni-plaintext\">284</div></td><td><div class=\"dni-plaintext\">1</div></td><td><div class=\"dni-plaintext\">300000.0000</div></td><td><div class=\"dni-plaintext\">3900.0000</div></td><td><div class=\"dni-plaintext\">0.0190</div></td><td><div class=\"dni-plaintext\">1576562.1966</div></td><td><div class=\"dni-plaintext\">0.0000</div></td><td><div class=\"dni-plaintext\">ac94ec04-a2dc-43e3-8654-dd0c546abc17</div></td><td><span>2012-09-23 00:00:00Z</span></td></tr></tbody></table></td></tr></tbody></table>"
            ]
          },
          "metadata": {},
          "output_type": "display_data"
        }
      ],
      "source": [
        "territories"
      ]
    }
  ],
  "metadata": {
    "kernelspec": {
      "display_name": ".NET (C#)",
      "language": "C#",
      "name": ".net-csharp"
    },
    "language_info": {
      "file_extension": ".cs",
      "mimetype": "text/x-csharp",
      "name": "C#",
      "pygments_lexer": "csharp",
      "version": "9.0"
    }
  },
  "nbformat": 4,
  "nbformat_minor": 4
}
