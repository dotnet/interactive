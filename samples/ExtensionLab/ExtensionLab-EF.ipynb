{
 "cells": [
  {
   "cell_type": "code",
   "execution_count": 1,
   "metadata": {},
   "source": [
    "#!pwsh\n",
    "giphy work | Out-Display -MimeType \"text/markdown\""
   ],
   "outputs": []
  },
  {
   "cell_type": "code",
   "execution_count": 1,
   "metadata": {},
   "source": [
    "#r \"nuget:Microsoft.DotNet.Interactive.ExtensionLab,*-*\""
   ],
   "outputs": []
  },
  {
   "cell_type": "code",
   "execution_count": 1,
   "metadata": {},
   "source": [
    "#!connect mssql --kernel-name adventureworks \"Persist Security Info=False; Integrated Security=true; Initial Catalog=AdventureWorks2019; Server=localhost\""
   ],
   "outputs": []
  },
  {
   "cell_type": "code",
   "execution_count": 1,
   "metadata": {},
   "source": [
    "#!adventureworks\n",
    "\n",
    "select * from sys.databases\n",
    ""
   ],
   "outputs": []
  },
  {
   "cell_type": "code",
   "execution_count": 1,
   "metadata": {},
   "source": [
    "#!connect mssql --create-dbcontext --kernel-name worldwideimporters \"Persist Security Info=False; Integrated Security=true; Initial Catalog=WideWorldImporters; Server=localhost\""
   ],
   "outputs": []
  },
  {
   "cell_type": "code",
   "execution_count": 1,
   "metadata": {},
   "source": [
    "var query = (\n",
    "    from city in worldwideimporters.Cities\n",
    "    from customer in worldwideimporters.Customers\n",
    "    where customer.DeliveryCity.CityName == city.CityName\n",
    "         && city.StateProvince.StateProvinceName ==  \"Washington\"\n",
    "    select new\n",
    "    {\n",
    "        Customer = customer.CustomerName,\n",
    "        City = city.CityName + \", \" + city.StateProvince.StateProvinceName\n",
    "    });\n",
    "\n",
    "query.Explore();"
   ],
   "outputs": []
  }
 ],
 "metadata": {
  "kernelspec": {
   "display_name": ".NET (C#)",
   "language": "C#",
   "name": ".net-csharp"
  },
  "language_info": {
   "file_extension": ".cs",
   "mimetype": "text/x-csharp",
   "name": "C#",
   "pygments_lexer": "csharp",
   "version": "8.0"
  }
 },
 "nbformat": 4,
 "nbformat_minor": 4
}