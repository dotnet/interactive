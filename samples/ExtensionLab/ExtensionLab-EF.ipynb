{
  "cells": [
    {
      "cell_type": "code",
      "execution_count": null,
      "metadata": {
        "dotnet_interactive": {
          "language": "csharp"
        }
      },
      "outputs": [
        {
          "data": {
            "text/html": [
              "<div><div></div><div></div><div><strong>Installed Packages</strong><ul><li><span>Microsoft.DotNet.Interactive.Kql, 1.0.0-beta.22128.3</span></li><li><span>Microsoft.DotNet.Interactive.SqlServer, 1.0.0-beta.22128.3</span></li></ul></div></div>"
            ]
          },
          "metadata": {},
          "output_type": "display_data"
        },
        {
          "data": {
            "text/markdown": [
              "Loading extensions from `Microsoft.DotNet.Interactive.SqlServer.dll`"
            ]
          },
          "metadata": {},
          "output_type": "display_data"
        },
        {
          "data": {
            "text/html": [
              "<details><summary>Query Microsoft SQL Server databases.</summary>\r\n",
              "    <p>This extension adds support for connecting to Microsoft SQL Server databases using the <code>#!connect mssql</code> magic command. For more information, run a cell using the <code>#!sql</code> magic command.</p>\r\n",
              "    </details>"
            ]
          },
          "metadata": {},
          "output_type": "display_data"
        },
        {
          "data": {
            "text/markdown": [
              "Loading extensions from `Microsoft.DotNet.Interactive.Kql.dll`"
            ]
          },
          "metadata": {},
          "output_type": "display_data"
        },
        {
          "data": {
            "text/html": [
              "<details><summary>Query Microsoft Kusto Server databases.</summary>\r\n",
              "        <p>This extension adds support for connecting to Microsoft Kusto Server databases using the <code>#!connect kql</code> magic command. For more information, run a cell using the <code>#!kql</code> magic command.</p>\r\n",
              "        </details>"
            ]
          },
          "metadata": {},
          "output_type": "display_data"
        }
      ],
      "source": [
        "#r \"nuget:Microsoft.DotNet.Interactive.Kql,*-*\"\n",
        "#r \"nuget:Microsoft.DotNet.Interactive.SqlServer,*-*\""
      ]
    },
    {
      "cell_type": "code",
      "execution_count": null,
      "metadata": {
        "dotnet_interactive": {
          "language": "csharp"
        }
      },
      "outputs": [
        {
          "data": {
            "text/markdown": [
              "Scaffolding a `DbContext` and initializing an instance of it called `adventureworks` in the C# kernel."
            ]
          },
          "metadata": {},
          "output_type": "display_data"
        },
        {
          "data": {
            "text/html": [
              "<div><div></div><div></div><div><strong>Installed Packages</strong><ul><li><span>Humanizer, 2.8.26</span></li><li><span>humanizer.core, 2.8.26</span></li><li><span>Microsoft.EntityFrameworkCore.Design, 6.0.0</span></li><li><span>microsoft.entityframeworkcore.sqlserver, 6.0.0</span></li></ul></div></div>"
            ]
          },
          "metadata": {},
          "output_type": "display_data"
        },
        {
          "data": {
            "text/plain": [
              "Kernel added: #!sql-adventureworks"
            ]
          },
          "metadata": {},
          "output_type": "display_data"
        }
      ],
      "source": [
        "#!connect mssql --create-dbcontext --kernel-name adventureworks \"Persist Security Info=False; Integrated Security=true; Initial Catalog=AdventureWorks2019; Server=localhost\""
      ]
    },
    {
      "cell_type": "code",
      "execution_count": null,
      "metadata": {
        "dotnet_interactive": {
          "language": "csharp"
        }
      },
      "outputs": [],
      "source": [
        "var id = 1;"
      ]
    },
    {
      "cell_type": "code",
      "execution_count": null,
      "metadata": {
        "dotnet_interactive": {
          "language": "csharp"
        }
      },
      "outputs": [
        {
          "data": {
            "text/plain": [
              "Adding shared variable declaration statement : DECLARE @id Int = 1;"
            ]
          },
          "metadata": {},
          "output_type": "display_data"
        },
        {
          "data": {
            "text/plain": [
              "(3 rows affected)"
            ]
          },
          "metadata": {},
          "output_type": "display_data"
        },
        {
          "data": {
            "text/csv": [
              "BusinessEntityID,TerritoryID,SalesQuota,Bonus,CommissionPct,SalesYTD,SalesLastYear,rowguid,ModifiedDate\r\n",
              "280,1,250000.0000,5000.0000,0.0100,1352577.1325,1927059.1780,be941a4a-fb50-4947-bda4-bb8972365b08,2011-05-24T00:00:00.0000000\r\n",
              "283,1,250000.0000,3500.0000,0.0120,1573012.9383,1371635.3158,6bac15b2-8ffb-45a9-b6d5-040e16c2073f,2011-05-24T00:00:00.0000000\r\n",
              "284,1,300000.0000,3900.0000,0.0190,1576562.1966,0.0000,ac94ec04-a2dc-43e3-8654-dd0c546abc17,2012-09-23T00:00:00.0000000\r\n"
            ],
            "text/html": [
              "<table><thead><tr><td><span>BusinessEntityID</span></td><td><span>TerritoryID</span></td><td><span>SalesQuota</span></td><td><span>Bonus</span></td><td><span>CommissionPct</span></td><td><span>SalesYTD</span></td><td><span>SalesLastYear</span></td><td><span>rowguid</span></td><td><span>ModifiedDate</span></td></tr></thead><tbody><tr><td><div class=\"dni-plaintext\">280</div></td><td><div class=\"dni-plaintext\">1</div></td><td><div class=\"dni-plaintext\">250000.0000</div></td><td><div class=\"dni-plaintext\">5000.0000</div></td><td><div class=\"dni-plaintext\">0.0100</div></td><td><div class=\"dni-plaintext\">1352577.1325</div></td><td><div class=\"dni-plaintext\">1927059.1780</div></td><td><div class=\"dni-plaintext\">be941a4a-fb50-4947-bda4-bb8972365b08</div></td><td><span>2011-05-24 00:00:00Z</span></td></tr><tr><td><div class=\"dni-plaintext\">283</div></td><td><div class=\"dni-plaintext\">1</div></td><td><div class=\"dni-plaintext\">250000.0000</div></td><td><div class=\"dni-plaintext\">3500.0000</div></td><td><div class=\"dni-plaintext\">0.0120</div></td><td><div class=\"dni-plaintext\">1573012.9383</div></td><td><div class=\"dni-plaintext\">1371635.3158</div></td><td><div class=\"dni-plaintext\">6bac15b2-8ffb-45a9-b6d5-040e16c2073f</div></td><td><span>2011-05-24 00:00:00Z</span></td></tr><tr><td><div class=\"dni-plaintext\">284</div></td><td><div class=\"dni-plaintext\">1</div></td><td><div class=\"dni-plaintext\">300000.0000</div></td><td><div class=\"dni-plaintext\">3900.0000</div></td><td><div class=\"dni-plaintext\">0.0190</div></td><td><div class=\"dni-plaintext\">1576562.1966</div></td><td><div class=\"dni-plaintext\">0.0000</div></td><td><div class=\"dni-plaintext\">ac94ec04-a2dc-43e3-8654-dd0c546abc17</div></td><td><span>2012-09-23 00:00:00Z</span></td></tr></tbody></table>"
            ]
          },
          "metadata": {},
          "output_type": "display_data"
        }
      ],
      "source": [
        "#!sql-adventureworks --name territories\n",
        "#!share --from csharp id \n",
        "\n",
        "select * from AdventureWorks2019.Sales.SalesPerson so where so.TerritoryID = @id"
      ]
    },
    {
      "cell_type": "code",
      "execution_count": null,
      "metadata": {
        "dotnet_interactive": {
          "language": "csharp"
        }
      },
      "outputs": [
        {
          "data": {
            "text/html": [
              "<span><a href=\"https://docs.microsoft.com/dotnet/api/system.collections.generic.list-1?view=net-5.0\">System.Collections.Generic.List&lt;Microsoft.DotNet.Interactive.Formatting.TabularData.TabularDataResource&gt;</a></span>"
            ]
          },
          "metadata": {},
          "output_type": "display_data"
        }
      ],
      "source": [
        "#!share --from sql-adventureworks territories\n",
        "\n",
        "territories.GetType()"
      ]
    },
    {
      "cell_type": "code",
      "execution_count": null,
      "metadata": {
        "dotnet_interactive": {
          "language": "csharp"
        }
      },
      "outputs": [],
      "source": [
        "adventureworks.SalesPerson.ExploreWithSandDance()"
      ]
    },
    {
      "cell_type": "code",
      "execution_count": null,
      "metadata": {
        "dotnet_interactive": {
          "language": "pwsh"
        }
      },
      "outputs": [],
      "source": []
    }
  ],
  "metadata": {
    "kernelspec": {
      "display_name": ".NET (C#)",
      "language": "C#",
      "name": ".net-csharp"
    },
    "language_info": {
      "file_extension": ".cs",
      "mimetype": "text/x-csharp",
      "name": "C#",
      "pygments_lexer": "csharp",
      "version": "9.0"
    }
  },
  "nbformat": 4,
  "nbformat_minor": 4
}
