{
  "cells": [
    {
      "cell_type": "code",
      "execution_count": 1,
      "metadata": {
        "dotnet_interactive": {
          "language": "csharp"
        }
      },
      "source": [
        "#i \"nuget:https://pkgs.dev.azure.com/dnceng/public/_packaging/dotnet-tools/nuget/v3/index.json\"\n",
        "#i \"nuget:https://pkgs.dev.azure.com/dnceng/public/_packaging/dotnet5/nuget/v3/index.json\"\n",
        "#r \"nuget:Microsoft.DotNet.Interactive.SqlServer\""
      ],
      "outputs": [
        {
          "output_type": "execute_result",
          "data": {
            "text/html": "\r\n<div>\r\n    <div id='dotnet-interactive-this-cell-43932.Microsoft.DotNet.Interactive.Http.HttpPort' style='display: none'>\r\n        The below script needs to be able to find the current output cell; this is an easy method to get it.\r\n    </div>\r\n    <script type='text/javascript'>\r\nasync function probeAddresses(probingAddresses) {\r\n    function timeout(ms, promise) {\r\n        return new Promise(function (resolve, reject) {\r\n            setTimeout(function () {\r\n                reject(new Error('timeout'))\r\n            }, ms)\r\n            promise.then(resolve, reject)\r\n        })\r\n    }\r\n\r\n    if (Array.isArray(probingAddresses)) {\r\n        for (let i = 0; i < probingAddresses.length; i++) {\r\n\r\n            let rootUrl = probingAddresses[i];\r\n\r\n            if (!rootUrl.endsWith('/')) {\r\n                rootUrl = `${rootUrl}/`;\r\n            }\r\n\r\n            try {\r\n                let response = await timeout(1000, fetch(`${rootUrl}discovery`, {\r\n                    method: 'POST',\r\n                    cache: 'no-cache',\r\n                    mode: 'cors',\r\n                    timeout: 1000,\r\n                    headers: {\r\n                        'Content-Type': 'text/plain'\r\n                    },\r\n                    body: probingAddresses[i]\r\n                }));\r\n\r\n                if (response.status == 200) {\r\n                    return rootUrl;\r\n                }\r\n            }\r\n            catch (e) { }\r\n        }\r\n    }\r\n}\r\n\r\nfunction loadDotnetInteractiveApi() {\r\n    probeAddresses([\"http://192.168.1.28:65427/\", \"http://100.64.227.150:65427/\", \"http://127.0.0.1:65427/\"])\r\n        .then((root) => {\r\n        // use probing to find host url and api resources\r\n        // load interactive helpers and language services\r\n        let dotnetInteractiveRequire = require.config({\r\n        context: '43932.Microsoft.DotNet.Interactive.Http.HttpPort',\r\n                paths:\r\n            {\r\n                'dotnet-interactive': `${root}resources`\r\n                }\r\n        }) || require;\r\n\r\n            window.dotnetInteractiveRequire = dotnetInteractiveRequire;\r\n\r\n            window.configureRequireFromExtension = function(extensionName, extensionCacheBuster) {\r\n                let paths = {};\r\n                paths[extensionName] = `${root}extensions/${extensionName}/resources/`;\r\n                \r\n                let internalRequire = require.config({\r\n                    context: extensionCacheBuster,\r\n                    paths: paths,\r\n                    urlArgs: `cacheBuster=${extensionCacheBuster}`\r\n                    }) || require;\r\n\r\n                return internalRequire\r\n            };\r\n        \r\n            dotnetInteractiveRequire([\r\n                    'dotnet-interactive/dotnet-interactive'\r\n                ],\r\n                function (dotnet) {\r\n                    dotnet.init(window);\r\n                },\r\n                function (error) {\r\n                    console.log(error);\r\n                }\r\n            );\r\n        })\r\n        .catch(error => {console.log(error);});\r\n    }\r\n\r\n// ensure `require` is available globally\r\nif ((typeof(require) !==  typeof(Function)) || (typeof(require.config) !== typeof(Function))) {\r\n    let require_script = document.createElement('script');\r\n    require_script.setAttribute('src', 'https://cdnjs.cloudflare.com/ajax/libs/require.js/2.3.6/require.min.js');\r\n    require_script.setAttribute('type', 'text/javascript');\r\n    \r\n    \r\n    require_script.onload = function() {\r\n        loadDotnetInteractiveApi();\r\n    };\r\n\r\n    document.getElementsByTagName('head')[0].appendChild(require_script);\r\n}\r\nelse {\r\n    loadDotnetInteractiveApi();\r\n}\r\n\r\n    </script>\r\n</div>"
          },
          "execution_count": 1,
          "metadata": {}
        },
        {
          "output_type": "execute_result",
          "data": {
            "text/html": "<div><strong>Restore sources</strong><ul><li><span>https://pkgs.dev.azure.com/dnceng/public/_packaging/dotnet-tools/nuget/v3/index.json</span></li></ul></div>"
          },
          "execution_count": 1,
          "metadata": {}
        },
        {
          "output_type": "execute_result",
          "data": {
            "text/html": "<div><strong>Restore sources</strong><ul><li><span>https://pkgs.dev.azure.com/dnceng/public/_packaging/dotnet-tools/nuget/v3/index.json</span></li><li><span>https://pkgs.dev.azure.com/dnceng/public/_packaging/dotnet5/nuget/v3/index.json</span></li></ul></div>"
          },
          "execution_count": 1,
          "metadata": {}
        },
        {
          "output_type": "execute_result",
          "data": {
            "text/plain": "Installed package Microsoft.DotNet.Interactive.SqlServer version 2.0.0"
          },
          "execution_count": 1,
          "metadata": {}
        },
        {
          "output_type": "execute_result",
          "data": {
            "text/plain": "Loaded Microsoft.DotNet.Interactive.ExtensionLab.DataFrameKernelExtension"
          },
          "execution_count": 1,
          "metadata": {}
        },
        {
          "output_type": "execute_result",
          "data": {
            "text/markdown": "Added the `#!linqify` magic command."
          },
          "execution_count": 1,
          "metadata": {}
        },
        {
          "output_type": "execute_result",
          "data": {
            "text/plain": "Loaded Microsoft.DotNet.Interactive.ExtensionLab.InspectExtension"
          },
          "execution_count": 1,
          "metadata": {}
        },
        {
          "output_type": "execute_result",
          "data": {
            "text/plain": "Loaded Microsoft.DotNet.Interactive.ExtensionLab.NteractKernelExtension"
          },
          "execution_count": 1,
          "metadata": {}
        },
        {
          "output_type": "execute_result",
          "data": {
            "text/markdown": "Added the `Explore` extension method, which you can use with `IEnumerable<T>` and `IDataView` to view data using the [nteract Data Explorer](https://github.com/nteract/data-explorer)."
          },
          "execution_count": 1,
          "metadata": {}
        },
        {
          "output_type": "execute_result",
          "data": {
            "text/plain": "Loaded Microsoft.DotNet.Interactive.ExtensionLab.RecordTranscriptExtension"
          },
          "execution_count": 1,
          "metadata": {}
        },
        {
          "output_type": "execute_result",
          "data": {
            "text/plain": "Loaded Microsoft.DotNet.Interactive.ExtensionLab.SQLiteKernelExtension"
          },
          "execution_count": 1,
          "metadata": {}
        },
        {
          "output_type": "execute_result",
          "data": {
            "text/markdown": "\r\n* Adds `sqlite` to the connection types available using the [`#!connect`](https://github.com/dotnet/interactive/blob/main/docs/connect.md) magic command."
          },
          "execution_count": 1,
          "metadata": {}
        },
        {
          "output_type": "execute_result",
          "data": {
            "text/plain": "Loaded Microsoft.DotNet.Interactive.SqlServer.MsSqlKernelExtension"
          },
          "execution_count": 1,
          "metadata": {}
        },
        {
          "output_type": "execute_result",
          "data": {
            "text/markdown": "\r\n* Adds `mssql` to the connection types available using the [`#!connect`](https://github.com/dotnet/interactive/blob/main/docs/connect.md) magic command."
          },
          "execution_count": 1,
          "metadata": {}
        }
      ]
    },
    {
      "cell_type": "code",
      "execution_count": 1,
      "metadata": {
        "dotnet_interactive": {
          "language": "csharp"
        }
      },
      "source": [
        "#!connect mssql  --kernel-name adventureworks \"Persist Security Info=False; Integrated Security=true; Initial Catalog=AdventureWorks2019; Server=localhost\""
      ],
      "outputs": [
        {
          "output_type": "execute_result",
          "data": {
            "text/plain": "Kernel added: #!adventureworks"
          },
          "execution_count": 1,
          "metadata": {}
        }
      ]
    },
    {
      "cell_type": "code",
      "execution_count": 1,
      "metadata": {
        "dotnet_interactive": {
          "language": "csharp"
        }
      },
      "source": [
        "adventureworks.SalesPerson.Explore();"
      ],
      "outputs": []
    },
    {
      "cell_type": "code",
      "execution_count": 1,
      "metadata": {
        "dotnet_interactive": {
          "language": "csharp"
        }
      },
      "source": [
        "#!adventureworks\n",
        "\n",
        "select * from AdventureWorks2019.Sales.SalesPerson"
      ],
      "outputs": [
        {
          "output_type": "execute_result",
          "data": {
            "text/html": "<div>\r\n<div id=\"626869b061e04054b7c11578ee7104e5\" style=\"height: 100ch ;margin: 2px;\">\r\n</div>\r\n<script type=\"text/javascript\">\r\n\r\nlet renderDataExplorer_626869b061e04054b7c11578ee7104e5 = () => {\r\n\r\n    configureRequireFromExtension('nteract','1.0.0')(['nteract/index'], (nteract) => {\r\n\r\n        nteract.createDataExplorer({\r\n            data: {\r\n  \"schema\": {\r\n    \"primaryKey\": [],\r\n    \"fields\": [\r\n      {\r\n        \"name\": \"BusinessEntityID\",\r\n        \"type\": \"integer\"\r\n      },\r\n      {\r\n        \"name\": \"TerritoryID\",\r\n        \"type\": \"string\"\r\n      },\r\n      {\r\n        \"name\": \"SalesQuota\",\r\n        \"type\": \"string\"\r\n      },\r\n      {\r\n        \"name\": \"Bonus\",\r\n        \"type\": \"number\"\r\n      },\r\n      {\r\n        \"name\": \"CommissionPct\",\r\n        \"type\": \"number\"\r\n      },\r\n      {\r\n        \"name\": \"SalesYTD\",\r\n        \"type\": \"number\"\r\n      },\r\n      {\r\n        \"name\": \"SalesLastYear\",\r\n        \"type\": \"number\"\r\n      },\r\n      {\r\n        \"name\": \"rowguid\",\r\n        \"type\": \"any\"\r\n      },\r\n      {\r\n        \"name\": \"ModifiedDate\",\r\n        \"type\": \"datetime\"\r\n      }\r\n    ]\r\n  },\r\n  \"data\": [\r\n    {\r\n      \"BusinessEntityID\": 274,\r\n      \"TerritoryID\": \"NULL\",\r\n      \"SalesQuota\": \"NULL\",\r\n      \"Bonus\": 0.0000,\r\n      \"CommissionPct\": 0.0000,\r\n      \"SalesYTD\": 559697.5639,\r\n      \"SalesLastYear\": 0.0000,\r\n      \"rowguid\": \"48754992-9ee0-4c0e-8c94-9451604e3e02\",\r\n      \"ModifiedDate\": \"2010-12-28T00:00:00\"\r\n    },\r\n    {\r\n      \"BusinessEntityID\": 275,\r\n      \"TerritoryID\": 2,\r\n      \"SalesQuota\": 300000.0000,\r\n      \"Bonus\": 4100.0000,\r\n      \"CommissionPct\": 0.0120,\r\n      \"SalesYTD\": 3763178.1787,\r\n      \"SalesLastYear\": 1750406.4785,\r\n      \"rowguid\": \"1e0a7274-3064-4f58-88ee-4c6586c87169\",\r\n      \"ModifiedDate\": \"2011-05-24T00:00:00\"\r\n    },\r\n    {\r\n      \"BusinessEntityID\": 276,\r\n      \"TerritoryID\": 4,\r\n      \"SalesQuota\": 250000.0000,\r\n      \"Bonus\": 2000.0000,\r\n      \"CommissionPct\": 0.0150,\r\n      \"SalesYTD\": 4251368.5497,\r\n      \"SalesLastYear\": 1439156.0291,\r\n      \"rowguid\": \"4dd9eee4-8e81-4f8c-af97-683394c1f7c0\",\r\n      \"ModifiedDate\": \"2011-05-24T00:00:00\"\r\n    },\r\n    {\r\n      \"BusinessEntityID\": 277,\r\n      \"TerritoryID\": 3,\r\n      \"SalesQuota\": 250000.0000,\r\n      \"Bonus\": 2500.0000,\r\n      \"CommissionPct\": 0.0150,\r\n      \"SalesYTD\": 3189418.3662,\r\n      \"SalesLastYear\": 1997186.2037,\r\n      \"rowguid\": \"39012928-bfec-4242-874d-423162c3f567\",\r\n      \"ModifiedDate\": \"2011-05-24T00:00:00\"\r\n    },\r\n    {\r\n      \"BusinessEntityID\": 278,\r\n      \"TerritoryID\": 6,\r\n      \"SalesQuota\": 250000.0000,\r\n      \"Bonus\": 500.0000,\r\n      \"CommissionPct\": 0.0100,\r\n      \"SalesYTD\": 1453719.4653,\r\n      \"SalesLastYear\": 1620276.8966,\r\n      \"rowguid\": \"7a0ae1ab-b283-40f9-91d1-167abf06d720\",\r\n      \"ModifiedDate\": \"2011-05-24T00:00:00\"\r\n    },\r\n    {\r\n      \"BusinessEntityID\": 279,\r\n      \"TerritoryID\": 5,\r\n      \"SalesQuota\": 300000.0000,\r\n      \"Bonus\": 6700.0000,\r\n      \"CommissionPct\": 0.0100,\r\n      \"SalesYTD\": 2315185.6110,\r\n      \"SalesLastYear\": 1849640.9418,\r\n      \"rowguid\": \"52a5179d-3239-4157-ae29-17e868296dc0\",\r\n      \"ModifiedDate\": \"2011-05-24T00:00:00\"\r\n    },\r\n    {\r\n      \"BusinessEntityID\": 280,\r\n      \"TerritoryID\": 1,\r\n      \"SalesQuota\": 250000.0000,\r\n      \"Bonus\": 5000.0000,\r\n      \"CommissionPct\": 0.0100,\r\n      \"SalesYTD\": 1352577.1325,\r\n      \"SalesLastYear\": 1927059.1780,\r\n      \"rowguid\": \"be941a4a-fb50-4947-bda4-bb8972365b08\",\r\n      \"ModifiedDate\": \"2011-05-24T00:00:00\"\r\n    },\r\n    {\r\n      \"BusinessEntityID\": 281,\r\n      \"TerritoryID\": 4,\r\n      \"SalesQuota\": 250000.0000,\r\n      \"Bonus\": 3550.0000,\r\n      \"CommissionPct\": 0.0100,\r\n      \"SalesYTD\": 2458535.6169,\r\n      \"SalesLastYear\": 2073505.9999,\r\n      \"rowguid\": \"35326ddb-7278-4fef-b3ba-ea137b69094e\",\r\n      \"ModifiedDate\": \"2011-05-24T00:00:00\"\r\n    },\r\n    {\r\n      \"BusinessEntityID\": 282,\r\n      \"TerritoryID\": 6,\r\n      \"SalesQuota\": 250000.0000,\r\n      \"Bonus\": 5000.0000,\r\n      \"CommissionPct\": 0.0150,\r\n      \"SalesYTD\": 2604540.7172,\r\n      \"SalesLastYear\": 2038234.6549,\r\n      \"rowguid\": \"31fd7fc1-dc84-4f05-b9a0-762519eacacc\",\r\n      \"ModifiedDate\": \"2011-05-24T00:00:00\"\r\n    },\r\n    {\r\n      \"BusinessEntityID\": 283,\r\n      \"TerritoryID\": 1,\r\n      \"SalesQuota\": 250000.0000,\r\n      \"Bonus\": 3500.0000,\r\n      \"CommissionPct\": 0.0120,\r\n      \"SalesYTD\": 1573012.9383,\r\n      \"SalesLastYear\": 1371635.3158,\r\n      \"rowguid\": \"6bac15b2-8ffb-45a9-b6d5-040e16c2073f\",\r\n      \"ModifiedDate\": \"2011-05-24T00:00:00\"\r\n    },\r\n    {\r\n      \"BusinessEntityID\": 284,\r\n      \"TerritoryID\": 1,\r\n      \"SalesQuota\": 300000.0000,\r\n      \"Bonus\": 3900.0000,\r\n      \"CommissionPct\": 0.0190,\r\n      \"SalesYTD\": 1576562.1966,\r\n      \"SalesLastYear\": 0.0000,\r\n      \"rowguid\": \"ac94ec04-a2dc-43e3-8654-dd0c546abc17\",\r\n      \"ModifiedDate\": \"2012-09-23T00:00:00\"\r\n    },\r\n    {\r\n      \"BusinessEntityID\": 285,\r\n      \"TerritoryID\": \"NULL\",\r\n      \"SalesQuota\": \"NULL\",\r\n      \"Bonus\": 0.0000,\r\n      \"CommissionPct\": 0.0000,\r\n      \"SalesYTD\": 172524.4512,\r\n      \"SalesLastYear\": 0.0000,\r\n      \"rowguid\": \"cfdbef27-b1f7-4a56-a878-0221c73bae67\",\r\n      \"ModifiedDate\": \"2013-03-07T00:00:00\"\r\n    },\r\n    {\r\n      \"BusinessEntityID\": 286,\r\n      \"TerritoryID\": 9,\r\n      \"SalesQuota\": 250000.0000,\r\n      \"Bonus\": 5650.0000,\r\n      \"CommissionPct\": 0.0180,\r\n      \"SalesYTD\": 1421810.9242,\r\n      \"SalesLastYear\": 2278548.9776,\r\n      \"rowguid\": \"9b968777-75dc-45bd-a8df-9cdaa72839e1\",\r\n      \"ModifiedDate\": \"2013-05-23T00:00:00\"\r\n    },\r\n    {\r\n      \"BusinessEntityID\": 287,\r\n      \"TerritoryID\": \"NULL\",\r\n      \"SalesQuota\": \"NULL\",\r\n      \"Bonus\": 0.0000,\r\n      \"CommissionPct\": 0.0000,\r\n      \"SalesYTD\": 519905.9320,\r\n      \"SalesLastYear\": 0.0000,\r\n      \"rowguid\": \"1dd1f689-df74-4149-8600-59555eef154b\",\r\n      \"ModifiedDate\": \"2012-04-09T00:00:00\"\r\n    },\r\n    {\r\n      \"BusinessEntityID\": 288,\r\n      \"TerritoryID\": 8,\r\n      \"SalesQuota\": 250000.0000,\r\n      \"Bonus\": 75.0000,\r\n      \"CommissionPct\": 0.0180,\r\n      \"SalesYTD\": 1827066.7118,\r\n      \"SalesLastYear\": 1307949.7917,\r\n      \"rowguid\": \"224bb25a-62e3-493e-acaf-4f8f5c72396a\",\r\n      \"ModifiedDate\": \"2013-05-23T00:00:00\"\r\n    },\r\n    {\r\n      \"BusinessEntityID\": 289,\r\n      \"TerritoryID\": 10,\r\n      \"SalesQuota\": 250000.0000,\r\n      \"Bonus\": 5150.0000,\r\n      \"CommissionPct\": 0.0200,\r\n      \"SalesYTD\": 4116871.2277,\r\n      \"SalesLastYear\": 1635823.3967,\r\n      \"rowguid\": \"25f6838d-9db4-4833-9ddc-7a24283af1ba\",\r\n      \"ModifiedDate\": \"2012-05-23T00:00:00\"\r\n    },\r\n    {\r\n      \"BusinessEntityID\": 290,\r\n      \"TerritoryID\": 7,\r\n      \"SalesQuota\": 250000.0000,\r\n      \"Bonus\": 985.0000,\r\n      \"CommissionPct\": 0.0160,\r\n      \"SalesYTD\": 3121616.3202,\r\n      \"SalesLastYear\": 2396539.7601,\r\n      \"rowguid\": \"f509e3d4-76c8-42aa-b353-90b7b8db08de\",\r\n      \"ModifiedDate\": \"2012-05-23T00:00:00\"\r\n    }\r\n  ]\r\n},\r\n            container: document.getElementById(\"626869b061e04054b7c11578ee7104e5\")\r\n        });\r\n    },\r\n    (error) => {\r\n        console.log(error);\r\n    });\r\n};\r\n// ensure `require` is available globally\r\nif ((typeof(require) !==  typeof(Function)) || (typeof(require.config) !== typeof(Function))) {\r\n    let require_script = document.createElement('script');\r\n    require_script.setAttribute('src', 'https://cdnjs.cloudflare.com/ajax/libs/require.js/2.3.6/require.min.js');\r\n    require_script.setAttribute('type', 'text/javascript');\r\n    \r\n    \r\n    require_script.onload = function() {\r\n        renderDataExplorer_626869b061e04054b7c11578ee7104e5();\r\n    };\r\n\r\n    document.getElementsByTagName('head')[0].appendChild(require_script);\r\n}\r\nelse {\r\n    renderDataExplorer_626869b061e04054b7c11578ee7104e5();\r\n}\r\n\r\n </script>\r\n</div>\r\n"
          },
          "execution_count": 1,
          "metadata": {}
        }
      ]
    },
    {
      "cell_type": "code",
      "execution_count": 1,
      "metadata": {
        "dotnet_interactive": {
          "language": "pwsh"
        }
      },
      "source": [
        ""
      ],
      "outputs": []
    }
  ],
  "metadata": {
    "kernelspec": {
      "display_name": ".NET (C#)",
      "language": "C#",
      "name": ".net-csharp"
    },
    "language_info": {
      "file_extension": ".cs",
      "mimetype": "text/x-csharp",
      "name": "C#",
      "pygments_lexer": "csharp",
      "version": "8.0"
    }
  },
  "nbformat": 4,
  "nbformat_minor": 4
}