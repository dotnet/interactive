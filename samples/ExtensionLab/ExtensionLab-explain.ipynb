{
 "cells": [
  {
   "cell_type": "code",
   "execution_count": 1,
   "metadata": {
    "dotnet_interactive": {
     "language": "csharp"
    },
    "polyglot_notebook": {
     "kernelName": "csharp"
    }
   },
   "outputs": [],
   "source": [
    "#r \"nuget: Microsoft.DotNet.Interactive.ExtensionLab, *-*\""
   ]
  },
  {
   "cell_type": "code",
   "execution_count": 4,
   "metadata": {
    "dotnet_interactive": {
     "language": "csharp"
    },
    "polyglot_notebook": {
     "kernelName": "csharp"
    }
   },
   "outputs": [],
   "source": [
    "#!explain\r\n",
    "var a = 5;\r\n",
    "var collection = new List<int>();\r\n",
    "for(var i = 0; i < a; i++){\r\n",
    "    collection.Add(i*-1);\r\n",
    "}\r\n",
    "Console.WriteLine(collection.Count);"
   ]
  }
 ],
 "metadata": {
  "polyglot_notebook": {
   "kernelInfo": {
    "defaultKernelName": "csharp",
    "items": [
     {
      "aliases": [],
      "languageName": "csharp",
      "name": "csharp"
     }
    ]
   }
  },
  "kernelInfo": {
   "defaultKernelName": null,
   "items": [
    {
     "name": "csharp",
     "languageName": "C#",
     "aliases": [
      "c#",
      "cs"
     ]
    },
    {
     "name": "fsharp",
     "languageName": "F#",
     "aliases": [
      "f#",
      "fs"
     ]
    },
    {
     "name": "pwsh",
     "languageName": "PowerShell",
     "aliases": [
      "powershell"
     ]
    },
    {
     "name": "javascript",
     "languageName": "JavaScript",
     "aliases": [
      "js"
     ]
    },
    {
     "name": "html",
     "languageName": "HTML"
    },
    {
     "name": "sql",
     "languageName": "SQL"
    },
    {
     "name": "kql",
     "languageName": "KQL"
    },
    {
     "name": "mermaid",
     "languageName": "Mermaid"
    },
    {
     "name": "http",
     "languageName": "HTTP"
    },
    {
     "name": "value"
    }
   ]
  }
 },
 "nbformat": 4,
 "nbformat_minor": 5
}