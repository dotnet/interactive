{
 "cells": [
  {
   "cell_type": "code",
   "execution_count": 1,
   "metadata": {},
   "source": [
    "#r \"nuget:Microsoft.DotNet.Interactive.ExtensionLab,*-*\""
   ],
   "outputs": []
  },
  {
   "cell_type": "code",
   "execution_count": 1,
   "metadata": {},
   "source": [
    " var data = new[]\r\n",
    "            {\r\n",
    "                new {Type=\"orange\", Price=1.2},\r\n",
    "                new {Type=\"apple\" , Price=1.3},\r\n",
    "                new {Type=\"grape\" , Price=1.4}\r\n",
    "            };"
   ],
   "outputs": []
  },
  {
   "cell_type": "code",
   "execution_count": 1,
   "metadata": {},
   "source": [
    "using Microsoft.DotNet.Interactive.ExtensionLab;\r\n",
    "DataExplorerExtensions.Settings.UseUri(@\"https://colombod.github.io/dotnet-interactive-cdn/extensionlab/1.0.0/nteract/index.js\");"
   ],
   "outputs": []
  },
  {
   "cell_type": "code",
   "execution_count": 1,
   "metadata": {},
   "source": [
    "data.Explore()"
   ],
   "outputs": []
  }
 ],
 "metadata": {
  "kernelspec": {
   "display_name": ".NET (C#)",
   "language": "C#",
   "name": ".net-csharp"
  },
  "language_info": {
   "file_extension": ".cs",
   "mimetype": "text/x-csharp",
   "name": "C#",
   "pygments_lexer": "csharp",
   "version": "8.0"
  }
 },
 "nbformat": 4,
 "nbformat_minor": 4
}