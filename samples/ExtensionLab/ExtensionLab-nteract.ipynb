{
  "cells": [
    {
      "cell_type": "code",
      "execution_count": null,
      "metadata": {
        "dotnet_interactive": {
          "language": "csharp"
        },
        "vscode": {
          "languageId": "dotnet-interactive.csharp"
        }
      },
      "outputs": [
        {
          "data": {
            "text/html": [
              "<div><div></div><div></div><div><strong>Installed Packages</strong><ul><li><span>nteract.InteractiveExtension, 1.0.45</span></li></ul></div></div>"
            ]
          },
          "metadata": {},
          "output_type": "display_data"
        }
      ],
      "source": [
        "#r \"nuget:nteract.InteractiveExtension,*-*\""
      ]
    },
    {
      "cell_type": "code",
      "execution_count": null,
      "metadata": {
        "dotnet_interactive": {
          "language": "csharp"
        },
        "vscode": {
          "languageId": "dotnet-interactive.csharp"
        }
      },
      "outputs": [],
      "source": [
        " var data = new[]\n",
        "            {\n",
        "                new {Type=\"orange\", Price=1.2},\n",
        "                new {Type=\"apple\" , Price=1.3},\n",
        "                new {Type=\"grape\" , Price=1.4}\n",
        "            };"
      ]
    },
    {
      "cell_type": "code",
      "execution_count": null,
      "metadata": {
        "dotnet_interactive": {
          "language": "csharp"
        },
        "vscode": {
          "languageId": "dotnet-interactive.csharp"
        }
      },
      "outputs": [
        {
          "data": {
            "text/csv": [
              "Type,Price\r\n",
              "orange,1.2\r\n",
              "apple,1.3\r\n",
              "grape,1.4\r\n"
            ],
            "text/html": [
              "<div style=\"background-color:white;\">\r\n",
              "<div id=\"b4bab7f58100432990c26787fc99f7d8\" style=\"height: 100ch ;margin: 2px;\">\r\n",
              "</div>\r\n",
              "<script type=\"text/javascript\">\r\n",
              "\r\n",
              "renderNteractDataExplorer_b4bab7f58100432990c26787fc99f7d8 = () => {\r\n",
              "\r\n",
              "    (require.config({ 'paths': { 'context': '1.0.252001', 'nteractUri' : 'https://colombod.github.io/dotnet-interactive-cdn/extensionlab/1.0.252001/nteract/nteractapi', 'urlArgs': 'cacheBuster=7df0b7cd7f394d539587d245519ffe42' }}) || require)(['nteractUri'], (nteract) => {\r\n",
              "\r\n",
              "        nteract.createDataExplorer({\r\n",
              "            data: {\r\n",
              "  \"profile\": \"tabular-data-resource\",\r\n",
              "  \"schema\": {\r\n",
              "    \"primaryKey\": [],\r\n",
              "    \"fields\": [\r\n",
              "      {\r\n",
              "        \"name\": \"Type\",\r\n",
              "        \"type\": \"string\"\r\n",
              "      },\r\n",
              "      {\r\n",
              "        \"name\": \"Price\",\r\n",
              "        \"type\": \"number\"\r\n",
              "      }\r\n",
              "    ]\r\n",
              "  },\r\n",
              "  \"data\": [\r\n",
              "    {\r\n",
              "      \"Type\": \"orange\",\r\n",
              "      \"Price\": 1.2\r\n",
              "    },\r\n",
              "    {\r\n",
              "      \"Type\": \"apple\",\r\n",
              "      \"Price\": 1.3\r\n",
              "    },\r\n",
              "    {\r\n",
              "      \"Type\": \"grape\",\r\n",
              "      \"Price\": 1.4\r\n",
              "    }\r\n",
              "  ]\r\n",
              "},\r\n",
              "            container: document.getElementById(\"b4bab7f58100432990c26787fc99f7d8\")\r\n",
              "        });\r\n",
              "    },\r\n",
              "    (error) => {\r\n",
              "        console.log(error);\r\n",
              "    });\r\n",
              "};\r\n",
              "// ensure `require` is available globally\r\n",
              "if ((typeof(require) !==  typeof(Function)) || (typeof(require.config) !== typeof(Function))) {\r\n",
              "    let require_script = document.createElement('script');\r\n",
              "    require_script.setAttribute('src', 'https://cdnjs.cloudflare.com/ajax/libs/require.js/2.3.6/require.min.js');\r\n",
              "    require_script.setAttribute('type', 'text/javascript');\r\n",
              "    \r\n",
              "    \r\n",
              "    require_script.onload = function() {\r\n",
              "        renderNteractDataExplorer_b4bab7f58100432990c26787fc99f7d8();\r\n",
              "    };\r\n",
              "\r\n",
              "    document.getElementsByTagName('head')[0].appendChild(require_script);\r\n",
              "}\r\n",
              "else {\r\n",
              "    renderNteractDataExplorer_b4bab7f58100432990c26787fc99f7d8();\r\n",
              "}\r\n",
              "\r\n",
              " </script>\r\n",
              "</div>\r\n"
            ]
          },
          "metadata": {},
          "output_type": "display_data"
        }
      ],
      "source": [
        "data.ExploreWithNteract().Display();"
      ]
    }
  ],
  "metadata": {
    "kernelspec": {
      "display_name": ".NET (C#)",
      "language": "C#",
      "name": ".net-csharp"
    },
    "language_info": {
      "file_extension": ".cs",
      "mimetype": "text/x-csharp",
      "name": "C#",
      "pygments_lexer": "csharp",
      "version": "8.0"
    }
  },
  "nbformat": 4,
  "nbformat_minor": 4
}
