{
 "cells": [
  {
   "cell_type": "markdown",
   "metadata": {},
   "source": [
    "# 1. Polyglot\n",
    "\n",
    "* Code as a service: Try .NET for documentation.\n",
    "\n",
    "* Fill gaps in the .NET data science and ML story\n",
    "\n",
    "* Jupyter kernels are typically single-language kernels, and the Python ecosystem is rich enough that you can get a lot done just in Python. \n",
    "\n",
    "* For .NET Interactive, polyglot is for: \n",
    "\n",
    "    * Consistency of experience (incl. across frontends): magics, visualizations\n",
    "\n",
    "    * Ability to use the right language for each part of the job\n",
    "\n",
    "    * Access to existing libraries for visualization and data exploration\n",
    "\n",
    "* [START DEMO]\n",
    "\n",
    "------\n",
    "\n",
    "* We default to C# but you can see that we have this little language chooser so we can switch to PowerShell to get important infrastructure work done.\n",
    "\n",
    "* Kernels are always polyglot. #!magics => subkernels\n",
    "\n",
    "* .NET devs want to do DevOps, not just data science \n",
    ""
   ]
  },
  {
   "cell_type": "code",
   "execution_count": 1,
   "metadata": {},
   "source": [
    "#!pwsh\n",
    "giphy work | Out-Display -MimeType \"text/markdown\""
   ],
   "outputs": []
  },
  {
   "cell_type": "markdown",
   "metadata": {},
   "source": [
    "# 2. Extensions\n",
    "\n",
    ""
   ]
  },
  {
   "cell_type": "markdown",
   "metadata": {},
   "source": [
    "* Delivered via NuGet packages\n",
    "* Can bring in custom magics, visualizations, and even add subkernels\n",
    ""
   ]
  },
  {
   "cell_type": "code",
   "execution_count": 1,
   "metadata": {},
   "source": [
    "#r \"nuget:Microsoft.DotNet.Interactive.ExtensionLab\""
   ],
   "outputs": []
  },
  {
   "cell_type": "markdown",
   "metadata": {},
   "source": [
    "# 3. SQL"
   ]
  },
  {
   "cell_type": "code",
   "execution_count": 1,
   "metadata": {},
   "source": [
    "#!connect mssql --kernel-name adventureworks \"Persist Security Info=False; Integrated Security=true; Initial Catalog=AdventureWorks2019; Server=localhost\""
   ],
   "outputs": []
  },
  {
   "cell_type": "code",
   "execution_count": 1,
   "metadata": {},
   "source": [
    "#!adventureworks\n",
    "\n",
    "select * from sys.databases\n",
    ""
   ],
   "outputs": []
  },
  {
   "cell_type": "markdown",
   "metadata": {},
   "source": [
    "* .NET Interactive is a backend and we want it to work with all kinds of different notebook frontends, and to be able to create a unified experience over time.\n",
    "\n",
    "* Custom visualizations are part of the extension story"
   ]
  },
  {
   "cell_type": "code",
   "execution_count": 1,
   "metadata": {},
   "source": [
    "#!adventureworks\n",
    "\n",
    "SELECT top 200 Name,OrderQty,ListPrice\n",
    "  FROM  Sales.SalesOrderHeader JOIN Sales.SalesOrderDetail \n",
    "          ON SalesOrderDetail.SalesOrderID = SalesOrderHeader.SalesOrderID\n",
    "        JOIN Production.Product\n",
    "          ON SalesOrderDetail.ProductID = Production.Product.ProductID"
   ],
   "outputs": []
  },
  {
   "cell_type": "markdown",
   "metadata": {},
   "source": [
    "# 4. Multiple connections, EntityFramework"
   ]
  },
  {
   "cell_type": "code",
   "execution_count": 1,
   "metadata": {},
   "source": [
    "#!connect mssql --create-dbcontext --kernel-name worldwideimporters \"Persist Security Info=False; Integrated Security=true; Initial Catalog=WideWorldImporters; Server=localhost\""
   ],
   "outputs": []
  },
  {
   "cell_type": "markdown",
   "metadata": {},
   "source": [
    "* Default HTML view"
   ]
  },
  {
   "cell_type": "code",
   "execution_count": 1,
   "metadata": {},
   "source": [
    "worldwideimporters.SupplierCategories"
   ],
   "outputs": []
  },
  {
   "cell_type": "markdown",
   "metadata": {},
   "source": [
    "* More interesting queries\n",
    "\n",
    "* `Explore`"
   ]
  },
  {
   "cell_type": "code",
   "execution_count": 1,
   "metadata": {},
   "source": [
    "var query = \n",
    "worldwideimporters\n",
    "  .Cities\n",
    "  .Join(worldwideimporters.Customers, \n",
    "        city => city.CityId, \n",
    "        customer => customer.DeliveryCityId, \n",
    "        (city, customer) => new \n",
    "          { \n",
    "              Customer = customer.CustomerName,\n",
    "              State = city.StateProvince.StateProvinceName,\n",
    "              PostalCode = customer.DeliveryPostalCode\n",
    "          })\n",
    "  .Take(200);        \n",
    "\n",
    "query"
   ],
   "outputs": []
  },
  {
   "cell_type": "code",
   "execution_count": 1,
   "metadata": {},
   "source": [
    ""
   ],
   "outputs": []
  }
 ],
 "metadata": {
  "kernelspec": {
   "display_name": ".NET (C#)",
   "language": "C#",
   "name": ".net-csharp"
  },
  "language_info": {
   "file_extension": ".cs",
   "mimetype": "text/x-csharp",
   "name": "C#",
   "pygments_lexer": "csharp",
   "version": "8.0"
  }
 },
 "nbformat": 4,
 "nbformat_minor": 4
}