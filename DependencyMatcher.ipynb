{
 "cells": [
  {
   "cell_type": "code",
   "execution_count": 5,
   "metadata": {
    "polyglot_notebook": {
     "kernelName": "csharp"
    }
   },
   "outputs": [],
   "source": [
    "#!set --name sourceFilePath --value @input:{\"prompt\":\"Pick the source Directory.Packages.props file\",\"type\":\"file\"}\n",
    "\n",
    "using System;\n",
    "using System.Collections.Generic;\n",
    "using System.Xml.Linq;\n",
    "using Microsoft.DotNet.Interactive;\n",
    "using System.IO;\n",
    "\n",
    "var targetFilePath = Path.Combine(Directory.GetCurrentDirectory(),  \"Directory.Packages.props\");"
   ]
  },
  {
   "cell_type": "code",
   "execution_count": 8,
   "metadata": {
    "polyglot_notebook": {
     "kernelName": "csharp"
    }
   },
   "outputs": [
    {
     "name": "stdout",
     "output_type": "stream",
     "text": [
      "Updated Markdig.Signed: 0.33.0.0 -> 0.30.0.0\n",
      "Updated Microsoft.Extensions.Logging.Abstractions: 9.0.0 -> 8.0.0\n",
      "Changes saved successfully.\n"
     ]
    }
   ],
   "source": [
    "using System;\n",
    "using System.Collections.Generic;\n",
    "using System.IO;\n",
    "using System.Xml.Linq;\n",
    "\n",
    "\n",
    "// Load XML files\n",
    "XDocument sourceDoc = XDocument.Load(sourceFilePath);\n",
    "XDocument targetDoc = XDocument.Load(targetFilePath);\n",
    "\n",
    "// Extract all PackageVersion elements from source and create dictionary\n",
    "Dictionary<string, string> packageVersions = new Dictionary<string, string>();\n",
    "\n",
    "foreach (var packageVersion in sourceDoc.Descendants(\"PackageVersion\"))\n",
    "{\n",
    "    string include = packageVersion.Attribute(\"Include\")?.Value;\n",
    "    string version = packageVersion.Attribute(\"Version\")?.Value;\n",
    "    \n",
    "    if (!string.IsNullOrEmpty(include) && !string.IsNullOrEmpty(version))\n",
    "    {\n",
    "        packageVersions[include] = version;\n",
    "    }\n",
    "}\n",
    "\n",
    "// Update target document\n",
    "bool changes = false;\n",
    "foreach (var packageVersion in targetDoc.Descendants(\"PackageVersion\"))\n",
    "{\n",
    "    string include = packageVersion.Attribute(\"Include\")?.Value;\n",
    "    \n",
    "    if (!string.IsNullOrEmpty(include) && packageVersions.TryGetValue(include, out string sourceVersion))\n",
    "    {\n",
    "        string targetVersion = packageVersion.Attribute(\"Version\")?.Value;\n",
    "        \n",
    "        if (targetVersion != sourceVersion)\n",
    "        {\n",
    "            packageVersion.Attribute(\"Version\").Value = sourceVersion;\n",
    "            changes = true;\n",
    "            Console.WriteLine($\"Updated {include}: {targetVersion} -> {sourceVersion}\");\n",
    "        }\n",
    "    }\n",
    "}\n",
    "\n",
    "// Save changes if any were made\n",
    "if (changes)\n",
    "{\n",
    "    targetDoc.Save(targetFilePath);\n",
    "    Console.WriteLine(\"Changes saved successfully.\");\n",
    "}\n",
    "else\n",
    "{\n",
    "    Console.WriteLine(\"No changes were needed.\");\n",
    "}"
   ]
  },
  {
   "cell_type": "code",
   "execution_count": null,
   "metadata": {
    "polyglot_notebook": {
     "kernelName": "csharp"
    }
   },
   "outputs": [],
   "source": []
  }
 ],
 "metadata": {
  "kernelspec": {
   "display_name": ".NET (C#)",
   "language": "C#",
   "name": ".net-csharp"
  },
  "polyglot_notebook": {
   "kernelInfo": {
    "defaultKernelName": "csharp",
    "items": [
     {
      "aliases": [],
      "languageName": "csharp",
      "name": "csharp"
     }
    ]
   }
  }
 },
 "nbformat": 4,
 "nbformat_minor": 2
}
