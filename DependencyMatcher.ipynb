{
 "cells": [
  {
   "cell_type": "markdown",
   "metadata": {},
   "source": [
    "This notebook will copy the versions of common dependencies from one `Directory.Packages.props` to another. The target `Directory.Packages.props` is the one found in the current directory."
   ]
  },
  {
   "cell_type": "code",
   "execution_count": 2,
   "metadata": {
    "polyglot_notebook": {
     "kernelName": "csharp"
    }
   },
   "outputs": [
    {
     "data": {
      "text/markdown": [
       "Using previously saved value for `VisualStudio.Conversations Directory.Packages.props`.\r\n",
       "\r\n",
       "> 💡 To remove this value from your [SecretStore](https://learn.microsoft.com/en-us/powershell/module/microsoft.powershell.secretstore/?view=ps-modules), run the following command in a PowerShell cell:\r\n",
       "> \r\n",
       "> ```powershell\r\n",
       ">     Remove-Secret -Name \"VisualStudio.Conversations Directory.Packages.props\" -Vault DotnetInteractive\r\n",
       "> ```\r\n",
       "\r\n",
       "> 📝 For more information, see [SecretManagement](https://learn.microsoft.com/en-us/powershell/utility-modules/secretmanagement/overview?view=ps-modules)."
      ]
     },
     "metadata": {},
     "output_type": "display_data"
    }
   ],
   "source": [
    "#!set --name sourceFilePath --value @input:{\"prompt\":\"Pick the source Directory.Packages.props file\",\"type\":\"file\",\"saveAs\":\"VisualStudio.Conversations Directory.Packages.props\"}\n",
    "\n",
    "using System;\n",
    "using System.Collections.Generic;\n",
    "using System.Xml.Linq;\n",
    "using Microsoft.DotNet.Interactive;\n",
    "using System.IO;\n",
    "\n",
    "var targetFilePath = Path.Combine(Directory.GetCurrentDirectory(),  \"Directory.Packages.props\");"
   ]
  },
  {
   "cell_type": "code",
   "execution_count": 3,
   "metadata": {
    "polyglot_notebook": {
     "kernelName": "csharp"
    }
   },
   "outputs": [
    {
     "name": "stdout",
     "output_type": "stream",
     "text": [
      "Updated Markdig.Signed: 0.33.0.0 -> 0.30.0.0\n",
      "Updated System.Drawing.Common: 9.0.1 -> 9.0.3\n",
      "Updated xunit: 2.7.0 -> 2.9.0\n",
      "Changes saved successfully.\n"
     ]
    }
   ],
   "source": [
    "using System.Xml.Linq;\n",
    "\n",
    "// Load XML files\n",
    "XDocument sourceDoc = XDocument.Load(sourceFilePath);\n",
    "XDocument targetDoc = XDocument.Load(targetFilePath);\n",
    "\n",
    "// Extract all PackageVersion elements from source and create dictionary\n",
    "Dictionary<string, string> packageVersions = new Dictionary<string, string>();\n",
    "\n",
    "foreach (var packageVersion in sourceDoc.Descendants(\"PackageVersion\").Where(pv => !pv.Parent.Attributes().Any()))\n",
    "{\n",
    "    string include = packageVersion.Attribute(\"Include\")?.Value;\n",
    "    string version = packageVersion.Attribute(\"Version\")?.Value;\n",
    "    \n",
    "    if (!string.IsNullOrEmpty(include) && !string.IsNullOrEmpty(version))\n",
    "    {\n",
    "        packageVersions[include] = version;\n",
    "    }\n",
    "}\n",
    "\n",
    "// Update target document\n",
    "bool changes = false;\n",
    "foreach (var packageVersion in targetDoc.Descendants(\"PackageVersion\"))\n",
    "{\n",
    "    string include = packageVersion.Attribute(\"Include\")?.Value;\n",
    "    \n",
    "    if (!string.IsNullOrEmpty(include) && packageVersions.TryGetValue(include, out string sourceVersion))\n",
    "    {\n",
    "        string targetVersion = packageVersion.Attribute(\"Version\")?.Value;\n",
    "        \n",
    "        if (targetVersion != sourceVersion)\n",
    "        {\n",
    "            packageVersion.Attribute(\"Version\").Value = sourceVersion;\n",
    "            changes = true;\n",
    "            Console.WriteLine($\"Updated {include}: {targetVersion} -> {sourceVersion}\");\n",
    "        }\n",
    "    }\n",
    "}\n",
    "\n",
    "// Save changes if any were made\n",
    "if (changes)\n",
    "{\n",
    "    targetDoc.Save(targetFilePath);\n",
    "    Console.WriteLine(\"Changes saved successfully.\");\n",
    "}\n",
    "else\n",
    "{\n",
    "    Console.WriteLine(\"No changes were needed.\");\n",
    "}"
   ]
  },
  {
   "cell_type": "code",
   "execution_count": null,
   "metadata": {
    "polyglot_notebook": {
     "kernelName": "csharp"
    }
   },
   "outputs": [],
   "source": []
  }
 ],
 "metadata": {
  "kernelspec": {
   "display_name": ".NET (C#)",
   "language": "C#",
   "name": ".net-csharp"
  },
  "language_info": {
   "name": "polyglot-notebook"
  },
  "polyglot_notebook": {
   "kernelInfo": {
    "defaultKernelName": "csharp",
    "items": [
     {
      "aliases": [],
      "languageName": "csharp",
      "name": "csharp"
     }
    ]
   }
  }
 },
 "nbformat": 4,
 "nbformat_minor": 2
}
