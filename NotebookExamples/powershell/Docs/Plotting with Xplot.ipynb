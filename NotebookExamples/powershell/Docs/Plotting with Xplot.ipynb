{
 "cells": [
  {
   "cell_type": "markdown",
   "metadata": {},
   "source": [
    "# Charts with XPlot\n",
    "Charts can be rendered using [Xplot.Plotly](https://fslab.org/XPlot/). \n",
    "We will cover some example on how to use XPlot in a notebook with the .NET Kernel."
   ]
  },
  {
   "cell_type": "markdown",
   "metadata": {},
   "source": [
    "# Rendering Scatter plots\n",
    "One of the most commonly used type of chart to explore data set. Use the type `Scatter`."
   ]
  },
  {
   "cell_type": "code",
   "execution_count": 3,
   "metadata": {},
   "outputs": [
    {
     "data": {
      "text/html": [
       "<div id=\"b407cc1c-a1b9-4347-8906-09aca5cb7576\" style=\"width: 900px; height: 500px;\"></div>\n",
       "<script type=\"text/javascript\">\n",
       "\n",
       "var renderPlotly = function() {\n",
       "    var xplotRequire = requirejs.config({context:'xplot-3.0.1',paths:{plotly:'https://cdn.plot.ly/plotly-1.49.2.min'}});\n",
       "    xplotRequire(['plotly'], function(Plotly) {\n",
       "\n",
       "            var data = [{\"type\":\"scatter\",\"x\":[1,2,3,4],\"y\":[10,15,13,17],\"name\":\"Open\"},{\"type\":\"scatter\",\"x\":[2,3,4,5],\"y\":[16,5,11,9],\"name\":\"Close\"}];\n",
       "            var layout = {\"title\":\"Open vs Close\"};\n",
       "            Plotly.newPlot('b407cc1c-a1b9-4347-8906-09aca5cb7576', data, layout);\n",
       "        \n",
       "});\n",
       "};\n",
       "if ((typeof(requirejs) !==  typeof(Function)) || (typeof(requirejs.config) !== typeof(Function))) { \n",
       "    var script = document.createElement(\"script\"); \n",
       "    script.setAttribute(\"src\", \"https://cdnjs.cloudflare.com/ajax/libs/require.js/2.3.6/require.min.js\"); \n",
       "    script.onload = function(){\n",
       "        renderPlotly();\n",
       "    };\n",
       "    document.getElementsByTagName(\"head\")[0].appendChild(script); \n",
       "}\n",
       "else {\n",
       "    renderPlotly();\n",
       "}\n",
       "</script>\n"
      ]
     },
     "metadata": {},
     "output_type": "display_data"
    }
   ],
   "source": [
    "$openSeries = New-PlotlyTrace -TraceType Scatter -Name Open\n",
    "$openSeries.x = @(1, 2, 3, 4)\n",
    "$openSeries.y = @(10, 15, 13, 17)\n",
    "\n",
    "$closeSeries = New-PlotlyTrace -TraceType Scatter -Name Close\n",
    "$closeSeries.x = @(2, 3, 4, 5)\n",
    "$closeSeries.y = @(16, 5, 11, 9)\n",
    "\n",
    "$chart = @($openSeries, $closeSeries) | New-PlotlyChart -Title \"Open vs Close\"\n",
    "Out-Display $chart"
   ]
  },
  {
   "cell_type": "markdown",
   "metadata": {},
   "source": [
    "Let's change it to be markers style, so more like a scatter plot."
   ]
  },
  {
   "cell_type": "code",
   "execution_count": 4,
   "metadata": {},
   "outputs": [
    {
     "data": {
      "text/html": [
       "<div id=\"decc3c83-8b2f-44d8-983c-777c8a3fb4ac\" style=\"width: 900px; height: 500px;\"></div>\n",
       "<script type=\"text/javascript\">\n",
       "\n",
       "var renderPlotly = function() {\n",
       "    var xplotRequire = requirejs.config({context:'xplot-3.0.1',paths:{plotly:'https://cdn.plot.ly/plotly-1.49.2.min'}});\n",
       "    xplotRequire(['plotly'], function(Plotly) {\n",
       "\n",
       "            var data = [{\"type\":\"scatter\",\"x\":[1,2,3,4],\"y\":[10,15,13,17],\"mode\":\"markers\",\"name\":\"Open\"},{\"type\":\"scatter\",\"x\":[2,3,4,5],\"y\":[16,5,11,9],\"mode\":\"markers\",\"name\":\"Close\"}];\n",
       "            var layout = {\"title\":\"Open vs Close\"};\n",
       "            Plotly.newPlot('decc3c83-8b2f-44d8-983c-777c8a3fb4ac', data, layout);\n",
       "        \n",
       "});\n",
       "};\n",
       "if ((typeof(requirejs) !==  typeof(Function)) || (typeof(requirejs.config) !== typeof(Function))) { \n",
       "    var script = document.createElement(\"script\"); \n",
       "    script.setAttribute(\"src\", \"https://cdnjs.cloudflare.com/ajax/libs/require.js/2.3.6/require.min.js\"); \n",
       "    script.onload = function(){\n",
       "        renderPlotly();\n",
       "    };\n",
       "    document.getElementsByTagName(\"head\")[0].appendChild(script); \n",
       "}\n",
       "else {\n",
       "    renderPlotly();\n",
       "}\n",
       "</script>\n"
      ]
     },
     "metadata": {},
     "output_type": "display_data"
    }
   ],
   "source": [
    "$openSeries.mode = \"markers\";\n",
    "$closeSeries.mode = \"markers\";\n",
    "\n",
    "$chart = @($openSeries, $closeSeries) | New-PlotlyChart -Title \"Open vs Close\"\n",
    "Out-Display $chart"
   ]
  },
  {
   "cell_type": "markdown",
   "metadata": {},
   "source": [
    "`Scatter` can also produce polar charts by setting the radial property `r` and angular proeprty `t`"
   ]
  },
  {
   "cell_type": "code",
   "execution_count": 5,
   "metadata": {},
   "outputs": [
    {
     "data": {
      "text/html": [
       "<div id=\"03ae7f4a-1b05-44ad-a271-16c0f06cab89\" style=\"width: 900px; height: 500px;\"></div>\n",
       "<script type=\"text/javascript\">\n",
       "\n",
       "var renderPlotly = function() {\n",
       "    var xplotRequire = requirejs.config({context:'xplot-3.0.1',paths:{plotly:'https://cdn.plot.ly/plotly-1.49.2.min'}});\n",
       "    xplotRequire(['plotly'], function(Plotly) {\n",
       "\n",
       "            var data = [{\"type\":\"scatter\",\"r\":[1,2,3,4],\"t\":[45,100,150,290],\"name\":\"Open\"},{\"type\":\"scatter\",\"r\":[2,3,4,5],\"t\":[16,45,118,90],\"name\":\"Close\"}];\n",
       "            var layout = {\"title\":\"\",\"orientation\":-90.0};\n",
       "            Plotly.newPlot('03ae7f4a-1b05-44ad-a271-16c0f06cab89', data, layout);\n",
       "        \n",
       "});\n",
       "};\n",
       "if ((typeof(requirejs) !==  typeof(Function)) || (typeof(requirejs.config) !== typeof(Function))) { \n",
       "    var script = document.createElement(\"script\"); \n",
       "    script.setAttribute(\"src\", \"https://cdnjs.cloudflare.com/ajax/libs/require.js/2.3.6/require.min.js\"); \n",
       "    script.onload = function(){\n",
       "        renderPlotly();\n",
       "    };\n",
       "    document.getElementsByTagName(\"head\")[0].appendChild(script); \n",
       "}\n",
       "else {\n",
       "    renderPlotly();\n",
       "}\n",
       "</script>\n"
      ]
     },
     "metadata": {},
     "output_type": "display_data"
    }
   ],
   "source": [
    "$openSeries = New-PlotlyTrace -TraceType Scatter -Name Open\n",
    "$openSeries.r = @(1, 2, 3, 4)\n",
    "$openSeries.t = @(45, 100, 150, 290)\n",
    "\n",
    "$closeSeries = New-PlotlyTrace -TraceType Scatter -Name Close\n",
    "$closeSeries.r = @(2, 3, 4, 5)\n",
    "$closeSeries.t = @(16, 45, 118, 90)\n",
    "\n",
    "$layout = New-PlotlyLayout\n",
    "$layout.orientation = -90\n",
    "\n",
    "$chart = @($openSeries, $closeSeries) | New-PlotlyChart -Title \"Open vs Close\" -Layout $layout\n",
    "$chart | Out-Display"
   ]
  },
  {
   "cell_type": "markdown",
   "metadata": {},
   "source": [
    "## Large scatter plots and performance\n",
    "It is not uncommon to have scatter plots with a large dataset, it is a common scenario at the beginning of a data exploration process. Using the default `svg` based rendering will create performace issues as the dom will become very large.\n",
    "We can then use `web-gl` support to address the problem."
   ]
  },
  {
   "cell_type": "code",
   "execution_count": 6,
   "metadata": {},
   "outputs": [
    {
     "data": {
      "text/plain": [
       "Wall time: 26877.2165ms"
      ]
     },
     "metadata": {},
     "output_type": "display_data"
    }
   ],
   "source": [
    "#!time\n",
    "# var series = new Graph.Scattergl[10];\n",
    "\n",
    "# for(var i = 0; i < series.Length; i++){\n",
    "#     series[i] =  new Graph.Scattergl\n",
    "#     {\n",
    "#         name = $\"Series {i}\",\n",
    "#         mode = \"markers\",\n",
    "#         x = Enumerable.Range(0,100000).Select(_ => generator.Next(-200, 200) * 1000 * generator.Next(-2000, 2000)),\n",
    "#         y = Enumerable.Range(0,100000).Select(_ => generator.Next(-200, 200) * 1000 * generator.Next(-2000, 2000))\n",
    "#     };\n",
    "# }\n",
    "\n",
    "# chart = Chart.Plot(series);\n",
    "# chart.WithTitle(\"Large Dataset\");\n",
    "# display(chart);\n",
    "\n",
    "$x = Get-Random -Count 100000 -Minimum -100000 -Maximum 100000\n",
    "$y = Get-Random -Count 100000 -Minimum -100000 -Maximum 100000\n",
    "$series = 1..10 | ForEach-Object {\n",
    "    $trace = New-PlotlyTrace -TraceType Scattergl -Name \"Series $_\"\n",
    "    $trace.mode = \"markers\"\n",
    "    $trace.x = $x\n",
    "    $trace.y = $y\n",
    "\n",
    "    $trace\n",
    "}\n",
    "\n",
    "New-PlotlyChart -Title \"Large Dataset\" -Trace $series | Out-Display"
   ]
  },
  {
   "cell_type": "markdown",
   "metadata": {},
   "source": [
    "Can provide custom marker `colour`, `size` and `colorscale` to display even more information to the user."
   ]
  },
  {
   "cell_type": "code",
   "execution_count": null,
   "metadata": {},
   "outputs": [],
   "source": [
    "for(var i = 0; i < series.Length; i++){\n",
    "    var sizes = Enumerable.Range(0,100).Select(_ => (generator.NextDouble() < 0.75) ? generator.Next(1, 5) : generator.Next(10, 15)).ToArray();\n",
    "    var temperatures = sizes.Select(t => (t * 10) - 100);\n",
    "    \n",
    "    series[i].x = Enumerable.Range(0,100).Select(_ => generator.Next(-200, 200) * 1000 * generator.Next(-2000, 2000));\n",
    "    series[i].y = Enumerable.Range(0,100).Select(_ => generator.Next(-200, 200) * 1000 * generator.Next(-2000, 2000));\n",
    "    series[i].marker = new Graph.Marker{        \n",
    "        size = sizes,\n",
    "        color = temperatures,\n",
    "        colorscale = \"hot\"    \n",
    "    };\n",
    "}\n",
    "\n",
    "chart = Chart.Plot(series);\n",
    "chart.WithTitle(\"Size and Colour\");\n",
    "display(chart);"
   ]
  },
  {
   "cell_type": "markdown",
   "metadata": {},
   "source": [
    "Plotly pvoides some additional `color scales` to use."
   ]
  },
  {
   "cell_type": "code",
   "execution_count": null,
   "metadata": {},
   "outputs": [],
   "source": [
    "for(var i = 0; i < series.Length; i++) {\n",
    "    series[i].marker.colorscale = \"Viridis\";\n",
    "}\n",
    "\n",
    "chart = Chart.Plot(series);\n",
    "chart.WithTitle(\"Viridis scale\");\n",
    "display(chart);\n",
    "\n",
    "for(var i = 0; i < series.Length; i++) {\n",
    "    series[i].marker.colorscale = \"Hot\";\n",
    "}\n",
    "\n",
    "chart = Chart.Plot(series);\n",
    "chart.WithTitle(\"Hot scale\");\n",
    "display(chart);\n",
    "\n",
    "for(var i = 0; i < series.Length; i++) {\n",
    "    series[i].marker.colorscale = \"Jet\";\n",
    "}\n",
    "\n",
    "chart = Chart.Plot(series);\n",
    "chart.WithTitle(\"Jet scale\");\n",
    "display(chart);"
   ]
  },
  {
   "cell_type": "markdown",
   "metadata": {},
   "source": [
    "# Rendering Histograms\n",
    "Let's have a look at using histograms, the next cell sets up some generators."
   ]
  },
  {
   "cell_type": "code",
   "execution_count": 7,
   "metadata": {},
   "outputs": [],
   "source": [
    "$count = 20\n",
    "$dates = 1..$count | ForEach-Object { (Get-Date).AddMinutes((Get-Random -Minimum $_ -Maximum ($_+30))) }"
   ]
  },
  {
   "cell_type": "markdown",
   "metadata": {},
   "source": [
    "Now let's define histogram traces:"
   ]
  },
  {
   "cell_type": "code",
   "execution_count": 8,
   "metadata": {},
   "outputs": [
    {
     "data": {
      "text/html": [
       "<div id=\"6e90f793-bf88-491e-bc61-36e38ed72297\" style=\"width: 900px; height: 500px;\"></div>\n",
       "<script type=\"text/javascript\">\n",
       "\n",
       "var renderPlotly = function() {\n",
       "    var xplotRequire = requirejs.config({context:'xplot-3.0.1',paths:{plotly:'https://cdn.plot.ly/plotly-1.49.2.min'}});\n",
       "    xplotRequire(['plotly'], function(Plotly) {\n",
       "\n",
       "            var data = [{\"type\":\"histogram\",\"x\":[\"2020-02-21T18:28:32.423672-08:00\",\"2020-02-21T18:28:32.431511-08:00\",\"2020-02-21T18:27:32.431854-08:00\",\"2020-02-21T18:26:32.432106-08:00\",\"2020-02-21T18:28:32.432354-08:00\",\"2020-02-21T18:45:32.432596-08:00\",\"2020-02-21T18:33:32.43286-08:00\",\"2020-02-21T18:30:32.433201-08:00\",\"2020-02-21T18:38:32.43345-08:00\",\"2020-02-21T18:49:32.433691-08:00\",\"2020-02-21T18:57:32.433929-08:00\",\"2020-02-21T18:38:32.434184-08:00\",\"2020-02-21T19:01:32.434416-08:00\",\"2020-02-21T18:56:32.434667-08:00\",\"2020-02-21T19:04:32.434902-08:00\",\"2020-02-21T18:58:32.435145-08:00\",\"2020-02-21T18:53:32.435361-08:00\",\"2020-02-21T18:46:32.435615-08:00\",\"2020-02-21T18:59:32.435842-08:00\",\"2020-02-21T18:45:32.436132-08:00\"],\"y\":[{\"CliXml\":\"<Objs Version=\\\"1.1.0.1\\\" xmlns=\\\"http://schemas.microsoft.com/powershell/2004/04\\\">\\n  <I32>73</I32>\\n</Objs>\"},{\"CliXml\":\"<Objs Version=\\\"1.1.0.1\\\" xmlns=\\\"http://schemas.microsoft.com/powershell/2004/04\\\">\\n  <I32>21</I32>\\n</Objs>\"},{\"CliXml\":\"<Objs Version=\\\"1.1.0.1\\\" xmlns=\\\"http://schemas.microsoft.com/powershell/2004/04\\\">\\n  <I32>23</I32>\\n</Objs>\"},{\"CliXml\":\"<Objs Version=\\\"1.1.0.1\\\" xmlns=\\\"http://schemas.microsoft.com/powershell/2004/04\\\">\\n  <I32>175</I32>\\n</Objs>\"},{\"CliXml\":\"<Objs Version=\\\"1.1.0.1\\\" xmlns=\\\"http://schemas.microsoft.com/powershell/2004/04\\\">\\n  <I32>192</I32>\\n</Objs>\"},{\"CliXml\":\"<Objs Version=\\\"1.1.0.1\\\" xmlns=\\\"http://schemas.microsoft.com/powershell/2004/04\\\">\\n  <I32>139</I32>\\n</Objs>\"},{\"CliXml\":\"<Objs Version=\\\"1.1.0.1\\\" xmlns=\\\"http://schemas.microsoft.com/powershell/2004/04\\\">\\n  <I32>120</I32>\\n</Objs>\"},{\"CliXml\":\"<Objs Version=\\\"1.1.0.1\\\" xmlns=\\\"http://schemas.microsoft.com/powershell/2004/04\\\">\\n  <I32>91</I32>\\n</Objs>\"},{\"CliXml\":\"<Objs Version=\\\"1.1.0.1\\\" xmlns=\\\"http://schemas.microsoft.com/powershell/2004/04\\\">\\n  <I32>83</I32>\\n</Objs>\"},{\"CliXml\":\"<Objs Version=\\\"1.1.0.1\\\" xmlns=\\\"http://schemas.microsoft.com/powershell/2004/04\\\">\\n  <I32>3</I32>\\n</Objs>\"},{\"CliXml\":\"<Objs Version=\\\"1.1.0.1\\\" xmlns=\\\"http://schemas.microsoft.com/powershell/2004/04\\\">\\n  <I32>124</I32>\\n</Objs>\"},{\"CliXml\":\"<Objs Version=\\\"1.1.0.1\\\" xmlns=\\\"http://schemas.microsoft.com/powershell/2004/04\\\">\\n  <I32>149</I32>\\n</Objs>\"},{\"CliXml\":\"<Objs Version=\\\"1.1.0.1\\\" xmlns=\\\"http://schemas.microsoft.com/powershell/2004/04\\\">\\n  <I32>131</I32>\\n</Objs>\"},{\"CliXml\":\"<Objs Version=\\\"1.1.0.1\\\" xmlns=\\\"http://schemas.microsoft.com/powershell/2004/04\\\">\\n  <I32>119</I32>\\n</Objs>\"},{\"CliXml\":\"<Objs Version=\\\"1.1.0.1\\\" xmlns=\\\"http://schemas.microsoft.com/powershell/2004/04\\\">\\n  <I32>48</I32>\\n</Objs>\"},{\"CliXml\":\"<Objs Version=\\\"1.1.0.1\\\" xmlns=\\\"http://schemas.microsoft.com/powershell/2004/04\\\">\\n  <I32>97</I32>\\n</Objs>\"},{\"CliXml\":\"<Objs Version=\\\"1.1.0.1\\\" xmlns=\\\"http://schemas.microsoft.com/powershell/2004/04\\\">\\n  <I32>47</I32>\\n</Objs>\"},{\"CliXml\":\"<Objs Version=\\\"1.1.0.1\\\" xmlns=\\\"http://schemas.microsoft.com/powershell/2004/04\\\">\\n  <I32>31</I32>\\n</Objs>\"},{\"CliXml\":\"<Objs Version=\\\"1.1.0.1\\\" xmlns=\\\"http://schemas.microsoft.com/powershell/2004/04\\\">\\n  <I32>194</I32>\\n</Objs>\"},{\"CliXml\":\"<Objs Version=\\\"1.1.0.1\\\" xmlns=\\\"http://schemas.microsoft.com/powershell/2004/04\\\">\\n  <I32>169</I32>\\n</Objs>\"}],\"name\":\"Open\"},{\"type\":\"histogram\",\"x\":[\"2020-02-21T18:28:32.423672-08:00\",\"2020-02-21T18:28:32.431511-08:00\",\"2020-02-21T18:27:32.431854-08:00\",\"2020-02-21T18:26:32.432106-08:00\",\"2020-02-21T18:28:32.432354-08:00\",\"2020-02-21T18:45:32.432596-08:00\",\"2020-02-21T18:33:32.43286-08:00\",\"2020-02-21T18:30:32.433201-08:00\",\"2020-02-21T18:38:32.43345-08:00\",\"2020-02-21T18:49:32.433691-08:00\",\"2020-02-21T18:57:32.433929-08:00\",\"2020-02-21T18:38:32.434184-08:00\",\"2020-02-21T19:01:32.434416-08:00\",\"2020-02-21T18:56:32.434667-08:00\",\"2020-02-21T19:04:32.434902-08:00\",\"2020-02-21T18:58:32.435145-08:00\",\"2020-02-21T18:53:32.435361-08:00\",\"2020-02-21T18:46:32.435615-08:00\",\"2020-02-21T18:59:32.435842-08:00\",\"2020-02-21T18:45:32.436132-08:00\"],\"y\":[{\"CliXml\":\"<Objs Version=\\\"1.1.0.1\\\" xmlns=\\\"http://schemas.microsoft.com/powershell/2004/04\\\">\\n  <I32>35</I32>\\n</Objs>\"},{\"CliXml\":\"<Objs Version=\\\"1.1.0.1\\\" xmlns=\\\"http://schemas.microsoft.com/powershell/2004/04\\\">\\n  <I32>132</I32>\\n</Objs>\"},{\"CliXml\":\"<Objs Version=\\\"1.1.0.1\\\" xmlns=\\\"http://schemas.microsoft.com/powershell/2004/04\\\">\\n  <I32>57</I32>\\n</Objs>\"},{\"CliXml\":\"<Objs Version=\\\"1.1.0.1\\\" xmlns=\\\"http://schemas.microsoft.com/powershell/2004/04\\\">\\n  <I32>175</I32>\\n</Objs>\"},{\"CliXml\":\"<Objs Version=\\\"1.1.0.1\\\" xmlns=\\\"http://schemas.microsoft.com/powershell/2004/04\\\">\\n  <I32>55</I32>\\n</Objs>\"},{\"CliXml\":\"<Objs Version=\\\"1.1.0.1\\\" xmlns=\\\"http://schemas.microsoft.com/powershell/2004/04\\\">\\n  <I32>162</I32>\\n</Objs>\"},{\"CliXml\":\"<Objs Version=\\\"1.1.0.1\\\" xmlns=\\\"http://schemas.microsoft.com/powershell/2004/04\\\">\\n  <I32>103</I32>\\n</Objs>\"},{\"CliXml\":\"<Objs Version=\\\"1.1.0.1\\\" xmlns=\\\"http://schemas.microsoft.com/powershell/2004/04\\\">\\n  <I32>184</I32>\\n</Objs>\"},{\"CliXml\":\"<Objs Version=\\\"1.1.0.1\\\" xmlns=\\\"http://schemas.microsoft.com/powershell/2004/04\\\">\\n  <I32>128</I32>\\n</Objs>\"},{\"CliXml\":\"<Objs Version=\\\"1.1.0.1\\\" xmlns=\\\"http://schemas.microsoft.com/powershell/2004/04\\\">\\n  <I32>83</I32>\\n</Objs>\"},{\"CliXml\":\"<Objs Version=\\\"1.1.0.1\\\" xmlns=\\\"http://schemas.microsoft.com/powershell/2004/04\\\">\\n  <I32>128</I32>\\n</Objs>\"},{\"CliXml\":\"<Objs Version=\\\"1.1.0.1\\\" xmlns=\\\"http://schemas.microsoft.com/powershell/2004/04\\\">\\n  <I32>93</I32>\\n</Objs>\"},{\"CliXml\":\"<Objs Version=\\\"1.1.0.1\\\" xmlns=\\\"http://schemas.microsoft.com/powershell/2004/04\\\">\\n  <I32>23</I32>\\n</Objs>\"},{\"CliXml\":\"<Objs Version=\\\"1.1.0.1\\\" xmlns=\\\"http://schemas.microsoft.com/powershell/2004/04\\\">\\n  <I32>177</I32>\\n</Objs>\"},{\"CliXml\":\"<Objs Version=\\\"1.1.0.1\\\" xmlns=\\\"http://schemas.microsoft.com/powershell/2004/04\\\">\\n  <I32>131</I32>\\n</Objs>\"},{\"CliXml\":\"<Objs Version=\\\"1.1.0.1\\\" xmlns=\\\"http://schemas.microsoft.com/powershell/2004/04\\\">\\n  <I32>185</I32>\\n</Objs>\"},{\"CliXml\":\"<Objs Version=\\\"1.1.0.1\\\" xmlns=\\\"http://schemas.microsoft.com/powershell/2004/04\\\">\\n  <I32>79</I32>\\n</Objs>\"},{\"CliXml\":\"<Objs Version=\\\"1.1.0.1\\\" xmlns=\\\"http://schemas.microsoft.com/powershell/2004/04\\\">\\n  <I32>187</I32>\\n</Objs>\"},{\"CliXml\":\"<Objs Version=\\\"1.1.0.1\\\" xmlns=\\\"http://schemas.microsoft.com/powershell/2004/04\\\">\\n  <I32>96</I32>\\n</Objs>\"},{\"CliXml\":\"<Objs Version=\\\"1.1.0.1\\\" xmlns=\\\"http://schemas.microsoft.com/powershell/2004/04\\\">\\n  <I32>147</I32>\\n</Objs>\"}],\"name\":\"Close\"}];\n",
       "            var layout = {\"title\":\"\"};\n",
       "            Plotly.newPlot('6e90f793-bf88-491e-bc61-36e38ed72297', data, layout);\n",
       "        \n",
       "});\n",
       "};\n",
       "if ((typeof(requirejs) !==  typeof(Function)) || (typeof(requirejs.config) !== typeof(Function))) { \n",
       "    var script = document.createElement(\"script\"); \n",
       "    script.setAttribute(\"src\", \"https://cdnjs.cloudflare.com/ajax/libs/require.js/2.3.6/require.min.js\"); \n",
       "    script.onload = function(){\n",
       "        renderPlotly();\n",
       "    };\n",
       "    document.getElementsByTagName(\"head\")[0].appendChild(script); \n",
       "}\n",
       "else {\n",
       "    renderPlotly();\n",
       "}\n",
       "</script>\n"
      ]
     },
     "metadata": {},
     "output_type": "display_data"
    }
   ],
   "source": [
    "$openByTime = New-PlotlyTrace -TraceType Histogram -Name Open\n",
    "$openByTime.x = $dates\n",
    "$openByTime.y = Get-Random -Count $count -Minimum 0 -Maximum 200\n",
    "\n",
    "$closeByTime = New-PlotlyTrace -TraceType Histogram -Name Close\n",
    "$closeByTime.x = $dates\n",
    "$closeByTime.y = Get-Random -Count $count -Minimum 0 -Maximum 200\n",
    "\n",
    "New-PlotlyChart -Trace @($openByTime, $closeByTime) | Out-Display"
   ]
  },
  {
   "cell_type": "markdown",
   "metadata": {},
   "source": [
    "The Histogram generator will automatically count the number of items per bin. \n",
    "\n",
    "Setting `histfunc` to `\"sum\"` we can now add up all the values contained in each bin.\n",
    "Note that we are creatng bin using the `x` data point and we are using bydefault autobinx"
   ]
  },
  {
   "cell_type": "code",
   "execution_count": 9,
   "metadata": {},
   "outputs": [
    {
     "data": {
      "text/html": [
       "<div id=\"4475e0d3-a5b6-4e8e-8754-e8cb779faf56\" style=\"width: 900px; height: 500px;\"></div>\n",
       "<script type=\"text/javascript\">\n",
       "\n",
       "var renderPlotly = function() {\n",
       "    var xplotRequire = requirejs.config({context:'xplot-3.0.1',paths:{plotly:'https://cdn.plot.ly/plotly-1.49.2.min'}});\n",
       "    xplotRequire(['plotly'], function(Plotly) {\n",
       "\n",
       "            var data = [{\"type\":\"histogram\",\"x\":[\"2020-02-21T18:28:32.423672-08:00\",\"2020-02-21T18:28:32.431511-08:00\",\"2020-02-21T18:27:32.431854-08:00\",\"2020-02-21T18:26:32.432106-08:00\",\"2020-02-21T18:28:32.432354-08:00\",\"2020-02-21T18:45:32.432596-08:00\",\"2020-02-21T18:33:32.43286-08:00\",\"2020-02-21T18:30:32.433201-08:00\",\"2020-02-21T18:38:32.43345-08:00\",\"2020-02-21T18:49:32.433691-08:00\",\"2020-02-21T18:57:32.433929-08:00\",\"2020-02-21T18:38:32.434184-08:00\",\"2020-02-21T19:01:32.434416-08:00\",\"2020-02-21T18:56:32.434667-08:00\",\"2020-02-21T19:04:32.434902-08:00\",\"2020-02-21T18:58:32.435145-08:00\",\"2020-02-21T18:53:32.435361-08:00\",\"2020-02-21T18:46:32.435615-08:00\",\"2020-02-21T18:59:32.435842-08:00\",\"2020-02-21T18:45:32.436132-08:00\"],\"y\":[{\"CliXml\":\"<Objs Version=\\\"1.1.0.1\\\" xmlns=\\\"http://schemas.microsoft.com/powershell/2004/04\\\">\\n  <I32>73</I32>\\n</Objs>\"},{\"CliXml\":\"<Objs Version=\\\"1.1.0.1\\\" xmlns=\\\"http://schemas.microsoft.com/powershell/2004/04\\\">\\n  <I32>21</I32>\\n</Objs>\"},{\"CliXml\":\"<Objs Version=\\\"1.1.0.1\\\" xmlns=\\\"http://schemas.microsoft.com/powershell/2004/04\\\">\\n  <I32>23</I32>\\n</Objs>\"},{\"CliXml\":\"<Objs Version=\\\"1.1.0.1\\\" xmlns=\\\"http://schemas.microsoft.com/powershell/2004/04\\\">\\n  <I32>175</I32>\\n</Objs>\"},{\"CliXml\":\"<Objs Version=\\\"1.1.0.1\\\" xmlns=\\\"http://schemas.microsoft.com/powershell/2004/04\\\">\\n  <I32>192</I32>\\n</Objs>\"},{\"CliXml\":\"<Objs Version=\\\"1.1.0.1\\\" xmlns=\\\"http://schemas.microsoft.com/powershell/2004/04\\\">\\n  <I32>139</I32>\\n</Objs>\"},{\"CliXml\":\"<Objs Version=\\\"1.1.0.1\\\" xmlns=\\\"http://schemas.microsoft.com/powershell/2004/04\\\">\\n  <I32>120</I32>\\n</Objs>\"},{\"CliXml\":\"<Objs Version=\\\"1.1.0.1\\\" xmlns=\\\"http://schemas.microsoft.com/powershell/2004/04\\\">\\n  <I32>91</I32>\\n</Objs>\"},{\"CliXml\":\"<Objs Version=\\\"1.1.0.1\\\" xmlns=\\\"http://schemas.microsoft.com/powershell/2004/04\\\">\\n  <I32>83</I32>\\n</Objs>\"},{\"CliXml\":\"<Objs Version=\\\"1.1.0.1\\\" xmlns=\\\"http://schemas.microsoft.com/powershell/2004/04\\\">\\n  <I32>3</I32>\\n</Objs>\"},{\"CliXml\":\"<Objs Version=\\\"1.1.0.1\\\" xmlns=\\\"http://schemas.microsoft.com/powershell/2004/04\\\">\\n  <I32>124</I32>\\n</Objs>\"},{\"CliXml\":\"<Objs Version=\\\"1.1.0.1\\\" xmlns=\\\"http://schemas.microsoft.com/powershell/2004/04\\\">\\n  <I32>149</I32>\\n</Objs>\"},{\"CliXml\":\"<Objs Version=\\\"1.1.0.1\\\" xmlns=\\\"http://schemas.microsoft.com/powershell/2004/04\\\">\\n  <I32>131</I32>\\n</Objs>\"},{\"CliXml\":\"<Objs Version=\\\"1.1.0.1\\\" xmlns=\\\"http://schemas.microsoft.com/powershell/2004/04\\\">\\n  <I32>119</I32>\\n</Objs>\"},{\"CliXml\":\"<Objs Version=\\\"1.1.0.1\\\" xmlns=\\\"http://schemas.microsoft.com/powershell/2004/04\\\">\\n  <I32>48</I32>\\n</Objs>\"},{\"CliXml\":\"<Objs Version=\\\"1.1.0.1\\\" xmlns=\\\"http://schemas.microsoft.com/powershell/2004/04\\\">\\n  <I32>97</I32>\\n</Objs>\"},{\"CliXml\":\"<Objs Version=\\\"1.1.0.1\\\" xmlns=\\\"http://schemas.microsoft.com/powershell/2004/04\\\">\\n  <I32>47</I32>\\n</Objs>\"},{\"CliXml\":\"<Objs Version=\\\"1.1.0.1\\\" xmlns=\\\"http://schemas.microsoft.com/powershell/2004/04\\\">\\n  <I32>31</I32>\\n</Objs>\"},{\"CliXml\":\"<Objs Version=\\\"1.1.0.1\\\" xmlns=\\\"http://schemas.microsoft.com/powershell/2004/04\\\">\\n  <I32>194</I32>\\n</Objs>\"},{\"CliXml\":\"<Objs Version=\\\"1.1.0.1\\\" xmlns=\\\"http://schemas.microsoft.com/powershell/2004/04\\\">\\n  <I32>169</I32>\\n</Objs>\"}],\"histfunc\":\"sum\",\"name\":\"Open\"},{\"type\":\"histogram\",\"x\":[\"2020-02-21T18:28:32.423672-08:00\",\"2020-02-21T18:28:32.431511-08:00\",\"2020-02-21T18:27:32.431854-08:00\",\"2020-02-21T18:26:32.432106-08:00\",\"2020-02-21T18:28:32.432354-08:00\",\"2020-02-21T18:45:32.432596-08:00\",\"2020-02-21T18:33:32.43286-08:00\",\"2020-02-21T18:30:32.433201-08:00\",\"2020-02-21T18:38:32.43345-08:00\",\"2020-02-21T18:49:32.433691-08:00\",\"2020-02-21T18:57:32.433929-08:00\",\"2020-02-21T18:38:32.434184-08:00\",\"2020-02-21T19:01:32.434416-08:00\",\"2020-02-21T18:56:32.434667-08:00\",\"2020-02-21T19:04:32.434902-08:00\",\"2020-02-21T18:58:32.435145-08:00\",\"2020-02-21T18:53:32.435361-08:00\",\"2020-02-21T18:46:32.435615-08:00\",\"2020-02-21T18:59:32.435842-08:00\",\"2020-02-21T18:45:32.436132-08:00\"],\"y\":[{\"CliXml\":\"<Objs Version=\\\"1.1.0.1\\\" xmlns=\\\"http://schemas.microsoft.com/powershell/2004/04\\\">\\n  <I32>35</I32>\\n</Objs>\"},{\"CliXml\":\"<Objs Version=\\\"1.1.0.1\\\" xmlns=\\\"http://schemas.microsoft.com/powershell/2004/04\\\">\\n  <I32>132</I32>\\n</Objs>\"},{\"CliXml\":\"<Objs Version=\\\"1.1.0.1\\\" xmlns=\\\"http://schemas.microsoft.com/powershell/2004/04\\\">\\n  <I32>57</I32>\\n</Objs>\"},{\"CliXml\":\"<Objs Version=\\\"1.1.0.1\\\" xmlns=\\\"http://schemas.microsoft.com/powershell/2004/04\\\">\\n  <I32>175</I32>\\n</Objs>\"},{\"CliXml\":\"<Objs Version=\\\"1.1.0.1\\\" xmlns=\\\"http://schemas.microsoft.com/powershell/2004/04\\\">\\n  <I32>55</I32>\\n</Objs>\"},{\"CliXml\":\"<Objs Version=\\\"1.1.0.1\\\" xmlns=\\\"http://schemas.microsoft.com/powershell/2004/04\\\">\\n  <I32>162</I32>\\n</Objs>\"},{\"CliXml\":\"<Objs Version=\\\"1.1.0.1\\\" xmlns=\\\"http://schemas.microsoft.com/powershell/2004/04\\\">\\n  <I32>103</I32>\\n</Objs>\"},{\"CliXml\":\"<Objs Version=\\\"1.1.0.1\\\" xmlns=\\\"http://schemas.microsoft.com/powershell/2004/04\\\">\\n  <I32>184</I32>\\n</Objs>\"},{\"CliXml\":\"<Objs Version=\\\"1.1.0.1\\\" xmlns=\\\"http://schemas.microsoft.com/powershell/2004/04\\\">\\n  <I32>128</I32>\\n</Objs>\"},{\"CliXml\":\"<Objs Version=\\\"1.1.0.1\\\" xmlns=\\\"http://schemas.microsoft.com/powershell/2004/04\\\">\\n  <I32>83</I32>\\n</Objs>\"},{\"CliXml\":\"<Objs Version=\\\"1.1.0.1\\\" xmlns=\\\"http://schemas.microsoft.com/powershell/2004/04\\\">\\n  <I32>128</I32>\\n</Objs>\"},{\"CliXml\":\"<Objs Version=\\\"1.1.0.1\\\" xmlns=\\\"http://schemas.microsoft.com/powershell/2004/04\\\">\\n  <I32>93</I32>\\n</Objs>\"},{\"CliXml\":\"<Objs Version=\\\"1.1.0.1\\\" xmlns=\\\"http://schemas.microsoft.com/powershell/2004/04\\\">\\n  <I32>23</I32>\\n</Objs>\"},{\"CliXml\":\"<Objs Version=\\\"1.1.0.1\\\" xmlns=\\\"http://schemas.microsoft.com/powershell/2004/04\\\">\\n  <I32>177</I32>\\n</Objs>\"},{\"CliXml\":\"<Objs Version=\\\"1.1.0.1\\\" xmlns=\\\"http://schemas.microsoft.com/powershell/2004/04\\\">\\n  <I32>131</I32>\\n</Objs>\"},{\"CliXml\":\"<Objs Version=\\\"1.1.0.1\\\" xmlns=\\\"http://schemas.microsoft.com/powershell/2004/04\\\">\\n  <I32>185</I32>\\n</Objs>\"},{\"CliXml\":\"<Objs Version=\\\"1.1.0.1\\\" xmlns=\\\"http://schemas.microsoft.com/powershell/2004/04\\\">\\n  <I32>79</I32>\\n</Objs>\"},{\"CliXml\":\"<Objs Version=\\\"1.1.0.1\\\" xmlns=\\\"http://schemas.microsoft.com/powershell/2004/04\\\">\\n  <I32>187</I32>\\n</Objs>\"},{\"CliXml\":\"<Objs Version=\\\"1.1.0.1\\\" xmlns=\\\"http://schemas.microsoft.com/powershell/2004/04\\\">\\n  <I32>96</I32>\\n</Objs>\"},{\"CliXml\":\"<Objs Version=\\\"1.1.0.1\\\" xmlns=\\\"http://schemas.microsoft.com/powershell/2004/04\\\">\\n  <I32>147</I32>\\n</Objs>\"}],\"histfunc\":\"sum\",\"name\":\"Close\"}];\n",
       "            var layout = {\"title\":\"\"};\n",
       "            Plotly.newPlot('4475e0d3-a5b6-4e8e-8754-e8cb779faf56', data, layout);\n",
       "        \n",
       "});\n",
       "};\n",
       "if ((typeof(requirejs) !==  typeof(Function)) || (typeof(requirejs.config) !== typeof(Function))) { \n",
       "    var script = document.createElement(\"script\"); \n",
       "    script.setAttribute(\"src\", \"https://cdnjs.cloudflare.com/ajax/libs/require.js/2.3.6/require.min.js\"); \n",
       "    script.onload = function(){\n",
       "        renderPlotly();\n",
       "    };\n",
       "    document.getElementsByTagName(\"head\")[0].appendChild(script); \n",
       "}\n",
       "else {\n",
       "    renderPlotly();\n",
       "}\n",
       "</script>\n"
      ]
     },
     "metadata": {},
     "output_type": "display_data"
    }
   ],
   "source": [
    "$openByTime.histfunc = \"sum\"\n",
    "$closeByTime.histfunc = \"sum\"\n",
    "\n",
    "New-PlotlyChart -Trace @($openByTime, $closeByTime) | Out-Display"
   ]
  },
  {
   "cell_type": "markdown",
   "metadata": {},
   "source": [
    "# Area chart and Polar Area chart"
   ]
  },
  {
   "cell_type": "markdown",
   "metadata": {},
   "source": [
    "By populating hte property `fill` of a `Scatter` trace the chart will render as area chart.\n",
    "\n",
    "Here is set to `\"tozeroy\"` which will create a fill zone underneath the line reachin to the 0 of the y axis."
   ]
  },
  {
   "cell_type": "code",
   "execution_count": 10,
   "metadata": {},
   "outputs": [
    {
     "data": {
      "text/html": [
       "<div id=\"beb9a282-604e-47d0-a6dc-31afa45d28ca\" style=\"width: 900px; height: 500px;\"></div>\n",
       "<script type=\"text/javascript\">\n",
       "\n",
       "var renderPlotly = function() {\n",
       "    var xplotRequire = requirejs.config({context:'xplot-3.0.1',paths:{plotly:'https://cdn.plot.ly/plotly-1.49.2.min'}});\n",
       "    xplotRequire(['plotly'], function(Plotly) {\n",
       "\n",
       "            var data = [{\"type\":\"scatter\",\"x\":[1,2,3,4],\"y\":[10,15,13,17],\"mode\":\"lines\",\"fill\":\"tozeroy\",\"name\":\"Open\"},{\"type\":\"scatter\",\"x\":[1,2,3,4],\"y\":[3,5,11,9],\"mode\":\"lines\",\"fill\":\"tozeroy\",\"name\":\"Close\"}];\n",
       "            var layout = {\"title\":\"Open vs Close\"};\n",
       "            Plotly.newPlot('beb9a282-604e-47d0-a6dc-31afa45d28ca', data, layout);\n",
       "        \n",
       "});\n",
       "};\n",
       "if ((typeof(requirejs) !==  typeof(Function)) || (typeof(requirejs.config) !== typeof(Function))) { \n",
       "    var script = document.createElement(\"script\"); \n",
       "    script.setAttribute(\"src\", \"https://cdnjs.cloudflare.com/ajax/libs/require.js/2.3.6/require.min.js\"); \n",
       "    script.onload = function(){\n",
       "        renderPlotly();\n",
       "    };\n",
       "    document.getElementsByTagName(\"head\")[0].appendChild(script); \n",
       "}\n",
       "else {\n",
       "    renderPlotly();\n",
       "}\n",
       "</script>\n"
      ]
     },
     "metadata": {},
     "output_type": "display_data"
    }
   ],
   "source": [
    "$openSeries = New-PlotlyTrace -TraceType Scatter -Name Open\n",
    "$openSeries.x = @(1, 2, 3, 4)\n",
    "$openSeries.y = @(10, 15, 13, 17)\n",
    "$openSeries.fill = \"tozeroy\"\n",
    "$openSeries.mode = \"lines\"\n",
    "\n",
    "$closeSeries = New-PlotlyTrace -TraceType Scatter -Name Close\n",
    "$closeSeries.x = @(1, 2, 3, 4)\n",
    "$closeSeries.y = @(3, 5, 11, 9)\n",
    "$closeSeries.fill = \"tozeroy\"\n",
    "$closeSeries.mode = \"lines\"\n",
    "\n",
    "$chart = @($openSeries, $closeSeries) | New-PlotlyChart -Title \"Open vs Close\"\n",
    "Out-Display $chart"
   ]
  },
  {
   "cell_type": "markdown",
   "metadata": {},
   "source": [
    "With one `fill` set to `\"tonexty\"` the cahrt will fill the aread between traces."
   ]
  },
  {
   "cell_type": "code",
   "execution_count": 11,
   "metadata": {},
   "outputs": [
    {
     "data": {
      "text/html": [
       "<div id=\"b3157291-fd4d-4589-9951-2020e4745c43\" style=\"width: 900px; height: 500px;\"></div>\n",
       "<script type=\"text/javascript\">\n",
       "\n",
       "var renderPlotly = function() {\n",
       "    var xplotRequire = requirejs.config({context:'xplot-3.0.1',paths:{plotly:'https://cdn.plot.ly/plotly-1.49.2.min'}});\n",
       "    xplotRequire(['plotly'], function(Plotly) {\n",
       "\n",
       "            var data = [{\"type\":\"scatter\",\"x\":[1,2,3,4],\"y\":[10,15,13,17],\"mode\":\"lines\",\"fill\":null,\"name\":\"Open\"},{\"type\":\"scatter\",\"x\":[1,2,3,4],\"y\":[3,5,11,9],\"mode\":\"lines\",\"fill\":\"tonexty\",\"name\":\"Close\"}];\n",
       "            var layout = {\"title\":\"Open vs Close\"};\n",
       "            Plotly.newPlot('b3157291-fd4d-4589-9951-2020e4745c43', data, layout);\n",
       "        \n",
       "});\n",
       "};\n",
       "if ((typeof(requirejs) !==  typeof(Function)) || (typeof(requirejs.config) !== typeof(Function))) { \n",
       "    var script = document.createElement(\"script\"); \n",
       "    script.setAttribute(\"src\", \"https://cdnjs.cloudflare.com/ajax/libs/require.js/2.3.6/require.min.js\"); \n",
       "    script.onload = function(){\n",
       "        renderPlotly();\n",
       "    };\n",
       "    document.getElementsByTagName(\"head\")[0].appendChild(script); \n",
       "}\n",
       "else {\n",
       "    renderPlotly();\n",
       "}\n",
       "</script>\n"
      ]
     },
     "metadata": {},
     "output_type": "display_data"
    }
   ],
   "source": [
    "$openSeries.fill = $null;\n",
    "$closeSeries.fill = \"tonexty\";\n",
    "\n",
    "$chart = @($openSeries, $closeSeries) | New-PlotlyChart -Title \"Open vs Close\"\n",
    "Out-Display $chart"
   ]
  },
  {
   "cell_type": "markdown",
   "metadata": {},
   "source": [
    "Using `Area` traces we can generate radial area chart. In this example we are using cardinal points to xpress angular values.\n",
    "The array `{\"North\", \"N-E\", \"East\", \"S-E\", \"South\", \"S-W\", \"West\", \"N-W\"}` will be autoimatically translated to angular values."
   ]
  },
  {
   "cell_type": "code",
   "execution_count": 12,
   "metadata": {},
   "outputs": [
    {
     "data": {
      "text/html": [
       "<div id=\"9b3d3e1b-74ed-42c7-8dad-b94b7cd351c3\" style=\"width: 900px; height: 500px;\"></div>\n",
       "<script type=\"text/javascript\">\n",
       "\n",
       "var renderPlotly = function() {\n",
       "    var xplotRequire = requirejs.config({context:'xplot-3.0.1',paths:{plotly:'https://cdn.plot.ly/plotly-1.49.2.min'}});\n",
       "    xplotRequire(['plotly'], function(Plotly) {\n",
       "\n",
       "            var data = [{\"type\":\"area\",\"r\":[77.5,72.5,70.0,45.0,22.5,42.5,40.0,62.5],\"t\":[\"North\",\"N-E\",\"East\",\"S-E\",\"South\",\"S-W\",\"West\",\"N-W\"],\"marker\":{\"color\":\"rgb(106,81,163)\"},\"name\":\"11-14 m/s\"},{\"type\":\"area\",\"r\":[57.49999999999999,50.0,45.0,35.0,20.0,22.5,37.5,55.00000000000001],\"t\":[\"North\",\"N-E\",\"East\",\"S-E\",\"South\",\"S-W\",\"West\",\"N-W\"],\"marker\":{\"color\":\"rgb(158,154,200)\"},\"name\":\"8-11 m/s\"},{\"type\":\"area\",\"r\":[40.0,30.0,30.0,35.0,7.5,7.5,32.5,40.0],\"t\":[\"North\",\"N-E\",\"East\",\"S-E\",\"South\",\"S-W\",\"West\",\"N-W\"],\"marker\":{\"color\":\"rgb(203,201,226)\"},\"name\":\"5-8 m/s\"},{\"type\":\"area\",\"r\":[20.0,7.5,15.0,22.5,2.5,2.5,12.5,22.5],\"t\":[\"North\",\"N-E\",\"East\",\"S-E\",\"South\",\"S-W\",\"West\",\"N-W\"],\"marker\":{\"color\":\"rgb(242,240,247)\"},\"name\":\"< 5 m/s\"}];\n",
       "            var layout = {\"font\":{\"size\":16.0},\"title\":\"Wind Speed Distribution in Laurel, NE\",\"legend\":{\"font\":{\"size\":16.0}},\"radialaxis\":{\"ticksuffix\":\"%\"},\"orientation\":270.0};\n",
       "            Plotly.newPlot('9b3d3e1b-74ed-42c7-8dad-b94b7cd351c3', data, layout);\n",
       "        \n",
       "});\n",
       "};\n",
       "if ((typeof(requirejs) !==  typeof(Function)) || (typeof(requirejs.config) !== typeof(Function))) { \n",
       "    var script = document.createElement(\"script\"); \n",
       "    script.setAttribute(\"src\", \"https://cdnjs.cloudflare.com/ajax/libs/require.js/2.3.6/require.min.js\"); \n",
       "    script.onload = function(){\n",
       "        renderPlotly();\n",
       "    };\n",
       "    document.getElementsByTagName(\"head\")[0].appendChild(script); \n",
       "}\n",
       "else {\n",
       "    renderPlotly();\n",
       "}\n",
       "</script>\n"
      ]
     },
     "metadata": {},
     "output_type": "display_data"
    }
   ],
   "source": [
    "$areaTrace1 = New-PlotlyTrace -TraceType Area\n",
    "$areaTrace1.r = @(77.5, 72.5, 70.0, 45.0, 22.5, 42.5, 40.0, 62.5)\n",
    "$areaTrace1.t = @(\"North\", \"N-E\", \"East\", \"S-E\", \"South\", \"S-W\", \"West\", \"N-W\")\n",
    "$areaTrace1.name = \"11-14 m/s\"\n",
    "$areaTrace1.marker = New-PlotlyObject -ObjectType Marker\n",
    "$areaTrace1.marker.color = \"rgb(106,81,163)\"\n",
    "\n",
    "$areaTrace2 = New-PlotlyTrace -TraceType Area\n",
    "$areaTrace2.r = @(57.49999999999999, 50.0, 45.0, 35.0, 20.0, 22.5, 37.5, 55.00000000000001)\n",
    "$areaTrace2.t = @(\"North\", \"N-E\", \"East\", \"S-E\", \"South\", \"S-W\", \"West\", \"N-W\")\n",
    "$areaTrace2.name = \"8-11 m/s\"\n",
    "$areaTrace2.marker = New-PlotlyObject -ObjectType Marker\n",
    "$areaTrace2.marker.color = \"rgb(158,154,200)\"\n",
    "\n",
    "$areaTrace3 = New-PlotlyTrace -TraceType Area\n",
    "$areaTrace3.r = @(40.0, 30.0, 30.0, 35.0, 7.5, 7.5, 32.5, 40.0)\n",
    "$areaTrace3.t = @(\"North\", \"N-E\", \"East\", \"S-E\", \"South\", \"S-W\", \"West\", \"N-W\")\n",
    "$areaTrace3.name = \"5-8 m/s\"\n",
    "$areaTrace3.marker = New-PlotlyObject -ObjectType Marker\n",
    "$areaTrace3.marker.color = \"rgb(203,201,226)\"\n",
    "\n",
    "$areaTrace4 = New-PlotlyTrace -TraceType Area\n",
    "$areaTrace4.r = @(20.0, 7.5, 15.0, 22.5, 2.5, 2.5, 12.5, 22.5)\n",
    "$areaTrace4.t = @(\"North\", \"N-E\", \"East\", \"S-E\", \"South\", \"S-W\", \"West\", \"N-W\")\n",
    "$areaTrace4.name = \"< 5 m/s\"\n",
    "$areaTrace4.marker = New-PlotlyObject -ObjectType Marker\n",
    "$areaTrace4.marker.color = \"rgb(242,240,247)\"\n",
    "\n",
    "$areaLayout = New-PlotlyLayout -Title \"Wind Speed Distribution in Laurel, NE\"\n",
    "$areaLayout.font = New-PlotlyObject -ObjectType Font\n",
    "$areaLayout.font.size = 16\n",
    "$areaLayout.legend = New-PlotlyObject -ObjectType Legend\n",
    "$areaLayout.legend.font = New-PlotlyObject -ObjectType Font\n",
    "$areaLayout.legend.font.size = 16\n",
    "$areaLayout.radialaxis = New-PlotlyObject -ObjectType Radialaxis\n",
    "$areaLayout.radialaxis.ticksuffix = \"%\"\n",
    "$areaLayout.orientation = 270\n",
    "\n",
    "New-PlotlyChart -Layout $areaLayout -Trace @($areaTrace1, $areaTrace2, $areaTrace3, $areaTrace4) | Out-Display"
   ]
  },
  {
   "cell_type": "code",
   "execution_count": null,
   "metadata": {},
   "outputs": [],
   "source": []
  }
 ],
 "metadata": {
  "kernelspec": {
   "display_name": ".NET (PowerShell)",
   "language": "PowerShell",
   "name": ".net-powershell"
  },
  "language_info": {
   "file_extension": ".ps1",
   "mimetype": "text/x-powershell",
   "name": "PowerShell",
   "pygments_lexer": "powershell",
   "version": "7.0"
  }
 },
 "nbformat": 4,
 "nbformat_minor": 4
}
