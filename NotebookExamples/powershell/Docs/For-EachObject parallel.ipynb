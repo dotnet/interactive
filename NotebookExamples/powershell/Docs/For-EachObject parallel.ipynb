{
 "cells": [
  {
   "cell_type": "markdown",
   "metadata": {},
   "source": [
    "# Using For-EachObject -Parallel in PowerShell 7"
   ]
  },
  {
   "cell_type": "markdown",
   "metadata": {},
   "source": [
    "If you are a PowerShell user you are likely already familiar with the For-EachObject command.\n",
    "In the past you have used it with the -Proccess parameter."
   ]
  },
  {
   "cell_type": "code",
   "execution_count": null,
   "metadata": {},
   "outputs": [],
   "source": [
    "1..5 | ForEach-Object -Process {write-output \"This is number $_\"; sleep 1}"
   ]
  },
  {
   "cell_type": "code",
   "execution_count": null,
   "metadata": {},
   "outputs": [],
   "source": [
    "(Measure-Command { \n",
    "    1..5 | ForEach-Object -Process {write-output \"This is number $_\"; sleep 1}\n",
    "    }).Seconds"
   ]
  },
  {
   "cell_type": "markdown",
   "metadata": {},
   "source": [
    "However, with the introduction of the -Parallel paramter in PowerShell 7 we can improve the performance of this command."
   ]
  },
  {
   "cell_type": "code",
   "execution_count": null,
   "metadata": {},
   "outputs": [],
   "source": [
    "(Measure-Command { \n",
    "    1..5 | ForEach-Object -Parallel {write-output \"This is number $_\"; sleep 1}\n",
    "    }).Seconds"
   ]
  },
  {
   "cell_type": "markdown",
   "metadata": {},
   "source": [
    "While this may seem trivial in the example above, you can begin applying this to larger tasks. "
   ]
  },
  {
   "cell_type": "code",
   "execution_count": null,
   "metadata": {
    "scrolled": true
   },
   "outputs": [],
   "source": [
    "function test-logWin2 {\n",
    "    $logs = @(\n",
    "                'System',\n",
    "                'Application',\n",
    "                'PowerShellCore/Operational',\n",
    "                'Windows PowerShell',\n",
    "                'Microsoft-Windows-PowerShell/Operational'\n",
    "    ) \n",
    "    Measure-Command -Expression {\n",
    "        $Logs | foreach-object -throttlelimit 3 -parallel { \n",
    "            get-winevent -logname $_ | add-content -path \"c:\\dump\\Log_$($_.Replace('/','-')).log\";          \n",
    "        } \n",
    "    } | Select-Object -Property Minutes, Seconds\n",
    "}\n",
    "test-logWin2"
   ]
  }
 ],
 "metadata": {
  "kernelspec": {
   "display_name": ".NET (PowerShell)",
   "language": "PowerShell",
   "name": ".net-powershell"
  },
  "language_info": {
   "file_extension": ".ps1",
   "mimetype": "text/x-powershell",
   "name": "PowerShell",
   "pygments_lexer": "powershell",
   "version": "7.0"
  }
 },
 "nbformat": 4,
 "nbformat_minor": 2
}
