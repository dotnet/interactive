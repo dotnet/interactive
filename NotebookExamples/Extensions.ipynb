{
 "cells": [
  {
   "cell_type": "code",
   "execution_count": 1,
   "metadata": {},
   "outputs": [
    {
     "data": {
      "text/html": [
       "\r\n",
       "<div>\r\n",
       "    <div id='dotnet-interactive-this-cell-50421' style='display: none'>\r\n",
       "        The below script needs to be able to find the current output cell; this is an easy method to get it.\r\n",
       "    </div>\r\n",
       "    <script type='text/javascript'>\r\n",
       "// ensure `requirejs` is available globally\r\n",
       "if (typeof requirejs !== typeof Function || typeof requirejs.config !== typeof Function) {\r\n",
       "    let requirejs_script = document.createElement('script');\r\n",
       "    requirejs_script.setAttribute('src', 'https://cdnjs.cloudflare.com/ajax/libs/require.js/2.3.6/require.min.js');\r\n",
       "    requirejs_script.setAttribute('type', 'text/javascript');\r\n",
       "    requirejs_script.onload = function () {\r\n",
       "        loadDotnetInteractiveApi();\r\n",
       "    };\r\n",
       "\r\n",
       "    document.getElementsByTagName('head')[0].appendChild(requirejs_script);\r\n",
       "}\r\n",
       "else {\r\n",
       "    loadDotnetInteractiveApi();\r\n",
       "}\r\n",
       "\r\n",
       "async function probeAddresses(probingAddresses) {\r\n",
       "    function timeout(ms, promise) {\r\n",
       "        return new Promise(function (resolve, reject) {\r\n",
       "            setTimeout(function () {\r\n",
       "                reject(new Error('timeout'))\r\n",
       "            }, ms)\r\n",
       "            promise.then(resolve, reject)\r\n",
       "        })\r\n",
       "    }\r\n",
       "\r\n",
       "    if (Array.isArray(probingAddresses)) {\r\n",
       "        for (let i = 0; i < probingAddresses.length; i++) {\r\n",
       "\r\n",
       "            let rootUrl = probingAddresses[i];\r\n",
       "\r\n",
       "            if (!rootUrl.endsWith('/')) {\r\n",
       "                rootUrl = `${rootUrl}/`;\r\n",
       "            }\r\n",
       "\r\n",
       "            try {\r\n",
       "                let response = await timeout(1000, fetch(`${rootUrl}discovery`, {\r\n",
       "                    method: 'POST',\r\n",
       "                    timeout: 1000,\r\n",
       "                    headers: {\r\n",
       "                        'Content-Type': 'text/plain'\r\n",
       "                    },\r\n",
       "                    body: probingAddresses[i]\r\n",
       "                }));\r\n",
       "\r\n",
       "                if (response.status == 200) {\r\n",
       "                    return rootUrl;\r\n",
       "                }\r\n",
       "            }\r\n",
       "            catch (e) { }\r\n",
       "        }\r\n",
       "    }\r\n",
       "}\r\n",
       "\r\n",
       "function loadDotnetInteractiveApi() {\r\n",
       "    probeAddresses([\"http://192.168.1.7:50421/\", \"http://192.168.15.1:50421/\", \"http://127.0.0.1:50421/\"])\r\n",
       "        .then((root) => {\r\n",
       "            // use probing to find host url and api resources\r\n",
       "            // load interactive helpers and language services\r\n",
       "            let dotnet_require = requirejs.config({\r\n",
       "                context: '38296.50421',\r\n",
       "                paths: {\r\n",
       "                    'dotnet-interactive': `${root}resources`\r\n",
       "                }\r\n",
       "            });\r\n",
       "            if (!window.dotnet_require) {\r\n",
       "                window.dotnet_require = dotnet_require;\r\n",
       "            }\r\n",
       "        \r\n",
       "            dotnet_require([\r\n",
       "                    'dotnet-interactive/dotnet-interactive',\r\n",
       "                    'dotnet-interactive/lsp',\r\n",
       "                    'dotnet-interactive/editor-detection'\r\n",
       "                ],\r\n",
       "                function (dotnet, lsp, editor) {\r\n",
       "                    dotnet.init(window);\r\n",
       "                    \r\n",
       "                },\r\n",
       "                function (error) {\r\n",
       "                    console.log(error);\r\n",
       "                }\r\n",
       "            );\r\n",
       "        })\r\n",
       "        .catch(error => {console.log(error);});\r\n",
       "    }\r\n",
       "    </script>\r\n",
       "</div>"
      ]
     },
     "metadata": {},
     "output_type": "display_data"
    },
    {
     "name": "stdin",
     "output_type": "stream",
     "text": [
      "What is the path to your dotnet/interactive repo?:  c:\\dev\\interactive\n"
     ]
    },
    {
     "name": "stdout",
     "output_type": "stream",
     "text": [
      "\n",
      "\n",
      "    Directory: C:\\dev\\interactive\\samples\\extensions\\ClockExtension\n",
      "\n",
      "Mode                 LastWriteTime         Length Name\n",
      "----                 -------------         ------ ----\n",
      "-a---           2/27/2020 12:25 PM            902 ClockExtension.csproj\n",
      "-a---           2/28/2020  4:53 PM           2191 ClockKernelExtension.cs\n",
      "-a---           2/23/2020 12:59 PM           5172 SvgClock.cs\n",
      "\n"
     ]
    }
   ],
   "source": [
    "#!pwsh\n",
    "\n",
    "$clockExtensionDir = Join-Path -Path (Read-Host -Prompt \"What is the path to your dotnet/interactive repo?\") -ChildPath \"\\samples\\extensions\\ClockExtension\"\n",
    "cd $clockExtensionDir\n",
    "Get-ChildItem #| ConvertTo-Json | Out-Display -MimeType \"application/json\""
   ]
  },
  {
   "cell_type": "code",
   "execution_count": 2,
   "metadata": {},
   "outputs": [
    {
     "name": "stdout",
     "output_type": "stream",
     "text": [
      "Microsoft (R) Build Engine version 16.6.0-preview-20162-03+00781ad13 for .NET Core\n",
      "Copyright (C) Microsoft Corporation. All rights reserved.\n",
      "\n",
      "  Determining projects to restore...\n",
      "  Restored C:\\dev\\interactive\\samples\\extensions\\ClockExtension\\ClockExtension.csproj (in 1.74 sec).\n",
      "  You are using a preview version of .NET Core. See: https://aka.ms/dotnet-core-preview\n",
      "  ClockExtension -> C:\\dev\\interactive\\samples\\extensions\\ClockExtension\\bin\\Debug\\netcoreapp3.1\\ClockExtension.dll\n",
      "\n",
      "Build succeeded.\n",
      "    0 Warning(s)\n",
      "    0 Error(s)\n",
      "\n",
      "Time Elapsed 00:00:05.49\n",
      "Microsoft (R) Build Engine version 16.6.0-preview-20162-03+00781ad13 for .NET Core\n",
      "Copyright (C) Microsoft Corporation. All rights reserved.\n",
      "\n",
      "  Determining projects to restore...\n",
      "  Restored C:\\dev\\interactive\\samples\\extensions\\ClockExtension\\ClockExtension.csproj (in 455 ms).\n",
      "  You are using a preview version of .NET Core. See: https://aka.ms/dotnet-core-preview\n",
      "  ClockExtension -> C:\\dev\\interactive\\samples\\extensions\\ClockExtension\\bin\\Debug\\netcoreapp3.1\\ClockExtension.dll\n",
      "  Successfully created package 'C:\\dev\\interactive\\samples\\extensions\\ClockExtension\\bin\\Debug\\ClockExtension.1.2.8.nupkg'.\n",
      "C:\\Program Files\\dotnet\\sdk\\3.1.300-preview-015095\\Sdks\\NuGet.Build.Tasks.Pack\\build\\NuGet.Build.Tasks.Pack.targets(198,5): warning NU5100: The assembly 'interactive-extensions\\dotnet\\ClockExtension.dll' is not inside the 'lib' folder and hence it won't be added as a reference when the package is installed into a project. Move it into the 'lib' folder if it needs to be referenced. [C:\\dev\\interactive\\samples\\extensions\\ClockExtension\\ClockExtension.csproj]\n",
      "C:\\Program Files\\dotnet\\sdk\\3.1.300-preview-015095\\Sdks\\NuGet.Build.Tasks.Pack\\build\\NuGet.Build.Tasks.Pack.targets(198,5): warning NU5104: A stable release of a package should not have a prerelease dependency. Either modify the version spec of dependency \"microsoft.dotnet.interactive [1.0.0-beta.20111.6, )\" or update the version field in the nuspec. [C:\\dev\\interactive\\samples\\extensions\\ClockExtension\\ClockExtension.csproj]\n",
      "\n",
      "\n",
      "    Directory: C:\\dev\\interactive\\samples\\extensions\\ClockExtension\\bin\\Debug\n",
      "\n",
      "Mode                 LastWriteTime         Length Name\n",
      "----                 -------------         ------ ----\n",
      "-a---           4/21/2020  9:51 AM          17200 ClockExtension.1.2.8.nupkg\n",
      "\n"
     ]
    },
    {
     "data": {
      "text/plain": [
       "Wall time: 10121.251ms"
      ]
     },
     "metadata": {},
     "output_type": "display_data"
    }
   ],
   "source": [
    "#!pwsh\n",
    "#!time\n",
    "dotnet build\n",
    "dotnet pack /p:PackageVersion=1.2.8\n",
    "Get-ChildItem -Recurse *.nupkg"
   ]
  },
  {
   "cell_type": "code",
   "execution_count": 3,
   "metadata": {},
   "outputs": [
    {
     "data": {
      "text/html": [
       "<div><strong>Restore sources</strong><ul><li><span>C:\\dev\\interactive\\samples\\extensions\\ClockExtension\\bin\\Debug\\</span></li></ul></div>"
      ]
     },
     "metadata": {},
     "output_type": "display_data"
    },
    {
     "data": {
      "text/plain": [
       "Installed package clockextension version 1.2.8"
      ]
     },
     "metadata": {},
     "output_type": "display_data"
    },
    {
     "data": {
      "text/plain": [
       "Loaded kernel extension \"ClockKernelExtension\" from assembly C:\\Users\\josequ\\.nuget\\packages\\clockextension\\1.2.8\\interactive-extensions\\dotnet\\ClockExtension.dll"
      ]
     },
     "metadata": {},
     "output_type": "display_data"
    },
    {
     "data": {
      "text/markdown": [
       "`ClockExtension` is loaded. It adds visualizations for `System.DateTime` and `System.DateTimeOffset`. Try it by running: `display(DateTime.Now);` or `#!clock -h`"
      ]
     },
     "metadata": {},
     "output_type": "display_data"
    }
   ],
   "source": [
    "#i nuget:C:\\dev\\interactive\\samples\\extensions\\ClockExtension\\bin\\Debug\\\n",
    "#r nuget:clockextension"
   ]
  },
  {
   "cell_type": "code",
   "execution_count": 4,
   "metadata": {},
   "outputs": [
    {
     "data": {
      "text/html": [
       "<div id=\"clockExtension63311d4c067f46b6bf7df55bb40cfed1\"><svg viewBox=\"0 0 40 40\"><defs><radialGradient cx=\"50%\" cy=\"50%\" fx=\"50%\" fy=\"50%\" id=\"grad1\" r=\"50%\"><stop offset=\"0%\" style=\"stop-color:#512bd4;stop-opacity:0\"></stop><stop offset=\"100%\" style=\"stop-color:#512bd4;stop-opacity:.5\"></stop></radialGradient></defs><circle cx=\"20\" cy=\"20\" fill=\"url(#grad1)\" r=\"19\"></circle><g class=\"marks\"><line x1=\"15\" x2=\"16\" y1=\"0\" y2=\"0\"></line><line x1=\"15\" x2=\"16\" y1=\"0\" y2=\"0\"></line><line x1=\"15\" x2=\"16\" y1=\"0\" y2=\"0\"></line><line x1=\"15\" x2=\"16\" y1=\"0\" y2=\"0\"></line><line x1=\"15\" x2=\"16\" y1=\"0\" y2=\"0\"></line><line x1=\"15\" x2=\"16\" y1=\"0\" y2=\"0\"></line><line x1=\"15\" x2=\"16\" y1=\"0\" y2=\"0\"></line><line x1=\"15\" x2=\"16\" y1=\"0\" y2=\"0\"></line><line x1=\"15\" x2=\"16\" y1=\"0\" y2=\"0\"></line><line x1=\"15\" x2=\"16\" y1=\"0\" y2=\"0\"></line><line x1=\"15\" x2=\"16\" y1=\"0\" y2=\"0\"></line><line x1=\"15\" x2=\"16\" y1=\"0\" y2=\"0\"></line></g><text class=\"text\" x=\"0\" y=\"0\">.NET Interactive</text><line class=\"hour\" x1=\"0\" x2=\"9\" y1=\"0\" y2=\"0\"></line><line class=\"minute\" x1=\"0\" x2=\"13\" y1=\"0\" y2=\"0\"></line><line class=\"seconds\" x1=\"0\" x2=\"16\" y1=\"0\" y2=\"0\"></line><circle class=\"pin\" cx=\"20\" cy=\"20\" r=\"0.7\"></circle></svg><style type=\"text/css\">\r\n",
       "html {\r\n",
       "  background: #dedede !important;\r\n",
       "}\r\n",
       "#clockExtension63311d4c067f46b6bf7df55bb40cfed1 svg {\r\n",
       "  width: 400px;\r\n",
       "  fill: white;\r\n",
       "  stroke: black;\r\n",
       "  stroke-width: 1;\r\n",
       "  stroke-linecap: round;\r\n",
       "  transform: rotate(-90deg);\r\n",
       "  --start-seconds: 51;\r\n",
       "  --start-minutes: 51;\r\n",
       "  --start-hours: 4;\r\n",
       "}\r\n",
       "\r\n",
       "#clockExtension63311d4c067f46b6bf7df55bb40cfed1 .marks {\r\n",
       "  transform: translate(20px, 20px);\r\n",
       "  stroke-width: 0.2;\r\n",
       "}\r\n",
       "#clockExtension63311d4c067f46b6bf7df55bb40cfed1 .marks > line:nth-child(1) {\r\n",
       "  transform: rotate(30deg); \r\n",
       "}\r\n",
       "#clockExtension63311d4c067f46b6bf7df55bb40cfed1 .marks > line:nth-child(2) {\r\n",
       "  transform: rotate(calc(2 * 30deg));\r\n",
       "}\r\n",
       "#clockExtension63311d4c067f46b6bf7df55bb40cfed1 .marks > line:nth-child(3) {\r\n",
       "  transform: rotate(calc(3 * 30deg));\r\n",
       "  stroke-width: 0.5;\r\n",
       "}\r\n",
       "#clockExtension63311d4c067f46b6bf7df55bb40cfed1 .marks > line:nth-child(4) {\r\n",
       "  transform: rotate(calc(4 * 30deg));\r\n",
       "}\r\n",
       "#clockExtension63311d4c067f46b6bf7df55bb40cfed1 .marks > line:nth-child(5) {\r\n",
       "  transform: rotate(calc(5 * 30deg));\r\n",
       "}\r\n",
       "#clockExtension63311d4c067f46b6bf7df55bb40cfed1 .marks > line:nth-child(6) {\r\n",
       "  transform: rotate(calc(6 * 30deg));\r\n",
       "  stroke-width: 0.5;\r\n",
       "}\r\n",
       "#clockExtension63311d4c067f46b6bf7df55bb40cfed1 .marks > line:nth-child(7) {\r\n",
       "  transform: rotate(calc(7 * 30deg));\r\n",
       "}\r\n",
       "#clockExtension63311d4c067f46b6bf7df55bb40cfed1 .marks > line:nth-child(8) {\r\n",
       "  transform: rotate(calc(8 * 30deg));\r\n",
       "}\r\n",
       "#clockExtension63311d4c067f46b6bf7df55bb40cfed1 .marks > line:nth-child(9) {\r\n",
       "  transform: rotate(calc(9 * 30deg));\r\n",
       "  stroke-width: 0.5;\r\n",
       "}\r\n",
       "#clockExtension63311d4c067f46b6bf7df55bb40cfed1 .marks > line:nth-child(10) {\r\n",
       "  transform: rotate(calc(10 * 30deg));\r\n",
       "}\r\n",
       "#clockExtension63311d4c067f46b6bf7df55bb40cfed1 .marks > line:nth-child(11) {\r\n",
       "  transform: rotate(calc(11 * 30deg));\r\n",
       "}\r\n",
       "#clockExtension63311d4c067f46b6bf7df55bb40cfed1 .marks > line:nth-child(12) {\r\n",
       "  transform: rotate(calc(12 * 30deg));\r\n",
       "  stroke-width: 0.5;\r\n",
       "}\r\n",
       "#clockExtension63311d4c067f46b6bf7df55bb40cfed1 .seconds,\r\n",
       "#clockExtension63311d4c067f46b6bf7df55bb40cfed1 .minute,\r\n",
       "#clockExtension63311d4c067f46b6bf7df55bb40cfed1 .hour\r\n",
       "{\r\n",
       "  transform: translate(20px, 20px) rotate(0deg);\r\n",
       "}\r\n",
       "#clockExtension63311d4c067f46b6bf7df55bb40cfed1 .seconds {\r\n",
       "  stroke-width: 0.3;\r\n",
       "  stroke: #d00505;\r\n",
       "  transform: translate(20px, 20px) rotate(calc(var(--start-seconds) * 6deg));\r\n",
       "\r\n",
       "}\r\n",
       "#clockExtension63311d4c067f46b6bf7df55bb40cfed1 .minute {\r\n",
       "  stroke-width: 0.6;\r\n",
       "  transform: translate(20px, 20px) rotate(calc(var(--start-minutes) * 6deg));\r\n",
       "}\r\n",
       "#clockExtension63311d4c067f46b6bf7df55bb40cfed1 .hour {\r\n",
       "  stroke: #512bd4;\r\n",
       "  stroke-width: 1;\r\n",
       "  transform: translate(20px, 20px) rotate(calc(var(--start-hours) * 30deg));\r\n",
       "}\r\n",
       "#clockExtension63311d4c067f46b6bf7df55bb40cfed1 .pin {\r\n",
       "  stroke: #d00505;\r\n",
       "  stroke-width: 0.2;\r\n",
       "}\r\n",
       "#clockExtension63311d4c067f46b6bf7df55bb40cfed1 .text {\r\n",
       "  font-size: 2px;\r\n",
       "  font-family: \"Segoe UI\",Helvetica,Arial,sans-serif;\r\n",
       "  transform: rotate(90deg) translate(13.5px, -12px);\r\n",
       "  fill: #512bd4;\r\n",
       "  stroke: none;\r\n",
       "}</style><script>\r\n",
       "let svg = document.querySelector(&#39;svg&#39;);\r\n",
       "</script></div>"
      ]
     },
     "execution_count": 4,
     "metadata": {},
     "output_type": "execute_result"
    }
   ],
   "source": [
    "DateTime.UtcNow"
   ]
  },
  {
   "cell_type": "code",
   "execution_count": 5,
   "metadata": {},
   "outputs": [
    {
     "name": "stdout",
     "output_type": "stream",
     "text": [
      "#!clock:\n",
      "  Displays a clock showing the current or specified time.\n",
      "\n",
      "Usage:\n",
      "  #!clock [options]\n",
      "\n",
      "Options:\n",
      "  --hour, -o <o>      The position of the hour hand\n",
      "  -m, --minute <m>    The position of the minute hand\n",
      "  -s, --second <s>    The position of the second hand\n",
      "  -?, -h, --help      Show help and usage information\n",
      "\n"
     ]
    }
   ],
   "source": [
    "#!clock -h"
   ]
  },
  {
   "cell_type": "code",
   "execution_count": 6,
   "metadata": {},
   "outputs": [
    {
     "data": {
      "text/html": [
       "<div id=\"clockExtensiond1e3505a4bef42c59b269d61f3bebb8a\"><svg viewBox=\"0 0 40 40\"><defs><radialGradient cx=\"50%\" cy=\"50%\" fx=\"50%\" fy=\"50%\" id=\"grad1\" r=\"50%\"><stop offset=\"0%\" style=\"stop-color:#512bd4;stop-opacity:0\"></stop><stop offset=\"100%\" style=\"stop-color:#512bd4;stop-opacity:.5\"></stop></radialGradient></defs><circle cx=\"20\" cy=\"20\" fill=\"url(#grad1)\" r=\"19\"></circle><g class=\"marks\"><line x1=\"15\" x2=\"16\" y1=\"0\" y2=\"0\"></line><line x1=\"15\" x2=\"16\" y1=\"0\" y2=\"0\"></line><line x1=\"15\" x2=\"16\" y1=\"0\" y2=\"0\"></line><line x1=\"15\" x2=\"16\" y1=\"0\" y2=\"0\"></line><line x1=\"15\" x2=\"16\" y1=\"0\" y2=\"0\"></line><line x1=\"15\" x2=\"16\" y1=\"0\" y2=\"0\"></line><line x1=\"15\" x2=\"16\" y1=\"0\" y2=\"0\"></line><line x1=\"15\" x2=\"16\" y1=\"0\" y2=\"0\"></line><line x1=\"15\" x2=\"16\" y1=\"0\" y2=\"0\"></line><line x1=\"15\" x2=\"16\" y1=\"0\" y2=\"0\"></line><line x1=\"15\" x2=\"16\" y1=\"0\" y2=\"0\"></line><line x1=\"15\" x2=\"16\" y1=\"0\" y2=\"0\"></line></g><text class=\"text\" x=\"0\" y=\"0\">.NET Interactive</text><line class=\"hour\" x1=\"0\" x2=\"9\" y1=\"0\" y2=\"0\"></line><line class=\"minute\" x1=\"0\" x2=\"13\" y1=\"0\" y2=\"0\"></line><line class=\"seconds\" x1=\"0\" x2=\"16\" y1=\"0\" y2=\"0\"></line><circle class=\"pin\" cx=\"20\" cy=\"20\" r=\"0.7\"></circle></svg><style type=\"text/css\">\r\n",
       "html {\r\n",
       "  background: #dedede !important;\r\n",
       "}\r\n",
       "#clockExtensiond1e3505a4bef42c59b269d61f3bebb8a svg {\r\n",
       "  width: 400px;\r\n",
       "  fill: white;\r\n",
       "  stroke: black;\r\n",
       "  stroke-width: 1;\r\n",
       "  stroke-linecap: round;\r\n",
       "  transform: rotate(-90deg);\r\n",
       "  --start-seconds: 3;\r\n",
       "  --start-minutes: 2;\r\n",
       "  --start-hours: 1;\r\n",
       "}\r\n",
       "\r\n",
       "#clockExtensiond1e3505a4bef42c59b269d61f3bebb8a .marks {\r\n",
       "  transform: translate(20px, 20px);\r\n",
       "  stroke-width: 0.2;\r\n",
       "}\r\n",
       "#clockExtensiond1e3505a4bef42c59b269d61f3bebb8a .marks > line:nth-child(1) {\r\n",
       "  transform: rotate(30deg); \r\n",
       "}\r\n",
       "#clockExtensiond1e3505a4bef42c59b269d61f3bebb8a .marks > line:nth-child(2) {\r\n",
       "  transform: rotate(calc(2 * 30deg));\r\n",
       "}\r\n",
       "#clockExtensiond1e3505a4bef42c59b269d61f3bebb8a .marks > line:nth-child(3) {\r\n",
       "  transform: rotate(calc(3 * 30deg));\r\n",
       "  stroke-width: 0.5;\r\n",
       "}\r\n",
       "#clockExtensiond1e3505a4bef42c59b269d61f3bebb8a .marks > line:nth-child(4) {\r\n",
       "  transform: rotate(calc(4 * 30deg));\r\n",
       "}\r\n",
       "#clockExtensiond1e3505a4bef42c59b269d61f3bebb8a .marks > line:nth-child(5) {\r\n",
       "  transform: rotate(calc(5 * 30deg));\r\n",
       "}\r\n",
       "#clockExtensiond1e3505a4bef42c59b269d61f3bebb8a .marks > line:nth-child(6) {\r\n",
       "  transform: rotate(calc(6 * 30deg));\r\n",
       "  stroke-width: 0.5;\r\n",
       "}\r\n",
       "#clockExtensiond1e3505a4bef42c59b269d61f3bebb8a .marks > line:nth-child(7) {\r\n",
       "  transform: rotate(calc(7 * 30deg));\r\n",
       "}\r\n",
       "#clockExtensiond1e3505a4bef42c59b269d61f3bebb8a .marks > line:nth-child(8) {\r\n",
       "  transform: rotate(calc(8 * 30deg));\r\n",
       "}\r\n",
       "#clockExtensiond1e3505a4bef42c59b269d61f3bebb8a .marks > line:nth-child(9) {\r\n",
       "  transform: rotate(calc(9 * 30deg));\r\n",
       "  stroke-width: 0.5;\r\n",
       "}\r\n",
       "#clockExtensiond1e3505a4bef42c59b269d61f3bebb8a .marks > line:nth-child(10) {\r\n",
       "  transform: rotate(calc(10 * 30deg));\r\n",
       "}\r\n",
       "#clockExtensiond1e3505a4bef42c59b269d61f3bebb8a .marks > line:nth-child(11) {\r\n",
       "  transform: rotate(calc(11 * 30deg));\r\n",
       "}\r\n",
       "#clockExtensiond1e3505a4bef42c59b269d61f3bebb8a .marks > line:nth-child(12) {\r\n",
       "  transform: rotate(calc(12 * 30deg));\r\n",
       "  stroke-width: 0.5;\r\n",
       "}\r\n",
       "#clockExtensiond1e3505a4bef42c59b269d61f3bebb8a .seconds,\r\n",
       "#clockExtensiond1e3505a4bef42c59b269d61f3bebb8a .minute,\r\n",
       "#clockExtensiond1e3505a4bef42c59b269d61f3bebb8a .hour\r\n",
       "{\r\n",
       "  transform: translate(20px, 20px) rotate(0deg);\r\n",
       "}\r\n",
       "#clockExtensiond1e3505a4bef42c59b269d61f3bebb8a .seconds {\r\n",
       "  stroke-width: 0.3;\r\n",
       "  stroke: #d00505;\r\n",
       "  transform: translate(20px, 20px) rotate(calc(var(--start-seconds) * 6deg));\r\n",
       "\r\n",
       "}\r\n",
       "#clockExtensiond1e3505a4bef42c59b269d61f3bebb8a .minute {\r\n",
       "  stroke-width: 0.6;\r\n",
       "  transform: translate(20px, 20px) rotate(calc(var(--start-minutes) * 6deg));\r\n",
       "}\r\n",
       "#clockExtensiond1e3505a4bef42c59b269d61f3bebb8a .hour {\r\n",
       "  stroke: #512bd4;\r\n",
       "  stroke-width: 1;\r\n",
       "  transform: translate(20px, 20px) rotate(calc(var(--start-hours) * 30deg));\r\n",
       "}\r\n",
       "#clockExtensiond1e3505a4bef42c59b269d61f3bebb8a .pin {\r\n",
       "  stroke: #d00505;\r\n",
       "  stroke-width: 0.2;\r\n",
       "}\r\n",
       "#clockExtensiond1e3505a4bef42c59b269d61f3bebb8a .text {\r\n",
       "  font-size: 2px;\r\n",
       "  font-family: \"Segoe UI\",Helvetica,Arial,sans-serif;\r\n",
       "  transform: rotate(90deg) translate(13.5px, -12px);\r\n",
       "  fill: #512bd4;\r\n",
       "  stroke: none;\r\n",
       "}</style><script>\r\n",
       "let svg = document.querySelector(&#39;svg&#39;);\r\n",
       "</script></div>"
      ]
     },
     "metadata": {},
     "output_type": "display_data"
    }
   ],
   "source": [
    "#!clock --hour 1 -m 2 -s 3"
   ]
  },
  {
   "cell_type": "code",
   "execution_count": null,
   "metadata": {},
   "outputs": [],
   "source": [
    "#r nuget:trexlib"
   ]
  },
  {
   "cell_type": "code",
   "execution_count": null,
   "metadata": {},
   "outputs": [],
   "source": [
    "#!t-rex -h"
   ]
  },
  {
   "cell_type": "code",
   "execution_count": null,
   "metadata": {},
   "outputs": [],
   "source": [
    "#!t-rex run c:\\dev\\t-rex"
   ]
  }
 ],
 "metadata": {
  "kernelspec": {
   "display_name": ".NET (C#)",
   "language": "C#",
   "name": ".net-csharp"
  },
  "language_info": {
   "file_extension": ".cs",
   "mimetype": "text/x-csharp",
   "name": "C#",
   "pygments_lexer": "csharp",
   "version": "8.0"
  }
 },
 "nbformat": 4,
 "nbformat_minor": 2
}
